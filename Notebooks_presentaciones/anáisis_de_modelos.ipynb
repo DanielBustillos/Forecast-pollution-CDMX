{
 "cells": [
  {
   "cell_type": "markdown",
   "metadata": {},
   "source": [
    "# Análisis de Modelos de Pronóstico de Contaminantes"
   ]
  },
  {
   "cell_type": "markdown",
   "metadata": {},
   "source": [
    "\n",
    "### Métricas de Valoración\n",
    "Para medir el desempeño de un modelo de pronóstico es importante contar con una o varias métrica de desempeño.\n",
    "\n",
    "Medir el desempeño del pronóstico es importante para saber que los métodos y características con los que trabaja el pronóstico son los adecuados. Calcular el desempeño de los modelos nos ayudará en la búsqueda de partes del pronóstico que no trabajen de manera óptima y con esto tomar decisiones para mejorar el desempeño del mismo.\n",
    "\n",
    "Las principales métricas usadas para medir el desempeño del modelo son el **RMSE** que nos indica qué tanto se aleja la predicción del valor real, la **R2** que determina la calidad del modelo para replicar los resultados y la proporción de variación de los resultados que puede explicarse por el modelo y la **precisión** que nos indica cuántos falsos positivos genera el modelo es decir, cuántas contingencias son pronosticadas incorrectamente por cada contingencia pronosticada correctamente.\n",
    "\n",
    "\n",
    "__Pasos y descripción general del notebook__\n",
    "\n",
    "\n",
    "- __Datos recibidos:__ Limpieza de datos inicial\n",
    "- __Responsable:__ Daniel Bustillos\n",
    "- __Contacto:__  juandaniel.bucam@gmail.com\n"
   ]
  },
  {
   "cell_type": "markdown",
   "metadata": {},
   "source": [
    "---"
   ]
  },
  {
   "cell_type": "code",
   "execution_count": 1,
   "metadata": {},
   "outputs": [],
   "source": [
    "import pandas as pd\n",
    "import seaborn as sn\n",
    "import matplotlib as mpb\n",
    "from sklearn.externals import joblib\n",
    "from sklearn.model_selection import train_test_split\n",
    "from matplotlib import pyplot as plt\n",
    "\n",
    "\n",
    "import numpy as np\n",
    "from sklearn.metrics import mean_squared_error\n",
    "%matplotlib inline"
   ]
  },
  {
   "cell_type": "markdown",
   "metadata": {},
   "source": [
    "Funciones para obtener el pronóstico y para verificar si las contingenicias son pronosticadas correctamente"
   ]
  },
  {
   "cell_type": "code",
   "execution_count": 2,
   "metadata": {},
   "outputs": [],
   "source": [
    "def predictor_meanO3(model0_1,modelo_2,X_set):\n",
    "    #aplicamos los predict\n",
    "    forecast_q = model0_1.predict(X_set) \n",
    "    forecast = modelo_2.predict(X_set)\n",
    "   #generamos una lista dummy: \n",
    "    forecast_mean = forecast \n",
    "    \n",
    "    for i in range(len(X_set)):\n",
    "        if  forecast[i] < 135:\n",
    "            forecast_mean[i] = forecast[i]\n",
    "        elif  forecast_q[i] > 160:\n",
    "            forecast_mean[i] = forecast_q[i]\n",
    "        if  130 < forecast_q[i] <155 and 130 < forecast[i] < 155:\n",
    "            forecast_mean[i] = (0.3*forecast_q[i] + 0.7*forecast[i])\n",
    "        if  140 < forecast_q[i] <160 and 140 < forecast[i] < 160:\n",
    "            forecast_mean[i] = (forecast_q[i] + forecast[i])/2\n",
    "    return forecast_mean"
   ]
  },
  {
   "cell_type": "code",
   "execution_count": 3,
   "metadata": {},
   "outputs": [],
   "source": [
    "def predictor_mean(model0_1,modelo_2,X_set):  \n",
    "    #aplicamos los predict\n",
    "    forecast_q = model0_1.predict(X_set) \n",
    "    forecast = modelo_2.predict(X_set)\n",
    "   #generamos una lista dummy: \n",
    "    forecast_mean = forecast \n",
    "    \n",
    "    for i in range(len(X_set)):\n",
    "        \n",
    "        if  forecast[i] < 140:\n",
    "            forecast_mean[i] = forecast[i]\n",
    "            \n",
    "        elif  forecast_q[i] > 160:\n",
    "            forecast_mean[i] = forecast_q[i]\n",
    "            \n",
    "        if  150 < forecast_q[i] < 160 and 130 < forecast[i] < 160:\n",
    "            forecast_mean[i] = (0.1*forecast_q[i] + 0.9*forecast[i])\n",
    "            \n",
    "        if  150 < forecast_q[i] < 160 and 130 < forecast[i] < 160:\n",
    "            forecast_mean[i] = forecast[i] \n",
    "            \n",
    "        if  150 < forecast_q[i] < 160 and 140 < forecast[i] < 160:\n",
    "            forecast_mean[i] = ((forecast_q[i] + forecast[i])/2)\n",
    "            \n",
    "    return forecast_mean"
   ]
  },
  {
   "cell_type": "code",
   "execution_count": 4,
   "metadata": {},
   "outputs": [],
   "source": [
    "def predictor_mean(model0_1,modelo_2,X_set):  \n",
    "    #aplicamos los predict\n",
    "    forecast_q = model0_1.predict(X_set) \n",
    "    forecast = modelo_2.predict(X_set)\n",
    "   #generamos una lista dummy: \n",
    "    forecast_mean = forecast \n",
    "    \n",
    "    for i in range(len(X_set)):\n",
    "        if  forecast[i] < 140:\n",
    "            forecast_mean[i] = forecast[i]\n",
    "        elif  forecast_q[i] > 160:\n",
    "            forecast_mean[i] = forecast_q[i]\n",
    "            \n",
    "        if  150 < forecast_q[i] < 155 and 130 < forecast[i] < 160:\n",
    "            forecast_mean[i] = (0.2*forecast_q[i] + 0.6*forecast[i])\n",
    "            \n",
    "        if  150 < forecast_q[i] < 160 and 140 < forecast[i] < 160:\n",
    "            forecast_mean[i] = (forecast_q[i] + forecast[i])/2\n",
    "            \n",
    "    return forecast_mean"
   ]
  },
  {
   "cell_type": "markdown",
   "metadata": {},
   "source": [
    "Grafica Pronosticado-GroundTrue"
   ]
  },
  {
   "cell_type": "code",
   "execution_count": 5,
   "metadata": {},
   "outputs": [],
   "source": [
    "def ploter(y_test_0,X_test_0,pronosticados_0,model):\n",
    "    \n",
    "    plt.scatter(y_test_0, pronosticados_0,alpha=0.5,color=\"royalblue\")\n",
    "    score = round(model.score(X_test_0, y_test_0),3)\n",
    "    rmse = round(np.sqrt(mean_squared_error(y_test_0, pronosticados_0)),3)\n",
    "    plt.plot([30,130],[30,130],color=\"k\",linestyle='--')\n",
    "    \n",
    "    plt.axhline(y=150, color='k', linestyle='--')\n",
    "    plt.axvline(x=150, color='k', linestyle='--')\n",
    "    plt.annotate('TP', (170,150), xytext = (175, 155 + 1), \n",
    "                  horizontalalignment='right')\n",
    "    plt.annotate('FN', (170,150), xytext = (175, 135 + 1), \n",
    "                  horizontalalignment='right')\n",
    "    plt.annotate('FP', (170,150), xytext = (125, 155 + 1), \n",
    "                  horizontalalignment='right')\n",
    "    plt.annotate('FP', (170,150), xytext = (125, 135 + 1), \n",
    "                  horizontalalignment='right')\n",
    "    plt.annotate(\"Score =\"+str(score), (15,139), xytext = (15, 139 + 1), \n",
    "                  horizontalalignment='left')\n",
    "    plt.annotate(\"RMSE =\"+str(rmse), (15,119), xytext = (15, 119 + 1), \n",
    "                  horizontalalignment='left')\n",
    "    \n",
    "    \n",
    "    plt.xlabel('Measured')\n",
    "    plt.ylabel('Predicted')\n",
    "    plt.title('XGBoost Predicted vs Actual')\n",
    "    plt.show()"
   ]
  },
  {
   "cell_type": "markdown",
   "metadata": {},
   "source": [
    "## Importamos los modelos:"
   ]
  },
  {
   "cell_type": "code",
   "execution_count": 6,
   "metadata": {},
   "outputs": [
    {
     "name": "stdout",
     "output_type": "stream",
     "text": [
      "[23:39:17] WARNING: /workspace/src/objective/regression_obj.cu:152: reg:linear is now deprecated in favor of reg:squarederror.\n",
      "[23:39:17] WARNING: /workspace/src/objective/regression_obj.cu:152: reg:linear is now deprecated in favor of reg:squarederror.\n",
      "[23:39:17] WARNING: /workspace/src/objective/regression_obj.cu:152: reg:linear is now deprecated in favor of reg:squarederror.\n",
      "[23:39:17] WARNING: /workspace/src/objective/regression_obj.cu:152: reg:linear is now deprecated in favor of reg:squarederror.\n",
      "[23:39:17] WARNING: /workspace/src/objective/regression_obj.cu:152: reg:linear is now deprecated in favor of reg:squarederror.\n",
      "[23:39:17] WARNING: /workspace/src/objective/regression_obj.cu:152: reg:linear is now deprecated in favor of reg:squarederror.\n",
      "[23:39:17] WARNING: /workspace/src/objective/regression_obj.cu:152: reg:linear is now deprecated in favor of reg:squarederror.\n",
      "[23:39:17] WARNING: /workspace/src/objective/regression_obj.cu:152: reg:linear is now deprecated in favor of reg:squarederror.\n",
      "[23:39:17] WARNING: /workspace/src/objective/regression_obj.cu:152: reg:linear is now deprecated in favor of reg:squarederror.\n",
      "[23:39:18] WARNING: /workspace/src/objective/regression_obj.cu:152: reg:linear is now deprecated in favor of reg:squarederror.\n",
      "[23:39:18] WARNING: /workspace/src/objective/regression_obj.cu:152: reg:linear is now deprecated in favor of reg:squarederror.\n",
      "[23:39:18] WARNING: /workspace/src/objective/regression_obj.cu:152: reg:linear is now deprecated in favor of reg:squarederror.\n",
      "[23:39:18] WARNING: /workspace/src/objective/regression_obj.cu:152: reg:linear is now deprecated in favor of reg:squarederror.\n",
      "[23:39:18] WARNING: /workspace/src/objective/regression_obj.cu:152: reg:linear is now deprecated in favor of reg:squarederror.\n",
      "[23:39:18] WARNING: /workspace/src/objective/regression_obj.cu:152: reg:linear is now deprecated in favor of reg:squarederror.\n",
      "[23:39:18] WARNING: /workspace/src/objective/regression_obj.cu:152: reg:linear is now deprecated in favor of reg:squarederror.\n",
      "[23:39:18] WARNING: /workspace/src/objective/regression_obj.cu:152: reg:linear is now deprecated in favor of reg:squarederror.\n",
      "[23:39:18] WARNING: /workspace/src/objective/regression_obj.cu:152: reg:linear is now deprecated in favor of reg:squarederror.\n",
      "[23:39:18] WARNING: /workspace/src/objective/regression_obj.cu:152: reg:linear is now deprecated in favor of reg:squarederror.\n",
      "[23:39:18] WARNING: /workspace/src/objective/regression_obj.cu:152: reg:linear is now deprecated in favor of reg:squarederror.\n",
      "[23:39:18] WARNING: /workspace/src/objective/regression_obj.cu:152: reg:linear is now deprecated in favor of reg:squarederror.\n",
      "[23:39:18] WARNING: /workspace/src/objective/regression_obj.cu:152: reg:linear is now deprecated in favor of reg:squarederror.\n",
      "[23:39:18] WARNING: /workspace/src/objective/regression_obj.cu:152: reg:linear is now deprecated in favor of reg:squarederror.\n",
      "[23:39:18] WARNING: /workspace/src/objective/regression_obj.cu:152: reg:linear is now deprecated in favor of reg:squarederror.\n"
     ]
    }
   ],
   "source": [
    "model_PM10 = [0 for col in range(25)]\n",
    "modelq_PM10 = [0 for col in range(25)]\n",
    "path = \"/DATA/paw/jupyterhub_notebook/daniel.bustillos/DanielBustillos/contaminación/pipeline-norberto/entrenamiento_sin_persistencia/modelos/PM10\"\n",
    "for i in range(0,24):\n",
    "    model_PM10[i] = joblib.load(str(path + \"/PM10_\" + str(i+1) + 'hora.pkl'))\n",
    "    # modelq_PM10[i] = joblib.load(str('/home/paw/DanielBustillos/contaminación/pipeline-norberto/modelos/PM10/PM10_'+str(i+1)+'hora_quantile.pkl'))"
   ]
  },
  {
   "cell_type": "code",
   "execution_count": 7,
   "metadata": {
    "scrolled": true
   },
   "outputs": [
    {
     "name": "stdout",
     "output_type": "stream",
     "text": [
      "[23:39:18] WARNING: /workspace/src/objective/regression_obj.cu:152: reg:linear is now deprecated in favor of reg:squarederror.\n",
      "[23:39:18] WARNING: /workspace/src/objective/regression_obj.cu:152: reg:linear is now deprecated in favor of reg:squarederror.\n",
      "[23:39:18] WARNING: /workspace/src/objective/regression_obj.cu:152: reg:linear is now deprecated in favor of reg:squarederror.\n",
      "[23:39:18] WARNING: /workspace/src/objective/regression_obj.cu:152: reg:linear is now deprecated in favor of reg:squarederror.\n",
      "[23:39:19] WARNING: /workspace/src/objective/regression_obj.cu:152: reg:linear is now deprecated in favor of reg:squarederror.\n",
      "[23:39:19] WARNING: /workspace/src/objective/regression_obj.cu:152: reg:linear is now deprecated in favor of reg:squarederror.\n",
      "[23:39:19] WARNING: /workspace/src/objective/regression_obj.cu:152: reg:linear is now deprecated in favor of reg:squarederror.\n",
      "[23:39:19] WARNING: /workspace/src/objective/regression_obj.cu:152: reg:linear is now deprecated in favor of reg:squarederror.\n",
      "[23:39:19] WARNING: /workspace/src/objective/regression_obj.cu:152: reg:linear is now deprecated in favor of reg:squarederror.\n",
      "[23:39:19] WARNING: /workspace/src/objective/regression_obj.cu:152: reg:linear is now deprecated in favor of reg:squarederror.\n",
      "[23:39:19] WARNING: /workspace/src/objective/regression_obj.cu:152: reg:linear is now deprecated in favor of reg:squarederror.\n",
      "[23:39:19] WARNING: /workspace/src/objective/regression_obj.cu:152: reg:linear is now deprecated in favor of reg:squarederror.\n",
      "[23:39:19] WARNING: /workspace/src/objective/regression_obj.cu:152: reg:linear is now deprecated in favor of reg:squarederror.\n",
      "[23:39:20] WARNING: /workspace/src/objective/regression_obj.cu:152: reg:linear is now deprecated in favor of reg:squarederror.\n",
      "[23:39:20] WARNING: /workspace/src/objective/regression_obj.cu:152: reg:linear is now deprecated in favor of reg:squarederror.\n",
      "[23:39:20] WARNING: /workspace/src/objective/regression_obj.cu:152: reg:linear is now deprecated in favor of reg:squarederror.\n",
      "[23:39:20] WARNING: /workspace/src/objective/regression_obj.cu:152: reg:linear is now deprecated in favor of reg:squarederror.\n",
      "[23:39:20] WARNING: /workspace/src/objective/regression_obj.cu:152: reg:linear is now deprecated in favor of reg:squarederror.\n",
      "[23:39:20] WARNING: /workspace/src/objective/regression_obj.cu:152: reg:linear is now deprecated in favor of reg:squarederror.\n",
      "[23:39:20] WARNING: /workspace/src/objective/regression_obj.cu:152: reg:linear is now deprecated in favor of reg:squarederror.\n",
      "[23:39:20] WARNING: /workspace/src/objective/regression_obj.cu:152: reg:linear is now deprecated in favor of reg:squarederror.\n",
      "[23:39:20] WARNING: /workspace/src/objective/regression_obj.cu:152: reg:linear is now deprecated in favor of reg:squarederror.\n",
      "[23:39:21] WARNING: /workspace/src/objective/regression_obj.cu:152: reg:linear is now deprecated in favor of reg:squarederror.\n",
      "[23:39:21] WARNING: /workspace/src/objective/regression_obj.cu:152: reg:linear is now deprecated in favor of reg:squarederror.\n"
     ]
    }
   ],
   "source": [
    "model_O3 = [0 for col in range(25)]\n",
    "modelq_O3 = [0 for col in range(25)]\n",
    "path = \"/DATA/paw/jupyterhub_notebook/daniel.bustillos/DanielBustillos/contaminación/pipeline-norberto/entrenamiento_sin_persistencia/modelos/O3\"\n",
    "\n",
    "for i in range(0,24):\n",
    "    model_O3[i] = joblib.load(str(path + \"/O3_\" + str(i+1) + 'hora.pkl'))\n",
    "    # modelq_O3[i] = joblib.load(str('/home/paw/DanielBustillos/contaminación/pipeline-norberto/modelos/O3/O3_'+str(i+1)+'hora_quantile.pkl'))"
   ]
  },
  {
   "cell_type": "markdown",
   "metadata": {},
   "source": [
    "## Leemos los datos procesdos:"
   ]
  },
  {
   "cell_type": "code",
   "execution_count": 8,
   "metadata": {},
   "outputs": [],
   "source": [
    "data_hour_merge = pd.read_csv(\"/DATA/paw/jupyterhub_notebook/daniel.bustillos/DanielBustillos/contaminación/pipeline-norberto/datos/datos_modelos_PM10mean.csv\")\n",
    "data_hour_merge.drop(\"fecha\",axis=1,inplace=True)"
   ]
  },
  {
   "cell_type": "code",
   "execution_count": 9,
   "metadata": {},
   "outputs": [
    {
     "data": {
      "text/html": [
       "<div>\n",
       "<style scoped>\n",
       "    .dataframe tbody tr th:only-of-type {\n",
       "        vertical-align: middle;\n",
       "    }\n",
       "\n",
       "    .dataframe tbody tr th {\n",
       "        vertical-align: top;\n",
       "    }\n",
       "\n",
       "    .dataframe thead th {\n",
       "        text-align: right;\n",
       "    }\n",
       "</style>\n",
       "<table border=\"1\" class=\"dataframe\">\n",
       "  <thead>\n",
       "    <tr style=\"text-align: right;\">\n",
       "      <th></th>\n",
       "      <th>PM10mean_0.0_mean</th>\n",
       "      <th>PM10mean_20.0_mean</th>\n",
       "      <th>PM10_8.0_mean</th>\n",
       "      <th>PM10mean_3.0_max</th>\n",
       "      <th>PM10mean_25.0_max</th>\n",
       "      <th>O3_max</th>\n",
       "      <th>PM10mean_18.0_mean</th>\n",
       "      <th>PM25mean_2.0_max</th>\n",
       "      <th>PM10mean_9.0_max</th>\n",
       "      <th>PM10_1.0_mean</th>\n",
       "      <th>...</th>\n",
       "      <th>PM10mean_max_frcst_14</th>\n",
       "      <th>PM10mean_max_frcst_15</th>\n",
       "      <th>PM10mean_max_frcst_16</th>\n",
       "      <th>PM10mean_max_frcst_17</th>\n",
       "      <th>PM10mean_max_frcst_18</th>\n",
       "      <th>PM10mean_max_frcst_19</th>\n",
       "      <th>PM10mean_max_frcst_20</th>\n",
       "      <th>PM10mean_max_frcst_21</th>\n",
       "      <th>PM10mean_max_frcst_22</th>\n",
       "      <th>PM10mean_max_frcst_23</th>\n",
       "    </tr>\n",
       "  </thead>\n",
       "  <tbody>\n",
       "    <tr>\n",
       "      <th>0</th>\n",
       "      <td>21.750000</td>\n",
       "      <td>21.266667</td>\n",
       "      <td>17.8</td>\n",
       "      <td>30.583333</td>\n",
       "      <td>26.791667</td>\n",
       "      <td>28.0</td>\n",
       "      <td>20.616667</td>\n",
       "      <td>19.166667</td>\n",
       "      <td>28.541667</td>\n",
       "      <td>33.6</td>\n",
       "      <td>...</td>\n",
       "      <td>43.125000</td>\n",
       "      <td>50.500</td>\n",
       "      <td>50.708333</td>\n",
       "      <td>51.250000</td>\n",
       "      <td>52.375</td>\n",
       "      <td>52.666667</td>\n",
       "      <td>53.375000</td>\n",
       "      <td>54.250</td>\n",
       "      <td>54.75</td>\n",
       "      <td>55.125</td>\n",
       "    </tr>\n",
       "    <tr>\n",
       "      <th>1</th>\n",
       "      <td>21.216667</td>\n",
       "      <td>21.350000</td>\n",
       "      <td>17.6</td>\n",
       "      <td>29.583333</td>\n",
       "      <td>25.750000</td>\n",
       "      <td>21.0</td>\n",
       "      <td>20.991667</td>\n",
       "      <td>18.125000</td>\n",
       "      <td>28.375000</td>\n",
       "      <td>33.6</td>\n",
       "      <td>...</td>\n",
       "      <td>41.708333</td>\n",
       "      <td>43.125</td>\n",
       "      <td>50.500000</td>\n",
       "      <td>50.708333</td>\n",
       "      <td>51.250</td>\n",
       "      <td>52.375000</td>\n",
       "      <td>52.666667</td>\n",
       "      <td>53.375</td>\n",
       "      <td>54.25</td>\n",
       "      <td>54.750</td>\n",
       "    </tr>\n",
       "  </tbody>\n",
       "</table>\n",
       "<p>2 rows × 135 columns</p>\n",
       "</div>"
      ],
      "text/plain": [
       "   PM10mean_0.0_mean  PM10mean_20.0_mean  PM10_8.0_mean  PM10mean_3.0_max  \\\n",
       "0          21.750000           21.266667           17.8         30.583333   \n",
       "1          21.216667           21.350000           17.6         29.583333   \n",
       "\n",
       "   PM10mean_25.0_max  O3_max  PM10mean_18.0_mean  PM25mean_2.0_max  \\\n",
       "0          26.791667    28.0           20.616667         19.166667   \n",
       "1          25.750000    21.0           20.991667         18.125000   \n",
       "\n",
       "   PM10mean_9.0_max  PM10_1.0_mean  ...  PM10mean_max_frcst_14  \\\n",
       "0         28.541667           33.6  ...              43.125000   \n",
       "1         28.375000           33.6  ...              41.708333   \n",
       "\n",
       "   PM10mean_max_frcst_15  PM10mean_max_frcst_16  PM10mean_max_frcst_17  \\\n",
       "0                 50.500              50.708333              51.250000   \n",
       "1                 43.125              50.500000              50.708333   \n",
       "\n",
       "   PM10mean_max_frcst_18  PM10mean_max_frcst_19  PM10mean_max_frcst_20  \\\n",
       "0                 52.375              52.666667              53.375000   \n",
       "1                 51.250              52.375000              52.666667   \n",
       "\n",
       "   PM10mean_max_frcst_21  PM10mean_max_frcst_22  PM10mean_max_frcst_23  \n",
       "0                 54.250                  54.75                 55.125  \n",
       "1                 53.375                  54.25                 54.750  \n",
       "\n",
       "[2 rows x 135 columns]"
      ]
     },
     "execution_count": 9,
     "metadata": {},
     "output_type": "execute_result"
    }
   ],
   "source": [
    "data_hour_merge.head(2)"
   ]
  },
  {
   "cell_type": "markdown",
   "metadata": {},
   "source": [
    "## PM10"
   ]
  },
  {
   "cell_type": "code",
   "execution_count": 10,
   "metadata": {},
   "outputs": [],
   "source": [
    "target = \"PM10mean_max_frcst_\"\n",
    "conta = 'PM10mean'"
   ]
  },
  {
   "cell_type": "code",
   "execution_count": 11,
   "metadata": {},
   "outputs": [],
   "source": [
    "lista = []\n",
    "for i in range(1,25):\n",
    "    lista.append(str(target+str(i)))"
   ]
  },
  {
   "cell_type": "code",
   "execution_count": 12,
   "metadata": {},
   "outputs": [
    {
     "name": "stderr",
     "output_type": "stream",
     "text": [
      "/home/paw/software/python/anaconda3/lib/python3.7/site-packages/pandas/core/frame.py:3940: SettingWithCopyWarning: \n",
      "A value is trying to be set on a copy of a slice from a DataFrame\n",
      "\n",
      "See the caveats in the documentation: http://pandas.pydata.org/pandas-docs/stable/indexing.html#indexing-view-versus-copy\n",
      "  errors=errors)\n"
     ]
    }
   ],
   "source": [
    "Xd = {}\n",
    "yd = {}\n",
    "\n",
    "y_traind = {}\n",
    "y_testd = {}\n",
    "X_traind = {}\n",
    "X_testd = {}\n",
    "\n",
    "for hora in range(1,25):\n",
    "    dataset = data_hour_merge.copy()\n",
    "    dataset.dropna(inplace=True)\n",
    "    \n",
    "    Xd[hora] = dataset.loc[:, dataset.columns != str(target+str(hora))]\n",
    "    yd[hora] = dataset[str(target+str(hora))]\n",
    "    \n",
    "    Xd[hora].drop(lista[hora:],axis=1,inplace=True)\n",
    "    if hora != 1:\n",
    "        Xd[hora].drop(lista[:hora-1],axis=1,inplace=True)\n",
    "    X_traind[hora], X_testd[hora], y_traind[hora], y_testd[hora] = train_test_split(Xd[hora], yd[hora], test_size=0.3, random_state=123)"
   ]
  },
  {
   "cell_type": "code",
   "execution_count": 13,
   "metadata": {},
   "outputs": [],
   "source": [
    "#hora = 1\n",
    "dataset = data_hour_merge.copy()\n",
    "dataset.dropna(inplace=True)\n",
    "    \n",
    "X = dataset.loc[:, dataset.columns != str(target+str(hora))]\n",
    "y = dataset[str(target+str(hora))]\n",
    "    \n",
    "X.drop(lista[hora:],axis=1,inplace=True)\n",
    "if hora != 1:\n",
    "    X.drop(lista[:hora-1],axis=1,inplace=True)\n",
    "X_train, X_test, y_train, y_test = train_test_split(X, y, test_size=0.3, random_state=123)"
   ]
  },
  {
   "cell_type": "code",
   "execution_count": 14,
   "metadata": {},
   "outputs": [
    {
     "name": "stdout",
     "output_type": "stream",
     "text": [
      "0   PM10mean_max_frcst_1\n",
      "1   PM10mean_max_frcst_2\n",
      "2   PM10mean_max_frcst_3\n",
      "3   PM10mean_max_frcst_4\n",
      "4   PM10mean_max_frcst_5\n",
      "5   PM10mean_max_frcst_6\n",
      "6   PM10mean_max_frcst_7\n",
      "7   PM10mean_max_frcst_8\n",
      "8   PM10mean_max_frcst_9\n",
      "9   PM10mean_max_frcst_10\n",
      "10   PM10mean_max_frcst_11\n",
      "11   PM10mean_max_frcst_12\n",
      "12   PM10mean_max_frcst_13\n",
      "13   PM10mean_max_frcst_14\n",
      "14   PM10mean_max_frcst_15\n",
      "15   PM10mean_max_frcst_16\n",
      "16   PM10mean_max_frcst_17\n",
      "17   PM10mean_max_frcst_18\n",
      "18   PM10mean_max_frcst_19\n",
      "19   PM10mean_max_frcst_20\n",
      "20   PM10mean_max_frcst_21\n",
      "21   PM10mean_max_frcst_22\n",
      "22   PM10mean_max_frcst_23\n",
      "23   PM10mean_max_frcst_24\n"
     ]
    }
   ],
   "source": [
    "pm10_pronos = pd.DataFrame(columns = lista)\n",
    "PM10_score = pd.DataFrame(columns = lista)\n",
    "rmse_PM10 = []\n",
    "scores_pm10 = []\n",
    "\n",
    "for i in range(0,24):\n",
    "    \n",
    "    print(i,\"  \" + target + str(i+1))\n",
    "    \n",
    "    scores_pm10.append( model_PM10[i].score(X, yd[i+1]) )\n",
    "    \n",
    "    # . predict_pm10 = predictor_mean(modelq_PM10[i],model_PM10[i],X)\n",
    "    predict_pm10 = model_PM10[i].predict(X)\n",
    "\n",
    "    \n",
    "    # X[target + str(i+1)] = predict_pm10\n",
    "\n",
    "    pm10_pronos[target + str(i+1)] = predict_pm10\n",
    "    \n",
    "    rmse_PM10.append(mean_squared_error( yd[i+1] , predict_pm10 ))\n",
    "    "
   ]
  },
  {
   "cell_type": "markdown",
   "metadata": {},
   "source": [
    "## O3"
   ]
  },
  {
   "cell_type": "code",
   "execution_count": 15,
   "metadata": {},
   "outputs": [],
   "source": [
    "data_hour_merge_O3 = pd.read_csv(\"/DATA/paw/jupyterhub_notebook/daniel.bustillos/DanielBustillos/contaminación/pipeline-norberto/datos/datos_modelos_O3.csv\")\n",
    "data_hour_merge_O3.drop(\"fecha\",axis=1,inplace=True)"
   ]
  },
  {
   "cell_type": "code",
   "execution_count": 16,
   "metadata": {},
   "outputs": [],
   "source": [
    "targetO3 = \"O3_max_frcst_\"\n",
    "contaO3 = 'O3'"
   ]
  },
  {
   "cell_type": "code",
   "execution_count": 17,
   "metadata": {},
   "outputs": [],
   "source": [
    "listaO3 = []\n",
    "for i in range(1,25):\n",
    "    listaO3.append(str(targetO3+str(i)))"
   ]
  },
  {
   "cell_type": "code",
   "execution_count": 18,
   "metadata": {},
   "outputs": [
    {
     "name": "stderr",
     "output_type": "stream",
     "text": [
      "/home/paw/software/python/anaconda3/lib/python3.7/site-packages/pandas/core/frame.py:3940: SettingWithCopyWarning: \n",
      "A value is trying to be set on a copy of a slice from a DataFrame\n",
      "\n",
      "See the caveats in the documentation: http://pandas.pydata.org/pandas-docs/stable/indexing.html#indexing-view-versus-copy\n",
      "  errors=errors)\n"
     ]
    }
   ],
   "source": [
    "XO3d = {}\n",
    "yO3d = {}\n",
    "\n",
    "y_trainO3d = {}\n",
    "y_testO3d = {}\n",
    "X_trainO3d = {}\n",
    "X_testO3d = {}\n",
    "\n",
    "for hora in range(1,25):\n",
    "    datasetO3d = data_hour_merge_O3.copy()\n",
    "    datasetO3d.dropna(inplace=True)\n",
    "    \n",
    "    XO3d[hora] = datasetO3d.loc[:, datasetO3d.columns != str(targetO3+str(hora))]\n",
    "    yO3d[hora] = datasetO3d[str(targetO3+str(hora))]\n",
    "    \n",
    "    XO3d[hora].drop(listaO3[hora:],axis=1,inplace=True)\n",
    "    if hora != 1:\n",
    "        XO3d[hora].drop(listaO3[:hora-1],axis=1,inplace=True)\n",
    "    X_trainO3d[hora], X_testO3d[hora], y_trainO3d[hora], y_testO3d[hora] = train_test_split(XO3d[hora], yO3d[hora], test_size=0.3, random_state=123)"
   ]
  },
  {
   "cell_type": "code",
   "execution_count": 19,
   "metadata": {},
   "outputs": [],
   "source": [
    "datasetO3 = data_hour_merge_O3.copy()\n",
    "datasetO3.dropna(inplace=True)\n",
    "    \n",
    "XO3 = datasetO3.loc[:, datasetO3.columns != str(targetO3 + str(hora))]\n",
    "yO3 = datasetO3[str(targetO3 + str(hora))]\n",
    "    \n",
    "XO3.drop(listaO3[hora:],axis=1,inplace=True)\n",
    "if hora != 1:\n",
    "    XO3.drop(listaO3[:hora-1],axis=1,inplace=True)\n",
    "# . X_trainO3, X_testO3, y_trainO3, y_testO3 = train_test_split(XO3, yO3, test_size=0.3, random_state=123)"
   ]
  },
  {
   "cell_type": "markdown",
   "metadata": {},
   "source": [
    "## Predict"
   ]
  },
  {
   "cell_type": "code",
   "execution_count": 20,
   "metadata": {},
   "outputs": [
    {
     "name": "stdout",
     "output_type": "stream",
     "text": [
      "0   O3_max_frcst_1\n",
      "1   O3_max_frcst_2\n",
      "2   O3_max_frcst_3\n",
      "3   O3_max_frcst_4\n",
      "4   O3_max_frcst_5\n",
      "5   O3_max_frcst_6\n",
      "6   O3_max_frcst_7\n",
      "7   O3_max_frcst_8\n",
      "8   O3_max_frcst_9\n",
      "9   O3_max_frcst_10\n",
      "10   O3_max_frcst_11\n",
      "11   O3_max_frcst_12\n",
      "12   O3_max_frcst_13\n",
      "13   O3_max_frcst_14\n",
      "14   O3_max_frcst_15\n",
      "15   O3_max_frcst_16\n",
      "16   O3_max_frcst_17\n",
      "17   O3_max_frcst_18\n",
      "18   O3_max_frcst_19\n",
      "19   O3_max_frcst_20\n",
      "20   O3_max_frcst_21\n",
      "21   O3_max_frcst_22\n",
      "22   O3_max_frcst_23\n",
      "23   O3_max_frcst_24\n"
     ]
    }
   ],
   "source": [
    "O3_pronos = pd.DataFrame(columns = listaO3)\n",
    "scores_O3 = []\n",
    "rmse_O3 = []\n",
    "\n",
    "for i in range(0,24):\n",
    "    \n",
    "    print(i,\"  \" + targetO3 + str(i+1))\n",
    "    \n",
    "    scores_O3.append(model_O3[i].score(XO3, yO3d[i+1]))\n",
    "    \n",
    "    predict_O3 = model_O3[i].predict(XO3)\n",
    "    \n",
    "    #XO3[targetO3 + str(i+1)] = predict_O3\n",
    "    \n",
    "    O3_pronos[targetO3 + str(i+1)] = predict_O3\n",
    "    \n",
    "    rmse_O3.append(mean_squared_error( yO3d[i+1] , predict_O3 ))"
   ]
  },
  {
   "cell_type": "markdown",
   "metadata": {},
   "source": [
    "## Graficamos"
   ]
  },
  {
   "cell_type": "code",
   "execution_count": 21,
   "metadata": {},
   "outputs": [],
   "source": [
    "horas = [i for i in range(1,25)]"
   ]
  },
  {
   "cell_type": "code",
   "execution_count": 22,
   "metadata": {},
   "outputs": [
    {
     "data": {
      "image/png": "[encoded data removed]",
      "text/plain": [
       "<Figure size 432x288 with 1 Axes>"
      ]
     },
     "metadata": {
      "needs_background": "light"
     },
     "output_type": "display_data"
    }
   ],
   "source": [
    "fig = plt.figure()\n",
    "ax = fig.gca()\n",
    "\n",
    "plt.plot(horas,scores_pm10,label = \"PM10\")\n",
    "plt.plot(horas,scores_O3,label = \"O3\")\n",
    "plt.xlabel(\"Horas de Pronóstico\")\n",
    "plt.ylabel(\"Score\")\n",
    "plt.title(\"Score por Hora\")\n",
    "plt.legend()\n",
    "plt.xlim([0, 25])\n",
    "plt.ylim([0.85, 1])\n",
    "plt.xticks([i for i in range(1,25)])\n",
    "\n",
    "# And a corresponding grid\n",
    "ax.grid(which='both')\n",
    "\n",
    "# Or if you want different settings for the grids:\n",
    "ax.grid(which='minor', alpha=0.2)\n",
    "ax.grid(which='major', alpha=0.1)\n",
    "plt.savefig('/home/paw/DanielBustillos/contaminación/imagenes/scores.png', bbox_inches='tight',\n",
    "            dpi=900)\n",
    "\n",
    "plt.show()"
   ]
  },
  {
   "cell_type": "markdown",
   "metadata": {},
   "source": [
    "## Error cuadrado"
   ]
  },
  {
   "cell_type": "code",
   "execution_count": 23,
   "metadata": {},
   "outputs": [],
   "source": [
    "data_rsme = pd.read_csv(\"./score_RMSE_modelos.csv\")"
   ]
  },
  {
   "cell_type": "code",
   "execution_count": 24,
   "metadata": {},
   "outputs": [
    {
     "data": {
      "image/png": "[encoded data removed]",
      "text/plain": [
       "<Figure size 432x288 with 1 Axes>"
      ]
     },
     "metadata": {
      "needs_background": "light"
     },
     "output_type": "display_data"
    }
   ],
   "source": [
    "fig = plt.figure()\n",
    "ax = fig.gca()\n",
    "\n",
    "data_rsme.plot(x=\"hora\", y=[\"PM10\", \"O3\"],ax=ax)\n",
    "\n",
    "plt.xlabel(\"Horas de Pronóstico\")\n",
    "plt.ylabel(\"Error Medio\")\n",
    "plt.title(\"Error Medio por Hora\")\n",
    "plt.legend()\n",
    "#plt.xlim([0, 25])\n",
    "#plt.ylim([0.85, 1])\n",
    "plt.xticks([i for i in range(1,25)])\n",
    "\n",
    "# And a corresponding grid\n",
    "ax.grid(which='both')\n",
    "\n",
    "# Or if you want different settings for the grids:\n",
    "ax.grid(which='minor', alpha=0.2)\n",
    "ax.grid(which='major', alpha=0.1)\n",
    "\n",
    "plt.savefig('/home/paw/DanielBustillos/contaminación/imagenes/rsme.png', bbox_inches='tight'\n",
    "            , dpi=900)\n",
    "\n",
    "plt.show()"
   ]
  },
  {
   "cell_type": "markdown",
   "metadata": {},
   "source": [
    "# Falsos positivos:"
   ]
  },
  {
   "cell_type": "markdown",
   "metadata": {},
   "source": [
    "## O3"
   ]
  },
  {
   "cell_type": "code",
   "execution_count": 25,
   "metadata": {},
   "outputs": [],
   "source": [
    "from sklearn.metrics import confusion_matrix"
   ]
  },
  {
   "cell_type": "code",
   "execution_count": 26,
   "metadata": {},
   "outputs": [
    {
     "data": {
      "text/html": [
       "<div>\n",
       "<style scoped>\n",
       "    .dataframe tbody tr th:only-of-type {\n",
       "        vertical-align: middle;\n",
       "    }\n",
       "\n",
       "    .dataframe tbody tr th {\n",
       "        vertical-align: top;\n",
       "    }\n",
       "\n",
       "    .dataframe thead th {\n",
       "        text-align: right;\n",
       "    }\n",
       "</style>\n",
       "<table border=\"1\" class=\"dataframe\">\n",
       "  <thead>\n",
       "    <tr style=\"text-align: right;\">\n",
       "      <th></th>\n",
       "      <th>PM10mean_max_frcst_1</th>\n",
       "      <th>PM10mean_max_frcst_2</th>\n",
       "      <th>PM10mean_max_frcst_3</th>\n",
       "      <th>PM10mean_max_frcst_4</th>\n",
       "      <th>PM10mean_max_frcst_5</th>\n",
       "      <th>PM10mean_max_frcst_6</th>\n",
       "      <th>PM10mean_max_frcst_7</th>\n",
       "      <th>PM10mean_max_frcst_8</th>\n",
       "      <th>PM10mean_max_frcst_9</th>\n",
       "      <th>PM10mean_max_frcst_10</th>\n",
       "      <th>...</th>\n",
       "      <th>PM10mean_max_frcst_15</th>\n",
       "      <th>PM10mean_max_frcst_16</th>\n",
       "      <th>PM10mean_max_frcst_17</th>\n",
       "      <th>PM10mean_max_frcst_18</th>\n",
       "      <th>PM10mean_max_frcst_19</th>\n",
       "      <th>PM10mean_max_frcst_20</th>\n",
       "      <th>PM10mean_max_frcst_21</th>\n",
       "      <th>PM10mean_max_frcst_22</th>\n",
       "      <th>PM10mean_max_frcst_23</th>\n",
       "      <th>PM10mean_max_frcst_24</th>\n",
       "    </tr>\n",
       "  </thead>\n",
       "  <tbody>\n",
       "    <tr>\n",
       "      <th>0</th>\n",
       "      <td>32.970364</td>\n",
       "      <td>33.902935</td>\n",
       "      <td>33.972755</td>\n",
       "      <td>34.828762</td>\n",
       "      <td>34.957767</td>\n",
       "      <td>39.286995</td>\n",
       "      <td>39.871628</td>\n",
       "      <td>39.969501</td>\n",
       "      <td>40.304714</td>\n",
       "      <td>40.914280</td>\n",
       "      <td>...</td>\n",
       "      <td>49.765869</td>\n",
       "      <td>50.398792</td>\n",
       "      <td>50.809216</td>\n",
       "      <td>51.250546</td>\n",
       "      <td>51.734905</td>\n",
       "      <td>52.850010</td>\n",
       "      <td>53.369762</td>\n",
       "      <td>53.844326</td>\n",
       "      <td>54.112259</td>\n",
       "      <td>44.335564</td>\n",
       "    </tr>\n",
       "    <tr>\n",
       "      <th>1</th>\n",
       "      <td>33.739738</td>\n",
       "      <td>33.798485</td>\n",
       "      <td>34.007843</td>\n",
       "      <td>34.121853</td>\n",
       "      <td>34.518833</td>\n",
       "      <td>35.245655</td>\n",
       "      <td>39.788494</td>\n",
       "      <td>40.144344</td>\n",
       "      <td>40.550976</td>\n",
       "      <td>40.428699</td>\n",
       "      <td>...</td>\n",
       "      <td>43.286800</td>\n",
       "      <td>50.399345</td>\n",
       "      <td>50.678528</td>\n",
       "      <td>51.120152</td>\n",
       "      <td>52.369747</td>\n",
       "      <td>52.686745</td>\n",
       "      <td>53.643776</td>\n",
       "      <td>54.203423</td>\n",
       "      <td>54.842285</td>\n",
       "      <td>45.959988</td>\n",
       "    </tr>\n",
       "    <tr>\n",
       "      <th>2</th>\n",
       "      <td>31.939667</td>\n",
       "      <td>33.332092</td>\n",
       "      <td>33.732113</td>\n",
       "      <td>34.001240</td>\n",
       "      <td>34.449371</td>\n",
       "      <td>34.513271</td>\n",
       "      <td>34.818417</td>\n",
       "      <td>39.847580</td>\n",
       "      <td>40.683876</td>\n",
       "      <td>40.753563</td>\n",
       "      <td>...</td>\n",
       "      <td>41.903389</td>\n",
       "      <td>43.348717</td>\n",
       "      <td>50.502735</td>\n",
       "      <td>50.778049</td>\n",
       "      <td>51.510811</td>\n",
       "      <td>52.495781</td>\n",
       "      <td>52.893627</td>\n",
       "      <td>53.639172</td>\n",
       "      <td>54.527435</td>\n",
       "      <td>46.969250</td>\n",
       "    </tr>\n",
       "  </tbody>\n",
       "</table>\n",
       "<p>3 rows × 24 columns</p>\n",
       "</div>"
      ],
      "text/plain": [
       "   PM10mean_max_frcst_1  PM10mean_max_frcst_2  PM10mean_max_frcst_3  \\\n",
       "0             32.970364             33.902935             33.972755   \n",
       "1             33.739738             33.798485             34.007843   \n",
       "2             31.939667             33.332092             33.732113   \n",
       "\n",
       "   PM10mean_max_frcst_4  PM10mean_max_frcst_5  PM10mean_max_frcst_6  \\\n",
       "0             34.828762             34.957767             39.286995   \n",
       "1             34.121853             34.518833             35.245655   \n",
       "2             34.001240             34.449371             34.513271   \n",
       "\n",
       "   PM10mean_max_frcst_7  PM10mean_max_frcst_8  PM10mean_max_frcst_9  \\\n",
       "0             39.871628             39.969501             40.304714   \n",
       "1             39.788494             40.144344             40.550976   \n",
       "2             34.818417             39.847580             40.683876   \n",
       "\n",
       "   PM10mean_max_frcst_10  ...  PM10mean_max_frcst_15  PM10mean_max_frcst_16  \\\n",
       "0              40.914280  ...              49.765869              50.398792   \n",
       "1              40.428699  ...              43.286800              50.399345   \n",
       "2              40.753563  ...              41.903389              43.348717   \n",
       "\n",
       "   PM10mean_max_frcst_17  PM10mean_max_frcst_18  PM10mean_max_frcst_19  \\\n",
       "0              50.809216              51.250546              51.734905   \n",
       "1              50.678528              51.120152              52.369747   \n",
       "2              50.502735              50.778049              51.510811   \n",
       "\n",
       "   PM10mean_max_frcst_20  PM10mean_max_frcst_21  PM10mean_max_frcst_22  \\\n",
       "0              52.850010              53.369762              53.844326   \n",
       "1              52.686745              53.643776              54.203423   \n",
       "2              52.495781              52.893627              53.639172   \n",
       "\n",
       "   PM10mean_max_frcst_23  PM10mean_max_frcst_24  \n",
       "0              54.112259              44.335564  \n",
       "1              54.842285              45.959988  \n",
       "2              54.527435              46.969250  \n",
       "\n",
       "[3 rows x 24 columns]"
      ]
     },
     "execution_count": 26,
     "metadata": {},
     "output_type": "execute_result"
    }
   ],
   "source": [
    "pm10_pronos.head(3)"
   ]
  },
  {
   "cell_type": "code",
   "execution_count": 27,
   "metadata": {},
   "outputs": [
    {
     "data": {
      "text/html": [
       "<div>\n",
       "<style scoped>\n",
       "    .dataframe tbody tr th:only-of-type {\n",
       "        vertical-align: middle;\n",
       "    }\n",
       "\n",
       "    .dataframe tbody tr th {\n",
       "        vertical-align: top;\n",
       "    }\n",
       "\n",
       "    .dataframe thead th {\n",
       "        text-align: right;\n",
       "    }\n",
       "</style>\n",
       "<table border=\"1\" class=\"dataframe\">\n",
       "  <thead>\n",
       "    <tr style=\"text-align: right;\">\n",
       "      <th></th>\n",
       "      <th>O3_max_frcst_1</th>\n",
       "      <th>O3_max_frcst_2</th>\n",
       "      <th>O3_max_frcst_3</th>\n",
       "      <th>O3_max_frcst_4</th>\n",
       "      <th>O3_max_frcst_5</th>\n",
       "      <th>O3_max_frcst_6</th>\n",
       "      <th>O3_max_frcst_7</th>\n",
       "      <th>O3_max_frcst_8</th>\n",
       "      <th>O3_max_frcst_9</th>\n",
       "      <th>O3_max_frcst_10</th>\n",
       "      <th>...</th>\n",
       "      <th>O3_max_frcst_15</th>\n",
       "      <th>O3_max_frcst_16</th>\n",
       "      <th>O3_max_frcst_17</th>\n",
       "      <th>O3_max_frcst_18</th>\n",
       "      <th>O3_max_frcst_19</th>\n",
       "      <th>O3_max_frcst_20</th>\n",
       "      <th>O3_max_frcst_21</th>\n",
       "      <th>O3_max_frcst_22</th>\n",
       "      <th>O3_max_frcst_23</th>\n",
       "      <th>O3_max_frcst_24</th>\n",
       "    </tr>\n",
       "  </thead>\n",
       "  <tbody>\n",
       "    <tr>\n",
       "      <th>0</th>\n",
       "      <td>40.470467</td>\n",
       "      <td>37.561108</td>\n",
       "      <td>32.991463</td>\n",
       "      <td>25.957788</td>\n",
       "      <td>23.156435</td>\n",
       "      <td>23.788973</td>\n",
       "      <td>26.243895</td>\n",
       "      <td>30.976175</td>\n",
       "      <td>34.462227</td>\n",
       "      <td>54.927860</td>\n",
       "      <td>...</td>\n",
       "      <td>92.228958</td>\n",
       "      <td>80.923119</td>\n",
       "      <td>68.667137</td>\n",
       "      <td>58.719723</td>\n",
       "      <td>50.596474</td>\n",
       "      <td>44.967464</td>\n",
       "      <td>43.182827</td>\n",
       "      <td>37.233974</td>\n",
       "      <td>34.226402</td>\n",
       "      <td>34.773052</td>\n",
       "    </tr>\n",
       "    <tr>\n",
       "      <th>1</th>\n",
       "      <td>42.218925</td>\n",
       "      <td>39.612675</td>\n",
       "      <td>35.364506</td>\n",
       "      <td>31.460979</td>\n",
       "      <td>27.851133</td>\n",
       "      <td>22.528196</td>\n",
       "      <td>22.781471</td>\n",
       "      <td>26.476444</td>\n",
       "      <td>30.881464</td>\n",
       "      <td>33.652271</td>\n",
       "      <td>...</td>\n",
       "      <td>88.488029</td>\n",
       "      <td>90.965660</td>\n",
       "      <td>80.478149</td>\n",
       "      <td>66.968834</td>\n",
       "      <td>57.903679</td>\n",
       "      <td>49.912395</td>\n",
       "      <td>43.359573</td>\n",
       "      <td>41.351562</td>\n",
       "      <td>35.126900</td>\n",
       "      <td>33.359985</td>\n",
       "    </tr>\n",
       "    <tr>\n",
       "      <th>2</th>\n",
       "      <td>43.082401</td>\n",
       "      <td>43.250523</td>\n",
       "      <td>36.190525</td>\n",
       "      <td>37.040329</td>\n",
       "      <td>31.100290</td>\n",
       "      <td>27.127731</td>\n",
       "      <td>23.703285</td>\n",
       "      <td>23.695259</td>\n",
       "      <td>26.885561</td>\n",
       "      <td>28.583004</td>\n",
       "      <td>...</td>\n",
       "      <td>86.109238</td>\n",
       "      <td>90.162483</td>\n",
       "      <td>90.050835</td>\n",
       "      <td>78.639473</td>\n",
       "      <td>66.359459</td>\n",
       "      <td>56.033291</td>\n",
       "      <td>48.976212</td>\n",
       "      <td>43.402592</td>\n",
       "      <td>40.737778</td>\n",
       "      <td>34.772705</td>\n",
       "    </tr>\n",
       "    <tr>\n",
       "      <th>3</th>\n",
       "      <td>51.167118</td>\n",
       "      <td>42.007729</td>\n",
       "      <td>40.181068</td>\n",
       "      <td>39.723339</td>\n",
       "      <td>36.454510</td>\n",
       "      <td>29.887787</td>\n",
       "      <td>25.941607</td>\n",
       "      <td>23.538786</td>\n",
       "      <td>24.613655</td>\n",
       "      <td>26.440367</td>\n",
       "      <td>...</td>\n",
       "      <td>74.986893</td>\n",
       "      <td>85.201981</td>\n",
       "      <td>90.593895</td>\n",
       "      <td>91.382301</td>\n",
       "      <td>81.791824</td>\n",
       "      <td>69.449600</td>\n",
       "      <td>58.628078</td>\n",
       "      <td>49.952007</td>\n",
       "      <td>42.999660</td>\n",
       "      <td>40.282104</td>\n",
       "    </tr>\n",
       "  </tbody>\n",
       "</table>\n",
       "<p>4 rows × 24 columns</p>\n",
       "</div>"
      ],
      "text/plain": [
       "   O3_max_frcst_1  O3_max_frcst_2  O3_max_frcst_3  O3_max_frcst_4  \\\n",
       "0       40.470467       37.561108       32.991463       25.957788   \n",
       "1       42.218925       39.612675       35.364506       31.460979   \n",
       "2       43.082401       43.250523       36.190525       37.040329   \n",
       "3       51.167118       42.007729       40.181068       39.723339   \n",
       "\n",
       "   O3_max_frcst_5  O3_max_frcst_6  O3_max_frcst_7  O3_max_frcst_8  \\\n",
       "0       23.156435       23.788973       26.243895       30.976175   \n",
       "1       27.851133       22.528196       22.781471       26.476444   \n",
       "2       31.100290       27.127731       23.703285       23.695259   \n",
       "3       36.454510       29.887787       25.941607       23.538786   \n",
       "\n",
       "   O3_max_frcst_9  O3_max_frcst_10  ...  O3_max_frcst_15  O3_max_frcst_16  \\\n",
       "0       34.462227        54.927860  ...        92.228958        80.923119   \n",
       "1       30.881464        33.652271  ...        88.488029        90.965660   \n",
       "2       26.885561        28.583004  ...        86.109238        90.162483   \n",
       "3       24.613655        26.440367  ...        74.986893        85.201981   \n",
       "\n",
       "   O3_max_frcst_17  O3_max_frcst_18  O3_max_frcst_19  O3_max_frcst_20  \\\n",
       "0        68.667137        58.719723        50.596474        44.967464   \n",
       "1        80.478149        66.968834        57.903679        49.912395   \n",
       "2        90.050835        78.639473        66.359459        56.033291   \n",
       "3        90.593895        91.382301        81.791824        69.449600   \n",
       "\n",
       "   O3_max_frcst_21  O3_max_frcst_22  O3_max_frcst_23  O3_max_frcst_24  \n",
       "0        43.182827        37.233974        34.226402        34.773052  \n",
       "1        43.359573        41.351562        35.126900        33.359985  \n",
       "2        48.976212        43.402592        40.737778        34.772705  \n",
       "3        58.628078        49.952007        42.999660        40.282104  \n",
       "\n",
       "[4 rows x 24 columns]"
      ]
     },
     "execution_count": 27,
     "metadata": {},
     "output_type": "execute_result"
    }
   ],
   "source": [
    "O3_pronos.head(4)"
   ]
  },
  {
   "cell_type": "code",
   "execution_count": 28,
   "metadata": {},
   "outputs": [],
   "source": [
    "O3_pronos.columns = ['O3_max_frcst_'+str(i) + 'f' for i in range(1,25)]\n",
    "pm10_pronos.columns = ['PM10mean_max_frcst_'+ str(i)+'f' for i in range(1,25)]"
   ]
  },
  {
   "cell_type": "code",
   "execution_count": 29,
   "metadata": {},
   "outputs": [],
   "source": [
    "data_hour_merge_O3f = data_hour_merge_O3[['O3_max_frcst_'+ str(i) for i in range(1,25)]]\n",
    "data_hour_merge_pm10f = data_hour_merge[['PM10mean_max_frcst_'+str(i) for i in range(1,25)]]"
   ]
  },
  {
   "cell_type": "code",
   "execution_count": 30,
   "metadata": {},
   "outputs": [],
   "source": [
    "matrix_O3 = pd.concat([data_hour_merge_O3f, O3_pronos], axis=1, sort=False)\n",
    "matrix_pm10 = pd.concat([data_hour_merge_pm10f, pm10_pronos], axis=1, sort=False)"
   ]
  },
  {
   "cell_type": "code",
   "execution_count": 31,
   "metadata": {},
   "outputs": [
    {
     "data": {
      "text/html": [
       "<div>\n",
       "<style scoped>\n",
       "    .dataframe tbody tr th:only-of-type {\n",
       "        vertical-align: middle;\n",
       "    }\n",
       "\n",
       "    .dataframe tbody tr th {\n",
       "        vertical-align: top;\n",
       "    }\n",
       "\n",
       "    .dataframe thead th {\n",
       "        text-align: right;\n",
       "    }\n",
       "</style>\n",
       "<table border=\"1\" class=\"dataframe\">\n",
       "  <thead>\n",
       "    <tr style=\"text-align: right;\">\n",
       "      <th></th>\n",
       "      <th>PM10mean_max_frcst_24</th>\n",
       "      <th>PM10mean_max_frcst_24f</th>\n",
       "    </tr>\n",
       "  </thead>\n",
       "  <tbody>\n",
       "    <tr>\n",
       "      <th>4322</th>\n",
       "      <td>152.500000</td>\n",
       "      <td>150.602417</td>\n",
       "    </tr>\n",
       "    <tr>\n",
       "      <th>4326</th>\n",
       "      <td>155.291667</td>\n",
       "      <td>150.433807</td>\n",
       "    </tr>\n",
       "    <tr>\n",
       "      <th>4328</th>\n",
       "      <td>153.291667</td>\n",
       "      <td>152.162170</td>\n",
       "    </tr>\n",
       "  </tbody>\n",
       "</table>\n",
       "</div>"
      ],
      "text/plain": [
       "      PM10mean_max_frcst_24  PM10mean_max_frcst_24f\n",
       "4322             152.500000              150.602417\n",
       "4326             155.291667              150.433807\n",
       "4328             153.291667              152.162170"
      ]
     },
     "execution_count": 31,
     "metadata": {},
     "output_type": "execute_result"
    }
   ],
   "source": [
    "matrix_pm10[['PM10mean_max_frcst_24','PM10mean_max_frcst_24f']][matrix_pm10[\"PM10mean_max_frcst_24f\"] > 150].head(3)"
   ]
  },
  {
   "cell_type": "code",
   "execution_count": 32,
   "metadata": {},
   "outputs": [
    {
     "data": {
      "text/plain": [
       "<matplotlib.axes._subplots.AxesSubplot at 0x7fd71c0a1860>"
      ]
     },
     "execution_count": 32,
     "metadata": {},
     "output_type": "execute_result"
    },
    {
     "data": {
      "image/png": "[encoded data removed]",
      "text/plain": [
       "<Figure size 432x288 with 1 Axes>"
      ]
     },
     "metadata": {
      "needs_background": "light"
     },
     "output_type": "display_data"
    }
   ],
   "source": [
    "matrix_pm10[['PM10mean_max_frcst_2','PM10mean_max_frcst_2f']].head(1000).plot()"
   ]
  },
  {
   "cell_type": "code",
   "execution_count": 33,
   "metadata": {},
   "outputs": [
    {
     "data": {
      "text/plain": [
       "<matplotlib.axes._subplots.AxesSubplot at 0x7fd6fc392358>"
      ]
     },
     "execution_count": 33,
     "metadata": {},
     "output_type": "execute_result"
    },
    {
     "data": {
      "image/png": "[encoded data removed]",
      "text/plain": [
       "<Figure size 432x288 with 1 Axes>"
      ]
     },
     "metadata": {
      "needs_background": "light"
     },
     "output_type": "display_data"
    }
   ],
   "source": [
    "matrix_O3[[\"O3_max_frcst_2\",'O3_max_frcst_2f']].head(150).plot()"
   ]
  },
  {
   "cell_type": "code",
   "execution_count": 34,
   "metadata": {},
   "outputs": [],
   "source": [
    "for column in matrix_O3:\n",
    "    matrix_O3[column] = matrix_O3[column].apply(lambda x: 1 if x > 140 else 0)\n",
    "for column in matrix_pm10:\n",
    "    matrix_pm10[column] = matrix_pm10[column].apply(lambda x: 1 if x > 171 else 0)"
   ]
  },
  {
   "cell_type": "code",
   "execution_count": 35,
   "metadata": {},
   "outputs": [],
   "source": [
    "confussion_o3 = []\n",
    "for i in range(0,24):\n",
    "    confussion_o3.append(confusion_matrix(matrix_O3.iloc[:,i], matrix_O3.iloc[:,24+i]).ravel().tolist())\n",
    "    \n",
    "confussion_pm10 = []\n",
    "for i in range(0,24):\n",
    "    confussion_pm10.append(confusion_matrix(matrix_pm10.iloc[:,i], matrix_pm10.iloc[:,24+i]).ravel().tolist())"
   ]
  },
  {
   "cell_type": "markdown",
   "metadata": {},
   "source": [
    "## Definimos un df para almacenar la matríz de confusión:"
   ]
  },
  {
   "cell_type": "code",
   "execution_count": 36,
   "metadata": {},
   "outputs": [],
   "source": [
    "confussion_df = pd.DataFrame(confussion_o3)\n",
    "confussion_df.reset_index(inplace=True)\n",
    "confussion_df.columns = ['hora',\"TN\",\"FP\",\"FN\",'TP']\n",
    "confussion_df[\"hora\"] = confussion_df[\"hora\"]+1"
   ]
  },
  {
   "cell_type": "code",
   "execution_count": 37,
   "metadata": {},
   "outputs": [],
   "source": [
    "confussion_df_PM10 = pd.DataFrame(confussion_pm10)\n",
    "confussion_df_PM10.reset_index(inplace=True)\n",
    "confussion_df_PM10.columns = ['hora',\"TN\",\"FP\",\"FN\",'TP']\n",
    "confussion_df_PM10[\"hora\"] = confussion_df_PM10[\"hora\"] + 1"
   ]
  },
  {
   "cell_type": "markdown",
   "metadata": {},
   "source": [
    "### Exactitud y precisión:"
   ]
  },
  {
   "cell_type": "code",
   "execution_count": 38,
   "metadata": {},
   "outputs": [],
   "source": [
    "confussion_df[\"Exactitud\"] = (confussion_df.loc[:,\"TN\"] + confussion_df.loc[:,\"TP\"])/confussion_df.iloc[1,1:].sum()\n",
    "confussion_df[\"Precisión\"] = (confussion_df.loc[:,\"TP\"])/(confussion_df.loc[:,\"FP\"] + confussion_df.loc[:,\"TP\"])"
   ]
  },
  {
   "cell_type": "code",
   "execution_count": 39,
   "metadata": {},
   "outputs": [],
   "source": [
    "confussion_df_PM10[\"Exactitud\"] = (confussion_df_PM10.loc[:,\"TN\"] + confussion_df_PM10.loc[:,\"TP\"])/confussion_df_PM10.iloc[1,1:].sum()\n",
    "confussion_df_PM10[\"Precisión\"] = (confussion_df_PM10.loc[:,\"TP\"])/(confussion_df_PM10.loc[:,\"FP\"] + confussion_df_PM10.loc[:,\"TP\"])"
   ]
  },
  {
   "cell_type": "code",
   "execution_count": 40,
   "metadata": {},
   "outputs": [
    {
     "data": {
      "text/html": [
       "<div>\n",
       "<style scoped>\n",
       "    .dataframe tbody tr th:only-of-type {\n",
       "        vertical-align: middle;\n",
       "    }\n",
       "\n",
       "    .dataframe tbody tr th {\n",
       "        vertical-align: top;\n",
       "    }\n",
       "\n",
       "    .dataframe thead th {\n",
       "        text-align: right;\n",
       "    }\n",
       "</style>\n",
       "<table border=\"1\" class=\"dataframe\">\n",
       "  <thead>\n",
       "    <tr style=\"text-align: right;\">\n",
       "      <th></th>\n",
       "      <th>hora</th>\n",
       "      <th>TN</th>\n",
       "      <th>FP</th>\n",
       "      <th>FN</th>\n",
       "      <th>TP</th>\n",
       "      <th>Exactitud</th>\n",
       "      <th>Precisión</th>\n",
       "    </tr>\n",
       "  </thead>\n",
       "  <tbody>\n",
       "    <tr>\n",
       "      <th>19</th>\n",
       "      <td>20</td>\n",
       "      <td>33331</td>\n",
       "      <td>10</td>\n",
       "      <td>92</td>\n",
       "      <td>207</td>\n",
       "      <td>0.996968</td>\n",
       "      <td>0.953917</td>\n",
       "    </tr>\n",
       "    <tr>\n",
       "      <th>20</th>\n",
       "      <td>21</td>\n",
       "      <td>33334</td>\n",
       "      <td>7</td>\n",
       "      <td>82</td>\n",
       "      <td>217</td>\n",
       "      <td>0.997354</td>\n",
       "      <td>0.968750</td>\n",
       "    </tr>\n",
       "    <tr>\n",
       "      <th>21</th>\n",
       "      <td>22</td>\n",
       "      <td>33333</td>\n",
       "      <td>8</td>\n",
       "      <td>68</td>\n",
       "      <td>231</td>\n",
       "      <td>0.997741</td>\n",
       "      <td>0.966527</td>\n",
       "    </tr>\n",
       "    <tr>\n",
       "      <th>22</th>\n",
       "      <td>23</td>\n",
       "      <td>33333</td>\n",
       "      <td>8</td>\n",
       "      <td>65</td>\n",
       "      <td>234</td>\n",
       "      <td>0.997830</td>\n",
       "      <td>0.966942</td>\n",
       "    </tr>\n",
       "    <tr>\n",
       "      <th>23</th>\n",
       "      <td>24</td>\n",
       "      <td>33339</td>\n",
       "      <td>3</td>\n",
       "      <td>87</td>\n",
       "      <td>211</td>\n",
       "      <td>0.997325</td>\n",
       "      <td>0.985981</td>\n",
       "    </tr>\n",
       "  </tbody>\n",
       "</table>\n",
       "</div>"
      ],
      "text/plain": [
       "    hora     TN  FP  FN   TP  Exactitud  Precisión\n",
       "19    20  33331  10  92  207   0.996968   0.953917\n",
       "20    21  33334   7  82  217   0.997354   0.968750\n",
       "21    22  33333   8  68  231   0.997741   0.966527\n",
       "22    23  33333   8  65  234   0.997830   0.966942\n",
       "23    24  33339   3  87  211   0.997325   0.985981"
      ]
     },
     "execution_count": 40,
     "metadata": {},
     "output_type": "execute_result"
    }
   ],
   "source": [
    "confussion_df.tail()"
   ]
  },
  {
   "cell_type": "code",
   "execution_count": 41,
   "metadata": {},
   "outputs": [
    {
     "data": {
      "image/png": "[encoded data removed]",
      "text/plain": [
       "<Figure size 432x288 with 1 Axes>"
      ]
     },
     "metadata": {
      "needs_background": "light"
     },
     "output_type": "display_data"
    }
   ],
   "source": [
    "fig = plt.figure()\n",
    "ax = fig.gca()\n",
    "\n",
    "confussion_df.plot(x=\"hora\", y=[\"Precisión\"],ax=ax, label = ['Precisión O3'])\n",
    "confussion_df.plot(x=\"hora\", y=[\"Exactitud\"],ax=ax,label = ['Exactitud O3'])\n",
    "\n",
    "confussion_df_PM10.plot(x=\"hora\", y=[\"Precisión\"],ax=ax,label = ['Precisión PM10'])\n",
    "confussion_df_PM10.plot(x=\"hora\", y=[\"Exactitud\"],ax=ax,label = ['Exactitud PM10'])\n",
    "\n",
    "plt.xlabel(\"Horas de Pronóstico\")\n",
    "#plt.ylabel(\"Precisión y Exactitud por Hora\")\n",
    "plt.title(\"Precisión y Exactitud por Hora\")\n",
    "plt.legend()\n",
    "#plt.xlim([0, 25])\n",
    "#plt.ylim([0.85, 1])\n",
    "plt.xticks([i for i in range(1,25)])\n",
    "\n",
    "# And a corresponding grid\n",
    "ax.grid(which='both')\n",
    "\n",
    "# Or if you want different settings for the grids:\n",
    "ax.grid(which='minor', alpha=0.2)\n",
    "ax.grid(which='major', alpha=0.1)\n",
    "\n",
    "plt.savefig('/home/paw/DanielBustillos/contaminación/imagenes/exactitud.png', bbox_inches='tight'\n",
    "            , dpi=900)\n",
    "\n",
    "plt.show()"
   ]
  },
  {
   "cell_type": "code",
   "execution_count": 42,
   "metadata": {},
   "outputs": [
    {
     "data": {
      "text/plain": [
       "<matplotlib.axes._subplots.AxesSubplot at 0x7fd6fc1da5c0>"
      ]
     },
     "execution_count": 42,
     "metadata": {},
     "output_type": "execute_result"
    },
    {
     "data": {
      "image/png": "[encoded data removed]",
      "text/plain": [
       "<Figure size 432x288 with 2 Axes>"
      ]
     },
     "metadata": {
      "needs_background": "light"
     },
     "output_type": "display_data"
    }
   ],
   "source": [
    "confusion_matrix_df = pd.crosstab(matrix_O3.iloc[:,23], matrix_O3.iloc[:,24+23], rownames=['Actual'],\n",
    "                                  colnames=['Predicted'])\n",
    "\n",
    "sn.heatmap(confusion_matrix_df, annot=True)"
   ]
  },
  {
   "cell_type": "code",
   "execution_count": 43,
   "metadata": {},
   "outputs": [
    {
     "data": {
      "text/plain": [
       "<matplotlib.axes._subplots.AxesSubplot at 0x7fd6fc0fcda0>"
      ]
     },
     "execution_count": 43,
     "metadata": {},
     "output_type": "execute_result"
    },
    {
     "data": {
      "image/png": "[encoded data removed]",
      "text/plain": [
       "<Figure size 432x288 with 2 Axes>"
      ]
     },
     "metadata": {
      "needs_background": "light"
     },
     "output_type": "display_data"
    }
   ],
   "source": [
    "confusion_matrix_df = pd.crosstab(matrix_pm10.iloc[:,23], matrix_pm10.iloc[:,24+23], rownames=['Actual'],\n",
    "                                  colnames=['Predicted'])\n",
    "\n",
    "sn.heatmap(confusion_matrix_df, annot=True)"
   ]
  },
  {
   "cell_type": "code",
   "execution_count": null,
   "metadata": {},
   "outputs": [],
   "source": []
  },
  {
   "cell_type": "code",
   "execution_count": null,
   "metadata": {},
   "outputs": [],
   "source": []
  },
  {
   "cell_type": "code",
   "execution_count": null,
   "metadata": {},
   "outputs": [],
   "source": []
  },
  {
   "cell_type": "code",
   "execution_count": null,
   "metadata": {},
   "outputs": [],
   "source": []
  },
  {
   "cell_type": "code",
   "execution_count": null,
   "metadata": {},
   "outputs": [],
   "source": []
  },
  {
   "cell_type": "code",
   "execution_count": null,
   "metadata": {},
   "outputs": [],
   "source": []
  },
  {
   "cell_type": "code",
   "execution_count": null,
   "metadata": {},
   "outputs": [],
   "source": []
  },
  {
   "cell_type": "code",
   "execution_count": null,
   "metadata": {},
   "outputs": [],
   "source": []
  },
  {
   "cell_type": "code",
   "execution_count": null,
   "metadata": {},
   "outputs": [],
   "source": []
  }
 ],
 "metadata": {
  "kernelspec": {
   "display_name": "Python 3",
   "language": "python",
   "name": "python3"
  },
  "language_info": {
   "codemirror_mode": {
    "name": "ipython",
    "version": 3
   },
   "file_extension": ".py",
   "mimetype": "text/x-python",
   "name": "python",
   "nbconvert_exporter": "python",
   "pygments_lexer": "ipython3",
   "version": "3.7.3"
  }
 },
 "nbformat": 4,
 "nbformat_minor": 2
}
