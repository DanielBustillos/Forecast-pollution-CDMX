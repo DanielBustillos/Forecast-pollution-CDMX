{
 "cells": [
  {
   "cell_type": "code",
   "execution_count": 1,
   "metadata": {},
   "outputs": [],
   "source": [
    "import numpy as np\n",
    "import matplotlib.pyplot as plt\n",
    "import seaborn as sns\n",
    "from pylab import rcParams\n",
    "\n",
    "import pandas as pd\n",
    "\n",
    "from sklearn import preprocessing\n",
    "import datetime\n",
    "import seaborn as sns\n",
    "\n",
    "import xgboost as xgb\n",
    "from xgboost import XGBClassifier\n",
    "from xgboost import plot_tree\n",
    "\n",
    "\n",
    "from sklearn.svm import SVR\n",
    "from sklearn.preprocessing import StandardScaler\n",
    "from sklearn.metrics import mean_squared_error\n",
    "from sklearn.model_selection import train_test_split\n",
    "from sklearn.tree import DecisionTreeRegressor\n",
    "from sklearn.ensemble import AdaBoostRegressor\n",
    "import os\n",
    "\n",
    "import numpy as np\n",
    "import matplotlib.pyplot as plt\n",
    "\n",
    "import missingno as msn"
   ]
  },
  {
   "cell_type": "code",
   "execution_count": 2,
   "metadata": {},
   "outputs": [],
   "source": [
    "pd.options.mode.chained_assignment = None "
   ]
  },
  {
   "cell_type": "markdown",
   "metadata": {},
   "source": [
    "## Leamos los DF generados"
   ]
  },
  {
   "cell_type": "markdown",
   "metadata": {},
   "source": [
    "Leemos los archivos por hora:"
   ]
  },
  {
   "cell_type": "code",
   "execution_count": 190,
   "metadata": {},
   "outputs": [],
   "source": [
    "data_hora_00 = pd.read_csv('/home/paw/DanielBustillos/por_hora/cont_hora2000.csv')\n",
    "data_hora_01 = pd.read_csv('/home/paw/DanielBustillos/por_hora/cont_hora2001.csv')\n",
    "data_hora_02 = pd.read_csv('/home/paw/DanielBustillos/por_hora/cont_hora2002.csv')\n",
    "data_hora_03 = pd.read_csv('/home/paw/DanielBustillos/por_hora/cont_hora2003.csv')\n",
    "data_hora_04 = pd.read_csv('/home/paw/DanielBustillos/por_hora/cont_hora2004.csv')\n",
    "data_hora_05 = pd.read_csv('/home/paw/DanielBustillos/por_hora/cont_hora2005.csv')\n",
    "data_hora_06 = pd.read_csv('/home/paw/DanielBustillos/por_hora/cont_hora2006.csv')\n",
    "data_hora_07 = pd.read_csv('/home/paw/DanielBustillos/por_hora/cont_hora2007.csv')\n",
    "data_hora_08 = pd.read_csv('/home/paw/DanielBustillos/por_hora/cont_hora2008.csv')\n",
    "data_hora_09 = pd.read_csv('/home/paw/DanielBustillos/por_hora/cont_hora2009.csv')\n",
    "data_hora_10 = pd.read_csv('/home/paw/DanielBustillos/por_hora/cont_hora2010.csv')\n",
    "data_hora_11 = pd.read_csv('/home/paw/DanielBustillos/por_hora/cont_hora2011.csv')\n",
    "data_hora_12 = pd.read_csv('/home/paw/DanielBustillos/por_hora/cont_hora2012.csv')\n",
    "data_hora_13 = pd.read_csv('/home/paw/DanielBustillos/por_hora/cont_hora2013.csv')\n",
    "data_hora_14 = pd.read_csv('/home/paw/DanielBustillos/por_hora/cont_hora2014.csv')\n",
    "data_hora_15 = pd.read_csv('/home/paw/DanielBustillos/por_hora/cont_hora2015.csv')\n",
    "data_hora_16 = pd.read_csv('/home/paw/DanielBustillos/por_hora/cont_hora2016.csv')\n",
    "data_hora_17 = pd.read_csv('/home/paw/DanielBustillos/por_hora/cont_hora2017.csv')\n",
    "data_hora_18 = pd.read_csv('/home/paw/DanielBustillos/por_hora/cont_hora2018.csv')\n",
    "data_hora_19 = pd.read_csv('/home/paw/DanielBustillos/por_hora/cont_hora2019.csv')"
   ]
  },
  {
   "cell_type": "code",
   "execution_count": 191,
   "metadata": {},
   "outputs": [],
   "source": [
    "data_hora = data_hora_19.append(data_hora_18, ignore_index=True,sort=True)\n",
    "data_hora = data_hora.append(data_hora_17, ignore_index=True,sort=True)\n",
    "data_hora = data_hora.append(data_hora_16, ignore_index=True,sort=True)\n",
    "data_hora = data_hora.append(data_hora_15, ignore_index=True,sort=True)\n",
    "data_hora = data_hora.append(data_hora_14, ignore_index=True,sort=True)\n",
    "data_hora = data_hora.append(data_hora_13, ignore_index=True,sort=True)\n",
    "data_hora = data_hora.append(data_hora_12, ignore_index=True,sort=True)\n",
    "data_hora = data_hora.append(data_hora_11, ignore_index=True,sort=True)\n",
    "data_hora = data_hora.append(data_hora_10, ignore_index=True,sort=True)\n",
    "data_hora = data_hora.append(data_hora_09, ignore_index=True,sort=True)\n",
    "data_hora = data_hora.append(data_hora_08, ignore_index=True,sort=True)\n",
    "data_hora = data_hora.append(data_hora_07, ignore_index=True,sort=True)\n",
    "data_hora = data_hora.append(data_hora_06, ignore_index=True,sort=True)\n",
    "data_hora = data_hora.append(data_hora_05, ignore_index=True,sort=True)\n",
    "data_hora = data_hora.append(data_hora_04, ignore_index=True,sort=True)\n",
    "data_hora = data_hora.append(data_hora_03, ignore_index=True,sort=True)\n",
    "data_hora = data_hora.append(data_hora_02, ignore_index=True,sort=True)\n",
    "data_hora = data_hora.append(data_hora_01, ignore_index=True,sort=True)\n",
    "data_hora = data_hora.append(data_hora_00, ignore_index=True,sort=True)"
   ]
  },
  {
   "cell_type": "code",
   "execution_count": 192,
   "metadata": {},
   "outputs": [],
   "source": [
    "data_hora['dia'] = data_hora['fecha'].astype(str).str[8:10]\n",
    "data_hora['mes'] =  data_hora['fecha'].astype(str).str[5:7]\n",
    "data_hora['fecha'] = data_hora['fecha'].astype(str).str[0:10]"
   ]
  },
  {
   "cell_type": "code",
   "execution_count": 193,
   "metadata": {},
   "outputs": [],
   "source": [
    "data_hora = data_hora.drop([\"Unnamed: 0\"],axis=1)\n",
    "data_hora = data_hora.drop_duplicates()\n",
    "data_hora = data_hora[1::]"
   ]
  },
  {
   "cell_type": "code",
   "execution_count": 194,
   "metadata": {},
   "outputs": [],
   "source": [
    "data_hora = data_hora.drop([\"PBa\",\"PM2.5\",\"PMCO\",\"UVA\",\"UVB\"],axis=1)"
   ]
  },
  {
   "cell_type": "code",
   "execution_count": 195,
   "metadata": {},
   "outputs": [],
   "source": [
    "data_hora = data_hora.dropna()"
   ]
  },
  {
   "cell_type": "code",
   "execution_count": 196,
   "metadata": {},
   "outputs": [],
   "source": [
    "#data = data_hora.dropna(subset=['O3'])"
   ]
  },
  {
   "cell_type": "raw",
   "metadata": {},
   "source": [
    "data_hora = data_hora[data_hora.fecha > \"2016-01-01 23:00:00\"]"
   ]
  },
  {
   "cell_type": "raw",
   "metadata": {},
   "source": [
    "data_hora = data_hora[data_hora.O3>50]"
   ]
  },
  {
   "cell_type": "raw",
   "metadata": {},
   "source": [
    "data_hora = pd.read_csv('/home/paw/DanielBustillos/hist_may_cont.csv')"
   ]
  },
  {
   "cell_type": "markdown",
   "metadata": {},
   "source": [
    "\n",
    "# Datos por día: mean(), max(), min()"
   ]
  },
  {
   "cell_type": "markdown",
   "metadata": {},
   "source": [
    "### Creamos un Df con los datos promedio por hora oara rellenar los nan del DF original"
   ]
  },
  {
   "cell_type": "raw",
   "metadata": {},
   "source": [
    "means = data_hora.groupby(['fecha',\"hora\"]).transform('mean')"
   ]
  },
  {
   "cell_type": "raw",
   "metadata": {},
   "source": [
    "data_hora = data_hora.fillna(means)"
   ]
  },
  {
   "cell_type": "code",
   "execution_count": 197,
   "metadata": {},
   "outputs": [
    {
     "data": {
      "text/html": [
       "<div>\n",
       "<style scoped>\n",
       "    .dataframe tbody tr th:only-of-type {\n",
       "        vertical-align: middle;\n",
       "    }\n",
       "\n",
       "    .dataframe tbody tr th {\n",
       "        vertical-align: top;\n",
       "    }\n",
       "\n",
       "    .dataframe thead th {\n",
       "        text-align: right;\n",
       "    }\n",
       "</style>\n",
       "<table border=\"1\" class=\"dataframe\">\n",
       "  <thead>\n",
       "    <tr style=\"text-align: right;\">\n",
       "      <th></th>\n",
       "      <th>CO</th>\n",
       "      <th>NO</th>\n",
       "      <th>NO2</th>\n",
       "      <th>NOX</th>\n",
       "      <th>O3</th>\n",
       "      <th>PM10</th>\n",
       "      <th>RH</th>\n",
       "      <th>SO2</th>\n",
       "      <th>TMP</th>\n",
       "      <th>WDR</th>\n",
       "      <th>WSP</th>\n",
       "      <th>dia</th>\n",
       "      <th>fecha</th>\n",
       "      <th>hora</th>\n",
       "      <th>id_station</th>\n",
       "      <th>mes</th>\n",
       "    </tr>\n",
       "  </thead>\n",
       "  <tbody>\n",
       "    <tr>\n",
       "      <th>7</th>\n",
       "      <td>1.9</td>\n",
       "      <td>46.0</td>\n",
       "      <td>27.0</td>\n",
       "      <td>73.0</td>\n",
       "      <td>5.0</td>\n",
       "      <td>274.0</td>\n",
       "      <td>66.0</td>\n",
       "      <td>5.0</td>\n",
       "      <td>5.6</td>\n",
       "      <td>110.0</td>\n",
       "      <td>0.6</td>\n",
       "      <td>01</td>\n",
       "      <td>2019-01-01</td>\n",
       "      <td>4</td>\n",
       "      <td>CHO</td>\n",
       "      <td>01</td>\n",
       "    </tr>\n",
       "    <tr>\n",
       "      <th>8</th>\n",
       "      <td>0.7</td>\n",
       "      <td>7.0</td>\n",
       "      <td>29.0</td>\n",
       "      <td>36.0</td>\n",
       "      <td>19.0</td>\n",
       "      <td>192.0</td>\n",
       "      <td>52.0</td>\n",
       "      <td>8.0</td>\n",
       "      <td>9.5</td>\n",
       "      <td>221.0</td>\n",
       "      <td>1.3</td>\n",
       "      <td>01</td>\n",
       "      <td>2019-01-01</td>\n",
       "      <td>4</td>\n",
       "      <td>CUA</td>\n",
       "      <td>01</td>\n",
       "    </tr>\n",
       "    <tr>\n",
       "      <th>12</th>\n",
       "      <td>1.1</td>\n",
       "      <td>8.0</td>\n",
       "      <td>36.0</td>\n",
       "      <td>45.0</td>\n",
       "      <td>2.0</td>\n",
       "      <td>96.0</td>\n",
       "      <td>59.0</td>\n",
       "      <td>3.0</td>\n",
       "      <td>11.4</td>\n",
       "      <td>111.0</td>\n",
       "      <td>1.3</td>\n",
       "      <td>01</td>\n",
       "      <td>2019-01-01</td>\n",
       "      <td>4</td>\n",
       "      <td>HGM</td>\n",
       "      <td>01</td>\n",
       "    </tr>\n",
       "    <tr>\n",
       "      <th>17</th>\n",
       "      <td>1.3</td>\n",
       "      <td>43.0</td>\n",
       "      <td>36.0</td>\n",
       "      <td>80.0</td>\n",
       "      <td>1.0</td>\n",
       "      <td>118.0</td>\n",
       "      <td>69.0</td>\n",
       "      <td>5.0</td>\n",
       "      <td>11.0</td>\n",
       "      <td>130.0</td>\n",
       "      <td>0.8</td>\n",
       "      <td>01</td>\n",
       "      <td>2019-01-01</td>\n",
       "      <td>4</td>\n",
       "      <td>MER</td>\n",
       "      <td>01</td>\n",
       "    </tr>\n",
       "    <tr>\n",
       "      <th>18</th>\n",
       "      <td>1.9</td>\n",
       "      <td>56.0</td>\n",
       "      <td>36.0</td>\n",
       "      <td>92.0</td>\n",
       "      <td>2.0</td>\n",
       "      <td>143.0</td>\n",
       "      <td>63.0</td>\n",
       "      <td>3.0</td>\n",
       "      <td>11.8</td>\n",
       "      <td>170.0</td>\n",
       "      <td>0.7</td>\n",
       "      <td>01</td>\n",
       "      <td>2019-01-01</td>\n",
       "      <td>4</td>\n",
       "      <td>MGH</td>\n",
       "      <td>01</td>\n",
       "    </tr>\n",
       "  </tbody>\n",
       "</table>\n",
       "</div>"
      ],
      "text/plain": [
       "     CO    NO   NO2   NOX    O3   PM10    RH  SO2   TMP    WDR  WSP dia  \\\n",
       "7   1.9  46.0  27.0  73.0   5.0  274.0  66.0  5.0   5.6  110.0  0.6  01   \n",
       "8   0.7   7.0  29.0  36.0  19.0  192.0  52.0  8.0   9.5  221.0  1.3  01   \n",
       "12  1.1   8.0  36.0  45.0   2.0   96.0  59.0  3.0  11.4  111.0  1.3  01   \n",
       "17  1.3  43.0  36.0  80.0   1.0  118.0  69.0  5.0  11.0  130.0  0.8  01   \n",
       "18  1.9  56.0  36.0  92.0   2.0  143.0  63.0  3.0  11.8  170.0  0.7  01   \n",
       "\n",
       "         fecha  hora id_station mes  \n",
       "7   2019-01-01     4        CHO  01  \n",
       "8   2019-01-01     4        CUA  01  \n",
       "12  2019-01-01     4        HGM  01  \n",
       "17  2019-01-01     4        MER  01  \n",
       "18  2019-01-01     4        MGH  01  "
      ]
     },
     "execution_count": 197,
     "metadata": {},
     "output_type": "execute_result"
    }
   ],
   "source": [
    "data_hora.head()"
   ]
  },
  {
   "cell_type": "markdown",
   "metadata": {},
   "source": [
    " Create a datetime column"
   ]
  },
  {
   "cell_type": "code",
   "execution_count": 198,
   "metadata": {},
   "outputs": [],
   "source": [
    "data_hora['fecha']  = pd.to_datetime([''.join([' '.join([data_hora.loc[i, 'fecha'], str(data_hora.loc[i, 'hora'])]),':00']) for i in data_hora.index])"
   ]
  },
  {
   "cell_type": "markdown",
   "metadata": {},
   "source": [
    "Sort into proper order so that rolling() is computed correctly\n"
   ]
  },
  {
   "cell_type": "code",
   "execution_count": 199,
   "metadata": {},
   "outputs": [],
   "source": [
    "data_24 = data_hora.sort_values(['id_station','fecha'])\n",
    "# Set the datetime column as the dataframe index\n",
    "data_24 = data_24.set_index('fecha')"
   ]
  },
  {
   "cell_type": "code",
   "execution_count": 200,
   "metadata": {},
   "outputs": [],
   "source": [
    "data_24 = data_24.groupby('id_station')[\"PM10\"].rolling(24).mean().dropna().reset_index()"
   ]
  },
  {
   "cell_type": "code",
   "execution_count": 201,
   "metadata": {},
   "outputs": [],
   "source": [
    "data_24 = data_24.rename(columns={'PM10': 'PM10_mean'})#, 'PM2.5': 'PM2.5_mean'})"
   ]
  },
  {
   "cell_type": "markdown",
   "metadata": {},
   "source": [
    "## Groupbys"
   ]
  },
  {
   "cell_type": "raw",
   "metadata": {},
   "source": [
    "del data_day"
   ]
  },
  {
   "cell_type": "code",
   "execution_count": 202,
   "metadata": {},
   "outputs": [],
   "source": [
    "data_day = pd.merge(data_hora, data_24, on=[\"fecha\",\"id_station\"])"
   ]
  },
  {
   "cell_type": "code",
   "execution_count": 203,
   "metadata": {},
   "outputs": [],
   "source": [
    "data_day = data_day[data_day.id_station!=\"PED\"]\n",
    "data_day = data_day[data_day.id_station!=\"PLA\"]"
   ]
  },
  {
   "cell_type": "markdown",
   "metadata": {},
   "source": [
    "### Definamos el Timeshift"
   ]
  },
  {
   "cell_type": "markdown",
   "metadata": {},
   "source": [
    "## O3"
   ]
  },
  {
   "cell_type": "code",
   "execution_count": 1118,
   "metadata": {},
   "outputs": [],
   "source": [
    "del data_hour_merge_24"
   ]
  },
  {
   "cell_type": "code",
   "execution_count": 1119,
   "metadata": {},
   "outputs": [
    {
     "data": {
      "text/plain": [
       "Index(['CO', 'NO', 'NO2', 'NOX', 'O3', 'PM10', 'RH', 'SO2', 'TMP', 'WDR',\n",
       "       'WSP', 'dia', 'fecha', 'hora', 'id_station', 'mes', 'PM10_mean'],\n",
       "      dtype='object')"
      ]
     },
     "execution_count": 1119,
     "metadata": {},
     "output_type": "execute_result"
    }
   ],
   "source": [
    "data_day.columns"
   ]
  },
  {
   "cell_type": "code",
   "execution_count": 1120,
   "metadata": {},
   "outputs": [],
   "source": [
    "data_hour_merge_24 = data_day[['CO', 'NO', 'NO2', 'NOX', 'O3', 'PM10', 'RH', 'SO2', 'TMP',\n",
    "       'WSP', 'dia', 'fecha', 'hora', 'id_station', 'mes',\"WDR\"]].copy()\n",
    "data_hour_merge_24 = data_hour_merge_24[data_hour_merge_24.fecha > \"2015-01-01 23:00:00\"]\n",
    "data_hour_merge_24['dia'] = data_hour_merge_24['dia'].astype(str).astype(float)\n",
    "data_hour_merge_24['mes'] = data_hour_merge_24['mes'].astype(str).astype(float)"
   ]
  },
  {
   "cell_type": "raw",
   "metadata": {},
   "source": [
    "data_hour_merge_24.columns"
   ]
  },
  {
   "cell_type": "raw",
   "metadata": {},
   "source": [
    "data_hour_merge_24[\"O3\"][data_hour_merge_24.id_station==\"PLA\"].plot()"
   ]
  },
  {
   "cell_type": "raw",
   "metadata": {},
   "source": [
    "data_hour_merge_24 = data_hour_merge_24[data_hour_merge_24.id_station==\"AJM\"]"
   ]
  },
  {
   "cell_type": "raw",
   "metadata": {},
   "source": [
    "data_hour_merge_24 = data_hour_merge_24[['CO', 'NO2',  'O3', 'PM10', 'RH', 'SO2', 'TMP', 'dia', 'fecha', 'hora', 'mes']]"
   ]
  },
  {
   "cell_type": "code",
   "execution_count": 1121,
   "metadata": {},
   "outputs": [],
   "source": [
    "data_hour_merge_24[\"O3_1\"] = data_hour_merge_24.O3.shift(-1)\n",
    "data_hour_merge_24[\"O3_2\"] = data_hour_merge_24.O3.shift(-2)\n",
    "data_hour_merge_24[\"O3_3\"] = data_hour_merge_24.O3.shift(-3)\n",
    "data_hour_merge_24[\"O3_4\"] = data_hour_merge_24.O3.shift(-4)\n",
    "data_hour_merge_24[\"O3_24\"] = data_hour_merge_24.O3.shift(-13)\n",
    "data_hour_merge_24[\"O3_23\"] = data_hour_merge_24.O3.shift(-12)\n",
    "data_hour_merge_24[\"O3_22\"] = data_hour_merge_24.O3.shift(-11)\n",
    "data_hour_merge_24[\"O3_23\"] = data_hour_merge_24.O3.shift(-12)\n",
    "data_hour_merge_24[\"O3_59\"] = data_hour_merge_24.O3.shift(-48)\n",
    "data_hour_merge_24[\"O3_35\"] = data_hour_merge_24.O3.shift(-24)\n",
    "\n",
    "data_hour_merge_24[\"CO_30\"] = data_hour_merge_24.CO.shift(-19)\n",
    "data_hour_merge_24[\"CO_54\"] = data_hour_merge_24.CO.shift(-43)\n",
    "data_hour_merge_24[\"CO_54\"] = data_hour_merge_24.CO.shift(-43)\n",
    "data_hour_merge_24[\"CO_1\"] = data_hour_merge_24.CO.shift(-1)\n",
    "data_hour_merge_24[\"CO_2\"] = data_hour_merge_24.CO.shift(-2)\n",
    "data_hour_merge_24[\"CO_3\"] = data_hour_merge_24.CO.shift(-3)\n",
    "\n",
    "data_hour_merge_24[\"NO2_30\"] = data_hour_merge_24.NO2.shift(-19)\n",
    "data_hour_merge_24[\"NO2_54\"] = data_hour_merge_24.NO2.shift(-43)\n",
    "data_hour_merge_24[\"NO2_23\"] = data_hour_merge_24.NO2.shift(-12)\n",
    "data_hour_merge_24[\"NO2_1\"] = data_hour_merge_24.NO2.shift(-1)\n",
    "data_hour_merge_24[\"NO2_2\"] = data_hour_merge_24.NO2.shift(-2)\n",
    "data_hour_merge_24[\"NO2_3\"] = data_hour_merge_24.NO2.shift(-3)\n",
    "\n",
    "data_hour_merge_24[\"SO2_30\"] = data_hour_merge_24.SO2.shift(-19)\n",
    "data_hour_merge_24[\"SO2_1\"] = data_hour_merge_24.SO2.shift(-1)\n",
    "data_hour_merge_24[\"SO2_2\"] = data_hour_merge_24.SO2.shift(-2)\n",
    "data_hour_merge_24[\"SO2_3\"] = data_hour_merge_24.SO2.shift(-3)\n",
    "\n",
    "#data_hour_merge_24[\"RH_58\"] = data_hour_merge_24.RH.shift(-58)\n",
    "data_hour_merge_24[\"RH_34\"] = data_hour_merge_24.RH.shift(-23)\n",
    "data_hour_merge_24[\"RH_24\"] = data_hour_merge_24.RH.shift(-13)\n",
    "data_hour_merge_24[\"RH_23\"] = data_hour_merge_24.RH.shift(-12)\n",
    "data_hour_merge_24[\"RH_47\"] = data_hour_merge_24.RH.shift(-36)\n",
    "data_hour_merge_24[\"RH_1\"] = data_hour_merge_24.RH.shift(-1)\n",
    "data_hour_merge_24[\"RH_2\"] = data_hour_merge_24.RH.shift(-2)\n",
    "data_hour_merge_24[\"RH_3\"] = data_hour_merge_24.RH.shift(-3)\n",
    "\n",
    "data_hour_merge_24[\"TMP_24\"] = data_hour_merge_24.TMP.shift(-13)\n",
    "data_hour_merge_24[\"TMP_23\"] = data_hour_merge_24.TMP.shift(-12)\n",
    "data_hour_merge_24[\"TMP_47\"] = data_hour_merge_24.TMP.shift(-36)\n",
    "data_hour_merge_24[\"TMP_58\"] = data_hour_merge_24.TMP.shift(-47)\n",
    "data_hour_merge_24[\"TMP_34\"] = data_hour_merge_24.TMP.shift(-23)\n",
    "data_hour_merge_24[\"TMP_1\"] = data_hour_merge_24.TMP.shift(-1)\n",
    "data_hour_merge_24[\"TMP_2\"] = data_hour_merge_24.TMP.shift(-2)\n",
    "data_hour_merge_24[\"TMP_3\"] = data_hour_merge_24.TMP.shift(-3)\n",
    "\n",
    "data_hour_merge_24[\"PM10_29\"] = data_hour_merge_24.PM10.shift(-18)\n",
    "data_hour_merge_24[\"PM10_28\"] = data_hour_merge_24.PM10.shift(-17)\n",
    "data_hour_merge_24[\"PM10_52\"] = data_hour_merge_24.PM10.shift(-41)\n",
    "data_hour_merge_24[\"PM10_61\"] = data_hour_merge_24.PM10.shift(-50)\n",
    "data_hour_merge_24[\"PM10_1\"] = data_hour_merge_24.PM10.shift(-1)\n",
    "data_hour_merge_24[\"PM10_2\"] = data_hour_merge_24.PM10.shift(-2)\n",
    "data_hour_merge_24[\"PM10_3\"] = data_hour_merge_24.PM10.shift(-3)\n",
    "data_hour_merge_24[\"PM10_max_1\"] = data_hour_merge_24.O3.shift(-1)\n",
    "data_hour_merge_24[\"PM1_max_2\"] = data_hour_merge_24.O3.shift(-2)\n",
    "data_hour_merge_24[\"PM10_max_3\"] = data_hour_merge_24.O3.shift(-3)\n",
    "\n",
    "data_hour_merge_24[\"PM1_min_1\"] = data_hour_merge_24.O3.shift(-12)\n",
    "data_hour_merge_24[\"PM1_min_2\"] = data_hour_merge_24.O3.shift(-24)\n",
    "\n",
    "data_hour_merge_24[\"PM10_1\"] = data_hour_merge_24.TMP.shift(-12)\n",
    "data_hour_merge_24[\"PMPM10_2\"] = data_hour_merge_24.TMP.shift(-24)\n",
    "\n",
    "data_hour_merge_24[\"PM1_1\"] = data_hour_merge_24.TMP.shift(-12)\n",
    "data_hour_merge_24[\"PM1_2\"] = data_hour_merge_24.TMP.shift(-24)\n",
    "\n",
    "data_hour_merge_24[\"NO2_12\"] = data_hour_merge_24.NO2.shift(-12)\n",
    "data_hour_merge_24[\"NO2_24\"] = data_hour_merge_24.NO2.shift(-24)\n",
    "data_hour_merge_24[\"NO2_1\"] = data_hour_merge_24.NO2.shift(-1)\n",
    "data_hour_merge_24[\"NO2_2\"] = data_hour_merge_24.NO2.shift(-2)\n",
    "\n",
    "data_hour_merge_24[\"SO2_12\"] = data_hour_merge_24.SO2.shift(-12)\n",
    "data_hour_merge_24[\"SO2_24\"] = data_hour_merge_24.SO2.shift(-24)\n",
    "data_hour_merge_24[\"SO2_1\"] = data_hour_merge_24.SO2.shift(-1)\n",
    "data_hour_merge_24[\"SO2_2\"] = data_hour_merge_24.SO2.shift(-2)\n",
    "\n",
    "data_hour_merge_24[\"PM10_1_a\"] = data_hour_merge_24.PM10.shift(-1)\n",
    "data_hour_merge_24[\"PM10_2_a\"] = data_hour_merge_24.PM10.shift(-24)\n",
    "data_hour_merge_24[\"PM10_3_a\"] = data_hour_merge_24.PM10.shift(-3)\n",
    "data_hour_merge_24[\"PM10_4_a\"] = data_hour_merge_24.PM10.shift(-5)\n",
    "\n",
    "#data_hour_merge_24[\"PM10_2_y\"] = data_hour_merge_24.O3.shift(-2)\n",
    "#data_hour_merge_24[\"PM10_3_y\"] = data_hour_merge_24.O3.shift(-24)\n",
    "#data_hour_merge_24[\"PM10_4_y\"] = data_hour_merge_24.O3.shift(-5)\n",
    "\n",
    "data_hour_merge_24[\"PM10_1_x1\"] = data_hour_merge_24.CO.shift(-1)\n",
    "data_hour_merge_24[\"PM10_2_x1\"] = data_hour_merge_24.CO.shift(-2)\n",
    "data_hour_merge_24[\"PM10_3_x1\"] = data_hour_merge_24.CO.shift(-24)\n",
    "data_hour_merge_24[\"PM10_3_x1\"] = data_hour_merge_24.CO.shift(-10)\n",
    "data_hour_merge_24[\"PM10_4_x1\"] = data_hour_merge_24.CO.shift(-4)\n",
    "\n",
    "data_hour_merge_24[\"temp_1\"] = data_hour_merge_24.TMP.shift(-1)\n",
    "data_hour_merge_24[\"temp_24\"] = data_hour_merge_24.TMP.shift(-24)\n",
    "#data_hour_merge_24[\"pre_24\"] = data_hour_merge_24.PA.shift(-1)\n",
    "data_hour_merge_24[\"RH_24\"] = data_hour_merge_24.RH.shift(-1)\n",
    "data_hour_merge_24[\"RH_24_2\"] = data_hour_merge_24.RH.shift(-12)\n",
    "\n",
    "data_hour_merge_24[\"RH_24\"] = data_hour_merge_24.RH.shift(-24)\n",
    "data_hour_merge_24[\"RH_24_2\"] = data_hour_merge_24.RH.shift(-11)\n",
    "\n",
    "data_hour_merge_24[\"WSP13\"] = data_hour_merge_24.WSP.shift(-24)\n",
    "data_hour_merge_24[\"WSP12\"] = data_hour_merge_24.WSP.shift(-12)\n",
    "data_hour_merge_24[\"WSP11\"] = data_hour_merge_24.WSP.shift(-11)\n",
    "data_hour_merge_24[\"WSP10\"] = data_hour_merge_24.WSP.shift(-10)\n",
    "data_hour_merge_24[\"WSP9\"] = data_hour_merge_24.WSP.shift(-9)\n",
    "data_hour_merge_24[\"WSP8\"] = data_hour_merge_24.WSP.shift(-8)\n",
    "data_hour_merge_24[\"WSP7\"] = data_hour_merge_24.WSP.shift(-7)\n",
    "data_hour_merge_24[\"WSP6\"] = data_hour_merge_24.WSP.shift(-6)\n",
    "data_hour_merge_24[\"WSP5\"] = data_hour_merge_24.WSP.shift(-5)\n",
    "data_hour_merge_24[\"WSP4\"] = data_hour_merge_24.WSP.shift(-4)\n",
    "data_hour_merge_24[\"WSP3\"] = data_hour_merge_24.WSP.shift(-3)\n",
    "data_hour_merge_24[\"WSP2\"] = data_hour_merge_24.WSP.shift(-2)\n",
    "data_hour_merge_24[\"WSP1\"] = data_hour_merge_24.WSP.shift(-1)\n",
    "\n",
    "#data_hour_merge_24[\"UVB_x_1\"] = data_hour_merge_24.UVB.shift(-1)\n",
    "#data_hour_merge_24[\"UVB_x_2\"] = data_hour_merge_24.PA.shift(-12)\n",
    "#data_hour_merge_24[\"UVB_y_1\"] = data_hour_merge_24.UVB.shift(-1)\n",
    "#data_hour_merge_24[\"UVB_y_2\"] = data_hour_merge_24.PA.shift(-24)"
   ]
  },
  {
   "cell_type": "code",
   "execution_count": 1122,
   "metadata": {},
   "outputs": [],
   "source": [
    "data_hour_merge_24 = data_hour_merge_24.dropna(how='any').copy()"
   ]
  },
  {
   "cell_type": "markdown",
   "metadata": {},
   "source": [
    "Facores Principales"
   ]
  },
  {
   "cell_type": "code",
   "execution_count": 1123,
   "metadata": {},
   "outputs": [],
   "source": [
    "test = data_hour_merge_24[data_hour_merge_24.hora == 15]"
   ]
  },
  {
   "cell_type": "code",
   "execution_count": 1124,
   "metadata": {},
   "outputs": [],
   "source": [
    "corr = test.corr()"
   ]
  },
  {
   "cell_type": "code",
   "execution_count": 1125,
   "metadata": {},
   "outputs": [],
   "source": [
    "list_corrs = corr[\"O3\"][(corr[\"O3\"]> 0.11) | (corr[\"O3\"]<-0.11)].index.tolist()"
   ]
  },
  {
   "cell_type": "code",
   "execution_count": 1126,
   "metadata": {},
   "outputs": [],
   "source": [
    "list_corrs.append(\"fecha\")\n",
    "list_corrs.append(\"hora\")"
   ]
  },
  {
   "cell_type": "code",
   "execution_count": 1127,
   "metadata": {},
   "outputs": [],
   "source": [
    "data_hour_corr = data_hour_merge_24[list_corrs]"
   ]
  },
  {
   "cell_type": "code",
   "execution_count": 1128,
   "metadata": {},
   "outputs": [],
   "source": [
    "list_corrs.remove(\"fecha\")"
   ]
  },
  {
   "cell_type": "markdown",
   "metadata": {},
   "source": [
    "## Groupbys"
   ]
  },
  {
   "cell_type": "code",
   "execution_count": 1129,
   "metadata": {},
   "outputs": [],
   "source": [
    "cols = data_hour_merge_24.columns"
   ]
  },
  {
   "cell_type": "code",
   "execution_count": 1130,
   "metadata": {},
   "outputs": [],
   "source": [
    "data_hour_merge_24_mean = data_hour_corr.groupby(['fecha'])[list_corrs].mean()\n",
    "data_hour_merge_24_mean.reset_index(inplace=True)"
   ]
  },
  {
   "cell_type": "code",
   "execution_count": 1131,
   "metadata": {},
   "outputs": [],
   "source": [
    "data_hour_merge_24_max = data_hour_merge_24.groupby(['fecha'])[list_corrs].max()\n",
    "data_hour_merge_24_max.reset_index(inplace=True)"
   ]
  },
  {
   "cell_type": "code",
   "execution_count": 1132,
   "metadata": {},
   "outputs": [],
   "source": [
    "data_hour_merge_24_min = data_hour_merge_24.groupby(['fecha'])[list_corrs].min()\n",
    "data_hour_merge_24_min.reset_index(inplace=True)"
   ]
  },
  {
   "cell_type": "markdown",
   "metadata": {},
   "source": [
    "### Factores Principales"
   ]
  },
  {
   "cell_type": "code",
   "execution_count": 1358,
   "metadata": {},
   "outputs": [],
   "source": [
    "del data_hour_merge"
   ]
  },
  {
   "cell_type": "code",
   "execution_count": 1359,
   "metadata": {},
   "outputs": [],
   "source": [
    "data_hour_merge = pd.merge(data_hour_merge_24_mean, data_hour_merge_24_max, on=[\"fecha\"])\n",
    "data_hour_merge = pd.merge(data_hour_merge, data_hour_merge_24_min, on=[\"fecha\"])"
   ]
  },
  {
   "cell_type": "raw",
   "metadata": {},
   "source": [
    "data_hour_merge0 = pd.merge(data_hour_merge_24_mean, data_hour_merge_24_max, on=[\"fecha\"])\n",
    "data_hour_merge1 = pd.merge(data_hour_merge_24_quant, data_hour_merge_24_quant9, on=[\"fecha\"])\n",
    "data_hour_merge = pd.merge(data_hour_merge0, data_hour_merge1, on=[\"fecha\"])\n",
    "data_hour_merge = pd.merge(data_hour_merge, data_hour_merge_24_min, on=[\"fecha\"])"
   ]
  },
  {
   "cell_type": "code",
   "execution_count": 1360,
   "metadata": {},
   "outputs": [],
   "source": [
    "data_hour_merge[\"O3forecast_13\"] = data_hour_merge.O3_y.shift(24)"
   ]
  },
  {
   "cell_type": "code",
   "execution_count": 1361,
   "metadata": {},
   "outputs": [],
   "source": [
    "data_hour_merge[\"TMPforecast_13\"] = data_hour_merge.TMP.shift(24)\n",
    "data_hour_merge[\"TMPforecast_12\"] = data_hour_merge.TMP.shift(12)\n",
    "data_hour_merge[\"TMPforecast_11\"] = data_hour_merge.TMP.shift(11)\n",
    "data_hour_merge[\"TMPforecast_10\"] = data_hour_merge.TMP.shift(10)\n",
    "data_hour_merge[\"TMPforecast_9\"] = data_hour_merge.TMP.shift(9)\n",
    "data_hour_merge[\"TMPforecast_8\"] = data_hour_merge.TMP.shift(8)\n",
    "data_hour_merge[\"TMPforecast_7\"] = data_hour_merge.TMP.shift(7)\n",
    "data_hour_merge[\"TMPforecast_6\"] = data_hour_merge.TMP.shift(6)\n",
    "data_hour_merge[\"TMPforecast_5\"] = data_hour_merge.TMP.shift(5)\n",
    "data_hour_merge[\"TMPforecast_4\"] = data_hour_merge.TMP.shift(4)\n",
    "data_hour_merge[\"TMPforecast_3\"] = data_hour_merge.TMP.shift(3)\n",
    "data_hour_merge[\"TMPforecast_2\"] = data_hour_merge.TMP.shift(2)\n",
    "data_hour_merge[\"TMPforecast_1\"] = data_hour_merge.TMP.shift(1)\n",
    "\n",
    "data_hour_merge[\"WSPforecast_13\"] = data_hour_merge.WSP.shift(24)\n",
    "data_hour_merge[\"WSPforecast_12\"] = data_hour_merge.WSP.shift(12)\n",
    "data_hour_merge[\"WSPforecast_11\"] = data_hour_merge.WSP.shift(11)\n",
    "data_hour_merge[\"WSPforecast_10\"] = data_hour_merge.WSP.shift(10)\n",
    "data_hour_merge[\"WSPforecast_9\"] = data_hour_merge.WSP.shift(9)\n",
    "data_hour_merge[\"WSPforecast_8\"] = data_hour_merge.WSP.shift(8)\n",
    "data_hour_merge[\"WSPforecast_7\"] = data_hour_merge.WSP.shift(7)\n",
    "data_hour_merge[\"WSPforecast_6\"] = data_hour_merge.WSP.shift(6)\n",
    "data_hour_merge[\"WSPforecast_5\"] = data_hour_merge.WSP.shift(5)\n",
    "data_hour_merge[\"WSPforecast_4\"] = data_hour_merge.WSP.shift(4)\n",
    "data_hour_merge[\"WSPforecast_3\"] = data_hour_merge.WSP.shift(3)\n",
    "data_hour_merge[\"WSPforecast_2\"] = data_hour_merge.WSP.shift(2)\n",
    "data_hour_merge[\"WSPforecast_1\"] = data_hour_merge.WSP.shift(1)\n",
    "\n",
    "data_hour_merge[\"RHforecast_13\"] = data_hour_merge.RH.shift(24)\n",
    "data_hour_merge[\"RHforecast_12\"] = data_hour_merge.RH.shift(12)\n",
    "data_hour_merge[\"RHforecast_11\"] = data_hour_merge.RH.shift(11)\n",
    "data_hour_merge[\"RHforecast_10\"] = data_hour_merge.RH.shift(10)\n",
    "data_hour_merge[\"RHforecast_9\"] = data_hour_merge.RH.shift(9)\n",
    "data_hour_merge[\"RHforecast_8\"] = data_hour_merge.RH.shift(8)\n",
    "data_hour_merge[\"RHforecast_7\"] = data_hour_merge.RH.shift(7)\n",
    "data_hour_merge[\"RHforecast_6\"] = data_hour_merge.RH.shift(6)\n",
    "data_hour_merge[\"RHforecast_5\"] = data_hour_merge.RH.shift(5)\n",
    "data_hour_merge[\"RHforecast_4\"] = data_hour_merge.RH.shift(4)\n",
    "data_hour_merge[\"RHforecast_3\"] = data_hour_merge.RH.shift(3)\n",
    "data_hour_merge[\"RHforecast_2\"] = data_hour_merge.RH.shift(2)\n",
    "data_hour_merge[\"RHforecast_1\"] = data_hour_merge.RH.shift(1)"
   ]
  },
  {
   "cell_type": "code",
   "execution_count": 1362,
   "metadata": {},
   "outputs": [],
   "source": [
    "lista = [\"O3forecast_13\",'O3forecast_12', 'O3forecast_11', 'O3forecast_10',\n",
    "       'O3forecast_9', 'O3forecast_8', 'O3forecast_7', 'O3forecast_6',\n",
    "       'O3forecast_5', 'O3forecast_4', 'O3forecast_3', 'O3forecast_2',\n",
    "       'O3forecast_1']"
   ]
  },
  {
   "cell_type": "raw",
   "metadata": {},
   "source": [
    "test = data_hour_merge[data_hour_merge.hora_x==6]"
   ]
  },
  {
   "cell_type": "code",
   "execution_count": 1363,
   "metadata": {},
   "outputs": [],
   "source": [
    "corr_1 = data_hour_merge.corr()"
   ]
  },
  {
   "cell_type": "code",
   "execution_count": 1364,
   "metadata": {},
   "outputs": [],
   "source": [
    "list_corrs = corr_1[\"O3forecast_13\"][(corr_1[\"O3forecast_13\"]> 0.1) | (corr_1[\"O3forecast_13\"]<-0.1)].index.tolist()"
   ]
  },
  {
   "cell_type": "code",
   "execution_count": 1365,
   "metadata": {},
   "outputs": [],
   "source": [
    "list_corrs.append(\"hora\")"
   ]
  },
  {
   "cell_type": "raw",
   "metadata": {},
   "source": [
    "\n",
    "for i in range(10):\n",
    "    name = \"O3forecast_\"+str(i)\n",
    "    data_hour_merge[name] =  data_hour_merge.O3_y.shift(i)"
   ]
  },
  {
   "cell_type": "code",
   "execution_count": 1366,
   "metadata": {},
   "outputs": [],
   "source": [
    "data_hour_merge[\"O3forecast_12\"] = data_hour_merge.O3_y.shift(12)\n",
    "data_hour_merge[\"O3forecast_11\"] = data_hour_merge.O3_y.shift(11)\n",
    "data_hour_merge[\"O3forecast_10\"] = data_hour_merge.O3_y.shift(10)\n",
    "data_hour_merge[\"O3forecast_9\"] = data_hour_merge.O3_y.shift(9)\n",
    "data_hour_merge[\"O3forecast_8\"] = data_hour_merge.O3_y.shift(8)\n",
    "data_hour_merge[\"O3forecast_7\"] = data_hour_merge.O3_y.shift(7)\n",
    "data_hour_merge[\"O3forecast_6\"] = data_hour_merge.O3_y.shift(6)\n",
    "data_hour_merge[\"O3forecast_5\"] = data_hour_merge.O3_y.shift(5)\n",
    "data_hour_merge[\"O3forecast_4\"] = data_hour_merge.O3_y.shift(4)\n",
    "data_hour_merge[\"O3forecast_3\"] = data_hour_merge.O3_y.shift(3)\n",
    "data_hour_merge[\"O3forecast_2\"] = data_hour_merge.O3_y.shift(2)\n",
    "data_hour_merge[\"O3forecast_1\"] = data_hour_merge.O3_y.shift(1)"
   ]
  },
  {
   "cell_type": "code",
   "execution_count": 1367,
   "metadata": {},
   "outputs": [],
   "source": [
    "data_hour_merge = data_hour_merge[list(set(list_corrs+lista))]"
   ]
  },
  {
   "cell_type": "code",
   "execution_count": 1368,
   "metadata": {},
   "outputs": [],
   "source": [
    "data_hour_merge = data_hour_merge.copy()"
   ]
  },
  {
   "cell_type": "raw",
   "metadata": {},
   "source": [
    "data_hour_merge[\"O3forecast_12\"] = data_hour_merge.O3.shift(12)\n",
    "data_hour_merge[\"O3forecast_11\"] = data_hour_merge.O3.shift(11)\n",
    "data_hour_merge[\"O3forecast_10\"] = data_hour_merge.O3.shift(10)\n",
    "data_hour_merge[\"O3forecast_9\"] = data_hour_merge.O3.shift(9)\n",
    "data_hour_merge[\"O3forecast_8\"] = data_hour_merge.O3.shift(8)\n",
    "data_hour_merge[\"O3forecast_7\"] = data_hour_merge.O3.shift(7)\n",
    "data_hour_merge[\"O3forecast_6\"] = data_hour_merge.O3.shift(6)\n",
    "data_hour_merge[\"O3forecast_5\"] = data_hour_merge.O3.shift(5)\n",
    "data_hour_merge[\"O3forecast_4\"] = data_hour_merge.O3.shift(4)\n",
    "data_hour_merge[\"O3forecast_3\"] = data_hour_merge.O3.shift(3)\n",
    "data_hour_merge[\"O3forecast_2\"] = data_hour_merge.O3.shift(2)\n",
    "data_hour_merge[\"O3forecast_1\"] = data_hour_merge.O3.shift(1)"
   ]
  },
  {
   "cell_type": "code",
   "execution_count": 1369,
   "metadata": {},
   "outputs": [],
   "source": [
    "data_hour_merge = data_hour_merge.dropna(how='any')"
   ]
  },
  {
   "cell_type": "code",
   "execution_count": 1370,
   "metadata": {},
   "outputs": [],
   "source": [
    "#data_hour_merge.drop([\"fecha\"],axis=1,inplace=True)"
   ]
  },
  {
   "cell_type": "code",
   "execution_count": 1371,
   "metadata": {},
   "outputs": [],
   "source": [
    "data_hour_merge = data_hour_merge[(data_hour_merge.hora==15)|(data_hour_merge.hora==16)|(data_hour_merge.hora==17)|(data_hour_merge.hora==18)|\n",
    "                                  (data_hour_merge.hora==19)|(data_hour_merge.hora==20)|(data_hour_merge.hora==14)]"
   ]
  },
  {
   "cell_type": "code",
   "execution_count": 1372,
   "metadata": {},
   "outputs": [
    {
     "data": {
      "text/plain": [
       "(10842, 231)"
      ]
     },
     "execution_count": 1372,
     "metadata": {},
     "output_type": "execute_result"
    }
   ],
   "source": [
    "data_hour_merge.shape"
   ]
  },
  {
   "cell_type": "markdown",
   "metadata": {},
   "source": [
    "# Regresiónes"
   ]
  },
  {
   "cell_type": "markdown",
   "metadata": {},
   "source": [
    "### Normalizamos el DS"
   ]
  },
  {
   "cell_type": "raw",
   "metadata": {},
   "source": [
    " lista = ['O3forecast_13','O3forecast_12', 'O3forecast_11', 'O3forecast_10',\n",
    "       'O3forecast_9', 'O3forecast_8', 'O3forecast_7', 'O3forecast_6',\n",
    "       'O3forecast_5', 'O3forecast_4', 'O3forecast_3', 'O3forecast_2',\n",
    "       'O3forecast_1']"
   ]
  },
  {
   "cell_type": "code",
   "execution_count": 1373,
   "metadata": {},
   "outputs": [],
   "source": [
    "lista = lista[::-1]"
   ]
  },
  {
   "cell_type": "markdown",
   "metadata": {},
   "source": [
    "### Definimos los conjuntos Train and Test<a class=\"anchor\" id=\"5-bullet\"></a>"
   ]
  },
  {
   "cell_type": "code",
   "execution_count": 1374,
   "metadata": {},
   "outputs": [],
   "source": [
    "hora = 1"
   ]
  },
  {
   "cell_type": "code",
   "execution_count": 1375,
   "metadata": {},
   "outputs": [],
   "source": [
    "dataset= data_hour_merge.copy()\n",
    "#dataset.drop([\"fecha\"],axis=1,inplace=True)\n",
    "dataset.dropna(inplace=True)"
   ]
  },
  {
   "cell_type": "code",
   "execution_count": 1376,
   "metadata": {},
   "outputs": [],
   "source": [
    "X = dataset.loc[:, dataset.columns != str('O3forecast_'+str(hora))]\n",
    "y = dataset[str('O3forecast_'+str(hora))]"
   ]
  },
  {
   "cell_type": "code",
   "execution_count": 1377,
   "metadata": {},
   "outputs": [],
   "source": [
    "X.drop(lista[hora:],axis=1,inplace=True)\n",
    "if hora != 1:\n",
    "    X.drop(lista[:hora-1],axis=1,inplace=True)\n",
    "#X =  pd.DataFrame(scaler1.fit_transform(X),columns=X.columns)\n",
    "#y =  pd.DataFrame(scaler2.fit_transform(pd.DataFrame(y)),columns=['O3_+11_y'])\n",
    "X_train, X_test, y_train, y_test = train_test_split(X, y, test_size=0.3, random_state=123)"
   ]
  },
  {
   "cell_type": "raw",
   "metadata": {},
   "source": [
    "dataset =  pd.DataFrame(scaler1.fit_transform(X),columns=X.columns)"
   ]
  },
  {
   "cell_type": "raw",
   "metadata": {},
   "source": [
    "pd.DataFrame(scaler2.inverse_transform(pd.DataFrame(y_train)),columns=[\"O3_11_forecast\"]);"
   ]
  },
  {
   "cell_type": "markdown",
   "metadata": {},
   "source": [
    "## Neural Network Regression"
   ]
  },
  {
   "cell_type": "code",
   "execution_count": 1378,
   "metadata": {},
   "outputs": [],
   "source": [
    "from sklearn.neural_network import MLPRegressor\n",
    "from sklearn.metrics import mean_squared_error, mean_absolute_error, r2_score\n",
    "# Create MLPRegressor object\n",
    "\n",
    "mlp = MLPRegressor()#max_iter=1000,alpha=0.001, epsilon=.01 ,tol=.00001,learning_rate_init=.03)"
   ]
  },
  {
   "cell_type": "code",
   "execution_count": 1379,
   "metadata": {},
   "outputs": [
    {
     "data": {
      "text/plain": [
       "MLPRegressor(activation='relu', alpha=0.0001, batch_size='auto', beta_1=0.9,\n",
       "       beta_2=0.999, early_stopping=False, epsilon=1e-08,\n",
       "       hidden_layer_sizes=(100,), learning_rate='constant',\n",
       "       learning_rate_init=0.001, max_iter=200, momentum=0.9,\n",
       "       nesterovs_momentum=True, power_t=0.5, random_state=None,\n",
       "       shuffle=True, solver='adam', tol=0.0001, validation_fraction=0.1,\n",
       "       verbose=False, warm_start=False)"
      ]
     },
     "execution_count": 1379,
     "metadata": {},
     "output_type": "execute_result"
    }
   ],
   "source": [
    "mlp.fit(X_train, y_train)"
   ]
  },
  {
   "cell_type": "code",
   "execution_count": 1380,
   "metadata": {},
   "outputs": [],
   "source": [
    "nnr_pred = mlp.predict(X_test)"
   ]
  },
  {
   "cell_type": "code",
   "execution_count": 1381,
   "metadata": {},
   "outputs": [
    {
     "data": {
      "image/png": "[encoded data removed]",
      "text/plain": [
       "<Figure size 432x288 with 1 Axes>"
      ]
     },
     "metadata": {},
     "output_type": "display_data"
    }
   ],
   "source": [
    "plt.scatter(y_test, nnr_pred,color='brown')\n",
    "plt.xlabel('Measured')\n",
    "plt.ylabel('Predicted')\n",
    "plt.title('Neural Network Regression Predicted vs Actual')\n",
    "plt.show()"
   ]
  },
  {
   "cell_type": "code",
   "execution_count": 1382,
   "metadata": {},
   "outputs": [
    {
     "data": {
      "text/plain": [
       "0.8851702400969581"
      ]
     },
     "execution_count": 1382,
     "metadata": {},
     "output_type": "execute_result"
    }
   ],
   "source": [
    "xgb_score = mlp.score(X_test, y_test)\n",
    "xgb_score"
   ]
  },
  {
   "cell_type": "code",
   "execution_count": 1313,
   "metadata": {},
   "outputs": [],
   "source": [
    "from joblib import dump, load"
   ]
  },
  {
   "cell_type": "raw",
   "metadata": {},
   "source": [
    "import pickle\n",
    "# save the classifier\n",
    "with open(str( '/home/paw/DanielBustillos/Modelos/ANN_'+str(hora)+'.pkl'), 'wb') as fid:\n",
    "    pickle.dump(mlp, fid)    "
   ]
  },
  {
   "cell_type": "raw",
   "metadata": {},
   "source": [
    "# load it again\n",
    "with open(str( '/home/paw/DanielBustillos/Modelos/ANN_'+str(hora)+'.pkl'), 'rb') as fid:\n",
    "    clf_7 = pickle.load(fid)"
   ]
  },
  {
   "cell_type": "code",
   "execution_count": 1314,
   "metadata": {},
   "outputs": [
    {
     "data": {
      "text/plain": [
       "['/home/paw/DanielBustillos/Modelos/ANN_1.joblib']"
      ]
     },
     "execution_count": 1314,
     "metadata": {},
     "output_type": "execute_result"
    }
   ],
   "source": [
    "dump(mlp,str( '/home/paw/DanielBustillos/Modelos/ANN_'+str(hora)+'.joblib'))"
   ]
  },
  {
   "cell_type": "code",
   "execution_count": 1315,
   "metadata": {},
   "outputs": [
    {
     "ename": "NameError",
     "evalue": "name 'clf_7' is not defined",
     "output_type": "error",
     "traceback": [
      "\u001b[0;31m---------------------------------------------------------------------------\u001b[0m",
      "\u001b[0;31mNameError\u001b[0m                                 Traceback (most recent call last)",
      "\u001b[0;32m<ipython-input-1315-e4c7485f9eb6>\u001b[0m in \u001b[0;36m<module>\u001b[0;34m()\u001b[0m\n\u001b[0;32m----> 1\u001b[0;31m \u001b[0mclf_7\u001b[0m\u001b[0;34m\u001b[0m\u001b[0m\n\u001b[0m",
      "\u001b[0;31mNameError\u001b[0m: name 'clf_7' is not defined"
     ]
    }
   ],
   "source": [
    "clf_7"
   ]
  },
  {
   "cell_type": "code",
   "execution_count": 1022,
   "metadata": {},
   "outputs": [],
   "source": [
    "clf_12 = load('/home/paw/DanielBustillos/Modelos/ANN_12.joblib') \n",
    "clf_11 = load('/home/paw/DanielBustillos/Modelos/ANN_11.joblib') \n",
    "clf_10 = load('/home/paw/DanielBustillos/Modelos/ANN_10.joblib') \n",
    "clf_9 = load('/home/paw/DanielBustillos/Modelos/ANN_9.joblib') \n",
    "clf_8 = load('/home/paw/DanielBustillos/Modelos/ANN_8.joblib') \n",
    "clf_7 = load('/home/paw/DanielBustillos/Modelos/ANN_7.joblib') \n",
    "clf_6 = load('/home/paw/DanielBustillos/Modelos/ANN_6.joblib') \n",
    "clf_5 = load('/home/paw/DanielBustillos/Modelos/ANN_5.joblib') \n",
    "clf_4 = load('/home/paw/DanielBustillos/Modelos/ANN_4.joblib') \n",
    "clf_3 = load('/home/paw/DanielBustillos/Modelos/ANN_3.joblib') \n",
    "clf_2 = load('/home/paw/DanielBustillos/Modelos/ANN_2.joblib') \n",
    "clf_1 = load('/home/paw/DanielBustillos/Modelos/ANN_1.joblib') "
   ]
  },
  {
   "cell_type": "code",
   "execution_count": 528,
   "metadata": {},
   "outputs": [],
   "source": [
    "X_test =X_test.iloc[10:20,:]"
   ]
  },
  {
   "cell_type": "code",
   "execution_count": 530,
   "metadata": {},
   "outputs": [],
   "source": [
    "pred_1 = clf_1.predict(X_test.head(1))\n",
    "pred_2 = clf_2.predict(X_test.head(1))\n",
    "pred_3 = clf_3.predict(X_test.head(1))\n",
    "pred_4 = clf_4.predict(X_test.head(1))\n",
    "pred_5 = clf_5.predict(X_test.head(1))\n",
    "pred_6 = clf_6.predict(X_test.head(1))\n",
    "pred_7 = clf_7.predict(X_test.head(1))\n",
    "pred_8 = clf_8.predict(X_test.head(1))\n",
    "pred_9 = clf_9.predict(X_test.head(1))\n",
    "pred_10 = clf_10.predict(X_test.head(1))\n",
    "pred_11 = clf_11.predict(X_test.head(1))\n",
    "pred_12 = clf_12.predict(X_test.head(1))"
   ]
  },
  {
   "cell_type": "code",
   "execution_count": 531,
   "metadata": {},
   "outputs": [],
   "source": [
    "pred =  pd.DataFrame(columns=[\"pred_1\"])"
   ]
  },
  {
   "cell_type": "code",
   "execution_count": 532,
   "metadata": {},
   "outputs": [],
   "source": [
    "    df_pred =  pd.DataFrame(columns=[\"pred_1\"])\n",
    "    df_pred[\"pred_1\"] = pred_1\n",
    "    df_pred[\"pred_2\"] = pred_2\n",
    "    df_pred[\"pred_3\"] = pred_3\n",
    "    df_pred[\"pred_4\"] = pred_4\n",
    "    df_pred[\"pred_5\"] = pred_5\n",
    "    df_pred[\"pred_6\"] = pred_6\n",
    "    df_pred[\"pred_7\"] = pred_7\n",
    "    df_pred[\"pred_8\"] = pred_8\n",
    "    df_pred[\"pred_9\"] = pred_9\n",
    "    df_pred[\"pred_10\"] = pred_10\n",
    "    df_pred[\"pred_11\"] = pred_11\n",
    "    df_pred[\"pred_12\"] = pred_12"
   ]
  },
  {
   "cell_type": "code",
   "execution_count": 533,
   "metadata": {},
   "outputs": [
    {
     "data": {
      "text/html": [
       "<div>\n",
       "<style scoped>\n",
       "    .dataframe tbody tr th:only-of-type {\n",
       "        vertical-align: middle;\n",
       "    }\n",
       "\n",
       "    .dataframe tbody tr th {\n",
       "        vertical-align: top;\n",
       "    }\n",
       "\n",
       "    .dataframe thead th {\n",
       "        text-align: right;\n",
       "    }\n",
       "</style>\n",
       "<table border=\"1\" class=\"dataframe\">\n",
       "  <thead>\n",
       "    <tr style=\"text-align: right;\">\n",
       "      <th></th>\n",
       "      <th>pred_1</th>\n",
       "      <th>pred_2</th>\n",
       "      <th>pred_3</th>\n",
       "      <th>pred_4</th>\n",
       "      <th>pred_5</th>\n",
       "      <th>pred_6</th>\n",
       "      <th>pred_7</th>\n",
       "      <th>pred_8</th>\n",
       "      <th>pred_9</th>\n",
       "      <th>pred_10</th>\n",
       "      <th>pred_11</th>\n",
       "      <th>pred_12</th>\n",
       "    </tr>\n",
       "  </thead>\n",
       "  <tbody>\n",
       "    <tr>\n",
       "      <th>0</th>\n",
       "      <td>54.957937</td>\n",
       "      <td>51.781566</td>\n",
       "      <td>57.165241</td>\n",
       "      <td>74.372459</td>\n",
       "      <td>90.542445</td>\n",
       "      <td>98.629053</td>\n",
       "      <td>89.717011</td>\n",
       "      <td>86.063499</td>\n",
       "      <td>71.769331</td>\n",
       "      <td>43.592133</td>\n",
       "      <td>30.518401</td>\n",
       "      <td>26.412203</td>\n",
       "    </tr>\n",
       "  </tbody>\n",
       "</table>\n",
       "</div>"
      ],
      "text/plain": [
       "      pred_1     pred_2     pred_3     pred_4     pred_5     pred_6  \\\n",
       "0  54.957937  51.781566  57.165241  74.372459  90.542445  98.629053   \n",
       "\n",
       "      pred_7     pred_8     pred_9    pred_10    pred_11    pred_12  \n",
       "0  89.717011  86.063499  71.769331  43.592133  30.518401  26.412203  "
      ]
     },
     "execution_count": 533,
     "metadata": {},
     "output_type": "execute_result"
    }
   ],
   "source": [
    "df_pred"
   ]
  },
  {
   "cell_type": "markdown",
   "metadata": {},
   "source": [
    "## Linear"
   ]
  },
  {
   "cell_type": "code",
   "execution_count": 1383,
   "metadata": {},
   "outputs": [],
   "source": [
    "from sklearn.linear_model import LinearRegression\n",
    "from sklearn.metrics import mean_squared_error, mean_absolute_error, r2_score\n",
    "\n",
    "# Create linear regression object\n",
    "regr = LinearRegression(fit_intercept=False, n_jobs=3)"
   ]
  },
  {
   "cell_type": "code",
   "execution_count": 1384,
   "metadata": {},
   "outputs": [
    {
     "data": {
      "text/plain": [
       "LinearRegression(copy_X=True, fit_intercept=False, n_jobs=3, normalize=False)"
      ]
     },
     "execution_count": 1384,
     "metadata": {},
     "output_type": "execute_result"
    }
   ],
   "source": [
    "regr.fit(X_train, y_train)"
   ]
  },
  {
   "cell_type": "code",
   "execution_count": 1385,
   "metadata": {},
   "outputs": [],
   "source": [
    "# Make predictions using the testing set\n",
    "lin_pred = regr.predict(X_test)"
   ]
  },
  {
   "cell_type": "raw",
   "metadata": {},
   "source": [
    "lin_pred = pd.DataFrame(scaler2.inverse_transform(pd.DataFrame(lin_pred)),columns=[\"O3_11_forecast\"]);\n",
    "y_test_1 = pd.DataFrame(scaler2.inverse_transform(pd.DataFrame(y_test)),columns=[\"O3_11_forecast\"]);\n",
    "plt.scatter(y_test_1, lin_pred)\n",
    "plt.xlabel('Measured')\n",
    "plt.ylabel('Predicted')\n",
    "plt.title('Linear Regression Predicted vs Actual')\n",
    "plt.show()"
   ]
  },
  {
   "cell_type": "code",
   "execution_count": 1386,
   "metadata": {},
   "outputs": [
    {
     "data": {
      "image/png": "[encoded data removed]",
      "text/plain": [
       "<Figure size 432x288 with 1 Axes>"
      ]
     },
     "metadata": {},
     "output_type": "display_data"
    }
   ],
   "source": [
    "plt.scatter(y_test, lin_pred)\n",
    "plt.xlabel('Measured')\n",
    "plt.ylabel('Predicted')\n",
    "plt.title('Linear Regression Predicted vs Actual')\n",
    "plt.show()"
   ]
  },
  {
   "cell_type": "code",
   "execution_count": 1387,
   "metadata": {},
   "outputs": [
    {
     "data": {
      "text/plain": [
       "0.8876309884677099"
      ]
     },
     "execution_count": 1387,
     "metadata": {},
     "output_type": "execute_result"
    }
   ],
   "source": [
    "regr.score(X_test, y_test)"
   ]
  },
  {
   "cell_type": "code",
   "execution_count": 360,
   "metadata": {},
   "outputs": [],
   "source": [
    "coefficients = pd.concat([pd.DataFrame(X.columns),pd.DataFrame(np.transpose(regr.coef_))], axis = 1)"
   ]
  },
  {
   "cell_type": "code",
   "execution_count": 1676,
   "metadata": {},
   "outputs": [],
   "source": [
    "coefficients[\"values\"] = coefficients.iloc[:,1]"
   ]
  },
  {
   "cell_type": "raw",
   "metadata": {},
   "source": [
    "ax1 = data_hour_merge.plot(x='fecha', y='O3forecast_11',color='r')\n",
    "data_predict.plot(x='fecha', y='O3_pred',color='orange',ax=ax1)\n",
    "data_hour_merge.plot(x='fecha', y='TMP_x',color='blue',ax=ax1)\n",
    "\n",
    "plt.show()"
   ]
  },
  {
   "cell_type": "markdown",
   "metadata": {},
   "source": [
    "# XGBoost"
   ]
  },
  {
   "cell_type": "code",
   "execution_count": 1388,
   "metadata": {},
   "outputs": [],
   "source": [
    "from xgboost.sklearn import XGBRegressor"
   ]
  },
  {
   "cell_type": "code",
   "execution_count": 1389,
   "metadata": {},
   "outputs": [],
   "source": [
    "xboost = XGBRegressor(silent=False, \n",
    "                      scale_pos_weight=1,\n",
    "                      learning_rate=0.01,  \n",
    "                      colsample_bytree = 1,\n",
    "                      subsample = .2,\n",
    "                      min_child_weight =1,\n",
    "                      n_estimators=1300, #2000\n",
    "                      reg_alpha = 1,\n",
    "                      max_depth=2, \n",
    "                      gamma=0.1,njobs=64)#n_estimators=100, max_depth=20,learning_rate =.1,base_score=0.000003)"
   ]
  },
  {
   "cell_type": "code",
   "execution_count": 1390,
   "metadata": {},
   "outputs": [],
   "source": [
    "xboost = XGBRegressor( learning_rate=0.2,loss=\"deviance\",n_estimators=1000,n_jobs=64)"
   ]
  },
  {
   "cell_type": "code",
   "execution_count": 1391,
   "metadata": {},
   "outputs": [
    {
     "name": "stderr",
     "output_type": "stream",
     "text": [
      "/home/paw/anaconda3/lib/python3.6/site-packages/xgboost/core.py:587: FutureWarning: Series.base is deprecated and will be removed in a future version\n",
      "  if getattr(data, 'base', None) is not None and \\\n"
     ]
    },
    {
     "data": {
      "text/plain": [
       "XGBRegressor(base_score=0.5, booster='gbtree', colsample_bylevel=1,\n",
       "       colsample_bytree=1, gamma=0, importance_type='gain',\n",
       "       learning_rate=0.2, loss='deviance', max_delta_step=0, max_depth=3,\n",
       "       min_child_weight=1, missing=None, n_estimators=1000, n_jobs=64,\n",
       "       nthread=None, objective='reg:linear', random_state=0, reg_alpha=0,\n",
       "       reg_lambda=1, scale_pos_weight=1, seed=None, silent=True,\n",
       "       subsample=1)"
      ]
     },
     "execution_count": 1391,
     "metadata": {},
     "output_type": "execute_result"
    }
   ],
   "source": [
    "xboost.fit(X_train, y_train)"
   ]
  },
  {
   "cell_type": "code",
   "execution_count": 1392,
   "metadata": {},
   "outputs": [],
   "source": [
    "xgb_score = xboost.score(X_test, y_test)"
   ]
  },
  {
   "cell_type": "code",
   "execution_count": 1393,
   "metadata": {},
   "outputs": [],
   "source": [
    "#Predict \n",
    "xboost_pred = xboost.predict(X_test)"
   ]
  },
  {
   "cell_type": "code",
   "execution_count": 1409,
   "metadata": {},
   "outputs": [
    {
     "data": {
      "image/png": "[encoded data removed]",
      "text/plain": [
       "<Figure size 432x288 with 1 Axes>"
      ]
     },
     "metadata": {},
     "output_type": "display_data"
    }
   ],
   "source": [
    "plt.scatter(y_test, xboost_pred,alpha=0.5,color=\"royalblue\")\n",
    "plt.axhline(y=150, color='k', linestyle='--')\n",
    "plt.axvline(x=150, color='k', linestyle='--')\n",
    "plt.annotate('TP', (170,150), xytext = (175, 155 + 1), \n",
    "              horizontalalignment='right')\n",
    "plt.annotate('FN', (170,150), xytext = (175, 135 + 1), \n",
    "              horizontalalignment='right')\n",
    "plt.annotate('FP', (170,150), xytext = (125, 155 + 1), \n",
    "              horizontalalignment='right')\n",
    "plt.annotate('FP', (170,150), xytext = (125, 135 + 1), \n",
    "              horizontalalignment='right')\n",
    "\n",
    "plt.plot( [0,150],[0,150],color=\"k\")\n",
    "plt.xlabel('Measured')\n",
    "plt.ylabel('Predicted')\n",
    "plt.title('XGBoost Predicted vs Actual')\n",
    "plt.show()"
   ]
  },
  {
   "cell_type": "code",
   "execution_count": 1410,
   "metadata": {},
   "outputs": [
    {
     "data": {
      "text/plain": [
       "0.9009499615570937"
      ]
     },
     "execution_count": 1410,
     "metadata": {},
     "output_type": "execute_result"
    }
   ],
   "source": [
    "xboost.score(X_test, y_test)"
   ]
  },
  {
   "cell_type": "markdown",
   "metadata": {},
   "source": [
    "# ada"
   ]
  },
  {
   "cell_type": "code",
   "execution_count": 1396,
   "metadata": {},
   "outputs": [
    {
     "ename": "KeyboardInterrupt",
     "evalue": "",
     "output_type": "error",
     "traceback": [
      "\u001b[0;31m---------------------------------------------------------------------------\u001b[0m",
      "\u001b[0;31mKeyboardInterrupt\u001b[0m                         Traceback (most recent call last)",
      "\u001b[0;32m<ipython-input-1396-189a08da791d>\u001b[0m in \u001b[0;36m<module>\u001b[0;34m()\u001b[0m\n\u001b[1;32m      9\u001b[0m                       \u001b[0mmax_depth\u001b[0m\u001b[0;34m=\u001b[0m\u001b[0;36m2\u001b[0m\u001b[0;34m,\u001b[0m\u001b[0;34m\u001b[0m\u001b[0m\n\u001b[1;32m     10\u001b[0m                       gamma=0.1),learning_rate=0.1)\n\u001b[0;32m---> 11\u001b[0;31m \u001b[0mregr_x\u001b[0m\u001b[0;34m.\u001b[0m\u001b[0mfit\u001b[0m\u001b[0;34m(\u001b[0m\u001b[0mX_train\u001b[0m\u001b[0;34m,\u001b[0m \u001b[0my_train\u001b[0m\u001b[0;34m)\u001b[0m\u001b[0;34m\u001b[0m\u001b[0m\n\u001b[0m",
      "\u001b[0;32m~/anaconda3/lib/python3.6/site-packages/sklearn/ensemble/weight_boosting.py\u001b[0m in \u001b[0;36mfit\u001b[0;34m(self, X, y, sample_weight)\u001b[0m\n\u001b[1;32m    958\u001b[0m \u001b[0;34m\u001b[0m\u001b[0m\n\u001b[1;32m    959\u001b[0m         \u001b[0;31m# Fit\u001b[0m\u001b[0;34m\u001b[0m\u001b[0;34m\u001b[0m\u001b[0m\n\u001b[0;32m--> 960\u001b[0;31m         \u001b[0;32mreturn\u001b[0m \u001b[0msuper\u001b[0m\u001b[0;34m(\u001b[0m\u001b[0mAdaBoostRegressor\u001b[0m\u001b[0;34m,\u001b[0m \u001b[0mself\u001b[0m\u001b[0;34m)\u001b[0m\u001b[0;34m.\u001b[0m\u001b[0mfit\u001b[0m\u001b[0;34m(\u001b[0m\u001b[0mX\u001b[0m\u001b[0;34m,\u001b[0m \u001b[0my\u001b[0m\u001b[0;34m,\u001b[0m \u001b[0msample_weight\u001b[0m\u001b[0;34m)\u001b[0m\u001b[0;34m\u001b[0m\u001b[0m\n\u001b[0m\u001b[1;32m    961\u001b[0m \u001b[0;34m\u001b[0m\u001b[0m\n\u001b[1;32m    962\u001b[0m     \u001b[0;32mdef\u001b[0m \u001b[0m_validate_estimator\u001b[0m\u001b[0;34m(\u001b[0m\u001b[0mself\u001b[0m\u001b[0;34m)\u001b[0m\u001b[0;34m:\u001b[0m\u001b[0;34m\u001b[0m\u001b[0m\n",
      "\u001b[0;32m~/anaconda3/lib/python3.6/site-packages/sklearn/ensemble/weight_boosting.py\u001b[0m in \u001b[0;36mfit\u001b[0;34m(self, X, y, sample_weight)\u001b[0m\n\u001b[1;32m    143\u001b[0m                 \u001b[0mX\u001b[0m\u001b[0;34m,\u001b[0m \u001b[0my\u001b[0m\u001b[0;34m,\u001b[0m\u001b[0;34m\u001b[0m\u001b[0m\n\u001b[1;32m    144\u001b[0m                 \u001b[0msample_weight\u001b[0m\u001b[0;34m,\u001b[0m\u001b[0;34m\u001b[0m\u001b[0m\n\u001b[0;32m--> 145\u001b[0;31m                 random_state)\n\u001b[0m\u001b[1;32m    146\u001b[0m \u001b[0;34m\u001b[0m\u001b[0m\n\u001b[1;32m    147\u001b[0m             \u001b[0;31m# Early termination\u001b[0m\u001b[0;34m\u001b[0m\u001b[0;34m\u001b[0m\u001b[0m\n",
      "\u001b[0;32m~/anaconda3/lib/python3.6/site-packages/sklearn/ensemble/weight_boosting.py\u001b[0m in \u001b[0;36m_boost\u001b[0;34m(self, iboost, X, y, sample_weight, random_state)\u001b[0m\n\u001b[1;32m   1017\u001b[0m         \u001b[0;31m# Fit on the bootstrapped sample and obtain a prediction\u001b[0m\u001b[0;34m\u001b[0m\u001b[0;34m\u001b[0m\u001b[0m\n\u001b[1;32m   1018\u001b[0m         \u001b[0;31m# for all samples in the training set\u001b[0m\u001b[0;34m\u001b[0m\u001b[0;34m\u001b[0m\u001b[0m\n\u001b[0;32m-> 1019\u001b[0;31m         \u001b[0mestimator\u001b[0m\u001b[0;34m.\u001b[0m\u001b[0mfit\u001b[0m\u001b[0;34m(\u001b[0m\u001b[0mX\u001b[0m\u001b[0;34m[\u001b[0m\u001b[0mbootstrap_idx\u001b[0m\u001b[0;34m]\u001b[0m\u001b[0;34m,\u001b[0m \u001b[0my\u001b[0m\u001b[0;34m[\u001b[0m\u001b[0mbootstrap_idx\u001b[0m\u001b[0;34m]\u001b[0m\u001b[0;34m)\u001b[0m\u001b[0;34m\u001b[0m\u001b[0m\n\u001b[0m\u001b[1;32m   1020\u001b[0m         \u001b[0my_predict\u001b[0m \u001b[0;34m=\u001b[0m \u001b[0mestimator\u001b[0m\u001b[0;34m.\u001b[0m\u001b[0mpredict\u001b[0m\u001b[0;34m(\u001b[0m\u001b[0mX\u001b[0m\u001b[0;34m)\u001b[0m\u001b[0;34m\u001b[0m\u001b[0m\n\u001b[1;32m   1021\u001b[0m \u001b[0;34m\u001b[0m\u001b[0m\n",
      "\u001b[0;32m~/anaconda3/lib/python3.6/site-packages/xgboost/sklearn.py\u001b[0m in \u001b[0;36mfit\u001b[0;34m(self, X, y, sample_weight, eval_set, eval_metric, early_stopping_rounds, verbose, xgb_model, sample_weight_eval_set, callbacks)\u001b[0m\n\u001b[1;32m    376\u001b[0m                               \u001b[0mevals_result\u001b[0m\u001b[0;34m=\u001b[0m\u001b[0mevals_result\u001b[0m\u001b[0;34m,\u001b[0m \u001b[0mobj\u001b[0m\u001b[0;34m=\u001b[0m\u001b[0mobj\u001b[0m\u001b[0;34m,\u001b[0m \u001b[0mfeval\u001b[0m\u001b[0;34m=\u001b[0m\u001b[0mfeval\u001b[0m\u001b[0;34m,\u001b[0m\u001b[0;34m\u001b[0m\u001b[0m\n\u001b[1;32m    377\u001b[0m                               \u001b[0mverbose_eval\u001b[0m\u001b[0;34m=\u001b[0m\u001b[0mverbose\u001b[0m\u001b[0;34m,\u001b[0m \u001b[0mxgb_model\u001b[0m\u001b[0;34m=\u001b[0m\u001b[0mxgb_model\u001b[0m\u001b[0;34m,\u001b[0m\u001b[0;34m\u001b[0m\u001b[0m\n\u001b[0;32m--> 378\u001b[0;31m                               callbacks=callbacks)\n\u001b[0m\u001b[1;32m    379\u001b[0m \u001b[0;34m\u001b[0m\u001b[0m\n\u001b[1;32m    380\u001b[0m         \u001b[0;32mif\u001b[0m \u001b[0mevals_result\u001b[0m\u001b[0;34m:\u001b[0m\u001b[0;34m\u001b[0m\u001b[0m\n",
      "\u001b[0;32m~/anaconda3/lib/python3.6/site-packages/xgboost/training.py\u001b[0m in \u001b[0;36mtrain\u001b[0;34m(params, dtrain, num_boost_round, evals, obj, feval, maximize, early_stopping_rounds, evals_result, verbose_eval, xgb_model, callbacks, learning_rates)\u001b[0m\n\u001b[1;32m    214\u001b[0m                            \u001b[0mevals\u001b[0m\u001b[0;34m=\u001b[0m\u001b[0mevals\u001b[0m\u001b[0;34m,\u001b[0m\u001b[0;34m\u001b[0m\u001b[0m\n\u001b[1;32m    215\u001b[0m                            \u001b[0mobj\u001b[0m\u001b[0;34m=\u001b[0m\u001b[0mobj\u001b[0m\u001b[0;34m,\u001b[0m \u001b[0mfeval\u001b[0m\u001b[0;34m=\u001b[0m\u001b[0mfeval\u001b[0m\u001b[0;34m,\u001b[0m\u001b[0;34m\u001b[0m\u001b[0m\n\u001b[0;32m--> 216\u001b[0;31m                            xgb_model=xgb_model, callbacks=callbacks)\n\u001b[0m\u001b[1;32m    217\u001b[0m \u001b[0;34m\u001b[0m\u001b[0m\n\u001b[1;32m    218\u001b[0m \u001b[0;34m\u001b[0m\u001b[0m\n",
      "\u001b[0;32m~/anaconda3/lib/python3.6/site-packages/xgboost/training.py\u001b[0m in \u001b[0;36m_train_internal\u001b[0;34m(params, dtrain, num_boost_round, evals, obj, feval, xgb_model, callbacks)\u001b[0m\n\u001b[1;32m     72\u001b[0m         \u001b[0;31m# Skip the first update if it is a recovery step.\u001b[0m\u001b[0;34m\u001b[0m\u001b[0;34m\u001b[0m\u001b[0m\n\u001b[1;32m     73\u001b[0m         \u001b[0;32mif\u001b[0m \u001b[0mversion\u001b[0m \u001b[0;34m%\u001b[0m \u001b[0;36m2\u001b[0m \u001b[0;34m==\u001b[0m \u001b[0;36m0\u001b[0m\u001b[0;34m:\u001b[0m\u001b[0;34m\u001b[0m\u001b[0m\n\u001b[0;32m---> 74\u001b[0;31m             \u001b[0mbst\u001b[0m\u001b[0;34m.\u001b[0m\u001b[0mupdate\u001b[0m\u001b[0;34m(\u001b[0m\u001b[0mdtrain\u001b[0m\u001b[0;34m,\u001b[0m \u001b[0mi\u001b[0m\u001b[0;34m,\u001b[0m \u001b[0mobj\u001b[0m\u001b[0;34m)\u001b[0m\u001b[0;34m\u001b[0m\u001b[0m\n\u001b[0m\u001b[1;32m     75\u001b[0m             \u001b[0mbst\u001b[0m\u001b[0;34m.\u001b[0m\u001b[0msave_rabit_checkpoint\u001b[0m\u001b[0;34m(\u001b[0m\u001b[0;34m)\u001b[0m\u001b[0;34m\u001b[0m\u001b[0m\n\u001b[1;32m     76\u001b[0m             \u001b[0mversion\u001b[0m \u001b[0;34m+=\u001b[0m \u001b[0;36m1\u001b[0m\u001b[0;34m\u001b[0m\u001b[0m\n",
      "\u001b[0;32m~/anaconda3/lib/python3.6/site-packages/xgboost/core.py\u001b[0m in \u001b[0;36mupdate\u001b[0;34m(self, dtrain, iteration, fobj)\u001b[0m\n\u001b[1;32m   1108\u001b[0m         \u001b[0;32mif\u001b[0m \u001b[0mfobj\u001b[0m \u001b[0;32mis\u001b[0m \u001b[0;32mNone\u001b[0m\u001b[0;34m:\u001b[0m\u001b[0;34m\u001b[0m\u001b[0m\n\u001b[1;32m   1109\u001b[0m             _check_call(_LIB.XGBoosterUpdateOneIter(self.handle, ctypes.c_int(iteration),\n\u001b[0;32m-> 1110\u001b[0;31m                                                     dtrain.handle))\n\u001b[0m\u001b[1;32m   1111\u001b[0m         \u001b[0;32melse\u001b[0m\u001b[0;34m:\u001b[0m\u001b[0;34m\u001b[0m\u001b[0m\n\u001b[1;32m   1112\u001b[0m             \u001b[0mpred\u001b[0m \u001b[0;34m=\u001b[0m \u001b[0mself\u001b[0m\u001b[0;34m.\u001b[0m\u001b[0mpredict\u001b[0m\u001b[0;34m(\u001b[0m\u001b[0mdtrain\u001b[0m\u001b[0;34m)\u001b[0m\u001b[0;34m\u001b[0m\u001b[0m\n",
      "\u001b[0;31mKeyboardInterrupt\u001b[0m: "
     ]
    }
   ],
   "source": [
    "regr_x = AdaBoostRegressor( XGBRegressor(silent=False, \n",
    "                      scale_pos_weight=1,\n",
    "                      learning_rate=0.01,  \n",
    "                      colsample_bytree = 1,\n",
    "                      subsample = .2,\n",
    "                      min_child_weight =1,\n",
    "                      n_estimators=1300, #2000\n",
    "                      reg_alpha = 1,\n",
    "                      max_depth=2, \n",
    "                      gamma=0.1),learning_rate=0.1)\n",
    "regr_x.fit(X_train, y_train)"
   ]
  },
  {
   "cell_type": "code",
   "execution_count": null,
   "metadata": {},
   "outputs": [],
   "source": [
    "y_1 = regr_x.predict(X_test)"
   ]
  },
  {
   "cell_type": "code",
   "execution_count": null,
   "metadata": {},
   "outputs": [],
   "source": [
    "plt.scatter(y_test, y_1)\n",
    "plt.tight_layout(1.3)\n",
    "plt.xlabel(' PM10 promedio Medido')\n",
    "plt.ylabel(' PM10 promedio Pronosticado')\n",
    "plt.title('Pronóstico de PM10 a 12 horas')\n",
    "#plt.savefig('/Users/danielbustillos/Desktop/temrp.png', facecolor=\"white\", edgecolor='white',transparent=True,bbox_inches=\"tight\",dpi=900)\n",
    "plt.show()"
   ]
  },
  {
   "cell_type": "code",
   "execution_count": null,
   "metadata": {},
   "outputs": [],
   "source": [
    "regr_x.score(X_test, y_test)"
   ]
  },
  {
   "cell_type": "markdown",
   "metadata": {},
   "source": [
    "## ADA Booster applied on Decision Tree Regressor"
   ]
  },
  {
   "cell_type": "code",
   "execution_count": 1230,
   "metadata": {},
   "outputs": [],
   "source": [
    "regr_2 = AdaBoostRegressor(DecisionTreeRegressor(max_depth=10),n_estimators=10,learning_rate=0.01)\n",
    "#regr_2 = AdaBoostRegressor(DecisionTreeRegressor(),)\n"
   ]
  },
  {
   "cell_type": "code",
   "execution_count": 1231,
   "metadata": {},
   "outputs": [
    {
     "data": {
      "text/plain": [
       "AdaBoostRegressor(base_estimator=DecisionTreeRegressor(criterion='mse', max_depth=10, max_features=None,\n",
       "           max_leaf_nodes=None, min_impurity_decrease=0.0,\n",
       "           min_impurity_split=None, min_samples_leaf=1,\n",
       "           min_samples_split=2, min_weight_fraction_leaf=0.0,\n",
       "           presort=False, random_state=None, splitter='best'),\n",
       "         learning_rate=0.01, loss='linear', n_estimators=10,\n",
       "         random_state=None)"
      ]
     },
     "execution_count": 1231,
     "metadata": {},
     "output_type": "execute_result"
    }
   ],
   "source": [
    "regr_2.fit(X_train, y_train)"
   ]
  },
  {
   "cell_type": "code",
   "execution_count": 1232,
   "metadata": {},
   "outputs": [],
   "source": [
    "y_2 = regr_2.predict(X_test)"
   ]
  },
  {
   "cell_type": "code",
   "execution_count": 1233,
   "metadata": {},
   "outputs": [
    {
     "data": {
      "image/png": "[encoded data removed]",
      "text/plain": [
       "<Figure size 432x288 with 1 Axes>"
      ]
     },
     "metadata": {},
     "output_type": "display_data"
    }
   ],
   "source": [
    "#y_2 = pd.DataFrame(scaler2.inverse_transform(pd.DataFrame(y_2)),columns=[\"O3_11_forecast\"]);\n",
    "#y_test_1 = pd.DataFrame(scaler2.inverse_transform(pd.DataFrame(y_test)),columns=[\"O3_11_forecast\"]);\n",
    "\n",
    "plt.scatter(y_test,y_2,alpha=0.5,color=\"royalblue\")\n",
    "plt.tight_layout(1.3)\n",
    "plt.xlabel(' O3  Medido')\n",
    "plt.ylabel(' O3  Pronosticado')\n",
    "plt.title('Pronóstico de O3 a 12 horas')\n",
    "#plt.savefig('/Users/danielbustillos/Desktop/temp.png', facecolor=\"white\", edgecolor='white',transparent=True,bbox_inches=\"tight\",dpi=600)\n",
    "plt.show()"
   ]
  },
  {
   "cell_type": "code",
   "execution_count": 1234,
   "metadata": {},
   "outputs": [
    {
     "data": {
      "text/plain": [
       "0.5211268589737014"
      ]
     },
     "execution_count": 1234,
     "metadata": {},
     "output_type": "execute_result"
    }
   ],
   "source": [
    "regr_2.score(X_test, y_test)"
   ]
  },
  {
   "cell_type": "markdown",
   "metadata": {},
   "source": [
    "## ADA Booster applied on Random Tree Regressor"
   ]
  },
  {
   "cell_type": "code",
   "execution_count": 1397,
   "metadata": {},
   "outputs": [
    {
     "data": {
      "text/plain": [
       "143.0"
      ]
     },
     "execution_count": 1397,
     "metadata": {},
     "output_type": "execute_result"
    }
   ],
   "source": [
    "y_train.quantile(0.99)"
   ]
  },
  {
   "cell_type": "code",
   "execution_count": 1398,
   "metadata": {},
   "outputs": [],
   "source": [
    "from sklearn.ensemble import GradientBoostingRegressor "
   ]
  },
  {
   "cell_type": "raw",
   "metadata": {},
   "source": [
    "gbr = GradientBoostingRegressor(n_estimators=500,learning_rate=0.0405,loss=\"quantile\",alpha=0.913,verbose=1,min_samples_split=2,random_state=123)#,n_estimators=1000)"
   ]
  },
  {
   "cell_type": "raw",
   "metadata": {},
   "source": [
    "gbr = GradientBoostingRegressor(n_estimators=500,learning_rate=0.0455,loss=\"quantile\",alpha=0.903,verbose=1,random_state=123)#,n_estimators=1000)"
   ]
  },
  {
   "cell_type": "code",
   "execution_count": null,
   "metadata": {},
   "outputs": [],
   "source": []
  },
  {
   "cell_type": "raw",
   "metadata": {},
   "source": [
    "gbr = GradientBoostingRegressor(n_estimators=500,learning_rate=0.020055,loss=\"quantile\",alpha=0.9,verbose=1,random_state=123)#,n_estimators=1000)"
   ]
  },
  {
   "cell_type": "code",
   "execution_count": 1428,
   "metadata": {},
   "outputs": [],
   "source": [
    "gbr = GradientBoostingRegressor(n_estimators=500,learning_rate=0.0455,loss=\"quantile\",alpha=0.887,verbose=1,random_state=123)#,n_estimators=1000)"
   ]
  },
  {
   "cell_type": "code",
   "execution_count": 1429,
   "metadata": {},
   "outputs": [
    {
     "name": "stdout",
     "output_type": "stream",
     "text": [
      "      Iter       Train Loss   Remaining Time \n",
      "         1           5.4525           37.48s\n",
      "         2           5.2817           36.88s\n",
      "         3           5.1210           36.90s\n",
      "         4           4.9730           36.83s\n",
      "         5           4.8416           36.60s\n",
      "         6           4.7149           36.40s\n",
      "         7           4.5870           36.21s\n",
      "         8           4.4625           36.34s\n",
      "         9           4.3487           36.19s\n",
      "        10           4.2381           36.37s\n",
      "        20           3.4589           36.81s\n",
      "        30           3.0078           35.09s\n",
      "        40           2.6809           34.07s\n",
      "        50           2.4596           34.52s\n",
      "        60           2.2993           34.22s\n",
      "        70           2.1656           33.83s\n",
      "        80           2.0658           33.19s\n",
      "        90           1.9859           32.78s\n",
      "       100           1.9267           31.75s\n",
      "       200           1.6968           22.49s\n",
      "       300           1.6623           13.50s\n",
      "       400           1.6273            6.48s\n",
      "       500           1.6184            0.00s\n"
     ]
    }
   ],
   "source": [
    "regr_fit = gbr.fit(X_train, y_train)\n",
    "y_1 = gbr.predict(X_test)"
   ]
  },
  {
   "cell_type": "code",
   "execution_count": 1433,
   "metadata": {},
   "outputs": [
    {
     "data": {
      "image/png": "[encoded data removed]",
      "text/plain": [
       "<Figure size 432x288 with 1 Axes>"
      ]
     },
     "metadata": {},
     "output_type": "display_data"
    }
   ],
   "source": [
    "plt.scatter(y_test,y_1,alpha=0.5,color=\"royalblue\")\n",
    "plt.axhline(y=150, color='k', linestyle='--')\n",
    "plt.axvline(x=150, color='k', linestyle='--')\n",
    "plt.annotate('TP', (170,150), xytext = (175, 155 + 1), \n",
    "              horizontalalignment='right')\n",
    "plt.annotate('FN', (170,150), xytext = (175, 135 + 1), \n",
    "              horizontalalignment='right')\n",
    "plt.annotate('FP', (170,150), xytext = (125, 155 + 1), \n",
    "              horizontalalignment='right')\n",
    "plt.annotate('FP', (170,150), xytext = (125, 135 + 1), \n",
    "              horizontalalignment='right')\n",
    "plt.annotate(str(len(y_1[y_1>150])), (135,65), xytext = (145, 45 + 1), \n",
    "              horizontalalignment='right')\n",
    "plt.annotate(str(y_test[y_test>150].count()), (155,65), xytext = (160, 45 + 1), \n",
    "              horizontalalignment='right')\n",
    "plt.plot( [0,150],[0,150],color=\"k\")\n",
    "plt.tight_layout(1.3)\n",
    "plt.xlabel(' O3  Medido')\n",
    "plt.ylabel(' O3  Pronosticado')\n",
    "plt.title('Pronóstico de O3 a 12 horas')\n",
    "#plt.savefig('/Users/danielbustillos/Desktop/temp.png', facecolor=\"white\", edgecolor='white',transparent=True,bbox_inches=\"tight\",dpi=600)\n",
    "plt.show()"
   ]
  },
  {
   "cell_type": "code",
   "execution_count": 1431,
   "metadata": {},
   "outputs": [
    {
     "data": {
      "text/plain": [
       "0.7799102070360014"
      ]
     },
     "execution_count": 1431,
     "metadata": {},
     "output_type": "execute_result"
    }
   ],
   "source": [
    "gbr.score(X_test, y_test)"
   ]
  },
  {
   "cell_type": "code",
   "execution_count": 1432,
   "metadata": {},
   "outputs": [],
   "source": [
    "gbr = GradientBoostingRegressor(n_estimators=500,learning_rate=0.05,verbose=1,random_state=123,loss=\"lad\")#,n_estimators=1000)"
   ]
  },
  {
   "cell_type": "code",
   "execution_count": 1412,
   "metadata": {},
   "outputs": [
    {
     "name": "stdout",
     "output_type": "stream",
     "text": [
      "      Iter       Train Loss   Remaining Time \n",
      "         1          21.6685           48.49s\n",
      "         2          20.8058           45.90s\n",
      "         3          19.9826           45.07s\n",
      "         4          19.2243           44.54s\n",
      "         5          18.5166           44.22s\n",
      "         6          17.8642           44.02s\n",
      "         7          17.2376           43.87s\n",
      "         8          16.6516           43.76s\n",
      "         9          16.0931           43.70s\n",
      "        10          15.5540           43.59s\n",
      "        20          11.7540           42.22s\n",
      "        30           9.6836           41.46s\n",
      "        40           8.5342           40.65s\n",
      "        50           7.8822           39.44s\n",
      "        60           7.4748           37.64s\n",
      "        70           7.2239           36.02s\n",
      "        80           7.0088           35.38s\n",
      "        90           6.8523           34.57s\n",
      "       100           6.7308           33.49s\n",
      "       200           6.1491           23.57s\n",
      "       300           5.8946           15.01s\n",
      "       400           5.7370            7.25s\n",
      "       500           5.6391            0.00s\n"
     ]
    }
   ],
   "source": [
    "regr_fit = gbr.fit(X_train, y_train)"
   ]
  },
  {
   "cell_type": "code",
   "execution_count": 1413,
   "metadata": {},
   "outputs": [],
   "source": [
    "y_2 = gbr.predict(X_test)"
   ]
  },
  {
   "cell_type": "code",
   "execution_count": 1415,
   "metadata": {},
   "outputs": [
    {
     "data": {
      "image/png": "[encoded data removed]",
      "text/plain": [
       "<Figure size 432x288 with 1 Axes>"
      ]
     },
     "metadata": {},
     "output_type": "display_data"
    }
   ],
   "source": [
    "#y_2 = pd.DataFrame(scaler2.inverse_transform(pd.DataFrame(y_2)),columns=[\"O3_11_forecast\"]);\n",
    "#y_test_1 = pd.DataFrame(scaler2.inverse_transform(pd.DataFrame(y_test)),columns=[\"O3_11_forecast\"]);\n",
    "\n",
    "plt.scatter(y_test,y_2,alpha=0.5,color=\"royalblue\")\n",
    "plt.axhline(y=150, color='k', linestyle='--')\n",
    "plt.axvline(x=150, color='k', linestyle='--')\n",
    "plt.annotate('TP', (170,150), xytext = (175, 155 + 1), \n",
    "              horizontalalignment='right')\n",
    "plt.annotate('FN', (170,150), xytext = (175, 135 + 1), \n",
    "              horizontalalignment='right')\n",
    "plt.annotate('FP', (170,150), xytext = (125, 155 + 1), \n",
    "              horizontalalignment='right')\n",
    "plt.annotate('FP', (170,150), xytext = (125, 135 + 1), \n",
    "              horizontalalignment='right')\n",
    "\n",
    "plt.plot( [0,150],[0,150],color=\"k\")\n",
    "plt.tight_layout(1.3)\n",
    "plt.plot( [10,155],[10,155],color=\"k\",alpha=0.5)\n",
    "plt.xlabel(' O3  Medido')\n",
    "plt.ylabel(' O3  Pronosticado')\n",
    "plt.title('Pronóstico de O3 a 12 horas')\n",
    "#plt.savefig('/Users/danielbustillos/Desktop/temp.png', facecolor=\"white\", edgecolor='white',transparent=True,bbox_inches=\"tight\",dpi=600)\n",
    "plt.show()"
   ]
  },
  {
   "cell_type": "code",
   "execution_count": 1419,
   "metadata": {},
   "outputs": [
    {
     "data": {
      "text/plain": [
       "0.896305653023233"
      ]
     },
     "execution_count": 1419,
     "metadata": {},
     "output_type": "execute_result"
    }
   ],
   "source": [
    "gbr.score(X_test, y_test)"
   ]
  },
  {
   "cell_type": "markdown",
   "metadata": {},
   "source": [
    "## Random forest"
   ]
  },
  {
   "cell_type": "code",
   "execution_count": 428,
   "metadata": {},
   "outputs": [],
   "source": [
    "from sklearn.ensemble import RandomForestRegressor\n",
    "from sklearn.ensemble import RandomForestClassifier\n",
    "from sklearn.datasets import make_regression"
   ]
  },
  {
   "cell_type": "code",
   "execution_count": null,
   "metadata": {},
   "outputs": [],
   "source": [
    "{'bootstrap': True,\n",
    " 'criterion': 'mse',\n",
    " 'max_depth': None,\n",
    " 'max_features': 'auto',\n",
    " 'max_leaf_nodes': None,\n",
    " 'min_impurity_decrease': 0.0,\n",
    " 'min_impurity_split': None,\n",
    " 'min_samples_leaf': 1,\n",
    " 'min_samples_split': 2,\n",
    " 'min_weight_fraction_leaf': 0.0,\n",
    " 'n_estimators': 10,\n",
    " 'n_jobs': 1,\n",
    " 'oob_score': False,\n",
    " 'random_state': 42,\n",
    " 'verbose': 0,\n",
    " 'warm_start': False}"
   ]
  },
  {
   "cell_type": "code",
   "execution_count": 1416,
   "metadata": {},
   "outputs": [],
   "source": [
    "regr = RandomForestRegressor(n_estimators=100)#max_depth=10,n_estimators=1000,n_jobs=1000,min_samples_split= 10,criterion= 'mse')#max_depth=10,n_estimators=10)\n",
    "regr_fit = regr.fit(X_train, y_train)"
   ]
  },
  {
   "cell_type": "code",
   "execution_count": 1417,
   "metadata": {},
   "outputs": [],
   "source": [
    "y_1 = regr_fit.predict(X_test)"
   ]
  },
  {
   "cell_type": "code",
   "execution_count": 1420,
   "metadata": {},
   "outputs": [
    {
     "data": {
      "image/png": "[encoded data removed]",
      "text/plain": [
       "<Figure size 432x288 with 1 Axes>"
      ]
     },
     "metadata": {},
     "output_type": "display_data"
    }
   ],
   "source": [
    "plt.scatter(y_test, y_1,alpha=0.5,color=\"royalblue\")\n",
    "plt.axhline(y=150, color='k', linestyle='--')\n",
    "plt.axvline(x=150, color='k', linestyle='--')\n",
    "plt.annotate('TP', (170,150), xytext = (175, 155 + 1), \n",
    "              horizontalalignment='right')\n",
    "plt.annotate('FN', (170,150), xytext = (175, 135 + 1), \n",
    "              horizontalalignment='right')\n",
    "plt.annotate('FP', (170,150), xytext = (125, 155 + 1), \n",
    "              horizontalalignment='right')\n",
    "plt.annotate('FP', (170,150), xytext = (125, 135 + 1), \n",
    "              horizontalalignment='right')\n",
    "\n",
    "plt.plot( [0,150],[0,150],color=\"k\")\n",
    "plt.xlabel(' PM10 promedio Medido')\n",
    "plt.ylabel(' PM10 promedio Pronosticado')\n",
    "plt.title('Pronóstico de PM10 a 12 horas')\n",
    "#plt.savefig('/Users/danielbustillos/Desktop/temp.png', facecolor=\"white\", edgecolor='white',transparent=True,bbox_inches=\"tight\",dpi=900)\n",
    "plt.show()"
   ]
  },
  {
   "cell_type": "code",
   "execution_count": 1421,
   "metadata": {},
   "outputs": [
    {
     "data": {
      "text/plain": [
       "0.8927854419567657"
      ]
     },
     "execution_count": 1421,
     "metadata": {},
     "output_type": "execute_result"
    }
   ],
   "source": [
    "regr_fit.score(X_test, y_test)"
   ]
  },
  {
   "cell_type": "code",
   "execution_count": 2098,
   "metadata": {},
   "outputs": [],
   "source": [
    "importances = pd.DataFrame({'feature':X_train.columns,'importance':np.round(regr_2.feature_importances_,3)})\n",
    "importances = importances.sort_values('importance',ascending=False).set_index('feature')"
   ]
  },
  {
   "cell_type": "code",
   "execution_count": null,
   "metadata": {},
   "outputs": [],
   "source": []
  },
  {
   "cell_type": "code",
   "execution_count": null,
   "metadata": {},
   "outputs": [],
   "source": []
  },
  {
   "cell_type": "code",
   "execution_count": null,
   "metadata": {},
   "outputs": [],
   "source": []
  },
  {
   "cell_type": "code",
   "execution_count": null,
   "metadata": {},
   "outputs": [],
   "source": [
    "importances;"
   ]
  },
  {
   "cell_type": "code",
   "execution_count": null,
   "metadata": {},
   "outputs": [],
   "source": [
    "importances[importances.importance > .005].plot.bar(color=\"royalblue\")\n",
    "#plt.savefig('/Users/danielbustillos/Desktop/teemp.png', facecolor=\"white\", edgecolor='white',transparent=True,bbox_inches=\"tight\",dpi=900)\n"
   ]
  },
  {
   "cell_type": "code",
   "execution_count": null,
   "metadata": {},
   "outputs": [],
   "source": [
    "preds = y_1.tolist()"
   ]
  },
  {
   "cell_type": "code",
   "execution_count": null,
   "metadata": {},
   "outputs": [],
   "source": [
    "yi = y_test.tolist()"
   ]
  },
  {
   "cell_type": "code",
   "execution_count": null,
   "metadata": {},
   "outputs": [],
   "source": [
    "y;"
   ]
  },
  {
   "cell_type": "code",
   "execution_count": null,
   "metadata": {},
   "outputs": [],
   "source": [
    "# >>> plt.plot(yi,label='PM10  Medido',alpha=0.8,linewidth=2)\n",
    ">>> plt.plot(preds ,label='PM10 Pronosticado',alpha=0.8,linewidth=2,color=\"brown\")\n",
    ">>> plt.plot(yi,label='PM10  Medido',alpha=0.8,linewidth=2)\n",
    ">>> plt.xlabel(\"Enero 2019\")\n",
    ">>> plt.ylabel(\"PM10 promedio(microg/m3)\")\n",
    "plt.title('Comparación de Modelo')\n",
    ">>> plt.xlim(0, 60)\n",
    "plt.legend()\n",
    "plt.savefig('/Users/danielbustillos/Desktop/Pm10.png',facecolor=\"white\", edgecolor='white',transparent=True,bbox_inches=\"tight\" ,dpi=800)"
   ]
  },
  {
   "cell_type": "code",
   "execution_count": null,
   "metadata": {},
   "outputs": [],
   "source": [
    "rmse = np.sqrt(mean_squared_error(y_test, y_1))\n",
    "print(\"RMSE: %f\" % (rmse))"
   ]
  },
  {
   "cell_type": "markdown",
   "metadata": {},
   "source": [
    "## Visualizaciones    <a class=\"anchor\" id=\"viz-bullet\"></a>"
   ]
  },
  {
   "cell_type": "code",
   "execution_count": null,
   "metadata": {},
   "outputs": [],
   "source": [
    "data_hour_merge_24.columns"
   ]
  },
  {
   "cell_type": "code",
   "execution_count": null,
   "metadata": {},
   "outputs": [],
   "source": [
    "with sns.axes_style('white'):\n",
    "    sns.jointplot(\"PM10\", \"O3\", data_hour_merge_24[(data_hour_merge_24.CO >0.1)&(data_hour_merge_24.O3 >0.1)]);\n",
    "plt.savefig('/Users/danielbustillos/Desktop/pm10-03.png',facecolor=\"white\", edgecolor='white',transparent=True,bbox_inches=\"tight\" ,dpi=500)"
   ]
  },
  {
   "cell_type": "code",
   "execution_count": null,
   "metadata": {},
   "outputs": [],
   "source": [
    "with sns.axes_style('white'):\n",
    "    sns.jointplot(\"hora\", \"O3\", data_hour_merge_24, kind='kde',color=\"g\");\n",
    "plt.savefig('/Users/danielbustillos/Desktop/uva.png',facecolor=\"white\", edgecolor='white',transparent=True,bbox_inches=\"tight\" ,dpi=1000)"
   ]
  },
  {
   "cell_type": "code",
   "execution_count": null,
   "metadata": {},
   "outputs": [],
   "source": [
    "with sns.axes_style('white'):\n",
    "    sns.jointplot(\"dia\", \"O3\", data_hour_merge_24);\n",
    "    plt.savefig('/Users/danielbustillos/Desktop/dia-o3.png', dpi=400,background=\"white\")"
   ]
  },
  {
   "cell_type": "code",
   "execution_count": null,
   "metadata": {},
   "outputs": [],
   "source": [
    "with sns.axes_style('white'):\n",
    "    sns.jointplot(\"PM10\", \"O3\", data_hour_merge_24);\n",
    "    plt.savefig('/Users/danielbustillos/Desktop/pm10-o3.png', dpi=400,background=\"white\")"
   ]
  },
  {
   "cell_type": "code",
   "execution_count": null,
   "metadata": {},
   "outputs": [],
   "source": [
    "g = sns.PairGrid(data_hour_merge_24, vars=['CO', 'NO', 'NO2', 'NOX', 'O3', 'PM10'], dropna=True)\n",
    "g.map_diag(plt.hist)\n",
    "g.map_offdiag(plt.scatter);"
   ]
  },
  {
   "cell_type": "code",
   "execution_count": null,
   "metadata": {},
   "outputs": [],
   "source": [
    "g = sns.PairGrid(data_hour_merge_24, vars=['PM2.5', 'PMCO', 'SO2','TMP', 'WSP', 'O3'], dropna=True)\n",
    "g.map_diag(plt.hist)\n",
    "g.map_offdiag(plt.scatter);"
   ]
  },
  {
   "cell_type": "code",
   "execution_count": null,
   "metadata": {},
   "outputs": [],
   "source": [
    "data_hour_merge_24.columns"
   ]
  },
  {
   "cell_type": "code",
   "execution_count": null,
   "metadata": {},
   "outputs": [],
   "source": [
    "g = sns.PairGrid(data_hour_merge_24, vars=['mes', 'hora',\"dia\",'CO', 'NO', 'NO2', 'NOX', 'O3', 'PM2.5', 'PMCO', 'SO2','TMP', 'WSP', 'PM10',\"], dropna=True)\n",
    "g.map_diag(plt.hist)\n",
    "g.map_offdiag(plt.scatter);"
   ]
  },
  {
   "cell_type": "code",
   "execution_count": null,
   "metadata": {},
   "outputs": [],
   "source": [
    "## Detalle"
   ]
  },
  {
   "cell_type": "code",
   "execution_count": null,
   "metadata": {},
   "outputs": [],
   "source": [
    "g = sns.PairGrid(data_18, vars=['RH',\n",
    "       'TMP', 'WSP', 'PM10'], dropna=True)\n",
    "g.map_diag(plt.hist)\n",
    "g.map_offdiag(plt.scatter);"
   ]
  },
  {
   "cell_type": "markdown",
   "metadata": {},
   "source": [
    "# Calsificador"
   ]
  },
  {
   "cell_type": "markdown",
   "metadata": {},
   "source": [
    "# Modelos de ML"
   ]
  },
  {
   "cell_type": "markdown",
   "metadata": {},
   "source": [
    "## Clasificadores"
   ]
  },
  {
   "cell_type": "code",
   "execution_count": 813,
   "metadata": {},
   "outputs": [],
   "source": [
    "%matplotlib inline\n",
    "import matplotlib.pyplot as plt\n",
    "import seaborn as sns\n",
    "import pandas as pd\n",
    "import numpy as np\n",
    "from pylab import rcParams\n",
    "import tensorflow as tf\n",
    "from keras.models import Model, load_model\n",
    "from keras.layers import Input, Dense\n",
    "from keras.callbacks import ModelCheckpoint, TensorBoard\n",
    "from keras import regularizers\n",
    "from sklearn.preprocessing import StandardScaler\n",
    "from sklearn.model_selection import train_test_split\n",
    "from sklearn.metrics import confusion_matrix, precision_recall_curve\n",
    "from sklearn.metrics import recall_score, classification_report, auc, roc_curve\n",
    "from sklearn.metrics import precision_recall_fscore_support, f1_score\n",
    "from numpy.random import seed\n",
    "seed(1)\n",
    "from tensorflow import set_random_seed\n",
    "set_random_seed(2)\n",
    "SEED = 123 #used to help randomly select the data points\n",
    "DATA_SPLIT_PCT = 0.2\n",
    "rcParams['figure.figsize'] = 8, 6\n",
    "LABELS = [\"Normal\",\"Break\"]"
   ]
  },
  {
   "cell_type": "code",
   "execution_count": 814,
   "metadata": {},
   "outputs": [],
   "source": [
    "df = data_hour_merge_24"
   ]
  },
  {
   "cell_type": "code",
   "execution_count": 77,
   "metadata": {},
   "outputs": [],
   "source": [
    "df_train, df_test = train_test_split(df, test_size=0.33, random_state=123)\n",
    "df_train, df_valid = train_test_split(df_train, test_size=0.33, random_state=123)"
   ]
  },
  {
   "cell_type": "code",
   "execution_count": 78,
   "metadata": {},
   "outputs": [],
   "source": [
    "df_train_0 = df_train.loc[df['class'] == 0]\n",
    "df_train_1 = df_train.loc[df['class'] == 1]\n",
    "df_train_0_x = df_train_0.drop(['class'], axis=1)\n",
    "df_train_1_x = df_train_1.drop(['class'], axis=1)"
   ]
  },
  {
   "cell_type": "code",
   "execution_count": 79,
   "metadata": {},
   "outputs": [],
   "source": [
    "df_valid_0 = df_valid.loc[df['class'] == 0]\n",
    "df_valid_1 = df_valid.loc[df['class'] == 1]\n",
    "df_valid_0_x = df_valid_0.drop(['class'], axis=1)\n",
    "df_valid_1_x = df_valid_1.drop(['class'], axis=1)"
   ]
  },
  {
   "cell_type": "code",
   "execution_count": 80,
   "metadata": {},
   "outputs": [],
   "source": [
    "df_test_0 = df_test.loc[df['class'] == 0]\n",
    "df_test_1 = df_test.loc[df['class'] == 1]\n",
    "df_test_0_x = df_test_0.drop(['class'], axis=1)\n",
    "df_test_1_x = df_test_1.drop(['class'], axis=1)"
   ]
  },
  {
   "cell_type": "markdown",
   "metadata": {},
   "source": [
    "Standardization\n",
    "\n",
    "It is usually better to use a standardized data (transformed to Gaussian, mean 0 and variance 1) for autoencoders."
   ]
  },
  {
   "cell_type": "code",
   "execution_count": 81,
   "metadata": {},
   "outputs": [],
   "source": [
    "scaler = StandardScaler().fit(df_train_0_x)\n",
    "df_train_0_x_rescaled = scaler.transform(df_train_0_x)\n",
    "df_valid_0_x_rescaled = scaler.transform(df_valid_0_x)\n",
    "df_valid_x_rescaled = scaler.transform(df_valid.drop(['class'], axis = 1))\n",
    "df_test_0_x_rescaled = scaler.transform(df_test_0_x)\n",
    "df_test_x_rescaled = scaler.transform(df_test.drop(['class'], axis = 1))"
   ]
  },
  {
   "cell_type": "markdown",
   "metadata": {},
   "source": [
    "## Autoencoder Classifier\n",
    "### Initialization\n",
    "\n",
    "First, we will initialize the Autoencoder architecture. We are building a simple autoencoder. More complex architectures and other configurations should be explored."
   ]
  },
  {
   "cell_type": "code",
   "execution_count": 104,
   "metadata": {},
   "outputs": [],
   "source": [
    "nb_epoch = 100\n",
    "batch_size = 128\n",
    "input_dim = df_train_0_x_rescaled.shape[1] #num of predictor variables, \n",
    "encoding_dim = 50\n",
    "hidden_dim = int(encoding_dim / 2)\n",
    "learning_rate = 0.0000001\n",
    "input_layer = Input(shape=(input_dim, ))\n",
    "encoder = Dense(encoding_dim, activation=\"tanh\", activity_regularizer=regularizers.l1(learning_rate))(input_layer)\n",
    "encoder = Dense(hidden_dim, activation=\"relu\")(encoder)\n",
    "decoder = Dense(hidden_dim, activation='tanh')(encoder)\n",
    "decoder = Dense(input_dim, activation='relu')(decoder)\n",
    "autoencoder = Model(inputs=input_layer, outputs=decoder)"
   ]
  },
  {
   "cell_type": "markdown",
   "metadata": {},
   "source": [
    "## Training\n",
    "\n",
    "We will train the model and save it in a file. Saving a trained model is a good practice for saving time for future analysis.\n"
   ]
  },
  {
   "cell_type": "markdown",
   "metadata": {},
   "source": [
    "autoencoder.compile(metrics=['accuracy'],\n",
    "                    loss='mean_squared_error',\n",
    "                    optimizer='adam')\n",
    "cp = ModelCheckpoint(filepath=\"autoencoder_classifier.h5\",\n",
    "                               save_best_only=True,\n",
    "                               verbose=0)\n",
    "tb = TensorBoard(log_dir='./logs',\n",
    "                histogram_freq=0,\n",
    "                write_graph=True,\n",
    "                write_images=True)\n",
    "history = autoencoder.fit(df_train_0_x_rescaled, df_train_0_x_rescaled,\n",
    "                    epochs=nb_epoch,\n",
    "                    batch_size=batch_size,\n",
    "                    shuffle=True,\n",
    "                    validation_data=(df_valid_0_x_rescaled, df_valid_0_x_rescaled),\n",
    "                    verbose=1,\n",
    "                    callbacks=[cp, tb]).history"
   ]
  },
  {
   "cell_type": "markdown",
   "metadata": {},
   "source": [
    "## Classification\n",
    "\n",
    "In the following, we show how we can use an Autoencoder reconstruction error for the rare-event classification.\n",
    "\n",
    "As mentioned before, if the reconstruction error is high, we will classify it as a sheet-break. We will need to determine the threshold for this.\n",
    "\n",
    "We will use the validation set to identify the threshold."
   ]
  },
  {
   "cell_type": "code",
   "execution_count": 106,
   "metadata": {},
   "outputs": [
    {
     "data": {
      "image/png": "[encoded data removed]",
      "text/plain": [
       "<Figure size 576x432 with 1 Axes>"
      ]
     },
     "metadata": {},
     "output_type": "display_data"
    }
   ],
   "source": [
    "valid_x_predictions = autoencoder.predict(df_valid_x_rescaled)\n",
    "mse = np.mean(np.power(df_valid_x_rescaled - valid_x_predictions, 2), axis=1)\n",
    "error_df = pd.DataFrame({'Reconstruction_error': mse,\n",
    "                        'True_class': df_valid['class']})\n",
    "precision_rt, recall_rt, threshold_rt = precision_recall_curve(error_df.True_class, error_df.Reconstruction_error)\n",
    "plt.plot(threshold_rt, precision_rt[1:], label=\"Precision\",linewidth=5)\n",
    "plt.plot(threshold_rt, recall_rt[1:], label=\"Recall\",linewidth=5)\n",
    "plt.title('Precision and recall for different threshold values')\n",
    "plt.xlabel('Threshold')\n",
    "plt.ylabel('Precision/Recall')\n",
    "plt.legend()\n",
    "plt.show()"
   ]
  },
  {
   "cell_type": "markdown",
   "metadata": {},
   "source": [
    "Now, we will perform classification on the test data."
   ]
  },
  {
   "cell_type": "code",
   "execution_count": 107,
   "metadata": {},
   "outputs": [
    {
     "data": {
      "image/png": "[encoded data removed]",
      "text/plain": [
       "<Figure size 576x432 with 1 Axes>"
      ]
     },
     "metadata": {},
     "output_type": "display_data"
    }
   ],
   "source": [
    "test_x_predictions = autoencoder.predict(df_test_x_rescaled)\n",
    "mse = np.mean(np.power(df_test_x_rescaled - test_x_predictions, 2), axis=1)\n",
    "error_df_test = pd.DataFrame({'Reconstruction_error': mse,\n",
    "                        'True_class': df_test['class']})\n",
    "error_df_test = error_df_test.reset_index()\n",
    "threshold_fixed = 0.6\n",
    "groups = error_df_test.groupby('True_class')\n",
    "fig, ax = plt.subplots()\n",
    "for name, group in groups:\n",
    "    ax.plot(group.index, group.Reconstruction_error, marker='o', ms=3.5, linestyle='',\n",
    "            label= \"Break\" if name == 1 else \"Normal\")\n",
    "ax.hlines(threshold_fixed, ax.get_xlim()[0], ax.get_xlim()[1], colors=\"r\", zorder=100, label='Threshold')\n",
    "ax.legend()\n",
    "plt.title(\"Reconstruction error for different classes\")\n",
    "plt.ylabel(\"Reconstruction error\")\n",
    "plt.xlabel(\"Data point index\")\n",
    "plt.show();"
   ]
  },
  {
   "cell_type": "code",
   "execution_count": 108,
   "metadata": {},
   "outputs": [
    {
     "data": {
      "image/png": "[encoded data removed]",
      "text/plain": [
       "<Figure size 864x864 with 2 Axes>"
      ]
     },
     "metadata": {},
     "output_type": "display_data"
    }
   ],
   "source": [
    "pred_y = [1 if e > threshold_fixed else 0 for e in error_df.Reconstruction_error.values]\n",
    "conf_matrix = confusion_matrix(error_df.True_class, pred_y)\n",
    "plt.figure(figsize=(12, 12))\n",
    "sns.heatmap(conf_matrix, xticklabels=LABELS, yticklabels=LABELS, annot=True, fmt=\"d\");\n",
    "plt.title(\"Confusion matrix\")\n",
    "plt.ylabel('True class')\n",
    "plt.xlabel('Predicted class')\n",
    "plt.show()"
   ]
  },
  {
   "cell_type": "code",
   "execution_count": 251,
   "metadata": {},
   "outputs": [],
   "source": [
    "from sklearn import svm"
   ]
  },
  {
   "cell_type": "code",
   "execution_count": 271,
   "metadata": {},
   "outputs": [],
   "source": [
    "dataset = data_hour_merge_24#.head(30000)"
   ]
  },
  {
   "cell_type": "code",
   "execution_count": 272,
   "metadata": {},
   "outputs": [],
   "source": [
    "X = dataset.loc[:, dataset.columns != 'class']\n",
    "y = dataset[\"class\"]"
   ]
  },
  {
   "cell_type": "code",
   "execution_count": 273,
   "metadata": {},
   "outputs": [],
   "source": [
    "X = dataset.loc[:, dataset.columns != 'class']\n",
    "y = dataset[\"class\"]\n",
    "X_train, X_test, y_train, y_test = train_test_split(X, y, test_size=0.33, random_state=123)"
   ]
  },
  {
   "cell_type": "code",
   "execution_count": 274,
   "metadata": {},
   "outputs": [],
   "source": [
    "clf = svm.SVC(gamma=0.001)"
   ]
  },
  {
   "cell_type": "code",
   "execution_count": 275,
   "metadata": {},
   "outputs": [
    {
     "data": {
      "text/plain": [
       "SVC(C=1.0, cache_size=200, class_weight=None, coef0=0.0,\n",
       "  decision_function_shape='ovr', degree=3, gamma=0.001, kernel='rbf',\n",
       "  max_iter=-1, probability=False, random_state=None, shrinking=True,\n",
       "  tol=0.001, verbose=False)"
      ]
     },
     "execution_count": 275,
     "metadata": {},
     "output_type": "execute_result"
    }
   ],
   "source": [
    "clf.fit(X_train, y_train)  "
   ]
  },
  {
   "cell_type": "code",
   "execution_count": 276,
   "metadata": {},
   "outputs": [],
   "source": [
    "slf_prediction = clf.predict(X_test)  "
   ]
  },
  {
   "cell_type": "code",
   "execution_count": 277,
   "metadata": {},
   "outputs": [
    {
     "data": {
      "image/png": "[encoded data removed]",
      "text/plain": [
       "<Figure size 864x864 with 2 Axes>"
      ]
     },
     "metadata": {},
     "output_type": "display_data"
    }
   ],
   "source": [
    "conf_matrix = confusion_matrix(y_test, slf_prediction)\n",
    "plt.figure(figsize=(12, 12))\n",
    "sns.heatmap(conf_matrix, xticklabels=LABELS, yticklabels=LABELS, annot=True, fmt=\"d\");\n",
    "plt.title(\"Confusion matrix\")\n",
    "plt.ylabel('True class')\n",
    "plt.xlabel('Predicted class')\n",
    "plt.show()"
   ]
  },
  {
   "cell_type": "code",
   "execution_count": 278,
   "metadata": {},
   "outputs": [],
   "source": [
    "from sklearn.ensemble import RandomForestClassifier"
   ]
  },
  {
   "cell_type": "code",
   "execution_count": 279,
   "metadata": {},
   "outputs": [
    {
     "name": "stdout",
     "output_type": "stream",
     "text": [
      "[0 0 0 ... 0 0 0]\n"
     ]
    }
   ],
   "source": [
    "#RandomForestClassifier\n",
    "rfc_clf = RandomForestClassifier()\n",
    "rfc_clf.fit(X_train,y_train)\n",
    "rfc_prediction = rfc_clf.predict(X_test)\n",
    "print(rfc_prediction)"
   ]
  },
  {
   "cell_type": "code",
   "execution_count": 280,
   "metadata": {},
   "outputs": [
    {
     "data": {
      "image/png": "[encoded data removed]",
      "text/plain": [
       "<Figure size 864x864 with 2 Axes>"
      ]
     },
     "metadata": {},
     "output_type": "display_data"
    }
   ],
   "source": [
    "conf_matrix = confusion_matrix(y_test, rfc_prediction)\n",
    "plt.figure(figsize=(12, 12))\n",
    "sns.heatmap(conf_matrix, xticklabels=LABELS, yticklabels=LABELS, annot=True, fmt=\"d\");\n",
    "plt.title(\"Confusion matrix\")\n",
    "plt.ylabel('True class')\n",
    "plt.xlabel('Predicted class')\n",
    "plt.show()"
   ]
  },
  {
   "cell_type": "code",
   "execution_count": 324,
   "metadata": {},
   "outputs": [
    {
     "ename": "ValueError",
     "evalue": "Unknown label type: 'continuous'",
     "output_type": "error",
     "traceback": [
      "\u001b[0;31m---------------------------------------------------------------------------\u001b[0m",
      "\u001b[0;31mValueError\u001b[0m                                Traceback (most recent call last)",
      "\u001b[0;32m<ipython-input-324-aa30ef3619ea>\u001b[0m in \u001b[0;36m<module>\u001b[0;34m()\u001b[0m\n\u001b[1;32m      4\u001b[0m \u001b[0;31m#DecisionTreeClassifier\u001b[0m\u001b[0;34m\u001b[0m\u001b[0;34m\u001b[0m\u001b[0m\n\u001b[1;32m      5\u001b[0m \u001b[0mdtc_clf\u001b[0m \u001b[0;34m=\u001b[0m \u001b[0mtree\u001b[0m\u001b[0;34m.\u001b[0m\u001b[0mDecisionTreeClassifier\u001b[0m\u001b[0;34m(\u001b[0m\u001b[0;34m)\u001b[0m\u001b[0;34m\u001b[0m\u001b[0m\n\u001b[0;32m----> 6\u001b[0;31m \u001b[0mdtc_clf\u001b[0m \u001b[0;34m=\u001b[0m \u001b[0mdtc_clf\u001b[0m\u001b[0;34m.\u001b[0m\u001b[0mfit\u001b[0m\u001b[0;34m(\u001b[0m\u001b[0mX_train\u001b[0m\u001b[0;34m,\u001b[0m\u001b[0my_train\u001b[0m\u001b[0;34m)\u001b[0m\u001b[0;34m\u001b[0m\u001b[0m\n\u001b[0m\u001b[1;32m      7\u001b[0m \u001b[0mdtc_prediction\u001b[0m \u001b[0;34m=\u001b[0m \u001b[0mdtc_clf\u001b[0m\u001b[0;34m.\u001b[0m\u001b[0mpredict\u001b[0m\u001b[0;34m(\u001b[0m\u001b[0mX_train\u001b[0m\u001b[0;34m)\u001b[0m\u001b[0;34m\u001b[0m\u001b[0m\n\u001b[1;32m      8\u001b[0m \u001b[0mprint\u001b[0m\u001b[0;34m(\u001b[0m\u001b[0mdtc_prediction\u001b[0m\u001b[0;34m)\u001b[0m\u001b[0;34m\u001b[0m\u001b[0m\n",
      "\u001b[0;32m~/anaconda3/lib/python3.6/site-packages/sklearn/tree/tree.py\u001b[0m in \u001b[0;36mfit\u001b[0;34m(self, X, y, sample_weight, check_input, X_idx_sorted)\u001b[0m\n\u001b[1;32m    788\u001b[0m             \u001b[0msample_weight\u001b[0m\u001b[0;34m=\u001b[0m\u001b[0msample_weight\u001b[0m\u001b[0;34m,\u001b[0m\u001b[0;34m\u001b[0m\u001b[0m\n\u001b[1;32m    789\u001b[0m             \u001b[0mcheck_input\u001b[0m\u001b[0;34m=\u001b[0m\u001b[0mcheck_input\u001b[0m\u001b[0;34m,\u001b[0m\u001b[0;34m\u001b[0m\u001b[0m\n\u001b[0;32m--> 790\u001b[0;31m             X_idx_sorted=X_idx_sorted)\n\u001b[0m\u001b[1;32m    791\u001b[0m         \u001b[0;32mreturn\u001b[0m \u001b[0mself\u001b[0m\u001b[0;34m\u001b[0m\u001b[0m\n\u001b[1;32m    792\u001b[0m \u001b[0;34m\u001b[0m\u001b[0m\n",
      "\u001b[0;32m~/anaconda3/lib/python3.6/site-packages/sklearn/tree/tree.py\u001b[0m in \u001b[0;36mfit\u001b[0;34m(self, X, y, sample_weight, check_input, X_idx_sorted)\u001b[0m\n\u001b[1;32m    138\u001b[0m \u001b[0;34m\u001b[0m\u001b[0m\n\u001b[1;32m    139\u001b[0m         \u001b[0;32mif\u001b[0m \u001b[0mis_classification\u001b[0m\u001b[0;34m:\u001b[0m\u001b[0;34m\u001b[0m\u001b[0m\n\u001b[0;32m--> 140\u001b[0;31m             \u001b[0mcheck_classification_targets\u001b[0m\u001b[0;34m(\u001b[0m\u001b[0my\u001b[0m\u001b[0;34m)\u001b[0m\u001b[0;34m\u001b[0m\u001b[0m\n\u001b[0m\u001b[1;32m    141\u001b[0m             \u001b[0my\u001b[0m \u001b[0;34m=\u001b[0m \u001b[0mnp\u001b[0m\u001b[0;34m.\u001b[0m\u001b[0mcopy\u001b[0m\u001b[0;34m(\u001b[0m\u001b[0my\u001b[0m\u001b[0;34m)\u001b[0m\u001b[0;34m\u001b[0m\u001b[0m\n\u001b[1;32m    142\u001b[0m \u001b[0;34m\u001b[0m\u001b[0m\n",
      "\u001b[0;32m~/anaconda3/lib/python3.6/site-packages/sklearn/utils/multiclass.py\u001b[0m in \u001b[0;36mcheck_classification_targets\u001b[0;34m(y)\u001b[0m\n\u001b[1;32m    170\u001b[0m     if y_type not in ['binary', 'multiclass', 'multiclass-multioutput',\n\u001b[1;32m    171\u001b[0m                       'multilabel-indicator', 'multilabel-sequences']:\n\u001b[0;32m--> 172\u001b[0;31m         \u001b[0;32mraise\u001b[0m \u001b[0mValueError\u001b[0m\u001b[0;34m(\u001b[0m\u001b[0;34m\"Unknown label type: %r\"\u001b[0m \u001b[0;34m%\u001b[0m \u001b[0my_type\u001b[0m\u001b[0;34m)\u001b[0m\u001b[0;34m\u001b[0m\u001b[0m\n\u001b[0m\u001b[1;32m    173\u001b[0m \u001b[0;34m\u001b[0m\u001b[0m\n\u001b[1;32m    174\u001b[0m \u001b[0;34m\u001b[0m\u001b[0m\n",
      "\u001b[0;31mValueError\u001b[0m: Unknown label type: 'continuous'"
     ]
    }
   ],
   "source": [
    "from sklearn import tree\n",
    "#The code for the classification is as follows\n",
    "\n",
    "#DecisionTreeClassifier\n",
    "dtc_clf = tree.DecisionTreeClassifier()\n",
    "dtc_clf = dtc_clf.fit(X_train,y_train)\n",
    "dtc_prediction = dtc_clf.predict(X_train)\n",
    "print(dtc_prediction)"
   ]
  },
  {
   "cell_type": "code",
   "execution_count": 325,
   "metadata": {},
   "outputs": [
    {
     "ename": "ValueError",
     "evalue": "Classification metrics can't handle a mix of continuous and binary targets",
     "output_type": "error",
     "traceback": [
      "\u001b[0;31m---------------------------------------------------------------------------\u001b[0m",
      "\u001b[0;31mValueError\u001b[0m                                Traceback (most recent call last)",
      "\u001b[0;32m<ipython-input-325-41ee50a86d3c>\u001b[0m in \u001b[0;36m<module>\u001b[0;34m()\u001b[0m\n\u001b[0;32m----> 1\u001b[0;31m \u001b[0mconf_matrix\u001b[0m \u001b[0;34m=\u001b[0m \u001b[0mconfusion_matrix\u001b[0m\u001b[0;34m(\u001b[0m\u001b[0my_test\u001b[0m\u001b[0;34m,\u001b[0m \u001b[0mdtc_prediction\u001b[0m\u001b[0;34m)\u001b[0m\u001b[0;34m\u001b[0m\u001b[0m\n\u001b[0m\u001b[1;32m      2\u001b[0m \u001b[0mplt\u001b[0m\u001b[0;34m.\u001b[0m\u001b[0mfigure\u001b[0m\u001b[0;34m(\u001b[0m\u001b[0mfigsize\u001b[0m\u001b[0;34m=\u001b[0m\u001b[0;34m(\u001b[0m\u001b[0;36m12\u001b[0m\u001b[0;34m,\u001b[0m \u001b[0;36m12\u001b[0m\u001b[0;34m)\u001b[0m\u001b[0;34m)\u001b[0m\u001b[0;34m\u001b[0m\u001b[0m\n\u001b[1;32m      3\u001b[0m \u001b[0msns\u001b[0m\u001b[0;34m.\u001b[0m\u001b[0mheatmap\u001b[0m\u001b[0;34m(\u001b[0m\u001b[0mconf_matrix\u001b[0m\u001b[0;34m,\u001b[0m \u001b[0mxticklabels\u001b[0m\u001b[0;34m=\u001b[0m\u001b[0mLABELS\u001b[0m\u001b[0;34m,\u001b[0m \u001b[0myticklabels\u001b[0m\u001b[0;34m=\u001b[0m\u001b[0mLABELS\u001b[0m\u001b[0;34m,\u001b[0m \u001b[0mannot\u001b[0m\u001b[0;34m=\u001b[0m\u001b[0;32mTrue\u001b[0m\u001b[0;34m,\u001b[0m \u001b[0mfmt\u001b[0m\u001b[0;34m=\u001b[0m\u001b[0;34m\"d\"\u001b[0m\u001b[0;34m)\u001b[0m\u001b[0;34m;\u001b[0m\u001b[0;34m\u001b[0m\u001b[0m\n\u001b[1;32m      4\u001b[0m \u001b[0mplt\u001b[0m\u001b[0;34m.\u001b[0m\u001b[0mtitle\u001b[0m\u001b[0;34m(\u001b[0m\u001b[0;34m\"Confusion matrix\"\u001b[0m\u001b[0;34m)\u001b[0m\u001b[0;34m\u001b[0m\u001b[0m\n\u001b[1;32m      5\u001b[0m \u001b[0mplt\u001b[0m\u001b[0;34m.\u001b[0m\u001b[0mylabel\u001b[0m\u001b[0;34m(\u001b[0m\u001b[0;34m'True class'\u001b[0m\u001b[0;34m)\u001b[0m\u001b[0;34m\u001b[0m\u001b[0m\n",
      "\u001b[0;32m~/anaconda3/lib/python3.6/site-packages/sklearn/metrics/classification.py\u001b[0m in \u001b[0;36mconfusion_matrix\u001b[0;34m(y_true, y_pred, labels, sample_weight)\u001b[0m\n\u001b[1;32m    248\u001b[0m \u001b[0;34m\u001b[0m\u001b[0m\n\u001b[1;32m    249\u001b[0m     \"\"\"\n\u001b[0;32m--> 250\u001b[0;31m     \u001b[0my_type\u001b[0m\u001b[0;34m,\u001b[0m \u001b[0my_true\u001b[0m\u001b[0;34m,\u001b[0m \u001b[0my_pred\u001b[0m \u001b[0;34m=\u001b[0m \u001b[0m_check_targets\u001b[0m\u001b[0;34m(\u001b[0m\u001b[0my_true\u001b[0m\u001b[0;34m,\u001b[0m \u001b[0my_pred\u001b[0m\u001b[0;34m)\u001b[0m\u001b[0;34m\u001b[0m\u001b[0m\n\u001b[0m\u001b[1;32m    251\u001b[0m     \u001b[0;32mif\u001b[0m \u001b[0my_type\u001b[0m \u001b[0;32mnot\u001b[0m \u001b[0;32min\u001b[0m \u001b[0;34m(\u001b[0m\u001b[0;34m\"binary\"\u001b[0m\u001b[0;34m,\u001b[0m \u001b[0;34m\"multiclass\"\u001b[0m\u001b[0;34m)\u001b[0m\u001b[0;34m:\u001b[0m\u001b[0;34m\u001b[0m\u001b[0m\n\u001b[1;32m    252\u001b[0m         \u001b[0;32mraise\u001b[0m \u001b[0mValueError\u001b[0m\u001b[0;34m(\u001b[0m\u001b[0;34m\"%s is not supported\"\u001b[0m \u001b[0;34m%\u001b[0m \u001b[0my_type\u001b[0m\u001b[0;34m)\u001b[0m\u001b[0;34m\u001b[0m\u001b[0m\n",
      "\u001b[0;32m~/anaconda3/lib/python3.6/site-packages/sklearn/metrics/classification.py\u001b[0m in \u001b[0;36m_check_targets\u001b[0;34m(y_true, y_pred)\u001b[0m\n\u001b[1;32m     79\u001b[0m     \u001b[0;32mif\u001b[0m \u001b[0mlen\u001b[0m\u001b[0;34m(\u001b[0m\u001b[0my_type\u001b[0m\u001b[0;34m)\u001b[0m \u001b[0;34m>\u001b[0m \u001b[0;36m1\u001b[0m\u001b[0;34m:\u001b[0m\u001b[0;34m\u001b[0m\u001b[0m\n\u001b[1;32m     80\u001b[0m         raise ValueError(\"Classification metrics can't handle a mix of {0} \"\n\u001b[0;32m---> 81\u001b[0;31m                          \"and {1} targets\".format(type_true, type_pred))\n\u001b[0m\u001b[1;32m     82\u001b[0m \u001b[0;34m\u001b[0m\u001b[0m\n\u001b[1;32m     83\u001b[0m     \u001b[0;31m# We can't have more than one value on y_type => The set is no more needed\u001b[0m\u001b[0;34m\u001b[0m\u001b[0;34m\u001b[0m\u001b[0m\n",
      "\u001b[0;31mValueError\u001b[0m: Classification metrics can't handle a mix of continuous and binary targets"
     ]
    }
   ],
   "source": [
    "conf_matrix = confusion_matrix(y_test, dtc_prediction)\n",
    "plt.figure(figsize=(12, 12))\n",
    "sns.heatmap(conf_matrix, xticklabels=LABELS, yticklabels=LABELS, annot=True, fmt=\"d\");\n",
    "plt.title(\"Confusion matrix\")\n",
    "plt.ylabel('True class')\n",
    "plt.xlabel('Predicted class')\n",
    "plt.show()"
   ]
  },
  {
   "cell_type": "code",
   "execution_count": 295,
   "metadata": {},
   "outputs": [
    {
     "data": {
      "text/plain": [
       "37"
      ]
     },
     "execution_count": 295,
     "metadata": {},
     "output_type": "execute_result"
    }
   ],
   "source": [
    "y_test[y_test>0].count()"
   ]
  },
  {
   "cell_type": "code",
   "execution_count": 298,
   "metadata": {},
   "outputs": [],
   "source": [
    "import pickle"
   ]
  },
  {
   "cell_type": "code",
   "execution_count": 301,
   "metadata": {},
   "outputs": [
    {
     "data": {
      "text/plain": [
       "['/home/paw/DanielBustillos/random_forest_class.pkl']"
      ]
     },
     "execution_count": 301,
     "metadata": {},
     "output_type": "execute_result"
    }
   ],
   "source": [
    "from sklearn.externals import joblib\n",
    "# Output a pickle file for the model\n",
    "joblib.dump(clf, '/home/paw/DanielBustillos/random_forest_class.pkl') "
   ]
  },
  {
   "cell_type": "code",
   "execution_count": 303,
   "metadata": {},
   "outputs": [],
   "source": [
    "# Load the pickle file\n",
    "clf_load = joblib.load('/home/paw/DanielBustillos/random_forest_class.pkl') "
   ]
  }
 ],
 "metadata": {
  "kernelspec": {
   "display_name": "Python 3",
   "language": "python",
   "name": "python3"
  },
  "language_info": {
   "codemirror_mode": {
    "name": "ipython",
    "version": 3
   },
   "file_extension": ".py",
   "mimetype": "text/x-python",
   "name": "python",
   "nbconvert_exporter": "python",
   "pygments_lexer": "ipython3",
   "version": "3.6.5"
  }
 },
 "nbformat": 4,
 "nbformat_minor": 2
}
