{
 "cells": [
  {
   "cell_type": "code",
   "execution_count": 1,
   "metadata": {},
   "outputs": [],
   "source": [
    "import warnings\n",
    "import itertools\n",
    "import numpy as np\n",
    "import matplotlib.pyplot as plt\n",
    "\n",
    "plt.style.use('fivethirtyeight')\n",
    "import pandas as pd\n",
    "import statsmodels.api as sm\n",
    "import matplotlib\n",
    "\n",
    "from sklearn import preprocessing\n",
    "import datetime\n",
    "\n",
    "import xgboost as xgb\n",
    "from sklearn.metrics import mean_squared_error\n",
    "import pandas as pd\n",
    "import numpy as np\n",
    "\n",
    "from sklearn.model_selection import train_test_split\n",
    "\n",
    "import os\n",
    "os.environ['KMP_DUPLICATE_LIB_OK']='True'\n",
    "from xgboost import XGBClassifier\n",
    "\n",
    "import seaborn as sns\n",
    "\n",
    "from datetime import timedelta\n",
    "from pylab import rcParams\n",
    "\n",
    "from xgboost import plot_tree\n",
    "from sklearn.svm import SVR\n",
    "from sklearn.preprocessing import StandardScaler\n",
    "\n",
    "import numpy as np\n",
    "import matplotlib.pyplot as plt\n",
    "from sklearn.tree import DecisionTreeRegressor\n",
    "from sklearn.ensemble import AdaBoostRegressor\n",
    "\n"
   ]
  },
  {
   "cell_type": "markdown",
   "metadata": {},
   "source": [
    "## Trabajaremos con la estación MGH"
   ]
  },
  {
   "cell_type": "markdown",
   "metadata": {},
   "source": [
    "Leemos los archivos por hora:"
   ]
  },
  {
   "cell_type": "code",
   "execution_count": 2,
   "metadata": {},
   "outputs": [],
   "source": [
    "data_hora_12 = pd.read_csv('/home/paw/DanielBustillos/datasets/dia/cont_hora2012.csv')\n",
    "data_hora_13 = pd.read_csv('/home/paw/DanielBustillos/datasets/dia/cont_hora2013.csv')\n",
    "data_hora_14 = pd.read_csv('/home/paw/DanielBustillos/datasets/dia/cont_hora2014.csv')\n",
    "data_hora_15 = pd.read_csv('/home/paw/DanielBustillos/datasets/dia/cont_hora2015.csv')\n",
    "data_hora_16 = pd.read_csv('/home/paw/DanielBustillos/datasets/dia/cont_hora2016.csv')\n",
    "data_hora_17 = pd.read_csv('/home/paw/DanielBustillos/datasets/dia/cont_hora2017.csv')\n",
    "#data_MGH_12 = pd.read_csv('/Users/danielbustillos/Documents/servicio/Contaminación PM10/Outputs/por_hora/cont_hora2018.csv')"
   ]
  },
  {
   "cell_type": "code",
   "execution_count": 3,
   "metadata": {},
   "outputs": [],
   "source": [
    "data_hora_17 = data_hora_17.append(data_hora_16, ignore_index=True)\n",
    "data_hora_17 = data_hora_17.append(data_hora_15, ignore_index=True)\n",
    "data_hora_17 = data_hora_17.append(data_hora_14, ignore_index=True)\n",
    "data_hora_17 = data_hora_17.append(data_hora_13, ignore_index=True)\n",
    "data_hora_17 = data_hora_17.append(data_hora_12, ignore_index=True)"
   ]
  },
  {
   "cell_type": "code",
   "execution_count": 4,
   "metadata": {},
   "outputs": [],
   "source": [
    "data_hora = data_hora_17"
   ]
  },
  {
   "cell_type": "code",
   "execution_count": 5,
   "metadata": {},
   "outputs": [],
   "source": [
    "data_hora['dia'] = data_hora['fecha'].astype(str).str[8:10]\n",
    "data_hora['mes'] =  data_hora['fecha'].astype(str).str[5:7]"
   ]
  },
  {
   "cell_type": "code",
   "execution_count": 6,
   "metadata": {},
   "outputs": [],
   "source": [
    "data_hora['fecha'] = data_hora['fecha'].astype(str).str[0:10]"
   ]
  },
  {
   "cell_type": "code",
   "execution_count": 7,
   "metadata": {},
   "outputs": [],
   "source": [
    "data_hora = data_hora.drop([\"Unnamed: 0\"],axis=1)\n",
    "data_hora = data_hora.drop_duplicates()\n",
    "data_hora = data_hora[1::]"
   ]
  },
  {
   "cell_type": "code",
   "execution_count": 8,
   "metadata": {},
   "outputs": [],
   "source": [
    "data_hora = data_hora.groupby(['fecha',\"dia\",\"hora\",\"mes\"])[ 'UVA', 'UVB',\n",
    "       'PA', 'CO', 'NO', 'NO2', 'NOX', 'O3', 'PM2.5', 'PMCO', 'SO2', 'RH',\n",
    "       'TMP', 'WSP', 'WDR', 'PM10'].mean()\n",
    "data_hora.reset_index(inplace=True)"
   ]
  },
  {
   "cell_type": "markdown",
   "metadata": {},
   "source": [
    "\n",
    "# Promedio Diario"
   ]
  },
  {
   "cell_type": "raw",
   "metadata": {},
   "source": [
    "data_dia_12 = pd.read_csv('/Users/danielbustillos/Documents/servicio/Contaminación PM10/Outputs/por_dia/cont_dia2012.csv')\n",
    "data_dia_13 = pd.read_csv('/Users/danielbustillos/Documents/servicio/Contaminación PM10/Outputs/por_dia/cont_dia2013.csv')\n",
    "data_dia_14 = pd.read_csv('/Users/danielbustillos/Documents/servicio/Contaminación PM10/Outputs/por_dia/cont_dia2014.csv')\n",
    "data_dia_15 = pd.read_csv('/Users/danielbustillos/Documents/servicio/Contaminación PM10/Outputs/por_dia/cont_dia2015.csv')\n",
    "data_dia_16 = pd.read_csv('/Users/danielbustillos/Documents/servicio/Contaminación PM10/Outputs/por_dia/cont_dia2016.csv')\n",
    "data_dia_17 = pd.read_csv('/Users/danielbustillos/Documents/servicio/Contaminación PM10/Outputs/por_dia/cont_dia2016.csv')"
   ]
  },
  {
   "cell_type": "raw",
   "metadata": {},
   "source": [
    "data_dia_17 = data_dia_17.append(data_dia_16, ignore_index=True)\n",
    "data_dia_17 = data_dia_17.append(data_dia_15, ignore_index=True)\n",
    "data_dia_17 = data_dia_17.append(data_dia_14, ignore_index=True)\n",
    "data_dia_17 = data_dia_17.append(data_dia_13, ignore_index=True)\n",
    "data_dia_17 = data_dia_17.append(data_dia_12, ignore_index=True)"
   ]
  },
  {
   "cell_type": "code",
   "execution_count": 9,
   "metadata": {},
   "outputs": [],
   "source": [
    "data_mean = data_hora.groupby(['fecha'])['UVA', 'UVB', 'PA', 'CO', 'NO', 'NO2',\n",
    "       'NOX', 'O3', 'PM2.5', 'PMCO', 'SO2', 'RH', 'TMP', 'WSP', 'WDR', 'PM10'].mean()\n",
    "data_mean.reset_index(inplace=True)"
   ]
  },
  {
   "cell_type": "code",
   "execution_count": 10,
   "metadata": {},
   "outputs": [],
   "source": [
    "data_min = data_hora.groupby(['fecha'])[\"TMP\",\"PM10\",\"RH\",\"PA\",\"UVB\",\"UVA\"].min()\n",
    "data_min.reset_index(inplace=True)"
   ]
  },
  {
   "cell_type": "code",
   "execution_count": 11,
   "metadata": {},
   "outputs": [],
   "source": [
    "data_max = data_hora.groupby(['fecha'])[\"TMP\",\"PM10\",\"RH\",\"PA\",\"UVB\",\"UVA\"].max()\n",
    "data_max.reset_index(inplace=True)"
   ]
  },
  {
   "cell_type": "code",
   "execution_count": 12,
   "metadata": {},
   "outputs": [],
   "source": [
    "data_day = pd.merge(data_min, data_max, on=[\"fecha\"])\n",
    "data_day = pd.merge(data_day, data_mean, on=[\"fecha\"])"
   ]
  },
  {
   "cell_type": "markdown",
   "metadata": {},
   "source": [
    "## Añadimos Precipitación que solo esta en días:"
   ]
  },
  {
   "cell_type": "markdown",
   "metadata": {},
   "source": [
    "## Precipitación"
   ]
  },
  {
   "cell_type": "code",
   "execution_count": 13,
   "metadata": {},
   "outputs": [],
   "source": [
    "prec_2017 = pd.read_excel('/home/paw/DanielBustillos/datasets/precipitacion/2017PPH.xls')\n",
    "prec_2016 = pd.read_excel('/home/paw/DanielBustillos/datasets/precipitacion/2016PPH.xls')\n",
    "prec_2015 = pd.read_excel('/home/paw/DanielBustillos/datasets/precipitacion/2015PPH.xls')\n",
    "prec_2014 = pd.read_excel('/home/paw/DanielBustillos/datasets/precipitacion/2014PPH.xls')\n",
    "prec_2013 = pd.read_excel('/home/paw/DanielBustillos/datasets/precipitacion/2013PPH.xls')\n",
    "prec_2012 = pd.read_excel('/home/paw/DanielBustillos/datasets/precipitacion/2012PPH.xls')"
   ]
  },
  {
   "cell_type": "code",
   "execution_count": 14,
   "metadata": {},
   "outputs": [],
   "source": [
    "prec_2017 = prec_2017.append(prec_2016, ignore_index=True)\n",
    "prec_2017 = prec_2017.append(prec_2015, ignore_index=True)\n",
    "prec_2017 = prec_2017.append(prec_2014, ignore_index=True)\n",
    "prec_2017 = prec_2017.append(prec_2013, ignore_index=True)\n",
    "prec_2017 = prec_2017.append(prec_2012, ignore_index=True)"
   ]
  },
  {
   "cell_type": "code",
   "execution_count": 15,
   "metadata": {},
   "outputs": [],
   "source": [
    "prec = prec_2017"
   ]
  },
  {
   "cell_type": "markdown",
   "metadata": {},
   "source": [
    "Los valores vacíos vienen como -99, vamos a eliminarlos:"
   ]
  },
  {
   "cell_type": "code",
   "execution_count": 16,
   "metadata": {},
   "outputs": [],
   "source": [
    "prec = prec.where(prec.LOM != -99.00)"
   ]
  },
  {
   "cell_type": "code",
   "execution_count": 17,
   "metadata": {},
   "outputs": [],
   "source": [
    "prec = prec.dropna()"
   ]
  },
  {
   "cell_type": "markdown",
   "metadata": {},
   "source": [
    "Renombramos algunas columnas:"
   ]
  },
  {
   "cell_type": "code",
   "execution_count": 18,
   "metadata": {},
   "outputs": [],
   "source": [
    "prec = prec.rename(columns={'FECHA': 'fecha'})"
   ]
  },
  {
   "cell_type": "markdown",
   "metadata": {},
   "source": [
    "Transponemos el df:"
   ]
  },
  {
   "cell_type": "code",
   "execution_count": 19,
   "metadata": {},
   "outputs": [],
   "source": [
    "prec = pd.melt(prec, id_vars=[\"fecha\"], \n",
    "                   var_name=\"id_station\",value_name=\"Precip\")"
   ]
  },
  {
   "cell_type": "code",
   "execution_count": 20,
   "metadata": {},
   "outputs": [],
   "source": [
    "prec['fecha'] =  pd.to_datetime(prec['fecha'], format='%Y-%m-%d %H:%M')"
   ]
  },
  {
   "cell_type": "markdown",
   "metadata": {},
   "source": [
    "Lo unimos con el archivo ya generadio:"
   ]
  },
  {
   "cell_type": "code",
   "execution_count": 21,
   "metadata": {},
   "outputs": [],
   "source": [
    "data_day[\"fecha\"] =  pd.to_datetime(data_day[\"fecha\"], format='%Y-%m-%d %H:%M')"
   ]
  },
  {
   "cell_type": "code",
   "execution_count": 22,
   "metadata": {},
   "outputs": [],
   "source": [
    "data_day_avg = pd.merge(data_day, prec, on=[\"fecha\"],  how='left')"
   ]
  },
  {
   "cell_type": "code",
   "execution_count": 23,
   "metadata": {},
   "outputs": [],
   "source": [
    "data_day_avg = data_day_avg.fillna(0)"
   ]
  },
  {
   "cell_type": "code",
   "execution_count": 24,
   "metadata": {},
   "outputs": [],
   "source": [
    "data_day_avg[\"dia\"] = pd.DatetimeIndex(data_day_avg['fecha']).day\n",
    "data_day_avg[\"mes\"] = pd.DatetimeIndex(data_day_avg['fecha']).month"
   ]
  },
  {
   "cell_type": "code",
   "execution_count": 25,
   "metadata": {},
   "outputs": [
    {
     "data": {
      "text/plain": [
       "Index(['fecha', 'TMP_x', 'PM10_x', 'RH_x', 'PA_x', 'UVB_x', 'UVA_x', 'TMP_y',\n",
       "       'PM10_y', 'RH_y', 'PA_y', 'UVB_y', 'UVA_y', 'UVA', 'UVB', 'PA', 'CO',\n",
       "       'NO', 'NO2', 'NOX', 'O3', 'PM2.5', 'PMCO', 'SO2', 'RH', 'TMP', 'WSP',\n",
       "       'WDR', 'PM10', 'id_station', 'Precip', 'dia', 'mes'],\n",
       "      dtype='object')"
      ]
     },
     "execution_count": 25,
     "metadata": {},
     "output_type": "execute_result"
    }
   ],
   "source": [
    "data_day_avg.columns"
   ]
  },
  {
   "cell_type": "markdown",
   "metadata": {},
   "source": [
    "### Limpiemos los outliers"
   ]
  },
  {
   "cell_type": "code",
   "execution_count": 26,
   "metadata": {},
   "outputs": [],
   "source": [
    "data_day_avg = data_day_avg[data_day_avg.PM10_y<200]"
   ]
  },
  {
   "cell_type": "code",
   "execution_count": 27,
   "metadata": {},
   "outputs": [],
   "source": [
    "data_hour_merge_24 = data_day_avg"
   ]
  },
  {
   "cell_type": "code",
   "execution_count": 28,
   "metadata": {},
   "outputs": [],
   "source": [
    "data_hour_merge_24[\"PM10_24\"] = data_hour_merge_24.PM10_y.shift(1)\n",
    "data_hour_merge_24[\"PM10_1_a\"] = data_hour_merge_24.PM10.shift(-1)\n",
    "data_hour_merge_24[\"PM10_2_a\"] = data_hour_merge_24.PM10.shift(-2)\n",
    "data_hour_merge_24[\"PM10_3_a\"] = data_hour_merge_24.PM10.shift(-3)\n",
    "data_hour_merge_24[\"PM10_4_a\"] = data_hour_merge_24.PM10.shift(-4)\n",
    "\n",
    "data_hour_merge_24[\"PM10_2_y\"] = data_hour_merge_24.PM10_y.shift(-2)\n",
    "data_hour_merge_24[\"PM10_3_y\"] = data_hour_merge_24.PM10_y.shift(-3)\n",
    "data_hour_merge_24[\"PM10_4_y\"] = data_hour_merge_24.PM10_y.shift(-4)\n",
    "\n",
    "\n",
    "data_hour_merge_24[\"PM10_24\"] = data_hour_merge_24.PM10_y.shift(-1)\n",
    "data_hour_merge_24[\"PM10_24_x\"] = data_hour_merge_24.PM10_x.shift(1)\n",
    "data_hour_merge_24[\"temp_24\"] = data_hour_merge_24.TMP.shift(-1)\n",
    "data_hour_merge_24[\"pre_24\"] = data_hour_merge_24.PA.shift(-1)\n",
    "data_hour_merge_24[\"RH_24\"] = data_hour_merge_24.RH_y.shift(-1)\n",
    "data_hour_merge_24[\"RH_24_2\"] = data_hour_merge_24.RH_y.shift(-2)\n",
    "\n",
    "data_hour_merge_24[\"RH_24\"] = data_hour_merge_24.RH_y.shift(-1)\n",
    "data_hour_merge_24[\"RH_24_2\"] = data_hour_merge_24.RH_y.shift(-2)\n",
    "\n",
    "data_hour_merge_24[\"UVB_x_1\"] = data_hour_merge_24.UVB_x.shift(-1)\n",
    "data_hour_merge_24[\"UVB_x_2\"] = data_hour_merge_24.UVB_x.shift(-2)\n",
    "data_hour_merge_24[\"UVB_y_1\"] = data_hour_merge_24.UVB_y.shift(-1)\n",
    "data_hour_merge_24[\"UVB_y_2\"] = data_hour_merge_24.UVB_y.shift(-2)\n",
    "\n",
    "#data_MGH_18 = data_MGH_18.iloc[:,:-6]"
   ]
  },
  {
   "cell_type": "code",
   "execution_count": 29,
   "metadata": {},
   "outputs": [
    {
     "data": {
      "text/plain": [
       "Index(['fecha', 'TMP_x', 'PM10_x', 'RH_x', 'PA_x', 'UVB_x', 'UVA_x', 'TMP_y',\n",
       "       'PM10_y', 'RH_y', 'PA_y', 'UVB_y', 'UVA_y', 'UVA', 'UVB', 'PA', 'CO',\n",
       "       'NO', 'NO2', 'NOX', 'O3', 'PM2.5', 'PMCO', 'SO2', 'RH', 'TMP', 'WSP',\n",
       "       'WDR', 'PM10', 'id_station', 'Precip', 'dia', 'mes', 'PM10_24',\n",
       "       'PM10_1_a', 'PM10_2_a', 'PM10_3_a', 'PM10_4_a', 'PM10_2_y', 'PM10_3_y',\n",
       "       'PM10_4_y', 'PM10_24_x', 'temp_24', 'pre_24', 'RH_24', 'RH_24_2',\n",
       "       'UVB_x_1', 'UVB_x_2', 'UVB_y_1', 'UVB_y_2'],\n",
       "      dtype='object')"
      ]
     },
     "execution_count": 29,
     "metadata": {},
     "output_type": "execute_result"
    }
   ],
   "source": [
    "data_day_avg.columns"
   ]
  },
  {
   "cell_type": "code",
   "execution_count": 30,
   "metadata": {},
   "outputs": [],
   "source": [
    "data_hour_merge_24 = data_hour_merge_24[[\"dia\" ,\"mes\", 'TMP_x', 'PM10_x', 'RH_x', 'PA_x', 'UVB_x', 'UVA_x', 'TMP_y',\n",
    "       'PM10_y', 'RH_y', 'PA_y', 'UVB_y', 'UVA_y', 'UVA', 'UVB', 'PA', 'CO',\n",
    "       'NO', 'NO2', 'NOX', 'O3', 'PM2.5', 'PMCO', 'SO2', 'RH', 'TMP', 'WSP',\n",
    "       'WDR', 'PM10', 'Precip', 'PM10_24_x', 'temp_24', 'pre_24', 'RH_24',\n",
    "       'RH_24_2', 'UVB_x_1', 'UVB_x_2', 'UVB_y_1', 'UVB_y_2',\n",
    "       'PM10_1_a', 'PM10_2_a', 'PM10_3_a', 'PM10_4_a', 'PM10_2_y', 'PM10_3_y',\n",
    "       'PM10_4_y','PM10_24']]"
   ]
  },
  {
   "cell_type": "code",
   "execution_count": 31,
   "metadata": {},
   "outputs": [],
   "source": [
    "data_hour_merge_24 = data_hour_merge_24.dropna(how='any')"
   ]
  },
  {
   "cell_type": "code",
   "execution_count": 32,
   "metadata": {},
   "outputs": [],
   "source": [
    "data_hour_merge_24['dia'] = data_hour_merge_24['dia'].astype(str).astype(float)\n",
    "data_hour_merge_24['mes'] = data_hour_merge_24['mes'].astype(str).astype(float)"
   ]
  },
  {
   "cell_type": "code",
   "execution_count": 33,
   "metadata": {},
   "outputs": [
    {
     "data": {
      "text/html": [
       "<div>\n",
       "<style scoped>\n",
       "    .dataframe tbody tr th:only-of-type {\n",
       "        vertical-align: middle;\n",
       "    }\n",
       "\n",
       "    .dataframe tbody tr th {\n",
       "        vertical-align: top;\n",
       "    }\n",
       "\n",
       "    .dataframe thead th {\n",
       "        text-align: right;\n",
       "    }\n",
       "</style>\n",
       "<table border=\"1\" class=\"dataframe\">\n",
       "  <thead>\n",
       "    <tr style=\"text-align: right;\">\n",
       "      <th></th>\n",
       "      <th>dia</th>\n",
       "      <th>mes</th>\n",
       "      <th>TMP_x</th>\n",
       "      <th>PM10_x</th>\n",
       "      <th>RH_x</th>\n",
       "      <th>PA_x</th>\n",
       "      <th>UVB_x</th>\n",
       "      <th>UVA_x</th>\n",
       "      <th>TMP_y</th>\n",
       "      <th>PM10_y</th>\n",
       "      <th>...</th>\n",
       "      <th>UVB_y_1</th>\n",
       "      <th>UVB_y_2</th>\n",
       "      <th>PM10_1_a</th>\n",
       "      <th>PM10_2_a</th>\n",
       "      <th>PM10_3_a</th>\n",
       "      <th>PM10_4_a</th>\n",
       "      <th>PM10_2_y</th>\n",
       "      <th>PM10_3_y</th>\n",
       "      <th>PM10_4_y</th>\n",
       "      <th>PM10_24</th>\n",
       "    </tr>\n",
       "  </thead>\n",
       "  <tbody>\n",
       "    <tr>\n",
       "      <th>2</th>\n",
       "      <td>3.0</td>\n",
       "      <td>1.0</td>\n",
       "      <td>7.1</td>\n",
       "      <td>23.0</td>\n",
       "      <td>35.0</td>\n",
       "      <td>587.0</td>\n",
       "      <td>0.0</td>\n",
       "      <td>0.0</td>\n",
       "      <td>16.4</td>\n",
       "      <td>87.0</td>\n",
       "      <td>...</td>\n",
       "      <td>2.522</td>\n",
       "      <td>2.320</td>\n",
       "      <td>70.875000</td>\n",
       "      <td>60.541667</td>\n",
       "      <td>84.166667</td>\n",
       "      <td>58.625000</td>\n",
       "      <td>85.0</td>\n",
       "      <td>176.0</td>\n",
       "      <td>95.0</td>\n",
       "      <td>112.0</td>\n",
       "    </tr>\n",
       "    <tr>\n",
       "      <th>3</th>\n",
       "      <td>4.0</td>\n",
       "      <td>1.0</td>\n",
       "      <td>5.7</td>\n",
       "      <td>39.0</td>\n",
       "      <td>27.0</td>\n",
       "      <td>585.0</td>\n",
       "      <td>0.0</td>\n",
       "      <td>0.0</td>\n",
       "      <td>20.1</td>\n",
       "      <td>112.0</td>\n",
       "      <td>...</td>\n",
       "      <td>2.320</td>\n",
       "      <td>2.473</td>\n",
       "      <td>60.541667</td>\n",
       "      <td>84.166667</td>\n",
       "      <td>58.625000</td>\n",
       "      <td>57.045455</td>\n",
       "      <td>176.0</td>\n",
       "      <td>95.0</td>\n",
       "      <td>129.0</td>\n",
       "      <td>85.0</td>\n",
       "    </tr>\n",
       "    <tr>\n",
       "      <th>4</th>\n",
       "      <td>5.0</td>\n",
       "      <td>1.0</td>\n",
       "      <td>8.4</td>\n",
       "      <td>38.0</td>\n",
       "      <td>27.0</td>\n",
       "      <td>584.0</td>\n",
       "      <td>0.0</td>\n",
       "      <td>0.0</td>\n",
       "      <td>19.6</td>\n",
       "      <td>85.0</td>\n",
       "      <td>...</td>\n",
       "      <td>2.473</td>\n",
       "      <td>2.683</td>\n",
       "      <td>84.166667</td>\n",
       "      <td>58.625000</td>\n",
       "      <td>57.045455</td>\n",
       "      <td>59.750000</td>\n",
       "      <td>95.0</td>\n",
       "      <td>129.0</td>\n",
       "      <td>99.0</td>\n",
       "      <td>176.0</td>\n",
       "    </tr>\n",
       "    <tr>\n",
       "      <th>6</th>\n",
       "      <td>7.0</td>\n",
       "      <td>1.0</td>\n",
       "      <td>8.0</td>\n",
       "      <td>59.0</td>\n",
       "      <td>17.0</td>\n",
       "      <td>584.0</td>\n",
       "      <td>0.0</td>\n",
       "      <td>0.0</td>\n",
       "      <td>20.9</td>\n",
       "      <td>176.0</td>\n",
       "      <td>...</td>\n",
       "      <td>2.683</td>\n",
       "      <td>2.686</td>\n",
       "      <td>58.625000</td>\n",
       "      <td>57.045455</td>\n",
       "      <td>59.750000</td>\n",
       "      <td>52.750000</td>\n",
       "      <td>129.0</td>\n",
       "      <td>99.0</td>\n",
       "      <td>105.0</td>\n",
       "      <td>95.0</td>\n",
       "    </tr>\n",
       "    <tr>\n",
       "      <th>7</th>\n",
       "      <td>8.0</td>\n",
       "      <td>1.0</td>\n",
       "      <td>8.9</td>\n",
       "      <td>30.0</td>\n",
       "      <td>20.0</td>\n",
       "      <td>583.0</td>\n",
       "      <td>0.0</td>\n",
       "      <td>0.0</td>\n",
       "      <td>23.1</td>\n",
       "      <td>95.0</td>\n",
       "      <td>...</td>\n",
       "      <td>2.686</td>\n",
       "      <td>2.646</td>\n",
       "      <td>57.045455</td>\n",
       "      <td>59.750000</td>\n",
       "      <td>52.750000</td>\n",
       "      <td>68.300000</td>\n",
       "      <td>99.0</td>\n",
       "      <td>105.0</td>\n",
       "      <td>118.0</td>\n",
       "      <td>129.0</td>\n",
       "    </tr>\n",
       "  </tbody>\n",
       "</table>\n",
       "<p>5 rows × 48 columns</p>\n",
       "</div>"
      ],
      "text/plain": [
       "   dia  mes  TMP_x  PM10_x  RH_x   PA_x  UVB_x  UVA_x  TMP_y  PM10_y   ...     \\\n",
       "2  3.0  1.0    7.1    23.0  35.0  587.0    0.0    0.0   16.4    87.0   ...      \n",
       "3  4.0  1.0    5.7    39.0  27.0  585.0    0.0    0.0   20.1   112.0   ...      \n",
       "4  5.0  1.0    8.4    38.0  27.0  584.0    0.0    0.0   19.6    85.0   ...      \n",
       "6  7.0  1.0    8.0    59.0  17.0  584.0    0.0    0.0   20.9   176.0   ...      \n",
       "7  8.0  1.0    8.9    30.0  20.0  583.0    0.0    0.0   23.1    95.0   ...      \n",
       "\n",
       "   UVB_y_1  UVB_y_2   PM10_1_a   PM10_2_a   PM10_3_a   PM10_4_a  PM10_2_y  \\\n",
       "2    2.522    2.320  70.875000  60.541667  84.166667  58.625000      85.0   \n",
       "3    2.320    2.473  60.541667  84.166667  58.625000  57.045455     176.0   \n",
       "4    2.473    2.683  84.166667  58.625000  57.045455  59.750000      95.0   \n",
       "6    2.683    2.686  58.625000  57.045455  59.750000  52.750000     129.0   \n",
       "7    2.686    2.646  57.045455  59.750000  52.750000  68.300000      99.0   \n",
       "\n",
       "   PM10_3_y  PM10_4_y  PM10_24  \n",
       "2     176.0      95.0    112.0  \n",
       "3      95.0     129.0     85.0  \n",
       "4     129.0      99.0    176.0  \n",
       "6      99.0     105.0     95.0  \n",
       "7     105.0     118.0    129.0  \n",
       "\n",
       "[5 rows x 48 columns]"
      ]
     },
     "execution_count": 33,
     "metadata": {},
     "output_type": "execute_result"
    }
   ],
   "source": [
    "data_hour_merge_24.head()"
   ]
  },
  {
   "cell_type": "markdown",
   "metadata": {},
   "source": [
    "## Visualizaciones    <a class=\"anchor\" id=\"viz-bullet\"></a>"
   ]
  },
  {
   "cell_type": "raw",
   "metadata": {},
   "source": [
    ">>> import seaborn as sns; sns.set()\n",
    ">>> import matplotlib.pyplot as plt\n",
    ">>> fmri = sns.load_dataset(\"fmri\")\n",
    ">>> ax = sns.lineplot(x=\"fecha\", y=\"PM10_24\", data=data_hour_merge_24[data_hour_merge_24.fecha > \"2018-01-01\"])"
   ]
  },
  {
   "cell_type": "raw",
   "metadata": {},
   "source": [
    "## PM10"
   ]
  },
  {
   "cell_type": "raw",
   "metadata": {},
   "source": [
    "# O3"
   ]
  },
  {
   "cell_type": "raw",
   "metadata": {},
   "source": [
    "with sns.axes_style('white'):\n",
    "    sns.jointplot(\"hora\", \"O3\", data_18);\n",
    "    plt.savefig('/Users/danielbustillos/Desktop/hora-o3.png', dpi=400,background=\"white\")"
   ]
  },
  {
   "cell_type": "raw",
   "metadata": {},
   "source": [
    "with sns.axes_style('white'):\n",
    "    sns.jointplot(\"dia\", \"O3\", data_18);\n",
    "    plt.savefig('/Users/danielbustillos/Desktop/dia-o3.png', dpi=400,background=\"white\")"
   ]
  },
  {
   "cell_type": "raw",
   "metadata": {},
   "source": [
    "with sns.axes_style('white'):\n",
    "    sns.jointplot(\"mes\", \"O3\", data_18);\n",
    "    plt.savefig('/Users/danielbustillos/Desktop/mes-o3.png', dpi=400,background=\"white\")"
   ]
  },
  {
   "cell_type": "raw",
   "metadata": {},
   "source": [
    "g = sns.PairGrid(data_18, vars=['CO', 'NO', 'NO2', 'NOX', 'O3', 'PM10'], dropna=True)\n",
    "g.map_diag(plt.hist)\n",
    "g.map_offdiag(plt.scatter);"
   ]
  },
  {
   "cell_type": "raw",
   "metadata": {},
   "source": [
    "g = sns.PairGrid(data_18, vars=['PM2.5', 'PMCO', 'SO2','TMP', 'WSP', 'PM10'], dropna=True)\n",
    "g.map_diag(plt.hist)\n",
    "g.map_offdiag(plt.scatter);"
   ]
  },
  {
   "cell_type": "raw",
   "metadata": {},
   "source": [
    "g = sns.PairGrid(data_18, vars=['mes', 'hora',\"dia\",'CO', 'NO', 'NO2', 'NOX', 'O3', 'PM2.5', 'PMCO', 'SO2','TMP', 'WSP', 'PM10'], dropna=True)\n",
    "g.map_diag(plt.hist)\n",
    "g.map_offdiag(plt.scatter);"
   ]
  },
  {
   "cell_type": "raw",
   "metadata": {},
   "source": [
    "## Detalle"
   ]
  },
  {
   "cell_type": "raw",
   "metadata": {},
   "source": [
    "g = sns.PairGrid(data_18, vars=['RH',\n",
    "       'TMP', 'WSP', 'PM10'], dropna=True)\n",
    "g.map_diag(plt.hist)\n",
    "g.map_offdiag(plt.scatter);"
   ]
  },
  {
   "cell_type": "markdown",
   "metadata": {},
   "source": [
    "\n",
    "# XGBOOST <a class=\"anchor\" id=\"fourth-bullet\"></a>"
   ]
  },
  {
   "cell_type": "markdown",
   "metadata": {},
   "source": [
    "## Filtros"
   ]
  },
  {
   "cell_type": "markdown",
   "metadata": {},
   "source": [
    "## Definimos los conjuntos de prueba y Test"
   ]
  },
  {
   "cell_type": "markdown",
   "metadata": {},
   "source": [
    "## Delay 24 Horas<a class=\"anchor\" id=\"5-bullet\"></a>\n",
    "### XGBOOOST"
   ]
  },
  {
   "cell_type": "code",
   "execution_count": 34,
   "metadata": {},
   "outputs": [],
   "source": [
    "X, y = data_hour_merge_24.iloc[:,:-1],data_hour_merge_24.iloc[:,-1]\n",
    "X_train, X_test, y_train, y_test = train_test_split(X, y, test_size=0.15, random_state=123)"
   ]
  },
  {
   "cell_type": "markdown",
   "metadata": {},
   "source": [
    "## SVM - Regresión"
   ]
  },
  {
   "cell_type": "code",
   "execution_count": 35,
   "metadata": {},
   "outputs": [
    {
     "data": {
      "text/html": [
       "<div>\n",
       "<style scoped>\n",
       "    .dataframe tbody tr th:only-of-type {\n",
       "        vertical-align: middle;\n",
       "    }\n",
       "\n",
       "    .dataframe tbody tr th {\n",
       "        vertical-align: top;\n",
       "    }\n",
       "\n",
       "    .dataframe thead th {\n",
       "        text-align: right;\n",
       "    }\n",
       "</style>\n",
       "<table border=\"1\" class=\"dataframe\">\n",
       "  <thead>\n",
       "    <tr style=\"text-align: right;\">\n",
       "      <th></th>\n",
       "      <th>dia</th>\n",
       "      <th>mes</th>\n",
       "      <th>TMP_x</th>\n",
       "      <th>PM10_x</th>\n",
       "      <th>RH_x</th>\n",
       "      <th>PA_x</th>\n",
       "      <th>UVB_x</th>\n",
       "      <th>UVA_x</th>\n",
       "      <th>TMP_y</th>\n",
       "      <th>PM10_y</th>\n",
       "      <th>...</th>\n",
       "      <th>UVB_y_1</th>\n",
       "      <th>UVB_y_2</th>\n",
       "      <th>PM10_1_a</th>\n",
       "      <th>PM10_2_a</th>\n",
       "      <th>PM10_3_a</th>\n",
       "      <th>PM10_4_a</th>\n",
       "      <th>PM10_2_y</th>\n",
       "      <th>PM10_3_y</th>\n",
       "      <th>PM10_4_y</th>\n",
       "      <th>PM10_24</th>\n",
       "    </tr>\n",
       "  </thead>\n",
       "  <tbody>\n",
       "    <tr>\n",
       "      <th>2</th>\n",
       "      <td>3.0</td>\n",
       "      <td>1.0</td>\n",
       "      <td>7.1</td>\n",
       "      <td>23.0</td>\n",
       "      <td>35.0</td>\n",
       "      <td>587.0</td>\n",
       "      <td>0.0</td>\n",
       "      <td>0.0</td>\n",
       "      <td>16.4</td>\n",
       "      <td>87.0</td>\n",
       "      <td>...</td>\n",
       "      <td>2.522</td>\n",
       "      <td>2.320</td>\n",
       "      <td>70.875000</td>\n",
       "      <td>60.541667</td>\n",
       "      <td>84.166667</td>\n",
       "      <td>58.625000</td>\n",
       "      <td>85.0</td>\n",
       "      <td>176.0</td>\n",
       "      <td>95.0</td>\n",
       "      <td>112.0</td>\n",
       "    </tr>\n",
       "    <tr>\n",
       "      <th>3</th>\n",
       "      <td>4.0</td>\n",
       "      <td>1.0</td>\n",
       "      <td>5.7</td>\n",
       "      <td>39.0</td>\n",
       "      <td>27.0</td>\n",
       "      <td>585.0</td>\n",
       "      <td>0.0</td>\n",
       "      <td>0.0</td>\n",
       "      <td>20.1</td>\n",
       "      <td>112.0</td>\n",
       "      <td>...</td>\n",
       "      <td>2.320</td>\n",
       "      <td>2.473</td>\n",
       "      <td>60.541667</td>\n",
       "      <td>84.166667</td>\n",
       "      <td>58.625000</td>\n",
       "      <td>57.045455</td>\n",
       "      <td>176.0</td>\n",
       "      <td>95.0</td>\n",
       "      <td>129.0</td>\n",
       "      <td>85.0</td>\n",
       "    </tr>\n",
       "    <tr>\n",
       "      <th>4</th>\n",
       "      <td>5.0</td>\n",
       "      <td>1.0</td>\n",
       "      <td>8.4</td>\n",
       "      <td>38.0</td>\n",
       "      <td>27.0</td>\n",
       "      <td>584.0</td>\n",
       "      <td>0.0</td>\n",
       "      <td>0.0</td>\n",
       "      <td>19.6</td>\n",
       "      <td>85.0</td>\n",
       "      <td>...</td>\n",
       "      <td>2.473</td>\n",
       "      <td>2.683</td>\n",
       "      <td>84.166667</td>\n",
       "      <td>58.625000</td>\n",
       "      <td>57.045455</td>\n",
       "      <td>59.750000</td>\n",
       "      <td>95.0</td>\n",
       "      <td>129.0</td>\n",
       "      <td>99.0</td>\n",
       "      <td>176.0</td>\n",
       "    </tr>\n",
       "    <tr>\n",
       "      <th>6</th>\n",
       "      <td>7.0</td>\n",
       "      <td>1.0</td>\n",
       "      <td>8.0</td>\n",
       "      <td>59.0</td>\n",
       "      <td>17.0</td>\n",
       "      <td>584.0</td>\n",
       "      <td>0.0</td>\n",
       "      <td>0.0</td>\n",
       "      <td>20.9</td>\n",
       "      <td>176.0</td>\n",
       "      <td>...</td>\n",
       "      <td>2.683</td>\n",
       "      <td>2.686</td>\n",
       "      <td>58.625000</td>\n",
       "      <td>57.045455</td>\n",
       "      <td>59.750000</td>\n",
       "      <td>52.750000</td>\n",
       "      <td>129.0</td>\n",
       "      <td>99.0</td>\n",
       "      <td>105.0</td>\n",
       "      <td>95.0</td>\n",
       "    </tr>\n",
       "    <tr>\n",
       "      <th>7</th>\n",
       "      <td>8.0</td>\n",
       "      <td>1.0</td>\n",
       "      <td>8.9</td>\n",
       "      <td>30.0</td>\n",
       "      <td>20.0</td>\n",
       "      <td>583.0</td>\n",
       "      <td>0.0</td>\n",
       "      <td>0.0</td>\n",
       "      <td>23.1</td>\n",
       "      <td>95.0</td>\n",
       "      <td>...</td>\n",
       "      <td>2.686</td>\n",
       "      <td>2.646</td>\n",
       "      <td>57.045455</td>\n",
       "      <td>59.750000</td>\n",
       "      <td>52.750000</td>\n",
       "      <td>68.300000</td>\n",
       "      <td>99.0</td>\n",
       "      <td>105.0</td>\n",
       "      <td>118.0</td>\n",
       "      <td>129.0</td>\n",
       "    </tr>\n",
       "  </tbody>\n",
       "</table>\n",
       "<p>5 rows × 48 columns</p>\n",
       "</div>"
      ],
      "text/plain": [
       "   dia  mes  TMP_x  PM10_x  RH_x   PA_x  UVB_x  UVA_x  TMP_y  PM10_y   ...     \\\n",
       "2  3.0  1.0    7.1    23.0  35.0  587.0    0.0    0.0   16.4    87.0   ...      \n",
       "3  4.0  1.0    5.7    39.0  27.0  585.0    0.0    0.0   20.1   112.0   ...      \n",
       "4  5.0  1.0    8.4    38.0  27.0  584.0    0.0    0.0   19.6    85.0   ...      \n",
       "6  7.0  1.0    8.0    59.0  17.0  584.0    0.0    0.0   20.9   176.0   ...      \n",
       "7  8.0  1.0    8.9    30.0  20.0  583.0    0.0    0.0   23.1    95.0   ...      \n",
       "\n",
       "   UVB_y_1  UVB_y_2   PM10_1_a   PM10_2_a   PM10_3_a   PM10_4_a  PM10_2_y  \\\n",
       "2    2.522    2.320  70.875000  60.541667  84.166667  58.625000      85.0   \n",
       "3    2.320    2.473  60.541667  84.166667  58.625000  57.045455     176.0   \n",
       "4    2.473    2.683  84.166667  58.625000  57.045455  59.750000      95.0   \n",
       "6    2.683    2.686  58.625000  57.045455  59.750000  52.750000     129.0   \n",
       "7    2.686    2.646  57.045455  59.750000  52.750000  68.300000      99.0   \n",
       "\n",
       "   PM10_3_y  PM10_4_y  PM10_24  \n",
       "2     176.0      95.0    112.0  \n",
       "3      95.0     129.0     85.0  \n",
       "4     129.0      99.0    176.0  \n",
       "6      99.0     105.0     95.0  \n",
       "7     105.0     118.0    129.0  \n",
       "\n",
       "[5 rows x 48 columns]"
      ]
     },
     "execution_count": 35,
     "metadata": {},
     "output_type": "execute_result"
    }
   ],
   "source": [
    "data_hour_merge_24.head()"
   ]
  },
  {
   "cell_type": "code",
   "execution_count": 36,
   "metadata": {},
   "outputs": [
    {
     "data": {
      "text/plain": [
       "SVR(C=100000.0, cache_size=200, coef0=0.0, degree=3, epsilon=50, gamma='auto',\n",
       "  kernel='rbf', max_iter=-1, shrinking=True, tol=0.001, verbose=False)"
      ]
     },
     "execution_count": 36,
     "metadata": {},
     "output_type": "execute_result"
    }
   ],
   "source": [
    "clf = SVR( C=100000.0, epsilon=50)\n",
    "clf.fit(X_train, y_train)"
   ]
  },
  {
   "cell_type": "code",
   "execution_count": 37,
   "metadata": {},
   "outputs": [],
   "source": [
    "preds_test = clf.predict(X_test)"
   ]
  },
  {
   "cell_type": "code",
   "execution_count": 38,
   "metadata": {},
   "outputs": [
    {
     "data": {
      "image/png": "[encoded data removed]",
      "text/plain": [
       "<Figure size 432x288 with 1 Axes>"
      ]
     },
     "metadata": {},
     "output_type": "display_data"
    }
   ],
   "source": [
    "plt.scatter(y_test, preds_test)\n",
    "plt.xlabel('Measured')\n",
    "plt.ylabel('Predicted')\n",
    "plt.title('XGBOOST Predicted vs Actual -  24 hour delay')\n",
    "plt.show()"
   ]
  },
  {
   "cell_type": "code",
   "execution_count": 39,
   "metadata": {},
   "outputs": [
    {
     "data": {
      "text/plain": [
       "-0.17967117453182468"
      ]
     },
     "execution_count": 39,
     "metadata": {},
     "output_type": "execute_result"
    }
   ],
   "source": [
    "clf.score(X_test, y_test)"
   ]
  },
  {
   "cell_type": "code",
   "execution_count": 40,
   "metadata": {},
   "outputs": [
    {
     "name": "stdout",
     "output_type": "stream",
     "text": [
      "RMSE: 33.224902\n"
     ]
    }
   ],
   "source": [
    "rmse = np.sqrt(mean_squared_error(y_test, preds_test))\n",
    "print(\"RMSE: %f\" % (rmse))"
   ]
  },
  {
   "cell_type": "markdown",
   "metadata": {},
   "source": [
    "## Linear"
   ]
  },
  {
   "cell_type": "code",
   "execution_count": 41,
   "metadata": {},
   "outputs": [],
   "source": [
    "from sklearn.linear_model import LinearRegression\n",
    "from sklearn.metrics import mean_squared_error, mean_absolute_error, r2_score\n",
    "\n",
    "# Create linear regression object\n",
    "regr = LinearRegression()"
   ]
  },
  {
   "cell_type": "code",
   "execution_count": 42,
   "metadata": {},
   "outputs": [
    {
     "data": {
      "text/plain": [
       "LinearRegression(copy_X=True, fit_intercept=True, n_jobs=1, normalize=False)"
      ]
     },
     "execution_count": 42,
     "metadata": {},
     "output_type": "execute_result"
    }
   ],
   "source": [
    "# Train the model using the training sets\n",
    "regr.fit(X_train, y_train)"
   ]
  },
  {
   "cell_type": "code",
   "execution_count": 43,
   "metadata": {},
   "outputs": [],
   "source": [
    "# Make predictions using the testing set\n",
    "lin_pred = regr.predict(X_test)"
   ]
  },
  {
   "cell_type": "code",
   "execution_count": 44,
   "metadata": {},
   "outputs": [
    {
     "data": {
      "image/png": "[encoded data removed]",
      "text/plain": [
       "<Figure size 432x288 with 1 Axes>"
      ]
     },
     "metadata": {},
     "output_type": "display_data"
    }
   ],
   "source": [
    "plt.scatter(y_test, lin_pred)\n",
    "plt.xlabel('Measured')\n",
    "plt.ylabel('Predicted')\n",
    "plt.title('Linear Regression Predicted vs Actual')\n",
    "plt.show()"
   ]
  },
  {
   "cell_type": "code",
   "execution_count": 45,
   "metadata": {},
   "outputs": [
    {
     "data": {
      "text/plain": [
       "0.8574108425742659"
      ]
     },
     "execution_count": 45,
     "metadata": {},
     "output_type": "execute_result"
    }
   ],
   "source": [
    "regr.score(X_test, y_test)"
   ]
  },
  {
   "cell_type": "markdown",
   "metadata": {},
   "source": [
    "## Neural Network Regression"
   ]
  },
  {
   "cell_type": "code",
   "execution_count": 46,
   "metadata": {},
   "outputs": [
    {
     "data": {
      "text/plain": [
       "MLPRegressor(activation='relu', alpha=900.001, batch_size='auto', beta_1=0.9,\n",
       "       beta_2=0.999, early_stopping=False, epsilon=0.1,\n",
       "       hidden_layer_sizes=(100,), learning_rate='constant',\n",
       "       learning_rate_init=0.001, max_iter=100000, momentum=0.9,\n",
       "       nesterovs_momentum=True, power_t=301, random_state=None,\n",
       "       shuffle=True, solver='adam', tol=0.0001, validation_fraction=0.1,\n",
       "       verbose=False, warm_start=False)"
      ]
     },
     "execution_count": 46,
     "metadata": {},
     "output_type": "execute_result"
    }
   ],
   "source": [
    "from sklearn.neural_network import MLPRegressor\n",
    "from sklearn.metrics import mean_squared_error, mean_absolute_error, r2_score\n",
    "\n",
    "# Create MLPRegressor object\n",
    "mlp = MLPRegressor( alpha=900.001, max_iter=100000,power_t=301, epsilon=.100 ,tol=.0001)\n",
    "# Train the model using the training sets\n",
    "mlp.fit(X_train, y_train)"
   ]
  },
  {
   "cell_type": "code",
   "execution_count": 47,
   "metadata": {},
   "outputs": [
    {
     "data": {
      "image/png": "[encoded data removed]",
      "text/plain": [
       "<Figure size 432x288 with 1 Axes>"
      ]
     },
     "metadata": {},
     "output_type": "display_data"
    }
   ],
   "source": [
    "# Score the model\n",
    "neural_network_regression_score = mlp.score(X_test, y_test)\n",
    "neural_network_regression_score\n",
    "# Make predictions using the testing set\n",
    "nnr_pred = mlp.predict(X_test)\n",
    "# The mean squared error\n",
    "\n",
    "plt.scatter(y_test, nnr_pred)\n",
    "plt.xlabel('Measured')\n",
    "plt.ylabel('Predicted')\n",
    "plt.title('Neural Network Regression Predicted vs Actual')\n",
    "plt.show()"
   ]
  },
  {
   "cell_type": "code",
   "execution_count": 48,
   "metadata": {},
   "outputs": [
    {
     "data": {
      "text/plain": [
       "0.8472409194053359"
      ]
     },
     "execution_count": 48,
     "metadata": {},
     "output_type": "execute_result"
    }
   ],
   "source": [
    "xgb_score = mlp.score(X_test, y_test)\n",
    "xgb_score"
   ]
  },
  {
   "cell_type": "markdown",
   "metadata": {},
   "source": [
    "# XGBoost"
   ]
  },
  {
   "cell_type": "code",
   "execution_count": null,
   "metadata": {},
   "outputs": [],
   "source": [
    "regr_2 = AdaBoostRegressor(XGBRegressor(learning_rate = .0015, n_estimators=3000, max_depth=10),n_estimators=100)\n",
    "regr_2.fit(X_train, y_train)"
   ]
  },
  {
   "cell_type": "code",
   "execution_count": null,
   "metadata": {},
   "outputs": [],
   "source": [
    "1+1"
   ]
  },
  {
   "cell_type": "code",
   "execution_count": null,
   "metadata": {},
   "outputs": [],
   "source": [
    "ADAXGB_pred = regr_2.predict(X_test)"
   ]
  },
  {
   "cell_type": "code",
   "execution_count": null,
   "metadata": {},
   "outputs": [],
   "source": [
    "plt.scatter(y_test, ADAXGB_pred)\n",
    "plt.xlabel('Measured')\n",
    "plt.ylabel('Predicted')\n",
    "plt.title('XGBoost Predicted vs Actual')\n",
    "plt.show()"
   ]
  },
  {
   "cell_type": "code",
   "execution_count": null,
   "metadata": {},
   "outputs": [],
   "source": [
    "xgb_score = regr_2.score(X_test, y_test)\n",
    "xgb_score"
   ]
  },
  {
   "cell_type": "markdown",
   "metadata": {},
   "source": [
    "## XGBOOST"
   ]
  },
  {
   "cell_type": "code",
   "execution_count": 49,
   "metadata": {},
   "outputs": [],
   "source": [
    "from xgboost.sklearn import XGBRegressor\n",
    "\n",
    "#Fitting XGB regressor \n",
    "xboost = XGBRegressor(learning_rate = .0015, n_estimators=3000, max_depth=10)"
   ]
  },
  {
   "cell_type": "code",
   "execution_count": 50,
   "metadata": {},
   "outputs": [
    {
     "name": "stderr",
     "output_type": "stream",
     "text": [
      "/home/paw/anaconda3/lib/python3.6/site-packages/xgboost/core.py:587: FutureWarning: Series.base is deprecated and will be removed in a future version\n",
      "  if getattr(data, 'base', None) is not None and \\\n"
     ]
    }
   ],
   "source": [
    "xboost.fit(X_train, y_train)\n",
    "xgb_score = xboost.score(X_test, y_test)"
   ]
  },
  {
   "cell_type": "code",
   "execution_count": 51,
   "metadata": {},
   "outputs": [],
   "source": [
    "#Predict \n",
    "xboost_pred = xboost.predict(X_test)"
   ]
  },
  {
   "cell_type": "code",
   "execution_count": 52,
   "metadata": {},
   "outputs": [
    {
     "data": {
      "image/png": "[encoded data removed]",
      "text/plain": [
       "<Figure size 432x288 with 1 Axes>"
      ]
     },
     "metadata": {},
     "output_type": "display_data"
    }
   ],
   "source": [
    "plt.scatter(y_test, xboost_pred)\n",
    "plt.xlabel('Measured')\n",
    "plt.ylabel('Predicted')\n",
    "plt.title('XGBoost Predicted vs Actual')\n",
    "plt.show()"
   ]
  },
  {
   "cell_type": "code",
   "execution_count": 53,
   "metadata": {},
   "outputs": [
    {
     "data": {
      "text/plain": [
       "0.867550569319045"
      ]
     },
     "execution_count": 53,
     "metadata": {},
     "output_type": "execute_result"
    }
   ],
   "source": [
    "xgb_score = xboost.score(X_test, y_test)\n",
    "xgb_score"
   ]
  },
  {
   "cell_type": "markdown",
   "metadata": {},
   "source": [
    "## Decission Tree"
   ]
  },
  {
   "cell_type": "code",
   "execution_count": 54,
   "metadata": {},
   "outputs": [],
   "source": [
    "from sklearn.datasets import load_boston\n",
    "from sklearn.model_selection import cross_val_score\n",
    "from sklearn.tree import DecisionTreeRegressor\n",
    "regressor = DecisionTreeRegressor(random_state=10,max_depth=3000)"
   ]
  },
  {
   "cell_type": "code",
   "execution_count": 55,
   "metadata": {},
   "outputs": [
    {
     "data": {
      "text/plain": [
       "DecisionTreeRegressor(criterion='mse', max_depth=3000, max_features=None,\n",
       "           max_leaf_nodes=None, min_impurity_decrease=0.0,\n",
       "           min_impurity_split=None, min_samples_leaf=1,\n",
       "           min_samples_split=2, min_weight_fraction_leaf=0.0,\n",
       "           presort=False, random_state=10, splitter='best')"
      ]
     },
     "execution_count": 55,
     "metadata": {},
     "output_type": "execute_result"
    }
   ],
   "source": [
    "regressor.fit(X_train, y_train)"
   ]
  },
  {
   "cell_type": "code",
   "execution_count": 56,
   "metadata": {},
   "outputs": [],
   "source": [
    "xboost_pred = regressor.predict(X_test)"
   ]
  },
  {
   "cell_type": "code",
   "execution_count": 57,
   "metadata": {},
   "outputs": [
    {
     "data": {
      "image/png": "[encoded data removed]",
      "text/plain": [
       "<Figure size 432x288 with 1 Axes>"
      ]
     },
     "metadata": {},
     "output_type": "display_data"
    }
   ],
   "source": [
    "plt.scatter(y_test, xboost_pred)\n",
    "plt.xlabel('Measured')\n",
    "plt.ylabel('Predicted')\n",
    "plt.title('XGBoost Predicted vs Actual')\n",
    "plt.show()"
   ]
  },
  {
   "cell_type": "code",
   "execution_count": 58,
   "metadata": {},
   "outputs": [
    {
     "data": {
      "text/plain": [
       "0.7494131916094408"
      ]
     },
     "execution_count": 58,
     "metadata": {},
     "output_type": "execute_result"
    }
   ],
   "source": [
    "regressor.score(X_test, y_test)"
   ]
  },
  {
   "cell_type": "markdown",
   "metadata": {},
   "source": [
    "# ada"
   ]
  },
  {
   "cell_type": "code",
   "execution_count": 59,
   "metadata": {},
   "outputs": [
    {
     "data": {
      "text/plain": [
       "AdaBoostRegressor(base_estimator=DecisionTreeRegressor(criterion='mse', max_depth=40, max_features=None,\n",
       "           max_leaf_nodes=None, min_impurity_decrease=0.0,\n",
       "           min_impurity_split=None, min_samples_leaf=1,\n",
       "           min_samples_split=2, min_weight_fraction_leaf=0.0,\n",
       "           presort=False, random_state=None, splitter='best'),\n",
       "         learning_rate=1.0, loss='linear', n_estimators=3000,\n",
       "         random_state=None)"
      ]
     },
     "execution_count": 59,
     "metadata": {},
     "output_type": "execute_result"
    }
   ],
   "source": [
    "regr_2 = AdaBoostRegressor(DecisionTreeRegressor(max_depth=40),n_estimators=3000)\n",
    "regr_2.fit(X_train, y_train)"
   ]
  },
  {
   "cell_type": "code",
   "execution_count": 61,
   "metadata": {},
   "outputs": [],
   "source": [
    "y_2 = regr_2.predict(X_test)"
   ]
  },
  {
   "cell_type": "code",
   "execution_count": 62,
   "metadata": {},
   "outputs": [
    {
     "data": {
      "image/png": "[encoded data removed]",
      "text/plain": [
       "<Figure size 432x288 with 1 Axes>"
      ]
     },
     "metadata": {},
     "output_type": "display_data"
    }
   ],
   "source": [
    "plt.scatter(y_test, y_2)\n",
    "plt.tight_layout(1.3)\n",
    "plt.xlabel('PM10: Medido')\n",
    "plt.ylabel('PM10: Pronosticado')\n",
    "plt.title('Random forest PM10: Pronosticado vs Medio')\n",
    "plt.show()"
   ]
  },
  {
   "cell_type": "code",
   "execution_count": 63,
   "metadata": {},
   "outputs": [
    {
     "data": {
      "text/plain": [
       "0.8766258635363022"
      ]
     },
     "execution_count": 63,
     "metadata": {},
     "output_type": "execute_result"
    }
   ],
   "source": [
    "regr_2.score(X_test, y_test)"
   ]
  },
  {
   "cell_type": "code",
   "execution_count": 77,
   "metadata": {},
   "outputs": [
    {
     "name": "stdout",
     "output_type": "stream",
     "text": [
      "RMSE: 10.744725\n"
     ]
    }
   ],
   "source": [
    "rmse = np.sqrt(mean_squared_error(y_test, regr_2.predict(X_test)))\n",
    "print(\"RMSE: %f\" % (rmse))"
   ]
  },
  {
   "cell_type": "markdown",
   "metadata": {},
   "source": [
    "# Gracficamos:"
   ]
  },
  {
   "cell_type": "code",
   "execution_count": 67,
   "metadata": {},
   "outputs": [],
   "source": [
    "y_1 = regr_2.predict(X_test)\n"
   ]
  },
  {
   "cell_type": "code",
   "execution_count": 68,
   "metadata": {},
   "outputs": [],
   "source": [
    "X, y = data_hour_merge_24.iloc[:,:-1],data_hour_merge_24.iloc[:,-1]"
   ]
  },
  {
   "cell_type": "code",
   "execution_count": 69,
   "metadata": {},
   "outputs": [],
   "source": [
    "preds = y_1.tolist()"
   ]
  },
  {
   "cell_type": "code",
   "execution_count": 70,
   "metadata": {},
   "outputs": [],
   "source": [
    "yi = y_test.tolist()"
   ]
  },
  {
   "cell_type": "code",
   "execution_count": 73,
   "metadata": {},
   "outputs": [
    {
     "data": {
      "text/plain": [
       "<matplotlib.legend.Legend at 0x7f9f59e4a748>"
      ]
     },
     "execution_count": 73,
     "metadata": {},
     "output_type": "execute_result"
    },
    {
     "data": {
      "image/png": "[encoded data removed]",
      "text/plain": [
       "<Figure size 432x288 with 1 Axes>"
      ]
     },
     "metadata": {},
     "output_type": "display_data"
    }
   ],
   "source": [
    ">>> plt.plot(preds ,label='PM10 Pronosticado')\n",
    ">>> plt.plot(yi,label='PM10 Medido')\n",
    ">>> plt.xlabel(\"Febrero 2018\")\n",
    ">>> plt.ylabel(\"PM10\")\n",
    "plt.tight_layout(1.3)\n",
    "plt.title('Comparación de Modelo')\n",
    ">>> plt.xlim(31, 60)\n",
    "plt.legend()"
   ]
  },
  {
   "cell_type": "code",
   "execution_count": 74,
   "metadata": {},
   "outputs": [
    {
     "data": {
      "image/png": "[encoded data removed]",
      "text/plain": [
       "<Figure size 432x288 with 1 Axes>"
      ]
     },
     "metadata": {},
     "output_type": "display_data"
    }
   ],
   "source": [
    "plt.scatter(y_test, y_2)\n",
    "plt.xlabel('Measured')\n",
    "plt.ylabel('Predicted')\n",
    "plt.title('XGBoost Predicted vs Actual')\n",
    "plt.show()"
   ]
  },
  {
   "cell_type": "code",
   "execution_count": 75,
   "metadata": {},
   "outputs": [
    {
     "name": "stdout",
     "output_type": "stream",
     "text": [
      "RMSE: 10.744725\n"
     ]
    }
   ],
   "source": [
    "rmse = np.sqrt(mean_squared_error(y_test, y_2))\n",
    "print(\"RMSE: %f\" % (rmse))"
   ]
  },
  {
   "cell_type": "code",
   "execution_count": 78,
   "metadata": {},
   "outputs": [
    {
     "data": {
      "text/plain": [
       "2"
      ]
     },
     "execution_count": 78,
     "metadata": {},
     "output_type": "execute_result"
    }
   ],
   "source": [
    "1+1"
   ]
  },
  {
   "cell_type": "markdown",
   "metadata": {},
   "source": [
    "## Random forest"
   ]
  },
  {
   "cell_type": "code",
   "execution_count": 79,
   "metadata": {},
   "outputs": [],
   "source": [
    ">>> from sklearn.ensemble import RandomForestRegressor\n",
    "from sklearn.ensemble import RandomForestClassifier\n",
    "\n",
    ">>> from sklearn.datasets import make_regression"
   ]
  },
  {
   "cell_type": "code",
   "execution_count": 80,
   "metadata": {},
   "outputs": [],
   "source": [
    "regr = RandomForestRegressor(max_depth=35,n_estimators=500)\n",
    "regr_fit = regr.fit(X_train, y_train)"
   ]
  },
  {
   "cell_type": "code",
   "execution_count": 81,
   "metadata": {},
   "outputs": [],
   "source": [
    "y_1 = regr.predict(X_test)"
   ]
  },
  {
   "cell_type": "code",
   "execution_count": 82,
   "metadata": {},
   "outputs": [
    {
     "data": {
      "image/png": "[encoded data removed]",
      "text/plain": [
       "<Figure size 432x288 with 1 Axes>"
      ]
     },
     "metadata": {},
     "output_type": "display_data"
    }
   ],
   "source": [
    "plt.scatter(y_test, y_1)\n",
    "plt.xlabel('Medidos')\n",
    "plt.ylabel('Predecidos')\n",
    "plt.title('Random forest PM10: Predecidos vs Medidos')\n",
    "plt.show()"
   ]
  },
  {
   "cell_type": "code",
   "execution_count": 83,
   "metadata": {},
   "outputs": [
    {
     "data": {
      "text/plain": [
       "0.8684885208527457"
      ]
     },
     "execution_count": 83,
     "metadata": {},
     "output_type": "execute_result"
    }
   ],
   "source": [
    "regr.score(X_test, y_test)"
   ]
  },
  {
   "cell_type": "code",
   "execution_count": 84,
   "metadata": {},
   "outputs": [],
   "source": [
    "importances = pd.DataFrame({'feature':X_train.columns,'importance':np.round(regr.feature_importances_,3)})\n",
    "importances = importances.sort_values('importance',ascending=False).set_index('feature')"
   ]
  },
  {
   "cell_type": "code",
   "execution_count": 85,
   "metadata": {},
   "outputs": [
    {
     "data": {
      "text/html": [
       "<div>\n",
       "<style scoped>\n",
       "    .dataframe tbody tr th:only-of-type {\n",
       "        vertical-align: middle;\n",
       "    }\n",
       "\n",
       "    .dataframe tbody tr th {\n",
       "        vertical-align: top;\n",
       "    }\n",
       "\n",
       "    .dataframe thead th {\n",
       "        text-align: right;\n",
       "    }\n",
       "</style>\n",
       "<table border=\"1\" class=\"dataframe\">\n",
       "  <thead>\n",
       "    <tr style=\"text-align: right;\">\n",
       "      <th></th>\n",
       "      <th>importance</th>\n",
       "    </tr>\n",
       "    <tr>\n",
       "      <th>feature</th>\n",
       "      <th></th>\n",
       "    </tr>\n",
       "  </thead>\n",
       "  <tbody>\n",
       "    <tr>\n",
       "      <th>PM10_1_a</th>\n",
       "      <td>0.834</td>\n",
       "    </tr>\n",
       "    <tr>\n",
       "      <th>PM10_y</th>\n",
       "      <td>0.020</td>\n",
       "    </tr>\n",
       "    <tr>\n",
       "      <th>PM10_2_y</th>\n",
       "      <td>0.015</td>\n",
       "    </tr>\n",
       "    <tr>\n",
       "      <th>PM10_3_y</th>\n",
       "      <td>0.011</td>\n",
       "    </tr>\n",
       "  </tbody>\n",
       "</table>\n",
       "</div>"
      ],
      "text/plain": [
       "          importance\n",
       "feature             \n",
       "PM10_1_a       0.834\n",
       "PM10_y         0.020\n",
       "PM10_2_y       0.015\n",
       "PM10_3_y       0.011"
      ]
     },
     "execution_count": 85,
     "metadata": {},
     "output_type": "execute_result"
    }
   ],
   "source": [
    "importances[importances.importance > .01]"
   ]
  },
  {
   "cell_type": "code",
   "execution_count": 86,
   "metadata": {},
   "outputs": [
    {
     "data": {
      "text/plain": [
       "<matplotlib.axes._subplots.AxesSubplot at 0x7f9f6c469390>"
      ]
     },
     "execution_count": 86,
     "metadata": {},
     "output_type": "execute_result"
    },
    {
     "data": {
      "image/png": "[encoded data removed]",
      "text/plain": [
       "<Figure size 432x288 with 1 Axes>"
      ]
     },
     "metadata": {},
     "output_type": "display_data"
    }
   ],
   "source": [
    "importances[importances.importance > .01].plot.bar()\n"
   ]
  },
  {
   "cell_type": "code",
   "execution_count": null,
   "metadata": {},
   "outputs": [],
   "source": []
  },
  {
   "cell_type": "code",
   "execution_count": null,
   "metadata": {},
   "outputs": [],
   "source": []
  },
  {
   "cell_type": "code",
   "execution_count": null,
   "metadata": {},
   "outputs": [],
   "source": []
  },
  {
   "cell_type": "code",
   "execution_count": null,
   "metadata": {},
   "outputs": [],
   "source": []
  },
  {
   "cell_type": "code",
   "execution_count": null,
   "metadata": {},
   "outputs": [],
   "source": []
  }
 ],
 "metadata": {
  "kernelspec": {
   "display_name": "Python 3",
   "language": "python",
   "name": "python3"
  },
  "language_info": {
   "codemirror_mode": {
    "name": "ipython",
    "version": 3
   },
   "file_extension": ".py",
   "mimetype": "text/x-python",
   "name": "python",
   "nbconvert_exporter": "python",
   "pygments_lexer": "ipython3",
   "version": "3.6.5"
  }
 },
 "nbformat": 4,
 "nbformat_minor": 2
}
