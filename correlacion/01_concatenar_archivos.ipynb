{
 "cells": [
  {
   "cell_type": "markdown",
   "metadata": {},
   "source": [
    "# 1. Concatenar archivos de contaminantes de 2012 a 2018"
   ]
  },
  {
   "cell_type": "markdown",
   "metadata": {},
   "source": [
    "Para poder calcular las correlaciones entre los contaminantes con los respectivos desfases de tiempo y asi mismo poder graficarlas de una manera óptima se necesita construir un dataframe de una manera específica.\n",
    "\n",
    "El primer paso es juntar (o concatenar) los archivos necesarios, en este caso será de 2012 a 2018.\n",
    "\n",
    "Primero se importan las bibliotecas necesarias para obtener los archivos y poder manipularlos. Se especifíca el nombre de la carpeta donde se encuentran los archivos usando `os.chdir`"
   ]
  },
  {
   "cell_type": "code",
   "execution_count": 1,
   "metadata": {},
   "outputs": [],
   "source": [
    "import os\n",
    "import glob\n",
    "import numpy as np\n",
    "import pandas as pd\n",
    "\n",
    "import warnings\n",
    "warnings.filterwarnings('ignore')\n",
    "\n",
    "os.chdir(\"/home/pradel/Desktop/Forecast_CDMX_pollution/datasets/por_hora\")"
   ]
  },
  {
   "cell_type": "markdown",
   "metadata": {},
   "source": [
    "Se importan los archivos csv de la carpeta antes mencionada"
   ]
  },
  {
   "cell_type": "code",
   "execution_count": 2,
   "metadata": {},
   "outputs": [],
   "source": [
    "extension = 'csv'\n",
    "all_filenames = [i for i in glob.glob('*.{}'.format(extension))]"
   ]
  },
  {
   "cell_type": "markdown",
   "metadata": {},
   "source": [
    "Se concatenan todos los archivos (basado en las mismas columnas) en un sólo `csv` llamado `contaminantes_hora_12_18.csv`. Los últimos sufijos indican que va del año 2012 al 2018"
   ]
  },
  {
   "cell_type": "code",
   "execution_count": 3,
   "metadata": {},
   "outputs": [],
   "source": [
    "cont_hora_todos = pd.concat([pd.read_csv(f) for f in all_filenames])\n",
    "\n",
    "cont_hora_todos.to_csv(\"contaminantes_hora_12_18.csv\", index=False, encoding = 'utf-8-sig')"
   ]
  },
  {
   "cell_type": "markdown",
   "metadata": {},
   "source": [
    "Ahora ya se puede usar el archivo generado para construir las correlaciones entre contaminantes."
   ]
  }
 ],
 "metadata": {
  "kernelspec": {
   "display_name": "Python 3",
   "language": "python",
   "name": "python3"
  },
  "language_info": {
   "codemirror_mode": {
    "name": "ipython",
    "version": 3
   },
   "file_extension": ".py",
   "mimetype": "text/x-python",
   "name": "python",
   "nbconvert_exporter": "python",
   "pygments_lexer": "ipython3",
   "version": "3.7.2"
  }
 },
 "nbformat": 4,
 "nbformat_minor": 2
}
