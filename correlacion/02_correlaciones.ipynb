{
 "cells": [
  {
   "cell_type": "markdown",
   "metadata": {},
   "source": [
    "# 2. Correlación entre contaminantes"
   ]
  },
  {
   "cell_type": "markdown",
   "metadata": {},
   "source": [
    "Usando el archivo generado en el notebook `01_concatenar_archivos.ipynb` se estructura primero el dataframe para correr la función de correlación en python y graficar la matriz correspondiente.\n",
    "\n",
    "Después se construye una función que servirá para obtener la correlación con un desfase determinado de tiempo.\n",
    "\n",
    "Dado que son necesarias las correlaciones del O3 y PM10 con los demás contaminantes, se crean nuevos dataframes que se guardarán en archivos csv correspondientes (para usarse en los modelos de predicción) y se graficaran las correlaciones correspondientes."
   ]
  },
  {
   "cell_type": "markdown",
   "metadata": {},
   "source": [
    "Se importan las bibliotecas necesarias."
   ]
  },
  {
   "cell_type": "code",
   "execution_count": 1,
   "metadata": {},
   "outputs": [],
   "source": [
    "from __future__ import print_function\n",
    "from ipywidgets import interact, interactive, fixed, interact_manual\n",
    "import ipywidgets as widgets\n",
    "\n",
    "import numpy as np\n",
    "import pandas as pd\n",
    "import matplotlib.pyplot as plt\n",
    "import seaborn as sns\n",
    "\n",
    "import warnings\n",
    "warnings.filterwarnings('ignore')\n",
    "\n",
    "from pandas.plotting import scatter_matrix"
   ]
  },
  {
   "cell_type": "markdown",
   "metadata": {},
   "source": [
    "Se carga el archivo generado anteriormente."
   ]
  },
  {
   "cell_type": "code",
   "execution_count": 2,
   "metadata": {},
   "outputs": [],
   "source": [
    "data = pd.read_csv(\"/home/pradel/Desktop/Forecast_CDMX_pollution/datasets/por_hora/contaminantes_hora_12_18.csv\")"
   ]
  },
  {
   "cell_type": "code",
   "execution_count": 3,
   "metadata": {},
   "outputs": [
    {
     "data": {
      "text/html": [
       "<div>\n",
       "<style scoped>\n",
       "    .dataframe tbody tr th:only-of-type {\n",
       "        vertical-align: middle;\n",
       "    }\n",
       "\n",
       "    .dataframe tbody tr th {\n",
       "        vertical-align: top;\n",
       "    }\n",
       "\n",
       "    .dataframe thead th {\n",
       "        text-align: right;\n",
       "    }\n",
       "</style>\n",
       "<table border=\"1\" class=\"dataframe\">\n",
       "  <thead>\n",
       "    <tr style=\"text-align: right;\">\n",
       "      <th></th>\n",
       "      <th>Unnamed: 0</th>\n",
       "      <th>fecha</th>\n",
       "      <th>hora</th>\n",
       "      <th>dia</th>\n",
       "      <th>mes</th>\n",
       "      <th>id_station</th>\n",
       "      <th>UVA</th>\n",
       "      <th>UVB</th>\n",
       "      <th>PA</th>\n",
       "      <th>CO</th>\n",
       "      <th>...</th>\n",
       "      <th>NOX</th>\n",
       "      <th>O3</th>\n",
       "      <th>PM2.5</th>\n",
       "      <th>PMCO</th>\n",
       "      <th>SO2</th>\n",
       "      <th>RH</th>\n",
       "      <th>TMP</th>\n",
       "      <th>WSP</th>\n",
       "      <th>WDR</th>\n",
       "      <th>PM10</th>\n",
       "    </tr>\n",
       "  </thead>\n",
       "  <tbody>\n",
       "    <tr>\n",
       "      <th>0</th>\n",
       "      <td>0</td>\n",
       "      <td>2014-01-01 01:00:00</td>\n",
       "      <td>1</td>\n",
       "      <td>1</td>\n",
       "      <td>1</td>\n",
       "      <td>ACO</td>\n",
       "      <td>NaN</td>\n",
       "      <td>NaN</td>\n",
       "      <td>NaN</td>\n",
       "      <td>0.3</td>\n",
       "      <td>...</td>\n",
       "      <td>NaN</td>\n",
       "      <td>9.0</td>\n",
       "      <td>NaN</td>\n",
       "      <td>NaN</td>\n",
       "      <td>2.0</td>\n",
       "      <td>89.0</td>\n",
       "      <td>6.8</td>\n",
       "      <td>2.5</td>\n",
       "      <td>323.0</td>\n",
       "      <td>57.0</td>\n",
       "    </tr>\n",
       "    <tr>\n",
       "      <th>1</th>\n",
       "      <td>1</td>\n",
       "      <td>2014-01-01 01:00:00</td>\n",
       "      <td>1</td>\n",
       "      <td>1</td>\n",
       "      <td>1</td>\n",
       "      <td>ATI</td>\n",
       "      <td>NaN</td>\n",
       "      <td>NaN</td>\n",
       "      <td>NaN</td>\n",
       "      <td>0.5</td>\n",
       "      <td>...</td>\n",
       "      <td>20.0</td>\n",
       "      <td>9.0</td>\n",
       "      <td>NaN</td>\n",
       "      <td>NaN</td>\n",
       "      <td>4.0</td>\n",
       "      <td>NaN</td>\n",
       "      <td>NaN</td>\n",
       "      <td>NaN</td>\n",
       "      <td>NaN</td>\n",
       "      <td>69.0</td>\n",
       "    </tr>\n",
       "    <tr>\n",
       "      <th>2</th>\n",
       "      <td>2</td>\n",
       "      <td>2014-01-01 01:00:00</td>\n",
       "      <td>1</td>\n",
       "      <td>1</td>\n",
       "      <td>1</td>\n",
       "      <td>CAM</td>\n",
       "      <td>NaN</td>\n",
       "      <td>NaN</td>\n",
       "      <td>NaN</td>\n",
       "      <td>0.5</td>\n",
       "      <td>...</td>\n",
       "      <td>34.0</td>\n",
       "      <td>5.0</td>\n",
       "      <td>54.0</td>\n",
       "      <td>15.0</td>\n",
       "      <td>14.0</td>\n",
       "      <td>NaN</td>\n",
       "      <td>NaN</td>\n",
       "      <td>NaN</td>\n",
       "      <td>NaN</td>\n",
       "      <td>69.0</td>\n",
       "    </tr>\n",
       "    <tr>\n",
       "      <th>3</th>\n",
       "      <td>3</td>\n",
       "      <td>2014-01-01 01:00:00</td>\n",
       "      <td>1</td>\n",
       "      <td>1</td>\n",
       "      <td>1</td>\n",
       "      <td>CHO</td>\n",
       "      <td>NaN</td>\n",
       "      <td>NaN</td>\n",
       "      <td>NaN</td>\n",
       "      <td>NaN</td>\n",
       "      <td>...</td>\n",
       "      <td>NaN</td>\n",
       "      <td>2.0</td>\n",
       "      <td>NaN</td>\n",
       "      <td>NaN</td>\n",
       "      <td>5.0</td>\n",
       "      <td>84.0</td>\n",
       "      <td>9.4</td>\n",
       "      <td>1.1</td>\n",
       "      <td>61.0</td>\n",
       "      <td>84.0</td>\n",
       "    </tr>\n",
       "    <tr>\n",
       "      <th>4</th>\n",
       "      <td>5</td>\n",
       "      <td>2014-01-01 01:00:00</td>\n",
       "      <td>1</td>\n",
       "      <td>1</td>\n",
       "      <td>1</td>\n",
       "      <td>CUA</td>\n",
       "      <td>NaN</td>\n",
       "      <td>NaN</td>\n",
       "      <td>NaN</td>\n",
       "      <td>1.3</td>\n",
       "      <td>...</td>\n",
       "      <td>54.0</td>\n",
       "      <td>4.0</td>\n",
       "      <td>NaN</td>\n",
       "      <td>NaN</td>\n",
       "      <td>11.0</td>\n",
       "      <td>83.0</td>\n",
       "      <td>7.5</td>\n",
       "      <td>1.3</td>\n",
       "      <td>168.0</td>\n",
       "      <td>83.0</td>\n",
       "    </tr>\n",
       "  </tbody>\n",
       "</table>\n",
       "<p>5 rows × 22 columns</p>\n",
       "</div>"
      ],
      "text/plain": [
       "   Unnamed: 0                fecha  hora  dia  mes id_station  UVA  UVB  PA  \\\n",
       "0           0  2014-01-01 01:00:00     1    1    1        ACO  NaN  NaN NaN   \n",
       "1           1  2014-01-01 01:00:00     1    1    1        ATI  NaN  NaN NaN   \n",
       "2           2  2014-01-01 01:00:00     1    1    1        CAM  NaN  NaN NaN   \n",
       "3           3  2014-01-01 01:00:00     1    1    1        CHO  NaN  NaN NaN   \n",
       "4           5  2014-01-01 01:00:00     1    1    1        CUA  NaN  NaN NaN   \n",
       "\n",
       "    CO  ...   NOX   O3  PM2.5  PMCO   SO2    RH  TMP  WSP    WDR  PM10  \n",
       "0  0.3  ...   NaN  9.0    NaN   NaN   2.0  89.0  6.8  2.5  323.0  57.0  \n",
       "1  0.5  ...  20.0  9.0    NaN   NaN   4.0   NaN  NaN  NaN    NaN  69.0  \n",
       "2  0.5  ...  34.0  5.0   54.0  15.0  14.0   NaN  NaN  NaN    NaN  69.0  \n",
       "3  NaN  ...   NaN  2.0    NaN   NaN   5.0  84.0  9.4  1.1   61.0  84.0  \n",
       "4  1.3  ...  54.0  4.0    NaN   NaN  11.0  83.0  7.5  1.3  168.0  83.0  \n",
       "\n",
       "[5 rows x 22 columns]"
      ]
     },
     "execution_count": 3,
     "metadata": {},
     "output_type": "execute_result"
    }
   ],
   "source": [
    "data.head()"
   ]
  },
  {
   "cell_type": "markdown",
   "metadata": {},
   "source": [
    "Como se puede observar, se necesita reestructurar el dataframe para que se pueda correr la correlación. Es necesario quitar algunas columnas y reiniciar índices."
   ]
  },
  {
   "cell_type": "markdown",
   "metadata": {},
   "source": [
    "## 2.1 Estructuración del dataframe"
   ]
  },
  {
   "cell_type": "markdown",
   "metadata": {},
   "source": [
    "Se eliminan las columnas `Unnamed:0`, `mes`, `dia` y `hora`, pues no son de nuestra utilidad. También se ordenan los datos por la columna `fecha` de manera ascendente, lo cual es fundamental para que posteriormente se construya la correlación con el desfase de tiempo "
   ]
  },
  {
   "cell_type": "code",
   "execution_count": 4,
   "metadata": {},
   "outputs": [],
   "source": [
    "data.drop(['Unnamed: 0', 'mes', 'dia', 'hora'], axis = 1, inplace = True)"
   ]
  },
  {
   "cell_type": "code",
   "execution_count": 5,
   "metadata": {},
   "outputs": [],
   "source": [
    "data = data.sort_values(by = 'fecha')\n",
    "data = data.reset_index(drop = True)"
   ]
  },
  {
   "cell_type": "code",
   "execution_count": 6,
   "metadata": {},
   "outputs": [
    {
     "data": {
      "text/html": [
       "<div>\n",
       "<style scoped>\n",
       "    .dataframe tbody tr th:only-of-type {\n",
       "        vertical-align: middle;\n",
       "    }\n",
       "\n",
       "    .dataframe tbody tr th {\n",
       "        vertical-align: top;\n",
       "    }\n",
       "\n",
       "    .dataframe thead th {\n",
       "        text-align: right;\n",
       "    }\n",
       "</style>\n",
       "<table border=\"1\" class=\"dataframe\">\n",
       "  <thead>\n",
       "    <tr style=\"text-align: right;\">\n",
       "      <th></th>\n",
       "      <th>fecha</th>\n",
       "      <th>id_station</th>\n",
       "      <th>UVA</th>\n",
       "      <th>UVB</th>\n",
       "      <th>PA</th>\n",
       "      <th>CO</th>\n",
       "      <th>NO</th>\n",
       "      <th>NO2</th>\n",
       "      <th>NOX</th>\n",
       "      <th>O3</th>\n",
       "      <th>PM2.5</th>\n",
       "      <th>PMCO</th>\n",
       "      <th>SO2</th>\n",
       "      <th>RH</th>\n",
       "      <th>TMP</th>\n",
       "      <th>WSP</th>\n",
       "      <th>WDR</th>\n",
       "      <th>PM10</th>\n",
       "    </tr>\n",
       "  </thead>\n",
       "  <tbody>\n",
       "    <tr>\n",
       "      <th>0</th>\n",
       "      <td>2012-01-01 00:00:00</td>\n",
       "      <td>ACO</td>\n",
       "      <td>NaN</td>\n",
       "      <td>NaN</td>\n",
       "      <td>NaN</td>\n",
       "      <td>0.1</td>\n",
       "      <td>1.0</td>\n",
       "      <td>4.0</td>\n",
       "      <td>4.0</td>\n",
       "      <td>24.0</td>\n",
       "      <td>NaN</td>\n",
       "      <td>NaN</td>\n",
       "      <td>1.0</td>\n",
       "      <td>71.0</td>\n",
       "      <td>10.9</td>\n",
       "      <td>3.8</td>\n",
       "      <td>30.0</td>\n",
       "      <td>6.0</td>\n",
       "    </tr>\n",
       "    <tr>\n",
       "      <th>1</th>\n",
       "      <td>2012-01-01 00:00:00</td>\n",
       "      <td>MER</td>\n",
       "      <td>0.0</td>\n",
       "      <td>0.0</td>\n",
       "      <td>590.0</td>\n",
       "      <td>0.3</td>\n",
       "      <td>4.0</td>\n",
       "      <td>14.0</td>\n",
       "      <td>18.0</td>\n",
       "      <td>16.0</td>\n",
       "      <td>9.0</td>\n",
       "      <td>7.0</td>\n",
       "      <td>2.0</td>\n",
       "      <td>65.0</td>\n",
       "      <td>12.0</td>\n",
       "      <td>4.0</td>\n",
       "      <td>342.0</td>\n",
       "      <td>16.0</td>\n",
       "    </tr>\n",
       "    <tr>\n",
       "      <th>2</th>\n",
       "      <td>2012-01-01 00:00:00</td>\n",
       "      <td>IZT</td>\n",
       "      <td>NaN</td>\n",
       "      <td>NaN</td>\n",
       "      <td>NaN</td>\n",
       "      <td>NaN</td>\n",
       "      <td>0.0</td>\n",
       "      <td>11.0</td>\n",
       "      <td>11.0</td>\n",
       "      <td>18.0</td>\n",
       "      <td>NaN</td>\n",
       "      <td>NaN</td>\n",
       "      <td>0.0</td>\n",
       "      <td>NaN</td>\n",
       "      <td>NaN</td>\n",
       "      <td>NaN</td>\n",
       "      <td>NaN</td>\n",
       "      <td>11.0</td>\n",
       "    </tr>\n",
       "    <tr>\n",
       "      <th>3</th>\n",
       "      <td>2012-01-01 00:00:00</td>\n",
       "      <td>FAC</td>\n",
       "      <td>NaN</td>\n",
       "      <td>NaN</td>\n",
       "      <td>NaN</td>\n",
       "      <td>0.1</td>\n",
       "      <td>3.0</td>\n",
       "      <td>12.0</td>\n",
       "      <td>16.0</td>\n",
       "      <td>19.0</td>\n",
       "      <td>NaN</td>\n",
       "      <td>NaN</td>\n",
       "      <td>2.0</td>\n",
       "      <td>69.0</td>\n",
       "      <td>11.4</td>\n",
       "      <td>2.7</td>\n",
       "      <td>340.0</td>\n",
       "      <td>14.0</td>\n",
       "    </tr>\n",
       "    <tr>\n",
       "      <th>4</th>\n",
       "      <td>2012-01-01 00:00:00</td>\n",
       "      <td>CAM</td>\n",
       "      <td>NaN</td>\n",
       "      <td>NaN</td>\n",
       "      <td>NaN</td>\n",
       "      <td>0.5</td>\n",
       "      <td>4.0</td>\n",
       "      <td>15.0</td>\n",
       "      <td>19.0</td>\n",
       "      <td>15.0</td>\n",
       "      <td>10.0</td>\n",
       "      <td>7.0</td>\n",
       "      <td>1.0</td>\n",
       "      <td>NaN</td>\n",
       "      <td>NaN</td>\n",
       "      <td>NaN</td>\n",
       "      <td>NaN</td>\n",
       "      <td>16.0</td>\n",
       "    </tr>\n",
       "  </tbody>\n",
       "</table>\n",
       "</div>"
      ],
      "text/plain": [
       "                 fecha id_station  UVA  UVB     PA   CO   NO   NO2   NOX  \\\n",
       "0  2012-01-01 00:00:00        ACO  NaN  NaN    NaN  0.1  1.0   4.0   4.0   \n",
       "1  2012-01-01 00:00:00        MER  0.0  0.0  590.0  0.3  4.0  14.0  18.0   \n",
       "2  2012-01-01 00:00:00        IZT  NaN  NaN    NaN  NaN  0.0  11.0  11.0   \n",
       "3  2012-01-01 00:00:00        FAC  NaN  NaN    NaN  0.1  3.0  12.0  16.0   \n",
       "4  2012-01-01 00:00:00        CAM  NaN  NaN    NaN  0.5  4.0  15.0  19.0   \n",
       "\n",
       "     O3  PM2.5  PMCO  SO2    RH   TMP  WSP    WDR  PM10  \n",
       "0  24.0    NaN   NaN  1.0  71.0  10.9  3.8   30.0   6.0  \n",
       "1  16.0    9.0   7.0  2.0  65.0  12.0  4.0  342.0  16.0  \n",
       "2  18.0    NaN   NaN  0.0   NaN   NaN  NaN    NaN  11.0  \n",
       "3  19.0    NaN   NaN  2.0  69.0  11.4  2.7  340.0  14.0  \n",
       "4  15.0   10.0   7.0  1.0   NaN   NaN  NaN    NaN  16.0  "
      ]
     },
     "execution_count": 6,
     "metadata": {},
     "output_type": "execute_result"
    }
   ],
   "source": [
    "data.head()"
   ]
  },
  {
   "cell_type": "markdown",
   "metadata": {},
   "source": [
    "Los datos recolectados son de las diferentes estaciones de monitoreo del la Ciudad de México. Se calcula el promedio de los valores sobre todas las estaciones. Esto se logra haciendo un `group by` usando la columna `fecha`. Para mejor visualización de los datos se redondean los valores a la primera cifra decimal."
   ]
  },
  {
   "cell_type": "code",
   "execution_count": 7,
   "metadata": {},
   "outputs": [],
   "source": [
    "data = data.groupby('fecha', as_index = False).mean()\n",
    "data = data.round(1)"
   ]
  },
  {
   "cell_type": "code",
   "execution_count": 8,
   "metadata": {},
   "outputs": [
    {
     "data": {
      "text/html": [
       "<div>\n",
       "<style scoped>\n",
       "    .dataframe tbody tr th:only-of-type {\n",
       "        vertical-align: middle;\n",
       "    }\n",
       "\n",
       "    .dataframe tbody tr th {\n",
       "        vertical-align: top;\n",
       "    }\n",
       "\n",
       "    .dataframe thead th {\n",
       "        text-align: right;\n",
       "    }\n",
       "</style>\n",
       "<table border=\"1\" class=\"dataframe\">\n",
       "  <thead>\n",
       "    <tr style=\"text-align: right;\">\n",
       "      <th></th>\n",
       "      <th>fecha</th>\n",
       "      <th>UVA</th>\n",
       "      <th>UVB</th>\n",
       "      <th>PA</th>\n",
       "      <th>CO</th>\n",
       "      <th>NO</th>\n",
       "      <th>NO2</th>\n",
       "      <th>NOX</th>\n",
       "      <th>O3</th>\n",
       "      <th>PM2.5</th>\n",
       "      <th>PMCO</th>\n",
       "      <th>SO2</th>\n",
       "      <th>RH</th>\n",
       "      <th>TMP</th>\n",
       "      <th>WSP</th>\n",
       "      <th>WDR</th>\n",
       "      <th>PM10</th>\n",
       "    </tr>\n",
       "  </thead>\n",
       "  <tbody>\n",
       "    <tr>\n",
       "      <th>0</th>\n",
       "      <td>2012-01-01 00:00:00</td>\n",
       "      <td>0.0</td>\n",
       "      <td>0.0</td>\n",
       "      <td>590.0</td>\n",
       "      <td>0.3</td>\n",
       "      <td>2.6</td>\n",
       "      <td>13.8</td>\n",
       "      <td>16.2</td>\n",
       "      <td>15.1</td>\n",
       "      <td>9.4</td>\n",
       "      <td>6.3</td>\n",
       "      <td>1.6</td>\n",
       "      <td>68.3</td>\n",
       "      <td>11.4</td>\n",
       "      <td>3.2</td>\n",
       "      <td>294.9</td>\n",
       "      <td>14.8</td>\n",
       "    </tr>\n",
       "    <tr>\n",
       "      <th>1</th>\n",
       "      <td>2012-01-01 01:00:00</td>\n",
       "      <td>0.0</td>\n",
       "      <td>0.0</td>\n",
       "      <td>587.0</td>\n",
       "      <td>1.4</td>\n",
       "      <td>30.0</td>\n",
       "      <td>39.8</td>\n",
       "      <td>69.5</td>\n",
       "      <td>5.5</td>\n",
       "      <td>77.0</td>\n",
       "      <td>136.9</td>\n",
       "      <td>7.2</td>\n",
       "      <td>68.8</td>\n",
       "      <td>9.7</td>\n",
       "      <td>1.4</td>\n",
       "      <td>180.0</td>\n",
       "      <td>174.3</td>\n",
       "    </tr>\n",
       "    <tr>\n",
       "      <th>2</th>\n",
       "      <td>2012-01-01 02:00:00</td>\n",
       "      <td>0.0</td>\n",
       "      <td>0.0</td>\n",
       "      <td>587.0</td>\n",
       "      <td>1.7</td>\n",
       "      <td>39.7</td>\n",
       "      <td>40.0</td>\n",
       "      <td>79.6</td>\n",
       "      <td>4.3</td>\n",
       "      <td>121.0</td>\n",
       "      <td>38.0</td>\n",
       "      <td>8.2</td>\n",
       "      <td>72.6</td>\n",
       "      <td>9.1</td>\n",
       "      <td>1.6</td>\n",
       "      <td>139.6</td>\n",
       "      <td>164.6</td>\n",
       "    </tr>\n",
       "    <tr>\n",
       "      <th>3</th>\n",
       "      <td>2012-01-01 03:00:00</td>\n",
       "      <td>0.0</td>\n",
       "      <td>0.0</td>\n",
       "      <td>587.0</td>\n",
       "      <td>1.8</td>\n",
       "      <td>40.8</td>\n",
       "      <td>39.1</td>\n",
       "      <td>79.6</td>\n",
       "      <td>4.6</td>\n",
       "      <td>125.1</td>\n",
       "      <td>36.7</td>\n",
       "      <td>7.6</td>\n",
       "      <td>74.1</td>\n",
       "      <td>8.6</td>\n",
       "      <td>1.1</td>\n",
       "      <td>232.6</td>\n",
       "      <td>172.9</td>\n",
       "    </tr>\n",
       "    <tr>\n",
       "      <th>4</th>\n",
       "      <td>2012-01-01 04:00:00</td>\n",
       "      <td>0.0</td>\n",
       "      <td>0.0</td>\n",
       "      <td>587.0</td>\n",
       "      <td>2.0</td>\n",
       "      <td>51.2</td>\n",
       "      <td>37.8</td>\n",
       "      <td>88.9</td>\n",
       "      <td>4.1</td>\n",
       "      <td>129.6</td>\n",
       "      <td>37.0</td>\n",
       "      <td>6.9</td>\n",
       "      <td>75.3</td>\n",
       "      <td>8.2</td>\n",
       "      <td>1.0</td>\n",
       "      <td>225.6</td>\n",
       "      <td>167.6</td>\n",
       "    </tr>\n",
       "  </tbody>\n",
       "</table>\n",
       "</div>"
      ],
      "text/plain": [
       "                 fecha  UVA  UVB     PA   CO    NO   NO2   NOX    O3  PM2.5  \\\n",
       "0  2012-01-01 00:00:00  0.0  0.0  590.0  0.3   2.6  13.8  16.2  15.1    9.4   \n",
       "1  2012-01-01 01:00:00  0.0  0.0  587.0  1.4  30.0  39.8  69.5   5.5   77.0   \n",
       "2  2012-01-01 02:00:00  0.0  0.0  587.0  1.7  39.7  40.0  79.6   4.3  121.0   \n",
       "3  2012-01-01 03:00:00  0.0  0.0  587.0  1.8  40.8  39.1  79.6   4.6  125.1   \n",
       "4  2012-01-01 04:00:00  0.0  0.0  587.0  2.0  51.2  37.8  88.9   4.1  129.6   \n",
       "\n",
       "    PMCO  SO2    RH   TMP  WSP    WDR   PM10  \n",
       "0    6.3  1.6  68.3  11.4  3.2  294.9   14.8  \n",
       "1  136.9  7.2  68.8   9.7  1.4  180.0  174.3  \n",
       "2   38.0  8.2  72.6   9.1  1.6  139.6  164.6  \n",
       "3   36.7  7.6  74.1   8.6  1.1  232.6  172.9  \n",
       "4   37.0  6.9  75.3   8.2  1.0  225.6  167.6  "
      ]
     },
     "execution_count": 8,
     "metadata": {},
     "output_type": "execute_result"
    }
   ],
   "source": [
    "data.head()"
   ]
  },
  {
   "cell_type": "markdown",
   "metadata": {},
   "source": [
    "## 2.2 Correlación entre contaminantes"
   ]
  },
  {
   "cell_type": "markdown",
   "metadata": {},
   "source": [
    "Usando los datos anteriores ya podemos obtener la correlación y la matriz de correlación entre los contaminantes.\n",
    "\n",
    "Se construye un filtro para que a demanda el usuario obtenga la correlación del contaminante deseado."
   ]
  },
  {
   "cell_type": "code",
   "execution_count": 9,
   "metadata": {},
   "outputs": [
    {
     "data": {
      "application/vnd.jupyter.widget-view+json": {
       "model_id": "0a0f30d705194dd5805f6a93e05987cd",
       "version_major": 2,
       "version_minor": 0
      },
      "text/plain": [
       "interactive(children=(Dropdown(description='X', options=('UVA', 'UVB', 'PA', 'CO', 'NO', 'NO2', 'NOX', 'O3', '…"
      ]
     },
     "metadata": {},
     "output_type": "display_data"
    }
   ],
   "source": [
    "@interact\n",
    "def correlaciones(X = list(data.select_dtypes('number').columns),\n",
    "                  Y = list(data.select_dtypes('number').columns)):\n",
    "        \n",
    "    print(f\"Correlación: {data[X].corr(data[Y])}\")"
   ]
  },
  {
   "cell_type": "markdown",
   "metadata": {},
   "source": [
    "Y se construye la matriz de correlación:"
   ]
  },
  {
   "cell_type": "code",
   "execution_count": 13,
   "metadata": {},
   "outputs": [
    {
     "data": {
      "image/png": "[encoded data removed]",
      "text/plain": [
       "<Figure size 1296x936 with 2 Axes>"
      ]
     },
     "metadata": {
      "needs_background": "light"
     },
     "output_type": "display_data"
    }
   ],
   "source": [
    "import matplotlib.pyplot as plt\n",
    "import numpy as np\n",
    "import seaborn as sns\n",
    "colormap = plt.cm.RdBu_r\n",
    "plt.figure(figsize=(18,13))\n",
    "plt.title(u'Correlación entre contaminantes de 2012 a 2018', y=1.05, size=18)\n",
    "\n",
    "mask = np.zeros_like(data.corr())\n",
    "mask[np.triu_indices_from(mask)] = True\n",
    "\n",
    "svm = sns.heatmap(data.corr(), mask=mask, linewidths=0.1,vmin = -1.0, vmax=1.0, \n",
    "            square=True, cmap=colormap, linecolor='white', annot=True)"
   ]
  },
  {
   "cell_type": "markdown",
   "metadata": {},
   "source": [
    "También se puede graficar la distribución de los datos para visualizar la correlación."
   ]
  },
  {
   "cell_type": "code",
   "execution_count": 14,
   "metadata": {},
   "outputs": [
    {
     "data": {
      "image/png": "[encoded data removed]",
      "text/plain": [
       "<Figure size 720x720 with 256 Axes>"
      ]
     },
     "metadata": {
      "needs_background": "light"
     },
     "output_type": "display_data"
    }
   ],
   "source": [
    "scatter_matrix(data, figsize=(10,10))\n",
    "plt.show()"
   ]
  },
  {
   "cell_type": "markdown",
   "metadata": {},
   "source": [
    "## 2.3 Correlación cruzada entre contaminantes"
   ]
  },
  {
   "cell_type": "markdown",
   "metadata": {},
   "source": [
    "Es necesario conocer la correlación entre los contaminantes a distintos rangos de tiempo. Por ejemplo, es de interés saber si las partículas PM10 aumentan o disminuyen 24 hrs después de que subió el O3 o algún otro contaminante. Para ello se construye una función que calcule la correlación desfasada cada hora.\n",
    "\n",
    "Esta función fue obtenida en un artículo de kaggle titulado [Cross-correlation (time-lag) with pandas](https://www.kaggle.com/dedecu/cross-correlation-time-lag-with-pandas) y aplicada en este trabajo: "
   ]
  },
  {
   "cell_type": "code",
   "execution_count": 15,
   "metadata": {},
   "outputs": [],
   "source": [
    "def data_lag(df,lag=0,NON_DER=[]):\n",
    "    df = df.copy()\n",
    "    if not lag:\n",
    "        return df\n",
    "    cols ={}\n",
    "    for i in range(1,lag+1):\n",
    "        for x in list(df.columns):\n",
    "            if x not in NON_DER:\n",
    "                if not x in cols:\n",
    "                    cols[x] = ['{}_{}'.format(x, i)]\n",
    "                else:\n",
    "                    cols[x].append('{}_{}'.format(x, i))\n",
    "    for k,v in cols.items():\n",
    "        columns = v\n",
    "        dfn = pd.DataFrame(data=None, columns=columns, index=df.index)    \n",
    "        i = 1\n",
    "        for c in columns:\n",
    "            dfn[c] = df[k].shift(periods=i)\n",
    "            i+=1\n",
    "        df = pd.concat([df, dfn], axis=1, join_axes=[df.index])\n",
    "    return df"
   ]
  },
  {
   "cell_type": "code",
   "execution_count": 16,
   "metadata": {},
   "outputs": [],
   "source": [
    "NON_DER = ['fecha',]"
   ]
  },
  {
   "cell_type": "markdown",
   "metadata": {},
   "source": [
    "El desfase se hará para 72 horas aplicando la función anterior a los datos que se tienen."
   ]
  },
  {
   "cell_type": "code",
   "execution_count": 17,
   "metadata": {},
   "outputs": [],
   "source": [
    "data_72 = data_lag(data, 72, NON_DER)"
   ]
  },
  {
   "cell_type": "markdown",
   "metadata": {},
   "source": [
    "Se corre la correlación para este desfase y se guarda en un nuevo dataframe."
   ]
  },
  {
   "cell_type": "code",
   "execution_count": 18,
   "metadata": {},
   "outputs": [],
   "source": [
    "data_72_corr = data_72.corr()"
   ]
  },
  {
   "cell_type": "markdown",
   "metadata": {},
   "source": [
    "La tabla obtenida tiene todos los valores desfasados hasta 72 horas. Por ejemplo la columna indicada como PM10_63 muestra la correlación de todos los contaminantes con diferencia de 63 horas."
   ]
  },
  {
   "cell_type": "code",
   "execution_count": 19,
   "metadata": {},
   "outputs": [
    {
     "data": {
      "text/html": [
       "<div>\n",
       "<style scoped>\n",
       "    .dataframe tbody tr th:only-of-type {\n",
       "        vertical-align: middle;\n",
       "    }\n",
       "\n",
       "    .dataframe tbody tr th {\n",
       "        vertical-align: top;\n",
       "    }\n",
       "\n",
       "    .dataframe thead th {\n",
       "        text-align: right;\n",
       "    }\n",
       "</style>\n",
       "<table border=\"1\" class=\"dataframe\">\n",
       "  <thead>\n",
       "    <tr style=\"text-align: right;\">\n",
       "      <th></th>\n",
       "      <th>UVA</th>\n",
       "      <th>UVB</th>\n",
       "      <th>PA</th>\n",
       "      <th>CO</th>\n",
       "      <th>NO</th>\n",
       "      <th>NO2</th>\n",
       "      <th>NOX</th>\n",
       "      <th>O3</th>\n",
       "      <th>PM2.5</th>\n",
       "      <th>PMCO</th>\n",
       "      <th>...</th>\n",
       "      <th>PM10_63</th>\n",
       "      <th>PM10_64</th>\n",
       "      <th>PM10_65</th>\n",
       "      <th>PM10_66</th>\n",
       "      <th>PM10_67</th>\n",
       "      <th>PM10_68</th>\n",
       "      <th>PM10_69</th>\n",
       "      <th>PM10_70</th>\n",
       "      <th>PM10_71</th>\n",
       "      <th>PM10_72</th>\n",
       "    </tr>\n",
       "  </thead>\n",
       "  <tbody>\n",
       "    <tr>\n",
       "      <th>UVA</th>\n",
       "      <td>1.000000</td>\n",
       "      <td>0.955603</td>\n",
       "      <td>0.107343</td>\n",
       "      <td>-0.046308</td>\n",
       "      <td>-0.127995</td>\n",
       "      <td>-0.113327</td>\n",
       "      <td>-0.140273</td>\n",
       "      <td>0.637840</td>\n",
       "      <td>0.275274</td>\n",
       "      <td>0.128518</td>\n",
       "      <td>...</td>\n",
       "      <td>-0.107516</td>\n",
       "      <td>-0.050326</td>\n",
       "      <td>-0.003415</td>\n",
       "      <td>0.027705</td>\n",
       "      <td>0.043913</td>\n",
       "      <td>0.051079</td>\n",
       "      <td>0.057823</td>\n",
       "      <td>0.071975</td>\n",
       "      <td>0.099090</td>\n",
       "      <td>0.138198</td>\n",
       "    </tr>\n",
       "    <tr>\n",
       "      <th>UVB</th>\n",
       "      <td>0.955603</td>\n",
       "      <td>1.000000</td>\n",
       "      <td>0.069185</td>\n",
       "      <td>-0.089234</td>\n",
       "      <td>-0.166607</td>\n",
       "      <td>-0.131417</td>\n",
       "      <td>-0.177303</td>\n",
       "      <td>0.630521</td>\n",
       "      <td>0.249497</td>\n",
       "      <td>0.093933</td>\n",
       "      <td>...</td>\n",
       "      <td>-0.093488</td>\n",
       "      <td>-0.034817</td>\n",
       "      <td>0.013799</td>\n",
       "      <td>0.044070</td>\n",
       "      <td>0.054896</td>\n",
       "      <td>0.052458</td>\n",
       "      <td>0.047539</td>\n",
       "      <td>0.051735</td>\n",
       "      <td>0.073770</td>\n",
       "      <td>0.113496</td>\n",
       "    </tr>\n",
       "    <tr>\n",
       "      <th>PA</th>\n",
       "      <td>0.107343</td>\n",
       "      <td>0.069185</td>\n",
       "      <td>1.000000</td>\n",
       "      <td>0.184217</td>\n",
       "      <td>0.099352</td>\n",
       "      <td>0.089986</td>\n",
       "      <td>0.109460</td>\n",
       "      <td>-0.113144</td>\n",
       "      <td>0.102240</td>\n",
       "      <td>0.120426</td>\n",
       "      <td>...</td>\n",
       "      <td>0.113514</td>\n",
       "      <td>0.107144</td>\n",
       "      <td>0.097463</td>\n",
       "      <td>0.087730</td>\n",
       "      <td>0.079488</td>\n",
       "      <td>0.074966</td>\n",
       "      <td>0.073672</td>\n",
       "      <td>0.074932</td>\n",
       "      <td>0.078084</td>\n",
       "      <td>0.080416</td>\n",
       "    </tr>\n",
       "    <tr>\n",
       "      <th>CO</th>\n",
       "      <td>-0.046308</td>\n",
       "      <td>-0.089234</td>\n",
       "      <td>0.184217</td>\n",
       "      <td>1.000000</td>\n",
       "      <td>0.870793</td>\n",
       "      <td>0.726255</td>\n",
       "      <td>0.939619</td>\n",
       "      <td>-0.306954</td>\n",
       "      <td>0.526676</td>\n",
       "      <td>0.470417</td>\n",
       "      <td>...</td>\n",
       "      <td>0.190026</td>\n",
       "      <td>0.152264</td>\n",
       "      <td>0.120292</td>\n",
       "      <td>0.107456</td>\n",
       "      <td>0.122060</td>\n",
       "      <td>0.162429</td>\n",
       "      <td>0.215317</td>\n",
       "      <td>0.263217</td>\n",
       "      <td>0.290071</td>\n",
       "      <td>0.275591</td>\n",
       "    </tr>\n",
       "    <tr>\n",
       "      <th>NO</th>\n",
       "      <td>-0.127995</td>\n",
       "      <td>-0.166607</td>\n",
       "      <td>0.099352</td>\n",
       "      <td>0.870793</td>\n",
       "      <td>1.000000</td>\n",
       "      <td>0.460770</td>\n",
       "      <td>0.956901</td>\n",
       "      <td>-0.434313</td>\n",
       "      <td>0.291982</td>\n",
       "      <td>0.373522</td>\n",
       "      <td>...</td>\n",
       "      <td>0.150177</td>\n",
       "      <td>0.123662</td>\n",
       "      <td>0.105905</td>\n",
       "      <td>0.106326</td>\n",
       "      <td>0.129356</td>\n",
       "      <td>0.169737</td>\n",
       "      <td>0.211755</td>\n",
       "      <td>0.236967</td>\n",
       "      <td>0.231434</td>\n",
       "      <td>0.181179</td>\n",
       "    </tr>\n",
       "  </tbody>\n",
       "</table>\n",
       "<p>5 rows × 1168 columns</p>\n",
       "</div>"
      ],
      "text/plain": [
       "          UVA       UVB        PA        CO        NO       NO2       NOX  \\\n",
       "UVA  1.000000  0.955603  0.107343 -0.046308 -0.127995 -0.113327 -0.140273   \n",
       "UVB  0.955603  1.000000  0.069185 -0.089234 -0.166607 -0.131417 -0.177303   \n",
       "PA   0.107343  0.069185  1.000000  0.184217  0.099352  0.089986  0.109460   \n",
       "CO  -0.046308 -0.089234  0.184217  1.000000  0.870793  0.726255  0.939619   \n",
       "NO  -0.127995 -0.166607  0.099352  0.870793  1.000000  0.460770  0.956901   \n",
       "\n",
       "           O3     PM2.5      PMCO  ...   PM10_63   PM10_64   PM10_65  \\\n",
       "UVA  0.637840  0.275274  0.128518  ... -0.107516 -0.050326 -0.003415   \n",
       "UVB  0.630521  0.249497  0.093933  ... -0.093488 -0.034817  0.013799   \n",
       "PA  -0.113144  0.102240  0.120426  ...  0.113514  0.107144  0.097463   \n",
       "CO  -0.306954  0.526676  0.470417  ...  0.190026  0.152264  0.120292   \n",
       "NO  -0.434313  0.291982  0.373522  ...  0.150177  0.123662  0.105905   \n",
       "\n",
       "      PM10_66   PM10_67   PM10_68   PM10_69   PM10_70   PM10_71   PM10_72  \n",
       "UVA  0.027705  0.043913  0.051079  0.057823  0.071975  0.099090  0.138198  \n",
       "UVB  0.044070  0.054896  0.052458  0.047539  0.051735  0.073770  0.113496  \n",
       "PA   0.087730  0.079488  0.074966  0.073672  0.074932  0.078084  0.080416  \n",
       "CO   0.107456  0.122060  0.162429  0.215317  0.263217  0.290071  0.275591  \n",
       "NO   0.106326  0.129356  0.169737  0.211755  0.236967  0.231434  0.181179  \n",
       "\n",
       "[5 rows x 1168 columns]"
      ]
     },
     "execution_count": 19,
     "metadata": {},
     "output_type": "execute_result"
    }
   ],
   "source": [
    "data_72_corr.head()"
   ]
  },
  {
   "cell_type": "markdown",
   "metadata": {},
   "source": [
    "### 2.3.1 Correlación entre PM10 y los demás contaminantes"
   ]
  },
  {
   "cell_type": "markdown",
   "metadata": {},
   "source": [
    "Siendo las partículas PM10 uno de los determinantes para detonar una contingencia ambiental, interesa saber de que manera se correlacionan con los demás contaminantes y en que ciclos de tiempo dicha correlación es más fuerte.\n",
    "\n",
    "Se graficará esta correlación para el rango de 0 a 72 horas obtenido en la sección anterior.\n",
    "\n",
    "Antes de correr la correlación se le vuelve a dar estructura al dataframe para poder graficar de manera óptima."
   ]
  },
  {
   "cell_type": "code",
   "execution_count": 24,
   "metadata": {},
   "outputs": [],
   "source": [
    "# Se aísla sólo la columna que corresponde a las partículas PM10\n",
    "PM10_72 = data_72_corr[[\"PM10\"]]"
   ]
  },
  {
   "cell_type": "code",
   "execution_count": 25,
   "metadata": {},
   "outputs": [],
   "source": [
    "# Se reinicia el índice del dataframe\n",
    "PM10_72.reset_index(inplace=True)"
   ]
  },
  {
   "cell_type": "code",
   "execution_count": 26,
   "metadata": {},
   "outputs": [],
   "source": [
    "# Se renombran las columnas para mayor comprensión\n",
    "PM10_72.columns = ['contaminante', 'valor']"
   ]
  },
  {
   "cell_type": "markdown",
   "metadata": {},
   "source": [
    "El dataframe tendrá la siguiente estructura:"
   ]
  },
  {
   "cell_type": "code",
   "execution_count": 29,
   "metadata": {},
   "outputs": [
    {
     "data": {
      "text/html": [
       "<div>\n",
       "<style scoped>\n",
       "    .dataframe tbody tr th:only-of-type {\n",
       "        vertical-align: middle;\n",
       "    }\n",
       "\n",
       "    .dataframe tbody tr th {\n",
       "        vertical-align: top;\n",
       "    }\n",
       "\n",
       "    .dataframe thead th {\n",
       "        text-align: right;\n",
       "    }\n",
       "</style>\n",
       "<table border=\"1\" class=\"dataframe\">\n",
       "  <thead>\n",
       "    <tr style=\"text-align: right;\">\n",
       "      <th></th>\n",
       "      <th>contaminante</th>\n",
       "      <th>valor</th>\n",
       "    </tr>\n",
       "  </thead>\n",
       "  <tbody>\n",
       "    <tr>\n",
       "      <th>0</th>\n",
       "      <td>UVA</td>\n",
       "      <td>0.123385</td>\n",
       "    </tr>\n",
       "    <tr>\n",
       "      <th>1</th>\n",
       "      <td>UVB</td>\n",
       "      <td>0.086852</td>\n",
       "    </tr>\n",
       "    <tr>\n",
       "      <th>2</th>\n",
       "      <td>PA</td>\n",
       "      <td>0.076456</td>\n",
       "    </tr>\n",
       "    <tr>\n",
       "      <th>3</th>\n",
       "      <td>CO</td>\n",
       "      <td>0.593270</td>\n",
       "    </tr>\n",
       "    <tr>\n",
       "      <th>4</th>\n",
       "      <td>NO</td>\n",
       "      <td>0.423978</td>\n",
       "    </tr>\n",
       "  </tbody>\n",
       "</table>\n",
       "</div>"
      ],
      "text/plain": [
       "  contaminante     valor\n",
       "0          UVA  0.123385\n",
       "1          UVB  0.086852\n",
       "2           PA  0.076456\n",
       "3           CO  0.593270\n",
       "4           NO  0.423978"
      ]
     },
     "execution_count": 29,
     "metadata": {},
     "output_type": "execute_result"
    }
   ],
   "source": [
    "PM10_72 .head()"
   ]
  },
  {
   "cell_type": "markdown",
   "metadata": {},
   "source": [
    "El índice de este dataframe indica las horas,la columna contaminante junto con la columna valor da la correlación entre el PM10 y el contaminante indicado a la hora indicada. Por ejemplo la fila con índice `29` contaminante `UVA_14` y valor `-0.265479`, nos dice que la correlación del PM10 con los rayos UVA después de 14 horas es de `-0.265479`.\n",
    "\n",
    "La estructura de este dataframe es poco práctica para poder graficar y obtener un archivo csv con las correlaciones. Por ello se parte primero este dataframe en dos y se trabajará cada uno de manera distinta.\n",
    "\n",
    "El objetivo es tener un dataframe con columnas `horas`, `UVA`, `UVB`,..., `PM10` y que cada celda represente la correlación a la hora indicada.\n",
    "\n",
    "Primero separamos las primeras 16 filas de este dataframe en otro más pequeño. El resultante serán los valores de la correlación a la hora 0."
   ]
  },
  {
   "cell_type": "code",
   "execution_count": 30,
   "metadata": {},
   "outputs": [],
   "source": [
    "hora_0 = PM10_72.loc[0:15]"
   ]
  },
  {
   "cell_type": "code",
   "execution_count": 31,
   "metadata": {},
   "outputs": [],
   "source": [
    "# La columna contaminante no sirve para estructurar el nuevo dataframe, por tanto se elimina\n",
    "hora_0.drop(['contaminante'], axis=1, inplace = True)"
   ]
  },
  {
   "cell_type": "code",
   "execution_count": 32,
   "metadata": {},
   "outputs": [],
   "source": [
    "# Se transpone la columna pues será la fila 0 (hora cero) del nuevo dataframe\n",
    "hora_0 = hora_0.transpose()"
   ]
  },
  {
   "cell_type": "code",
   "execution_count": 35,
   "metadata": {},
   "outputs": [],
   "source": [
    "# Se renombran las columnas para que cada valor coincida con los contaminantes que se tienen\n",
    "hora_0.columns = ['UVA', 'UVB', 'PA', 'CO', 'NO', 'NO2', 'NOX', 'O3', 'PM25', 'PMCO', 'SO2', 'RH', 'TMP'\n",
    "                  , 'WSP', 'WDR', 'PM10']"
   ]
  },
  {
   "cell_type": "code",
   "execution_count": 36,
   "metadata": {},
   "outputs": [
    {
     "data": {
      "text/html": [
       "<div>\n",
       "<style scoped>\n",
       "    .dataframe tbody tr th:only-of-type {\n",
       "        vertical-align: middle;\n",
       "    }\n",
       "\n",
       "    .dataframe tbody tr th {\n",
       "        vertical-align: top;\n",
       "    }\n",
       "\n",
       "    .dataframe thead th {\n",
       "        text-align: right;\n",
       "    }\n",
       "</style>\n",
       "<table border=\"1\" class=\"dataframe\">\n",
       "  <thead>\n",
       "    <tr style=\"text-align: right;\">\n",
       "      <th></th>\n",
       "      <th>UVA</th>\n",
       "      <th>UVB</th>\n",
       "      <th>PA</th>\n",
       "      <th>CO</th>\n",
       "      <th>NO</th>\n",
       "      <th>NO2</th>\n",
       "      <th>NOX</th>\n",
       "      <th>O3</th>\n",
       "      <th>PM25</th>\n",
       "      <th>PMCO</th>\n",
       "      <th>SO2</th>\n",
       "      <th>RH</th>\n",
       "      <th>TMP</th>\n",
       "      <th>WSP</th>\n",
       "      <th>WDR</th>\n",
       "      <th>PM10</th>\n",
       "    </tr>\n",
       "  </thead>\n",
       "  <tbody>\n",
       "    <tr>\n",
       "      <th>0</th>\n",
       "      <td>0.123385</td>\n",
       "      <td>0.086852</td>\n",
       "      <td>0.076456</td>\n",
       "      <td>0.59327</td>\n",
       "      <td>0.423978</td>\n",
       "      <td>0.615966</td>\n",
       "      <td>0.54328</td>\n",
       "      <td>0.163479</td>\n",
       "      <td>0.779534</td>\n",
       "      <td>0.890058</td>\n",
       "      <td>0.328255</td>\n",
       "      <td>-0.400048</td>\n",
       "      <td>0.083042</td>\n",
       "      <td>-0.056969</td>\n",
       "      <td>-0.224955</td>\n",
       "      <td>1.0</td>\n",
       "    </tr>\n",
       "  </tbody>\n",
       "</table>\n",
       "</div>"
      ],
      "text/plain": [
       "        UVA       UVB        PA       CO        NO       NO2      NOX  \\\n",
       "0  0.123385  0.086852  0.076456  0.59327  0.423978  0.615966  0.54328   \n",
       "\n",
       "         O3      PM25      PMCO       SO2        RH       TMP       WSP  \\\n",
       "0  0.163479  0.779534  0.890058  0.328255 -0.400048  0.083042 -0.056969   \n",
       "\n",
       "        WDR  PM10  \n",
       "0 -0.224955   1.0  "
      ]
     },
     "execution_count": 36,
     "metadata": {},
     "output_type": "execute_result"
    }
   ],
   "source": [
    "# Se reinicia el índice y visualizamos el nuevo dataframe\n",
    "hora_0 = hora_0.reset_index(drop=True)\n",
    "hora_0.head()"
   ]
  },
  {
   "cell_type": "markdown",
   "metadata": {},
   "source": [
    "Ahora bien, se trabajará con las siguientes filas del dataframe original, que contiene de la hora 1, a las 72, es deir a partir de la fila 16 del índice."
   ]
  },
  {
   "cell_type": "code",
   "execution_count": 37,
   "metadata": {},
   "outputs": [],
   "source": [
    "# Se parte el dataframe original en un nuevo dataframe\n",
    "hora_72 = PM10_72.loc[16:]"
   ]
  },
  {
   "cell_type": "code",
   "execution_count": 38,
   "metadata": {},
   "outputs": [
    {
     "data": {
      "text/plain": [
       "(1152, 2)"
      ]
     },
     "execution_count": 38,
     "metadata": {},
     "output_type": "execute_result"
    }
   ],
   "source": [
    "hora_72.shape"
   ]
  },
  {
   "cell_type": "markdown",
   "metadata": {},
   "source": [
    "El nuevo dataframe tiene 1152 filas. El objetivo es obtener un dataframe por cada contaminante. Es decir se tendrá un dataframe para el O3 con los valores de su correlación con el PM10 de 0 a 72 horas y así para cada contaminante. Para ello se dividirá el dataframe `hora_72` en los 16 dataframes correspondientes."
   ]
  },
  {
   "cell_type": "code",
   "execution_count": 40,
   "metadata": {},
   "outputs": [],
   "source": [
    "# División del dataframe en los 16 necesarios\n",
    "dfs_72 = \\\n",
    "{name: group for name, group in hora_72.groupby(np.arange(1152) // 72)}"
   ]
  },
  {
   "cell_type": "code",
   "execution_count": 41,
   "metadata": {},
   "outputs": [],
   "source": [
    "# Se reinician los índices de los 16 dataframes\n",
    "for i in range(0,16):\n",
    "    dfs_72[i] = dfs_72[i].reset_index(drop = True)"
   ]
  },
  {
   "cell_type": "markdown",
   "metadata": {},
   "source": [
    "Ahora que ya se tienen los 16 dataframes, es necesario \"pegarlos\" uno al lado de otro de manera que nuestras columnas sean los nombres de los contaminantes y nuestras filas las horas."
   ]
  },
  {
   "cell_type": "code",
   "execution_count": 42,
   "metadata": {},
   "outputs": [],
   "source": [
    "hora_72_c = pd.concat({k:v for (k,v) in dfs_72.items()}, axis = 1)"
   ]
  },
  {
   "cell_type": "markdown",
   "metadata": {},
   "source": [
    "Al hacer la concatenación anterior se crea un multiíndice que no sirve al propósito de este trabajo, así que se elimina."
   ]
  },
  {
   "cell_type": "code",
   "execution_count": 43,
   "metadata": {},
   "outputs": [],
   "source": [
    "# Eliminación del multiíndice\n",
    "hora_72_c.columns = hora_72_c.columns.droplevel()"
   ]
  },
  {
   "cell_type": "markdown",
   "metadata": {},
   "source": [
    "También todas las columnas que tienen los nombres de los contaminantes no se necesitan, por lo tanto se quitan todas ellas."
   ]
  },
  {
   "cell_type": "code",
   "execution_count": 44,
   "metadata": {},
   "outputs": [],
   "source": [
    "# Se quitan columnas innecesarias\n",
    "hora_72_c.drop(['contaminante'], axis=1, inplace = True)"
   ]
  },
  {
   "cell_type": "markdown",
   "metadata": {},
   "source": [
    "Se renombran las columnas para que tengan los nombres de los contaminantes"
   ]
  },
  {
   "cell_type": "code",
   "execution_count": 46,
   "metadata": {},
   "outputs": [],
   "source": [
    "hora_72_c.columns = ['UVA', 'UVB', 'PA', 'CO', 'NO', 'NO2', 'NOX', 'O3', 'PM25', 'PMCO', 'SO2', 'RH'\n",
    "             , 'TMP', 'WSP', 'WDR', 'PM10']"
   ]
  },
  {
   "cell_type": "markdown",
   "metadata": {},
   "source": [
    "Esta parte del dataframe queda así:"
   ]
  },
  {
   "cell_type": "code",
   "execution_count": 47,
   "metadata": {},
   "outputs": [
    {
     "data": {
      "text/html": [
       "<div>\n",
       "<style scoped>\n",
       "    .dataframe tbody tr th:only-of-type {\n",
       "        vertical-align: middle;\n",
       "    }\n",
       "\n",
       "    .dataframe tbody tr th {\n",
       "        vertical-align: top;\n",
       "    }\n",
       "\n",
       "    .dataframe thead th {\n",
       "        text-align: right;\n",
       "    }\n",
       "</style>\n",
       "<table border=\"1\" class=\"dataframe\">\n",
       "  <thead>\n",
       "    <tr style=\"text-align: right;\">\n",
       "      <th></th>\n",
       "      <th>UVA</th>\n",
       "      <th>UVB</th>\n",
       "      <th>PA</th>\n",
       "      <th>CO</th>\n",
       "      <th>NO</th>\n",
       "      <th>NO2</th>\n",
       "      <th>NOX</th>\n",
       "      <th>O3</th>\n",
       "      <th>PM25</th>\n",
       "      <th>PMCO</th>\n",
       "      <th>SO2</th>\n",
       "      <th>RH</th>\n",
       "      <th>TMP</th>\n",
       "      <th>WSP</th>\n",
       "      <th>WDR</th>\n",
       "      <th>PM10</th>\n",
       "    </tr>\n",
       "  </thead>\n",
       "  <tbody>\n",
       "    <tr>\n",
       "      <th>0</th>\n",
       "      <td>0.080427</td>\n",
       "      <td>0.045569</td>\n",
       "      <td>0.069874</td>\n",
       "      <td>0.570131</td>\n",
       "      <td>0.463029</td>\n",
       "      <td>0.545380</td>\n",
       "      <td>0.551671</td>\n",
       "      <td>0.139433</td>\n",
       "      <td>0.716767</td>\n",
       "      <td>0.807673</td>\n",
       "      <td>0.313123</td>\n",
       "      <td>-0.366051</td>\n",
       "      <td>0.032859</td>\n",
       "      <td>-0.125894</td>\n",
       "      <td>-0.196037</td>\n",
       "      <td>0.910002</td>\n",
       "    </tr>\n",
       "    <tr>\n",
       "      <th>1</th>\n",
       "      <td>0.059289</td>\n",
       "      <td>0.032672</td>\n",
       "      <td>0.064093</td>\n",
       "      <td>0.490580</td>\n",
       "      <td>0.429512</td>\n",
       "      <td>0.462602</td>\n",
       "      <td>0.497568</td>\n",
       "      <td>0.129914</td>\n",
       "      <td>0.653884</td>\n",
       "      <td>0.692203</td>\n",
       "      <td>0.296921</td>\n",
       "      <td>-0.336802</td>\n",
       "      <td>-0.007738</td>\n",
       "      <td>-0.190272</td>\n",
       "      <td>-0.168074</td>\n",
       "      <td>0.794762</td>\n",
       "    </tr>\n",
       "    <tr>\n",
       "      <th>2</th>\n",
       "      <td>0.054171</td>\n",
       "      <td>0.040764</td>\n",
       "      <td>0.062272</td>\n",
       "      <td>0.389135</td>\n",
       "      <td>0.351797</td>\n",
       "      <td>0.391413</td>\n",
       "      <td>0.411625</td>\n",
       "      <td>0.123672</td>\n",
       "      <td>0.593820</td>\n",
       "      <td>0.579211</td>\n",
       "      <td>0.283695</td>\n",
       "      <td>-0.309821</td>\n",
       "      <td>-0.041577</td>\n",
       "      <td>-0.237088</td>\n",
       "      <td>-0.147531</td>\n",
       "      <td>0.679225</td>\n",
       "    </tr>\n",
       "    <tr>\n",
       "      <th>3</th>\n",
       "      <td>0.055630</td>\n",
       "      <td>0.056321</td>\n",
       "      <td>0.064430</td>\n",
       "      <td>0.296638</td>\n",
       "      <td>0.263245</td>\n",
       "      <td>0.349949</td>\n",
       "      <td>0.326660</td>\n",
       "      <td>0.110398</td>\n",
       "      <td>0.544313</td>\n",
       "      <td>0.485107</td>\n",
       "      <td>0.278228</td>\n",
       "      <td>-0.285927</td>\n",
       "      <td>-0.069615</td>\n",
       "      <td>-0.272724</td>\n",
       "      <td>-0.130351</td>\n",
       "      <td>0.581328</td>\n",
       "    </tr>\n",
       "    <tr>\n",
       "      <th>4</th>\n",
       "      <td>0.052166</td>\n",
       "      <td>0.063484</td>\n",
       "      <td>0.071135</td>\n",
       "      <td>0.238013</td>\n",
       "      <td>0.195251</td>\n",
       "      <td>0.342600</td>\n",
       "      <td>0.269419</td>\n",
       "      <td>0.083539</td>\n",
       "      <td>0.507030</td>\n",
       "      <td>0.418883</td>\n",
       "      <td>0.281921</td>\n",
       "      <td>-0.263285</td>\n",
       "      <td>-0.095153</td>\n",
       "      <td>-0.300617</td>\n",
       "      <td>-0.110642</td>\n",
       "      <td>0.512566</td>\n",
       "    </tr>\n",
       "  </tbody>\n",
       "</table>\n",
       "</div>"
      ],
      "text/plain": [
       "        UVA       UVB        PA        CO        NO       NO2       NOX  \\\n",
       "0  0.080427  0.045569  0.069874  0.570131  0.463029  0.545380  0.551671   \n",
       "1  0.059289  0.032672  0.064093  0.490580  0.429512  0.462602  0.497568   \n",
       "2  0.054171  0.040764  0.062272  0.389135  0.351797  0.391413  0.411625   \n",
       "3  0.055630  0.056321  0.064430  0.296638  0.263245  0.349949  0.326660   \n",
       "4  0.052166  0.063484  0.071135  0.238013  0.195251  0.342600  0.269419   \n",
       "\n",
       "         O3      PM25      PMCO       SO2        RH       TMP       WSP  \\\n",
       "0  0.139433  0.716767  0.807673  0.313123 -0.366051  0.032859 -0.125894   \n",
       "1  0.129914  0.653884  0.692203  0.296921 -0.336802 -0.007738 -0.190272   \n",
       "2  0.123672  0.593820  0.579211  0.283695 -0.309821 -0.041577 -0.237088   \n",
       "3  0.110398  0.544313  0.485107  0.278228 -0.285927 -0.069615 -0.272724   \n",
       "4  0.083539  0.507030  0.418883  0.281921 -0.263285 -0.095153 -0.300617   \n",
       "\n",
       "        WDR      PM10  \n",
       "0 -0.196037  0.910002  \n",
       "1 -0.168074  0.794762  \n",
       "2 -0.147531  0.679225  \n",
       "3 -0.130351  0.581328  \n",
       "4 -0.110642  0.512566  "
      ]
     },
     "execution_count": 47,
     "metadata": {},
     "output_type": "execute_result"
    }
   ],
   "source": [
    "hora_72_c.head()"
   ]
  },
  {
   "cell_type": "markdown",
   "metadata": {},
   "source": [
    "Concatenamos `hora_0` con `hora_72_c` para tener todo el dataframe completo."
   ]
  },
  {
   "cell_type": "code",
   "execution_count": 48,
   "metadata": {},
   "outputs": [],
   "source": [
    "PM10_72_df = pd.concat([hora_0, hora_72_c], axis=0, join='outer', ignore_index=True)"
   ]
  },
  {
   "cell_type": "markdown",
   "metadata": {},
   "source": [
    "Ahora sólo falta crear la columna de horas, basada en el índice para que se pueda graficar."
   ]
  },
  {
   "cell_type": "code",
   "execution_count": 49,
   "metadata": {},
   "outputs": [],
   "source": [
    "# Se agrega la columna de horas\n",
    "horas = PM10_72_df.index\n",
    "PM10_72_df.insert(loc=0, column='horas', value=horas)"
   ]
  },
  {
   "cell_type": "markdown",
   "metadata": {},
   "source": [
    "Finalmente el dataframe que se usará para graficar será el siguiente."
   ]
  },
  {
   "cell_type": "code",
   "execution_count": 50,
   "metadata": {},
   "outputs": [
    {
     "data": {
      "text/html": [
       "<div>\n",
       "<style scoped>\n",
       "    .dataframe tbody tr th:only-of-type {\n",
       "        vertical-align: middle;\n",
       "    }\n",
       "\n",
       "    .dataframe tbody tr th {\n",
       "        vertical-align: top;\n",
       "    }\n",
       "\n",
       "    .dataframe thead th {\n",
       "        text-align: right;\n",
       "    }\n",
       "</style>\n",
       "<table border=\"1\" class=\"dataframe\">\n",
       "  <thead>\n",
       "    <tr style=\"text-align: right;\">\n",
       "      <th></th>\n",
       "      <th>horas</th>\n",
       "      <th>UVA</th>\n",
       "      <th>UVB</th>\n",
       "      <th>PA</th>\n",
       "      <th>CO</th>\n",
       "      <th>NO</th>\n",
       "      <th>NO2</th>\n",
       "      <th>NOX</th>\n",
       "      <th>O3</th>\n",
       "      <th>PM25</th>\n",
       "      <th>PMCO</th>\n",
       "      <th>SO2</th>\n",
       "      <th>RH</th>\n",
       "      <th>TMP</th>\n",
       "      <th>WSP</th>\n",
       "      <th>WDR</th>\n",
       "      <th>PM10</th>\n",
       "    </tr>\n",
       "  </thead>\n",
       "  <tbody>\n",
       "    <tr>\n",
       "      <th>0</th>\n",
       "      <td>0</td>\n",
       "      <td>0.123385</td>\n",
       "      <td>0.086852</td>\n",
       "      <td>0.076456</td>\n",
       "      <td>0.593270</td>\n",
       "      <td>0.423978</td>\n",
       "      <td>0.615966</td>\n",
       "      <td>0.543280</td>\n",
       "      <td>0.163479</td>\n",
       "      <td>0.779534</td>\n",
       "      <td>0.890058</td>\n",
       "      <td>0.328255</td>\n",
       "      <td>-0.400048</td>\n",
       "      <td>0.083042</td>\n",
       "      <td>-0.056969</td>\n",
       "      <td>-0.224955</td>\n",
       "      <td>1.000000</td>\n",
       "    </tr>\n",
       "    <tr>\n",
       "      <th>1</th>\n",
       "      <td>1</td>\n",
       "      <td>0.080427</td>\n",
       "      <td>0.045569</td>\n",
       "      <td>0.069874</td>\n",
       "      <td>0.570131</td>\n",
       "      <td>0.463029</td>\n",
       "      <td>0.545380</td>\n",
       "      <td>0.551671</td>\n",
       "      <td>0.139433</td>\n",
       "      <td>0.716767</td>\n",
       "      <td>0.807673</td>\n",
       "      <td>0.313123</td>\n",
       "      <td>-0.366051</td>\n",
       "      <td>0.032859</td>\n",
       "      <td>-0.125894</td>\n",
       "      <td>-0.196037</td>\n",
       "      <td>0.910002</td>\n",
       "    </tr>\n",
       "    <tr>\n",
       "      <th>2</th>\n",
       "      <td>2</td>\n",
       "      <td>0.059289</td>\n",
       "      <td>0.032672</td>\n",
       "      <td>0.064093</td>\n",
       "      <td>0.490580</td>\n",
       "      <td>0.429512</td>\n",
       "      <td>0.462602</td>\n",
       "      <td>0.497568</td>\n",
       "      <td>0.129914</td>\n",
       "      <td>0.653884</td>\n",
       "      <td>0.692203</td>\n",
       "      <td>0.296921</td>\n",
       "      <td>-0.336802</td>\n",
       "      <td>-0.007738</td>\n",
       "      <td>-0.190272</td>\n",
       "      <td>-0.168074</td>\n",
       "      <td>0.794762</td>\n",
       "    </tr>\n",
       "    <tr>\n",
       "      <th>3</th>\n",
       "      <td>3</td>\n",
       "      <td>0.054171</td>\n",
       "      <td>0.040764</td>\n",
       "      <td>0.062272</td>\n",
       "      <td>0.389135</td>\n",
       "      <td>0.351797</td>\n",
       "      <td>0.391413</td>\n",
       "      <td>0.411625</td>\n",
       "      <td>0.123672</td>\n",
       "      <td>0.593820</td>\n",
       "      <td>0.579211</td>\n",
       "      <td>0.283695</td>\n",
       "      <td>-0.309821</td>\n",
       "      <td>-0.041577</td>\n",
       "      <td>-0.237088</td>\n",
       "      <td>-0.147531</td>\n",
       "      <td>0.679225</td>\n",
       "    </tr>\n",
       "    <tr>\n",
       "      <th>4</th>\n",
       "      <td>4</td>\n",
       "      <td>0.055630</td>\n",
       "      <td>0.056321</td>\n",
       "      <td>0.064430</td>\n",
       "      <td>0.296638</td>\n",
       "      <td>0.263245</td>\n",
       "      <td>0.349949</td>\n",
       "      <td>0.326660</td>\n",
       "      <td>0.110398</td>\n",
       "      <td>0.544313</td>\n",
       "      <td>0.485107</td>\n",
       "      <td>0.278228</td>\n",
       "      <td>-0.285927</td>\n",
       "      <td>-0.069615</td>\n",
       "      <td>-0.272724</td>\n",
       "      <td>-0.130351</td>\n",
       "      <td>0.581328</td>\n",
       "    </tr>\n",
       "  </tbody>\n",
       "</table>\n",
       "</div>"
      ],
      "text/plain": [
       "   horas       UVA       UVB        PA        CO        NO       NO2  \\\n",
       "0      0  0.123385  0.086852  0.076456  0.593270  0.423978  0.615966   \n",
       "1      1  0.080427  0.045569  0.069874  0.570131  0.463029  0.545380   \n",
       "2      2  0.059289  0.032672  0.064093  0.490580  0.429512  0.462602   \n",
       "3      3  0.054171  0.040764  0.062272  0.389135  0.351797  0.391413   \n",
       "4      4  0.055630  0.056321  0.064430  0.296638  0.263245  0.349949   \n",
       "\n",
       "        NOX        O3      PM25      PMCO       SO2        RH       TMP  \\\n",
       "0  0.543280  0.163479  0.779534  0.890058  0.328255 -0.400048  0.083042   \n",
       "1  0.551671  0.139433  0.716767  0.807673  0.313123 -0.366051  0.032859   \n",
       "2  0.497568  0.129914  0.653884  0.692203  0.296921 -0.336802 -0.007738   \n",
       "3  0.411625  0.123672  0.593820  0.579211  0.283695 -0.309821 -0.041577   \n",
       "4  0.326660  0.110398  0.544313  0.485107  0.278228 -0.285927 -0.069615   \n",
       "\n",
       "        WSP       WDR      PM10  \n",
       "0 -0.056969 -0.224955  1.000000  \n",
       "1 -0.125894 -0.196037  0.910002  \n",
       "2 -0.190272 -0.168074  0.794762  \n",
       "3 -0.237088 -0.147531  0.679225  \n",
       "4 -0.272724 -0.130351  0.581328  "
      ]
     },
     "execution_count": 50,
     "metadata": {},
     "output_type": "execute_result"
    }
   ],
   "source": [
    "PM10_72_df.head()"
   ]
  },
  {
   "cell_type": "markdown",
   "metadata": {},
   "source": [
    "Para que los datos anteriores se usen en el modelo de predicción se guardarán en un nuevo archivo csv."
   ]
  },
  {
   "cell_type": "code",
   "execution_count": 52,
   "metadata": {},
   "outputs": [],
   "source": [
    "PM10_72_df.to_csv(r'/home/pradel/Desktop/Forecast_CDMX_pollution/correlacion/sub_dataset/corr_pm10_72.csv')"
   ]
  },
  {
   "cell_type": "markdown",
   "metadata": {},
   "source": [
    "### 2.3.2 Correlación entre O3 y los demás contaminantes"
   ]
  },
  {
   "cell_type": "markdown",
   "metadata": {},
   "source": [
    "El O3 es otro de los contaminantes cuyos valores determinan las contingencias ambientales. Se repetirá el proceso anterior del PM10 para obtener su correlación desfasada a 73 horas con los demás contaminantes.\n",
    "\n",
    "Al final también se obtiene un archivo csv y una gráfica para el O3."
   ]
  },
  {
   "cell_type": "code",
   "execution_count": 53,
   "metadata": {},
   "outputs": [],
   "source": [
    "# Se aísla sólo la columna que corresponde al O3\n",
    "O3_72 = data_72_corr[[\"O3\"]]"
   ]
  },
  {
   "cell_type": "code",
   "execution_count": 54,
   "metadata": {},
   "outputs": [],
   "source": [
    "# Se reinicia el índice del dataframe\n",
    "O3_72.reset_index(inplace=True)"
   ]
  },
  {
   "cell_type": "code",
   "execution_count": 55,
   "metadata": {},
   "outputs": [],
   "source": [
    "# Se renombran las columnas para mayor comprensión\n",
    "O3_72.columns = ['contaminante', 'valor']"
   ]
  },
  {
   "cell_type": "markdown",
   "metadata": {},
   "source": [
    "El dataframe tendrá la siguiente estructura"
   ]
  },
  {
   "cell_type": "code",
   "execution_count": 65,
   "metadata": {},
   "outputs": [
    {
     "data": {
      "text/html": [
       "<div>\n",
       "<style scoped>\n",
       "    .dataframe tbody tr th:only-of-type {\n",
       "        vertical-align: middle;\n",
       "    }\n",
       "\n",
       "    .dataframe tbody tr th {\n",
       "        vertical-align: top;\n",
       "    }\n",
       "\n",
       "    .dataframe thead th {\n",
       "        text-align: right;\n",
       "    }\n",
       "</style>\n",
       "<table border=\"1\" class=\"dataframe\">\n",
       "  <thead>\n",
       "    <tr style=\"text-align: right;\">\n",
       "      <th></th>\n",
       "      <th>contaminante</th>\n",
       "      <th>valor</th>\n",
       "    </tr>\n",
       "  </thead>\n",
       "  <tbody>\n",
       "    <tr>\n",
       "      <th>0</th>\n",
       "      <td>UVA</td>\n",
       "      <td>0.637840</td>\n",
       "    </tr>\n",
       "    <tr>\n",
       "      <th>1</th>\n",
       "      <td>UVB</td>\n",
       "      <td>0.630521</td>\n",
       "    </tr>\n",
       "    <tr>\n",
       "      <th>2</th>\n",
       "      <td>PA</td>\n",
       "      <td>-0.113144</td>\n",
       "    </tr>\n",
       "    <tr>\n",
       "      <th>3</th>\n",
       "      <td>CO</td>\n",
       "      <td>-0.306954</td>\n",
       "    </tr>\n",
       "    <tr>\n",
       "      <th>4</th>\n",
       "      <td>NO</td>\n",
       "      <td>-0.434313</td>\n",
       "    </tr>\n",
       "  </tbody>\n",
       "</table>\n",
       "</div>"
      ],
      "text/plain": [
       "  contaminante     valor\n",
       "0          UVA  0.637840\n",
       "1          UVB  0.630521\n",
       "2           PA -0.113144\n",
       "3           CO -0.306954\n",
       "4           NO -0.434313"
      ]
     },
     "execution_count": 65,
     "metadata": {},
     "output_type": "execute_result"
    }
   ],
   "source": [
    "O3_72.head()"
   ]
  },
  {
   "cell_type": "markdown",
   "metadata": {},
   "source": [
    "Al igual que con el dataframe de las partículas PM10, el del O3 también se separa primero en dos dataframes (la hora cero, y las siguientes 72 horas) y luego se crea un dataframe reestructurado que tiene la columna de `horas`, `UVA`, etc., de manera que cada celda sea el valor de la correlación entre el 03 y los demás contaminantes a la hora determinada."
   ]
  },
  {
   "cell_type": "code",
   "execution_count": 58,
   "metadata": {},
   "outputs": [],
   "source": [
    "hora_0_o3 = O3_72.loc[0:15]"
   ]
  },
  {
   "cell_type": "code",
   "execution_count": 60,
   "metadata": {},
   "outputs": [],
   "source": [
    "# La columna contaminante no sirve para estructurar el nuevo dataframe, por tanto se elimina\n",
    "hora_0_o3.drop(['contaminante'], axis=1, inplace = True)"
   ]
  },
  {
   "cell_type": "code",
   "execution_count": 61,
   "metadata": {},
   "outputs": [],
   "source": [
    "# Se transpone la columna pues será la fila 0 (hora cero) del nuevo dataframe\n",
    "hora_0_o3 = hora_0_o3.transpose()"
   ]
  },
  {
   "cell_type": "code",
   "execution_count": 66,
   "metadata": {},
   "outputs": [],
   "source": [
    "# Se renombran las columnas para que cada valor coincida con los contaminantes que se tienen\n",
    "hora_0_o3.columns = ['UVA', 'UVB', 'PA', 'CO', 'NO', 'NO2', 'NOX', 'O3', 'PM25', 'PMCO', 'SO2', 'RH', 'TMP'\n",
    "                  , 'WSP', 'WDR', 'PM10']"
   ]
  },
  {
   "cell_type": "code",
   "execution_count": 68,
   "metadata": {},
   "outputs": [
    {
     "data": {
      "text/html": [
       "<div>\n",
       "<style scoped>\n",
       "    .dataframe tbody tr th:only-of-type {\n",
       "        vertical-align: middle;\n",
       "    }\n",
       "\n",
       "    .dataframe tbody tr th {\n",
       "        vertical-align: top;\n",
       "    }\n",
       "\n",
       "    .dataframe thead th {\n",
       "        text-align: right;\n",
       "    }\n",
       "</style>\n",
       "<table border=\"1\" class=\"dataframe\">\n",
       "  <thead>\n",
       "    <tr style=\"text-align: right;\">\n",
       "      <th></th>\n",
       "      <th>UVA</th>\n",
       "      <th>UVB</th>\n",
       "      <th>PA</th>\n",
       "      <th>CO</th>\n",
       "      <th>NO</th>\n",
       "      <th>NO2</th>\n",
       "      <th>NOX</th>\n",
       "      <th>O3</th>\n",
       "      <th>PM25</th>\n",
       "      <th>PMCO</th>\n",
       "      <th>SO2</th>\n",
       "      <th>RH</th>\n",
       "      <th>TMP</th>\n",
       "      <th>WSP</th>\n",
       "      <th>WDR</th>\n",
       "      <th>PM10</th>\n",
       "    </tr>\n",
       "  </thead>\n",
       "  <tbody>\n",
       "    <tr>\n",
       "      <th>0</th>\n",
       "      <td>0.63784</td>\n",
       "      <td>0.630521</td>\n",
       "      <td>-0.113144</td>\n",
       "      <td>-0.306954</td>\n",
       "      <td>-0.434313</td>\n",
       "      <td>-0.248507</td>\n",
       "      <td>-0.43146</td>\n",
       "      <td>1.0</td>\n",
       "      <td>0.236128</td>\n",
       "      <td>0.157639</td>\n",
       "      <td>-0.100684</td>\n",
       "      <td>-0.71309</td>\n",
       "      <td>0.828244</td>\n",
       "      <td>0.436042</td>\n",
       "      <td>-0.240342</td>\n",
       "      <td>0.163479</td>\n",
       "    </tr>\n",
       "  </tbody>\n",
       "</table>\n",
       "</div>"
      ],
      "text/plain": [
       "       UVA       UVB        PA        CO        NO       NO2      NOX   O3  \\\n",
       "0  0.63784  0.630521 -0.113144 -0.306954 -0.434313 -0.248507 -0.43146  1.0   \n",
       "\n",
       "       PM25      PMCO       SO2       RH       TMP       WSP       WDR  \\\n",
       "0  0.236128  0.157639 -0.100684 -0.71309  0.828244  0.436042 -0.240342   \n",
       "\n",
       "       PM10  \n",
       "0  0.163479  "
      ]
     },
     "execution_count": 68,
     "metadata": {},
     "output_type": "execute_result"
    }
   ],
   "source": [
    "# Se reinicia el índice y visualizamos el nuevo dataframe\n",
    "hora_0_o3 = hora_0_o3.reset_index(drop=True)\n",
    "hora_0_o3.head()"
   ]
  },
  {
   "cell_type": "markdown",
   "metadata": {},
   "source": [
    "Ahora bien, se trabajará con las siguientes filas del dataframe original, que contiene de la hora 1, a las 72, es deir a partir de la fila 16 del índice."
   ]
  },
  {
   "cell_type": "code",
   "execution_count": 69,
   "metadata": {},
   "outputs": [],
   "source": [
    "# Se parte el dataframe original en un nuevo dataframe\n",
    "hora_72_o3 = O3_72.loc[16:]"
   ]
  },
  {
   "cell_type": "code",
   "execution_count": 70,
   "metadata": {},
   "outputs": [
    {
     "data": {
      "text/plain": [
       "(1152, 2)"
      ]
     },
     "execution_count": 70,
     "metadata": {},
     "output_type": "execute_result"
    }
   ],
   "source": [
    "hora_72_o3.shape"
   ]
  },
  {
   "cell_type": "code",
   "execution_count": 71,
   "metadata": {},
   "outputs": [],
   "source": [
    "# División del dataframe en los 16 necesarios\n",
    "dfs_72_o3 = \\\n",
    "{name: group for name, group in hora_72_o3.groupby(np.arange(1152) // 72)}"
   ]
  },
  {
   "cell_type": "code",
   "execution_count": 72,
   "metadata": {},
   "outputs": [],
   "source": [
    "# Se reinician los índices de los 16 dataframes\n",
    "for i in range(0,16):\n",
    "    dfs_72_o3[i] = dfs_72_o3[i].reset_index(drop = True)"
   ]
  },
  {
   "cell_type": "code",
   "execution_count": 73,
   "metadata": {},
   "outputs": [],
   "source": [
    "# Se concatenan los dataframes\n",
    "hora_72_o3_c = pd.concat({k:v for (k,v) in dfs_72_o3.items()}, axis = 1)"
   ]
  },
  {
   "cell_type": "code",
   "execution_count": 74,
   "metadata": {},
   "outputs": [],
   "source": [
    "# Eliminación del multiíndice\n",
    "hora_72_o3_c.columns = hora_72_o3_c.columns.droplevel()"
   ]
  },
  {
   "cell_type": "code",
   "execution_count": 75,
   "metadata": {},
   "outputs": [],
   "source": [
    "# Se quitan columnas innecesarias\n",
    "hora_72_o3_c.drop(['contaminante'], axis=1, inplace = True)"
   ]
  },
  {
   "cell_type": "code",
   "execution_count": 76,
   "metadata": {},
   "outputs": [],
   "source": [
    "hora_72_o3_c.columns = ['UVA', 'UVB', 'PA', 'CO', 'NO', 'NO2', 'NOX', 'O3', 'PM25', 'PMCO', 'SO2', 'RH'\n",
    "             , 'TMP', 'WSP', 'WDR', 'PM10']"
   ]
  },
  {
   "cell_type": "code",
   "execution_count": 77,
   "metadata": {},
   "outputs": [
    {
     "data": {
      "text/html": [
       "<div>\n",
       "<style scoped>\n",
       "    .dataframe tbody tr th:only-of-type {\n",
       "        vertical-align: middle;\n",
       "    }\n",
       "\n",
       "    .dataframe tbody tr th {\n",
       "        vertical-align: top;\n",
       "    }\n",
       "\n",
       "    .dataframe thead th {\n",
       "        text-align: right;\n",
       "    }\n",
       "</style>\n",
       "<table border=\"1\" class=\"dataframe\">\n",
       "  <thead>\n",
       "    <tr style=\"text-align: right;\">\n",
       "      <th></th>\n",
       "      <th>UVA</th>\n",
       "      <th>UVB</th>\n",
       "      <th>PA</th>\n",
       "      <th>CO</th>\n",
       "      <th>NO</th>\n",
       "      <th>NO2</th>\n",
       "      <th>NOX</th>\n",
       "      <th>O3</th>\n",
       "      <th>PM25</th>\n",
       "      <th>PMCO</th>\n",
       "      <th>SO2</th>\n",
       "      <th>RH</th>\n",
       "      <th>TMP</th>\n",
       "      <th>WSP</th>\n",
       "      <th>WDR</th>\n",
       "      <th>PM10</th>\n",
       "    </tr>\n",
       "  </thead>\n",
       "  <tbody>\n",
       "    <tr>\n",
       "      <th>0</th>\n",
       "      <td>0.765118</td>\n",
       "      <td>0.754990</td>\n",
       "      <td>-0.080702</td>\n",
       "      <td>-0.185457</td>\n",
       "      <td>-0.324120</td>\n",
       "      <td>-0.147038</td>\n",
       "      <td>-0.309422</td>\n",
       "      <td>0.940698</td>\n",
       "      <td>0.339028</td>\n",
       "      <td>0.186335</td>\n",
       "      <td>-0.055020</td>\n",
       "      <td>-0.671755</td>\n",
       "      <td>0.773337</td>\n",
       "      <td>0.310311</td>\n",
       "      <td>-0.302206</td>\n",
       "      <td>0.216998</td>\n",
       "    </tr>\n",
       "    <tr>\n",
       "      <th>1</th>\n",
       "      <td>0.802419</td>\n",
       "      <td>0.785276</td>\n",
       "      <td>-0.047122</td>\n",
       "      <td>-0.026367</td>\n",
       "      <td>-0.160734</td>\n",
       "      <td>-0.025243</td>\n",
       "      <td>-0.137854</td>\n",
       "      <td>0.797727</td>\n",
       "      <td>0.416837</td>\n",
       "      <td>0.230587</td>\n",
       "      <td>-0.005294</td>\n",
       "      <td>-0.579908</td>\n",
       "      <td>0.655618</td>\n",
       "      <td>0.179131</td>\n",
       "      <td>-0.341931</td>\n",
       "      <td>0.282632</td>\n",
       "    </tr>\n",
       "    <tr>\n",
       "      <th>2</th>\n",
       "      <td>0.751001</td>\n",
       "      <td>0.723153</td>\n",
       "      <td>-0.017447</td>\n",
       "      <td>0.147529</td>\n",
       "      <td>0.037981</td>\n",
       "      <td>0.093016</td>\n",
       "      <td>0.061036</td>\n",
       "      <td>0.600658</td>\n",
       "      <td>0.463512</td>\n",
       "      <td>0.275272</td>\n",
       "      <td>0.043611</td>\n",
       "      <td>-0.449511</td>\n",
       "      <td>0.490207</td>\n",
       "      <td>0.043993</td>\n",
       "      <td>-0.354826</td>\n",
       "      <td>0.344972</td>\n",
       "    </tr>\n",
       "    <tr>\n",
       "      <th>3</th>\n",
       "      <td>0.626829</td>\n",
       "      <td>0.587267</td>\n",
       "      <td>0.004856</td>\n",
       "      <td>0.304057</td>\n",
       "      <td>0.238007</td>\n",
       "      <td>0.187485</td>\n",
       "      <td>0.253198</td>\n",
       "      <td>0.380821</td>\n",
       "      <td>0.475369</td>\n",
       "      <td>0.304647</td>\n",
       "      <td>0.084618</td>\n",
       "      <td>-0.296354</td>\n",
       "      <td>0.296871</td>\n",
       "      <td>-0.088001</td>\n",
       "      <td>-0.341393</td>\n",
       "      <td>0.387392</td>\n",
       "    </tr>\n",
       "    <tr>\n",
       "      <th>4</th>\n",
       "      <td>0.455845</td>\n",
       "      <td>0.407692</td>\n",
       "      <td>0.017581</td>\n",
       "      <td>0.413766</td>\n",
       "      <td>0.404089</td>\n",
       "      <td>0.244005</td>\n",
       "      <td>0.405581</td>\n",
       "      <td>0.166247</td>\n",
       "      <td>0.452752</td>\n",
       "      <td>0.306708</td>\n",
       "      <td>0.112308</td>\n",
       "      <td>-0.137781</td>\n",
       "      <td>0.097090</td>\n",
       "      <td>-0.209065</td>\n",
       "      <td>-0.306782</td>\n",
       "      <td>0.397620</td>\n",
       "    </tr>\n",
       "  </tbody>\n",
       "</table>\n",
       "</div>"
      ],
      "text/plain": [
       "        UVA       UVB        PA        CO        NO       NO2       NOX  \\\n",
       "0  0.765118  0.754990 -0.080702 -0.185457 -0.324120 -0.147038 -0.309422   \n",
       "1  0.802419  0.785276 -0.047122 -0.026367 -0.160734 -0.025243 -0.137854   \n",
       "2  0.751001  0.723153 -0.017447  0.147529  0.037981  0.093016  0.061036   \n",
       "3  0.626829  0.587267  0.004856  0.304057  0.238007  0.187485  0.253198   \n",
       "4  0.455845  0.407692  0.017581  0.413766  0.404089  0.244005  0.405581   \n",
       "\n",
       "         O3      PM25      PMCO       SO2        RH       TMP       WSP  \\\n",
       "0  0.940698  0.339028  0.186335 -0.055020 -0.671755  0.773337  0.310311   \n",
       "1  0.797727  0.416837  0.230587 -0.005294 -0.579908  0.655618  0.179131   \n",
       "2  0.600658  0.463512  0.275272  0.043611 -0.449511  0.490207  0.043993   \n",
       "3  0.380821  0.475369  0.304647  0.084618 -0.296354  0.296871 -0.088001   \n",
       "4  0.166247  0.452752  0.306708  0.112308 -0.137781  0.097090 -0.209065   \n",
       "\n",
       "        WDR      PM10  \n",
       "0 -0.302206  0.216998  \n",
       "1 -0.341931  0.282632  \n",
       "2 -0.354826  0.344972  \n",
       "3 -0.341393  0.387392  \n",
       "4 -0.306782  0.397620  "
      ]
     },
     "execution_count": 77,
     "metadata": {},
     "output_type": "execute_result"
    }
   ],
   "source": [
    "hora_72_o3_c.head()"
   ]
  },
  {
   "cell_type": "markdown",
   "metadata": {},
   "source": [
    "Concatenamos `hora_0_o3` con `hora_72_o3_c` para tener todo el dataframe completo."
   ]
  },
  {
   "cell_type": "code",
   "execution_count": 78,
   "metadata": {},
   "outputs": [],
   "source": [
    "O3_72_df = pd.concat([hora_0_o3, hora_72_o3_c], axis=0, join='outer', ignore_index=True)"
   ]
  },
  {
   "cell_type": "code",
   "execution_count": 79,
   "metadata": {},
   "outputs": [],
   "source": [
    "# Se agrega la columna de horas\n",
    "horas = O3_72_df.index\n",
    "O3_72_df.insert(loc=0, column='horas', value=horas)"
   ]
  },
  {
   "cell_type": "markdown",
   "metadata": {},
   "source": [
    "Finalmente el dataframe queda así:"
   ]
  },
  {
   "cell_type": "code",
   "execution_count": 80,
   "metadata": {},
   "outputs": [
    {
     "data": {
      "text/html": [
       "<div>\n",
       "<style scoped>\n",
       "    .dataframe tbody tr th:only-of-type {\n",
       "        vertical-align: middle;\n",
       "    }\n",
       "\n",
       "    .dataframe tbody tr th {\n",
       "        vertical-align: top;\n",
       "    }\n",
       "\n",
       "    .dataframe thead th {\n",
       "        text-align: right;\n",
       "    }\n",
       "</style>\n",
       "<table border=\"1\" class=\"dataframe\">\n",
       "  <thead>\n",
       "    <tr style=\"text-align: right;\">\n",
       "      <th></th>\n",
       "      <th>horas</th>\n",
       "      <th>UVA</th>\n",
       "      <th>UVB</th>\n",
       "      <th>PA</th>\n",
       "      <th>CO</th>\n",
       "      <th>NO</th>\n",
       "      <th>NO2</th>\n",
       "      <th>NOX</th>\n",
       "      <th>O3</th>\n",
       "      <th>PM25</th>\n",
       "      <th>PMCO</th>\n",
       "      <th>SO2</th>\n",
       "      <th>RH</th>\n",
       "      <th>TMP</th>\n",
       "      <th>WSP</th>\n",
       "      <th>WDR</th>\n",
       "      <th>PM10</th>\n",
       "    </tr>\n",
       "  </thead>\n",
       "  <tbody>\n",
       "    <tr>\n",
       "      <th>0</th>\n",
       "      <td>0</td>\n",
       "      <td>0.637840</td>\n",
       "      <td>0.630521</td>\n",
       "      <td>-0.113144</td>\n",
       "      <td>-0.306954</td>\n",
       "      <td>-0.434313</td>\n",
       "      <td>-0.248507</td>\n",
       "      <td>-0.431460</td>\n",
       "      <td>1.000000</td>\n",
       "      <td>0.236128</td>\n",
       "      <td>0.157639</td>\n",
       "      <td>-0.100684</td>\n",
       "      <td>-0.713090</td>\n",
       "      <td>0.828244</td>\n",
       "      <td>0.436042</td>\n",
       "      <td>-0.240342</td>\n",
       "      <td>0.163479</td>\n",
       "    </tr>\n",
       "    <tr>\n",
       "      <th>1</th>\n",
       "      <td>1</td>\n",
       "      <td>0.765118</td>\n",
       "      <td>0.754990</td>\n",
       "      <td>-0.080702</td>\n",
       "      <td>-0.185457</td>\n",
       "      <td>-0.324120</td>\n",
       "      <td>-0.147038</td>\n",
       "      <td>-0.309422</td>\n",
       "      <td>0.940698</td>\n",
       "      <td>0.339028</td>\n",
       "      <td>0.186335</td>\n",
       "      <td>-0.055020</td>\n",
       "      <td>-0.671755</td>\n",
       "      <td>0.773337</td>\n",
       "      <td>0.310311</td>\n",
       "      <td>-0.302206</td>\n",
       "      <td>0.216998</td>\n",
       "    </tr>\n",
       "    <tr>\n",
       "      <th>2</th>\n",
       "      <td>2</td>\n",
       "      <td>0.802419</td>\n",
       "      <td>0.785276</td>\n",
       "      <td>-0.047122</td>\n",
       "      <td>-0.026367</td>\n",
       "      <td>-0.160734</td>\n",
       "      <td>-0.025243</td>\n",
       "      <td>-0.137854</td>\n",
       "      <td>0.797727</td>\n",
       "      <td>0.416837</td>\n",
       "      <td>0.230587</td>\n",
       "      <td>-0.005294</td>\n",
       "      <td>-0.579908</td>\n",
       "      <td>0.655618</td>\n",
       "      <td>0.179131</td>\n",
       "      <td>-0.341931</td>\n",
       "      <td>0.282632</td>\n",
       "    </tr>\n",
       "    <tr>\n",
       "      <th>3</th>\n",
       "      <td>3</td>\n",
       "      <td>0.751001</td>\n",
       "      <td>0.723153</td>\n",
       "      <td>-0.017447</td>\n",
       "      <td>0.147529</td>\n",
       "      <td>0.037981</td>\n",
       "      <td>0.093016</td>\n",
       "      <td>0.061036</td>\n",
       "      <td>0.600658</td>\n",
       "      <td>0.463512</td>\n",
       "      <td>0.275272</td>\n",
       "      <td>0.043611</td>\n",
       "      <td>-0.449511</td>\n",
       "      <td>0.490207</td>\n",
       "      <td>0.043993</td>\n",
       "      <td>-0.354826</td>\n",
       "      <td>0.344972</td>\n",
       "    </tr>\n",
       "    <tr>\n",
       "      <th>4</th>\n",
       "      <td>4</td>\n",
       "      <td>0.626829</td>\n",
       "      <td>0.587267</td>\n",
       "      <td>0.004856</td>\n",
       "      <td>0.304057</td>\n",
       "      <td>0.238007</td>\n",
       "      <td>0.187485</td>\n",
       "      <td>0.253198</td>\n",
       "      <td>0.380821</td>\n",
       "      <td>0.475369</td>\n",
       "      <td>0.304647</td>\n",
       "      <td>0.084618</td>\n",
       "      <td>-0.296354</td>\n",
       "      <td>0.296871</td>\n",
       "      <td>-0.088001</td>\n",
       "      <td>-0.341393</td>\n",
       "      <td>0.387392</td>\n",
       "    </tr>\n",
       "  </tbody>\n",
       "</table>\n",
       "</div>"
      ],
      "text/plain": [
       "   horas       UVA       UVB        PA        CO        NO       NO2  \\\n",
       "0      0  0.637840  0.630521 -0.113144 -0.306954 -0.434313 -0.248507   \n",
       "1      1  0.765118  0.754990 -0.080702 -0.185457 -0.324120 -0.147038   \n",
       "2      2  0.802419  0.785276 -0.047122 -0.026367 -0.160734 -0.025243   \n",
       "3      3  0.751001  0.723153 -0.017447  0.147529  0.037981  0.093016   \n",
       "4      4  0.626829  0.587267  0.004856  0.304057  0.238007  0.187485   \n",
       "\n",
       "        NOX        O3      PM25      PMCO       SO2        RH       TMP  \\\n",
       "0 -0.431460  1.000000  0.236128  0.157639 -0.100684 -0.713090  0.828244   \n",
       "1 -0.309422  0.940698  0.339028  0.186335 -0.055020 -0.671755  0.773337   \n",
       "2 -0.137854  0.797727  0.416837  0.230587 -0.005294 -0.579908  0.655618   \n",
       "3  0.061036  0.600658  0.463512  0.275272  0.043611 -0.449511  0.490207   \n",
       "4  0.253198  0.380821  0.475369  0.304647  0.084618 -0.296354  0.296871   \n",
       "\n",
       "        WSP       WDR      PM10  \n",
       "0  0.436042 -0.240342  0.163479  \n",
       "1  0.310311 -0.302206  0.216998  \n",
       "2  0.179131 -0.341931  0.282632  \n",
       "3  0.043993 -0.354826  0.344972  \n",
       "4 -0.088001 -0.341393  0.387392  "
      ]
     },
     "execution_count": 80,
     "metadata": {},
     "output_type": "execute_result"
    }
   ],
   "source": [
    "O3_72_df.head()"
   ]
  },
  {
   "cell_type": "markdown",
   "metadata": {},
   "source": [
    "Para que los datos anteriores se usen en el modelo de predicción se guardarán en un nuevo archivo csv."
   ]
  },
  {
   "cell_type": "code",
   "execution_count": 81,
   "metadata": {},
   "outputs": [],
   "source": [
    "O3_72_df.to_csv(r'/home/pradel/Desktop/Forecast_CDMX_pollution/correlacion/sub_dataset/corr_o3_72.csv')"
   ]
  }
 ],
 "metadata": {
  "kernelspec": {
   "display_name": "Python 3",
   "language": "python",
   "name": "python3"
  },
  "language_info": {
   "codemirror_mode": {
    "name": "ipython",
    "version": 3
   },
   "file_extension": ".py",
   "mimetype": "text/x-python",
   "name": "python",
   "nbconvert_exporter": "python",
   "pygments_lexer": "ipython3",
   "version": "3.7.2"
  }
 },
 "nbformat": 4,
 "nbformat_minor": 2
}
