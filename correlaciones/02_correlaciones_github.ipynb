{
 "cells": [
  {
   "cell_type": "markdown",
   "metadata": {},
   "source": [
    "# 2. Correlación entre contaminantes"
   ]
  },
  {
   "cell_type": "markdown",
   "metadata": {},
   "source": [
    "Usando el archivo generado en el notebook `01_concatenar_archivos.ipynb` se estructura primero el dataframe para correr la función de correlación en python y graficar la matriz correspondiente.\n",
    "\n",
    "Después se construye una función que servirá para obtener la correlación con un desfase determinado de tiempo.\n",
    "\n",
    "Dado que son necesarias las correlaciones del O3 y PM10 con los demás contaminantes, se crean nuevos dataframes que se guardarán en archivos csv correspondientes (para usarse en los modelos de predicción) y se graficaran las correlaciones correspondientes."
   ]
  },
  {
   "cell_type": "markdown",
   "metadata": {},
   "source": [
    "Se importan las bibliotecas necesarias."
   ]
  },
  {
   "cell_type": "code",
   "execution_count": 1,
   "metadata": {},
   "outputs": [
    {
     "data": {
      "text/plain": [
       "2"
      ]
     },
     "execution_count": 1,
     "metadata": {},
     "output_type": "execute_result"
    }
   ],
   "source": [
    "1+1"
   ]
  },
  {
   "cell_type": "code",
   "execution_count": 2,
   "metadata": {},
   "outputs": [],
   "source": [
    "from __future__ import print_function\n",
    "from ipywidgets import interact, interactive, fixed, interact_manual\n",
    "import ipywidgets as widgets\n",
    "\n",
    "import numpy as np\n",
    "import pandas as pd\n",
    "import matplotlib.pyplot as plt\n",
    "import seaborn as sns\n",
    "\n",
    "from pandas.plotting import scatter_matrix"
   ]
  },
  {
   "cell_type": "markdown",
   "metadata": {},
   "source": [
    "Se carga el archivo generado anteriormente."
   ]
  },
  {
   "cell_type": "code",
   "execution_count": 23,
   "metadata": {},
   "outputs": [
    {
     "name": "stdout",
     "output_type": "stream",
     "text": [
      "/DATA/paw/jupyterhub_notebook/daniel.bustillos/DanielBustillos/contaminación/correlaciones_pau\r\n"
     ]
    }
   ],
   "source": [
    "!pwd"
   ]
  },
  {
   "cell_type": "code",
   "execution_count": 24,
   "metadata": {},
   "outputs": [],
   "source": [
    "data = pd.read_csv(str(\"/DATA/paw/jupyterhub_notebook/daniel.bustillos/DanielBustillos/contaminación/pipeline_norberto_11horas/datos/datos_entrenamiento.csv\"))"
   ]
  },
  {
   "cell_type": "code",
   "execution_count": 25,
   "metadata": {},
   "outputs": [
    {
     "data": {
      "text/html": [
       "<div>\n",
       "<style scoped>\n",
       "    .dataframe tbody tr th:only-of-type {\n",
       "        vertical-align: middle;\n",
       "    }\n",
       "\n",
       "    .dataframe tbody tr th {\n",
       "        vertical-align: top;\n",
       "    }\n",
       "\n",
       "    .dataframe thead th {\n",
       "        text-align: right;\n",
       "    }\n",
       "</style>\n",
       "<table border=\"1\" class=\"dataframe\">\n",
       "  <thead>\n",
       "    <tr style=\"text-align: right;\">\n",
       "      <th></th>\n",
       "      <th>RH</th>\n",
       "      <th>TMP</th>\n",
       "      <th>WSP</th>\n",
       "      <th>id_station</th>\n",
       "      <th>fecha</th>\n",
       "      <th>CO</th>\n",
       "      <th>NO</th>\n",
       "      <th>NO2</th>\n",
       "      <th>NOX</th>\n",
       "      <th>O3</th>\n",
       "      <th>PM10</th>\n",
       "      <th>PM2.5</th>\n",
       "      <th>SO2</th>\n",
       "      <th>hora</th>\n",
       "      <th>dia</th>\n",
       "      <th>mes</th>\n",
       "      <th>PM10mean</th>\n",
       "      <th>PM25mean</th>\n",
       "    </tr>\n",
       "  </thead>\n",
       "  <tbody>\n",
       "    <tr>\n",
       "      <th>0</th>\n",
       "      <td>82.0</td>\n",
       "      <td>9.0</td>\n",
       "      <td>1.8</td>\n",
       "      <td>ACO</td>\n",
       "      <td>2015-01-01 01:00:00</td>\n",
       "      <td>0.6</td>\n",
       "      <td>14.0</td>\n",
       "      <td>21.0</td>\n",
       "      <td>35.0</td>\n",
       "      <td>4.0</td>\n",
       "      <td>84.0</td>\n",
       "      <td>NaN</td>\n",
       "      <td>4.0</td>\n",
       "      <td>1</td>\n",
       "      <td>1.0</td>\n",
       "      <td>1.0</td>\n",
       "      <td>NaN</td>\n",
       "      <td>NaN</td>\n",
       "    </tr>\n",
       "    <tr>\n",
       "      <th>1</th>\n",
       "      <td>NaN</td>\n",
       "      <td>NaN</td>\n",
       "      <td>1.3</td>\n",
       "      <td>AJM</td>\n",
       "      <td>2015-01-01 01:00:00</td>\n",
       "      <td>1.2</td>\n",
       "      <td>3.0</td>\n",
       "      <td>58.0</td>\n",
       "      <td>61.0</td>\n",
       "      <td>8.0</td>\n",
       "      <td>NaN</td>\n",
       "      <td>NaN</td>\n",
       "      <td>20.0</td>\n",
       "      <td>1</td>\n",
       "      <td>1.0</td>\n",
       "      <td>1.0</td>\n",
       "      <td>NaN</td>\n",
       "      <td>NaN</td>\n",
       "    </tr>\n",
       "    <tr>\n",
       "      <th>2</th>\n",
       "      <td>NaN</td>\n",
       "      <td>NaN</td>\n",
       "      <td>NaN</td>\n",
       "      <td>AJU</td>\n",
       "      <td>2015-01-01 01:00:00</td>\n",
       "      <td>NaN</td>\n",
       "      <td>NaN</td>\n",
       "      <td>NaN</td>\n",
       "      <td>NaN</td>\n",
       "      <td>20.0</td>\n",
       "      <td>NaN</td>\n",
       "      <td>NaN</td>\n",
       "      <td>NaN</td>\n",
       "      <td>1</td>\n",
       "      <td>1.0</td>\n",
       "      <td>1.0</td>\n",
       "      <td>NaN</td>\n",
       "      <td>NaN</td>\n",
       "    </tr>\n",
       "    <tr>\n",
       "      <th>3</th>\n",
       "      <td>NaN</td>\n",
       "      <td>NaN</td>\n",
       "      <td>NaN</td>\n",
       "      <td>ATI</td>\n",
       "      <td>2015-01-01 01:00:00</td>\n",
       "      <td>1.1</td>\n",
       "      <td>3.0</td>\n",
       "      <td>30.0</td>\n",
       "      <td>32.0</td>\n",
       "      <td>21.0</td>\n",
       "      <td>122.0</td>\n",
       "      <td>NaN</td>\n",
       "      <td>16.0</td>\n",
       "      <td>1</td>\n",
       "      <td>1.0</td>\n",
       "      <td>1.0</td>\n",
       "      <td>NaN</td>\n",
       "      <td>NaN</td>\n",
       "    </tr>\n",
       "    <tr>\n",
       "      <th>4</th>\n",
       "      <td>NaN</td>\n",
       "      <td>NaN</td>\n",
       "      <td>NaN</td>\n",
       "      <td>CAM</td>\n",
       "      <td>2015-01-01 01:00:00</td>\n",
       "      <td>1.2</td>\n",
       "      <td>NaN</td>\n",
       "      <td>NaN</td>\n",
       "      <td>NaN</td>\n",
       "      <td>2.0</td>\n",
       "      <td>95.0</td>\n",
       "      <td>80.0</td>\n",
       "      <td>67.0</td>\n",
       "      <td>1</td>\n",
       "      <td>1.0</td>\n",
       "      <td>1.0</td>\n",
       "      <td>NaN</td>\n",
       "      <td>NaN</td>\n",
       "    </tr>\n",
       "  </tbody>\n",
       "</table>\n",
       "</div>"
      ],
      "text/plain": [
       "     RH  TMP  WSP id_station                fecha   CO    NO   NO2   NOX  \\\n",
       "0  82.0  9.0  1.8        ACO  2015-01-01 01:00:00  0.6  14.0  21.0  35.0   \n",
       "1   NaN  NaN  1.3        AJM  2015-01-01 01:00:00  1.2   3.0  58.0  61.0   \n",
       "2   NaN  NaN  NaN        AJU  2015-01-01 01:00:00  NaN   NaN   NaN   NaN   \n",
       "3   NaN  NaN  NaN        ATI  2015-01-01 01:00:00  1.1   3.0  30.0  32.0   \n",
       "4   NaN  NaN  NaN        CAM  2015-01-01 01:00:00  1.2   NaN   NaN   NaN   \n",
       "\n",
       "     O3   PM10  PM2.5   SO2  hora  dia  mes  PM10mean  PM25mean  \n",
       "0   4.0   84.0    NaN   4.0     1  1.0  1.0       NaN       NaN  \n",
       "1   8.0    NaN    NaN  20.0     1  1.0  1.0       NaN       NaN  \n",
       "2  20.0    NaN    NaN   NaN     1  1.0  1.0       NaN       NaN  \n",
       "3  21.0  122.0    NaN  16.0     1  1.0  1.0       NaN       NaN  \n",
       "4   2.0   95.0   80.0  67.0     1  1.0  1.0       NaN       NaN  "
      ]
     },
     "execution_count": 25,
     "metadata": {},
     "output_type": "execute_result"
    }
   ],
   "source": [
    "data.head()"
   ]
  },
  {
   "cell_type": "markdown",
   "metadata": {},
   "source": [
    "Como se puede observar, se necesita reestructurar el dataframe para que se pueda correr la correlación. Es necesario quitar algunas columnas y reiniciar índices."
   ]
  },
  {
   "cell_type": "markdown",
   "metadata": {},
   "source": [
    "## 2.1 Estructuración del dataframe"
   ]
  },
  {
   "cell_type": "markdown",
   "metadata": {},
   "source": [
    "Se eliminan las columnas `Unnamed:0`, `mes`, `dia` y `hora`, pues no son de nuestra utilidad. También se ordenan los datos por la columna `fecha` de manera ascendente, lo cual es fundamental para que posteriormente se construya la correlación con el desfase de tiempo "
   ]
  },
  {
   "cell_type": "raw",
   "metadata": {},
   "source": [
    "data.drop(['mes', 'dia', 'hora'], axis = 1, inplace = True)"
   ]
  },
  {
   "cell_type": "code",
   "execution_count": 26,
   "metadata": {},
   "outputs": [],
   "source": [
    "#data.drop(['index'], axis = 1, inplace = True)\n",
    "data = data.sort_values(by = 'fecha')\n",
    "data = data.reset_index(drop = True)"
   ]
  },
  {
   "cell_type": "code",
   "execution_count": 27,
   "metadata": {},
   "outputs": [],
   "source": [
    "data = data.groupby('fecha', as_index = False).max()"
   ]
  },
  {
   "cell_type": "code",
   "execution_count": 28,
   "metadata": {},
   "outputs": [
    {
     "data": {
      "text/html": [
       "<div>\n",
       "<style scoped>\n",
       "    .dataframe tbody tr th:only-of-type {\n",
       "        vertical-align: middle;\n",
       "    }\n",
       "\n",
       "    .dataframe tbody tr th {\n",
       "        vertical-align: top;\n",
       "    }\n",
       "\n",
       "    .dataframe thead th {\n",
       "        text-align: right;\n",
       "    }\n",
       "</style>\n",
       "<table border=\"1\" class=\"dataframe\">\n",
       "  <thead>\n",
       "    <tr style=\"text-align: right;\">\n",
       "      <th></th>\n",
       "      <th>fecha</th>\n",
       "      <th>RH</th>\n",
       "      <th>TMP</th>\n",
       "      <th>WSP</th>\n",
       "      <th>id_station</th>\n",
       "      <th>CO</th>\n",
       "      <th>NO</th>\n",
       "      <th>NO2</th>\n",
       "      <th>NOX</th>\n",
       "      <th>O3</th>\n",
       "      <th>PM10</th>\n",
       "      <th>PM2.5</th>\n",
       "      <th>SO2</th>\n",
       "      <th>hora</th>\n",
       "      <th>dia</th>\n",
       "      <th>mes</th>\n",
       "      <th>PM10mean</th>\n",
       "      <th>PM25mean</th>\n",
       "    </tr>\n",
       "  </thead>\n",
       "  <tbody>\n",
       "    <tr>\n",
       "      <th>0</th>\n",
       "      <td>2015-01-01 01:00:00</td>\n",
       "      <td>95.0</td>\n",
       "      <td>13.2</td>\n",
       "      <td>2.7</td>\n",
       "      <td>XAL</td>\n",
       "      <td>2.9</td>\n",
       "      <td>113.0</td>\n",
       "      <td>62.0</td>\n",
       "      <td>150.0</td>\n",
       "      <td>26.0</td>\n",
       "      <td>211.0</td>\n",
       "      <td>159.0</td>\n",
       "      <td>86.0</td>\n",
       "      <td>1</td>\n",
       "      <td>1.0</td>\n",
       "      <td>1.0</td>\n",
       "      <td>NaN</td>\n",
       "      <td>NaN</td>\n",
       "    </tr>\n",
       "    <tr>\n",
       "      <th>1</th>\n",
       "      <td>2015-01-01 02:00:00</td>\n",
       "      <td>96.0</td>\n",
       "      <td>12.4</td>\n",
       "      <td>2.8</td>\n",
       "      <td>XAL</td>\n",
       "      <td>3.4</td>\n",
       "      <td>149.0</td>\n",
       "      <td>58.0</td>\n",
       "      <td>183.0</td>\n",
       "      <td>31.0</td>\n",
       "      <td>293.0</td>\n",
       "      <td>267.0</td>\n",
       "      <td>87.0</td>\n",
       "      <td>2</td>\n",
       "      <td>1.0</td>\n",
       "      <td>1.0</td>\n",
       "      <td>NaN</td>\n",
       "      <td>NaN</td>\n",
       "    </tr>\n",
       "    <tr>\n",
       "      <th>2</th>\n",
       "      <td>2015-01-01 03:00:00</td>\n",
       "      <td>97.0</td>\n",
       "      <td>11.8</td>\n",
       "      <td>2.5</td>\n",
       "      <td>XAL</td>\n",
       "      <td>2.8</td>\n",
       "      <td>115.0</td>\n",
       "      <td>52.0</td>\n",
       "      <td>144.0</td>\n",
       "      <td>26.0</td>\n",
       "      <td>266.0</td>\n",
       "      <td>242.0</td>\n",
       "      <td>133.0</td>\n",
       "      <td>3</td>\n",
       "      <td>1.0</td>\n",
       "      <td>1.0</td>\n",
       "      <td>NaN</td>\n",
       "      <td>NaN</td>\n",
       "    </tr>\n",
       "    <tr>\n",
       "      <th>3</th>\n",
       "      <td>2015-01-01 04:00:00</td>\n",
       "      <td>97.0</td>\n",
       "      <td>11.7</td>\n",
       "      <td>2.7</td>\n",
       "      <td>XAL</td>\n",
       "      <td>2.4</td>\n",
       "      <td>105.0</td>\n",
       "      <td>46.0</td>\n",
       "      <td>131.0</td>\n",
       "      <td>28.0</td>\n",
       "      <td>225.0</td>\n",
       "      <td>161.0</td>\n",
       "      <td>152.0</td>\n",
       "      <td>4</td>\n",
       "      <td>1.0</td>\n",
       "      <td>1.0</td>\n",
       "      <td>NaN</td>\n",
       "      <td>NaN</td>\n",
       "    </tr>\n",
       "    <tr>\n",
       "      <th>4</th>\n",
       "      <td>2015-01-01 05:00:00</td>\n",
       "      <td>98.0</td>\n",
       "      <td>10.1</td>\n",
       "      <td>2.2</td>\n",
       "      <td>XAL</td>\n",
       "      <td>2.2</td>\n",
       "      <td>75.0</td>\n",
       "      <td>44.0</td>\n",
       "      <td>99.0</td>\n",
       "      <td>21.0</td>\n",
       "      <td>278.0</td>\n",
       "      <td>141.0</td>\n",
       "      <td>88.0</td>\n",
       "      <td>5</td>\n",
       "      <td>1.0</td>\n",
       "      <td>1.0</td>\n",
       "      <td>NaN</td>\n",
       "      <td>NaN</td>\n",
       "    </tr>\n",
       "  </tbody>\n",
       "</table>\n",
       "</div>"
      ],
      "text/plain": [
       "                 fecha    RH   TMP  WSP id_station   CO     NO   NO2    NOX  \\\n",
       "0  2015-01-01 01:00:00  95.0  13.2  2.7        XAL  2.9  113.0  62.0  150.0   \n",
       "1  2015-01-01 02:00:00  96.0  12.4  2.8        XAL  3.4  149.0  58.0  183.0   \n",
       "2  2015-01-01 03:00:00  97.0  11.8  2.5        XAL  2.8  115.0  52.0  144.0   \n",
       "3  2015-01-01 04:00:00  97.0  11.7  2.7        XAL  2.4  105.0  46.0  131.0   \n",
       "4  2015-01-01 05:00:00  98.0  10.1  2.2        XAL  2.2   75.0  44.0   99.0   \n",
       "\n",
       "     O3   PM10  PM2.5    SO2  hora  dia  mes  PM10mean  PM25mean  \n",
       "0  26.0  211.0  159.0   86.0     1  1.0  1.0       NaN       NaN  \n",
       "1  31.0  293.0  267.0   87.0     2  1.0  1.0       NaN       NaN  \n",
       "2  26.0  266.0  242.0  133.0     3  1.0  1.0       NaN       NaN  \n",
       "3  28.0  225.0  161.0  152.0     4  1.0  1.0       NaN       NaN  \n",
       "4  21.0  278.0  141.0   88.0     5  1.0  1.0       NaN       NaN  "
      ]
     },
     "execution_count": 28,
     "metadata": {},
     "output_type": "execute_result"
    }
   ],
   "source": [
    "data.head()"
   ]
  },
  {
   "cell_type": "markdown",
   "metadata": {},
   "source": [
    "## 2.2 Correlación entre contaminantes"
   ]
  },
  {
   "cell_type": "markdown",
   "metadata": {},
   "source": [
    "Usando los datos anteriores ya podemos obtener la correlación y la matriz de correlación entre los contaminantes.\n",
    "\n",
    "Se construye un filtro para que a demanda el usuario obtenga la correlación del contaminante deseado."
   ]
  },
  {
   "cell_type": "markdown",
   "metadata": {},
   "source": [
    "## 2.3 Correlación cruzada entre contaminantes"
   ]
  },
  {
   "cell_type": "markdown",
   "metadata": {},
   "source": [
    "Es necesario conocer la correlación entre los contaminantes a distintos rangos de tiempo. Por ejemplo, es de interés saber si las partículas PM10 aumentan o disminuyen 24 hrs después de que subió el O3 o algún otro contaminante. Para ello se construye una función que calcule la correlación desfasada cada hora.\n",
    "\n",
    "Esta función fue obtenida en un artículo de kaggle titulado [Cross-correlation (time-lag) with pandas](https://www.kaggle.com/dedecu/cross-correlation-time-lag-with-pandas) y aplicada en este trabajo: "
   ]
  },
  {
   "cell_type": "code",
   "execution_count": 29,
   "metadata": {},
   "outputs": [],
   "source": [
    "def data_lag(df,lag=0,NON_DER=[]):\n",
    "    df = df.copy()\n",
    "    if not lag:\n",
    "        return df\n",
    "    cols ={}\n",
    "    for i in range(1,lag+1):\n",
    "        for x in list(df.columns):\n",
    "            if x not in NON_DER:\n",
    "                if not x in cols:\n",
    "                    cols[x] = ['{}_{}'.format(x, i)]\n",
    "                else:\n",
    "                    cols[x].append('{}_{}'.format(x, i))\n",
    "    for k,v in cols.items():\n",
    "        columns = v\n",
    "        dfn = pd.DataFrame(data=None, columns=columns, index=df.index)    \n",
    "        i = 1\n",
    "        for c in columns:\n",
    "            dfn[c] = df[k].shift(periods=i)\n",
    "            i+=1\n",
    "        df = pd.concat([df, dfn], axis=1, join_axes=[df.index])\n",
    "    return df"
   ]
  },
  {
   "cell_type": "markdown",
   "metadata": {},
   "source": [
    "El desfase se hará para 72 horas aplicando la función anterior a los datos que se tienen."
   ]
  },
  {
   "cell_type": "code",
   "execution_count": 30,
   "metadata": {},
   "outputs": [],
   "source": [
    "NON_DER = ['fecha',]\n",
    "data_72 = data_lag(data, 72, NON_DER)"
   ]
  },
  {
   "cell_type": "markdown",
   "metadata": {},
   "source": [
    "Se corre la correlación para este desfase y se guarda en un nuevo dataframe."
   ]
  },
  {
   "cell_type": "code",
   "execution_count": 31,
   "metadata": {},
   "outputs": [],
   "source": [
    "data_72_corr = data_72.corr()"
   ]
  },
  {
   "cell_type": "markdown",
   "metadata": {},
   "source": [
    "La tabla obtenida tiene todos los valores desfasados hasta 72 horas. Por ejemplo la columna indicada como PM10_63 muestra la correlación de todos los contaminantes con diferencia de 63 horas para el PM10."
   ]
  },
  {
   "cell_type": "code",
   "execution_count": 32,
   "metadata": {},
   "outputs": [
    {
     "data": {
      "text/html": [
       "<div>\n",
       "<style scoped>\n",
       "    .dataframe tbody tr th:only-of-type {\n",
       "        vertical-align: middle;\n",
       "    }\n",
       "\n",
       "    .dataframe tbody tr th {\n",
       "        vertical-align: top;\n",
       "    }\n",
       "\n",
       "    .dataframe thead th {\n",
       "        text-align: right;\n",
       "    }\n",
       "</style>\n",
       "<table border=\"1\" class=\"dataframe\">\n",
       "  <thead>\n",
       "    <tr style=\"text-align: right;\">\n",
       "      <th></th>\n",
       "      <th>RH</th>\n",
       "      <th>TMP</th>\n",
       "      <th>WSP</th>\n",
       "      <th>CO</th>\n",
       "      <th>NO</th>\n",
       "      <th>NO2</th>\n",
       "      <th>NOX</th>\n",
       "      <th>O3</th>\n",
       "      <th>PM10</th>\n",
       "      <th>PM2.5</th>\n",
       "      <th>...</th>\n",
       "      <th>PM25mean_63</th>\n",
       "      <th>PM25mean_64</th>\n",
       "      <th>PM25mean_65</th>\n",
       "      <th>PM25mean_66</th>\n",
       "      <th>PM25mean_67</th>\n",
       "      <th>PM25mean_68</th>\n",
       "      <th>PM25mean_69</th>\n",
       "      <th>PM25mean_70</th>\n",
       "      <th>PM25mean_71</th>\n",
       "      <th>PM25mean_72</th>\n",
       "    </tr>\n",
       "  </thead>\n",
       "  <tbody>\n",
       "    <tr>\n",
       "      <th>RH</th>\n",
       "      <td>1.000000</td>\n",
       "      <td>-0.698605</td>\n",
       "      <td>-0.311534</td>\n",
       "      <td>0.208510</td>\n",
       "      <td>0.311446</td>\n",
       "      <td>0.025646</td>\n",
       "      <td>0.270536</td>\n",
       "      <td>-0.696646</td>\n",
       "      <td>-0.196106</td>\n",
       "      <td>-0.149567</td>\n",
       "      <td>...</td>\n",
       "      <td>-0.113602</td>\n",
       "      <td>-0.114144</td>\n",
       "      <td>-0.114615</td>\n",
       "      <td>-0.114806</td>\n",
       "      <td>-0.114874</td>\n",
       "      <td>-0.114853</td>\n",
       "      <td>-0.114751</td>\n",
       "      <td>-0.114538</td>\n",
       "      <td>-0.114396</td>\n",
       "      <td>-0.114275</td>\n",
       "    </tr>\n",
       "    <tr>\n",
       "      <th>TMP</th>\n",
       "      <td>-0.698605</td>\n",
       "      <td>1.000000</td>\n",
       "      <td>0.395652</td>\n",
       "      <td>-0.390877</td>\n",
       "      <td>-0.532917</td>\n",
       "      <td>-0.211573</td>\n",
       "      <td>-0.511549</td>\n",
       "      <td>0.781149</td>\n",
       "      <td>-0.036303</td>\n",
       "      <td>-0.003274</td>\n",
       "      <td>...</td>\n",
       "      <td>-0.050060</td>\n",
       "      <td>-0.050506</td>\n",
       "      <td>-0.050986</td>\n",
       "      <td>-0.051408</td>\n",
       "      <td>-0.051819</td>\n",
       "      <td>-0.052279</td>\n",
       "      <td>-0.052651</td>\n",
       "      <td>-0.052899</td>\n",
       "      <td>-0.053110</td>\n",
       "      <td>-0.053356</td>\n",
       "    </tr>\n",
       "    <tr>\n",
       "      <th>WSP</th>\n",
       "      <td>-0.311534</td>\n",
       "      <td>0.395652</td>\n",
       "      <td>1.000000</td>\n",
       "      <td>-0.334312</td>\n",
       "      <td>-0.337803</td>\n",
       "      <td>-0.299799</td>\n",
       "      <td>-0.364994</td>\n",
       "      <td>0.274105</td>\n",
       "      <td>-0.027934</td>\n",
       "      <td>-0.218540</td>\n",
       "      <td>...</td>\n",
       "      <td>0.007055</td>\n",
       "      <td>0.007565</td>\n",
       "      <td>0.008174</td>\n",
       "      <td>0.008717</td>\n",
       "      <td>0.009088</td>\n",
       "      <td>0.009497</td>\n",
       "      <td>0.010099</td>\n",
       "      <td>0.010782</td>\n",
       "      <td>0.011280</td>\n",
       "      <td>0.011618</td>\n",
       "    </tr>\n",
       "    <tr>\n",
       "      <th>CO</th>\n",
       "      <td>0.208510</td>\n",
       "      <td>-0.390877</td>\n",
       "      <td>-0.334312</td>\n",
       "      <td>1.000000</td>\n",
       "      <td>0.837227</td>\n",
       "      <td>0.609191</td>\n",
       "      <td>0.886642</td>\n",
       "      <td>-0.242849</td>\n",
       "      <td>0.571666</td>\n",
       "      <td>0.436669</td>\n",
       "      <td>...</td>\n",
       "      <td>0.157025</td>\n",
       "      <td>0.157292</td>\n",
       "      <td>0.157198</td>\n",
       "      <td>0.157312</td>\n",
       "      <td>0.157252</td>\n",
       "      <td>0.157213</td>\n",
       "      <td>0.157417</td>\n",
       "      <td>0.157845</td>\n",
       "      <td>0.158380</td>\n",
       "      <td>0.158626</td>\n",
       "    </tr>\n",
       "    <tr>\n",
       "      <th>NO</th>\n",
       "      <td>0.311446</td>\n",
       "      <td>-0.532917</td>\n",
       "      <td>-0.337803</td>\n",
       "      <td>0.837227</td>\n",
       "      <td>1.000000</td>\n",
       "      <td>0.380191</td>\n",
       "      <td>0.973181</td>\n",
       "      <td>-0.373484</td>\n",
       "      <td>0.473268</td>\n",
       "      <td>0.292599</td>\n",
       "      <td>...</td>\n",
       "      <td>0.101475</td>\n",
       "      <td>0.101763</td>\n",
       "      <td>0.101796</td>\n",
       "      <td>0.101927</td>\n",
       "      <td>0.101814</td>\n",
       "      <td>0.101830</td>\n",
       "      <td>0.102100</td>\n",
       "      <td>0.102599</td>\n",
       "      <td>0.102921</td>\n",
       "      <td>0.103172</td>\n",
       "    </tr>\n",
       "  </tbody>\n",
       "</table>\n",
       "<p>5 rows × 1168 columns</p>\n",
       "</div>"
      ],
      "text/plain": [
       "           RH       TMP       WSP        CO        NO       NO2       NOX  \\\n",
       "RH   1.000000 -0.698605 -0.311534  0.208510  0.311446  0.025646  0.270536   \n",
       "TMP -0.698605  1.000000  0.395652 -0.390877 -0.532917 -0.211573 -0.511549   \n",
       "WSP -0.311534  0.395652  1.000000 -0.334312 -0.337803 -0.299799 -0.364994   \n",
       "CO   0.208510 -0.390877 -0.334312  1.000000  0.837227  0.609191  0.886642   \n",
       "NO   0.311446 -0.532917 -0.337803  0.837227  1.000000  0.380191  0.973181   \n",
       "\n",
       "           O3      PM10     PM2.5  ...  PM25mean_63  PM25mean_64  PM25mean_65  \\\n",
       "RH  -0.696646 -0.196106 -0.149567  ...    -0.113602    -0.114144    -0.114615   \n",
       "TMP  0.781149 -0.036303 -0.003274  ...    -0.050060    -0.050506    -0.050986   \n",
       "WSP  0.274105 -0.027934 -0.218540  ...     0.007055     0.007565     0.008174   \n",
       "CO  -0.242849  0.571666  0.436669  ...     0.157025     0.157292     0.157198   \n",
       "NO  -0.373484  0.473268  0.292599  ...     0.101475     0.101763     0.101796   \n",
       "\n",
       "     PM25mean_66  PM25mean_67  PM25mean_68  PM25mean_69  PM25mean_70  \\\n",
       "RH     -0.114806    -0.114874    -0.114853    -0.114751    -0.114538   \n",
       "TMP    -0.051408    -0.051819    -0.052279    -0.052651    -0.052899   \n",
       "WSP     0.008717     0.009088     0.009497     0.010099     0.010782   \n",
       "CO      0.157312     0.157252     0.157213     0.157417     0.157845   \n",
       "NO      0.101927     0.101814     0.101830     0.102100     0.102599   \n",
       "\n",
       "     PM25mean_71  PM25mean_72  \n",
       "RH     -0.114396    -0.114275  \n",
       "TMP    -0.053110    -0.053356  \n",
       "WSP     0.011280     0.011618  \n",
       "CO      0.158380     0.158626  \n",
       "NO      0.102921     0.103172  \n",
       "\n",
       "[5 rows x 1168 columns]"
      ]
     },
     "execution_count": 32,
     "metadata": {},
     "output_type": "execute_result"
    }
   ],
   "source": [
    "data_72_corr.head()"
   ]
  },
  {
   "cell_type": "markdown",
   "metadata": {},
   "source": [
    "### 2.3.1 Correlación entre PM10 y los demás contaminantes"
   ]
  },
  {
   "cell_type": "markdown",
   "metadata": {},
   "source": [
    "Siendo las partículas PM10 uno de los determinantes para detonar una contingencia ambiental, interesa saber de que manera se correlacionan con los demás contaminantes y en que ciclos de tiempo dicha correlación es más fuerte.\n",
    "\n",
    "Se graficará esta correlación para el rango de 0 a 72 horas obtenido en la sección anterior.\n",
    "\n",
    "Antes de correr la correlación se le vuelve a dar estructura al dataframe para poder graficar de manera óptima."
   ]
  },
  {
   "cell_type": "code",
   "execution_count": 42,
   "metadata": {},
   "outputs": [],
   "source": [
    "# Se aísla sólo la columna que corresponde a las partículas PM10\n",
    "PM10_72 = data_72_corr[[\"O3\"]]"
   ]
  },
  {
   "cell_type": "code",
   "execution_count": 43,
   "metadata": {},
   "outputs": [],
   "source": [
    "# Se reinicia el índice del dataframe\n",
    "PM10_72.reset_index(inplace=True)"
   ]
  },
  {
   "cell_type": "code",
   "execution_count": 44,
   "metadata": {},
   "outputs": [],
   "source": [
    "# Se renombran las columnas para mayor comprensión\n",
    "PM10_72.columns = ['contaminante', 'valor']"
   ]
  },
  {
   "cell_type": "markdown",
   "metadata": {},
   "source": [
    "El dataframe tendrá la siguiente estructura:"
   ]
  },
  {
   "cell_type": "code",
   "execution_count": 45,
   "metadata": {},
   "outputs": [
    {
     "data": {
      "text/html": [
       "<div>\n",
       "<style scoped>\n",
       "    .dataframe tbody tr th:only-of-type {\n",
       "        vertical-align: middle;\n",
       "    }\n",
       "\n",
       "    .dataframe tbody tr th {\n",
       "        vertical-align: top;\n",
       "    }\n",
       "\n",
       "    .dataframe thead th {\n",
       "        text-align: right;\n",
       "    }\n",
       "</style>\n",
       "<table border=\"1\" class=\"dataframe\">\n",
       "  <thead>\n",
       "    <tr style=\"text-align: right;\">\n",
       "      <th></th>\n",
       "      <th>contaminante</th>\n",
       "      <th>valor</th>\n",
       "    </tr>\n",
       "  </thead>\n",
       "  <tbody>\n",
       "    <tr>\n",
       "      <th>0</th>\n",
       "      <td>RH</td>\n",
       "      <td>-0.696646</td>\n",
       "    </tr>\n",
       "    <tr>\n",
       "      <th>1</th>\n",
       "      <td>TMP</td>\n",
       "      <td>0.781149</td>\n",
       "    </tr>\n",
       "    <tr>\n",
       "      <th>2</th>\n",
       "      <td>WSP</td>\n",
       "      <td>0.274105</td>\n",
       "    </tr>\n",
       "    <tr>\n",
       "      <th>3</th>\n",
       "      <td>CO</td>\n",
       "      <td>-0.242849</td>\n",
       "    </tr>\n",
       "    <tr>\n",
       "      <th>4</th>\n",
       "      <td>NO</td>\n",
       "      <td>-0.373484</td>\n",
       "    </tr>\n",
       "  </tbody>\n",
       "</table>\n",
       "</div>"
      ],
      "text/plain": [
       "  contaminante     valor\n",
       "0           RH -0.696646\n",
       "1          TMP  0.781149\n",
       "2          WSP  0.274105\n",
       "3           CO -0.242849\n",
       "4           NO -0.373484"
      ]
     },
     "execution_count": 45,
     "metadata": {},
     "output_type": "execute_result"
    }
   ],
   "source": [
    "PM10_72.head()"
   ]
  },
  {
   "cell_type": "code",
   "execution_count": 46,
   "metadata": {},
   "outputs": [],
   "source": [
    "PM10_72.columns = ['contaminante', 'valor']"
   ]
  },
  {
   "cell_type": "code",
   "execution_count": 47,
   "metadata": {},
   "outputs": [
    {
     "name": "stderr",
     "output_type": "stream",
     "text": [
      "/home/paw/software/python/anaconda3/lib/python3.7/site-packages/ipykernel_launcher.py:1: SettingWithCopyWarning: \n",
      "A value is trying to be set on a copy of a slice from a DataFrame.\n",
      "Try using .loc[row_indexer,col_indexer] = value instead\n",
      "\n",
      "See the caveats in the documentation: http://pandas.pydata.org/pandas-docs/stable/indexing.html#indexing-view-versus-copy\n",
      "  \"\"\"Entry point for launching an IPython kernel.\n",
      "/home/paw/software/python/anaconda3/lib/python3.7/site-packages/ipykernel_launcher.py:2: SettingWithCopyWarning: \n",
      "A value is trying to be set on a copy of a slice from a DataFrame.\n",
      "Try using .loc[row_indexer,col_indexer] = value instead\n",
      "\n",
      "See the caveats in the documentation: http://pandas.pydata.org/pandas-docs/stable/indexing.html#indexing-view-versus-copy\n",
      "  \n",
      "/home/paw/software/python/anaconda3/lib/python3.7/site-packages/pandas/core/frame.py:4034: SettingWithCopyWarning: \n",
      "A value is trying to be set on a copy of a slice from a DataFrame\n",
      "\n",
      "See the caveats in the documentation: http://pandas.pydata.org/pandas-docs/stable/indexing.html#indexing-view-versus-copy\n",
      "  downcast=downcast, **kwargs)\n"
     ]
    }
   ],
   "source": [
    "PM10_72['horas'] = PM10_72['contaminante'].str.split('_').str[-1]\n",
    "PM10_72['contaminante'] = PM10_72['contaminante'].str.split('_').str[0]\n",
    "PM10_72.fillna(0,inplace=True)"
   ]
  },
  {
   "cell_type": "code",
   "execution_count": 48,
   "metadata": {},
   "outputs": [
    {
     "name": "stderr",
     "output_type": "stream",
     "text": [
      "/home/paw/software/python/anaconda3/lib/python3.7/site-packages/pandas/core/generic.py:5096: SettingWithCopyWarning: \n",
      "A value is trying to be set on a copy of a slice from a DataFrame.\n",
      "Try using .loc[row_indexer,col_indexer] = value instead\n",
      "\n",
      "See the caveats in the documentation: http://pandas.pydata.org/pandas-docs/stable/indexing.html#indexing-view-versus-copy\n",
      "  self[name] = value\n"
     ]
    },
    {
     "data": {
      "text/html": [
       "<div>\n",
       "<style scoped>\n",
       "    .dataframe tbody tr th:only-of-type {\n",
       "        vertical-align: middle;\n",
       "    }\n",
       "\n",
       "    .dataframe tbody tr th {\n",
       "        vertical-align: top;\n",
       "    }\n",
       "\n",
       "    .dataframe thead th {\n",
       "        text-align: right;\n",
       "    }\n",
       "</style>\n",
       "<table border=\"1\" class=\"dataframe\">\n",
       "  <thead>\n",
       "    <tr style=\"text-align: right;\">\n",
       "      <th></th>\n",
       "      <th>contaminante</th>\n",
       "      <th>valor</th>\n",
       "      <th>horas</th>\n",
       "    </tr>\n",
       "  </thead>\n",
       "  <tbody>\n",
       "    <tr>\n",
       "      <th>0</th>\n",
       "      <td>RH</td>\n",
       "      <td>-0.696646</td>\n",
       "      <td>0.0</td>\n",
       "    </tr>\n",
       "    <tr>\n",
       "      <th>1</th>\n",
       "      <td>TMP</td>\n",
       "      <td>0.781149</td>\n",
       "      <td>0.0</td>\n",
       "    </tr>\n",
       "    <tr>\n",
       "      <th>2</th>\n",
       "      <td>WSP</td>\n",
       "      <td>0.274105</td>\n",
       "      <td>0.0</td>\n",
       "    </tr>\n",
       "    <tr>\n",
       "      <th>3</th>\n",
       "      <td>CO</td>\n",
       "      <td>-0.242849</td>\n",
       "      <td>0.0</td>\n",
       "    </tr>\n",
       "    <tr>\n",
       "      <th>4</th>\n",
       "      <td>NO</td>\n",
       "      <td>-0.373484</td>\n",
       "      <td>0.0</td>\n",
       "    </tr>\n",
       "    <tr>\n",
       "      <th>5</th>\n",
       "      <td>NO2</td>\n",
       "      <td>-0.052427</td>\n",
       "      <td>0.0</td>\n",
       "    </tr>\n",
       "    <tr>\n",
       "      <th>6</th>\n",
       "      <td>NOX</td>\n",
       "      <td>-0.335120</td>\n",
       "      <td>0.0</td>\n",
       "    </tr>\n",
       "    <tr>\n",
       "      <th>7</th>\n",
       "      <td>O3</td>\n",
       "      <td>1.000000</td>\n",
       "      <td>0.0</td>\n",
       "    </tr>\n",
       "    <tr>\n",
       "      <th>8</th>\n",
       "      <td>PM10</td>\n",
       "      <td>0.136825</td>\n",
       "      <td>0.0</td>\n",
       "    </tr>\n",
       "    <tr>\n",
       "      <th>9</th>\n",
       "      <td>PM2.5</td>\n",
       "      <td>0.219638</td>\n",
       "      <td>0.0</td>\n",
       "    </tr>\n",
       "  </tbody>\n",
       "</table>\n",
       "</div>"
      ],
      "text/plain": [
       "  contaminante     valor  horas\n",
       "0           RH -0.696646    0.0\n",
       "1          TMP  0.781149    0.0\n",
       "2          WSP  0.274105    0.0\n",
       "3           CO -0.242849    0.0\n",
       "4           NO -0.373484    0.0\n",
       "5          NO2 -0.052427    0.0\n",
       "6          NOX -0.335120    0.0\n",
       "7           O3  1.000000    0.0\n",
       "8         PM10  0.136825    0.0\n",
       "9        PM2.5  0.219638    0.0"
      ]
     },
     "execution_count": 48,
     "metadata": {},
     "output_type": "execute_result"
    }
   ],
   "source": [
    "PM10_72.reset_index(inplace=True,drop=True)\n",
    "\n",
    "PM10_72.horas = pd.to_numeric(PM10_72.horas, errors='coerce').fillna(0)\n",
    "\n",
    "PM10_72.head(10)"
   ]
  },
  {
   "cell_type": "code",
   "execution_count": 49,
   "metadata": {},
   "outputs": [
    {
     "data": {
      "image/png": "[encoded data removed]",
      "text/plain": [
       "<Figure size 432x288 with 1 Axes>"
      ]
     },
     "metadata": {
      "needs_background": "light"
     },
     "output_type": "display_data"
    }
   ],
   "source": [
    "pv = pd.pivot_table(PM10_72, values='valor', index=['horas'],columns=['contaminante'], aggfunc=np.sum)\n",
    "\n",
    "pv = pv.reset_index(drop=False)\n",
    "\n",
    "pv.horas = pv.horas.astype(int)\n",
    "pv = pv.sort_values(by='horas', ascending=True)\n",
    "\n",
    "pv.head()\n",
    "\n",
    "fig = plt.figure()\n",
    "ax = fig.gca()\n",
    "\n",
    "pv.plot(x=\"horas\", y=[\"CO\"],ax=ax,color=\"dodgerblue\")\n",
    "pv.plot(x=\"horas\", y=[\"TMP\"],ax=ax,color='darkblue',dashes=[6, 2])\n",
    "pv.plot(x=\"horas\", y=[\"O3\"],ax=ax,color='crimson',dashes=[6, 2])\n",
    "pv.plot(x=\"horas\", y=[\"PM10\"],ax=ax,color='maroon',dashes=[6, 2])\n",
    "pv.plot(x=\"horas\", y=[\"RH\"],ax=ax,color='goldenrod',dashes=[6, 2])\n",
    "pv.plot(x=\"horas\", y=[\"NOX\"],ax=ax,color='pink')\n",
    "\n",
    "\n",
    "\n",
    "plt.title(\"Correlacion Pearson O3\")\n",
    "\n",
    "\n",
    "# And a corresponding grid\n",
    "ax.grid(which='both')\n",
    "\n",
    "# Or if you want different settings for the grids:\n",
    "ax.grid(which='minor', alpha=0.01)\n",
    "ax.grid(which='major', alpha=0.3)\n",
    "\n",
    "#plt.savefig('/home/paw/DanielBustillos/contaminación/imagenes/o3_comparacion.png', bbox_inches='tight'\n",
    " #           , dpi=400)\n",
    "plt.legend()\n",
    "plt.show()"
   ]
  },
  {
   "cell_type": "markdown",
   "metadata": {},
   "source": [
    "El índice de este dataframe indica las horas,la columna contaminante junto con la columna valor da la correlación entre el PM10 y el contaminante indicado a la hora indicada. Por ejemplo la fila con índice `29` contaminante `UVA_14` y valor `-0.265479`, nos dice que la correlación del PM10 con los rayos UVA después de 14 horas es de `-0.265479`.\n",
    "\n",
    "La estructura de este dataframe es poco práctica para poder graficar y obtener un archivo csv con las correlaciones. Por ello se parte primero este dataframe en dos y se trabajará cada uno de manera distinta.\n",
    "\n",
    "El objetivo es tener un dataframe con columnas `horas`, `UVA`, `UVB`,..., `PM10` y que cada celda represente la correlación a la hora indicada.\n",
    "\n",
    "Primero separamos las primeras 16 filas de este dataframe en otro más pequeño. El resultante serán los valores de la correlación a la hora 0."
   ]
  },
  {
   "cell_type": "markdown",
   "metadata": {},
   "source": [
    "### Export"
   ]
  },
  {
   "cell_type": "raw",
   "metadata": {},
   "source": [
    "PM10_72.to_csv(\"./PM10mean_max_corr.csv\", sep=',', encoding='utf-8',index=False)"
   ]
  },
  {
   "cell_type": "raw",
   "metadata": {},
   "source": [
    "PM10_72.to_csv(\"./PM25mean_max_corr.csv\", sep=',', encoding='utf-8',index=False)"
   ]
  },
  {
   "cell_type": "code",
   "execution_count": 50,
   "metadata": {},
   "outputs": [],
   "source": [
    "PM10_72.to_csv(\"./O3_max_corr.csv\", sep=',', encoding='utf-8',index=False)"
   ]
  },
  {
   "cell_type": "code",
   "execution_count": null,
   "metadata": {},
   "outputs": [],
   "source": []
  }
 ],
 "metadata": {
  "kernelspec": {
   "display_name": "Python 3",
   "language": "python",
   "name": "python3"
  },
  "language_info": {
   "codemirror_mode": {
    "name": "ipython",
    "version": 3
   },
   "file_extension": ".py",
   "mimetype": "text/x-python",
   "name": "python",
   "nbconvert_exporter": "python",
   "pygments_lexer": "ipython3",
   "version": "3.7.3"
  }
 },
 "nbformat": 4,
 "nbformat_minor": 2
}
