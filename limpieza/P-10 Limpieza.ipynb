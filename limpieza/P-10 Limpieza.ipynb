{
 "cells": [
  {
   "cell_type": "markdown",
   "metadata": {},
   "source": [
    "# Limpieza: Predicción de la presencia altos niveles de PM10"
   ]
  },
  {
   "cell_type": "markdown",
   "metadata": {},
   "source": [
    "En este notebook vamos a tomar los datasets de contaminantes y metereología obtenidos de http://www.aire.cdmx.gob.mx/default.php\n",
    "\n",
    "Juntaremos los dataframes con una PivotTable y las agruparemos por el momento de la medición"
   ]
  },
  {
   "cell_type": "code",
   "execution_count": 1,
   "metadata": {},
   "outputs": [],
   "source": [
    "import numpy as np\n",
    "import matplotlib.pyplot as plt\n",
    "\n",
    "plt.style.use('fivethirtyeight')\n",
    "import pandas as pd\n",
    "import matplotlib\n",
    "import seaborn as sns\n",
    "\n",
    "from datetime import timedelta"
   ]
  },
  {
   "cell_type": "markdown",
   "metadata": {},
   "source": [
    "Definimos unas funciones para convertir las fechas de DD-MM-AAAA a AAAA-MM-DD y para convertir las horas 24:00 en 00:00:"
   ]
  },
  {
   "cell_type": "code",
   "execution_count": 2,
   "metadata": {},
   "outputs": [],
   "source": [
    "def time_converter(x):\n",
    "    x0 = x.split(\" \")[0]\n",
    "    x0 = x0.split(\"/\")\n",
    "    x1 = x.split(\" \")[1]\n",
    "    if x1[:].endswith(\"24:00\"):\n",
    "        return x0[2]+\"-\"+x0[1]+\"-\"+x0[0]+\" 00:00\"\n",
    "    else:\n",
    "        return x0[2]+\"-\"+x0[1]+\"-\"+x0[0]+\" \"+ x1[:]"
   ]
  },
  {
   "cell_type": "code",
   "execution_count": 3,
   "metadata": {},
   "outputs": [],
   "source": [
    "def time_converter_guion(x):\n",
    "    x0 = x.split(\" \")[0]\n",
    "    x0 = x0.split(\"-\")\n",
    "    x1 = x.split(\" \")[1]\n",
    "    if x1[:].endswith(\"24:00\"):\n",
    "        return x0[2]+\"-\"+x0[1]+\"-\"+x0[0]+\" 00:00\"\n",
    "    else:\n",
    "        return x0[2]+\"-\"+x0[1]+\"-\"+x0[0]+\" \"+ x1[:]"
   ]
  },
  {
   "cell_type": "code",
   "execution_count": 5,
   "metadata": {},
   "outputs": [],
   "source": [
    "def time_converter_date(x):\n",
    "    x0 = x.split(\"/\")\n",
    "    return x0[2]+\"-\"+x0[1]+\"-\"+x0[0]"
   ]
  },
  {
   "cell_type": "markdown",
   "metadata": {},
   "source": [
    "## Carga de los conjuntos de datos   <a class=\"anchor\" id=\"limpieza-bullet\"></a>"
   ]
  },
  {
   "cell_type": "markdown",
   "metadata": {},
   "source": [
    "Definamos el año a limpiar:"
   ]
  },
  {
   "cell_type": "code",
   "execution_count": 344,
   "metadata": {},
   "outputs": [],
   "source": [
    "a=\"2018\""
   ]
  },
  {
   "cell_type": "markdown",
   "metadata": {},
   "source": [
    "Cargamos los datos"
   ]
  },
  {
   "cell_type": "markdown",
   "metadata": {},
   "source": [
    "### Presión"
   ]
  },
  {
   "cell_type": "code",
   "execution_count": 345,
   "metadata": {},
   "outputs": [],
   "source": [
    "pre_2018 = pd.read_csv(str('/Users/danielbustillos/Documents/servicio/Contaminación PM10/presion/PA_' + a + \".csv\"),header=8)"
   ]
  },
  {
   "cell_type": "markdown",
   "metadata": {},
   "source": [
    "Eliminamos las entradas conn NAN y eliminamos la columna unit:"
   ]
  },
  {
   "cell_type": "code",
   "execution_count": 346,
   "metadata": {},
   "outputs": [],
   "source": [
    "pre_2018 = pre_2018.dropna(how='any') \n",
    "pre_2018 = pre_2018.drop(['unit'], axis=1)"
   ]
  },
  {
   "cell_type": "code",
   "execution_count": 347,
   "metadata": {},
   "outputs": [],
   "source": [
    "#pre_2018.head()"
   ]
  },
  {
   "cell_type": "markdown",
   "metadata": {},
   "source": [
    "### Metereología"
   ]
  },
  {
   "cell_type": "code",
   "execution_count": 348,
   "metadata": {},
   "outputs": [],
   "source": [
    "met_2018 = pd.read_csv(str('/Users/danielbustillos/Documents/servicio/Contaminación PM10/Metereología/meteorología_' + a + \".CSV\"),header=10)\n",
    "met_2018 = met_2018.dropna(how='any')\n",
    "met_2018 = met_2018.drop(['unit'], axis=1)"
   ]
  },
  {
   "cell_type": "code",
   "execution_count": 349,
   "metadata": {},
   "outputs": [],
   "source": [
    "#met_2018.head(20)"
   ]
  },
  {
   "cell_type": "markdown",
   "metadata": {},
   "source": [
    "### Contaminantes"
   ]
  },
  {
   "cell_type": "code",
   "execution_count": 350,
   "metadata": {},
   "outputs": [],
   "source": [
    "cont_2018 = pd.read_csv(str('/Users/danielbustillos/Documents/servicio/Contaminación PM10/Contaminantes/contaminantes_'+ a +'.CSV'),header=10)\n",
    "cont_2018 = cont_2018.dropna(how='any')\n",
    "cont_2018 = cont_2018.drop(['unit'], axis=1)"
   ]
  },
  {
   "cell_type": "code",
   "execution_count": 351,
   "metadata": {},
   "outputs": [],
   "source": [
    "#cont_2018.head(200)"
   ]
  },
  {
   "cell_type": "markdown",
   "metadata": {},
   "source": [
    "### Radiación UVA"
   ]
  },
  {
   "cell_type": "code",
   "execution_count": 352,
   "metadata": {},
   "outputs": [],
   "source": [
    "radA_2018 = pd.read_csv(str('/Users/danielbustillos/Documents/servicio/Contaminación PM10/UV/UVA/UVA_'+ a +'.csv'),header=8)\n",
    "radA_2018 = radA_2018.fillna(0)\n",
    "radA_2018 = radA_2018.drop(['unit'], axis=1)"
   ]
  },
  {
   "cell_type": "markdown",
   "metadata": {},
   "source": [
    "### Radiación UVB"
   ]
  },
  {
   "cell_type": "code",
   "execution_count": 353,
   "metadata": {},
   "outputs": [],
   "source": [
    "radB_2018 = pd.read_csv(str('/Users/danielbustillos/Documents/servicio/Contaminación PM10/UV/UVB/UVB_'+ a +'.csv'),header=8)\n",
    "radB_2018 = radB_2018.fillna(0)\n",
    "radB_2018 = radB_2018.drop(['unit'], axis=1)"
   ]
  },
  {
   "cell_type": "markdown",
   "metadata": {},
   "source": [
    "## Append Radiación"
   ]
  },
  {
   "cell_type": "markdown",
   "metadata": {},
   "source": [
    "Juntamos los df. de UVA y UVBm"
   ]
  },
  {
   "cell_type": "code",
   "execution_count": 354,
   "metadata": {},
   "outputs": [],
   "source": [
    "rad_2018 = radA_2018.append(radB_2018, ignore_index=True)"
   ]
  },
  {
   "cell_type": "markdown",
   "metadata": {},
   "source": [
    "## Precipitación"
   ]
  },
  {
   "cell_type": "code",
   "execution_count": 355,
   "metadata": {},
   "outputs": [],
   "source": [
    "prec_2018 = pd.read_excel(str('/Users/danielbustillos/Documents/servicio/Contaminación PM10/Precipitación/'+a+\"PPH.xls\"))"
   ]
  },
  {
   "cell_type": "markdown",
   "metadata": {},
   "source": [
    "Los valores vacíos vienen como -99, vamos a eliminarlos:"
   ]
  },
  {
   "cell_type": "code",
   "execution_count": 356,
   "metadata": {},
   "outputs": [],
   "source": [
    "prec_2018 = prec_2018.where(prec_2018.LOM != -99.00)"
   ]
  },
  {
   "cell_type": "code",
   "execution_count": 357,
   "metadata": {},
   "outputs": [],
   "source": [
    "prec_2018 = prec_2018.dropna()"
   ]
  },
  {
   "cell_type": "markdown",
   "metadata": {},
   "source": [
    "Renombramos algunas columnas:"
   ]
  },
  {
   "cell_type": "code",
   "execution_count": 358,
   "metadata": {},
   "outputs": [],
   "source": [
    "prec_2018 = prec_2018.rename(columns={'FECHA': 'fecha'})"
   ]
  },
  {
   "cell_type": "markdown",
   "metadata": {},
   "source": [
    "Transponemos el df:"
   ]
  },
  {
   "cell_type": "code",
   "execution_count": 359,
   "metadata": {},
   "outputs": [],
   "source": [
    "prec_2018 = pd.melt(prec_2018, id_vars=[\"fecha\"], \n",
    "                   var_name=\"id_station\",value_name=\"Precip\")"
   ]
  },
  {
   "cell_type": "code",
   "execution_count": 360,
   "metadata": {},
   "outputs": [],
   "source": [
    "prec_2018['fecha'] =  pd.to_datetime(prec_2018['fecha'], format='%Y-%m-%d %H:%M')"
   ]
  },
  {
   "cell_type": "markdown",
   "metadata": {},
   "source": [
    "# Limpieza paso a paso"
   ]
  },
  {
   "cell_type": "markdown",
   "metadata": {},
   "source": [
    "### Pres"
   ]
  },
  {
   "cell_type": "markdown",
   "metadata": {},
   "source": [
    "Nos quedamos con las columnas indicadas y reseteamos el index:"
   ]
  },
  {
   "cell_type": "code",
   "execution_count": 361,
   "metadata": {},
   "outputs": [],
   "source": [
    "pre_ACO = pre_2018\n",
    "pre_ACO = pre_ACO.reset_index(drop=False)\n",
    "pre_ACO = pre_ACO[[\"Date\",\"cve_station\",\"parameter\",\"value\"]]"
   ]
  },
  {
   "cell_type": "code",
   "execution_count": 362,
   "metadata": {},
   "outputs": [],
   "source": [
    "pre_ACO = pre_ACO.rename(columns={'Date': 'date', 'cve_station': 'id_station','parameter': 'id_parameter'})"
   ]
  },
  {
   "cell_type": "markdown",
   "metadata": {},
   "source": [
    "### Contaminantes"
   ]
  },
  {
   "cell_type": "code",
   "execution_count": 363,
   "metadata": {},
   "outputs": [],
   "source": [
    "cont_ACO = cont_2018\n",
    "#cont_ACO = cont_ACO[(cont_ACO[\"id_parameter\"] == \"PM10\")]\n",
    "cont_ACO = cont_ACO.reset_index(drop=False)\n",
    "cont_ACO = cont_ACO[[\"date\",\"id_station\",\"id_parameter\",\"value\"]]"
   ]
  },
  {
   "cell_type": "markdown",
   "metadata": {},
   "source": [
    "### Metereologia"
   ]
  },
  {
   "cell_type": "code",
   "execution_count": 364,
   "metadata": {},
   "outputs": [],
   "source": [
    "met_ACO = met_2018\n",
    "#cont_ACO = cont_ACO[(cont_ACO[\"id_parameter\"] == \"PM10\")]\n",
    "met_ACO = met_ACO.reset_index(drop=False)\n",
    "met_ACO = met_ACO[[\"date\",\"id_station\",\"id_parameter\",\"value\"]]"
   ]
  },
  {
   "cell_type": "markdown",
   "metadata": {},
   "source": [
    "### Radiación"
   ]
  },
  {
   "cell_type": "code",
   "execution_count": 365,
   "metadata": {},
   "outputs": [],
   "source": [
    "rad_2018 = rad_2018.rename(columns={'Date': 'date', 'cve_station': 'id_station','parameter': 'id_parameter'})"
   ]
  },
  {
   "cell_type": "code",
   "execution_count": 366,
   "metadata": {},
   "outputs": [],
   "source": [
    "rad_ACO = rad_2018\n",
    "#cont_ACO = cont_ACO[(cont_ACO[\"id_parameter\"] == \"PM10\")]\n",
    "rad_ACO = rad_ACO.reset_index(drop=False)\n",
    "rad_ACO = rad_ACO[[\"date\",\"id_station\",\"id_parameter\",\"value\"]]"
   ]
  },
  {
   "cell_type": "markdown",
   "metadata": {},
   "source": [
    "## Pivot_Table <a class=\"anchor\" id=\"pivot-bullet\"></a>"
   ]
  },
  {
   "cell_type": "markdown",
   "metadata": {},
   "source": [
    "### Pre"
   ]
  },
  {
   "cell_type": "markdown",
   "metadata": {},
   "source": [
    "Creamos la tabla dinámica o pivote:"
   ]
  },
  {
   "cell_type": "code",
   "execution_count": 367,
   "metadata": {},
   "outputs": [
    {
     "data": {
      "text/html": [
       "<div>\n",
       "<style scoped>\n",
       "    .dataframe tbody tr th:only-of-type {\n",
       "        vertical-align: middle;\n",
       "    }\n",
       "\n",
       "    .dataframe tbody tr th {\n",
       "        vertical-align: top;\n",
       "    }\n",
       "\n",
       "    .dataframe thead th {\n",
       "        text-align: right;\n",
       "    }\n",
       "</style>\n",
       "<table border=\"1\" class=\"dataframe\">\n",
       "  <thead>\n",
       "    <tr style=\"text-align: right;\">\n",
       "      <th>id_parameter</th>\n",
       "      <th>date</th>\n",
       "      <th>id_station</th>\n",
       "      <th>PA</th>\n",
       "    </tr>\n",
       "  </thead>\n",
       "  <tbody>\n",
       "    <tr>\n",
       "      <th>0</th>\n",
       "      <td>2016-01-01 01:00:00</td>\n",
       "      <td>AJM</td>\n",
       "      <td>561.0</td>\n",
       "    </tr>\n",
       "    <tr>\n",
       "      <th>1</th>\n",
       "      <td>2016-01-01 01:00:00</td>\n",
       "      <td>CUT</td>\n",
       "      <td>586.0</td>\n",
       "    </tr>\n",
       "    <tr>\n",
       "      <th>2</th>\n",
       "      <td>2016-01-01 01:00:00</td>\n",
       "      <td>HGM</td>\n",
       "      <td>586.0</td>\n",
       "    </tr>\n",
       "    <tr>\n",
       "      <th>3</th>\n",
       "      <td>2016-01-01 01:00:00</td>\n",
       "      <td>LAA</td>\n",
       "      <td>587.0</td>\n",
       "    </tr>\n",
       "    <tr>\n",
       "      <th>4</th>\n",
       "      <td>2016-01-01 01:00:00</td>\n",
       "      <td>TLA</td>\n",
       "      <td>584.0</td>\n",
       "    </tr>\n",
       "  </tbody>\n",
       "</table>\n",
       "</div>"
      ],
      "text/plain": [
       "id_parameter                date id_station     PA\n",
       "0            2016-01-01 01:00:00        AJM  561.0\n",
       "1            2016-01-01 01:00:00        CUT  586.0\n",
       "2            2016-01-01 01:00:00        HGM  586.0\n",
       "3            2016-01-01 01:00:00        LAA  587.0\n",
       "4            2016-01-01 01:00:00        TLA  584.0"
      ]
     },
     "execution_count": 367,
     "metadata": {},
     "output_type": "execute_result"
    }
   ],
   "source": [
    "pre_ACO_hour.head()"
   ]
  },
  {
   "cell_type": "code",
   "execution_count": 368,
   "metadata": {},
   "outputs": [],
   "source": [
    "pre_ACO_hour = pd.pivot_table(pre_ACO,index=[\"date\",\"id_station\"],columns=[\"id_parameter\"])"
   ]
  },
  {
   "cell_type": "markdown",
   "metadata": {},
   "source": [
    "Reseteamos el index para desacernos del multiindex:"
   ]
  },
  {
   "cell_type": "code",
   "execution_count": 369,
   "metadata": {},
   "outputs": [],
   "source": [
    "pre_ACO_hour = pre_ACO_hour.reset_index(drop=False)"
   ]
  },
  {
   "cell_type": "code",
   "execution_count": 370,
   "metadata": {},
   "outputs": [],
   "source": [
    "pre_ACO_hour.columns = pre_ACO_hour.columns.droplevel()"
   ]
  },
  {
   "cell_type": "markdown",
   "metadata": {},
   "source": [
    "Reefinimos las columnas:"
   ]
  },
  {
   "cell_type": "code",
   "execution_count": 371,
   "metadata": {},
   "outputs": [],
   "source": [
    "pre_ACO_hour[\"id_station\"] = pre_ACO_hour.iloc[:,1]\n",
    "pre_ACO_hour[\"date\"] = pre_ACO_hour.iloc[:,0]"
   ]
  },
  {
   "cell_type": "markdown",
   "metadata": {},
   "source": [
    "Nos deshacemos de las columnas sin nombre:"
   ]
  },
  {
   "cell_type": "code",
   "execution_count": 372,
   "metadata": {},
   "outputs": [],
   "source": [
    "pre_ACO_hour = pre_ACO_hour.drop([\"\"],axis=1)"
   ]
  },
  {
   "cell_type": "markdown",
   "metadata": {},
   "source": [
    "Aplicamos las funciones definidas al principio del documento:"
   ]
  },
  {
   "cell_type": "code",
   "execution_count": 373,
   "metadata": {},
   "outputs": [],
   "source": [
    "pre_ACO_hour['date'] = pre_ACO_hour.apply(lambda row: time_converter_guion(row['date']), axis=1) "
   ]
  },
  {
   "cell_type": "markdown",
   "metadata": {},
   "source": [
    "Convertimos lacolumna fecha en datetime:"
   ]
  },
  {
   "cell_type": "code",
   "execution_count": 374,
   "metadata": {},
   "outputs": [],
   "source": [
    "pre_ACO_hour['date'] =  pd.to_datetime(pre_ACO_hour['date'], format='%Y-%m-%d %H:%M')"
   ]
  },
  {
   "cell_type": "code",
   "execution_count": 375,
   "metadata": {},
   "outputs": [],
   "source": [
    "pre_ACO_hour = pre_ACO_hour[[ \"date\" ,\"id_station\",'PA']]"
   ]
  },
  {
   "cell_type": "code",
   "execution_count": 376,
   "metadata": {},
   "outputs": [],
   "source": [
    "#pre_ACO_hour = pre_ACO_hour.groupby([\"date\"]).mean().reset_index(drop=False)"
   ]
  },
  {
   "cell_type": "markdown",
   "metadata": {},
   "source": [
    "### Contaminantes"
   ]
  },
  {
   "cell_type": "code",
   "execution_count": 377,
   "metadata": {},
   "outputs": [],
   "source": [
    "cont_ACO_hour = pd.pivot_table(cont_ACO,index=[\"date\",\"id_station\"],columns=[\"id_parameter\"])\n",
    "cont_ACO_hour = cont_ACO_hour.reset_index(drop=False)\n",
    "cont_ACO_hour.columns = cont_ACO_hour.columns.droplevel()\n",
    "cont_ACO_hour[\"id_station\"] = cont_ACO_hour.iloc[:,1]\n",
    "cont_ACO_hour[\"date\"] = cont_ACO_hour.iloc[:,0]\n",
    "cont_ACO_hour = cont_ACO_hour.drop([\"\"],axis=1)\n",
    "cont_ACO_hour['date'] = cont_ACO_hour.apply(lambda row: time_converter(row['date']), axis=1) \n",
    "cont_ACO_hour['date'] =  pd.to_datetime(cont_ACO_hour['date'], format='%Y-%m-%d %H:%M')\n",
    "cont_ACO_hour = cont_ACO_hour[[ \"date\" ,\"id_station\",'CO', 'NO', 'NO2', 'NOX', 'O3', 'PM2.5', 'PMCO', 'SO2','PM10']]"
   ]
  },
  {
   "cell_type": "markdown",
   "metadata": {},
   "source": [
    "### Metereología"
   ]
  },
  {
   "cell_type": "code",
   "execution_count": 378,
   "metadata": {},
   "outputs": [],
   "source": [
    "met_ACO_hour = pd.pivot_table(met_ACO,index=[\"date\",\"id_station\"],columns=[\"id_parameter\"])\n",
    "met_ACO_hour = met_ACO_hour.reset_index(drop=False)\n",
    "met_ACO_hour.columns = met_ACO_hour.columns.droplevel()\n",
    "met_ACO_hour[\"id_station\"] = met_ACO_hour.iloc[:,1]\n",
    "met_ACO_hour[\"date\"] = met_ACO_hour.iloc[:,0]\n",
    "met_ACO_hour = met_ACO_hour.drop([\"\"],axis=1)\n",
    "met_ACO_hour['date'] = met_ACO_hour.apply(lambda row: time_converter(row['date']), axis=1) \n",
    "met_ACO_hour['date'] =  pd.to_datetime(met_ACO_hour['date'], format='%Y-%m-%d %H:%M')\n",
    "met_ACO_hour = met_ACO_hour[[\"date\",\"id_station\",\"RH\",\"TMP\",\"WSP\",\"WDR\"]]"
   ]
  },
  {
   "cell_type": "markdown",
   "metadata": {},
   "source": [
    "### Radiación"
   ]
  },
  {
   "cell_type": "code",
   "execution_count": 379,
   "metadata": {},
   "outputs": [],
   "source": [
    "rad_ACO = pd.pivot_table(rad_ACO,index=[\"date\",\"id_station\"],columns=[\"id_parameter\"])\n",
    "rad_ACO = rad_ACO.reset_index(drop=False)\n",
    "rad_ACO.columns = rad_ACO.columns.droplevel()\n",
    "rad_ACO[\"id_station\"] = rad_ACO.iloc[:,1]\n",
    "rad_ACO[\"date\"] = rad_ACO.iloc[:,0]\n",
    "rad_ACO = rad_ACO.drop([\"\"],axis=1)\n",
    "rad_ACO['date'] = rad_ACO.apply(lambda row: time_converter_guion(row['date']), axis=1)\n",
    "rad_ACO['date'] =  pd.to_datetime(rad_ACO['date'], format='%Y-%m-%d %H:%M')\n",
    "rad_ACO = rad_ACO[[ \"date\",\"id_station\",'UVA',\"UVB\"]]\n",
    "rad_ACO = rad_ACO.dropna(how='any')"
   ]
  },
  {
   "cell_type": "markdown",
   "metadata": {},
   "source": [
    "# Merge de Dataframes   <a class=\"anchor\" id=\"merge-bullet\"></a>"
   ]
  },
  {
   "cell_type": "markdown",
   "metadata": {},
   "source": [
    "Por hora: no es posible añadir precipitación ya que de origen viene por día."
   ]
  },
  {
   "cell_type": "markdown",
   "metadata": {},
   "source": [
    "Juntamos los dataframes:"
   ]
  },
  {
   "cell_type": "code",
   "execution_count": 380,
   "metadata": {},
   "outputs": [
    {
     "data": {
      "text/plain": [
       "array(['AJM', 'ATI', 'BJU', 'CAM', 'CCA', 'CHO', 'COY', 'CUA', 'CUT',\n",
       "       'FAC', 'GAM', 'INN', 'IZT', 'LLA', 'LPR', 'MER', 'MGH', 'NEZ',\n",
       "       'PED', 'SAG', 'SFE', 'SJA', 'TAH', 'TLA', 'TLI', 'UAX', 'UIZ',\n",
       "       'VIF', 'XAL', 'HGM', 'ACO', 'AJU', 'MPA', 'MON'], dtype=object)"
      ]
     },
     "execution_count": 380,
     "metadata": {},
     "output_type": "execute_result"
    }
   ],
   "source": [
    "pd.merge(cont_ACO_hour, met_ACO_hour, on=[\"date\",\"id_station\"],how=\"outer\").id_station.unique()"
   ]
  },
  {
   "cell_type": "code",
   "execution_count": 381,
   "metadata": {},
   "outputs": [],
   "source": [
    "data_hour_merge = pd.merge(cont_ACO_hour, met_ACO_hour, on=[\"date\",\"id_station\"],how=\"outer\")"
   ]
  },
  {
   "cell_type": "code",
   "execution_count": 382,
   "metadata": {},
   "outputs": [],
   "source": [
    "data_hour_merge = pd.merge(data_hour_merge, pre_ACO_hour, on=[\"date\",\"id_station\"],how=\"outer\")"
   ]
  },
  {
   "cell_type": "code",
   "execution_count": 383,
   "metadata": {},
   "outputs": [],
   "source": [
    "data_hour_merge = pd.merge(data_hour_merge, rad_ACO, on=[\"date\",\"id_station\"],how=\"outer\")"
   ]
  },
  {
   "cell_type": "markdown",
   "metadata": {},
   "source": [
    "Eliminamos los NAN:"
   ]
  },
  {
   "cell_type": "code",
   "execution_count": 384,
   "metadata": {},
   "outputs": [],
   "source": [
    "#data_hour_merge = data_hour_merge.dropna(how='any')"
   ]
  },
  {
   "cell_type": "markdown",
   "metadata": {},
   "source": [
    "Definimos las columnas hora, dia, mes"
   ]
  },
  {
   "cell_type": "code",
   "execution_count": 385,
   "metadata": {},
   "outputs": [],
   "source": [
    "data_hour_merge[\"hora\"] = pd.DatetimeIndex(data_hour_merge['date']).hour\n",
    "data_hour_merge[\"dia\"] = pd.DatetimeIndex(data_hour_merge['date']).day\n",
    "data_hour_merge[\"mes\"]= pd.DatetimeIndex(data_hour_merge['date']).month"
   ]
  },
  {
   "cell_type": "markdown",
   "metadata": {},
   "source": [
    "Cambiamos el nombre de date a fecha:"
   ]
  },
  {
   "cell_type": "code",
   "execution_count": 386,
   "metadata": {},
   "outputs": [],
   "source": [
    "data_hour_merge = data_hour_merge.rename(columns={'date': 'fecha'})"
   ]
  },
  {
   "cell_type": "code",
   "execution_count": 387,
   "metadata": {},
   "outputs": [
    {
     "data": {
      "text/html": [
       "<div>\n",
       "<style scoped>\n",
       "    .dataframe tbody tr th:only-of-type {\n",
       "        vertical-align: middle;\n",
       "    }\n",
       "\n",
       "    .dataframe tbody tr th {\n",
       "        vertical-align: top;\n",
       "    }\n",
       "\n",
       "    .dataframe thead th {\n",
       "        text-align: right;\n",
       "    }\n",
       "</style>\n",
       "<table border=\"1\" class=\"dataframe\">\n",
       "  <thead>\n",
       "    <tr style=\"text-align: right;\">\n",
       "      <th>id_parameter</th>\n",
       "      <th>fecha</th>\n",
       "      <th>id_station</th>\n",
       "      <th>CO</th>\n",
       "      <th>NO</th>\n",
       "      <th>NO2</th>\n",
       "      <th>NOX</th>\n",
       "      <th>O3</th>\n",
       "      <th>PM2.5</th>\n",
       "      <th>PMCO</th>\n",
       "      <th>SO2</th>\n",
       "      <th>...</th>\n",
       "      <th>RH</th>\n",
       "      <th>TMP</th>\n",
       "      <th>WSP</th>\n",
       "      <th>WDR</th>\n",
       "      <th>PA</th>\n",
       "      <th>UVA</th>\n",
       "      <th>UVB</th>\n",
       "      <th>hora</th>\n",
       "      <th>dia</th>\n",
       "      <th>mes</th>\n",
       "    </tr>\n",
       "  </thead>\n",
       "  <tbody>\n",
       "    <tr>\n",
       "      <th>0</th>\n",
       "      <td>2017-01-01 01:00:00</td>\n",
       "      <td>AJM</td>\n",
       "      <td>0.5</td>\n",
       "      <td>0.0</td>\n",
       "      <td>11.0</td>\n",
       "      <td>11.0</td>\n",
       "      <td>30.0</td>\n",
       "      <td>23.0</td>\n",
       "      <td>10.0</td>\n",
       "      <td>1.0</td>\n",
       "      <td>...</td>\n",
       "      <td>64.0</td>\n",
       "      <td>12.3</td>\n",
       "      <td>3.0</td>\n",
       "      <td>207.0</td>\n",
       "      <td>560.0</td>\n",
       "      <td>NaN</td>\n",
       "      <td>NaN</td>\n",
       "      <td>1</td>\n",
       "      <td>1</td>\n",
       "      <td>1</td>\n",
       "    </tr>\n",
       "    <tr>\n",
       "      <th>1</th>\n",
       "      <td>2017-01-01 01:00:00</td>\n",
       "      <td>ATI</td>\n",
       "      <td>0.8</td>\n",
       "      <td>NaN</td>\n",
       "      <td>NaN</td>\n",
       "      <td>NaN</td>\n",
       "      <td>8.0</td>\n",
       "      <td>NaN</td>\n",
       "      <td>NaN</td>\n",
       "      <td>2.0</td>\n",
       "      <td>...</td>\n",
       "      <td>NaN</td>\n",
       "      <td>NaN</td>\n",
       "      <td>NaN</td>\n",
       "      <td>NaN</td>\n",
       "      <td>NaN</td>\n",
       "      <td>NaN</td>\n",
       "      <td>NaN</td>\n",
       "      <td>1</td>\n",
       "      <td>1</td>\n",
       "      <td>1</td>\n",
       "    </tr>\n",
       "    <tr>\n",
       "      <th>2</th>\n",
       "      <td>2017-01-01 01:00:00</td>\n",
       "      <td>BJU</td>\n",
       "      <td>1.0</td>\n",
       "      <td>NaN</td>\n",
       "      <td>NaN</td>\n",
       "      <td>NaN</td>\n",
       "      <td>2.0</td>\n",
       "      <td>40.0</td>\n",
       "      <td>11.0</td>\n",
       "      <td>NaN</td>\n",
       "      <td>...</td>\n",
       "      <td>64.0</td>\n",
       "      <td>13.5</td>\n",
       "      <td>0.7</td>\n",
       "      <td>226.0</td>\n",
       "      <td>NaN</td>\n",
       "      <td>NaN</td>\n",
       "      <td>NaN</td>\n",
       "      <td>1</td>\n",
       "      <td>1</td>\n",
       "      <td>1</td>\n",
       "    </tr>\n",
       "    <tr>\n",
       "      <th>3</th>\n",
       "      <td>2017-01-01 01:00:00</td>\n",
       "      <td>CAM</td>\n",
       "      <td>0.8</td>\n",
       "      <td>1.0</td>\n",
       "      <td>27.0</td>\n",
       "      <td>28.0</td>\n",
       "      <td>12.0</td>\n",
       "      <td>57.0</td>\n",
       "      <td>23.0</td>\n",
       "      <td>3.0</td>\n",
       "      <td>...</td>\n",
       "      <td>NaN</td>\n",
       "      <td>NaN</td>\n",
       "      <td>NaN</td>\n",
       "      <td>NaN</td>\n",
       "      <td>NaN</td>\n",
       "      <td>NaN</td>\n",
       "      <td>NaN</td>\n",
       "      <td>1</td>\n",
       "      <td>1</td>\n",
       "      <td>1</td>\n",
       "    </tr>\n",
       "    <tr>\n",
       "      <th>4</th>\n",
       "      <td>2017-01-01 01:00:00</td>\n",
       "      <td>CCA</td>\n",
       "      <td>0.8</td>\n",
       "      <td>1.0</td>\n",
       "      <td>25.0</td>\n",
       "      <td>26.0</td>\n",
       "      <td>8.0</td>\n",
       "      <td>50.0</td>\n",
       "      <td>NaN</td>\n",
       "      <td>1.0</td>\n",
       "      <td>...</td>\n",
       "      <td>NaN</td>\n",
       "      <td>NaN</td>\n",
       "      <td>NaN</td>\n",
       "      <td>NaN</td>\n",
       "      <td>NaN</td>\n",
       "      <td>NaN</td>\n",
       "      <td>NaN</td>\n",
       "      <td>1</td>\n",
       "      <td>1</td>\n",
       "      <td>1</td>\n",
       "    </tr>\n",
       "  </tbody>\n",
       "</table>\n",
       "<p>5 rows × 21 columns</p>\n",
       "</div>"
      ],
      "text/plain": [
       "id_parameter               fecha id_station   CO   NO   NO2   NOX    O3  \\\n",
       "0            2017-01-01 01:00:00        AJM  0.5  0.0  11.0  11.0  30.0   \n",
       "1            2017-01-01 01:00:00        ATI  0.8  NaN   NaN   NaN   8.0   \n",
       "2            2017-01-01 01:00:00        BJU  1.0  NaN   NaN   NaN   2.0   \n",
       "3            2017-01-01 01:00:00        CAM  0.8  1.0  27.0  28.0  12.0   \n",
       "4            2017-01-01 01:00:00        CCA  0.8  1.0  25.0  26.0   8.0   \n",
       "\n",
       "id_parameter  PM2.5  PMCO  SO2 ...     RH   TMP  WSP    WDR     PA  UVA  UVB  \\\n",
       "0              23.0  10.0  1.0 ...   64.0  12.3  3.0  207.0  560.0  NaN  NaN   \n",
       "1               NaN   NaN  2.0 ...    NaN   NaN  NaN    NaN    NaN  NaN  NaN   \n",
       "2              40.0  11.0  NaN ...   64.0  13.5  0.7  226.0    NaN  NaN  NaN   \n",
       "3              57.0  23.0  3.0 ...    NaN   NaN  NaN    NaN    NaN  NaN  NaN   \n",
       "4              50.0   NaN  1.0 ...    NaN   NaN  NaN    NaN    NaN  NaN  NaN   \n",
       "\n",
       "id_parameter  hora  dia  mes  \n",
       "0                1    1    1  \n",
       "1                1    1    1  \n",
       "2                1    1    1  \n",
       "3                1    1    1  \n",
       "4                1    1    1  \n",
       "\n",
       "[5 rows x 21 columns]"
      ]
     },
     "execution_count": 387,
     "metadata": {},
     "output_type": "execute_result"
    }
   ],
   "source": [
    "data_hour_merge.head()"
   ]
  },
  {
   "cell_type": "code",
   "execution_count": 388,
   "metadata": {},
   "outputs": [],
   "source": [
    "data_hour_merge = data_hour_merge[[\"fecha\",'hora',\"dia\", 'mes', 'id_station','UVA',\"UVB\", \"PA\",'CO', 'NO', 'NO2', 'NOX', 'O3',\n",
    "       'PM2.5', 'PMCO', 'SO2', 'RH', 'TMP', 'WSP', 'WDR', 'PM10']]"
   ]
  },
  {
   "cell_type": "markdown",
   "metadata": {},
   "source": [
    "Exportamos:"
   ]
  },
  {
   "cell_type": "code",
   "execution_count": 389,
   "metadata": {},
   "outputs": [
    {
     "data": {
      "text/html": [
       "<div>\n",
       "<style scoped>\n",
       "    .dataframe tbody tr th:only-of-type {\n",
       "        vertical-align: middle;\n",
       "    }\n",
       "\n",
       "    .dataframe tbody tr th {\n",
       "        vertical-align: top;\n",
       "    }\n",
       "\n",
       "    .dataframe thead th {\n",
       "        text-align: right;\n",
       "    }\n",
       "</style>\n",
       "<table border=\"1\" class=\"dataframe\">\n",
       "  <thead>\n",
       "    <tr style=\"text-align: right;\">\n",
       "      <th>id_parameter</th>\n",
       "      <th>fecha</th>\n",
       "      <th>hora</th>\n",
       "      <th>dia</th>\n",
       "      <th>mes</th>\n",
       "      <th>id_station</th>\n",
       "      <th>UVA</th>\n",
       "      <th>UVB</th>\n",
       "      <th>PA</th>\n",
       "      <th>CO</th>\n",
       "      <th>NO</th>\n",
       "      <th>...</th>\n",
       "      <th>NOX</th>\n",
       "      <th>O3</th>\n",
       "      <th>PM2.5</th>\n",
       "      <th>PMCO</th>\n",
       "      <th>SO2</th>\n",
       "      <th>RH</th>\n",
       "      <th>TMP</th>\n",
       "      <th>WSP</th>\n",
       "      <th>WDR</th>\n",
       "      <th>PM10</th>\n",
       "    </tr>\n",
       "  </thead>\n",
       "  <tbody>\n",
       "    <tr>\n",
       "      <th>0</th>\n",
       "      <td>2017-01-01 01:00:00</td>\n",
       "      <td>1</td>\n",
       "      <td>1</td>\n",
       "      <td>1</td>\n",
       "      <td>AJM</td>\n",
       "      <td>NaN</td>\n",
       "      <td>NaN</td>\n",
       "      <td>560.0</td>\n",
       "      <td>0.5</td>\n",
       "      <td>0.0</td>\n",
       "      <td>...</td>\n",
       "      <td>11.0</td>\n",
       "      <td>30.0</td>\n",
       "      <td>23.0</td>\n",
       "      <td>10.0</td>\n",
       "      <td>1.0</td>\n",
       "      <td>64.0</td>\n",
       "      <td>12.3</td>\n",
       "      <td>3.0</td>\n",
       "      <td>207.0</td>\n",
       "      <td>33.0</td>\n",
       "    </tr>\n",
       "    <tr>\n",
       "      <th>1</th>\n",
       "      <td>2017-01-01 01:00:00</td>\n",
       "      <td>1</td>\n",
       "      <td>1</td>\n",
       "      <td>1</td>\n",
       "      <td>ATI</td>\n",
       "      <td>NaN</td>\n",
       "      <td>NaN</td>\n",
       "      <td>NaN</td>\n",
       "      <td>0.8</td>\n",
       "      <td>NaN</td>\n",
       "      <td>...</td>\n",
       "      <td>NaN</td>\n",
       "      <td>8.0</td>\n",
       "      <td>NaN</td>\n",
       "      <td>NaN</td>\n",
       "      <td>2.0</td>\n",
       "      <td>NaN</td>\n",
       "      <td>NaN</td>\n",
       "      <td>NaN</td>\n",
       "      <td>NaN</td>\n",
       "      <td>NaN</td>\n",
       "    </tr>\n",
       "    <tr>\n",
       "      <th>2</th>\n",
       "      <td>2017-01-01 01:00:00</td>\n",
       "      <td>1</td>\n",
       "      <td>1</td>\n",
       "      <td>1</td>\n",
       "      <td>BJU</td>\n",
       "      <td>NaN</td>\n",
       "      <td>NaN</td>\n",
       "      <td>NaN</td>\n",
       "      <td>1.0</td>\n",
       "      <td>NaN</td>\n",
       "      <td>...</td>\n",
       "      <td>NaN</td>\n",
       "      <td>2.0</td>\n",
       "      <td>40.0</td>\n",
       "      <td>11.0</td>\n",
       "      <td>NaN</td>\n",
       "      <td>64.0</td>\n",
       "      <td>13.5</td>\n",
       "      <td>0.7</td>\n",
       "      <td>226.0</td>\n",
       "      <td>51.0</td>\n",
       "    </tr>\n",
       "    <tr>\n",
       "      <th>3</th>\n",
       "      <td>2017-01-01 01:00:00</td>\n",
       "      <td>1</td>\n",
       "      <td>1</td>\n",
       "      <td>1</td>\n",
       "      <td>CAM</td>\n",
       "      <td>NaN</td>\n",
       "      <td>NaN</td>\n",
       "      <td>NaN</td>\n",
       "      <td>0.8</td>\n",
       "      <td>1.0</td>\n",
       "      <td>...</td>\n",
       "      <td>28.0</td>\n",
       "      <td>12.0</td>\n",
       "      <td>57.0</td>\n",
       "      <td>23.0</td>\n",
       "      <td>3.0</td>\n",
       "      <td>NaN</td>\n",
       "      <td>NaN</td>\n",
       "      <td>NaN</td>\n",
       "      <td>NaN</td>\n",
       "      <td>80.0</td>\n",
       "    </tr>\n",
       "    <tr>\n",
       "      <th>4</th>\n",
       "      <td>2017-01-01 01:00:00</td>\n",
       "      <td>1</td>\n",
       "      <td>1</td>\n",
       "      <td>1</td>\n",
       "      <td>CCA</td>\n",
       "      <td>NaN</td>\n",
       "      <td>NaN</td>\n",
       "      <td>NaN</td>\n",
       "      <td>0.8</td>\n",
       "      <td>1.0</td>\n",
       "      <td>...</td>\n",
       "      <td>26.0</td>\n",
       "      <td>8.0</td>\n",
       "      <td>50.0</td>\n",
       "      <td>NaN</td>\n",
       "      <td>1.0</td>\n",
       "      <td>NaN</td>\n",
       "      <td>NaN</td>\n",
       "      <td>NaN</td>\n",
       "      <td>NaN</td>\n",
       "      <td>NaN</td>\n",
       "    </tr>\n",
       "  </tbody>\n",
       "</table>\n",
       "<p>5 rows × 21 columns</p>\n",
       "</div>"
      ],
      "text/plain": [
       "id_parameter               fecha  hora  dia  mes id_station  UVA  UVB     PA  \\\n",
       "0            2017-01-01 01:00:00     1    1    1        AJM  NaN  NaN  560.0   \n",
       "1            2017-01-01 01:00:00     1    1    1        ATI  NaN  NaN    NaN   \n",
       "2            2017-01-01 01:00:00     1    1    1        BJU  NaN  NaN    NaN   \n",
       "3            2017-01-01 01:00:00     1    1    1        CAM  NaN  NaN    NaN   \n",
       "4            2017-01-01 01:00:00     1    1    1        CCA  NaN  NaN    NaN   \n",
       "\n",
       "id_parameter   CO   NO  ...    NOX    O3  PM2.5  PMCO  SO2    RH   TMP  WSP  \\\n",
       "0             0.5  0.0  ...   11.0  30.0   23.0  10.0  1.0  64.0  12.3  3.0   \n",
       "1             0.8  NaN  ...    NaN   8.0    NaN   NaN  2.0   NaN   NaN  NaN   \n",
       "2             1.0  NaN  ...    NaN   2.0   40.0  11.0  NaN  64.0  13.5  0.7   \n",
       "3             0.8  1.0  ...   28.0  12.0   57.0  23.0  3.0   NaN   NaN  NaN   \n",
       "4             0.8  1.0  ...   26.0   8.0   50.0   NaN  1.0   NaN   NaN  NaN   \n",
       "\n",
       "id_parameter    WDR  PM10  \n",
       "0             207.0  33.0  \n",
       "1               NaN   NaN  \n",
       "2             226.0  51.0  \n",
       "3               NaN  80.0  \n",
       "4               NaN   NaN  \n",
       "\n",
       "[5 rows x 21 columns]"
      ]
     },
     "execution_count": 389,
     "metadata": {},
     "output_type": "execute_result"
    }
   ],
   "source": [
    "data_hour_merge.head()"
   ]
  },
  {
   "cell_type": "code",
   "execution_count": 390,
   "metadata": {},
   "outputs": [],
   "source": [
    "data_hour_merge.to_csv(str(\"/Users/danielbustillos/Documents/servicio/Contaminación PM10/Outputs/por_hora/cont_hora\" + a + \".csv\"))"
   ]
  },
  {
   "cell_type": "markdown",
   "metadata": {},
   "source": [
    "## Promedio Por día"
   ]
  },
  {
   "cell_type": "raw",
   "metadata": {},
   "source": [
    "data_day_avg = data_hour_merge"
   ]
  },
  {
   "cell_type": "raw",
   "metadata": {},
   "source": [
    "data_day_avg['fecha'] = data_hour_merge['fecha'].astype(str).str[0:10]"
   ]
  },
  {
   "cell_type": "raw",
   "metadata": {},
   "source": [
    "data_day_avg = data_day_avg.groupby(['fecha'])[ 'UVA', 'UVB', 'PA', 'CO',\n",
    "       'NO', 'NO2', 'NOX', 'O3', 'PM2.5', 'PMCO', 'SO2', 'RH', 'TMP', 'WSP',\n",
    "       'WDR', 'PM10'].mean()"
   ]
  },
  {
   "cell_type": "raw",
   "metadata": {},
   "source": [
    "data_day_avg = data_day_avg.reset_index(drop=False)"
   ]
  },
  {
   "cell_type": "raw",
   "metadata": {},
   "source": [
    "data_day_avg['fecha'] =  pd.to_datetime(data_day_avg['fecha'], format='%Y-%m-%d %H:%M')"
   ]
  },
  {
   "cell_type": "raw",
   "metadata": {},
   "source": [
    "prec_2018 = prec_2018.drop([\"id_station\"],axis=1)"
   ]
  },
  {
   "cell_type": "raw",
   "metadata": {},
   "source": [
    "data_day_avg = pd.merge(data_day_avg, prec_2018, on=[\"fecha\"],  how='left')"
   ]
  },
  {
   "cell_type": "raw",
   "metadata": {},
   "source": [
    "data_day_avg = data_day_avg.fillna(0)"
   ]
  },
  {
   "cell_type": "raw",
   "metadata": {},
   "source": [
    "data_day_avg.head()"
   ]
  },
  {
   "cell_type": "raw",
   "metadata": {},
   "source": [
    "data_day_avg.to_csv(str(\"/Users/danielbustillos/Documents/servicio/Contaminación PM10/Outputs/por_dia/cont_dia\" + a + \".csv\"))"
   ]
  },
  {
   "cell_type": "code",
   "execution_count": null,
   "metadata": {},
   "outputs": [],
   "source": []
  }
 ],
 "metadata": {
  "kernelspec": {
   "display_name": "Python 3",
   "language": "python",
   "name": "python3"
  },
  "language_info": {
   "codemirror_mode": {
    "name": "ipython",
    "version": 3
   },
   "file_extension": ".py",
   "mimetype": "text/x-python",
   "name": "python",
   "nbconvert_exporter": "python",
   "pygments_lexer": "ipython3",
   "version": "3.7.1"
  }
 },
 "nbformat": 4,
 "nbformat_minor": 2
}
