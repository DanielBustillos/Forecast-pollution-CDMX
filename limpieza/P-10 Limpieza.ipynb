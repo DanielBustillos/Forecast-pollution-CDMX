{
 "cells": [
  {
   "cell_type": "markdown",
   "metadata": {},
   "source": [
    "# Limpieza: Predicción de la presencia altos niveles de PM10"
   ]
  },
  {
   "cell_type": "markdown",
   "metadata": {},
   "source": [
    "En este notebook vamos a tomar los datasets de contaminantes y metereología obtenidos de http://www.aire.cdmx.gob.mx/default.php\n",
    "\n",
    "Juntaremos los dataframes con una PivotTable y las agruparemos por el momento de la medición"
   ]
  },
  {
   "cell_type": "code",
   "execution_count": 1,
   "metadata": {},
   "outputs": [],
   "source": [
    "import numpy as np\n",
    "import matplotlib.pyplot as plt\n",
    "\n",
    "plt.style.use('fivethirtyeight')\n",
    "import pandas as pd\n",
    "import matplotlib\n",
    "import seaborn as sns\n",
    "\n",
    "from datetime import timedelta"
   ]
  },
  {
   "cell_type": "markdown",
   "metadata": {},
   "source": [
    "Definimos unas funciones para convertir las fechas de DD-MM-AAAA a AAAA-MM-DD y para convertir las horas 24:00 en 00:00:"
   ]
  },
  {
   "cell_type": "code",
   "execution_count": 2,
   "metadata": {},
   "outputs": [],
   "source": [
    "def time_converter(x):\n",
    "    x0 = x.split(\" \")[0]\n",
    "    x0 = x0.split(\"/\")\n",
    "    x1 = x.split(\" \")[1]\n",
    "    if x1[:].endswith(\"24:00\"):\n",
    "        return x0[2]+\"-\"+x0[1]+\"-\"+x0[0]+\" 00:00\"\n",
    "    else:\n",
    "        return x0[2]+\"-\"+x0[1]+\"-\"+x0[0]+\" \"+ x1[:]"
   ]
  },
  {
   "cell_type": "code",
   "execution_count": 3,
   "metadata": {},
   "outputs": [],
   "source": [
    "def time_converter_guion(x):\n",
    "    x0 = x.split(\" \")[0]\n",
    "    x0 = x0.split(\"-\")\n",
    "    x1 = x.split(\" \")[1]\n",
    "    if x1[:].endswith(\"24:00\"):\n",
    "        return x0[2]+\"-\"+x0[1]+\"-\"+x0[0]+\" 00:00\"\n",
    "    else:\n",
    "        return x0[2]+\"-\"+x0[1]+\"-\"+x0[0]+\" \"+ x1[:]"
   ]
  },
  {
   "cell_type": "code",
   "execution_count": 4,
   "metadata": {},
   "outputs": [],
   "source": [
    "def time_converter_date(x):\n",
    "    x0 = x.split(\"/\")\n",
    "    return x0[2]+\"-\"+x0[1]+\"-\"+x0[0]"
   ]
  },
  {
   "cell_type": "markdown",
   "metadata": {},
   "source": [
    "## Carga de los conjuntos de datos   <a class=\"anchor\" id=\"limpieza-bullet\"></a>"
   ]
  },
  {
   "cell_type": "markdown",
   "metadata": {},
   "source": [
    "Definamos el año a limpiar:"
   ]
  },
  {
   "cell_type": "code",
   "execution_count": 675,
   "metadata": {},
   "outputs": [],
   "source": [
    "a=\"2013\""
   ]
  },
  {
   "cell_type": "markdown",
   "metadata": {},
   "source": [
    "Cargamos los datos"
   ]
  },
  {
   "cell_type": "markdown",
   "metadata": {},
   "source": [
    "### Presión"
   ]
  },
  {
   "cell_type": "code",
   "execution_count": 676,
   "metadata": {},
   "outputs": [],
   "source": [
    "pre_2018 = pd.read_csv(str('/Users/danielbustillos/Documents/servicio/Contaminación PM10/presion/PA_' + a + \".csv\"),header=8)"
   ]
  },
  {
   "cell_type": "markdown",
   "metadata": {},
   "source": [
    "Eliminamos las entradas conn NAN y eliminamos la columna unit:"
   ]
  },
  {
   "cell_type": "code",
   "execution_count": 677,
   "metadata": {},
   "outputs": [],
   "source": [
    "pre_2018 = pre_2018.dropna(how='any') \n",
    "pre_2018 = pre_2018.drop(['unit'], axis=1)"
   ]
  },
  {
   "cell_type": "markdown",
   "metadata": {},
   "source": [
    "### Metereología"
   ]
  },
  {
   "cell_type": "code",
   "execution_count": 678,
   "metadata": {},
   "outputs": [],
   "source": [
    "met_2018 = pd.read_csv(str('/Users/danielbustillos/Documents/servicio/Contaminación PM10/Metereología/meteorología_' + a + \".CSV\"),header=10)\n",
    "met_2018 = met_2018.dropna(how='any')\n",
    "met_2018 = met_2018.drop(['unit'], axis=1)"
   ]
  },
  {
   "cell_type": "markdown",
   "metadata": {},
   "source": [
    "### Contaminantes"
   ]
  },
  {
   "cell_type": "code",
   "execution_count": 679,
   "metadata": {},
   "outputs": [],
   "source": [
    "cont_2018 = pd.read_csv(str('/Users/danielbustillos/Documents/servicio/Contaminación PM10/Contaminantes/contaminantes_'+ a +'.CSV'),header=10)\n",
    "cont_2018 = cont_2018.dropna(how='any')\n",
    "cont_2018 = cont_2018.drop(['unit'], axis=1)"
   ]
  },
  {
   "cell_type": "markdown",
   "metadata": {},
   "source": [
    "### Radiación UVA"
   ]
  },
  {
   "cell_type": "code",
   "execution_count": 680,
   "metadata": {},
   "outputs": [],
   "source": [
    "radA_2018 = pd.read_csv(str('/Users/danielbustillos/Documents/servicio/Contaminación PM10/UV/UVA/UVA_'+ a +'.csv'),header=8)\n",
    "radA_2018 = radA_2018.fillna(0)\n",
    "radA_2018 = radA_2018.drop(['unit'], axis=1)"
   ]
  },
  {
   "cell_type": "markdown",
   "metadata": {},
   "source": [
    "### Radiación UVB"
   ]
  },
  {
   "cell_type": "code",
   "execution_count": 681,
   "metadata": {},
   "outputs": [],
   "source": [
    "radB_2018 = pd.read_csv(str('/Users/danielbustillos/Documents/servicio/Contaminación PM10/UV/UVB/UVB_'+ a +'.csv'),header=8)\n",
    "radB_2018 = radB_2018.fillna(0)\n",
    "radB_2018 = radB_2018.drop(['unit'], axis=1)"
   ]
  },
  {
   "cell_type": "markdown",
   "metadata": {},
   "source": [
    "## Append Radiación"
   ]
  },
  {
   "cell_type": "markdown",
   "metadata": {},
   "source": [
    "Juntamos los df. de UVA y UVBm"
   ]
  },
  {
   "cell_type": "code",
   "execution_count": 682,
   "metadata": {},
   "outputs": [],
   "source": [
    "rad_2018 = radA_2018.append(radB_2018, ignore_index=True)"
   ]
  },
  {
   "cell_type": "markdown",
   "metadata": {},
   "source": [
    "## Precipitación"
   ]
  },
  {
   "cell_type": "code",
   "execution_count": 683,
   "metadata": {},
   "outputs": [],
   "source": [
    "prec_2018 = pd.read_excel(str('/Users/danielbustillos/Documents/servicio/Contaminación PM10/Precipitación/'+a+\"PPH.xls\"))"
   ]
  },
  {
   "cell_type": "markdown",
   "metadata": {},
   "source": [
    "Los valores vacíos vienen como -99, vamos a eliminarlos:"
   ]
  },
  {
   "cell_type": "code",
   "execution_count": 684,
   "metadata": {},
   "outputs": [],
   "source": [
    "prec_2018 = prec_2018.where(prec_2018.LOM != -99.00)"
   ]
  },
  {
   "cell_type": "code",
   "execution_count": 685,
   "metadata": {},
   "outputs": [],
   "source": [
    "prec_2018 = prec_2018.dropna()"
   ]
  },
  {
   "cell_type": "markdown",
   "metadata": {},
   "source": [
    "Renombramos algunas columnas:"
   ]
  },
  {
   "cell_type": "code",
   "execution_count": 686,
   "metadata": {},
   "outputs": [],
   "source": [
    "prec_2018 = prec_2018.rename(columns={'FECHA': 'fecha'})"
   ]
  },
  {
   "cell_type": "markdown",
   "metadata": {},
   "source": [
    "Transponemos el df:"
   ]
  },
  {
   "cell_type": "code",
   "execution_count": 687,
   "metadata": {},
   "outputs": [],
   "source": [
    "prec_2018 = pd.melt(prec_2018, id_vars=[\"fecha\"], \n",
    "                   var_name=\"id_station\",value_name=\"Precip\")"
   ]
  },
  {
   "cell_type": "code",
   "execution_count": 688,
   "metadata": {},
   "outputs": [],
   "source": [
    "prec_2018['fecha'] =  pd.to_datetime(prec_2018['fecha'], format='%Y-%m-%d %H:%M')"
   ]
  },
  {
   "cell_type": "markdown",
   "metadata": {},
   "source": [
    "# Limpieza paso a paso"
   ]
  },
  {
   "cell_type": "markdown",
   "metadata": {},
   "source": [
    "### Pres"
   ]
  },
  {
   "cell_type": "markdown",
   "metadata": {},
   "source": [
    "Nos quedamos con las columnas indicadas y reseteamos el index:"
   ]
  },
  {
   "cell_type": "code",
   "execution_count": 689,
   "metadata": {},
   "outputs": [],
   "source": [
    "pre_ACO = pre_2018\n",
    "pre_ACO = pre_ACO.reset_index(drop=False)\n",
    "pre_ACO = pre_ACO[[\"Date\",\"cve_station\",\"parameter\",\"value\"]]"
   ]
  },
  {
   "cell_type": "code",
   "execution_count": 690,
   "metadata": {},
   "outputs": [],
   "source": [
    "pre_ACO = pre_ACO.rename(columns={'Date': 'date', 'cve_station': 'id_station','parameter': 'id_parameter'})"
   ]
  },
  {
   "cell_type": "markdown",
   "metadata": {},
   "source": [
    "### Contaminantes"
   ]
  },
  {
   "cell_type": "code",
   "execution_count": 691,
   "metadata": {},
   "outputs": [],
   "source": [
    "cont_ACO = cont_2018\n",
    "#cont_ACO = cont_ACO[(cont_ACO[\"id_parameter\"] == \"PM10\")]\n",
    "cont_ACO = cont_ACO.reset_index(drop=False)\n",
    "cont_ACO = cont_ACO[[\"date\",\"id_station\",\"id_parameter\",\"value\"]]"
   ]
  },
  {
   "cell_type": "markdown",
   "metadata": {},
   "source": [
    "### Metereologia"
   ]
  },
  {
   "cell_type": "code",
   "execution_count": 692,
   "metadata": {},
   "outputs": [],
   "source": [
    "met_ACO = met_2018\n",
    "#cont_ACO = cont_ACO[(cont_ACO[\"id_parameter\"] == \"PM10\")]\n",
    "met_ACO = met_ACO.reset_index(drop=False)\n",
    "met_ACO = met_ACO[[\"date\",\"id_station\",\"id_parameter\",\"value\"]]"
   ]
  },
  {
   "cell_type": "markdown",
   "metadata": {},
   "source": [
    "### Radiación"
   ]
  },
  {
   "cell_type": "code",
   "execution_count": 693,
   "metadata": {},
   "outputs": [],
   "source": [
    "rad_2018 = rad_2018.rename(columns={'Date': 'date', 'cve_station': 'id_station','parameter': 'id_parameter'})"
   ]
  },
  {
   "cell_type": "code",
   "execution_count": 694,
   "metadata": {},
   "outputs": [],
   "source": [
    "rad_ACO = rad_2018\n",
    "#cont_ACO = cont_ACO[(cont_ACO[\"id_parameter\"] == \"PM10\")]\n",
    "rad_ACO = rad_ACO.reset_index(drop=False)\n",
    "rad_ACO = rad_ACO[[\"date\",\"id_station\",\"id_parameter\",\"value\"]]"
   ]
  },
  {
   "cell_type": "markdown",
   "metadata": {},
   "source": [
    "## Pivot_Table <a class=\"anchor\" id=\"pivot-bullet\"></a>"
   ]
  },
  {
   "cell_type": "markdown",
   "metadata": {},
   "source": [
    "### Pre"
   ]
  },
  {
   "cell_type": "markdown",
   "metadata": {},
   "source": [
    "Creamos la tabla dinámica o pivote:"
   ]
  },
  {
   "cell_type": "code",
   "execution_count": 695,
   "metadata": {},
   "outputs": [],
   "source": [
    "pre_ACO_hour = pd.pivot_table(pre_ACO,index=[\"date\",\"id_station\"],columns=[\"id_parameter\"])"
   ]
  },
  {
   "cell_type": "markdown",
   "metadata": {},
   "source": [
    "Reseteamos el index para desacernos del multiindex:"
   ]
  },
  {
   "cell_type": "code",
   "execution_count": 696,
   "metadata": {},
   "outputs": [],
   "source": [
    "pre_ACO_hour = pre_ACO_hour.reset_index(drop=False)"
   ]
  },
  {
   "cell_type": "code",
   "execution_count": 697,
   "metadata": {},
   "outputs": [],
   "source": [
    "pre_ACO_hour.columns = pre_ACO_hour.columns.droplevel()"
   ]
  },
  {
   "cell_type": "markdown",
   "metadata": {},
   "source": [
    "Reefinimos las columnas:"
   ]
  },
  {
   "cell_type": "code",
   "execution_count": 698,
   "metadata": {},
   "outputs": [],
   "source": [
    "pre_ACO_hour[\"id_station\"] = pre_ACO_hour.iloc[:,1]\n",
    "pre_ACO_hour[\"date\"] = pre_ACO_hour.iloc[:,0]"
   ]
  },
  {
   "cell_type": "markdown",
   "metadata": {},
   "source": [
    "Nos deshacemos de las columnas sin nombre:"
   ]
  },
  {
   "cell_type": "code",
   "execution_count": 699,
   "metadata": {},
   "outputs": [],
   "source": [
    "pre_ACO_hour = pre_ACO_hour.drop([\"\"],axis=1)"
   ]
  },
  {
   "cell_type": "markdown",
   "metadata": {},
   "source": [
    "Aplicamos las funciones definidas al principio del documento:"
   ]
  },
  {
   "cell_type": "code",
   "execution_count": 700,
   "metadata": {},
   "outputs": [],
   "source": [
    "pre_ACO_hour['date'] = pre_ACO_hour.apply(lambda row: time_converter_guion(row['date']), axis=1) "
   ]
  },
  {
   "cell_type": "markdown",
   "metadata": {},
   "source": [
    "Convertimos lacolumna fecha en datetime:"
   ]
  },
  {
   "cell_type": "code",
   "execution_count": 701,
   "metadata": {},
   "outputs": [],
   "source": [
    "pre_ACO_hour['date'] =  pd.to_datetime(pre_ACO_hour['date'], format='%Y-%m-%d %H:%M')"
   ]
  },
  {
   "cell_type": "code",
   "execution_count": 702,
   "metadata": {},
   "outputs": [],
   "source": [
    "pre_ACO_hour = pre_ACO_hour[[ \"date\" ,\"id_station\",'PA']]"
   ]
  },
  {
   "cell_type": "markdown",
   "metadata": {},
   "source": [
    "### Contaminantes"
   ]
  },
  {
   "cell_type": "code",
   "execution_count": 703,
   "metadata": {},
   "outputs": [],
   "source": [
    "cont_ACO_hour = pd.pivot_table(cont_ACO,index=[\"date\",\"id_station\"],columns=[\"id_parameter\"])\n",
    "cont_ACO_hour = cont_ACO_hour.reset_index(drop=False)\n",
    "cont_ACO_hour.columns = cont_ACO_hour.columns.droplevel()\n",
    "cont_ACO_hour[\"id_station\"] = cont_ACO_hour.iloc[:,1]\n",
    "cont_ACO_hour[\"date\"] = cont_ACO_hour.iloc[:,0]\n",
    "cont_ACO_hour = cont_ACO_hour.drop([\"\"],axis=1)\n",
    "cont_ACO_hour['date'] = cont_ACO_hour.apply(lambda row: time_converter(row['date']), axis=1) \n",
    "cont_ACO_hour['date'] =  pd.to_datetime(cont_ACO_hour['date'], format='%Y-%m-%d %H:%M')\n",
    "cont_ACO_hour = cont_ACO_hour[[ \"date\" ,\"id_station\",'CO', 'NO', 'NO2', 'NOX', 'O3', 'PM2.5', 'PMCO', 'SO2','PM10']]"
   ]
  },
  {
   "cell_type": "markdown",
   "metadata": {},
   "source": [
    "### Metereología"
   ]
  },
  {
   "cell_type": "code",
   "execution_count": 704,
   "metadata": {},
   "outputs": [],
   "source": [
    "met_ACO_hour = pd.pivot_table(met_ACO,index=[\"date\",\"id_station\"],columns=[\"id_parameter\"])\n",
    "met_ACO_hour = met_ACO_hour.reset_index(drop=False)\n",
    "met_ACO_hour.columns = met_ACO_hour.columns.droplevel()\n",
    "met_ACO_hour[\"id_station\"] = met_ACO_hour.iloc[:,1]\n",
    "met_ACO_hour[\"date\"] = met_ACO_hour.iloc[:,0]\n",
    "met_ACO_hour = met_ACO_hour.drop([\"\"],axis=1)\n",
    "met_ACO_hour['date'] = met_ACO_hour.apply(lambda row: time_converter(row['date']), axis=1) \n",
    "met_ACO_hour['date'] =  pd.to_datetime(met_ACO_hour['date'], format='%Y-%m-%d %H:%M')\n",
    "met_ACO_hour = met_ACO_hour[[\"date\",\"id_station\",\"RH\",\"TMP\",\"WSP\",\"WDR\"]]"
   ]
  },
  {
   "cell_type": "markdown",
   "metadata": {},
   "source": [
    "### Radiación"
   ]
  },
  {
   "cell_type": "code",
   "execution_count": 705,
   "metadata": {},
   "outputs": [],
   "source": [
    "rad_ACO = pd.pivot_table(rad_ACO,index=[\"date\",\"id_station\"],columns=[\"id_parameter\"])\n",
    "rad_ACO = rad_ACO.reset_index(drop=False)\n",
    "rad_ACO.columns = rad_ACO.columns.droplevel()\n",
    "rad_ACO[\"id_station\"] = rad_ACO.iloc[:,1]\n",
    "rad_ACO[\"date\"] = rad_ACO.iloc[:,0]\n",
    "rad_ACO = rad_ACO.drop([\"\"],axis=1)\n",
    "rad_ACO['date'] = rad_ACO.apply(lambda row: time_converter_guion(row['date']), axis=1)\n",
    "rad_ACO['date'] =  pd.to_datetime(rad_ACO['date'], format='%Y-%m-%d %H:%M')\n",
    "rad_ACO = rad_ACO[[ \"date\",\"id_station\",'UVA',\"UVB\"]]\n",
    "rad_ACO = rad_ACO.dropna(how='any')"
   ]
  },
  {
   "cell_type": "markdown",
   "metadata": {},
   "source": [
    "# Merge de Dataframes   <a class=\"anchor\" id=\"merge-bullet\"></a>"
   ]
  },
  {
   "cell_type": "markdown",
   "metadata": {},
   "source": [
    "Por hora: no es posible añadir precipitación ya que de origen viene por día."
   ]
  },
  {
   "cell_type": "markdown",
   "metadata": {},
   "source": [
    "Juntamos los dataframes:"
   ]
  },
  {
   "cell_type": "code",
   "execution_count": 706,
   "metadata": {},
   "outputs": [],
   "source": [
    "data_hour_merge = pd.merge(cont_ACO_hour, met_ACO_hour, on=[\"date\",\"id_station\"])\n",
    "data_hour_merge = pd.merge(data_hour_merge, pre_ACO_hour, on=[\"date\",\"id_station\"])\n",
    "data_hour_merge = pd.merge(data_hour_merge, rad_ACO, on=[\"date\",\"id_station\"])"
   ]
  },
  {
   "cell_type": "markdown",
   "metadata": {},
   "source": [
    "Eliminamos los NAN:"
   ]
  },
  {
   "cell_type": "code",
   "execution_count": 707,
   "metadata": {},
   "outputs": [],
   "source": [
    "data_hour_merge = data_hour_merge.dropna(how='any')"
   ]
  },
  {
   "cell_type": "markdown",
   "metadata": {},
   "source": [
    "Definimos las columnas hora, dia, mes"
   ]
  },
  {
   "cell_type": "code",
   "execution_count": 708,
   "metadata": {},
   "outputs": [],
   "source": [
    "data_hour_merge[\"hora\"] = pd.DatetimeIndex(data_hour_merge['date']).hour\n",
    "data_hour_merge[\"dia\"] = pd.DatetimeIndex(data_hour_merge['date']).day\n",
    "data_hour_merge[\"mes\"]= pd.DatetimeIndex(data_hour_merge['date']).month\n"
   ]
  },
  {
   "cell_type": "markdown",
   "metadata": {},
   "source": [
    "Cambiamos el nombre de date a fecha:"
   ]
  },
  {
   "cell_type": "code",
   "execution_count": 709,
   "metadata": {},
   "outputs": [],
   "source": [
    "data_hour_merge = data_hour_merge.rename(columns={'date': 'fecha'})"
   ]
  },
  {
   "cell_type": "code",
   "execution_count": 710,
   "metadata": {},
   "outputs": [],
   "source": [
    "data_hour_merge = data_hour_merge[[\"fecha\",'hora',\"dia\", 'mes', 'id_station','UVA',\"UVB\", \"PA\",'CO', 'NO', 'NO2', 'NOX', 'O3',\n",
    "       'PM2.5', 'PMCO', 'SO2', 'RH', 'TMP', 'WSP', 'WDR', 'PM10']]"
   ]
  },
  {
   "cell_type": "markdown",
   "metadata": {},
   "source": [
    "Exportamos:"
   ]
  },
  {
   "cell_type": "code",
   "execution_count": 711,
   "metadata": {},
   "outputs": [
    {
     "data": {
      "text/html": [
       "<div>\n",
       "<style scoped>\n",
       "    .dataframe tbody tr th:only-of-type {\n",
       "        vertical-align: middle;\n",
       "    }\n",
       "\n",
       "    .dataframe tbody tr th {\n",
       "        vertical-align: top;\n",
       "    }\n",
       "\n",
       "    .dataframe thead th {\n",
       "        text-align: right;\n",
       "    }\n",
       "</style>\n",
       "<table border=\"1\" class=\"dataframe\">\n",
       "  <thead>\n",
       "    <tr style=\"text-align: right;\">\n",
       "      <th>id_parameter</th>\n",
       "      <th>fecha</th>\n",
       "      <th>hora</th>\n",
       "      <th>dia</th>\n",
       "      <th>mes</th>\n",
       "      <th>id_station</th>\n",
       "      <th>UVA</th>\n",
       "      <th>UVB</th>\n",
       "      <th>PA</th>\n",
       "      <th>CO</th>\n",
       "      <th>NO</th>\n",
       "      <th>...</th>\n",
       "      <th>NOX</th>\n",
       "      <th>O3</th>\n",
       "      <th>PM2.5</th>\n",
       "      <th>PMCO</th>\n",
       "      <th>SO2</th>\n",
       "      <th>RH</th>\n",
       "      <th>TMP</th>\n",
       "      <th>WSP</th>\n",
       "      <th>WDR</th>\n",
       "      <th>PM10</th>\n",
       "    </tr>\n",
       "  </thead>\n",
       "  <tbody>\n",
       "    <tr>\n",
       "      <th>2</th>\n",
       "      <td>2013-01-01 01:00:00</td>\n",
       "      <td>1</td>\n",
       "      <td>1</td>\n",
       "      <td>1</td>\n",
       "      <td>TLA</td>\n",
       "      <td>0.0</td>\n",
       "      <td>0.0</td>\n",
       "      <td>583.0</td>\n",
       "      <td>1.2</td>\n",
       "      <td>38.0</td>\n",
       "      <td>...</td>\n",
       "      <td>69.0</td>\n",
       "      <td>1.0</td>\n",
       "      <td>48.0</td>\n",
       "      <td>21.0</td>\n",
       "      <td>3.0</td>\n",
       "      <td>59.0</td>\n",
       "      <td>13.2</td>\n",
       "      <td>0.8</td>\n",
       "      <td>235.0</td>\n",
       "      <td>69.0</td>\n",
       "    </tr>\n",
       "    <tr>\n",
       "      <th>5</th>\n",
       "      <td>2013-01-01 02:00:00</td>\n",
       "      <td>2</td>\n",
       "      <td>1</td>\n",
       "      <td>1</td>\n",
       "      <td>TLA</td>\n",
       "      <td>0.0</td>\n",
       "      <td>0.0</td>\n",
       "      <td>583.0</td>\n",
       "      <td>1.4</td>\n",
       "      <td>46.0</td>\n",
       "      <td>...</td>\n",
       "      <td>77.0</td>\n",
       "      <td>2.0</td>\n",
       "      <td>98.0</td>\n",
       "      <td>32.0</td>\n",
       "      <td>6.0</td>\n",
       "      <td>61.0</td>\n",
       "      <td>12.7</td>\n",
       "      <td>0.7</td>\n",
       "      <td>166.0</td>\n",
       "      <td>131.0</td>\n",
       "    </tr>\n",
       "    <tr>\n",
       "      <th>8</th>\n",
       "      <td>2013-01-01 03:00:00</td>\n",
       "      <td>3</td>\n",
       "      <td>1</td>\n",
       "      <td>1</td>\n",
       "      <td>TLA</td>\n",
       "      <td>0.0</td>\n",
       "      <td>0.0</td>\n",
       "      <td>582.0</td>\n",
       "      <td>1.8</td>\n",
       "      <td>73.0</td>\n",
       "      <td>...</td>\n",
       "      <td>99.0</td>\n",
       "      <td>2.0</td>\n",
       "      <td>109.0</td>\n",
       "      <td>34.0</td>\n",
       "      <td>7.0</td>\n",
       "      <td>64.0</td>\n",
       "      <td>11.9</td>\n",
       "      <td>0.6</td>\n",
       "      <td>218.0</td>\n",
       "      <td>142.0</td>\n",
       "    </tr>\n",
       "    <tr>\n",
       "      <th>11</th>\n",
       "      <td>2013-01-01 04:00:00</td>\n",
       "      <td>4</td>\n",
       "      <td>1</td>\n",
       "      <td>1</td>\n",
       "      <td>TLA</td>\n",
       "      <td>0.0</td>\n",
       "      <td>0.0</td>\n",
       "      <td>582.0</td>\n",
       "      <td>2.0</td>\n",
       "      <td>86.0</td>\n",
       "      <td>...</td>\n",
       "      <td>113.0</td>\n",
       "      <td>2.0</td>\n",
       "      <td>101.0</td>\n",
       "      <td>36.0</td>\n",
       "      <td>5.0</td>\n",
       "      <td>65.0</td>\n",
       "      <td>11.6</td>\n",
       "      <td>1.0</td>\n",
       "      <td>203.0</td>\n",
       "      <td>137.0</td>\n",
       "    </tr>\n",
       "    <tr>\n",
       "      <th>14</th>\n",
       "      <td>2013-01-01 05:00:00</td>\n",
       "      <td>5</td>\n",
       "      <td>1</td>\n",
       "      <td>1</td>\n",
       "      <td>TLA</td>\n",
       "      <td>0.0</td>\n",
       "      <td>0.0</td>\n",
       "      <td>582.0</td>\n",
       "      <td>2.2</td>\n",
       "      <td>102.0</td>\n",
       "      <td>...</td>\n",
       "      <td>129.0</td>\n",
       "      <td>2.0</td>\n",
       "      <td>90.0</td>\n",
       "      <td>30.0</td>\n",
       "      <td>5.0</td>\n",
       "      <td>68.0</td>\n",
       "      <td>10.8</td>\n",
       "      <td>0.4</td>\n",
       "      <td>261.0</td>\n",
       "      <td>120.0</td>\n",
       "    </tr>\n",
       "  </tbody>\n",
       "</table>\n",
       "<p>5 rows × 21 columns</p>\n",
       "</div>"
      ],
      "text/plain": [
       "id_parameter               fecha  hora  dia  mes id_station  UVA  UVB     PA  \\\n",
       "2            2013-01-01 01:00:00     1    1    1        TLA  0.0  0.0  583.0   \n",
       "5            2013-01-01 02:00:00     2    1    1        TLA  0.0  0.0  583.0   \n",
       "8            2013-01-01 03:00:00     3    1    1        TLA  0.0  0.0  582.0   \n",
       "11           2013-01-01 04:00:00     4    1    1        TLA  0.0  0.0  582.0   \n",
       "14           2013-01-01 05:00:00     5    1    1        TLA  0.0  0.0  582.0   \n",
       "\n",
       "id_parameter   CO     NO  ...      NOX   O3  PM2.5  PMCO  SO2    RH   TMP  \\\n",
       "2             1.2   38.0  ...     69.0  1.0   48.0  21.0  3.0  59.0  13.2   \n",
       "5             1.4   46.0  ...     77.0  2.0   98.0  32.0  6.0  61.0  12.7   \n",
       "8             1.8   73.0  ...     99.0  2.0  109.0  34.0  7.0  64.0  11.9   \n",
       "11            2.0   86.0  ...    113.0  2.0  101.0  36.0  5.0  65.0  11.6   \n",
       "14            2.2  102.0  ...    129.0  2.0   90.0  30.0  5.0  68.0  10.8   \n",
       "\n",
       "id_parameter  WSP    WDR   PM10  \n",
       "2             0.8  235.0   69.0  \n",
       "5             0.7  166.0  131.0  \n",
       "8             0.6  218.0  142.0  \n",
       "11            1.0  203.0  137.0  \n",
       "14            0.4  261.0  120.0  \n",
       "\n",
       "[5 rows x 21 columns]"
      ]
     },
     "execution_count": 711,
     "metadata": {},
     "output_type": "execute_result"
    }
   ],
   "source": [
    "data_hour_merge.head()"
   ]
  },
  {
   "cell_type": "code",
   "execution_count": 654,
   "metadata": {},
   "outputs": [],
   "source": [
    "data_hour_merge.to_csv(str(\"/Users/danielbustillos/Documents/servicio/Contaminación PM10/Outputs/por_hora/cont_hora\" + a + \".csv\"))"
   ]
  },
  {
   "cell_type": "markdown",
   "metadata": {},
   "source": [
    "## Promedio Por día"
   ]
  },
  {
   "cell_type": "code",
   "execution_count": 713,
   "metadata": {},
   "outputs": [],
   "source": [
    "data_day_avg = data_hour_merge"
   ]
  },
  {
   "cell_type": "code",
   "execution_count": 714,
   "metadata": {},
   "outputs": [],
   "source": [
    "data_day_avg['fecha'] = data_hour_merge['fecha'].astype(str).str[0:10]"
   ]
  },
  {
   "cell_type": "code",
   "execution_count": 715,
   "metadata": {},
   "outputs": [],
   "source": [
    "data_day_avg = data_day_avg.groupby(['fecha'])[ 'UVA', 'UVB', 'PA', 'CO',\n",
    "       'NO', 'NO2', 'NOX', 'O3', 'PM2.5', 'PMCO', 'SO2', 'RH', 'TMP', 'WSP',\n",
    "       'WDR', 'PM10'].mean()"
   ]
  },
  {
   "cell_type": "code",
   "execution_count": 716,
   "metadata": {},
   "outputs": [],
   "source": [
    "data_day_avg = data_day_avg.reset_index(drop=False)"
   ]
  },
  {
   "cell_type": "code",
   "execution_count": 717,
   "metadata": {},
   "outputs": [],
   "source": [
    "data_day_avg['fecha'] =  pd.to_datetime(data_day_avg['fecha'], format='%Y-%m-%d %H:%M')"
   ]
  },
  {
   "cell_type": "code",
   "execution_count": 718,
   "metadata": {},
   "outputs": [],
   "source": [
    "prec_2018 = prec_2018.drop([\"id_station\"],axis=1)"
   ]
  },
  {
   "cell_type": "code",
   "execution_count": 719,
   "metadata": {},
   "outputs": [],
   "source": [
    "data_day_avg = pd.merge(data_day_avg, prec_2018, on=[\"fecha\"],  how='left')"
   ]
  },
  {
   "cell_type": "code",
   "execution_count": 720,
   "metadata": {},
   "outputs": [],
   "source": [
    "data_day_avg = data_day_avg.fillna(0)"
   ]
  },
  {
   "cell_type": "code",
   "execution_count": 721,
   "metadata": {},
   "outputs": [
    {
     "data": {
      "text/html": [
       "<div>\n",
       "<style scoped>\n",
       "    .dataframe tbody tr th:only-of-type {\n",
       "        vertical-align: middle;\n",
       "    }\n",
       "\n",
       "    .dataframe tbody tr th {\n",
       "        vertical-align: top;\n",
       "    }\n",
       "\n",
       "    .dataframe thead th {\n",
       "        text-align: right;\n",
       "    }\n",
       "</style>\n",
       "<table border=\"1\" class=\"dataframe\">\n",
       "  <thead>\n",
       "    <tr style=\"text-align: right;\">\n",
       "      <th></th>\n",
       "      <th>fecha</th>\n",
       "      <th>UVA</th>\n",
       "      <th>UVB</th>\n",
       "      <th>PA</th>\n",
       "      <th>CO</th>\n",
       "      <th>NO</th>\n",
       "      <th>NO2</th>\n",
       "      <th>NOX</th>\n",
       "      <th>O3</th>\n",
       "      <th>PM2.5</th>\n",
       "      <th>PMCO</th>\n",
       "      <th>SO2</th>\n",
       "      <th>RH</th>\n",
       "      <th>TMP</th>\n",
       "      <th>WSP</th>\n",
       "      <th>WDR</th>\n",
       "      <th>PM10</th>\n",
       "      <th>Precip</th>\n",
       "    </tr>\n",
       "  </thead>\n",
       "  <tbody>\n",
       "    <tr>\n",
       "      <th>0</th>\n",
       "      <td>2013-01-01</td>\n",
       "      <td>1.004579</td>\n",
       "      <td>0.630158</td>\n",
       "      <td>583.052632</td>\n",
       "      <td>1.118421</td>\n",
       "      <td>34.710526</td>\n",
       "      <td>28.763158</td>\n",
       "      <td>63.500000</td>\n",
       "      <td>21.657895</td>\n",
       "      <td>58.842105</td>\n",
       "      <td>26.368421</td>\n",
       "      <td>4.815789</td>\n",
       "      <td>50.289474</td>\n",
       "      <td>15.192105</td>\n",
       "      <td>1.707895</td>\n",
       "      <td>171.026316</td>\n",
       "      <td>85.236842</td>\n",
       "      <td>0.0</td>\n",
       "    </tr>\n",
       "    <tr>\n",
       "      <th>1</th>\n",
       "      <td>2013-01-02</td>\n",
       "      <td>0.533762</td>\n",
       "      <td>0.357000</td>\n",
       "      <td>582.976190</td>\n",
       "      <td>0.759524</td>\n",
       "      <td>29.000000</td>\n",
       "      <td>27.357143</td>\n",
       "      <td>56.476190</td>\n",
       "      <td>9.119048</td>\n",
       "      <td>22.595238</td>\n",
       "      <td>22.833333</td>\n",
       "      <td>11.547619</td>\n",
       "      <td>59.976190</td>\n",
       "      <td>13.826190</td>\n",
       "      <td>2.414286</td>\n",
       "      <td>197.166667</td>\n",
       "      <td>45.404762</td>\n",
       "      <td>0.0</td>\n",
       "    </tr>\n",
       "    <tr>\n",
       "      <th>2</th>\n",
       "      <td>2013-01-03</td>\n",
       "      <td>0.896400</td>\n",
       "      <td>0.588667</td>\n",
       "      <td>583.766667</td>\n",
       "      <td>0.926667</td>\n",
       "      <td>47.000000</td>\n",
       "      <td>32.366667</td>\n",
       "      <td>79.533333</td>\n",
       "      <td>12.166667</td>\n",
       "      <td>28.100000</td>\n",
       "      <td>28.633333</td>\n",
       "      <td>29.300000</td>\n",
       "      <td>55.033333</td>\n",
       "      <td>14.473333</td>\n",
       "      <td>2.500000</td>\n",
       "      <td>233.766667</td>\n",
       "      <td>56.800000</td>\n",
       "      <td>0.0</td>\n",
       "    </tr>\n",
       "    <tr>\n",
       "      <th>3</th>\n",
       "      <td>2013-01-04</td>\n",
       "      <td>0.362179</td>\n",
       "      <td>0.224250</td>\n",
       "      <td>584.500000</td>\n",
       "      <td>1.046429</td>\n",
       "      <td>43.750000</td>\n",
       "      <td>39.142857</td>\n",
       "      <td>82.928571</td>\n",
       "      <td>10.642857</td>\n",
       "      <td>44.785714</td>\n",
       "      <td>33.892857</td>\n",
       "      <td>49.821429</td>\n",
       "      <td>70.535714</td>\n",
       "      <td>12.550000</td>\n",
       "      <td>1.828571</td>\n",
       "      <td>248.964286</td>\n",
       "      <td>78.678571</td>\n",
       "      <td>0.0</td>\n",
       "    </tr>\n",
       "    <tr>\n",
       "      <th>4</th>\n",
       "      <td>2013-01-05</td>\n",
       "      <td>0.755489</td>\n",
       "      <td>0.444644</td>\n",
       "      <td>585.311111</td>\n",
       "      <td>1.304444</td>\n",
       "      <td>54.355556</td>\n",
       "      <td>45.333333</td>\n",
       "      <td>99.622222</td>\n",
       "      <td>17.822222</td>\n",
       "      <td>42.800000</td>\n",
       "      <td>30.911111</td>\n",
       "      <td>18.688889</td>\n",
       "      <td>62.755556</td>\n",
       "      <td>14.053333</td>\n",
       "      <td>1.420000</td>\n",
       "      <td>181.511111</td>\n",
       "      <td>73.866667</td>\n",
       "      <td>0.0</td>\n",
       "    </tr>\n",
       "  </tbody>\n",
       "</table>\n",
       "</div>"
      ],
      "text/plain": [
       "       fecha       UVA       UVB          PA        CO         NO        NO2  \\\n",
       "0 2013-01-01  1.004579  0.630158  583.052632  1.118421  34.710526  28.763158   \n",
       "1 2013-01-02  0.533762  0.357000  582.976190  0.759524  29.000000  27.357143   \n",
       "2 2013-01-03  0.896400  0.588667  583.766667  0.926667  47.000000  32.366667   \n",
       "3 2013-01-04  0.362179  0.224250  584.500000  1.046429  43.750000  39.142857   \n",
       "4 2013-01-05  0.755489  0.444644  585.311111  1.304444  54.355556  45.333333   \n",
       "\n",
       "         NOX         O3      PM2.5       PMCO        SO2         RH  \\\n",
       "0  63.500000  21.657895  58.842105  26.368421   4.815789  50.289474   \n",
       "1  56.476190   9.119048  22.595238  22.833333  11.547619  59.976190   \n",
       "2  79.533333  12.166667  28.100000  28.633333  29.300000  55.033333   \n",
       "3  82.928571  10.642857  44.785714  33.892857  49.821429  70.535714   \n",
       "4  99.622222  17.822222  42.800000  30.911111  18.688889  62.755556   \n",
       "\n",
       "         TMP       WSP         WDR       PM10  Precip  \n",
       "0  15.192105  1.707895  171.026316  85.236842     0.0  \n",
       "1  13.826190  2.414286  197.166667  45.404762     0.0  \n",
       "2  14.473333  2.500000  233.766667  56.800000     0.0  \n",
       "3  12.550000  1.828571  248.964286  78.678571     0.0  \n",
       "4  14.053333  1.420000  181.511111  73.866667     0.0  "
      ]
     },
     "execution_count": 721,
     "metadata": {},
     "output_type": "execute_result"
    }
   ],
   "source": [
    "data_day_avg.head()"
   ]
  },
  {
   "cell_type": "code",
   "execution_count": 722,
   "metadata": {},
   "outputs": [],
   "source": [
    "data_day_avg.to_csv(str(\"/Users/danielbustillos/Documents/servicio/Contaminación PM10/Outputs/por_dia/cont_dia\" + a + \".csv\"))"
   ]
  },
  {
   "cell_type": "code",
   "execution_count": null,
   "metadata": {},
   "outputs": [],
   "source": []
  }
 ],
 "metadata": {
  "kernelspec": {
   "display_name": "Python 3",
   "language": "python",
   "name": "python3"
  },
  "language_info": {
   "codemirror_mode": {
    "name": "ipython",
    "version": 3
   },
   "file_extension": ".py",
   "mimetype": "text/x-python",
   "name": "python",
   "nbconvert_exporter": "python",
   "pygments_lexer": "ipython3",
   "version": "3.7.1"
  }
 },
 "nbformat": 4,
 "nbformat_minor": 2
}
