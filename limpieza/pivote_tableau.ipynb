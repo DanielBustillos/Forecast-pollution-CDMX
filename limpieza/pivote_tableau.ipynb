{
 "cells": [
  {
   "cell_type": "code",
   "execution_count": 1,
   "metadata": {},
   "outputs": [],
   "source": [
    "import numpy as np\n",
    "import pandas as pd"
   ]
  },
  {
   "cell_type": "code",
   "execution_count": 2,
   "metadata": {},
   "outputs": [],
   "source": [
    "df = pd.read_csv(\"/home/pradel/Downloads/ejemplo_ouput_1 (1).csv\")"
   ]
  },
  {
   "cell_type": "code",
   "execution_count": 3,
   "metadata": {},
   "outputs": [
    {
     "data": {
      "text/html": [
       "<div>\n",
       "<style scoped>\n",
       "    .dataframe tbody tr th:only-of-type {\n",
       "        vertical-align: middle;\n",
       "    }\n",
       "\n",
       "    .dataframe tbody tr th {\n",
       "        vertical-align: top;\n",
       "    }\n",
       "\n",
       "    .dataframe thead th {\n",
       "        text-align: right;\n",
       "    }\n",
       "</style>\n",
       "<table border=\"1\" class=\"dataframe\">\n",
       "  <thead>\n",
       "    <tr style=\"text-align: right;\">\n",
       "      <th></th>\n",
       "      <th>Unnamed: 0</th>\n",
       "      <th>TMP_x</th>\n",
       "      <th>O3_y</th>\n",
       "      <th>O3_y.1</th>\n",
       "      <th>O3</th>\n",
       "      <th>O3_x</th>\n",
       "      <th>O3_y.2</th>\n",
       "      <th>O3_y.3</th>\n",
       "      <th>RH_2_x</th>\n",
       "      <th>TMP_2_y</th>\n",
       "      <th>...</th>\n",
       "      <th>pred_4</th>\n",
       "      <th>pred_5</th>\n",
       "      <th>pred_6</th>\n",
       "      <th>pred_7</th>\n",
       "      <th>pred_8</th>\n",
       "      <th>pred_9</th>\n",
       "      <th>pred_10</th>\n",
       "      <th>pred_11</th>\n",
       "      <th>pred_12</th>\n",
       "      <th>fecha</th>\n",
       "    </tr>\n",
       "  </thead>\n",
       "  <tbody>\n",
       "    <tr>\n",
       "      <th>0</th>\n",
       "      <td>0</td>\n",
       "      <td>12.825</td>\n",
       "      <td>7.0</td>\n",
       "      <td>7.0</td>\n",
       "      <td>3.0</td>\n",
       "      <td>4.00</td>\n",
       "      <td>7.0</td>\n",
       "      <td>7.0</td>\n",
       "      <td>53.75</td>\n",
       "      <td>14.5</td>\n",
       "      <td>...</td>\n",
       "      <td>36.928272</td>\n",
       "      <td>31.131050</td>\n",
       "      <td>37.886716</td>\n",
       "      <td>37.167246</td>\n",
       "      <td>38.242269</td>\n",
       "      <td>35.247853</td>\n",
       "      <td>41.004512</td>\n",
       "      <td>44.170743</td>\n",
       "      <td>38.184564</td>\n",
       "      <td>2015-01-02 00:00:00</td>\n",
       "    </tr>\n",
       "    <tr>\n",
       "      <th>1</th>\n",
       "      <td>1</td>\n",
       "      <td>11.025</td>\n",
       "      <td>2.0</td>\n",
       "      <td>2.0</td>\n",
       "      <td>0.0</td>\n",
       "      <td>1.25</td>\n",
       "      <td>2.0</td>\n",
       "      <td>2.0</td>\n",
       "      <td>64.50</td>\n",
       "      <td>13.8</td>\n",
       "      <td>...</td>\n",
       "      <td>28.056245</td>\n",
       "      <td>27.688170</td>\n",
       "      <td>29.084734</td>\n",
       "      <td>26.439021</td>\n",
       "      <td>31.293495</td>\n",
       "      <td>32.409477</td>\n",
       "      <td>31.918281</td>\n",
       "      <td>32.553553</td>\n",
       "      <td>28.828029</td>\n",
       "      <td>2015-01-02 01:00:00</td>\n",
       "    </tr>\n",
       "    <tr>\n",
       "      <th>2</th>\n",
       "      <td>2</td>\n",
       "      <td>10.175</td>\n",
       "      <td>3.0</td>\n",
       "      <td>3.0</td>\n",
       "      <td>0.0</td>\n",
       "      <td>1.50</td>\n",
       "      <td>3.0</td>\n",
       "      <td>3.0</td>\n",
       "      <td>69.25</td>\n",
       "      <td>13.0</td>\n",
       "      <td>...</td>\n",
       "      <td>85.479364</td>\n",
       "      <td>89.274294</td>\n",
       "      <td>86.930619</td>\n",
       "      <td>87.144780</td>\n",
       "      <td>85.031468</td>\n",
       "      <td>79.796946</td>\n",
       "      <td>76.903552</td>\n",
       "      <td>73.642023</td>\n",
       "      <td>70.711067</td>\n",
       "      <td>2015-01-02 02:00:00</td>\n",
       "    </tr>\n",
       "    <tr>\n",
       "      <th>3</th>\n",
       "      <td>3</td>\n",
       "      <td>9.475</td>\n",
       "      <td>2.0</td>\n",
       "      <td>2.0</td>\n",
       "      <td>0.0</td>\n",
       "      <td>1.50</td>\n",
       "      <td>2.0</td>\n",
       "      <td>2.0</td>\n",
       "      <td>70.25</td>\n",
       "      <td>12.7</td>\n",
       "      <td>...</td>\n",
       "      <td>22.699007</td>\n",
       "      <td>24.759514</td>\n",
       "      <td>24.646204</td>\n",
       "      <td>24.653932</td>\n",
       "      <td>26.424078</td>\n",
       "      <td>24.318165</td>\n",
       "      <td>27.344929</td>\n",
       "      <td>25.482899</td>\n",
       "      <td>28.562245</td>\n",
       "      <td>2015-01-02 03:00:00</td>\n",
       "    </tr>\n",
       "    <tr>\n",
       "      <th>4</th>\n",
       "      <td>4</td>\n",
       "      <td>8.725</td>\n",
       "      <td>2.0</td>\n",
       "      <td>2.0</td>\n",
       "      <td>0.0</td>\n",
       "      <td>1.50</td>\n",
       "      <td>2.0</td>\n",
       "      <td>2.0</td>\n",
       "      <td>74.00</td>\n",
       "      <td>11.6</td>\n",
       "      <td>...</td>\n",
       "      <td>45.843989</td>\n",
       "      <td>46.902662</td>\n",
       "      <td>47.309771</td>\n",
       "      <td>44.894606</td>\n",
       "      <td>44.682508</td>\n",
       "      <td>40.910419</td>\n",
       "      <td>39.257718</td>\n",
       "      <td>34.096453</td>\n",
       "      <td>33.794598</td>\n",
       "      <td>2015-01-02 04:00:00</td>\n",
       "    </tr>\n",
       "  </tbody>\n",
       "</table>\n",
       "<p>5 rows × 35 columns</p>\n",
       "</div>"
      ],
      "text/plain": [
       "   Unnamed: 0   TMP_x  O3_y  O3_y.1   O3  O3_x  O3_y.2  O3_y.3  RH_2_x  \\\n",
       "0           0  12.825   7.0     7.0  3.0  4.00     7.0     7.0   53.75   \n",
       "1           1  11.025   2.0     2.0  0.0  1.25     2.0     2.0   64.50   \n",
       "2           2  10.175   3.0     3.0  0.0  1.50     3.0     3.0   69.25   \n",
       "3           3   9.475   2.0     2.0  0.0  1.50     2.0     2.0   70.25   \n",
       "4           4   8.725   2.0     2.0  0.0  1.50     2.0     2.0   74.00   \n",
       "\n",
       "   TMP_2_y  ...     pred_4     pred_5     pred_6     pred_7     pred_8  \\\n",
       "0     14.5  ...  36.928272  31.131050  37.886716  37.167246  38.242269   \n",
       "1     13.8  ...  28.056245  27.688170  29.084734  26.439021  31.293495   \n",
       "2     13.0  ...  85.479364  89.274294  86.930619  87.144780  85.031468   \n",
       "3     12.7  ...  22.699007  24.759514  24.646204  24.653932  26.424078   \n",
       "4     11.6  ...  45.843989  46.902662  47.309771  44.894606  44.682508   \n",
       "\n",
       "      pred_9    pred_10    pred_11    pred_12                fecha  \n",
       "0  35.247853  41.004512  44.170743  38.184564  2015-01-02 00:00:00  \n",
       "1  32.409477  31.918281  32.553553  28.828029  2015-01-02 01:00:00  \n",
       "2  79.796946  76.903552  73.642023  70.711067  2015-01-02 02:00:00  \n",
       "3  24.318165  27.344929  25.482899  28.562245  2015-01-02 03:00:00  \n",
       "4  40.910419  39.257718  34.096453  33.794598  2015-01-02 04:00:00  \n",
       "\n",
       "[5 rows x 35 columns]"
      ]
     },
     "execution_count": 3,
     "metadata": {},
     "output_type": "execute_result"
    }
   ],
   "source": [
    "df.head()"
   ]
  },
  {
   "cell_type": "code",
   "execution_count": 4,
   "metadata": {},
   "outputs": [
    {
     "data": {
      "text/plain": [
       "['Unnamed: 0',\n",
       " 'TMP_x',\n",
       " 'O3_y',\n",
       " 'O3_y.1',\n",
       " 'O3',\n",
       " 'O3_x',\n",
       " 'O3_y.2',\n",
       " 'O3_y.3',\n",
       " 'RH_2_x',\n",
       " 'TMP_2_y',\n",
       " 'O3forecast_12',\n",
       " 'O3forecast_11',\n",
       " 'O3forecast_10',\n",
       " 'O3forecast_9',\n",
       " 'O3forecast_8',\n",
       " 'O3forecast_7',\n",
       " 'O3forecast_6',\n",
       " 'O3forecast_5',\n",
       " 'O3forecast_4',\n",
       " 'O3forecast_3',\n",
       " 'O3forecast_2',\n",
       " 'O3forecast_1',\n",
       " 'pred_1',\n",
       " 'pred_2',\n",
       " 'pred_3',\n",
       " 'pred_4',\n",
       " 'pred_5',\n",
       " 'pred_6',\n",
       " 'pred_7',\n",
       " 'pred_8',\n",
       " 'pred_9',\n",
       " 'pred_10',\n",
       " 'pred_11',\n",
       " 'pred_12',\n",
       " 'fecha']"
      ]
     },
     "execution_count": 4,
     "metadata": {},
     "output_type": "execute_result"
    }
   ],
   "source": [
    "df.columns.tolist()"
   ]
  },
  {
   "cell_type": "code",
   "execution_count": 5,
   "metadata": {},
   "outputs": [],
   "source": [
    "df_cont = pd.melt(df, id_vars = ['fecha'], value_vars = ['TMP_x',\n",
    " 'O3_y',\n",
    " 'O3_y.1',\n",
    " 'O3',\n",
    " 'O3_x',\n",
    " 'O3_y.2',\n",
    " 'O3_y.3',\n",
    " 'RH_2_x',\n",
    " 'TMP_2_y',])"
   ]
  },
  {
   "cell_type": "code",
   "execution_count": 6,
   "metadata": {},
   "outputs": [],
   "source": [
    "df_cont.columns = ['fecha', 'contaminante', 'medicion']"
   ]
  },
  {
   "cell_type": "code",
   "execution_count": 7,
   "metadata": {},
   "outputs": [
    {
     "data": {
      "text/html": [
       "<div>\n",
       "<style scoped>\n",
       "    .dataframe tbody tr th:only-of-type {\n",
       "        vertical-align: middle;\n",
       "    }\n",
       "\n",
       "    .dataframe tbody tr th {\n",
       "        vertical-align: top;\n",
       "    }\n",
       "\n",
       "    .dataframe thead th {\n",
       "        text-align: right;\n",
       "    }\n",
       "</style>\n",
       "<table border=\"1\" class=\"dataframe\">\n",
       "  <thead>\n",
       "    <tr style=\"text-align: right;\">\n",
       "      <th></th>\n",
       "      <th>fecha</th>\n",
       "      <th>contaminante</th>\n",
       "      <th>medicion</th>\n",
       "    </tr>\n",
       "  </thead>\n",
       "  <tbody>\n",
       "    <tr>\n",
       "      <th>0</th>\n",
       "      <td>2015-01-02 00:00:00</td>\n",
       "      <td>TMP_x</td>\n",
       "      <td>12.825</td>\n",
       "    </tr>\n",
       "    <tr>\n",
       "      <th>1</th>\n",
       "      <td>2015-01-02 01:00:00</td>\n",
       "      <td>TMP_x</td>\n",
       "      <td>11.025</td>\n",
       "    </tr>\n",
       "    <tr>\n",
       "      <th>2</th>\n",
       "      <td>2015-01-02 02:00:00</td>\n",
       "      <td>TMP_x</td>\n",
       "      <td>10.175</td>\n",
       "    </tr>\n",
       "    <tr>\n",
       "      <th>3</th>\n",
       "      <td>2015-01-02 03:00:00</td>\n",
       "      <td>TMP_x</td>\n",
       "      <td>9.475</td>\n",
       "    </tr>\n",
       "    <tr>\n",
       "      <th>4</th>\n",
       "      <td>2015-01-02 04:00:00</td>\n",
       "      <td>TMP_x</td>\n",
       "      <td>8.725</td>\n",
       "    </tr>\n",
       "  </tbody>\n",
       "</table>\n",
       "</div>"
      ],
      "text/plain": [
       "                 fecha contaminante  medicion\n",
       "0  2015-01-02 00:00:00        TMP_x    12.825\n",
       "1  2015-01-02 01:00:00        TMP_x    11.025\n",
       "2  2015-01-02 02:00:00        TMP_x    10.175\n",
       "3  2015-01-02 03:00:00        TMP_x     9.475\n",
       "4  2015-01-02 04:00:00        TMP_x     8.725"
      ]
     },
     "execution_count": 7,
     "metadata": {},
     "output_type": "execute_result"
    }
   ],
   "source": [
    "df_cont.head()"
   ]
  },
  {
   "cell_type": "code",
   "execution_count": 8,
   "metadata": {},
   "outputs": [],
   "source": [
    "df_cont = df_cont.sort_values(by = 'fecha')\n",
    "df_cont = df_cont.reset_index(drop = True)"
   ]
  },
  {
   "cell_type": "code",
   "execution_count": 9,
   "metadata": {},
   "outputs": [],
   "source": [
    "df_cont.to_csv(\"/home/pradel/Desktop/Forecast_CDMX_pollution/limpieza/df_cont.csv\", sep='\\t')"
   ]
  },
  {
   "cell_type": "code",
   "execution_count": 10,
   "metadata": {},
   "outputs": [],
   "source": [
    "#####"
   ]
  },
  {
   "cell_type": "code",
   "execution_count": 11,
   "metadata": {},
   "outputs": [],
   "source": [
    "df_O3_forecast = pd.melt(df, id_vars=['fecha'], value_vars=[\n",
    " 'O3forecast_12',\n",
    " 'O3forecast_11',\n",
    " 'O3forecast_10',\n",
    " 'O3forecast_9',\n",
    " 'O3forecast_8',\n",
    " 'O3forecast_7',\n",
    " 'O3forecast_6',\n",
    " 'O3forecast_5',\n",
    " 'O3forecast_4',\n",
    " 'O3forecast_3',\n",
    " 'O3forecast_2',\n",
    " 'O3forecast_1'])\n"
   ]
  },
  {
   "cell_type": "code",
   "execution_count": 12,
   "metadata": {},
   "outputs": [],
   "source": [
    "df_O3_forecast.columns = ['fecha', 'O3_prediccion', 'medicion']"
   ]
  },
  {
   "cell_type": "code",
   "execution_count": 13,
   "metadata": {},
   "outputs": [
    {
     "data": {
      "text/html": [
       "<div>\n",
       "<style scoped>\n",
       "    .dataframe tbody tr th:only-of-type {\n",
       "        vertical-align: middle;\n",
       "    }\n",
       "\n",
       "    .dataframe tbody tr th {\n",
       "        vertical-align: top;\n",
       "    }\n",
       "\n",
       "    .dataframe thead th {\n",
       "        text-align: right;\n",
       "    }\n",
       "</style>\n",
       "<table border=\"1\" class=\"dataframe\">\n",
       "  <thead>\n",
       "    <tr style=\"text-align: right;\">\n",
       "      <th></th>\n",
       "      <th>fecha</th>\n",
       "      <th>O3_prediccion</th>\n",
       "      <th>medicion</th>\n",
       "    </tr>\n",
       "  </thead>\n",
       "  <tbody>\n",
       "    <tr>\n",
       "      <th>0</th>\n",
       "      <td>2015-01-02 00:00:00</td>\n",
       "      <td>O3forecast_12</td>\n",
       "      <td>10.0</td>\n",
       "    </tr>\n",
       "    <tr>\n",
       "      <th>1</th>\n",
       "      <td>2015-01-02 01:00:00</td>\n",
       "      <td>O3forecast_12</td>\n",
       "      <td>7.0</td>\n",
       "    </tr>\n",
       "    <tr>\n",
       "      <th>2</th>\n",
       "      <td>2015-01-02 02:00:00</td>\n",
       "      <td>O3forecast_12</td>\n",
       "      <td>5.0</td>\n",
       "    </tr>\n",
       "    <tr>\n",
       "      <th>3</th>\n",
       "      <td>2015-01-02 03:00:00</td>\n",
       "      <td>O3forecast_12</td>\n",
       "      <td>5.0</td>\n",
       "    </tr>\n",
       "    <tr>\n",
       "      <th>4</th>\n",
       "      <td>2015-01-02 04:00:00</td>\n",
       "      <td>O3forecast_12</td>\n",
       "      <td>2.0</td>\n",
       "    </tr>\n",
       "  </tbody>\n",
       "</table>\n",
       "</div>"
      ],
      "text/plain": [
       "                 fecha  O3_prediccion  medicion\n",
       "0  2015-01-02 00:00:00  O3forecast_12      10.0\n",
       "1  2015-01-02 01:00:00  O3forecast_12       7.0\n",
       "2  2015-01-02 02:00:00  O3forecast_12       5.0\n",
       "3  2015-01-02 03:00:00  O3forecast_12       5.0\n",
       "4  2015-01-02 04:00:00  O3forecast_12       2.0"
      ]
     },
     "execution_count": 13,
     "metadata": {},
     "output_type": "execute_result"
    }
   ],
   "source": [
    "df_O3_forecast.head()"
   ]
  },
  {
   "cell_type": "code",
   "execution_count": 14,
   "metadata": {},
   "outputs": [],
   "source": [
    "df_O3_forecast = df_O3_forecast.sort_values(by = 'fecha')\n",
    "df_O3_forecast = df_O3_forecast.reset_index(drop = True)"
   ]
  },
  {
   "cell_type": "code",
   "execution_count": 15,
   "metadata": {},
   "outputs": [],
   "source": [
    "df_O3_forecast.to_csv(\"/home/pradel/Desktop/Forecast_CDMX_pollution/limpieza/df_o3_forecast.csv\", sep='\\t')"
   ]
  },
  {
   "cell_type": "code",
   "execution_count": 16,
   "metadata": {},
   "outputs": [],
   "source": [
    "#######"
   ]
  },
  {
   "cell_type": "code",
   "execution_count": 17,
   "metadata": {},
   "outputs": [],
   "source": [
    "df_forecast = pd.melt(df, id_vars=['fecha'], value_vars=[\n",
    " 'pred_1',\n",
    " 'pred_2',\n",
    " 'pred_3',\n",
    " 'pred_4',\n",
    " 'pred_5',\n",
    " 'pred_6',\n",
    " 'pred_7',\n",
    " 'pred_8',\n",
    " 'pred_9',\n",
    " 'pred_10',\n",
    " 'pred_11',\n",
    " 'pred_12'])\n"
   ]
  },
  {
   "cell_type": "code",
   "execution_count": 18,
   "metadata": {},
   "outputs": [],
   "source": [
    "df_forecast.columns = ['fecha', 'prediccion', 'medicion']"
   ]
  },
  {
   "cell_type": "code",
   "execution_count": 19,
   "metadata": {},
   "outputs": [
    {
     "data": {
      "text/html": [
       "<div>\n",
       "<style scoped>\n",
       "    .dataframe tbody tr th:only-of-type {\n",
       "        vertical-align: middle;\n",
       "    }\n",
       "\n",
       "    .dataframe tbody tr th {\n",
       "        vertical-align: top;\n",
       "    }\n",
       "\n",
       "    .dataframe thead th {\n",
       "        text-align: right;\n",
       "    }\n",
       "</style>\n",
       "<table border=\"1\" class=\"dataframe\">\n",
       "  <thead>\n",
       "    <tr style=\"text-align: right;\">\n",
       "      <th></th>\n",
       "      <th>fecha</th>\n",
       "      <th>prediccion</th>\n",
       "      <th>medicion</th>\n",
       "    </tr>\n",
       "  </thead>\n",
       "  <tbody>\n",
       "    <tr>\n",
       "      <th>0</th>\n",
       "      <td>2015-01-02 00:00:00</td>\n",
       "      <td>pred_1</td>\n",
       "      <td>35.557107</td>\n",
       "    </tr>\n",
       "    <tr>\n",
       "      <th>1</th>\n",
       "      <td>2015-01-02 01:00:00</td>\n",
       "      <td>pred_1</td>\n",
       "      <td>28.590309</td>\n",
       "    </tr>\n",
       "    <tr>\n",
       "      <th>2</th>\n",
       "      <td>2015-01-02 02:00:00</td>\n",
       "      <td>pred_1</td>\n",
       "      <td>91.845131</td>\n",
       "    </tr>\n",
       "    <tr>\n",
       "      <th>3</th>\n",
       "      <td>2015-01-02 03:00:00</td>\n",
       "      <td>pred_1</td>\n",
       "      <td>23.724043</td>\n",
       "    </tr>\n",
       "    <tr>\n",
       "      <th>4</th>\n",
       "      <td>2015-01-02 04:00:00</td>\n",
       "      <td>pred_1</td>\n",
       "      <td>51.654143</td>\n",
       "    </tr>\n",
       "  </tbody>\n",
       "</table>\n",
       "</div>"
      ],
      "text/plain": [
       "                 fecha prediccion   medicion\n",
       "0  2015-01-02 00:00:00     pred_1  35.557107\n",
       "1  2015-01-02 01:00:00     pred_1  28.590309\n",
       "2  2015-01-02 02:00:00     pred_1  91.845131\n",
       "3  2015-01-02 03:00:00     pred_1  23.724043\n",
       "4  2015-01-02 04:00:00     pred_1  51.654143"
      ]
     },
     "execution_count": 19,
     "metadata": {},
     "output_type": "execute_result"
    }
   ],
   "source": [
    "df_forecast.head()"
   ]
  },
  {
   "cell_type": "code",
   "execution_count": 20,
   "metadata": {},
   "outputs": [],
   "source": [
    "df_forecast = df_forecast.sort_values(by = 'fecha')\n",
    "df_forecast = df_forecast.reset_index(drop = True)"
   ]
  },
  {
   "cell_type": "code",
   "execution_count": 21,
   "metadata": {},
   "outputs": [],
   "source": [
    "df_forecast.to_csv(\"/home/pradel/Desktop/Forecast_CDMX_pollution/limpieza/df_forecast.csv\", sep='\\t')"
   ]
  },
  {
   "cell_type": "code",
   "execution_count": null,
   "metadata": {},
   "outputs": [],
   "source": []
  },
  {
   "cell_type": "code",
   "execution_count": null,
   "metadata": {},
   "outputs": [],
   "source": []
  },
  {
   "cell_type": "code",
   "execution_count": null,
   "metadata": {},
   "outputs": [],
   "source": []
  }
 ],
 "metadata": {
  "kernelspec": {
   "display_name": "Python 3",
   "language": "python",
   "name": "python3"
  },
  "language_info": {
   "codemirror_mode": {
    "name": "ipython",
    "version": 3
   },
   "file_extension": ".py",
   "mimetype": "text/x-python",
   "name": "python",
   "nbconvert_exporter": "python",
   "pygments_lexer": "ipython3",
   "version": "3.7.2"
  }
 },
 "nbformat": 4,
 "nbformat_minor": 2
}
