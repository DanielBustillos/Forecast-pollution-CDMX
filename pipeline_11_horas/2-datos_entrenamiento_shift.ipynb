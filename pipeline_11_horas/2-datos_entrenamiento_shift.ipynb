{
 "cells": [
  {
   "cell_type": "markdown",
   "metadata": {},
   "source": [
    "## Obtención de columnas con persistencia temporal y agrupación de Promedio, máximo y mínimo por hora.\n",
    "\n",
    "#### Diseño del modelo\n",
    "\n",
    "Una vez que se obtienen los datos limpios, estos pueden ser utilizados para una serie de pruebas, donde se decidirá la granularidad temporal y la representatividad geográfica con la que se va a efectuar el pronóstico. Este proceso es iterativo: se aplica un procesamiento a los datos, se entrenan los modelos y se analiza su desempeño. A continuación se muestran las principales variantes de los modelos generados así como sus descripción:\n",
    "\n",
    "\n",
    "<img src=\"./fotos_markdown/diseno_modelo.png\" style=\"height:300px\">\n",
    "\n",
    "* __Pronóstico por estación__: Se generó un modelo para todas las estaciónes de monitoreo. Debido a que la mayoría de las estaciones solo miden un subconjunto de todas las variables y no todas a la vez, los modelos generados sólo resultaron viables para las estaciones que miden todas las variables. Para la mayoría de las estaciones donde la cantidad de variables es baja,  el modelo subestima los valores de pronóstico.\n",
    "\n",
    "\n",
    "* __Pronóstico para toda la Ciudad__: Para poder solventar que no todas las estaciones miden las mismas variables, se obtuvo el promedio, el mínimo y el máximo de los valores medidos en todas las estaciones por cada hora, al tomar estos valores, se pierde el atributo de la estación. El pronóstico mejoró, sin embargo el desempeño no era el esperado debido a los numerosos falsos positivos: la información-base de los modelos no era suficiente para describir el fenómeno.\n",
    "\n",
    "\n",
    "* __Pronóstico por día__: Junto al proceso anterior, se procedió a volver a sacar el promedio, el mínimo y el máximo pero en esta ocasión por día y no por hora. Se obtuvo un modelo de pronóstico del valor máximo de cada día. El resultado no fue el esperado, el resultado mejoró considerablemente a comparación de los dos procesos anteriores sin embargo, el modelo seguía pronosticando demasiados falsos negativos: la contingencia no se pronosticaba correctamente debido a que al promediar por día, se pierde la información horaria y disminuye considerablemente el número de registros.\n",
    "\n",
    "\n",
    "* __Pronóstico con persistencia temporal__: Usando los datos del pronóstico por hora para toda la ciudad, se utilizó la persistencia observada en el fenómeno entre horas pasadas y presentes, para generar nuevas columnas con los atributos de horas pasadas más correlacionadas con el presente. Se volvieron a entrenar los modelos con estas variables nuevas, obteniendo resultados satisfactorios.\n",
    "\n",
    "\n",
    "__Pasos y descripción general del notebook__\n",
    "\n",
    "\n",
    "El modelo elegido es el __horario con persistencia temporal__, habiendo obtenido la más baja tasa de falsos negativos y falsos positivos. Más adelante se expone su análisis con métricas de desempeño. A continuación se muestra el proceso para obtener los datos de entrenamiento del modelo:\n",
    "\n",
    "<img src=\"./fotos_markdown/diagrama_2.png\" style=\"height:350px\">\n",
    "\n",
    "\n",
    "\n",
    "1. __Contaminantes de horas anteriores más correlacionadas:__ se obtiene la correlación, de las variables meteorológicas y de contaminación, entre sus valores de una hora atrás con los de 72 horas atrás consigo mismas, de 1 hasta 72 horas atrás. El resultado es una una tabla de correlación temporal desplazada temporalmente la cual nos servirá para poder filtrar las variables más correlacionadas, es decir, las que más influyen en los niveles de contaminación.\n",
    "\n",
    "\n",
    "2. __Aplicar Desplazamiento temporal:__ a partir de tablas de correlación temporal desplazada, se hace una columna para cada variable correlacionada: cuando existe una correlación mayor a 0.44 de cualquier atributo con los contaminantes mencionados, se hace una nueva columna con estos valores.\n",
    "\n",
    "\n",
    "\n",
    "3. __Max, Mean, Min:__ se obtiene el máximo, el promedio y el mínimo de cada variable por hora, el resultado es una tabla con una sola fila por cada hora, en esta tabla se pierde el atributo de estación y así la información geográfica de donde se tomó la medición.\n",
    "\n",
    "\n",
    "4. __Generar las columna a pronosticar:__ Se genera la columna con el valor del conntaminante a pronosticar a 24 horas y se obtiene la correlación de los valores promedio máximo y mínimo con éste. Por último se Filtran los valores más importantes.\n",
    "\n",
    "\n",
    "5. __Generar las columnas de pronóstico de RH, WSP TMP:__ Se generan columnas con el pronóstico meteorológico  de estos atributos.\n",
    "\n",
    "\n",
    "6. __Generar las columnas del contaminante a pronosticar de 1 hasta 23 horas:__ Se generan las columnas con el valor del contaminante a prononsticar desde 1 hasta 24 horas.\n",
    "\n",
    "\n",
    "\n",
    "- __Datos recibidos:__ Limpieza de datos inicial\n",
    "- __Responsable:__ Daniel Bustillos\n",
    "- __Contacto:__  juandaniel.bucam@gmail.com"
   ]
  },
  {
   "cell_type": "markdown",
   "metadata": {},
   "source": [
    "Este notebook presenta el proceso donde se ha obtenido los mejores desempeños de los modelos de los contaminantes. Después de un proceso iterativo y de un análisis del desempeño de los modelos, se obtuvieron las siguientes conclusiones:\n",
    "\n",
    "- Utilizar la propiedad de persistencia temporal, mejora significativamente los modelos.\n",
    "\n",
    "\n",
    "- Obtener el promedio, el máximo y el mínimo por hora en lugar de trabajar con la medición de cada estación, genera una consolidación de las mediciones y disminuye el efecto negativo de los atributos faltantes en las mediciones a raíz de las capacidades de las estación de monitoreo.\n",
    "\n",
    "\n",
    "- Añadir el pronóstico meteorológico a 24 horas, añade fiabilidad a los modelos disminuyendo el error asociado del pronóstico. Este pronóstico se obtendrá posteriormente de una fuente externa.\n"
   ]
  },
  {
   "cell_type": "code",
   "execution_count": 1,
   "metadata": {},
   "outputs": [],
   "source": [
    "from sklearn.datasets import make_regression\n",
    "\n",
    "from sklearn.metrics import confusion_matrix\n",
    "from sklearn.metrics import fbeta_score, make_scorer\n",
    "\n",
    "import seaborn as sn\n",
    "from sklearn.metrics import confusion_matrix as confussion_matrix_function\n",
    "from sklearn.model_selection import GridSearchCV\n",
    "from sklearn.metrics import fbeta_score, make_scorer\n",
    "import seaborn as sn\n"
   ]
  },
  {
   "cell_type": "code",
   "execution_count": 2,
   "metadata": {},
   "outputs": [],
   "source": [
    "def specifity(y_true, y_pred):\n",
    "    tn, fp, fn, tp = confussion_matrix_function(y_true.tolist(), y_pred.tolist()).ravel()\n",
    "    specifity_score = tp / (fn+fp)\n",
    "    return specifity_score\n",
    "\n",
    " # score will negate the return value of my_custom_loss_func,\n",
    "# which will be np.log(2), 0.693, given the values for X\n",
    "# and y defined below.\n",
    "specifity_scorer = make_scorer(specifity, greater_is_better=True)"
   ]
  },
  {
   "cell_type": "code",
   "execution_count": 3,
   "metadata": {},
   "outputs": [],
   "source": [
    "def predictor_mean(model0_1,modelo_2,X_set):  \n",
    "    #aplicamos los predict\n",
    "    forecast_q = model0_1.predict(X_set) \n",
    "    forecast = modelo_2.predict(X_set)\n",
    "   #generamos una lista dummy: \n",
    "    forecast_mean = forecast \n",
    "    \n",
    "    for i in range(len(X_set)):\n",
    "        if  forecast[i] < 135:\n",
    "            forecast_mean[i] = forecast[i]\n",
    "        elif  forecast_q[i] > 160:\n",
    "            forecast_mean[i] = forecast_q[i]\n",
    "        if  130 < forecast_q[i] <155 and 130 < forecast[i] < 155:\n",
    "            forecast_mean[i] = (0.3*forecast_q[i] + 0.7*forecast[i])\n",
    "        if  140 < forecast_q[i] <160 and 140 < forecast[i] < 160:\n",
    "            forecast_mean[i] = (forecast_q[i] + forecast[i])/2\n",
    "    return forecast_mean"
   ]
  },
  {
   "cell_type": "code",
   "execution_count": 4,
   "metadata": {},
   "outputs": [],
   "source": [
    "def ploter(y_test_0,X_test_0,pronosticados_0,model):\n",
    "    \n",
    "    plt.scatter(y_test_0, pronosticados_0,alpha=0.5,color=\"royalblue\")\n",
    "    score = round(model.score(X_test_0, y_test_0),3)\n",
    "    rmse = round(np.sqrt(mean_squared_error(y_test_0, pronosticados_0)),3)\n",
    "    plt.plot([30,130],[30,130],color=\"k\",linestyle='--')\n",
    "    \n",
    "    plt.axhline(y=154, color='k', linestyle='--')\n",
    "    plt.axvline(x=154, color='k', linestyle='--')\n",
    "    plt.annotate('TP', (170,150), xytext = (175, 155 + 1), \n",
    "                  horizontalalignment='right')\n",
    "    plt.annotate('FN', (170,150), xytext = (175, 135 + 1), \n",
    "                  horizontalalignment='right')\n",
    "    plt.annotate('FP', (170,150), xytext = (125, 155 + 1), \n",
    "                  horizontalalignment='right')\n",
    "    plt.annotate('FP', (170,150), xytext = (125, 135 + 1), \n",
    "                  horizontalalignment='right')\n",
    "    plt.annotate(\"Score =\"+str(score), (15,139), xytext = (15, 139 + 1), \n",
    "                  horizontalalignment='left')\n",
    "    plt.annotate(\"RMSE =\"+str(rmse), (15,119), xytext = (15, 119 + 1), \n",
    "                  horizontalalignment='left')\n",
    "    \n",
    "    \n",
    "    plt.xlabel('Measured')\n",
    "    plt.ylabel('Predicted')\n",
    "    plt.title('Pronóstico con Persistencia Temporal')\n",
    "    plt.show()"
   ]
  },
  {
   "cell_type": "code",
   "execution_count": 5,
   "metadata": {},
   "outputs": [],
   "source": [
    "Contaminantes = [\"O3\",\"PM10mean\",\"PM25mean\"]"
   ]
  },
  {
   "cell_type": "code",
   "execution_count": 6,
   "metadata": {},
   "outputs": [
    {
     "data": {
      "text/plain": [
       "'PM25mean'"
      ]
     },
     "execution_count": 6,
     "metadata": {},
     "output_type": "execute_result"
    }
   ],
   "source": [
    "contaminante = Contaminantes[2]\n",
    "contaminante"
   ]
  },
  {
   "cell_type": "code",
   "execution_count": 7,
   "metadata": {},
   "outputs": [],
   "source": [
    "import pandas as pd\n",
    "from sklearn.model_selection import train_test_split\n",
    "from xgboost.sklearn import XGBRegressor\n",
    "import matplotlib.pyplot as plt\n",
    "from sklearn.metrics import mean_squared_error\n",
    "import numpy as np\n",
    "from matplotlib import pyplot\n",
    "from xgboost import plot_importance\n",
    "from sklearn.feature_selection import SelectFromModel\n",
    "from numpy import sort\n",
    "pd.options.mode.chained_assignment = None \n",
    "import seaborn as sns"
   ]
  },
  {
   "cell_type": "code",
   "execution_count": 8,
   "metadata": {},
   "outputs": [],
   "source": [
    "data_hour_merge_24 = pd.read_csv('./datos/datos_entrenamiento.csv')"
   ]
  },
  {
   "cell_type": "code",
   "execution_count": 9,
   "metadata": {},
   "outputs": [],
   "source": [
    "data_hour_merge_24 = data_hour_merge_24.dropna(subset=[contaminante]).reset_index(drop=True)#PM25"
   ]
  },
  {
   "cell_type": "code",
   "execution_count": 10,
   "metadata": {},
   "outputs": [
    {
     "data": {
      "text/html": [
       "<div>\n",
       "<style scoped>\n",
       "    .dataframe tbody tr th:only-of-type {\n",
       "        vertical-align: middle;\n",
       "    }\n",
       "\n",
       "    .dataframe tbody tr th {\n",
       "        vertical-align: top;\n",
       "    }\n",
       "\n",
       "    .dataframe thead th {\n",
       "        text-align: right;\n",
       "    }\n",
       "</style>\n",
       "<table border=\"1\" class=\"dataframe\">\n",
       "  <thead>\n",
       "    <tr style=\"text-align: right;\">\n",
       "      <th></th>\n",
       "      <th>RH</th>\n",
       "      <th>TMP</th>\n",
       "      <th>WSP</th>\n",
       "      <th>id_station</th>\n",
       "      <th>fecha</th>\n",
       "      <th>CO</th>\n",
       "      <th>NO</th>\n",
       "      <th>NO2</th>\n",
       "      <th>NOX</th>\n",
       "      <th>O3</th>\n",
       "      <th>PM10</th>\n",
       "      <th>PM2.5</th>\n",
       "      <th>SO2</th>\n",
       "      <th>hora</th>\n",
       "      <th>dia</th>\n",
       "      <th>mes</th>\n",
       "      <th>PM10mean</th>\n",
       "      <th>PM25mean</th>\n",
       "    </tr>\n",
       "  </thead>\n",
       "  <tbody>\n",
       "    <tr>\n",
       "      <th>0</th>\n",
       "      <td>NaN</td>\n",
       "      <td>NaN</td>\n",
       "      <td>NaN</td>\n",
       "      <td>CAM</td>\n",
       "      <td>2015-01-02 00:00:00</td>\n",
       "      <td>1.7</td>\n",
       "      <td>NaN</td>\n",
       "      <td>NaN</td>\n",
       "      <td>NaN</td>\n",
       "      <td>1.0</td>\n",
       "      <td>46.0</td>\n",
       "      <td>32.0</td>\n",
       "      <td>4.0</td>\n",
       "      <td>0</td>\n",
       "      <td>2.0</td>\n",
       "      <td>1.0</td>\n",
       "      <td>97.625000</td>\n",
       "      <td>83.916667</td>\n",
       "    </tr>\n",
       "    <tr>\n",
       "      <th>1</th>\n",
       "      <td>NaN</td>\n",
       "      <td>NaN</td>\n",
       "      <td>0.5</td>\n",
       "      <td>MGH</td>\n",
       "      <td>2015-01-02 00:00:00</td>\n",
       "      <td>1.8</td>\n",
       "      <td>146.0</td>\n",
       "      <td>32.0</td>\n",
       "      <td>178.0</td>\n",
       "      <td>1.0</td>\n",
       "      <td>36.0</td>\n",
       "      <td>25.0</td>\n",
       "      <td>3.0</td>\n",
       "      <td>0</td>\n",
       "      <td>2.0</td>\n",
       "      <td>1.0</td>\n",
       "      <td>109.916667</td>\n",
       "      <td>96.583333</td>\n",
       "    </tr>\n",
       "    <tr>\n",
       "      <th>2</th>\n",
       "      <td>51.0</td>\n",
       "      <td>10.5</td>\n",
       "      <td>1.2</td>\n",
       "      <td>PED</td>\n",
       "      <td>2015-01-02 00:00:00</td>\n",
       "      <td>0.6</td>\n",
       "      <td>10.0</td>\n",
       "      <td>32.0</td>\n",
       "      <td>42.0</td>\n",
       "      <td>NaN</td>\n",
       "      <td>14.0</td>\n",
       "      <td>5.0</td>\n",
       "      <td>2.0</td>\n",
       "      <td>0</td>\n",
       "      <td>2.0</td>\n",
       "      <td>1.0</td>\n",
       "      <td>94.750000</td>\n",
       "      <td>73.208333</td>\n",
       "    </tr>\n",
       "    <tr>\n",
       "      <th>3</th>\n",
       "      <td>NaN</td>\n",
       "      <td>NaN</td>\n",
       "      <td>NaN</td>\n",
       "      <td>CAM</td>\n",
       "      <td>2015-01-02 01:00:00</td>\n",
       "      <td>1.6</td>\n",
       "      <td>NaN</td>\n",
       "      <td>NaN</td>\n",
       "      <td>NaN</td>\n",
       "      <td>2.0</td>\n",
       "      <td>42.0</td>\n",
       "      <td>32.0</td>\n",
       "      <td>5.0</td>\n",
       "      <td>1</td>\n",
       "      <td>2.0</td>\n",
       "      <td>1.0</td>\n",
       "      <td>95.416667</td>\n",
       "      <td>81.916667</td>\n",
       "    </tr>\n",
       "    <tr>\n",
       "      <th>4</th>\n",
       "      <td>NaN</td>\n",
       "      <td>NaN</td>\n",
       "      <td>0.6</td>\n",
       "      <td>MGH</td>\n",
       "      <td>2015-01-02 01:00:00</td>\n",
       "      <td>1.6</td>\n",
       "      <td>142.0</td>\n",
       "      <td>30.0</td>\n",
       "      <td>172.0</td>\n",
       "      <td>1.0</td>\n",
       "      <td>31.0</td>\n",
       "      <td>21.0</td>\n",
       "      <td>3.0</td>\n",
       "      <td>1</td>\n",
       "      <td>2.0</td>\n",
       "      <td>1.0</td>\n",
       "      <td>104.333333</td>\n",
       "      <td>91.375000</td>\n",
       "    </tr>\n",
       "  </tbody>\n",
       "</table>\n",
       "</div>"
      ],
      "text/plain": [
       "     RH   TMP  WSP id_station                fecha   CO     NO   NO2    NOX  \\\n",
       "0   NaN   NaN  NaN        CAM  2015-01-02 00:00:00  1.7    NaN   NaN    NaN   \n",
       "1   NaN   NaN  0.5        MGH  2015-01-02 00:00:00  1.8  146.0  32.0  178.0   \n",
       "2  51.0  10.5  1.2        PED  2015-01-02 00:00:00  0.6   10.0  32.0   42.0   \n",
       "3   NaN   NaN  NaN        CAM  2015-01-02 01:00:00  1.6    NaN   NaN    NaN   \n",
       "4   NaN   NaN  0.6        MGH  2015-01-02 01:00:00  1.6  142.0  30.0  172.0   \n",
       "\n",
       "    O3  PM10  PM2.5  SO2  hora  dia  mes    PM10mean   PM25mean  \n",
       "0  1.0  46.0   32.0  4.0     0  2.0  1.0   97.625000  83.916667  \n",
       "1  1.0  36.0   25.0  3.0     0  2.0  1.0  109.916667  96.583333  \n",
       "2  NaN  14.0    5.0  2.0     0  2.0  1.0   94.750000  73.208333  \n",
       "3  2.0  42.0   32.0  5.0     1  2.0  1.0   95.416667  81.916667  \n",
       "4  1.0  31.0   21.0  3.0     1  2.0  1.0  104.333333  91.375000  "
      ]
     },
     "execution_count": 10,
     "metadata": {},
     "output_type": "execute_result"
    }
   ],
   "source": [
    "data_hour_merge_24.head(5)"
   ]
  },
  {
   "cell_type": "code",
   "execution_count": 11,
   "metadata": {},
   "outputs": [],
   "source": [
    "example=data_hour_merge_24.dropna(subset=[\"PM10mean\"],axis=0)"
   ]
  },
  {
   "cell_type": "markdown",
   "metadata": {},
   "source": [
    "## 1. \n",
    "### Usando el archivo de correlación con retraso temporal, se crean nuevas columnas con el atributo y las horas atrás.\n"
   ]
  },
  {
   "cell_type": "markdown",
   "metadata": {},
   "source": [
    "La corraloción con retraso temporal se refiere a la influencia que tienen las condiciones atmosféricas de un hora dada sobre las condiciones futuras, por ejemplo, si el nivel de contaminación de actual es alto ¿este valor influirá en la contaminación del día siguiente o la contaminación de cada día no se ve influida por valores pasados? La respuesta es la primera opción, valores pasados de las condiciones atmosféricas influyen fuertemente en la contaminación _actual_.\n",
    "\n",
    "Esta propiedad es clave para la generación de un modelo estadístico, la existencia de patrones y de factores que aparentemente influyen en la contaminación nos permiten tener un conjunto de datos que determinen la contaminación.\n",
    "\n",
    "\n",
    "La generación de la correlación se encuentra en: __/home/paw/DanielBustillos/contaminación/correlaciones_pau/correlaciones_función_paulina.ipynb__"
   ]
  },
  {
   "cell_type": "code",
   "execution_count": 12,
   "metadata": {},
   "outputs": [
    {
     "data": {
      "text/plain": [
       "'PM25mean_y'"
      ]
     },
     "execution_count": 12,
     "metadata": {},
     "output_type": "execute_result"
    }
   ],
   "source": [
    "target = str(contaminante + \"_y\")\n",
    "target"
   ]
  },
  {
   "cell_type": "code",
   "execution_count": 13,
   "metadata": {},
   "outputs": [],
   "source": [
    "corr_path = str(\"/DATA/paw/jupyterhub_notebook/daniel.bustillos/DanielBustillos/contaminación/correlaciones_pau/\"+\n",
    "    contaminante +\"_max_corr.csv\")"
   ]
  },
  {
   "cell_type": "code",
   "execution_count": 14,
   "metadata": {},
   "outputs": [
    {
     "data": {
      "text/html": [
       "<div>\n",
       "<style scoped>\n",
       "    .dataframe tbody tr th:only-of-type {\n",
       "        vertical-align: middle;\n",
       "    }\n",
       "\n",
       "    .dataframe tbody tr th {\n",
       "        vertical-align: top;\n",
       "    }\n",
       "\n",
       "    .dataframe thead th {\n",
       "        text-align: right;\n",
       "    }\n",
       "</style>\n",
       "<table border=\"1\" class=\"dataframe\">\n",
       "  <thead>\n",
       "    <tr style=\"text-align: right;\">\n",
       "      <th></th>\n",
       "      <th>contaminante</th>\n",
       "      <th>valor</th>\n",
       "      <th>horas</th>\n",
       "    </tr>\n",
       "  </thead>\n",
       "  <tbody>\n",
       "    <tr>\n",
       "      <th>0</th>\n",
       "      <td>RH</td>\n",
       "      <td>-0.135575</td>\n",
       "      <td>0.0</td>\n",
       "    </tr>\n",
       "    <tr>\n",
       "      <th>1</th>\n",
       "      <td>TMP</td>\n",
       "      <td>0.002037</td>\n",
       "      <td>0.0</td>\n",
       "    </tr>\n",
       "    <tr>\n",
       "      <th>2</th>\n",
       "      <td>WSP</td>\n",
       "      <td>-0.104811</td>\n",
       "      <td>0.0</td>\n",
       "    </tr>\n",
       "    <tr>\n",
       "      <th>3</th>\n",
       "      <td>CO</td>\n",
       "      <td>0.326505</td>\n",
       "      <td>0.0</td>\n",
       "    </tr>\n",
       "    <tr>\n",
       "      <th>4</th>\n",
       "      <td>NO</td>\n",
       "      <td>0.180772</td>\n",
       "      <td>0.0</td>\n",
       "    </tr>\n",
       "  </tbody>\n",
       "</table>\n",
       "</div>"
      ],
      "text/plain": [
       "  contaminante     valor  horas\n",
       "0           RH -0.135575    0.0\n",
       "1          TMP  0.002037    0.0\n",
       "2          WSP -0.104811    0.0\n",
       "3           CO  0.326505    0.0\n",
       "4           NO  0.180772    0.0"
      ]
     },
     "execution_count": 14,
     "metadata": {},
     "output_type": "execute_result"
    }
   ],
   "source": [
    "O3_corr = pd.read_csv(corr_path) # leemo el archivo de correlación\n",
    "O3_corr = O3_corr.iloc[:,:]\n",
    "O3_corr.head()"
   ]
  },
  {
   "cell_type": "markdown",
   "metadata": {},
   "source": [
    "- La columna \"contaminante\" se tiene el atributo sobre el que se realizó la correlación.\n",
    "- La columna \"valor\" indica el valor de la correlación.\n",
    "- La columna \"horas\" indica las horas de retraso."
   ]
  },
  {
   "cell_type": "markdown",
   "metadata": {},
   "source": [
    "Vamos a aplicar un filtro, nos quedaremos con las variables con una correlación entre -0.44 y 0.44. Este valor se eligió de forma que la cantidad de atributos final sea menor a 110:"
   ]
  },
  {
   "cell_type": "code",
   "execution_count": 15,
   "metadata": {},
   "outputs": [],
   "source": [
    "if contaminante == \"O3\":\n",
    "    threshold = 0.35\n",
    "else: threshold = 0.45"
   ]
  },
  {
   "cell_type": "code",
   "execution_count": 16,
   "metadata": {},
   "outputs": [
    {
     "data": {
      "text/plain": [
       "(167, 3)"
      ]
     },
     "execution_count": 16,
     "metadata": {},
     "output_type": "execute_result"
    }
   ],
   "source": [
    "O3_corr_filtro = O3_corr[(O3_corr.valor > threshold ) | (O3_corr.valor < - threshold) ].reset_index(drop=True)\n",
    "O3_corr_filtro.shape"
   ]
  },
  {
   "cell_type": "markdown",
   "metadata": {},
   "source": [
    "Una vez que tenemos los contaminantes y el número de horas de retraso, definimos una función que nos genere una nueva columna con el contaminante recorrido temporalmente las horas indicadas en **O3_corr_filtro**:"
   ]
  },
  {
   "cell_type": "code",
   "execution_count": 17,
   "metadata": {},
   "outputs": [],
   "source": [
    "def shit_corr(df):\n",
    "    for i in range(len(O3_corr_filtro)):\n",
    "        name_column = str( O3_corr_filtro.loc[i,\"contaminante\"] + \"_\" + str(\n",
    "            O3_corr_filtro.loc[i,\"horas\"])) # se define el nombre de la columna a crear con el formato:\n",
    "                                            # contaminante _ horas de retraso\n",
    "        df[name_column] = df[O3_corr_filtro.loc[i,\"contaminante\"]].shift(\n",
    "            int(float(str(O3_corr_filtro.loc[i,\"horas\"])))) # se toma el nombre del contaminante y se \n",
    "                                                            # desplaza temporalmente las horas indicadas\n",
    "    return df.dropna()"
   ]
  },
  {
   "cell_type": "markdown",
   "metadata": {},
   "source": [
    "Debido a que por cada hora se tienen tantos registros como el número de estaciones de monitoreo, existen fechas duplicadas en el df:"
   ]
  },
  {
   "cell_type": "markdown",
   "metadata": {},
   "source": [
    "Al tener fechas duplicadas, puede ocurrrir errores al aplicar el desplazamiento, por este motivo vamos a generar **un dataframe por cada estación**, aplicaremos la función y por último uniremos los dataframes:"
   ]
  },
  {
   "cell_type": "raw",
   "metadata": {},
   "source": [
    "[str( O3_corr_filtro.loc[i,\"contaminante\"] + \"_\" + str(O3_corr_filtro.loc[i,\"horas\"])) for i in range(len(O3_corr_filtro))]"
   ]
  },
  {
   "cell_type": "code",
   "execution_count": 18,
   "metadata": {},
   "outputs": [],
   "source": [
    "estaciones = data_hour_merge_24.id_station.unique().tolist() # recolectamos los nombres de las estaciones\n",
    "data_est = {}\n",
    "for elem in estaciones:\n",
    "    data_est[elem] = data_hour_merge_24[data_hour_merge_24.id_station == elem] #hacemos un df por estación"
   ]
  },
  {
   "cell_type": "markdown",
   "metadata": {},
   "source": [
    "Aplicamos la función para cada dataframe:"
   ]
  },
  {
   "cell_type": "code",
   "execution_count": 19,
   "metadata": {},
   "outputs": [],
   "source": [
    "data_shift = {}\n",
    "for elem in data_est:\n",
    "    data_shift[elem] = shit_corr(data_est[elem])"
   ]
  },
  {
   "cell_type": "markdown",
   "metadata": {},
   "source": [
    "Unimos los dataframes:"
   ]
  },
  {
   "cell_type": "code",
   "execution_count": 20,
   "metadata": {},
   "outputs": [],
   "source": [
    "df_append = pd.DataFrame(columns = data_est[\"MER\"].columns.tolist())\n",
    "for key in data_est:\n",
    "    df_append = df_append.append(data_est[key], ignore_index=True,sort=True)"
   ]
  },
  {
   "cell_type": "code",
   "execution_count": 21,
   "metadata": {},
   "outputs": [
    {
     "data": {
      "text/html": [
       "<div>\n",
       "<style scoped>\n",
       "    .dataframe tbody tr th:only-of-type {\n",
       "        vertical-align: middle;\n",
       "    }\n",
       "\n",
       "    .dataframe tbody tr th {\n",
       "        vertical-align: top;\n",
       "    }\n",
       "\n",
       "    .dataframe thead th {\n",
       "        text-align: right;\n",
       "    }\n",
       "</style>\n",
       "<table border=\"1\" class=\"dataframe\">\n",
       "  <thead>\n",
       "    <tr style=\"text-align: right;\">\n",
       "      <th></th>\n",
       "      <th>CO</th>\n",
       "      <th>NO</th>\n",
       "      <th>NO2</th>\n",
       "      <th>NO2_0.0</th>\n",
       "      <th>NO2_1.0</th>\n",
       "      <th>NO2_10.0</th>\n",
       "      <th>NO2_11.0</th>\n",
       "      <th>NO2_12.0</th>\n",
       "      <th>NO2_13.0</th>\n",
       "      <th>NO2_14.0</th>\n",
       "      <th>...</th>\n",
       "      <th>PM25mean_9.0</th>\n",
       "      <th>RH</th>\n",
       "      <th>SO2</th>\n",
       "      <th>TMP</th>\n",
       "      <th>WSP</th>\n",
       "      <th>dia</th>\n",
       "      <th>fecha</th>\n",
       "      <th>hora</th>\n",
       "      <th>id_station</th>\n",
       "      <th>mes</th>\n",
       "    </tr>\n",
       "  </thead>\n",
       "  <tbody>\n",
       "    <tr>\n",
       "      <th>252933</th>\n",
       "      <td>NaN</td>\n",
       "      <td>NaN</td>\n",
       "      <td>28.0</td>\n",
       "      <td>28.0</td>\n",
       "      <td>25.0</td>\n",
       "      <td>15.0</td>\n",
       "      <td>14.0</td>\n",
       "      <td>11.0</td>\n",
       "      <td>7.0</td>\n",
       "      <td>6.0</td>\n",
       "      <td>...</td>\n",
       "      <td>19.541667</td>\n",
       "      <td>80.0</td>\n",
       "      <td>NaN</td>\n",
       "      <td>14.6</td>\n",
       "      <td>0.9</td>\n",
       "      <td>31.0</td>\n",
       "      <td>2019-07-31 06:00:00</td>\n",
       "      <td>6</td>\n",
       "      <td>GAM</td>\n",
       "      <td>7.0</td>\n",
       "    </tr>\n",
       "    <tr>\n",
       "      <th>252934</th>\n",
       "      <td>NaN</td>\n",
       "      <td>NaN</td>\n",
       "      <td>28.0</td>\n",
       "      <td>28.0</td>\n",
       "      <td>28.0</td>\n",
       "      <td>15.0</td>\n",
       "      <td>15.0</td>\n",
       "      <td>14.0</td>\n",
       "      <td>11.0</td>\n",
       "      <td>7.0</td>\n",
       "      <td>...</td>\n",
       "      <td>19.916667</td>\n",
       "      <td>80.0</td>\n",
       "      <td>NaN</td>\n",
       "      <td>14.7</td>\n",
       "      <td>0.0</td>\n",
       "      <td>31.0</td>\n",
       "      <td>2019-07-31 07:00:00</td>\n",
       "      <td>7</td>\n",
       "      <td>GAM</td>\n",
       "      <td>7.0</td>\n",
       "    </tr>\n",
       "    <tr>\n",
       "      <th>252935</th>\n",
       "      <td>NaN</td>\n",
       "      <td>NaN</td>\n",
       "      <td>32.0</td>\n",
       "      <td>32.0</td>\n",
       "      <td>28.0</td>\n",
       "      <td>15.0</td>\n",
       "      <td>15.0</td>\n",
       "      <td>15.0</td>\n",
       "      <td>14.0</td>\n",
       "      <td>11.0</td>\n",
       "      <td>...</td>\n",
       "      <td>19.916667</td>\n",
       "      <td>75.0</td>\n",
       "      <td>NaN</td>\n",
       "      <td>15.9</td>\n",
       "      <td>0.8</td>\n",
       "      <td>31.0</td>\n",
       "      <td>2019-07-31 08:00:00</td>\n",
       "      <td>8</td>\n",
       "      <td>GAM</td>\n",
       "      <td>7.0</td>\n",
       "    </tr>\n",
       "    <tr>\n",
       "      <th>252936</th>\n",
       "      <td>NaN</td>\n",
       "      <td>NaN</td>\n",
       "      <td>40.0</td>\n",
       "      <td>40.0</td>\n",
       "      <td>32.0</td>\n",
       "      <td>17.0</td>\n",
       "      <td>15.0</td>\n",
       "      <td>15.0</td>\n",
       "      <td>15.0</td>\n",
       "      <td>14.0</td>\n",
       "      <td>...</td>\n",
       "      <td>20.083333</td>\n",
       "      <td>69.0</td>\n",
       "      <td>NaN</td>\n",
       "      <td>17.3</td>\n",
       "      <td>1.3</td>\n",
       "      <td>31.0</td>\n",
       "      <td>2019-07-31 09:00:00</td>\n",
       "      <td>9</td>\n",
       "      <td>GAM</td>\n",
       "      <td>7.0</td>\n",
       "    </tr>\n",
       "    <tr>\n",
       "      <th>252937</th>\n",
       "      <td>NaN</td>\n",
       "      <td>NaN</td>\n",
       "      <td>NaN</td>\n",
       "      <td>NaN</td>\n",
       "      <td>40.0</td>\n",
       "      <td>12.0</td>\n",
       "      <td>17.0</td>\n",
       "      <td>15.0</td>\n",
       "      <td>15.0</td>\n",
       "      <td>15.0</td>\n",
       "      <td>...</td>\n",
       "      <td>20.125000</td>\n",
       "      <td>66.0</td>\n",
       "      <td>NaN</td>\n",
       "      <td>17.7</td>\n",
       "      <td>1.4</td>\n",
       "      <td>31.0</td>\n",
       "      <td>2019-07-31 10:00:00</td>\n",
       "      <td>10</td>\n",
       "      <td>GAM</td>\n",
       "      <td>7.0</td>\n",
       "    </tr>\n",
       "  </tbody>\n",
       "</table>\n",
       "<p>5 rows × 185 columns</p>\n",
       "</div>"
      ],
      "text/plain": [
       "        CO  NO   NO2  NO2_0.0  NO2_1.0  NO2_10.0  NO2_11.0  NO2_12.0  \\\n",
       "252933 NaN NaN  28.0     28.0     25.0      15.0      14.0      11.0   \n",
       "252934 NaN NaN  28.0     28.0     28.0      15.0      15.0      14.0   \n",
       "252935 NaN NaN  32.0     32.0     28.0      15.0      15.0      15.0   \n",
       "252936 NaN NaN  40.0     40.0     32.0      17.0      15.0      15.0   \n",
       "252937 NaN NaN   NaN      NaN     40.0      12.0      17.0      15.0   \n",
       "\n",
       "        NO2_13.0  NO2_14.0  ...  PM25mean_9.0    RH  SO2   TMP  WSP   dia  \\\n",
       "252933       7.0       6.0  ...     19.541667  80.0  NaN  14.6  0.9  31.0   \n",
       "252934      11.0       7.0  ...     19.916667  80.0  NaN  14.7  0.0  31.0   \n",
       "252935      14.0      11.0  ...     19.916667  75.0  NaN  15.9  0.8  31.0   \n",
       "252936      15.0      14.0  ...     20.083333  69.0  NaN  17.3  1.3  31.0   \n",
       "252937      15.0      15.0  ...     20.125000  66.0  NaN  17.7  1.4  31.0   \n",
       "\n",
       "                      fecha  hora  id_station  mes  \n",
       "252933  2019-07-31 06:00:00     6         GAM  7.0  \n",
       "252934  2019-07-31 07:00:00     7         GAM  7.0  \n",
       "252935  2019-07-31 08:00:00     8         GAM  7.0  \n",
       "252936  2019-07-31 09:00:00     9         GAM  7.0  \n",
       "252937  2019-07-31 10:00:00    10         GAM  7.0  \n",
       "\n",
       "[5 rows x 185 columns]"
      ]
     },
     "execution_count": 21,
     "metadata": {},
     "output_type": "execute_result"
    }
   ],
   "source": [
    "df_append.tail(5)"
   ]
  },
  {
   "cell_type": "markdown",
   "metadata": {},
   "source": [
    "# 2.\n",
    "### Se obtiene el promedio, máximo y mínimo por hora de todas las estaciones."
   ]
  },
  {
   "cell_type": "markdown",
   "metadata": {},
   "source": [
    "Debido a que solo algunas estaciones miden todos los atributos con los que se está trabajando, se encontró que agrupar las condiciones atmosféricas de cada atributo con el promedio, máximo y mínimo, genera una mejora considerable al desempeño final de los modelos, debido a que al hacer esta agrupación se suavizan los valores y también se homogeniza los atributos de cada estación.\n",
    "\n",
    "Se guardan las columnas al aplicar el groupby y se elimina \"fecha\":"
   ]
  },
  {
   "cell_type": "code",
   "execution_count": 22,
   "metadata": {},
   "outputs": [],
   "source": [
    "cols = df_append.columns.tolist() \n",
    "cols.remove(\"fecha\")\n",
    "cols.remove(\"id_station\")\n",
    "df_append[cols] = df_append[cols].astype(float)"
   ]
  },
  {
   "cell_type": "markdown",
   "metadata": {},
   "source": [
    "Aplicamos los groupbys:"
   ]
  },
  {
   "cell_type": "code",
   "execution_count": 23,
   "metadata": {},
   "outputs": [],
   "source": [
    "data_hour_merge_24_mean = df_append.groupby('fecha')[cols].mean()\n",
    "data_hour_merge_24_mean.reset_index(inplace=True)"
   ]
  },
  {
   "cell_type": "code",
   "execution_count": 24,
   "metadata": {},
   "outputs": [],
   "source": [
    "data_hour_merge_24_max = df_append.groupby('fecha')[cols].max()\n",
    "data_hour_merge_24_max.reset_index(inplace=True)"
   ]
  },
  {
   "cell_type": "code",
   "execution_count": 25,
   "metadata": {},
   "outputs": [],
   "source": [
    "data_hour_merge_24_min = df_append.groupby('fecha')[cols].min()\n",
    "data_hour_merge_24_min.reset_index(inplace=True)"
   ]
  },
  {
   "cell_type": "markdown",
   "metadata": {},
   "source": [
    "#### Cambiamos los nombres de las estaciones:\n",
    "Debido a que cada groupby genera los mismos nombres, esto puede generar problemas para identificar de qué columna se trata, se cambiarán los nombres a \"contaminante_max\", \"contaminante_min\", \"contaminante_mean\" según corresponda.\n",
    "\n",
    "Se obtienenn los nonbres de las columnas en forma de lista:"
   ]
  },
  {
   "cell_type": "code",
   "execution_count": 26,
   "metadata": {},
   "outputs": [],
   "source": [
    "max_columns = data_hour_merge_24_max.columns.tolist()\n",
    "min_columns = data_hour_merge_24_min.columns.tolist()\n",
    "mean_columns = data_hour_merge_24_mean.columns.tolist()"
   ]
  },
  {
   "cell_type": "markdown",
   "metadata": {},
   "source": [
    "Se cambian los nombres en las listas:"
   ]
  },
  {
   "cell_type": "code",
   "execution_count": 27,
   "metadata": {},
   "outputs": [],
   "source": [
    "for i in range(len(max_columns)):\n",
    "    if not max_columns[i].startswith(\"fecha\") \\\n",
    "    and not max_columns[i].startswith(\"hora\") \\\n",
    "    and not max_columns[i].startswith(\"dia\") \\\n",
    "    and not max_columns[i].startswith(\"mes\"):\n",
    "        max_columns[i] = max_columns[i]+\"_max\"\n",
    "        \n",
    "    if not min_columns[i].startswith(\"fecha\") \\\n",
    "    and not min_columns[i].startswith(\"hora\") \\\n",
    "    and not min_columns[i].startswith(\"dia\") \\\n",
    "    and not min_columns[i].startswith(\"mes\"):\n",
    "        min_columns[i] = min_columns[i]+\"_min\" \n",
    "        \n",
    "    if not mean_columns[i].startswith(\"fecha\") \\\n",
    "    and not mean_columns[i].startswith(\"hora\") \\\n",
    "    and not mean_columns[i].startswith(\"dia\") \\\n",
    "    and not mean_columns[i].startswith(\"mes\"):\n",
    "        mean_columns[i] = mean_columns[i]+\"_mean\""
   ]
  },
  {
   "cell_type": "markdown",
   "metadata": {},
   "source": [
    "Se renombra las columnas de los dataframes"
   ]
  },
  {
   "cell_type": "code",
   "execution_count": 28,
   "metadata": {},
   "outputs": [],
   "source": [
    "data_hour_merge_24_mean.columns = mean_columns\n",
    "data_hour_merge_24_min.columns = min_columns\n",
    "data_hour_merge_24_max.columns = max_columns"
   ]
  },
  {
   "cell_type": "markdown",
   "metadata": {},
   "source": [
    "Unimos los df's "
   ]
  },
  {
   "cell_type": "code",
   "execution_count": 29,
   "metadata": {},
   "outputs": [],
   "source": [
    "data_hour_merge = pd.merge(data_hour_merge_24_mean, data_hour_merge_24_max, on=['fecha'])\n",
    "data_hour_merge = pd.merge(data_hour_merge, data_hour_merge_24_min, on=['fecha'])"
   ]
  },
  {
   "cell_type": "code",
   "execution_count": 30,
   "metadata": {},
   "outputs": [],
   "source": [
    "data_hour_merge_columns = data_hour_merge.columns.tolist()"
   ]
  },
  {
   "cell_type": "markdown",
   "metadata": {},
   "source": [
    "###### Eliminamos las columnas dehora dia y mes que acaben con x & y"
   ]
  },
  {
   "cell_type": "code",
   "execution_count": 31,
   "metadata": {},
   "outputs": [],
   "source": [
    "for item in range(len(data_hour_merge_columns)):\n",
    "    if  data_hour_merge_columns[item].endswith(\"_x\")\\\n",
    "    or  data_hour_merge_columns[item].endswith(\"_y\"):\n",
    "        data_hour_merge_columns[item] = data_hour_merge_columns[item][:-2]"
   ]
  },
  {
   "cell_type": "code",
   "execution_count": 32,
   "metadata": {},
   "outputs": [],
   "source": [
    "data_hour_merge.columns = data_hour_merge_columns#.tolist()\n",
    "\n",
    "data_hour_merge = data_hour_merge.loc[:,~data_hour_merge.columns.duplicated()]"
   ]
  },
  {
   "cell_type": "markdown",
   "metadata": {},
   "source": [
    "Debido a que el proceso de obtener el máximo y mínimo es lento, es conveniente guardar el archivo de manera provisional:"
   ]
  },
  {
   "cell_type": "code",
   "execution_count": 33,
   "metadata": {},
   "outputs": [],
   "source": [
    "data_hour_merge.to_csv(\"./datos/datos_gb_\" + contaminante + \".csv\", sep=',', encoding='utf-8',index=False)"
   ]
  },
  {
   "cell_type": "markdown",
   "metadata": {},
   "source": [
    "# Leamos el archivo:"
   ]
  },
  {
   "cell_type": "code",
   "execution_count": 34,
   "metadata": {},
   "outputs": [],
   "source": [
    "data_hour_merge = pd.read_csv(\"./datos/datos_gb_\" + contaminante + \".csv\", sep=',', encoding='utf-8')"
   ]
  },
  {
   "cell_type": "code",
   "execution_count": 35,
   "metadata": {},
   "outputs": [],
   "source": [
    "data_hour_merge = data_hour_merge.sort_values(['fecha',\"hora\"], ascending=[0,1]).reset_index(drop=True)"
   ]
  },
  {
   "cell_type": "markdown",
   "metadata": {},
   "source": [
    "## 3. \n",
    "### Generar las columna a pronosticar y obtener la correlación de los valores promedio máximo y mínimo con éste. Filtrar los valores más importantes.\n"
   ]
  },
  {
   "cell_type": "markdown",
   "metadata": {},
   "source": [
    "Ahora vamos a sacar los atributos más correlacionado con el contaminante a pronosticar a pronosticar. "
   ]
  },
  {
   "cell_type": "code",
   "execution_count": 36,
   "metadata": {},
   "outputs": [
    {
     "name": "stdout",
     "output_type": "stream",
     "text": [
      "PM25mean_max\n"
     ]
    }
   ],
   "source": [
    "if contaminante == 'PM10' or contaminante == 'PM2.5':\n",
    "    item = contaminante+\"mean_max\"\n",
    "else:\n",
    "    item = contaminante+\"_max\" \n",
    "print(item)"
   ]
  },
  {
   "cell_type": "markdown",
   "metadata": {},
   "source": [
    "Desplazamos el target **24 horas** en adelante, esta columna nos indica el valor de contaminación que tomó a partir de condiciones atmosféricas 24 horas atrás. Este será nuesta columna a pronosticar."
   ]
  },
  {
   "cell_type": "code",
   "execution_count": 37,
   "metadata": {},
   "outputs": [],
   "source": [
    "hours_target = 11"
   ]
  },
  {
   "cell_type": "markdown",
   "metadata": {},
   "source": [
    " "
   ]
  },
  {
   "cell_type": "code",
   "execution_count": 38,
   "metadata": {},
   "outputs": [],
   "source": [
    "data_hour_merge[str(item+\"_frcst_\"+str(hours_target))] = data_hour_merge[item].shift(hours_target)"
   ]
  },
  {
   "cell_type": "code",
   "execution_count": 39,
   "metadata": {},
   "outputs": [
    {
     "name": "stdout",
     "output_type": "stream",
     "text": [
      "PM25mean_max_frcst_11\n"
     ]
    }
   ],
   "source": [
    "target = str(item+\"_frcst_\"+ str(hours_target))\n",
    "print(target)"
   ]
  },
  {
   "cell_type": "code",
   "execution_count": 40,
   "metadata": {},
   "outputs": [
    {
     "data": {
      "text/html": [
       "<div>\n",
       "<style scoped>\n",
       "    .dataframe tbody tr th:only-of-type {\n",
       "        vertical-align: middle;\n",
       "    }\n",
       "\n",
       "    .dataframe tbody tr th {\n",
       "        vertical-align: top;\n",
       "    }\n",
       "\n",
       "    .dataframe thead th {\n",
       "        text-align: right;\n",
       "    }\n",
       "</style>\n",
       "<table border=\"1\" class=\"dataframe\">\n",
       "  <thead>\n",
       "    <tr style=\"text-align: right;\">\n",
       "      <th></th>\n",
       "      <th>fecha</th>\n",
       "      <th>CO_mean</th>\n",
       "      <th>NO_mean</th>\n",
       "      <th>NO2_mean</th>\n",
       "      <th>NO2_0.0_mean</th>\n",
       "      <th>NO2_1.0_mean</th>\n",
       "      <th>NO2_10.0_mean</th>\n",
       "      <th>NO2_11.0_mean</th>\n",
       "      <th>NO2_12.0_mean</th>\n",
       "      <th>NO2_13.0_mean</th>\n",
       "      <th>...</th>\n",
       "      <th>PM25mean_5.0_min</th>\n",
       "      <th>PM25mean_6.0_min</th>\n",
       "      <th>PM25mean_7.0_min</th>\n",
       "      <th>PM25mean_8.0_min</th>\n",
       "      <th>PM25mean_9.0_min</th>\n",
       "      <th>RH_min</th>\n",
       "      <th>SO2_min</th>\n",
       "      <th>TMP_min</th>\n",
       "      <th>WSP_min</th>\n",
       "      <th>PM25mean_max_frcst_11</th>\n",
       "    </tr>\n",
       "  </thead>\n",
       "  <tbody>\n",
       "    <tr>\n",
       "      <th>34977</th>\n",
       "      <td>2015-01-02 01:00:00</td>\n",
       "      <td>1.333333</td>\n",
       "      <td>86.5</td>\n",
       "      <td>29.5</td>\n",
       "      <td>29.5</td>\n",
       "      <td>32.0</td>\n",
       "      <td>NaN</td>\n",
       "      <td>NaN</td>\n",
       "      <td>NaN</td>\n",
       "      <td>NaN</td>\n",
       "      <td>...</td>\n",
       "      <td>NaN</td>\n",
       "      <td>NaN</td>\n",
       "      <td>NaN</td>\n",
       "      <td>NaN</td>\n",
       "      <td>NaN</td>\n",
       "      <td>52.0</td>\n",
       "      <td>2.0</td>\n",
       "      <td>9.2</td>\n",
       "      <td>0.6</td>\n",
       "      <td>28.208333</td>\n",
       "    </tr>\n",
       "    <tr>\n",
       "      <th>34978</th>\n",
       "      <td>2015-01-02 00:00:00</td>\n",
       "      <td>1.366667</td>\n",
       "      <td>78.0</td>\n",
       "      <td>32.0</td>\n",
       "      <td>32.0</td>\n",
       "      <td>NaN</td>\n",
       "      <td>NaN</td>\n",
       "      <td>NaN</td>\n",
       "      <td>NaN</td>\n",
       "      <td>NaN</td>\n",
       "      <td>...</td>\n",
       "      <td>NaN</td>\n",
       "      <td>NaN</td>\n",
       "      <td>NaN</td>\n",
       "      <td>NaN</td>\n",
       "      <td>NaN</td>\n",
       "      <td>51.0</td>\n",
       "      <td>2.0</td>\n",
       "      <td>10.5</td>\n",
       "      <td>0.5</td>\n",
       "      <td>32.541667</td>\n",
       "    </tr>\n",
       "  </tbody>\n",
       "</table>\n",
       "<p>2 rows × 545 columns</p>\n",
       "</div>"
      ],
      "text/plain": [
       "                     fecha   CO_mean  NO_mean  NO2_mean  NO2_0.0_mean  \\\n",
       "34977  2015-01-02 01:00:00  1.333333     86.5      29.5          29.5   \n",
       "34978  2015-01-02 00:00:00  1.366667     78.0      32.0          32.0   \n",
       "\n",
       "       NO2_1.0_mean  NO2_10.0_mean  NO2_11.0_mean  NO2_12.0_mean  \\\n",
       "34977          32.0            NaN            NaN            NaN   \n",
       "34978           NaN            NaN            NaN            NaN   \n",
       "\n",
       "       NO2_13.0_mean  ...  PM25mean_5.0_min  PM25mean_6.0_min  \\\n",
       "34977            NaN  ...               NaN               NaN   \n",
       "34978            NaN  ...               NaN               NaN   \n",
       "\n",
       "       PM25mean_7.0_min  PM25mean_8.0_min  PM25mean_9.0_min  RH_min  SO2_min  \\\n",
       "34977               NaN               NaN               NaN    52.0      2.0   \n",
       "34978               NaN               NaN               NaN    51.0      2.0   \n",
       "\n",
       "       TMP_min  WSP_min  PM25mean_max_frcst_11  \n",
       "34977      9.2      0.6              28.208333  \n",
       "34978     10.5      0.5              32.541667  \n",
       "\n",
       "[2 rows x 545 columns]"
      ]
     },
     "execution_count": 40,
     "metadata": {},
     "output_type": "execute_result"
    }
   ],
   "source": [
    "data_hour_merge.tail(2)"
   ]
  },
  {
   "cell_type": "markdown",
   "metadata": {},
   "source": [
    "## 4. \n",
    "### Generar las columnas de pronóstico de RH, WSP TMP."
   ]
  },
  {
   "cell_type": "markdown",
   "metadata": {},
   "source": [
    "Se observó que usando datos de pronóstico atmosférico, el modelo tiene un mejor desempeño, vamos a añadir \"RH_mean\",\"WSP_mean\",\"TMP_mean\" a los atributos con un pronóstico de 24 horas."
   ]
  },
  {
   "cell_type": "code",
   "execution_count": 41,
   "metadata": {},
   "outputs": [],
   "source": [
    "lista_frcst = [\"RH_mean\",\"WSP_mean\",\"TMP_mean\"]"
   ]
  },
  {
   "cell_type": "code",
   "execution_count": 42,
   "metadata": {},
   "outputs": [],
   "source": [
    "for item_pronostico in lista_frcst:\n",
    "    for i in range(1, 25):\n",
    "        col_name = str(item_pronostico+\"_frcst_\"+str(i))\n",
    "        data_hour_merge[col_name] = data_hour_merge[item_pronostico].shift(i)\n",
    "data_hour_merge.dropna(inplace=True)"
   ]
  },
  {
   "cell_type": "markdown",
   "metadata": {},
   "source": [
    "## Hagamos una clasificación base y quedémonons con las columnas según su signnificancia:"
   ]
  },
  {
   "cell_type": "markdown",
   "metadata": {},
   "source": [
    "La clasificación se basa en los niveles de activación de la fase preventiva publicado en la [Gaceta oficial de la ciudad de méxico del 28 de mayo de 2019](http://www.aire.cdmx.gob.mx/default.php?opc='YqBhnmU=')."
   ]
  },
  {
   "cell_type": "markdown",
   "metadata": {},
   "source": [
    "<img src=\"./fotos_markdown/contingencia_clases.png\" style=\"height:300px\">"
   ]
  },
  {
   "cell_type": "code",
   "execution_count": 43,
   "metadata": {},
   "outputs": [
    {
     "name": "stdout",
     "output_type": "stream",
     "text": [
      "PM25mean\n"
     ]
    }
   ],
   "source": [
    "if contaminante == \"O3\":\n",
    "    class_threshold = 142\n",
    "elif  contaminante == \"PM10mean\":\n",
    "    class_threshold = 171.74\n",
    "elif  contaminante == \"PM25mean\":\n",
    "    class_threshold = 81.38\n",
    "print(contaminante)"
   ]
  },
  {
   "cell_type": "markdown",
   "metadata": {},
   "source": [
    "Aplicamos las clases:"
   ]
  },
  {
   "cell_type": "code",
   "execution_count": 44,
   "metadata": {},
   "outputs": [],
   "source": [
    "dataset = data_hour_merge.copy()\n",
    "item_classifier = str(item+\"_frcst_\"+str(hours_target))\n",
    "dataset.loc[dataset[item_classifier] > class_threshold, 'class'] = 1\n",
    "dataset.loc[dataset[item_classifier] < class_threshold, 'class'] = 0"
   ]
  },
  {
   "cell_type": "code",
   "execution_count": 45,
   "metadata": {},
   "outputs": [
    {
     "data": {
      "image/png": "[encoded data removed]",
      "text/plain": [
       "<Figure size 432x288 with 1 Axes>"
      ]
     },
     "metadata": {
      "needs_background": "light"
     },
     "output_type": "display_data"
    }
   ],
   "source": [
    "sns.distplot(dataset[dataset[\"class\"]==1][\"hora\"], bins=24, kde=False, rug=True);"
   ]
  },
  {
   "cell_type": "code",
   "execution_count": 46,
   "metadata": {},
   "outputs": [],
   "source": [
    "#target = \"O3_max_frcst_\"\n",
    "lista = []\n",
    "for i in range(1,25):\n",
    "    lista.append(str(target+str(i)))"
   ]
  },
  {
   "cell_type": "code",
   "execution_count": 47,
   "metadata": {},
   "outputs": [],
   "source": [
    "hora = 11\n",
    "\n",
    "#dataset.drop([\"fecha\"],axis=1,inplace=True)\n",
    "dataset.dropna(inplace=True)\n",
    "dataset.drop(str(item+\"_frcst_\"+str(hours_target)),axis=1,inplace=True)\n",
    "\n",
    "X = dataset.loc[:, dataset.columns != \"class\"]\n",
    "y = dataset[\"class\"]\n",
    "X = X.drop([\"fecha\"],axis=1)#Definimos los conjuntos de prueba:\n",
    "\n",
    "X_train, X_test, y_train, y_test = train_test_split(X, y, test_size=0.33, random_state=333)"
   ]
  },
  {
   "cell_type": "markdown",
   "metadata": {},
   "source": [
    "## Regresión"
   ]
  },
  {
   "cell_type": "code",
   "execution_count": 48,
   "metadata": {},
   "outputs": [],
   "source": [
    "from xgboost import XGBClassifier"
   ]
  },
  {
   "cell_type": "code",
   "execution_count": 49,
   "metadata": {},
   "outputs": [],
   "source": [
    "model_11 = XGBClassifier()"
   ]
  },
  {
   "cell_type": "code",
   "execution_count": 50,
   "metadata": {},
   "outputs": [
    {
     "data": {
      "text/plain": [
       "XGBClassifier(base_score=0.5, booster='gbtree', colsample_bylevel=1,\n",
       "       colsample_bynode=1, colsample_bytree=1, gamma=0, learning_rate=0.1,\n",
       "       max_delta_step=0, max_depth=3, min_child_weight=1, missing=None,\n",
       "       n_estimators=100, n_jobs=1, nthread=None,\n",
       "       objective='binary:logistic', random_state=0, reg_alpha=0,\n",
       "       reg_lambda=1, scale_pos_weight=1, seed=None, silent=None,\n",
       "       subsample=1, verbosity=1)"
      ]
     },
     "execution_count": 50,
     "metadata": {},
     "output_type": "execute_result"
    }
   ],
   "source": [
    "model_11.fit(X_train, y_train)"
   ]
  },
  {
   "cell_type": "code",
   "execution_count": 51,
   "metadata": {},
   "outputs": [],
   "source": [
    "pronos_2_q = model_11.predict(X_test)"
   ]
  },
  {
   "cell_type": "code",
   "execution_count": 52,
   "metadata": {},
   "outputs": [
    {
     "data": {
      "text/plain": [
       "<matplotlib.axes._subplots.AxesSubplot at 0x7f7312b75b38>"
      ]
     },
     "execution_count": 52,
     "metadata": {},
     "output_type": "execute_result"
    },
    {
     "data": {
      "image/png": "[encoded data removed]",
      "text/plain": [
       "<Figure size 432x288 with 2 Axes>"
      ]
     },
     "metadata": {
      "needs_background": "light"
     },
     "output_type": "display_data"
    }
   ],
   "source": [
    "data = {'y_Predicted': pronos_2_q,\n",
    "        'y_Actual': y_test\n",
    "        }\n",
    "\n",
    "df = pd.DataFrame(data, columns=['y_Actual','y_Predicted'])\n",
    "confusion_matrix = pd.crosstab(df['y_Actual'], df['y_Predicted'], rownames=['Actual'], colnames=['Predicted'])\n",
    "\n",
    "sn.heatmap(confusion_matrix, annot=True)"
   ]
  },
  {
   "cell_type": "code",
   "execution_count": 53,
   "metadata": {},
   "outputs": [
    {
     "data": {
      "text/plain": [
       "3.1333333333333333"
      ]
     },
     "execution_count": 53,
     "metadata": {},
     "output_type": "execute_result"
    }
   ],
   "source": [
    "specifity_model_one = specifity(pronos_2_q,y_test)\n",
    "specifity_model_one"
   ]
  },
  {
   "cell_type": "markdown",
   "metadata": {},
   "source": [
    "### Filtro por importancia para clasificador"
   ]
  },
  {
   "cell_type": "code",
   "execution_count": 54,
   "metadata": {},
   "outputs": [],
   "source": [
    "thresholds = sort(model_11.feature_importances_)\n",
    "\n",
    "thresholds_filter = [thresholds[-150:][i] for i in range(0,len(thresholds[-150:]),6)]#[-140:-100]"
   ]
  },
  {
   "cell_type": "code",
   "execution_count": 55,
   "metadata": {},
   "outputs": [],
   "source": [
    "model_significance = XGBClassifier()"
   ]
  },
  {
   "cell_type": "code",
   "execution_count": 61,
   "metadata": {},
   "outputs": [],
   "source": [
    "thresholds = sort(model_11.feature_importances_)\n",
    "\n",
    "thresholds_filter = [thresholds[-250:][i] for i in range(0,len(thresholds[-250:]),10)]#[-140:-100]"
   ]
  },
  {
   "cell_type": "code",
   "execution_count": 62,
   "metadata": {
    "scrolled": true
   },
   "outputs": [
    {
     "name": "stdout",
     "output_type": "stream",
     "text": [
      "24  Thresh: 0.0 n:615 Specifity: 3.133\n",
      "23  Thresh: 0.0 n:615 Specifity: 3.133\n",
      "22  Thresh: 0.0 n:615 Specifity: 3.133\n",
      "21  Thresh: 0.0 n:615 Specifity: 3.133\n",
      "20  Thresh: 0.0 n:615 Specifity: 3.133\n",
      "19  Thresh: 0.0 n:615 Specifity: 3.133\n",
      "18  Thresh: 0.0010511773871257901 n:190 Specifity: 3.133\n",
      "17  Thresh: 0.006848552729934454 n:180 Specifity: 3.133\n",
      "16  Thresh: 0.010119701037183404 n:170 Specifity: 2.938\n",
      "15  Thresh: 0.012794708600267768 n:160 Specifity: 2.938\n",
      "14  Thresh: 0.016864517237991095 n:150 Specifity: 2.938\n",
      "13  Thresh: 0.019148760475218296 n:140 Specifity: 2.938\n",
      "12  Thresh: 0.022502588108181953 n:130 Specifity: 2.938\n",
      "11  Thresh: 0.02476372756063938 n:120 Specifity: 2.706\n",
      "10  Thresh: 0.026779307518154383 n:110 Specifity: 2.706\n",
      "9  Thresh: 0.03367295255884528 n:100 Specifity: 2.5\n",
      "8  Thresh: 0.03980241250246763 n:90 Specifity: 2.875\n",
      "7  Thresh: 0.04553742706775665 n:80 Specifity: 2.316\n",
      "6  Thresh: 0.05361140239983797 n:70 Specifity: 2.706\n",
      "5  Thresh: 0.05784041713923216 n:60 Specifity: 2.444\n",
      "4  Thresh: 0.06461733020842075 n:50 Specifity: 2.316\n",
      "3  Thresh: 0.07602077443152666 n:40 Specifity: 2.0\n",
      "2  Thresh: 0.09281598031520844 n:30 Specifity: 2.2\n",
      "1  Thresh: 0.1104880589991808 n:20 Specifity: 1.64\n",
      "0  Thresh: 0.14780265279114246 n:10 Specifity: 1.3\n"
     ]
    }
   ],
   "source": [
    "Specifity_list=[]\n",
    "thresh_list=[]\n",
    "n_list=[]\n",
    "for thresh in range(len(thresholds_filter)):\n",
    "    # select features using threshold\n",
    "    selection = SelectFromModel(model_11, threshold=thresholds_filter[thresh], prefit=True)\n",
    "    select_X_train = selection.transform(X_train)\n",
    "    # train model\n",
    "    selection_model = model_significance\n",
    "    selection_model.fit(select_X_train, y_train)\n",
    "    # eval model\n",
    "    select_X_test = selection.transform(X_test)\n",
    "    y_pred = selection_model.predict(select_X_test)\n",
    "    predictions = [round(value) for value in y_pred]\n",
    "    specifity_score = round(specifity(y_pred,y_test),3)\n",
    "    print(str(len(thresholds_filter)-thresh-1)+\"  Thresh: \"+ str(thresholds_filter[thresh]*10) + \" n:\"+str(select_X_train.shape[1])+ \n",
    "          \" Specifity: \"+ str(specifity_score))\n",
    "    \n",
    "    Specifity_list.append(specifity_score)\n",
    "    thresh_list.append(thresholds_filter[thresh]*10)\n",
    "    n_list.append(select_X_train.shape[1])"
   ]
  },
  {
   "cell_type": "code",
   "execution_count": 64,
   "metadata": {},
   "outputs": [
    {
     "data": {
      "image/png": "[encoded data removed]",
      "text/plain": [
       "<Figure size 432x288 with 1 Axes>"
      ]
     },
     "metadata": {
      "needs_background": "light"
     },
     "output_type": "display_data"
    }
   ],
   "source": [
    "plt.plot(n_list, Specifity_list,alpha=0.5,color=\"royalblue\")\n",
    "\n",
    "plt.xlabel('n_list')\n",
    "plt.ylabel('Specifity_list')\n",
    "plt.show()"
   ]
  },
  {
   "cell_type": "markdown",
   "metadata": {},
   "source": [
    "#### thresh = 458+25*5 = 583"
   ]
  },
  {
   "cell_type": "code",
   "execution_count": 65,
   "metadata": {},
   "outputs": [
    {
     "data": {
      "text/plain": [
       "'PM25mean'"
      ]
     },
     "execution_count": 65,
     "metadata": {},
     "output_type": "execute_result"
    }
   ],
   "source": [
    "contaminante"
   ]
  },
  {
   "cell_type": "code",
   "execution_count": 68,
   "metadata": {},
   "outputs": [],
   "source": [
    "if contaminante == \"O3\":\n",
    "    id_threshold=len(thresholds)-6*7\n",
    "elif contaminante ==\"PM10mean\":\n",
    "    id_threshold=len(thresholds)-6*16\n",
    "elif contaminante ==\"PM25mean\":\n",
    "    id_threshold=len(thresholds)-10*18"
   ]
  },
  {
   "cell_type": "code",
   "execution_count": 70,
   "metadata": {},
   "outputs": [
    {
     "data": {
      "text/plain": [
       "0.0006848553"
      ]
     },
     "execution_count": 70,
     "metadata": {},
     "output_type": "execute_result"
    }
   ],
   "source": [
    "thresholds[id_threshold]"
   ]
  },
  {
   "cell_type": "code",
   "execution_count": 71,
   "metadata": {},
   "outputs": [],
   "source": [
    "rmse_list=[]\n",
    "thresh_list=[]\n",
    "n_list=[]\n",
    "thresh = thresholds[id_threshold]\n",
    "# select features using threshold\n",
    "selection = SelectFromModel(model_11, threshold=thresh, prefit=True)"
   ]
  },
  {
   "cell_type": "code",
   "execution_count": 72,
   "metadata": {},
   "outputs": [],
   "source": [
    "select_X_train = selection.transform(X_train)\n",
    "# train model"
   ]
  },
  {
   "cell_type": "code",
   "execution_count": 73,
   "metadata": {},
   "outputs": [
    {
     "data": {
      "text/plain": [
       "XGBClassifier(base_score=0.5, booster='gbtree', colsample_bylevel=1,\n",
       "       colsample_bynode=1, colsample_bytree=1, gamma=0, learning_rate=0.1,\n",
       "       max_delta_step=0, max_depth=3, min_child_weight=1, missing=None,\n",
       "       n_estimators=120, n_jobs=1, nthread=None,\n",
       "       objective='binary:logistic', random_state=0, reg_alpha=0,\n",
       "       reg_lambda=1, scale_pos_weight=1, seed=None, silent=None,\n",
       "       subsample=1, verbosity=1)"
      ]
     },
     "execution_count": 73,
     "metadata": {},
     "output_type": "execute_result"
    }
   ],
   "source": [
    "selection_model = XGBClassifier(n_estimators=120)\n",
    "selection_model.fit(select_X_train, y_train)\n",
    "# eval model"
   ]
  },
  {
   "cell_type": "code",
   "execution_count": 74,
   "metadata": {},
   "outputs": [
    {
     "name": "stdout",
     "output_type": "stream",
     "text": [
      "Thresh=0.00068, n=180, Accuracy: 3.43\n"
     ]
    }
   ],
   "source": [
    "select_X_test = selection.transform(X_test)\n",
    "y_pred = selection_model.predict(select_X_test)\n",
    "predictions = [round(value) for value in y_pred]\n",
    "specifity_score = round(specifity(y_pred,y_test),2)\n",
    "print(\"Thresh=%.5f, n=%d, Accuracy: %.2f\" % (thresh, select_X_train.shape[1], specifity_score))"
   ]
  },
  {
   "cell_type": "code",
   "execution_count": 75,
   "metadata": {},
   "outputs": [
    {
     "data": {
      "text/plain": [
       "<matplotlib.axes._subplots.AxesSubplot at 0x7f7311651390>"
      ]
     },
     "execution_count": 75,
     "metadata": {},
     "output_type": "execute_result"
    },
    {
     "data": {
      "image/png": "[encoded data removed]",
      "text/plain": [
       "<Figure size 432x288 with 2 Axes>"
      ]
     },
     "metadata": {
      "needs_background": "light"
     },
     "output_type": "display_data"
    }
   ],
   "source": [
    "data = {'y_Predicted': predictions,\n",
    "        'y_Actual': y_test\n",
    "        }\n",
    "df = pd.DataFrame(data, columns=['y_Actual','y_Predicted'])\n",
    "confusion_matrix = pd.crosstab(df['y_Actual'], df['y_Predicted'], rownames=['Actual'], colnames=['Predicted'])\n",
    "sn.heatmap(confusion_matrix, annot=True)"
   ]
  },
  {
   "cell_type": "code",
   "execution_count": 76,
   "metadata": {},
   "outputs": [],
   "source": [
    "feature_idx = selection.get_support()\n",
    "feature_name = X_train.columns[feature_idx]\n",
    "variables_mas_correlacionadas_con_pronóstico = feature_name.tolist()"
   ]
  },
  {
   "cell_type": "raw",
   "metadata": {},
   "source": [
    "ploter(y_test,select_X_test,y_pred,selection_model)"
   ]
  },
  {
   "cell_type": "markdown",
   "metadata": {},
   "source": [
    "Agregamos a las columnas mas correlacionadas los atributos de pronóstico:"
   ]
  },
  {
   "cell_type": "code",
   "execution_count": 77,
   "metadata": {},
   "outputs": [],
   "source": [
    "variables_mas_correlacionadas_con_pronóstico.append(\"RH_mean\")\n",
    "variables_mas_correlacionadas_con_pronóstico.append(\"WSP_mean\")\n",
    "variables_mas_correlacionadas_con_pronóstico.append(\"TMP_mean\")\n",
    "variables_mas_correlacionadas_con_pronóstico.append(\"fecha\")\n",
    "variables_mas_correlacionadas_con_pronóstico.append(\"O3_max\")\n",
    "variables_mas_correlacionadas_con_pronóstico = list(set(variables_mas_correlacionadas_con_pronóstico))"
   ]
  },
  {
   "cell_type": "code",
   "execution_count": 78,
   "metadata": {},
   "outputs": [],
   "source": [
    "data_hour_merge = data_hour_merge[variables_mas_correlacionadas_con_pronóstico]"
   ]
  },
  {
   "cell_type": "markdown",
   "metadata": {},
   "source": [
    "## 5. \n",
    "### Generar las columnas del contaminante a pronosticar de 1 hasta 23 horas.\n"
   ]
  },
  {
   "cell_type": "markdown",
   "metadata": {},
   "source": [
    "Al tratarse de modelos supervisados, es necesario tener como columna cada uno de los valores a pronosticar, esta columna es la columna del contaminante recorrido desde 1 hasta 24 horas atrás:"
   ]
  },
  {
   "cell_type": "markdown",
   "metadata": {},
   "source": [
    "Definimos el contaminante que estamos usando:"
   ]
  },
  {
   "cell_type": "code",
   "execution_count": 79,
   "metadata": {},
   "outputs": [
    {
     "name": "stdout",
     "output_type": "stream",
     "text": [
      "PM25mean_max\n"
     ]
    }
   ],
   "source": [
    "if contaminante == 'PM10' or contaminante == 'PM2.5':\n",
    "    item = contaminante+\"mean_max\"\n",
    "else:\n",
    "    item = contaminante+\"_max\" \n",
    "print(item)"
   ]
  },
  {
   "cell_type": "code",
   "execution_count": 82,
   "metadata": {},
   "outputs": [
    {
     "name": "stdout",
     "output_type": "stream",
     "text": [
      "24\n"
     ]
    }
   ],
   "source": [
    "for i in range(1, 25):\n",
    "    col_name = str(item+\"_frcst_\"+str(i))\n",
    "    data_hour_merge[col_name] = data_hour_merge[item].shift(i)\n",
    "    if i==range(1, 25)[-1]:\n",
    "        print(i)\n",
    "data_hour_merge.dropna(inplace=True)"
   ]
  },
  {
   "cell_type": "markdown",
   "metadata": {},
   "source": [
    "Guardemos:"
   ]
  },
  {
   "cell_type": "code",
   "execution_count": 81,
   "metadata": {},
   "outputs": [],
   "source": [
    "data_hour_merge.to_csv(\"./datos/datos_modelos_\"+ contaminante + \".csv\",sep=',', encoding='utf-8',index=False)"
   ]
  },
  {
   "cell_type": "code",
   "execution_count": 76,
   "metadata": {},
   "outputs": [
    {
     "data": {
      "text/plain": [
       "'./datos/datos_modelos_PM10mean.csv'"
      ]
     },
     "execution_count": 76,
     "metadata": {},
     "output_type": "execute_result"
    }
   ],
   "source": [
    "\"./datos/datos_modelos_\"+ contaminante + \".csv\""
   ]
  },
  {
   "cell_type": "code",
   "execution_count": 291,
   "metadata": {},
   "outputs": [
    {
     "data": {
      "text/plain": [
       "['PM10mean_30.0_max',\n",
       " 'NO2_21.0_min',\n",
       " 'PM10_1.0_max',\n",
       " 'RH_mean_frcst_21',\n",
       " 'NO2_16.0_mean',\n",
       " 'PM10_2.0_max',\n",
       " 'NO2_3.0_mean',\n",
       " 'NO2_23.0_mean',\n",
       " 'PM10_1.0_mean',\n",
       " 'PM2.5_27.0_mean',\n",
       " 'PM10mean_11.0_max',\n",
       " 'PM10mean_31.0_max',\n",
       " 'CO_min',\n",
       " 'PM2.5_14.0_max',\n",
       " 'PM10_4.0_max',\n",
       " 'PM2.5_1.0_max',\n",
       " 'TMP_mean_frcst_18',\n",
       " 'TMP_mean_frcst_4',\n",
       " 'hora',\n",
       " 'PM10mean_23.0_mean',\n",
       " 'PM2.5_8.0_max',\n",
       " 'RH_min',\n",
       " 'PM2.5_29.0_max',\n",
       " 'PM10mean_28.0_min',\n",
       " 'WSP_mean_frcst_7',\n",
       " 'PM2.5_3.0_max',\n",
       " 'PM10mean_31.0_min',\n",
       " 'TMP_mean_frcst_24',\n",
       " 'PM10_6.0_mean',\n",
       " 'RH_mean_frcst_3',\n",
       " 'WSP_mean',\n",
       " 'PM2.5_23.0_mean',\n",
       " 'RH_mean_frcst_23',\n",
       " 'PM2.5_5.0_max',\n",
       " 'PM2.5_4.0_mean',\n",
       " 'PM10_7.0_mean',\n",
       " 'PM10_max',\n",
       " 'PM25mean_17.0_mean',\n",
       " 'PM25mean_12.0_mean',\n",
       " 'RH_mean_frcst_4',\n",
       " 'PM10mean_33.0_max',\n",
       " 'PM10mean_32.0_max',\n",
       " 'PM10_4.0_mean',\n",
       " 'PM10mean_30.0_mean',\n",
       " 'PM10_23.0_mean',\n",
       " 'PM10mean_20.0_min',\n",
       " 'RH_mean',\n",
       " 'PM10mean_20.0_max',\n",
       " 'RH_mean_frcst_22',\n",
       " 'PM10mean_29.0_mean',\n",
       " 'PM25mean_30.0_min',\n",
       " 'PM25mean_36.0_mean',\n",
       " 'PM10_5.0_mean',\n",
       " 'PM10mean_24.0_min',\n",
       " 'NO2_7.0_mean',\n",
       " 'PM2.5_max',\n",
       " 'RH_mean_frcst_24',\n",
       " 'PM25mean_23.0_mean',\n",
       " 'PM10mean_20.0_mean',\n",
       " 'PM10mean_28.0_max',\n",
       " 'PM2.5_7.0_max',\n",
       " 'O3_max',\n",
       " 'NO2_6.0_mean',\n",
       " 'PM25mean_28.0_min',\n",
       " 'TMP_mean_frcst_7',\n",
       " 'PM10_2.0_mean',\n",
       " 'PM2.5_9.0_mean',\n",
       " 'PM10mean_29.0_min',\n",
       " 'WSP_mean_frcst_6',\n",
       " 'O3_mean',\n",
       " 'CO_max',\n",
       " 'PM10mean_10.0_mean',\n",
       " 'PM10mean_max',\n",
       " 'PM25mean_11.0_max',\n",
       " 'NO_mean',\n",
       " 'PM10mean_24.0_mean',\n",
       " 'PM2.5_6.0_max',\n",
       " 'PM25mean_35.0_mean',\n",
       " 'PM25mean_22.0_max',\n",
       " 'NO2_mean',\n",
       " 'PM10_22.0_max',\n",
       " 'PM10_25.0_mean',\n",
       " 'PM2.5_24.0_mean',\n",
       " 'PM10mean_22.0_max',\n",
       " 'PM10_6.0_max',\n",
       " 'fecha',\n",
       " 'O3_min',\n",
       " 'TMP_mean_frcst_10',\n",
       " 'RH_mean_frcst_2',\n",
       " 'PM2.5_2.0_max',\n",
       " 'PM10mean_29.0_max',\n",
       " 'CO_mean',\n",
       " 'PM10_23.0_max',\n",
       " 'PM25mean_29.0_min',\n",
       " 'RH_mean_frcst_16',\n",
       " 'TMP_mean',\n",
       " 'NO2_23.0_min',\n",
       " 'PM10_mean',\n",
       " 'PM10mean_28.0_mean',\n",
       " 'NO2_14.0_mean',\n",
       " 'PM2.5_mean',\n",
       " 'PM10mean_34.0_max',\n",
       " 'NO2_10.0_min',\n",
       " 'PM25mean_max',\n",
       " 'PM25mean_max_frcst_1',\n",
       " 'PM25mean_max_frcst_2',\n",
       " 'PM25mean_max_frcst_3',\n",
       " 'PM25mean_max_frcst_4',\n",
       " 'PM25mean_max_frcst_5',\n",
       " 'PM25mean_max_frcst_6',\n",
       " 'PM25mean_max_frcst_7',\n",
       " 'PM25mean_max_frcst_8',\n",
       " 'PM25mean_max_frcst_9',\n",
       " 'PM25mean_max_frcst_10',\n",
       " 'PM25mean_max_frcst_11',\n",
       " 'PM25mean_max_frcst_12',\n",
       " 'PM25mean_max_frcst_13',\n",
       " 'PM25mean_max_frcst_14',\n",
       " 'PM25mean_max_frcst_15',\n",
       " 'PM25mean_max_frcst_16',\n",
       " 'PM25mean_max_frcst_17',\n",
       " 'PM25mean_max_frcst_18',\n",
       " 'PM25mean_max_frcst_19',\n",
       " 'PM25mean_max_frcst_20',\n",
       " 'PM25mean_max_frcst_21',\n",
       " 'PM25mean_max_frcst_22',\n",
       " 'PM25mean_max_frcst_23',\n",
       " 'PM25mean_max_frcst_24']"
      ]
     },
     "execution_count": 291,
     "metadata": {},
     "output_type": "execute_result"
    }
   ],
   "source": [
    "data_hour_merge.columns.tolist()"
   ]
  },
  {
   "cell_type": "code",
   "execution_count": 292,
   "metadata": {
    "scrolled": true
   },
   "outputs": [
    {
     "ename": "KeyError",
     "evalue": "\"None of [Index(['O3_max_frcst_4'], dtype='object')] are in the [columns]\"",
     "output_type": "error",
     "traceback": [
      "\u001b[0;31m---------------------------------------------------------------------------\u001b[0m",
      "\u001b[0;31mKeyError\u001b[0m                                  Traceback (most recent call last)",
      "\u001b[0;32m<ipython-input-292-e8922baf5a2c>\u001b[0m in \u001b[0;36m<module>\u001b[0;34m\u001b[0m\n\u001b[1;32m     10\u001b[0m \u001b[0;34m\u001b[0m\u001b[0m\n\u001b[1;32m     11\u001b[0m \u001b[0mdata_hour_merge\u001b[0m\u001b[0;34m.\u001b[0m\u001b[0mhead\u001b[0m\u001b[0;34m(\u001b[0m\u001b[0;36m100\u001b[0m\u001b[0;34m)\u001b[0m\u001b[0;34m.\u001b[0m\u001b[0mplot\u001b[0m\u001b[0;34m(\u001b[0m\u001b[0mx\u001b[0m\u001b[0;34m=\u001b[0m\u001b[0;34m\"fecha\"\u001b[0m\u001b[0;34m,\u001b[0m \u001b[0my\u001b[0m\u001b[0;34m=\u001b[0m\u001b[0;34m[\u001b[0m\u001b[0;34m\"O3_max\"\u001b[0m\u001b[0;34m]\u001b[0m\u001b[0;34m,\u001b[0m\u001b[0max\u001b[0m\u001b[0;34m=\u001b[0m\u001b[0max\u001b[0m\u001b[0;34m,\u001b[0m\u001b[0mlabel\u001b[0m\u001b[0;34m=\u001b[0m\u001b[0;34m[\u001b[0m\u001b[0;34m\"PM10mean ahora\"\u001b[0m\u001b[0;34m]\u001b[0m\u001b[0;34m,\u001b[0m\u001b[0mcolor\u001b[0m\u001b[0;34m=\u001b[0m\u001b[0;34m\"saddlebrown\"\u001b[0m\u001b[0;34m)\u001b[0m\u001b[0;34m\u001b[0m\u001b[0;34m\u001b[0m\u001b[0m\n\u001b[0;32m---> 12\u001b[0;31m \u001b[0mdata_hour_merge\u001b[0m\u001b[0;34m.\u001b[0m\u001b[0mhead\u001b[0m\u001b[0;34m(\u001b[0m\u001b[0;36m100\u001b[0m\u001b[0;34m)\u001b[0m\u001b[0;34m.\u001b[0m\u001b[0mplot\u001b[0m\u001b[0;34m(\u001b[0m\u001b[0mx\u001b[0m\u001b[0;34m=\u001b[0m\u001b[0;34m\"fecha\"\u001b[0m\u001b[0;34m,\u001b[0m \u001b[0my\u001b[0m\u001b[0;34m=\u001b[0m\u001b[0;34m[\u001b[0m\u001b[0;34m\"O3_max_frcst_4\"\u001b[0m\u001b[0;34m]\u001b[0m\u001b[0;34m,\u001b[0m\u001b[0max\u001b[0m\u001b[0;34m=\u001b[0m\u001b[0max\u001b[0m\u001b[0;34m,\u001b[0m\u001b[0mlabel\u001b[0m\u001b[0;34m=\u001b[0m\u001b[0;34m[\u001b[0m\u001b[0;34m\"PM10 pronostico 12\"\u001b[0m\u001b[0;34m]\u001b[0m\u001b[0;34m,\u001b[0m\u001b[0mcolor\u001b[0m\u001b[0;34m=\u001b[0m\u001b[0;34m\"blue\"\u001b[0m\u001b[0;34m)\u001b[0m\u001b[0;34m\u001b[0m\u001b[0;34m\u001b[0m\u001b[0m\n\u001b[0m\u001b[1;32m     13\u001b[0m \u001b[0mdata_hour_merge\u001b[0m\u001b[0;34m.\u001b[0m\u001b[0mhead\u001b[0m\u001b[0;34m(\u001b[0m\u001b[0;36m100\u001b[0m\u001b[0;34m)\u001b[0m\u001b[0;34m.\u001b[0m\u001b[0mplot\u001b[0m\u001b[0;34m(\u001b[0m\u001b[0mx\u001b[0m\u001b[0;34m=\u001b[0m\u001b[0;34m\"fecha\"\u001b[0m\u001b[0;34m,\u001b[0m \u001b[0my\u001b[0m\u001b[0;34m=\u001b[0m\u001b[0;34m[\u001b[0m\u001b[0;34m\"O3_4.0_max\"\u001b[0m\u001b[0;34m]\u001b[0m\u001b[0;34m,\u001b[0m\u001b[0max\u001b[0m\u001b[0;34m=\u001b[0m\u001b[0max\u001b[0m\u001b[0;34m,\u001b[0m\u001b[0mlabel\u001b[0m\u001b[0;34m=\u001b[0m\u001b[0;34m[\u001b[0m\u001b[0;34m\"PM10 a pasado\"\u001b[0m\u001b[0;34m]\u001b[0m\u001b[0;34m,\u001b[0m\u001b[0mcolor\u001b[0m\u001b[0;34m=\u001b[0m\u001b[0;34m'maroon'\u001b[0m\u001b[0;34m,\u001b[0m\u001b[0mdashes\u001b[0m\u001b[0;34m=\u001b[0m\u001b[0;34m[\u001b[0m\u001b[0;36m6\u001b[0m\u001b[0;34m,\u001b[0m \u001b[0;36m2\u001b[0m\u001b[0;34m]\u001b[0m\u001b[0;34m)\u001b[0m\u001b[0;34m\u001b[0m\u001b[0;34m\u001b[0m\u001b[0m\n\u001b[1;32m     14\u001b[0m \u001b[0;34m\u001b[0m\u001b[0m\n",
      "\u001b[0;32m/home/paw/software/python/anaconda3/lib/python3.7/site-packages/pandas/plotting/_core.py\u001b[0m in \u001b[0;36m__call__\u001b[0;34m(self, x, y, kind, ax, subplots, sharex, sharey, layout, figsize, use_index, title, grid, legend, style, logx, logy, loglog, xticks, yticks, xlim, ylim, rot, fontsize, colormap, table, yerr, xerr, secondary_y, sort_columns, **kwds)\u001b[0m\n\u001b[1;32m   2940\u001b[0m                           \u001b[0mfontsize\u001b[0m\u001b[0;34m=\u001b[0m\u001b[0mfontsize\u001b[0m\u001b[0;34m,\u001b[0m \u001b[0mcolormap\u001b[0m\u001b[0;34m=\u001b[0m\u001b[0mcolormap\u001b[0m\u001b[0;34m,\u001b[0m \u001b[0mtable\u001b[0m\u001b[0;34m=\u001b[0m\u001b[0mtable\u001b[0m\u001b[0;34m,\u001b[0m\u001b[0;34m\u001b[0m\u001b[0;34m\u001b[0m\u001b[0m\n\u001b[1;32m   2941\u001b[0m                           \u001b[0myerr\u001b[0m\u001b[0;34m=\u001b[0m\u001b[0myerr\u001b[0m\u001b[0;34m,\u001b[0m \u001b[0mxerr\u001b[0m\u001b[0;34m=\u001b[0m\u001b[0mxerr\u001b[0m\u001b[0;34m,\u001b[0m \u001b[0msecondary_y\u001b[0m\u001b[0;34m=\u001b[0m\u001b[0msecondary_y\u001b[0m\u001b[0;34m,\u001b[0m\u001b[0;34m\u001b[0m\u001b[0;34m\u001b[0m\u001b[0m\n\u001b[0;32m-> 2942\u001b[0;31m                           sort_columns=sort_columns, **kwds)\n\u001b[0m\u001b[1;32m   2943\u001b[0m     \u001b[0m__call__\u001b[0m\u001b[0;34m.\u001b[0m\u001b[0m__doc__\u001b[0m \u001b[0;34m=\u001b[0m \u001b[0mplot_frame\u001b[0m\u001b[0;34m.\u001b[0m\u001b[0m__doc__\u001b[0m\u001b[0;34m\u001b[0m\u001b[0;34m\u001b[0m\u001b[0m\n\u001b[1;32m   2944\u001b[0m \u001b[0;34m\u001b[0m\u001b[0m\n",
      "\u001b[0;32m/home/paw/software/python/anaconda3/lib/python3.7/site-packages/pandas/plotting/_core.py\u001b[0m in \u001b[0;36mplot_frame\u001b[0;34m(data, x, y, kind, ax, subplots, sharex, sharey, layout, figsize, use_index, title, grid, legend, style, logx, logy, loglog, xticks, yticks, xlim, ylim, rot, fontsize, colormap, table, yerr, xerr, secondary_y, sort_columns, **kwds)\u001b[0m\n\u001b[1;32m   1971\u001b[0m                  \u001b[0myerr\u001b[0m\u001b[0;34m=\u001b[0m\u001b[0myerr\u001b[0m\u001b[0;34m,\u001b[0m \u001b[0mxerr\u001b[0m\u001b[0;34m=\u001b[0m\u001b[0mxerr\u001b[0m\u001b[0;34m,\u001b[0m\u001b[0;34m\u001b[0m\u001b[0;34m\u001b[0m\u001b[0m\n\u001b[1;32m   1972\u001b[0m                  \u001b[0msecondary_y\u001b[0m\u001b[0;34m=\u001b[0m\u001b[0msecondary_y\u001b[0m\u001b[0;34m,\u001b[0m \u001b[0msort_columns\u001b[0m\u001b[0;34m=\u001b[0m\u001b[0msort_columns\u001b[0m\u001b[0;34m,\u001b[0m\u001b[0;34m\u001b[0m\u001b[0;34m\u001b[0m\u001b[0m\n\u001b[0;32m-> 1973\u001b[0;31m                  **kwds)\n\u001b[0m\u001b[1;32m   1974\u001b[0m \u001b[0;34m\u001b[0m\u001b[0m\n\u001b[1;32m   1975\u001b[0m \u001b[0;34m\u001b[0m\u001b[0m\n",
      "\u001b[0;32m/home/paw/software/python/anaconda3/lib/python3.7/site-packages/pandas/plotting/_core.py\u001b[0m in \u001b[0;36m_plot\u001b[0;34m(data, x, y, subplots, ax, kind, **kwds)\u001b[0m\n\u001b[1;32m   1783\u001b[0m \u001b[0;34m\u001b[0m\u001b[0m\n\u001b[1;32m   1784\u001b[0m                 \u001b[0;31m# don't overwrite\u001b[0m\u001b[0;34m\u001b[0m\u001b[0;34m\u001b[0m\u001b[0;34m\u001b[0m\u001b[0m\n\u001b[0;32m-> 1785\u001b[0;31m                 \u001b[0mdata\u001b[0m \u001b[0;34m=\u001b[0m \u001b[0mdata\u001b[0m\u001b[0;34m[\u001b[0m\u001b[0my\u001b[0m\u001b[0;34m]\u001b[0m\u001b[0;34m.\u001b[0m\u001b[0mcopy\u001b[0m\u001b[0;34m(\u001b[0m\u001b[0;34m)\u001b[0m\u001b[0;34m\u001b[0m\u001b[0;34m\u001b[0m\u001b[0m\n\u001b[0m\u001b[1;32m   1786\u001b[0m \u001b[0;34m\u001b[0m\u001b[0m\n\u001b[1;32m   1787\u001b[0m                 \u001b[0;32mif\u001b[0m \u001b[0misinstance\u001b[0m\u001b[0;34m(\u001b[0m\u001b[0mdata\u001b[0m\u001b[0;34m,\u001b[0m \u001b[0mABCSeries\u001b[0m\u001b[0;34m)\u001b[0m\u001b[0;34m:\u001b[0m\u001b[0;34m\u001b[0m\u001b[0;34m\u001b[0m\u001b[0m\n",
      "\u001b[0;32m/home/paw/software/python/anaconda3/lib/python3.7/site-packages/pandas/core/frame.py\u001b[0m in \u001b[0;36m__getitem__\u001b[0;34m(self, key)\u001b[0m\n\u001b[1;32m   2932\u001b[0m                 \u001b[0mkey\u001b[0m \u001b[0;34m=\u001b[0m \u001b[0mlist\u001b[0m\u001b[0;34m(\u001b[0m\u001b[0mkey\u001b[0m\u001b[0;34m)\u001b[0m\u001b[0;34m\u001b[0m\u001b[0;34m\u001b[0m\u001b[0m\n\u001b[1;32m   2933\u001b[0m             indexer = self.loc._convert_to_indexer(key, axis=1,\n\u001b[0;32m-> 2934\u001b[0;31m                                                    raise_missing=True)\n\u001b[0m\u001b[1;32m   2935\u001b[0m \u001b[0;34m\u001b[0m\u001b[0m\n\u001b[1;32m   2936\u001b[0m         \u001b[0;31m# take() does not accept boolean indexers\u001b[0m\u001b[0;34m\u001b[0m\u001b[0;34m\u001b[0m\u001b[0;34m\u001b[0m\u001b[0m\n",
      "\u001b[0;32m/home/paw/software/python/anaconda3/lib/python3.7/site-packages/pandas/core/indexing.py\u001b[0m in \u001b[0;36m_convert_to_indexer\u001b[0;34m(self, obj, axis, is_setter, raise_missing)\u001b[0m\n\u001b[1;32m   1352\u001b[0m                 kwargs = {'raise_missing': True if is_setter else\n\u001b[1;32m   1353\u001b[0m                           raise_missing}\n\u001b[0;32m-> 1354\u001b[0;31m                 \u001b[0;32mreturn\u001b[0m \u001b[0mself\u001b[0m\u001b[0;34m.\u001b[0m\u001b[0m_get_listlike_indexer\u001b[0m\u001b[0;34m(\u001b[0m\u001b[0mobj\u001b[0m\u001b[0;34m,\u001b[0m \u001b[0maxis\u001b[0m\u001b[0;34m,\u001b[0m \u001b[0;34m**\u001b[0m\u001b[0mkwargs\u001b[0m\u001b[0;34m)\u001b[0m\u001b[0;34m[\u001b[0m\u001b[0;36m1\u001b[0m\u001b[0;34m]\u001b[0m\u001b[0;34m\u001b[0m\u001b[0;34m\u001b[0m\u001b[0m\n\u001b[0m\u001b[1;32m   1355\u001b[0m         \u001b[0;32melse\u001b[0m\u001b[0;34m:\u001b[0m\u001b[0;34m\u001b[0m\u001b[0;34m\u001b[0m\u001b[0m\n\u001b[1;32m   1356\u001b[0m             \u001b[0;32mtry\u001b[0m\u001b[0;34m:\u001b[0m\u001b[0;34m\u001b[0m\u001b[0;34m\u001b[0m\u001b[0m\n",
      "\u001b[0;32m/home/paw/software/python/anaconda3/lib/python3.7/site-packages/pandas/core/indexing.py\u001b[0m in \u001b[0;36m_get_listlike_indexer\u001b[0;34m(self, key, axis, raise_missing)\u001b[0m\n\u001b[1;32m   1159\u001b[0m         self._validate_read_indexer(keyarr, indexer,\n\u001b[1;32m   1160\u001b[0m                                     \u001b[0mo\u001b[0m\u001b[0;34m.\u001b[0m\u001b[0m_get_axis_number\u001b[0m\u001b[0;34m(\u001b[0m\u001b[0maxis\u001b[0m\u001b[0;34m)\u001b[0m\u001b[0;34m,\u001b[0m\u001b[0;34m\u001b[0m\u001b[0;34m\u001b[0m\u001b[0m\n\u001b[0;32m-> 1161\u001b[0;31m                                     raise_missing=raise_missing)\n\u001b[0m\u001b[1;32m   1162\u001b[0m         \u001b[0;32mreturn\u001b[0m \u001b[0mkeyarr\u001b[0m\u001b[0;34m,\u001b[0m \u001b[0mindexer\u001b[0m\u001b[0;34m\u001b[0m\u001b[0;34m\u001b[0m\u001b[0m\n\u001b[1;32m   1163\u001b[0m \u001b[0;34m\u001b[0m\u001b[0m\n",
      "\u001b[0;32m/home/paw/software/python/anaconda3/lib/python3.7/site-packages/pandas/core/indexing.py\u001b[0m in \u001b[0;36m_validate_read_indexer\u001b[0;34m(self, key, indexer, axis, raise_missing)\u001b[0m\n\u001b[1;32m   1244\u001b[0m                 raise KeyError(\n\u001b[1;32m   1245\u001b[0m                     u\"None of [{key}] are in the [{axis}]\".format(\n\u001b[0;32m-> 1246\u001b[0;31m                         key=key, axis=self.obj._get_axis_name(axis)))\n\u001b[0m\u001b[1;32m   1247\u001b[0m \u001b[0;34m\u001b[0m\u001b[0m\n\u001b[1;32m   1248\u001b[0m             \u001b[0;31m# We (temporarily) allow for some missing keys with .loc, except in\u001b[0m\u001b[0;34m\u001b[0m\u001b[0;34m\u001b[0m\u001b[0;34m\u001b[0m\u001b[0m\n",
      "\u001b[0;31mKeyError\u001b[0m: \"None of [Index(['O3_max_frcst_4'], dtype='object')] are in the [columns]\""
     ]
    },
    {
     "data": {
      "image/png": "[encoded data removed]",
      "text/plain": [
       "<Figure size 640x480 with 1 Axes>"
      ]
     },
     "metadata": {},
     "output_type": "display_data"
    }
   ],
   "source": [
    "data_hour_merge['fecha'] =  pd.to_datetime(data_hour_merge['fecha'], format='%Y-%m-%d %H:%M')\n",
    "\n",
    "import matplotlib.pyplot as plt\n",
    "\n",
    "fig = plt.figure(num=None, figsize=(8, 6), dpi=80, facecolor='w', edgecolor='k')\n",
    "ax = fig.gca()\n",
    "\n",
    "# df_export.(50).plot(x=\"fecha\", y=[ \"O3_y\"],ax=ax,label=[\"O3 Medido\"],color=\"dodgerblue\")\n",
    "# df_export.(60).head(100).plot(x=\"fecha\", y=[\"O3_y_frcst_6\"],ax=ax,label=[\"Pronóstico O3 a 12 horas\"],color='darkblue',dashes=[6, 2])\n",
    "\n",
    "data_hour_merge.head(100).plot(x=\"fecha\", y=[\"O3_max\"],ax=ax,label=[\"PM10mean ahora\"],color=\"saddlebrown\")\n",
    "data_hour_merge.head(100).plot(x=\"fecha\", y=[\"O3_max_frcst_4\"],ax=ax,label=[\"PM10 pronostico 12\"],color=\"blue\")\n",
    "data_hour_merge.head(100).plot(x=\"fecha\", y=[\"O3_4.0_max\"],ax=ax,label=[\"PM10 a pasado\"],color='maroon',dashes=[6, 2])\n",
    "\n",
    "\n",
    "plt.ylabel(\"PM10[mg/m3]\")\n",
    "plt.title(\"Comparación del Modelo\")\n",
    "\n",
    "\n",
    "# And a corresponding grid\n",
    "ax.grid(which='both')\n",
    "\n",
    "# Or if you want different settings for the grids:\n",
    "ax.grid(which='minor', alpha=0.01)\n",
    "ax.grid(which='major', alpha=0.3)\n",
    "\n",
    "\n",
    "\n",
    "plt.legend()\n",
    "plt.show()"
   ]
  },
  {
   "cell_type": "code",
   "execution_count": null,
   "metadata": {},
   "outputs": [],
   "source": []
  }
 ],
 "metadata": {
  "kernelspec": {
   "display_name": "Python 3",
   "language": "python",
   "name": "python3"
  },
  "language_info": {
   "codemirror_mode": {
    "name": "ipython",
    "version": 3
   },
   "file_extension": ".py",
   "mimetype": "text/x-python",
   "name": "python",
   "nbconvert_exporter": "python",
   "pygments_lexer": "ipython3",
   "version": "3.7.3"
  }
 },
 "nbformat": 4,
 "nbformat_minor": 2
}
