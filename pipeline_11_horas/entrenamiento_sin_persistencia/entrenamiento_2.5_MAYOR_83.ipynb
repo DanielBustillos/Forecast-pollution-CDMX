{
 "cells": [
  {
   "cell_type": "markdown",
   "metadata": {},
   "source": [
    "# Entrenamiento PM10 promedio móvil"
   ]
  },
  {
   "cell_type": "markdown",
   "metadata": {},
   "source": [
    "\n",
    "Una vez que se tienen los datos limpios y procesados, estos pueden ser usados para la generación de los modelos. A continuación se muestra el flujo trabajo para la generación de los modelos:\n",
    "\n",
    "<img src=\"./gen_modelos.png\" style=\"height:300px\">\n",
    "\n",
    "Los modelos utilizados son del tipo __supervisado___, esto quiere decir que se necesita tener el valor real para poder generar los modelos, este valor corresponde a la columna del contaminante a pronosticar a una hora específica.  \n",
    "\n",
    "Una vez que se tiene esta columna identificado, es necesario dividir los datos de entrenamiento en dos conjuntos: de __entrenamiento__ y __prueba__. La razón de dividirlos es para poder cuantiﬁcar el desempeño y el correcto funcionamiento de los modelos. El conjunto de entrenamiento correspondió al __80%__ de los datos totales y en éste se ejecutarán los modelos estadísticos para obtener los árboles de decisión y con el conjunto de prueba que correspondió al __20%__ restante, se comparará el pronóstico de los modelos con el valor real.\n",
    "\n",
    "Con el conjunto de entrenamiento se ejecutaron todas las pruebas realizadas, aplicando los modelos de machine learning ya mencionados. Los modelos se optimizaron para tener un correcto pronóstico de valores alrededor del nivel de contaminación de la contingencia ambiental. Los modelos de los tres contaminantes son capaces de generar el pronóstico hasta de 24 horas, para cada hora se generó un modelo de manera que se generaron 24 modelos.\n",
    "\n",
    "\n",
    "### Métricas de Valoración\n",
    "Para medir el desempeño de un modelo de pronóstico es importante contar con una métrica de desempeño. Medir el desempeño del pronóstico es importante para saber que los métodos y características con los que trabaja el pronóstico son los adecuados. Además, calcular el desempeño de los modelos nos ayudará en la búsqueda de partes del pronóstico que no trabajen de manera óptima y con esto tomar decisiones para mejorar el desempeño del mismo. Las principales métricas usadas para medir el desempeño del modelo son el RMSE que nos indica qué tanto se aleja la predicción del valor real, la R2 que determina la calidad del modelo para replicar los resultados y la proporción de variación de los resultados que puede explicarse por el modelo y la precisión que nos indica cuántos falsos positivos genera el modelo es decir, cuántas contingencias son pronosticadas incorrectamente por cada contingencia pronosticada correctamente.\n",
    "\n",
    "\n",
    "__Pasos y descripción general del notebook__\n",
    "\n",
    "\n",
    "- __Datos recibidos:__ Limpieza de datos inicial\n",
    "- __Responsable:__ Daniel Bustillos\n",
    "- __Contacto:__  juandaniel.bucam@gmail.com\n"
   ]
  },
  {
   "cell_type": "code",
   "execution_count": 4,
   "metadata": {},
   "outputs": [],
   "source": [
    "import xgboost as xgb\n",
    "from xgboost import XGBClassifier\n",
    "from xgboost import plot_tree\n",
    "\n",
    "from sklearn.svm import SVR\n",
    "from sklearn.preprocessing import StandardScaler\n",
    "from sklearn.metrics import mean_squared_error\n",
    "from sklearn.model_selection import train_test_split\n",
    "import os\n",
    "\n",
    "import numpy as np\n",
    "import matplotlib.pyplot as plt\n",
    "import pandas as pd\n",
    "#import missingno as msn\n",
    "\n",
    "pd.options.mode.chained_assignment = None \n",
    "\n",
    "from sklearn.externals import joblib\n",
    "from xgboost.sklearn import XGBRegressor\n",
    "from sklearn.ensemble import GradientBoostingRegressor \n",
    "\n",
    "from sklearn.datasets import make_regression\n",
    "\n",
    "from sklearn.metrics import confusion_matrix\n",
    "from sklearn.metrics import fbeta_score, make_scorer\n",
    "\n",
    "import seaborn as sn\n",
    "from sklearn.metrics import confusion_matrix as confussion_matrix_function\n",
    "from sklearn.model_selection import GridSearchCV\n",
    "from sklearn.metrics import fbeta_score, make_scorer\n",
    "\n",
    "from sklearn.metrics import accuracy_score\n",
    "from matplotlib import pyplot\n",
    "# plot learning curve\n",
    "from numpy import loadtxt\n",
    "from xgboost import XGBClassifier\n",
    "from sklearn.model_selection import train_test_split\n",
    "from sklearn.metrics import accuracy_score\n",
    "from matplotlib import pyplot\n",
    "import seaborn as sns\n",
    "import random as rd\n",
    "import time"
   ]
  },
  {
   "cell_type": "markdown",
   "metadata": {},
   "source": [
    "#### Hacemos una función para obtenner el -promedio- de los dos modelos"
   ]
  },
  {
   "cell_type": "code",
   "execution_count": 5,
   "metadata": {},
   "outputs": [],
   "source": [
    "def predictor_mean(model0_1,modelo_2,X_set):  \n",
    "    #aplicamos los predict\n",
    "    forecast_q = model0_1.predict(X_set) \n",
    "    forecast = modelo_2.predict(X_set)\n",
    "   #generamos una lista dummy: \n",
    "    forecast_mean = forecast \n",
    "    \n",
    "    for i in range(len(X_set)):\n",
    "        if  forecast[i] < 135:\n",
    "            forecast_mean[i] = forecast[i]\n",
    "        elif  forecast_q[i] > 160:\n",
    "            forecast_mean[i] = forecast_q[i]\n",
    "        if  130 < forecast_q[i] <155 and 130 < forecast[i] < 155:\n",
    "            forecast_mean[i] = (0.3*forecast_q[i] + 0.7*forecast[i])\n",
    "        if  140 < forecast_q[i] <160 and 140 < forecast[i] < 160:\n",
    "            forecast_mean[i] = (forecast_q[i] + forecast[i])/2\n",
    "    return forecast_mean"
   ]
  },
  {
   "cell_type": "markdown",
   "metadata": {},
   "source": [
    "Definimos el score [specifity](https://es.wikipedia.org/wiki/Especificidad_(epidemiología)) que se basa en el número de **TP** por cada **FP + FN**.\n",
    "\n",
    " $$Especifity = \\frac{TP}{FP + FN}$$"
   ]
  },
  {
   "cell_type": "raw",
   "metadata": {},
   "source": [
    "def specifity(y_true, y_pred):\n",
    "    tn, fp, fn, tp = confussion_matrix_function(y_true.tolist(), y_pred.tolist()).ravel()\n",
    "    specifity_score = tp / (fn+fp)\n",
    "    return specifity_score\n",
    "def specifity1(y_true, y_pred):\n",
    "    tn, fp, fn, tp = confussion_matrix_function(y_true, y_pred).ravel()\n",
    "    specifity_score = tp / (fn+fp)\n",
    "    return specifity_score\n",
    "\n",
    " # score will negate the return value of my_custom_loss_func,\n",
    "# which will be np.log(2), 0.693, given the values for X\n",
    "# and y defined below.\n",
    "specifity_scorer = make_scorer(specifity, greater_is_better=True)\n",
    "\n",
    " # score will negate the return value of my_custom_loss_func,\n",
    "# which will be np.log(2), 0.693, given the values for X\n",
    "# and y defined below.\n",
    "specifity_scorer = make_scorer(specifity, greater_is_better=True)"
   ]
  },
  {
   "cell_type": "markdown",
   "metadata": {},
   "source": [
    "## Hacemos una función para graficar"
   ]
  },
  {
   "cell_type": "code",
   "execution_count": 6,
   "metadata": {},
   "outputs": [],
   "source": [
    "def ploter(y_test_0,X_test_0,pronosticados_0,model):\n",
    "    \n",
    "    plt.scatter(y_test_0, pronosticados_0,alpha=0.5,color=\"royalblue\")\n",
    "    score = round(model.score(X_test_0, y_test_0),3)\n",
    "    rmse = round(np.sqrt(mean_squared_error(y_test_0, pronosticados_0)),3)\n",
    "    plt.plot([30,130],[30,130],color=\"k\",linestyle='--')\n",
    "    \n",
    "    plt.axhline(y=150, color='k', linestyle='--')\n",
    "    plt.axvline(x=150, color='k', linestyle='--')\n",
    "    plt.annotate('TP', (170,150), xytext = (175, 155 + 1), \n",
    "                  horizontalalignment='right')\n",
    "    plt.annotate('FN', (170,150), xytext = (175, 135 + 1), \n",
    "                  horizontalalignment='right')\n",
    "    plt.annotate('FP', (170,150), xytext = (125, 155 + 1), \n",
    "                  horizontalalignment='right')\n",
    "    plt.annotate('FP', (170,150), xytext = (125, 135 + 1), \n",
    "                  horizontalalignment='right')\n",
    "    plt.annotate(\"Score =\"+str(score), (15,139), xytext = (15, 139 + 1), \n",
    "                  horizontalalignment='left')\n",
    "    plt.annotate(\"RMSE =\"+str(rmse), (15,119), xytext = (15, 119 + 1), \n",
    "                  horizontalalignment='left')\n",
    "    \n",
    "    \n",
    "    plt.xlabel('Measured')\n",
    "    plt.ylabel('Predicted')\n",
    "    plt.title('Pronóstico con Persistencia Temporal')\n",
    "    plt.show()"
   ]
  },
  {
   "cell_type": "markdown",
   "metadata": {},
   "source": [
    "## Cargamos los modelos ya entrenados:"
   ]
  },
  {
   "cell_type": "code",
   "execution_count": 12,
   "metadata": {},
   "outputs": [],
   "source": [
    "conta = 'PM25mean'"
   ]
  },
  {
   "cell_type": "code",
   "execution_count": 13,
   "metadata": {},
   "outputs": [],
   "source": [
    "model = [0 for col in range(25)]\n",
    "modelq = [0 for col in range(25)]"
   ]
  },
  {
   "cell_type": "raw",
   "metadata": {},
   "source": [
    "for i in range(0,23):\n",
    "    model[i] = joblib.load(str('./modelos/'+ conta +'/'+ conta + '_'+str(i+1)+'hora.pkl'))\n",
    "    print(str('./modelos/' + conta + '/' + conta + '_' + str(i+1)+'hora.pkl'))\n",
    "   # modelq[i] = joblib.load(str('./modelos/'+conta+'/' + conta+ '_'+str(i+1)+'hora_quantile.pkl'))\n",
    "    if i == range(0,24)[-1]:\n",
    "        print('./modelos/O3/O3_'+str(i+1)+'hora.pkl')"
   ]
  },
  {
   "cell_type": "markdown",
   "metadata": {},
   "source": [
    "#### Cargamos los datos:"
   ]
  },
  {
   "cell_type": "code",
   "execution_count": 14,
   "metadata": {},
   "outputs": [],
   "source": [
    "data_hour_merge = pd.read_csv(str(\"/DATA/paw/jupyterhub_notebook/daniel.bustillos/DanielBustillos/\"+\n",
    "                                  \"contaminación/pipeline_norberto_11horas/datos/datos_modelos_\"+conta+\".csv\"))"
   ]
  },
  {
   "cell_type": "code",
   "execution_count": 17,
   "metadata": {},
   "outputs": [],
   "source": [
    "data_hour_merge['fecha'] = pd.to_datetime(data_hour_merge['fecha'], format='%Y-%m-%d %H:%M:%S')\n",
    "data_hour_merge[\"hora\"] = [row[\"fecha\"].hour for index, row in data_hour_merge.iterrows()]"
   ]
  },
  {
   "cell_type": "markdown",
   "metadata": {},
   "source": [
    "### Filtro de contingencia"
   ]
  },
  {
   "cell_type": "code",
   "execution_count": 21,
   "metadata": {},
   "outputs": [
    {
     "data": {
      "text/plain": [
       "['PM2.5_13.0_max',\n",
       " 'PM2.5_30.0_min',\n",
       " 'NO2_24.0_max',\n",
       " 'PM10mean_40.0_min',\n",
       " 'PM25mean_25.0_min',\n",
       " 'PM25mean_13.0_min',\n",
       " 'TMP_mean_frcst_8',\n",
       " 'WSP_mean',\n",
       " 'PM10mean_30.0_max',\n",
       " 'PM10mean_16.0_min',\n",
       " 'WSP_mean_frcst_1',\n",
       " 'PM2.5_3.0_max',\n",
       " 'PM10mean_38.0_min',\n",
       " 'PM2.5_23.0_mean',\n",
       " 'PM25mean_36.0_mean',\n",
       " 'NO2_18.0_min',\n",
       " 'PM10mean_19.0_min',\n",
       " 'RH_mean_frcst_18',\n",
       " 'TMP_mean_frcst_10',\n",
       " 'NO2_4.0_max',\n",
       " 'PM10mean_24.0_mean',\n",
       " 'PM2.5_4.0_mean',\n",
       " 'PM10mean_20.0_mean',\n",
       " 'PM10mean_max',\n",
       " 'PM2.5_8.0_min',\n",
       " 'RH_mean_frcst_10',\n",
       " 'PM25mean_mean',\n",
       " 'PM10mean_36.0_min',\n",
       " 'PM25mean_14.0_max',\n",
       " 'RH_mean_frcst_19',\n",
       " 'RH_max',\n",
       " 'NO2_7.0_min',\n",
       " 'PM10_27.0_max',\n",
       " 'PM10mean_25.0_min',\n",
       " 'PM10mean_mean',\n",
       " 'PM2.5_27.0_mean',\n",
       " 'PM2.5_6.0_mean',\n",
       " 'TMP_min',\n",
       " 'RH_mean_frcst_17',\n",
       " 'TMP_mean_frcst_7',\n",
       " 'NO2_max',\n",
       " 'PM2.5_28.0_max',\n",
       " 'PM25mean_33.0_mean',\n",
       " 'PM25mean_19.0_min',\n",
       " 'PM10_5.0_min',\n",
       " 'PM2.5_21.0_max',\n",
       " 'PM10_mean',\n",
       " 'PM2.5_1.0_mean',\n",
       " 'NO2_8.0_max',\n",
       " 'TMP_mean_frcst_13',\n",
       " 'NO_min',\n",
       " 'NO2_7.0_mean',\n",
       " 'PM10mean_25.0_max',\n",
       " 'PM10mean_23.0_min',\n",
       " 'PM2.5_26.0_max',\n",
       " 'PM2.5_6.0_max',\n",
       " 'PM10mean_16.0_max',\n",
       " 'PM2.5_max',\n",
       " 'WSP_mean_frcst_5',\n",
       " 'PM10mean_38.0_max',\n",
       " 'PM10_10.0_max',\n",
       " 'PM10_9.0_mean',\n",
       " 'RH_mean_frcst_16',\n",
       " 'WSP_mean_frcst_22',\n",
       " 'PM10_4.0_max',\n",
       " 'TMP_mean_frcst_18',\n",
       " 'CO_min',\n",
       " 'PM10mean_35.0_max',\n",
       " 'RH_mean_frcst_3',\n",
       " 'mes',\n",
       " 'NO2_2.0_max',\n",
       " 'RH_mean_frcst_23',\n",
       " 'PM25mean_7.0_max',\n",
       " 'PM25mean_37.0_max',\n",
       " 'TMP_mean_frcst_17',\n",
       " 'PM10_max',\n",
       " 'PM2.5_1.0_max',\n",
       " 'PM2.5_8.0_max',\n",
       " 'PM10_19.0_min',\n",
       " 'PM25mean_36.0_min',\n",
       " 'PM10_10.0_mean',\n",
       " 'PM2.5_mean',\n",
       " 'PM10_4.0_min',\n",
       " 'PM2.5_8.0_mean',\n",
       " 'PM25mean_4.0_max',\n",
       " 'PM25mean_16.0_max',\n",
       " 'PM25mean_38.0_min',\n",
       " 'PM25mean_30.0_max',\n",
       " 'PM25mean_29.0_min',\n",
       " 'NO2_23.0_max',\n",
       " 'PM10mean_17.0_min',\n",
       " 'PM2.5_2.0_mean',\n",
       " 'PM25mean_40.0_max',\n",
       " 'PM2.5_18.0_mean',\n",
       " 'PM25mean_36.0_max',\n",
       " 'PM10_8.0_mean',\n",
       " 'PM10mean_39.0_min',\n",
       " 'PM10_13.0_max',\n",
       " 'RH_mean_frcst_21',\n",
       " 'TMP_mean_frcst_5',\n",
       " 'PM10_6.0_mean',\n",
       " 'PM25mean_max',\n",
       " 'RH_mean_frcst_20',\n",
       " 'SO2_max',\n",
       " 'PM10mean_26.0_max',\n",
       " 'PM2.5_22.0_max',\n",
       " 'PM10_20.0_min',\n",
       " 'NO2_1.0_mean',\n",
       " 'WSP_mean_frcst_6',\n",
       " 'NO2_24.0_mean',\n",
       " 'PM25mean_25.0_mean',\n",
       " 'PM10mean_29.0_max',\n",
       " 'PM10mean_8.0_mean',\n",
       " 'RH_mean_frcst_13',\n",
       " 'O3_mean',\n",
       " 'NO2_20.0_max',\n",
       " 'PM25mean_33.0_min',\n",
       " 'PM2.5_9.0_max',\n",
       " 'WSP_mean_frcst_2',\n",
       " 'PM25mean_14.0_min',\n",
       " 'PM2.5_20.0_min',\n",
       " 'WSP_mean_frcst_7',\n",
       " 'fecha',\n",
       " 'PM2.5_20.0_mean',\n",
       " 'PM25mean_5.0_max',\n",
       " 'PM10mean_29.0_min',\n",
       " 'NO2_4.0_mean',\n",
       " 'PM10mean_27.0_min',\n",
       " 'dia',\n",
       " 'TMP_mean_frcst_12',\n",
       " 'RH_mean',\n",
       " 'O3_max',\n",
       " 'PM25mean_26.0_mean',\n",
       " 'TMP_mean_frcst_9',\n",
       " 'PM25mean_39.0_max',\n",
       " 'RH_mean_frcst_12',\n",
       " 'PM25mean_40.0_min',\n",
       " 'NO2_mean',\n",
       " 'PM10_1.0_mean',\n",
       " 'NO2_10.0_mean',\n",
       " 'PM25mean_11.0_max',\n",
       " 'NO2_13.0_max',\n",
       " 'PM10_9.0_max',\n",
       " 'RH_mean_frcst_2',\n",
       " 'TMP_mean_frcst_11',\n",
       " 'PM2.5_5.0_max',\n",
       " 'NO2_19.0_mean',\n",
       " 'PM2.5_7.0_max',\n",
       " 'PM10mean_37.0_max',\n",
       " 'NO2_3.0_mean',\n",
       " 'PM2.5_2.0_max',\n",
       " 'PM10_3.0_mean',\n",
       " 'TMP_mean_frcst_3',\n",
       " 'PM25mean_28.0_mean',\n",
       " 'TMP_mean_frcst_6',\n",
       " 'PM10mean_6.0_mean',\n",
       " 'NO2_9.0_mean',\n",
       " 'PM10mean_34.0_mean',\n",
       " 'WSP_mean_frcst_12',\n",
       " 'PM25mean_18.0_max',\n",
       " 'PM10_12.0_max',\n",
       " 'PM25mean_9.0_max',\n",
       " 'PM10mean_24.0_max',\n",
       " 'NOX_min',\n",
       " 'TMP_mean',\n",
       " 'PM25mean_10.0_max',\n",
       " 'PM2.5_15.0_max',\n",
       " 'PM25mean_24.0_min',\n",
       " 'NO2_1.0_max',\n",
       " 'PM10mean_1.0_mean',\n",
       " 'PM10_7.0_mean',\n",
       " 'CO_mean',\n",
       " 'PM10_7.0_max',\n",
       " 'NO_mean',\n",
       " 'PM10mean_40.0_mean',\n",
       " 'PM25mean_1.0_mean',\n",
       " 'PM2.5_22.0_mean',\n",
       " 'TMP_mean_frcst_19',\n",
       " 'PM25mean_28.0_min',\n",
       " 'PM25mean_2.0_mean',\n",
       " 'PM25mean_40.0_mean',\n",
       " 'PM10mean_26.0_mean',\n",
       " 'WSP_mean_frcst_4',\n",
       " 'PM25mean_max_frcst_1',\n",
       " 'PM25mean_max_frcst_2',\n",
       " 'PM25mean_max_frcst_3',\n",
       " 'PM25mean_max_frcst_4',\n",
       " 'PM25mean_max_frcst_5',\n",
       " 'PM25mean_max_frcst_6',\n",
       " 'PM25mean_max_frcst_7',\n",
       " 'PM25mean_max_frcst_8',\n",
       " 'PM25mean_max_frcst_9',\n",
       " 'PM25mean_max_frcst_10',\n",
       " 'PM25mean_max_frcst_11',\n",
       " 'PM25mean_max_frcst_12',\n",
       " 'PM25mean_max_frcst_13',\n",
       " 'PM25mean_max_frcst_14',\n",
       " 'PM25mean_max_frcst_15',\n",
       " 'PM25mean_max_frcst_16',\n",
       " 'PM25mean_max_frcst_17',\n",
       " 'PM25mean_max_frcst_18',\n",
       " 'PM25mean_max_frcst_19',\n",
       " 'PM25mean_max_frcst_20',\n",
       " 'PM25mean_max_frcst_21',\n",
       " 'PM25mean_max_frcst_22',\n",
       " 'PM25mean_max_frcst_23',\n",
       " 'PM25mean_max_frcst_24',\n",
       " 'hora',\n",
       " 'class']"
      ]
     },
     "execution_count": 21,
     "metadata": {},
     "output_type": "execute_result"
    }
   ],
   "source": [
    "data_hour_merge.columns.tolist()"
   ]
  },
  {
   "cell_type": "code",
   "execution_count": 19,
   "metadata": {},
   "outputs": [],
   "source": [
    "data_hour_merge.loc[data_hour_merge[\"PM25mean_max_frcst_11\"]>81.38, 'class'] = 1\n",
    "data_hour_merge.loc[data_hour_merge[\"PM25mean_max_frcst_11\"]<=81.38, 'class'] = 0"
   ]
  },
  {
   "cell_type": "code",
   "execution_count": 22,
   "metadata": {},
   "outputs": [
    {
     "data": {
      "text/plain": [
       "<matplotlib.axes._subplots.AxesSubplot at 0x7f6bee218630>"
      ]
     },
     "execution_count": 22,
     "metadata": {},
     "output_type": "execute_result"
    },
    {
     "data": {
      "image/png": "[encoded data removed]",
      "text/plain": [
       "<Figure size 432x288 with 1 Axes>"
      ]
     },
     "metadata": {
      "needs_background": "light"
     },
     "output_type": "display_data"
    }
   ],
   "source": [
    "sns.distplot(data_hour_merge[\"hora\"][data_hour_merge[\"PM25mean_max_frcst_1\"]>81.38], kde=True, rug=True)"
   ]
  },
  {
   "cell_type": "markdown",
   "metadata": {},
   "source": [
    "En contraste con la distriubción de precontingencias del Ozono, en el caso del PM10 y PM2.5, estas están distribuidas a lo largo del día, presumiblemente debido a que se considera el promedio móvil de las últimas 24 horas y no la medición puntual. \n",
    "\n",
    "> __Por este motivo vamos a hacer un 24 modelos, que pronostiquen a las 4am para cada hora del día.__"
   ]
  },
  {
   "cell_type": "markdown",
   "metadata": {},
   "source": [
    "#### Filtramos por el día donnde se va a aplicar el pronóstico:"
   ]
  },
  {
   "cell_type": "raw",
   "metadata": {},
   "source": [
    "list_hours = [4]"
   ]
  },
  {
   "cell_type": "markdown",
   "metadata": {},
   "source": [
    "Definimos la lista de los targets:"
   ]
  },
  {
   "cell_type": "markdown",
   "metadata": {},
   "source": [
    "### No aplica para PM10 o PM25\n",
    "ya que la distribuciónn de contingencias es a lo largo del día"
   ]
  },
  {
   "cell_type": "raw",
   "metadata": {},
   "source": [
    "data_hour_merge= data_hour_merge[data_hour_merge[\"hora\"].isin(list_hours)]\n",
    "data_hour_merge.reset_index(inplace=True,drop=True)\n",
    "#data_hour_merge.drop(\"hora\",axis=1,inplace=True)"
   ]
  },
  {
   "cell_type": "markdown",
   "metadata": {},
   "source": [
    "Borramos las columnas del target."
   ]
  },
  {
   "cell_type": "code",
   "execution_count": 26,
   "metadata": {},
   "outputs": [],
   "source": [
    "target = \"PM25mean_max_frcst_\"\n",
    "\n",
    "lista = []\n",
    "for i in range(1,25):\n",
    "    lista.append(str(target+str(i)))"
   ]
  },
  {
   "cell_type": "code",
   "execution_count": 27,
   "metadata": {},
   "outputs": [],
   "source": [
    "lista = []\n",
    "for i in range(1,25):\n",
    "    lista.append(str(target+str(i)))"
   ]
  },
  {
   "cell_type": "code",
   "execution_count": 28,
   "metadata": {},
   "outputs": [],
   "source": [
    "conta = 'PM25mean'"
   ]
  },
  {
   "cell_type": "markdown",
   "metadata": {},
   "source": [
    "## Training and verificationn split"
   ]
  },
  {
   "cell_type": "markdown",
   "metadata": {},
   "source": [
    "Separamos en conjunto de verificacion y training según el anio:"
   ]
  },
  {
   "cell_type": "code",
   "execution_count": 29,
   "metadata": {},
   "outputs": [],
   "source": [
    "data_hour_merge['fecha'] = pd.to_datetime(data_hour_merge['fecha'], format='%Y-%m-%d %H:%M:%S')\n",
    "data_hour_merge[\"anio\"] = [row[\"fecha\"].year for index, row in data_hour_merge.iterrows()]\n",
    "data_hour_merge[\"mes\"] = [row[\"fecha\"].month for index, row in data_hour_merge.iterrows()]"
   ]
  },
  {
   "cell_type": "code",
   "execution_count": 30,
   "metadata": {},
   "outputs": [],
   "source": [
    "data_hour_merge_training = data_hour_merge[data_hour_merge[\"anio\"].isin([2018, 2017,2016,2015])]\n",
    "data_hour_merge_verification = data_hour_merge[data_hour_merge[\"anio\"].isin([2019,])]"
   ]
  },
  {
   "cell_type": "code",
   "execution_count": 31,
   "metadata": {},
   "outputs": [],
   "source": [
    "data_hour_merge_training.drop(\"fecha\",axis=1,inplace=True)\n",
    "data_hour_merge_verification.drop(\"fecha\",axis=1,inplace=True)\n",
    "data_hour_merge_training.drop(\"anio\",axis=1,inplace=True)\n",
    "data_hour_merge_verification.drop(\"anio\",axis=1,inplace=True)"
   ]
  },
  {
   "cell_type": "code",
   "execution_count": 32,
   "metadata": {},
   "outputs": [],
   "source": [
    "hora = 11\n",
    "dataset = data_hour_merge_verification.copy()\n",
    "#dataset.drop([\"fecha\"],axis=1,inplace=True)\n",
    "dataset.dropna(inplace=True)\n",
    "dataset.drop(lista[:],axis=1,inplace=True)\n",
    "\n",
    "X_verification = dataset.loc[:, dataset.columns != \"class\"]\n",
    "y_verification = dataset[\"class\"]"
   ]
  },
  {
   "cell_type": "code",
   "execution_count": 33,
   "metadata": {},
   "outputs": [],
   "source": [
    "del data_hour_merge_verification"
   ]
  },
  {
   "cell_type": "code",
   "execution_count": 34,
   "metadata": {},
   "outputs": [],
   "source": [
    "del data_hour_merge"
   ]
  },
  {
   "cell_type": "markdown",
   "metadata": {},
   "source": [
    "# Clasificador:"
   ]
  },
  {
   "cell_type": "markdown",
   "metadata": {},
   "source": [
    "#### Definimos los conjuntos Train and Test<a class=\"anchor\" id=\"5-bullet\"></a>"
   ]
  },
  {
   "cell_type": "code",
   "execution_count": 35,
   "metadata": {},
   "outputs": [],
   "source": [
    "from sklearn.metrics import confusion_matrix as confussion_matrix_function\n",
    "from sklearn.model_selection import GridSearchCV"
   ]
  },
  {
   "cell_type": "code",
   "execution_count": 36,
   "metadata": {},
   "outputs": [],
   "source": [
    "hora = 11\n",
    "\n",
    "dataset = data_hour_merge_training.copy()\n",
    "#dataset.drop([\"fecha\"],axis=1,inplace=True)\n",
    "dataset.dropna(inplace=True)\n",
    "dataset.drop(lista[:],axis=1,inplace=True)\n",
    "\n",
    "X = dataset.loc[:, dataset.columns != \"class\"]\n",
    "y = dataset[\"class\"]\n",
    "\n",
    "#Definimos los conjuntos de prueba:\n",
    "\n",
    "X_train, X_test, y_train, y_test = train_test_split(X, y, test_size=0.3, random_state=rd.randint(1,100))"
   ]
  },
  {
   "cell_type": "code",
   "execution_count": 37,
   "metadata": {},
   "outputs": [],
   "source": [
    "model3= selection_model = XGBClassifier(\n",
    " n_estimators=550,\n",
    " max_depth=10,\n",
    " min_child_weight=2,\n",
    " gamma=0,\n",
    " subsample=0.8,\n",
    " colsample_bytree=0.8,\n",
    " objective= 'binary:logistic',\n",
    " nthread=4,\n",
    " scale_pos_weight=1,\n",
    " seed=2)\n",
    "# eval model"
   ]
  },
  {
   "cell_type": "code",
   "execution_count": 38,
   "metadata": {},
   "outputs": [],
   "source": [
    "eval_set = [(X_train, y_train), (X_test, y_test)]"
   ]
  },
  {
   "cell_type": "code",
   "execution_count": 39,
   "metadata": {},
   "outputs": [
    {
     "name": "stdout",
     "output_type": "stream",
     "text": [
      "[0]\tvalidation_0-error:0.003589\tvalidation_0-logloss:0.599313\tvalidation_1-error:0.005025\tvalidation_1-logloss:0.59945\n",
      "[1]\tvalidation_0-error:0.003203\tvalidation_0-logloss:0.522521\tvalidation_1-error:0.004123\tvalidation_1-logloss:0.522747\n",
      "[2]\tvalidation_0-error:0.003092\tvalidation_0-logloss:0.45831\tvalidation_1-error:0.004123\tvalidation_1-logloss:0.458686\n",
      "[3]\tvalidation_0-error:0.002872\tvalidation_0-logloss:0.404118\tvalidation_1-error:0.003608\tvalidation_1-logloss:0.4045\n",
      "[4]\tvalidation_0-error:0.002761\tvalidation_0-logloss:0.357702\tvalidation_1-error:0.003479\tvalidation_1-logloss:0.358204\n",
      "[5]\tvalidation_0-error:0.002651\tvalidation_0-logloss:0.317838\tvalidation_1-error:0.003479\tvalidation_1-logloss:0.318409\n",
      "[6]\tvalidation_0-error:0.00254\tvalidation_0-logloss:0.283238\tvalidation_1-error:0.003221\tvalidation_1-logloss:0.283843\n",
      "[7]\tvalidation_0-error:0.002485\tvalidation_0-logloss:0.252967\tvalidation_1-error:0.003221\tvalidation_1-logloss:0.253685\n",
      "[8]\tvalidation_0-error:0.002485\tvalidation_0-logloss:0.226413\tvalidation_1-error:0.002835\tvalidation_1-logloss:0.227246\n",
      "[9]\tvalidation_0-error:0.002375\tvalidation_0-logloss:0.203065\tvalidation_1-error:0.003092\tvalidation_1-logloss:0.204077\n",
      "[10]\tvalidation_0-error:0.002375\tvalidation_0-logloss:0.182522\tvalidation_1-error:0.002964\tvalidation_1-logloss:0.183554\n",
      "[11]\tvalidation_0-error:0.002375\tvalidation_0-logloss:0.164164\tvalidation_1-error:0.002964\tvalidation_1-logloss:0.165102\n",
      "[12]\tvalidation_0-error:0.002375\tvalidation_0-logloss:0.14786\tvalidation_1-error:0.002706\tvalidation_1-logloss:0.148862\n",
      "[13]\tvalidation_0-error:0.002154\tvalidation_0-logloss:0.133312\tvalidation_1-error:0.002448\tvalidation_1-logloss:0.134305\n",
      "[14]\tvalidation_0-error:0.001988\tvalidation_0-logloss:0.120325\tvalidation_1-error:0.002448\tvalidation_1-logloss:0.121294\n",
      "[15]\tvalidation_0-error:0.001878\tvalidation_0-logloss:0.10869\tvalidation_1-error:0.002448\tvalidation_1-logloss:0.109736\n",
      "[16]\tvalidation_0-error:0.001767\tvalidation_0-logloss:0.098378\tvalidation_1-error:0.002577\tvalidation_1-logloss:0.099567\n",
      "[17]\tvalidation_0-error:0.001767\tvalidation_0-logloss:0.08906\tvalidation_1-error:0.002319\tvalidation_1-logloss:0.090233\n",
      "[18]\tvalidation_0-error:0.001767\tvalidation_0-logloss:0.080716\tvalidation_1-error:0.00219\tvalidation_1-logloss:0.081866\n",
      "[19]\tvalidation_0-error:0.001712\tvalidation_0-logloss:0.073269\tvalidation_1-error:0.00219\tvalidation_1-logloss:0.074439\n",
      "[20]\tvalidation_0-error:0.001601\tvalidation_0-logloss:0.066531\tvalidation_1-error:0.002062\tvalidation_1-logloss:0.067786\n",
      "[21]\tvalidation_0-error:0.001601\tvalidation_0-logloss:0.060448\tvalidation_1-error:0.00219\tvalidation_1-logloss:0.061714\n",
      "[22]\tvalidation_0-error:0.001601\tvalidation_0-logloss:0.054897\tvalidation_1-error:0.002319\tvalidation_1-logloss:0.0562\n",
      "[23]\tvalidation_0-error:0.001546\tvalidation_0-logloss:0.049978\tvalidation_1-error:0.002577\tvalidation_1-logloss:0.05138\n",
      "[24]\tvalidation_0-error:0.001546\tvalidation_0-logloss:0.0455\tvalidation_1-error:0.002319\tvalidation_1-logloss:0.047009\n",
      "[25]\tvalidation_0-error:0.001546\tvalidation_0-logloss:0.041452\tvalidation_1-error:0.00219\tvalidation_1-logloss:0.043091\n",
      "[26]\tvalidation_0-error:0.001601\tvalidation_0-logloss:0.037776\tvalidation_1-error:0.00219\tvalidation_1-logloss:0.039485\n",
      "[27]\tvalidation_0-error:0.001491\tvalidation_0-logloss:0.034501\tvalidation_1-error:0.002319\tvalidation_1-logloss:0.036207\n",
      "[28]\tvalidation_0-error:0.001436\tvalidation_0-logloss:0.031569\tvalidation_1-error:0.00219\tvalidation_1-logloss:0.033258\n",
      "[29]\tvalidation_0-error:0.001381\tvalidation_0-logloss:0.028915\tvalidation_1-error:0.002319\tvalidation_1-logloss:0.030677\n",
      "[30]\tvalidation_0-error:0.001325\tvalidation_0-logloss:0.026465\tvalidation_1-error:0.002062\tvalidation_1-logloss:0.028237\n",
      "[31]\tvalidation_0-error:0.001215\tvalidation_0-logloss:0.024235\tvalidation_1-error:0.002062\tvalidation_1-logloss:0.026132\n",
      "[32]\tvalidation_0-error:0.00116\tvalidation_0-logloss:0.022262\tvalidation_1-error:0.002062\tvalidation_1-logloss:0.024156\n",
      "[33]\tvalidation_0-error:0.00116\tvalidation_0-logloss:0.020439\tvalidation_1-error:0.001933\tvalidation_1-logloss:0.022368\n",
      "[34]\tvalidation_0-error:0.00116\tvalidation_0-logloss:0.018784\tvalidation_1-error:0.001933\tvalidation_1-logloss:0.020776\n",
      "[35]\tvalidation_0-error:0.00116\tvalidation_0-logloss:0.017293\tvalidation_1-error:0.001933\tvalidation_1-logloss:0.019335\n",
      "[36]\tvalidation_0-error:0.001049\tvalidation_0-logloss:0.015949\tvalidation_1-error:0.001933\tvalidation_1-logloss:0.017999\n",
      "[37]\tvalidation_0-error:0.000939\tvalidation_0-logloss:0.014714\tvalidation_1-error:0.001933\tvalidation_1-logloss:0.016827\n",
      "[38]\tvalidation_0-error:0.000994\tvalidation_0-logloss:0.013576\tvalidation_1-error:0.001933\tvalidation_1-logloss:0.015742\n",
      "[39]\tvalidation_0-error:0.000773\tvalidation_0-logloss:0.012559\tvalidation_1-error:0.00219\tvalidation_1-logloss:0.014767\n",
      "[40]\tvalidation_0-error:0.000828\tvalidation_0-logloss:0.011652\tvalidation_1-error:0.002062\tvalidation_1-logloss:0.013916\n",
      "[41]\tvalidation_0-error:0.000773\tvalidation_0-logloss:0.010804\tvalidation_1-error:0.002062\tvalidation_1-logloss:0.013096\n",
      "[42]\tvalidation_0-error:0.000828\tvalidation_0-logloss:0.010049\tvalidation_1-error:0.001933\tvalidation_1-logloss:0.012315\n",
      "[43]\tvalidation_0-error:0.000663\tvalidation_0-logloss:0.009391\tvalidation_1-error:0.002062\tvalidation_1-logloss:0.011766\n",
      "[44]\tvalidation_0-error:0.000607\tvalidation_0-logloss:0.008771\tvalidation_1-error:0.002062\tvalidation_1-logloss:0.011189\n",
      "[45]\tvalidation_0-error:0.000663\tvalidation_0-logloss:0.008215\tvalidation_1-error:0.00219\tvalidation_1-logloss:0.010679\n",
      "[46]\tvalidation_0-error:0.000663\tvalidation_0-logloss:0.007714\tvalidation_1-error:0.00219\tvalidation_1-logloss:0.01017\n",
      "[47]\tvalidation_0-error:0.000607\tvalidation_0-logloss:0.007268\tvalidation_1-error:0.002062\tvalidation_1-logloss:0.009751\n",
      "[48]\tvalidation_0-error:0.000552\tvalidation_0-logloss:0.006832\tvalidation_1-error:0.00219\tvalidation_1-logloss:0.009436\n",
      "[49]\tvalidation_0-error:0.000552\tvalidation_0-logloss:0.006465\tvalidation_1-error:0.00219\tvalidation_1-logloss:0.009138\n",
      "[50]\tvalidation_0-error:0.000552\tvalidation_0-logloss:0.006106\tvalidation_1-error:0.00219\tvalidation_1-logloss:0.008864\n",
      "[51]\tvalidation_0-error:0.000552\tvalidation_0-logloss:0.005792\tvalidation_1-error:0.00219\tvalidation_1-logloss:0.008582\n",
      "[52]\tvalidation_0-error:0.000552\tvalidation_0-logloss:0.005478\tvalidation_1-error:0.00219\tvalidation_1-logloss:0.008225\n",
      "[53]\tvalidation_0-error:0.000497\tvalidation_0-logloss:0.005207\tvalidation_1-error:0.00219\tvalidation_1-logloss:0.007961\n",
      "[54]\tvalidation_0-error:0.000497\tvalidation_0-logloss:0.004935\tvalidation_1-error:0.00219\tvalidation_1-logloss:0.007699\n",
      "[55]\tvalidation_0-error:0.000442\tvalidation_0-logloss:0.004679\tvalidation_1-error:0.00219\tvalidation_1-logloss:0.007495\n",
      "[56]\tvalidation_0-error:0.000442\tvalidation_0-logloss:0.004456\tvalidation_1-error:0.00219\tvalidation_1-logloss:0.007246\n",
      "[57]\tvalidation_0-error:0.000442\tvalidation_0-logloss:0.004258\tvalidation_1-error:0.002062\tvalidation_1-logloss:0.007079\n",
      "[58]\tvalidation_0-error:0.000442\tvalidation_0-logloss:0.004065\tvalidation_1-error:0.002062\tvalidation_1-logloss:0.006869\n",
      "[59]\tvalidation_0-error:0.000442\tvalidation_0-logloss:0.003887\tvalidation_1-error:0.002062\tvalidation_1-logloss:0.006725\n",
      "[60]\tvalidation_0-error:0.000442\tvalidation_0-logloss:0.003727\tvalidation_1-error:0.002062\tvalidation_1-logloss:0.006559\n",
      "[61]\tvalidation_0-error:0.000387\tvalidation_0-logloss:0.003564\tvalidation_1-error:0.001933\tvalidation_1-logloss:0.006373\n",
      "[62]\tvalidation_0-error:0.000387\tvalidation_0-logloss:0.003417\tvalidation_1-error:0.001933\tvalidation_1-logloss:0.006207\n",
      "[63]\tvalidation_0-error:0.000387\tvalidation_0-logloss:0.003272\tvalidation_1-error:0.001933\tvalidation_1-logloss:0.006134\n",
      "[64]\tvalidation_0-error:0.000331\tvalidation_0-logloss:0.00314\tvalidation_1-error:0.001933\tvalidation_1-logloss:0.005993\n",
      "[65]\tvalidation_0-error:0.000331\tvalidation_0-logloss:0.003032\tvalidation_1-error:0.001933\tvalidation_1-logloss:0.005926\n",
      "[66]\tvalidation_0-error:0.000276\tvalidation_0-logloss:0.002897\tvalidation_1-error:0.001933\tvalidation_1-logloss:0.005746\n",
      "[67]\tvalidation_0-error:0.000276\tvalidation_0-logloss:0.002792\tvalidation_1-error:0.001804\tvalidation_1-logloss:0.005639\n",
      "[68]\tvalidation_0-error:0.000221\tvalidation_0-logloss:0.002694\tvalidation_1-error:0.001675\tvalidation_1-logloss:0.005526\n"
     ]
    },
    {
     "name": "stdout",
     "output_type": "stream",
     "text": [
      "[69]\tvalidation_0-error:0.000221\tvalidation_0-logloss:0.0026\tvalidation_1-error:0.001804\tvalidation_1-logloss:0.005422\n",
      "[70]\tvalidation_0-error:0.000221\tvalidation_0-logloss:0.002493\tvalidation_1-error:0.001804\tvalidation_1-logloss:0.005252\n",
      "[71]\tvalidation_0-error:0.000221\tvalidation_0-logloss:0.002409\tvalidation_1-error:0.001675\tvalidation_1-logloss:0.005148\n",
      "[72]\tvalidation_0-error:0.000221\tvalidation_0-logloss:0.002324\tvalidation_1-error:0.001417\tvalidation_1-logloss:0.005066\n",
      "[73]\tvalidation_0-error:0.000221\tvalidation_0-logloss:0.002272\tvalidation_1-error:0.001288\tvalidation_1-logloss:0.005027\n",
      "[74]\tvalidation_0-error:0.000221\tvalidation_0-logloss:0.002204\tvalidation_1-error:0.001546\tvalidation_1-logloss:0.005003\n",
      "[75]\tvalidation_0-error:0.000221\tvalidation_0-logloss:0.002155\tvalidation_1-error:0.001417\tvalidation_1-logloss:0.004952\n",
      "[76]\tvalidation_0-error:0.000221\tvalidation_0-logloss:0.002089\tvalidation_1-error:0.001417\tvalidation_1-logloss:0.004865\n",
      "[77]\tvalidation_0-error:0.000221\tvalidation_0-logloss:0.002032\tvalidation_1-error:0.001288\tvalidation_1-logloss:0.004749\n",
      "[78]\tvalidation_0-error:0.000221\tvalidation_0-logloss:0.001983\tvalidation_1-error:0.00116\tvalidation_1-logloss:0.004691\n",
      "[79]\tvalidation_0-error:0.000221\tvalidation_0-logloss:0.001932\tvalidation_1-error:0.00116\tvalidation_1-logloss:0.004632\n",
      "[80]\tvalidation_0-error:0.000221\tvalidation_0-logloss:0.001883\tvalidation_1-error:0.00116\tvalidation_1-logloss:0.00458\n",
      "[81]\tvalidation_0-error:0.000221\tvalidation_0-logloss:0.00184\tvalidation_1-error:0.001288\tvalidation_1-logloss:0.004535\n",
      "[82]\tvalidation_0-error:0.000221\tvalidation_0-logloss:0.001795\tvalidation_1-error:0.001288\tvalidation_1-logloss:0.004523\n",
      "[83]\tvalidation_0-error:0.000221\tvalidation_0-logloss:0.00176\tvalidation_1-error:0.001288\tvalidation_1-logloss:0.004533\n",
      "[84]\tvalidation_0-error:0.000221\tvalidation_0-logloss:0.001715\tvalidation_1-error:0.001288\tvalidation_1-logloss:0.004479\n",
      "[85]\tvalidation_0-error:0.000221\tvalidation_0-logloss:0.001688\tvalidation_1-error:0.001288\tvalidation_1-logloss:0.004474\n",
      "[86]\tvalidation_0-error:0.000221\tvalidation_0-logloss:0.001659\tvalidation_1-error:0.001288\tvalidation_1-logloss:0.004506\n",
      "[87]\tvalidation_0-error:0.000221\tvalidation_0-logloss:0.001619\tvalidation_1-error:0.001288\tvalidation_1-logloss:0.004463\n",
      "[88]\tvalidation_0-error:0.000221\tvalidation_0-logloss:0.001585\tvalidation_1-error:0.001288\tvalidation_1-logloss:0.004437\n",
      "[89]\tvalidation_0-error:0.000221\tvalidation_0-logloss:0.001554\tvalidation_1-error:0.001417\tvalidation_1-logloss:0.004417\n",
      "[90]\tvalidation_0-error:0.000221\tvalidation_0-logloss:0.001524\tvalidation_1-error:0.001288\tvalidation_1-logloss:0.004378\n",
      "[91]\tvalidation_0-error:0.000221\tvalidation_0-logloss:0.001495\tvalidation_1-error:0.001288\tvalidation_1-logloss:0.004377\n",
      "[92]\tvalidation_0-error:0.000221\tvalidation_0-logloss:0.001469\tvalidation_1-error:0.001288\tvalidation_1-logloss:0.004383\n",
      "[93]\tvalidation_0-error:0.000221\tvalidation_0-logloss:0.001446\tvalidation_1-error:0.001288\tvalidation_1-logloss:0.004385\n",
      "[94]\tvalidation_0-error:0.000221\tvalidation_0-logloss:0.001424\tvalidation_1-error:0.001417\tvalidation_1-logloss:0.004394\n",
      "[95]\tvalidation_0-error:0.000221\tvalidation_0-logloss:0.001394\tvalidation_1-error:0.001417\tvalidation_1-logloss:0.004385\n",
      "[96]\tvalidation_0-error:0.000221\tvalidation_0-logloss:0.001373\tvalidation_1-error:0.001288\tvalidation_1-logloss:0.004329\n",
      "[97]\tvalidation_0-error:0.000221\tvalidation_0-logloss:0.001346\tvalidation_1-error:0.001288\tvalidation_1-logloss:0.004359\n",
      "[98]\tvalidation_0-error:0.000221\tvalidation_0-logloss:0.001321\tvalidation_1-error:0.001417\tvalidation_1-logloss:0.004355\n",
      "[99]\tvalidation_0-error:0.000221\tvalidation_0-logloss:0.001296\tvalidation_1-error:0.001417\tvalidation_1-logloss:0.004343\n",
      "[100]\tvalidation_0-error:0.000221\tvalidation_0-logloss:0.001278\tvalidation_1-error:0.001417\tvalidation_1-logloss:0.004358\n",
      "[101]\tvalidation_0-error:0.000221\tvalidation_0-logloss:0.001258\tvalidation_1-error:0.001417\tvalidation_1-logloss:0.004387\n",
      "[102]\tvalidation_0-error:0.000221\tvalidation_0-logloss:0.001234\tvalidation_1-error:0.001288\tvalidation_1-logloss:0.004393\n",
      "[103]\tvalidation_0-error:0.000221\tvalidation_0-logloss:0.001208\tvalidation_1-error:0.001288\tvalidation_1-logloss:0.004377\n",
      "[104]\tvalidation_0-error:0.000221\tvalidation_0-logloss:0.001184\tvalidation_1-error:0.001288\tvalidation_1-logloss:0.004401\n",
      "[105]\tvalidation_0-error:0.000221\tvalidation_0-logloss:0.001165\tvalidation_1-error:0.001417\tvalidation_1-logloss:0.00442\n",
      "[106]\tvalidation_0-error:0.000221\tvalidation_0-logloss:0.001141\tvalidation_1-error:0.001417\tvalidation_1-logloss:0.004377\n",
      "[107]\tvalidation_0-error:0.000166\tvalidation_0-logloss:0.001125\tvalidation_1-error:0.001546\tvalidation_1-logloss:0.004375\n",
      "[108]\tvalidation_0-error:0.000166\tvalidation_0-logloss:0.001109\tvalidation_1-error:0.001546\tvalidation_1-logloss:0.004346\n",
      "[109]\tvalidation_0-error:0.000166\tvalidation_0-logloss:0.001096\tvalidation_1-error:0.001417\tvalidation_1-logloss:0.004332\n",
      "[110]\tvalidation_0-error:0.000166\tvalidation_0-logloss:0.001079\tvalidation_1-error:0.001546\tvalidation_1-logloss:0.004324\n",
      "[111]\tvalidation_0-error:0.000166\tvalidation_0-logloss:0.001067\tvalidation_1-error:0.001417\tvalidation_1-logloss:0.004312\n",
      "[112]\tvalidation_0-error:0.000166\tvalidation_0-logloss:0.001042\tvalidation_1-error:0.001546\tvalidation_1-logloss:0.004327\n",
      "[113]\tvalidation_0-error:0.000166\tvalidation_0-logloss:0.00102\tvalidation_1-error:0.001417\tvalidation_1-logloss:0.004287\n",
      "[114]\tvalidation_0-error:0.000166\tvalidation_0-logloss:0.001007\tvalidation_1-error:0.001546\tvalidation_1-logloss:0.004279\n",
      "[115]\tvalidation_0-error:0.000166\tvalidation_0-logloss:0.001001\tvalidation_1-error:0.001675\tvalidation_1-logloss:0.004283\n",
      "[116]\tvalidation_0-error:0.000166\tvalidation_0-logloss:0.000985\tvalidation_1-error:0.001546\tvalidation_1-logloss:0.004285\n",
      "[117]\tvalidation_0-error:0.000166\tvalidation_0-logloss:0.00097\tvalidation_1-error:0.001546\tvalidation_1-logloss:0.004278\n",
      "[118]\tvalidation_0-error:0.000166\tvalidation_0-logloss:0.000965\tvalidation_1-error:0.001675\tvalidation_1-logloss:0.004303\n",
      "[119]\tvalidation_0-error:0.000166\tvalidation_0-logloss:0.000957\tvalidation_1-error:0.001675\tvalidation_1-logloss:0.00432\n",
      "[120]\tvalidation_0-error:0.000166\tvalidation_0-logloss:0.000945\tvalidation_1-error:0.001546\tvalidation_1-logloss:0.004308\n",
      "[121]\tvalidation_0-error:0.000166\tvalidation_0-logloss:0.000928\tvalidation_1-error:0.001546\tvalidation_1-logloss:0.004283\n",
      "[122]\tvalidation_0-error:0.000166\tvalidation_0-logloss:0.000914\tvalidation_1-error:0.001417\tvalidation_1-logloss:0.004266\n",
      "[123]\tvalidation_0-error:0.000166\tvalidation_0-logloss:0.000901\tvalidation_1-error:0.001288\tvalidation_1-logloss:0.004238\n",
      "[124]\tvalidation_0-error:0.000166\tvalidation_0-logloss:0.000889\tvalidation_1-error:0.001288\tvalidation_1-logloss:0.00423\n",
      "[125]\tvalidation_0-error:0.000166\tvalidation_0-logloss:0.000876\tvalidation_1-error:0.001417\tvalidation_1-logloss:0.004222\n",
      "[126]\tvalidation_0-error:0.000166\tvalidation_0-logloss:0.000871\tvalidation_1-error:0.001417\tvalidation_1-logloss:0.004241\n",
      "[127]\tvalidation_0-error:0.000166\tvalidation_0-logloss:0.000865\tvalidation_1-error:0.001417\tvalidation_1-logloss:0.004238\n",
      "[128]\tvalidation_0-error:0.000166\tvalidation_0-logloss:0.000858\tvalidation_1-error:0.001288\tvalidation_1-logloss:0.00423\n",
      "[129]\tvalidation_0-error:0.000166\tvalidation_0-logloss:0.000852\tvalidation_1-error:0.001417\tvalidation_1-logloss:0.004225\n",
      "[130]\tvalidation_0-error:0.000166\tvalidation_0-logloss:0.000846\tvalidation_1-error:0.001417\tvalidation_1-logloss:0.004204\n",
      "[131]\tvalidation_0-error:0.00011\tvalidation_0-logloss:0.000836\tvalidation_1-error:0.001417\tvalidation_1-logloss:0.004212\n",
      "[132]\tvalidation_0-error:0.000166\tvalidation_0-logloss:0.000826\tvalidation_1-error:0.001417\tvalidation_1-logloss:0.004196\n",
      "[133]\tvalidation_0-error:0.00011\tvalidation_0-logloss:0.000821\tvalidation_1-error:0.001417\tvalidation_1-logloss:0.004196\n",
      "[134]\tvalidation_0-error:0.00011\tvalidation_0-logloss:0.000807\tvalidation_1-error:0.001417\tvalidation_1-logloss:0.004195\n",
      "[135]\tvalidation_0-error:0.00011\tvalidation_0-logloss:0.000794\tvalidation_1-error:0.001417\tvalidation_1-logloss:0.004159\n",
      "[136]\tvalidation_0-error:0.00011\tvalidation_0-logloss:0.000786\tvalidation_1-error:0.001417\tvalidation_1-logloss:0.004162\n"
     ]
    },
    {
     "name": "stdout",
     "output_type": "stream",
     "text": [
      "[137]\tvalidation_0-error:0.00011\tvalidation_0-logloss:0.000776\tvalidation_1-error:0.001417\tvalidation_1-logloss:0.00416\n",
      "[138]\tvalidation_0-error:5.5e-05\tvalidation_0-logloss:0.000766\tvalidation_1-error:0.001417\tvalidation_1-logloss:0.004158\n",
      "[139]\tvalidation_0-error:5.5e-05\tvalidation_0-logloss:0.000756\tvalidation_1-error:0.001417\tvalidation_1-logloss:0.004167\n",
      "[140]\tvalidation_0-error:5.5e-05\tvalidation_0-logloss:0.000748\tvalidation_1-error:0.001417\tvalidation_1-logloss:0.004168\n",
      "[141]\tvalidation_0-error:5.5e-05\tvalidation_0-logloss:0.000737\tvalidation_1-error:0.001417\tvalidation_1-logloss:0.00414\n",
      "[142]\tvalidation_0-error:5.5e-05\tvalidation_0-logloss:0.00073\tvalidation_1-error:0.001417\tvalidation_1-logloss:0.004122\n",
      "[143]\tvalidation_0-error:5.5e-05\tvalidation_0-logloss:0.000725\tvalidation_1-error:0.001417\tvalidation_1-logloss:0.004128\n",
      "[144]\tvalidation_0-error:5.5e-05\tvalidation_0-logloss:0.000717\tvalidation_1-error:0.001417\tvalidation_1-logloss:0.004138\n",
      "[145]\tvalidation_0-error:5.5e-05\tvalidation_0-logloss:0.000712\tvalidation_1-error:0.001417\tvalidation_1-logloss:0.004146\n",
      "[146]\tvalidation_0-error:5.5e-05\tvalidation_0-logloss:0.000705\tvalidation_1-error:0.001417\tvalidation_1-logloss:0.004147\n",
      "[147]\tvalidation_0-error:5.5e-05\tvalidation_0-logloss:0.0007\tvalidation_1-error:0.001417\tvalidation_1-logloss:0.004122\n",
      "[148]\tvalidation_0-error:5.5e-05\tvalidation_0-logloss:0.000696\tvalidation_1-error:0.001417\tvalidation_1-logloss:0.004117\n",
      "[149]\tvalidation_0-error:5.5e-05\tvalidation_0-logloss:0.000685\tvalidation_1-error:0.001288\tvalidation_1-logloss:0.004092\n",
      "[150]\tvalidation_0-error:5.5e-05\tvalidation_0-logloss:0.000679\tvalidation_1-error:0.001417\tvalidation_1-logloss:0.00409\n",
      "[151]\tvalidation_0-error:5.5e-05\tvalidation_0-logloss:0.000674\tvalidation_1-error:0.001288\tvalidation_1-logloss:0.004081\n",
      "[152]\tvalidation_0-error:5.5e-05\tvalidation_0-logloss:0.000669\tvalidation_1-error:0.001288\tvalidation_1-logloss:0.004077\n",
      "[153]\tvalidation_0-error:5.5e-05\tvalidation_0-logloss:0.000664\tvalidation_1-error:0.001288\tvalidation_1-logloss:0.004079\n",
      "[154]\tvalidation_0-error:5.5e-05\tvalidation_0-logloss:0.00066\tvalidation_1-error:0.001288\tvalidation_1-logloss:0.004079\n",
      "[155]\tvalidation_0-error:5.5e-05\tvalidation_0-logloss:0.000656\tvalidation_1-error:0.001288\tvalidation_1-logloss:0.004076\n",
      "[156]\tvalidation_0-error:5.5e-05\tvalidation_0-logloss:0.000654\tvalidation_1-error:0.001288\tvalidation_1-logloss:0.004087\n",
      "[157]\tvalidation_0-error:5.5e-05\tvalidation_0-logloss:0.000648\tvalidation_1-error:0.001417\tvalidation_1-logloss:0.004088\n",
      "[158]\tvalidation_0-error:5.5e-05\tvalidation_0-logloss:0.000641\tvalidation_1-error:0.001417\tvalidation_1-logloss:0.004079\n",
      "[159]\tvalidation_0-error:5.5e-05\tvalidation_0-logloss:0.000634\tvalidation_1-error:0.001417\tvalidation_1-logloss:0.004077\n",
      "[160]\tvalidation_0-error:5.5e-05\tvalidation_0-logloss:0.00063\tvalidation_1-error:0.001288\tvalidation_1-logloss:0.004055\n",
      "[161]\tvalidation_0-error:5.5e-05\tvalidation_0-logloss:0.000627\tvalidation_1-error:0.001417\tvalidation_1-logloss:0.004061\n",
      "[162]\tvalidation_0-error:5.5e-05\tvalidation_0-logloss:0.000622\tvalidation_1-error:0.001417\tvalidation_1-logloss:0.004066\n",
      "[163]\tvalidation_0-error:5.5e-05\tvalidation_0-logloss:0.000617\tvalidation_1-error:0.001417\tvalidation_1-logloss:0.004068\n",
      "[164]\tvalidation_0-error:5.5e-05\tvalidation_0-logloss:0.000612\tvalidation_1-error:0.001288\tvalidation_1-logloss:0.004063\n",
      "[165]\tvalidation_0-error:5.5e-05\tvalidation_0-logloss:0.000607\tvalidation_1-error:0.001417\tvalidation_1-logloss:0.004062\n",
      "[166]\tvalidation_0-error:5.5e-05\tvalidation_0-logloss:0.000605\tvalidation_1-error:0.001288\tvalidation_1-logloss:0.004056\n",
      "[167]\tvalidation_0-error:0\tvalidation_0-logloss:0.0006\tvalidation_1-error:0.001417\tvalidation_1-logloss:0.004079\n",
      "[168]\tvalidation_0-error:0\tvalidation_0-logloss:0.000597\tvalidation_1-error:0.001417\tvalidation_1-logloss:0.004079\n",
      "[169]\tvalidation_0-error:0\tvalidation_0-logloss:0.000592\tvalidation_1-error:0.001288\tvalidation_1-logloss:0.00408\n",
      "[170]\tvalidation_0-error:0\tvalidation_0-logloss:0.000587\tvalidation_1-error:0.001417\tvalidation_1-logloss:0.004063\n",
      "[171]\tvalidation_0-error:0\tvalidation_0-logloss:0.000583\tvalidation_1-error:0.001288\tvalidation_1-logloss:0.004069\n",
      "[172]\tvalidation_0-error:0\tvalidation_0-logloss:0.000579\tvalidation_1-error:0.001288\tvalidation_1-logloss:0.004034\n",
      "[173]\tvalidation_0-error:0\tvalidation_0-logloss:0.000577\tvalidation_1-error:0.001288\tvalidation_1-logloss:0.004032\n",
      "[174]\tvalidation_0-error:0\tvalidation_0-logloss:0.000575\tvalidation_1-error:0.001417\tvalidation_1-logloss:0.00404\n",
      "[175]\tvalidation_0-error:0\tvalidation_0-logloss:0.000571\tvalidation_1-error:0.001417\tvalidation_1-logloss:0.004043\n",
      "[176]\tvalidation_0-error:0\tvalidation_0-logloss:0.000566\tvalidation_1-error:0.001417\tvalidation_1-logloss:0.004051\n",
      "[177]\tvalidation_0-error:0\tvalidation_0-logloss:0.000565\tvalidation_1-error:0.001417\tvalidation_1-logloss:0.004045\n",
      "[178]\tvalidation_0-error:0\tvalidation_0-logloss:0.000561\tvalidation_1-error:0.001417\tvalidation_1-logloss:0.004047\n",
      "[179]\tvalidation_0-error:0\tvalidation_0-logloss:0.00056\tvalidation_1-error:0.001417\tvalidation_1-logloss:0.004023\n",
      "[180]\tvalidation_0-error:0\tvalidation_0-logloss:0.000558\tvalidation_1-error:0.001417\tvalidation_1-logloss:0.004036\n",
      "[181]\tvalidation_0-error:0\tvalidation_0-logloss:0.000555\tvalidation_1-error:0.001417\tvalidation_1-logloss:0.004037\n",
      "[182]\tvalidation_0-error:0\tvalidation_0-logloss:0.000551\tvalidation_1-error:0.001417\tvalidation_1-logloss:0.004023\n",
      "[183]\tvalidation_0-error:0\tvalidation_0-logloss:0.000547\tvalidation_1-error:0.001417\tvalidation_1-logloss:0.004028\n",
      "[184]\tvalidation_0-error:0\tvalidation_0-logloss:0.000544\tvalidation_1-error:0.001417\tvalidation_1-logloss:0.004014\n",
      "[185]\tvalidation_0-error:0\tvalidation_0-logloss:0.000542\tvalidation_1-error:0.001417\tvalidation_1-logloss:0.004014\n",
      "[186]\tvalidation_0-error:0\tvalidation_0-logloss:0.00054\tvalidation_1-error:0.001417\tvalidation_1-logloss:0.004014\n",
      "[187]\tvalidation_0-error:0\tvalidation_0-logloss:0.000537\tvalidation_1-error:0.001417\tvalidation_1-logloss:0.004007\n",
      "[188]\tvalidation_0-error:0\tvalidation_0-logloss:0.000534\tvalidation_1-error:0.001288\tvalidation_1-logloss:0.003991\n",
      "[189]\tvalidation_0-error:0\tvalidation_0-logloss:0.000531\tvalidation_1-error:0.001288\tvalidation_1-logloss:0.003996\n",
      "[190]\tvalidation_0-error:0\tvalidation_0-logloss:0.000529\tvalidation_1-error:0.001288\tvalidation_1-logloss:0.004018\n",
      "[191]\tvalidation_0-error:0\tvalidation_0-logloss:0.000526\tvalidation_1-error:0.001288\tvalidation_1-logloss:0.004018\n",
      "[192]\tvalidation_0-error:0\tvalidation_0-logloss:0.000525\tvalidation_1-error:0.001288\tvalidation_1-logloss:0.003998\n",
      "[193]\tvalidation_0-error:0\tvalidation_0-logloss:0.000521\tvalidation_1-error:0.001288\tvalidation_1-logloss:0.003997\n",
      "[194]\tvalidation_0-error:0\tvalidation_0-logloss:0.000519\tvalidation_1-error:0.001288\tvalidation_1-logloss:0.003987\n",
      "[195]\tvalidation_0-error:0\tvalidation_0-logloss:0.000516\tvalidation_1-error:0.001288\tvalidation_1-logloss:0.00398\n",
      "[196]\tvalidation_0-error:0\tvalidation_0-logloss:0.000515\tvalidation_1-error:0.001288\tvalidation_1-logloss:0.003995\n",
      "[197]\tvalidation_0-error:0\tvalidation_0-logloss:0.000512\tvalidation_1-error:0.001288\tvalidation_1-logloss:0.003981\n",
      "[198]\tvalidation_0-error:0\tvalidation_0-logloss:0.000511\tvalidation_1-error:0.001288\tvalidation_1-logloss:0.003964\n",
      "[199]\tvalidation_0-error:0\tvalidation_0-logloss:0.00051\tvalidation_1-error:0.001288\tvalidation_1-logloss:0.003954\n",
      "[200]\tvalidation_0-error:0\tvalidation_0-logloss:0.000507\tvalidation_1-error:0.001288\tvalidation_1-logloss:0.003936\n",
      "[201]\tvalidation_0-error:0\tvalidation_0-logloss:0.000504\tvalidation_1-error:0.001288\tvalidation_1-logloss:0.003932\n",
      "[202]\tvalidation_0-error:0\tvalidation_0-logloss:0.000502\tvalidation_1-error:0.001288\tvalidation_1-logloss:0.003934\n",
      "[203]\tvalidation_0-error:0\tvalidation_0-logloss:0.000499\tvalidation_1-error:0.001288\tvalidation_1-logloss:0.00394\n",
      "[204]\tvalidation_0-error:0\tvalidation_0-logloss:0.000496\tvalidation_1-error:0.001288\tvalidation_1-logloss:0.003926\n",
      "[205]\tvalidation_0-error:0\tvalidation_0-logloss:0.000495\tvalidation_1-error:0.001288\tvalidation_1-logloss:0.003945\n",
      "[206]\tvalidation_0-error:0\tvalidation_0-logloss:0.000494\tvalidation_1-error:0.001288\tvalidation_1-logloss:0.003936\n"
     ]
    },
    {
     "name": "stdout",
     "output_type": "stream",
     "text": [
      "[207]\tvalidation_0-error:0\tvalidation_0-logloss:0.000491\tvalidation_1-error:0.001288\tvalidation_1-logloss:0.003926\n",
      "[208]\tvalidation_0-error:0\tvalidation_0-logloss:0.000489\tvalidation_1-error:0.001288\tvalidation_1-logloss:0.003916\n",
      "[209]\tvalidation_0-error:0\tvalidation_0-logloss:0.000487\tvalidation_1-error:0.001288\tvalidation_1-logloss:0.003924\n",
      "[210]\tvalidation_0-error:0\tvalidation_0-logloss:0.000486\tvalidation_1-error:0.001288\tvalidation_1-logloss:0.003907\n",
      "[211]\tvalidation_0-error:0\tvalidation_0-logloss:0.000485\tvalidation_1-error:0.001288\tvalidation_1-logloss:0.003915\n",
      "[212]\tvalidation_0-error:0\tvalidation_0-logloss:0.000482\tvalidation_1-error:0.001288\tvalidation_1-logloss:0.003904\n",
      "[213]\tvalidation_0-error:0\tvalidation_0-logloss:0.000481\tvalidation_1-error:0.001288\tvalidation_1-logloss:0.003899\n",
      "[214]\tvalidation_0-error:0\tvalidation_0-logloss:0.000479\tvalidation_1-error:0.001288\tvalidation_1-logloss:0.003903\n",
      "[215]\tvalidation_0-error:0\tvalidation_0-logloss:0.000478\tvalidation_1-error:0.001288\tvalidation_1-logloss:0.003915\n",
      "[216]\tvalidation_0-error:0\tvalidation_0-logloss:0.000477\tvalidation_1-error:0.001288\tvalidation_1-logloss:0.003893\n",
      "[217]\tvalidation_0-error:0\tvalidation_0-logloss:0.000476\tvalidation_1-error:0.001288\tvalidation_1-logloss:0.003885\n",
      "[218]\tvalidation_0-error:0\tvalidation_0-logloss:0.000475\tvalidation_1-error:0.001288\tvalidation_1-logloss:0.003887\n",
      "[219]\tvalidation_0-error:0\tvalidation_0-logloss:0.000473\tvalidation_1-error:0.001288\tvalidation_1-logloss:0.003895\n",
      "[220]\tvalidation_0-error:0\tvalidation_0-logloss:0.000472\tvalidation_1-error:0.001288\tvalidation_1-logloss:0.003901\n",
      "[221]\tvalidation_0-error:0\tvalidation_0-logloss:0.00047\tvalidation_1-error:0.001288\tvalidation_1-logloss:0.003907\n",
      "[222]\tvalidation_0-error:0\tvalidation_0-logloss:0.00047\tvalidation_1-error:0.001288\tvalidation_1-logloss:0.003907\n",
      "[223]\tvalidation_0-error:0\tvalidation_0-logloss:0.000468\tvalidation_1-error:0.001288\tvalidation_1-logloss:0.003889\n",
      "[224]\tvalidation_0-error:0\tvalidation_0-logloss:0.000467\tvalidation_1-error:0.001288\tvalidation_1-logloss:0.0039\n",
      "[225]\tvalidation_0-error:0\tvalidation_0-logloss:0.000465\tvalidation_1-error:0.001288\tvalidation_1-logloss:0.003887\n",
      "[226]\tvalidation_0-error:0\tvalidation_0-logloss:0.000462\tvalidation_1-error:0.001288\tvalidation_1-logloss:0.003893\n",
      "[227]\tvalidation_0-error:0\tvalidation_0-logloss:0.000461\tvalidation_1-error:0.001288\tvalidation_1-logloss:0.003886\n",
      "[228]\tvalidation_0-error:0\tvalidation_0-logloss:0.00046\tvalidation_1-error:0.001288\tvalidation_1-logloss:0.003888\n",
      "[229]\tvalidation_0-error:0\tvalidation_0-logloss:0.000458\tvalidation_1-error:0.001288\tvalidation_1-logloss:0.003868\n",
      "[230]\tvalidation_0-error:0\tvalidation_0-logloss:0.000457\tvalidation_1-error:0.001288\tvalidation_1-logloss:0.003864\n",
      "[231]\tvalidation_0-error:0\tvalidation_0-logloss:0.000456\tvalidation_1-error:0.001288\tvalidation_1-logloss:0.003862\n",
      "[232]\tvalidation_0-error:0\tvalidation_0-logloss:0.000455\tvalidation_1-error:0.001288\tvalidation_1-logloss:0.003879\n",
      "[233]\tvalidation_0-error:0\tvalidation_0-logloss:0.000454\tvalidation_1-error:0.001288\tvalidation_1-logloss:0.003874\n",
      "[234]\tvalidation_0-error:0\tvalidation_0-logloss:0.000453\tvalidation_1-error:0.001288\tvalidation_1-logloss:0.003864\n",
      "[235]\tvalidation_0-error:0\tvalidation_0-logloss:0.000453\tvalidation_1-error:0.001288\tvalidation_1-logloss:0.003867\n",
      "[236]\tvalidation_0-error:0\tvalidation_0-logloss:0.000452\tvalidation_1-error:0.001288\tvalidation_1-logloss:0.003884\n",
      "[237]\tvalidation_0-error:0\tvalidation_0-logloss:0.000451\tvalidation_1-error:0.001288\tvalidation_1-logloss:0.003888\n",
      "[238]\tvalidation_0-error:0\tvalidation_0-logloss:0.00045\tvalidation_1-error:0.001288\tvalidation_1-logloss:0.003884\n",
      "[239]\tvalidation_0-error:0\tvalidation_0-logloss:0.000449\tvalidation_1-error:0.001288\tvalidation_1-logloss:0.003895\n",
      "[240]\tvalidation_0-error:0\tvalidation_0-logloss:0.000448\tvalidation_1-error:0.001288\tvalidation_1-logloss:0.003891\n",
      "[241]\tvalidation_0-error:0\tvalidation_0-logloss:0.000448\tvalidation_1-error:0.001288\tvalidation_1-logloss:0.003889\n",
      "[242]\tvalidation_0-error:0\tvalidation_0-logloss:0.000447\tvalidation_1-error:0.001288\tvalidation_1-logloss:0.003876\n",
      "[243]\tvalidation_0-error:0\tvalidation_0-logloss:0.000446\tvalidation_1-error:0.001288\tvalidation_1-logloss:0.00387\n",
      "[244]\tvalidation_0-error:0\tvalidation_0-logloss:0.000445\tvalidation_1-error:0.001288\tvalidation_1-logloss:0.003863\n",
      "[245]\tvalidation_0-error:0\tvalidation_0-logloss:0.000444\tvalidation_1-error:0.001288\tvalidation_1-logloss:0.003856\n",
      "[246]\tvalidation_0-error:0\tvalidation_0-logloss:0.000443\tvalidation_1-error:0.001288\tvalidation_1-logloss:0.00387\n",
      "[247]\tvalidation_0-error:0\tvalidation_0-logloss:0.000443\tvalidation_1-error:0.001288\tvalidation_1-logloss:0.003876\n",
      "[248]\tvalidation_0-error:0\tvalidation_0-logloss:0.000442\tvalidation_1-error:0.001288\tvalidation_1-logloss:0.003878\n",
      "[249]\tvalidation_0-error:0\tvalidation_0-logloss:0.000441\tvalidation_1-error:0.001288\tvalidation_1-logloss:0.003871\n",
      "[250]\tvalidation_0-error:0\tvalidation_0-logloss:0.00044\tvalidation_1-error:0.001288\tvalidation_1-logloss:0.003879\n",
      "[251]\tvalidation_0-error:0\tvalidation_0-logloss:0.00044\tvalidation_1-error:0.001288\tvalidation_1-logloss:0.003889\n",
      "[252]\tvalidation_0-error:0\tvalidation_0-logloss:0.000439\tvalidation_1-error:0.001288\tvalidation_1-logloss:0.003885\n",
      "[253]\tvalidation_0-error:0\tvalidation_0-logloss:0.000438\tvalidation_1-error:0.001288\tvalidation_1-logloss:0.003884\n",
      "[254]\tvalidation_0-error:0\tvalidation_0-logloss:0.000438\tvalidation_1-error:0.001288\tvalidation_1-logloss:0.003872\n",
      "[255]\tvalidation_0-error:0\tvalidation_0-logloss:0.000437\tvalidation_1-error:0.001288\tvalidation_1-logloss:0.003884\n",
      "[256]\tvalidation_0-error:0\tvalidation_0-logloss:0.000436\tvalidation_1-error:0.001288\tvalidation_1-logloss:0.003895\n",
      "[257]\tvalidation_0-error:0\tvalidation_0-logloss:0.000436\tvalidation_1-error:0.001288\tvalidation_1-logloss:0.003882\n",
      "[258]\tvalidation_0-error:0\tvalidation_0-logloss:0.000435\tvalidation_1-error:0.001288\tvalidation_1-logloss:0.00388\n",
      "[259]\tvalidation_0-error:0\tvalidation_0-logloss:0.000434\tvalidation_1-error:0.001288\tvalidation_1-logloss:0.003881\n",
      "[260]\tvalidation_0-error:0\tvalidation_0-logloss:0.000434\tvalidation_1-error:0.001288\tvalidation_1-logloss:0.003886\n",
      "[261]\tvalidation_0-error:0\tvalidation_0-logloss:0.000433\tvalidation_1-error:0.001288\tvalidation_1-logloss:0.003868\n",
      "[262]\tvalidation_0-error:0\tvalidation_0-logloss:0.000432\tvalidation_1-error:0.001288\tvalidation_1-logloss:0.003872\n",
      "[263]\tvalidation_0-error:0\tvalidation_0-logloss:0.000432\tvalidation_1-error:0.001288\tvalidation_1-logloss:0.003871\n",
      "[264]\tvalidation_0-error:0\tvalidation_0-logloss:0.000431\tvalidation_1-error:0.001288\tvalidation_1-logloss:0.003867\n",
      "[265]\tvalidation_0-error:0\tvalidation_0-logloss:0.00043\tvalidation_1-error:0.001288\tvalidation_1-logloss:0.003863\n",
      "[266]\tvalidation_0-error:0\tvalidation_0-logloss:0.000429\tvalidation_1-error:0.001288\tvalidation_1-logloss:0.003858\n",
      "[267]\tvalidation_0-error:0\tvalidation_0-logloss:0.000429\tvalidation_1-error:0.001288\tvalidation_1-logloss:0.003845\n",
      "[268]\tvalidation_0-error:0\tvalidation_0-logloss:0.000428\tvalidation_1-error:0.001288\tvalidation_1-logloss:0.003853\n",
      "[269]\tvalidation_0-error:0\tvalidation_0-logloss:0.000427\tvalidation_1-error:0.001288\tvalidation_1-logloss:0.003848\n",
      "[270]\tvalidation_0-error:0\tvalidation_0-logloss:0.000426\tvalidation_1-error:0.001288\tvalidation_1-logloss:0.003854\n",
      "[271]\tvalidation_0-error:0\tvalidation_0-logloss:0.000426\tvalidation_1-error:0.001288\tvalidation_1-logloss:0.003852\n",
      "[272]\tvalidation_0-error:0\tvalidation_0-logloss:0.000425\tvalidation_1-error:0.001288\tvalidation_1-logloss:0.003849\n",
      "[273]\tvalidation_0-error:0\tvalidation_0-logloss:0.000424\tvalidation_1-error:0.001288\tvalidation_1-logloss:0.003852\n",
      "[274]\tvalidation_0-error:0\tvalidation_0-logloss:0.000424\tvalidation_1-error:0.001288\tvalidation_1-logloss:0.003862\n",
      "[275]\tvalidation_0-error:0\tvalidation_0-logloss:0.000423\tvalidation_1-error:0.001288\tvalidation_1-logloss:0.003846\n",
      "[276]\tvalidation_0-error:0\tvalidation_0-logloss:0.000422\tvalidation_1-error:0.001288\tvalidation_1-logloss:0.003858\n",
      "[277]\tvalidation_0-error:0\tvalidation_0-logloss:0.000422\tvalidation_1-error:0.001288\tvalidation_1-logloss:0.003855\n",
      "[278]\tvalidation_0-error:0\tvalidation_0-logloss:0.000421\tvalidation_1-error:0.001288\tvalidation_1-logloss:0.003855\n"
     ]
    },
    {
     "name": "stdout",
     "output_type": "stream",
     "text": [
      "[279]\tvalidation_0-error:0\tvalidation_0-logloss:0.00042\tvalidation_1-error:0.001288\tvalidation_1-logloss:0.003862\n",
      "[280]\tvalidation_0-error:0\tvalidation_0-logloss:0.00042\tvalidation_1-error:0.001288\tvalidation_1-logloss:0.003864\n",
      "[281]\tvalidation_0-error:0\tvalidation_0-logloss:0.000419\tvalidation_1-error:0.001288\tvalidation_1-logloss:0.003872\n",
      "[282]\tvalidation_0-error:0\tvalidation_0-logloss:0.000418\tvalidation_1-error:0.001288\tvalidation_1-logloss:0.003876\n",
      "[283]\tvalidation_0-error:0\tvalidation_0-logloss:0.000417\tvalidation_1-error:0.001288\tvalidation_1-logloss:0.00387\n",
      "[284]\tvalidation_0-error:0\tvalidation_0-logloss:0.000417\tvalidation_1-error:0.001288\tvalidation_1-logloss:0.003861\n",
      "[285]\tvalidation_0-error:0\tvalidation_0-logloss:0.000416\tvalidation_1-error:0.001288\tvalidation_1-logloss:0.003866\n",
      "[286]\tvalidation_0-error:0\tvalidation_0-logloss:0.000416\tvalidation_1-error:0.001288\tvalidation_1-logloss:0.00386\n",
      "[287]\tvalidation_0-error:0\tvalidation_0-logloss:0.000415\tvalidation_1-error:0.001288\tvalidation_1-logloss:0.003854\n",
      "[288]\tvalidation_0-error:0\tvalidation_0-logloss:0.000415\tvalidation_1-error:0.001288\tvalidation_1-logloss:0.003866\n",
      "[289]\tvalidation_0-error:0\tvalidation_0-logloss:0.000414\tvalidation_1-error:0.001288\tvalidation_1-logloss:0.003884\n",
      "[290]\tvalidation_0-error:0\tvalidation_0-logloss:0.000413\tvalidation_1-error:0.001288\tvalidation_1-logloss:0.003885\n",
      "[291]\tvalidation_0-error:0\tvalidation_0-logloss:0.000413\tvalidation_1-error:0.001288\tvalidation_1-logloss:0.00388\n",
      "[292]\tvalidation_0-error:0\tvalidation_0-logloss:0.000412\tvalidation_1-error:0.001288\tvalidation_1-logloss:0.003884\n",
      "[293]\tvalidation_0-error:0\tvalidation_0-logloss:0.000411\tvalidation_1-error:0.001288\tvalidation_1-logloss:0.003871\n",
      "[294]\tvalidation_0-error:0\tvalidation_0-logloss:0.000411\tvalidation_1-error:0.001288\tvalidation_1-logloss:0.003861\n",
      "[295]\tvalidation_0-error:0\tvalidation_0-logloss:0.00041\tvalidation_1-error:0.001288\tvalidation_1-logloss:0.003858\n",
      "[296]\tvalidation_0-error:0\tvalidation_0-logloss:0.00041\tvalidation_1-error:0.001288\tvalidation_1-logloss:0.003845\n",
      "[297]\tvalidation_0-error:0\tvalidation_0-logloss:0.000409\tvalidation_1-error:0.001288\tvalidation_1-logloss:0.003853\n",
      "[298]\tvalidation_0-error:0\tvalidation_0-logloss:0.000408\tvalidation_1-error:0.001288\tvalidation_1-logloss:0.003856\n",
      "[299]\tvalidation_0-error:0\tvalidation_0-logloss:0.000408\tvalidation_1-error:0.001288\tvalidation_1-logloss:0.003862\n",
      "[300]\tvalidation_0-error:0\tvalidation_0-logloss:0.000407\tvalidation_1-error:0.001288\tvalidation_1-logloss:0.003852\n",
      "[301]\tvalidation_0-error:0\tvalidation_0-logloss:0.000407\tvalidation_1-error:0.001288\tvalidation_1-logloss:0.003868\n",
      "[302]\tvalidation_0-error:0\tvalidation_0-logloss:0.000406\tvalidation_1-error:0.001288\tvalidation_1-logloss:0.003859\n",
      "[303]\tvalidation_0-error:0\tvalidation_0-logloss:0.000405\tvalidation_1-error:0.001288\tvalidation_1-logloss:0.003856\n",
      "[304]\tvalidation_0-error:0\tvalidation_0-logloss:0.000405\tvalidation_1-error:0.001288\tvalidation_1-logloss:0.003871\n",
      "[305]\tvalidation_0-error:0\tvalidation_0-logloss:0.000404\tvalidation_1-error:0.001288\tvalidation_1-logloss:0.003862\n",
      "[306]\tvalidation_0-error:0\tvalidation_0-logloss:0.000404\tvalidation_1-error:0.001288\tvalidation_1-logloss:0.003875\n",
      "[307]\tvalidation_0-error:0\tvalidation_0-logloss:0.000403\tvalidation_1-error:0.001288\tvalidation_1-logloss:0.003871\n",
      "[308]\tvalidation_0-error:0\tvalidation_0-logloss:0.000403\tvalidation_1-error:0.001288\tvalidation_1-logloss:0.00388\n",
      "[309]\tvalidation_0-error:0\tvalidation_0-logloss:0.000402\tvalidation_1-error:0.001288\tvalidation_1-logloss:0.003886\n",
      "[310]\tvalidation_0-error:0\tvalidation_0-logloss:0.000401\tvalidation_1-error:0.001288\tvalidation_1-logloss:0.003886\n",
      "[311]\tvalidation_0-error:0\tvalidation_0-logloss:0.000401\tvalidation_1-error:0.001288\tvalidation_1-logloss:0.003884\n",
      "[312]\tvalidation_0-error:0\tvalidation_0-logloss:0.0004\tvalidation_1-error:0.001288\tvalidation_1-logloss:0.003889\n",
      "[313]\tvalidation_0-error:0\tvalidation_0-logloss:0.0004\tvalidation_1-error:0.001288\tvalidation_1-logloss:0.00389\n",
      "[314]\tvalidation_0-error:0\tvalidation_0-logloss:0.000399\tvalidation_1-error:0.001288\tvalidation_1-logloss:0.003882\n",
      "[315]\tvalidation_0-error:0\tvalidation_0-logloss:0.000399\tvalidation_1-error:0.001288\tvalidation_1-logloss:0.003889\n",
      "[316]\tvalidation_0-error:0\tvalidation_0-logloss:0.000398\tvalidation_1-error:0.001288\tvalidation_1-logloss:0.0039\n",
      "[317]\tvalidation_0-error:0\tvalidation_0-logloss:0.000397\tvalidation_1-error:0.001288\tvalidation_1-logloss:0.003893\n",
      "[318]\tvalidation_0-error:0\tvalidation_0-logloss:0.000397\tvalidation_1-error:0.001288\tvalidation_1-logloss:0.003897\n",
      "[319]\tvalidation_0-error:0\tvalidation_0-logloss:0.000397\tvalidation_1-error:0.001288\tvalidation_1-logloss:0.003908\n",
      "[320]\tvalidation_0-error:0\tvalidation_0-logloss:0.000396\tvalidation_1-error:0.001288\tvalidation_1-logloss:0.003909\n",
      "[321]\tvalidation_0-error:0\tvalidation_0-logloss:0.000396\tvalidation_1-error:0.001288\tvalidation_1-logloss:0.003922\n",
      "[322]\tvalidation_0-error:0\tvalidation_0-logloss:0.000395\tvalidation_1-error:0.001288\tvalidation_1-logloss:0.003914\n",
      "[323]\tvalidation_0-error:0\tvalidation_0-logloss:0.000395\tvalidation_1-error:0.001288\tvalidation_1-logloss:0.003907\n",
      "[324]\tvalidation_0-error:0\tvalidation_0-logloss:0.000394\tvalidation_1-error:0.001288\tvalidation_1-logloss:0.003895\n",
      "[325]\tvalidation_0-error:0\tvalidation_0-logloss:0.000394\tvalidation_1-error:0.001288\tvalidation_1-logloss:0.003896\n",
      "[326]\tvalidation_0-error:0\tvalidation_0-logloss:0.000393\tvalidation_1-error:0.001288\tvalidation_1-logloss:0.003906\n",
      "[327]\tvalidation_0-error:0\tvalidation_0-logloss:0.000393\tvalidation_1-error:0.001288\tvalidation_1-logloss:0.003908\n",
      "[328]\tvalidation_0-error:0\tvalidation_0-logloss:0.000392\tvalidation_1-error:0.001288\tvalidation_1-logloss:0.003922\n",
      "[329]\tvalidation_0-error:0\tvalidation_0-logloss:0.000392\tvalidation_1-error:0.001288\tvalidation_1-logloss:0.003914\n",
      "[330]\tvalidation_0-error:0\tvalidation_0-logloss:0.000391\tvalidation_1-error:0.001417\tvalidation_1-logloss:0.003907\n",
      "[331]\tvalidation_0-error:0\tvalidation_0-logloss:0.000391\tvalidation_1-error:0.001417\tvalidation_1-logloss:0.003915\n",
      "[332]\tvalidation_0-error:0\tvalidation_0-logloss:0.00039\tvalidation_1-error:0.001417\tvalidation_1-logloss:0.003899\n",
      "[333]\tvalidation_0-error:0\tvalidation_0-logloss:0.000389\tvalidation_1-error:0.001417\tvalidation_1-logloss:0.00391\n",
      "[334]\tvalidation_0-error:0\tvalidation_0-logloss:0.000389\tvalidation_1-error:0.001417\tvalidation_1-logloss:0.003909\n",
      "[335]\tvalidation_0-error:0\tvalidation_0-logloss:0.000388\tvalidation_1-error:0.001417\tvalidation_1-logloss:0.003914\n",
      "[336]\tvalidation_0-error:0\tvalidation_0-logloss:0.000388\tvalidation_1-error:0.001417\tvalidation_1-logloss:0.003906\n",
      "[337]\tvalidation_0-error:0\tvalidation_0-logloss:0.000387\tvalidation_1-error:0.001417\tvalidation_1-logloss:0.003924\n",
      "[338]\tvalidation_0-error:0\tvalidation_0-logloss:0.000386\tvalidation_1-error:0.001417\tvalidation_1-logloss:0.003918\n",
      "[339]\tvalidation_0-error:0\tvalidation_0-logloss:0.000386\tvalidation_1-error:0.001417\tvalidation_1-logloss:0.003911\n",
      "[340]\tvalidation_0-error:0\tvalidation_0-logloss:0.000385\tvalidation_1-error:0.001288\tvalidation_1-logloss:0.003913\n",
      "[341]\tvalidation_0-error:0\tvalidation_0-logloss:0.000384\tvalidation_1-error:0.001288\tvalidation_1-logloss:0.003925\n",
      "[342]\tvalidation_0-error:0\tvalidation_0-logloss:0.000384\tvalidation_1-error:0.001288\tvalidation_1-logloss:0.003921\n",
      "[343]\tvalidation_0-error:0\tvalidation_0-logloss:0.000383\tvalidation_1-error:0.001288\tvalidation_1-logloss:0.003909\n",
      "[344]\tvalidation_0-error:0\tvalidation_0-logloss:0.000383\tvalidation_1-error:0.001288\tvalidation_1-logloss:0.003902\n",
      "[345]\tvalidation_0-error:0\tvalidation_0-logloss:0.000382\tvalidation_1-error:0.001288\tvalidation_1-logloss:0.003899\n",
      "[346]\tvalidation_0-error:0\tvalidation_0-logloss:0.000382\tvalidation_1-error:0.001288\tvalidation_1-logloss:0.003891\n",
      "[347]\tvalidation_0-error:0\tvalidation_0-logloss:0.000381\tvalidation_1-error:0.001288\tvalidation_1-logloss:0.003893\n",
      "[348]\tvalidation_0-error:0\tvalidation_0-logloss:0.000381\tvalidation_1-error:0.001288\tvalidation_1-logloss:0.003894\n",
      "[349]\tvalidation_0-error:0\tvalidation_0-logloss:0.00038\tvalidation_1-error:0.001288\tvalidation_1-logloss:0.003898\n",
      "[350]\tvalidation_0-error:0\tvalidation_0-logloss:0.00038\tvalidation_1-error:0.001288\tvalidation_1-logloss:0.003889\n"
     ]
    },
    {
     "name": "stdout",
     "output_type": "stream",
     "text": [
      "[351]\tvalidation_0-error:0\tvalidation_0-logloss:0.000379\tvalidation_1-error:0.001288\tvalidation_1-logloss:0.003897\n",
      "[352]\tvalidation_0-error:0\tvalidation_0-logloss:0.000379\tvalidation_1-error:0.001417\tvalidation_1-logloss:0.003897\n",
      "[353]\tvalidation_0-error:0\tvalidation_0-logloss:0.000379\tvalidation_1-error:0.001417\tvalidation_1-logloss:0.003891\n",
      "[354]\tvalidation_0-error:0\tvalidation_0-logloss:0.000378\tvalidation_1-error:0.001417\tvalidation_1-logloss:0.003897\n",
      "[355]\tvalidation_0-error:0\tvalidation_0-logloss:0.000378\tvalidation_1-error:0.001417\tvalidation_1-logloss:0.003911\n",
      "[356]\tvalidation_0-error:0\tvalidation_0-logloss:0.000377\tvalidation_1-error:0.001417\tvalidation_1-logloss:0.003928\n",
      "[357]\tvalidation_0-error:0\tvalidation_0-logloss:0.000376\tvalidation_1-error:0.001417\tvalidation_1-logloss:0.00392\n",
      "[358]\tvalidation_0-error:0\tvalidation_0-logloss:0.000376\tvalidation_1-error:0.001417\tvalidation_1-logloss:0.003905\n",
      "[359]\tvalidation_0-error:0\tvalidation_0-logloss:0.000375\tvalidation_1-error:0.001417\tvalidation_1-logloss:0.00389\n",
      "[360]\tvalidation_0-error:0\tvalidation_0-logloss:0.000375\tvalidation_1-error:0.001417\tvalidation_1-logloss:0.003886\n",
      "[361]\tvalidation_0-error:0\tvalidation_0-logloss:0.000374\tvalidation_1-error:0.001417\tvalidation_1-logloss:0.003877\n",
      "[362]\tvalidation_0-error:0\tvalidation_0-logloss:0.000373\tvalidation_1-error:0.001417\tvalidation_1-logloss:0.003865\n",
      "[363]\tvalidation_0-error:0\tvalidation_0-logloss:0.000373\tvalidation_1-error:0.001417\tvalidation_1-logloss:0.003853\n",
      "[364]\tvalidation_0-error:0\tvalidation_0-logloss:0.000373\tvalidation_1-error:0.001288\tvalidation_1-logloss:0.003858\n",
      "[365]\tvalidation_0-error:0\tvalidation_0-logloss:0.000372\tvalidation_1-error:0.001417\tvalidation_1-logloss:0.003851\n",
      "[366]\tvalidation_0-error:0\tvalidation_0-logloss:0.000372\tvalidation_1-error:0.001417\tvalidation_1-logloss:0.003862\n",
      "[367]\tvalidation_0-error:0\tvalidation_0-logloss:0.000371\tvalidation_1-error:0.001417\tvalidation_1-logloss:0.003862\n",
      "[368]\tvalidation_0-error:0\tvalidation_0-logloss:0.000371\tvalidation_1-error:0.001417\tvalidation_1-logloss:0.003865\n",
      "[369]\tvalidation_0-error:0\tvalidation_0-logloss:0.00037\tvalidation_1-error:0.001417\tvalidation_1-logloss:0.003867\n",
      "[370]\tvalidation_0-error:0\tvalidation_0-logloss:0.00037\tvalidation_1-error:0.001417\tvalidation_1-logloss:0.003856\n",
      "[371]\tvalidation_0-error:0\tvalidation_0-logloss:0.00037\tvalidation_1-error:0.001288\tvalidation_1-logloss:0.003855\n",
      "[372]\tvalidation_0-error:0\tvalidation_0-logloss:0.000369\tvalidation_1-error:0.001417\tvalidation_1-logloss:0.003865\n",
      "[373]\tvalidation_0-error:0\tvalidation_0-logloss:0.000369\tvalidation_1-error:0.001417\tvalidation_1-logloss:0.003881\n",
      "[374]\tvalidation_0-error:0\tvalidation_0-logloss:0.000368\tvalidation_1-error:0.001417\tvalidation_1-logloss:0.003873\n",
      "[375]\tvalidation_0-error:0\tvalidation_0-logloss:0.000368\tvalidation_1-error:0.001417\tvalidation_1-logloss:0.003868\n",
      "[376]\tvalidation_0-error:0\tvalidation_0-logloss:0.000367\tvalidation_1-error:0.001417\tvalidation_1-logloss:0.003867\n",
      "[377]\tvalidation_0-error:0\tvalidation_0-logloss:0.000367\tvalidation_1-error:0.001417\tvalidation_1-logloss:0.003866\n",
      "[378]\tvalidation_0-error:0\tvalidation_0-logloss:0.000366\tvalidation_1-error:0.001417\tvalidation_1-logloss:0.003872\n",
      "[379]\tvalidation_0-error:0\tvalidation_0-logloss:0.000366\tvalidation_1-error:0.001417\tvalidation_1-logloss:0.003863\n",
      "[380]\tvalidation_0-error:0\tvalidation_0-logloss:0.000366\tvalidation_1-error:0.001417\tvalidation_1-logloss:0.00387\n",
      "[381]\tvalidation_0-error:0\tvalidation_0-logloss:0.000365\tvalidation_1-error:0.001417\tvalidation_1-logloss:0.003867\n",
      "[382]\tvalidation_0-error:0\tvalidation_0-logloss:0.000365\tvalidation_1-error:0.001288\tvalidation_1-logloss:0.003866\n",
      "[383]\tvalidation_0-error:0\tvalidation_0-logloss:0.000365\tvalidation_1-error:0.001288\tvalidation_1-logloss:0.003868\n",
      "[384]\tvalidation_0-error:0\tvalidation_0-logloss:0.000364\tvalidation_1-error:0.001288\tvalidation_1-logloss:0.003879\n",
      "[385]\tvalidation_0-error:0\tvalidation_0-logloss:0.000364\tvalidation_1-error:0.001417\tvalidation_1-logloss:0.003881\n",
      "[386]\tvalidation_0-error:0\tvalidation_0-logloss:0.000364\tvalidation_1-error:0.001417\tvalidation_1-logloss:0.003886\n",
      "[387]\tvalidation_0-error:0\tvalidation_0-logloss:0.000363\tvalidation_1-error:0.001417\tvalidation_1-logloss:0.003882\n",
      "[388]\tvalidation_0-error:0\tvalidation_0-logloss:0.000363\tvalidation_1-error:0.001417\tvalidation_1-logloss:0.003888\n",
      "[389]\tvalidation_0-error:0\tvalidation_0-logloss:0.000362\tvalidation_1-error:0.001417\tvalidation_1-logloss:0.003899\n",
      "[390]\tvalidation_0-error:0\tvalidation_0-logloss:0.000362\tvalidation_1-error:0.001417\tvalidation_1-logloss:0.003892\n",
      "[391]\tvalidation_0-error:0\tvalidation_0-logloss:0.000361\tvalidation_1-error:0.001417\tvalidation_1-logloss:0.003896\n",
      "[392]\tvalidation_0-error:0\tvalidation_0-logloss:0.000361\tvalidation_1-error:0.001417\tvalidation_1-logloss:0.003884\n",
      "[393]\tvalidation_0-error:0\tvalidation_0-logloss:0.000361\tvalidation_1-error:0.001288\tvalidation_1-logloss:0.003876\n",
      "[394]\tvalidation_0-error:0\tvalidation_0-logloss:0.00036\tvalidation_1-error:0.001288\tvalidation_1-logloss:0.003886\n",
      "[395]\tvalidation_0-error:0\tvalidation_0-logloss:0.00036\tvalidation_1-error:0.001288\tvalidation_1-logloss:0.003892\n",
      "[396]\tvalidation_0-error:0\tvalidation_0-logloss:0.000359\tvalidation_1-error:0.001288\tvalidation_1-logloss:0.003894\n",
      "[397]\tvalidation_0-error:0\tvalidation_0-logloss:0.000359\tvalidation_1-error:0.001288\tvalidation_1-logloss:0.0039\n",
      "[398]\tvalidation_0-error:0\tvalidation_0-logloss:0.000359\tvalidation_1-error:0.001417\tvalidation_1-logloss:0.003903\n",
      "[399]\tvalidation_0-error:0\tvalidation_0-logloss:0.000358\tvalidation_1-error:0.001417\tvalidation_1-logloss:0.003901\n",
      "[400]\tvalidation_0-error:0\tvalidation_0-logloss:0.000358\tvalidation_1-error:0.001417\tvalidation_1-logloss:0.00391\n",
      "[401]\tvalidation_0-error:0\tvalidation_0-logloss:0.000358\tvalidation_1-error:0.001288\tvalidation_1-logloss:0.003905\n",
      "[402]\tvalidation_0-error:0\tvalidation_0-logloss:0.000357\tvalidation_1-error:0.001288\tvalidation_1-logloss:0.003912\n",
      "[403]\tvalidation_0-error:0\tvalidation_0-logloss:0.000357\tvalidation_1-error:0.001288\tvalidation_1-logloss:0.003903\n",
      "[404]\tvalidation_0-error:0\tvalidation_0-logloss:0.000357\tvalidation_1-error:0.001417\tvalidation_1-logloss:0.003897\n",
      "[405]\tvalidation_0-error:0\tvalidation_0-logloss:0.000356\tvalidation_1-error:0.001288\tvalidation_1-logloss:0.003884\n",
      "[406]\tvalidation_0-error:0\tvalidation_0-logloss:0.000356\tvalidation_1-error:0.001417\tvalidation_1-logloss:0.003887\n",
      "[407]\tvalidation_0-error:0\tvalidation_0-logloss:0.000356\tvalidation_1-error:0.001417\tvalidation_1-logloss:0.003891\n",
      "[408]\tvalidation_0-error:0\tvalidation_0-logloss:0.000355\tvalidation_1-error:0.001288\tvalidation_1-logloss:0.003882\n",
      "[409]\tvalidation_0-error:0\tvalidation_0-logloss:0.000355\tvalidation_1-error:0.001417\tvalidation_1-logloss:0.003884\n",
      "[410]\tvalidation_0-error:0\tvalidation_0-logloss:0.000355\tvalidation_1-error:0.001288\tvalidation_1-logloss:0.003894\n",
      "[411]\tvalidation_0-error:0\tvalidation_0-logloss:0.000354\tvalidation_1-error:0.001288\tvalidation_1-logloss:0.003896\n",
      "[412]\tvalidation_0-error:0\tvalidation_0-logloss:0.000354\tvalidation_1-error:0.001288\tvalidation_1-logloss:0.003898\n",
      "[413]\tvalidation_0-error:0\tvalidation_0-logloss:0.000353\tvalidation_1-error:0.001288\tvalidation_1-logloss:0.003897\n",
      "[414]\tvalidation_0-error:0\tvalidation_0-logloss:0.000353\tvalidation_1-error:0.001288\tvalidation_1-logloss:0.003888\n",
      "[415]\tvalidation_0-error:0\tvalidation_0-logloss:0.000353\tvalidation_1-error:0.001417\tvalidation_1-logloss:0.003883\n",
      "[416]\tvalidation_0-error:0\tvalidation_0-logloss:0.000352\tvalidation_1-error:0.001417\tvalidation_1-logloss:0.003878\n",
      "[417]\tvalidation_0-error:0\tvalidation_0-logloss:0.000352\tvalidation_1-error:0.001417\tvalidation_1-logloss:0.003879\n",
      "[418]\tvalidation_0-error:0\tvalidation_0-logloss:0.000351\tvalidation_1-error:0.001417\tvalidation_1-logloss:0.003894\n",
      "[419]\tvalidation_0-error:0\tvalidation_0-logloss:0.000351\tvalidation_1-error:0.001288\tvalidation_1-logloss:0.003886\n",
      "[420]\tvalidation_0-error:0\tvalidation_0-logloss:0.00035\tvalidation_1-error:0.001417\tvalidation_1-logloss:0.003879\n",
      "[421]\tvalidation_0-error:0\tvalidation_0-logloss:0.00035\tvalidation_1-error:0.001417\tvalidation_1-logloss:0.003882\n",
      "[422]\tvalidation_0-error:0\tvalidation_0-logloss:0.00035\tvalidation_1-error:0.001417\tvalidation_1-logloss:0.003875\n"
     ]
    },
    {
     "name": "stdout",
     "output_type": "stream",
     "text": [
      "[423]\tvalidation_0-error:0\tvalidation_0-logloss:0.000349\tvalidation_1-error:0.001417\tvalidation_1-logloss:0.003867\n",
      "[424]\tvalidation_0-error:0\tvalidation_0-logloss:0.000349\tvalidation_1-error:0.001417\tvalidation_1-logloss:0.003871\n",
      "[425]\tvalidation_0-error:0\tvalidation_0-logloss:0.000349\tvalidation_1-error:0.001288\tvalidation_1-logloss:0.003871\n",
      "[426]\tvalidation_0-error:0\tvalidation_0-logloss:0.000348\tvalidation_1-error:0.001288\tvalidation_1-logloss:0.003867\n",
      "[427]\tvalidation_0-error:0\tvalidation_0-logloss:0.000348\tvalidation_1-error:0.001288\tvalidation_1-logloss:0.003868\n",
      "[428]\tvalidation_0-error:0\tvalidation_0-logloss:0.000347\tvalidation_1-error:0.001288\tvalidation_1-logloss:0.003864\n",
      "[429]\tvalidation_0-error:0\tvalidation_0-logloss:0.000347\tvalidation_1-error:0.001288\tvalidation_1-logloss:0.003866\n",
      "[430]\tvalidation_0-error:0\tvalidation_0-logloss:0.000346\tvalidation_1-error:0.001288\tvalidation_1-logloss:0.003884\n",
      "[431]\tvalidation_0-error:0\tvalidation_0-logloss:0.000346\tvalidation_1-error:0.001288\tvalidation_1-logloss:0.003894\n",
      "[432]\tvalidation_0-error:0\tvalidation_0-logloss:0.000346\tvalidation_1-error:0.001288\tvalidation_1-logloss:0.00389\n",
      "[433]\tvalidation_0-error:0\tvalidation_0-logloss:0.000345\tvalidation_1-error:0.001288\tvalidation_1-logloss:0.003894\n",
      "[434]\tvalidation_0-error:0\tvalidation_0-logloss:0.000345\tvalidation_1-error:0.001288\tvalidation_1-logloss:0.003897\n",
      "[435]\tvalidation_0-error:0\tvalidation_0-logloss:0.000344\tvalidation_1-error:0.001288\tvalidation_1-logloss:0.003892\n",
      "[436]\tvalidation_0-error:0\tvalidation_0-logloss:0.000344\tvalidation_1-error:0.001288\tvalidation_1-logloss:0.003888\n",
      "[437]\tvalidation_0-error:0\tvalidation_0-logloss:0.000344\tvalidation_1-error:0.001288\tvalidation_1-logloss:0.00388\n",
      "[438]\tvalidation_0-error:0\tvalidation_0-logloss:0.000343\tvalidation_1-error:0.001417\tvalidation_1-logloss:0.003873\n",
      "[439]\tvalidation_0-error:0\tvalidation_0-logloss:0.000343\tvalidation_1-error:0.001417\tvalidation_1-logloss:0.003874\n",
      "[440]\tvalidation_0-error:0\tvalidation_0-logloss:0.000343\tvalidation_1-error:0.001288\tvalidation_1-logloss:0.003861\n",
      "[441]\tvalidation_0-error:0\tvalidation_0-logloss:0.000342\tvalidation_1-error:0.001417\tvalidation_1-logloss:0.003865\n",
      "[442]\tvalidation_0-error:0\tvalidation_0-logloss:0.000342\tvalidation_1-error:0.001417\tvalidation_1-logloss:0.003879\n",
      "[443]\tvalidation_0-error:0\tvalidation_0-logloss:0.000342\tvalidation_1-error:0.001417\tvalidation_1-logloss:0.003879\n",
      "[444]\tvalidation_0-error:0\tvalidation_0-logloss:0.000341\tvalidation_1-error:0.001417\tvalidation_1-logloss:0.003882\n",
      "[445]\tvalidation_0-error:0\tvalidation_0-logloss:0.000341\tvalidation_1-error:0.001417\tvalidation_1-logloss:0.003881\n",
      "[446]\tvalidation_0-error:0\tvalidation_0-logloss:0.000341\tvalidation_1-error:0.001417\tvalidation_1-logloss:0.003881\n",
      "[447]\tvalidation_0-error:0\tvalidation_0-logloss:0.00034\tvalidation_1-error:0.001417\tvalidation_1-logloss:0.003892\n",
      "[448]\tvalidation_0-error:0\tvalidation_0-logloss:0.00034\tvalidation_1-error:0.001417\tvalidation_1-logloss:0.003876\n",
      "[449]\tvalidation_0-error:0\tvalidation_0-logloss:0.000339\tvalidation_1-error:0.001417\tvalidation_1-logloss:0.003876\n",
      "[450]\tvalidation_0-error:0\tvalidation_0-logloss:0.000339\tvalidation_1-error:0.001417\tvalidation_1-logloss:0.003862\n",
      "[451]\tvalidation_0-error:0\tvalidation_0-logloss:0.000339\tvalidation_1-error:0.001288\tvalidation_1-logloss:0.003851\n",
      "[452]\tvalidation_0-error:0\tvalidation_0-logloss:0.000338\tvalidation_1-error:0.001288\tvalidation_1-logloss:0.003856\n",
      "[453]\tvalidation_0-error:0\tvalidation_0-logloss:0.000338\tvalidation_1-error:0.001417\tvalidation_1-logloss:0.003856\n",
      "[454]\tvalidation_0-error:0\tvalidation_0-logloss:0.000338\tvalidation_1-error:0.001417\tvalidation_1-logloss:0.003865\n",
      "[455]\tvalidation_0-error:0\tvalidation_0-logloss:0.000337\tvalidation_1-error:0.001417\tvalidation_1-logloss:0.003853\n",
      "[456]\tvalidation_0-error:0\tvalidation_0-logloss:0.000337\tvalidation_1-error:0.001417\tvalidation_1-logloss:0.00386\n",
      "[457]\tvalidation_0-error:0\tvalidation_0-logloss:0.000337\tvalidation_1-error:0.001417\tvalidation_1-logloss:0.003862\n",
      "[458]\tvalidation_0-error:0\tvalidation_0-logloss:0.000336\tvalidation_1-error:0.001417\tvalidation_1-logloss:0.003868\n",
      "[459]\tvalidation_0-error:0\tvalidation_0-logloss:0.000336\tvalidation_1-error:0.001288\tvalidation_1-logloss:0.003853\n",
      "[460]\tvalidation_0-error:0\tvalidation_0-logloss:0.000336\tvalidation_1-error:0.001288\tvalidation_1-logloss:0.003839\n",
      "[461]\tvalidation_0-error:0\tvalidation_0-logloss:0.000335\tvalidation_1-error:0.001288\tvalidation_1-logloss:0.00384\n",
      "[462]\tvalidation_0-error:0\tvalidation_0-logloss:0.000335\tvalidation_1-error:0.001288\tvalidation_1-logloss:0.003835\n",
      "[463]\tvalidation_0-error:0\tvalidation_0-logloss:0.000335\tvalidation_1-error:0.001288\tvalidation_1-logloss:0.003835\n",
      "[464]\tvalidation_0-error:0\tvalidation_0-logloss:0.000334\tvalidation_1-error:0.001288\tvalidation_1-logloss:0.003833\n",
      "[465]\tvalidation_0-error:0\tvalidation_0-logloss:0.000334\tvalidation_1-error:0.001288\tvalidation_1-logloss:0.003834\n",
      "[466]\tvalidation_0-error:0\tvalidation_0-logloss:0.000334\tvalidation_1-error:0.001417\tvalidation_1-logloss:0.00385\n",
      "[467]\tvalidation_0-error:0\tvalidation_0-logloss:0.000334\tvalidation_1-error:0.001288\tvalidation_1-logloss:0.003851\n",
      "[468]\tvalidation_0-error:0\tvalidation_0-logloss:0.000333\tvalidation_1-error:0.001288\tvalidation_1-logloss:0.003844\n",
      "[469]\tvalidation_0-error:0\tvalidation_0-logloss:0.000333\tvalidation_1-error:0.001288\tvalidation_1-logloss:0.003848\n",
      "[470]\tvalidation_0-error:0\tvalidation_0-logloss:0.000333\tvalidation_1-error:0.001288\tvalidation_1-logloss:0.003842\n",
      "[471]\tvalidation_0-error:0\tvalidation_0-logloss:0.000332\tvalidation_1-error:0.001288\tvalidation_1-logloss:0.003846\n",
      "[472]\tvalidation_0-error:0\tvalidation_0-logloss:0.000332\tvalidation_1-error:0.001288\tvalidation_1-logloss:0.003853\n",
      "[473]\tvalidation_0-error:0\tvalidation_0-logloss:0.000332\tvalidation_1-error:0.001288\tvalidation_1-logloss:0.003848\n",
      "[474]\tvalidation_0-error:0\tvalidation_0-logloss:0.000332\tvalidation_1-error:0.001417\tvalidation_1-logloss:0.00384\n",
      "[475]\tvalidation_0-error:0\tvalidation_0-logloss:0.000331\tvalidation_1-error:0.001417\tvalidation_1-logloss:0.003848\n",
      "[476]\tvalidation_0-error:0\tvalidation_0-logloss:0.000331\tvalidation_1-error:0.001288\tvalidation_1-logloss:0.003853\n",
      "[477]\tvalidation_0-error:0\tvalidation_0-logloss:0.000331\tvalidation_1-error:0.001288\tvalidation_1-logloss:0.00385\n",
      "[478]\tvalidation_0-error:0\tvalidation_0-logloss:0.00033\tvalidation_1-error:0.001288\tvalidation_1-logloss:0.003853\n",
      "[479]\tvalidation_0-error:0\tvalidation_0-logloss:0.00033\tvalidation_1-error:0.001288\tvalidation_1-logloss:0.003844\n",
      "[480]\tvalidation_0-error:0\tvalidation_0-logloss:0.00033\tvalidation_1-error:0.001288\tvalidation_1-logloss:0.003848\n",
      "[481]\tvalidation_0-error:0\tvalidation_0-logloss:0.00033\tvalidation_1-error:0.001288\tvalidation_1-logloss:0.003846\n",
      "[482]\tvalidation_0-error:0\tvalidation_0-logloss:0.000329\tvalidation_1-error:0.001288\tvalidation_1-logloss:0.003845\n",
      "[483]\tvalidation_0-error:0\tvalidation_0-logloss:0.000329\tvalidation_1-error:0.001288\tvalidation_1-logloss:0.003855\n",
      "[484]\tvalidation_0-error:0\tvalidation_0-logloss:0.000329\tvalidation_1-error:0.001288\tvalidation_1-logloss:0.003855\n",
      "[485]\tvalidation_0-error:0\tvalidation_0-logloss:0.000329\tvalidation_1-error:0.001288\tvalidation_1-logloss:0.00386\n",
      "[486]\tvalidation_0-error:0\tvalidation_0-logloss:0.000328\tvalidation_1-error:0.001288\tvalidation_1-logloss:0.003849\n",
      "[487]\tvalidation_0-error:0\tvalidation_0-logloss:0.000328\tvalidation_1-error:0.001288\tvalidation_1-logloss:0.003845\n",
      "[488]\tvalidation_0-error:0\tvalidation_0-logloss:0.000328\tvalidation_1-error:0.001288\tvalidation_1-logloss:0.003847\n",
      "[489]\tvalidation_0-error:0\tvalidation_0-logloss:0.000327\tvalidation_1-error:0.001288\tvalidation_1-logloss:0.003844\n",
      "[490]\tvalidation_0-error:0\tvalidation_0-logloss:0.000327\tvalidation_1-error:0.001288\tvalidation_1-logloss:0.003848\n",
      "[491]\tvalidation_0-error:0\tvalidation_0-logloss:0.000327\tvalidation_1-error:0.001288\tvalidation_1-logloss:0.003845\n",
      "[492]\tvalidation_0-error:0\tvalidation_0-logloss:0.000327\tvalidation_1-error:0.001417\tvalidation_1-logloss:0.003842\n",
      "[493]\tvalidation_0-error:0\tvalidation_0-logloss:0.000327\tvalidation_1-error:0.001417\tvalidation_1-logloss:0.003844\n",
      "[494]\tvalidation_0-error:0\tvalidation_0-logloss:0.000326\tvalidation_1-error:0.001417\tvalidation_1-logloss:0.003851\n"
     ]
    },
    {
     "name": "stdout",
     "output_type": "stream",
     "text": [
      "[495]\tvalidation_0-error:0\tvalidation_0-logloss:0.000326\tvalidation_1-error:0.001417\tvalidation_1-logloss:0.003854\n",
      "[496]\tvalidation_0-error:0\tvalidation_0-logloss:0.000326\tvalidation_1-error:0.001417\tvalidation_1-logloss:0.003856\n",
      "[497]\tvalidation_0-error:0\tvalidation_0-logloss:0.000326\tvalidation_1-error:0.001417\tvalidation_1-logloss:0.003845\n",
      "[498]\tvalidation_0-error:0\tvalidation_0-logloss:0.000325\tvalidation_1-error:0.001417\tvalidation_1-logloss:0.003846\n",
      "[499]\tvalidation_0-error:0\tvalidation_0-logloss:0.000325\tvalidation_1-error:0.001288\tvalidation_1-logloss:0.003835\n",
      "[500]\tvalidation_0-error:0\tvalidation_0-logloss:0.000325\tvalidation_1-error:0.001288\tvalidation_1-logloss:0.003836\n",
      "[501]\tvalidation_0-error:0\tvalidation_0-logloss:0.000324\tvalidation_1-error:0.001288\tvalidation_1-logloss:0.003836\n",
      "[502]\tvalidation_0-error:0\tvalidation_0-logloss:0.000324\tvalidation_1-error:0.001288\tvalidation_1-logloss:0.003827\n",
      "[503]\tvalidation_0-error:0\tvalidation_0-logloss:0.000324\tvalidation_1-error:0.001288\tvalidation_1-logloss:0.00383\n",
      "[504]\tvalidation_0-error:0\tvalidation_0-logloss:0.000323\tvalidation_1-error:0.001288\tvalidation_1-logloss:0.003827\n",
      "[505]\tvalidation_0-error:0\tvalidation_0-logloss:0.000323\tvalidation_1-error:0.001288\tvalidation_1-logloss:0.003828\n",
      "[506]\tvalidation_0-error:0\tvalidation_0-logloss:0.000323\tvalidation_1-error:0.001288\tvalidation_1-logloss:0.003819\n",
      "[507]\tvalidation_0-error:0\tvalidation_0-logloss:0.000323\tvalidation_1-error:0.001288\tvalidation_1-logloss:0.003817\n",
      "[508]\tvalidation_0-error:0\tvalidation_0-logloss:0.000322\tvalidation_1-error:0.001288\tvalidation_1-logloss:0.003822\n",
      "[509]\tvalidation_0-error:0\tvalidation_0-logloss:0.000322\tvalidation_1-error:0.001288\tvalidation_1-logloss:0.003813\n",
      "[510]\tvalidation_0-error:0\tvalidation_0-logloss:0.000322\tvalidation_1-error:0.001288\tvalidation_1-logloss:0.003801\n",
      "[511]\tvalidation_0-error:0\tvalidation_0-logloss:0.000322\tvalidation_1-error:0.001288\tvalidation_1-logloss:0.003798\n",
      "[512]\tvalidation_0-error:0\tvalidation_0-logloss:0.000321\tvalidation_1-error:0.001288\tvalidation_1-logloss:0.003792\n",
      "[513]\tvalidation_0-error:0\tvalidation_0-logloss:0.000321\tvalidation_1-error:0.001288\tvalidation_1-logloss:0.003792\n",
      "[514]\tvalidation_0-error:0\tvalidation_0-logloss:0.000321\tvalidation_1-error:0.001288\tvalidation_1-logloss:0.003792\n",
      "[515]\tvalidation_0-error:0\tvalidation_0-logloss:0.000321\tvalidation_1-error:0.001288\tvalidation_1-logloss:0.003799\n",
      "[516]\tvalidation_0-error:0\tvalidation_0-logloss:0.00032\tvalidation_1-error:0.001288\tvalidation_1-logloss:0.003807\n",
      "[517]\tvalidation_0-error:0\tvalidation_0-logloss:0.00032\tvalidation_1-error:0.001288\tvalidation_1-logloss:0.003818\n",
      "[518]\tvalidation_0-error:0\tvalidation_0-logloss:0.00032\tvalidation_1-error:0.001288\tvalidation_1-logloss:0.003821\n",
      "[519]\tvalidation_0-error:0\tvalidation_0-logloss:0.00032\tvalidation_1-error:0.001288\tvalidation_1-logloss:0.003828\n",
      "[520]\tvalidation_0-error:0\tvalidation_0-logloss:0.000319\tvalidation_1-error:0.001288\tvalidation_1-logloss:0.003828\n",
      "[521]\tvalidation_0-error:0\tvalidation_0-logloss:0.000319\tvalidation_1-error:0.001288\tvalidation_1-logloss:0.003831\n",
      "[522]\tvalidation_0-error:0\tvalidation_0-logloss:0.000319\tvalidation_1-error:0.001288\tvalidation_1-logloss:0.003842\n",
      "[523]\tvalidation_0-error:0\tvalidation_0-logloss:0.000319\tvalidation_1-error:0.001288\tvalidation_1-logloss:0.003851\n",
      "[524]\tvalidation_0-error:0\tvalidation_0-logloss:0.000318\tvalidation_1-error:0.001288\tvalidation_1-logloss:0.003855\n",
      "[525]\tvalidation_0-error:0\tvalidation_0-logloss:0.000318\tvalidation_1-error:0.001288\tvalidation_1-logloss:0.003848\n",
      "[526]\tvalidation_0-error:0\tvalidation_0-logloss:0.000318\tvalidation_1-error:0.001288\tvalidation_1-logloss:0.003851\n",
      "[527]\tvalidation_0-error:0\tvalidation_0-logloss:0.000318\tvalidation_1-error:0.001288\tvalidation_1-logloss:0.003856\n",
      "[528]\tvalidation_0-error:0\tvalidation_0-logloss:0.000317\tvalidation_1-error:0.001288\tvalidation_1-logloss:0.003848\n",
      "[529]\tvalidation_0-error:0\tvalidation_0-logloss:0.000317\tvalidation_1-error:0.001288\tvalidation_1-logloss:0.003854\n",
      "[530]\tvalidation_0-error:0\tvalidation_0-logloss:0.000317\tvalidation_1-error:0.001288\tvalidation_1-logloss:0.003851\n",
      "[531]\tvalidation_0-error:0\tvalidation_0-logloss:0.000317\tvalidation_1-error:0.001288\tvalidation_1-logloss:0.003852\n",
      "[532]\tvalidation_0-error:0\tvalidation_0-logloss:0.000316\tvalidation_1-error:0.001288\tvalidation_1-logloss:0.003842\n",
      "[533]\tvalidation_0-error:0\tvalidation_0-logloss:0.000316\tvalidation_1-error:0.001288\tvalidation_1-logloss:0.003835\n",
      "[534]\tvalidation_0-error:0\tvalidation_0-logloss:0.000316\tvalidation_1-error:0.001288\tvalidation_1-logloss:0.003828\n",
      "[535]\tvalidation_0-error:0\tvalidation_0-logloss:0.000316\tvalidation_1-error:0.001288\tvalidation_1-logloss:0.003829\n",
      "[536]\tvalidation_0-error:0\tvalidation_0-logloss:0.000315\tvalidation_1-error:0.001288\tvalidation_1-logloss:0.003835\n",
      "[537]\tvalidation_0-error:0\tvalidation_0-logloss:0.000315\tvalidation_1-error:0.001288\tvalidation_1-logloss:0.003833\n",
      "[538]\tvalidation_0-error:0\tvalidation_0-logloss:0.000315\tvalidation_1-error:0.001288\tvalidation_1-logloss:0.003825\n",
      "[539]\tvalidation_0-error:0\tvalidation_0-logloss:0.000315\tvalidation_1-error:0.001288\tvalidation_1-logloss:0.003837\n",
      "[540]\tvalidation_0-error:0\tvalidation_0-logloss:0.000315\tvalidation_1-error:0.001288\tvalidation_1-logloss:0.003833\n",
      "[541]\tvalidation_0-error:0\tvalidation_0-logloss:0.000314\tvalidation_1-error:0.001288\tvalidation_1-logloss:0.003842\n",
      "[542]\tvalidation_0-error:0\tvalidation_0-logloss:0.000314\tvalidation_1-error:0.001288\tvalidation_1-logloss:0.003833\n",
      "[543]\tvalidation_0-error:0\tvalidation_0-logloss:0.000314\tvalidation_1-error:0.001288\tvalidation_1-logloss:0.003833\n",
      "[544]\tvalidation_0-error:0\tvalidation_0-logloss:0.000314\tvalidation_1-error:0.001288\tvalidation_1-logloss:0.003835\n",
      "[545]\tvalidation_0-error:0\tvalidation_0-logloss:0.000314\tvalidation_1-error:0.001288\tvalidation_1-logloss:0.003837\n",
      "[546]\tvalidation_0-error:0\tvalidation_0-logloss:0.000313\tvalidation_1-error:0.001288\tvalidation_1-logloss:0.003834\n",
      "[547]\tvalidation_0-error:0\tvalidation_0-logloss:0.000313\tvalidation_1-error:0.001288\tvalidation_1-logloss:0.00383\n",
      "[548]\tvalidation_0-error:0\tvalidation_0-logloss:0.000313\tvalidation_1-error:0.001288\tvalidation_1-logloss:0.003831\n",
      "[549]\tvalidation_0-error:0\tvalidation_0-logloss:0.000313\tvalidation_1-error:0.001288\tvalidation_1-logloss:0.003838\n"
     ]
    },
    {
     "data": {
      "text/plain": [
       "XGBClassifier(base_score=0.5, booster='gbtree', colsample_bylevel=1,\n",
       "       colsample_bynode=1, colsample_bytree=0.8, gamma=0,\n",
       "       learning_rate=0.1, max_delta_step=0, max_depth=10,\n",
       "       min_child_weight=2, missing=None, n_estimators=550, n_jobs=1,\n",
       "       nthread=4, objective='binary:logistic', random_state=0, reg_alpha=0,\n",
       "       reg_lambda=1, scale_pos_weight=1, seed=2, silent=None,\n",
       "       subsample=0.8, verbosity=1)"
      ]
     },
     "execution_count": 39,
     "metadata": {},
     "output_type": "execute_result"
    }
   ],
   "source": [
    "model3.fit(X_train, y_train, eval_metric=[\"error\", \"logloss\"], eval_set=eval_set, verbose=True)"
   ]
  },
  {
   "cell_type": "code",
   "execution_count": 40,
   "metadata": {},
   "outputs": [],
   "source": [
    "def specifity(y_true_function,y_pred_function):\n",
    "    \n",
    "    \"\"\"\n",
    "    \n",
    "    \n",
    "    \"\"\"\n",
    "    try:\n",
    "        tn, fp, fn, tp = confussion_matrix_function(y_true_function.tolist(), y_pred_function.tolist()).ravel()\n",
    "        score = (tp*100) / (fn+(np.exp(fp)))\n",
    "        return score\n",
    "    except:\n",
    "        return 0\n",
    "\n",
    " # score will negate the return value of my_custom_loss_func,\n",
    "# which will be np.log(2), 0.693, given the values for X\n",
    "# and y defined below.\n",
    "specifity_scorer = make_scorer(specifity, greater_is_better=True)"
   ]
  },
  {
   "cell_type": "code",
   "execution_count": 41,
   "metadata": {},
   "outputs": [
    {
     "name": "stdout",
     "output_type": "stream",
     "text": [
      "Accuracy: 0\n"
     ]
    },
    {
     "data": {
      "image/png": "[encoded data removed]",
      "text/plain": [
       "<Figure size 432x288 with 1 Axes>"
      ]
     },
     "metadata": {
      "needs_background": "light"
     },
     "output_type": "display_data"
    },
    {
     "data": {
      "image/png": "[encoded data removed]",
      "text/plain": [
       "<Figure size 432x288 with 1 Axes>"
      ]
     },
     "metadata": {
      "needs_background": "light"
     },
     "output_type": "display_data"
    }
   ],
   "source": [
    "# make predictions for test data\n",
    "y_pred = model3.predict(X_test)\n",
    "predictions = [round(value) for value in y_pred]\n",
    "# evaluate predictions\n",
    "accuracy = specifity(predictions,y_test)\n",
    "print(\"Accuracy: \" +str(accuracy))\n",
    "# retrieve performance metrics\n",
    "results = model3.evals_result()\n",
    "epochs = len(results['validation_0']['error'])\n",
    "x_axis = range(0, epochs)\n",
    "\n",
    "\n",
    "# plot log loss\n",
    "fig, ax = pyplot.subplots()\n",
    "ax.plot(x_axis, results['validation_0']['logloss'], label='Train')\n",
    "ax.plot(x_axis, results['validation_1']['logloss'], label='Test')\n",
    "ax.legend()\n",
    "pyplot.ylabel('Log Loss')\n",
    "pyplot.title('XGBoost Log Loss')\n",
    "pyplot.show()\n",
    "\n",
    "\n",
    "# plot classification error\n",
    "fig, ax = pyplot.subplots()\n",
    "ax.plot(x_axis, results['validation_0']['error'], label='Train')\n",
    "ax.plot(x_axis, results['validation_1']['error'], label='Test')\n",
    "ax.legend()\n",
    "pyplot.ylabel('Classification Error')\n",
    "pyplot.title('XGBoost Classification Error')\n",
    "pyplot.show()"
   ]
  },
  {
   "cell_type": "markdown",
   "metadata": {},
   "source": [
    "## GridSearch"
   ]
  },
  {
   "cell_type": "markdown",
   "metadata": {},
   "source": [
    "## Plot"
   ]
  },
  {
   "cell_type": "code",
   "execution_count": 42,
   "metadata": {},
   "outputs": [],
   "source": [
    "def model_specifity_ploter(df_specifity,score):\n",
    "    \"\"\"\n",
    "\n",
    "\n",
    "    \"\"\"\n",
    "\n",
    "    #Gráficas\n",
    "    specifity_test_plot = df_specifity.mean(axis=0).values\n",
    "    df_specifity=df_specifity.T\n",
    "\n",
    "    plt.subplots(figsize=(8, 3))\n",
    "    plt.plot(values_search, specifity_test_plot,color=\"royalblue\")\n",
    "    plt.title(str(score))\n",
    "\n",
    "\n",
    "  \n",
    "    plt.tight_layout()\n",
    "    plt.show() "
   ]
  },
  {
   "cell_type": "markdown",
   "metadata": {},
   "source": [
    "### Verification"
   ]
  },
  {
   "cell_type": "code",
   "execution_count": 43,
   "metadata": {},
   "outputs": [],
   "source": [
    "def verification_model_score(\n",
    "                            df,target,n_iteraciones,\n",
    "                            iteraciones,n_iteracion):\n",
    "    \"\"\"\n",
    "    \n",
    "    \n",
    "    \"\"\"\n",
    "    dataset = df.copy()\n",
    "    #dataset.drop([\"fecha\"],axis=1,inplace=True)\n",
    "    dataset.dropna(inplace=True)\n",
    "    dataset.drop(lista[:],axis=1,inplace=True)\n",
    "\n",
    "    X = dataset.loc[:, dataset.columns != target]\n",
    "    y = dataset[target]\n",
    "\n",
    "    #Definimos los conjuntos de prueba:\n",
    "\n",
    "    #X_train, X_test, y_train, y_test = train_test_split(X, y, test_size=0.3, random_state=rd.randint(1,100))\n",
    "    #Definimos los conjuntos de prueba:\n",
    "    iteraciones = [entrada for entrada in range(n_iteraciones)] ##definimos el número de iteraciones\n",
    "    \n",
    "    df_confussion_test = pd.DataFrame(index=iteraciones, columns=[\"tn\",\"fp\",\"fn\",\"tp\"])\n",
    "    df_confussion_mean_test = pd.DataFrame(index=[0,1], columns=[0,1])\n",
    "\n",
    "    for iteracion in iteraciones:\n",
    "        X_train, X_test, y_train, y_test = train_test_split(X, y, test_size=0.3, random_state=rd.randint(1,100))\n",
    "        model = XGBClassifier(params=parameters[n_iteracion])#definimos los parametros\n",
    "        model_train = model.fit(X_train, y_train)#fit\n",
    "        pred_test = model_train.predict(X_test)\n",
    "        #confussion matrix\n",
    "        df_confussion_test.iloc[iteracion,:] = confussion_matrix_function(y_test,pred_test).ravel()\n",
    "\n",
    "    print(df_confussion_test)\n",
    "    \n",
    "    df_confussion_mean_test.iloc[0,:] = df_confussion_test.describe().iloc[1,0:2].values\n",
    "    df_confussion_mean_test.iloc[1,:] = df_confussion_test.describe().iloc[1,2:4].values\n",
    "    df_confussion_mean_test = df_confussion_mean_test.apply(pd.to_numeric, errors='ignore')\n",
    "\n",
    "    sn.heatmap(df_confussion_mean_test, annot=True)"
   ]
  },
  {
   "cell_type": "code",
   "execution_count": 44,
   "metadata": {},
   "outputs": [],
   "source": [
    "hora = 11\n",
    "\n",
    "dataset = data_hour_merge_training.copy()\n",
    "#dataset.drop([\"fecha\"],axis=1,inplace=True)\n",
    "dataset.dropna(inplace=True)\n",
    "dataset.drop(lista[:],axis=1,inplace=True)\n",
    "\n",
    "X = dataset.loc[:, dataset.columns != \"class\"]\n",
    "y = dataset[\"class\"]\n",
    "\n",
    "#Definimos los conjuntos de prueba:\n",
    "\n",
    "X_train, X_test, y_train, y_test = train_test_split(X, y, test_size=0.3, random_state=rd.randint(1,100))"
   ]
  },
  {
   "cell_type": "code",
   "execution_count": 45,
   "metadata": {},
   "outputs": [],
   "source": [
    "def printProgressBar (iteration, total, prefix = '', suffix = '', decimals = 1, length = 100, fill = '█'):\n",
    "    \"\"\"\n",
    "    Call in a loop to create terminal progress bar\n",
    "    @params:\n",
    "        iteration   - Required  : current iteration (Int)\n",
    "        total       - Required  : total iterations (Int)\n",
    "        prefix      - Optional  : prefix string (Str)\n",
    "        suffix      - Optional  : suffix string (Str)\n",
    "        decimals    - Optional  : positive number of decimals in percent complete (Int)\n",
    "        length      - Optional  : character length of bar (Int)\n",
    "        fill        - Optional  : bar fill character (Str)\n",
    "    \"\"\"\n",
    "    percent = (\"{0:.\" + str(decimals) + \"f}\").format(100 * (iteration / float(total)))\n",
    "    filledLength = int(length * iteration // total)\n",
    "    bar = fill * filledLength + '-' * (length - filledLength)\n",
    "    print('\\r%s |%s| %s%% %s' % (prefix, bar, percent, suffix), end = '\\r')\n",
    "    # Print New Line on Complete\n",
    "    if iteration == total: \n",
    "        print()"
   ]
  },
  {
   "cell_type": "code",
   "execution_count": 46,
   "metadata": {},
   "outputs": [],
   "source": [
    "def xgboost_autoparameter_tunning(\n",
    "                                df,target,parameter_grid,resamples,\n",
    "                                parameters_list,score=specifity): \n",
    "    \n",
    "    intentos = [number for number in range(resamples)]\n",
    "    parameters_numbers_position = [i for i in range(len(parameters))]\n",
    "    df_specifity = pd.DataFrame(columns=parameters_numbers_position,index=intentos)\n",
    "    toolbar_width = len(intentos)\n",
    "    \n",
    "    \n",
    "    ## progress bar \n",
    "    l = len(intentos)\n",
    "    # Initial call to print 0% progress\n",
    "    printProgressBar(0, l, prefix = 'Intentos:', suffix = '', length = 50)\n",
    "\n",
    "    for intento in range(len(intentos)):\n",
    "        \n",
    "        X_training, X_testing, y_training, y_testing = train_test_split(X, y, test_size=0.3,   \n",
    "                                                                        random_state=rd.randint(100,200)) \n",
    "        specifity_test_list = []# para cada conjunto de parametr\n",
    "\n",
    "        for parameter_value in range(len(parameters_numbers_position)): ## iteramos sobre el parámetro deseado \n",
    "\n",
    "            model = XGBClassifier(**parameters[parameter_value])\n",
    "            train_model = model.fit(X_training, y_training) ##model fit\n",
    "\n",
    "            pred_test = train_model.predict(X_testing)  # predict verification\n",
    "\n",
    "            specifity_test = specifity(y_testing,pred_test)## specifity model\n",
    "            specifity_test_list.append(specifity_test)# specifity of search values and numbers\n",
    "            \n",
    "            \n",
    "        time.sleep(0.1)\n",
    "            # Update Progress Bar\n",
    "        printProgressBar(intento + 1, l, prefix = 'Intentos:', suffix = '', length = 50)\n",
    "\n",
    "            #print(specifity_test)\n",
    "        specifity_test_list\n",
    "        #print(df_specifity)\n",
    "\n",
    "        df_specifity.loc[intento,:] = specifity_test_list\n",
    "        \n",
    "        \n",
    "        \n",
    "    df_specifity = df_specifity.apply(pd.to_numeric, errors = 'coerce')\n",
    "    time.sleep(0)\n",
    "    maximo = max(df_specifity.mean(axis=0))\n",
    "\n",
    "    pos_maximum = [i for i,j in enumerate(df_specifity.mean(axis=0)) if j == maximo][0]\n",
    "    maximo = round(maximo,2)\n",
    "\n",
    "    #print(round(df_specifity.mean(axis=0),2))\n",
    "\n",
    "    #print(df_confussion_mean)\n",
    "    model_specifity_ploter(df_specifity,specifity)\n",
    "    print()\n",
    "    print(\"El máximo es para n=\"+ str(pos_maximum) + \"  k=\" + str(parameters[pos_maximum]) + \n",
    "          \" con un \" +\"score\"+\"=  \" +  str(maximo))"
   ]
  },
  {
   "cell_type": "markdown",
   "metadata": {},
   "source": [
    "# booster"
   ]
  },
  {
   "cell_type": "code",
   "execution_count": 49,
   "metadata": {},
   "outputs": [
    {
     "name": "stdout",
     "output_type": "stream",
     "text": [
      "Intentos: |██████████████████████████████████████████████████| 100.0% \n"
     ]
    },
    {
     "data": {
      "image/png": "[encoded data removed]",
      "text/plain": [
       "<Figure size 576x216 with 1 Axes>"
      ]
     },
     "metadata": {
      "needs_background": "light"
     },
     "output_type": "display_data"
    },
    {
     "name": "stdout",
     "output_type": "stream",
     "text": [
      "\n",
      "El máximo es para n=0  k={'booster': 'gbtree', 'colsample_bylevel': 1, 'colsample_bynode': 1, 'colsample_bytree': 1, 'gamma': 0, 'learning_rate': 0.01, 'max_delta_step': 0, 'max_depth': 10, 'n_estimators': 100, 'n_jobs': 100, 'nthread': None, 'objective': 'binary:logistic', 'verbosity': 1} con un score=  61.41\n"
     ]
    }
   ],
   "source": [
    "values_search=[\"gbtree\",\"gblinear\",\"dart\"]\n",
    "parameter_grid=values_search\n",
    "parameters = [{ \"booster\":Serch_parameter, \"colsample_bylevel\":1,\n",
    " \"colsample_bynode\":1, \"colsample_bytree\":1, \"gamma\":0, \"learning_rate\":0.01,\"max_delta_step\":0, \n",
    " \"max_depth\":10,\"n_estimators\":100, \"n_jobs\":100, \"nthread\":None,\n",
    " \"objective\":'binary:logistic', \"verbosity\":1} for Serch_parameter in parameter_grid]\n",
    "\n",
    "xgboost_autoparameter_tunning(data_hour_merge_training,\"class\",parameter_grid,20,values_search)"
   ]
  },
  {
   "cell_type": "markdown",
   "metadata": {},
   "source": [
    "## Verification"
   ]
  },
  {
   "cell_type": "code",
   "execution_count": 52,
   "metadata": {},
   "outputs": [
    {
     "name": "stdout",
     "output_type": "stream",
     "text": [
      "     tn  fp  fn  tp\n",
      "0  7707   0  10  44\n",
      "1  7704   4  20  33\n",
      "2  7713   2  10  36\n",
      "3  7706   3  18  34\n",
      "4  7714   3  10  34\n"
     ]
    },
    {
     "data": {
      "image/png": "[encoded data removed]",
      "text/plain": [
       "<Figure size 432x288 with 2 Axes>"
      ]
     },
     "metadata": {
      "needs_background": "light"
     },
     "output_type": "display_data"
    }
   ],
   "source": [
    "verification_model_score(data_hour_merge_training,\"class\",5,parameters,0)"
   ]
  },
  {
   "cell_type": "markdown",
   "metadata": {},
   "source": [
    "### min_child_weight"
   ]
  },
  {
   "cell_type": "code",
   "execution_count": 53,
   "metadata": {},
   "outputs": [
    {
     "name": "stdout",
     "output_type": "stream",
     "text": [
      "Intentos: |██████████████████████████████████████████████████| 100.0% \n"
     ]
    },
    {
     "data": {
      "image/png": "[encoded data removed]",
      "text/plain": [
       "<Figure size 576x216 with 1 Axes>"
      ]
     },
     "metadata": {
      "needs_background": "light"
     },
     "output_type": "display_data"
    },
    {
     "name": "stdout",
     "output_type": "stream",
     "text": [
      "\n",
      "El máximo es para n=0  k={'base_score': 0.5, 'booster': 'gbtree', 'colsample_bylevel': 1, 'colsample_bynode': 1, 'colsample_bytree': 1, 'gamma': 0, 'learning_rate': 0.9, 'max_delta_step': 0, 'max_depth': 10, 'min_child_weight': 0, 'missing': None, 'n_estimators': 65, 'n_jobs': 100, 'nthread': None, 'objective': 'binary:logitraw', 'random_state': 0, 'reg_alpha': 0, 'reg_lambda': 1, 'scale_pos_weight': 1, 'seed': None, 'silent': None, 'subsample': 1, 'verbosity': 1} con un score=  183.71\n"
     ]
    }
   ],
   "source": [
    "parameter_grid=[i for i in range(0,120,5)]\n",
    "values_search=parameter_grid\n",
    "parameters = [{\"base_score\":0.5, \"booster\":'gbtree', \"colsample_bylevel\":1,\n",
    " \"colsample_bynode\":1, \"colsample_bytree\":1, \"gamma\":0, \"learning_rate\":0.9,\"max_delta_step\":0, \n",
    " \"max_depth\":10, \"min_child_weight\":Serch_parameter, \"missing\":None,\"n_estimators\":65, \"n_jobs\":100, \n",
    "\"nthread\":None,\"objective\":'binary:logitraw', \"random_state\":0, \"reg_alpha\":0,\n",
    "\"reg_lambda\":1, \"scale_pos_weight\":1, \"seed\":None, \"silent\":None,\n",
    "\"subsample\":1, \"verbosity\":1} for Serch_parameter in parameter_grid]\n",
    "\n",
    "xgboost_autoparameter_tunning(data_hour_merge_training,\"class\",parameter_grid,5,parameters)"
   ]
  },
  {
   "cell_type": "code",
   "execution_count": 55,
   "metadata": {},
   "outputs": [
    {
     "name": "stdout",
     "output_type": "stream",
     "text": [
      "     tn  fp  fn  tp\n",
      "0  7697   0  17  47\n",
      "1  7711   1  16  33\n",
      "2  7706   1  11  43\n",
      "3  7707   2  12  40\n",
      "4  7716   1  15  29\n"
     ]
    },
    {
     "data": {
      "image/png": "[encoded data removed]",
      "text/plain": [
       "<Figure size 432x288 with 2 Axes>"
      ]
     },
     "metadata": {
      "needs_background": "light"
     },
     "output_type": "display_data"
    }
   ],
   "source": [
    "verification_model_score(data_hour_merge_training,\"class\",5,parameters,0)"
   ]
  },
  {
   "cell_type": "markdown",
   "metadata": {},
   "source": [
    "### n_estimators"
   ]
  },
  {
   "cell_type": "code",
   "execution_count": 57,
   "metadata": {},
   "outputs": [
    {
     "name": "stdout",
     "output_type": "stream",
     "text": [
      "Intentos: |██████████████████████████████████████████████████| 100.0% \n"
     ]
    },
    {
     "data": {
      "image/png": "[encoded data removed]",
      "text/plain": [
       "<Figure size 576x216 with 1 Axes>"
      ]
     },
     "metadata": {
      "needs_background": "light"
     },
     "output_type": "display_data"
    },
    {
     "name": "stdout",
     "output_type": "stream",
     "text": [
      "\n",
      "El máximo es para n=9  k={'base_score': 0.5, 'booster': 'gbtree', 'colsample_bylevel': 1, 'colsample_bynode': 1, 'colsample_bytree': 1, 'gamma': 0, 'learning_rate': 0.03, 'max_delta_step': 0, 'max_depth': 10, 'min_child_weight': 0, 'missing': None, 'n_estimators': 450, 'n_jobs': 100, 'nthread': None, 'objective': 'binary:logitraw', 'random_state': 0, 'reg_alpha': 0, 'reg_lambda': 1, 'scale_pos_weight': 1, 'seed': None, 'silent': None, 'subsample': 1, 'verbosity': 1} con un score=  213.73\n"
     ]
    }
   ],
   "source": [
    "parameter_grid=[i for i in range(0,500,50)]\n",
    "values_search=parameter_grid\n",
    "parameters = [{\"base_score\":0.5, \"booster\":'gbtree', \"colsample_bylevel\":1,\n",
    " \"colsample_bynode\":1, \"colsample_bytree\":1, \"gamma\":0, \"learning_rate\":0.03,\"max_delta_step\":0, \n",
    " \"max_depth\":10, \"min_child_weight\":0, \"missing\":None,\"n_estimators\":Serch_parameter, \"n_jobs\":100, \n",
    "\"nthread\":None,\"objective\":'binary:logitraw', \"random_state\":0, \"reg_alpha\":0,\n",
    "\"reg_lambda\":1, \"scale_pos_weight\":1, \"seed\":None, \"silent\":None,\n",
    "\"subsample\":1, \"verbosity\":1} for Serch_parameter in parameter_grid]\n",
    "xgboost_autoparameter_tunning(data_hour_merge_training,\"class\",parameter_grid,2,parameters)"
   ]
  },
  {
   "cell_type": "code",
   "execution_count": 60,
   "metadata": {},
   "outputs": [
    {
     "name": "stdout",
     "output_type": "stream",
     "text": [
      "     tn  fp  fn  tp\n",
      "0  7702   2  20  37\n",
      "1  7708   2  13  38\n",
      "2  7712   0  13  36\n"
     ]
    },
    {
     "data": {
      "image/png": "[encoded data removed]",
      "text/plain": [
       "<Figure size 432x288 with 2 Axes>"
      ]
     },
     "metadata": {
      "needs_background": "light"
     },
     "output_type": "display_data"
    }
   ],
   "source": [
    "verification_model_score(data_hour_merge_training,\"class\",3,parameters,9)"
   ]
  },
  {
   "cell_type": "markdown",
   "metadata": {},
   "source": [
    "#### Gamma"
   ]
  },
  {
   "cell_type": "code",
   "execution_count": 62,
   "metadata": {
    "scrolled": false
   },
   "outputs": [
    {
     "name": "stdout",
     "output_type": "stream",
     "text": [
      "Intentos: |██████████████████████████████████████████████████| 100.0% \n"
     ]
    },
    {
     "data": {
      "image/png": "[encoded data removed]",
      "text/plain": [
       "<Figure size 576x216 with 1 Axes>"
      ]
     },
     "metadata": {
      "needs_background": "light"
     },
     "output_type": "display_data"
    },
    {
     "name": "stdout",
     "output_type": "stream",
     "text": [
      "\n",
      "El máximo es para n=0  k={'base_score': 0.5, 'booster': 'gbtree', 'colsample_bylevel': 1, 'colsample_bynode': 1, 'colsample_bytree': 1, 'gamma': 0, 'learning_rate': 0.03, 'max_delta_step': 0, 'max_depth': 10, 'min_child_weight': 0, 'missing': None, 'n_estimators': 100, 'n_jobs': 100, 'nthread': None, 'objective': 'binary:logitraw', 'random_state': 0, 'reg_alpha': 0, 'reg_lambda': 1, 'scale_pos_weight': 1, 'seed': None, 'silent': None, 'subsample': 1, 'verbosity': 1} con un score=  210.66\n"
     ]
    }
   ],
   "source": [
    "parameter_grid=[i for i in range(0,100,20)]\n",
    "values_search=parameter_grid\n",
    "parameters = [{\"base_score\":0.5, \"booster\":'gbtree', \"colsample_bylevel\":1,\n",
    " \"colsample_bynode\":1, \"colsample_bytree\":1, \"gamma\":Serch_parameter, \"learning_rate\":0.03,\"max_delta_step\":0, \n",
    " \"max_depth\":10, \"min_child_weight\":0, \"missing\":None,\"n_estimators\":100, \"n_jobs\":100, \n",
    "\"nthread\":None,\"objective\":'binary:logitraw', \"random_state\":0, \"reg_alpha\":0,\n",
    "\"reg_lambda\":1, \"scale_pos_weight\":1, \"seed\":None, \"silent\":None,\n",
    "\"subsample\":1, \"verbosity\":1} for Serch_parameter in parameter_grid]\n",
    "xgboost_autoparameter_tunning(data_hour_merge_training,\"class\",parameter_grid,2,parameters)"
   ]
  },
  {
   "cell_type": "code",
   "execution_count": 63,
   "metadata": {},
   "outputs": [
    {
     "name": "stdout",
     "output_type": "stream",
     "text": [
      "      tn  fp  fn  tp\n",
      "0   7714   1  11  35\n",
      "1   7702   5  15  39\n",
      "2   7710   2  13  36\n",
      "3   7710   1  12  38\n",
      "4   7707   2  12  40\n",
      "5   7708   3  12  38\n",
      "6   7714   0  11  36\n",
      "7   7706   4  15  36\n",
      "8   7708   3  12  38\n",
      "9   7702   2  18  39\n",
      "10  7708   1  10  42\n",
      "11  7706   3  16  36\n",
      "12  7708   3  12  38\n",
      "13  7717   1  12  31\n"
     ]
    },
    {
     "data": {
      "image/png": "[encoded data removed]",
      "text/plain": [
       "<Figure size 432x288 with 2 Axes>"
      ]
     },
     "metadata": {
      "needs_background": "light"
     },
     "output_type": "display_data"
    }
   ],
   "source": [
    "verification_model_score(data_hour_merge_training,\"class\",14,parameters,0)"
   ]
  },
  {
   "cell_type": "markdown",
   "metadata": {},
   "source": [
    "## max_depth"
   ]
  },
  {
   "cell_type": "code",
   "execution_count": 70,
   "metadata": {},
   "outputs": [
    {
     "name": "stdout",
     "output_type": "stream",
     "text": [
      "Intentos: |██████████████████████████████████████████████████| 100.0% \n"
     ]
    },
    {
     "data": {
      "image/png": "[encoded data removed]",
      "text/plain": [
       "<Figure size 576x216 with 1 Axes>"
      ]
     },
     "metadata": {
      "needs_background": "light"
     },
     "output_type": "display_data"
    },
    {
     "name": "stdout",
     "output_type": "stream",
     "text": [
      "\n",
      "El máximo es para n=3  k={'base_score': 0.5, 'booster': 'gbtree', 'colsample_bylevel': 1, 'colsample_bynode': 1, 'colsample_bytree': 1, 'gamma': 0, 'learning_rate': 0.03, 'max_delta_step': 0, 'max_depth': 6, 'min_child_weight': 0, 'missing': None, 'n_estimators': 100, 'n_jobs': 100, 'nthread': None, 'objective': 'binary:logitraw', 'random_state': 0, 'reg_alpha': 0, 'reg_lambda': 1, 'scale_pos_weight': 1, 'seed': None, 'silent': None, 'subsample': 1, 'verbosity': 1} con un score=  99.93\n"
     ]
    }
   ],
   "source": [
    "parameter_grid=[i for i in range(0,20,2)]\n",
    "values_search=parameter_grid\n",
    "parameters = [{\"base_score\":0.5, \"booster\":'gbtree', \"colsample_bylevel\":1,\n",
    " \"colsample_bynode\":1, \"colsample_bytree\":1, \"gamma\":0, \"learning_rate\":0.03,\"max_delta_step\":0, \n",
    " \"max_depth\":Serch_parameter, \"min_child_weight\":0, \"missing\":None,\"n_estimators\":100, \"n_jobs\":100, \n",
    "\"nthread\":None,\"objective\":'binary:logitraw', \"random_state\":0, \"reg_alpha\":0,\n",
    "\"reg_lambda\":1, \"scale_pos_weight\":1, \"seed\":None, \"silent\":None,\n",
    "\"subsample\":1, \"verbosity\":1} for Serch_parameter in parameter_grid]\n",
    "xgboost_autoparameter_tunning(data_hour_merge_training,\"class\",parameter_grid,2,parameters)"
   ]
  },
  {
   "cell_type": "code",
   "execution_count": 71,
   "metadata": {},
   "outputs": [
    {
     "name": "stdout",
     "output_type": "stream",
     "text": [
      "     tn  fp  fn  tp\n",
      "0  7722   1  12  26\n",
      "1  7707   3  18  33\n",
      "2  7706   1  11  43\n",
      "3  7715   2   8  36\n",
      "4  7708   1  10  42\n"
     ]
    },
    {
     "data": {
      "image/png": "[encoded data removed]",
      "text/plain": [
       "<Figure size 432x288 with 2 Axes>"
      ]
     },
     "metadata": {
      "needs_background": "light"
     },
     "output_type": "display_data"
    }
   ],
   "source": [
    "verification_model_score(data_hour_merge_training,\"class\",5,parameters,3)"
   ]
  },
  {
   "cell_type": "markdown",
   "metadata": {},
   "source": [
    "## reg_alpha"
   ]
  },
  {
   "cell_type": "code",
   "execution_count": 72,
   "metadata": {},
   "outputs": [
    {
     "name": "stdout",
     "output_type": "stream",
     "text": [
      "Intentos: |██████████████████████████████████████████████████| 100.0% \n"
     ]
    },
    {
     "data": {
      "image/png": "[encoded data removed]",
      "text/plain": [
       "<Figure size 576x216 with 1 Axes>"
      ]
     },
     "metadata": {
      "needs_background": "light"
     },
     "output_type": "display_data"
    },
    {
     "name": "stdout",
     "output_type": "stream",
     "text": [
      "\n",
      "El máximo es para n=0  k={'base_score': 0.5, 'booster': 'gbtree', 'colsample_bylevel': 1, 'colsample_bynode': 1, 'colsample_bytree': 1, 'gamma': 0, 'learning_rate': 0.03, 'max_delta_step': 0, 'max_depth': 6, 'min_child_weight': 0, 'missing': None, 'n_estimators': 100, 'n_jobs': 100, 'nthread': None, 'objective': 'binary:logitraw', 'random_state': 0, 'reg_alpha': 0, 'reg_lambda': 1, 'scale_pos_weight': 1, 'seed': None, 'silent': None, 'subsample': 1, 'verbosity': 1} con un score=  184.66\n"
     ]
    }
   ],
   "source": [
    "parameter_grid=[i for i in range(0,20,2)]\n",
    "values_search=parameter_grid\n",
    "parameters = [{\"base_score\":0.5, \"booster\":'gbtree', \"colsample_bylevel\":1,\n",
    " \"colsample_bynode\":1, \"colsample_bytree\":1, \"gamma\":0, \"learning_rate\":0.03,\"max_delta_step\":0, \n",
    " \"max_depth\":6, \"min_child_weight\":0, \"missing\":None,\"n_estimators\":100, \"n_jobs\":100, \n",
    "\"nthread\":None,\"objective\":'binary:logitraw', \"random_state\":0, \"reg_alpha\":Serch_parameter,\n",
    "\"reg_lambda\":1, \"scale_pos_weight\":1, \"seed\":None, \"silent\":None,\n",
    "\"subsample\":1, \"verbosity\":1} for Serch_parameter in parameter_grid]\n",
    "xgboost_autoparameter_tunning(data_hour_merge_training,\"class\",parameter_grid,2,parameters)"
   ]
  },
  {
   "cell_type": "code",
   "execution_count": 73,
   "metadata": {},
   "outputs": [
    {
     "name": "stdout",
     "output_type": "stream",
     "text": [
      "     tn  fp  fn  tp\n",
      "0  7697   3  16  45\n",
      "1  7717   1  12  31\n"
     ]
    },
    {
     "data": {
      "image/png": "[encoded data removed]",
      "text/plain": [
       "<Figure size 432x288 with 2 Axes>"
      ]
     },
     "metadata": {
      "needs_background": "light"
     },
     "output_type": "display_data"
    }
   ],
   "source": [
    "verification_model_score(data_hour_merge_training,\"class\",2,parameters,0)"
   ]
  },
  {
   "cell_type": "markdown",
   "metadata": {},
   "source": [
    "### scale_pos_weight"
   ]
  },
  {
   "cell_type": "code",
   "execution_count": 79,
   "metadata": {
    "scrolled": false
   },
   "outputs": [
    {
     "name": "stdout",
     "output_type": "stream",
     "text": [
      "Intentos: |██████████████████████████████████████████████████| 100.0% \n"
     ]
    },
    {
     "data": {
      "image/png": "[encoded data removed]",
      "text/plain": [
       "<Figure size 576x216 with 1 Axes>"
      ]
     },
     "metadata": {
      "needs_background": "light"
     },
     "output_type": "display_data"
    },
    {
     "name": "stdout",
     "output_type": "stream",
     "text": [
      "\n",
      "El máximo es para n=8  k={'base_score': 0.5, 'booster': 'gbtree', 'colsample_bylevel': 1, 'colsample_bynode': 1, 'colsample_bytree': 1, 'gamma': 0, 'learning_rate': 0.8, 'max_delta_step': 0, 'max_depth': 6, 'min_child_weight': 0, 'missing': None, 'n_estimators': 100, 'n_jobs': 100, 'nthread': None, 'objective': 'binary:logitraw', 'random_state': 0, 'reg_alpha': 0, 'reg_lambda': 1, 'scale_pos_weight': 1, 'seed': None, 'silent': None, 'subsample': 1, 'verbosity': 1} con un score=  383.03\n"
     ]
    }
   ],
   "source": [
    "parameter_grid=[i/100 for i in range(0,100,10)]\n",
    "values_search=parameter_grid\n",
    "parameters = [{\"base_score\":0.5, \"booster\":'gbtree', \"colsample_bylevel\":1,\n",
    " \"colsample_bynode\":1, \"colsample_bytree\":1, \"gamma\":0, \"learning_rate\":Serch_parameter,\"max_delta_step\":0, \n",
    " \"max_depth\":6, \"min_child_weight\":0, \"missing\":None,\"n_estimators\":100, \"n_jobs\":100, \n",
    "\"nthread\":None,\"objective\":'binary:logitraw', \"random_state\":0, \"reg_alpha\":0,\n",
    "\"reg_lambda\":1, \"scale_pos_weight\":1, \"seed\":None, \"silent\":None,\n",
    "\"subsample\":1, \"verbosity\":1} for Serch_parameter in parameter_grid]\n",
    "xgboost_autoparameter_tunning(data_hour_merge_training,\"class\",parameter_grid,3,parameters)"
   ]
  },
  {
   "cell_type": "code",
   "execution_count": 80,
   "metadata": {
    "scrolled": true
   },
   "outputs": [
    {
     "name": "stdout",
     "output_type": "stream",
     "text": [
      "     tn  fp  fn  tp\n",
      "0  7717   3  13  28\n",
      "1  7713   2  10  36\n",
      "2  7710   0  11  40\n",
      "3  7713   3  11  34\n",
      "4  7700   1  17  43\n"
     ]
    },
    {
     "data": {
      "image/png": "[encoded data removed]",
      "text/plain": [
       "<Figure size 432x288 with 2 Axes>"
      ]
     },
     "metadata": {
      "needs_background": "light"
     },
     "output_type": "display_data"
    }
   ],
   "source": [
    "verification_model_score(data_hour_merge_training,\"class\",5,parameters,8)"
   ]
  },
  {
   "cell_type": "code",
   "execution_count": null,
   "metadata": {},
   "outputs": [],
   "source": []
  },
  {
   "cell_type": "code",
   "execution_count": null,
   "metadata": {},
   "outputs": [],
   "source": []
  },
  {
   "cell_type": "code",
   "execution_count": null,
   "metadata": {},
   "outputs": [],
   "source": []
  },
  {
   "cell_type": "code",
   "execution_count": null,
   "metadata": {},
   "outputs": [],
   "source": []
  },
  {
   "cell_type": "code",
   "execution_count": null,
   "metadata": {},
   "outputs": [],
   "source": []
  },
  {
   "cell_type": "code",
   "execution_count": null,
   "metadata": {},
   "outputs": [],
   "source": []
  }
 ],
 "metadata": {
  "kernelspec": {
   "display_name": "Python 3",
   "language": "python",
   "name": "python3"
  },
  "language_info": {
   "codemirror_mode": {
    "name": "ipython",
    "version": 3
   },
   "file_extension": ".py",
   "mimetype": "text/x-python",
   "name": "python",
   "nbconvert_exporter": "python",
   "pygments_lexer": "ipython3",
   "version": "3.7.3"
  }
 },
 "nbformat": 4,
 "nbformat_minor": 2
}
