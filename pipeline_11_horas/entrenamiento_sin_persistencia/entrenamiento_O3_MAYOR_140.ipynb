{
 "cells": [
  {
   "cell_type": "markdown",
   "metadata": {},
   "source": [
    "# Entrenamiento O3"
   ]
  },
  {
   "cell_type": "markdown",
   "metadata": {},
   "source": [
    "\n",
    "Una vez que se tienen los datos limpios y procesados, estos pueden ser usados para la generación de los modelos. A continuación se muestra el flujo trabajo para la generación de los modelos:\n",
    "\n",
    "<img src=\"./gen_modelos.png\" style=\"height:300px\">\n",
    "\n",
    "Los modelos utilizados son del tipo __supervisado___, esto quiere decir que se necesita tener el valor real para poder generar los modelos, este valor corresponde a la columna del contaminante a pronosticar a una hora específica.  \n",
    "\n",
    "Una vez que se tiene esta columna identificado, es necesario dividir los datos de entrenamiento en dos conjuntos: de __entrenamiento__ y __prueba__. La razón de dividirlos es para poder cuantiﬁcar el desempeño y el correcto funcionamiento de los modelos. El conjunto de entrenamiento correspondió al __80%__ de los datos totales y en éste se ejecutarán los modelos estadísticos para obtener los árboles de decisión y con el conjunto de prueba que correspondió al __20%__ restante, se comparará el pronóstico de los modelos con el valor real.\n",
    "\n",
    "Con el conjunto de entrenamiento se ejecutaron todas las pruebas realizadas, aplicando los modelos de machine learning ya mencionados. Los modelos se optimizaron para tener un correcto pronóstico de valores alrededor del nivel de contaminación de la contingencia ambiental. Los modelos de los tres contaminantes son capaces de generar el pronóstico hasta de 24 horas, para cada hora se generó un modelo de manera que se generaron 24 modelos.\n",
    "\n",
    "\n",
    "### Métricas de Valoración\n",
    "Para medir el desempeño de un modelo de pronóstico es importante contar con una métrica de desempeño. Medir el desempeño del pronóstico es importante para saber que los métodos y características con los que trabaja el pronóstico son los adecuados. Además, calcular el desempeño de los modelos nos ayudará en la búsqueda de partes del pronóstico que no trabajen de manera óptima y con esto tomar decisiones para mejorar el desempeño del mismo. Las principales métricas usadas para medir el desempeño del modelo son el RMSE que nos indica qué tanto se aleja la predicción del valor real, la R2 que determina la calidad del modelo para replicar los resultados y la proporción de variación de los resultados que puede explicarse por el modelo y la precisión que nos indica cuántos falsos positivos genera el modelo es decir, cuántas contingencias son pronosticadas incorrectamente por cada contingencia pronosticada correctamente.\n",
    "\n",
    "\n",
    "__Pasos y descripción general del notebook__\n",
    "\n",
    "\n",
    "- __Datos recibidos:__ Limpieza de datos inicial\n",
    "- __Responsable:__ Daniel Bustillos\n",
    "- __Contacto:__  juandaniel.bucam@gmail.com\n"
   ]
  },
  {
   "cell_type": "code",
   "execution_count": null,
   "metadata": {},
   "outputs": [],
   "source": [
    "import xgboost as xgb\n",
    "from xgboost import XGBClassifier\n",
    "from xgboost import plot_tree\n",
    "\n",
    "from sklearn.svm import SVR\n",
    "from sklearn.preprocessing import StandardScaler\n",
    "from sklearn.metrics import mean_squared_error\n",
    "from sklearn.model_selection import train_test_split\n",
    "import os\n",
    "\n",
    "import numpy as np\n",
    "import matplotlib.pyplot as plt\n",
    "import pandas as pd\n",
    "#import missingno as msn\n",
    "\n",
    "pd.options.mode.chained_assignment = None \n",
    "\n",
    "from sklearn.externals import joblib\n",
    "from xgboost.sklearn import XGBRegressor\n",
    "from sklearn.ensemble import GradientBoostingRegressor \n",
    "\n",
    "from sklearn.datasets import make_regression\n",
    "\n",
    "from sklearn.metrics import confusion_matrix\n",
    "from sklearn.metrics import fbeta_score, make_scorer\n",
    "\n",
    "import seaborn as sn\n",
    "from sklearn.metrics import confusion_matrix as confussion_matrix_function\n",
    "from sklearn.model_selection import GridSearchCV\n",
    "from sklearn.metrics import fbeta_score, make_scorer\n",
    "\n",
    "from sklearn.metrics import accuracy_score\n",
    "from matplotlib import pyplot\n",
    "# plot learning curve\n",
    "from numpy import loadtxt\n",
    "from xgboost import XGBClassifier\n",
    "from sklearn.model_selection import train_test_split\n",
    "from sklearn.metrics import accuracy_score\n",
    "from matplotlib import pyplot\n",
    "import seaborn as sns\n",
    "import random as rd\n",
    "import time"
   ]
  },
  {
   "cell_type": "markdown",
   "metadata": {},
   "source": [
    "#### Hacemos una función para obtenner el -promedio- de los dos modelos"
   ]
  },
  {
   "cell_type": "code",
   "execution_count": 2,
   "metadata": {},
   "outputs": [],
   "source": [
    "def predictor_mean(model0_1,modelo_2,X_set):  \n",
    "    #aplicamos los predict\n",
    "    forecast_q = model0_1.predict(X_set) \n",
    "    forecast = modelo_2.predict(X_set)\n",
    "   #generamos una lista dummy: \n",
    "    forecast_mean = forecast \n",
    "    \n",
    "    for i in range(len(X_set)):\n",
    "        if  forecast[i] < 135:\n",
    "            forecast_mean[i] = forecast[i]\n",
    "        elif  forecast_q[i] > 160:\n",
    "            forecast_mean[i] = forecast_q[i]\n",
    "        if  130 < forecast_q[i] <155 and 130 < forecast[i] < 155:\n",
    "            forecast_mean[i] = (0.3*forecast_q[i] + 0.7*forecast[i])\n",
    "        if  140 < forecast_q[i] <160 and 140 < forecast[i] < 160:\n",
    "            forecast_mean[i] = (forecast_q[i] + forecast[i])/2\n",
    "    return forecast_mean"
   ]
  },
  {
   "cell_type": "markdown",
   "metadata": {},
   "source": [
    "Definimos el score [specifity](https://es.wikipedia.org/wiki/Especificidad_(epidemiología)) que se basa en el número de **TP** por cada **FP + FN**.\n",
    "\n",
    " $$Especifity = \\frac{TP}{FP + FN}$$"
   ]
  },
  {
   "cell_type": "raw",
   "metadata": {},
   "source": [
    "def specifity(y_true, y_pred):\n",
    "    tn, fp, fn, tp = confussion_matrix_function(y_true.tolist(), y_pred.tolist()).ravel()\n",
    "    specifity_score = tp / (fn+fp)\n",
    "    return specifity_score\n",
    "def specifity1(y_true, y_pred):\n",
    "    tn, fp, fn, tp = confussion_matrix_function(y_true, y_pred).ravel()\n",
    "    specifity_score = tp / (fn+fp)\n",
    "    return specifity_score\n",
    "\n",
    " # score will negate the return value of my_custom_loss_func,\n",
    "# which will be np.log(2), 0.693, given the values for X\n",
    "# and y defined below.\n",
    "specifity_scorer = make_scorer(specifity, greater_is_better=True)\n",
    "\n",
    " # score will negate the return value of my_custom_loss_func,\n",
    "# which will be np.log(2), 0.693, given the values for X\n",
    "# and y defined below.\n",
    "specifity_scorer = make_scorer(specifity, greater_is_better=True)"
   ]
  },
  {
   "cell_type": "markdown",
   "metadata": {},
   "source": [
    "## Hacemos una función para graficar"
   ]
  },
  {
   "cell_type": "code",
   "execution_count": 3,
   "metadata": {},
   "outputs": [],
   "source": [
    "def ploter(y_test_0,X_test_0,pronosticados_0,model):\n",
    "    \n",
    "    plt.scatter(y_test_0, pronosticados_0,alpha=0.5,color=\"royalblue\")\n",
    "    score = round(model.score(X_test_0, y_test_0),3)\n",
    "    rmse = round(np.sqrt(mean_squared_error(y_test_0, pronosticados_0)),3)\n",
    "    plt.plot([30,130],[30,130],color=\"k\",linestyle='--')\n",
    "    \n",
    "    plt.axhline(y=150, color='k', linestyle='--')\n",
    "    plt.axvline(x=150, color='k', linestyle='--')\n",
    "    plt.annotate('TP', (170,150), xytext = (175, 155 + 1), \n",
    "                  horizontalalignment='right')\n",
    "    plt.annotate('FN', (170,150), xytext = (175, 135 + 1), \n",
    "                  horizontalalignment='right')\n",
    "    plt.annotate('FP', (170,150), xytext = (125, 155 + 1), \n",
    "                  horizontalalignment='right')\n",
    "    plt.annotate('FP', (170,150), xytext = (125, 135 + 1), \n",
    "                  horizontalalignment='right')\n",
    "    plt.annotate(\"Score =\"+str(score), (15,139), xytext = (15, 139 + 1), \n",
    "                  horizontalalignment='left')\n",
    "    plt.annotate(\"RMSE =\"+str(rmse), (15,119), xytext = (15, 119 + 1), \n",
    "                  horizontalalignment='left')\n",
    "    \n",
    "    \n",
    "    plt.xlabel('Measured')\n",
    "    plt.ylabel('Predicted')\n",
    "    plt.title('Pronóstico con Persistencia Temporal')\n",
    "    plt.show()"
   ]
  },
  {
   "cell_type": "markdown",
   "metadata": {},
   "source": [
    "## Cargamos los modelos ya entrenados:"
   ]
  },
  {
   "cell_type": "code",
   "execution_count": 4,
   "metadata": {},
   "outputs": [],
   "source": [
    "conta = 'O3'"
   ]
  },
  {
   "cell_type": "code",
   "execution_count": 5,
   "metadata": {},
   "outputs": [],
   "source": [
    "model = [0 for col in range(25)]\n",
    "modelq = [0 for col in range(25)]"
   ]
  },
  {
   "cell_type": "raw",
   "metadata": {},
   "source": [
    "for i in range(0,23):\n",
    "    model[i] = joblib.load(str('./modelos/'+ conta +'/'+ conta + '_'+str(i+1)+'hora.pkl'))\n",
    "    print(str('./modelos/' + conta + '/' + conta + '_' + str(i+1)+'hora.pkl'))\n",
    "   # modelq[i] = joblib.load(str('./modelos/'+conta+'/' + conta+ '_'+str(i+1)+'hora_quantile.pkl'))\n",
    "    if i == range(0,24)[-1]:\n",
    "        print('./modelos/O3/O3_'+str(i+1)+'hora.pkl')"
   ]
  },
  {
   "cell_type": "markdown",
   "metadata": {},
   "source": [
    "#### Cargamos los datos:"
   ]
  },
  {
   "cell_type": "code",
   "execution_count": 6,
   "metadata": {},
   "outputs": [],
   "source": [
    "data_hour_merge = pd.read_csv(str(\"/DATA/paw/jupyterhub_notebook/daniel.bustillos/DanielBustillos/\"+\n",
    "                                  \"contaminación/pipeline_norberto_11horas/datos/datos_modelos_\"+conta+\".csv\"))"
   ]
  },
  {
   "cell_type": "code",
   "execution_count": 7,
   "metadata": {},
   "outputs": [],
   "source": [
    "data_hour_merge['fecha'] = pd.to_datetime(data_hour_merge['fecha'], format='%Y-%m-%d %H:%M:%S')\n",
    "data_hour_merge[\"hora\"] = [row[\"fecha\"].hour for index, row in data_hour_merge.iterrows()]"
   ]
  },
  {
   "cell_type": "markdown",
   "metadata": {},
   "source": [
    "### Filtro de contingencia"
   ]
  },
  {
   "cell_type": "code",
   "execution_count": 8,
   "metadata": {},
   "outputs": [
    {
     "data": {
      "text/plain": [
       "['TMP_mean_frcst_6',\n",
       " 'CO_9.0_mean',\n",
       " 'CO_8.0_mean',\n",
       " 'O3_72.0_min',\n",
       " 'TMP_mean_frcst_11',\n",
       " 'NOX_7.0_min',\n",
       " 'RH_mean_frcst_12',\n",
       " 'TMP_mean',\n",
       " 'O3_max',\n",
       " 'O3_1.0_max',\n",
       " 'PM25mean_mean',\n",
       " 'O3_2.0_max',\n",
       " 'TMP_49.0_min',\n",
       " 'TMP_mean_frcst_10',\n",
       " 'CO_6.0_min',\n",
       " 'WSP_mean_frcst_10',\n",
       " 'TMP_mean_frcst_1',\n",
       " 'hora_24.0',\n",
       " 'RH_46.0_min',\n",
       " 'O3_51.0_mean',\n",
       " 'WSP_mean_frcst_2',\n",
       " 'RH_mean_frcst_3',\n",
       " 'CO_6.0_mean',\n",
       " 'TMP_26.0_min',\n",
       " 'hora',\n",
       " 'RH_mean',\n",
       " 'PM2.5_5.0_min',\n",
       " 'TMP_27.0_min',\n",
       " 'WSP_mean',\n",
       " 'TMP_51.0_mean',\n",
       " 'NO2_mean',\n",
       " 'CO_8.0_min',\n",
       " 'TMP_51.0_min',\n",
       " 'TMP_23.0_mean',\n",
       " 'WSP_mean_frcst_9',\n",
       " 'TMP_mean_frcst_7',\n",
       " 'CO_7.0_mean',\n",
       " 'PM10mean_mean',\n",
       " 'fecha',\n",
       " 'PM25mean_min',\n",
       " 'WSP_mean_frcst_23',\n",
       " 'TMP_46.0_max',\n",
       " 'TMP_22.0_mean',\n",
       " 'WSP_mean_frcst_11',\n",
       " 'PM25mean_max',\n",
       " 'O3_72.0_max',\n",
       " 'TMP_50.0_mean',\n",
       " 'O3_max_frcst_1',\n",
       " 'O3_max_frcst_2',\n",
       " 'O3_max_frcst_3',\n",
       " 'O3_max_frcst_4',\n",
       " 'O3_max_frcst_5',\n",
       " 'O3_max_frcst_6',\n",
       " 'O3_max_frcst_7',\n",
       " 'O3_max_frcst_8',\n",
       " 'O3_max_frcst_9',\n",
       " 'O3_max_frcst_10',\n",
       " 'O3_max_frcst_11',\n",
       " 'O3_max_frcst_12',\n",
       " 'O3_max_frcst_13',\n",
       " 'O3_max_frcst_14',\n",
       " 'O3_max_frcst_15',\n",
       " 'O3_max_frcst_16',\n",
       " 'O3_max_frcst_17',\n",
       " 'O3_max_frcst_18',\n",
       " 'O3_max_frcst_19',\n",
       " 'O3_max_frcst_20',\n",
       " 'O3_max_frcst_21',\n",
       " 'O3_max_frcst_22',\n",
       " 'O3_max_frcst_23',\n",
       " 'O3_max_frcst_24']"
      ]
     },
     "execution_count": 8,
     "metadata": {},
     "output_type": "execute_result"
    }
   ],
   "source": [
    "data_hour_merge.columns.tolist()"
   ]
  },
  {
   "cell_type": "code",
   "execution_count": 9,
   "metadata": {},
   "outputs": [],
   "source": [
    "data_hour_merge.loc[data_hour_merge[\"O3_max_frcst_11\"]>142, 'class'] = 1\n",
    "data_hour_merge.loc[data_hour_merge[\"O3_max_frcst_11\"]<=142, 'class'] = 0"
   ]
  },
  {
   "cell_type": "code",
   "execution_count": 10,
   "metadata": {},
   "outputs": [
    {
     "data": {
      "text/plain": [
       "<matplotlib.axes._subplots.AxesSubplot at 0x7fa5c06834e0>"
      ]
     },
     "execution_count": 10,
     "metadata": {},
     "output_type": "execute_result"
    },
    {
     "data": {
      "image/png": "[encoded data removed]",
      "text/plain": [
       "<Figure size 432x288 with 1 Axes>"
      ]
     },
     "metadata": {
      "needs_background": "light"
     },
     "output_type": "display_data"
    }
   ],
   "source": [
    "sns.distplot(data_hour_merge[\"hora\"][data_hour_merge[\"O3_max_frcst_1\"]>81.38], kde=True, rug=True)\n",
    "sns.distplot(data_hour_merge[\"hora\"][data_hour_merge[\"O3_max_frcst_11\"]>81.38], kde=True, rug=True)"
   ]
  },
  {
   "cell_type": "markdown",
   "metadata": {},
   "source": [
    "En contraste con la distriubción de precontingencias del Ozono, en el caso del PM10 y PM2.5, estas están distribuidas a lo largo del día, presumiblemente debido a que se considera el promedio móvil de las últimas 24 horas y no la medición puntual. \n",
    "\n",
    "> __Por este motivo vamos a hacer un 24 modelos, que pronostiquen a las 4am para cada hora del día.__"
   ]
  },
  {
   "cell_type": "markdown",
   "metadata": {},
   "source": [
    "#### Filtramos por el día donnde se va a aplicar el pronóstico:"
   ]
  },
  {
   "cell_type": "raw",
   "metadata": {},
   "source": [
    "list_hours = [4]"
   ]
  },
  {
   "cell_type": "markdown",
   "metadata": {},
   "source": [
    "Definimos la lista de los targets:"
   ]
  },
  {
   "cell_type": "markdown",
   "metadata": {},
   "source": [
    "### No aplica para PM10 o PM25\n",
    "ya que la distribuciónn de contingencias es a lo largo del día"
   ]
  },
  {
   "cell_type": "raw",
   "metadata": {},
   "source": [
    "data_hour_merge= data_hour_merge[data_hour_merge[\"hora\"].isin(list_hours)]\n",
    "data_hour_merge.reset_index(inplace=True,drop=True)\n",
    "#data_hour_merge.drop(\"hora\",axis=1,inplace=True)"
   ]
  },
  {
   "cell_type": "markdown",
   "metadata": {},
   "source": [
    "Borramos las columnas del target."
   ]
  },
  {
   "cell_type": "code",
   "execution_count": 11,
   "metadata": {},
   "outputs": [],
   "source": [
    "target = \"O3_max_frcst_\"\n",
    "\n",
    "lista = []\n",
    "for i in range(1,25):\n",
    "    lista.append(str(target+str(i)))"
   ]
  },
  {
   "cell_type": "code",
   "execution_count": 12,
   "metadata": {},
   "outputs": [],
   "source": [
    "lista = []\n",
    "for i in range(1,25):\n",
    "    lista.append(str(target+str(i)))"
   ]
  },
  {
   "cell_type": "code",
   "execution_count": 13,
   "metadata": {},
   "outputs": [],
   "source": [
    "conta = 'O3'"
   ]
  },
  {
   "cell_type": "markdown",
   "metadata": {},
   "source": [
    "## Training and verificationn split"
   ]
  },
  {
   "cell_type": "markdown",
   "metadata": {},
   "source": [
    "Separamos en conjunto de verificacion y training según el anio:"
   ]
  },
  {
   "cell_type": "code",
   "execution_count": 14,
   "metadata": {},
   "outputs": [],
   "source": [
    "data_hour_merge['fecha'] = pd.to_datetime(data_hour_merge['fecha'], format='%Y-%m-%d %H:%M:%S')\n",
    "data_hour_merge[\"anio\"] = [row[\"fecha\"].year for index, row in data_hour_merge.iterrows()]\n",
    "data_hour_merge[\"mes\"] = [row[\"fecha\"].month for index, row in data_hour_merge.iterrows()]"
   ]
  },
  {
   "cell_type": "code",
   "execution_count": 15,
   "metadata": {},
   "outputs": [],
   "source": [
    "data_hour_merge_training = data_hour_merge[data_hour_merge[\"anio\"].isin([2018, 2017,2016,2015])]\n",
    "data_hour_merge_verification = data_hour_merge[data_hour_merge[\"anio\"].isin([2019,])]"
   ]
  },
  {
   "cell_type": "code",
   "execution_count": 16,
   "metadata": {},
   "outputs": [],
   "source": [
    "data_hour_merge_training.drop(\"fecha\",axis=1,inplace=True)\n",
    "data_hour_merge_verification.drop(\"fecha\",axis=1,inplace=True)\n",
    "data_hour_merge_training.drop(\"anio\",axis=1,inplace=True)\n",
    "data_hour_merge_verification.drop(\"anio\",axis=1,inplace=True)"
   ]
  },
  {
   "cell_type": "code",
   "execution_count": 17,
   "metadata": {},
   "outputs": [],
   "source": [
    "hora = 11\n",
    "dataset = data_hour_merge_verification.copy()\n",
    "#dataset.drop([\"fecha\"],axis=1,inplace=True)\n",
    "dataset.dropna(inplace=True)\n",
    "dataset.drop(lista[:],axis=1,inplace=True)\n",
    "\n",
    "X_verification = dataset.loc[:, dataset.columns != \"class\"]\n",
    "y_verification = dataset[\"class\"]"
   ]
  },
  {
   "cell_type": "code",
   "execution_count": 18,
   "metadata": {},
   "outputs": [],
   "source": [
    "del data_hour_merge_verification"
   ]
  },
  {
   "cell_type": "code",
   "execution_count": 19,
   "metadata": {},
   "outputs": [],
   "source": [
    "del data_hour_merge"
   ]
  },
  {
   "cell_type": "markdown",
   "metadata": {},
   "source": [
    "# Clasificador:"
   ]
  },
  {
   "cell_type": "markdown",
   "metadata": {},
   "source": [
    "#### Definimos los conjuntos Train and Test<a class=\"anchor\" id=\"5-bullet\"></a>"
   ]
  },
  {
   "cell_type": "code",
   "execution_count": 20,
   "metadata": {},
   "outputs": [],
   "source": [
    "from sklearn.metrics import confusion_matrix as confussion_matrix_function\n",
    "from sklearn.model_selection import GridSearchCV"
   ]
  },
  {
   "cell_type": "code",
   "execution_count": 21,
   "metadata": {},
   "outputs": [],
   "source": [
    "hora = 11\n",
    "\n",
    "dataset = data_hour_merge_training.copy()\n",
    "#dataset.drop([\"fecha\"],axis=1,inplace=True)\n",
    "dataset.dropna(inplace=True)\n",
    "dataset.drop(lista[:],axis=1,inplace=True)\n",
    "\n",
    "X = dataset.loc[:, dataset.columns != \"class\"]\n",
    "y = dataset[\"class\"]\n",
    "\n",
    "#Definimos los conjuntos de prueba:\n",
    "\n",
    "X_train, X_test, y_train, y_test = train_test_split(X, y, test_size=0.3, random_state=rd.randint(1,100))"
   ]
  },
  {
   "cell_type": "code",
   "execution_count": 22,
   "metadata": {},
   "outputs": [],
   "source": [
    "model3= selection_model = XGBClassifier(\n",
    " n_estimators=550,\n",
    " max_depth=10,\n",
    " min_child_weight=2,\n",
    " gamma=0,\n",
    " subsample=0.8,\n",
    " colsample_bytree=0.8,\n",
    " objective= 'binary:logistic',\n",
    " nthread=4,\n",
    " scale_pos_weight=1,\n",
    " seed=2)\n",
    "# eval model"
   ]
  },
  {
   "cell_type": "code",
   "execution_count": 23,
   "metadata": {},
   "outputs": [],
   "source": [
    "eval_set = [(X_train, y_train), (X_test, y_test)]"
   ]
  },
  {
   "cell_type": "code",
   "execution_count": 24,
   "metadata": {},
   "outputs": [
    {
     "name": "stdout",
     "output_type": "stream",
     "text": [
      "[0]\tvalidation_0-error:0.006256\tvalidation_0-logloss:0.600088\tvalidation_1-error:0.007993\tvalidation_1-logloss:0.600241\n",
      "[1]\tvalidation_0-error:0.005312\tvalidation_0-logloss:0.523854\tvalidation_1-error:0.006371\tvalidation_1-logloss:0.524285\n",
      "[2]\tvalidation_0-error:0.004766\tvalidation_0-logloss:0.460048\tvalidation_1-error:0.007066\tvalidation_1-logloss:0.460791\n",
      "[3]\tvalidation_0-error:0.004617\tvalidation_0-logloss:0.406165\tvalidation_1-error:0.006603\tvalidation_1-logloss:0.407087\n",
      "[4]\tvalidation_0-error:0.004468\tvalidation_0-logloss:0.360117\tvalidation_1-error:0.006718\tvalidation_1-logloss:0.361335\n",
      "[5]\tvalidation_0-error:0.004319\tvalidation_0-logloss:0.320461\tvalidation_1-error:0.005908\tvalidation_1-logloss:0.321924\n",
      "[6]\tvalidation_0-error:0.004369\tvalidation_0-logloss:0.286073\tvalidation_1-error:0.006023\tvalidation_1-logloss:0.287768\n",
      "[7]\tvalidation_0-error:0.00427\tvalidation_0-logloss:0.255967\tvalidation_1-error:0.005792\tvalidation_1-logloss:0.257958\n",
      "[8]\tvalidation_0-error:0.004071\tvalidation_0-logloss:0.229435\tvalidation_1-error:0.005676\tvalidation_1-logloss:0.23164\n",
      "[9]\tvalidation_0-error:0.004071\tvalidation_0-logloss:0.206173\tvalidation_1-error:0.005676\tvalidation_1-logloss:0.208544\n",
      "[10]\tvalidation_0-error:0.003972\tvalidation_0-logloss:0.185611\tvalidation_1-error:0.005792\tvalidation_1-logloss:0.188204\n",
      "[11]\tvalidation_0-error:0.003773\tvalidation_0-logloss:0.167388\tvalidation_1-error:0.00556\tvalidation_1-logloss:0.17019\n",
      "[12]\tvalidation_0-error:0.003674\tvalidation_0-logloss:0.151155\tvalidation_1-error:0.00556\tvalidation_1-logloss:0.154204\n",
      "[13]\tvalidation_0-error:0.003773\tvalidation_0-logloss:0.136858\tvalidation_1-error:0.005444\tvalidation_1-logloss:0.140113\n",
      "[14]\tvalidation_0-error:0.003575\tvalidation_0-logloss:0.123919\tvalidation_1-error:0.005328\tvalidation_1-logloss:0.127223\n",
      "[15]\tvalidation_0-error:0.003624\tvalidation_0-logloss:0.112375\tvalidation_1-error:0.005328\tvalidation_1-logloss:0.11594\n",
      "[16]\tvalidation_0-error:0.003724\tvalidation_0-logloss:0.102107\tvalidation_1-error:0.005444\tvalidation_1-logloss:0.105982\n",
      "[17]\tvalidation_0-error:0.003525\tvalidation_0-logloss:0.092899\tvalidation_1-error:0.005676\tvalidation_1-logloss:0.096942\n",
      "[18]\tvalidation_0-error:0.003326\tvalidation_0-logloss:0.084639\tvalidation_1-error:0.005676\tvalidation_1-logloss:0.088828\n",
      "[19]\tvalidation_0-error:0.003128\tvalidation_0-logloss:0.077191\tvalidation_1-error:0.005676\tvalidation_1-logloss:0.081472\n",
      "[20]\tvalidation_0-error:0.003078\tvalidation_0-logloss:0.070448\tvalidation_1-error:0.005676\tvalidation_1-logloss:0.075068\n",
      "[21]\tvalidation_0-error:0.003078\tvalidation_0-logloss:0.064296\tvalidation_1-error:0.005676\tvalidation_1-logloss:0.069267\n",
      "[22]\tvalidation_0-error:0.002979\tvalidation_0-logloss:0.058838\tvalidation_1-error:0.005444\tvalidation_1-logloss:0.064049\n",
      "[23]\tvalidation_0-error:0.00283\tvalidation_0-logloss:0.05389\tvalidation_1-error:0.005792\tvalidation_1-logloss:0.059376\n",
      "[24]\tvalidation_0-error:0.00283\tvalidation_0-logloss:0.049415\tvalidation_1-error:0.005792\tvalidation_1-logloss:0.055181\n",
      "[25]\tvalidation_0-error:0.00283\tvalidation_0-logloss:0.045439\tvalidation_1-error:0.005676\tvalidation_1-logloss:0.051377\n",
      "[26]\tvalidation_0-error:0.00283\tvalidation_0-logloss:0.041782\tvalidation_1-error:0.005792\tvalidation_1-logloss:0.04801\n",
      "[27]\tvalidation_0-error:0.00283\tvalidation_0-logloss:0.038507\tvalidation_1-error:0.005676\tvalidation_1-logloss:0.044974\n",
      "[28]\tvalidation_0-error:0.002631\tvalidation_0-logloss:0.035541\tvalidation_1-error:0.005676\tvalidation_1-logloss:0.042157\n",
      "[29]\tvalidation_0-error:0.002631\tvalidation_0-logloss:0.03283\tvalidation_1-error:0.005676\tvalidation_1-logloss:0.03962\n",
      "[30]\tvalidation_0-error:0.002532\tvalidation_0-logloss:0.030371\tvalidation_1-error:0.005676\tvalidation_1-logloss:0.037318\n",
      "[31]\tvalidation_0-error:0.002482\tvalidation_0-logloss:0.028108\tvalidation_1-error:0.005676\tvalidation_1-logloss:0.035137\n",
      "[32]\tvalidation_0-error:0.002532\tvalidation_0-logloss:0.026013\tvalidation_1-error:0.005676\tvalidation_1-logloss:0.033335\n",
      "[33]\tvalidation_0-error:0.002482\tvalidation_0-logloss:0.024137\tvalidation_1-error:0.005676\tvalidation_1-logloss:0.031637\n",
      "[34]\tvalidation_0-error:0.002284\tvalidation_0-logloss:0.022397\tvalidation_1-error:0.005792\tvalidation_1-logloss:0.030078\n",
      "[35]\tvalidation_0-error:0.002135\tvalidation_0-logloss:0.020842\tvalidation_1-error:0.005792\tvalidation_1-logloss:0.028729\n",
      "[36]\tvalidation_0-error:0.002184\tvalidation_0-logloss:0.019392\tvalidation_1-error:0.005676\tvalidation_1-logloss:0.027471\n",
      "[37]\tvalidation_0-error:0.002085\tvalidation_0-logloss:0.018136\tvalidation_1-error:0.005676\tvalidation_1-logloss:0.026437\n",
      "[38]\tvalidation_0-error:0.002036\tvalidation_0-logloss:0.016946\tvalidation_1-error:0.005792\tvalidation_1-logloss:0.025441\n",
      "[39]\tvalidation_0-error:0.001936\tvalidation_0-logloss:0.015884\tvalidation_1-error:0.005792\tvalidation_1-logloss:0.024529\n",
      "[40]\tvalidation_0-error:0.001688\tvalidation_0-logloss:0.01489\tvalidation_1-error:0.005792\tvalidation_1-logloss:0.023769\n",
      "[41]\tvalidation_0-error:0.001589\tvalidation_0-logloss:0.013997\tvalidation_1-error:0.005792\tvalidation_1-logloss:0.022893\n",
      "[42]\tvalidation_0-error:0.001539\tvalidation_0-logloss:0.013164\tvalidation_1-error:0.005792\tvalidation_1-logloss:0.022298\n",
      "[43]\tvalidation_0-error:0.001589\tvalidation_0-logloss:0.012407\tvalidation_1-error:0.005792\tvalidation_1-logloss:0.021785\n",
      "[44]\tvalidation_0-error:0.001539\tvalidation_0-logloss:0.011721\tvalidation_1-error:0.005792\tvalidation_1-logloss:0.021192\n",
      "[45]\tvalidation_0-error:0.001489\tvalidation_0-logloss:0.011067\tvalidation_1-error:0.005676\tvalidation_1-logloss:0.020705\n",
      "[46]\tvalidation_0-error:0.00139\tvalidation_0-logloss:0.010479\tvalidation_1-error:0.005792\tvalidation_1-logloss:0.020291\n",
      "[47]\tvalidation_0-error:0.00134\tvalidation_0-logloss:0.00995\tvalidation_1-error:0.005792\tvalidation_1-logloss:0.019873\n",
      "[48]\tvalidation_0-error:0.00134\tvalidation_0-logloss:0.00944\tvalidation_1-error:0.005908\tvalidation_1-logloss:0.019549\n",
      "[49]\tvalidation_0-error:0.001241\tvalidation_0-logloss:0.00895\tvalidation_1-error:0.005908\tvalidation_1-logloss:0.019179\n",
      "[50]\tvalidation_0-error:0.001192\tvalidation_0-logloss:0.008527\tvalidation_1-error:0.006023\tvalidation_1-logloss:0.018808\n",
      "[51]\tvalidation_0-error:0.001142\tvalidation_0-logloss:0.008098\tvalidation_1-error:0.005908\tvalidation_1-logloss:0.018555\n",
      "[52]\tvalidation_0-error:0.000993\tvalidation_0-logloss:0.007722\tvalidation_1-error:0.006023\tvalidation_1-logloss:0.018254\n",
      "[53]\tvalidation_0-error:0.000894\tvalidation_0-logloss:0.00738\tvalidation_1-error:0.006023\tvalidation_1-logloss:0.017945\n",
      "[54]\tvalidation_0-error:0.000943\tvalidation_0-logloss:0.007105\tvalidation_1-error:0.005908\tvalidation_1-logloss:0.017754\n",
      "[55]\tvalidation_0-error:0.000894\tvalidation_0-logloss:0.006828\tvalidation_1-error:0.005908\tvalidation_1-logloss:0.017587\n",
      "[56]\tvalidation_0-error:0.000894\tvalidation_0-logloss:0.006525\tvalidation_1-error:0.005908\tvalidation_1-logloss:0.017388\n",
      "[57]\tvalidation_0-error:0.000695\tvalidation_0-logloss:0.00627\tvalidation_1-error:0.005676\tvalidation_1-logloss:0.01717\n",
      "[58]\tvalidation_0-error:0.000695\tvalidation_0-logloss:0.00605\tvalidation_1-error:0.005676\tvalidation_1-logloss:0.017041\n",
      "[59]\tvalidation_0-error:0.000645\tvalidation_0-logloss:0.005814\tvalidation_1-error:0.005792\tvalidation_1-logloss:0.016933\n",
      "[60]\tvalidation_0-error:0.000546\tvalidation_0-logloss:0.005606\tvalidation_1-error:0.005676\tvalidation_1-logloss:0.016804\n",
      "[61]\tvalidation_0-error:0.000496\tvalidation_0-logloss:0.005408\tvalidation_1-error:0.005676\tvalidation_1-logloss:0.016692\n",
      "[62]\tvalidation_0-error:0.000496\tvalidation_0-logloss:0.00522\tvalidation_1-error:0.005676\tvalidation_1-logloss:0.01669\n",
      "[63]\tvalidation_0-error:0.000496\tvalidation_0-logloss:0.005042\tvalidation_1-error:0.00556\tvalidation_1-logloss:0.016595\n",
      "[64]\tvalidation_0-error:0.000496\tvalidation_0-logloss:0.004876\tvalidation_1-error:0.005444\tvalidation_1-logloss:0.016551\n",
      "[65]\tvalidation_0-error:0.000447\tvalidation_0-logloss:0.004714\tvalidation_1-error:0.00556\tvalidation_1-logloss:0.016498\n",
      "[66]\tvalidation_0-error:0.000447\tvalidation_0-logloss:0.004578\tvalidation_1-error:0.00556\tvalidation_1-logloss:0.016491\n",
      "[67]\tvalidation_0-error:0.000447\tvalidation_0-logloss:0.004449\tvalidation_1-error:0.005444\tvalidation_1-logloss:0.016466\n",
      "[68]\tvalidation_0-error:0.000447\tvalidation_0-logloss:0.004325\tvalidation_1-error:0.005444\tvalidation_1-logloss:0.016466\n"
     ]
    },
    {
     "name": "stdout",
     "output_type": "stream",
     "text": [
      "[69]\tvalidation_0-error:0.000447\tvalidation_0-logloss:0.004207\tvalidation_1-error:0.005676\tvalidation_1-logloss:0.016464\n",
      "[70]\tvalidation_0-error:0.000447\tvalidation_0-logloss:0.00411\tvalidation_1-error:0.00556\tvalidation_1-logloss:0.016436\n",
      "[71]\tvalidation_0-error:0.000447\tvalidation_0-logloss:0.004012\tvalidation_1-error:0.00556\tvalidation_1-logloss:0.01646\n",
      "[72]\tvalidation_0-error:0.000447\tvalidation_0-logloss:0.003931\tvalidation_1-error:0.005676\tvalidation_1-logloss:0.016382\n",
      "[73]\tvalidation_0-error:0.000348\tvalidation_0-logloss:0.003835\tvalidation_1-error:0.005676\tvalidation_1-logloss:0.016394\n",
      "[74]\tvalidation_0-error:0.000298\tvalidation_0-logloss:0.003721\tvalidation_1-error:0.00556\tvalidation_1-logloss:0.016388\n",
      "[75]\tvalidation_0-error:0.000248\tvalidation_0-logloss:0.003624\tvalidation_1-error:0.005676\tvalidation_1-logloss:0.016397\n",
      "[76]\tvalidation_0-error:0.000248\tvalidation_0-logloss:0.003542\tvalidation_1-error:0.005676\tvalidation_1-logloss:0.016424\n",
      "[77]\tvalidation_0-error:0.000248\tvalidation_0-logloss:0.003469\tvalidation_1-error:0.00556\tvalidation_1-logloss:0.016409\n",
      "[78]\tvalidation_0-error:0.000248\tvalidation_0-logloss:0.003391\tvalidation_1-error:0.005676\tvalidation_1-logloss:0.016392\n",
      "[79]\tvalidation_0-error:0.000248\tvalidation_0-logloss:0.003333\tvalidation_1-error:0.005792\tvalidation_1-logloss:0.016376\n",
      "[80]\tvalidation_0-error:0.000248\tvalidation_0-logloss:0.003257\tvalidation_1-error:0.005676\tvalidation_1-logloss:0.016426\n",
      "[81]\tvalidation_0-error:0.000248\tvalidation_0-logloss:0.003194\tvalidation_1-error:0.005676\tvalidation_1-logloss:0.016475\n",
      "[82]\tvalidation_0-error:0.000199\tvalidation_0-logloss:0.003123\tvalidation_1-error:0.005676\tvalidation_1-logloss:0.016509\n",
      "[83]\tvalidation_0-error:0.000199\tvalidation_0-logloss:0.003066\tvalidation_1-error:0.005792\tvalidation_1-logloss:0.016546\n",
      "[84]\tvalidation_0-error:0.000199\tvalidation_0-logloss:0.00301\tvalidation_1-error:0.005792\tvalidation_1-logloss:0.016523\n",
      "[85]\tvalidation_0-error:0.000199\tvalidation_0-logloss:0.002959\tvalidation_1-error:0.005676\tvalidation_1-logloss:0.016454\n",
      "[86]\tvalidation_0-error:0.000199\tvalidation_0-logloss:0.00291\tvalidation_1-error:0.005792\tvalidation_1-logloss:0.016451\n",
      "[87]\tvalidation_0-error:0.000199\tvalidation_0-logloss:0.00286\tvalidation_1-error:0.005792\tvalidation_1-logloss:0.016556\n",
      "[88]\tvalidation_0-error:0.000199\tvalidation_0-logloss:0.002815\tvalidation_1-error:0.005676\tvalidation_1-logloss:0.016578\n",
      "[89]\tvalidation_0-error:0.000199\tvalidation_0-logloss:0.00277\tvalidation_1-error:0.005676\tvalidation_1-logloss:0.016603\n",
      "[90]\tvalidation_0-error:0.000199\tvalidation_0-logloss:0.002728\tvalidation_1-error:0.005792\tvalidation_1-logloss:0.016682\n",
      "[91]\tvalidation_0-error:0.000199\tvalidation_0-logloss:0.002684\tvalidation_1-error:0.005792\tvalidation_1-logloss:0.016714\n",
      "[92]\tvalidation_0-error:0.000149\tvalidation_0-logloss:0.002648\tvalidation_1-error:0.005792\tvalidation_1-logloss:0.016807\n",
      "[93]\tvalidation_0-error:0.000149\tvalidation_0-logloss:0.002611\tvalidation_1-error:0.005792\tvalidation_1-logloss:0.016826\n",
      "[94]\tvalidation_0-error:0.000149\tvalidation_0-logloss:0.002579\tvalidation_1-error:0.005676\tvalidation_1-logloss:0.016824\n",
      "[95]\tvalidation_0-error:0.000149\tvalidation_0-logloss:0.002541\tvalidation_1-error:0.005792\tvalidation_1-logloss:0.016829\n",
      "[96]\tvalidation_0-error:0.000149\tvalidation_0-logloss:0.002515\tvalidation_1-error:0.005792\tvalidation_1-logloss:0.016883\n",
      "[97]\tvalidation_0-error:0.000149\tvalidation_0-logloss:0.002486\tvalidation_1-error:0.005792\tvalidation_1-logloss:0.016862\n",
      "[98]\tvalidation_0-error:0.000149\tvalidation_0-logloss:0.002451\tvalidation_1-error:0.005792\tvalidation_1-logloss:0.016895\n",
      "[99]\tvalidation_0-error:0.000149\tvalidation_0-logloss:0.002415\tvalidation_1-error:0.005792\tvalidation_1-logloss:0.016896\n",
      "[100]\tvalidation_0-error:0.000149\tvalidation_0-logloss:0.00238\tvalidation_1-error:0.005792\tvalidation_1-logloss:0.01692\n",
      "[101]\tvalidation_0-error:0.000149\tvalidation_0-logloss:0.002352\tvalidation_1-error:0.005792\tvalidation_1-logloss:0.01686\n",
      "[102]\tvalidation_0-error:9.9e-05\tvalidation_0-logloss:0.00232\tvalidation_1-error:0.005792\tvalidation_1-logloss:0.016885\n",
      "[103]\tvalidation_0-error:9.9e-05\tvalidation_0-logloss:0.002299\tvalidation_1-error:0.005792\tvalidation_1-logloss:0.01686\n",
      "[104]\tvalidation_0-error:9.9e-05\tvalidation_0-logloss:0.002269\tvalidation_1-error:0.005792\tvalidation_1-logloss:0.016902\n",
      "[105]\tvalidation_0-error:5e-05\tvalidation_0-logloss:0.002242\tvalidation_1-error:0.005792\tvalidation_1-logloss:0.016877\n",
      "[106]\tvalidation_0-error:5e-05\tvalidation_0-logloss:0.002216\tvalidation_1-error:0.005676\tvalidation_1-logloss:0.016956\n",
      "[107]\tvalidation_0-error:5e-05\tvalidation_0-logloss:0.002193\tvalidation_1-error:0.005676\tvalidation_1-logloss:0.016947\n",
      "[108]\tvalidation_0-error:5e-05\tvalidation_0-logloss:0.002169\tvalidation_1-error:0.005676\tvalidation_1-logloss:0.016963\n",
      "[109]\tvalidation_0-error:5e-05\tvalidation_0-logloss:0.002143\tvalidation_1-error:0.005676\tvalidation_1-logloss:0.016917\n",
      "[110]\tvalidation_0-error:5e-05\tvalidation_0-logloss:0.002117\tvalidation_1-error:0.005676\tvalidation_1-logloss:0.016978\n",
      "[111]\tvalidation_0-error:5e-05\tvalidation_0-logloss:0.002097\tvalidation_1-error:0.005676\tvalidation_1-logloss:0.017003\n",
      "[112]\tvalidation_0-error:5e-05\tvalidation_0-logloss:0.002072\tvalidation_1-error:0.005676\tvalidation_1-logloss:0.017003\n",
      "[113]\tvalidation_0-error:5e-05\tvalidation_0-logloss:0.00205\tvalidation_1-error:0.005676\tvalidation_1-logloss:0.016987\n",
      "[114]\tvalidation_0-error:5e-05\tvalidation_0-logloss:0.002026\tvalidation_1-error:0.005676\tvalidation_1-logloss:0.017011\n",
      "[115]\tvalidation_0-error:5e-05\tvalidation_0-logloss:0.002006\tvalidation_1-error:0.005676\tvalidation_1-logloss:0.017018\n",
      "[116]\tvalidation_0-error:5e-05\tvalidation_0-logloss:0.001982\tvalidation_1-error:0.005676\tvalidation_1-logloss:0.017056\n",
      "[117]\tvalidation_0-error:5e-05\tvalidation_0-logloss:0.001965\tvalidation_1-error:0.005676\tvalidation_1-logloss:0.017096\n",
      "[118]\tvalidation_0-error:5e-05\tvalidation_0-logloss:0.001945\tvalidation_1-error:0.005676\tvalidation_1-logloss:0.017079\n",
      "[119]\tvalidation_0-error:5e-05\tvalidation_0-logloss:0.001922\tvalidation_1-error:0.005676\tvalidation_1-logloss:0.017097\n",
      "[120]\tvalidation_0-error:5e-05\tvalidation_0-logloss:0.001904\tvalidation_1-error:0.005676\tvalidation_1-logloss:0.017121\n",
      "[121]\tvalidation_0-error:5e-05\tvalidation_0-logloss:0.001882\tvalidation_1-error:0.005676\tvalidation_1-logloss:0.017141\n",
      "[122]\tvalidation_0-error:5e-05\tvalidation_0-logloss:0.001863\tvalidation_1-error:0.005676\tvalidation_1-logloss:0.017101\n",
      "[123]\tvalidation_0-error:5e-05\tvalidation_0-logloss:0.001845\tvalidation_1-error:0.005676\tvalidation_1-logloss:0.017121\n",
      "[124]\tvalidation_0-error:5e-05\tvalidation_0-logloss:0.001826\tvalidation_1-error:0.005676\tvalidation_1-logloss:0.017098\n",
      "[125]\tvalidation_0-error:5e-05\tvalidation_0-logloss:0.001812\tvalidation_1-error:0.005676\tvalidation_1-logloss:0.017133\n",
      "[126]\tvalidation_0-error:5e-05\tvalidation_0-logloss:0.001795\tvalidation_1-error:0.005676\tvalidation_1-logloss:0.017138\n",
      "[127]\tvalidation_0-error:5e-05\tvalidation_0-logloss:0.001777\tvalidation_1-error:0.005676\tvalidation_1-logloss:0.017168\n",
      "[128]\tvalidation_0-error:5e-05\tvalidation_0-logloss:0.001762\tvalidation_1-error:0.005676\tvalidation_1-logloss:0.017174\n",
      "[129]\tvalidation_0-error:5e-05\tvalidation_0-logloss:0.00175\tvalidation_1-error:0.005676\tvalidation_1-logloss:0.017218\n",
      "[130]\tvalidation_0-error:5e-05\tvalidation_0-logloss:0.001734\tvalidation_1-error:0.005676\tvalidation_1-logloss:0.017232\n",
      "[131]\tvalidation_0-error:5e-05\tvalidation_0-logloss:0.001722\tvalidation_1-error:0.005676\tvalidation_1-logloss:0.01724\n",
      "[132]\tvalidation_0-error:0\tvalidation_0-logloss:0.001708\tvalidation_1-error:0.005676\tvalidation_1-logloss:0.017273\n",
      "[133]\tvalidation_0-error:0\tvalidation_0-logloss:0.001697\tvalidation_1-error:0.005676\tvalidation_1-logloss:0.017289\n",
      "[134]\tvalidation_0-error:0\tvalidation_0-logloss:0.001684\tvalidation_1-error:0.005676\tvalidation_1-logloss:0.017315\n",
      "[135]\tvalidation_0-error:0\tvalidation_0-logloss:0.001668\tvalidation_1-error:0.005676\tvalidation_1-logloss:0.017331\n",
      "[136]\tvalidation_0-error:0\tvalidation_0-logloss:0.001654\tvalidation_1-error:0.005676\tvalidation_1-logloss:0.017358\n",
      "[137]\tvalidation_0-error:0\tvalidation_0-logloss:0.001644\tvalidation_1-error:0.005676\tvalidation_1-logloss:0.017375\n"
     ]
    },
    {
     "name": "stdout",
     "output_type": "stream",
     "text": [
      "[138]\tvalidation_0-error:0\tvalidation_0-logloss:0.001631\tvalidation_1-error:0.00556\tvalidation_1-logloss:0.017403\n",
      "[139]\tvalidation_0-error:0\tvalidation_0-logloss:0.001622\tvalidation_1-error:0.005676\tvalidation_1-logloss:0.017421\n",
      "[140]\tvalidation_0-error:0\tvalidation_0-logloss:0.001609\tvalidation_1-error:0.00556\tvalidation_1-logloss:0.017437\n",
      "[141]\tvalidation_0-error:0\tvalidation_0-logloss:0.001596\tvalidation_1-error:0.005676\tvalidation_1-logloss:0.017476\n",
      "[142]\tvalidation_0-error:0\tvalidation_0-logloss:0.001584\tvalidation_1-error:0.00556\tvalidation_1-logloss:0.017464\n",
      "[143]\tvalidation_0-error:0\tvalidation_0-logloss:0.00157\tvalidation_1-error:0.00556\tvalidation_1-logloss:0.017435\n",
      "[144]\tvalidation_0-error:0\tvalidation_0-logloss:0.001562\tvalidation_1-error:0.00556\tvalidation_1-logloss:0.017404\n",
      "[145]\tvalidation_0-error:0\tvalidation_0-logloss:0.001551\tvalidation_1-error:0.00556\tvalidation_1-logloss:0.017414\n",
      "[146]\tvalidation_0-error:0\tvalidation_0-logloss:0.001542\tvalidation_1-error:0.00556\tvalidation_1-logloss:0.017423\n",
      "[147]\tvalidation_0-error:0\tvalidation_0-logloss:0.001528\tvalidation_1-error:0.00556\tvalidation_1-logloss:0.017442\n",
      "[148]\tvalidation_0-error:0\tvalidation_0-logloss:0.001517\tvalidation_1-error:0.005676\tvalidation_1-logloss:0.01744\n",
      "[149]\tvalidation_0-error:0\tvalidation_0-logloss:0.001506\tvalidation_1-error:0.005676\tvalidation_1-logloss:0.017427\n",
      "[150]\tvalidation_0-error:0\tvalidation_0-logloss:0.001499\tvalidation_1-error:0.00556\tvalidation_1-logloss:0.017449\n",
      "[151]\tvalidation_0-error:0\tvalidation_0-logloss:0.00149\tvalidation_1-error:0.005676\tvalidation_1-logloss:0.017449\n",
      "[152]\tvalidation_0-error:0\tvalidation_0-logloss:0.001479\tvalidation_1-error:0.00556\tvalidation_1-logloss:0.017444\n",
      "[153]\tvalidation_0-error:0\tvalidation_0-logloss:0.001468\tvalidation_1-error:0.005676\tvalidation_1-logloss:0.017467\n",
      "[154]\tvalidation_0-error:0\tvalidation_0-logloss:0.001459\tvalidation_1-error:0.005676\tvalidation_1-logloss:0.017479\n",
      "[155]\tvalidation_0-error:0\tvalidation_0-logloss:0.001448\tvalidation_1-error:0.005676\tvalidation_1-logloss:0.01749\n",
      "[156]\tvalidation_0-error:0\tvalidation_0-logloss:0.001439\tvalidation_1-error:0.005676\tvalidation_1-logloss:0.017491\n",
      "[157]\tvalidation_0-error:0\tvalidation_0-logloss:0.00143\tvalidation_1-error:0.005676\tvalidation_1-logloss:0.017522\n",
      "[158]\tvalidation_0-error:0\tvalidation_0-logloss:0.001423\tvalidation_1-error:0.005676\tvalidation_1-logloss:0.017509\n",
      "[159]\tvalidation_0-error:0\tvalidation_0-logloss:0.001412\tvalidation_1-error:0.005676\tvalidation_1-logloss:0.017518\n",
      "[160]\tvalidation_0-error:0\tvalidation_0-logloss:0.001404\tvalidation_1-error:0.005676\tvalidation_1-logloss:0.017495\n",
      "[161]\tvalidation_0-error:0\tvalidation_0-logloss:0.001394\tvalidation_1-error:0.005676\tvalidation_1-logloss:0.017536\n",
      "[162]\tvalidation_0-error:0\tvalidation_0-logloss:0.001387\tvalidation_1-error:0.005676\tvalidation_1-logloss:0.01758\n",
      "[163]\tvalidation_0-error:0\tvalidation_0-logloss:0.00138\tvalidation_1-error:0.005676\tvalidation_1-logloss:0.017585\n",
      "[164]\tvalidation_0-error:0\tvalidation_0-logloss:0.001372\tvalidation_1-error:0.00556\tvalidation_1-logloss:0.017608\n",
      "[165]\tvalidation_0-error:0\tvalidation_0-logloss:0.001363\tvalidation_1-error:0.00556\tvalidation_1-logloss:0.017672\n",
      "[166]\tvalidation_0-error:0\tvalidation_0-logloss:0.001355\tvalidation_1-error:0.00556\tvalidation_1-logloss:0.017703\n",
      "[167]\tvalidation_0-error:0\tvalidation_0-logloss:0.001348\tvalidation_1-error:0.00556\tvalidation_1-logloss:0.017708\n",
      "[168]\tvalidation_0-error:0\tvalidation_0-logloss:0.001341\tvalidation_1-error:0.00556\tvalidation_1-logloss:0.01774\n",
      "[169]\tvalidation_0-error:0\tvalidation_0-logloss:0.001331\tvalidation_1-error:0.00556\tvalidation_1-logloss:0.017774\n",
      "[170]\tvalidation_0-error:0\tvalidation_0-logloss:0.001324\tvalidation_1-error:0.00556\tvalidation_1-logloss:0.017756\n",
      "[171]\tvalidation_0-error:0\tvalidation_0-logloss:0.001318\tvalidation_1-error:0.00556\tvalidation_1-logloss:0.01773\n",
      "[172]\tvalidation_0-error:0\tvalidation_0-logloss:0.001311\tvalidation_1-error:0.00556\tvalidation_1-logloss:0.017774\n",
      "[173]\tvalidation_0-error:0\tvalidation_0-logloss:0.001304\tvalidation_1-error:0.00556\tvalidation_1-logloss:0.017804\n",
      "[174]\tvalidation_0-error:0\tvalidation_0-logloss:0.001296\tvalidation_1-error:0.00556\tvalidation_1-logloss:0.017828\n",
      "[175]\tvalidation_0-error:0\tvalidation_0-logloss:0.00129\tvalidation_1-error:0.00556\tvalidation_1-logloss:0.017888\n",
      "[176]\tvalidation_0-error:0\tvalidation_0-logloss:0.001282\tvalidation_1-error:0.00556\tvalidation_1-logloss:0.017886\n",
      "[177]\tvalidation_0-error:0\tvalidation_0-logloss:0.001277\tvalidation_1-error:0.00556\tvalidation_1-logloss:0.017873\n",
      "[178]\tvalidation_0-error:0\tvalidation_0-logloss:0.00127\tvalidation_1-error:0.00556\tvalidation_1-logloss:0.017909\n",
      "[179]\tvalidation_0-error:0\tvalidation_0-logloss:0.001264\tvalidation_1-error:0.00556\tvalidation_1-logloss:0.017897\n",
      "[180]\tvalidation_0-error:0\tvalidation_0-logloss:0.001258\tvalidation_1-error:0.00556\tvalidation_1-logloss:0.017883\n",
      "[181]\tvalidation_0-error:0\tvalidation_0-logloss:0.001252\tvalidation_1-error:0.00556\tvalidation_1-logloss:0.017869\n",
      "[182]\tvalidation_0-error:0\tvalidation_0-logloss:0.001246\tvalidation_1-error:0.00556\tvalidation_1-logloss:0.017887\n",
      "[183]\tvalidation_0-error:0\tvalidation_0-logloss:0.001241\tvalidation_1-error:0.00556\tvalidation_1-logloss:0.017899\n",
      "[184]\tvalidation_0-error:0\tvalidation_0-logloss:0.001234\tvalidation_1-error:0.00556\tvalidation_1-logloss:0.017888\n",
      "[185]\tvalidation_0-error:0\tvalidation_0-logloss:0.001227\tvalidation_1-error:0.00556\tvalidation_1-logloss:0.017893\n",
      "[186]\tvalidation_0-error:0\tvalidation_0-logloss:0.001222\tvalidation_1-error:0.00556\tvalidation_1-logloss:0.017876\n",
      "[187]\tvalidation_0-error:0\tvalidation_0-logloss:0.001214\tvalidation_1-error:0.00556\tvalidation_1-logloss:0.017862\n",
      "[188]\tvalidation_0-error:0\tvalidation_0-logloss:0.001209\tvalidation_1-error:0.00556\tvalidation_1-logloss:0.017849\n",
      "[189]\tvalidation_0-error:0\tvalidation_0-logloss:0.001203\tvalidation_1-error:0.00556\tvalidation_1-logloss:0.017847\n",
      "[190]\tvalidation_0-error:0\tvalidation_0-logloss:0.0012\tvalidation_1-error:0.00556\tvalidation_1-logloss:0.017833\n",
      "[191]\tvalidation_0-error:0\tvalidation_0-logloss:0.001195\tvalidation_1-error:0.00556\tvalidation_1-logloss:0.017871\n",
      "[192]\tvalidation_0-error:0\tvalidation_0-logloss:0.001189\tvalidation_1-error:0.00556\tvalidation_1-logloss:0.017891\n",
      "[193]\tvalidation_0-error:0\tvalidation_0-logloss:0.001183\tvalidation_1-error:0.00556\tvalidation_1-logloss:0.017933\n",
      "[194]\tvalidation_0-error:0\tvalidation_0-logloss:0.001177\tvalidation_1-error:0.00556\tvalidation_1-logloss:0.017941\n",
      "[195]\tvalidation_0-error:0\tvalidation_0-logloss:0.001172\tvalidation_1-error:0.00556\tvalidation_1-logloss:0.017962\n",
      "[196]\tvalidation_0-error:0\tvalidation_0-logloss:0.001167\tvalidation_1-error:0.00556\tvalidation_1-logloss:0.018005\n",
      "[197]\tvalidation_0-error:0\tvalidation_0-logloss:0.001162\tvalidation_1-error:0.00556\tvalidation_1-logloss:0.017999\n",
      "[198]\tvalidation_0-error:0\tvalidation_0-logloss:0.001157\tvalidation_1-error:0.00556\tvalidation_1-logloss:0.017977\n",
      "[199]\tvalidation_0-error:0\tvalidation_0-logloss:0.001151\tvalidation_1-error:0.00556\tvalidation_1-logloss:0.017995\n",
      "[200]\tvalidation_0-error:0\tvalidation_0-logloss:0.001145\tvalidation_1-error:0.00556\tvalidation_1-logloss:0.017988\n",
      "[201]\tvalidation_0-error:0\tvalidation_0-logloss:0.00114\tvalidation_1-error:0.00556\tvalidation_1-logloss:0.018002\n",
      "[202]\tvalidation_0-error:0\tvalidation_0-logloss:0.001134\tvalidation_1-error:0.00556\tvalidation_1-logloss:0.017993\n",
      "[203]\tvalidation_0-error:0\tvalidation_0-logloss:0.001129\tvalidation_1-error:0.00556\tvalidation_1-logloss:0.018007\n",
      "[204]\tvalidation_0-error:0\tvalidation_0-logloss:0.001124\tvalidation_1-error:0.00556\tvalidation_1-logloss:0.018017\n",
      "[205]\tvalidation_0-error:0\tvalidation_0-logloss:0.001117\tvalidation_1-error:0.00556\tvalidation_1-logloss:0.018056\n",
      "[206]\tvalidation_0-error:0\tvalidation_0-logloss:0.001112\tvalidation_1-error:0.00556\tvalidation_1-logloss:0.01809\n",
      "[207]\tvalidation_0-error:0\tvalidation_0-logloss:0.001108\tvalidation_1-error:0.00556\tvalidation_1-logloss:0.018135\n",
      "[208]\tvalidation_0-error:0\tvalidation_0-logloss:0.001105\tvalidation_1-error:0.00556\tvalidation_1-logloss:0.018118\n",
      "[209]\tvalidation_0-error:0\tvalidation_0-logloss:0.0011\tvalidation_1-error:0.00556\tvalidation_1-logloss:0.018126\n"
     ]
    },
    {
     "name": "stdout",
     "output_type": "stream",
     "text": [
      "[210]\tvalidation_0-error:0\tvalidation_0-logloss:0.001096\tvalidation_1-error:0.00556\tvalidation_1-logloss:0.018083\n",
      "[211]\tvalidation_0-error:0\tvalidation_0-logloss:0.001092\tvalidation_1-error:0.00556\tvalidation_1-logloss:0.018056\n",
      "[212]\tvalidation_0-error:0\tvalidation_0-logloss:0.001087\tvalidation_1-error:0.00556\tvalidation_1-logloss:0.018068\n",
      "[213]\tvalidation_0-error:0\tvalidation_0-logloss:0.001083\tvalidation_1-error:0.00556\tvalidation_1-logloss:0.018099\n",
      "[214]\tvalidation_0-error:0\tvalidation_0-logloss:0.001079\tvalidation_1-error:0.00556\tvalidation_1-logloss:0.0181\n",
      "[215]\tvalidation_0-error:0\tvalidation_0-logloss:0.001071\tvalidation_1-error:0.00556\tvalidation_1-logloss:0.018104\n",
      "[216]\tvalidation_0-error:0\tvalidation_0-logloss:0.001067\tvalidation_1-error:0.00556\tvalidation_1-logloss:0.01815\n",
      "[217]\tvalidation_0-error:0\tvalidation_0-logloss:0.001064\tvalidation_1-error:0.00556\tvalidation_1-logloss:0.018109\n",
      "[218]\tvalidation_0-error:0\tvalidation_0-logloss:0.00106\tvalidation_1-error:0.00556\tvalidation_1-logloss:0.018139\n",
      "[219]\tvalidation_0-error:0\tvalidation_0-logloss:0.001058\tvalidation_1-error:0.00556\tvalidation_1-logloss:0.018174\n",
      "[220]\tvalidation_0-error:0\tvalidation_0-logloss:0.001055\tvalidation_1-error:0.00556\tvalidation_1-logloss:0.018188\n",
      "[221]\tvalidation_0-error:0\tvalidation_0-logloss:0.001052\tvalidation_1-error:0.00556\tvalidation_1-logloss:0.018187\n",
      "[222]\tvalidation_0-error:0\tvalidation_0-logloss:0.001047\tvalidation_1-error:0.00556\tvalidation_1-logloss:0.018208\n",
      "[223]\tvalidation_0-error:0\tvalidation_0-logloss:0.001043\tvalidation_1-error:0.00556\tvalidation_1-logloss:0.018214\n",
      "[224]\tvalidation_0-error:0\tvalidation_0-logloss:0.001039\tvalidation_1-error:0.00556\tvalidation_1-logloss:0.018197\n",
      "[225]\tvalidation_0-error:0\tvalidation_0-logloss:0.001036\tvalidation_1-error:0.00556\tvalidation_1-logloss:0.018212\n",
      "[226]\tvalidation_0-error:0\tvalidation_0-logloss:0.001033\tvalidation_1-error:0.00556\tvalidation_1-logloss:0.018227\n",
      "[227]\tvalidation_0-error:0\tvalidation_0-logloss:0.001029\tvalidation_1-error:0.00556\tvalidation_1-logloss:0.018198\n",
      "[228]\tvalidation_0-error:0\tvalidation_0-logloss:0.001026\tvalidation_1-error:0.00556\tvalidation_1-logloss:0.018183\n",
      "[229]\tvalidation_0-error:0\tvalidation_0-logloss:0.001022\tvalidation_1-error:0.00556\tvalidation_1-logloss:0.018164\n",
      "[230]\tvalidation_0-error:0\tvalidation_0-logloss:0.001018\tvalidation_1-error:0.00556\tvalidation_1-logloss:0.018148\n",
      "[231]\tvalidation_0-error:0\tvalidation_0-logloss:0.001015\tvalidation_1-error:0.00556\tvalidation_1-logloss:0.018191\n",
      "[232]\tvalidation_0-error:0\tvalidation_0-logloss:0.00101\tvalidation_1-error:0.00556\tvalidation_1-logloss:0.018165\n",
      "[233]\tvalidation_0-error:0\tvalidation_0-logloss:0.001008\tvalidation_1-error:0.00556\tvalidation_1-logloss:0.018174\n",
      "[234]\tvalidation_0-error:0\tvalidation_0-logloss:0.001004\tvalidation_1-error:0.00556\tvalidation_1-logloss:0.018205\n",
      "[235]\tvalidation_0-error:0\tvalidation_0-logloss:0.001\tvalidation_1-error:0.00556\tvalidation_1-logloss:0.018227\n",
      "[236]\tvalidation_0-error:0\tvalidation_0-logloss:0.000998\tvalidation_1-error:0.00556\tvalidation_1-logloss:0.018245\n",
      "[237]\tvalidation_0-error:0\tvalidation_0-logloss:0.000993\tvalidation_1-error:0.00556\tvalidation_1-logloss:0.018279\n",
      "[238]\tvalidation_0-error:0\tvalidation_0-logloss:0.00099\tvalidation_1-error:0.00556\tvalidation_1-logloss:0.01829\n",
      "[239]\tvalidation_0-error:0\tvalidation_0-logloss:0.000986\tvalidation_1-error:0.00556\tvalidation_1-logloss:0.018267\n",
      "[240]\tvalidation_0-error:0\tvalidation_0-logloss:0.000982\tvalidation_1-error:0.00556\tvalidation_1-logloss:0.018263\n",
      "[241]\tvalidation_0-error:0\tvalidation_0-logloss:0.00098\tvalidation_1-error:0.00556\tvalidation_1-logloss:0.018285\n",
      "[242]\tvalidation_0-error:0\tvalidation_0-logloss:0.000977\tvalidation_1-error:0.00556\tvalidation_1-logloss:0.018269\n",
      "[243]\tvalidation_0-error:0\tvalidation_0-logloss:0.000974\tvalidation_1-error:0.00556\tvalidation_1-logloss:0.018282\n",
      "[244]\tvalidation_0-error:0\tvalidation_0-logloss:0.00097\tvalidation_1-error:0.00556\tvalidation_1-logloss:0.018307\n",
      "[245]\tvalidation_0-error:0\tvalidation_0-logloss:0.000967\tvalidation_1-error:0.00556\tvalidation_1-logloss:0.01831\n",
      "[246]\tvalidation_0-error:0\tvalidation_0-logloss:0.000965\tvalidation_1-error:0.00556\tvalidation_1-logloss:0.018318\n",
      "[247]\tvalidation_0-error:0\tvalidation_0-logloss:0.000961\tvalidation_1-error:0.00556\tvalidation_1-logloss:0.018344\n",
      "[248]\tvalidation_0-error:0\tvalidation_0-logloss:0.000958\tvalidation_1-error:0.00556\tvalidation_1-logloss:0.018363\n",
      "[249]\tvalidation_0-error:0\tvalidation_0-logloss:0.000955\tvalidation_1-error:0.00556\tvalidation_1-logloss:0.018384\n",
      "[250]\tvalidation_0-error:0\tvalidation_0-logloss:0.000952\tvalidation_1-error:0.00556\tvalidation_1-logloss:0.018412\n",
      "[251]\tvalidation_0-error:0\tvalidation_0-logloss:0.000949\tvalidation_1-error:0.00556\tvalidation_1-logloss:0.018405\n",
      "[252]\tvalidation_0-error:0\tvalidation_0-logloss:0.000946\tvalidation_1-error:0.00556\tvalidation_1-logloss:0.018414\n",
      "[253]\tvalidation_0-error:0\tvalidation_0-logloss:0.000943\tvalidation_1-error:0.00556\tvalidation_1-logloss:0.018403\n",
      "[254]\tvalidation_0-error:0\tvalidation_0-logloss:0.000939\tvalidation_1-error:0.00556\tvalidation_1-logloss:0.018416\n",
      "[255]\tvalidation_0-error:0\tvalidation_0-logloss:0.000936\tvalidation_1-error:0.00556\tvalidation_1-logloss:0.018415\n",
      "[256]\tvalidation_0-error:0\tvalidation_0-logloss:0.000934\tvalidation_1-error:0.00556\tvalidation_1-logloss:0.018441\n",
      "[257]\tvalidation_0-error:0\tvalidation_0-logloss:0.000931\tvalidation_1-error:0.00556\tvalidation_1-logloss:0.018408\n",
      "[258]\tvalidation_0-error:0\tvalidation_0-logloss:0.000928\tvalidation_1-error:0.00556\tvalidation_1-logloss:0.018436\n",
      "[259]\tvalidation_0-error:0\tvalidation_0-logloss:0.000926\tvalidation_1-error:0.00556\tvalidation_1-logloss:0.01845\n",
      "[260]\tvalidation_0-error:0\tvalidation_0-logloss:0.000923\tvalidation_1-error:0.00556\tvalidation_1-logloss:0.018442\n",
      "[261]\tvalidation_0-error:0\tvalidation_0-logloss:0.00092\tvalidation_1-error:0.00556\tvalidation_1-logloss:0.018462\n",
      "[262]\tvalidation_0-error:0\tvalidation_0-logloss:0.000918\tvalidation_1-error:0.00556\tvalidation_1-logloss:0.018465\n",
      "[263]\tvalidation_0-error:0\tvalidation_0-logloss:0.000915\tvalidation_1-error:0.00556\tvalidation_1-logloss:0.018436\n",
      "[264]\tvalidation_0-error:0\tvalidation_0-logloss:0.000912\tvalidation_1-error:0.00556\tvalidation_1-logloss:0.018434\n",
      "[265]\tvalidation_0-error:0\tvalidation_0-logloss:0.00091\tvalidation_1-error:0.00556\tvalidation_1-logloss:0.018434\n",
      "[266]\tvalidation_0-error:0\tvalidation_0-logloss:0.000907\tvalidation_1-error:0.00556\tvalidation_1-logloss:0.018439\n",
      "[267]\tvalidation_0-error:0\tvalidation_0-logloss:0.000904\tvalidation_1-error:0.00556\tvalidation_1-logloss:0.018446\n",
      "[268]\tvalidation_0-error:0\tvalidation_0-logloss:0.000902\tvalidation_1-error:0.00556\tvalidation_1-logloss:0.018434\n",
      "[269]\tvalidation_0-error:0\tvalidation_0-logloss:0.0009\tvalidation_1-error:0.00556\tvalidation_1-logloss:0.018466\n",
      "[270]\tvalidation_0-error:0\tvalidation_0-logloss:0.000897\tvalidation_1-error:0.00556\tvalidation_1-logloss:0.018477\n",
      "[271]\tvalidation_0-error:0\tvalidation_0-logloss:0.000895\tvalidation_1-error:0.00556\tvalidation_1-logloss:0.018459\n",
      "[272]\tvalidation_0-error:0\tvalidation_0-logloss:0.000892\tvalidation_1-error:0.00556\tvalidation_1-logloss:0.018477\n",
      "[273]\tvalidation_0-error:0\tvalidation_0-logloss:0.00089\tvalidation_1-error:0.00556\tvalidation_1-logloss:0.01849\n",
      "[274]\tvalidation_0-error:0\tvalidation_0-logloss:0.000888\tvalidation_1-error:0.00556\tvalidation_1-logloss:0.018466\n",
      "[275]\tvalidation_0-error:0\tvalidation_0-logloss:0.000886\tvalidation_1-error:0.00556\tvalidation_1-logloss:0.018476\n",
      "[276]\tvalidation_0-error:0\tvalidation_0-logloss:0.000883\tvalidation_1-error:0.00556\tvalidation_1-logloss:0.018447\n",
      "[277]\tvalidation_0-error:0\tvalidation_0-logloss:0.000881\tvalidation_1-error:0.00556\tvalidation_1-logloss:0.018424\n",
      "[278]\tvalidation_0-error:0\tvalidation_0-logloss:0.000879\tvalidation_1-error:0.00556\tvalidation_1-logloss:0.018452\n",
      "[279]\tvalidation_0-error:0\tvalidation_0-logloss:0.000877\tvalidation_1-error:0.00556\tvalidation_1-logloss:0.018453\n",
      "[280]\tvalidation_0-error:0\tvalidation_0-logloss:0.000875\tvalidation_1-error:0.00556\tvalidation_1-logloss:0.018446\n",
      "[281]\tvalidation_0-error:0\tvalidation_0-logloss:0.000872\tvalidation_1-error:0.00556\tvalidation_1-logloss:0.018444\n",
      "[282]\tvalidation_0-error:0\tvalidation_0-logloss:0.00087\tvalidation_1-error:0.00556\tvalidation_1-logloss:0.018467\n"
     ]
    },
    {
     "name": "stdout",
     "output_type": "stream",
     "text": [
      "[283]\tvalidation_0-error:0\tvalidation_0-logloss:0.000867\tvalidation_1-error:0.00556\tvalidation_1-logloss:0.01844\n",
      "[284]\tvalidation_0-error:0\tvalidation_0-logloss:0.000865\tvalidation_1-error:0.00556\tvalidation_1-logloss:0.018472\n",
      "[285]\tvalidation_0-error:0\tvalidation_0-logloss:0.000862\tvalidation_1-error:0.00556\tvalidation_1-logloss:0.018475\n",
      "[286]\tvalidation_0-error:0\tvalidation_0-logloss:0.00086\tvalidation_1-error:0.00556\tvalidation_1-logloss:0.0185\n",
      "[287]\tvalidation_0-error:0\tvalidation_0-logloss:0.000857\tvalidation_1-error:0.00556\tvalidation_1-logloss:0.0185\n",
      "[288]\tvalidation_0-error:0\tvalidation_0-logloss:0.000855\tvalidation_1-error:0.00556\tvalidation_1-logloss:0.018513\n",
      "[289]\tvalidation_0-error:0\tvalidation_0-logloss:0.000852\tvalidation_1-error:0.00556\tvalidation_1-logloss:0.018514\n",
      "[290]\tvalidation_0-error:0\tvalidation_0-logloss:0.00085\tvalidation_1-error:0.00556\tvalidation_1-logloss:0.018535\n",
      "[291]\tvalidation_0-error:0\tvalidation_0-logloss:0.000847\tvalidation_1-error:0.00556\tvalidation_1-logloss:0.018535\n",
      "[292]\tvalidation_0-error:0\tvalidation_0-logloss:0.000845\tvalidation_1-error:0.00556\tvalidation_1-logloss:0.018528\n",
      "[293]\tvalidation_0-error:0\tvalidation_0-logloss:0.000844\tvalidation_1-error:0.00556\tvalidation_1-logloss:0.018563\n",
      "[294]\tvalidation_0-error:0\tvalidation_0-logloss:0.000842\tvalidation_1-error:0.00556\tvalidation_1-logloss:0.018545\n",
      "[295]\tvalidation_0-error:0\tvalidation_0-logloss:0.000839\tvalidation_1-error:0.00556\tvalidation_1-logloss:0.018568\n",
      "[296]\tvalidation_0-error:0\tvalidation_0-logloss:0.000837\tvalidation_1-error:0.00556\tvalidation_1-logloss:0.018584\n",
      "[297]\tvalidation_0-error:0\tvalidation_0-logloss:0.000835\tvalidation_1-error:0.00556\tvalidation_1-logloss:0.018604\n",
      "[298]\tvalidation_0-error:0\tvalidation_0-logloss:0.000833\tvalidation_1-error:0.00556\tvalidation_1-logloss:0.01863\n",
      "[299]\tvalidation_0-error:0\tvalidation_0-logloss:0.00083\tvalidation_1-error:0.00556\tvalidation_1-logloss:0.018631\n",
      "[300]\tvalidation_0-error:0\tvalidation_0-logloss:0.000829\tvalidation_1-error:0.00556\tvalidation_1-logloss:0.018634\n",
      "[301]\tvalidation_0-error:0\tvalidation_0-logloss:0.000827\tvalidation_1-error:0.00556\tvalidation_1-logloss:0.018672\n",
      "[302]\tvalidation_0-error:0\tvalidation_0-logloss:0.000825\tvalidation_1-error:0.00556\tvalidation_1-logloss:0.018666\n",
      "[303]\tvalidation_0-error:0\tvalidation_0-logloss:0.000823\tvalidation_1-error:0.00556\tvalidation_1-logloss:0.018665\n",
      "[304]\tvalidation_0-error:0\tvalidation_0-logloss:0.000821\tvalidation_1-error:0.00556\tvalidation_1-logloss:0.018662\n",
      "[305]\tvalidation_0-error:0\tvalidation_0-logloss:0.000819\tvalidation_1-error:0.00556\tvalidation_1-logloss:0.018659\n",
      "[306]\tvalidation_0-error:0\tvalidation_0-logloss:0.000818\tvalidation_1-error:0.00556\tvalidation_1-logloss:0.018669\n",
      "[307]\tvalidation_0-error:0\tvalidation_0-logloss:0.000816\tvalidation_1-error:0.00556\tvalidation_1-logloss:0.018671\n",
      "[308]\tvalidation_0-error:0\tvalidation_0-logloss:0.000815\tvalidation_1-error:0.00556\tvalidation_1-logloss:0.018656\n",
      "[309]\tvalidation_0-error:0\tvalidation_0-logloss:0.000812\tvalidation_1-error:0.00556\tvalidation_1-logloss:0.018641\n",
      "[310]\tvalidation_0-error:0\tvalidation_0-logloss:0.00081\tvalidation_1-error:0.00556\tvalidation_1-logloss:0.018641\n",
      "[311]\tvalidation_0-error:0\tvalidation_0-logloss:0.000809\tvalidation_1-error:0.00556\tvalidation_1-logloss:0.018611\n",
      "[312]\tvalidation_0-error:0\tvalidation_0-logloss:0.000808\tvalidation_1-error:0.00556\tvalidation_1-logloss:0.018648\n",
      "[313]\tvalidation_0-error:0\tvalidation_0-logloss:0.000806\tvalidation_1-error:0.00556\tvalidation_1-logloss:0.018635\n",
      "[314]\tvalidation_0-error:0\tvalidation_0-logloss:0.000805\tvalidation_1-error:0.00556\tvalidation_1-logloss:0.018654\n",
      "[315]\tvalidation_0-error:0\tvalidation_0-logloss:0.000802\tvalidation_1-error:0.00556\tvalidation_1-logloss:0.018628\n",
      "[316]\tvalidation_0-error:0\tvalidation_0-logloss:0.0008\tvalidation_1-error:0.00556\tvalidation_1-logloss:0.01863\n",
      "[317]\tvalidation_0-error:0\tvalidation_0-logloss:0.000799\tvalidation_1-error:0.00556\tvalidation_1-logloss:0.018662\n",
      "[318]\tvalidation_0-error:0\tvalidation_0-logloss:0.000798\tvalidation_1-error:0.00556\tvalidation_1-logloss:0.018661\n",
      "[319]\tvalidation_0-error:0\tvalidation_0-logloss:0.000796\tvalidation_1-error:0.00556\tvalidation_1-logloss:0.018648\n",
      "[320]\tvalidation_0-error:0\tvalidation_0-logloss:0.000794\tvalidation_1-error:0.00556\tvalidation_1-logloss:0.018657\n",
      "[321]\tvalidation_0-error:0\tvalidation_0-logloss:0.000792\tvalidation_1-error:0.00556\tvalidation_1-logloss:0.018657\n",
      "[322]\tvalidation_0-error:0\tvalidation_0-logloss:0.000791\tvalidation_1-error:0.00556\tvalidation_1-logloss:0.018657\n",
      "[323]\tvalidation_0-error:0\tvalidation_0-logloss:0.000789\tvalidation_1-error:0.00556\tvalidation_1-logloss:0.018651\n",
      "[324]\tvalidation_0-error:0\tvalidation_0-logloss:0.000787\tvalidation_1-error:0.00556\tvalidation_1-logloss:0.018652\n",
      "[325]\tvalidation_0-error:0\tvalidation_0-logloss:0.000785\tvalidation_1-error:0.00556\tvalidation_1-logloss:0.018633\n",
      "[326]\tvalidation_0-error:0\tvalidation_0-logloss:0.000784\tvalidation_1-error:0.00556\tvalidation_1-logloss:0.01862\n",
      "[327]\tvalidation_0-error:0\tvalidation_0-logloss:0.000782\tvalidation_1-error:0.00556\tvalidation_1-logloss:0.018612\n",
      "[328]\tvalidation_0-error:0\tvalidation_0-logloss:0.000779\tvalidation_1-error:0.00556\tvalidation_1-logloss:0.018592\n",
      "[329]\tvalidation_0-error:0\tvalidation_0-logloss:0.000778\tvalidation_1-error:0.00556\tvalidation_1-logloss:0.018599\n",
      "[330]\tvalidation_0-error:0\tvalidation_0-logloss:0.000777\tvalidation_1-error:0.00556\tvalidation_1-logloss:0.018618\n",
      "[331]\tvalidation_0-error:0\tvalidation_0-logloss:0.000775\tvalidation_1-error:0.00556\tvalidation_1-logloss:0.018605\n",
      "[332]\tvalidation_0-error:0\tvalidation_0-logloss:0.000774\tvalidation_1-error:0.00556\tvalidation_1-logloss:0.018616\n",
      "[333]\tvalidation_0-error:0\tvalidation_0-logloss:0.000772\tvalidation_1-error:0.00556\tvalidation_1-logloss:0.018629\n",
      "[334]\tvalidation_0-error:0\tvalidation_0-logloss:0.00077\tvalidation_1-error:0.00556\tvalidation_1-logloss:0.018624\n",
      "[335]\tvalidation_0-error:0\tvalidation_0-logloss:0.000768\tvalidation_1-error:0.00556\tvalidation_1-logloss:0.018626\n",
      "[336]\tvalidation_0-error:0\tvalidation_0-logloss:0.000766\tvalidation_1-error:0.00556\tvalidation_1-logloss:0.018658\n",
      "[337]\tvalidation_0-error:0\tvalidation_0-logloss:0.000765\tvalidation_1-error:0.00556\tvalidation_1-logloss:0.018664\n",
      "[338]\tvalidation_0-error:0\tvalidation_0-logloss:0.000763\tvalidation_1-error:0.00556\tvalidation_1-logloss:0.018691\n",
      "[339]\tvalidation_0-error:0\tvalidation_0-logloss:0.000761\tvalidation_1-error:0.00556\tvalidation_1-logloss:0.018684\n",
      "[340]\tvalidation_0-error:0\tvalidation_0-logloss:0.00076\tvalidation_1-error:0.00556\tvalidation_1-logloss:0.018698\n",
      "[341]\tvalidation_0-error:0\tvalidation_0-logloss:0.000759\tvalidation_1-error:0.00556\tvalidation_1-logloss:0.018726\n",
      "[342]\tvalidation_0-error:0\tvalidation_0-logloss:0.000758\tvalidation_1-error:0.00556\tvalidation_1-logloss:0.018726\n",
      "[343]\tvalidation_0-error:0\tvalidation_0-logloss:0.000756\tvalidation_1-error:0.00556\tvalidation_1-logloss:0.018765\n",
      "[344]\tvalidation_0-error:0\tvalidation_0-logloss:0.000755\tvalidation_1-error:0.00556\tvalidation_1-logloss:0.018745\n",
      "[345]\tvalidation_0-error:0\tvalidation_0-logloss:0.000753\tvalidation_1-error:0.00556\tvalidation_1-logloss:0.018748\n",
      "[346]\tvalidation_0-error:0\tvalidation_0-logloss:0.000751\tvalidation_1-error:0.00556\tvalidation_1-logloss:0.018744\n",
      "[347]\tvalidation_0-error:0\tvalidation_0-logloss:0.00075\tvalidation_1-error:0.00556\tvalidation_1-logloss:0.018719\n",
      "[348]\tvalidation_0-error:0\tvalidation_0-logloss:0.000749\tvalidation_1-error:0.00556\tvalidation_1-logloss:0.018746\n",
      "[349]\tvalidation_0-error:0\tvalidation_0-logloss:0.000747\tvalidation_1-error:0.00556\tvalidation_1-logloss:0.018752\n",
      "[350]\tvalidation_0-error:0\tvalidation_0-logloss:0.000746\tvalidation_1-error:0.00556\tvalidation_1-logloss:0.018751\n",
      "[351]\tvalidation_0-error:0\tvalidation_0-logloss:0.000745\tvalidation_1-error:0.00556\tvalidation_1-logloss:0.018757\n",
      "[352]\tvalidation_0-error:0\tvalidation_0-logloss:0.000743\tvalidation_1-error:0.00556\tvalidation_1-logloss:0.018769\n",
      "[353]\tvalidation_0-error:0\tvalidation_0-logloss:0.000742\tvalidation_1-error:0.00556\tvalidation_1-logloss:0.018776\n",
      "[354]\tvalidation_0-error:0\tvalidation_0-logloss:0.000742\tvalidation_1-error:0.00556\tvalidation_1-logloss:0.018767\n",
      "[355]\tvalidation_0-error:0\tvalidation_0-logloss:0.00074\tvalidation_1-error:0.00556\tvalidation_1-logloss:0.018759\n"
     ]
    },
    {
     "name": "stdout",
     "output_type": "stream",
     "text": [
      "[356]\tvalidation_0-error:0\tvalidation_0-logloss:0.000738\tvalidation_1-error:0.00556\tvalidation_1-logloss:0.018726\n",
      "[357]\tvalidation_0-error:0\tvalidation_0-logloss:0.000737\tvalidation_1-error:0.00556\tvalidation_1-logloss:0.018725\n",
      "[358]\tvalidation_0-error:0\tvalidation_0-logloss:0.000735\tvalidation_1-error:0.00556\tvalidation_1-logloss:0.018724\n",
      "[359]\tvalidation_0-error:0\tvalidation_0-logloss:0.000734\tvalidation_1-error:0.00556\tvalidation_1-logloss:0.018692\n",
      "[360]\tvalidation_0-error:0\tvalidation_0-logloss:0.000733\tvalidation_1-error:0.00556\tvalidation_1-logloss:0.018683\n",
      "[361]\tvalidation_0-error:0\tvalidation_0-logloss:0.000731\tvalidation_1-error:0.00556\tvalidation_1-logloss:0.018686\n",
      "[362]\tvalidation_0-error:0\tvalidation_0-logloss:0.00073\tvalidation_1-error:0.00556\tvalidation_1-logloss:0.018688\n",
      "[363]\tvalidation_0-error:0\tvalidation_0-logloss:0.000729\tvalidation_1-error:0.00556\tvalidation_1-logloss:0.018708\n",
      "[364]\tvalidation_0-error:0\tvalidation_0-logloss:0.000728\tvalidation_1-error:0.00556\tvalidation_1-logloss:0.018705\n",
      "[365]\tvalidation_0-error:0\tvalidation_0-logloss:0.000727\tvalidation_1-error:0.00556\tvalidation_1-logloss:0.018725\n",
      "[366]\tvalidation_0-error:0\tvalidation_0-logloss:0.000725\tvalidation_1-error:0.00556\tvalidation_1-logloss:0.018716\n",
      "[367]\tvalidation_0-error:0\tvalidation_0-logloss:0.000724\tvalidation_1-error:0.00556\tvalidation_1-logloss:0.018748\n",
      "[368]\tvalidation_0-error:0\tvalidation_0-logloss:0.000723\tvalidation_1-error:0.00556\tvalidation_1-logloss:0.018771\n",
      "[369]\tvalidation_0-error:0\tvalidation_0-logloss:0.000721\tvalidation_1-error:0.00556\tvalidation_1-logloss:0.018713\n",
      "[370]\tvalidation_0-error:0\tvalidation_0-logloss:0.000719\tvalidation_1-error:0.00556\tvalidation_1-logloss:0.018733\n",
      "[371]\tvalidation_0-error:0\tvalidation_0-logloss:0.000717\tvalidation_1-error:0.00556\tvalidation_1-logloss:0.018753\n",
      "[372]\tvalidation_0-error:0\tvalidation_0-logloss:0.000716\tvalidation_1-error:0.00556\tvalidation_1-logloss:0.018758\n",
      "[373]\tvalidation_0-error:0\tvalidation_0-logloss:0.000714\tvalidation_1-error:0.00556\tvalidation_1-logloss:0.018778\n",
      "[374]\tvalidation_0-error:0\tvalidation_0-logloss:0.000713\tvalidation_1-error:0.00556\tvalidation_1-logloss:0.018799\n",
      "[375]\tvalidation_0-error:0\tvalidation_0-logloss:0.000711\tvalidation_1-error:0.00556\tvalidation_1-logloss:0.018829\n",
      "[376]\tvalidation_0-error:0\tvalidation_0-logloss:0.00071\tvalidation_1-error:0.00556\tvalidation_1-logloss:0.018827\n",
      "[377]\tvalidation_0-error:0\tvalidation_0-logloss:0.000708\tvalidation_1-error:0.00556\tvalidation_1-logloss:0.018844\n",
      "[378]\tvalidation_0-error:0\tvalidation_0-logloss:0.000707\tvalidation_1-error:0.00556\tvalidation_1-logloss:0.018837\n",
      "[379]\tvalidation_0-error:0\tvalidation_0-logloss:0.000706\tvalidation_1-error:0.00556\tvalidation_1-logloss:0.018806\n",
      "[380]\tvalidation_0-error:0\tvalidation_0-logloss:0.000704\tvalidation_1-error:0.00556\tvalidation_1-logloss:0.01885\n",
      "[381]\tvalidation_0-error:0\tvalidation_0-logloss:0.000703\tvalidation_1-error:0.00556\tvalidation_1-logloss:0.018887\n",
      "[382]\tvalidation_0-error:0\tvalidation_0-logloss:0.000702\tvalidation_1-error:0.00556\tvalidation_1-logloss:0.018877\n",
      "[383]\tvalidation_0-error:0\tvalidation_0-logloss:0.000701\tvalidation_1-error:0.00556\tvalidation_1-logloss:0.018885\n",
      "[384]\tvalidation_0-error:0\tvalidation_0-logloss:0.0007\tvalidation_1-error:0.00556\tvalidation_1-logloss:0.018883\n",
      "[385]\tvalidation_0-error:0\tvalidation_0-logloss:0.000699\tvalidation_1-error:0.00556\tvalidation_1-logloss:0.018899\n",
      "[386]\tvalidation_0-error:0\tvalidation_0-logloss:0.000697\tvalidation_1-error:0.00556\tvalidation_1-logloss:0.018917\n",
      "[387]\tvalidation_0-error:0\tvalidation_0-logloss:0.000697\tvalidation_1-error:0.00556\tvalidation_1-logloss:0.018946\n",
      "[388]\tvalidation_0-error:0\tvalidation_0-logloss:0.000695\tvalidation_1-error:0.00556\tvalidation_1-logloss:0.01896\n",
      "[389]\tvalidation_0-error:0\tvalidation_0-logloss:0.000694\tvalidation_1-error:0.00556\tvalidation_1-logloss:0.018936\n",
      "[390]\tvalidation_0-error:0\tvalidation_0-logloss:0.000693\tvalidation_1-error:0.00556\tvalidation_1-logloss:0.018938\n",
      "[391]\tvalidation_0-error:0\tvalidation_0-logloss:0.000692\tvalidation_1-error:0.00556\tvalidation_1-logloss:0.018924\n",
      "[392]\tvalidation_0-error:0\tvalidation_0-logloss:0.00069\tvalidation_1-error:0.00556\tvalidation_1-logloss:0.018935\n",
      "[393]\tvalidation_0-error:0\tvalidation_0-logloss:0.00069\tvalidation_1-error:0.00556\tvalidation_1-logloss:0.018955\n",
      "[394]\tvalidation_0-error:0\tvalidation_0-logloss:0.000689\tvalidation_1-error:0.00556\tvalidation_1-logloss:0.018953\n",
      "[395]\tvalidation_0-error:0\tvalidation_0-logloss:0.000688\tvalidation_1-error:0.00556\tvalidation_1-logloss:0.018969\n",
      "[396]\tvalidation_0-error:0\tvalidation_0-logloss:0.000687\tvalidation_1-error:0.00556\tvalidation_1-logloss:0.018977\n",
      "[397]\tvalidation_0-error:0\tvalidation_0-logloss:0.000685\tvalidation_1-error:0.00556\tvalidation_1-logloss:0.018983\n",
      "[398]\tvalidation_0-error:0\tvalidation_0-logloss:0.000684\tvalidation_1-error:0.00556\tvalidation_1-logloss:0.018999\n",
      "[399]\tvalidation_0-error:0\tvalidation_0-logloss:0.000683\tvalidation_1-error:0.00556\tvalidation_1-logloss:0.018985\n",
      "[400]\tvalidation_0-error:0\tvalidation_0-logloss:0.000681\tvalidation_1-error:0.00556\tvalidation_1-logloss:0.018991\n",
      "[401]\tvalidation_0-error:0\tvalidation_0-logloss:0.00068\tvalidation_1-error:0.00556\tvalidation_1-logloss:0.018984\n",
      "[402]\tvalidation_0-error:0\tvalidation_0-logloss:0.000679\tvalidation_1-error:0.00556\tvalidation_1-logloss:0.018968\n",
      "[403]\tvalidation_0-error:0\tvalidation_0-logloss:0.000677\tvalidation_1-error:0.00556\tvalidation_1-logloss:0.018953\n",
      "[404]\tvalidation_0-error:0\tvalidation_0-logloss:0.000677\tvalidation_1-error:0.00556\tvalidation_1-logloss:0.018941\n",
      "[405]\tvalidation_0-error:0\tvalidation_0-logloss:0.000675\tvalidation_1-error:0.00556\tvalidation_1-logloss:0.018963\n",
      "[406]\tvalidation_0-error:0\tvalidation_0-logloss:0.000674\tvalidation_1-error:0.00556\tvalidation_1-logloss:0.018959\n",
      "[407]\tvalidation_0-error:0\tvalidation_0-logloss:0.000673\tvalidation_1-error:0.00556\tvalidation_1-logloss:0.018965\n",
      "[408]\tvalidation_0-error:0\tvalidation_0-logloss:0.000672\tvalidation_1-error:0.00556\tvalidation_1-logloss:0.018966\n",
      "[409]\tvalidation_0-error:0\tvalidation_0-logloss:0.000671\tvalidation_1-error:0.00556\tvalidation_1-logloss:0.018995\n",
      "[410]\tvalidation_0-error:0\tvalidation_0-logloss:0.000671\tvalidation_1-error:0.00556\tvalidation_1-logloss:0.018992\n",
      "[411]\tvalidation_0-error:0\tvalidation_0-logloss:0.000669\tvalidation_1-error:0.00556\tvalidation_1-logloss:0.018999\n",
      "[412]\tvalidation_0-error:0\tvalidation_0-logloss:0.000668\tvalidation_1-error:0.00556\tvalidation_1-logloss:0.019007\n",
      "[413]\tvalidation_0-error:0\tvalidation_0-logloss:0.000667\tvalidation_1-error:0.00556\tvalidation_1-logloss:0.01901\n",
      "[414]\tvalidation_0-error:0\tvalidation_0-logloss:0.000666\tvalidation_1-error:0.00556\tvalidation_1-logloss:0.01902\n",
      "[415]\tvalidation_0-error:0\tvalidation_0-logloss:0.000665\tvalidation_1-error:0.00556\tvalidation_1-logloss:0.019017\n",
      "[416]\tvalidation_0-error:0\tvalidation_0-logloss:0.000664\tvalidation_1-error:0.00556\tvalidation_1-logloss:0.019015\n",
      "[417]\tvalidation_0-error:0\tvalidation_0-logloss:0.000663\tvalidation_1-error:0.00556\tvalidation_1-logloss:0.019025\n",
      "[418]\tvalidation_0-error:0\tvalidation_0-logloss:0.000662\tvalidation_1-error:0.00556\tvalidation_1-logloss:0.019004\n",
      "[419]\tvalidation_0-error:0\tvalidation_0-logloss:0.000662\tvalidation_1-error:0.00556\tvalidation_1-logloss:0.019013\n",
      "[420]\tvalidation_0-error:0\tvalidation_0-logloss:0.00066\tvalidation_1-error:0.00556\tvalidation_1-logloss:0.019009\n",
      "[421]\tvalidation_0-error:0\tvalidation_0-logloss:0.000659\tvalidation_1-error:0.00556\tvalidation_1-logloss:0.019045\n",
      "[422]\tvalidation_0-error:0\tvalidation_0-logloss:0.000659\tvalidation_1-error:0.00556\tvalidation_1-logloss:0.019059\n",
      "[423]\tvalidation_0-error:0\tvalidation_0-logloss:0.000658\tvalidation_1-error:0.00556\tvalidation_1-logloss:0.019065\n",
      "[424]\tvalidation_0-error:0\tvalidation_0-logloss:0.000657\tvalidation_1-error:0.00556\tvalidation_1-logloss:0.019061\n",
      "[425]\tvalidation_0-error:0\tvalidation_0-logloss:0.000657\tvalidation_1-error:0.00556\tvalidation_1-logloss:0.019096\n",
      "[426]\tvalidation_0-error:0\tvalidation_0-logloss:0.000656\tvalidation_1-error:0.00556\tvalidation_1-logloss:0.01913\n",
      "[427]\tvalidation_0-error:0\tvalidation_0-logloss:0.000655\tvalidation_1-error:0.00556\tvalidation_1-logloss:0.019131\n"
     ]
    },
    {
     "name": "stdout",
     "output_type": "stream",
     "text": [
      "[428]\tvalidation_0-error:0\tvalidation_0-logloss:0.000654\tvalidation_1-error:0.00556\tvalidation_1-logloss:0.019118\n",
      "[429]\tvalidation_0-error:0\tvalidation_0-logloss:0.000652\tvalidation_1-error:0.00556\tvalidation_1-logloss:0.019129\n",
      "[430]\tvalidation_0-error:0\tvalidation_0-logloss:0.000652\tvalidation_1-error:0.00556\tvalidation_1-logloss:0.019116\n",
      "[431]\tvalidation_0-error:0\tvalidation_0-logloss:0.000651\tvalidation_1-error:0.00556\tvalidation_1-logloss:0.019126\n",
      "[432]\tvalidation_0-error:0\tvalidation_0-logloss:0.00065\tvalidation_1-error:0.00556\tvalidation_1-logloss:0.019096\n",
      "[433]\tvalidation_0-error:0\tvalidation_0-logloss:0.000649\tvalidation_1-error:0.00556\tvalidation_1-logloss:0.019088\n",
      "[434]\tvalidation_0-error:0\tvalidation_0-logloss:0.000649\tvalidation_1-error:0.00556\tvalidation_1-logloss:0.019097\n",
      "[435]\tvalidation_0-error:0\tvalidation_0-logloss:0.000648\tvalidation_1-error:0.00556\tvalidation_1-logloss:0.019086\n",
      "[436]\tvalidation_0-error:0\tvalidation_0-logloss:0.000648\tvalidation_1-error:0.00556\tvalidation_1-logloss:0.019075\n",
      "[437]\tvalidation_0-error:0\tvalidation_0-logloss:0.000646\tvalidation_1-error:0.00556\tvalidation_1-logloss:0.019093\n",
      "[438]\tvalidation_0-error:0\tvalidation_0-logloss:0.000645\tvalidation_1-error:0.00556\tvalidation_1-logloss:0.019101\n",
      "[439]\tvalidation_0-error:0\tvalidation_0-logloss:0.000644\tvalidation_1-error:0.00556\tvalidation_1-logloss:0.019123\n",
      "[440]\tvalidation_0-error:0\tvalidation_0-logloss:0.000643\tvalidation_1-error:0.00556\tvalidation_1-logloss:0.01912\n",
      "[441]\tvalidation_0-error:0\tvalidation_0-logloss:0.000642\tvalidation_1-error:0.00556\tvalidation_1-logloss:0.01909\n",
      "[442]\tvalidation_0-error:0\tvalidation_0-logloss:0.000642\tvalidation_1-error:0.00556\tvalidation_1-logloss:0.019081\n",
      "[443]\tvalidation_0-error:0\tvalidation_0-logloss:0.000641\tvalidation_1-error:0.00556\tvalidation_1-logloss:0.01905\n",
      "[444]\tvalidation_0-error:0\tvalidation_0-logloss:0.000641\tvalidation_1-error:0.00556\tvalidation_1-logloss:0.019084\n",
      "[445]\tvalidation_0-error:0\tvalidation_0-logloss:0.00064\tvalidation_1-error:0.00556\tvalidation_1-logloss:0.019092\n",
      "[446]\tvalidation_0-error:0\tvalidation_0-logloss:0.000639\tvalidation_1-error:0.00556\tvalidation_1-logloss:0.019087\n",
      "[447]\tvalidation_0-error:0\tvalidation_0-logloss:0.000638\tvalidation_1-error:0.00556\tvalidation_1-logloss:0.019069\n",
      "[448]\tvalidation_0-error:0\tvalidation_0-logloss:0.000637\tvalidation_1-error:0.00556\tvalidation_1-logloss:0.019071\n",
      "[449]\tvalidation_0-error:0\tvalidation_0-logloss:0.000636\tvalidation_1-error:0.00556\tvalidation_1-logloss:0.019073\n",
      "[450]\tvalidation_0-error:0\tvalidation_0-logloss:0.000636\tvalidation_1-error:0.00556\tvalidation_1-logloss:0.01907\n",
      "[451]\tvalidation_0-error:0\tvalidation_0-logloss:0.000635\tvalidation_1-error:0.00556\tvalidation_1-logloss:0.019073\n",
      "[452]\tvalidation_0-error:0\tvalidation_0-logloss:0.000634\tvalidation_1-error:0.00556\tvalidation_1-logloss:0.019058\n",
      "[453]\tvalidation_0-error:0\tvalidation_0-logloss:0.000633\tvalidation_1-error:0.00556\tvalidation_1-logloss:0.019072\n",
      "[454]\tvalidation_0-error:0\tvalidation_0-logloss:0.000632\tvalidation_1-error:0.00556\tvalidation_1-logloss:0.019091\n",
      "[455]\tvalidation_0-error:0\tvalidation_0-logloss:0.000632\tvalidation_1-error:0.00556\tvalidation_1-logloss:0.019086\n",
      "[456]\tvalidation_0-error:0\tvalidation_0-logloss:0.000631\tvalidation_1-error:0.00556\tvalidation_1-logloss:0.019097\n",
      "[457]\tvalidation_0-error:0\tvalidation_0-logloss:0.00063\tvalidation_1-error:0.00556\tvalidation_1-logloss:0.019105\n",
      "[458]\tvalidation_0-error:0\tvalidation_0-logloss:0.00063\tvalidation_1-error:0.00556\tvalidation_1-logloss:0.019103\n",
      "[459]\tvalidation_0-error:0\tvalidation_0-logloss:0.000628\tvalidation_1-error:0.00556\tvalidation_1-logloss:0.019105\n",
      "[460]\tvalidation_0-error:0\tvalidation_0-logloss:0.000628\tvalidation_1-error:0.00556\tvalidation_1-logloss:0.019111\n",
      "[461]\tvalidation_0-error:0\tvalidation_0-logloss:0.000627\tvalidation_1-error:0.00556\tvalidation_1-logloss:0.019122\n",
      "[462]\tvalidation_0-error:0\tvalidation_0-logloss:0.000627\tvalidation_1-error:0.00556\tvalidation_1-logloss:0.019156\n",
      "[463]\tvalidation_0-error:0\tvalidation_0-logloss:0.000626\tvalidation_1-error:0.00556\tvalidation_1-logloss:0.019157\n",
      "[464]\tvalidation_0-error:0\tvalidation_0-logloss:0.000625\tvalidation_1-error:0.00556\tvalidation_1-logloss:0.019154\n",
      "[465]\tvalidation_0-error:0\tvalidation_0-logloss:0.000625\tvalidation_1-error:0.00556\tvalidation_1-logloss:0.019147\n",
      "[466]\tvalidation_0-error:0\tvalidation_0-logloss:0.000624\tvalidation_1-error:0.00556\tvalidation_1-logloss:0.01916\n",
      "[467]\tvalidation_0-error:0\tvalidation_0-logloss:0.000624\tvalidation_1-error:0.00556\tvalidation_1-logloss:0.019157\n",
      "[468]\tvalidation_0-error:0\tvalidation_0-logloss:0.000623\tvalidation_1-error:0.00556\tvalidation_1-logloss:0.019166\n",
      "[469]\tvalidation_0-error:0\tvalidation_0-logloss:0.000622\tvalidation_1-error:0.00556\tvalidation_1-logloss:0.01915\n",
      "[470]\tvalidation_0-error:0\tvalidation_0-logloss:0.000622\tvalidation_1-error:0.00556\tvalidation_1-logloss:0.019164\n",
      "[471]\tvalidation_0-error:0\tvalidation_0-logloss:0.000621\tvalidation_1-error:0.00556\tvalidation_1-logloss:0.019174\n",
      "[472]\tvalidation_0-error:0\tvalidation_0-logloss:0.00062\tvalidation_1-error:0.00556\tvalidation_1-logloss:0.019194\n",
      "[473]\tvalidation_0-error:0\tvalidation_0-logloss:0.00062\tvalidation_1-error:0.00556\tvalidation_1-logloss:0.019248\n",
      "[474]\tvalidation_0-error:0\tvalidation_0-logloss:0.000619\tvalidation_1-error:0.00556\tvalidation_1-logloss:0.019272\n",
      "[475]\tvalidation_0-error:0\tvalidation_0-logloss:0.000619\tvalidation_1-error:0.00556\tvalidation_1-logloss:0.019273\n",
      "[476]\tvalidation_0-error:0\tvalidation_0-logloss:0.000618\tvalidation_1-error:0.00556\tvalidation_1-logloss:0.019282\n",
      "[477]\tvalidation_0-error:0\tvalidation_0-logloss:0.000617\tvalidation_1-error:0.00556\tvalidation_1-logloss:0.019287\n",
      "[478]\tvalidation_0-error:0\tvalidation_0-logloss:0.000616\tvalidation_1-error:0.00556\tvalidation_1-logloss:0.019298\n",
      "[479]\tvalidation_0-error:0\tvalidation_0-logloss:0.000615\tvalidation_1-error:0.00556\tvalidation_1-logloss:0.019296\n",
      "[480]\tvalidation_0-error:0\tvalidation_0-logloss:0.000614\tvalidation_1-error:0.00556\tvalidation_1-logloss:0.019309\n",
      "[481]\tvalidation_0-error:0\tvalidation_0-logloss:0.000613\tvalidation_1-error:0.00556\tvalidation_1-logloss:0.019319\n",
      "[482]\tvalidation_0-error:0\tvalidation_0-logloss:0.000612\tvalidation_1-error:0.00556\tvalidation_1-logloss:0.019335\n",
      "[483]\tvalidation_0-error:0\tvalidation_0-logloss:0.000612\tvalidation_1-error:0.00556\tvalidation_1-logloss:0.019322\n",
      "[484]\tvalidation_0-error:0\tvalidation_0-logloss:0.000611\tvalidation_1-error:0.00556\tvalidation_1-logloss:0.019333\n",
      "[485]\tvalidation_0-error:0\tvalidation_0-logloss:0.000611\tvalidation_1-error:0.00556\tvalidation_1-logloss:0.019363\n",
      "[486]\tvalidation_0-error:0\tvalidation_0-logloss:0.00061\tvalidation_1-error:0.00556\tvalidation_1-logloss:0.019369\n",
      "[487]\tvalidation_0-error:0\tvalidation_0-logloss:0.000609\tvalidation_1-error:0.00556\tvalidation_1-logloss:0.019368\n",
      "[488]\tvalidation_0-error:0\tvalidation_0-logloss:0.000608\tvalidation_1-error:0.00556\tvalidation_1-logloss:0.019358\n",
      "[489]\tvalidation_0-error:0\tvalidation_0-logloss:0.000608\tvalidation_1-error:0.00556\tvalidation_1-logloss:0.019341\n",
      "[490]\tvalidation_0-error:0\tvalidation_0-logloss:0.000607\tvalidation_1-error:0.00556\tvalidation_1-logloss:0.019322\n",
      "[491]\tvalidation_0-error:0\tvalidation_0-logloss:0.000606\tvalidation_1-error:0.00556\tvalidation_1-logloss:0.019332\n",
      "[492]\tvalidation_0-error:0\tvalidation_0-logloss:0.000605\tvalidation_1-error:0.00556\tvalidation_1-logloss:0.019346\n",
      "[493]\tvalidation_0-error:0\tvalidation_0-logloss:0.000604\tvalidation_1-error:0.00556\tvalidation_1-logloss:0.01935\n",
      "[494]\tvalidation_0-error:0\tvalidation_0-logloss:0.000603\tvalidation_1-error:0.00556\tvalidation_1-logloss:0.019346\n",
      "[495]\tvalidation_0-error:0\tvalidation_0-logloss:0.000602\tvalidation_1-error:0.00556\tvalidation_1-logloss:0.019344\n",
      "[496]\tvalidation_0-error:0\tvalidation_0-logloss:0.000602\tvalidation_1-error:0.00556\tvalidation_1-logloss:0.019377\n",
      "[497]\tvalidation_0-error:0\tvalidation_0-logloss:0.000601\tvalidation_1-error:0.00556\tvalidation_1-logloss:0.019362\n",
      "[498]\tvalidation_0-error:0\tvalidation_0-logloss:0.000601\tvalidation_1-error:0.00556\tvalidation_1-logloss:0.019343\n",
      "[499]\tvalidation_0-error:0\tvalidation_0-logloss:0.0006\tvalidation_1-error:0.00556\tvalidation_1-logloss:0.019359\n",
      "[500]\tvalidation_0-error:0\tvalidation_0-logloss:0.0006\tvalidation_1-error:0.00556\tvalidation_1-logloss:0.019366\n"
     ]
    },
    {
     "name": "stdout",
     "output_type": "stream",
     "text": [
      "[501]\tvalidation_0-error:0\tvalidation_0-logloss:0.000599\tvalidation_1-error:0.00556\tvalidation_1-logloss:0.019351\n",
      "[502]\tvalidation_0-error:0\tvalidation_0-logloss:0.000598\tvalidation_1-error:0.00556\tvalidation_1-logloss:0.019376\n",
      "[503]\tvalidation_0-error:0\tvalidation_0-logloss:0.000598\tvalidation_1-error:0.00556\tvalidation_1-logloss:0.019381\n",
      "[504]\tvalidation_0-error:0\tvalidation_0-logloss:0.000597\tvalidation_1-error:0.00556\tvalidation_1-logloss:0.019366\n",
      "[505]\tvalidation_0-error:0\tvalidation_0-logloss:0.000597\tvalidation_1-error:0.00556\tvalidation_1-logloss:0.019394\n",
      "[506]\tvalidation_0-error:0\tvalidation_0-logloss:0.000596\tvalidation_1-error:0.00556\tvalidation_1-logloss:0.019394\n",
      "[507]\tvalidation_0-error:0\tvalidation_0-logloss:0.000595\tvalidation_1-error:0.00556\tvalidation_1-logloss:0.019383\n",
      "[508]\tvalidation_0-error:0\tvalidation_0-logloss:0.000594\tvalidation_1-error:0.00556\tvalidation_1-logloss:0.019403\n",
      "[509]\tvalidation_0-error:0\tvalidation_0-logloss:0.000594\tvalidation_1-error:0.00556\tvalidation_1-logloss:0.019403\n",
      "[510]\tvalidation_0-error:0\tvalidation_0-logloss:0.000593\tvalidation_1-error:0.00556\tvalidation_1-logloss:0.01941\n",
      "[511]\tvalidation_0-error:0\tvalidation_0-logloss:0.000592\tvalidation_1-error:0.00556\tvalidation_1-logloss:0.019425\n",
      "[512]\tvalidation_0-error:0\tvalidation_0-logloss:0.000591\tvalidation_1-error:0.00556\tvalidation_1-logloss:0.019439\n",
      "[513]\tvalidation_0-error:0\tvalidation_0-logloss:0.00059\tvalidation_1-error:0.00556\tvalidation_1-logloss:0.019441\n",
      "[514]\tvalidation_0-error:0\tvalidation_0-logloss:0.00059\tvalidation_1-error:0.00556\tvalidation_1-logloss:0.019421\n",
      "[515]\tvalidation_0-error:0\tvalidation_0-logloss:0.000589\tvalidation_1-error:0.00556\tvalidation_1-logloss:0.019404\n",
      "[516]\tvalidation_0-error:0\tvalidation_0-logloss:0.000589\tvalidation_1-error:0.00556\tvalidation_1-logloss:0.019394\n",
      "[517]\tvalidation_0-error:0\tvalidation_0-logloss:0.000588\tvalidation_1-error:0.00556\tvalidation_1-logloss:0.019408\n",
      "[518]\tvalidation_0-error:0\tvalidation_0-logloss:0.000587\tvalidation_1-error:0.00556\tvalidation_1-logloss:0.019411\n",
      "[519]\tvalidation_0-error:0\tvalidation_0-logloss:0.000587\tvalidation_1-error:0.00556\tvalidation_1-logloss:0.019403\n",
      "[520]\tvalidation_0-error:0\tvalidation_0-logloss:0.000587\tvalidation_1-error:0.00556\tvalidation_1-logloss:0.019418\n",
      "[521]\tvalidation_0-error:0\tvalidation_0-logloss:0.000586\tvalidation_1-error:0.00556\tvalidation_1-logloss:0.019436\n",
      "[522]\tvalidation_0-error:0\tvalidation_0-logloss:0.000586\tvalidation_1-error:0.00556\tvalidation_1-logloss:0.019453\n",
      "[523]\tvalidation_0-error:0\tvalidation_0-logloss:0.000585\tvalidation_1-error:0.00556\tvalidation_1-logloss:0.019456\n",
      "[524]\tvalidation_0-error:0\tvalidation_0-logloss:0.000584\tvalidation_1-error:0.00556\tvalidation_1-logloss:0.019485\n",
      "[525]\tvalidation_0-error:0\tvalidation_0-logloss:0.000584\tvalidation_1-error:0.00556\tvalidation_1-logloss:0.01949\n",
      "[526]\tvalidation_0-error:0\tvalidation_0-logloss:0.000583\tvalidation_1-error:0.00556\tvalidation_1-logloss:0.019514\n",
      "[527]\tvalidation_0-error:0\tvalidation_0-logloss:0.000583\tvalidation_1-error:0.00556\tvalidation_1-logloss:0.019516\n",
      "[528]\tvalidation_0-error:0\tvalidation_0-logloss:0.000582\tvalidation_1-error:0.00556\tvalidation_1-logloss:0.019519\n",
      "[529]\tvalidation_0-error:0\tvalidation_0-logloss:0.000581\tvalidation_1-error:0.00556\tvalidation_1-logloss:0.019544\n",
      "[530]\tvalidation_0-error:0\tvalidation_0-logloss:0.00058\tvalidation_1-error:0.00556\tvalidation_1-logloss:0.019539\n",
      "[531]\tvalidation_0-error:0\tvalidation_0-logloss:0.00058\tvalidation_1-error:0.00556\tvalidation_1-logloss:0.019539\n",
      "[532]\tvalidation_0-error:0\tvalidation_0-logloss:0.000579\tvalidation_1-error:0.00556\tvalidation_1-logloss:0.019554\n",
      "[533]\tvalidation_0-error:0\tvalidation_0-logloss:0.000579\tvalidation_1-error:0.00556\tvalidation_1-logloss:0.01957\n",
      "[534]\tvalidation_0-error:0\tvalidation_0-logloss:0.000578\tvalidation_1-error:0.00556\tvalidation_1-logloss:0.01954\n",
      "[535]\tvalidation_0-error:0\tvalidation_0-logloss:0.000578\tvalidation_1-error:0.00556\tvalidation_1-logloss:0.019526\n",
      "[536]\tvalidation_0-error:0\tvalidation_0-logloss:0.000577\tvalidation_1-error:0.00556\tvalidation_1-logloss:0.019541\n",
      "[537]\tvalidation_0-error:0\tvalidation_0-logloss:0.000577\tvalidation_1-error:0.00556\tvalidation_1-logloss:0.019561\n",
      "[538]\tvalidation_0-error:0\tvalidation_0-logloss:0.000576\tvalidation_1-error:0.00556\tvalidation_1-logloss:0.019558\n",
      "[539]\tvalidation_0-error:0\tvalidation_0-logloss:0.000576\tvalidation_1-error:0.00556\tvalidation_1-logloss:0.019577\n",
      "[540]\tvalidation_0-error:0\tvalidation_0-logloss:0.000575\tvalidation_1-error:0.00556\tvalidation_1-logloss:0.019583\n",
      "[541]\tvalidation_0-error:0\tvalidation_0-logloss:0.000574\tvalidation_1-error:0.00556\tvalidation_1-logloss:0.019561\n",
      "[542]\tvalidation_0-error:0\tvalidation_0-logloss:0.000573\tvalidation_1-error:0.00556\tvalidation_1-logloss:0.019574\n",
      "[543]\tvalidation_0-error:0\tvalidation_0-logloss:0.000573\tvalidation_1-error:0.00556\tvalidation_1-logloss:0.019563\n",
      "[544]\tvalidation_0-error:0\tvalidation_0-logloss:0.000572\tvalidation_1-error:0.00556\tvalidation_1-logloss:0.019564\n",
      "[545]\tvalidation_0-error:0\tvalidation_0-logloss:0.000571\tvalidation_1-error:0.00556\tvalidation_1-logloss:0.019557\n",
      "[546]\tvalidation_0-error:0\tvalidation_0-logloss:0.00057\tvalidation_1-error:0.00556\tvalidation_1-logloss:0.019557\n",
      "[547]\tvalidation_0-error:0\tvalidation_0-logloss:0.00057\tvalidation_1-error:0.00556\tvalidation_1-logloss:0.01957\n",
      "[548]\tvalidation_0-error:0\tvalidation_0-logloss:0.000569\tvalidation_1-error:0.00556\tvalidation_1-logloss:0.019566\n",
      "[549]\tvalidation_0-error:0\tvalidation_0-logloss:0.000569\tvalidation_1-error:0.00556\tvalidation_1-logloss:0.019569\n"
     ]
    },
    {
     "data": {
      "text/plain": [
       "XGBClassifier(base_score=0.5, booster='gbtree', colsample_bylevel=1,\n",
       "       colsample_bynode=1, colsample_bytree=0.8, gamma=0,\n",
       "       learning_rate=0.1, max_delta_step=0, max_depth=10,\n",
       "       min_child_weight=2, missing=None, n_estimators=550, n_jobs=1,\n",
       "       nthread=4, objective='binary:logistic', random_state=0, reg_alpha=0,\n",
       "       reg_lambda=1, scale_pos_weight=1, seed=2, silent=None,\n",
       "       subsample=0.8, verbosity=1)"
      ]
     },
     "execution_count": 24,
     "metadata": {},
     "output_type": "execute_result"
    }
   ],
   "source": [
    "model3.fit(X_train, y_train, eval_metric=[\"error\", \"logloss\"], eval_set=eval_set, verbose=True)"
   ]
  },
  {
   "cell_type": "code",
   "execution_count": 25,
   "metadata": {},
   "outputs": [],
   "source": [
    "def specifity(y_true_function,y_pred_function):\n",
    "    \n",
    "    \"\"\"\n",
    "    \n",
    "    \n",
    "    \"\"\"\n",
    "    try:\n",
    "        tn, fp, fn, tp = confussion_matrix_function(y_true_function.tolist(), y_pred_function.tolist()).ravel()\n",
    "        score = (tp*100) / (fn+(np.exp(fp)))\n",
    "        return score\n",
    "    except:\n",
    "        return 0\n",
    "\n",
    " # score will negate the return value of my_custom_loss_func,\n",
    "# which will be np.log(2), 0.693, given the values for X\n",
    "# and y defined below.\n",
    "specifity_scorer = make_scorer(specifity, greater_is_better=True)"
   ]
  },
  {
   "cell_type": "code",
   "execution_count": null,
   "metadata": {},
   "outputs": [
    {
     "name": "stdout",
     "output_type": "stream",
     "text": [
      "Accuracy: 0\n"
     ]
    },
    {
     "data": {
      "image/png": "[encoded data removed]",
      "text/plain": [
       "<Figure size 432x288 with 1 Axes>"
      ]
     },
     "metadata": {
      "needs_background": "light"
     },
     "output_type": "display_data"
    },
    {
     "data": {
      "image/png": "[encoded data removed]",
      "text/plain": [
       "<Figure size 432x288 with 1 Axes>"
      ]
     },
     "metadata": {
      "needs_background": "light"
     },
     "output_type": "display_data"
    }
   ],
   "source": [
    "# make predictions for test data\n",
    "y_pred = model3.predict(X_test)\n",
    "predictions = [round(value) for value in y_pred]\n",
    "# evaluate predictions\n",
    "accuracy = specifity(predictions,y_test)\n",
    "print(\"Accuracy: \" +str(accuracy))\n",
    "# retrieve performance metrics\n",
    "results = model3.evals_result()\n",
    "epochs = len(results['validation_0']['error'])\n",
    "x_axis = range(0, epochs)\n",
    "\n",
    "\n",
    "# plot log loss\n",
    "fig, ax = pyplot.subplots()\n",
    "ax.plot(x_axis, results['validation_0']['logloss'], label='Train')\n",
    "ax.plot(x_axis, results['validation_1']['logloss'], label='Test')\n",
    "ax.legend()\n",
    "pyplot.ylabel('Log Loss')\n",
    "pyplot.title('XGBoost Log Loss')\n",
    "pyplot.show()\n",
    "\n",
    "\n",
    "# plot classification error\n",
    "fig, ax = pyplot.subplots()\n",
    "ax.plot(x_axis, results['validation_0']['error'], label='Train')\n",
    "ax.plot(x_axis, results['validation_1']['error'], label='Test')\n",
    "ax.legend()\n",
    "pyplot.ylabel('Classification Error')\n",
    "pyplot.title('XGBoost Classification Error')\n",
    "pyplot.show()"
   ]
  },
  {
   "cell_type": "markdown",
   "metadata": {},
   "source": [
    "## GridSearch"
   ]
  },
  {
   "cell_type": "markdown",
   "metadata": {},
   "source": [
    "## Plot"
   ]
  },
  {
   "cell_type": "code",
   "execution_count": null,
   "metadata": {},
   "outputs": [],
   "source": [
    "def model_specifity_ploter(df_specifity,score):\n",
    "    \"\"\"\n",
    "\n",
    "\n",
    "    \"\"\"\n",
    "\n",
    "    #Gráficas\n",
    "    specifity_test_plot = df_specifity.mean(axis=0).values\n",
    "    df_specifity=df_specifity.T\n",
    "\n",
    "    plt.subplots(figsize=(8, 3))\n",
    "    plt.plot(values_search, specifity_test_plot,color=\"royalblue\")\n",
    "    plt.title(str(score))\n",
    "\n",
    "\n",
    "  \n",
    "    plt.tight_layout()\n",
    "    plt.show() "
   ]
  },
  {
   "cell_type": "markdown",
   "metadata": {},
   "source": [
    "### Verification"
   ]
  },
  {
   "cell_type": "code",
   "execution_count": null,
   "metadata": {},
   "outputs": [],
   "source": [
    "def verification_model_score(\n",
    "                            df,target,n_iteraciones,\n",
    "                            iteraciones,n_iteracion):\n",
    "    \"\"\"\n",
    "    \n",
    "    \n",
    "    \"\"\"\n",
    "    dataset = df.copy()\n",
    "    #dataset.drop([\"fecha\"],axis=1,inplace=True)\n",
    "    dataset.dropna(inplace=True)\n",
    "    dataset.drop(lista[:],axis=1,inplace=True)\n",
    "\n",
    "    X = dataset.loc[:, dataset.columns != target]\n",
    "    y = dataset[target]\n",
    "\n",
    "    #Definimos los conjuntos de prueba:\n",
    "\n",
    "    #X_train, X_test, y_train, y_test = train_test_split(X, y, test_size=0.3, random_state=rd.randint(1,100))\n",
    "    #Definimos los conjuntos de prueba:\n",
    "    iteraciones = [entrada for entrada in range(n_iteraciones)] ##definimos el número de iteraciones\n",
    "    \n",
    "    df_confussion_test = pd.DataFrame(index=iteraciones, columns=[\"tn\",\"fp\",\"fn\",\"tp\"])\n",
    "    df_confussion_mean_test = pd.DataFrame(index=[0,1], columns=[0,1])\n",
    "\n",
    "    for iteracion in iteraciones:\n",
    "        X_train, X_test, y_train, y_test = train_test_split(X, y, test_size=0.3, random_state=rd.randint(1,100))\n",
    "        model = XGBClassifier(params=parameters[n_iteracion])#definimos los parametros\n",
    "        model_train = model.fit(X_train, y_train)#fit\n",
    "        pred_test = model_train.predict(X_test)\n",
    "        #confussion matrix\n",
    "        df_confussion_test.iloc[iteracion,:] = confussion_matrix_function(y_test,pred_test).ravel()\n",
    "\n",
    "    print(df_confussion_test)\n",
    "    \n",
    "    df_confussion_mean_test.iloc[0,:] = df_confussion_test.describe().iloc[1,0:2].values\n",
    "    df_confussion_mean_test.iloc[1,:] = df_confussion_test.describe().iloc[1,2:4].values\n",
    "    df_confussion_mean_test = df_confussion_mean_test.apply(pd.to_numeric, errors='ignore')\n",
    "\n",
    "    sn.heatmap(df_confussion_mean_test, annot=True)"
   ]
  },
  {
   "cell_type": "code",
   "execution_count": null,
   "metadata": {},
   "outputs": [],
   "source": [
    "hora = 11\n",
    "\n",
    "dataset = data_hour_merge_training.copy()\n",
    "#dataset.drop([\"fecha\"],axis=1,inplace=True)\n",
    "dataset.dropna(inplace=True)\n",
    "dataset.drop(lista[:],axis=1,inplace=True)\n",
    "\n",
    "X = dataset.loc[:, dataset.columns != \"class\"]\n",
    "y = dataset[\"class\"]\n",
    "\n",
    "#Definimos los conjuntos de prueba:\n",
    "\n",
    "X_train, X_test, y_train, y_test = train_test_split(X, y, test_size=0.3, random_state=rd.randint(1,100))"
   ]
  },
  {
   "cell_type": "code",
   "execution_count": null,
   "metadata": {},
   "outputs": [],
   "source": [
    "def printProgressBar (iteration, total, prefix = '', suffix = '', decimals = 1, length = 100, fill = '█'):\n",
    "    \"\"\"\n",
    "    Call in a loop to create terminal progress bar\n",
    "    @params:\n",
    "        iteration   - Required  : current iteration (Int)\n",
    "        total       - Required  : total iterations (Int)\n",
    "        prefix      - Optional  : prefix string (Str)\n",
    "        suffix      - Optional  : suffix string (Str)\n",
    "        decimals    - Optional  : positive number of decimals in percent complete (Int)\n",
    "        length      - Optional  : character length of bar (Int)\n",
    "        fill        - Optional  : bar fill character (Str)\n",
    "    \"\"\"\n",
    "    percent = (\"{0:.\" + str(decimals) + \"f}\").format(100 * (iteration / float(total)))\n",
    "    filledLength = int(length * iteration // total)\n",
    "    bar = fill * filledLength + '-' * (length - filledLength)\n",
    "    print('\\r%s |%s| %s%% %s' % (prefix, bar, percent, suffix), end = '\\r')\n",
    "    # Print New Line on Complete\n",
    "    if iteration == total: \n",
    "        print()"
   ]
  },
  {
   "cell_type": "code",
   "execution_count": null,
   "metadata": {},
   "outputs": [],
   "source": [
    "def xgboost_autoparameter_tunning(\n",
    "                                df,target,parameter_grid,resamples,\n",
    "                                parameters_list,score=specifity): \n",
    "    \n",
    "    intentos = [number for number in range(resamples)]\n",
    "    parameters_numbers_position = [i for i in range(len(parameters))]\n",
    "    df_specifity = pd.DataFrame(columns=parameters_numbers_position,index=intentos)\n",
    "    toolbar_width = len(intentos)\n",
    "    \n",
    "    \n",
    "    ## progress bar \n",
    "    l = len(intentos)\n",
    "    # Initial call to print 0% progress\n",
    "    printProgressBar(0, l, prefix = 'Intentos:', suffix = '', length = 50)\n",
    "\n",
    "    for intento in range(len(intentos)):\n",
    "        \n",
    "        X_training, X_testing, y_training, y_testing = train_test_split(X, y, test_size=0.3,   \n",
    "                                                                        random_state=rd.randint(100,200)) \n",
    "        specifity_test_list = []# para cada conjunto de parametr\n",
    "\n",
    "        for parameter_value in range(len(parameters_numbers_position)): ## iteramos sobre el parámetro deseado \n",
    "\n",
    "            model = XGBClassifier(**parameters[parameter_value])\n",
    "            train_model = model.fit(X_training, y_training) ##model fit\n",
    "\n",
    "            pred_test = train_model.predict(X_testing)  # predict verification\n",
    "\n",
    "            specifity_test = specifity(y_testing,pred_test)## specifity model\n",
    "            specifity_test_list.append(specifity_test)# specifity of search values and numbers\n",
    "            \n",
    "            \n",
    "        time.sleep(0.1)\n",
    "            # Update Progress Bar\n",
    "        printProgressBar(intento + 1, l, prefix = 'Intentos:', suffix = '', length = 50)\n",
    "\n",
    "            #print(specifity_test)\n",
    "        specifity_test_list\n",
    "        #print(df_specifity)\n",
    "\n",
    "        df_specifity.loc[intento,:] = specifity_test_list\n",
    "        \n",
    "        \n",
    "        \n",
    "    df_specifity = df_specifity.apply(pd.to_numeric, errors = 'coerce')\n",
    "    time.sleep(0)\n",
    "    maximo = max(df_specifity.mean(axis=0))\n",
    "\n",
    "    pos_maximum = [i for i,j in enumerate(df_specifity.mean(axis=0)) if j == maximo][0]\n",
    "    maximo = round(maximo,2)\n",
    "\n",
    "    #print(round(df_specifity.mean(axis=0),2))\n",
    "\n",
    "    #print(df_confussion_mean)\n",
    "    model_specifity_ploter(df_specifity,specifity)\n",
    "    print()\n",
    "    print(\"El máximo es para n=\"+ str(pos_maximum) + \"  k=\" + str(parameters[pos_maximum]) + \n",
    "          \" con un \" +\"score\"+\"=  \" +  str(maximo))"
   ]
  },
  {
   "cell_type": "markdown",
   "metadata": {},
   "source": [
    "# booster"
   ]
  },
  {
   "cell_type": "code",
   "execution_count": null,
   "metadata": {},
   "outputs": [
    {
     "name": "stdout",
     "output_type": "stream",
     "text": [
      "Intentos: |██████████████████████████████████████████████████| 100.0% \n"
     ]
    },
    {
     "data": {
      "image/png": "[encoded data removed]",
      "text/plain": [
       "<Figure size 576x216 with 1 Axes>"
      ]
     },
     "metadata": {
      "needs_background": "light"
     },
     "output_type": "display_data"
    },
    {
     "name": "stdout",
     "output_type": "stream",
     "text": [
      "\n",
      "El máximo es para n=0  k={'booster': 'gbtree', 'colsample_bylevel': 1, 'colsample_bynode': 1, 'colsample_bytree': 1, 'gamma': 0, 'learning_rate': 0.01, 'max_delta_step': 0, 'max_depth': 10, 'n_estimators': 100, 'n_jobs': 100, 'nthread': None, 'objective': 'binary:logistic', 'verbosity': 1} con un score=  3.87\n"
     ]
    }
   ],
   "source": [
    "values_search=[\"gbtree\",\"gblinear\",\"dart\"]\n",
    "parameter_grid=values_search\n",
    "parameters = [{ \"booster\":Serch_parameter, \"colsample_bylevel\":1,\n",
    " \"colsample_bynode\":1, \"colsample_bytree\":1, \"gamma\":0, \"learning_rate\":0.01,\"max_delta_step\":0, \n",
    " \"max_depth\":10,\"n_estimators\":100, \"n_jobs\":100, \"nthread\":None,\n",
    " \"objective\":'binary:logistic', \"verbosity\":1} for Serch_parameter in parameter_grid]\n",
    "\n",
    "xgboost_autoparameter_tunning(data_hour_merge_training,\"class\",parameter_grid,20,values_search)"
   ]
  },
  {
   "cell_type": "markdown",
   "metadata": {},
   "source": [
    "## Verification"
   ]
  },
  {
   "cell_type": "code",
   "execution_count": null,
   "metadata": {},
   "outputs": [
    {
     "name": "stdout",
     "output_type": "stream",
     "text": [
      "     tn  fp  fn  tp\n",
      "0  8560   3  47  23\n",
      "1  8553   7  49  24\n",
      "2  8548  17  47  21\n",
      "3  8558  11  41  23\n",
      "4  8559   5  43  26\n"
     ]
    },
    {
     "data": {
      "image/png": "[encoded data removed]",
      "text/plain": [
       "<Figure size 432x288 with 2 Axes>"
      ]
     },
     "metadata": {
      "needs_background": "light"
     },
     "output_type": "display_data"
    }
   ],
   "source": [
    "verification_model_score(data_hour_merge_training,\"class\",5,parameters,0)"
   ]
  },
  {
   "cell_type": "markdown",
   "metadata": {},
   "source": [
    "### min_child_weight"
   ]
  },
  {
   "cell_type": "code",
   "execution_count": null,
   "metadata": {},
   "outputs": [
    {
     "name": "stdout",
     "output_type": "stream",
     "text": [
      "Intentos: |██████████████████████████████████████████████████| 100.0% \n"
     ]
    },
    {
     "data": {
      "image/png": "[encoded data removed]",
      "text/plain": [
       "<Figure size 576x216 with 1 Axes>"
      ]
     },
     "metadata": {
      "needs_background": "light"
     },
     "output_type": "display_data"
    },
    {
     "name": "stdout",
     "output_type": "stream",
     "text": [
      "\n",
      "El máximo es para n=0  k={'base_score': 0.5, 'booster': 'gbtree', 'colsample_bylevel': 1, 'colsample_bynode': 1, 'colsample_bytree': 1, 'gamma': 0, 'learning_rate': 0.9, 'max_delta_step': 0, 'max_depth': 10, 'min_child_weight': 0, 'missing': None, 'n_estimators': 65, 'n_jobs': 100, 'nthread': None, 'objective': 'binary:logitraw', 'random_state': 0, 'reg_alpha': 0, 'reg_lambda': 1, 'scale_pos_weight': 1, 'seed': None, 'silent': None, 'subsample': 1, 'verbosity': 1} con un score=  22.01\n"
     ]
    }
   ],
   "source": [
    "parameter_grid=[i for i in range(0,120,5)]\n",
    "values_search=parameter_grid\n",
    "parameters = [{\"base_score\":0.5, \"booster\":'gbtree', \"colsample_bylevel\":1,\n",
    " \"colsample_bynode\":1, \"colsample_bytree\":1, \"gamma\":0, \"learning_rate\":0.9,\"max_delta_step\":0, \n",
    " \"max_depth\":10, \"min_child_weight\":Serch_parameter, \"missing\":None,\"n_estimators\":65, \"n_jobs\":100, \n",
    "\"nthread\":None,\"objective\":'binary:logitraw', \"random_state\":0, \"reg_alpha\":0,\n",
    "\"reg_lambda\":1, \"scale_pos_weight\":1, \"seed\":None, \"silent\":None,\n",
    "\"subsample\":1, \"verbosity\":1} for Serch_parameter in parameter_grid]\n",
    "\n",
    "xgboost_autoparameter_tunning(data_hour_merge_training,\"class\",parameter_grid,5,parameters)"
   ]
  },
  {
   "cell_type": "code",
   "execution_count": null,
   "metadata": {},
   "outputs": [
    {
     "name": "stdout",
     "output_type": "stream",
     "text": [
      "     tn  fp  fn  tp\n",
      "0  8566   3  43  21\n",
      "1  8574   8  33  18\n",
      "2  8554   8  47  24\n",
      "3  8543  28  42  20\n",
      "4  8558  10  41  24\n"
     ]
    },
    {
     "data": {
      "image/png": "[encoded data removed]",
      "text/plain": [
       "<Figure size 432x288 with 2 Axes>"
      ]
     },
     "metadata": {
      "needs_background": "light"
     },
     "output_type": "display_data"
    }
   ],
   "source": [
    "verification_model_score(data_hour_merge_training,\"class\",5,parameters,0)"
   ]
  },
  {
   "cell_type": "markdown",
   "metadata": {},
   "source": [
    "### n_estimators"
   ]
  },
  {
   "cell_type": "code",
   "execution_count": null,
   "metadata": {},
   "outputs": [
    {
     "name": "stdout",
     "output_type": "stream",
     "text": [
      "Intentos: |██████████████████████████████████████████████████| 100.0% \n"
     ]
    },
    {
     "data": {
      "image/png": "[encoded data removed]",
      "text/plain": [
       "<Figure size 576x216 with 1 Axes>"
      ]
     },
     "metadata": {
      "needs_background": "light"
     },
     "output_type": "display_data"
    },
    {
     "name": "stdout",
     "output_type": "stream",
     "text": [
      "\n",
      "El máximo es para n=8  k={'base_score': 0.5, 'booster': 'gbtree', 'colsample_bylevel': 1, 'colsample_bynode': 1, 'colsample_bytree': 1, 'gamma': 0, 'learning_rate': 0.03, 'max_delta_step': 0, 'max_depth': 10, 'min_child_weight': 0, 'missing': None, 'n_estimators': 400, 'n_jobs': 100, 'nthread': None, 'objective': 'binary:logitraw', 'random_state': 0, 'reg_alpha': 0, 'reg_lambda': 1, 'scale_pos_weight': 1, 'seed': None, 'silent': None, 'subsample': 1, 'verbosity': 1} con un score=  25.77\n"
     ]
    }
   ],
   "source": [
    "parameter_grid=[i for i in range(0,500,50)]\n",
    "values_search=parameter_grid\n",
    "parameters = [{\"base_score\":0.5, \"booster\":'gbtree', \"colsample_bylevel\":1,\n",
    " \"colsample_bynode\":1, \"colsample_bytree\":1, \"gamma\":0, \"learning_rate\":0.03,\"max_delta_step\":0, \n",
    " \"max_depth\":10, \"min_child_weight\":0, \"missing\":None,\"n_estimators\":Serch_parameter, \"n_jobs\":100, \n",
    "\"nthread\":None,\"objective\":'binary:logitraw', \"random_state\":0, \"reg_alpha\":0,\n",
    "\"reg_lambda\":1, \"scale_pos_weight\":1, \"seed\":None, \"silent\":None,\n",
    "\"subsample\":1, \"verbosity\":1} for Serch_parameter in parameter_grid]\n",
    "xgboost_autoparameter_tunning(data_hour_merge_training,\"class\",parameter_grid,2,parameters)"
   ]
  },
  {
   "cell_type": "code",
   "execution_count": null,
   "metadata": {},
   "outputs": [
    {
     "name": "stdout",
     "output_type": "stream",
     "text": [
      "     tn  fp  fn  tp\n",
      "0  8553   7  49  24\n",
      "1  8548   8  54  23\n",
      "2  8570   7  44  12\n"
     ]
    },
    {
     "data": {
      "image/png": "[encoded data removed]",
      "text/plain": [
       "<Figure size 432x288 with 2 Axes>"
      ]
     },
     "metadata": {
      "needs_background": "light"
     },
     "output_type": "display_data"
    }
   ],
   "source": [
    "verification_model_score(data_hour_merge_training,\"class\",3,parameters,9)"
   ]
  },
  {
   "cell_type": "markdown",
   "metadata": {},
   "source": [
    "#### Gamma"
   ]
  },
  {
   "cell_type": "code",
   "execution_count": null,
   "metadata": {
    "scrolled": false
   },
   "outputs": [
    {
     "name": "stdout",
     "output_type": "stream",
     "text": [
      "Intentos: |██████████████████████████████████████████████████| 100.0% \n"
     ]
    },
    {
     "data": {
      "image/png": "[encoded data removed]",
      "text/plain": [
       "<Figure size 576x216 with 1 Axes>"
      ]
     },
     "metadata": {
      "needs_background": "light"
     },
     "output_type": "display_data"
    },
    {
     "name": "stdout",
     "output_type": "stream",
     "text": [
      "\n",
      "El máximo es para n=0  k={'base_score': 0.5, 'booster': 'gbtree', 'colsample_bylevel': 1, 'colsample_bynode': 1, 'colsample_bytree': 1, 'gamma': 0, 'learning_rate': 0.03, 'max_delta_step': 0, 'max_depth': 10, 'min_child_weight': 0, 'missing': None, 'n_estimators': 100, 'n_jobs': 100, 'nthread': None, 'objective': 'binary:logitraw', 'random_state': 0, 'reg_alpha': 0, 'reg_lambda': 1, 'scale_pos_weight': 1, 'seed': None, 'silent': None, 'subsample': 1, 'verbosity': 1} con un score=  18.32\n"
     ]
    }
   ],
   "source": [
    "parameter_grid=[i for i in range(0,100,20)]\n",
    "values_search=parameter_grid\n",
    "parameters = [{\"base_score\":0.5, \"booster\":'gbtree', \"colsample_bylevel\":1,\n",
    " \"colsample_bynode\":1, \"colsample_bytree\":1, \"gamma\":Serch_parameter, \"learning_rate\":0.03,\"max_delta_step\":0, \n",
    " \"max_depth\":10, \"min_child_weight\":0, \"missing\":None,\"n_estimators\":100, \"n_jobs\":100, \n",
    "\"nthread\":None,\"objective\":'binary:logitraw', \"random_state\":0, \"reg_alpha\":0,\n",
    "\"reg_lambda\":1, \"scale_pos_weight\":1, \"seed\":None, \"silent\":None,\n",
    "\"subsample\":1, \"verbosity\":1} for Serch_parameter in parameter_grid]\n",
    "xgboost_autoparameter_tunning(data_hour_merge_training,\"class\",parameter_grid,2,parameters)"
   ]
  },
  {
   "cell_type": "code",
   "execution_count": null,
   "metadata": {},
   "outputs": [
    {
     "name": "stdout",
     "output_type": "stream",
     "text": [
      "      tn  fp  fn  tp\n",
      "0   8567   9  36  21\n",
      "1   8568  10  40  15\n",
      "2   8565   6  41  21\n",
      "3   8554   4  47  28\n",
      "4   8553   6  51  23\n",
      "5   8564   6  43  20\n",
      "6   8568   9  36  20\n",
      "7   8563   5  44  21\n",
      "8   8584   5  29  15\n",
      "9   8559  11  46  17\n",
      "10  8561   7  47  18\n",
      "11  8566   3  45  19\n",
      "12  8555   4  49  25\n",
      "13  8564   5  43  21\n"
     ]
    },
    {
     "data": {
      "image/png": "[encoded data removed]",
      "text/plain": [
       "<Figure size 432x288 with 2 Axes>"
      ]
     },
     "metadata": {
      "needs_background": "light"
     },
     "output_type": "display_data"
    }
   ],
   "source": [
    "verification_model_score(data_hour_merge_training,\"class\",14,parameters,0)"
   ]
  },
  {
   "cell_type": "markdown",
   "metadata": {},
   "source": [
    "## max_depth"
   ]
  },
  {
   "cell_type": "code",
   "execution_count": null,
   "metadata": {},
   "outputs": [
    {
     "name": "stdout",
     "output_type": "stream",
     "text": [
      "Intentos: |██████████████████████████████████████████████████| 100.0% \n"
     ]
    },
    {
     "data": {
      "image/png": "[encoded data removed]",
      "text/plain": [
       "<Figure size 576x216 with 1 Axes>"
      ]
     },
     "metadata": {
      "needs_background": "light"
     },
     "output_type": "display_data"
    },
    {
     "name": "stdout",
     "output_type": "stream",
     "text": [
      "\n",
      "El máximo es para n=8  k={'base_score': 0.5, 'booster': 'gbtree', 'colsample_bylevel': 1, 'colsample_bynode': 1, 'colsample_bytree': 1, 'gamma': 0, 'learning_rate': 0.03, 'max_delta_step': 0, 'max_depth': 16, 'min_child_weight': 0, 'missing': None, 'n_estimators': 100, 'n_jobs': 100, 'nthread': None, 'objective': 'binary:logitraw', 'random_state': 0, 'reg_alpha': 0, 'reg_lambda': 1, 'scale_pos_weight': 1, 'seed': None, 'silent': None, 'subsample': 1, 'verbosity': 1} con un score=  20.34\n"
     ]
    }
   ],
   "source": [
    "parameter_grid=[i for i in range(0,20,2)]\n",
    "values_search=parameter_grid\n",
    "parameters = [{\"base_score\":0.5, \"booster\":'gbtree', \"colsample_bylevel\":1,\n",
    " \"colsample_bynode\":1, \"colsample_bytree\":1, \"gamma\":0, \"learning_rate\":0.03,\"max_delta_step\":0, \n",
    " \"max_depth\":Serch_parameter, \"min_child_weight\":0, \"missing\":None,\"n_estimators\":100, \"n_jobs\":100, \n",
    "\"nthread\":None,\"objective\":'binary:logitraw', \"random_state\":0, \"reg_alpha\":0,\n",
    "\"reg_lambda\":1, \"scale_pos_weight\":1, \"seed\":None, \"silent\":None,\n",
    "\"subsample\":1, \"verbosity\":1} for Serch_parameter in parameter_grid]\n",
    "xgboost_autoparameter_tunning(data_hour_merge_training,\"class\",parameter_grid,2,parameters)"
   ]
  },
  {
   "cell_type": "code",
   "execution_count": null,
   "metadata": {},
   "outputs": [
    {
     "name": "stdout",
     "output_type": "stream",
     "text": [
      "     tn  fp  fn  tp\n",
      "0  8551   9  50  23\n",
      "1  8570   5  35  23\n",
      "2  8564   2  53  14\n",
      "3  8551   6  53  23\n",
      "4  8557   6  45  25\n"
     ]
    },
    {
     "data": {
      "image/png": "[encoded data removed]",
      "text/plain": [
       "<Figure size 432x288 with 2 Axes>"
      ]
     },
     "metadata": {
      "needs_background": "light"
     },
     "output_type": "display_data"
    }
   ],
   "source": [
    "verification_model_score(data_hour_merge_training,\"class\",5,parameters,3)"
   ]
  },
  {
   "cell_type": "markdown",
   "metadata": {},
   "source": [
    "## reg_alpha"
   ]
  },
  {
   "cell_type": "code",
   "execution_count": null,
   "metadata": {},
   "outputs": [
    {
     "name": "stdout",
     "output_type": "stream",
     "text": [
      "Intentos: |██████████████████████████████████████████████████| 100.0% \n"
     ]
    },
    {
     "data": {
      "image/png": "[encoded data removed]",
      "text/plain": [
       "<Figure size 576x216 with 1 Axes>"
      ]
     },
     "metadata": {
      "needs_background": "light"
     },
     "output_type": "display_data"
    },
    {
     "name": "stdout",
     "output_type": "stream",
     "text": [
      "\n",
      "El máximo es para n=1  k={'base_score': 0.5, 'booster': 'gbtree', 'colsample_bylevel': 1, 'colsample_bynode': 1, 'colsample_bytree': 1, 'gamma': 0, 'learning_rate': 0.03, 'max_delta_step': 0, 'max_depth': 6, 'min_child_weight': 0, 'missing': None, 'n_estimators': 100, 'n_jobs': 100, 'nthread': None, 'objective': 'binary:logitraw', 'random_state': 0, 'reg_alpha': 2, 'reg_lambda': 1, 'scale_pos_weight': 1, 'seed': None, 'silent': None, 'subsample': 1, 'verbosity': 1} con un score=  23.54\n"
     ]
    }
   ],
   "source": [
    "parameter_grid=[i for i in range(0,20,2)]\n",
    "values_search=parameter_grid\n",
    "parameters = [{\"base_score\":0.5, \"booster\":'gbtree', \"colsample_bylevel\":1,\n",
    " \"colsample_bynode\":1, \"colsample_bytree\":1, \"gamma\":0, \"learning_rate\":0.03,\"max_delta_step\":0, \n",
    " \"max_depth\":6, \"min_child_weight\":0, \"missing\":None,\"n_estimators\":100, \"n_jobs\":100, \n",
    "\"nthread\":None,\"objective\":'binary:logitraw', \"random_state\":0, \"reg_alpha\":Serch_parameter,\n",
    "\"reg_lambda\":1, \"scale_pos_weight\":1, \"seed\":None, \"silent\":None,\n",
    "\"subsample\":1, \"verbosity\":1} for Serch_parameter in parameter_grid]\n",
    "xgboost_autoparameter_tunning(data_hour_merge_training,\"class\",parameter_grid,2,parameters)"
   ]
  },
  {
   "cell_type": "code",
   "execution_count": null,
   "metadata": {},
   "outputs": [
    {
     "name": "stdout",
     "output_type": "stream",
     "text": [
      "     tn  fp  fn  tp\n",
      "0  8553   7  54  19\n",
      "1  8564   2  53  14\n"
     ]
    },
    {
     "data": {
      "image/png": "[encoded data removed]",
      "text/plain": [
       "<Figure size 432x288 with 2 Axes>"
      ]
     },
     "metadata": {
      "needs_background": "light"
     },
     "output_type": "display_data"
    }
   ],
   "source": [
    "verification_model_score(data_hour_merge_training,\"class\",2,parameters,0)"
   ]
  },
  {
   "cell_type": "markdown",
   "metadata": {},
   "source": [
    "### scale_pos_weight"
   ]
  },
  {
   "cell_type": "code",
   "execution_count": null,
   "metadata": {
    "scrolled": false
   },
   "outputs": [
    {
     "name": "stdout",
     "output_type": "stream",
     "text": [
      "Intentos: |████████████████----------------------------------| 33.3% \r"
     ]
    }
   ],
   "source": [
    "parameter_grid=[i/100 for i in range(0,100,10)]\n",
    "values_search=parameter_grid\n",
    "parameters = [{\"base_score\":0.5, \"booster\":'gbtree', \"colsample_bylevel\":1,\n",
    " \"colsample_bynode\":1, \"colsample_bytree\":1, \"gamma\":0, \"learning_rate\":Serch_parameter,\"max_delta_step\":0, \n",
    " \"max_depth\":6, \"min_child_weight\":0, \"missing\":None,\"n_estimators\":100, \"n_jobs\":100, \n",
    "\"nthread\":None,\"objective\":'binary:logitraw', \"random_state\":0, \"reg_alpha\":0,\n",
    "\"reg_lambda\":1, \"scale_pos_weight\":1, \"seed\":None, \"silent\":None,\n",
    "\"subsample\":1, \"verbosity\":1} for Serch_parameter in parameter_grid]\n",
    "xgboost_autoparameter_tunning(data_hour_merge_training,\"class\",parameter_grid,3,parameters)"
   ]
  },
  {
   "cell_type": "code",
   "execution_count": null,
   "metadata": {
    "scrolled": true
   },
   "outputs": [],
   "source": [
    "verification_model_score(data_hour_merge_training,\"class\",5,parameters,8)"
   ]
  },
  {
   "cell_type": "code",
   "execution_count": null,
   "metadata": {},
   "outputs": [],
   "source": []
  },
  {
   "cell_type": "code",
   "execution_count": null,
   "metadata": {},
   "outputs": [],
   "source": []
  },
  {
   "cell_type": "code",
   "execution_count": null,
   "metadata": {},
   "outputs": [],
   "source": []
  },
  {
   "cell_type": "code",
   "execution_count": null,
   "metadata": {},
   "outputs": [],
   "source": []
  },
  {
   "cell_type": "code",
   "execution_count": null,
   "metadata": {},
   "outputs": [],
   "source": []
  },
  {
   "cell_type": "code",
   "execution_count": null,
   "metadata": {},
   "outputs": [],
   "source": []
  }
 ],
 "metadata": {
  "kernelspec": {
   "display_name": "Python 3",
   "language": "python",
   "name": "python3"
  },
  "language_info": {
   "codemirror_mode": {
    "name": "ipython",
    "version": 3
   },
   "file_extension": ".py",
   "mimetype": "text/x-python",
   "name": "python",
   "nbconvert_exporter": "python",
   "pygments_lexer": "ipython3",
   "version": "3.7.3"
  }
 },
 "nbformat": 4,
 "nbformat_minor": 2
}
