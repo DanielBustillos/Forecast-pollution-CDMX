{
 "cells": [
  {
   "cell_type": "markdown",
   "metadata": {},
   "source": [
    "# Entrenamiento PM10 promedio móvil"
   ]
  },
  {
   "cell_type": "markdown",
   "metadata": {},
   "source": [
    "\n",
    "Una vez que se tienen los datos limpios y procesados, estos pueden ser usados para la generación de los modelos. A continuación se muestra el flujo trabajo para la generación de los modelos:\n",
    "\n",
    "<img src=\"./gen_modelos.png\" style=\"height:300px\">\n",
    "\n",
    "Los modelos utilizados son del tipo __supervisado___, esto quiere decir que se necesita tener el valor real para poder generar los modelos, este valor corresponde a la columna del contaminante a pronosticar a una hora específica.  \n",
    "\n",
    "Una vez que se tiene esta columna identificado, es necesario dividir los datos de entrenamiento en dos conjuntos: de __entrenamiento__ y __prueba__. La razón de dividirlos es para poder cuantiﬁcar el desempeño y el correcto funcionamiento de los modelos. El conjunto de entrenamiento correspondió al __80%__ de los datos totales y en éste se ejecutarán los modelos estadísticos para obtener los árboles de decisión y con el conjunto de prueba que correspondió al __20%__ restante, se comparará el pronóstico de los modelos con el valor real.\n",
    "\n",
    "Con el conjunto de entrenamiento se ejecutaron todas las pruebas realizadas, aplicando los modelos de machine learning ya mencionados. Los modelos se optimizaron para tener un correcto pronóstico de valores alrededor del nivel de contaminación de la contingencia ambiental. Los modelos de los tres contaminantes son capaces de generar el pronóstico hasta de 24 horas, para cada hora se generó un modelo de manera que se generaron 24 modelos.\n",
    "\n",
    "\n",
    "### Métricas de Valoración\n",
    "Para medir el desempeño de un modelo de pronóstico es importante contar con una métrica de desempeño. Medir el desempeño del pronóstico es importante para saber que los métodos y características con los que trabaja el pronóstico son los adecuados. Además, calcular el desempeño de los modelos nos ayudará en la búsqueda de partes del pronóstico que no trabajen de manera óptima y con esto tomar decisiones para mejorar el desempeño del mismo. Las principales métricas usadas para medir el desempeño del modelo son el RMSE que nos indica qué tanto se aleja la predicción del valor real, la R2 que determina la calidad del modelo para replicar los resultados y la proporción de variación de los resultados que puede explicarse por el modelo y la precisión que nos indica cuántos falsos positivos genera el modelo es decir, cuántas contingencias son pronosticadas incorrectamente por cada contingencia pronosticada correctamente.\n",
    "\n",
    "\n",
    "__Pasos y descripción general del notebook__\n",
    "\n",
    "\n",
    "- __Datos recibidos:__ Limpieza de datos inicial\n",
    "- __Responsable:__ Daniel Bustillos\n",
    "- __Contacto:__  juandaniel.bucam@gmail.com\n"
   ]
  },
  {
   "cell_type": "code",
   "execution_count": 39,
   "metadata": {},
   "outputs": [],
   "source": [
    "import xgboost as xgb\n",
    "from xgboost import XGBClassifier\n",
    "from xgboost import plot_tree\n",
    "\n",
    "from sklearn.svm import SVR\n",
    "from sklearn.preprocessing import StandardScaler\n",
    "from sklearn.metrics import mean_squared_error\n",
    "from sklearn.model_selection import train_test_split\n",
    "import os\n",
    "\n",
    "import numpy as np\n",
    "import matplotlib.pyplot as plt\n",
    "import pandas as pd\n",
    "#import missingno as msn\n",
    "\n",
    "pd.options.mode.chained_assignment = None \n",
    "\n",
    "from sklearn.externals import joblib\n",
    "from xgboost.sklearn import XGBRegressor\n",
    "from sklearn.ensemble import GradientBoostingRegressor \n",
    "\n",
    "from sklearn.datasets import make_regression\n",
    "\n",
    "from sklearn.metrics import confusion_matrix\n",
    "from sklearn.metrics import fbeta_score, make_scorer\n",
    "\n",
    "import seaborn as sn\n",
    "from sklearn.metrics import confusion_matrix as confussion_matrix_function\n",
    "from sklearn.model_selection import GridSearchCV\n",
    "from sklearn.metrics import fbeta_score, make_scorer\n",
    "\n",
    "from sklearn.metrics import accuracy_score\n",
    "from matplotlib import pyplot\n",
    "# plot learning curve\n",
    "from numpy import loadtxt\n",
    "from xgboost import XGBClassifier\n",
    "from sklearn.model_selection import train_test_split\n",
    "from sklearn.metrics import accuracy_score\n",
    "from matplotlib import pyplot\n",
    "import seaborn as sns\n",
    "import random as rd\n",
    "import time"
   ]
  },
  {
   "cell_type": "markdown",
   "metadata": {},
   "source": [
    "#### Hacemos una función para obtenner el -promedio- de los dos modelos"
   ]
  },
  {
   "cell_type": "code",
   "execution_count": 2,
   "metadata": {},
   "outputs": [],
   "source": [
    "def predictor_mean(model0_1,modelo_2,X_set):  \n",
    "    #aplicamos los predict\n",
    "    forecast_q = model0_1.predict(X_set) \n",
    "    forecast = modelo_2.predict(X_set)\n",
    "   #generamos una lista dummy: \n",
    "    forecast_mean = forecast \n",
    "    \n",
    "    for i in range(len(X_set)):\n",
    "        if  forecast[i] < 135:\n",
    "            forecast_mean[i] = forecast[i]\n",
    "        elif  forecast_q[i] > 160:\n",
    "            forecast_mean[i] = forecast_q[i]\n",
    "        if  130 < forecast_q[i] <155 and 130 < forecast[i] < 155:\n",
    "            forecast_mean[i] = (0.3*forecast_q[i] + 0.7*forecast[i])\n",
    "        if  140 < forecast_q[i] <160 and 140 < forecast[i] < 160:\n",
    "            forecast_mean[i] = (forecast_q[i] + forecast[i])/2\n",
    "    return forecast_mean"
   ]
  },
  {
   "cell_type": "markdown",
   "metadata": {},
   "source": [
    "Definimos el score [specifity](https://es.wikipedia.org/wiki/Especificidad_(epidemiología)) que se basa en el número de **TP** por cada **FP + FN**.\n",
    "\n",
    " $$Especifity = \\frac{TP}{FP + FN}$$"
   ]
  },
  {
   "cell_type": "raw",
   "metadata": {},
   "source": [
    "def specifity(y_true, y_pred):\n",
    "    tn, fp, fn, tp = confussion_matrix_function(y_true.tolist(), y_pred.tolist()).ravel()\n",
    "    specifity_score = tp / (fn+fp)\n",
    "    return specifity_score\n",
    "def specifity1(y_true, y_pred):\n",
    "    tn, fp, fn, tp = confussion_matrix_function(y_true, y_pred).ravel()\n",
    "    specifity_score = tp / (fn+fp)\n",
    "    return specifity_score\n",
    "\n",
    " # score will negate the return value of my_custom_loss_func,\n",
    "# which will be np.log(2), 0.693, given the values for X\n",
    "# and y defined below.\n",
    "specifity_scorer = make_scorer(specifity, greater_is_better=True)\n",
    "\n",
    " # score will negate the return value of my_custom_loss_func,\n",
    "# which will be np.log(2), 0.693, given the values for X\n",
    "# and y defined below.\n",
    "specifity_scorer = make_scorer(specifity, greater_is_better=True)"
   ]
  },
  {
   "cell_type": "markdown",
   "metadata": {},
   "source": [
    "## Hacemos una función para graficar"
   ]
  },
  {
   "cell_type": "code",
   "execution_count": 3,
   "metadata": {},
   "outputs": [],
   "source": [
    "def ploter(y_test_0,X_test_0,pronosticados_0,model):\n",
    "    \n",
    "    plt.scatter(y_test_0, pronosticados_0,alpha=0.5,color=\"royalblue\")\n",
    "    score = round(model.score(X_test_0, y_test_0),3)\n",
    "    rmse = round(np.sqrt(mean_squared_error(y_test_0, pronosticados_0)),3)\n",
    "    plt.plot([30,130],[30,130],color=\"k\",linestyle='--')\n",
    "    \n",
    "    plt.axhline(y=150, color='k', linestyle='--')\n",
    "    plt.axvline(x=150, color='k', linestyle='--')\n",
    "    plt.annotate('TP', (170,150), xytext = (175, 155 + 1), \n",
    "                  horizontalalignment='right')\n",
    "    plt.annotate('FN', (170,150), xytext = (175, 135 + 1), \n",
    "                  horizontalalignment='right')\n",
    "    plt.annotate('FP', (170,150), xytext = (125, 155 + 1), \n",
    "                  horizontalalignment='right')\n",
    "    plt.annotate('FP', (170,150), xytext = (125, 135 + 1), \n",
    "                  horizontalalignment='right')\n",
    "    plt.annotate(\"Score =\"+str(score), (15,139), xytext = (15, 139 + 1), \n",
    "                  horizontalalignment='left')\n",
    "    plt.annotate(\"RMSE =\"+str(rmse), (15,119), xytext = (15, 119 + 1), \n",
    "                  horizontalalignment='left')\n",
    "    \n",
    "    \n",
    "    plt.xlabel('Measured')\n",
    "    plt.ylabel('Predicted')\n",
    "    plt.title('Pronóstico con Persistencia Temporal')\n",
    "    plt.show()"
   ]
  },
  {
   "cell_type": "markdown",
   "metadata": {},
   "source": [
    "## Cargamos los modelos ya entrenados:"
   ]
  },
  {
   "cell_type": "code",
   "execution_count": 4,
   "metadata": {},
   "outputs": [],
   "source": [
    "conta = 'PM10mean'"
   ]
  },
  {
   "cell_type": "code",
   "execution_count": 5,
   "metadata": {},
   "outputs": [],
   "source": [
    "model = [0 for col in range(25)]\n",
    "modelq = [0 for col in range(25)]"
   ]
  },
  {
   "cell_type": "raw",
   "metadata": {},
   "source": [
    "for i in range(0,23):\n",
    "    model[i] = joblib.load(str('./modelos/'+ conta +'/'+ conta + '_'+str(i+1)+'hora.pkl'))\n",
    "    print(str('./modelos/' + conta + '/' + conta + '_' + str(i+1)+'hora.pkl'))\n",
    "   # modelq[i] = joblib.load(str('./modelos/'+conta+'/' + conta+ '_'+str(i+1)+'hora_quantile.pkl'))\n",
    "    if i == range(0,24)[-1]:\n",
    "        print('./modelos/O3/O3_'+str(i+1)+'hora.pkl')"
   ]
  },
  {
   "cell_type": "markdown",
   "metadata": {},
   "source": [
    "#### Cargamos los datos:"
   ]
  },
  {
   "cell_type": "code",
   "execution_count": 6,
   "metadata": {},
   "outputs": [],
   "source": [
    "data_hour_merge = pd.read_csv(str(\"/DATA/paw/jupyterhub_notebook/daniel.bustillos/DanielBustillos/\"+\n",
    "                                  \"contaminación/pipeline_norberto_11horas/datos/datos_modelos_\"+ conta +\".csv\"))"
   ]
  },
  {
   "cell_type": "code",
   "execution_count": 7,
   "metadata": {},
   "outputs": [],
   "source": [
    "data_hour_merge['fecha'] = pd.to_datetime(data_hour_merge['fecha'], format='%Y-%m-%d %H:%M:%S')\n",
    "data_hour_merge[\"hora\"] = [row[\"fecha\"].hour for index, row in data_hour_merge.iterrows()]"
   ]
  },
  {
   "cell_type": "markdown",
   "metadata": {},
   "source": [
    "### Filtro de contingencia"
   ]
  },
  {
   "cell_type": "code",
   "execution_count": 8,
   "metadata": {},
   "outputs": [],
   "source": [
    "data_hour_merge.loc[data_hour_merge[\"PM10mean_max_frcst_11\"]>171.74, 'class'] = 1\n",
    "data_hour_merge.loc[data_hour_merge[\"PM10mean_max_frcst_11\"]<=171.74, 'class'] = 0"
   ]
  },
  {
   "cell_type": "code",
   "execution_count": 14,
   "metadata": {},
   "outputs": [
    {
     "data": {
      "text/plain": [
       "<matplotlib.axes._subplots.AxesSubplot at 0x7efe3fe0dcf8>"
      ]
     },
     "execution_count": 14,
     "metadata": {},
     "output_type": "execute_result"
    },
    {
     "data": {
      "image/png": "[encoded data removed]",
      "text/plain": [
       "<Figure size 432x288 with 1 Axes>"
      ]
     },
     "metadata": {
      "needs_background": "light"
     },
     "output_type": "display_data"
    }
   ],
   "source": [
    "sns.distplot(data_hour_merge[\"hora\"][data_hour_merge[\"class\"]==1], kde=True, rug=True)"
   ]
  },
  {
   "cell_type": "markdown",
   "metadata": {},
   "source": [
    "En contraste con la distriubción de precontingencias del Ozono, en el caso del PM10 y PM2.5, estas están distribuidas a lo largo del día, presumiblemente debido a que se considera el promedio móvil de las últimas 24 horas y no la medición puntual. \n",
    "\n",
    "> __Por este motivo vamos a hacer un 24 modelos, que pronostiquen a las 4am para cada hora del día.__"
   ]
  },
  {
   "cell_type": "markdown",
   "metadata": {},
   "source": [
    "#### Filtramos por el día donnde se va a aplicar el pronóstico:"
   ]
  },
  {
   "cell_type": "raw",
   "metadata": {},
   "source": [
    "list_hours = [4]"
   ]
  },
  {
   "cell_type": "markdown",
   "metadata": {},
   "source": [
    "Definimos la lista de los targets:"
   ]
  },
  {
   "cell_type": "markdown",
   "metadata": {},
   "source": [
    "### No aplica para PM10 o PM25\n",
    "ya que la distribuciónn de contingencias es a lo largo del día"
   ]
  },
  {
   "cell_type": "raw",
   "metadata": {},
   "source": [
    "data_hour_merge= data_hour_merge[data_hour_merge[\"hora\"].isin(list_hours)]\n",
    "data_hour_merge.reset_index(inplace=True,drop=True)\n",
    "#data_hour_merge.drop(\"hora\",axis=1,inplace=True)"
   ]
  },
  {
   "cell_type": "markdown",
   "metadata": {},
   "source": [
    "Borramos las columnas del target."
   ]
  },
  {
   "cell_type": "code",
   "execution_count": 15,
   "metadata": {},
   "outputs": [],
   "source": [
    "target = \"PM10mean_max_frcst_\"\n",
    "\n",
    "lista = []\n",
    "for i in range(1,25):\n",
    "    lista.append(str(target+str(i)))"
   ]
  },
  {
   "cell_type": "code",
   "execution_count": 16,
   "metadata": {},
   "outputs": [],
   "source": [
    "lista = []\n",
    "for i in range(1,25):\n",
    "    lista.append(str(target+str(i)))"
   ]
  },
  {
   "cell_type": "code",
   "execution_count": 17,
   "metadata": {},
   "outputs": [],
   "source": [
    "conta = 'PM10mean'"
   ]
  },
  {
   "cell_type": "markdown",
   "metadata": {},
   "source": [
    "## Training and verificationn split"
   ]
  },
  {
   "cell_type": "markdown",
   "metadata": {},
   "source": [
    "Separamos en conjunto de verificacion y training según el anio:"
   ]
  },
  {
   "cell_type": "code",
   "execution_count": 18,
   "metadata": {},
   "outputs": [],
   "source": [
    "data_hour_merge['fecha'] = pd.to_datetime(data_hour_merge['fecha'], format='%Y-%m-%d %H:%M:%S')\n",
    "data_hour_merge[\"anio\"] = [row[\"fecha\"].year for index, row in data_hour_merge.iterrows()]\n",
    "data_hour_merge[\"mes\"] = [row[\"fecha\"].month for index, row in data_hour_merge.iterrows()]"
   ]
  },
  {
   "cell_type": "code",
   "execution_count": 19,
   "metadata": {},
   "outputs": [],
   "source": [
    "data_hour_merge_training = data_hour_merge[data_hour_merge[\"anio\"].isin([2018, 2017,2016,2015])]\n",
    "data_hour_merge_verification = data_hour_merge[data_hour_merge[\"anio\"].isin([2019,])]"
   ]
  },
  {
   "cell_type": "code",
   "execution_count": 20,
   "metadata": {},
   "outputs": [],
   "source": [
    "data_hour_merge_training.drop(\"fecha\",axis=1,inplace=True)\n",
    "data_hour_merge_verification.drop(\"fecha\",axis=1,inplace=True)\n",
    "data_hour_merge_training.drop(\"anio\",axis=1,inplace=True)\n",
    "data_hour_merge_verification.drop(\"anio\",axis=1,inplace=True)"
   ]
  },
  {
   "cell_type": "code",
   "execution_count": 21,
   "metadata": {},
   "outputs": [],
   "source": [
    "hora = 11\n",
    "dataset = data_hour_merge_verification.copy()\n",
    "#dataset.drop([\"fecha\"],axis=1,inplace=True)\n",
    "dataset.dropna(inplace=True)\n",
    "dataset.drop(lista[:],axis=1,inplace=True)\n",
    "\n",
    "X_verification = dataset.loc[:, dataset.columns != \"class\"]\n",
    "y_verification = dataset[\"class\"]"
   ]
  },
  {
   "cell_type": "code",
   "execution_count": 22,
   "metadata": {},
   "outputs": [],
   "source": [
    "del data_hour_merge_verification"
   ]
  },
  {
   "cell_type": "code",
   "execution_count": 23,
   "metadata": {},
   "outputs": [],
   "source": [
    "del data_hour_merge"
   ]
  },
  {
   "cell_type": "markdown",
   "metadata": {},
   "source": [
    "# Clasificador:"
   ]
  },
  {
   "cell_type": "markdown",
   "metadata": {},
   "source": [
    "#### Definimos los conjuntos Train and Test<a class=\"anchor\" id=\"5-bullet\"></a>"
   ]
  },
  {
   "cell_type": "code",
   "execution_count": 25,
   "metadata": {},
   "outputs": [],
   "source": [
    "from sklearn.metrics import confusion_matrix as confussion_matrix_function\n",
    "from sklearn.model_selection import GridSearchCV"
   ]
  },
  {
   "cell_type": "code",
   "execution_count": 26,
   "metadata": {},
   "outputs": [],
   "source": [
    "hora = 11\n",
    "\n",
    "dataset = data_hour_merge_training.copy()\n",
    "#dataset.drop([\"fecha\"],axis=1,inplace=True)\n",
    "dataset.dropna(inplace=True)\n",
    "dataset.drop(lista[:],axis=1,inplace=True)\n",
    "\n",
    "X = dataset.loc[:, dataset.columns != \"class\"]\n",
    "y = dataset[\"class\"]\n",
    "\n",
    "#Definimos los conjuntos de prueba:\n",
    "\n",
    "X_train, X_test, y_train, y_test = train_test_split(X, y, test_size=0.3, random_state=rd.randint(1,100))"
   ]
  },
  {
   "cell_type": "code",
   "execution_count": 55,
   "metadata": {},
   "outputs": [],
   "source": [
    "model3= selection_model = XGBClassifier(\n",
    " n_estimators=550,\n",
    " max_depth=10,\n",
    " min_child_weight=2,\n",
    " gamma=0,\n",
    " subsample=0.8,\n",
    " colsample_bytree=0.8,\n",
    " objective= 'binary:logistic',\n",
    " nthread=4,\n",
    " scale_pos_weight=1,\n",
    " seed=2)\n",
    "# eval model"
   ]
  },
  {
   "cell_type": "code",
   "execution_count": 56,
   "metadata": {},
   "outputs": [],
   "source": [
    "eval_set = [(X_train, y_train), (X_test, y_test)]"
   ]
  },
  {
   "cell_type": "code",
   "execution_count": 57,
   "metadata": {},
   "outputs": [
    {
     "name": "stdout",
     "output_type": "stream",
     "text": [
      "[0]\tvalidation_0-error:0.002772\tvalidation_0-logloss:0.599115\tvalidation_1-error:0.005691\tvalidation_1-logloss:0.599622\n",
      "[1]\tvalidation_0-error:0.002273\tvalidation_0-logloss:0.522084\tvalidation_1-error:0.005044\tvalidation_1-logloss:0.523115\n",
      "[2]\tvalidation_0-error:0.001996\tvalidation_0-logloss:0.457725\tvalidation_1-error:0.004397\tvalidation_1-logloss:0.458996\n",
      "[3]\tvalidation_0-error:0.002051\tvalidation_0-logloss:0.403212\tvalidation_1-error:0.004139\tvalidation_1-logloss:0.404813\n",
      "[4]\tvalidation_0-error:0.001885\tvalidation_0-logloss:0.356656\tvalidation_1-error:0.004139\tvalidation_1-logloss:0.358683\n",
      "[5]\tvalidation_0-error:0.001774\tvalidation_0-logloss:0.3165\tvalidation_1-error:0.003751\tvalidation_1-logloss:0.318858\n",
      "[6]\tvalidation_0-error:0.001718\tvalidation_0-logloss:0.281662\tvalidation_1-error:0.003751\tvalidation_1-logloss:0.284251\n",
      "[7]\tvalidation_0-error:0.001552\tvalidation_0-logloss:0.251343\tvalidation_1-error:0.004009\tvalidation_1-logloss:0.254192\n",
      "[8]\tvalidation_0-error:0.001552\tvalidation_0-logloss:0.224749\tvalidation_1-error:0.004268\tvalidation_1-logloss:0.227853\n",
      "[9]\tvalidation_0-error:0.001608\tvalidation_0-logloss:0.201261\tvalidation_1-error:0.00388\tvalidation_1-logloss:0.204553\n",
      "[10]\tvalidation_0-error:0.001663\tvalidation_0-logloss:0.180629\tvalidation_1-error:0.00388\tvalidation_1-logloss:0.184122\n",
      "[11]\tvalidation_0-error:0.001552\tvalidation_0-logloss:0.162303\tvalidation_1-error:0.003751\tvalidation_1-logloss:0.165977\n",
      "[12]\tvalidation_0-error:0.001441\tvalidation_0-logloss:0.146103\tvalidation_1-error:0.004009\tvalidation_1-logloss:0.150024\n",
      "[13]\tvalidation_0-error:0.001275\tvalidation_0-logloss:0.131616\tvalidation_1-error:0.004139\tvalidation_1-logloss:0.135774\n",
      "[14]\tvalidation_0-error:0.00122\tvalidation_0-logloss:0.118681\tvalidation_1-error:0.00388\tvalidation_1-logloss:0.123042\n",
      "[15]\tvalidation_0-error:0.00122\tvalidation_0-logloss:0.107178\tvalidation_1-error:0.004009\tvalidation_1-logloss:0.111756\n",
      "[16]\tvalidation_0-error:0.001164\tvalidation_0-logloss:0.09679\tvalidation_1-error:0.003751\tvalidation_1-logloss:0.101584\n",
      "[17]\tvalidation_0-error:0.001164\tvalidation_0-logloss:0.087556\tvalidation_1-error:0.003751\tvalidation_1-logloss:0.092484\n",
      "[18]\tvalidation_0-error:0.001109\tvalidation_0-logloss:0.079229\tvalidation_1-error:0.003751\tvalidation_1-logloss:0.0844\n",
      "[19]\tvalidation_0-error:0.000998\tvalidation_0-logloss:0.071743\tvalidation_1-error:0.00388\tvalidation_1-logloss:0.077023\n",
      "[20]\tvalidation_0-error:0.000998\tvalidation_0-logloss:0.065038\tvalidation_1-error:0.003751\tvalidation_1-logloss:0.070428\n",
      "[21]\tvalidation_0-error:0.000998\tvalidation_0-logloss:0.059006\tvalidation_1-error:0.00388\tvalidation_1-logloss:0.064402\n",
      "[22]\tvalidation_0-error:0.000942\tvalidation_0-logloss:0.053583\tvalidation_1-error:0.00388\tvalidation_1-logloss:0.059034\n",
      "[23]\tvalidation_0-error:0.000832\tvalidation_0-logloss:0.048683\tvalidation_1-error:0.003751\tvalidation_1-logloss:0.054292\n",
      "[24]\tvalidation_0-error:0.000776\tvalidation_0-logloss:0.044203\tvalidation_1-error:0.003751\tvalidation_1-logloss:0.049864\n",
      "[25]\tvalidation_0-error:0.000721\tvalidation_0-logloss:0.040194\tvalidation_1-error:0.003621\tvalidation_1-logloss:0.045937\n",
      "[26]\tvalidation_0-error:0.000665\tvalidation_0-logloss:0.036584\tvalidation_1-error:0.003751\tvalidation_1-logloss:0.042385\n",
      "[27]\tvalidation_0-error:0.000665\tvalidation_0-logloss:0.033319\tvalidation_1-error:0.003492\tvalidation_1-logloss:0.039167\n",
      "[28]\tvalidation_0-error:0.000721\tvalidation_0-logloss:0.030383\tvalidation_1-error:0.003621\tvalidation_1-logloss:0.036351\n",
      "[29]\tvalidation_0-error:0.00061\tvalidation_0-logloss:0.027699\tvalidation_1-error:0.003492\tvalidation_1-logloss:0.03383\n",
      "[30]\tvalidation_0-error:0.00061\tvalidation_0-logloss:0.025295\tvalidation_1-error:0.003621\tvalidation_1-logloss:0.031473\n",
      "[31]\tvalidation_0-error:0.00061\tvalidation_0-logloss:0.023091\tvalidation_1-error:0.003492\tvalidation_1-logloss:0.029369\n",
      "[32]\tvalidation_0-error:0.00061\tvalidation_0-logloss:0.021174\tvalidation_1-error:0.003492\tvalidation_1-logloss:0.027488\n",
      "[33]\tvalidation_0-error:0.00061\tvalidation_0-logloss:0.019387\tvalidation_1-error:0.003363\tvalidation_1-logloss:0.025839\n",
      "[34]\tvalidation_0-error:0.00061\tvalidation_0-logloss:0.017757\tvalidation_1-error:0.003363\tvalidation_1-logloss:0.024228\n",
      "[35]\tvalidation_0-error:0.00061\tvalidation_0-logloss:0.016296\tvalidation_1-error:0.003233\tvalidation_1-logloss:0.02277\n",
      "[36]\tvalidation_0-error:0.00061\tvalidation_0-logloss:0.015014\tvalidation_1-error:0.003233\tvalidation_1-logloss:0.021516\n",
      "[37]\tvalidation_0-error:0.00061\tvalidation_0-logloss:0.013819\tvalidation_1-error:0.003233\tvalidation_1-logloss:0.020408\n",
      "[38]\tvalidation_0-error:0.00061\tvalidation_0-logloss:0.01271\tvalidation_1-error:0.003363\tvalidation_1-logloss:0.019347\n",
      "[39]\tvalidation_0-error:0.00061\tvalidation_0-logloss:0.01173\tvalidation_1-error:0.003233\tvalidation_1-logloss:0.018506\n",
      "[40]\tvalidation_0-error:0.000554\tvalidation_0-logloss:0.010825\tvalidation_1-error:0.003104\tvalidation_1-logloss:0.017688\n",
      "[41]\tvalidation_0-error:0.000554\tvalidation_0-logloss:0.01001\tvalidation_1-error:0.002975\tvalidation_1-logloss:0.016928\n",
      "[42]\tvalidation_0-error:0.000554\tvalidation_0-logloss:0.009272\tvalidation_1-error:0.002975\tvalidation_1-logloss:0.016289\n",
      "[43]\tvalidation_0-error:0.000554\tvalidation_0-logloss:0.008538\tvalidation_1-error:0.003233\tvalidation_1-logloss:0.015584\n",
      "[44]\tvalidation_0-error:0.000554\tvalidation_0-logloss:0.007875\tvalidation_1-error:0.003233\tvalidation_1-logloss:0.014946\n",
      "[45]\tvalidation_0-error:0.000499\tvalidation_0-logloss:0.00729\tvalidation_1-error:0.003363\tvalidation_1-logloss:0.01436\n",
      "[46]\tvalidation_0-error:0.000499\tvalidation_0-logloss:0.006792\tvalidation_1-error:0.003104\tvalidation_1-logloss:0.013882\n",
      "[47]\tvalidation_0-error:0.000499\tvalidation_0-logloss:0.00633\tvalidation_1-error:0.002975\tvalidation_1-logloss:0.0134\n",
      "[48]\tvalidation_0-error:0.000499\tvalidation_0-logloss:0.005884\tvalidation_1-error:0.003104\tvalidation_1-logloss:0.012968\n",
      "[49]\tvalidation_0-error:0.000388\tvalidation_0-logloss:0.005493\tvalidation_1-error:0.003104\tvalidation_1-logloss:0.012591\n",
      "[50]\tvalidation_0-error:0.000443\tvalidation_0-logloss:0.005149\tvalidation_1-error:0.003104\tvalidation_1-logloss:0.01228\n",
      "[51]\tvalidation_0-error:0.000388\tvalidation_0-logloss:0.004796\tvalidation_1-error:0.003104\tvalidation_1-logloss:0.011893\n",
      "[52]\tvalidation_0-error:0.000388\tvalidation_0-logloss:0.004488\tvalidation_1-error:0.002975\tvalidation_1-logloss:0.011574\n",
      "[53]\tvalidation_0-error:0.000222\tvalidation_0-logloss:0.004205\tvalidation_1-error:0.003104\tvalidation_1-logloss:0.011298\n",
      "[54]\tvalidation_0-error:0.000222\tvalidation_0-logloss:0.003969\tvalidation_1-error:0.002975\tvalidation_1-logloss:0.01109\n",
      "[55]\tvalidation_0-error:0.000222\tvalidation_0-logloss:0.003745\tvalidation_1-error:0.003104\tvalidation_1-logloss:0.010912\n",
      "[56]\tvalidation_0-error:0.000166\tvalidation_0-logloss:0.003513\tvalidation_1-error:0.002975\tvalidation_1-logloss:0.010652\n",
      "[57]\tvalidation_0-error:0.000166\tvalidation_0-logloss:0.003317\tvalidation_1-error:0.003233\tvalidation_1-logloss:0.010468\n",
      "[58]\tvalidation_0-error:0.000166\tvalidation_0-logloss:0.003134\tvalidation_1-error:0.003104\tvalidation_1-logloss:0.010324\n",
      "[59]\tvalidation_0-error:0.000166\tvalidation_0-logloss:0.002954\tvalidation_1-error:0.003104\tvalidation_1-logloss:0.010103\n",
      "[60]\tvalidation_0-error:0.000166\tvalidation_0-logloss:0.002791\tvalidation_1-error:0.003233\tvalidation_1-logloss:0.009893\n",
      "[61]\tvalidation_0-error:0.000166\tvalidation_0-logloss:0.002665\tvalidation_1-error:0.003492\tvalidation_1-logloss:0.009801\n",
      "[62]\tvalidation_0-error:0.000166\tvalidation_0-logloss:0.002527\tvalidation_1-error:0.003104\tvalidation_1-logloss:0.009656\n",
      "[63]\tvalidation_0-error:0.000166\tvalidation_0-logloss:0.002413\tvalidation_1-error:0.003104\tvalidation_1-logloss:0.009574\n",
      "[64]\tvalidation_0-error:0.000166\tvalidation_0-logloss:0.002304\tvalidation_1-error:0.003233\tvalidation_1-logloss:0.009456\n",
      "[65]\tvalidation_0-error:0.000166\tvalidation_0-logloss:0.002204\tvalidation_1-error:0.003104\tvalidation_1-logloss:0.009376\n",
      "[66]\tvalidation_0-error:0.000166\tvalidation_0-logloss:0.002114\tvalidation_1-error:0.003104\tvalidation_1-logloss:0.009213\n",
      "[67]\tvalidation_0-error:0.000166\tvalidation_0-logloss:0.002033\tvalidation_1-error:0.003104\tvalidation_1-logloss:0.009142\n",
      "[68]\tvalidation_0-error:0.000111\tvalidation_0-logloss:0.001947\tvalidation_1-error:0.003233\tvalidation_1-logloss:0.009068\n"
     ]
    },
    {
     "name": "stdout",
     "output_type": "stream",
     "text": [
      "[69]\tvalidation_0-error:0.000111\tvalidation_0-logloss:0.001868\tvalidation_1-error:0.003233\tvalidation_1-logloss:0.008957\n",
      "[70]\tvalidation_0-error:0.000111\tvalidation_0-logloss:0.001804\tvalidation_1-error:0.003233\tvalidation_1-logloss:0.008885\n",
      "[71]\tvalidation_0-error:0.000111\tvalidation_0-logloss:0.001737\tvalidation_1-error:0.003104\tvalidation_1-logloss:0.008804\n",
      "[72]\tvalidation_0-error:0.000111\tvalidation_0-logloss:0.001667\tvalidation_1-error:0.003104\tvalidation_1-logloss:0.00869\n",
      "[73]\tvalidation_0-error:0.000111\tvalidation_0-logloss:0.001612\tvalidation_1-error:0.003233\tvalidation_1-logloss:0.00862\n",
      "[74]\tvalidation_0-error:0.000111\tvalidation_0-logloss:0.001561\tvalidation_1-error:0.003104\tvalidation_1-logloss:0.008547\n",
      "[75]\tvalidation_0-error:0.000111\tvalidation_0-logloss:0.00151\tvalidation_1-error:0.003104\tvalidation_1-logloss:0.008484\n",
      "[76]\tvalidation_0-error:0.000111\tvalidation_0-logloss:0.001468\tvalidation_1-error:0.002975\tvalidation_1-logloss:0.008399\n",
      "[77]\tvalidation_0-error:0.000111\tvalidation_0-logloss:0.001419\tvalidation_1-error:0.003104\tvalidation_1-logloss:0.008385\n",
      "[78]\tvalidation_0-error:0.000111\tvalidation_0-logloss:0.001383\tvalidation_1-error:0.002975\tvalidation_1-logloss:0.008347\n",
      "[79]\tvalidation_0-error:0.000111\tvalidation_0-logloss:0.001341\tvalidation_1-error:0.002845\tvalidation_1-logloss:0.00824\n",
      "[80]\tvalidation_0-error:0.000111\tvalidation_0-logloss:0.001304\tvalidation_1-error:0.002845\tvalidation_1-logloss:0.008204\n",
      "[81]\tvalidation_0-error:0.000111\tvalidation_0-logloss:0.001271\tvalidation_1-error:0.002716\tvalidation_1-logloss:0.008156\n",
      "[82]\tvalidation_0-error:0.000111\tvalidation_0-logloss:0.001231\tvalidation_1-error:0.002716\tvalidation_1-logloss:0.008081\n",
      "[83]\tvalidation_0-error:0.000111\tvalidation_0-logloss:0.001203\tvalidation_1-error:0.002716\tvalidation_1-logloss:0.008026\n",
      "[84]\tvalidation_0-error:0.000111\tvalidation_0-logloss:0.001171\tvalidation_1-error:0.002716\tvalidation_1-logloss:0.008018\n",
      "[85]\tvalidation_0-error:0.000111\tvalidation_0-logloss:0.001145\tvalidation_1-error:0.002716\tvalidation_1-logloss:0.007946\n",
      "[86]\tvalidation_0-error:5.5e-05\tvalidation_0-logloss:0.001111\tvalidation_1-error:0.002845\tvalidation_1-logloss:0.00791\n",
      "[87]\tvalidation_0-error:5.5e-05\tvalidation_0-logloss:0.001088\tvalidation_1-error:0.002716\tvalidation_1-logloss:0.007879\n",
      "[88]\tvalidation_0-error:5.5e-05\tvalidation_0-logloss:0.001063\tvalidation_1-error:0.002716\tvalidation_1-logloss:0.007877\n",
      "[89]\tvalidation_0-error:5.5e-05\tvalidation_0-logloss:0.001048\tvalidation_1-error:0.002845\tvalidation_1-logloss:0.007887\n",
      "[90]\tvalidation_0-error:5.5e-05\tvalidation_0-logloss:0.00103\tvalidation_1-error:0.002845\tvalidation_1-logloss:0.007824\n",
      "[91]\tvalidation_0-error:5.5e-05\tvalidation_0-logloss:0.001015\tvalidation_1-error:0.002845\tvalidation_1-logloss:0.007804\n",
      "[92]\tvalidation_0-error:5.5e-05\tvalidation_0-logloss:0.000984\tvalidation_1-error:0.002845\tvalidation_1-logloss:0.007723\n",
      "[93]\tvalidation_0-error:5.5e-05\tvalidation_0-logloss:0.000961\tvalidation_1-error:0.002845\tvalidation_1-logloss:0.007698\n",
      "[94]\tvalidation_0-error:5.5e-05\tvalidation_0-logloss:0.000946\tvalidation_1-error:0.002845\tvalidation_1-logloss:0.007654\n",
      "[95]\tvalidation_0-error:5.5e-05\tvalidation_0-logloss:0.000931\tvalidation_1-error:0.002587\tvalidation_1-logloss:0.007592\n",
      "[96]\tvalidation_0-error:5.5e-05\tvalidation_0-logloss:0.000914\tvalidation_1-error:0.002587\tvalidation_1-logloss:0.007564\n",
      "[97]\tvalidation_0-error:5.5e-05\tvalidation_0-logloss:0.000899\tvalidation_1-error:0.002457\tvalidation_1-logloss:0.007548\n",
      "[98]\tvalidation_0-error:5.5e-05\tvalidation_0-logloss:0.000889\tvalidation_1-error:0.002587\tvalidation_1-logloss:0.007506\n",
      "[99]\tvalidation_0-error:5.5e-05\tvalidation_0-logloss:0.000872\tvalidation_1-error:0.002587\tvalidation_1-logloss:0.007496\n",
      "[100]\tvalidation_0-error:5.5e-05\tvalidation_0-logloss:0.00086\tvalidation_1-error:0.002587\tvalidation_1-logloss:0.007475\n",
      "[101]\tvalidation_0-error:5.5e-05\tvalidation_0-logloss:0.000847\tvalidation_1-error:0.002457\tvalidation_1-logloss:0.007464\n",
      "[102]\tvalidation_0-error:5.5e-05\tvalidation_0-logloss:0.000836\tvalidation_1-error:0.002457\tvalidation_1-logloss:0.007414\n",
      "[103]\tvalidation_0-error:5.5e-05\tvalidation_0-logloss:0.000826\tvalidation_1-error:0.002457\tvalidation_1-logloss:0.007407\n",
      "[104]\tvalidation_0-error:5.5e-05\tvalidation_0-logloss:0.000813\tvalidation_1-error:0.002457\tvalidation_1-logloss:0.007374\n",
      "[105]\tvalidation_0-error:5.5e-05\tvalidation_0-logloss:0.000806\tvalidation_1-error:0.002328\tvalidation_1-logloss:0.007404\n",
      "[106]\tvalidation_0-error:5.5e-05\tvalidation_0-logloss:0.000798\tvalidation_1-error:0.002328\tvalidation_1-logloss:0.007433\n",
      "[107]\tvalidation_0-error:5.5e-05\tvalidation_0-logloss:0.000792\tvalidation_1-error:0.002328\tvalidation_1-logloss:0.007447\n",
      "[108]\tvalidation_0-error:5.5e-05\tvalidation_0-logloss:0.000784\tvalidation_1-error:0.002328\tvalidation_1-logloss:0.007388\n",
      "[109]\tvalidation_0-error:5.5e-05\tvalidation_0-logloss:0.000774\tvalidation_1-error:0.002328\tvalidation_1-logloss:0.007398\n",
      "[110]\tvalidation_0-error:5.5e-05\tvalidation_0-logloss:0.000765\tvalidation_1-error:0.002328\tvalidation_1-logloss:0.007391\n",
      "[111]\tvalidation_0-error:5.5e-05\tvalidation_0-logloss:0.000758\tvalidation_1-error:0.002328\tvalidation_1-logloss:0.007339\n",
      "[112]\tvalidation_0-error:5.5e-05\tvalidation_0-logloss:0.000749\tvalidation_1-error:0.002199\tvalidation_1-logloss:0.007306\n",
      "[113]\tvalidation_0-error:5.5e-05\tvalidation_0-logloss:0.000743\tvalidation_1-error:0.002328\tvalidation_1-logloss:0.007349\n",
      "[114]\tvalidation_0-error:5.5e-05\tvalidation_0-logloss:0.000736\tvalidation_1-error:0.002328\tvalidation_1-logloss:0.007305\n",
      "[115]\tvalidation_0-error:5.5e-05\tvalidation_0-logloss:0.000727\tvalidation_1-error:0.002457\tvalidation_1-logloss:0.007288\n",
      "[116]\tvalidation_0-error:5.5e-05\tvalidation_0-logloss:0.000716\tvalidation_1-error:0.002457\tvalidation_1-logloss:0.007253\n",
      "[117]\tvalidation_0-error:5.5e-05\tvalidation_0-logloss:0.00071\tvalidation_1-error:0.002328\tvalidation_1-logloss:0.007228\n",
      "[118]\tvalidation_0-error:5.5e-05\tvalidation_0-logloss:0.000703\tvalidation_1-error:0.002328\tvalidation_1-logloss:0.007235\n",
      "[119]\tvalidation_0-error:5.5e-05\tvalidation_0-logloss:0.000698\tvalidation_1-error:0.002328\tvalidation_1-logloss:0.007209\n",
      "[120]\tvalidation_0-error:5.5e-05\tvalidation_0-logloss:0.000693\tvalidation_1-error:0.002328\tvalidation_1-logloss:0.007186\n",
      "[121]\tvalidation_0-error:5.5e-05\tvalidation_0-logloss:0.000687\tvalidation_1-error:0.002199\tvalidation_1-logloss:0.007183\n",
      "[122]\tvalidation_0-error:5.5e-05\tvalidation_0-logloss:0.000681\tvalidation_1-error:0.002199\tvalidation_1-logloss:0.007183\n",
      "[123]\tvalidation_0-error:5.5e-05\tvalidation_0-logloss:0.000675\tvalidation_1-error:0.002199\tvalidation_1-logloss:0.007203\n",
      "[124]\tvalidation_0-error:5.5e-05\tvalidation_0-logloss:0.000668\tvalidation_1-error:0.002199\tvalidation_1-logloss:0.007176\n",
      "[125]\tvalidation_0-error:5.5e-05\tvalidation_0-logloss:0.00066\tvalidation_1-error:0.002199\tvalidation_1-logloss:0.007158\n",
      "[126]\tvalidation_0-error:5.5e-05\tvalidation_0-logloss:0.000655\tvalidation_1-error:0.002328\tvalidation_1-logloss:0.007149\n",
      "[127]\tvalidation_0-error:5.5e-05\tvalidation_0-logloss:0.00065\tvalidation_1-error:0.002199\tvalidation_1-logloss:0.007124\n",
      "[128]\tvalidation_0-error:5.5e-05\tvalidation_0-logloss:0.000645\tvalidation_1-error:0.002199\tvalidation_1-logloss:0.0071\n",
      "[129]\tvalidation_0-error:0\tvalidation_0-logloss:0.000639\tvalidation_1-error:0.002328\tvalidation_1-logloss:0.00706\n",
      "[130]\tvalidation_0-error:0\tvalidation_0-logloss:0.000637\tvalidation_1-error:0.002457\tvalidation_1-logloss:0.007064\n",
      "[131]\tvalidation_0-error:0\tvalidation_0-logloss:0.000631\tvalidation_1-error:0.002199\tvalidation_1-logloss:0.007029\n",
      "[132]\tvalidation_0-error:0\tvalidation_0-logloss:0.000626\tvalidation_1-error:0.002199\tvalidation_1-logloss:0.007039\n",
      "[133]\tvalidation_0-error:0\tvalidation_0-logloss:0.000621\tvalidation_1-error:0.002199\tvalidation_1-logloss:0.007029\n",
      "[134]\tvalidation_0-error:0\tvalidation_0-logloss:0.000617\tvalidation_1-error:0.002199\tvalidation_1-logloss:0.007016\n",
      "[135]\tvalidation_0-error:0\tvalidation_0-logloss:0.000612\tvalidation_1-error:0.002199\tvalidation_1-logloss:0.006991\n",
      "[136]\tvalidation_0-error:0\tvalidation_0-logloss:0.000606\tvalidation_1-error:0.002199\tvalidation_1-logloss:0.006968\n",
      "[137]\tvalidation_0-error:0\tvalidation_0-logloss:0.000602\tvalidation_1-error:0.002069\tvalidation_1-logloss:0.006921\n"
     ]
    },
    {
     "name": "stdout",
     "output_type": "stream",
     "text": [
      "[138]\tvalidation_0-error:0\tvalidation_0-logloss:0.000596\tvalidation_1-error:0.00194\tvalidation_1-logloss:0.006906\n",
      "[139]\tvalidation_0-error:0\tvalidation_0-logloss:0.000591\tvalidation_1-error:0.002069\tvalidation_1-logloss:0.00694\n",
      "[140]\tvalidation_0-error:0\tvalidation_0-logloss:0.000588\tvalidation_1-error:0.002069\tvalidation_1-logloss:0.006929\n",
      "[141]\tvalidation_0-error:0\tvalidation_0-logloss:0.000584\tvalidation_1-error:0.002199\tvalidation_1-logloss:0.00691\n",
      "[142]\tvalidation_0-error:0\tvalidation_0-logloss:0.00058\tvalidation_1-error:0.002199\tvalidation_1-logloss:0.00693\n",
      "[143]\tvalidation_0-error:0\tvalidation_0-logloss:0.000576\tvalidation_1-error:0.002199\tvalidation_1-logloss:0.006913\n",
      "[144]\tvalidation_0-error:0\tvalidation_0-logloss:0.000571\tvalidation_1-error:0.002199\tvalidation_1-logloss:0.006894\n",
      "[145]\tvalidation_0-error:0\tvalidation_0-logloss:0.000567\tvalidation_1-error:0.002199\tvalidation_1-logloss:0.006895\n",
      "[146]\tvalidation_0-error:0\tvalidation_0-logloss:0.000563\tvalidation_1-error:0.002199\tvalidation_1-logloss:0.006873\n",
      "[147]\tvalidation_0-error:0\tvalidation_0-logloss:0.000557\tvalidation_1-error:0.002199\tvalidation_1-logloss:0.00683\n",
      "[148]\tvalidation_0-error:0\tvalidation_0-logloss:0.000553\tvalidation_1-error:0.002199\tvalidation_1-logloss:0.006805\n",
      "[149]\tvalidation_0-error:0\tvalidation_0-logloss:0.000549\tvalidation_1-error:0.002199\tvalidation_1-logloss:0.006816\n",
      "[150]\tvalidation_0-error:0\tvalidation_0-logloss:0.000546\tvalidation_1-error:0.002199\tvalidation_1-logloss:0.006802\n",
      "[151]\tvalidation_0-error:0\tvalidation_0-logloss:0.000542\tvalidation_1-error:0.002328\tvalidation_1-logloss:0.006838\n",
      "[152]\tvalidation_0-error:0\tvalidation_0-logloss:0.000539\tvalidation_1-error:0.002328\tvalidation_1-logloss:0.00685\n",
      "[153]\tvalidation_0-error:0\tvalidation_0-logloss:0.000533\tvalidation_1-error:0.002199\tvalidation_1-logloss:0.006885\n",
      "[154]\tvalidation_0-error:0\tvalidation_0-logloss:0.000531\tvalidation_1-error:0.002328\tvalidation_1-logloss:0.006885\n",
      "[155]\tvalidation_0-error:0\tvalidation_0-logloss:0.000527\tvalidation_1-error:0.002199\tvalidation_1-logloss:0.006871\n",
      "[156]\tvalidation_0-error:0\tvalidation_0-logloss:0.000524\tvalidation_1-error:0.002199\tvalidation_1-logloss:0.006852\n",
      "[157]\tvalidation_0-error:0\tvalidation_0-logloss:0.000523\tvalidation_1-error:0.002199\tvalidation_1-logloss:0.006852\n",
      "[158]\tvalidation_0-error:0\tvalidation_0-logloss:0.000522\tvalidation_1-error:0.002199\tvalidation_1-logloss:0.006865\n",
      "[159]\tvalidation_0-error:0\tvalidation_0-logloss:0.00052\tvalidation_1-error:0.002199\tvalidation_1-logloss:0.006872\n",
      "[160]\tvalidation_0-error:0\tvalidation_0-logloss:0.000519\tvalidation_1-error:0.002199\tvalidation_1-logloss:0.006871\n",
      "[161]\tvalidation_0-error:0\tvalidation_0-logloss:0.000517\tvalidation_1-error:0.002199\tvalidation_1-logloss:0.006886\n",
      "[162]\tvalidation_0-error:0\tvalidation_0-logloss:0.000515\tvalidation_1-error:0.002199\tvalidation_1-logloss:0.006895\n",
      "[163]\tvalidation_0-error:0\tvalidation_0-logloss:0.000512\tvalidation_1-error:0.002199\tvalidation_1-logloss:0.006882\n",
      "[164]\tvalidation_0-error:0\tvalidation_0-logloss:0.000508\tvalidation_1-error:0.002199\tvalidation_1-logloss:0.006872\n",
      "[165]\tvalidation_0-error:0\tvalidation_0-logloss:0.000504\tvalidation_1-error:0.002199\tvalidation_1-logloss:0.006847\n",
      "[166]\tvalidation_0-error:0\tvalidation_0-logloss:0.000503\tvalidation_1-error:0.002199\tvalidation_1-logloss:0.006833\n",
      "[167]\tvalidation_0-error:0\tvalidation_0-logloss:0.000501\tvalidation_1-error:0.002199\tvalidation_1-logloss:0.006829\n",
      "[168]\tvalidation_0-error:0\tvalidation_0-logloss:0.0005\tvalidation_1-error:0.002199\tvalidation_1-logloss:0.006794\n",
      "[169]\tvalidation_0-error:0\tvalidation_0-logloss:0.000498\tvalidation_1-error:0.002199\tvalidation_1-logloss:0.006778\n",
      "[170]\tvalidation_0-error:0\tvalidation_0-logloss:0.000494\tvalidation_1-error:0.002199\tvalidation_1-logloss:0.006758\n",
      "[171]\tvalidation_0-error:0\tvalidation_0-logloss:0.000492\tvalidation_1-error:0.002199\tvalidation_1-logloss:0.006766\n",
      "[172]\tvalidation_0-error:0\tvalidation_0-logloss:0.000491\tvalidation_1-error:0.002199\tvalidation_1-logloss:0.006759\n",
      "[173]\tvalidation_0-error:0\tvalidation_0-logloss:0.000489\tvalidation_1-error:0.002199\tvalidation_1-logloss:0.006734\n",
      "[174]\tvalidation_0-error:0\tvalidation_0-logloss:0.000488\tvalidation_1-error:0.002199\tvalidation_1-logloss:0.006736\n",
      "[175]\tvalidation_0-error:0\tvalidation_0-logloss:0.000485\tvalidation_1-error:0.002199\tvalidation_1-logloss:0.006717\n",
      "[176]\tvalidation_0-error:0\tvalidation_0-logloss:0.000484\tvalidation_1-error:0.002199\tvalidation_1-logloss:0.006704\n",
      "[177]\tvalidation_0-error:0\tvalidation_0-logloss:0.000483\tvalidation_1-error:0.002199\tvalidation_1-logloss:0.006707\n",
      "[178]\tvalidation_0-error:0\tvalidation_0-logloss:0.000482\tvalidation_1-error:0.002199\tvalidation_1-logloss:0.006713\n",
      "[179]\tvalidation_0-error:0\tvalidation_0-logloss:0.000481\tvalidation_1-error:0.002199\tvalidation_1-logloss:0.006736\n",
      "[180]\tvalidation_0-error:0\tvalidation_0-logloss:0.000478\tvalidation_1-error:0.002199\tvalidation_1-logloss:0.006716\n",
      "[181]\tvalidation_0-error:0\tvalidation_0-logloss:0.000476\tvalidation_1-error:0.002199\tvalidation_1-logloss:0.006715\n",
      "[182]\tvalidation_0-error:0\tvalidation_0-logloss:0.000474\tvalidation_1-error:0.002199\tvalidation_1-logloss:0.006728\n",
      "[183]\tvalidation_0-error:0\tvalidation_0-logloss:0.000473\tvalidation_1-error:0.002199\tvalidation_1-logloss:0.006734\n",
      "[184]\tvalidation_0-error:0\tvalidation_0-logloss:0.000472\tvalidation_1-error:0.002199\tvalidation_1-logloss:0.006725\n",
      "[185]\tvalidation_0-error:0\tvalidation_0-logloss:0.000469\tvalidation_1-error:0.002199\tvalidation_1-logloss:0.006745\n",
      "[186]\tvalidation_0-error:0\tvalidation_0-logloss:0.000467\tvalidation_1-error:0.002199\tvalidation_1-logloss:0.00674\n",
      "[187]\tvalidation_0-error:0\tvalidation_0-logloss:0.000466\tvalidation_1-error:0.002199\tvalidation_1-logloss:0.006729\n",
      "[188]\tvalidation_0-error:0\tvalidation_0-logloss:0.000464\tvalidation_1-error:0.002199\tvalidation_1-logloss:0.006684\n",
      "[189]\tvalidation_0-error:0\tvalidation_0-logloss:0.000462\tvalidation_1-error:0.002199\tvalidation_1-logloss:0.006683\n",
      "[190]\tvalidation_0-error:0\tvalidation_0-logloss:0.000461\tvalidation_1-error:0.002199\tvalidation_1-logloss:0.006682\n",
      "[191]\tvalidation_0-error:0\tvalidation_0-logloss:0.000459\tvalidation_1-error:0.002199\tvalidation_1-logloss:0.006653\n",
      "[192]\tvalidation_0-error:0\tvalidation_0-logloss:0.000458\tvalidation_1-error:0.002199\tvalidation_1-logloss:0.006651\n",
      "[193]\tvalidation_0-error:0\tvalidation_0-logloss:0.000457\tvalidation_1-error:0.002199\tvalidation_1-logloss:0.006653\n",
      "[194]\tvalidation_0-error:0\tvalidation_0-logloss:0.000456\tvalidation_1-error:0.002199\tvalidation_1-logloss:0.006644\n",
      "[195]\tvalidation_0-error:0\tvalidation_0-logloss:0.000455\tvalidation_1-error:0.002199\tvalidation_1-logloss:0.006631\n",
      "[196]\tvalidation_0-error:0\tvalidation_0-logloss:0.000454\tvalidation_1-error:0.002199\tvalidation_1-logloss:0.006609\n",
      "[197]\tvalidation_0-error:0\tvalidation_0-logloss:0.000453\tvalidation_1-error:0.002199\tvalidation_1-logloss:0.006586\n",
      "[198]\tvalidation_0-error:0\tvalidation_0-logloss:0.000452\tvalidation_1-error:0.002199\tvalidation_1-logloss:0.006593\n",
      "[199]\tvalidation_0-error:0\tvalidation_0-logloss:0.00045\tvalidation_1-error:0.002199\tvalidation_1-logloss:0.006594\n",
      "[200]\tvalidation_0-error:0\tvalidation_0-logloss:0.00045\tvalidation_1-error:0.002199\tvalidation_1-logloss:0.006583\n",
      "[201]\tvalidation_0-error:0\tvalidation_0-logloss:0.000449\tvalidation_1-error:0.002199\tvalidation_1-logloss:0.00659\n",
      "[202]\tvalidation_0-error:0\tvalidation_0-logloss:0.000448\tvalidation_1-error:0.002199\tvalidation_1-logloss:0.006595\n",
      "[203]\tvalidation_0-error:0\tvalidation_0-logloss:0.000447\tvalidation_1-error:0.002199\tvalidation_1-logloss:0.006585\n",
      "[204]\tvalidation_0-error:0\tvalidation_0-logloss:0.000446\tvalidation_1-error:0.002199\tvalidation_1-logloss:0.006585\n",
      "[205]\tvalidation_0-error:0\tvalidation_0-logloss:0.000446\tvalidation_1-error:0.002199\tvalidation_1-logloss:0.006559\n",
      "[206]\tvalidation_0-error:0\tvalidation_0-logloss:0.000443\tvalidation_1-error:0.002199\tvalidation_1-logloss:0.006577\n",
      "[207]\tvalidation_0-error:0\tvalidation_0-logloss:0.000442\tvalidation_1-error:0.002199\tvalidation_1-logloss:0.006588\n",
      "[208]\tvalidation_0-error:0\tvalidation_0-logloss:0.000441\tvalidation_1-error:0.002199\tvalidation_1-logloss:0.006601\n",
      "[209]\tvalidation_0-error:0\tvalidation_0-logloss:0.00044\tvalidation_1-error:0.002328\tvalidation_1-logloss:0.006603\n"
     ]
    },
    {
     "name": "stdout",
     "output_type": "stream",
     "text": [
      "[210]\tvalidation_0-error:0\tvalidation_0-logloss:0.000439\tvalidation_1-error:0.002328\tvalidation_1-logloss:0.006623\n",
      "[211]\tvalidation_0-error:0\tvalidation_0-logloss:0.000438\tvalidation_1-error:0.002328\tvalidation_1-logloss:0.006654\n",
      "[212]\tvalidation_0-error:0\tvalidation_0-logloss:0.000437\tvalidation_1-error:0.002328\tvalidation_1-logloss:0.00667\n",
      "[213]\tvalidation_0-error:0\tvalidation_0-logloss:0.000437\tvalidation_1-error:0.002328\tvalidation_1-logloss:0.006677\n",
      "[214]\tvalidation_0-error:0\tvalidation_0-logloss:0.000435\tvalidation_1-error:0.002328\tvalidation_1-logloss:0.006663\n",
      "[215]\tvalidation_0-error:0\tvalidation_0-logloss:0.000434\tvalidation_1-error:0.002328\tvalidation_1-logloss:0.006659\n",
      "[216]\tvalidation_0-error:0\tvalidation_0-logloss:0.000433\tvalidation_1-error:0.002328\tvalidation_1-logloss:0.006673\n",
      "[217]\tvalidation_0-error:0\tvalidation_0-logloss:0.000432\tvalidation_1-error:0.002328\tvalidation_1-logloss:0.006672\n",
      "[218]\tvalidation_0-error:0\tvalidation_0-logloss:0.000431\tvalidation_1-error:0.002328\tvalidation_1-logloss:0.006676\n",
      "[219]\tvalidation_0-error:0\tvalidation_0-logloss:0.00043\tvalidation_1-error:0.002328\tvalidation_1-logloss:0.006679\n",
      "[220]\tvalidation_0-error:0\tvalidation_0-logloss:0.000429\tvalidation_1-error:0.002328\tvalidation_1-logloss:0.006675\n",
      "[221]\tvalidation_0-error:0\tvalidation_0-logloss:0.000428\tvalidation_1-error:0.002328\tvalidation_1-logloss:0.006662\n",
      "[222]\tvalidation_0-error:0\tvalidation_0-logloss:0.000427\tvalidation_1-error:0.002328\tvalidation_1-logloss:0.006661\n",
      "[223]\tvalidation_0-error:0\tvalidation_0-logloss:0.000427\tvalidation_1-error:0.002328\tvalidation_1-logloss:0.006659\n",
      "[224]\tvalidation_0-error:0\tvalidation_0-logloss:0.000426\tvalidation_1-error:0.002328\tvalidation_1-logloss:0.006663\n",
      "[225]\tvalidation_0-error:0\tvalidation_0-logloss:0.000425\tvalidation_1-error:0.002328\tvalidation_1-logloss:0.006658\n",
      "[226]\tvalidation_0-error:0\tvalidation_0-logloss:0.000424\tvalidation_1-error:0.002328\tvalidation_1-logloss:0.006632\n",
      "[227]\tvalidation_0-error:0\tvalidation_0-logloss:0.000423\tvalidation_1-error:0.002328\tvalidation_1-logloss:0.006608\n",
      "[228]\tvalidation_0-error:0\tvalidation_0-logloss:0.000422\tvalidation_1-error:0.002328\tvalidation_1-logloss:0.006628\n",
      "[229]\tvalidation_0-error:0\tvalidation_0-logloss:0.000422\tvalidation_1-error:0.002328\tvalidation_1-logloss:0.006633\n",
      "[230]\tvalidation_0-error:0\tvalidation_0-logloss:0.000421\tvalidation_1-error:0.002328\tvalidation_1-logloss:0.006623\n",
      "[231]\tvalidation_0-error:0\tvalidation_0-logloss:0.00042\tvalidation_1-error:0.002328\tvalidation_1-logloss:0.006607\n",
      "[232]\tvalidation_0-error:0\tvalidation_0-logloss:0.000419\tvalidation_1-error:0.002328\tvalidation_1-logloss:0.006604\n",
      "[233]\tvalidation_0-error:0\tvalidation_0-logloss:0.000418\tvalidation_1-error:0.002199\tvalidation_1-logloss:0.006601\n",
      "[234]\tvalidation_0-error:0\tvalidation_0-logloss:0.000418\tvalidation_1-error:0.002199\tvalidation_1-logloss:0.006593\n",
      "[235]\tvalidation_0-error:0\tvalidation_0-logloss:0.000417\tvalidation_1-error:0.002199\tvalidation_1-logloss:0.006578\n",
      "[236]\tvalidation_0-error:0\tvalidation_0-logloss:0.000416\tvalidation_1-error:0.002328\tvalidation_1-logloss:0.006575\n",
      "[237]\tvalidation_0-error:0\tvalidation_0-logloss:0.000415\tvalidation_1-error:0.002328\tvalidation_1-logloss:0.006592\n",
      "[238]\tvalidation_0-error:0\tvalidation_0-logloss:0.000414\tvalidation_1-error:0.002199\tvalidation_1-logloss:0.006573\n",
      "[239]\tvalidation_0-error:0\tvalidation_0-logloss:0.000413\tvalidation_1-error:0.002328\tvalidation_1-logloss:0.006578\n",
      "[240]\tvalidation_0-error:0\tvalidation_0-logloss:0.000413\tvalidation_1-error:0.002328\tvalidation_1-logloss:0.006584\n",
      "[241]\tvalidation_0-error:0\tvalidation_0-logloss:0.000412\tvalidation_1-error:0.002328\tvalidation_1-logloss:0.006579\n",
      "[242]\tvalidation_0-error:0\tvalidation_0-logloss:0.000411\tvalidation_1-error:0.002328\tvalidation_1-logloss:0.006566\n",
      "[243]\tvalidation_0-error:0\tvalidation_0-logloss:0.00041\tvalidation_1-error:0.002328\tvalidation_1-logloss:0.006541\n",
      "[244]\tvalidation_0-error:0\tvalidation_0-logloss:0.00041\tvalidation_1-error:0.002328\tvalidation_1-logloss:0.006538\n",
      "[245]\tvalidation_0-error:0\tvalidation_0-logloss:0.000409\tvalidation_1-error:0.002328\tvalidation_1-logloss:0.006564\n",
      "[246]\tvalidation_0-error:0\tvalidation_0-logloss:0.000408\tvalidation_1-error:0.002328\tvalidation_1-logloss:0.006554\n",
      "[247]\tvalidation_0-error:0\tvalidation_0-logloss:0.000407\tvalidation_1-error:0.002328\tvalidation_1-logloss:0.006578\n",
      "[248]\tvalidation_0-error:0\tvalidation_0-logloss:0.000406\tvalidation_1-error:0.002328\tvalidation_1-logloss:0.006573\n",
      "[249]\tvalidation_0-error:0\tvalidation_0-logloss:0.000405\tvalidation_1-error:0.002328\tvalidation_1-logloss:0.006565\n",
      "[250]\tvalidation_0-error:0\tvalidation_0-logloss:0.000404\tvalidation_1-error:0.002328\tvalidation_1-logloss:0.006573\n",
      "[251]\tvalidation_0-error:0\tvalidation_0-logloss:0.000404\tvalidation_1-error:0.002328\tvalidation_1-logloss:0.006582\n",
      "[252]\tvalidation_0-error:0\tvalidation_0-logloss:0.000403\tvalidation_1-error:0.002328\tvalidation_1-logloss:0.006588\n",
      "[253]\tvalidation_0-error:0\tvalidation_0-logloss:0.000402\tvalidation_1-error:0.002328\tvalidation_1-logloss:0.006576\n",
      "[254]\tvalidation_0-error:0\tvalidation_0-logloss:0.000401\tvalidation_1-error:0.002328\tvalidation_1-logloss:0.006584\n",
      "[255]\tvalidation_0-error:0\tvalidation_0-logloss:0.000401\tvalidation_1-error:0.002328\tvalidation_1-logloss:0.00658\n",
      "[256]\tvalidation_0-error:0\tvalidation_0-logloss:0.0004\tvalidation_1-error:0.002328\tvalidation_1-logloss:0.006581\n",
      "[257]\tvalidation_0-error:0\tvalidation_0-logloss:0.000399\tvalidation_1-error:0.002328\tvalidation_1-logloss:0.006565\n",
      "[258]\tvalidation_0-error:0\tvalidation_0-logloss:0.000399\tvalidation_1-error:0.002328\tvalidation_1-logloss:0.006568\n",
      "[259]\tvalidation_0-error:0\tvalidation_0-logloss:0.000398\tvalidation_1-error:0.002328\tvalidation_1-logloss:0.006568\n",
      "[260]\tvalidation_0-error:0\tvalidation_0-logloss:0.000397\tvalidation_1-error:0.002328\tvalidation_1-logloss:0.006579\n",
      "[261]\tvalidation_0-error:0\tvalidation_0-logloss:0.000397\tvalidation_1-error:0.002328\tvalidation_1-logloss:0.006588\n",
      "[262]\tvalidation_0-error:0\tvalidation_0-logloss:0.000396\tvalidation_1-error:0.002328\tvalidation_1-logloss:0.006582\n",
      "[263]\tvalidation_0-error:0\tvalidation_0-logloss:0.000395\tvalidation_1-error:0.002328\tvalidation_1-logloss:0.006579\n",
      "[264]\tvalidation_0-error:0\tvalidation_0-logloss:0.000395\tvalidation_1-error:0.002328\tvalidation_1-logloss:0.00658\n",
      "[265]\tvalidation_0-error:0\tvalidation_0-logloss:0.000394\tvalidation_1-error:0.002328\tvalidation_1-logloss:0.006586\n",
      "[266]\tvalidation_0-error:0\tvalidation_0-logloss:0.000394\tvalidation_1-error:0.002328\tvalidation_1-logloss:0.006561\n",
      "[267]\tvalidation_0-error:0\tvalidation_0-logloss:0.000393\tvalidation_1-error:0.002328\tvalidation_1-logloss:0.006551\n",
      "[268]\tvalidation_0-error:0\tvalidation_0-logloss:0.000393\tvalidation_1-error:0.002199\tvalidation_1-logloss:0.006552\n",
      "[269]\tvalidation_0-error:0\tvalidation_0-logloss:0.000392\tvalidation_1-error:0.002199\tvalidation_1-logloss:0.006563\n",
      "[270]\tvalidation_0-error:0\tvalidation_0-logloss:0.000392\tvalidation_1-error:0.002199\tvalidation_1-logloss:0.006573\n",
      "[271]\tvalidation_0-error:0\tvalidation_0-logloss:0.000391\tvalidation_1-error:0.002199\tvalidation_1-logloss:0.006557\n",
      "[272]\tvalidation_0-error:0\tvalidation_0-logloss:0.00039\tvalidation_1-error:0.002199\tvalidation_1-logloss:0.006563\n",
      "[273]\tvalidation_0-error:0\tvalidation_0-logloss:0.00039\tvalidation_1-error:0.002199\tvalidation_1-logloss:0.006583\n",
      "[274]\tvalidation_0-error:0\tvalidation_0-logloss:0.000389\tvalidation_1-error:0.002199\tvalidation_1-logloss:0.006566\n",
      "[275]\tvalidation_0-error:0\tvalidation_0-logloss:0.000389\tvalidation_1-error:0.002199\tvalidation_1-logloss:0.006564\n",
      "[276]\tvalidation_0-error:0\tvalidation_0-logloss:0.000388\tvalidation_1-error:0.002328\tvalidation_1-logloss:0.006577\n",
      "[277]\tvalidation_0-error:0\tvalidation_0-logloss:0.000388\tvalidation_1-error:0.002199\tvalidation_1-logloss:0.006578\n",
      "[278]\tvalidation_0-error:0\tvalidation_0-logloss:0.000387\tvalidation_1-error:0.002328\tvalidation_1-logloss:0.006589\n",
      "[279]\tvalidation_0-error:0\tvalidation_0-logloss:0.000387\tvalidation_1-error:0.002328\tvalidation_1-logloss:0.006584\n",
      "[280]\tvalidation_0-error:0\tvalidation_0-logloss:0.000386\tvalidation_1-error:0.002328\tvalidation_1-logloss:0.006597\n",
      "[281]\tvalidation_0-error:0\tvalidation_0-logloss:0.000385\tvalidation_1-error:0.002328\tvalidation_1-logloss:0.006572\n"
     ]
    },
    {
     "name": "stdout",
     "output_type": "stream",
     "text": [
      "[282]\tvalidation_0-error:0\tvalidation_0-logloss:0.000385\tvalidation_1-error:0.002328\tvalidation_1-logloss:0.006583\n",
      "[283]\tvalidation_0-error:0\tvalidation_0-logloss:0.000384\tvalidation_1-error:0.002328\tvalidation_1-logloss:0.006589\n",
      "[284]\tvalidation_0-error:0\tvalidation_0-logloss:0.000384\tvalidation_1-error:0.002328\tvalidation_1-logloss:0.006607\n",
      "[285]\tvalidation_0-error:0\tvalidation_0-logloss:0.000383\tvalidation_1-error:0.002328\tvalidation_1-logloss:0.006589\n",
      "[286]\tvalidation_0-error:0\tvalidation_0-logloss:0.000383\tvalidation_1-error:0.002328\tvalidation_1-logloss:0.006608\n",
      "[287]\tvalidation_0-error:0\tvalidation_0-logloss:0.000382\tvalidation_1-error:0.002328\tvalidation_1-logloss:0.006601\n",
      "[288]\tvalidation_0-error:0\tvalidation_0-logloss:0.000381\tvalidation_1-error:0.002328\tvalidation_1-logloss:0.006587\n",
      "[289]\tvalidation_0-error:0\tvalidation_0-logloss:0.000381\tvalidation_1-error:0.002328\tvalidation_1-logloss:0.006595\n",
      "[290]\tvalidation_0-error:0\tvalidation_0-logloss:0.00038\tvalidation_1-error:0.002328\tvalidation_1-logloss:0.006601\n",
      "[291]\tvalidation_0-error:0\tvalidation_0-logloss:0.00038\tvalidation_1-error:0.002328\tvalidation_1-logloss:0.006595\n",
      "[292]\tvalidation_0-error:0\tvalidation_0-logloss:0.000379\tvalidation_1-error:0.002328\tvalidation_1-logloss:0.006584\n",
      "[293]\tvalidation_0-error:0\tvalidation_0-logloss:0.000379\tvalidation_1-error:0.002328\tvalidation_1-logloss:0.006595\n",
      "[294]\tvalidation_0-error:0\tvalidation_0-logloss:0.000378\tvalidation_1-error:0.002328\tvalidation_1-logloss:0.006589\n",
      "[295]\tvalidation_0-error:0\tvalidation_0-logloss:0.000378\tvalidation_1-error:0.002328\tvalidation_1-logloss:0.006623\n",
      "[296]\tvalidation_0-error:0\tvalidation_0-logloss:0.000377\tvalidation_1-error:0.002328\tvalidation_1-logloss:0.006596\n",
      "[297]\tvalidation_0-error:0\tvalidation_0-logloss:0.000376\tvalidation_1-error:0.002328\tvalidation_1-logloss:0.006596\n",
      "[298]\tvalidation_0-error:0\tvalidation_0-logloss:0.000376\tvalidation_1-error:0.002328\tvalidation_1-logloss:0.00658\n",
      "[299]\tvalidation_0-error:0\tvalidation_0-logloss:0.000375\tvalidation_1-error:0.002328\tvalidation_1-logloss:0.006571\n",
      "[300]\tvalidation_0-error:0\tvalidation_0-logloss:0.000375\tvalidation_1-error:0.002328\tvalidation_1-logloss:0.006581\n",
      "[301]\tvalidation_0-error:0\tvalidation_0-logloss:0.000374\tvalidation_1-error:0.002328\tvalidation_1-logloss:0.006585\n",
      "[302]\tvalidation_0-error:0\tvalidation_0-logloss:0.000373\tvalidation_1-error:0.002328\tvalidation_1-logloss:0.00656\n",
      "[303]\tvalidation_0-error:0\tvalidation_0-logloss:0.000373\tvalidation_1-error:0.002328\tvalidation_1-logloss:0.006569\n",
      "[304]\tvalidation_0-error:0\tvalidation_0-logloss:0.000372\tvalidation_1-error:0.002328\tvalidation_1-logloss:0.00656\n",
      "[305]\tvalidation_0-error:0\tvalidation_0-logloss:0.000372\tvalidation_1-error:0.002328\tvalidation_1-logloss:0.006568\n",
      "[306]\tvalidation_0-error:0\tvalidation_0-logloss:0.000372\tvalidation_1-error:0.002328\tvalidation_1-logloss:0.006566\n",
      "[307]\tvalidation_0-error:0\tvalidation_0-logloss:0.000371\tvalidation_1-error:0.002328\tvalidation_1-logloss:0.006576\n",
      "[308]\tvalidation_0-error:0\tvalidation_0-logloss:0.000371\tvalidation_1-error:0.002328\tvalidation_1-logloss:0.006558\n",
      "[309]\tvalidation_0-error:0\tvalidation_0-logloss:0.00037\tvalidation_1-error:0.002328\tvalidation_1-logloss:0.006566\n",
      "[310]\tvalidation_0-error:0\tvalidation_0-logloss:0.000369\tvalidation_1-error:0.002328\tvalidation_1-logloss:0.00656\n",
      "[311]\tvalidation_0-error:0\tvalidation_0-logloss:0.000369\tvalidation_1-error:0.002328\tvalidation_1-logloss:0.006541\n",
      "[312]\tvalidation_0-error:0\tvalidation_0-logloss:0.000369\tvalidation_1-error:0.002328\tvalidation_1-logloss:0.006541\n",
      "[313]\tvalidation_0-error:0\tvalidation_0-logloss:0.000368\tvalidation_1-error:0.002328\tvalidation_1-logloss:0.006541\n",
      "[314]\tvalidation_0-error:0\tvalidation_0-logloss:0.000368\tvalidation_1-error:0.002328\tvalidation_1-logloss:0.006555\n",
      "[315]\tvalidation_0-error:0\tvalidation_0-logloss:0.000367\tvalidation_1-error:0.002328\tvalidation_1-logloss:0.006535\n",
      "[316]\tvalidation_0-error:0\tvalidation_0-logloss:0.000367\tvalidation_1-error:0.002328\tvalidation_1-logloss:0.006538\n",
      "[317]\tvalidation_0-error:0\tvalidation_0-logloss:0.000366\tvalidation_1-error:0.002328\tvalidation_1-logloss:0.006515\n",
      "[318]\tvalidation_0-error:0\tvalidation_0-logloss:0.000366\tvalidation_1-error:0.002328\tvalidation_1-logloss:0.006506\n",
      "[319]\tvalidation_0-error:0\tvalidation_0-logloss:0.000365\tvalidation_1-error:0.002328\tvalidation_1-logloss:0.006549\n",
      "[320]\tvalidation_0-error:0\tvalidation_0-logloss:0.000364\tvalidation_1-error:0.002328\tvalidation_1-logloss:0.006536\n",
      "[321]\tvalidation_0-error:0\tvalidation_0-logloss:0.000364\tvalidation_1-error:0.002328\tvalidation_1-logloss:0.006544\n",
      "[322]\tvalidation_0-error:0\tvalidation_0-logloss:0.000363\tvalidation_1-error:0.002328\tvalidation_1-logloss:0.006549\n",
      "[323]\tvalidation_0-error:0\tvalidation_0-logloss:0.000362\tvalidation_1-error:0.002328\tvalidation_1-logloss:0.006555\n",
      "[324]\tvalidation_0-error:0\tvalidation_0-logloss:0.000362\tvalidation_1-error:0.002328\tvalidation_1-logloss:0.00654\n",
      "[325]\tvalidation_0-error:0\tvalidation_0-logloss:0.000361\tvalidation_1-error:0.002328\tvalidation_1-logloss:0.006518\n",
      "[326]\tvalidation_0-error:0\tvalidation_0-logloss:0.00036\tvalidation_1-error:0.002328\tvalidation_1-logloss:0.006518\n",
      "[327]\tvalidation_0-error:0\tvalidation_0-logloss:0.00036\tvalidation_1-error:0.002328\tvalidation_1-logloss:0.006504\n",
      "[328]\tvalidation_0-error:0\tvalidation_0-logloss:0.000359\tvalidation_1-error:0.002328\tvalidation_1-logloss:0.006504\n",
      "[329]\tvalidation_0-error:0\tvalidation_0-logloss:0.000359\tvalidation_1-error:0.002328\tvalidation_1-logloss:0.006513\n",
      "[330]\tvalidation_0-error:0\tvalidation_0-logloss:0.000358\tvalidation_1-error:0.002328\tvalidation_1-logloss:0.006529\n",
      "[331]\tvalidation_0-error:0\tvalidation_0-logloss:0.000358\tvalidation_1-error:0.002328\tvalidation_1-logloss:0.006541\n",
      "[332]\tvalidation_0-error:0\tvalidation_0-logloss:0.000357\tvalidation_1-error:0.002328\tvalidation_1-logloss:0.006546\n",
      "[333]\tvalidation_0-error:0\tvalidation_0-logloss:0.000357\tvalidation_1-error:0.002328\tvalidation_1-logloss:0.006529\n",
      "[334]\tvalidation_0-error:0\tvalidation_0-logloss:0.000356\tvalidation_1-error:0.002328\tvalidation_1-logloss:0.006513\n",
      "[335]\tvalidation_0-error:0\tvalidation_0-logloss:0.000356\tvalidation_1-error:0.002328\tvalidation_1-logloss:0.006519\n",
      "[336]\tvalidation_0-error:0\tvalidation_0-logloss:0.000355\tvalidation_1-error:0.002328\tvalidation_1-logloss:0.006521\n",
      "[337]\tvalidation_0-error:0\tvalidation_0-logloss:0.000355\tvalidation_1-error:0.002328\tvalidation_1-logloss:0.006532\n",
      "[338]\tvalidation_0-error:0\tvalidation_0-logloss:0.000354\tvalidation_1-error:0.002328\tvalidation_1-logloss:0.006534\n",
      "[339]\tvalidation_0-error:0\tvalidation_0-logloss:0.000354\tvalidation_1-error:0.002328\tvalidation_1-logloss:0.006538\n",
      "[340]\tvalidation_0-error:0\tvalidation_0-logloss:0.000353\tvalidation_1-error:0.002328\tvalidation_1-logloss:0.006529\n",
      "[341]\tvalidation_0-error:0\tvalidation_0-logloss:0.000353\tvalidation_1-error:0.002328\tvalidation_1-logloss:0.006532\n",
      "[342]\tvalidation_0-error:0\tvalidation_0-logloss:0.000352\tvalidation_1-error:0.002328\tvalidation_1-logloss:0.006558\n",
      "[343]\tvalidation_0-error:0\tvalidation_0-logloss:0.000352\tvalidation_1-error:0.002328\tvalidation_1-logloss:0.006558\n",
      "[344]\tvalidation_0-error:0\tvalidation_0-logloss:0.000352\tvalidation_1-error:0.002328\tvalidation_1-logloss:0.006553\n",
      "[345]\tvalidation_0-error:0\tvalidation_0-logloss:0.000351\tvalidation_1-error:0.002328\tvalidation_1-logloss:0.006571\n",
      "[346]\tvalidation_0-error:0\tvalidation_0-logloss:0.000351\tvalidation_1-error:0.002328\tvalidation_1-logloss:0.006553\n",
      "[347]\tvalidation_0-error:0\tvalidation_0-logloss:0.000351\tvalidation_1-error:0.002328\tvalidation_1-logloss:0.006545\n",
      "[348]\tvalidation_0-error:0\tvalidation_0-logloss:0.00035\tvalidation_1-error:0.002328\tvalidation_1-logloss:0.006538\n",
      "[349]\tvalidation_0-error:0\tvalidation_0-logloss:0.00035\tvalidation_1-error:0.002328\tvalidation_1-logloss:0.00653\n",
      "[350]\tvalidation_0-error:0\tvalidation_0-logloss:0.00035\tvalidation_1-error:0.002328\tvalidation_1-logloss:0.006512\n",
      "[351]\tvalidation_0-error:0\tvalidation_0-logloss:0.000349\tvalidation_1-error:0.002328\tvalidation_1-logloss:0.00651\n",
      "[352]\tvalidation_0-error:0\tvalidation_0-logloss:0.000349\tvalidation_1-error:0.002328\tvalidation_1-logloss:0.006507\n",
      "[353]\tvalidation_0-error:0\tvalidation_0-logloss:0.000348\tvalidation_1-error:0.002328\tvalidation_1-logloss:0.00652\n"
     ]
    },
    {
     "name": "stdout",
     "output_type": "stream",
     "text": [
      "[354]\tvalidation_0-error:0\tvalidation_0-logloss:0.000348\tvalidation_1-error:0.002328\tvalidation_1-logloss:0.006533\n",
      "[355]\tvalidation_0-error:0\tvalidation_0-logloss:0.000348\tvalidation_1-error:0.002328\tvalidation_1-logloss:0.006528\n",
      "[356]\tvalidation_0-error:0\tvalidation_0-logloss:0.000347\tvalidation_1-error:0.002328\tvalidation_1-logloss:0.00652\n",
      "[357]\tvalidation_0-error:0\tvalidation_0-logloss:0.000346\tvalidation_1-error:0.002328\tvalidation_1-logloss:0.006512\n",
      "[358]\tvalidation_0-error:0\tvalidation_0-logloss:0.000346\tvalidation_1-error:0.002328\tvalidation_1-logloss:0.006507\n",
      "[359]\tvalidation_0-error:0\tvalidation_0-logloss:0.000346\tvalidation_1-error:0.002328\tvalidation_1-logloss:0.006529\n",
      "[360]\tvalidation_0-error:0\tvalidation_0-logloss:0.000345\tvalidation_1-error:0.002328\tvalidation_1-logloss:0.006524\n",
      "[361]\tvalidation_0-error:0\tvalidation_0-logloss:0.000345\tvalidation_1-error:0.002328\tvalidation_1-logloss:0.006515\n",
      "[362]\tvalidation_0-error:0\tvalidation_0-logloss:0.000344\tvalidation_1-error:0.002328\tvalidation_1-logloss:0.006522\n",
      "[363]\tvalidation_0-error:0\tvalidation_0-logloss:0.000344\tvalidation_1-error:0.002328\tvalidation_1-logloss:0.006498\n",
      "[364]\tvalidation_0-error:0\tvalidation_0-logloss:0.000344\tvalidation_1-error:0.002328\tvalidation_1-logloss:0.006488\n",
      "[365]\tvalidation_0-error:0\tvalidation_0-logloss:0.000343\tvalidation_1-error:0.002328\tvalidation_1-logloss:0.006469\n",
      "[366]\tvalidation_0-error:0\tvalidation_0-logloss:0.000343\tvalidation_1-error:0.002328\tvalidation_1-logloss:0.006474\n",
      "[367]\tvalidation_0-error:0\tvalidation_0-logloss:0.000342\tvalidation_1-error:0.002328\tvalidation_1-logloss:0.006467\n",
      "[368]\tvalidation_0-error:0\tvalidation_0-logloss:0.000342\tvalidation_1-error:0.002328\tvalidation_1-logloss:0.006477\n",
      "[369]\tvalidation_0-error:0\tvalidation_0-logloss:0.000341\tvalidation_1-error:0.002328\tvalidation_1-logloss:0.006482\n",
      "[370]\tvalidation_0-error:0\tvalidation_0-logloss:0.000341\tvalidation_1-error:0.002328\tvalidation_1-logloss:0.0065\n",
      "[371]\tvalidation_0-error:0\tvalidation_0-logloss:0.000341\tvalidation_1-error:0.002328\tvalidation_1-logloss:0.006491\n",
      "[372]\tvalidation_0-error:0\tvalidation_0-logloss:0.00034\tvalidation_1-error:0.002328\tvalidation_1-logloss:0.006499\n",
      "[373]\tvalidation_0-error:0\tvalidation_0-logloss:0.00034\tvalidation_1-error:0.002328\tvalidation_1-logloss:0.006509\n",
      "[374]\tvalidation_0-error:0\tvalidation_0-logloss:0.000339\tvalidation_1-error:0.002328\tvalidation_1-logloss:0.006522\n",
      "[375]\tvalidation_0-error:0\tvalidation_0-logloss:0.000339\tvalidation_1-error:0.002328\tvalidation_1-logloss:0.006516\n",
      "[376]\tvalidation_0-error:0\tvalidation_0-logloss:0.000338\tvalidation_1-error:0.002328\tvalidation_1-logloss:0.006509\n",
      "[377]\tvalidation_0-error:0\tvalidation_0-logloss:0.000338\tvalidation_1-error:0.002328\tvalidation_1-logloss:0.006546\n",
      "[378]\tvalidation_0-error:0\tvalidation_0-logloss:0.000338\tvalidation_1-error:0.002328\tvalidation_1-logloss:0.006548\n",
      "[379]\tvalidation_0-error:0\tvalidation_0-logloss:0.000337\tvalidation_1-error:0.002328\tvalidation_1-logloss:0.006542\n",
      "[380]\tvalidation_0-error:0\tvalidation_0-logloss:0.000337\tvalidation_1-error:0.002328\tvalidation_1-logloss:0.006556\n",
      "[381]\tvalidation_0-error:0\tvalidation_0-logloss:0.000337\tvalidation_1-error:0.002328\tvalidation_1-logloss:0.00654\n",
      "[382]\tvalidation_0-error:0\tvalidation_0-logloss:0.000336\tvalidation_1-error:0.002328\tvalidation_1-logloss:0.006534\n",
      "[383]\tvalidation_0-error:0\tvalidation_0-logloss:0.000336\tvalidation_1-error:0.002328\tvalidation_1-logloss:0.006529\n",
      "[384]\tvalidation_0-error:0\tvalidation_0-logloss:0.000336\tvalidation_1-error:0.002328\tvalidation_1-logloss:0.006525\n",
      "[385]\tvalidation_0-error:0\tvalidation_0-logloss:0.000335\tvalidation_1-error:0.002328\tvalidation_1-logloss:0.006545\n",
      "[386]\tvalidation_0-error:0\tvalidation_0-logloss:0.000335\tvalidation_1-error:0.002328\tvalidation_1-logloss:0.006539\n",
      "[387]\tvalidation_0-error:0\tvalidation_0-logloss:0.000335\tvalidation_1-error:0.002328\tvalidation_1-logloss:0.006526\n",
      "[388]\tvalidation_0-error:0\tvalidation_0-logloss:0.000334\tvalidation_1-error:0.002328\tvalidation_1-logloss:0.00651\n",
      "[389]\tvalidation_0-error:0\tvalidation_0-logloss:0.000334\tvalidation_1-error:0.002328\tvalidation_1-logloss:0.00652\n",
      "[390]\tvalidation_0-error:0\tvalidation_0-logloss:0.000333\tvalidation_1-error:0.002328\tvalidation_1-logloss:0.006524\n",
      "[391]\tvalidation_0-error:0\tvalidation_0-logloss:0.000333\tvalidation_1-error:0.002328\tvalidation_1-logloss:0.006537\n",
      "[392]\tvalidation_0-error:0\tvalidation_0-logloss:0.000333\tvalidation_1-error:0.002328\tvalidation_1-logloss:0.006549\n",
      "[393]\tvalidation_0-error:0\tvalidation_0-logloss:0.000332\tvalidation_1-error:0.002328\tvalidation_1-logloss:0.006573\n",
      "[394]\tvalidation_0-error:0\tvalidation_0-logloss:0.000332\tvalidation_1-error:0.002328\tvalidation_1-logloss:0.006552\n",
      "[395]\tvalidation_0-error:0\tvalidation_0-logloss:0.000332\tvalidation_1-error:0.002328\tvalidation_1-logloss:0.006551\n",
      "[396]\tvalidation_0-error:0\tvalidation_0-logloss:0.000331\tvalidation_1-error:0.002328\tvalidation_1-logloss:0.006552\n",
      "[397]\tvalidation_0-error:0\tvalidation_0-logloss:0.000331\tvalidation_1-error:0.002328\tvalidation_1-logloss:0.006559\n",
      "[398]\tvalidation_0-error:0\tvalidation_0-logloss:0.000331\tvalidation_1-error:0.002328\tvalidation_1-logloss:0.006559\n",
      "[399]\tvalidation_0-error:0\tvalidation_0-logloss:0.00033\tvalidation_1-error:0.002328\tvalidation_1-logloss:0.00654\n",
      "[400]\tvalidation_0-error:0\tvalidation_0-logloss:0.00033\tvalidation_1-error:0.002328\tvalidation_1-logloss:0.006528\n",
      "[401]\tvalidation_0-error:0\tvalidation_0-logloss:0.000329\tvalidation_1-error:0.002328\tvalidation_1-logloss:0.006533\n",
      "[402]\tvalidation_0-error:0\tvalidation_0-logloss:0.000329\tvalidation_1-error:0.002328\tvalidation_1-logloss:0.006536\n",
      "[403]\tvalidation_0-error:0\tvalidation_0-logloss:0.000329\tvalidation_1-error:0.002328\tvalidation_1-logloss:0.006537\n",
      "[404]\tvalidation_0-error:0\tvalidation_0-logloss:0.000328\tvalidation_1-error:0.002328\tvalidation_1-logloss:0.006513\n",
      "[405]\tvalidation_0-error:0\tvalidation_0-logloss:0.000328\tvalidation_1-error:0.002328\tvalidation_1-logloss:0.006509\n",
      "[406]\tvalidation_0-error:0\tvalidation_0-logloss:0.000328\tvalidation_1-error:0.002328\tvalidation_1-logloss:0.006505\n",
      "[407]\tvalidation_0-error:0\tvalidation_0-logloss:0.000327\tvalidation_1-error:0.002328\tvalidation_1-logloss:0.006482\n",
      "[408]\tvalidation_0-error:0\tvalidation_0-logloss:0.000327\tvalidation_1-error:0.002328\tvalidation_1-logloss:0.006467\n",
      "[409]\tvalidation_0-error:0\tvalidation_0-logloss:0.000327\tvalidation_1-error:0.002328\tvalidation_1-logloss:0.006473\n",
      "[410]\tvalidation_0-error:0\tvalidation_0-logloss:0.000326\tvalidation_1-error:0.002328\tvalidation_1-logloss:0.00647\n",
      "[411]\tvalidation_0-error:0\tvalidation_0-logloss:0.000326\tvalidation_1-error:0.002328\tvalidation_1-logloss:0.006459\n",
      "[412]\tvalidation_0-error:0\tvalidation_0-logloss:0.000326\tvalidation_1-error:0.002328\tvalidation_1-logloss:0.006467\n",
      "[413]\tvalidation_0-error:0\tvalidation_0-logloss:0.000325\tvalidation_1-error:0.002328\tvalidation_1-logloss:0.006465\n",
      "[414]\tvalidation_0-error:0\tvalidation_0-logloss:0.000325\tvalidation_1-error:0.002328\tvalidation_1-logloss:0.006489\n",
      "[415]\tvalidation_0-error:0\tvalidation_0-logloss:0.000324\tvalidation_1-error:0.002328\tvalidation_1-logloss:0.006487\n",
      "[416]\tvalidation_0-error:0\tvalidation_0-logloss:0.000324\tvalidation_1-error:0.002328\tvalidation_1-logloss:0.006484\n",
      "[417]\tvalidation_0-error:0\tvalidation_0-logloss:0.000324\tvalidation_1-error:0.002328\tvalidation_1-logloss:0.00647\n",
      "[418]\tvalidation_0-error:0\tvalidation_0-logloss:0.000323\tvalidation_1-error:0.002328\tvalidation_1-logloss:0.006471\n",
      "[419]\tvalidation_0-error:0\tvalidation_0-logloss:0.000323\tvalidation_1-error:0.002328\tvalidation_1-logloss:0.006458\n",
      "[420]\tvalidation_0-error:0\tvalidation_0-logloss:0.000323\tvalidation_1-error:0.002328\tvalidation_1-logloss:0.006467\n",
      "[421]\tvalidation_0-error:0\tvalidation_0-logloss:0.000322\tvalidation_1-error:0.002328\tvalidation_1-logloss:0.006465\n",
      "[422]\tvalidation_0-error:0\tvalidation_0-logloss:0.000322\tvalidation_1-error:0.002328\tvalidation_1-logloss:0.006453\n",
      "[423]\tvalidation_0-error:0\tvalidation_0-logloss:0.000322\tvalidation_1-error:0.002328\tvalidation_1-logloss:0.006445\n",
      "[424]\tvalidation_0-error:0\tvalidation_0-logloss:0.000322\tvalidation_1-error:0.002328\tvalidation_1-logloss:0.006449\n",
      "[425]\tvalidation_0-error:0\tvalidation_0-logloss:0.000321\tvalidation_1-error:0.002328\tvalidation_1-logloss:0.006464\n"
     ]
    },
    {
     "name": "stdout",
     "output_type": "stream",
     "text": [
      "[426]\tvalidation_0-error:0\tvalidation_0-logloss:0.000321\tvalidation_1-error:0.002328\tvalidation_1-logloss:0.006459\n",
      "[427]\tvalidation_0-error:0\tvalidation_0-logloss:0.000321\tvalidation_1-error:0.002328\tvalidation_1-logloss:0.006464\n",
      "[428]\tvalidation_0-error:0\tvalidation_0-logloss:0.000321\tvalidation_1-error:0.002328\tvalidation_1-logloss:0.006473\n",
      "[429]\tvalidation_0-error:0\tvalidation_0-logloss:0.00032\tvalidation_1-error:0.002328\tvalidation_1-logloss:0.006463\n",
      "[430]\tvalidation_0-error:0\tvalidation_0-logloss:0.00032\tvalidation_1-error:0.002328\tvalidation_1-logloss:0.006456\n",
      "[431]\tvalidation_0-error:0\tvalidation_0-logloss:0.00032\tvalidation_1-error:0.002328\tvalidation_1-logloss:0.006463\n",
      "[432]\tvalidation_0-error:0\tvalidation_0-logloss:0.000319\tvalidation_1-error:0.002328\tvalidation_1-logloss:0.006472\n",
      "[433]\tvalidation_0-error:0\tvalidation_0-logloss:0.000319\tvalidation_1-error:0.002328\tvalidation_1-logloss:0.006465\n",
      "[434]\tvalidation_0-error:0\tvalidation_0-logloss:0.000319\tvalidation_1-error:0.002328\tvalidation_1-logloss:0.006449\n",
      "[435]\tvalidation_0-error:0\tvalidation_0-logloss:0.000318\tvalidation_1-error:0.002328\tvalidation_1-logloss:0.006432\n",
      "[436]\tvalidation_0-error:0\tvalidation_0-logloss:0.000318\tvalidation_1-error:0.002328\tvalidation_1-logloss:0.006445\n",
      "[437]\tvalidation_0-error:0\tvalidation_0-logloss:0.000318\tvalidation_1-error:0.002328\tvalidation_1-logloss:0.006462\n",
      "[438]\tvalidation_0-error:0\tvalidation_0-logloss:0.000317\tvalidation_1-error:0.002328\tvalidation_1-logloss:0.006461\n",
      "[439]\tvalidation_0-error:0\tvalidation_0-logloss:0.000317\tvalidation_1-error:0.002328\tvalidation_1-logloss:0.006442\n",
      "[440]\tvalidation_0-error:0\tvalidation_0-logloss:0.000317\tvalidation_1-error:0.002328\tvalidation_1-logloss:0.006445\n",
      "[441]\tvalidation_0-error:0\tvalidation_0-logloss:0.000317\tvalidation_1-error:0.002328\tvalidation_1-logloss:0.006432\n",
      "[442]\tvalidation_0-error:0\tvalidation_0-logloss:0.000316\tvalidation_1-error:0.002328\tvalidation_1-logloss:0.006442\n",
      "[443]\tvalidation_0-error:0\tvalidation_0-logloss:0.000316\tvalidation_1-error:0.002328\tvalidation_1-logloss:0.006427\n",
      "[444]\tvalidation_0-error:0\tvalidation_0-logloss:0.000316\tvalidation_1-error:0.002328\tvalidation_1-logloss:0.006441\n",
      "[445]\tvalidation_0-error:0\tvalidation_0-logloss:0.000315\tvalidation_1-error:0.002328\tvalidation_1-logloss:0.006433\n",
      "[446]\tvalidation_0-error:0\tvalidation_0-logloss:0.000315\tvalidation_1-error:0.002328\tvalidation_1-logloss:0.006451\n",
      "[447]\tvalidation_0-error:0\tvalidation_0-logloss:0.000314\tvalidation_1-error:0.002328\tvalidation_1-logloss:0.006458\n",
      "[448]\tvalidation_0-error:0\tvalidation_0-logloss:0.000314\tvalidation_1-error:0.002328\tvalidation_1-logloss:0.006448\n",
      "[449]\tvalidation_0-error:0\tvalidation_0-logloss:0.000314\tvalidation_1-error:0.002328\tvalidation_1-logloss:0.006458\n",
      "[450]\tvalidation_0-error:0\tvalidation_0-logloss:0.000314\tvalidation_1-error:0.002328\tvalidation_1-logloss:0.006462\n",
      "[451]\tvalidation_0-error:0\tvalidation_0-logloss:0.000314\tvalidation_1-error:0.002328\tvalidation_1-logloss:0.00646\n",
      "[452]\tvalidation_0-error:0\tvalidation_0-logloss:0.000313\tvalidation_1-error:0.002328\tvalidation_1-logloss:0.006455\n",
      "[453]\tvalidation_0-error:0\tvalidation_0-logloss:0.000313\tvalidation_1-error:0.002328\tvalidation_1-logloss:0.006445\n",
      "[454]\tvalidation_0-error:0\tvalidation_0-logloss:0.000313\tvalidation_1-error:0.002328\tvalidation_1-logloss:0.006442\n",
      "[455]\tvalidation_0-error:0\tvalidation_0-logloss:0.000313\tvalidation_1-error:0.002328\tvalidation_1-logloss:0.00645\n",
      "[456]\tvalidation_0-error:0\tvalidation_0-logloss:0.000312\tvalidation_1-error:0.002328\tvalidation_1-logloss:0.006456\n",
      "[457]\tvalidation_0-error:0\tvalidation_0-logloss:0.000312\tvalidation_1-error:0.002328\tvalidation_1-logloss:0.006458\n",
      "[458]\tvalidation_0-error:0\tvalidation_0-logloss:0.000312\tvalidation_1-error:0.002328\tvalidation_1-logloss:0.006471\n",
      "[459]\tvalidation_0-error:0\tvalidation_0-logloss:0.000311\tvalidation_1-error:0.002328\tvalidation_1-logloss:0.006457\n",
      "[460]\tvalidation_0-error:0\tvalidation_0-logloss:0.000311\tvalidation_1-error:0.002328\tvalidation_1-logloss:0.006461\n",
      "[461]\tvalidation_0-error:0\tvalidation_0-logloss:0.000311\tvalidation_1-error:0.002328\tvalidation_1-logloss:0.006465\n",
      "[462]\tvalidation_0-error:0\tvalidation_0-logloss:0.00031\tvalidation_1-error:0.002328\tvalidation_1-logloss:0.006449\n",
      "[463]\tvalidation_0-error:0\tvalidation_0-logloss:0.00031\tvalidation_1-error:0.002328\tvalidation_1-logloss:0.006461\n",
      "[464]\tvalidation_0-error:0\tvalidation_0-logloss:0.00031\tvalidation_1-error:0.002328\tvalidation_1-logloss:0.006476\n",
      "[465]\tvalidation_0-error:0\tvalidation_0-logloss:0.00031\tvalidation_1-error:0.002328\tvalidation_1-logloss:0.006477\n",
      "[466]\tvalidation_0-error:0\tvalidation_0-logloss:0.000309\tvalidation_1-error:0.002328\tvalidation_1-logloss:0.006472\n",
      "[467]\tvalidation_0-error:0\tvalidation_0-logloss:0.000309\tvalidation_1-error:0.002328\tvalidation_1-logloss:0.006468\n",
      "[468]\tvalidation_0-error:0\tvalidation_0-logloss:0.000308\tvalidation_1-error:0.002328\tvalidation_1-logloss:0.006457\n",
      "[469]\tvalidation_0-error:0\tvalidation_0-logloss:0.000308\tvalidation_1-error:0.002328\tvalidation_1-logloss:0.006458\n",
      "[470]\tvalidation_0-error:0\tvalidation_0-logloss:0.000308\tvalidation_1-error:0.002328\tvalidation_1-logloss:0.006466\n",
      "[471]\tvalidation_0-error:0\tvalidation_0-logloss:0.000308\tvalidation_1-error:0.002328\tvalidation_1-logloss:0.006466\n",
      "[472]\tvalidation_0-error:0\tvalidation_0-logloss:0.000308\tvalidation_1-error:0.002328\tvalidation_1-logloss:0.00645\n",
      "[473]\tvalidation_0-error:0\tvalidation_0-logloss:0.000307\tvalidation_1-error:0.002328\tvalidation_1-logloss:0.006448\n",
      "[474]\tvalidation_0-error:0\tvalidation_0-logloss:0.000307\tvalidation_1-error:0.002328\tvalidation_1-logloss:0.006449\n",
      "[475]\tvalidation_0-error:0\tvalidation_0-logloss:0.000307\tvalidation_1-error:0.002328\tvalidation_1-logloss:0.006455\n",
      "[476]\tvalidation_0-error:0\tvalidation_0-logloss:0.000307\tvalidation_1-error:0.002328\tvalidation_1-logloss:0.006444\n",
      "[477]\tvalidation_0-error:0\tvalidation_0-logloss:0.000306\tvalidation_1-error:0.002328\tvalidation_1-logloss:0.006451\n",
      "[478]\tvalidation_0-error:0\tvalidation_0-logloss:0.000306\tvalidation_1-error:0.002328\tvalidation_1-logloss:0.006451\n",
      "[479]\tvalidation_0-error:0\tvalidation_0-logloss:0.000306\tvalidation_1-error:0.002328\tvalidation_1-logloss:0.006446\n",
      "[480]\tvalidation_0-error:0\tvalidation_0-logloss:0.000305\tvalidation_1-error:0.002328\tvalidation_1-logloss:0.006447\n",
      "[481]\tvalidation_0-error:0\tvalidation_0-logloss:0.000305\tvalidation_1-error:0.002328\tvalidation_1-logloss:0.00644\n",
      "[482]\tvalidation_0-error:0\tvalidation_0-logloss:0.000305\tvalidation_1-error:0.002328\tvalidation_1-logloss:0.006429\n",
      "[483]\tvalidation_0-error:0\tvalidation_0-logloss:0.000305\tvalidation_1-error:0.002328\tvalidation_1-logloss:0.006416\n",
      "[484]\tvalidation_0-error:0\tvalidation_0-logloss:0.000305\tvalidation_1-error:0.002328\tvalidation_1-logloss:0.006415\n",
      "[485]\tvalidation_0-error:0\tvalidation_0-logloss:0.000304\tvalidation_1-error:0.002328\tvalidation_1-logloss:0.006402\n",
      "[486]\tvalidation_0-error:0\tvalidation_0-logloss:0.000304\tvalidation_1-error:0.002328\tvalidation_1-logloss:0.006412\n",
      "[487]\tvalidation_0-error:0\tvalidation_0-logloss:0.000304\tvalidation_1-error:0.002328\tvalidation_1-logloss:0.006417\n",
      "[488]\tvalidation_0-error:0\tvalidation_0-logloss:0.000304\tvalidation_1-error:0.002328\tvalidation_1-logloss:0.006419\n",
      "[489]\tvalidation_0-error:0\tvalidation_0-logloss:0.000303\tvalidation_1-error:0.002328\tvalidation_1-logloss:0.006418\n",
      "[490]\tvalidation_0-error:0\tvalidation_0-logloss:0.000303\tvalidation_1-error:0.002328\tvalidation_1-logloss:0.006415\n",
      "[491]\tvalidation_0-error:0\tvalidation_0-logloss:0.000303\tvalidation_1-error:0.002328\tvalidation_1-logloss:0.006416\n",
      "[492]\tvalidation_0-error:0\tvalidation_0-logloss:0.000303\tvalidation_1-error:0.002328\tvalidation_1-logloss:0.006419\n",
      "[493]\tvalidation_0-error:0\tvalidation_0-logloss:0.000303\tvalidation_1-error:0.002328\tvalidation_1-logloss:0.006416\n",
      "[494]\tvalidation_0-error:0\tvalidation_0-logloss:0.000303\tvalidation_1-error:0.002328\tvalidation_1-logloss:0.006411\n",
      "[495]\tvalidation_0-error:0\tvalidation_0-logloss:0.000303\tvalidation_1-error:0.002328\tvalidation_1-logloss:0.006411\n",
      "[496]\tvalidation_0-error:0\tvalidation_0-logloss:0.000302\tvalidation_1-error:0.002328\tvalidation_1-logloss:0.006413\n",
      "[497]\tvalidation_0-error:0\tvalidation_0-logloss:0.000302\tvalidation_1-error:0.002328\tvalidation_1-logloss:0.006407\n"
     ]
    },
    {
     "name": "stdout",
     "output_type": "stream",
     "text": [
      "[498]\tvalidation_0-error:0\tvalidation_0-logloss:0.000302\tvalidation_1-error:0.002328\tvalidation_1-logloss:0.006395\n",
      "[499]\tvalidation_0-error:0\tvalidation_0-logloss:0.000302\tvalidation_1-error:0.002328\tvalidation_1-logloss:0.006393\n",
      "[500]\tvalidation_0-error:0\tvalidation_0-logloss:0.000302\tvalidation_1-error:0.002328\tvalidation_1-logloss:0.006396\n",
      "[501]\tvalidation_0-error:0\tvalidation_0-logloss:0.000301\tvalidation_1-error:0.002328\tvalidation_1-logloss:0.006401\n",
      "[502]\tvalidation_0-error:0\tvalidation_0-logloss:0.000301\tvalidation_1-error:0.002328\tvalidation_1-logloss:0.006415\n",
      "[503]\tvalidation_0-error:0\tvalidation_0-logloss:0.000301\tvalidation_1-error:0.002328\tvalidation_1-logloss:0.006413\n",
      "[504]\tvalidation_0-error:0\tvalidation_0-logloss:0.000301\tvalidation_1-error:0.002328\tvalidation_1-logloss:0.006428\n",
      "[505]\tvalidation_0-error:0\tvalidation_0-logloss:0.000301\tvalidation_1-error:0.002328\tvalidation_1-logloss:0.006436\n",
      "[506]\tvalidation_0-error:0\tvalidation_0-logloss:0.0003\tvalidation_1-error:0.002328\tvalidation_1-logloss:0.006441\n",
      "[507]\tvalidation_0-error:0\tvalidation_0-logloss:0.0003\tvalidation_1-error:0.002328\tvalidation_1-logloss:0.006437\n",
      "[508]\tvalidation_0-error:0\tvalidation_0-logloss:0.0003\tvalidation_1-error:0.002328\tvalidation_1-logloss:0.006445\n",
      "[509]\tvalidation_0-error:0\tvalidation_0-logloss:0.0003\tvalidation_1-error:0.002328\tvalidation_1-logloss:0.006441\n",
      "[510]\tvalidation_0-error:0\tvalidation_0-logloss:0.000299\tvalidation_1-error:0.002328\tvalidation_1-logloss:0.006435\n",
      "[511]\tvalidation_0-error:0\tvalidation_0-logloss:0.000299\tvalidation_1-error:0.002328\tvalidation_1-logloss:0.006433\n",
      "[512]\tvalidation_0-error:0\tvalidation_0-logloss:0.000299\tvalidation_1-error:0.002328\tvalidation_1-logloss:0.006422\n",
      "[513]\tvalidation_0-error:0\tvalidation_0-logloss:0.000299\tvalidation_1-error:0.002328\tvalidation_1-logloss:0.006439\n",
      "[514]\tvalidation_0-error:0\tvalidation_0-logloss:0.000298\tvalidation_1-error:0.002328\tvalidation_1-logloss:0.006449\n",
      "[515]\tvalidation_0-error:0\tvalidation_0-logloss:0.000298\tvalidation_1-error:0.002328\tvalidation_1-logloss:0.006452\n",
      "[516]\tvalidation_0-error:0\tvalidation_0-logloss:0.000298\tvalidation_1-error:0.002328\tvalidation_1-logloss:0.006443\n",
      "[517]\tvalidation_0-error:0\tvalidation_0-logloss:0.000298\tvalidation_1-error:0.002328\tvalidation_1-logloss:0.006442\n",
      "[518]\tvalidation_0-error:0\tvalidation_0-logloss:0.000298\tvalidation_1-error:0.002328\tvalidation_1-logloss:0.006449\n",
      "[519]\tvalidation_0-error:0\tvalidation_0-logloss:0.000298\tvalidation_1-error:0.002328\tvalidation_1-logloss:0.006447\n",
      "[520]\tvalidation_0-error:0\tvalidation_0-logloss:0.000298\tvalidation_1-error:0.002328\tvalidation_1-logloss:0.006447\n",
      "[521]\tvalidation_0-error:0\tvalidation_0-logloss:0.000298\tvalidation_1-error:0.002328\tvalidation_1-logloss:0.006452\n",
      "[522]\tvalidation_0-error:0\tvalidation_0-logloss:0.000298\tvalidation_1-error:0.002328\tvalidation_1-logloss:0.006465\n",
      "[523]\tvalidation_0-error:0\tvalidation_0-logloss:0.000298\tvalidation_1-error:0.002328\tvalidation_1-logloss:0.006456\n",
      "[524]\tvalidation_0-error:0\tvalidation_0-logloss:0.000298\tvalidation_1-error:0.002328\tvalidation_1-logloss:0.006451\n",
      "[525]\tvalidation_0-error:0\tvalidation_0-logloss:0.000297\tvalidation_1-error:0.002328\tvalidation_1-logloss:0.00644\n",
      "[526]\tvalidation_0-error:0\tvalidation_0-logloss:0.000297\tvalidation_1-error:0.002328\tvalidation_1-logloss:0.006437\n",
      "[527]\tvalidation_0-error:0\tvalidation_0-logloss:0.000297\tvalidation_1-error:0.002328\tvalidation_1-logloss:0.006423\n",
      "[528]\tvalidation_0-error:0\tvalidation_0-logloss:0.000297\tvalidation_1-error:0.002328\tvalidation_1-logloss:0.006426\n",
      "[529]\tvalidation_0-error:0\tvalidation_0-logloss:0.000297\tvalidation_1-error:0.002328\tvalidation_1-logloss:0.006423\n",
      "[530]\tvalidation_0-error:0\tvalidation_0-logloss:0.000296\tvalidation_1-error:0.002328\tvalidation_1-logloss:0.006413\n",
      "[531]\tvalidation_0-error:0\tvalidation_0-logloss:0.000296\tvalidation_1-error:0.002328\tvalidation_1-logloss:0.006407\n",
      "[532]\tvalidation_0-error:0\tvalidation_0-logloss:0.000296\tvalidation_1-error:0.002328\tvalidation_1-logloss:0.006415\n",
      "[533]\tvalidation_0-error:0\tvalidation_0-logloss:0.000296\tvalidation_1-error:0.002328\tvalidation_1-logloss:0.006422\n",
      "[534]\tvalidation_0-error:0\tvalidation_0-logloss:0.000296\tvalidation_1-error:0.002328\tvalidation_1-logloss:0.006419\n",
      "[535]\tvalidation_0-error:0\tvalidation_0-logloss:0.000296\tvalidation_1-error:0.002328\tvalidation_1-logloss:0.006416\n",
      "[536]\tvalidation_0-error:0\tvalidation_0-logloss:0.000295\tvalidation_1-error:0.002328\tvalidation_1-logloss:0.006404\n",
      "[537]\tvalidation_0-error:0\tvalidation_0-logloss:0.000295\tvalidation_1-error:0.002328\tvalidation_1-logloss:0.006421\n",
      "[538]\tvalidation_0-error:0\tvalidation_0-logloss:0.000295\tvalidation_1-error:0.002328\tvalidation_1-logloss:0.00642\n",
      "[539]\tvalidation_0-error:0\tvalidation_0-logloss:0.000295\tvalidation_1-error:0.002328\tvalidation_1-logloss:0.00642\n",
      "[540]\tvalidation_0-error:0\tvalidation_0-logloss:0.000295\tvalidation_1-error:0.002328\tvalidation_1-logloss:0.006423\n",
      "[541]\tvalidation_0-error:0\tvalidation_0-logloss:0.000295\tvalidation_1-error:0.002328\tvalidation_1-logloss:0.006422\n",
      "[542]\tvalidation_0-error:0\tvalidation_0-logloss:0.000295\tvalidation_1-error:0.002328\tvalidation_1-logloss:0.006424\n",
      "[543]\tvalidation_0-error:0\tvalidation_0-logloss:0.000295\tvalidation_1-error:0.002328\tvalidation_1-logloss:0.006422\n",
      "[544]\tvalidation_0-error:0\tvalidation_0-logloss:0.000295\tvalidation_1-error:0.002328\tvalidation_1-logloss:0.00642\n",
      "[545]\tvalidation_0-error:0\tvalidation_0-logloss:0.000294\tvalidation_1-error:0.002328\tvalidation_1-logloss:0.006412\n",
      "[546]\tvalidation_0-error:0\tvalidation_0-logloss:0.000294\tvalidation_1-error:0.002328\tvalidation_1-logloss:0.006408\n",
      "[547]\tvalidation_0-error:0\tvalidation_0-logloss:0.000294\tvalidation_1-error:0.002328\tvalidation_1-logloss:0.006391\n",
      "[548]\tvalidation_0-error:0\tvalidation_0-logloss:0.000294\tvalidation_1-error:0.002328\tvalidation_1-logloss:0.006399\n",
      "[549]\tvalidation_0-error:0\tvalidation_0-logloss:0.000294\tvalidation_1-error:0.002328\tvalidation_1-logloss:0.006397\n"
     ]
    },
    {
     "data": {
      "text/plain": [
       "XGBClassifier(base_score=0.5, booster='gbtree', colsample_bylevel=1,\n",
       "       colsample_bynode=1, colsample_bytree=0.8, gamma=0,\n",
       "       learning_rate=0.1, max_delta_step=0, max_depth=10,\n",
       "       min_child_weight=2, missing=None, n_estimators=550, n_jobs=1,\n",
       "       nthread=4, objective='binary:logistic', random_state=0, reg_alpha=0,\n",
       "       reg_lambda=1, scale_pos_weight=1, seed=2, silent=None,\n",
       "       subsample=0.8, verbosity=1)"
      ]
     },
     "execution_count": 57,
     "metadata": {},
     "output_type": "execute_result"
    }
   ],
   "source": [
    "model3.fit(X_train, y_train, eval_metric=[\"error\", \"logloss\"], eval_set=eval_set, verbose=True)"
   ]
  },
  {
   "cell_type": "code",
   "execution_count": 58,
   "metadata": {},
   "outputs": [],
   "source": [
    "def specifity(y_true_function,y_pred_function):\n",
    "    \n",
    "    \"\"\"\n",
    "    \n",
    "    \n",
    "    \"\"\"\n",
    "    try:\n",
    "        tn, fp, fn, tp = confussion_matrix_function(y_true_function.tolist(), y_pred_function.tolist()).ravel()\n",
    "        score = (tp*100) / (fn+(np.exp(fp)))\n",
    "        return score\n",
    "    except:\n",
    "        return 0\n",
    "\n",
    " # score will negate the return value of my_custom_loss_func,\n",
    "# which will be np.log(2), 0.693, given the values for X\n",
    "# and y defined below.\n",
    "specifity_scorer = make_scorer(specifity, greater_is_better=True)"
   ]
  },
  {
   "cell_type": "code",
   "execution_count": 59,
   "metadata": {},
   "outputs": [
    {
     "name": "stdout",
     "output_type": "stream",
     "text": [
      "Accuracy: 0\n"
     ]
    },
    {
     "data": {
      "image/png": "[encoded data removed]",
      "text/plain": [
       "<Figure size 432x288 with 1 Axes>"
      ]
     },
     "metadata": {
      "needs_background": "light"
     },
     "output_type": "display_data"
    },
    {
     "data": {
      "image/png": "[encoded data removed]",
      "text/plain": [
       "<Figure size 432x288 with 1 Axes>"
      ]
     },
     "metadata": {
      "needs_background": "light"
     },
     "output_type": "display_data"
    }
   ],
   "source": [
    "# make predictions for test data\n",
    "y_pred = model3.predict(X_test)\n",
    "predictions = [round(value) for value in y_pred]\n",
    "# evaluate predictions\n",
    "accuracy = specifity(predictions,y_test)\n",
    "print(\"Accuracy: \" +str(accuracy))\n",
    "# retrieve performance metrics\n",
    "results = model3.evals_result()\n",
    "epochs = len(results['validation_0']['error'])\n",
    "x_axis = range(0, epochs)\n",
    "\n",
    "\n",
    "# plot log loss\n",
    "fig, ax = pyplot.subplots()\n",
    "ax.plot(x_axis, results['validation_0']['logloss'], label='Train')\n",
    "ax.plot(x_axis, results['validation_1']['logloss'], label='Test')\n",
    "ax.legend()\n",
    "pyplot.ylabel('Log Loss')\n",
    "pyplot.title('XGBoost Log Loss')\n",
    "pyplot.show()\n",
    "\n",
    "\n",
    "# plot classification error\n",
    "fig, ax = pyplot.subplots()\n",
    "ax.plot(x_axis, results['validation_0']['error'], label='Train')\n",
    "ax.plot(x_axis, results['validation_1']['error'], label='Test')\n",
    "ax.legend()\n",
    "pyplot.ylabel('Classification Error')\n",
    "pyplot.title('XGBoost Classification Error')\n",
    "pyplot.show()"
   ]
  },
  {
   "cell_type": "markdown",
   "metadata": {},
   "source": [
    "## GridSearch"
   ]
  },
  {
   "cell_type": "markdown",
   "metadata": {},
   "source": [
    "## Plot"
   ]
  },
  {
   "cell_type": "code",
   "execution_count": 34,
   "metadata": {},
   "outputs": [],
   "source": [
    "def model_specifity_ploter(df_specifity,score):\n",
    "    \"\"\"\n",
    "\n",
    "\n",
    "    \"\"\"\n",
    "\n",
    "    #Gráficas\n",
    "    specifity_test_plot = df_specifity.mean(axis=0).values\n",
    "    df_specifity=df_specifity.T\n",
    "\n",
    "    plt.subplots(figsize=(8, 3))\n",
    "    plt.plot(values_search, specifity_test_plot,color=\"royalblue\")\n",
    "    plt.title(str(score))\n",
    "\n",
    "\n",
    "  \n",
    "    plt.tight_layout()\n",
    "    plt.show() "
   ]
  },
  {
   "cell_type": "markdown",
   "metadata": {},
   "source": [
    "### Verification"
   ]
  },
  {
   "cell_type": "code",
   "execution_count": 35,
   "metadata": {},
   "outputs": [],
   "source": [
    "def verification_model_score(\n",
    "                            df,target,n_iteraciones,\n",
    "                            iteraciones,n_iteracion):\n",
    "    \"\"\"\n",
    "    \n",
    "    \n",
    "    \"\"\"\n",
    "    dataset = df.copy()\n",
    "    #dataset.drop([\"fecha\"],axis=1,inplace=True)\n",
    "    dataset.dropna(inplace=True)\n",
    "    dataset.drop(lista[:],axis=1,inplace=True)\n",
    "\n",
    "    X = dataset.loc[:, dataset.columns != target]\n",
    "    y = dataset[target]\n",
    "\n",
    "    #Definimos los conjuntos de prueba:\n",
    "\n",
    "    #X_train, X_test, y_train, y_test = train_test_split(X, y, test_size=0.3, random_state=rd.randint(1,100))\n",
    "    #Definimos los conjuntos de prueba:\n",
    "    iteraciones = [entrada for entrada in range(n_iteraciones)] ##definimos el número de iteraciones\n",
    "    \n",
    "    df_confussion_test = pd.DataFrame(index=iteraciones, columns=[\"tn\",\"fp\",\"fn\",\"tp\"])\n",
    "    df_confussion_mean_test = pd.DataFrame(index=[0,1], columns=[0,1])\n",
    "\n",
    "    for iteracion in iteraciones:\n",
    "        X_train, X_test, y_train, y_test = train_test_split(X, y, test_size=0.3, random_state=rd.randint(1,100))\n",
    "        model = XGBClassifier(params=parameters[n_iteracion])#definimos los parametros\n",
    "        model_train = model.fit(X_train, y_train)#fit\n",
    "        pred_test = model_train.predict(X_test)\n",
    "        #confussion matrix\n",
    "        df_confussion_test.iloc[iteracion,:] = confussion_matrix_function(y_test,pred_test).ravel()\n",
    "\n",
    "    print(df_confussion_test)\n",
    "    \n",
    "    df_confussion_mean_test.iloc[0,:] = df_confussion_test.describe().iloc[1,0:2].values\n",
    "    df_confussion_mean_test.iloc[1,:] = df_confussion_test.describe().iloc[1,2:4].values\n",
    "    df_confussion_mean_test = df_confussion_mean_test.apply(pd.to_numeric, errors='ignore')\n",
    "\n",
    "    sn.heatmap(df_confussion_mean_test, annot=True)"
   ]
  },
  {
   "cell_type": "code",
   "execution_count": 36,
   "metadata": {},
   "outputs": [],
   "source": [
    "hora = 11\n",
    "\n",
    "dataset = data_hour_merge_training.copy()\n",
    "#dataset.drop([\"fecha\"],axis=1,inplace=True)\n",
    "dataset.dropna(inplace=True)\n",
    "dataset.drop(lista[:],axis=1,inplace=True)\n",
    "\n",
    "X = dataset.loc[:, dataset.columns != \"class\"]\n",
    "y = dataset[\"class\"]\n",
    "\n",
    "#Definimos los conjuntos de prueba:\n",
    "\n",
    "X_train, X_test, y_train, y_test = train_test_split(X, y, test_size=0.3, random_state=rd.randint(1,100))"
   ]
  },
  {
   "cell_type": "code",
   "execution_count": 37,
   "metadata": {},
   "outputs": [],
   "source": [
    "def printProgressBar (iteration, total, prefix = '', suffix = '', decimals = 1, length = 100, fill = '█'):\n",
    "    \"\"\"\n",
    "    Call in a loop to create terminal progress bar\n",
    "    @params:\n",
    "        iteration   - Required  : current iteration (Int)\n",
    "        total       - Required  : total iterations (Int)\n",
    "        prefix      - Optional  : prefix string (Str)\n",
    "        suffix      - Optional  : suffix string (Str)\n",
    "        decimals    - Optional  : positive number of decimals in percent complete (Int)\n",
    "        length      - Optional  : character length of bar (Int)\n",
    "        fill        - Optional  : bar fill character (Str)\n",
    "    \"\"\"\n",
    "    percent = (\"{0:.\" + str(decimals) + \"f}\").format(100 * (iteration / float(total)))\n",
    "    filledLength = int(length * iteration // total)\n",
    "    bar = fill * filledLength + '-' * (length - filledLength)\n",
    "    print('\\r%s |%s| %s%% %s' % (prefix, bar, percent, suffix), end = '\\r')\n",
    "    # Print New Line on Complete\n",
    "    if iteration == total: \n",
    "        print()"
   ]
  },
  {
   "cell_type": "code",
   "execution_count": 65,
   "metadata": {},
   "outputs": [],
   "source": [
    "def xgboost_autoparameter_tunning(\n",
    "                                df,target,parameter_grid,resamples,\n",
    "                                parameters_list,score=specifity): \n",
    "    \n",
    "    intentos = [number for number in range(resamples)]\n",
    "    parameters_numbers_position = [i for i in range(len(parameters))]\n",
    "    df_specifity = pd.DataFrame(columns=parameters_numbers_position,index=intentos)\n",
    "    toolbar_width = len(intentos)\n",
    "    \n",
    "    \n",
    "    ## progress bar \n",
    "    l = len(intentos)\n",
    "    # Initial call to print 0% progress\n",
    "    printProgressBar(0, l, prefix = 'Intentos:', suffix = '', length = 50)\n",
    "\n",
    "    for intento in range(len(intentos)):\n",
    "        \n",
    "        X_training, X_testing, y_training, y_testing = train_test_split(X, y, test_size=0.3,   \n",
    "                                                                        random_state=rd.randint(100,200)) \n",
    "        specifity_test_list = []# para cada conjunto de parametr\n",
    "\n",
    "        for parameter_value in range(len(parameters_numbers_position)): ## iteramos sobre el parámetro deseado \n",
    "\n",
    "            model = XGBClassifier(**parameters[parameter_value])\n",
    "            train_model = model.fit(X_training, y_training) ##model fit\n",
    "\n",
    "            pred_test = train_model.predict(X_testing)  # predict verification\n",
    "\n",
    "            specifity_test = specifity(y_testing,pred_test)## specifity model\n",
    "            specifity_test_list.append(specifity_test)# specifity of search values and numbers\n",
    "            \n",
    "            \n",
    "        time.sleep(0.1)\n",
    "            # Update Progress Bar\n",
    "        printProgressBar(intento + 1, l, prefix = 'Intentos:', suffix = '', length = 50)\n",
    "\n",
    "            #print(specifity_test)\n",
    "        specifity_test_list\n",
    "        #print(df_specifity)\n",
    "\n",
    "        df_specifity.loc[intento,:] = specifity_test_list\n",
    "        \n",
    "        \n",
    "        \n",
    "    df_specifity = df_specifity.apply(pd.to_numeric, errors = 'coerce')\n",
    "    time.sleep(0)\n",
    "    maximo = max(df_specifity.mean(axis=0))\n",
    "\n",
    "    pos_maximum = [i for i,j in enumerate(df_specifity.mean(axis=0)) if j == maximo][0]\n",
    "    maximo = round(maximo,2)\n",
    "\n",
    "    #print(round(df_specifity.mean(axis=0),2))\n",
    "\n",
    "    #print(df_confussion_mean)\n",
    "    model_specifity_ploter(df_specifity,specifity)\n",
    "    print()\n",
    "    print(\"El máximo es para n=\"+ str(pos_maximum) + \"  k=\" + str(parameters[pos_maximum]) + \n",
    "          \" con un \" +\"score\"+\"=  \" +  str(maximo))"
   ]
  },
  {
   "cell_type": "markdown",
   "metadata": {},
   "source": [
    "# booster"
   ]
  },
  {
   "cell_type": "code",
   "execution_count": 42,
   "metadata": {},
   "outputs": [
    {
     "name": "stdout",
     "output_type": "stream",
     "text": [
      "Intentos: |██████████████████████████████████████████████████| 100.0% Complete\n"
     ]
    },
    {
     "data": {
      "image/png": "[encoded data removed]",
      "text/plain": [
       "<Figure size 576x216 with 1 Axes>"
      ]
     },
     "metadata": {
      "needs_background": "light"
     },
     "output_type": "display_data"
    },
    {
     "name": "stdout",
     "output_type": "stream",
     "text": [
      "\n",
      "El máximo es para n=0  k={'booster': 'gbtree', 'colsample_bylevel': 1, 'colsample_bynode': 1, 'colsample_bytree': 1, 'gamma': 0, 'learning_rate': 0.01, 'max_delta_step': 0, 'max_depth': 10, 'n_estimators': 100, 'n_jobs': 100, 'nthread': None, 'objective': 'binary:logistic', 'verbosity': 1} con un score=  65.58\n"
     ]
    }
   ],
   "source": [
    "values_search=[\"gbtree\",\"gblinear\",\"dart\"]\n",
    "parameter_grid=values_search\n",
    "parameters = [{ \"booster\":Serch_parameter, \"colsample_bylevel\":1,\n",
    " \"colsample_bynode\":1, \"colsample_bytree\":1, \"gamma\":0, \"learning_rate\":0.01,\"max_delta_step\":0, \n",
    " \"max_depth\":10,\"n_estimators\":100, \"n_jobs\":100, \"nthread\":None,\n",
    " \"objective\":'binary:logistic', \"verbosity\":1} for Serch_parameter in parameter_grid]\n",
    "\n",
    "xgboost_autoparameter_tunning(data_hour_merge_training,\"class\",parameter_grid,20,values_search)"
   ]
  },
  {
   "cell_type": "code",
   "execution_count": 44,
   "metadata": {
    "scrolled": false
   },
   "outputs": [
    {
     "name": "stdout",
     "output_type": "stream",
     "text": [
      "Intentos: |██████████████████████████████████████████████████| 100.0% Complete\n"
     ]
    },
    {
     "data": {
      "image/png": "[encoded data removed]",
      "text/plain": [
       "<Figure size 576x216 with 1 Axes>"
      ]
     },
     "metadata": {
      "needs_background": "light"
     },
     "output_type": "display_data"
    },
    {
     "name": "stdout",
     "output_type": "stream",
     "text": [
      "\n",
      "El máximo es para n=9  k={'base_score': 0.5, 'booster': 'gbtree', 'colsample_bylevel': 1, 'colsample_bynode': 1, 'colsample_bytree': 1, 'gamma': 0, 'learning_rate': 0.9, 'max_delta_step': 0, 'max_depth': 10, 'min_child_weight': 0.95, 'missing': None, 'n_estimators': 65, 'n_jobs': 100, 'nthread': None, 'objective': 'binary:logitraw', 'random_state': 0, 'reg_alpha': 0, 'reg_lambda': 1, 'scale_pos_weight': 1, 'seed': None, 'silent': None, 'subsample': 1, 'verbosity': 1} con un score=  155.07\n"
     ]
    }
   ],
   "source": [
    "values_search=[i/100 for i in range(0,200,10)]\n",
    "parameter_grid=values_search\n",
    "parameters = [{\"base_score\":0.5, \"booster\":'gbtree', \"colsample_bylevel\":1,\n",
    " \"colsample_bynode\":1, \"colsample_bytree\":1, \"gamma\":0, \"learning_rate\":Serch_parameter,\"max_delta_step\":0, \n",
    " \"max_depth\":10, \"min_child_weight\":0.95, \"missing\":None,\"n_estimators\":65, \"n_jobs\":100, \"nthread\":None,\n",
    " \"objective\":'binary:logitraw', \"random_state\":0, \"reg_alpha\":0,\n",
    "\"reg_lambda\":1, \"scale_pos_weight\":1, \"seed\":None, \"silent\":None,\n",
    "\"subsample\":1, \"verbosity\":1} for Serch_parameter in parameter_grid]\n",
    "\n",
    "xgboost_autoparameter_tunning(data_hour_merge_training,\"class\",parameter_grid,5,values_search)"
   ]
  },
  {
   "cell_type": "markdown",
   "metadata": {},
   "source": [
    "## Verification"
   ]
  },
  {
   "cell_type": "code",
   "execution_count": 48,
   "metadata": {},
   "outputs": [
    {
     "name": "stdout",
     "output_type": "stream",
     "text": [
      "     tn  fp  fn  tp\n",
      "0  7689   0   5  38\n",
      "1  7680   1  17  34\n",
      "2  7682   2  17  31\n",
      "3  7687   1  16  28\n",
      "4  7680   4   7  41\n",
      "5  7684   1  13  34\n",
      "6  7686   4  15  27\n",
      "7  7691   0  11  30\n",
      "8  7696   0  14  22\n",
      "9  7689   0   5  38\n"
     ]
    },
    {
     "data": {
      "image/png": "[encoded data removed]",
      "text/plain": [
       "<Figure size 432x288 with 2 Axes>"
      ]
     },
     "metadata": {
      "needs_background": "light"
     },
     "output_type": "display_data"
    }
   ],
   "source": [
    "verification_model_score(data_hour_merge_training,\"class\",10,parameters,9)"
   ]
  },
  {
   "cell_type": "markdown",
   "metadata": {},
   "source": [
    "### min_child_weight"
   ]
  },
  {
   "cell_type": "code",
   "execution_count": 51,
   "metadata": {},
   "outputs": [
    {
     "name": "stdout",
     "output_type": "stream",
     "text": [
      "Intentos: |██████████████████████████████████████████████████| 100.0% Complete\n"
     ]
    },
    {
     "data": {
      "image/png": "[encoded data removed]",
      "text/plain": [
       "<Figure size 576x216 with 1 Axes>"
      ]
     },
     "metadata": {
      "needs_background": "light"
     },
     "output_type": "display_data"
    },
    {
     "name": "stdout",
     "output_type": "stream",
     "text": [
      "\n",
      "El máximo es para n=0  k={'base_score': 0.5, 'booster': 'gbtree', 'colsample_bylevel': 1, 'colsample_bynode': 1, 'colsample_bytree': 1, 'gamma': 0, 'learning_rate': 0.9, 'max_delta_step': 0, 'max_depth': 10, 'min_child_weight': 0, 'missing': None, 'n_estimators': 65, 'n_jobs': 100, 'nthread': None, 'objective': 'binary:logitraw', 'random_state': 0, 'reg_alpha': 0, 'reg_lambda': 1, 'scale_pos_weight': 1, 'seed': None, 'silent': None, 'subsample': 1, 'verbosity': 1} con un score=  207.81\n"
     ]
    }
   ],
   "source": [
    "parameter_grid=[i for i in range(0,120,5)]\n",
    "values_search=parameter_grid\n",
    "parameters = [{\"base_score\":0.5, \"booster\":'gbtree', \"colsample_bylevel\":1,\n",
    " \"colsample_bynode\":1, \"colsample_bytree\":1, \"gamma\":0, \"learning_rate\":0.9,\"max_delta_step\":0, \n",
    " \"max_depth\":10, \"min_child_weight\":Serch_parameter, \"missing\":None,\"n_estimators\":65, \"n_jobs\":100, \n",
    "\"nthread\":None,\"objective\":'binary:logitraw', \"random_state\":0, \"reg_alpha\":0,\n",
    "\"reg_lambda\":1, \"scale_pos_weight\":1, \"seed\":None, \"silent\":None,\n",
    "\"subsample\":1, \"verbosity\":1} for Serch_parameter in parameter_grid]\n",
    "\n",
    "xgboost_autoparameter_tunning(data_hour_merge_training,\"class\",parameter_grid,5,parameters)"
   ]
  },
  {
   "cell_type": "code",
   "execution_count": 52,
   "metadata": {},
   "outputs": [
    {
     "name": "stdout",
     "output_type": "stream",
     "text": [
      "      tn  fp  fn  tp\n",
      "0   7682   2  17  31\n",
      "1   7686   0  15  31\n",
      "2   7682   0  18  32\n",
      "3   7680   0  14  38\n",
      "4   7682   0  18  32\n",
      "5   7688   0  15  29\n",
      "6   7684   0   8  40\n",
      "7   7698   1   8  25\n",
      "8   7679   4  17  32\n",
      "9   7688   3   6  35\n",
      "10  7696   1  11  24\n",
      "11  7676   2  22  32\n",
      "12  7686   0  15  31\n",
      "13  7681   3  10  38\n",
      "14  7683   0  15  34\n",
      "15  7691   2  11  28\n",
      "16  7677   0  23  32\n",
      "17  7676   2  17  37\n",
      "18  7685   1  12  34\n",
      "19  7690   0  11  31\n",
      "20  7688   3   6  35\n",
      "21  7694   1  12  25\n",
      "22  7680   2   8  42\n",
      "23  7693   0  11  28\n",
      "24  7684   0   8  40\n",
      "25  7681   1   9  41\n",
      "26  7684   1  15  32\n",
      "27  7682   2  17  31\n",
      "28  7681   0  10  41\n",
      "29  7683   1  19  29\n"
     ]
    },
    {
     "data": {
      "image/png": "[encoded data removed]",
      "text/plain": [
       "<Figure size 432x288 with 2 Axes>"
      ]
     },
     "metadata": {
      "needs_background": "light"
     },
     "output_type": "display_data"
    }
   ],
   "source": [
    "verification_model_score(data_hour_merge_training,\"class\",30,parameters,0)"
   ]
  },
  {
   "cell_type": "markdown",
   "metadata": {},
   "source": [
    "### n_estimators"
   ]
  },
  {
   "cell_type": "code",
   "execution_count": 60,
   "metadata": {},
   "outputs": [
    {
     "name": "stdout",
     "output_type": "stream",
     "text": [
      "Intentos: |██████████████████████████████████████████████████| 100.0% Complete\n"
     ]
    },
    {
     "data": {
      "image/png": "[encoded data removed]",
      "text/plain": [
       "<Figure size 576x216 with 1 Axes>"
      ]
     },
     "metadata": {
      "needs_background": "light"
     },
     "output_type": "display_data"
    },
    {
     "name": "stdout",
     "output_type": "stream",
     "text": [
      "\n",
      "El máximo es para n=17  k={'base_score': 0.5, 'booster': 'gbtree', 'colsample_bylevel': 1, 'colsample_bynode': 1, 'colsample_bytree': 1, 'gamma': 0, 'learning_rate': 0.03, 'max_delta_step': 0, 'max_depth': 10, 'min_child_weight': 0, 'missing': None, 'n_estimators': 425, 'n_jobs': 100, 'nthread': None, 'objective': 'binary:logitraw', 'random_state': 0, 'reg_alpha': 0, 'reg_lambda': 1, 'scale_pos_weight': 1, 'seed': None, 'silent': None, 'subsample': 1, 'verbosity': 1} con un score=  153.73\n"
     ]
    }
   ],
   "source": [
    "parameter_grid=[i for i in range(0,500,25)]\n",
    "values_search=parameter_grid\n",
    "parameters = [{\"base_score\":0.5, \"booster\":'gbtree', \"colsample_bylevel\":1,\n",
    " \"colsample_bynode\":1, \"colsample_bytree\":1, \"gamma\":0, \"learning_rate\":0.03,\"max_delta_step\":0, \n",
    " \"max_depth\":10, \"min_child_weight\":0, \"missing\":None,\"n_estimators\":Serch_parameter, \"n_jobs\":100, \n",
    "\"nthread\":None,\"objective\":'binary:logitraw', \"random_state\":0, \"reg_alpha\":0,\n",
    "\"reg_lambda\":1, \"scale_pos_weight\":1, \"seed\":None, \"silent\":None,\n",
    "\"subsample\":1, \"verbosity\":1} for Serch_parameter in parameter_grid]\n",
    "xgboost_autoparameter_tunning(data_hour_merge_training,\"class\",parameter_grid,3,parameters)"
   ]
  },
  {
   "cell_type": "code",
   "execution_count": 41,
   "metadata": {},
   "outputs": [
    {
     "ename": "IndexError",
     "evalue": "list index out of range",
     "output_type": "error",
     "traceback": [
      "\u001b[0;31m---------------------------------------------------------------------------\u001b[0m",
      "\u001b[0;31mIndexError\u001b[0m                                Traceback (most recent call last)",
      "\u001b[0;32m<ipython-input-41-9019abd78871>\u001b[0m in \u001b[0;36m<module>\u001b[0;34m\u001b[0m\n\u001b[0;32m----> 1\u001b[0;31m \u001b[0mverification_model_score\u001b[0m\u001b[0;34m(\u001b[0m\u001b[0mdata_hour_merge_training\u001b[0m\u001b[0;34m,\u001b[0m\u001b[0;34m\"class\"\u001b[0m\u001b[0;34m,\u001b[0m\u001b[0;36m25\u001b[0m\u001b[0;34m,\u001b[0m\u001b[0mparameters\u001b[0m\u001b[0;34m,\u001b[0m\u001b[0;36m13\u001b[0m\u001b[0;34m)\u001b[0m\u001b[0;34m\u001b[0m\u001b[0;34m\u001b[0m\u001b[0m\n\u001b[0m",
      "\u001b[0;32m<ipython-input-31-b58ae6fdebf6>\u001b[0m in \u001b[0;36mverification_model_score\u001b[0;34m(df, target, n_iteraciones, iteraciones, n_iteracion)\u001b[0m\n\u001b[1;32m     24\u001b[0m     \u001b[0;32mfor\u001b[0m \u001b[0miteracion\u001b[0m \u001b[0;32min\u001b[0m \u001b[0miteraciones\u001b[0m\u001b[0;34m:\u001b[0m\u001b[0;34m\u001b[0m\u001b[0;34m\u001b[0m\u001b[0m\n\u001b[1;32m     25\u001b[0m         \u001b[0mX_train\u001b[0m\u001b[0;34m,\u001b[0m \u001b[0mX_test\u001b[0m\u001b[0;34m,\u001b[0m \u001b[0my_train\u001b[0m\u001b[0;34m,\u001b[0m \u001b[0my_test\u001b[0m \u001b[0;34m=\u001b[0m \u001b[0mtrain_test_split\u001b[0m\u001b[0;34m(\u001b[0m\u001b[0mX\u001b[0m\u001b[0;34m,\u001b[0m \u001b[0my\u001b[0m\u001b[0;34m,\u001b[0m \u001b[0mtest_size\u001b[0m\u001b[0;34m=\u001b[0m\u001b[0;36m0.3\u001b[0m\u001b[0;34m,\u001b[0m \u001b[0mrandom_state\u001b[0m\u001b[0;34m=\u001b[0m\u001b[0mrd\u001b[0m\u001b[0;34m.\u001b[0m\u001b[0mrandint\u001b[0m\u001b[0;34m(\u001b[0m\u001b[0;36m1\u001b[0m\u001b[0;34m,\u001b[0m\u001b[0;36m100\u001b[0m\u001b[0;34m)\u001b[0m\u001b[0;34m)\u001b[0m\u001b[0;34m\u001b[0m\u001b[0;34m\u001b[0m\u001b[0m\n\u001b[0;32m---> 26\u001b[0;31m         \u001b[0mmodel\u001b[0m \u001b[0;34m=\u001b[0m \u001b[0mXGBClassifier\u001b[0m\u001b[0;34m(\u001b[0m\u001b[0mparams\u001b[0m\u001b[0;34m=\u001b[0m\u001b[0mparameters\u001b[0m\u001b[0;34m[\u001b[0m\u001b[0mn_iteracion\u001b[0m\u001b[0;34m]\u001b[0m\u001b[0;34m)\u001b[0m\u001b[0;31m#definimos los parametros\u001b[0m\u001b[0;34m\u001b[0m\u001b[0;34m\u001b[0m\u001b[0m\n\u001b[0m\u001b[1;32m     27\u001b[0m         \u001b[0mmodel_train\u001b[0m \u001b[0;34m=\u001b[0m \u001b[0mmodel\u001b[0m\u001b[0;34m.\u001b[0m\u001b[0mfit\u001b[0m\u001b[0;34m(\u001b[0m\u001b[0mX_train\u001b[0m\u001b[0;34m,\u001b[0m \u001b[0my_train\u001b[0m\u001b[0;34m)\u001b[0m\u001b[0;31m#fit\u001b[0m\u001b[0;34m\u001b[0m\u001b[0;34m\u001b[0m\u001b[0m\n\u001b[1;32m     28\u001b[0m         \u001b[0mpred_test\u001b[0m \u001b[0;34m=\u001b[0m \u001b[0mmodel_train\u001b[0m\u001b[0;34m.\u001b[0m\u001b[0mpredict\u001b[0m\u001b[0;34m(\u001b[0m\u001b[0mX_test\u001b[0m\u001b[0;34m)\u001b[0m\u001b[0;34m\u001b[0m\u001b[0;34m\u001b[0m\u001b[0m\n",
      "\u001b[0;31mIndexError\u001b[0m: list index out of range"
     ]
    }
   ],
   "source": [
    "verification_model_score(data_hour_merge_verification,\"class\",10,parameters,13)"
   ]
  },
  {
   "cell_type": "markdown",
   "metadata": {},
   "source": [
    "#### Gamma"
   ]
  },
  {
   "cell_type": "code",
   "execution_count": 62,
   "metadata": {
    "scrolled": false
   },
   "outputs": [
    {
     "name": "stdout",
     "output_type": "stream",
     "text": [
      "Intentos: |██████████████████████████████████████████████████| 100.0% Complete\n"
     ]
    },
    {
     "data": {
      "image/png": "[encoded data removed]",
      "text/plain": [
       "<Figure size 576x216 with 1 Axes>"
      ]
     },
     "metadata": {
      "needs_background": "light"
     },
     "output_type": "display_data"
    },
    {
     "name": "stdout",
     "output_type": "stream",
     "text": [
      "\n",
      "El máximo es para n=0  k={'base_score': 0.5, 'booster': 'gbtree', 'colsample_bylevel': 1, 'colsample_bynode': 1, 'colsample_bytree': 1, 'gamma': 0, 'learning_rate': 0.03, 'max_delta_step': 0, 'max_depth': 10, 'min_child_weight': 0, 'missing': None, 'n_estimators': 100, 'n_jobs': 100, 'nthread': None, 'objective': 'binary:logitraw', 'random_state': 0, 'reg_alpha': 0, 'reg_lambda': 1, 'scale_pos_weight': 1, 'seed': None, 'silent': None, 'subsample': 1, 'verbosity': 1} con un score=  83.09\n"
     ]
    }
   ],
   "source": [
    "parameter_grid=[i for i in range(0,100,5)]\n",
    "values_search=parameter_grid\n",
    "parameters = [{\"base_score\":0.5, \"booster\":'gbtree', \"colsample_bylevel\":1,\n",
    " \"colsample_bynode\":1, \"colsample_bytree\":1, \"gamma\":Serch_parameter, \"learning_rate\":0.03,\"max_delta_step\":0, \n",
    " \"max_depth\":10, \"min_child_weight\":0, \"missing\":None,\"n_estimators\":100, \"n_jobs\":100, \n",
    "\"nthread\":None,\"objective\":'binary:logitraw', \"random_state\":0, \"reg_alpha\":0,\n",
    "\"reg_lambda\":1, \"scale_pos_weight\":1, \"seed\":None, \"silent\":None,\n",
    "\"subsample\":1, \"verbosity\":1} for Serch_parameter in parameter_grid]\n",
    "xgboost_autoparameter_tunning(data_hour_merge_training,\"class\",parameter_grid,4,parameters)"
   ]
  },
  {
   "cell_type": "code",
   "execution_count": 63,
   "metadata": {},
   "outputs": [
    {
     "name": "stdout",
     "output_type": "stream",
     "text": [
      "      tn  fp  fn  tp\n",
      "0   7688   0  15  29\n",
      "1   7691   0  11  30\n",
      "2   7685   0   7  40\n",
      "3   7682   1  14  35\n",
      "4   7677   2  20  33\n",
      "5   7690   1   8  33\n",
      "6   7673   2  15  42\n",
      "7   7680   1  17  34\n",
      "8   7696   0  14  22\n",
      "9   7687   2  13  30\n",
      "10  7682   0  18  32\n",
      "11  7680   0  14  38\n",
      "12  7682   2   8  40\n",
      "13  7679   2  14  37\n"
     ]
    },
    {
     "data": {
      "image/png": "[encoded data removed]",
      "text/plain": [
       "<Figure size 432x288 with 2 Axes>"
      ]
     },
     "metadata": {
      "needs_background": "light"
     },
     "output_type": "display_data"
    }
   ],
   "source": [
    "verification_model_score(data_hour_merge_training,\"class\",14,parameters,0)"
   ]
  },
  {
   "cell_type": "markdown",
   "metadata": {},
   "source": [
    "## max_depth"
   ]
  },
  {
   "cell_type": "code",
   "execution_count": 64,
   "metadata": {},
   "outputs": [
    {
     "name": "stdout",
     "output_type": "stream",
     "text": [
      "Intentos: |██████████████████████████████████████████████████| 100.0% Complete\n"
     ]
    },
    {
     "data": {
      "image/png": "[encoded data removed]",
      "text/plain": [
       "<Figure size 576x216 with 1 Axes>"
      ]
     },
     "metadata": {
      "needs_background": "light"
     },
     "output_type": "display_data"
    },
    {
     "name": "stdout",
     "output_type": "stream",
     "text": [
      "\n",
      "El máximo es para n=0  k={'base_score': 0.5, 'booster': 'gbtree', 'colsample_bylevel': 1, 'colsample_bynode': 1, 'colsample_bytree': 1, 'gamma': 0, 'learning_rate': 0.03, 'max_delta_step': 0, 'max_depth': 0, 'min_child_weight': 56, 'missing': None, 'n_estimators': 65, 'n_jobs': 100, 'nthread': None, 'objective': 'binary:logitraw', 'random_state': 0, 'reg_alpha': 0, 'reg_lambda': 1, 'scale_pos_weight': 1, 'seed': None, 'silent': None, 'subsample': 1, 'verbosity': 1} con un score=  0.0\n"
     ]
    }
   ],
   "source": [
    "parameter_grid=[i for i in range(0,100,5)]\n",
    "values_search=parameter_grid\n",
    "parameters = [{\"base_score\":0.5, \"booster\":'gbtree', \"colsample_bylevel\":1,\n",
    " \"colsample_bynode\":1, \"colsample_bytree\":1, \"gamma\":0, \"learning_rate\":0.03,\"max_delta_step\":0, \n",
    " \"max_depth\":Serch_parameter, \"min_child_weight\":56, \"missing\":None,\"n_estimators\":65, \"n_jobs\":100, \n",
    "\"nthread\":None,\"objective\":'binary:logitraw', \"random_state\":0, \"reg_alpha\":0,\n",
    "\"reg_lambda\":1, \"scale_pos_weight\":1, \"seed\":None, \"silent\":None,\n",
    "\"subsample\":1, \"verbosity\":1} for Serch_parameter in parameter_grid]\n",
    "\n",
    "xgboost_autoparameter_tunning(data_hour_merge_training,\"class\",parameter_grid,5,parameters)"
   ]
  },
  {
   "cell_type": "code",
   "execution_count": 66,
   "metadata": {},
   "outputs": [
    {
     "name": "stdout",
     "output_type": "stream",
     "text": [
      "     tn  fp  fn  tp\n",
      "0  7682   1  14  35\n",
      "1  7682   1  18  31\n",
      "2  7686   0   7  39\n",
      "3  7696   0  14  22\n",
      "4  7690   0  16  26\n"
     ]
    },
    {
     "data": {
      "image/png": "[encoded data removed]",
      "text/plain": [
       "<Figure size 432x288 with 2 Axes>"
      ]
     },
     "metadata": {
      "needs_background": "light"
     },
     "output_type": "display_data"
    }
   ],
   "source": [
    "verification_model_score(data_hour_merge_training,\"class\",5,parameters,0)"
   ]
  },
  {
   "cell_type": "markdown",
   "metadata": {},
   "source": [
    "## reg_alpha"
   ]
  },
  {
   "cell_type": "code",
   "execution_count": 80,
   "metadata": {},
   "outputs": [
    {
     "name": "stdout",
     "output_type": "stream",
     "text": [
      "Intentos: |██████████████████████████████████████████████████| 100.0% \n"
     ]
    },
    {
     "data": {
      "image/png": "[encoded data removed]",
      "text/plain": [
       "<Figure size 576x216 with 1 Axes>"
      ]
     },
     "metadata": {
      "needs_background": "light"
     },
     "output_type": "display_data"
    },
    {
     "name": "stdout",
     "output_type": "stream",
     "text": [
      "\n",
      "El máximo es para n=1  k={'base_score': 0.5, 'booster': 'gbtree', 'colsample_bylevel': 1, 'colsample_bynode': 1, 'colsample_bytree': 1, 'gamma': 0, 'learning_rate': 0.03, 'max_delta_step': 0, 'max_depth': 10, 'min_child_weight': 0, 'missing': None, 'n_estimators': 100, 'n_jobs': 100, 'nthread': None, 'objective': 'binary:logitraw', 'random_state': 0, 'reg_alpha': 0, 'reg_lambda': 5, 'scale_pos_weight': 1, 'seed': None, 'silent': None, 'subsample': 1, 'verbosity': 1} con un score=  133.33\n"
     ]
    }
   ],
   "source": [
    "parameter_grid=[i for i in range(0,100,5)]\n",
    "values_search=parameter_grid\n",
    "parameters = [{\"base_score\":0.5, \"booster\":'gbtree', \"colsample_bylevel\":1,\n",
    " \"colsample_bynode\":1, \"colsample_bytree\":1, \"gamma\":0, \"learning_rate\":0.03,\"max_delta_step\":0, \n",
    " \"max_depth\":10, \"min_child_weight\":0, \"missing\":None,\"n_estimators\":100, \"n_jobs\":100, \n",
    "\"nthread\":None,\"objective\":'binary:logitraw', \"random_state\":0, \"reg_alpha\":0,\n",
    "\"reg_lambda\":Serch_parameter, \"scale_pos_weight\":1, \"seed\":None, \"silent\":None,\n",
    "\"subsample\":1, \"verbosity\":1} for Serch_parameter in parameter_grid]\n",
    "xgboost_autoparameter_tunning(data_hour_merge_training,\"class\",parameter_grid,2,parameters)"
   ]
  },
  {
   "cell_type": "code",
   "execution_count": 82,
   "metadata": {},
   "outputs": [
    {
     "name": "stdout",
     "output_type": "stream",
     "text": [
      "     tn  fp  fn  tp\n",
      "0  7685   2  13  32\n",
      "1  7690   0  16  26\n",
      "2  7686   0  15  31\n",
      "3  7682   2  15  33\n",
      "4  7684   0  17  31\n"
     ]
    },
    {
     "data": {
      "image/png": "[encoded data removed]",
      "text/plain": [
       "<Figure size 432x288 with 2 Axes>"
      ]
     },
     "metadata": {
      "needs_background": "light"
     },
     "output_type": "display_data"
    }
   ],
   "source": [
    "verification_model_score(data_hour_merge_training,\"class\",5,parameters,1)"
   ]
  },
  {
   "cell_type": "markdown",
   "metadata": {},
   "source": [
    "### scale_pos_weight"
   ]
  },
  {
   "cell_type": "code",
   "execution_count": 77,
   "metadata": {
    "scrolled": false
   },
   "outputs": [
    {
     "name": "stdout",
     "output_type": "stream",
     "text": [
      "Intentos: |██████████████████████████████████████████████████| 100.0% \n"
     ]
    },
    {
     "data": {
      "image/png": "[encoded data removed]",
      "text/plain": [
       "<Figure size 576x216 with 1 Axes>"
      ]
     },
     "metadata": {
      "needs_background": "light"
     },
     "output_type": "display_data"
    },
    {
     "name": "stdout",
     "output_type": "stream",
     "text": [
      "\n",
      "El máximo es para n=1  k={'base_score': 0.5, 'booster': 'gbtree', 'colsample_bylevel': 1, 'colsample_bynode': 1, 'colsample_bytree': 1, 'gamma': 0, 'learning_rate': 0.03, 'max_delta_step': 0, 'max_depth': 10, 'min_child_weight': 0, 'missing': None, 'n_estimators': 100, 'n_jobs': 100, 'nthread': None, 'objective': 'binary:logitraw', 'random_state': 0, 'reg_alpha': 0, 'reg_lambda': 1, 'scale_pos_weight': 1, 'seed': None, 'silent': None, 'subsample': 1, 'verbosity': 1} con un score=  151.79\n"
     ]
    }
   ],
   "source": [
    "parameter_grid=[i for i in range(0,20,1)]\n",
    "values_search=parameter_grid\n",
    "parameters = [{\"base_score\":0.5, \"booster\":'gbtree', \"colsample_bylevel\":1,\n",
    " \"colsample_bynode\":1, \"colsample_bytree\":1, \"gamma\":0, \"learning_rate\":0.03,\"max_delta_step\":0, \n",
    " \"max_depth\":10, \"min_child_weight\":0, \"missing\":None,\"n_estimators\":100, \"n_jobs\":100, \n",
    "\"nthread\":None,\"objective\":'binary:logitraw', \"random_state\":0, \"reg_alpha\":0,\n",
    "\"reg_lambda\":Serch_parameter, \"scale_pos_weight\":1, \"seed\":None, \"silent\":None,\n",
    "\"subsample\":1, \"verbosity\":1} for Serch_parameter in parameter_grid]\n",
    "xgboost_autoparameter_tunning(data_hour_merge_training,\"class\",parameter_grid,4,parameters)"
   ]
  },
  {
   "cell_type": "code",
   "execution_count": 79,
   "metadata": {
    "scrolled": true
   },
   "outputs": [
    {
     "name": "stdout",
     "output_type": "stream",
     "text": [
      "     tn  fp  fn  tp\n",
      "0  7689   0   5  38\n",
      "1  7685   0   7  40\n",
      "2  7693   3  10  26\n",
      "3  7693   0  11  28\n",
      "4  7691   0   9  32\n"
     ]
    },
    {
     "data": {
      "image/png": "[encoded data removed]",
      "text/plain": [
       "<Figure size 432x288 with 2 Axes>"
      ]
     },
     "metadata": {
      "needs_background": "light"
     },
     "output_type": "display_data"
    }
   ],
   "source": [
    "verification_model_score(data_hour_merge_training,\"class\",5,parameters,1)"
   ]
  },
  {
   "cell_type": "code",
   "execution_count": null,
   "metadata": {},
   "outputs": [],
   "source": []
  }
 ],
 "metadata": {
  "kernelspec": {
   "display_name": "Python 3",
   "language": "python",
   "name": "python3"
  },
  "language_info": {
   "codemirror_mode": {
    "name": "ipython",
    "version": 3
   },
   "file_extension": ".py",
   "mimetype": "text/x-python",
   "name": "python",
   "nbconvert_exporter": "python",
   "pygments_lexer": "ipython3",
   "version": "3.7.3"
  }
 },
 "nbformat": 4,
 "nbformat_minor": 2
}
