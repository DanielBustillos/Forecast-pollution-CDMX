{
 "cells": [
  {
   "cell_type": "markdown",
   "metadata": {},
   "source": [
    "## Obtener columnas que presentan persistencia temporal y agrupación de Promedio, máximo y mínimo por hora.\n",
    "\n",
    "En este notebook vamos a juntar los archivos de contaminnación y meoteorología de cada año en un solo archivo, y también vamos a generar columnas de informaciónn temporal para cada mediciónn y por úlitmo se va a obtener el promedio móvil de el PM10 y PM2.5. \n",
    "\n",
    "- __Datos recibidos:__ Limpieza de datos inicial\n",
    "- __Responsable:__ Daniel Bustillos\n",
    "- __Contacto:__  juandaniel.bucam@gmail.com\n",
    "\n"
   ]
  },
  {
   "cell_type": "code",
   "execution_count": 2,
   "metadata": {},
   "outputs": [],
   "source": [
    "Contaminantes = [\"O3\",\"PM10mean\",\"PM25mean\"]"
   ]
  },
  {
   "cell_type": "code",
   "execution_count": 3,
   "metadata": {},
   "outputs": [
    {
     "data": {
      "text/plain": [
       "'O3'"
      ]
     },
     "execution_count": 3,
     "metadata": {},
     "output_type": "execute_result"
    }
   ],
   "source": [
    "contaminante = Contaminantes[0]\n",
    "contaminante"
   ]
  },
  {
   "cell_type": "markdown",
   "metadata": {},
   "source": [
    "__Pasos y descripción general del notebook__\n",
    "\n",
    "\n",
    "1. Usando el archivo de correlación con retraso temporal, se crean nuevas columnas con el atributo y las horas atrás.\n",
    "\n",
    "\n",
    "2. Se obtiene el promedio, máximo y mínimo por hora de todas las estaciones.\n",
    "\n",
    "\n",
    "3. Generar las columna del pronóstico a 24 horas y obtener la correlación de los valores promedio máximo y mínimo con éste. Filtrar los valores más importantes.\n",
    "\n",
    "\n",
    "4. Generar las columnas de pronóstico de RH, WSP TMP.\n",
    "\n",
    "\n",
    "\n",
    "5. Generar las columnas a pronosticar de 1 hasta 23 horas.\n"
   ]
  },
  {
   "cell_type": "code",
   "execution_count": 4,
   "metadata": {},
   "outputs": [],
   "source": [
    "import pandas as pd\n",
    "pd.options.mode.chained_assignment = None "
   ]
  },
  {
   "cell_type": "code",
   "execution_count": 5,
   "metadata": {},
   "outputs": [],
   "source": [
    "data_hour_merge_24 = pd.read_csv('./datos_entrenamiento.csv')"
   ]
  },
  {
   "cell_type": "code",
   "execution_count": 6,
   "metadata": {},
   "outputs": [],
   "source": [
    "contaminante = \"O3\"\n",
    "data_hour_merge_24 = data_hour_merge_24.dropna(subset=[contaminante]).reset_index(drop=True)#PM25"
   ]
  },
  {
   "cell_type": "code",
   "execution_count": 7,
   "metadata": {},
   "outputs": [
    {
     "data": {
      "text/html": [
       "<div>\n",
       "<style scoped>\n",
       "    .dataframe tbody tr th:only-of-type {\n",
       "        vertical-align: middle;\n",
       "    }\n",
       "\n",
       "    .dataframe tbody tr th {\n",
       "        vertical-align: top;\n",
       "    }\n",
       "\n",
       "    .dataframe thead th {\n",
       "        text-align: right;\n",
       "    }\n",
       "</style>\n",
       "<table border=\"1\" class=\"dataframe\">\n",
       "  <thead>\n",
       "    <tr style=\"text-align: right;\">\n",
       "      <th></th>\n",
       "      <th>CO</th>\n",
       "      <th>NO</th>\n",
       "      <th>NO2</th>\n",
       "      <th>NOX</th>\n",
       "      <th>O3</th>\n",
       "      <th>PM10</th>\n",
       "      <th>PM2.5</th>\n",
       "      <th>RH</th>\n",
       "      <th>SO2</th>\n",
       "      <th>TMP</th>\n",
       "      <th>WSP</th>\n",
       "      <th>dia</th>\n",
       "      <th>fecha</th>\n",
       "      <th>hora</th>\n",
       "      <th>id_station</th>\n",
       "      <th>mes</th>\n",
       "      <th>PM10mean</th>\n",
       "      <th>PM25mean</th>\n",
       "    </tr>\n",
       "  </thead>\n",
       "  <tbody>\n",
       "    <tr>\n",
       "      <th>0</th>\n",
       "      <td>0.6</td>\n",
       "      <td>23.0</td>\n",
       "      <td>22.0</td>\n",
       "      <td>45.0</td>\n",
       "      <td>3.0</td>\n",
       "      <td>60.0</td>\n",
       "      <td>NaN</td>\n",
       "      <td>73.0</td>\n",
       "      <td>2.0</td>\n",
       "      <td>9.1</td>\n",
       "      <td>1.4</td>\n",
       "      <td>1.0</td>\n",
       "      <td>2015-01-01 00:00:00</td>\n",
       "      <td>0</td>\n",
       "      <td>ACO</td>\n",
       "      <td>1.0</td>\n",
       "      <td>NaN</td>\n",
       "      <td>NaN</td>\n",
       "    </tr>\n",
       "    <tr>\n",
       "      <th>1</th>\n",
       "      <td>0.1</td>\n",
       "      <td>0.0</td>\n",
       "      <td>5.0</td>\n",
       "      <td>5.0</td>\n",
       "      <td>32.0</td>\n",
       "      <td>NaN</td>\n",
       "      <td>NaN</td>\n",
       "      <td>NaN</td>\n",
       "      <td>1.0</td>\n",
       "      <td>NaN</td>\n",
       "      <td>7.3</td>\n",
       "      <td>1.0</td>\n",
       "      <td>2015-01-01 00:00:00</td>\n",
       "      <td>0</td>\n",
       "      <td>AJM</td>\n",
       "      <td>1.0</td>\n",
       "      <td>NaN</td>\n",
       "      <td>NaN</td>\n",
       "    </tr>\n",
       "    <tr>\n",
       "      <th>2</th>\n",
       "      <td>NaN</td>\n",
       "      <td>NaN</td>\n",
       "      <td>NaN</td>\n",
       "      <td>NaN</td>\n",
       "      <td>15.0</td>\n",
       "      <td>NaN</td>\n",
       "      <td>NaN</td>\n",
       "      <td>NaN</td>\n",
       "      <td>NaN</td>\n",
       "      <td>NaN</td>\n",
       "      <td>NaN</td>\n",
       "      <td>1.0</td>\n",
       "      <td>2015-01-01 00:00:00</td>\n",
       "      <td>0</td>\n",
       "      <td>AJU</td>\n",
       "      <td>1.0</td>\n",
       "      <td>NaN</td>\n",
       "      <td>NaN</td>\n",
       "    </tr>\n",
       "    <tr>\n",
       "      <th>3</th>\n",
       "      <td>1.0</td>\n",
       "      <td>32.0</td>\n",
       "      <td>28.0</td>\n",
       "      <td>60.0</td>\n",
       "      <td>3.0</td>\n",
       "      <td>28.0</td>\n",
       "      <td>NaN</td>\n",
       "      <td>NaN</td>\n",
       "      <td>2.0</td>\n",
       "      <td>NaN</td>\n",
       "      <td>NaN</td>\n",
       "      <td>1.0</td>\n",
       "      <td>2015-01-01 00:00:00</td>\n",
       "      <td>0</td>\n",
       "      <td>ATI</td>\n",
       "      <td>1.0</td>\n",
       "      <td>NaN</td>\n",
       "      <td>NaN</td>\n",
       "    </tr>\n",
       "    <tr>\n",
       "      <th>4</th>\n",
       "      <td>1.7</td>\n",
       "      <td>NaN</td>\n",
       "      <td>NaN</td>\n",
       "      <td>NaN</td>\n",
       "      <td>1.0</td>\n",
       "      <td>46.0</td>\n",
       "      <td>32.0</td>\n",
       "      <td>NaN</td>\n",
       "      <td>4.0</td>\n",
       "      <td>NaN</td>\n",
       "      <td>NaN</td>\n",
       "      <td>1.0</td>\n",
       "      <td>2015-01-01 00:00:00</td>\n",
       "      <td>0</td>\n",
       "      <td>CAM</td>\n",
       "      <td>1.0</td>\n",
       "      <td>NaN</td>\n",
       "      <td>NaN</td>\n",
       "    </tr>\n",
       "  </tbody>\n",
       "</table>\n",
       "</div>"
      ],
      "text/plain": [
       "    CO    NO   NO2   NOX    O3  PM10  PM2.5    RH  SO2  TMP  WSP  dia  \\\n",
       "0  0.6  23.0  22.0  45.0   3.0  60.0    NaN  73.0  2.0  9.1  1.4  1.0   \n",
       "1  0.1   0.0   5.0   5.0  32.0   NaN    NaN   NaN  1.0  NaN  7.3  1.0   \n",
       "2  NaN   NaN   NaN   NaN  15.0   NaN    NaN   NaN  NaN  NaN  NaN  1.0   \n",
       "3  1.0  32.0  28.0  60.0   3.0  28.0    NaN   NaN  2.0  NaN  NaN  1.0   \n",
       "4  1.7   NaN   NaN   NaN   1.0  46.0   32.0   NaN  4.0  NaN  NaN  1.0   \n",
       "\n",
       "                 fecha  hora id_station  mes  PM10mean  PM25mean  \n",
       "0  2015-01-01 00:00:00     0        ACO  1.0       NaN       NaN  \n",
       "1  2015-01-01 00:00:00     0        AJM  1.0       NaN       NaN  \n",
       "2  2015-01-01 00:00:00     0        AJU  1.0       NaN       NaN  \n",
       "3  2015-01-01 00:00:00     0        ATI  1.0       NaN       NaN  \n",
       "4  2015-01-01 00:00:00     0        CAM  1.0       NaN       NaN  "
      ]
     },
     "execution_count": 7,
     "metadata": {},
     "output_type": "execute_result"
    }
   ],
   "source": [
    "data_hour_merge_24.head(5)"
   ]
  },
  {
   "cell_type": "markdown",
   "metadata": {},
   "source": [
    "## 1. \n",
    "### Usando el archivo de correlación con retraso temporal, se crean nuevas columnas con el atributo y las horas atrás.\n"
   ]
  },
  {
   "cell_type": "markdown",
   "metadata": {},
   "source": [
    "La corraloción con retraso temporal se refiere a la influencia que tienen las condiciones atmosféricas de un hora dada sobre las condiciones futuras, por ejemplo, si el nivel de contaminación de actual es alto ¿este valor influirá en la contaminación del día siguiente o la contaminación de cada día no se ve influida por valores pasados? La respuesta es la primera opción, valores pasados de las condiciones atmosféricas influyen fuertemente en la contaminación _actual_.\n",
    "\n",
    "Esta propiedad es clave para la generación de un modelo estadístico, la existencia de patrones y de factores que aparentemente influyen en la contaminación nos permiten tener un conjunto de datos que determinen la contaminación.\n",
    "\n",
    "\n",
    "La generación de la correlación se encuentra en: __/home/paw/DanielBustillos/contaminación/correlaciones_pau/correlaciones_función_paulina.ipynb__"
   ]
  },
  {
   "cell_type": "code",
   "execution_count": 8,
   "metadata": {},
   "outputs": [
    {
     "data": {
      "text/plain": [
       "'O3_y'"
      ]
     },
     "execution_count": 8,
     "metadata": {},
     "output_type": "execute_result"
    }
   ],
   "source": [
    "target = str(contaminante + \"_y\")\n",
    "target"
   ]
  },
  {
   "cell_type": "code",
   "execution_count": 10,
   "metadata": {},
   "outputs": [
    {
     "data": {
      "text/html": [
       "<div>\n",
       "<style scoped>\n",
       "    .dataframe tbody tr th:only-of-type {\n",
       "        vertical-align: middle;\n",
       "    }\n",
       "\n",
       "    .dataframe tbody tr th {\n",
       "        vertical-align: top;\n",
       "    }\n",
       "\n",
       "    .dataframe thead th {\n",
       "        text-align: right;\n",
       "    }\n",
       "</style>\n",
       "<table border=\"1\" class=\"dataframe\">\n",
       "  <thead>\n",
       "    <tr style=\"text-align: right;\">\n",
       "      <th></th>\n",
       "      <th>contaminante</th>\n",
       "      <th>valor</th>\n",
       "      <th>horas</th>\n",
       "    </tr>\n",
       "  </thead>\n",
       "  <tbody>\n",
       "    <tr>\n",
       "      <th>1067</th>\n",
       "      <td>PM25mean</td>\n",
       "      <td>0.165820</td>\n",
       "      <td>44.0</td>\n",
       "    </tr>\n",
       "    <tr>\n",
       "      <th>1068</th>\n",
       "      <td>PM25mean</td>\n",
       "      <td>0.167111</td>\n",
       "      <td>45.0</td>\n",
       "    </tr>\n",
       "    <tr>\n",
       "      <th>1069</th>\n",
       "      <td>PM25mean</td>\n",
       "      <td>0.168421</td>\n",
       "      <td>46.0</td>\n",
       "    </tr>\n",
       "    <tr>\n",
       "      <th>1070</th>\n",
       "      <td>PM25mean</td>\n",
       "      <td>0.169548</td>\n",
       "      <td>47.0</td>\n",
       "    </tr>\n",
       "    <tr>\n",
       "      <th>1071</th>\n",
       "      <td>PM25mean</td>\n",
       "      <td>0.170081</td>\n",
       "      <td>48.0</td>\n",
       "    </tr>\n",
       "  </tbody>\n",
       "</table>\n",
       "</div>"
      ],
      "text/plain": [
       "     contaminante     valor  horas\n",
       "1067     PM25mean  0.165820   44.0\n",
       "1068     PM25mean  0.167111   45.0\n",
       "1069     PM25mean  0.168421   46.0\n",
       "1070     PM25mean  0.169548   47.0\n",
       "1071     PM25mean  0.170081   48.0"
      ]
     },
     "execution_count": 10,
     "metadata": {},
     "output_type": "execute_result"
    }
   ],
   "source": [
    "O3_corr = pd.read_csv(\"/DATA/paw/jupyterhub_notebook/daniel.bustillos/DanielBustillos/contaminación/pipeline-norberto/correlacion/correlaciones_\"+ target +\".csv\") # leemo el archivo de correlación\n",
    "O3_corr = O3_corr.iloc[:,1:]\n",
    "O3_corr.tail()"
   ]
  },
  {
   "cell_type": "markdown",
   "metadata": {},
   "source": [
    "- La columna \"contaminante\" se tiene el atributo sobre el que se realizó la correlación.\n",
    "- La columna \"valor\" indica el valor de la correlación.\n",
    "- La columna \"horas\" indica las horas de retraso."
   ]
  },
  {
   "cell_type": "markdown",
   "metadata": {},
   "source": [
    "Vamos a aplicar un filtro, nos quedaremos con las variables con una correlación entre -0.44 y 0.44. Este valor se eligió de forma que la cantidad de atributos final sea menor a 110:"
   ]
  },
  {
   "cell_type": "code",
   "execution_count": 11,
   "metadata": {},
   "outputs": [],
   "source": [
    "if contaminante == \"O3\":\n",
    "    threshold = 0.44\n",
    "else: threshold = 0.55"
   ]
  },
  {
   "cell_type": "code",
   "execution_count": 12,
   "metadata": {},
   "outputs": [
    {
     "data": {
      "text/plain": [
       "(108, 3)"
      ]
     },
     "execution_count": 12,
     "metadata": {},
     "output_type": "execute_result"
    }
   ],
   "source": [
    "O3_corr_filtro = O3_corr[(O3_corr.valor > threshold ) | (O3_corr.valor < - threshold) ].reset_index(drop=True)\n",
    "O3_corr_filtro.shape"
   ]
  },
  {
   "cell_type": "markdown",
   "metadata": {},
   "source": [
    "Una vez que tenemos los contaminantes y el número de horas de retraso, definimos una función que nos genere una nueva columna con el contaminante recorrido temporalmente las horas indicadas en **O3_corr_filtro**:"
   ]
  },
  {
   "cell_type": "code",
   "execution_count": 13,
   "metadata": {},
   "outputs": [],
   "source": [
    "def shit_corr(df):\n",
    "    for i in range(len(O3_corr_filtro)):\n",
    "        name_column = str( O3_corr_filtro.loc[i,\"contaminante\"] + \"_\" + str(\n",
    "            O3_corr_filtro.loc[i,\"horas\"])) # se define el nombre de la columna a crear con el formato:\n",
    "                                            # contaminante _ horas de retraso\n",
    "        df[name_column] = df[O3_corr_filtro.loc[i,\"contaminante\"]].shift(\n",
    "            int(float(str(O3_corr_filtro.loc[i,\"horas\"])))) # se toma el nombre del contaminante y se \n",
    "                                                            # desplaza temporalmente las horas indicadas\n",
    "    return df.dropna()"
   ]
  },
  {
   "cell_type": "markdown",
   "metadata": {},
   "source": [
    "Debido a que por cada hora se tienen tantos registros como el número de estaciones de monitoreo, existen fechas duplicadas en el df:"
   ]
  },
  {
   "cell_type": "code",
   "execution_count": 14,
   "metadata": {},
   "outputs": [
    {
     "data": {
      "text/html": [
       "<div>\n",
       "<style scoped>\n",
       "    .dataframe tbody tr th:only-of-type {\n",
       "        vertical-align: middle;\n",
       "    }\n",
       "\n",
       "    .dataframe tbody tr th {\n",
       "        vertical-align: top;\n",
       "    }\n",
       "\n",
       "    .dataframe thead th {\n",
       "        text-align: right;\n",
       "    }\n",
       "</style>\n",
       "<table border=\"1\" class=\"dataframe\">\n",
       "  <thead>\n",
       "    <tr style=\"text-align: right;\">\n",
       "      <th></th>\n",
       "      <th>fecha</th>\n",
       "      <th>id_station</th>\n",
       "    </tr>\n",
       "  </thead>\n",
       "  <tbody>\n",
       "    <tr>\n",
       "      <th>0</th>\n",
       "      <td>2015-01-01 00:00:00</td>\n",
       "      <td>ACO</td>\n",
       "    </tr>\n",
       "    <tr>\n",
       "      <th>1</th>\n",
       "      <td>2015-01-01 00:00:00</td>\n",
       "      <td>AJM</td>\n",
       "    </tr>\n",
       "    <tr>\n",
       "      <th>2</th>\n",
       "      <td>2015-01-01 00:00:00</td>\n",
       "      <td>AJU</td>\n",
       "    </tr>\n",
       "    <tr>\n",
       "      <th>3</th>\n",
       "      <td>2015-01-01 00:00:00</td>\n",
       "      <td>ATI</td>\n",
       "    </tr>\n",
       "    <tr>\n",
       "      <th>4</th>\n",
       "      <td>2015-01-01 00:00:00</td>\n",
       "      <td>CAM</td>\n",
       "    </tr>\n",
       "  </tbody>\n",
       "</table>\n",
       "</div>"
      ],
      "text/plain": [
       "                 fecha id_station\n",
       "0  2015-01-01 00:00:00        ACO\n",
       "1  2015-01-01 00:00:00        AJM\n",
       "2  2015-01-01 00:00:00        AJU\n",
       "3  2015-01-01 00:00:00        ATI\n",
       "4  2015-01-01 00:00:00        CAM"
      ]
     },
     "execution_count": 14,
     "metadata": {},
     "output_type": "execute_result"
    }
   ],
   "source": [
    "data_hour_merge_24[[\"fecha\",\"id_station\"]][data_hour_merge_24[\"fecha\"]==\"2015-01-01 00:00:00\"].head()"
   ]
  },
  {
   "cell_type": "markdown",
   "metadata": {},
   "source": [
    "Al tener fechas duplicadas, puede ocurrrir errores al aplicar el desplazamiento, por este motivo vamos a generar **un dataframe por cada estación**, aplicaremos la función y por último uniremos los dataframes:"
   ]
  },
  {
   "cell_type": "code",
   "execution_count": 15,
   "metadata": {},
   "outputs": [],
   "source": [
    "estaciones = data_hour_merge_24.id_station.unique().tolist() # recolectamos los nombres de las estaciones\n",
    "data_est = {}\n",
    "for elem in estaciones:\n",
    "    data_est[elem] = data_hour_merge_24[data_hour_merge_24.id_station == elem] #hacemos un df por estación"
   ]
  },
  {
   "cell_type": "markdown",
   "metadata": {},
   "source": [
    "Aplicamos la función para cada dataframe:"
   ]
  },
  {
   "cell_type": "code",
   "execution_count": 16,
   "metadata": {},
   "outputs": [],
   "source": [
    "data_shift = {}\n",
    "for elem in data_est:\n",
    "    data_shift[elem] = shit_corr(data_est[elem])"
   ]
  },
  {
   "cell_type": "markdown",
   "metadata": {},
   "source": [
    "Unimos los dataframes:"
   ]
  },
  {
   "cell_type": "code",
   "execution_count": 17,
   "metadata": {},
   "outputs": [],
   "source": [
    "df_append = pd.DataFrame(columns = data_est[\"MER\"].columns.tolist())\n",
    "for key in data_est:\n",
    "    df_append = df_append.append(data_est[key], ignore_index=True,sort=True)"
   ]
  },
  {
   "cell_type": "code",
   "execution_count": 18,
   "metadata": {},
   "outputs": [
    {
     "data": {
      "text/html": [
       "<div>\n",
       "<style scoped>\n",
       "    .dataframe tbody tr th:only-of-type {\n",
       "        vertical-align: middle;\n",
       "    }\n",
       "\n",
       "    .dataframe tbody tr th {\n",
       "        vertical-align: top;\n",
       "    }\n",
       "\n",
       "    .dataframe thead th {\n",
       "        text-align: right;\n",
       "    }\n",
       "</style>\n",
       "<table border=\"1\" class=\"dataframe\">\n",
       "  <thead>\n",
       "    <tr style=\"text-align: right;\">\n",
       "      <th></th>\n",
       "      <th>CO</th>\n",
       "      <th>CO_6.0</th>\n",
       "      <th>CO_7.0</th>\n",
       "      <th>NO</th>\n",
       "      <th>NO2</th>\n",
       "      <th>NOX</th>\n",
       "      <th>NOX_30.0</th>\n",
       "      <th>NOX_31.0</th>\n",
       "      <th>NOX_6.0</th>\n",
       "      <th>NOX_7.0</th>\n",
       "      <th>...</th>\n",
       "      <th>hora_20.0</th>\n",
       "      <th>hora_21.0</th>\n",
       "      <th>hora_33.0</th>\n",
       "      <th>hora_34.0</th>\n",
       "      <th>hora_35.0</th>\n",
       "      <th>hora_43.0</th>\n",
       "      <th>hora_44.0</th>\n",
       "      <th>hora_9.0</th>\n",
       "      <th>id_station</th>\n",
       "      <th>mes</th>\n",
       "    </tr>\n",
       "  </thead>\n",
       "  <tbody>\n",
       "    <tr>\n",
       "      <th>644309</th>\n",
       "      <td>0.3</td>\n",
       "      <td>0.5</td>\n",
       "      <td>0.5</td>\n",
       "      <td>NaN</td>\n",
       "      <td>NaN</td>\n",
       "      <td>NaN</td>\n",
       "      <td>NaN</td>\n",
       "      <td>NaN</td>\n",
       "      <td>NaN</td>\n",
       "      <td>NaN</td>\n",
       "      <td>...</td>\n",
       "      <td>13.0</td>\n",
       "      <td>12.0</td>\n",
       "      <td>0.0</td>\n",
       "      <td>23.0</td>\n",
       "      <td>22.0</td>\n",
       "      <td>14.0</td>\n",
       "      <td>13.0</td>\n",
       "      <td>0.0</td>\n",
       "      <td>MPA</td>\n",
       "      <td>8.0</td>\n",
       "    </tr>\n",
       "    <tr>\n",
       "      <th>644310</th>\n",
       "      <td>0.2</td>\n",
       "      <td>0.3</td>\n",
       "      <td>0.5</td>\n",
       "      <td>NaN</td>\n",
       "      <td>NaN</td>\n",
       "      <td>NaN</td>\n",
       "      <td>NaN</td>\n",
       "      <td>NaN</td>\n",
       "      <td>NaN</td>\n",
       "      <td>NaN</td>\n",
       "      <td>...</td>\n",
       "      <td>14.0</td>\n",
       "      <td>13.0</td>\n",
       "      <td>1.0</td>\n",
       "      <td>0.0</td>\n",
       "      <td>23.0</td>\n",
       "      <td>15.0</td>\n",
       "      <td>14.0</td>\n",
       "      <td>1.0</td>\n",
       "      <td>MPA</td>\n",
       "      <td>8.0</td>\n",
       "    </tr>\n",
       "    <tr>\n",
       "      <th>644311</th>\n",
       "      <td>0.2</td>\n",
       "      <td>0.3</td>\n",
       "      <td>0.3</td>\n",
       "      <td>NaN</td>\n",
       "      <td>NaN</td>\n",
       "      <td>NaN</td>\n",
       "      <td>NaN</td>\n",
       "      <td>NaN</td>\n",
       "      <td>NaN</td>\n",
       "      <td>NaN</td>\n",
       "      <td>...</td>\n",
       "      <td>15.0</td>\n",
       "      <td>14.0</td>\n",
       "      <td>2.0</td>\n",
       "      <td>1.0</td>\n",
       "      <td>0.0</td>\n",
       "      <td>16.0</td>\n",
       "      <td>15.0</td>\n",
       "      <td>2.0</td>\n",
       "      <td>MPA</td>\n",
       "      <td>8.0</td>\n",
       "    </tr>\n",
       "    <tr>\n",
       "      <th>644312</th>\n",
       "      <td>0.2</td>\n",
       "      <td>0.2</td>\n",
       "      <td>0.3</td>\n",
       "      <td>NaN</td>\n",
       "      <td>NaN</td>\n",
       "      <td>NaN</td>\n",
       "      <td>NaN</td>\n",
       "      <td>NaN</td>\n",
       "      <td>NaN</td>\n",
       "      <td>NaN</td>\n",
       "      <td>...</td>\n",
       "      <td>16.0</td>\n",
       "      <td>15.0</td>\n",
       "      <td>3.0</td>\n",
       "      <td>2.0</td>\n",
       "      <td>1.0</td>\n",
       "      <td>17.0</td>\n",
       "      <td>16.0</td>\n",
       "      <td>3.0</td>\n",
       "      <td>MPA</td>\n",
       "      <td>8.0</td>\n",
       "    </tr>\n",
       "    <tr>\n",
       "      <th>644313</th>\n",
       "      <td>0.2</td>\n",
       "      <td>0.2</td>\n",
       "      <td>0.2</td>\n",
       "      <td>NaN</td>\n",
       "      <td>NaN</td>\n",
       "      <td>NaN</td>\n",
       "      <td>NaN</td>\n",
       "      <td>NaN</td>\n",
       "      <td>NaN</td>\n",
       "      <td>NaN</td>\n",
       "      <td>...</td>\n",
       "      <td>17.0</td>\n",
       "      <td>16.0</td>\n",
       "      <td>4.0</td>\n",
       "      <td>3.0</td>\n",
       "      <td>2.0</td>\n",
       "      <td>18.0</td>\n",
       "      <td>17.0</td>\n",
       "      <td>4.0</td>\n",
       "      <td>MPA</td>\n",
       "      <td>8.0</td>\n",
       "    </tr>\n",
       "  </tbody>\n",
       "</table>\n",
       "<p>5 rows × 99 columns</p>\n",
       "</div>"
      ],
      "text/plain": [
       "         CO  CO_6.0  CO_7.0  NO  NO2  NOX  NOX_30.0  NOX_31.0  NOX_6.0  \\\n",
       "644309  0.3     0.5     0.5 NaN  NaN  NaN       NaN       NaN      NaN   \n",
       "644310  0.2     0.3     0.5 NaN  NaN  NaN       NaN       NaN      NaN   \n",
       "644311  0.2     0.3     0.3 NaN  NaN  NaN       NaN       NaN      NaN   \n",
       "644312  0.2     0.2     0.3 NaN  NaN  NaN       NaN       NaN      NaN   \n",
       "644313  0.2     0.2     0.2 NaN  NaN  NaN       NaN       NaN      NaN   \n",
       "\n",
       "        NOX_7.0  ...  hora_20.0  hora_21.0  hora_33.0  hora_34.0  hora_35.0  \\\n",
       "644309      NaN  ...       13.0       12.0        0.0       23.0       22.0   \n",
       "644310      NaN  ...       14.0       13.0        1.0        0.0       23.0   \n",
       "644311      NaN  ...       15.0       14.0        2.0        1.0        0.0   \n",
       "644312      NaN  ...       16.0       15.0        3.0        2.0        1.0   \n",
       "644313      NaN  ...       17.0       16.0        4.0        3.0        2.0   \n",
       "\n",
       "        hora_43.0  hora_44.0  hora_9.0  id_station  mes  \n",
       "644309       14.0       13.0       0.0         MPA  8.0  \n",
       "644310       15.0       14.0       1.0         MPA  8.0  \n",
       "644311       16.0       15.0       2.0         MPA  8.0  \n",
       "644312       17.0       16.0       3.0         MPA  8.0  \n",
       "644313       18.0       17.0       4.0         MPA  8.0  \n",
       "\n",
       "[5 rows x 99 columns]"
      ]
     },
     "execution_count": 18,
     "metadata": {},
     "output_type": "execute_result"
    }
   ],
   "source": [
    "df_append.tail(5)"
   ]
  },
  {
   "cell_type": "markdown",
   "metadata": {},
   "source": [
    "# 2.\n",
    "### Se obtiene el promedio, máximo y mínimo por hora de todas las estaciones."
   ]
  },
  {
   "cell_type": "markdown",
   "metadata": {},
   "source": [
    "Debido a que solo algunas estaciones miden todos los atributos con los que se está trabajando, se encontró que agrupar las condiciones atmosféricas de cada atributo con el promedio, máximo y mínimo, genera una mejora considerable al desempeño final de los modelos, debido a que al hacer esta agrupación se suavizan los valores y también se homogeniza los atributos de cada estación.\n",
    "\n",
    "Se guardan las columnas al aplicar el groupby y se elimina \"fecha\":"
   ]
  },
  {
   "cell_type": "code",
   "execution_count": 19,
   "metadata": {},
   "outputs": [],
   "source": [
    "cols = df_append.columns.tolist() \n",
    "cols.remove(\"fecha\")"
   ]
  },
  {
   "cell_type": "markdown",
   "metadata": {},
   "source": [
    "Aplicamos los groupbys:"
   ]
  },
  {
   "cell_type": "code",
   "execution_count": 20,
   "metadata": {},
   "outputs": [],
   "source": [
    "data_hour_merge_24_mean = df_append.groupby('fecha')[cols].mean()\n",
    "data_hour_merge_24_mean.reset_index(inplace=True)"
   ]
  },
  {
   "cell_type": "code",
   "execution_count": 21,
   "metadata": {},
   "outputs": [],
   "source": [
    "data_hour_merge_24_max = df_append.groupby('fecha')[cols].max()\n",
    "data_hour_merge_24_max.reset_index(inplace=True)"
   ]
  },
  {
   "cell_type": "code",
   "execution_count": 22,
   "metadata": {},
   "outputs": [],
   "source": [
    "data_hour_merge_24_min = df_append.groupby('fecha')[cols].min()\n",
    "data_hour_merge_24_min.reset_index(inplace=True)"
   ]
  },
  {
   "cell_type": "markdown",
   "metadata": {},
   "source": [
    "#### Cambiamos los nombres de las estaciones:\n",
    "Debido a que cada groupby genera los mismos nombres, esto puede generar problemas para identificar de qué columna se trata, se cambiarán los nombres a \"contaminante_max\", \"contaminante_min\", \"contaminante_mean\" según corresponda.\n",
    "\n",
    "Se obtienenn los nonbres de las columnas en forma de lista:"
   ]
  },
  {
   "cell_type": "code",
   "execution_count": 23,
   "metadata": {},
   "outputs": [],
   "source": [
    "max_columns = data_hour_merge_24_max.columns.tolist()\n",
    "min_columns = data_hour_merge_24_min.columns.tolist()\n",
    "mean_columns = data_hour_merge_24_mean.columns.tolist()"
   ]
  },
  {
   "cell_type": "markdown",
   "metadata": {},
   "source": [
    "Se cambian los nombres en las listas:"
   ]
  },
  {
   "cell_type": "code",
   "execution_count": 24,
   "metadata": {},
   "outputs": [],
   "source": [
    "for i in range(len(max_columns)):\n",
    "    if max_columns[i] not in ['fecha','hora','dia','mes','id_station']:\n",
    "        max_columns[i] = max_columns[i]+\"_max\"\n",
    "        min_columns[i] = min_columns[i]+\"_min\"    \n",
    "        mean_columns[i] = mean_columns[i]+\"_mean\""
   ]
  },
  {
   "cell_type": "markdown",
   "metadata": {},
   "source": [
    "Se renombra las columnas de los dataframes"
   ]
  },
  {
   "cell_type": "code",
   "execution_count": 25,
   "metadata": {},
   "outputs": [],
   "source": [
    "data_hour_merge_24_mean.columns = mean_columns\n",
    "data_hour_merge_24_min.columns = min_columns\n",
    "data_hour_merge_24_max.columns = max_columns"
   ]
  },
  {
   "cell_type": "markdown",
   "metadata": {},
   "source": [
    "Unimos los df's "
   ]
  },
  {
   "cell_type": "code",
   "execution_count": 26,
   "metadata": {},
   "outputs": [],
   "source": [
    "data_hour_merge = pd.merge(data_hour_merge_24_mean, data_hour_merge_24_max, on=['fecha'])\n",
    "data_hour_merge = pd.merge(data_hour_merge, data_hour_merge_24_min, on=['fecha'])"
   ]
  },
  {
   "cell_type": "markdown",
   "metadata": {},
   "source": [
    "Debido a que el proceso de obtener el máximo y mínimo es lento, es conveniente guardar el archivo de manera provisional:"
   ]
  },
  {
   "cell_type": "code",
   "execution_count": 27,
   "metadata": {},
   "outputs": [],
   "source": [
    "contaminante =\"O3\"\n",
    "data_hour_merge.to_csv(\"./datos_gb_\" + contaminante + \".csv\", sep=',', encoding='utf-8',index=False)"
   ]
  },
  {
   "cell_type": "markdown",
   "metadata": {},
   "source": [
    "# Leamos el archivo:"
   ]
  },
  {
   "cell_type": "code",
   "execution_count": 62,
   "metadata": {},
   "outputs": [],
   "source": [
    "data_hour_merge = pd.read_csv(\"./datos_gb_\" + contaminante + \".csv\", sep=',', encoding='utf-8')"
   ]
  },
  {
   "cell_type": "code",
   "execution_count": 63,
   "metadata": {},
   "outputs": [],
   "source": [
    "data_hour_merge = data_hour_merge.sort_values(['fecha',\"hora_x\"], ascending=[0,1]).reset_index(drop=True)"
   ]
  },
  {
   "cell_type": "markdown",
   "metadata": {},
   "source": [
    "## 3. \n",
    "### Generar las columna a pronosticar y obtener la correlación de los valores promedio máximo y mínimo con éste. Filtrar los valores más importantes.\n"
   ]
  },
  {
   "cell_type": "markdown",
   "metadata": {},
   "source": [
    "Ahora vamos a sacar los atributos más correlacionado con el contaminante a pronosticar a pronosticar. "
   ]
  },
  {
   "cell_type": "code",
   "execution_count": 64,
   "metadata": {},
   "outputs": [
    {
     "name": "stdout",
     "output_type": "stream",
     "text": [
      "O3_max\n"
     ]
    }
   ],
   "source": [
    "if contaminante == 'PM10' or contaminante == 'PM2.5':\n",
    "    item = contaminante+\"mean_max\"\n",
    "else:\n",
    "    item = contaminante+\"_max\" \n",
    "print(item)"
   ]
  },
  {
   "cell_type": "markdown",
   "metadata": {},
   "source": [
    "Desplazamos el target **24 horas** en adelante, esta columna nos indica el valor de contaminación que tomó a partir de condiciones atmosféricas 24 horas atrás. Este será nuesta columna a pronosticar."
   ]
  },
  {
   "cell_type": "code",
   "execution_count": 65,
   "metadata": {},
   "outputs": [],
   "source": [
    "data_hour_merge[str(item+\"_frcst_\"+str(24))] = data_hour_merge[item].shift(24)"
   ]
  },
  {
   "cell_type": "code",
   "execution_count": 66,
   "metadata": {},
   "outputs": [
    {
     "name": "stdout",
     "output_type": "stream",
     "text": [
      "O3_max_frcst_24\n"
     ]
    }
   ],
   "source": [
    "target = str(item+\"_frcst_\"+ str(24))\n",
    "print(target)"
   ]
  },
  {
   "cell_type": "code",
   "execution_count": 67,
   "metadata": {},
   "outputs": [
    {
     "data": {
      "text/html": [
       "<div>\n",
       "<style scoped>\n",
       "    .dataframe tbody tr th:only-of-type {\n",
       "        vertical-align: middle;\n",
       "    }\n",
       "\n",
       "    .dataframe tbody tr th {\n",
       "        vertical-align: top;\n",
       "    }\n",
       "\n",
       "    .dataframe thead th {\n",
       "        text-align: right;\n",
       "    }\n",
       "</style>\n",
       "<table border=\"1\" class=\"dataframe\">\n",
       "  <thead>\n",
       "    <tr style=\"text-align: right;\">\n",
       "      <th></th>\n",
       "      <th>fecha</th>\n",
       "      <th>CO_mean</th>\n",
       "      <th>CO_6.0_mean</th>\n",
       "      <th>CO_7.0_mean</th>\n",
       "      <th>NO_mean</th>\n",
       "      <th>NO2_mean</th>\n",
       "      <th>NOX_mean</th>\n",
       "      <th>NOX_30.0_mean</th>\n",
       "      <th>NOX_31.0_mean</th>\n",
       "      <th>NOX_6.0_mean</th>\n",
       "      <th>...</th>\n",
       "      <th>hora_21.0_min</th>\n",
       "      <th>hora_33.0_min</th>\n",
       "      <th>hora_34.0_min</th>\n",
       "      <th>hora_35.0_min</th>\n",
       "      <th>hora_43.0_min</th>\n",
       "      <th>hora_44.0_min</th>\n",
       "      <th>hora_9.0_min</th>\n",
       "      <th>id_station_y</th>\n",
       "      <th>mes_y</th>\n",
       "      <th>O3_max_frcst_24</th>\n",
       "    </tr>\n",
       "  </thead>\n",
       "  <tbody>\n",
       "    <tr>\n",
       "      <th>0</th>\n",
       "      <td>2017-08-05 14:00:00</td>\n",
       "      <td>0.400000</td>\n",
       "      <td>0.650000</td>\n",
       "      <td>0.575000</td>\n",
       "      <td>1.714286</td>\n",
       "      <td>17.000000</td>\n",
       "      <td>18.571429</td>\n",
       "      <td>47.142857</td>\n",
       "      <td>49.428571</td>\n",
       "      <td>57.571429</td>\n",
       "      <td>...</td>\n",
       "      <td>15.0</td>\n",
       "      <td>3.0</td>\n",
       "      <td>2.0</td>\n",
       "      <td>1.0</td>\n",
       "      <td>0.0</td>\n",
       "      <td>10.0</td>\n",
       "      <td>4.0</td>\n",
       "      <td>ACO</td>\n",
       "      <td>8.0</td>\n",
       "      <td>NaN</td>\n",
       "    </tr>\n",
       "    <tr>\n",
       "      <th>1</th>\n",
       "      <td>2017-08-05 13:00:00</td>\n",
       "      <td>0.430769</td>\n",
       "      <td>0.576923</td>\n",
       "      <td>0.446154</td>\n",
       "      <td>3.190476</td>\n",
       "      <td>19.047619</td>\n",
       "      <td>22.285714</td>\n",
       "      <td>55.863636</td>\n",
       "      <td>41.000000</td>\n",
       "      <td>53.090909</td>\n",
       "      <td>...</td>\n",
       "      <td>13.0</td>\n",
       "      <td>1.0</td>\n",
       "      <td>0.0</td>\n",
       "      <td>0.0</td>\n",
       "      <td>0.0</td>\n",
       "      <td>0.0</td>\n",
       "      <td>1.0</td>\n",
       "      <td>ACO</td>\n",
       "      <td>8.0</td>\n",
       "      <td>NaN</td>\n",
       "    </tr>\n",
       "    <tr>\n",
       "      <th>2</th>\n",
       "      <td>2017-08-05 12:00:00</td>\n",
       "      <td>0.488000</td>\n",
       "      <td>0.448000</td>\n",
       "      <td>0.404000</td>\n",
       "      <td>6.809524</td>\n",
       "      <td>24.333333</td>\n",
       "      <td>31.190476</td>\n",
       "      <td>42.142857</td>\n",
       "      <td>35.904762</td>\n",
       "      <td>45.809524</td>\n",
       "      <td>...</td>\n",
       "      <td>13.0</td>\n",
       "      <td>1.0</td>\n",
       "      <td>0.0</td>\n",
       "      <td>0.0</td>\n",
       "      <td>9.0</td>\n",
       "      <td>8.0</td>\n",
       "      <td>2.0</td>\n",
       "      <td>ACO</td>\n",
       "      <td>8.0</td>\n",
       "      <td>NaN</td>\n",
       "    </tr>\n",
       "    <tr>\n",
       "      <th>3</th>\n",
       "      <td>2017-08-05 11:00:00</td>\n",
       "      <td>0.538462</td>\n",
       "      <td>0.403846</td>\n",
       "      <td>0.384615</td>\n",
       "      <td>11.181818</td>\n",
       "      <td>26.227273</td>\n",
       "      <td>37.318182</td>\n",
       "      <td>35.136364</td>\n",
       "      <td>26.363636</td>\n",
       "      <td>38.863636</td>\n",
       "      <td>...</td>\n",
       "      <td>9.0</td>\n",
       "      <td>0.0</td>\n",
       "      <td>0.0</td>\n",
       "      <td>0.0</td>\n",
       "      <td>8.0</td>\n",
       "      <td>7.0</td>\n",
       "      <td>1.0</td>\n",
       "      <td>ACO</td>\n",
       "      <td>8.0</td>\n",
       "      <td>NaN</td>\n",
       "    </tr>\n",
       "    <tr>\n",
       "      <th>4</th>\n",
       "      <td>2017-08-05 10:00:00</td>\n",
       "      <td>0.553846</td>\n",
       "      <td>0.384615</td>\n",
       "      <td>0.365385</td>\n",
       "      <td>17.681818</td>\n",
       "      <td>25.500000</td>\n",
       "      <td>43.318182</td>\n",
       "      <td>26.363636</td>\n",
       "      <td>22.380952</td>\n",
       "      <td>32.818182</td>\n",
       "      <td>...</td>\n",
       "      <td>8.0</td>\n",
       "      <td>0.0</td>\n",
       "      <td>0.0</td>\n",
       "      <td>18.0</td>\n",
       "      <td>7.0</td>\n",
       "      <td>6.0</td>\n",
       "      <td>0.0</td>\n",
       "      <td>ACO</td>\n",
       "      <td>8.0</td>\n",
       "      <td>NaN</td>\n",
       "    </tr>\n",
       "  </tbody>\n",
       "</table>\n",
       "<p>5 rows × 294 columns</p>\n",
       "</div>"
      ],
      "text/plain": [
       "                 fecha   CO_mean  CO_6.0_mean  CO_7.0_mean    NO_mean  \\\n",
       "0  2017-08-05 14:00:00  0.400000     0.650000     0.575000   1.714286   \n",
       "1  2017-08-05 13:00:00  0.430769     0.576923     0.446154   3.190476   \n",
       "2  2017-08-05 12:00:00  0.488000     0.448000     0.404000   6.809524   \n",
       "3  2017-08-05 11:00:00  0.538462     0.403846     0.384615  11.181818   \n",
       "4  2017-08-05 10:00:00  0.553846     0.384615     0.365385  17.681818   \n",
       "\n",
       "    NO2_mean   NOX_mean  NOX_30.0_mean  NOX_31.0_mean  NOX_6.0_mean  ...  \\\n",
       "0  17.000000  18.571429      47.142857      49.428571     57.571429  ...   \n",
       "1  19.047619  22.285714      55.863636      41.000000     53.090909  ...   \n",
       "2  24.333333  31.190476      42.142857      35.904762     45.809524  ...   \n",
       "3  26.227273  37.318182      35.136364      26.363636     38.863636  ...   \n",
       "4  25.500000  43.318182      26.363636      22.380952     32.818182  ...   \n",
       "\n",
       "   hora_21.0_min  hora_33.0_min  hora_34.0_min  hora_35.0_min  hora_43.0_min  \\\n",
       "0           15.0            3.0            2.0            1.0            0.0   \n",
       "1           13.0            1.0            0.0            0.0            0.0   \n",
       "2           13.0            1.0            0.0            0.0            9.0   \n",
       "3            9.0            0.0            0.0            0.0            8.0   \n",
       "4            8.0            0.0            0.0           18.0            7.0   \n",
       "\n",
       "   hora_44.0_min  hora_9.0_min  id_station_y  mes_y  O3_max_frcst_24  \n",
       "0           10.0           4.0           ACO    8.0              NaN  \n",
       "1            0.0           1.0           ACO    8.0              NaN  \n",
       "2            8.0           2.0           ACO    8.0              NaN  \n",
       "3            7.0           1.0           ACO    8.0              NaN  \n",
       "4            6.0           0.0           ACO    8.0              NaN  \n",
       "\n",
       "[5 rows x 294 columns]"
      ]
     },
     "execution_count": 67,
     "metadata": {},
     "output_type": "execute_result"
    }
   ],
   "source": [
    "data_hour_merge.head()"
   ]
  },
  {
   "cell_type": "markdown",
   "metadata": {},
   "source": [
    "## 4. \n",
    "### Generar las columnas de pronóstico de RH, WSP TMP."
   ]
  },
  {
   "cell_type": "markdown",
   "metadata": {},
   "source": [
    "Se observó que usando datos de pronóstico atmosférico, el modelo tiene un mejor desempeño, vamos a añadir \"RH_mean\",\"WSP_mean\",\"TMP_mean\" a los atributos con un pronóstico de 24 horas."
   ]
  },
  {
   "cell_type": "raw",
   "metadata": {},
   "source": [
    "lista_frcst = [\"RH_mean\",\"WSP_mean\",\"TMP_mean\"]"
   ]
  },
  {
   "cell_type": "raw",
   "metadata": {},
   "source": [
    "for item_pronostico in lista_frcst:\n",
    "    for i in range(1, 25):\n",
    "        col_name = str(item_pronostico+\"_frcst_\"+str(i))\n",
    "        data_hour_merge[col_name] = data_hour_merge[item_pronostico].shift(i)\n",
    "data_hour_merge.dropna(inplace=True)"
   ]
  },
  {
   "cell_type": "markdown",
   "metadata": {},
   "source": [
    "volvamos a sacar la correlación y filtramos los valores de correlación:"
   ]
  },
  {
   "cell_type": "code",
   "execution_count": 68,
   "metadata": {},
   "outputs": [],
   "source": [
    "if contaminante == \"O3\":\n",
    "    threshold = 0.44\n",
    "else: threshold = 0.55"
   ]
  },
  {
   "cell_type": "code",
   "execution_count": 69,
   "metadata": {},
   "outputs": [],
   "source": [
    "data_corr_2 = data_hour_merge.corr()\n",
    "variables_mas_correlacionadas_con_pronóstico = data_corr_2[target][(data_corr_2[target] > threshold) |                                                                \n",
    "                                                            (data_corr_2[target] < - threshold)].index.tolist()"
   ]
  },
  {
   "cell_type": "raw",
   "metadata": {},
   "source": [
    "len(variables_mas_correlacionadas_con_pronóstico)"
   ]
  },
  {
   "cell_type": "markdown",
   "metadata": {},
   "source": [
    "Agregamos a las columnas mas correlacionadas los atributos de pronóstico:"
   ]
  },
  {
   "cell_type": "raw",
   "metadata": {},
   "source": [
    "variables_mas_correlacionadas_con_pronóstico.append(\"RH_mean\")\n",
    "variables_mas_correlacionadas_con_pronóstico.append(\"WSP_mean\")\n",
    "variables_mas_correlacionadas_con_pronóstico.append(\"TMP_mean\")\n",
    "variables_mas_correlacionadas_con_pronóstico.append(\"fecha\")"
   ]
  },
  {
   "cell_type": "code",
   "execution_count": 70,
   "metadata": {},
   "outputs": [],
   "source": [
    "variables_mas_correlacionadas_con_pronóstico.append(\"O3_max\")\n",
    "variables_mas_correlacionadas_con_pronóstico.append(\"fecha\")\n",
    "\n",
    "variables_mas_correlacionadas_con_pronóstico = list(set(variables_mas_correlacionadas_con_pronóstico))"
   ]
  },
  {
   "cell_type": "code",
   "execution_count": 71,
   "metadata": {},
   "outputs": [],
   "source": [
    "data_hour_merge = data_hour_merge[variables_mas_correlacionadas_con_pronóstico]"
   ]
  },
  {
   "cell_type": "markdown",
   "metadata": {},
   "source": [
    "## 5. \n",
    "### Generar las columnas a pronosticar de 1 hasta 23 horas.\n"
   ]
  },
  {
   "cell_type": "markdown",
   "metadata": {},
   "source": [
    "Al tratarse de modelos supervisados, es necesario tener como columna cada uno de los valores a pronosticar, esta columna es la columna del contaminante recorrido desde 1 hasta 24 horas atrás:"
   ]
  },
  {
   "cell_type": "markdown",
   "metadata": {},
   "source": [
    "Definimos el contaminante que estamos usando:"
   ]
  },
  {
   "cell_type": "code",
   "execution_count": 72,
   "metadata": {},
   "outputs": [
    {
     "name": "stdout",
     "output_type": "stream",
     "text": [
      "O3_max\n"
     ]
    }
   ],
   "source": [
    "if contaminante == 'PM10' or contaminante == 'PM2.5':\n",
    "    item = contaminante+\"mean_max\"\n",
    "else:\n",
    "    item = contaminante+\"_max\" \n",
    "print(item)"
   ]
  },
  {
   "cell_type": "code",
   "execution_count": 73,
   "metadata": {},
   "outputs": [
    {
     "name": "stdout",
     "output_type": "stream",
     "text": [
      "23\n"
     ]
    }
   ],
   "source": [
    "for i in range(1, 24):\n",
    "    col_name = str(item+\"_frcst_\"+str(i))\n",
    "    data_hour_merge[col_name] = data_hour_merge[item].shift(i)\n",
    "    if i==range(1, 24)[-1]:\n",
    "        print(i)\n",
    "data_hour_merge.dropna(inplace=True)"
   ]
  },
  {
   "cell_type": "markdown",
   "metadata": {},
   "source": [
    "Guardemos:"
   ]
  },
  {
   "cell_type": "code",
   "execution_count": 74,
   "metadata": {},
   "outputs": [],
   "source": [
    "data_hour_merge.to_csv(\"./datos_modelos_\"+ contaminante + \".csv\",sep=',', encoding='utf-8',index=False)"
   ]
  },
  {
   "cell_type": "code",
   "execution_count": null,
   "metadata": {},
   "outputs": [],
   "source": []
  },
  {
   "cell_type": "code",
   "execution_count": 75,
   "metadata": {},
   "outputs": [
    {
     "data": {
      "text/plain": [
       "['TMP_24.0_mean',\n",
       " 'O3_3.0_max',\n",
       " 'RH_24.0_mean',\n",
       " 'O3_44.0_max',\n",
       " 'hora_35.0_mean',\n",
       " 'hora_9.0_mean',\n",
       " 'O3_2.0_max',\n",
       " 'O3_1.0_mean',\n",
       " 'hora_10.0_max',\n",
       " 'TMP_1.0_mean',\n",
       " 'TMP_47.0_max',\n",
       " 'TMP_21.0_max',\n",
       " 'O3_0.0_min',\n",
       " 'O3_max_frcst_24',\n",
       " 'hora_19.0_min',\n",
       " 'TMP_23.0_mean',\n",
       " 'RH_25.0_mean',\n",
       " 'RH_47.0_max',\n",
       " 'RH_22.0_max',\n",
       " 'RH_45.0_mean',\n",
       " 'TMP_min',\n",
       " 'NO_7.0_max',\n",
       " 'NO_8.0_max',\n",
       " 'TMP_21.0_mean',\n",
       " 'TMP_46.0_mean',\n",
       " 'hora_34.0_min',\n",
       " 'RH_21.0_max',\n",
       " 'RH_2.0_min',\n",
       " 'O3_1.0_min',\n",
       " 'NO_8.0_mean',\n",
       " 'hora_21.0_mean',\n",
       " 'O3_mean',\n",
       " 'hora_11.0_mean',\n",
       " 'RH_2.0_max',\n",
       " 'RH_48.0_mean',\n",
       " 'O3_21.0_min',\n",
       " 'O3_2.0_min',\n",
       " 'O3_0.0_mean',\n",
       " 'O3_45.0_min',\n",
       " 'RH_22.0_min',\n",
       " 'TMP_46.0_min',\n",
       " 'TMP_22.0_min',\n",
       " 'RH_1.0_max',\n",
       " 'RH_24.0_min',\n",
       " 'O3_max',\n",
       " 'O3_21.0_mean',\n",
       " 'RH_23.0_max',\n",
       " 'hora_19.0_mean',\n",
       " 'O3_23.0_mean',\n",
       " 'O3_24.0_max',\n",
       " 'NOX_7.0_mean',\n",
       " 'RH_23.0_mean',\n",
       " 'O3_3.0_mean',\n",
       " 'TMP_48.0_max',\n",
       " 'TMP_45.0_max',\n",
       " 'TMP_48.0_mean',\n",
       " 'O3_46.0_max',\n",
       " 'O3_21.0_max',\n",
       " 'O3_48.0_max',\n",
       " 'TMP_25.0_mean',\n",
       " 'fecha',\n",
       " 'RH_2.0_mean',\n",
       " 'hora_20.0_mean',\n",
       " 'TMP_25.0_max',\n",
       " 'O3_22.0_mean',\n",
       " 'TMP_22.0_mean',\n",
       " 'O3_25.0_mean',\n",
       " 'O3_46.0_mean',\n",
       " 'TMP_0.0_min',\n",
       " 'RH_min',\n",
       " 'TMP_max',\n",
       " 'TMP_0.0_mean',\n",
       " 'O3_0.0_max',\n",
       " 'O3_1.0_max',\n",
       " 'O3_22.0_min',\n",
       " 'RH_25.0_max',\n",
       " 'O3_47.0_min',\n",
       " 'NO_7.0_mean',\n",
       " 'TMP_2.0_min',\n",
       " 'hora_9.0_max',\n",
       " 'RH_3.0_max',\n",
       " 'RH_0.0_mean',\n",
       " 'TMP_45.0_mean',\n",
       " 'TMP_0.0_max',\n",
       " 'hora_34.0_mean',\n",
       " 'RH_21.0_mean',\n",
       " 'hora_12.0_mean',\n",
       " 'hora_33.0_min',\n",
       " 'RH_1.0_mean',\n",
       " 'RH_mean',\n",
       " 'hora_43.0_mean',\n",
       " 'O3_min',\n",
       " 'TMP_24.0_min',\n",
       " 'O3_45.0_max',\n",
       " 'TMP_1.0_max',\n",
       " 'TMP_23.0_max',\n",
       " 'RH_0.0_min',\n",
       " 'hora_44.0_mean',\n",
       " 'O3_23.0_min',\n",
       " 'O3_23.0_max',\n",
       " 'RH_1.0_min',\n",
       " 'O3_26.0_mean',\n",
       " 'NOX_6.0_mean',\n",
       " 'O3_24.0_mean',\n",
       " 'RH_45.0_max',\n",
       " 'RH_25.0_min',\n",
       " 'hora_10.0_min',\n",
       " 'RH_22.0_mean',\n",
       " 'TMP_46.0_max',\n",
       " 'hora_20.0_min',\n",
       " 'TMP_2.0_mean',\n",
       " 'O3_25.0_max',\n",
       " 'RH_46.0_min',\n",
       " 'RH_45.0_min',\n",
       " 'O3_46.0_min',\n",
       " 'O3_20.0_max',\n",
       " 'RH_0.0_max',\n",
       " 'hora_10.0',\n",
       " 'TMP_mean',\n",
       " 'TMP_23.0_min',\n",
       " 'RH_44.0_mean',\n",
       " 'TMP_1.0_min',\n",
       " 'O3_48.0_mean',\n",
       " 'hora_11.0_min',\n",
       " 'RH_max',\n",
       " 'hora_9.0_min',\n",
       " 'O3_45.0_mean',\n",
       " 'hora_33.0_mean',\n",
       " 'RH_47.0_min',\n",
       " 'RH_46.0_max',\n",
       " 'RH_46.0_mean',\n",
       " 'NOX_7.0_max',\n",
       " 'RH_23.0_min',\n",
       " 'TMP_47.0_mean',\n",
       " 'RH_21.0_min',\n",
       " 'O3_22.0_max',\n",
       " 'RH_24.0_max',\n",
       " 'TMP_2.0_max',\n",
       " 'O3_24.0_min',\n",
       " 'TMP_22.0_max',\n",
       " 'O3_44.0_mean',\n",
       " 'O3_47.0_mean',\n",
       " 'O3_2.0_mean',\n",
       " 'TMP_24.0_max',\n",
       " 'RH_47.0_mean',\n",
       " 'O3_47.0_max',\n",
       " 'O3_max_frcst_1',\n",
       " 'O3_max_frcst_2',\n",
       " 'O3_max_frcst_3',\n",
       " 'O3_max_frcst_4',\n",
       " 'O3_max_frcst_5',\n",
       " 'O3_max_frcst_6',\n",
       " 'O3_max_frcst_7',\n",
       " 'O3_max_frcst_8',\n",
       " 'O3_max_frcst_9',\n",
       " 'O3_max_frcst_10',\n",
       " 'O3_max_frcst_11',\n",
       " 'O3_max_frcst_12',\n",
       " 'O3_max_frcst_13',\n",
       " 'O3_max_frcst_14',\n",
       " 'O3_max_frcst_15',\n",
       " 'O3_max_frcst_16',\n",
       " 'O3_max_frcst_17',\n",
       " 'O3_max_frcst_18',\n",
       " 'O3_max_frcst_19',\n",
       " 'O3_max_frcst_20',\n",
       " 'O3_max_frcst_21',\n",
       " 'O3_max_frcst_22',\n",
       " 'O3_max_frcst_23']"
      ]
     },
     "execution_count": 75,
     "metadata": {},
     "output_type": "execute_result"
    }
   ],
   "source": [
    "data_hour_merge.columns.tolist()"
   ]
  },
  {
   "cell_type": "code",
   "execution_count": 79,
   "metadata": {},
   "outputs": [
    {
     "data": {
      "image/png": "[encoded data removed]",
      "text/plain": [
       "<Figure size 640x480 with 1 Axes>"
      ]
     },
     "metadata": {},
     "output_type": "display_data"
    }
   ],
   "source": [
    "data_hour_merge['fecha'] =  pd.to_datetime(data_hour_merge['fecha'], format='%Y-%m-%d %H:%M')\n",
    "\n",
    "import matplotlib.pyplot as plt\n",
    "\n",
    "fig = plt.figure(num=None, figsize=(8, 6), dpi=80, facecolor='w', edgecolor='k')\n",
    "ax = fig.gca()\n",
    "\n",
    "# df_export.(50).plot(x=\"fecha\", y=[ \"O3_y\"],ax=ax,label=[\"O3 Medido\"],color=\"dodgerblue\")\n",
    "# df_export.(60).head(100).plot(x=\"fecha\", y=[\"O3_y_frcst_6\"],ax=ax,label=[\"Pronóstico O3 a 12 horas\"],color='darkblue',dashes=[6, 2])\n",
    "\n",
    "data_hour_merge.tail(200).plot(x=\"fecha\", y=[\"O3_max\"],ax=ax,label=[\"PM10mean ahora\"],color=\"saddlebrown\")\n",
    "data_hour_merge.tail(200).plot(x=\"fecha\", y=[\"O3_max_frcst_22\"],ax=ax,label=[\"PM10 pronostico 12\"],color=\"blue\")\n",
    "data_hour_merge.tail(200).plot(x=\"fecha\", y=[\"O3_22.0_max\"],ax=ax,label=[\"PM10 a pasado\"],color='maroon',dashes=[6, 2])\n",
    "\n",
    "plt.ylabel(\"PM10[mg/m3]\")\n",
    "plt.title(\"Comparación del Modelo\")\n",
    "\n",
    "\n",
    "# And a corresponding grid\n",
    "ax.grid(which='both')\n",
    "\n",
    "# Or if you want different settings for the grids:\n",
    "ax.grid(which='minor', alpha=0.01)\n",
    "ax.grid(which='major', alpha=0.3)\n",
    "\n",
    "\n",
    "\n",
    "plt.legend()\n",
    "plt.show()"
   ]
  },
  {
   "cell_type": "code",
   "execution_count": 77,
   "metadata": {},
   "outputs": [
    {
     "data": {
      "text/plain": [
       "['TMP_24.0_mean',\n",
       " 'O3_3.0_max',\n",
       " 'RH_24.0_mean',\n",
       " 'O3_44.0_max',\n",
       " 'hora_35.0_mean',\n",
       " 'hora_9.0_mean',\n",
       " 'O3_2.0_max',\n",
       " 'O3_1.0_mean',\n",
       " 'hora_10.0_max',\n",
       " 'TMP_1.0_mean',\n",
       " 'TMP_47.0_max',\n",
       " 'TMP_21.0_max',\n",
       " 'O3_0.0_min',\n",
       " 'O3_max_frcst_24',\n",
       " 'hora_19.0_min',\n",
       " 'TMP_23.0_mean',\n",
       " 'RH_25.0_mean',\n",
       " 'RH_47.0_max',\n",
       " 'RH_22.0_max',\n",
       " 'RH_45.0_mean',\n",
       " 'TMP_min',\n",
       " 'NO_7.0_max',\n",
       " 'NO_8.0_max',\n",
       " 'TMP_21.0_mean',\n",
       " 'TMP_46.0_mean',\n",
       " 'hora_34.0_min',\n",
       " 'RH_21.0_max',\n",
       " 'RH_2.0_min',\n",
       " 'O3_1.0_min',\n",
       " 'NO_8.0_mean',\n",
       " 'hora_21.0_mean',\n",
       " 'O3_mean',\n",
       " 'hora_11.0_mean',\n",
       " 'RH_2.0_max',\n",
       " 'RH_48.0_mean',\n",
       " 'O3_21.0_min',\n",
       " 'O3_2.0_min',\n",
       " 'O3_0.0_mean',\n",
       " 'O3_45.0_min',\n",
       " 'RH_22.0_min',\n",
       " 'TMP_46.0_min',\n",
       " 'TMP_22.0_min',\n",
       " 'RH_1.0_max',\n",
       " 'RH_24.0_min',\n",
       " 'O3_max',\n",
       " 'O3_21.0_mean',\n",
       " 'RH_23.0_max',\n",
       " 'hora_19.0_mean',\n",
       " 'O3_23.0_mean',\n",
       " 'O3_24.0_max',\n",
       " 'NOX_7.0_mean',\n",
       " 'RH_23.0_mean',\n",
       " 'O3_3.0_mean',\n",
       " 'TMP_48.0_max',\n",
       " 'TMP_45.0_max',\n",
       " 'TMP_48.0_mean',\n",
       " 'O3_46.0_max',\n",
       " 'O3_21.0_max',\n",
       " 'O3_48.0_max',\n",
       " 'TMP_25.0_mean',\n",
       " 'fecha',\n",
       " 'RH_2.0_mean',\n",
       " 'hora_20.0_mean',\n",
       " 'TMP_25.0_max',\n",
       " 'O3_22.0_mean',\n",
       " 'TMP_22.0_mean',\n",
       " 'O3_25.0_mean',\n",
       " 'O3_46.0_mean',\n",
       " 'TMP_0.0_min',\n",
       " 'RH_min',\n",
       " 'TMP_max',\n",
       " 'TMP_0.0_mean',\n",
       " 'O3_0.0_max',\n",
       " 'O3_1.0_max',\n",
       " 'O3_22.0_min',\n",
       " 'RH_25.0_max',\n",
       " 'O3_47.0_min',\n",
       " 'NO_7.0_mean',\n",
       " 'TMP_2.0_min',\n",
       " 'hora_9.0_max',\n",
       " 'RH_3.0_max',\n",
       " 'RH_0.0_mean',\n",
       " 'TMP_45.0_mean',\n",
       " 'TMP_0.0_max',\n",
       " 'hora_34.0_mean',\n",
       " 'RH_21.0_mean',\n",
       " 'hora_12.0_mean',\n",
       " 'hora_33.0_min',\n",
       " 'RH_1.0_mean',\n",
       " 'RH_mean',\n",
       " 'hora_43.0_mean',\n",
       " 'O3_min',\n",
       " 'TMP_24.0_min',\n",
       " 'O3_45.0_max',\n",
       " 'TMP_1.0_max',\n",
       " 'TMP_23.0_max',\n",
       " 'RH_0.0_min',\n",
       " 'hora_44.0_mean',\n",
       " 'O3_23.0_min',\n",
       " 'O3_23.0_max',\n",
       " 'RH_1.0_min',\n",
       " 'O3_26.0_mean',\n",
       " 'NOX_6.0_mean',\n",
       " 'O3_24.0_mean',\n",
       " 'RH_45.0_max',\n",
       " 'RH_25.0_min',\n",
       " 'hora_10.0_min',\n",
       " 'RH_22.0_mean',\n",
       " 'TMP_46.0_max',\n",
       " 'hora_20.0_min',\n",
       " 'TMP_2.0_mean',\n",
       " 'O3_25.0_max',\n",
       " 'RH_46.0_min',\n",
       " 'RH_45.0_min',\n",
       " 'O3_46.0_min',\n",
       " 'O3_20.0_max',\n",
       " 'RH_0.0_max',\n",
       " 'hora_10.0',\n",
       " 'TMP_mean',\n",
       " 'TMP_23.0_min',\n",
       " 'RH_44.0_mean',\n",
       " 'TMP_1.0_min',\n",
       " 'O3_48.0_mean',\n",
       " 'hora_11.0_min',\n",
       " 'RH_max',\n",
       " 'hora_9.0_min',\n",
       " 'O3_45.0_mean',\n",
       " 'hora_33.0_mean',\n",
       " 'RH_47.0_min',\n",
       " 'RH_46.0_max',\n",
       " 'RH_46.0_mean',\n",
       " 'NOX_7.0_max',\n",
       " 'RH_23.0_min',\n",
       " 'TMP_47.0_mean',\n",
       " 'RH_21.0_min',\n",
       " 'O3_22.0_max',\n",
       " 'RH_24.0_max',\n",
       " 'TMP_2.0_max',\n",
       " 'O3_24.0_min',\n",
       " 'TMP_22.0_max',\n",
       " 'O3_44.0_mean',\n",
       " 'O3_47.0_mean',\n",
       " 'O3_2.0_mean',\n",
       " 'TMP_24.0_max',\n",
       " 'RH_47.0_mean',\n",
       " 'O3_47.0_max',\n",
       " 'O3_max_frcst_1',\n",
       " 'O3_max_frcst_2',\n",
       " 'O3_max_frcst_3',\n",
       " 'O3_max_frcst_4',\n",
       " 'O3_max_frcst_5',\n",
       " 'O3_max_frcst_6',\n",
       " 'O3_max_frcst_7',\n",
       " 'O3_max_frcst_8',\n",
       " 'O3_max_frcst_9',\n",
       " 'O3_max_frcst_10',\n",
       " 'O3_max_frcst_11',\n",
       " 'O3_max_frcst_12',\n",
       " 'O3_max_frcst_13',\n",
       " 'O3_max_frcst_14',\n",
       " 'O3_max_frcst_15',\n",
       " 'O3_max_frcst_16',\n",
       " 'O3_max_frcst_17',\n",
       " 'O3_max_frcst_18',\n",
       " 'O3_max_frcst_19',\n",
       " 'O3_max_frcst_20',\n",
       " 'O3_max_frcst_21',\n",
       " 'O3_max_frcst_22',\n",
       " 'O3_max_frcst_23']"
      ]
     },
     "execution_count": 77,
     "metadata": {},
     "output_type": "execute_result"
    }
   ],
   "source": [
    "data_hour_merge.columns.tolist()"
   ]
  },
  {
   "cell_type": "code",
   "execution_count": null,
   "metadata": {},
   "outputs": [],
   "source": []
  },
  {
   "cell_type": "code",
   "execution_count": null,
   "metadata": {},
   "outputs": [],
   "source": []
  }
 ],
 "metadata": {
  "kernelspec": {
   "display_name": "Python 3",
   "language": "python",
   "name": "python3"
  },
  "language_info": {
   "codemirror_mode": {
    "name": "ipython",
    "version": 3
   },
   "file_extension": ".py",
   "mimetype": "text/x-python",
   "name": "python",
   "nbconvert_exporter": "python",
   "pygments_lexer": "ipython3",
   "version": "3.7.3"
  }
 },
 "nbformat": 4,
 "nbformat_minor": 2
}
