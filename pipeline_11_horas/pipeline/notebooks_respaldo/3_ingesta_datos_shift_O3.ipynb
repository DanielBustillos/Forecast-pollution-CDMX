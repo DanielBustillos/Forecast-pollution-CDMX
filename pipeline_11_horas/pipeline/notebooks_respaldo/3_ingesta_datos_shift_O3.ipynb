{
 "cells": [
  {
   "cell_type": "markdown",
   "metadata": {},
   "source": [
    "# Datos entreneamiento Shift"
   ]
  },
  {
   "cell_type": "markdown",
   "metadata": {},
   "source": [
    "En este notebook vamos a aplicar el shift para las obtener las columnas mas correlacionadas.\n",
    "\n",
    "- __Datos recibidos:__ obtenidos de notebook __1-datos_entrenamiento_shift.ipynb__\n",
    "- __Responsable:__ Daniel Bustillos\n",
    "- __Contacto:__  juandaniel.bucam@gmail.com\n",
    "\n",
    "__Notas del proyecto__\n",
    "Necesitamos generar un csv con los niveles máximos, mínimo y promedio por día, se perderá la información de la estación, también generaremos el atributo PM10mean y PM25mean que representarán los valores de las últimas 24 horas de los contaminantes.\n",
    "\n",
    "calidad de caire\n",
    "pronostico contaminación"
   ]
  },
  {
   "cell_type": "markdown",
   "metadata": {},
   "source": [
    "## Pasos\n",
    "[X] Aplicar Shift con Correlaciones <br>\n",
    "[X] Sacar minimo promedio y maximo <br>\n",
    "[X] Obtener columnas más correlacionadas<br><br>"
   ]
  },
  {
   "cell_type": "code",
   "execution_count": 1,
   "metadata": {},
   "outputs": [],
   "source": [
    "import pandas as pd\n",
    "pd.options.mode.chained_assignment = None "
   ]
  },
  {
   "cell_type": "code",
   "execution_count": 2,
   "metadata": {},
   "outputs": [],
   "source": [
    "path_inicial = \"/home/paw/DanielBustillos/contaminación/pipeline-norberto/pipeline_pau/datos/ingesta_hora_limpios.csv\"\n",
    "path_final = \"/home/paw/DanielBustillos/contaminación/pipeline-norberto/pipeline_pau/datos/ingesta_modelos_O3.csv\""
   ]
  },
  {
   "cell_type": "code",
   "execution_count": 3,
   "metadata": {},
   "outputs": [],
   "source": [
    "data_hour_merge_24 = pd.read_csv(path_inicial)"
   ]
  },
  {
   "cell_type": "code",
   "execution_count": 4,
   "metadata": {},
   "outputs": [
    {
     "data": {
      "text/plain": [
       "Index(['CO', 'NO', 'NO2', 'NOX', 'O3', 'PM10', 'PM2.5', 'RH', 'SO2', 'TMP',\n",
       "       'WDR', 'WSP', 'dia', 'fecha', 'hora', 'id_station', 'mes', 'PM10mean',\n",
       "       'PM25mean'],\n",
       "      dtype='object')"
      ]
     },
     "execution_count": 4,
     "metadata": {},
     "output_type": "execute_result"
    }
   ],
   "source": [
    "data_hour_merge_24.columns"
   ]
  },
  {
   "cell_type": "markdown",
   "metadata": {},
   "source": [
    "Quedémonos sin WSR:"
   ]
  },
  {
   "cell_type": "code",
   "execution_count": 5,
   "metadata": {},
   "outputs": [],
   "source": [
    "data_hour_merge_24 = data_hour_merge_24[['CO', 'NO', 'NO2', 'NOX', 'O3', 'PM10', \"PM2.5\",'RH', 'SO2', 'TMP',\n",
    "       'WSP', 'dia', 'fecha', 'hora', 'id_station', 'mes',\"PM10mean\",\"PM25mean\"]].reset_index(drop=True)"
   ]
  },
  {
   "cell_type": "markdown",
   "metadata": {},
   "source": [
    "Hagamos una lista con todas las estaciones:"
   ]
  },
  {
   "cell_type": "markdown",
   "metadata": {},
   "source": [
    "### Arreglemos las fechas:"
   ]
  },
  {
   "cell_type": "code",
   "execution_count": 6,
   "metadata": {},
   "outputs": [],
   "source": [
    "data_hour_merge_24['dia'] = data_hour_merge_24['dia'].astype(str).astype(float)\n",
    "data_hour_merge_24['mes'] = data_hour_merge_24['mes'].astype(str).astype(float)"
   ]
  },
  {
   "cell_type": "markdown",
   "metadata": {},
   "source": [
    "Creemos un diccionario con __data_hour_merge_24__ dividido por estación:"
   ]
  },
  {
   "cell_type": "code",
   "execution_count": 7,
   "metadata": {},
   "outputs": [],
   "source": [
    "estaciones = data_hour_merge_24.id_station.unique().tolist()"
   ]
  },
  {
   "cell_type": "code",
   "execution_count": 8,
   "metadata": {},
   "outputs": [],
   "source": [
    "data_est = {}\n",
    "for elem in estaciones:\n",
    "    data_est[elem] = data_hour_merge_24[data_hour_merge_24.id_station == elem]"
   ]
  },
  {
   "cell_type": "markdown",
   "metadata": {},
   "source": [
    "# Leamos el archivo de correlaciones del PM10 mean"
   ]
  },
  {
   "cell_type": "markdown",
   "metadata": {},
   "source": [
    "Este archivo se generó en el notebook: __/home/paw/DanielBustillos/contaminación/correlaciones_pau/correlaciones_función_paulina.ipynb__"
   ]
  },
  {
   "cell_type": "code",
   "execution_count": 9,
   "metadata": {},
   "outputs": [],
   "source": [
    "target = \"O3_y\""
   ]
  },
  {
   "cell_type": "code",
   "execution_count": 10,
   "metadata": {},
   "outputs": [
    {
     "data": {
      "text/html": [
       "<div>\n",
       "<style scoped>\n",
       "    .dataframe tbody tr th:only-of-type {\n",
       "        vertical-align: middle;\n",
       "    }\n",
       "\n",
       "    .dataframe tbody tr th {\n",
       "        vertical-align: top;\n",
       "    }\n",
       "\n",
       "    .dataframe thead th {\n",
       "        text-align: right;\n",
       "    }\n",
       "</style>\n",
       "<table border=\"1\" class=\"dataframe\">\n",
       "  <thead>\n",
       "    <tr style=\"text-align: right;\">\n",
       "      <th></th>\n",
       "      <th>contaminante</th>\n",
       "      <th>valor</th>\n",
       "      <th>horas</th>\n",
       "    </tr>\n",
       "  </thead>\n",
       "  <tbody>\n",
       "    <tr>\n",
       "      <th>0</th>\n",
       "      <td>hora</td>\n",
       "      <td>0.330936</td>\n",
       "      <td>0.0</td>\n",
       "    </tr>\n",
       "    <tr>\n",
       "      <th>1</th>\n",
       "      <td>dia</td>\n",
       "      <td>-0.006618</td>\n",
       "      <td>0.0</td>\n",
       "    </tr>\n",
       "    <tr>\n",
       "      <th>2</th>\n",
       "      <td>mes</td>\n",
       "      <td>-0.185332</td>\n",
       "      <td>0.0</td>\n",
       "    </tr>\n",
       "    <tr>\n",
       "      <th>3</th>\n",
       "      <td>CO</td>\n",
       "      <td>-0.120668</td>\n",
       "      <td>0.0</td>\n",
       "    </tr>\n",
       "    <tr>\n",
       "      <th>4</th>\n",
       "      <td>NO</td>\n",
       "      <td>-0.317031</td>\n",
       "      <td>0.0</td>\n",
       "    </tr>\n",
       "  </tbody>\n",
       "</table>\n",
       "</div>"
      ],
      "text/plain": [
       "  contaminante     valor  horas\n",
       "0         hora  0.330936    0.0\n",
       "1          dia -0.006618    0.0\n",
       "2          mes -0.185332    0.0\n",
       "3           CO -0.120668    0.0\n",
       "4           NO -0.317031    0.0"
      ]
     },
     "execution_count": 10,
     "metadata": {},
     "output_type": "execute_result"
    }
   ],
   "source": [
    "O3_corr = pd.read_csv(\"/DATA/paw/jupyterhub_notebook/daniel.bustillos/DanielBustillos/contaminación/pipeline-norberto/correlacion/correlaciones_\"+target+\".csv\")\n",
    "O3_corr = O3_corr.iloc[:,1:]\n",
    "O3_corr.head(5)"
   ]
  },
  {
   "cell_type": "markdown",
   "metadata": {},
   "source": [
    "Vamos a quedarnos con las variables con corr>0.3:"
   ]
  },
  {
   "cell_type": "code",
   "execution_count": 11,
   "metadata": {},
   "outputs": [],
   "source": [
    "O3_corr_filtro = O3_corr[(O3_corr.valor>0.4) | (O3_corr.valor<-0.4) ].reset_index(drop=True)"
   ]
  },
  {
   "cell_type": "code",
   "execution_count": 12,
   "metadata": {},
   "outputs": [
    {
     "data": {
      "text/plain": [
       "(147, 3)"
      ]
     },
     "execution_count": 12,
     "metadata": {},
     "output_type": "execute_result"
    }
   ],
   "source": [
    "O3_corr_filtro.shape"
   ]
  },
  {
   "cell_type": "markdown",
   "metadata": {},
   "source": [
    "Vamos a aplicar el shift para cada elemento de la tabla __O3_corr__:"
   ]
  },
  {
   "cell_type": "code",
   "execution_count": 13,
   "metadata": {},
   "outputs": [],
   "source": [
    "def shit_corr(df):\n",
    "    for i in range(len(O3_corr_filtro)):\n",
    "        name_column = str( O3_corr_filtro.loc[i,\"contaminante\"] + \"_\" + str( O3_corr_filtro.loc[i,\"horas\"] ) ) \n",
    "        df[name_column] = df[O3_corr_filtro.loc[i,\"contaminante\"]].shift( - int(float(str(O3_corr_filtro.loc[i,\"horas\"]))) ) \n",
    "    return df.dropna()"
   ]
  },
  {
   "cell_type": "markdown",
   "metadata": {},
   "source": [
    "Aplicamos esta función para cada DF de cada estación:"
   ]
  },
  {
   "cell_type": "code",
   "execution_count": 14,
   "metadata": {},
   "outputs": [],
   "source": [
    "data_shift = {}\n",
    "for elem in data_est:\n",
    "    data_shift[elem] = shit_corr(data_est[elem])"
   ]
  },
  {
   "cell_type": "markdown",
   "metadata": {},
   "source": [
    "Creamos un Df vacío:"
   ]
  },
  {
   "cell_type": "code",
   "execution_count": 15,
   "metadata": {},
   "outputs": [],
   "source": [
    "df_append = pd.DataFrame(columns = data_est[\"MER\"].columns.tolist())"
   ]
  },
  {
   "cell_type": "code",
   "execution_count": 16,
   "metadata": {},
   "outputs": [],
   "source": [
    "for key in data_est:\n",
    "    df_append = df_append.append(data_est[key], ignore_index=True,sort=True)"
   ]
  },
  {
   "cell_type": "markdown",
   "metadata": {},
   "source": [
    "## Groupbys"
   ]
  },
  {
   "cell_type": "code",
   "execution_count": 17,
   "metadata": {},
   "outputs": [],
   "source": [
    "cols = df_append.columns.tolist()"
   ]
  },
  {
   "cell_type": "code",
   "execution_count": 18,
   "metadata": {},
   "outputs": [],
   "source": [
    "cols.remove(\"id_station\")"
   ]
  },
  {
   "cell_type": "markdown",
   "metadata": {},
   "source": [
    "Finalmente, aplicamos los groupbys:"
   ]
  },
  {
   "cell_type": "code",
   "execution_count": 19,
   "metadata": {},
   "outputs": [],
   "source": [
    "data_hour_merge_24_mean = df_append.groupby(['fecha',\"hora\",\"dia\",\"mes\"]).mean()\n",
    "data_hour_merge_24_mean.reset_index(inplace=True)"
   ]
  },
  {
   "cell_type": "code",
   "execution_count": 20,
   "metadata": {},
   "outputs": [],
   "source": [
    "data_hour_merge_24_max = df_append.groupby(['fecha',\"hora\",\"dia\",\"mes\"]).max()\n",
    "data_hour_merge_24_max.reset_index(inplace=True)"
   ]
  },
  {
   "cell_type": "code",
   "execution_count": 21,
   "metadata": {},
   "outputs": [],
   "source": [
    "data_hour_merge_24_min = df_append.groupby(['fecha',\"hora\",\"dia\",\"mes\"]).min()\n",
    "data_hour_merge_24_min.reset_index(inplace=True)"
   ]
  },
  {
   "cell_type": "markdown",
   "metadata": {},
   "source": [
    "### Arreglemos los nombres:"
   ]
  },
  {
   "cell_type": "code",
   "execution_count": 22,
   "metadata": {},
   "outputs": [],
   "source": [
    "max_columns = data_hour_merge_24_max.columns.tolist()\n",
    "min_columns = data_hour_merge_24_min.columns.tolist()\n",
    "mean_columns = data_hour_merge_24_mean.columns.tolist()"
   ]
  },
  {
   "cell_type": "code",
   "execution_count": 23,
   "metadata": {},
   "outputs": [],
   "source": [
    "for i in range(len(max_columns)):\n",
    "    if max_columns[i] not in ['fecha','hora','dia','mes','id_station']:\n",
    "        max_columns[i] = max_columns[i]+\"_max\"\n",
    "        min_columns[i] = min_columns[i]+\"_min\"    \n",
    "        mean_columns[i] = mean_columns[i]+\"_mean\""
   ]
  },
  {
   "cell_type": "code",
   "execution_count": 24,
   "metadata": {},
   "outputs": [],
   "source": [
    "data_hour_merge_24_mean.columns = mean_columns\n",
    "data_hour_merge_24_min.columns = min_columns\n",
    "data_hour_merge_24_max.columns = max_columns"
   ]
  },
  {
   "cell_type": "markdown",
   "metadata": {},
   "source": [
    "##### Unamos los df's de manera que tengamos en una solo los datos promedio, máximo y minimo por día:"
   ]
  },
  {
   "cell_type": "code",
   "execution_count": 25,
   "metadata": {},
   "outputs": [],
   "source": [
    "data_hour_merge = pd.merge(data_hour_merge_24_mean, data_hour_merge_24_max, on=['fecha',\"hora\",\"dia\",\"mes\"])\n",
    "data_hour_merge = pd.merge(data_hour_merge, data_hour_merge_24_min, on=['fecha',\"hora\",\"dia\",\"mes\"])"
   ]
  },
  {
   "cell_type": "code",
   "execution_count": 26,
   "metadata": {},
   "outputs": [],
   "source": [
    "data_hour_merge = data_hour_merge.sort_values(['fecha',\"hora\"], ascending=[0,1])"
   ]
  },
  {
   "cell_type": "markdown",
   "metadata": {},
   "source": [
    "## Leamos el archivo:"
   ]
  },
  {
   "cell_type": "markdown",
   "metadata": {},
   "source": [
    "## Correlacionados con el target."
   ]
  },
  {
   "cell_type": "markdown",
   "metadata": {},
   "source": [
    "Guardemos estas variables, no pueden cambiarse una vez que los modelos estan entrenados:"
   ]
  },
  {
   "cell_type": "markdown",
   "metadata": {},
   "source": [
    "Filtremos el DF con las variables mas correlacionadas:"
   ]
  },
  {
   "cell_type": "code",
   "execution_count": 27,
   "metadata": {},
   "outputs": [],
   "source": [
    "O3_corr = ['O3_25.0_mean',  'O3_22.0_mean',  'TMP_48.0_mean',  'RH_mean',  'O3_max',  'TMP_1.0_min',  \n",
    "           'O3_0.0_max',  'O3_44.0_min',  'O3_45.0_max',  'O3_21.0_min',  'hora_10.0_mean',  \n",
    "           'TMP_23.0_mean',  'RH_min',  'hora_13.0_mean',  'O3_0.0_mean',  'O3_44.0_max', \n",
    "           'RH_24.0_mean',  'hora_13.0_max',  'O3_20.0_mean',  'O3_0.0_min',  'RH_max', \n",
    "           'O3_24.0_mean',  'TMP_21.0_mean',  'O3_21.0_max',  'O3_mean',  'O3_22.0_min', \n",
    "           'RH_45.0_mean',  'TMP_max',  'O3_23.0_max',  'O3_2.0_mean',  'TMP_47.0_max', \n",
    "           'O3_47.0_max',  'O3_2.0_max',  'TMP_24.0_mean',  'TMP_23.0_max',  'RH_22.0_min', \n",
    "           'O3_3.0_max',  'O3_21.0_mean',  'O3_47.0_mean',  'hora_11.0_mean',  'TMP_0.0_max', \n",
    "           'RH_2.0_min',  'RH_21.0_mean',  'RH_21.0_min',  'hora_11.0_max',  'hora_12.0_min', \n",
    "           'O3_48.0_mean',  'RH_22.0_max',  'RH_25.0_mean',  'O3_1.0_min',  'O3_46.0_max', \n",
    "           'RH_0.0_mean',  'O3_25.0_max',  'O3_2.0_min',  'RH_45.0_min',  'RH_46.0_mean', \n",
    "           'TMP_25.0_mean',  'TMP_0.0_min',  'O3_1.0_max',  'RH_23.0_mean',  'hora_36.0_max', \n",
    "           'RH_22.0_mean',  'O3_24.0_max',  'TMP_0.0_mean',  'RH_1.0_max',  'TMP_22.0_mean',  \n",
    "           'WSP_mean',  'TMP_22.0_max',  'TMP_25.0_max',  'TMP_1.0_mean',  'O3_46.0_min', \n",
    "           'hora_12.0_max',  'hora_36.0_mean',  'O3_45.0_min',  'O3_46.0_mean',  'O3_1.0_mean', \n",
    "           'hora_34.0_mean',  'TMP_2.0_max',  'TMP_mean',  'TMP_1.0_max',  'TMP_3.0_max',  \n",
    "           'TMP_47.0_mean',  'RH_0.0_max',  'RH_46.0_min',  'TMP_44.0_mean',  'O3_min', \n",
    "           'TMP_45.0_mean',  'O3_22.0_max',  'TMP_24.0_max',  'O3_23.0_min',  'RH_0.0_min', \n",
    "           'RH_1.0_min',  'TMP_46.0_mean',  'O3_44.0_mean',  'hora_11.0_min',  'RH_23.0_min', \n",
    "           'RH_2.0_mean',  'TMP_21.0_max',  'RH_1.0_mean',  'TMP_46.0_max',  'RH_24.0_min',  \n",
    "           'O3_45.0_mean',  'TMP_2.0_mean',  'RH_47.0_mean',  'O3_24.0_min',  'hora_35.0_mean',  \n",
    "           'hora_12.0_mean',  'O3_20.0_min',  'O3_20.0_max',  'O3_23.0_mean',  'TMP_45.0_max', \n",
    "           'TMP_min',  'RH_44.0_mean',  'RH_mean_frcst_1',  'RH_mean_frcst_2',  'RH_mean_frcst_3', \n",
    "           'RH_mean_frcst_4',  'RH_mean_frcst_5',  'RH_mean_frcst_6',  'RH_mean_frcst_7',  \n",
    "           'RH_mean_frcst_8',  'RH_mean_frcst_9',  'RH_mean_frcst_10',  'RH_mean_frcst_11', \n",
    "           'RH_mean_frcst_12',  'RH_mean_frcst_13',  'RH_mean_frcst_14',  'RH_mean_frcst_15',  \n",
    "           'RH_mean_frcst_16',  'RH_mean_frcst_17',  'RH_mean_frcst_18',  'RH_mean_frcst_19', \n",
    "           'RH_mean_frcst_20',  'RH_mean_frcst_21',  'RH_mean_frcst_22',  'RH_mean_frcst_23',  \n",
    "           'RH_mean_frcst_24',  'WSP_mean_frcst_1',  'WSP_mean_frcst_2',  'WSP_mean_frcst_3', \n",
    "           'WSP_mean_frcst_4',  'WSP_mean_frcst_5',  'WSP_mean_frcst_6',  'WSP_mean_frcst_7',  \n",
    "           'WSP_mean_frcst_8',  'WSP_mean_frcst_9',  'WSP_mean_frcst_10',  'WSP_mean_frcst_11',\n",
    "           'WSP_mean_frcst_12',  'WSP_mean_frcst_13',  'WSP_mean_frcst_14',  'WSP_mean_frcst_15', \n",
    "           'WSP_mean_frcst_16',  'WSP_mean_frcst_17',  'WSP_mean_frcst_18',  'WSP_mean_frcst_19', \n",
    "           'WSP_mean_frcst_20',  'WSP_mean_frcst_21',  'WSP_mean_frcst_22',  'WSP_mean_frcst_23', \n",
    "           'WSP_mean_frcst_24',  'TMP_mean_frcst_1',  'TMP_mean_frcst_2',  'TMP_mean_frcst_3',\n",
    "           'TMP_mean_frcst_4',  'TMP_mean_frcst_5',  'TMP_mean_frcst_6',  'TMP_mean_frcst_7',  \n",
    "           'TMP_mean_frcst_8',  'TMP_mean_frcst_9',  'TMP_mean_frcst_10',  'TMP_mean_frcst_11', \n",
    "           'TMP_mean_frcst_12',  'TMP_mean_frcst_13',  'TMP_mean_frcst_14',  'TMP_mean_frcst_15',\n",
    "           'TMP_mean_frcst_16',  'TMP_mean_frcst_17',  'TMP_mean_frcst_18',  'TMP_mean_frcst_19',  \n",
    "           'TMP_mean_frcst_20',  'TMP_mean_frcst_21',  'TMP_mean_frcst_22',  'TMP_mean_frcst_23', \n",
    "           'TMP_mean_frcst_24']"
   ]
  },
  {
   "cell_type": "raw",
   "metadata": {},
   "source": [
    "O3_corr = [\"fecha\",'hora', 'NO_x', 'NOX_x', 'O3_x', 'O3_0_x', 'O3_1_x', 'O3_10_x', 'O3_11_x', 'O3_12_x', 'O3_13_x', \n",
    "           'O3_18_x', 'O3_2_x', 'O3_3_x', 'O3_8_x', 'O3_9_x', 'PM10_x', 'PM10mean_x', 'PM25mean_x', 'RH_x',\n",
    "           'TMP_x', 'TMP_0_x', 'TMP_1_x', 'TMP_10_x', 'TMP_11_x', 'TMP_12_x', 'TMP_13_x', 'TMP_14_x', \n",
    "           'TMP_2_x', 'TMP_3_x', 'TMP_4_x', 'TMP_9_x', 'WSP_x', 'NO_y', 'NOX_y', 'O3_y', 'O3_0_y', 'O3_1_y', \n",
    "           'O3_18_y', 'O3_2_y', 'O3_3_y', 'O3_4_y', 'PM10mean_y', 'PM25mean_y', 'RH_y', 'TMP_y', 'TMP_0_y',\n",
    "           'TMP_1_y', 'TMP_10_y', 'TMP_11_y', 'TMP_12_y', 'TMP_13_y', 'TMP_14_y', 'TMP_2_y', 'TMP_3_y', \n",
    "           'TMP_4_y', 'TMP_9_y', 'WSP_y', 'NO', 'O3', 'O3_0', 'O3_1', 'O3_10', 'O3_11', 'O3_12', 'O3_13', \n",
    "           'O3_18', 'O3_2', 'O3_3', 'O3_7', 'O3_8', 'O3_9', 'PM10', 'PM10mean', 'PM2.5_y', 'PM25mean', 'RH',\n",
    "           'TMP', 'TMP_0', 'TMP_1', 'TMP_10', 'TMP_11', 'TMP_12', 'TMP_13', 'TMP_14', 'TMP_2', 'TMP_3', 'TMP_9', 'WSP'] para modelos pasados"
   ]
  },
  {
   "cell_type": "markdown",
   "metadata": {},
   "source": [
    "Añadamos los datos de pronostico de las siguientes variables:"
   ]
  },
  {
   "cell_type": "code",
   "execution_count": 28,
   "metadata": {},
   "outputs": [],
   "source": [
    "lista_frcst = [\"RH_mean\",\"WSP_mean\",\"TMP_mean\"]"
   ]
  },
  {
   "cell_type": "code",
   "execution_count": 29,
   "metadata": {},
   "outputs": [],
   "source": [
    "for item in lista_frcst:\n",
    "    for i in range(1, 25):\n",
    "        col_name = str( item + \"_frcst_\" + str(i))\n",
    "        data_hour_merge[col_name] = data_hour_merge[item].shift(i)\n",
    "#data_hour_merge.dropna(inplace=True)"
   ]
  },
  {
   "cell_type": "raw",
   "metadata": {},
   "source": [
    "import datetime\n",
    "#inicio= 46 - datetime.datetime.now().hour + 1"
   ]
  },
  {
   "cell_type": "raw",
   "metadata": {},
   "source": [
    "#data_hour_merge = data_hour_merge.reset_index(drop=True).iloc[inicio:400,:].fillna(30)"
   ]
  },
  {
   "cell_type": "code",
   "execution_count": 30,
   "metadata": {},
   "outputs": [],
   "source": [
    "data_hour_merge = data_hour_merge.tail(-24)\n",
    "data_hour_merge = data_hour_merge.fillna(data_hour_merge.mean())"
   ]
  },
  {
   "cell_type": "code",
   "execution_count": 31,
   "metadata": {},
   "outputs": [],
   "source": [
    "data_hour_merge = data_hour_merge[O3_corr]"
   ]
  },
  {
   "cell_type": "markdown",
   "metadata": {},
   "source": [
    "Guardemos:"
   ]
  },
  {
   "cell_type": "code",
   "execution_count": 32,
   "metadata": {},
   "outputs": [],
   "source": [
    "data_hour_merge.to_csv(path_final,sep=',', encoding='utf-8',index=False)"
   ]
  },
  {
   "cell_type": "code",
   "execution_count": 40,
   "metadata": {},
   "outputs": [
    {
     "data": {
      "text/plain": [
       "(185,)"
      ]
     },
     "execution_count": 40,
     "metadata": {},
     "output_type": "execute_result"
    }
   ],
   "source": [
    "data_hour_merge.columns.shape"
   ]
  },
  {
   "cell_type": "code",
   "execution_count": null,
   "metadata": {},
   "outputs": [],
   "source": []
  }
 ],
 "metadata": {
  "kernelspec": {
   "display_name": "Python 3",
   "language": "python",
   "name": "python3"
  },
  "language_info": {
   "codemirror_mode": {
    "name": "ipython",
    "version": 3
   },
   "file_extension": ".py",
   "mimetype": "text/x-python",
   "name": "python",
   "nbconvert_exporter": "python",
   "pygments_lexer": "ipython3",
   "version": "3.7.3"
  }
 },
 "nbformat": 4,
 "nbformat_minor": 2
}
