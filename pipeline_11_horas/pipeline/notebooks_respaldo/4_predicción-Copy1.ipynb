{
 "cells": [
  {
   "cell_type": "code",
   "execution_count": 1,
   "metadata": {},
   "outputs": [],
   "source": [
    " import numpy as np\n",
    "import pandas as pd\n",
    "from sklearn import preprocessing\n",
    "from sklearn.preprocessing import StandardScaler\n",
    "import matplotlib.pyplot as plt\n",
    "import matplotlib\n",
    "global df_pred,pred_all\n",
    "from sklearn.externals import joblib"
   ]
  },
  {
   "cell_type": "code",
   "execution_count": 2,
   "metadata": {},
   "outputs": [],
   "source": [
    "def predictor_mean(model0_1,modelo_2,X_set):  \n",
    "    #aplicamos los predict\n",
    "    forecast_q = model0_1.predict(X_set) \n",
    "    forecast = modelo_2.predict(X_set)\n",
    "   #generamos una lista dummy: \n",
    "    forecast_mean = forecast \n",
    "    \n",
    "    for i in range(len(X_set)):\n",
    "        if  forecast[i] < 135:\n",
    "            forecast_mean[i] = forecast[i]\n",
    "        elif  forecast_q[i] > 160:\n",
    "            forecast_mean[i] = forecast_q[i]\n",
    "        if  130 < forecast_q[i] <155 and 130 < forecast[i] < 155:\n",
    "            forecast_mean[i] = (0.3*forecast_q[i] + 0.7*forecast[i])\n",
    "        if  140 < forecast_q[i] <160 and 140 < forecast[i] < 160:\n",
    "            forecast_mean[i] = (forecast_q[i] + forecast[i])/2\n",
    "    return forecast_mean"
   ]
  },
  {
   "cell_type": "code",
   "execution_count": 3,
   "metadata": {},
   "outputs": [],
   "source": [
    "target1 = \"PM10mean_y_frcst_\"\n",
    "conta1 = 'PM10'\n",
    "target2 = \"O3_y_frcst_\"\n",
    "conta2 = 'O3'\n",
    "target = \"O3_y_frcst_\"\n",
    "conta = 'O3'\n"
   ]
  },
  {
   "cell_type": "code",
   "execution_count": 4,
   "metadata": {},
   "outputs": [],
   "source": [
    "def prediccion(target,conta):\n",
    "\n",
    "    #cargamos el DF\n",
    "    df_predict = pd.read_csv('./datos/ingesta_modelos_'+ conta +'.csv') \n",
    "\n",
    "    df_fechas = df_predict[\"fecha\"]\n",
    "    df_predict.drop([\"fecha\"],inplace=True,axis=1)\n",
    "\n",
    "    \n",
    "    #cargamos los modelos\n",
    "    model = [0 for col in range(25)]\n",
    "    modelq = [0 for col in range(25)]\n",
    "    for i in range(0,24):\n",
    "        model[i] = joblib.load(str('/home/paw/DanielBustillos/contaminación/pipeline-norberto/modelos/'+conta+'/'+\n",
    "                                   conta+'_'+str(i+1)+'hora.pkl'))\n",
    "        modelq[i] = joblib.load(str('/home/paw/DanielBustillos/contaminación/pipeline-norberto/modelos/'+conta+'/'+\n",
    "                                    conta+'_'+str(i+1)+'hora_quantile.pkl'))\n",
    "        \n",
    "    #hacemos el predict\n",
    "\n",
    "    for i in range(0,24):\n",
    "        df_predict[target + str(i+1)] = predictor_mean(modelq[i],model[i],df_predict)\n",
    "\n",
    "        \n",
    "    \n",
    "    df_predict[target+'24'].head(1)\n",
    "    \n",
    "    pred = []\n",
    "    for i in range(1,25):\n",
    "        pred.append(df_predict[str(target+str(i))].head(1).values[0])\n",
    "\n",
    "    df_predict[\"fecha\"] = df_fechas\n",
    "\n",
    "    ## predict de las últimas 12 horas\n",
    "    df_predict_historico = df_predict[[\"fecha\",target+'2']].copy()\n",
    "\n",
    "    \n",
    "    if conta == \"PM10\":\n",
    "        df_predict_historico[\"fecha\"] = df_predict_historico[\"fecha\"].shift(0)\n",
    "    elif conta == \"O3\":\n",
    "        df_predict_historico[\"fecha\"] = df_predict_historico[\"fecha\"].shift(12)\n",
    "    else: print(\"ERROR\")\n",
    "        \n",
    "\n",
    "    df_predict_historico = df_predict_historico[[\"fecha\",target+'6']].dropna()#.iloc[12:,:]#.head(13)\n",
    "    df_predict_historico.rename(columns={target+'24': conta+'_pron_a_12hrs'}, inplace=True)\n",
    "    \n",
    "    \n",
    "    \n",
    "    #predict 12 horas\n",
    "    df_pred =  pd.DataFrame(columns=[\"pred_0\"])\n",
    "    for i in range(0,24):\n",
    "        df_pred[str(\"pred_\"+str(i))] = [pred[i]]\n",
    "\n",
    "    for i in range(0,24):\n",
    "        df_pred.loc[i,conta+'_pronóstico'] = df_pred.iloc[0,i]\n",
    "    for i in range(0,24):\n",
    "        df_pred.loc[i,'fecha'] = pd.date_range(df_fechas[0], periods=25, freq='H').tolist()[i+1]\n",
    "        df_pred = df_pred[[conta+\"_pronóstico\",\"fecha\"]]\n",
    "            \n",
    "    if conta == \"PM10\":\n",
    "        df_predict = df_predict[[\"fecha\",\"PM10\",\"PM10_y\",\"PM10_x\",\"PM10mean_y\"]]\n",
    "    elif conta == \"O3\":\n",
    "        df_predict = df_predict[[\"fecha\",'TMP_x','TMP_y',\n",
    "                                            'O3_y','O3','O3_x','RH','TMP']]\n",
    "    else: print(\"ERROR\")\n",
    "        \n",
    "        \n",
    "    df_pred['fecha'] = df_pred['fecha'].astype(str)\n",
    "    \n",
    "    \n",
    "    return  df_predict_historico,df_predict,df_pred"
   ]
  },
  {
   "cell_type": "markdown",
   "metadata": {},
   "source": [
    "Ejecutamos la función:"
   ]
  },
  {
   "cell_type": "code",
   "execution_count": 5,
   "metadata": {},
   "outputs": [
    {
     "ename": "FileNotFoundError",
     "evalue": "[Errno 2] File b'./datos/ingesta_modelos_PM10.csv' does not exist: b'./datos/ingesta_modelos_PM10.csv'",
     "output_type": "error",
     "traceback": [
      "\u001b[0;31m---------------------------------------------------------------------------\u001b[0m",
      "\u001b[0;31mFileNotFoundError\u001b[0m                         Traceback (most recent call last)",
      "\u001b[0;32m<ipython-input-5-730a0112011c>\u001b[0m in \u001b[0;36m<module>\u001b[0;34m\u001b[0m\n\u001b[1;32m      1\u001b[0m \u001b[0;31m#df_predict_historico_O3,df_predict_O3,df_pred_O3 = prediccion(target2,conta2)\u001b[0m\u001b[0;34m\u001b[0m\u001b[0;34m\u001b[0m\u001b[0;34m\u001b[0m\u001b[0m\n\u001b[0;32m----> 2\u001b[0;31m \u001b[0mdf_predict_historico_PM10\u001b[0m\u001b[0;34m,\u001b[0m\u001b[0mdf_predict_PM10\u001b[0m\u001b[0;34m,\u001b[0m\u001b[0mdf_pred_PM10\u001b[0m \u001b[0;34m=\u001b[0m \u001b[0mprediccion\u001b[0m\u001b[0;34m(\u001b[0m\u001b[0mtarget1\u001b[0m\u001b[0;34m,\u001b[0m\u001b[0mconta1\u001b[0m\u001b[0;34m)\u001b[0m\u001b[0;34m\u001b[0m\u001b[0;34m\u001b[0m\u001b[0m\n\u001b[0m",
      "\u001b[0;32m<ipython-input-4-baec9dcc30dd>\u001b[0m in \u001b[0;36mprediccion\u001b[0;34m(target, conta)\u001b[0m\n\u001b[1;32m      2\u001b[0m \u001b[0;34m\u001b[0m\u001b[0m\n\u001b[1;32m      3\u001b[0m     \u001b[0;31m#cargamos el DF\u001b[0m\u001b[0;34m\u001b[0m\u001b[0;34m\u001b[0m\u001b[0;34m\u001b[0m\u001b[0m\n\u001b[0;32m----> 4\u001b[0;31m     \u001b[0mdf_predict\u001b[0m \u001b[0;34m=\u001b[0m \u001b[0mpd\u001b[0m\u001b[0;34m.\u001b[0m\u001b[0mread_csv\u001b[0m\u001b[0;34m(\u001b[0m\u001b[0;34m'./datos/ingesta_modelos_'\u001b[0m\u001b[0;34m+\u001b[0m \u001b[0mconta\u001b[0m \u001b[0;34m+\u001b[0m\u001b[0;34m'.csv'\u001b[0m\u001b[0;34m)\u001b[0m\u001b[0;34m\u001b[0m\u001b[0;34m\u001b[0m\u001b[0m\n\u001b[0m\u001b[1;32m      5\u001b[0m \u001b[0;34m\u001b[0m\u001b[0m\n\u001b[1;32m      6\u001b[0m     \u001b[0mdf_fechas\u001b[0m \u001b[0;34m=\u001b[0m \u001b[0mdf_predict\u001b[0m\u001b[0;34m[\u001b[0m\u001b[0;34m\"fecha\"\u001b[0m\u001b[0;34m]\u001b[0m\u001b[0;34m\u001b[0m\u001b[0;34m\u001b[0m\u001b[0m\n",
      "\u001b[0;32m/home/paw/software/python/anaconda3/lib/python3.7/site-packages/pandas/io/parsers.py\u001b[0m in \u001b[0;36mparser_f\u001b[0;34m(filepath_or_buffer, sep, delimiter, header, names, index_col, usecols, squeeze, prefix, mangle_dupe_cols, dtype, engine, converters, true_values, false_values, skipinitialspace, skiprows, skipfooter, nrows, na_values, keep_default_na, na_filter, verbose, skip_blank_lines, parse_dates, infer_datetime_format, keep_date_col, date_parser, dayfirst, iterator, chunksize, compression, thousands, decimal, lineterminator, quotechar, quoting, doublequote, escapechar, comment, encoding, dialect, tupleize_cols, error_bad_lines, warn_bad_lines, delim_whitespace, low_memory, memory_map, float_precision)\u001b[0m\n\u001b[1;32m    700\u001b[0m                     skip_blank_lines=skip_blank_lines)\n\u001b[1;32m    701\u001b[0m \u001b[0;34m\u001b[0m\u001b[0m\n\u001b[0;32m--> 702\u001b[0;31m         \u001b[0;32mreturn\u001b[0m \u001b[0m_read\u001b[0m\u001b[0;34m(\u001b[0m\u001b[0mfilepath_or_buffer\u001b[0m\u001b[0;34m,\u001b[0m \u001b[0mkwds\u001b[0m\u001b[0;34m)\u001b[0m\u001b[0;34m\u001b[0m\u001b[0;34m\u001b[0m\u001b[0m\n\u001b[0m\u001b[1;32m    703\u001b[0m \u001b[0;34m\u001b[0m\u001b[0m\n\u001b[1;32m    704\u001b[0m     \u001b[0mparser_f\u001b[0m\u001b[0;34m.\u001b[0m\u001b[0m__name__\u001b[0m \u001b[0;34m=\u001b[0m \u001b[0mname\u001b[0m\u001b[0;34m\u001b[0m\u001b[0;34m\u001b[0m\u001b[0m\n",
      "\u001b[0;32m/home/paw/software/python/anaconda3/lib/python3.7/site-packages/pandas/io/parsers.py\u001b[0m in \u001b[0;36m_read\u001b[0;34m(filepath_or_buffer, kwds)\u001b[0m\n\u001b[1;32m    427\u001b[0m \u001b[0;34m\u001b[0m\u001b[0m\n\u001b[1;32m    428\u001b[0m     \u001b[0;31m# Create the parser.\u001b[0m\u001b[0;34m\u001b[0m\u001b[0;34m\u001b[0m\u001b[0;34m\u001b[0m\u001b[0m\n\u001b[0;32m--> 429\u001b[0;31m     \u001b[0mparser\u001b[0m \u001b[0;34m=\u001b[0m \u001b[0mTextFileReader\u001b[0m\u001b[0;34m(\u001b[0m\u001b[0mfilepath_or_buffer\u001b[0m\u001b[0;34m,\u001b[0m \u001b[0;34m**\u001b[0m\u001b[0mkwds\u001b[0m\u001b[0;34m)\u001b[0m\u001b[0;34m\u001b[0m\u001b[0;34m\u001b[0m\u001b[0m\n\u001b[0m\u001b[1;32m    430\u001b[0m \u001b[0;34m\u001b[0m\u001b[0m\n\u001b[1;32m    431\u001b[0m     \u001b[0;32mif\u001b[0m \u001b[0mchunksize\u001b[0m \u001b[0;32mor\u001b[0m \u001b[0miterator\u001b[0m\u001b[0;34m:\u001b[0m\u001b[0;34m\u001b[0m\u001b[0;34m\u001b[0m\u001b[0m\n",
      "\u001b[0;32m/home/paw/software/python/anaconda3/lib/python3.7/site-packages/pandas/io/parsers.py\u001b[0m in \u001b[0;36m__init__\u001b[0;34m(self, f, engine, **kwds)\u001b[0m\n\u001b[1;32m    893\u001b[0m             \u001b[0mself\u001b[0m\u001b[0;34m.\u001b[0m\u001b[0moptions\u001b[0m\u001b[0;34m[\u001b[0m\u001b[0;34m'has_index_names'\u001b[0m\u001b[0;34m]\u001b[0m \u001b[0;34m=\u001b[0m \u001b[0mkwds\u001b[0m\u001b[0;34m[\u001b[0m\u001b[0;34m'has_index_names'\u001b[0m\u001b[0;34m]\u001b[0m\u001b[0;34m\u001b[0m\u001b[0;34m\u001b[0m\u001b[0m\n\u001b[1;32m    894\u001b[0m \u001b[0;34m\u001b[0m\u001b[0m\n\u001b[0;32m--> 895\u001b[0;31m         \u001b[0mself\u001b[0m\u001b[0;34m.\u001b[0m\u001b[0m_make_engine\u001b[0m\u001b[0;34m(\u001b[0m\u001b[0mself\u001b[0m\u001b[0;34m.\u001b[0m\u001b[0mengine\u001b[0m\u001b[0;34m)\u001b[0m\u001b[0;34m\u001b[0m\u001b[0;34m\u001b[0m\u001b[0m\n\u001b[0m\u001b[1;32m    896\u001b[0m \u001b[0;34m\u001b[0m\u001b[0m\n\u001b[1;32m    897\u001b[0m     \u001b[0;32mdef\u001b[0m \u001b[0mclose\u001b[0m\u001b[0;34m(\u001b[0m\u001b[0mself\u001b[0m\u001b[0;34m)\u001b[0m\u001b[0;34m:\u001b[0m\u001b[0;34m\u001b[0m\u001b[0;34m\u001b[0m\u001b[0m\n",
      "\u001b[0;32m/home/paw/software/python/anaconda3/lib/python3.7/site-packages/pandas/io/parsers.py\u001b[0m in \u001b[0;36m_make_engine\u001b[0;34m(self, engine)\u001b[0m\n\u001b[1;32m   1120\u001b[0m     \u001b[0;32mdef\u001b[0m \u001b[0m_make_engine\u001b[0m\u001b[0;34m(\u001b[0m\u001b[0mself\u001b[0m\u001b[0;34m,\u001b[0m \u001b[0mengine\u001b[0m\u001b[0;34m=\u001b[0m\u001b[0;34m'c'\u001b[0m\u001b[0;34m)\u001b[0m\u001b[0;34m:\u001b[0m\u001b[0;34m\u001b[0m\u001b[0;34m\u001b[0m\u001b[0m\n\u001b[1;32m   1121\u001b[0m         \u001b[0;32mif\u001b[0m \u001b[0mengine\u001b[0m \u001b[0;34m==\u001b[0m \u001b[0;34m'c'\u001b[0m\u001b[0;34m:\u001b[0m\u001b[0;34m\u001b[0m\u001b[0;34m\u001b[0m\u001b[0m\n\u001b[0;32m-> 1122\u001b[0;31m             \u001b[0mself\u001b[0m\u001b[0;34m.\u001b[0m\u001b[0m_engine\u001b[0m \u001b[0;34m=\u001b[0m \u001b[0mCParserWrapper\u001b[0m\u001b[0;34m(\u001b[0m\u001b[0mself\u001b[0m\u001b[0;34m.\u001b[0m\u001b[0mf\u001b[0m\u001b[0;34m,\u001b[0m \u001b[0;34m**\u001b[0m\u001b[0mself\u001b[0m\u001b[0;34m.\u001b[0m\u001b[0moptions\u001b[0m\u001b[0;34m)\u001b[0m\u001b[0;34m\u001b[0m\u001b[0;34m\u001b[0m\u001b[0m\n\u001b[0m\u001b[1;32m   1123\u001b[0m         \u001b[0;32melse\u001b[0m\u001b[0;34m:\u001b[0m\u001b[0;34m\u001b[0m\u001b[0;34m\u001b[0m\u001b[0m\n\u001b[1;32m   1124\u001b[0m             \u001b[0;32mif\u001b[0m \u001b[0mengine\u001b[0m \u001b[0;34m==\u001b[0m \u001b[0;34m'python'\u001b[0m\u001b[0;34m:\u001b[0m\u001b[0;34m\u001b[0m\u001b[0;34m\u001b[0m\u001b[0m\n",
      "\u001b[0;32m/home/paw/software/python/anaconda3/lib/python3.7/site-packages/pandas/io/parsers.py\u001b[0m in \u001b[0;36m__init__\u001b[0;34m(self, src, **kwds)\u001b[0m\n\u001b[1;32m   1851\u001b[0m         \u001b[0mkwds\u001b[0m\u001b[0;34m[\u001b[0m\u001b[0;34m'usecols'\u001b[0m\u001b[0;34m]\u001b[0m \u001b[0;34m=\u001b[0m \u001b[0mself\u001b[0m\u001b[0;34m.\u001b[0m\u001b[0musecols\u001b[0m\u001b[0;34m\u001b[0m\u001b[0;34m\u001b[0m\u001b[0m\n\u001b[1;32m   1852\u001b[0m \u001b[0;34m\u001b[0m\u001b[0m\n\u001b[0;32m-> 1853\u001b[0;31m         \u001b[0mself\u001b[0m\u001b[0;34m.\u001b[0m\u001b[0m_reader\u001b[0m \u001b[0;34m=\u001b[0m \u001b[0mparsers\u001b[0m\u001b[0;34m.\u001b[0m\u001b[0mTextReader\u001b[0m\u001b[0;34m(\u001b[0m\u001b[0msrc\u001b[0m\u001b[0;34m,\u001b[0m \u001b[0;34m**\u001b[0m\u001b[0mkwds\u001b[0m\u001b[0;34m)\u001b[0m\u001b[0;34m\u001b[0m\u001b[0;34m\u001b[0m\u001b[0m\n\u001b[0m\u001b[1;32m   1854\u001b[0m         \u001b[0mself\u001b[0m\u001b[0;34m.\u001b[0m\u001b[0munnamed_cols\u001b[0m \u001b[0;34m=\u001b[0m \u001b[0mself\u001b[0m\u001b[0;34m.\u001b[0m\u001b[0m_reader\u001b[0m\u001b[0;34m.\u001b[0m\u001b[0munnamed_cols\u001b[0m\u001b[0;34m\u001b[0m\u001b[0;34m\u001b[0m\u001b[0m\n\u001b[1;32m   1855\u001b[0m \u001b[0;34m\u001b[0m\u001b[0m\n",
      "\u001b[0;32mpandas/_libs/parsers.pyx\u001b[0m in \u001b[0;36mpandas._libs.parsers.TextReader.__cinit__\u001b[0;34m()\u001b[0m\n",
      "\u001b[0;32mpandas/_libs/parsers.pyx\u001b[0m in \u001b[0;36mpandas._libs.parsers.TextReader._setup_parser_source\u001b[0;34m()\u001b[0m\n",
      "\u001b[0;31mFileNotFoundError\u001b[0m: [Errno 2] File b'./datos/ingesta_modelos_PM10.csv' does not exist: b'./datos/ingesta_modelos_PM10.csv'"
     ]
    }
   ],
   "source": [
    "#df_predict_historico_O3,df_predict_O3,df_pred_O3 = prediccion(target2,conta2)\n",
    "df_predict_historico_PM10,df_predict_PM10,df_pred_PM10 = prediccion(target1,conta1)"
   ]
  },
  {
   "cell_type": "code",
   "execution_count": null,
   "metadata": {},
   "outputs": [],
   "source": [
    "df_pred_O3.head(24)"
   ]
  },
  {
   "cell_type": "code",
   "execution_count": null,
   "metadata": {},
   "outputs": [],
   "source": [
    "df_export = pd.concat([df_predict_O3.set_index('fecha'),df_predict_PM10.set_index('fecha')], axis=1, join='inner').reset_index()"
   ]
  },
  {
   "cell_type": "code",
   "execution_count": null,
   "metadata": {},
   "outputs": [],
   "source": [
    "df_export.head(5)"
   ]
  },
  {
   "cell_type": "code",
   "execution_count": null,
   "metadata": {},
   "outputs": [],
   "source": [
    "df_pron_hist = pd.concat([df_predict_historico_O3.set_index('fecha'),df_predict_historico_PM10.set_index('fecha')], axis=1, join='inner').reset_index()"
   ]
  },
  {
   "cell_type": "code",
   "execution_count": null,
   "metadata": {},
   "outputs": [],
   "source": [
    "df_export = pd.merge(df_pron_hist, df_export, on='fecha',how=\"inner\")"
   ]
  },
  {
   "cell_type": "raw",
   "metadata": {},
   "source": [
    "df_export = pd.merge(df_predict_export, df_predict_historico, on='fecha',how=\"left\")\n",
    "df_export['fecha'] = df_export['fecha'].astype(str)"
   ]
  },
  {
   "cell_type": "code",
   "execution_count": null,
   "metadata": {},
   "outputs": [],
   "source": [
    "df_pronosticados = pd.concat([df_pred_O3.set_index('fecha'),df_pred_PM10.set_index('fecha')], axis=1, join='inner').reset_index()"
   ]
  },
  {
   "cell_type": "code",
   "execution_count": null,
   "metadata": {},
   "outputs": [],
   "source": [
    "#df_export =\n",
    "df_export = pd.merge(df_pronosticados, df_export, on='fecha',how=\"outer\")"
   ]
  },
  {
   "cell_type": "markdown",
   "metadata": {},
   "source": [
    "Unimos los DF:"
   ]
  },
  {
   "cell_type": "code",
   "execution_count": null,
   "metadata": {},
   "outputs": [],
   "source": [
    "df_export['fecha'] =  pd.to_datetime(df_export['fecha'], format='%Y-%m-%d %H:%M')\n",
    "df_export.PM10mean_y_frcst_12 = df_export.PM10mean_y_frcst_12-10\n",
    "df_export.loc[23,\"O3_pronóstico\"] = df_export.loc[23,\"O3_y_frcst_12\"]\n",
    "df_export.loc[23,\"PM10_pronóstico\"] = df_export.loc[23,\"PM10mean_y_frcst_12\"]\n",
    "df_export.PM10_pronóstico = df_export.PM10_pronóstico"
   ]
  },
  {
   "cell_type": "code",
   "execution_count": null,
   "metadata": {},
   "outputs": [],
   "source": [
    "df_export.to_csv(\"./datos/datos_pau.csv\",sep=',', encoding='utf-8',index=False)"
   ]
  },
  {
   "cell_type": "raw",
   "metadata": {},
   "source": [
    "df_export.head(1)"
   ]
  },
  {
   "cell_type": "code",
   "execution_count": null,
   "metadata": {},
   "outputs": [],
   "source": []
  },
  {
   "cell_type": "code",
   "execution_count": null,
   "metadata": {},
   "outputs": [],
   "source": []
  },
  {
   "cell_type": "code",
   "execution_count": null,
   "metadata": {},
   "outputs": [],
   "source": [
    "fig = plt.figure(num=None, figsize=(8, 6), dpi=80, facecolor='w', edgecolor='k')\n",
    "ax = fig.gca()\n",
    "\n",
    "# df_export.tail(60).head(50).plot(x=\"fecha\", y=[ \"O3_y\"],ax=ax,label=[\"O3 Medido\"],color=\"dodgerblue\")\n",
    "# df_export.tail(60).head(100).plot(x=\"fecha\", y=[\"O3_y_frcst_6\"],ax=ax,label=[\"Pronóstico O3 a 12 horas\"],color='darkblue',dashes=[6, 2])\n",
    "\n",
    "df_export.plot(x=\"fecha\", y=[ \"PM10mean_y\"],ax=ax,label=[\"PM10 mean Medido\"],color=\"saddlebrown\")\n",
    "df_export.plot(x=\"fecha\", y=[ \"PM10_pronóstico\"],ax=ax,label=[\"PM10 pronostico\"],color=\"blue\")\n",
    "df_export.plot(x=\"fecha\", y=[\"PM10mean_y_frcst_12\"],ax=ax,label=[\"Pronóstico PM10 a 12 horas\"],color='maroon',dashes=[6, 2])\n",
    "\n",
    "plt.ylabel(\"O3[mg/m3]\")\n",
    "plt.title(\"Comparación del Modelo\")\n",
    "\n",
    "\n",
    "# And a corresponding grid\n",
    "ax.grid(which='both')\n",
    "\n",
    "# Or if you want different settings for the grids:\n",
    "ax.grid(which='minor', alpha=0.01)\n",
    "ax.grid(which='major', alpha=0.3)\n",
    "\n",
    "# plt.savefig('/home/paw/DanielBustillos/contaminación/imagenes/o3_comparacion.png', bbox_inches='tight'\n",
    "#             , dpi=400)\n",
    "plt.legend()\n",
    "plt.show()"
   ]
  },
  {
   "cell_type": "code",
   "execution_count": null,
   "metadata": {},
   "outputs": [],
   "source": [
    "fig = plt.figure(num=None, figsize=(8, 6), dpi=80, facecolor='w', edgecolor='k')\n",
    "ax = fig.gca()\n",
    "\n",
    "# df_export.tail(60).head(50).plot(x=\"fecha\", y=[ \"O3_y\"],ax=ax,label=[\"O3 Medido\"],color=\"dodgerblue\")\n",
    "# df_export.tail(60).head(100).plot(x=\"fecha\", y=[\"O3_y_frcst_6\"],ax=ax,label=[\"Pronóstico O3 a 12 horas\"],color='darkblue',dashes=[6, 2])\n",
    "\n",
    "df_export.plot(x=\"fecha\", y=[ \"O3_y\"],ax=ax,label=[\"O3 Medido\"],color=\"royalblue\")\n",
    "df_export.plot(x=\"fecha\", y=[ \"O3_pronóstico\"],ax=ax,label=[\"O3 pronostico\"],color=\"blue\",dashes=[6, 2])\n",
    "df_export.plot(x=\"fecha\", y=[\"O3_y_frcst_12\"],ax=ax,label=[\"Pronóstico O3 a 12 horas\"],color='darkblue')\n",
    "\n",
    "plt.ylabel(\"O3[mg/m3]\")\n",
    "plt.title(\"Comparación del Modelo\")\n",
    "\n",
    "\n",
    "# And a corresponding grid\n",
    "ax.grid(which='both')\n",
    "\n",
    "# Or if you want different settings for the grids:\n",
    "ax.grid(which='minor', alpha=0.01)\n",
    "ax.grid(which='major', alpha=0.3)\n",
    "\n",
    "# plt.savefig('/home/paw/DanielBustillos/contaminación/imagenes/o3_comparacion.png', bbox_inches='tight'\n",
    "#             , dpi=400)\n",
    "plt.legend()\n",
    "plt.show()"
   ]
  },
  {
   "cell_type": "code",
   "execution_count": null,
   "metadata": {},
   "outputs": [],
   "source": []
  },
  {
   "cell_type": "code",
   "execution_count": null,
   "metadata": {},
   "outputs": [],
   "source": []
  },
  {
   "cell_type": "code",
   "execution_count": null,
   "metadata": {},
   "outputs": [],
   "source": []
  },
  {
   "cell_type": "code",
   "execution_count": null,
   "metadata": {},
   "outputs": [],
   "source": []
  }
 ],
 "metadata": {
  "kernelspec": {
   "display_name": "Python 3",
   "language": "python",
   "name": "python3"
  },
  "language_info": {
   "codemirror_mode": {
    "name": "ipython",
    "version": 3
   },
   "file_extension": ".py",
   "mimetype": "text/x-python",
   "name": "python",
   "nbconvert_exporter": "python",
   "pygments_lexer": "ipython3",
   "version": "3.7.3"
  }
 },
 "nbformat": 4,
 "nbformat_minor": 2
}
