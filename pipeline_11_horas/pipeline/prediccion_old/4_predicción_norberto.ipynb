{
 "cells": [
  {
   "cell_type": "code",
   "execution_count": 1,
   "metadata": {},
   "outputs": [],
   "source": [
    "import numpy as np\n",
    "import pandas as pd\n",
    "from sklearn import preprocessing\n",
    "from sklearn.preprocessing import StandardScaler\n",
    "import matplotlib.pyplot as plt\n",
    "import matplotlib\n",
    "global df_pred,pred_all\n",
    "from sklearn.externals import joblib\n",
    "\n",
    "import sys\n",
    "import warnings\n",
    "pd.options.mode.chained_assignment = None \n",
    "from datetime import datetime\n"
   ]
  },
  {
   "cell_type": "code",
   "execution_count": 2,
   "metadata": {},
   "outputs": [],
   "source": [
    "def predictor_mean(model0_1,modelo_2,X_set):  \n",
    "    #aplicamos los predict\n",
    "    forecast_q = model0_1.predict(X_set) \n",
    "    forecast = modelo_2.predict(X_set)\n",
    "   #generamos una lista dummy: \n",
    "    forecast_mean = forecast \n",
    "    \n",
    "    for i in range(len(X_set)):\n",
    "        if  forecast[i] < 135:\n",
    "            forecast_mean[i] = forecast[i]\n",
    "        elif  forecast_q[i] > 160:\n",
    "            forecast_mean[i] = forecast_q[i]\n",
    "        if  130 < forecast_q[i] <155 and 130 < forecast[i] < 155:\n",
    "            forecast_mean[i] = (0.3*forecast_q[i] + 0.7*forecast[i])\n",
    "        if  140 < forecast_q[i] <160 and 140 < forecast[i] < 160:\n",
    "            forecast_mean[i] = (forecast_q[i] + forecast[i])/2\n",
    "    return forecast_mean"
   ]
  },
  {
   "cell_type": "code",
   "execution_count": 3,
   "metadata": {},
   "outputs": [],
   "source": [
    "dirección_modelos = str(\"/DATA/paw/jupyterhub_notebook/daniel.bustillos/DanielBustillos/contaminación\"+\n",
    "                        \"/pipeline-norberto/pipeline_pau/modelos/\")\n",
    "path_final = str(\"./datos/pronóstico_contaminación.csv\")\n",
    "path_inicial = \"./datos/ingesta_modelos_\""
   ]
  },
  {
   "cell_type": "code",
   "execution_count": 4,
   "metadata": {},
   "outputs": [],
   "source": [
    "target1 = \"PM10mean_y_frcst_\"\n",
    "conta1 = 'PM10'\n",
    "target2 = \"O3_y_frcst_\"\n",
    "conta2 = 'O3'\n",
    "target = \"O3_y_frcst_\"\n",
    "conta = 'O3'"
   ]
  },
  {
   "cell_type": "code",
   "execution_count": 5,
   "metadata": {},
   "outputs": [],
   "source": [
    "def prediccion(target,conta):\n",
    "\n",
    "    #cargamos el DF\n",
    "    df_predict = pd.read_csv(path_inicial + conta +'.csv')\n",
    "\n",
    "    df_fechas = df_predict[\"fecha\"]\n",
    "    df_predict.drop([\"fecha\"],inplace=True,axis=1)\n",
    "\n",
    "    \n",
    "    #cargamos los modelos\n",
    "    model = [0 for col in range(25)]\n",
    "    modelq = [0 for col in range(25)]\n",
    "    for i in range(0,24):\n",
    "        model[i] = joblib.load(str(dirección_modelos + conta +'/' + conta+'_'+str(i+1)+'hora.pkl'))\n",
    "        #modelq[i] = joblib.load(str(dirección_modelos + conta + '/' + conta+'_'+str(i+1)+'hora_quantile.pkl'))\n",
    "        \n",
    "    #hacemos el predict\n",
    "    df_pronosticados = df_predict.copy()\n",
    "\n",
    "    for i in range(0,24):\n",
    "        df_pronosticados[target + str(i+1)] = model[i].predict(df_predict)\n",
    "        \n",
    "    pred = []\n",
    "    for i in range(1,25):\n",
    "        pred.append(df_pronosticados[str(target+str(i))].head(1).values[0])\n",
    "\n",
    "    df_pronosticados[\"fecha\"] = df_fechas\n",
    "\n",
    "    ## predict de las últimas 12 horas\n",
    "    df_predict_historico = df_pronosticados[[\"fecha\",target+'12']].copy()\n",
    "\n",
    "    \n",
    "    if conta == \"PM10\":\n",
    "        df_predict_historico[\"fecha\"] = df_predict_historico[\"fecha\"].shift(12)\n",
    "    elif conta == \"O3\":\n",
    "        df_predict_historico[\"fecha\"] = df_predict_historico[\"fecha\"].shift(12)\n",
    "    else: print(\"ERROR\")\n",
    "        \n",
    "\n",
    "    df_predict_historico = df_predict_historico[[\"fecha\",target+'12']].dropna()#.iloc[12:,:]#.head(13)\n",
    "    df_predict_historico.rename(columns={target+'12': conta+'_pron_a_12hrs'}, inplace=True)\n",
    "    \n",
    "    \n",
    "    \n",
    "    #predict 12 horas\n",
    "    df_pred =  pd.DataFrame(columns=[\"pred_0\"])\n",
    "    for i in range(0,24):\n",
    "        df_pred[str(\"pred_\"+str(i))] = [pred[i]]\n",
    "\n",
    "    for i in range(0,24):\n",
    "        df_pred.loc[i,conta+'_pronóstico'] = df_pred.iloc[0,i]\n",
    "    for i in range(0,24):\n",
    "        df_pred.loc[i,'fecha'] = pd.date_range(df_fechas[0], periods=25, freq='H').tolist()[i+1]\n",
    "        df_pred = df_pred[[conta+\"_pronóstico\",\"fecha\"]]\n",
    "            \n",
    "    if conta == \"PM10\":\n",
    "        df_predict = df_pronosticados[[\"fecha\",\"PM10mean_mean\",\"PM10_max\",\"PM10_mean\",\"PM10mean_max\"]]\n",
    "    elif conta == \"O3\":\n",
    "        df_predict = df_pronosticados[[\"fecha\",'TMP_min','TMP_max',\n",
    "                                            'O3_max','O3_mean','O3_min','TMP_mean']]\n",
    "    else: print(\"ERROR\")\n",
    "        \n",
    "        \n",
    "    df_pred['fecha'] = df_pred['fecha'].astype(str)\n",
    "    \n",
    "    \n",
    "    return  df_predict_historico,df_predict,df_pred"
   ]
  },
  {
   "cell_type": "markdown",
   "metadata": {},
   "source": [
    "Ejecutamos la función:"
   ]
  },
  {
   "cell_type": "code",
   "execution_count": 6,
   "metadata": {},
   "outputs": [
    {
     "name": "stdout",
     "output_type": "stream",
     "text": [
      "[22:25:29] WARNING: /workspace/src/objective/regression_obj.cu:152: reg:linear is now deprecated in favor of reg:squarederror.\n",
      "[22:25:29] WARNING: /workspace/src/objective/regression_obj.cu:152: reg:linear is now deprecated in favor of reg:squarederror.\n",
      "[22:25:29] WARNING: /workspace/src/objective/regression_obj.cu:152: reg:linear is now deprecated in favor of reg:squarederror.\n",
      "[22:25:29] WARNING: /workspace/src/objective/regression_obj.cu:152: reg:linear is now deprecated in favor of reg:squarederror.\n",
      "[22:25:29] WARNING: /workspace/src/objective/regression_obj.cu:152: reg:linear is now deprecated in favor of reg:squarederror.\n",
      "[22:25:29] WARNING: /workspace/src/objective/regression_obj.cu:152: reg:linear is now deprecated in favor of reg:squarederror.\n",
      "[22:25:29] WARNING: /workspace/src/objective/regression_obj.cu:152: reg:linear is now deprecated in favor of reg:squarederror.\n",
      "[22:25:30] WARNING: /workspace/src/objective/regression_obj.cu:152: reg:linear is now deprecated in favor of reg:squarederror.\n",
      "[22:25:30] WARNING: /workspace/src/objective/regression_obj.cu:152: reg:linear is now deprecated in favor of reg:squarederror.\n",
      "[22:25:30] WARNING: /workspace/src/objective/regression_obj.cu:152: reg:linear is now deprecated in favor of reg:squarederror.\n",
      "[22:25:30] WARNING: /workspace/src/objective/regression_obj.cu:152: reg:linear is now deprecated in favor of reg:squarederror.\n",
      "[22:25:30] WARNING: /workspace/src/objective/regression_obj.cu:152: reg:linear is now deprecated in favor of reg:squarederror.\n",
      "[22:25:30] WARNING: /workspace/src/objective/regression_obj.cu:152: reg:linear is now deprecated in favor of reg:squarederror.\n",
      "[22:25:30] WARNING: /workspace/src/objective/regression_obj.cu:152: reg:linear is now deprecated in favor of reg:squarederror.\n",
      "[22:25:30] WARNING: /workspace/src/objective/regression_obj.cu:152: reg:linear is now deprecated in favor of reg:squarederror.\n",
      "[22:25:30] WARNING: /workspace/src/objective/regression_obj.cu:152: reg:linear is now deprecated in favor of reg:squarederror.\n",
      "[22:25:30] WARNING: /workspace/src/objective/regression_obj.cu:152: reg:linear is now deprecated in favor of reg:squarederror.\n",
      "[22:25:30] WARNING: /workspace/src/objective/regression_obj.cu:152: reg:linear is now deprecated in favor of reg:squarederror.\n",
      "[22:25:31] WARNING: /workspace/src/objective/regression_obj.cu:152: reg:linear is now deprecated in favor of reg:squarederror.\n",
      "[22:25:31] WARNING: /workspace/src/objective/regression_obj.cu:152: reg:linear is now deprecated in favor of reg:squarederror.\n",
      "[22:25:31] WARNING: /workspace/src/objective/regression_obj.cu:152: reg:linear is now deprecated in favor of reg:squarederror.\n",
      "[22:25:31] WARNING: /workspace/src/objective/regression_obj.cu:152: reg:linear is now deprecated in favor of reg:squarederror.\n",
      "[22:25:31] WARNING: /workspace/src/objective/regression_obj.cu:152: reg:linear is now deprecated in favor of reg:squarederror.\n",
      "[22:25:31] WARNING: /workspace/src/objective/regression_obj.cu:152: reg:linear is now deprecated in favor of reg:squarederror.\n"
     ]
    },
    {
     "ename": "ValueError",
     "evalue": "feature_names mismatch: ['NOX_7.0_mean', 'O3_48.0_mean', 'O3_max', 'TMP_24.0_mean', 'O3_45.0_max', 'O3_25.0_max', 'O3_22.0_max', 'O3_21.0_min', 'O3_24.0_min', 'RH_min', 'O3_2.0_min', 'RH_24.0_min', 'RH_22.0_max', 'RH_0.0_mean', 'TMP_23.0_mean', 'TMP_2.0_max', 'TMP_1.0_max', 'WSP_mean', 'RH_44.0_min', 'hora_20.0_mean', 'hora_11.0_min', 'TMP_47.0_max', 'hora_10.0_min', 'O3_1.0_max', 'RH_1.0_max', 'RH_47.0_max', 'TMP_0.0_min', 'TMP_max', 'RH_1.0_mean', 'O3_23.0_min', 'RH_46.0_mean', 'RH_23.0_min', 'TMP_1.0_min', 'TMP_2.0_min', 'O3_25.0_min', 'O3_46.0_min', 'hora_9.0_mean', 'hora_35.0_mean', 'TMP_1.0_mean', 'NO_8.0_mean', 'O3_0.0_mean', 'O3_2.0_mean', 'RH_26.0_mean', 'NOX_7.0_max', 'RH_max', 'RH_24.0_mean', 'TMP_48.0_mean', 'hora_43.0_mean', 'O3_46.0_max', 'O3_21.0_max', 'RH_23.0_max', 'TMP_45.0_max', 'RH_46.0_min', 'RH_25.0_max', 'RH_23.0_mean', 'O3_0.0_min', 'O3_1.0_mean', 'O3_25.0_mean', 'TMP_0.0_max', 'hora_12.0_mean', 'O3_2.0_max', 'RH_22.0_mean', 'hora_44.0_mean', 'RH_21.0_max', 'O3_22.0_mean', 'TMP_21.0_mean', 'hora_10.0_max', 'hora_10.0', 'O3_20.0_max', 'RH_25.0_mean', 'O3_24.0_mean', 'RH_45.0_min', 'RH_45.0_max', 'PM2.5_3.0_mean', 'RH_2.0_mean', 'NOX_8.0_mean', 'RH_48.0_mean', 'O3_min', 'TMP_46.0_mean', 'RH_mean', 'O3_3.0_max', 'hora_11.0_mean', 'O3_44.0_max', 'RH_24.0_max', 'O3_26.0_mean', 'NO_7.0_mean', 'RH_21.0_mean', 'NOX_8.0_max', 'O3_45.0_mean', 'TMP_min', 'RH_47.0_mean', 'TMP_25.0_mean', 'hora_19.0_mean', 'NO_8.0_max', 'RH_3.0_max', 'RH_47.0_min', 'hora_34.0_mean', 'O3_0.0_max', 'O3_3.0_mean', 'O3_47.0_mean', 'RH_45.0_mean', 'RH_0.0_max', 'hora_9.0_max', 'O3_47.0_min', 'O3_24.0_max', 'TMP_25.0_max', 'O3_44.0_mean', 'TMP_21.0_max', 'RH_1.0_min', 'hora_21.0_mean', 'O3_22.0_min', 'TMP_mean', 'TMP_47.0_mean', 'RH_48.0_max', 'O3_23.0_mean', 'O3_21.0_mean', 'NO_7.0_max', 'O3_1.0_min', 'TMP_24.0_max', 'TMP_23.0_min', 'TMP_46.0_max', 'RH_21.0_min', 'TMP_45.0_mean', 'RH_0.0_min', 'O3_45.0_min', 'RH_44.0_mean', 'TMP_0.0_mean', 'RH_22.0_min', 'RH_2.0_max', 'RH_25.0_min', 'O3_mean', 'NOX_6.0_mean', 'TMP_2.0_mean', 'TMP_23.0_max', 'RH_26.0_max', 'O3_46.0_mean', 'O3_23.0_max', 'O3_47.0_max', 'RH_46.0_max', 'RH_2.0_min', 'hora_33.0_mean', 'TMP_22.0_mean', 'TMP_22.0_max', 'RH_mean_frcst_1', 'RH_mean_frcst_2', 'RH_mean_frcst_3', 'RH_mean_frcst_4', 'RH_mean_frcst_5', 'RH_mean_frcst_6', 'RH_mean_frcst_7', 'RH_mean_frcst_8', 'RH_mean_frcst_9', 'RH_mean_frcst_10', 'RH_mean_frcst_11', 'RH_mean_frcst_12', 'RH_mean_frcst_13', 'RH_mean_frcst_14', 'RH_mean_frcst_15', 'RH_mean_frcst_16', 'RH_mean_frcst_17', 'RH_mean_frcst_18', 'RH_mean_frcst_19', 'RH_mean_frcst_20', 'RH_mean_frcst_21', 'RH_mean_frcst_22', 'RH_mean_frcst_23', 'RH_mean_frcst_24', 'WSP_mean_frcst_1', 'WSP_mean_frcst_2', 'WSP_mean_frcst_3', 'WSP_mean_frcst_4', 'WSP_mean_frcst_5', 'WSP_mean_frcst_6', 'WSP_mean_frcst_7', 'WSP_mean_frcst_8', 'WSP_mean_frcst_9', 'WSP_mean_frcst_10', 'WSP_mean_frcst_11', 'WSP_mean_frcst_12', 'WSP_mean_frcst_13', 'WSP_mean_frcst_14', 'WSP_mean_frcst_15', 'WSP_mean_frcst_16', 'WSP_mean_frcst_17', 'WSP_mean_frcst_18', 'WSP_mean_frcst_19', 'WSP_mean_frcst_20', 'WSP_mean_frcst_21', 'WSP_mean_frcst_22', 'WSP_mean_frcst_23', 'WSP_mean_frcst_24', 'TMP_mean_frcst_1', 'TMP_mean_frcst_2', 'TMP_mean_frcst_3', 'TMP_mean_frcst_4', 'TMP_mean_frcst_5', 'TMP_mean_frcst_6', 'TMP_mean_frcst_7', 'TMP_mean_frcst_8', 'TMP_mean_frcst_9', 'TMP_mean_frcst_10', 'TMP_mean_frcst_11', 'TMP_mean_frcst_12', 'TMP_mean_frcst_13', 'TMP_mean_frcst_14', 'TMP_mean_frcst_15', 'TMP_mean_frcst_16', 'TMP_mean_frcst_17', 'TMP_mean_frcst_18', 'TMP_mean_frcst_19', 'TMP_mean_frcst_20', 'TMP_mean_frcst_21', 'TMP_mean_frcst_22', 'TMP_mean_frcst_23', 'TMP_mean_frcst_24'] ['hora_44.0_mean', 'RH_22.0_max', 'RH_1.0_mean', 'hora_20.0_mean', 'RH_46.0_max', 'hora_10.0_min', 'O3_46.0_mean', 'RH_max', 'O3_21.0_min', 'O3_min', 'O3_25.0_min', 'TMP_46.0_max', 'O3_3.0_mean', 'RH_24.0_mean', 'O3_1.0_mean', 'O3_22.0_max', 'TMP_mean', 'hora_11.0_mean', 'RH_24.0_min', 'O3_48.0_mean', 'RH_24.0_max', 'TMP_47.0_max', 'TMP_46.0_mean', 'RH_1.0_max', 'O3_23.0_max', 'O3_24.0_min', 'O3_mean', 'RH_mean', 'O3_2.0_mean', 'O3_45.0_mean', 'TMP_23.0_max', 'TMP_0.0_max', 'RH_47.0_mean', 'NOX_7.0_max', 'TMP_45.0_mean', 'TMP_21.0_max', 'RH_1.0_min', 'O3_47.0_max', 'O3_47.0_min', 'TMP_0.0_mean', 'PM2.5_3.0_mean', 'TMP_0.0_min', 'hora_11.0_min', 'hora_19.0_mean', 'TMP_24.0_max', 'TMP_23.0_mean', 'RH_25.0_mean', 'TMP_1.0_max', 'O3_47.0_mean', 'NOX_8.0_mean', 'hora_10.0_max', 'RH_3.0_max', 'O3_26.0_mean', 'hora_35.0_mean', 'O3_21.0_mean', 'TMP_1.0_mean', 'RH_45.0_min', 'hora_34.0_mean', 'O3_3.0_max', 'RH_47.0_max', 'O3_46.0_max', 'RH_0.0_max', 'TMP_min', 'O3_45.0_min', 'TMP_2.0_mean', 'RH_45.0_mean', 'TMP_22.0_mean', 'O3_25.0_max', 'TMP_2.0_min', 'hora_43.0_mean', 'NOX_7.0_mean', 'O3_45.0_max', 'TMP_45.0_max', 'O3_max', 'RH_2.0_min', 'RH_45.0_max', 'RH_46.0_mean', 'O3_24.0_max', 'O3_20.0_max', 'hora_12.0_mean', 'O3_1.0_min', 'RH_min', 'NO_8.0_max', 'O3_0.0_mean', 'O3_23.0_mean', 'RH_23.0_min', 'O3_25.0_mean', 'O3_24.0_mean', 'RH_0.0_min', 'RH_26.0_mean', 'TMP_max', 'TMP_47.0_mean', 'TMP_25.0_max', 'O3_22.0_mean', 'O3_23.0_min', 'TMP_25.0_mean', 'hora_21.0_mean', 'hora_9.0_max', 'RH_23.0_mean', 'O3_2.0_max', 'RH_25.0_max', 'RH_26.0_max', 'O3_0.0_max', 'NOX_6.0_mean', 'RH_48.0_mean', 'hora_10.0', 'TMP_22.0_max', 'RH_21.0_mean', 'hora_33.0_mean', 'O3_1.0_max', 'RH_44.0_min', 'RH_47.0_min', 'NO_7.0_max', 'RH_21.0_min', 'TMP_23.0_min', 'O3_46.0_min', 'RH_44.0_mean', 'RH_0.0_mean', 'NOX_8.0_max', 'O3_44.0_mean', 'TMP_21.0_mean', 'RH_22.0_mean', 'RH_21.0_max', 'RH_23.0_max', 'RH_2.0_mean', 'O3_21.0_max', 'NO_7.0_mean', 'RH_48.0_max', 'RH_46.0_min', 'RH_2.0_max', 'NO_8.0_mean', 'TMP_2.0_max', 'RH_22.0_min', 'TMP_1.0_min', 'O3_22.0_min', 'TMP_48.0_mean', 'TMP_24.0_mean', 'O3_44.0_max', 'O3_2.0_min', 'hora_9.0_mean', 'RH_25.0_min', 'O3_0.0_min', 'RH_mean_frcst_1', 'RH_mean_frcst_2', 'RH_mean_frcst_3', 'RH_mean_frcst_21', 'RH_mean_frcst_22', 'RH_mean_frcst_23', 'RH_mean_frcst_24', 'WSP_mean_frcst_2', 'WSP_mean_frcst_3', 'WSP_mean_frcst_13', 'WSP_mean_frcst_14', 'WSP_mean_frcst_15', 'WSP_mean_frcst_16', 'TMP_mean_frcst_1', 'TMP_mean_frcst_2', 'TMP_mean_frcst_3', 'TMP_mean_frcst_21', 'TMP_mean_frcst_22', 'TMP_mean_frcst_23', 'TMP_mean_frcst_24']\nexpected RH_mean_frcst_12, TMP_mean_frcst_11, RH_mean_frcst_4, WSP_mean_frcst_6, WSP_mean_frcst_4, TMP_mean_frcst_18, TMP_mean_frcst_20, WSP_mean_frcst_24, WSP_mean_frcst_19, TMP_mean_frcst_16, WSP_mean_frcst_8, RH_mean_frcst_14, WSP_mean_frcst_9, WSP_mean, RH_mean_frcst_20, TMP_mean_frcst_13, TMP_mean_frcst_7, WSP_mean_frcst_10, WSP_mean_frcst_17, WSP_mean_frcst_5, TMP_mean_frcst_6, WSP_mean_frcst_20, WSP_mean_frcst_23, TMP_mean_frcst_12, TMP_mean_frcst_9, TMP_mean_frcst_15, WSP_mean_frcst_12, TMP_mean_frcst_10, WSP_mean_frcst_11, RH_mean_frcst_19, RH_mean_frcst_16, RH_mean_frcst_7, RH_mean_frcst_10, WSP_mean_frcst_21, RH_mean_frcst_13, TMP_mean_frcst_17, TMP_mean_frcst_8, RH_mean_frcst_17, WSP_mean_frcst_22, WSP_mean_frcst_18, RH_mean_frcst_8, RH_mean_frcst_9, TMP_mean_frcst_5, RH_mean_frcst_18, WSP_mean_frcst_1, TMP_mean_frcst_19, RH_mean_frcst_15, TMP_mean_frcst_4, RH_mean_frcst_5, TMP_mean_frcst_14, WSP_mean_frcst_7, RH_mean_frcst_6, RH_mean_frcst_11 in input data",
     "output_type": "error",
     "traceback": [
      "\u001b[0;31m---------------------------------------------------------------------------\u001b[0m",
      "\u001b[0;31mValueError\u001b[0m                                Traceback (most recent call last)",
      "\u001b[0;32m<ipython-input-6-9af8d40691a8>\u001b[0m in \u001b[0;36m<module>\u001b[0;34m\u001b[0m\n\u001b[0;32m----> 1\u001b[0;31m \u001b[0mdf_predict_historico_O3\u001b[0m\u001b[0;34m,\u001b[0m\u001b[0mdf_predict_O3\u001b[0m\u001b[0;34m,\u001b[0m\u001b[0mdf_pred_O3\u001b[0m  \u001b[0;34m=\u001b[0m \u001b[0mprediccion\u001b[0m\u001b[0;34m(\u001b[0m\u001b[0mtarget2\u001b[0m\u001b[0;34m,\u001b[0m\u001b[0mconta2\u001b[0m\u001b[0;34m)\u001b[0m\u001b[0;34m\u001b[0m\u001b[0;34m\u001b[0m\u001b[0m\n\u001b[0m",
      "\u001b[0;32m<ipython-input-5-014958f3e09d>\u001b[0m in \u001b[0;36mprediccion\u001b[0;34m(target, conta)\u001b[0m\n\u001b[1;32m     19\u001b[0m \u001b[0;34m\u001b[0m\u001b[0m\n\u001b[1;32m     20\u001b[0m     \u001b[0;32mfor\u001b[0m \u001b[0mi\u001b[0m \u001b[0;32min\u001b[0m \u001b[0mrange\u001b[0m\u001b[0;34m(\u001b[0m\u001b[0;36m0\u001b[0m\u001b[0;34m,\u001b[0m\u001b[0;36m24\u001b[0m\u001b[0;34m)\u001b[0m\u001b[0;34m:\u001b[0m\u001b[0;34m\u001b[0m\u001b[0;34m\u001b[0m\u001b[0m\n\u001b[0;32m---> 21\u001b[0;31m         \u001b[0mdf_pronosticados\u001b[0m\u001b[0;34m[\u001b[0m\u001b[0mtarget\u001b[0m \u001b[0;34m+\u001b[0m \u001b[0mstr\u001b[0m\u001b[0;34m(\u001b[0m\u001b[0mi\u001b[0m\u001b[0;34m+\u001b[0m\u001b[0;36m1\u001b[0m\u001b[0;34m)\u001b[0m\u001b[0;34m]\u001b[0m \u001b[0;34m=\u001b[0m \u001b[0mmodel\u001b[0m\u001b[0;34m[\u001b[0m\u001b[0mi\u001b[0m\u001b[0;34m]\u001b[0m\u001b[0;34m.\u001b[0m\u001b[0mpredict\u001b[0m\u001b[0;34m(\u001b[0m\u001b[0mdf_predict\u001b[0m\u001b[0;34m)\u001b[0m\u001b[0;34m\u001b[0m\u001b[0;34m\u001b[0m\u001b[0m\n\u001b[0m\u001b[1;32m     22\u001b[0m \u001b[0;34m\u001b[0m\u001b[0m\n\u001b[1;32m     23\u001b[0m     \u001b[0mpred\u001b[0m \u001b[0;34m=\u001b[0m \u001b[0;34m[\u001b[0m\u001b[0;34m]\u001b[0m\u001b[0;34m\u001b[0m\u001b[0;34m\u001b[0m\u001b[0m\n",
      "\u001b[0;32m/home/paw/software/python/anaconda3/lib/python3.7/site-packages/xgboost/sklearn.py\u001b[0m in \u001b[0;36mpredict\u001b[0;34m(self, data, output_margin, ntree_limit, validate_features)\u001b[0m\n\u001b[1;32m    454\u001b[0m                                           \u001b[0moutput_margin\u001b[0m\u001b[0;34m=\u001b[0m\u001b[0moutput_margin\u001b[0m\u001b[0;34m,\u001b[0m\u001b[0;34m\u001b[0m\u001b[0;34m\u001b[0m\u001b[0m\n\u001b[1;32m    455\u001b[0m                                           \u001b[0mntree_limit\u001b[0m\u001b[0;34m=\u001b[0m\u001b[0mntree_limit\u001b[0m\u001b[0;34m,\u001b[0m\u001b[0;34m\u001b[0m\u001b[0;34m\u001b[0m\u001b[0m\n\u001b[0;32m--> 456\u001b[0;31m                                           validate_features=validate_features)\n\u001b[0m\u001b[1;32m    457\u001b[0m \u001b[0;34m\u001b[0m\u001b[0m\n\u001b[1;32m    458\u001b[0m     \u001b[0;32mdef\u001b[0m \u001b[0mapply\u001b[0m\u001b[0;34m(\u001b[0m\u001b[0mself\u001b[0m\u001b[0;34m,\u001b[0m \u001b[0mX\u001b[0m\u001b[0;34m,\u001b[0m \u001b[0mntree_limit\u001b[0m\u001b[0;34m=\u001b[0m\u001b[0;36m0\u001b[0m\u001b[0;34m)\u001b[0m\u001b[0;34m:\u001b[0m\u001b[0;34m\u001b[0m\u001b[0;34m\u001b[0m\u001b[0m\n",
      "\u001b[0;32m/home/paw/software/python/anaconda3/lib/python3.7/site-packages/xgboost/core.py\u001b[0m in \u001b[0;36mpredict\u001b[0;34m(self, data, output_margin, ntree_limit, pred_leaf, pred_contribs, approx_contribs, pred_interactions, validate_features)\u001b[0m\n\u001b[1;32m   1282\u001b[0m \u001b[0;34m\u001b[0m\u001b[0m\n\u001b[1;32m   1283\u001b[0m         \u001b[0;32mif\u001b[0m \u001b[0mvalidate_features\u001b[0m\u001b[0;34m:\u001b[0m\u001b[0;34m\u001b[0m\u001b[0;34m\u001b[0m\u001b[0m\n\u001b[0;32m-> 1284\u001b[0;31m             \u001b[0mself\u001b[0m\u001b[0;34m.\u001b[0m\u001b[0m_validate_features\u001b[0m\u001b[0;34m(\u001b[0m\u001b[0mdata\u001b[0m\u001b[0;34m)\u001b[0m\u001b[0;34m\u001b[0m\u001b[0;34m\u001b[0m\u001b[0m\n\u001b[0m\u001b[1;32m   1285\u001b[0m \u001b[0;34m\u001b[0m\u001b[0m\n\u001b[1;32m   1286\u001b[0m         \u001b[0mlength\u001b[0m \u001b[0;34m=\u001b[0m \u001b[0mc_bst_ulong\u001b[0m\u001b[0;34m(\u001b[0m\u001b[0;34m)\u001b[0m\u001b[0;34m\u001b[0m\u001b[0;34m\u001b[0m\u001b[0m\n",
      "\u001b[0;32m/home/paw/software/python/anaconda3/lib/python3.7/site-packages/xgboost/core.py\u001b[0m in \u001b[0;36m_validate_features\u001b[0;34m(self, data)\u001b[0m\n\u001b[1;32m   1688\u001b[0m \u001b[0;34m\u001b[0m\u001b[0m\n\u001b[1;32m   1689\u001b[0m                 raise ValueError(msg.format(self.feature_names,\n\u001b[0;32m-> 1690\u001b[0;31m                                             data.feature_names))\n\u001b[0m\u001b[1;32m   1691\u001b[0m \u001b[0;34m\u001b[0m\u001b[0m\n\u001b[1;32m   1692\u001b[0m     \u001b[0;32mdef\u001b[0m \u001b[0mget_split_value_histogram\u001b[0m\u001b[0;34m(\u001b[0m\u001b[0mself\u001b[0m\u001b[0;34m,\u001b[0m \u001b[0mfeature\u001b[0m\u001b[0;34m,\u001b[0m \u001b[0mfmap\u001b[0m\u001b[0;34m=\u001b[0m\u001b[0;34m''\u001b[0m\u001b[0;34m,\u001b[0m \u001b[0mbins\u001b[0m\u001b[0;34m=\u001b[0m\u001b[0;32mNone\u001b[0m\u001b[0;34m,\u001b[0m \u001b[0mas_pandas\u001b[0m\u001b[0;34m=\u001b[0m\u001b[0;32mTrue\u001b[0m\u001b[0;34m)\u001b[0m\u001b[0;34m:\u001b[0m\u001b[0;34m\u001b[0m\u001b[0;34m\u001b[0m\u001b[0m\n",
      "\u001b[0;31mValueError\u001b[0m: feature_names mismatch: ['NOX_7.0_mean', 'O3_48.0_mean', 'O3_max', 'TMP_24.0_mean', 'O3_45.0_max', 'O3_25.0_max', 'O3_22.0_max', 'O3_21.0_min', 'O3_24.0_min', 'RH_min', 'O3_2.0_min', 'RH_24.0_min', 'RH_22.0_max', 'RH_0.0_mean', 'TMP_23.0_mean', 'TMP_2.0_max', 'TMP_1.0_max', 'WSP_mean', 'RH_44.0_min', 'hora_20.0_mean', 'hora_11.0_min', 'TMP_47.0_max', 'hora_10.0_min', 'O3_1.0_max', 'RH_1.0_max', 'RH_47.0_max', 'TMP_0.0_min', 'TMP_max', 'RH_1.0_mean', 'O3_23.0_min', 'RH_46.0_mean', 'RH_23.0_min', 'TMP_1.0_min', 'TMP_2.0_min', 'O3_25.0_min', 'O3_46.0_min', 'hora_9.0_mean', 'hora_35.0_mean', 'TMP_1.0_mean', 'NO_8.0_mean', 'O3_0.0_mean', 'O3_2.0_mean', 'RH_26.0_mean', 'NOX_7.0_max', 'RH_max', 'RH_24.0_mean', 'TMP_48.0_mean', 'hora_43.0_mean', 'O3_46.0_max', 'O3_21.0_max', 'RH_23.0_max', 'TMP_45.0_max', 'RH_46.0_min', 'RH_25.0_max', 'RH_23.0_mean', 'O3_0.0_min', 'O3_1.0_mean', 'O3_25.0_mean', 'TMP_0.0_max', 'hora_12.0_mean', 'O3_2.0_max', 'RH_22.0_mean', 'hora_44.0_mean', 'RH_21.0_max', 'O3_22.0_mean', 'TMP_21.0_mean', 'hora_10.0_max', 'hora_10.0', 'O3_20.0_max', 'RH_25.0_mean', 'O3_24.0_mean', 'RH_45.0_min', 'RH_45.0_max', 'PM2.5_3.0_mean', 'RH_2.0_mean', 'NOX_8.0_mean', 'RH_48.0_mean', 'O3_min', 'TMP_46.0_mean', 'RH_mean', 'O3_3.0_max', 'hora_11.0_mean', 'O3_44.0_max', 'RH_24.0_max', 'O3_26.0_mean', 'NO_7.0_mean', 'RH_21.0_mean', 'NOX_8.0_max', 'O3_45.0_mean', 'TMP_min', 'RH_47.0_mean', 'TMP_25.0_mean', 'hora_19.0_mean', 'NO_8.0_max', 'RH_3.0_max', 'RH_47.0_min', 'hora_34.0_mean', 'O3_0.0_max', 'O3_3.0_mean', 'O3_47.0_mean', 'RH_45.0_mean', 'RH_0.0_max', 'hora_9.0_max', 'O3_47.0_min', 'O3_24.0_max', 'TMP_25.0_max', 'O3_44.0_mean', 'TMP_21.0_max', 'RH_1.0_min', 'hora_21.0_mean', 'O3_22.0_min', 'TMP_mean', 'TMP_47.0_mean', 'RH_48.0_max', 'O3_23.0_mean', 'O3_21.0_mean', 'NO_7.0_max', 'O3_1.0_min', 'TMP_24.0_max', 'TMP_23.0_min', 'TMP_46.0_max', 'RH_21.0_min', 'TMP_45.0_mean', 'RH_0.0_min', 'O3_45.0_min', 'RH_44.0_mean', 'TMP_0.0_mean', 'RH_22.0_min', 'RH_2.0_max', 'RH_25.0_min', 'O3_mean', 'NOX_6.0_mean', 'TMP_2.0_mean', 'TMP_23.0_max', 'RH_26.0_max', 'O3_46.0_mean', 'O3_23.0_max', 'O3_47.0_max', 'RH_46.0_max', 'RH_2.0_min', 'hora_33.0_mean', 'TMP_22.0_mean', 'TMP_22.0_max', 'RH_mean_frcst_1', 'RH_mean_frcst_2', 'RH_mean_frcst_3', 'RH_mean_frcst_4', 'RH_mean_frcst_5', 'RH_mean_frcst_6', 'RH_mean_frcst_7', 'RH_mean_frcst_8', 'RH_mean_frcst_9', 'RH_mean_frcst_10', 'RH_mean_frcst_11', 'RH_mean_frcst_12', 'RH_mean_frcst_13', 'RH_mean_frcst_14', 'RH_mean_frcst_15', 'RH_mean_frcst_16', 'RH_mean_frcst_17', 'RH_mean_frcst_18', 'RH_mean_frcst_19', 'RH_mean_frcst_20', 'RH_mean_frcst_21', 'RH_mean_frcst_22', 'RH_mean_frcst_23', 'RH_mean_frcst_24', 'WSP_mean_frcst_1', 'WSP_mean_frcst_2', 'WSP_mean_frcst_3', 'WSP_mean_frcst_4', 'WSP_mean_frcst_5', 'WSP_mean_frcst_6', 'WSP_mean_frcst_7', 'WSP_mean_frcst_8', 'WSP_mean_frcst_9', 'WSP_mean_frcst_10', 'WSP_mean_frcst_11', 'WSP_mean_frcst_12', 'WSP_mean_frcst_13', 'WSP_mean_frcst_14', 'WSP_mean_frcst_15', 'WSP_mean_frcst_16', 'WSP_mean_frcst_17', 'WSP_mean_frcst_18', 'WSP_mean_frcst_19', 'WSP_mean_frcst_20', 'WSP_mean_frcst_21', 'WSP_mean_frcst_22', 'WSP_mean_frcst_23', 'WSP_mean_frcst_24', 'TMP_mean_frcst_1', 'TMP_mean_frcst_2', 'TMP_mean_frcst_3', 'TMP_mean_frcst_4', 'TMP_mean_frcst_5', 'TMP_mean_frcst_6', 'TMP_mean_frcst_7', 'TMP_mean_frcst_8', 'TMP_mean_frcst_9', 'TMP_mean_frcst_10', 'TMP_mean_frcst_11', 'TMP_mean_frcst_12', 'TMP_mean_frcst_13', 'TMP_mean_frcst_14', 'TMP_mean_frcst_15', 'TMP_mean_frcst_16', 'TMP_mean_frcst_17', 'TMP_mean_frcst_18', 'TMP_mean_frcst_19', 'TMP_mean_frcst_20', 'TMP_mean_frcst_21', 'TMP_mean_frcst_22', 'TMP_mean_frcst_23', 'TMP_mean_frcst_24'] ['hora_44.0_mean', 'RH_22.0_max', 'RH_1.0_mean', 'hora_20.0_mean', 'RH_46.0_max', 'hora_10.0_min', 'O3_46.0_mean', 'RH_max', 'O3_21.0_min', 'O3_min', 'O3_25.0_min', 'TMP_46.0_max', 'O3_3.0_mean', 'RH_24.0_mean', 'O3_1.0_mean', 'O3_22.0_max', 'TMP_mean', 'hora_11.0_mean', 'RH_24.0_min', 'O3_48.0_mean', 'RH_24.0_max', 'TMP_47.0_max', 'TMP_46.0_mean', 'RH_1.0_max', 'O3_23.0_max', 'O3_24.0_min', 'O3_mean', 'RH_mean', 'O3_2.0_mean', 'O3_45.0_mean', 'TMP_23.0_max', 'TMP_0.0_max', 'RH_47.0_mean', 'NOX_7.0_max', 'TMP_45.0_mean', 'TMP_21.0_max', 'RH_1.0_min', 'O3_47.0_max', 'O3_47.0_min', 'TMP_0.0_mean', 'PM2.5_3.0_mean', 'TMP_0.0_min', 'hora_11.0_min', 'hora_19.0_mean', 'TMP_24.0_max', 'TMP_23.0_mean', 'RH_25.0_mean', 'TMP_1.0_max', 'O3_47.0_mean', 'NOX_8.0_mean', 'hora_10.0_max', 'RH_3.0_max', 'O3_26.0_mean', 'hora_35.0_mean', 'O3_21.0_mean', 'TMP_1.0_mean', 'RH_45.0_min', 'hora_34.0_mean', 'O3_3.0_max', 'RH_47.0_max', 'O3_46.0_max', 'RH_0.0_max', 'TMP_min', 'O3_45.0_min', 'TMP_2.0_mean', 'RH_45.0_mean', 'TMP_22.0_mean', 'O3_25.0_max', 'TMP_2.0_min', 'hora_43.0_mean', 'NOX_7.0_mean', 'O3_45.0_max', 'TMP_45.0_max', 'O3_max', 'RH_2.0_min', 'RH_45.0_max', 'RH_46.0_mean', 'O3_24.0_max', 'O3_20.0_max', 'hora_12.0_mean', 'O3_1.0_min', 'RH_min', 'NO_8.0_max', 'O3_0.0_mean', 'O3_23.0_mean', 'RH_23.0_min', 'O3_25.0_mean', 'O3_24.0_mean', 'RH_0.0_min', 'RH_26.0_mean', 'TMP_max', 'TMP_47.0_mean', 'TMP_25.0_max', 'O3_22.0_mean', 'O3_23.0_min', 'TMP_25.0_mean', 'hora_21.0_mean', 'hora_9.0_max', 'RH_23.0_mean', 'O3_2.0_max', 'RH_25.0_max', 'RH_26.0_max', 'O3_0.0_max', 'NOX_6.0_mean', 'RH_48.0_mean', 'hora_10.0', 'TMP_22.0_max', 'RH_21.0_mean', 'hora_33.0_mean', 'O3_1.0_max', 'RH_44.0_min', 'RH_47.0_min', 'NO_7.0_max', 'RH_21.0_min', 'TMP_23.0_min', 'O3_46.0_min', 'RH_44.0_mean', 'RH_0.0_mean', 'NOX_8.0_max', 'O3_44.0_mean', 'TMP_21.0_mean', 'RH_22.0_mean', 'RH_21.0_max', 'RH_23.0_max', 'RH_2.0_mean', 'O3_21.0_max', 'NO_7.0_mean', 'RH_48.0_max', 'RH_46.0_min', 'RH_2.0_max', 'NO_8.0_mean', 'TMP_2.0_max', 'RH_22.0_min', 'TMP_1.0_min', 'O3_22.0_min', 'TMP_48.0_mean', 'TMP_24.0_mean', 'O3_44.0_max', 'O3_2.0_min', 'hora_9.0_mean', 'RH_25.0_min', 'O3_0.0_min', 'RH_mean_frcst_1', 'RH_mean_frcst_2', 'RH_mean_frcst_3', 'RH_mean_frcst_21', 'RH_mean_frcst_22', 'RH_mean_frcst_23', 'RH_mean_frcst_24', 'WSP_mean_frcst_2', 'WSP_mean_frcst_3', 'WSP_mean_frcst_13', 'WSP_mean_frcst_14', 'WSP_mean_frcst_15', 'WSP_mean_frcst_16', 'TMP_mean_frcst_1', 'TMP_mean_frcst_2', 'TMP_mean_frcst_3', 'TMP_mean_frcst_21', 'TMP_mean_frcst_22', 'TMP_mean_frcst_23', 'TMP_mean_frcst_24']\nexpected RH_mean_frcst_12, TMP_mean_frcst_11, RH_mean_frcst_4, WSP_mean_frcst_6, WSP_mean_frcst_4, TMP_mean_frcst_18, TMP_mean_frcst_20, WSP_mean_frcst_24, WSP_mean_frcst_19, TMP_mean_frcst_16, WSP_mean_frcst_8, RH_mean_frcst_14, WSP_mean_frcst_9, WSP_mean, RH_mean_frcst_20, TMP_mean_frcst_13, TMP_mean_frcst_7, WSP_mean_frcst_10, WSP_mean_frcst_17, WSP_mean_frcst_5, TMP_mean_frcst_6, WSP_mean_frcst_20, WSP_mean_frcst_23, TMP_mean_frcst_12, TMP_mean_frcst_9, TMP_mean_frcst_15, WSP_mean_frcst_12, TMP_mean_frcst_10, WSP_mean_frcst_11, RH_mean_frcst_19, RH_mean_frcst_16, RH_mean_frcst_7, RH_mean_frcst_10, WSP_mean_frcst_21, RH_mean_frcst_13, TMP_mean_frcst_17, TMP_mean_frcst_8, RH_mean_frcst_17, WSP_mean_frcst_22, WSP_mean_frcst_18, RH_mean_frcst_8, RH_mean_frcst_9, TMP_mean_frcst_5, RH_mean_frcst_18, WSP_mean_frcst_1, TMP_mean_frcst_19, RH_mean_frcst_15, TMP_mean_frcst_4, RH_mean_frcst_5, TMP_mean_frcst_14, WSP_mean_frcst_7, RH_mean_frcst_6, RH_mean_frcst_11 in input data"
     ]
    }
   ],
   "source": [
    "df_predict_historico_O3,df_predict_O3,df_pred_O3  = prediccion(target2,conta2)"
   ]
  },
  {
   "cell_type": "code",
   "execution_count": 9,
   "metadata": {},
   "outputs": [
    {
     "name": "stdout",
     "output_type": "stream",
     "text": [
      "[22:25:35] WARNING: /workspace/src/objective/regression_obj.cu:152: reg:linear is now deprecated in favor of reg:squarederror.\n",
      "[22:25:35] WARNING: /workspace/src/objective/regression_obj.cu:152: reg:linear is now deprecated in favor of reg:squarederror.\n",
      "[22:25:36] WARNING: /workspace/src/objective/regression_obj.cu:152: reg:linear is now deprecated in favor of reg:squarederror.\n",
      "[22:25:36] WARNING: /workspace/src/objective/regression_obj.cu:152: reg:linear is now deprecated in favor of reg:squarederror.\n",
      "[22:25:36] WARNING: /workspace/src/objective/regression_obj.cu:152: reg:linear is now deprecated in favor of reg:squarederror.\n",
      "[22:25:36] WARNING: /workspace/src/objective/regression_obj.cu:152: reg:linear is now deprecated in favor of reg:squarederror.\n",
      "[22:25:36] WARNING: /workspace/src/objective/regression_obj.cu:152: reg:linear is now deprecated in favor of reg:squarederror.\n",
      "[22:25:36] WARNING: /workspace/src/objective/regression_obj.cu:152: reg:linear is now deprecated in favor of reg:squarederror.\n",
      "[22:25:36] WARNING: /workspace/src/objective/regression_obj.cu:152: reg:linear is now deprecated in favor of reg:squarederror.\n",
      "[22:25:36] WARNING: /workspace/src/objective/regression_obj.cu:152: reg:linear is now deprecated in favor of reg:squarederror.\n",
      "[22:25:36] WARNING: /workspace/src/objective/regression_obj.cu:152: reg:linear is now deprecated in favor of reg:squarederror.\n",
      "[22:25:36] WARNING: /workspace/src/objective/regression_obj.cu:152: reg:linear is now deprecated in favor of reg:squarederror.\n",
      "[22:25:36] WARNING: /workspace/src/objective/regression_obj.cu:152: reg:linear is now deprecated in favor of reg:squarederror.\n",
      "[22:25:36] WARNING: /workspace/src/objective/regression_obj.cu:152: reg:linear is now deprecated in favor of reg:squarederror.\n",
      "[22:25:36] WARNING: /workspace/src/objective/regression_obj.cu:152: reg:linear is now deprecated in favor of reg:squarederror.\n",
      "[22:25:36] WARNING: /workspace/src/objective/regression_obj.cu:152: reg:linear is now deprecated in favor of reg:squarederror.\n",
      "[22:25:36] WARNING: /workspace/src/objective/regression_obj.cu:152: reg:linear is now deprecated in favor of reg:squarederror.\n",
      "[22:25:36] WARNING: /workspace/src/objective/regression_obj.cu:152: reg:linear is now deprecated in favor of reg:squarederror.\n",
      "[22:25:36] WARNING: /workspace/src/objective/regression_obj.cu:152: reg:linear is now deprecated in favor of reg:squarederror.\n",
      "[22:25:36] WARNING: /workspace/src/objective/regression_obj.cu:152: reg:linear is now deprecated in favor of reg:squarederror.\n",
      "[22:25:36] WARNING: /workspace/src/objective/regression_obj.cu:152: reg:linear is now deprecated in favor of reg:squarederror.\n",
      "[22:25:36] WARNING: /workspace/src/objective/regression_obj.cu:152: reg:linear is now deprecated in favor of reg:squarederror.\n",
      "[22:25:36] WARNING: /workspace/src/objective/regression_obj.cu:152: reg:linear is now deprecated in favor of reg:squarederror.\n",
      "[22:25:36] WARNING: /workspace/src/objective/regression_obj.cu:152: reg:linear is now deprecated in favor of reg:squarederror.\n"
     ]
    }
   ],
   "source": [
    "df_predict_historico_PM10,df_predict_PM10,df_pred_PM10 = prediccion(target1,conta1)"
   ]
  },
  {
   "cell_type": "code",
   "execution_count": 10,
   "metadata": {},
   "outputs": [
    {
     "ename": "NameError",
     "evalue": "name 'df_predict_O3' is not defined",
     "output_type": "error",
     "traceback": [
      "\u001b[0;31m---------------------------------------------------------------------------\u001b[0m",
      "\u001b[0;31mNameError\u001b[0m                                 Traceback (most recent call last)",
      "\u001b[0;32m<ipython-input-10-638765b40e43>\u001b[0m in \u001b[0;36m<module>\u001b[0;34m\u001b[0m\n\u001b[0;32m----> 1\u001b[0;31m \u001b[0mdf_export\u001b[0m \u001b[0;34m=\u001b[0m \u001b[0mpd\u001b[0m\u001b[0;34m.\u001b[0m\u001b[0mconcat\u001b[0m\u001b[0;34m(\u001b[0m\u001b[0;34m[\u001b[0m\u001b[0mdf_predict_O3\u001b[0m\u001b[0;34m.\u001b[0m\u001b[0mset_index\u001b[0m\u001b[0;34m(\u001b[0m\u001b[0;34m'fecha'\u001b[0m\u001b[0;34m)\u001b[0m\u001b[0;34m,\u001b[0m\u001b[0mdf_predict_PM10\u001b[0m\u001b[0;34m.\u001b[0m\u001b[0mset_index\u001b[0m\u001b[0;34m(\u001b[0m\u001b[0;34m'fecha'\u001b[0m\u001b[0;34m)\u001b[0m\u001b[0;34m]\u001b[0m\u001b[0;34m,\u001b[0m \u001b[0maxis\u001b[0m\u001b[0;34m=\u001b[0m\u001b[0;36m1\u001b[0m\u001b[0;34m,\u001b[0m \u001b[0mjoin\u001b[0m\u001b[0;34m=\u001b[0m\u001b[0;34m'inner'\u001b[0m\u001b[0;34m)\u001b[0m\u001b[0;34m.\u001b[0m\u001b[0mreset_index\u001b[0m\u001b[0;34m(\u001b[0m\u001b[0;34m)\u001b[0m\u001b[0;34m\u001b[0m\u001b[0;34m\u001b[0m\u001b[0m\n\u001b[0m",
      "\u001b[0;31mNameError\u001b[0m: name 'df_predict_O3' is not defined"
     ]
    }
   ],
   "source": [
    "df_export = pd.concat([df_predict_O3.set_index('fecha'),df_predict_PM10.set_index('fecha')], axis=1, join='inner').reset_index()"
   ]
  },
  {
   "cell_type": "markdown",
   "metadata": {},
   "source": [
    "Juntamos los 3 archivos generados: historico, pronóstico "
   ]
  },
  {
   "cell_type": "code",
   "execution_count": 7,
   "metadata": {},
   "outputs": [
    {
     "ename": "NameError",
     "evalue": "name 'df_predict_historico_O3' is not defined",
     "output_type": "error",
     "traceback": [
      "\u001b[0;31m---------------------------------------------------------------------------\u001b[0m",
      "\u001b[0;31mNameError\u001b[0m                                 Traceback (most recent call last)",
      "\u001b[0;32m<ipython-input-7-3a78cd712ebf>\u001b[0m in \u001b[0;36m<module>\u001b[0;34m\u001b[0m\n\u001b[0;32m----> 1\u001b[0;31m \u001b[0mdf_pron_hist\u001b[0m \u001b[0;34m=\u001b[0m \u001b[0mpd\u001b[0m\u001b[0;34m.\u001b[0m\u001b[0mconcat\u001b[0m\u001b[0;34m(\u001b[0m\u001b[0;34m[\u001b[0m\u001b[0mdf_predict_historico_O3\u001b[0m\u001b[0;34m.\u001b[0m\u001b[0mset_index\u001b[0m\u001b[0;34m(\u001b[0m\u001b[0;34m'fecha'\u001b[0m\u001b[0;34m)\u001b[0m\u001b[0;34m,\u001b[0m\u001b[0mdf_predict_historico_PM10\u001b[0m\u001b[0;34m.\u001b[0m\u001b[0mset_index\u001b[0m\u001b[0;34m(\u001b[0m\u001b[0;34m'fecha'\u001b[0m\u001b[0;34m)\u001b[0m\u001b[0;34m]\u001b[0m\u001b[0;34m,\u001b[0m \u001b[0maxis\u001b[0m\u001b[0;34m=\u001b[0m\u001b[0;36m1\u001b[0m\u001b[0;34m,\u001b[0m \u001b[0mjoin\u001b[0m\u001b[0;34m=\u001b[0m\u001b[0;34m'inner'\u001b[0m\u001b[0;34m)\u001b[0m\u001b[0;34m.\u001b[0m\u001b[0mreset_index\u001b[0m\u001b[0;34m(\u001b[0m\u001b[0;34m)\u001b[0m\u001b[0;34m\u001b[0m\u001b[0;34m\u001b[0m\u001b[0m\n\u001b[0m",
      "\u001b[0;31mNameError\u001b[0m: name 'df_predict_historico_O3' is not defined"
     ]
    }
   ],
   "source": [
    "df_pron_hist = pd.concat([df_predict_historico_O3.set_index('fecha'),df_predict_historico_PM10.set_index('fecha')], axis=1, join='inner').reset_index()"
   ]
  },
  {
   "cell_type": "markdown",
   "metadata": {},
   "source": [
    "Juntamos los archivos de pronostico historico y el anterior"
   ]
  },
  {
   "cell_type": "code",
   "execution_count": 8,
   "metadata": {},
   "outputs": [
    {
     "ename": "NameError",
     "evalue": "name 'df_pron_hist' is not defined",
     "output_type": "error",
     "traceback": [
      "\u001b[0;31m---------------------------------------------------------------------------\u001b[0m",
      "\u001b[0;31mNameError\u001b[0m                                 Traceback (most recent call last)",
      "\u001b[0;32m<ipython-input-8-c996cb947e67>\u001b[0m in \u001b[0;36m<module>\u001b[0;34m\u001b[0m\n\u001b[0;32m----> 1\u001b[0;31m \u001b[0mdf_export\u001b[0m \u001b[0;34m=\u001b[0m \u001b[0mpd\u001b[0m\u001b[0;34m.\u001b[0m\u001b[0mmerge\u001b[0m\u001b[0;34m(\u001b[0m\u001b[0mdf_pron_hist\u001b[0m\u001b[0;34m,\u001b[0m \u001b[0mdf_export\u001b[0m\u001b[0;34m,\u001b[0m \u001b[0mon\u001b[0m\u001b[0;34m=\u001b[0m\u001b[0;34m'fecha'\u001b[0m\u001b[0;34m,\u001b[0m\u001b[0mhow\u001b[0m\u001b[0;34m=\u001b[0m\u001b[0;34m\"inner\"\u001b[0m\u001b[0;34m)\u001b[0m\u001b[0;34m\u001b[0m\u001b[0;34m\u001b[0m\u001b[0m\n\u001b[0m",
      "\u001b[0;31mNameError\u001b[0m: name 'df_pron_hist' is not defined"
     ]
    }
   ],
   "source": [
    "df_export = pd.merge(df_pron_hist, df_export, on='fecha',how=\"inner\")"
   ]
  },
  {
   "cell_type": "markdown",
   "metadata": {},
   "source": [
    "contatenamos el pronóstico de O3 y PM10"
   ]
  },
  {
   "cell_type": "code",
   "execution_count": 11,
   "metadata": {},
   "outputs": [],
   "source": [
    "df_pronosticados = pd.concat([df_pred_O3.set_index('fecha'),df_pred_PM10.set_index('fecha')], axis=1, join='inner').reset_index()"
   ]
  },
  {
   "cell_type": "markdown",
   "metadata": {},
   "source": [
    "Juntamos los archivos"
   ]
  },
  {
   "cell_type": "code",
   "execution_count": 12,
   "metadata": {},
   "outputs": [],
   "source": [
    "df_export = pd.merge(df_pronosticados, df_export, on='fecha',how=\"outer\")"
   ]
  },
  {
   "cell_type": "markdown",
   "metadata": {},
   "source": [
    "#### exportamos"
   ]
  },
  {
   "cell_type": "code",
   "execution_count": 13,
   "metadata": {},
   "outputs": [],
   "source": [
    "df_export.to_csv(path_final,sep=',', encoding='utf-8',index=False)"
   ]
  },
  {
   "cell_type": "code",
   "execution_count": 67,
   "metadata": {},
   "outputs": [],
   "source": [
    "#pip3 install psycopg2-binary\n",
    "import psycopg2\n",
    "import pandas\n",
    "postgresql_variable={\n",
    "              'user':'aire',\n",
    "          'password':'aire_EpN12*',\n",
    "          'host':'207.249.120.21',\n",
    "          'port':'8002',\n",
    "          'database':'airedb'\n",
    "    }\n",
    "postgresql_db_config = {\n",
    "          'user':postgresql_variable['user'],\n",
    "          'password':postgresql_variable['password'],\n",
    "          'host':postgresql_variable['host'],\n",
    "          'port':postgresql_variable['port'],\n",
    "          'database':postgresql_variable['database']\n",
    "        }\n",
    "connection = psycopg2.connect(**postgresql_db_config)\n",
    "cursor = connection.cursor()   \n",
    "query_table=\"\"\"select * from aire_prediccion\"\"\"\n",
    "cursor.execute(query_table)\n",
    "df = pd.DataFrame(cursor.fetchall())\n",
    "df.columns = pd.DataFrame(cursor.description).iloc[::,0].str.get(0).tolist()\n",
    "cursor.close()\n",
    "connection.close()"
   ]
  },
  {
   "cell_type": "code",
   "execution_count": 70,
   "metadata": {},
   "outputs": [
    {
     "data": {
      "text/html": [
       "<div>\n",
       "<style scoped>\n",
       "    .dataframe tbody tr th:only-of-type {\n",
       "        vertical-align: middle;\n",
       "    }\n",
       "\n",
       "    .dataframe tbody tr th {\n",
       "        vertical-align: top;\n",
       "    }\n",
       "\n",
       "    .dataframe thead th {\n",
       "        text-align: right;\n",
       "    }\n",
       "</style>\n",
       "<table border=\"1\" class=\"dataframe\">\n",
       "  <thead>\n",
       "    <tr style=\"text-align: right;\">\n",
       "      <th></th>\n",
       "      <th>fecha</th>\n",
       "      <th>o3_pronóstico</th>\n",
       "      <th>pm10_pronóstico</th>\n",
       "      <th>o3_pron_a_12hrs</th>\n",
       "      <th>pm10_pron_a_12hrs</th>\n",
       "      <th>tmp_min</th>\n",
       "      <th>tmp_max</th>\n",
       "      <th>o3_max</th>\n",
       "      <th>o3_mean</th>\n",
       "      <th>o3_min</th>\n",
       "      <th>tmp_mean</th>\n",
       "      <th>pm10mean_mean</th>\n",
       "      <th>pm10_max</th>\n",
       "      <th>pm10_mean</th>\n",
       "      <th>pm10mean_max</th>\n",
       "    </tr>\n",
       "  </thead>\n",
       "  <tbody>\n",
       "    <tr>\n",
       "      <th>0</th>\n",
       "      <td>2019-08-23 17:00:00</td>\n",
       "      <td>55.356831</td>\n",
       "      <td>53.742924</td>\n",
       "      <td>NaN</td>\n",
       "      <td>NaN</td>\n",
       "      <td>NaN</td>\n",
       "      <td>NaN</td>\n",
       "      <td>NaN</td>\n",
       "      <td>NaN</td>\n",
       "      <td>NaN</td>\n",
       "      <td>NaN</td>\n",
       "      <td>NaN</td>\n",
       "      <td>NaN</td>\n",
       "      <td>NaN</td>\n",
       "      <td>NaN</td>\n",
       "    </tr>\n",
       "  </tbody>\n",
       "</table>\n",
       "</div>"
      ],
      "text/plain": [
       "                fecha  o3_pronóstico  pm10_pronóstico  o3_pron_a_12hrs  \\\n",
       "0 2019-08-23 17:00:00      55.356831        53.742924              NaN   \n",
       "\n",
       "   pm10_pron_a_12hrs  tmp_min  tmp_max  o3_max  o3_mean  o3_min  tmp_mean  \\\n",
       "0                NaN      NaN      NaN     NaN      NaN     NaN       NaN   \n",
       "\n",
       "   pm10mean_mean  pm10_max  pm10_mean  pm10mean_max  \n",
       "0            NaN       NaN        NaN           NaN  "
      ]
     },
     "execution_count": 70,
     "metadata": {},
     "output_type": "execute_result"
    }
   ],
   "source": [
    "df.head(1)"
   ]
  },
  {
   "cell_type": "code",
   "execution_count": 57,
   "metadata": {},
   "outputs": [],
   "source": [
    "if df_export.empty == False:\n",
    "    import psycopg2\n",
    "\n",
    "    def postgresql_insert_1(data,target_cursor):    \n",
    "        oracle_insert_1=\"\"\"\n",
    "        INSERT INTO PUBLIC.aire_prediccion VALUES \n",
    "        \"\"\"\n",
    "        n = data.shape[1] #numero de columnas\n",
    "        cadenaTipo = \"(\"+\"%s,\"*n + \")\"\n",
    "        cadenaTipo = cadenaTipo.replace(\",)\",\")\")\n",
    "        data.iloc[::,::] = data.fillna('NULL')\n",
    "        data = data.values.tolist()\n",
    "        dataText = b','.join(target_cursor.mogrify(cadenaTipo, row) for row in data).decode()    \n",
    "        dataText = dataText.replace(\"'NULL'\",\"NULL\")\n",
    "        target_cursor.execute(oracle_insert_1+dataText)\n",
    "    \n",
    "    postgresql_variable={\n",
    "              'user':'aire',\n",
    "          'password':'aire_EpN12*',\n",
    "          'host':'207.249.120.21',\n",
    "          'port':'8002',\n",
    "          'database':'airedb'\n",
    "    }\n",
    "    postgresql_db_config = {\n",
    "          'user':postgresql_variable['user'],\n",
    "          'password':postgresql_variable['password'],\n",
    "          'host':postgresql_variable['host'],\n",
    "          'port':postgresql_variable['port'],\n",
    "          'database':postgresql_variable['database']\n",
    "        }\n",
    "    connection = psycopg2.connect(**postgresql_db_config)\n",
    "    cursor = connection.cursor()   \n",
    "    delete_table=\"\"\"delete from public.aire_prediccion\"\"\"\n",
    "    cursor.execute(delete_table)\n",
    "    postgresql_insert_1(df_export,cursor)\n",
    "    connection.commit()\n",
    "    cursor.close()\n",
    "    connection.close()"
   ]
  },
  {
   "cell_type": "code",
   "execution_count": 48,
   "metadata": {},
   "outputs": [],
   "source": []
  },
  {
   "cell_type": "code",
   "execution_count": 49,
   "metadata": {},
   "outputs": [],
   "source": []
  },
  {
   "cell_type": "code",
   "execution_count": 51,
   "metadata": {},
   "outputs": [],
   "source": []
  },
  {
   "cell_type": "code",
   "execution_count": 14,
   "metadata": {},
   "outputs": [],
   "source": [
    "df_export['fecha'] =  pd.to_datetime(df_export['fecha'], format='%Y-%m-%d %H:%M')\n",
    "df_export.loc[23,\"O3_pronóstico\"] = df_export.loc[23,\"O3_pron_a_12hrs\"]\n",
    "df_export.loc[23,\"PM10_pronóstico\"] = df_export.loc[23,\"PM10_pron_a_12hrs\"]\n",
    "df_export.PM10_pronóstico = df_export.PM10_pronóstico"
   ]
  },
  {
   "cell_type": "code",
   "execution_count": 15,
   "metadata": {},
   "outputs": [
    {
     "data": {
      "image/png": "[encoded data removed]",
      "text/plain": [
       "<Figure size 640x480 with 1 Axes>"
      ]
     },
     "metadata": {},
     "output_type": "display_data"
    }
   ],
   "source": [
    "fig = plt.figure(num=None, figsize=(8, 6), dpi=80, facecolor='w', edgecolor='k')\n",
    "ax = fig.gca()\n",
    "\n",
    "# df_export.tail(60).head(50).plot(x=\"fecha\", y=[ \"O3_y\"],ax=ax,label=[\"O3 Medido\"],color=\"dodgerblue\")\n",
    "# df_export.tail(60).head(100).plot(x=\"fecha\", y=[\"O3_y_frcst_6\"],ax=ax,label=[\"Pronóstico O3 a 12 horas\"],color='darkblue',dashes=[6, 2])\n",
    "\n",
    "df_export.head(120).plot(x=\"fecha\", y=[ \"PM10mean_max\"],ax=ax,label=[\"PM10 mean Medido\"],color=\"saddlebrown\")\n",
    "df_export.head(120).plot(x=\"fecha\", y=[ \"PM10_pronóstico\"],ax=ax,label=[\"PM10 pronostico\"],color=\"blue\")\n",
    "df_export.head(120).plot(x=\"fecha\", y=[\"PM10_pron_a_12hrs\"],ax=ax,label=[\"Pronóstico PM10 a 12 horas\"],color='maroon',dashes=[6, 2])\n",
    "\n",
    "plt.ylabel(\"PM10[mg/m3]\")\n",
    "plt.title(\"Comparación del Modelo\")\n",
    "\n",
    "\n",
    "# And a corresponding grid\n",
    "ax.grid(which='both')\n",
    "\n",
    "# Or if you want different settings for the grids:\n",
    "ax.grid(which='minor', alpha=0.01)\n",
    "ax.grid(which='major', alpha=0.3)\n",
    "\n",
    "now = datetime.now()\n",
    "dt_string = now.strftime(\"%d/%m/%Y %H:%M\").replace(\"/\", \"-\")\n",
    "plt.savefig('/home/paw/DanielBustillos/contaminación/imagenes/PM10_comparacion_'+str(dt_string)+'_.png'\n",
    "            , bbox_inches='tight', dpi=400)\n",
    "\n",
    "plt.legend()\n",
    "plt.show()"
   ]
  },
  {
   "cell_type": "code",
   "execution_count": 16,
   "metadata": {},
   "outputs": [
    {
     "data": {
      "image/png": "[encoded data removed]",
      "text/plain": [
       "<Figure size 640x480 with 1 Axes>"
      ]
     },
     "metadata": {},
     "output_type": "display_data"
    }
   ],
   "source": [
    "fig = plt.figure(num=None, figsize=(8, 6), dpi=80, facecolor='w', edgecolor='k')\n",
    "ax = fig.gca()\n",
    "\n",
    "# df_export.(50).plot(x=\"fecha\", y=[ \"O3_y\"],ax=ax,label=[\"O3 Medido\"],color=\"dodgerblue\")\n",
    "# df_export.(60).head(100).plot(x=\"fecha\", y=[\"O3_y_frcst_6\"],ax=ax,label=[\"Pronóstico O3 a 12 horas\"],color='darkblue',dashes=[6, 2])\n",
    "\n",
    "df_export.head(60).plot(x=\"fecha\", y=[ \"O3_max\"],ax=ax,label=[\"PM10 mean Medido\"],color=\"saddlebrown\")\n",
    "df_export.head(60).plot(x=\"fecha\", y=[ \"O3_pronóstico\"],ax=ax,label=[\"PM10 pronostico\"],color=\"blue\")\n",
    "df_export.head(60).plot(x=\"fecha\", y=[\"O3_pron_a_12hrs\"],ax=ax,label=[\"Pronóstico PM10 a 12 horas\"],color='maroon',dashes=[6, 2])\n",
    "\n",
    "plt.ylabel(\"PM10[mg/m3]\")\n",
    "plt.title(\"Comparación del Modelo\")\n",
    "\n",
    "\n",
    "# And a corresponding grid\n",
    "ax.grid(which='both')\n",
    "\n",
    "# Or if you want different settings for the grids:\n",
    "ax.grid(which='minor', alpha=0.01)\n",
    "ax.grid(which='major', alpha=0.3)\n",
    "\n",
    "now = datetime.now()\n",
    "dt_string = now.strftime(\"%d/%m/%Y %H:%M\").replace(\"/\", \"-\")\n",
    "plt.savefig('/home/paw/DanielBustillos/contaminación/imagenes/PM10_comparacion_'+str(dt_string)+'_.png'\n",
    "            , bbox_inches='tight', dpi=400)\n",
    "\n",
    "plt.legend()\n",
    "plt.show()"
   ]
  },
  {
   "cell_type": "code",
   "execution_count": 17,
   "metadata": {},
   "outputs": [
    {
     "data": {
      "text/plain": [
       "'PM10'"
      ]
     },
     "execution_count": 17,
     "metadata": {},
     "output_type": "execute_result"
    }
   ],
   "source": [
    "conta1"
   ]
  },
  {
   "cell_type": "code",
   "execution_count": 18,
   "metadata": {},
   "outputs": [],
   "source": [
    "df_predict = pd.read_csv(path_inicial + conta1 +'.csv')"
   ]
  },
  {
   "cell_type": "code",
   "execution_count": 19,
   "metadata": {},
   "outputs": [],
   "source": [
    "df_predict_O3 = pd.read_csv(path_inicial + conta +'.csv')"
   ]
  },
  {
   "cell_type": "raw",
   "metadata": {},
   "source": [
    "\"\"\"\n",
    "    df_predict = pd.read_csv(path_inicial + conta +'.csv')\n",
    "\n",
    "    df_fechas = df_predict[\"fecha\"]\n",
    "    df_predict.drop([\"fecha\"],inplace=True,axis=1)\n",
    "\n",
    "    \n",
    "    #cargamos los modelos\n",
    "    model = [0 for col in range(25)]\n",
    "    modelq = [0 for col in range(25)]\n",
    "    for i in range(0,24):\n",
    "        model[i] = joblib.load(str(dirección_modelos + conta +'/' + conta+'_'+str(i+1)+'hora.pkl'))\n",
    "        #modelq[i] = joblib.load(str(dirección_modelos + conta + '/' + conta+'_'+str(i+1)+'hora_quantile.pkl'))\n",
    "        \n",
    "    #hacemos el predict\n",
    "    df_pronosticados = df_predict.copy()\n",
    "\n",
    "    for i in range(0,24):\n",
    "        df_pronosticados[target + str(i+1)] = model[i].predict(df_predict)\n",
    "        \n",
    "\"\"\""
   ]
  },
  {
   "cell_type": "code",
   "execution_count": 20,
   "metadata": {},
   "outputs": [
    {
     "data": {
      "text/html": [
       "<div>\n",
       "<style scoped>\n",
       "    .dataframe tbody tr th:only-of-type {\n",
       "        vertical-align: middle;\n",
       "    }\n",
       "\n",
       "    .dataframe tbody tr th {\n",
       "        vertical-align: top;\n",
       "    }\n",
       "\n",
       "    .dataframe thead th {\n",
       "        text-align: right;\n",
       "    }\n",
       "</style>\n",
       "<table border=\"1\" class=\"dataframe\">\n",
       "  <thead>\n",
       "    <tr style=\"text-align: right;\">\n",
       "      <th></th>\n",
       "      <th>fecha</th>\n",
       "      <th>O3_pronóstico</th>\n",
       "      <th>PM10_pronóstico</th>\n",
       "    </tr>\n",
       "  </thead>\n",
       "  <tbody>\n",
       "    <tr>\n",
       "      <th>0</th>\n",
       "      <td>2019-08-23 11:00:00</td>\n",
       "      <td>39.812733</td>\n",
       "      <td>55.890453</td>\n",
       "    </tr>\n",
       "    <tr>\n",
       "      <th>1</th>\n",
       "      <td>2019-08-23 12:00:00</td>\n",
       "      <td>54.613445</td>\n",
       "      <td>54.907532</td>\n",
       "    </tr>\n",
       "    <tr>\n",
       "      <th>2</th>\n",
       "      <td>2019-08-23 13:00:00</td>\n",
       "      <td>52.909248</td>\n",
       "      <td>55.896568</td>\n",
       "    </tr>\n",
       "    <tr>\n",
       "      <th>3</th>\n",
       "      <td>2019-08-23 14:00:00</td>\n",
       "      <td>50.283981</td>\n",
       "      <td>54.064053</td>\n",
       "    </tr>\n",
       "    <tr>\n",
       "      <th>4</th>\n",
       "      <td>2019-08-23 15:00:00</td>\n",
       "      <td>49.690083</td>\n",
       "      <td>53.394394</td>\n",
       "    </tr>\n",
       "  </tbody>\n",
       "</table>\n",
       "</div>"
      ],
      "text/plain": [
       "                 fecha  O3_pronóstico  PM10_pronóstico\n",
       "0  2019-08-23 11:00:00      39.812733        55.890453\n",
       "1  2019-08-23 12:00:00      54.613445        54.907532\n",
       "2  2019-08-23 13:00:00      52.909248        55.896568\n",
       "3  2019-08-23 14:00:00      50.283981        54.064053\n",
       "4  2019-08-23 15:00:00      49.690083        53.394394"
      ]
     },
     "execution_count": 20,
     "metadata": {},
     "output_type": "execute_result"
    }
   ],
   "source": [
    "df_pronosticados.head()"
   ]
  },
  {
   "cell_type": "code",
   "execution_count": 22,
   "metadata": {},
   "outputs": [],
   "source": [
    "#df_pronosticados[\"O3_y_frcst_15\"]"
   ]
  },
  {
   "cell_type": "code",
   "execution_count": null,
   "metadata": {},
   "outputs": [],
   "source": []
  },
  {
   "cell_type": "code",
   "execution_count": null,
   "metadata": {},
   "outputs": [],
   "source": []
  },
  {
   "cell_type": "code",
   "execution_count": null,
   "metadata": {},
   "outputs": [],
   "source": []
  }
 ],
 "metadata": {
  "kernelspec": {
   "display_name": "Python 3",
   "language": "python",
   "name": "python3"
  },
  "language_info": {
   "codemirror_mode": {
    "name": "ipython",
    "version": 3
   },
   "file_extension": ".py",
   "mimetype": "text/x-python",
   "name": "python",
   "nbconvert_exporter": "python",
   "pygments_lexer": "ipython3",
   "version": "3.7.3"
  }
 },
 "nbformat": 4,
 "nbformat_minor": 2
}
