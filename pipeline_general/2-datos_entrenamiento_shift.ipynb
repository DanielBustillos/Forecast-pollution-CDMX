{
 "cells": [
  {
   "cell_type": "markdown",
   "metadata": {},
   "source": [
    "## Obtención de columnas con persistencia temporal y agrupación de Promedio, máximo y mínimo por hora.\n",
    "\n",
    "#### Diseño del modelo\n",
    "\n",
    "Una vez que se obtienen los datos limpios, estos pueden ser utilizados para una serie de pruebas, donde se decidirá la granularidad temporal y la representatividad geográfica con la que se va a efectuar el pronóstico. Este proceso es iterativo: se aplica un procesamiento a los datos, se entrenan los modelos y se analiza su desempeño. A continuación se muestran las principales variantes de los modelos generados así como sus descripción:\n",
    "\n",
    "\n",
    "<img src=\"./fotos_markdown/diseno_modelo.png\" style=\"height:300px\">\n",
    "\n",
    "* __Pronóstico por estación__: Se generó un modelo para todas las estaciónes de monitoreo. Debido a que la mayoría de las estaciones solo miden un subconjunto de todas las variables y no todas a la vez, los modelos generados sólo resultaron viables para las estaciones que miden todas las variables. Para la mayoría de las estaciones donde la cantidad de variables es baja,  el modelo subestima los valores de pronóstico.\n",
    "\n",
    "\n",
    "* __Pronóstico para toda la Ciudad__: Para poder solventar que no todas las estaciones miden las mismas variables, se obtuvo el promedio, el mínimo y el máximo de los valores medidos en todas las estaciones por cada hora, al tomar estos valores, se pierde el atributo de la estación. El pronóstico mejoró, sin embargo el desempeño no era el esperado debido a los numerosos falsos positivos: la información-base de los modelos no era suficiente para describir el fenómeno.\n",
    "\n",
    "\n",
    "* __Pronóstico por día__: Junto al proceso anterior, se procedió a volver a sacar el promedio, el mínimo y el máximo pero en esta ocasión por día y no por hora. Se obtuvo un modelo de pronóstico del valor máximo de cada día. El resultado no fue el esperado, el resultado mejoró considerablemente a comparación de los dos procesos anteriores sin embargo, el modelo seguía pronosticando demasiados falsos negativos: la contingencia no se pronosticaba correctamente debido a que al promediar por día, se pierde la información horaria y disminuye considerablemente el número de registros.\n",
    "\n",
    "\n",
    "* __Pronóstico con persistencia temporal__: Usando los datos del pronóstico por hora para toda la ciudad, se utilizó la persistencia observada en el fenómeno entre horas pasadas y presentes, para generar nuevas columnas con los atributos de horas pasadas más correlacionadas con el presente. Se volvieron a entrenar los modelos con estas variables nuevas, obteniendo resultados satisfactorios.\n",
    "\n",
    "\n",
    "__Pasos y descripción general del notebook__\n",
    "\n",
    "\n",
    "El modelo elegido es el __horario con persistencia temporal__, habiendo obtenido la más baja tasa de falsos negativos y falsos positivos. Más adelante se expone su análisis con métricas de desempeño. A continuación se muestra el proceso para obtener los datos de entrenamiento del modelo:\n",
    "\n",
    "<img src=\"./fotos_markdown/diagrama_2.png\" style=\"height:350px\">\n",
    "\n",
    "\n",
    "\n",
    "1. __Contaminantes de horas anteriores más correlacionadas:__ se obtiene la correlación, de las variables meteorológicas y de contaminación, entre sus valores de una hora atrás con los de 72 horas atrás consigo mismas, de 1 hasta 72 horas atrás. El resultado es una una tabla de correlación temporal desplazada temporalmente la cual nos servirá para poder filtrar las variables más correlacionadas, es decir, las que más influyen en los niveles de contaminación.\n",
    "\n",
    "\n",
    "2. __Aplicar Desplazamiento temporal:__ a partir de tablas de correlación temporal desplazada, se hace una columna para cada variable correlacionada: cuando existe una correlación mayor a 0.44 de cualquier atributo con los contaminantes mencionados, se hace una nueva columna con estos valores.\n",
    "\n",
    "\n",
    "\n",
    "3. __Max, Mean, Min:__ se obtiene el máximo, el promedio y el mínimo de cada variable por hora, el resultado es una tabla con una sola fila por cada hora, en esta tabla se pierde el atributo de estación y así la información geográfica de donde se tomó la medición.\n",
    "\n",
    "\n",
    "4. __Generar las columna a pronosticar:__ Se genera la columna con el valor del conntaminante a pronosticar a 24 horas y se obtiene la correlación de los valores promedio máximo y mínimo con éste. Por último se Filtran los valores más importantes.\n",
    "\n",
    "\n",
    "5. __Generar las columnas de pronóstico de RH, WSP TMP:__ Se generan columnas con el pronóstico meteorológico  de estos atributos.\n",
    "\n",
    "\n",
    "6. __Generar las columnas del contaminante a pronosticar de 1 hasta 23 horas:__ Se generan las columnas con el valor del contaminante a prononsticar desde 1 hasta 24 horas.\n",
    "\n",
    "\n",
    "\n",
    "- __Datos recibidos:__ Limpieza de datos inicial\n",
    "- __Responsable:__ Daniel Bustillos\n",
    "- __Contacto:__  juandaniel.bucam@gmail.com"
   ]
  },
  {
   "cell_type": "markdown",
   "metadata": {},
   "source": [
    "Este notebook presenta el proceso donde se ha obtenido los mejores desempeños de los modelos de los contaminantes. Después de un proceso iterativo y de un análisis del desempeño de los modelos, se obtuvieron las siguientes conclusiones:\n",
    "\n",
    "- Utilizar la propiedad de persistencia temporal, mejora significativamente los modelos.\n",
    "\n",
    "\n",
    "- Obtener el promedio, el máximo y el mínimo por hora en lugar de trabajar con la medición de cada estación, genera una consolidación de las mediciones y disminuye el efecto negativo de los atributos faltantes en las mediciones a raíz de las capacidades de las estación de monitoreo.\n",
    "\n",
    "\n",
    "- Añadir el pronóstico meteorológico a 24 horas, añade fiabilidad a los modelos disminuyendo el error asociado del pronóstico. Este pronóstico se obtendrá posteriormente de una fuente externa.\n"
   ]
  },
  {
   "cell_type": "code",
   "execution_count": 1,
   "metadata": {},
   "outputs": [],
   "source": [
    "Contaminantes = [\"O3\",\"PM10mean\",\"PM25mean\"]"
   ]
  },
  {
   "cell_type": "code",
   "execution_count": 29,
   "metadata": {},
   "outputs": [
    {
     "data": {
      "text/plain": [
       "'O3'"
      ]
     },
     "execution_count": 29,
     "metadata": {},
     "output_type": "execute_result"
    }
   ],
   "source": [
    "contaminante = Contaminantes[0]\n",
    "contaminante"
   ]
  },
  {
   "cell_type": "code",
   "execution_count": 30,
   "metadata": {},
   "outputs": [],
   "source": [
    "import pandas as pd\n",
    "pd.options.mode.chained_assignment = None "
   ]
  },
  {
   "cell_type": "code",
   "execution_count": 31,
   "metadata": {},
   "outputs": [],
   "source": [
    "data_hour_merge_24 = pd.read_csv('./datos/datos_entrenamiento.csv')"
   ]
  },
  {
   "cell_type": "code",
   "execution_count": 32,
   "metadata": {},
   "outputs": [],
   "source": [
    "data_hour_merge_24 = data_hour_merge_24.dropna(subset=[contaminante]).reset_index(drop=True)#PM25"
   ]
  },
  {
   "cell_type": "code",
   "execution_count": 33,
   "metadata": {},
   "outputs": [
    {
     "data": {
      "text/html": [
       "<div>\n",
       "<style scoped>\n",
       "    .dataframe tbody tr th:only-of-type {\n",
       "        vertical-align: middle;\n",
       "    }\n",
       "\n",
       "    .dataframe tbody tr th {\n",
       "        vertical-align: top;\n",
       "    }\n",
       "\n",
       "    .dataframe thead th {\n",
       "        text-align: right;\n",
       "    }\n",
       "</style>\n",
       "<table border=\"1\" class=\"dataframe\">\n",
       "  <thead>\n",
       "    <tr style=\"text-align: right;\">\n",
       "      <th></th>\n",
       "      <th>CO</th>\n",
       "      <th>NO</th>\n",
       "      <th>NO2</th>\n",
       "      <th>NOX</th>\n",
       "      <th>O3</th>\n",
       "      <th>PM10</th>\n",
       "      <th>PM2.5</th>\n",
       "      <th>RH</th>\n",
       "      <th>SO2</th>\n",
       "      <th>TMP</th>\n",
       "      <th>WSP</th>\n",
       "      <th>dia</th>\n",
       "      <th>fecha</th>\n",
       "      <th>hora</th>\n",
       "      <th>id_station</th>\n",
       "      <th>mes</th>\n",
       "      <th>PM10mean</th>\n",
       "      <th>PM25mean</th>\n",
       "    </tr>\n",
       "  </thead>\n",
       "  <tbody>\n",
       "    <tr>\n",
       "      <th>0</th>\n",
       "      <td>0.6</td>\n",
       "      <td>14.0</td>\n",
       "      <td>21.0</td>\n",
       "      <td>35.0</td>\n",
       "      <td>4.0</td>\n",
       "      <td>84.0</td>\n",
       "      <td>NaN</td>\n",
       "      <td>82.0</td>\n",
       "      <td>4.0</td>\n",
       "      <td>9.0</td>\n",
       "      <td>1.8</td>\n",
       "      <td>1.0</td>\n",
       "      <td>2015-01-01 01:00:00</td>\n",
       "      <td>1</td>\n",
       "      <td>ACO</td>\n",
       "      <td>1.0</td>\n",
       "      <td>NaN</td>\n",
       "      <td>NaN</td>\n",
       "    </tr>\n",
       "    <tr>\n",
       "      <th>1</th>\n",
       "      <td>1.2</td>\n",
       "      <td>3.0</td>\n",
       "      <td>58.0</td>\n",
       "      <td>61.0</td>\n",
       "      <td>8.0</td>\n",
       "      <td>NaN</td>\n",
       "      <td>NaN</td>\n",
       "      <td>NaN</td>\n",
       "      <td>20.0</td>\n",
       "      <td>NaN</td>\n",
       "      <td>1.3</td>\n",
       "      <td>1.0</td>\n",
       "      <td>2015-01-01 01:00:00</td>\n",
       "      <td>1</td>\n",
       "      <td>AJM</td>\n",
       "      <td>1.0</td>\n",
       "      <td>NaN</td>\n",
       "      <td>NaN</td>\n",
       "    </tr>\n",
       "    <tr>\n",
       "      <th>2</th>\n",
       "      <td>NaN</td>\n",
       "      <td>NaN</td>\n",
       "      <td>NaN</td>\n",
       "      <td>NaN</td>\n",
       "      <td>20.0</td>\n",
       "      <td>NaN</td>\n",
       "      <td>NaN</td>\n",
       "      <td>NaN</td>\n",
       "      <td>NaN</td>\n",
       "      <td>NaN</td>\n",
       "      <td>NaN</td>\n",
       "      <td>1.0</td>\n",
       "      <td>2015-01-01 01:00:00</td>\n",
       "      <td>1</td>\n",
       "      <td>AJU</td>\n",
       "      <td>1.0</td>\n",
       "      <td>NaN</td>\n",
       "      <td>NaN</td>\n",
       "    </tr>\n",
       "    <tr>\n",
       "      <th>3</th>\n",
       "      <td>1.1</td>\n",
       "      <td>3.0</td>\n",
       "      <td>30.0</td>\n",
       "      <td>32.0</td>\n",
       "      <td>21.0</td>\n",
       "      <td>122.0</td>\n",
       "      <td>NaN</td>\n",
       "      <td>NaN</td>\n",
       "      <td>16.0</td>\n",
       "      <td>NaN</td>\n",
       "      <td>NaN</td>\n",
       "      <td>1.0</td>\n",
       "      <td>2015-01-01 01:00:00</td>\n",
       "      <td>1</td>\n",
       "      <td>ATI</td>\n",
       "      <td>1.0</td>\n",
       "      <td>NaN</td>\n",
       "      <td>NaN</td>\n",
       "    </tr>\n",
       "    <tr>\n",
       "      <th>4</th>\n",
       "      <td>1.2</td>\n",
       "      <td>NaN</td>\n",
       "      <td>NaN</td>\n",
       "      <td>NaN</td>\n",
       "      <td>2.0</td>\n",
       "      <td>95.0</td>\n",
       "      <td>80.0</td>\n",
       "      <td>NaN</td>\n",
       "      <td>67.0</td>\n",
       "      <td>NaN</td>\n",
       "      <td>NaN</td>\n",
       "      <td>1.0</td>\n",
       "      <td>2015-01-01 01:00:00</td>\n",
       "      <td>1</td>\n",
       "      <td>CAM</td>\n",
       "      <td>1.0</td>\n",
       "      <td>NaN</td>\n",
       "      <td>NaN</td>\n",
       "    </tr>\n",
       "  </tbody>\n",
       "</table>\n",
       "</div>"
      ],
      "text/plain": [
       "    CO    NO   NO2   NOX    O3   PM10  PM2.5    RH   SO2  TMP  WSP  dia  \\\n",
       "0  0.6  14.0  21.0  35.0   4.0   84.0    NaN  82.0   4.0  9.0  1.8  1.0   \n",
       "1  1.2   3.0  58.0  61.0   8.0    NaN    NaN   NaN  20.0  NaN  1.3  1.0   \n",
       "2  NaN   NaN   NaN   NaN  20.0    NaN    NaN   NaN   NaN  NaN  NaN  1.0   \n",
       "3  1.1   3.0  30.0  32.0  21.0  122.0    NaN   NaN  16.0  NaN  NaN  1.0   \n",
       "4  1.2   NaN   NaN   NaN   2.0   95.0   80.0   NaN  67.0  NaN  NaN  1.0   \n",
       "\n",
       "                 fecha  hora id_station  mes  PM10mean  PM25mean  \n",
       "0  2015-01-01 01:00:00     1        ACO  1.0       NaN       NaN  \n",
       "1  2015-01-01 01:00:00     1        AJM  1.0       NaN       NaN  \n",
       "2  2015-01-01 01:00:00     1        AJU  1.0       NaN       NaN  \n",
       "3  2015-01-01 01:00:00     1        ATI  1.0       NaN       NaN  \n",
       "4  2015-01-01 01:00:00     1        CAM  1.0       NaN       NaN  "
      ]
     },
     "execution_count": 33,
     "metadata": {},
     "output_type": "execute_result"
    }
   ],
   "source": [
    "data_hour_merge_24.head(5)"
   ]
  },
  {
   "cell_type": "markdown",
   "metadata": {},
   "source": [
    "## 1. \n",
    "### Usando el archivo de correlación con retraso temporal, se crean nuevas columnas con el atributo y las horas atrás.\n"
   ]
  },
  {
   "cell_type": "markdown",
   "metadata": {},
   "source": [
    "La corraloción con retraso temporal se refiere a la influencia que tienen las condiciones atmosféricas de un hora dada sobre las condiciones futuras, por ejemplo, si el nivel de contaminación de actual es alto ¿este valor influirá en la contaminación del día siguiente o la contaminación de cada día no se ve influida por valores pasados? La respuesta es la primera opción, valores pasados de las condiciones atmosféricas influyen fuertemente en la contaminación _actual_.\n",
    "\n",
    "Esta propiedad es clave para la generación de un modelo estadístico, la existencia de patrones y de factores que aparentemente influyen en la contaminación nos permiten tener un conjunto de datos que determinen la contaminación.\n",
    "\n",
    "\n",
    "La generación de la correlación se encuentra en: __/home/paw/DanielBustillos/contaminación/correlaciones_pau/correlaciones_función_paulina.ipynb__"
   ]
  },
  {
   "cell_type": "code",
   "execution_count": 34,
   "metadata": {},
   "outputs": [
    {
     "data": {
      "text/plain": [
       "'O3_y'"
      ]
     },
     "execution_count": 34,
     "metadata": {},
     "output_type": "execute_result"
    }
   ],
   "source": [
    "target = str(contaminante + \"_y\")\n",
    "target"
   ]
  },
  {
   "cell_type": "code",
   "execution_count": 35,
   "metadata": {},
   "outputs": [
    {
     "data": {
      "text/html": [
       "<div>\n",
       "<style scoped>\n",
       "    .dataframe tbody tr th:only-of-type {\n",
       "        vertical-align: middle;\n",
       "    }\n",
       "\n",
       "    .dataframe tbody tr th {\n",
       "        vertical-align: top;\n",
       "    }\n",
       "\n",
       "    .dataframe thead th {\n",
       "        text-align: right;\n",
       "    }\n",
       "</style>\n",
       "<table border=\"1\" class=\"dataframe\">\n",
       "  <thead>\n",
       "    <tr style=\"text-align: right;\">\n",
       "      <th></th>\n",
       "      <th>contaminante</th>\n",
       "      <th>valor</th>\n",
       "      <th>horas</th>\n",
       "    </tr>\n",
       "  </thead>\n",
       "  <tbody>\n",
       "    <tr>\n",
       "      <th>1067</th>\n",
       "      <td>PM25mean</td>\n",
       "      <td>0.165820</td>\n",
       "      <td>44.0</td>\n",
       "    </tr>\n",
       "    <tr>\n",
       "      <th>1068</th>\n",
       "      <td>PM25mean</td>\n",
       "      <td>0.167111</td>\n",
       "      <td>45.0</td>\n",
       "    </tr>\n",
       "    <tr>\n",
       "      <th>1069</th>\n",
       "      <td>PM25mean</td>\n",
       "      <td>0.168421</td>\n",
       "      <td>46.0</td>\n",
       "    </tr>\n",
       "    <tr>\n",
       "      <th>1070</th>\n",
       "      <td>PM25mean</td>\n",
       "      <td>0.169548</td>\n",
       "      <td>47.0</td>\n",
       "    </tr>\n",
       "    <tr>\n",
       "      <th>1071</th>\n",
       "      <td>PM25mean</td>\n",
       "      <td>0.170081</td>\n",
       "      <td>48.0</td>\n",
       "    </tr>\n",
       "  </tbody>\n",
       "</table>\n",
       "</div>"
      ],
      "text/plain": [
       "     contaminante     valor  horas\n",
       "1067     PM25mean  0.165820   44.0\n",
       "1068     PM25mean  0.167111   45.0\n",
       "1069     PM25mean  0.168421   46.0\n",
       "1070     PM25mean  0.169548   47.0\n",
       "1071     PM25mean  0.170081   48.0"
      ]
     },
     "execution_count": 35,
     "metadata": {},
     "output_type": "execute_result"
    }
   ],
   "source": [
    "O3_corr = pd.read_csv(\"./correlacion/correlaciones_\"+ target +\".csv\") # leemo el archivo de correlación\n",
    "O3_corr = O3_corr.iloc[:,1:]\n",
    "O3_corr.tail()"
   ]
  },
  {
   "cell_type": "markdown",
   "metadata": {},
   "source": [
    "- La columna \"contaminante\" se tiene el atributo sobre el que se realizó la correlación.\n",
    "- La columna \"valor\" indica el valor de la correlación.\n",
    "- La columna \"horas\" indica las horas de retraso."
   ]
  },
  {
   "cell_type": "markdown",
   "metadata": {},
   "source": [
    "Vamos a aplicar un filtro, nos quedaremos con las variables con una correlación entre -0.44 y 0.44. Este valor se eligió de forma que la cantidad de atributos final sea menor a 110:"
   ]
  },
  {
   "cell_type": "code",
   "execution_count": 36,
   "metadata": {},
   "outputs": [],
   "source": [
    "if contaminante == \"O3\":\n",
    "    threshold = 0.4\n",
    "else: threshold = 0.5"
   ]
  },
  {
   "cell_type": "code",
   "execution_count": 37,
   "metadata": {},
   "outputs": [
    {
     "data": {
      "text/plain": [
       "(147, 3)"
      ]
     },
     "execution_count": 37,
     "metadata": {},
     "output_type": "execute_result"
    }
   ],
   "source": [
    "O3_corr_filtro = O3_corr[(O3_corr.valor > threshold ) | (O3_corr.valor < - threshold) ].reset_index(drop=True)\n",
    "O3_corr_filtro.shape"
   ]
  },
  {
   "cell_type": "markdown",
   "metadata": {},
   "source": [
    "Una vez que tenemos los contaminantes y el número de horas de retraso, definimos una función que nos genere una nueva columna con el contaminante recorrido temporalmente las horas indicadas en **O3_corr_filtro**:"
   ]
  },
  {
   "cell_type": "code",
   "execution_count": 38,
   "metadata": {},
   "outputs": [],
   "source": [
    "def shit_corr(df):\n",
    "    for i in range(len(O3_corr_filtro)):\n",
    "        name_column = str( O3_corr_filtro.loc[i,\"contaminante\"] + \"_\" + str(\n",
    "            O3_corr_filtro.loc[i,\"horas\"])) # se define el nombre de la columna a crear con el formato:\n",
    "                                            # contaminante _ horas de retraso\n",
    "        df[name_column] = df[O3_corr_filtro.loc[i,\"contaminante\"]].shift(\n",
    "            int(float(str(O3_corr_filtro.loc[i,\"horas\"])))) # se toma el nombre del contaminante y se \n",
    "                                                            # desplaza temporalmente las horas indicadas\n",
    "    return df.dropna()"
   ]
  },
  {
   "cell_type": "markdown",
   "metadata": {},
   "source": [
    "Debido a que por cada hora se tienen tantos registros como el número de estaciones de monitoreo, existen fechas duplicadas en el df:"
   ]
  },
  {
   "cell_type": "markdown",
   "metadata": {},
   "source": [
    "Al tener fechas duplicadas, puede ocurrrir errores al aplicar el desplazamiento, por este motivo vamos a generar **un dataframe por cada estación**, aplicaremos la función y por último uniremos los dataframes:"
   ]
  },
  {
   "cell_type": "code",
   "execution_count": 39,
   "metadata": {},
   "outputs": [
    {
     "data": {
      "text/plain": [
       "['O3_0.0',\n",
       " 'RH_0.0',\n",
       " 'TMP_0.0',\n",
       " 'hora_9.0',\n",
       " 'hora_10.0',\n",
       " 'hora_11.0',\n",
       " 'hora_12.0',\n",
       " 'hora_13.0',\n",
       " 'hora_18.0',\n",
       " 'hora_19.0',\n",
       " 'hora_20.0',\n",
       " 'hora_21.0',\n",
       " 'hora_22.0',\n",
       " 'hora_32.0',\n",
       " 'hora_33.0',\n",
       " 'hora_34.0',\n",
       " 'hora_35.0',\n",
       " 'hora_36.0',\n",
       " 'hora_42.0',\n",
       " 'hora_43.0',\n",
       " 'hora_44.0',\n",
       " 'hora_45.0',\n",
       " 'O3_1.0',\n",
       " 'O3_2.0',\n",
       " 'O3_3.0',\n",
       " 'O3_4.0',\n",
       " 'O3_21.0',\n",
       " 'O3_22.0',\n",
       " 'O3_23.0',\n",
       " 'O3_24.0',\n",
       " 'O3_25.0',\n",
       " 'O3_26.0',\n",
       " 'O3_27.0',\n",
       " 'O3_45.0',\n",
       " 'O3_46.0',\n",
       " 'O3_47.0',\n",
       " 'O3_48.0',\n",
       " 'O3_1.0',\n",
       " 'O3_2.0',\n",
       " 'O3_3.0',\n",
       " 'O3_4.0',\n",
       " 'O3_20.0',\n",
       " 'O3_21.0',\n",
       " 'O3_22.0',\n",
       " 'O3_23.0',\n",
       " 'O3_24.0',\n",
       " 'O3_25.0',\n",
       " 'O3_26.0',\n",
       " 'O3_27.0',\n",
       " 'O3_44.0',\n",
       " 'O3_45.0',\n",
       " 'O3_46.0',\n",
       " 'O3_47.0',\n",
       " 'O3_48.0',\n",
       " 'CO_5.0',\n",
       " 'CO_6.0',\n",
       " 'CO_7.0',\n",
       " 'CO_8.0',\n",
       " 'CO_29.0',\n",
       " 'CO_30.0',\n",
       " 'CO_31.0',\n",
       " 'NO_6.0',\n",
       " 'NO_7.0',\n",
       " 'NO_8.0',\n",
       " 'NO_9.0',\n",
       " 'NO_30.0',\n",
       " 'NO_31.0',\n",
       " 'NO_32.0',\n",
       " 'NOX_6.0',\n",
       " 'NOX_7.0',\n",
       " 'NOX_8.0',\n",
       " 'NOX_9.0',\n",
       " 'NOX_30.0',\n",
       " 'NOX_31.0',\n",
       " 'NOX_32.0',\n",
       " 'O3_1.0',\n",
       " 'O3_2.0',\n",
       " 'O3_3.0',\n",
       " 'O3_4.0',\n",
       " 'O3_21.0',\n",
       " 'O3_22.0',\n",
       " 'O3_23.0',\n",
       " 'O3_24.0',\n",
       " 'O3_25.0',\n",
       " 'O3_26.0',\n",
       " 'O3_27.0',\n",
       " 'O3_44.0',\n",
       " 'O3_45.0',\n",
       " 'O3_46.0',\n",
       " 'O3_47.0',\n",
       " 'O3_48.0',\n",
       " 'PM10_1.0',\n",
       " 'PM10_2.0',\n",
       " 'PM10_3.0',\n",
       " 'PM10_4.0',\n",
       " 'PM10_5.0',\n",
       " 'PM10_6.0',\n",
       " 'PM10_26.0',\n",
       " 'PM10_27.0',\n",
       " 'PM10_28.0',\n",
       " 'PM10_29.0',\n",
       " 'PM2.5_1.0',\n",
       " 'PM2.5_2.0',\n",
       " 'PM2.5_3.0',\n",
       " 'PM2.5_4.0',\n",
       " 'PM2.5_5.0',\n",
       " 'PM2.5_6.0',\n",
       " 'PM2.5_26.0',\n",
       " 'PM2.5_27.0',\n",
       " 'PM2.5_28.0',\n",
       " 'PM2.5_29.0',\n",
       " 'RH_1.0',\n",
       " 'RH_2.0',\n",
       " 'RH_3.0',\n",
       " 'RH_20.0',\n",
       " 'RH_21.0',\n",
       " 'RH_22.0',\n",
       " 'RH_23.0',\n",
       " 'RH_24.0',\n",
       " 'RH_25.0',\n",
       " 'RH_26.0',\n",
       " 'RH_44.0',\n",
       " 'RH_45.0',\n",
       " 'RH_46.0',\n",
       " 'RH_47.0',\n",
       " 'RH_48.0',\n",
       " 'TMP_1.0',\n",
       " 'TMP_2.0',\n",
       " 'TMP_3.0',\n",
       " 'TMP_20.0',\n",
       " 'TMP_21.0',\n",
       " 'TMP_22.0',\n",
       " 'TMP_23.0',\n",
       " 'TMP_24.0',\n",
       " 'TMP_25.0',\n",
       " 'TMP_26.0',\n",
       " 'TMP_44.0',\n",
       " 'TMP_45.0',\n",
       " 'TMP_46.0',\n",
       " 'TMP_47.0',\n",
       " 'TMP_48.0',\n",
       " 'WSP_8.0',\n",
       " 'WSP_9.0',\n",
       " 'WSP_10.0',\n",
       " 'WSP_11.0',\n",
       " 'WSP_44.0',\n",
       " 'WSP_45.0']"
      ]
     },
     "execution_count": 39,
     "metadata": {},
     "output_type": "execute_result"
    }
   ],
   "source": [
    "[str( O3_corr_filtro.loc[i,\"contaminante\"] + \"_\" + str(O3_corr_filtro.loc[i,\"horas\"])) for i in range(len(O3_corr_filtro))]"
   ]
  },
  {
   "cell_type": "code",
   "execution_count": 12,
   "metadata": {},
   "outputs": [],
   "source": [
    "estaciones = data_hour_merge_24.id_station.unique().tolist() # recolectamos los nombres de las estaciones\n",
    "data_est = {}\n",
    "for elem in estaciones:\n",
    "    data_est[elem] = data_hour_merge_24[data_hour_merge_24.id_station == elem] #hacemos un df por estación"
   ]
  },
  {
   "cell_type": "markdown",
   "metadata": {},
   "source": [
    "Aplicamos la función para cada dataframe:"
   ]
  },
  {
   "cell_type": "code",
   "execution_count": 62,
   "metadata": {},
   "outputs": [],
   "source": [
    "data_shift = {}\n",
    "for elem in data_est:\n",
    "    data_shift[elem] = shit_corr(data_est[elem])"
   ]
  },
  {
   "cell_type": "markdown",
   "metadata": {},
   "source": [
    "Unimos los dataframes:"
   ]
  },
  {
   "cell_type": "code",
   "execution_count": 63,
   "metadata": {},
   "outputs": [],
   "source": [
    "df_append = pd.DataFrame(columns = data_est[\"MER\"].columns.tolist())\n",
    "for key in data_est:\n",
    "    df_append = df_append.append(data_est[key], ignore_index=True,sort=True)"
   ]
  },
  {
   "cell_type": "code",
   "execution_count": 64,
   "metadata": {},
   "outputs": [
    {
     "data": {
      "text/html": [
       "<div>\n",
       "<style scoped>\n",
       "    .dataframe tbody tr th:only-of-type {\n",
       "        vertical-align: middle;\n",
       "    }\n",
       "\n",
       "    .dataframe tbody tr th {\n",
       "        vertical-align: top;\n",
       "    }\n",
       "\n",
       "    .dataframe thead th {\n",
       "        text-align: right;\n",
       "    }\n",
       "</style>\n",
       "<table border=\"1\" class=\"dataframe\">\n",
       "  <thead>\n",
       "    <tr style=\"text-align: right;\">\n",
       "      <th></th>\n",
       "      <th>CO</th>\n",
       "      <th>NO</th>\n",
       "      <th>NO2</th>\n",
       "      <th>NO2_10.0</th>\n",
       "      <th>NO2_11.0</th>\n",
       "      <th>NO2_12.0</th>\n",
       "      <th>NO2_13.0</th>\n",
       "      <th>NO2_14.0</th>\n",
       "      <th>NO2_15.0</th>\n",
       "      <th>NO2_16.0</th>\n",
       "      <th>...</th>\n",
       "      <th>PM25mean_9.0</th>\n",
       "      <th>RH</th>\n",
       "      <th>SO2</th>\n",
       "      <th>TMP</th>\n",
       "      <th>WSP</th>\n",
       "      <th>dia</th>\n",
       "      <th>fecha</th>\n",
       "      <th>hora</th>\n",
       "      <th>id_station</th>\n",
       "      <th>mes</th>\n",
       "    </tr>\n",
       "  </thead>\n",
       "  <tbody>\n",
       "    <tr>\n",
       "      <th>252933</th>\n",
       "      <td>NaN</td>\n",
       "      <td>NaN</td>\n",
       "      <td>28.0</td>\n",
       "      <td>15.0</td>\n",
       "      <td>14.0</td>\n",
       "      <td>11.0</td>\n",
       "      <td>7.0</td>\n",
       "      <td>6.0</td>\n",
       "      <td>6.0</td>\n",
       "      <td>10.0</td>\n",
       "      <td>...</td>\n",
       "      <td>19.541667</td>\n",
       "      <td>80.0</td>\n",
       "      <td>NaN</td>\n",
       "      <td>14.6</td>\n",
       "      <td>0.9</td>\n",
       "      <td>31.0</td>\n",
       "      <td>2019-07-31 06:00:00</td>\n",
       "      <td>6</td>\n",
       "      <td>GAM</td>\n",
       "      <td>7.0</td>\n",
       "    </tr>\n",
       "    <tr>\n",
       "      <th>252934</th>\n",
       "      <td>NaN</td>\n",
       "      <td>NaN</td>\n",
       "      <td>28.0</td>\n",
       "      <td>15.0</td>\n",
       "      <td>15.0</td>\n",
       "      <td>14.0</td>\n",
       "      <td>11.0</td>\n",
       "      <td>7.0</td>\n",
       "      <td>6.0</td>\n",
       "      <td>6.0</td>\n",
       "      <td>...</td>\n",
       "      <td>19.916667</td>\n",
       "      <td>80.0</td>\n",
       "      <td>NaN</td>\n",
       "      <td>14.7</td>\n",
       "      <td>0.0</td>\n",
       "      <td>31.0</td>\n",
       "      <td>2019-07-31 07:00:00</td>\n",
       "      <td>7</td>\n",
       "      <td>GAM</td>\n",
       "      <td>7.0</td>\n",
       "    </tr>\n",
       "    <tr>\n",
       "      <th>252935</th>\n",
       "      <td>NaN</td>\n",
       "      <td>NaN</td>\n",
       "      <td>32.0</td>\n",
       "      <td>15.0</td>\n",
       "      <td>15.0</td>\n",
       "      <td>15.0</td>\n",
       "      <td>14.0</td>\n",
       "      <td>11.0</td>\n",
       "      <td>7.0</td>\n",
       "      <td>6.0</td>\n",
       "      <td>...</td>\n",
       "      <td>19.916667</td>\n",
       "      <td>75.0</td>\n",
       "      <td>NaN</td>\n",
       "      <td>15.9</td>\n",
       "      <td>0.8</td>\n",
       "      <td>31.0</td>\n",
       "      <td>2019-07-31 08:00:00</td>\n",
       "      <td>8</td>\n",
       "      <td>GAM</td>\n",
       "      <td>7.0</td>\n",
       "    </tr>\n",
       "    <tr>\n",
       "      <th>252936</th>\n",
       "      <td>NaN</td>\n",
       "      <td>NaN</td>\n",
       "      <td>40.0</td>\n",
       "      <td>17.0</td>\n",
       "      <td>15.0</td>\n",
       "      <td>15.0</td>\n",
       "      <td>15.0</td>\n",
       "      <td>14.0</td>\n",
       "      <td>11.0</td>\n",
       "      <td>7.0</td>\n",
       "      <td>...</td>\n",
       "      <td>20.083333</td>\n",
       "      <td>69.0</td>\n",
       "      <td>NaN</td>\n",
       "      <td>17.3</td>\n",
       "      <td>1.3</td>\n",
       "      <td>31.0</td>\n",
       "      <td>2019-07-31 09:00:00</td>\n",
       "      <td>9</td>\n",
       "      <td>GAM</td>\n",
       "      <td>7.0</td>\n",
       "    </tr>\n",
       "    <tr>\n",
       "      <th>252937</th>\n",
       "      <td>NaN</td>\n",
       "      <td>NaN</td>\n",
       "      <td>NaN</td>\n",
       "      <td>12.0</td>\n",
       "      <td>17.0</td>\n",
       "      <td>15.0</td>\n",
       "      <td>15.0</td>\n",
       "      <td>15.0</td>\n",
       "      <td>14.0</td>\n",
       "      <td>11.0</td>\n",
       "      <td>...</td>\n",
       "      <td>20.125000</td>\n",
       "      <td>66.0</td>\n",
       "      <td>NaN</td>\n",
       "      <td>17.7</td>\n",
       "      <td>1.4</td>\n",
       "      <td>31.0</td>\n",
       "      <td>2019-07-31 10:00:00</td>\n",
       "      <td>10</td>\n",
       "      <td>GAM</td>\n",
       "      <td>7.0</td>\n",
       "    </tr>\n",
       "  </tbody>\n",
       "</table>\n",
       "<p>5 rows × 180 columns</p>\n",
       "</div>"
      ],
      "text/plain": [
       "        CO  NO   NO2  NO2_10.0  NO2_11.0  NO2_12.0  NO2_13.0  NO2_14.0  \\\n",
       "252933 NaN NaN  28.0      15.0      14.0      11.0       7.0       6.0   \n",
       "252934 NaN NaN  28.0      15.0      15.0      14.0      11.0       7.0   \n",
       "252935 NaN NaN  32.0      15.0      15.0      15.0      14.0      11.0   \n",
       "252936 NaN NaN  40.0      17.0      15.0      15.0      15.0      14.0   \n",
       "252937 NaN NaN   NaN      12.0      17.0      15.0      15.0      15.0   \n",
       "\n",
       "        NO2_15.0  NO2_16.0  ...  PM25mean_9.0    RH  SO2   TMP  WSP   dia  \\\n",
       "252933       6.0      10.0  ...     19.541667  80.0  NaN  14.6  0.9  31.0   \n",
       "252934       6.0       6.0  ...     19.916667  80.0  NaN  14.7  0.0  31.0   \n",
       "252935       7.0       6.0  ...     19.916667  75.0  NaN  15.9  0.8  31.0   \n",
       "252936      11.0       7.0  ...     20.083333  69.0  NaN  17.3  1.3  31.0   \n",
       "252937      14.0      11.0  ...     20.125000  66.0  NaN  17.7  1.4  31.0   \n",
       "\n",
       "                      fecha  hora  id_station  mes  \n",
       "252933  2019-07-31 06:00:00     6         GAM  7.0  \n",
       "252934  2019-07-31 07:00:00     7         GAM  7.0  \n",
       "252935  2019-07-31 08:00:00     8         GAM  7.0  \n",
       "252936  2019-07-31 09:00:00     9         GAM  7.0  \n",
       "252937  2019-07-31 10:00:00    10         GAM  7.0  \n",
       "\n",
       "[5 rows x 180 columns]"
      ]
     },
     "execution_count": 64,
     "metadata": {},
     "output_type": "execute_result"
    }
   ],
   "source": [
    "df_append.tail(5)"
   ]
  },
  {
   "cell_type": "markdown",
   "metadata": {},
   "source": [
    "# 2.\n",
    "### Se obtiene el promedio, máximo y mínimo por hora de todas las estaciones."
   ]
  },
  {
   "cell_type": "markdown",
   "metadata": {},
   "source": [
    "Debido a que solo algunas estaciones miden todos los atributos con los que se está trabajando, se encontró que agrupar las condiciones atmosféricas de cada atributo con el promedio, máximo y mínimo, genera una mejora considerable al desempeño final de los modelos, debido a que al hacer esta agrupación se suavizan los valores y también se homogeniza los atributos de cada estación.\n",
    "\n",
    "Se guardan las columnas al aplicar el groupby y se elimina \"fecha\":"
   ]
  },
  {
   "cell_type": "code",
   "execution_count": 65,
   "metadata": {},
   "outputs": [],
   "source": [
    "cols = df_append.columns.tolist() \n",
    "cols.remove(\"fecha\")\n",
    "cols.remove(\"id_station\")\n",
    "df_append[cols] = df_append[cols].astype(float)"
   ]
  },
  {
   "cell_type": "markdown",
   "metadata": {},
   "source": [
    "Aplicamos los groupbys:"
   ]
  },
  {
   "cell_type": "code",
   "execution_count": 66,
   "metadata": {},
   "outputs": [],
   "source": [
    "data_hour_merge_24_mean = df_append.groupby('fecha')[cols].mean()\n",
    "data_hour_merge_24_mean.reset_index(inplace=True)"
   ]
  },
  {
   "cell_type": "code",
   "execution_count": 67,
   "metadata": {},
   "outputs": [],
   "source": [
    "data_hour_merge_24_max = df_append.groupby('fecha')[cols].max()\n",
    "data_hour_merge_24_max.reset_index(inplace=True)"
   ]
  },
  {
   "cell_type": "code",
   "execution_count": 68,
   "metadata": {},
   "outputs": [],
   "source": [
    "data_hour_merge_24_min = df_append.groupby('fecha')[cols].min()\n",
    "data_hour_merge_24_min.reset_index(inplace=True)"
   ]
  },
  {
   "cell_type": "markdown",
   "metadata": {},
   "source": [
    "#### Cambiamos los nombres de las estaciones:\n",
    "Debido a que cada groupby genera los mismos nombres, esto puede generar problemas para identificar de qué columna se trata, se cambiarán los nombres a \"contaminante_max\", \"contaminante_min\", \"contaminante_mean\" según corresponda.\n",
    "\n",
    "Se obtienenn los nonbres de las columnas en forma de lista:"
   ]
  },
  {
   "cell_type": "code",
   "execution_count": 69,
   "metadata": {},
   "outputs": [],
   "source": [
    "max_columns = data_hour_merge_24_max.columns.tolist()\n",
    "min_columns = data_hour_merge_24_min.columns.tolist()\n",
    "mean_columns = data_hour_merge_24_mean.columns.tolist()"
   ]
  },
  {
   "cell_type": "markdown",
   "metadata": {},
   "source": [
    "Se cambian los nombres en las listas:"
   ]
  },
  {
   "cell_type": "code",
   "execution_count": 70,
   "metadata": {},
   "outputs": [],
   "source": [
    "for i in range(len(max_columns)):\n",
    "    if not max_columns[i].startswith(\"fecha\") \\\n",
    "    and not max_columns[i].startswith(\"hora\") \\\n",
    "    and not max_columns[i].startswith(\"dia\") \\\n",
    "    and not max_columns[i].startswith(\"mes\"):\n",
    "        max_columns[i] = max_columns[i]+\"_max\"\n",
    "        \n",
    "    if not min_columns[i].startswith(\"fecha\") \\\n",
    "    and not min_columns[i].startswith(\"hora\") \\\n",
    "    and not min_columns[i].startswith(\"dia\") \\\n",
    "    and not min_columns[i].startswith(\"mes\"):\n",
    "        min_columns[i] = min_columns[i]+\"_min\" \n",
    "        \n",
    "    if not mean_columns[i].startswith(\"fecha\") \\\n",
    "    and not mean_columns[i].startswith(\"hora\") \\\n",
    "    and not mean_columns[i].startswith(\"dia\") \\\n",
    "    and not mean_columns[i].startswith(\"mes\"):\n",
    "        mean_columns[i] = mean_columns[i]+\"_mean\""
   ]
  },
  {
   "cell_type": "markdown",
   "metadata": {},
   "source": [
    "Se renombra las columnas de los dataframes"
   ]
  },
  {
   "cell_type": "code",
   "execution_count": 71,
   "metadata": {},
   "outputs": [],
   "source": [
    "data_hour_merge_24_mean.columns = mean_columns\n",
    "data_hour_merge_24_min.columns = min_columns\n",
    "data_hour_merge_24_max.columns = max_columns"
   ]
  },
  {
   "cell_type": "markdown",
   "metadata": {},
   "source": [
    "Unimos los df's "
   ]
  },
  {
   "cell_type": "code",
   "execution_count": 72,
   "metadata": {},
   "outputs": [],
   "source": [
    "data_hour_merge = pd.merge(data_hour_merge_24_mean, data_hour_merge_24_max, on=['fecha'])\n",
    "data_hour_merge = pd.merge(data_hour_merge, data_hour_merge_24_min, on=['fecha'])"
   ]
  },
  {
   "cell_type": "code",
   "execution_count": 73,
   "metadata": {},
   "outputs": [],
   "source": [
    "data_hour_merge_columns = data_hour_merge.columns.tolist()"
   ]
  },
  {
   "cell_type": "markdown",
   "metadata": {},
   "source": [
    "###### Eliminamos las columnas dehora dia y mes que acaben con x & y"
   ]
  },
  {
   "cell_type": "code",
   "execution_count": 74,
   "metadata": {},
   "outputs": [],
   "source": [
    "for item in range(len(data_hour_merge_columns)):\n",
    "    if  data_hour_merge_columns[item].endswith(\"_x\")\\\n",
    "    or  data_hour_merge_columns[item].endswith(\"_y\"):\n",
    "        data_hour_merge_columns[item] = data_hour_merge_columns[item][:-2]"
   ]
  },
  {
   "cell_type": "code",
   "execution_count": 75,
   "metadata": {},
   "outputs": [],
   "source": [
    "data_hour_merge.columns = data_hour_merge_columns#.tolist()\n",
    "\n",
    "data_hour_merge = data_hour_merge.loc[:,~data_hour_merge.columns.duplicated()]"
   ]
  },
  {
   "cell_type": "markdown",
   "metadata": {},
   "source": [
    "Debido a que el proceso de obtener el máximo y mínimo es lento, es conveniente guardar el archivo de manera provisional:"
   ]
  },
  {
   "cell_type": "code",
   "execution_count": 77,
   "metadata": {},
   "outputs": [],
   "source": [
    "data_hour_merge.to_csv(\"./datos/datos_gb_\" + contaminante + \".csv\", sep=',', encoding='utf-8',index=False)"
   ]
  },
  {
   "cell_type": "markdown",
   "metadata": {},
   "source": [
    "# Leamos el archivo:"
   ]
  },
  {
   "cell_type": "code",
   "execution_count": 78,
   "metadata": {},
   "outputs": [],
   "source": [
    "data_hour_merge = pd.read_csv(\"./datos/datos_gb_\" + contaminante + \".csv\", sep=',', encoding='utf-8')"
   ]
  },
  {
   "cell_type": "code",
   "execution_count": 79,
   "metadata": {},
   "outputs": [],
   "source": [
    "data_hour_merge = data_hour_merge.sort_values(['fecha',\"hora\"], ascending=[0,1]).reset_index(drop=True)"
   ]
  },
  {
   "cell_type": "markdown",
   "metadata": {},
   "source": [
    "## 3. \n",
    "### Generar las columna a pronosticar y obtener la correlación de los valores promedio máximo y mínimo con éste. Filtrar los valores más importantes.\n"
   ]
  },
  {
   "cell_type": "markdown",
   "metadata": {},
   "source": [
    "Ahora vamos a sacar los atributos más correlacionado con el contaminante a pronosticar a pronosticar. "
   ]
  },
  {
   "cell_type": "code",
   "execution_count": 80,
   "metadata": {},
   "outputs": [
    {
     "name": "stdout",
     "output_type": "stream",
     "text": [
      "PM25mean_max\n"
     ]
    }
   ],
   "source": [
    "if contaminante == 'PM10' or contaminante == 'PM2.5':\n",
    "    item = contaminante+\"mean_max\"\n",
    "else:\n",
    "    item = contaminante+\"_max\" \n",
    "print(item)"
   ]
  },
  {
   "cell_type": "markdown",
   "metadata": {},
   "source": [
    "Desplazamos el target **24 horas** en adelante, esta columna nos indica el valor de contaminación que tomó a partir de condiciones atmosféricas 24 horas atrás. Este será nuesta columna a pronosticar."
   ]
  },
  {
   "cell_type": "code",
   "execution_count": 81,
   "metadata": {},
   "outputs": [],
   "source": [
    "data_hour_merge[str(item+\"_frcst_\"+str(24))] = data_hour_merge[item].shift(24)"
   ]
  },
  {
   "cell_type": "code",
   "execution_count": 82,
   "metadata": {},
   "outputs": [
    {
     "name": "stdout",
     "output_type": "stream",
     "text": [
      "PM25mean_max_frcst_24\n"
     ]
    }
   ],
   "source": [
    "target = str(item+\"_frcst_\"+ str(24))\n",
    "print(target)"
   ]
  },
  {
   "cell_type": "code",
   "execution_count": 83,
   "metadata": {},
   "outputs": [
    {
     "data": {
      "text/html": [
       "<div>\n",
       "<style scoped>\n",
       "    .dataframe tbody tr th:only-of-type {\n",
       "        vertical-align: middle;\n",
       "    }\n",
       "\n",
       "    .dataframe tbody tr th {\n",
       "        vertical-align: top;\n",
       "    }\n",
       "\n",
       "    .dataframe thead th {\n",
       "        text-align: right;\n",
       "    }\n",
       "</style>\n",
       "<table border=\"1\" class=\"dataframe\">\n",
       "  <thead>\n",
       "    <tr style=\"text-align: right;\">\n",
       "      <th></th>\n",
       "      <th>fecha</th>\n",
       "      <th>CO_mean</th>\n",
       "      <th>NO_mean</th>\n",
       "      <th>NO2_mean</th>\n",
       "      <th>NO2_10.0_mean</th>\n",
       "      <th>NO2_11.0_mean</th>\n",
       "      <th>NO2_12.0_mean</th>\n",
       "      <th>NO2_13.0_mean</th>\n",
       "      <th>NO2_14.0_mean</th>\n",
       "      <th>NO2_15.0_mean</th>\n",
       "      <th>...</th>\n",
       "      <th>PM25mean_5.0_min</th>\n",
       "      <th>PM25mean_6.0_min</th>\n",
       "      <th>PM25mean_7.0_min</th>\n",
       "      <th>PM25mean_8.0_min</th>\n",
       "      <th>PM25mean_9.0_min</th>\n",
       "      <th>RH_min</th>\n",
       "      <th>SO2_min</th>\n",
       "      <th>TMP_min</th>\n",
       "      <th>WSP_min</th>\n",
       "      <th>PM25mean_max_frcst_24</th>\n",
       "    </tr>\n",
       "  </thead>\n",
       "  <tbody>\n",
       "    <tr>\n",
       "      <th>0</th>\n",
       "      <td>2019-08-01 00:00:00</td>\n",
       "      <td>0.26</td>\n",
       "      <td>1.25</td>\n",
       "      <td>14.6</td>\n",
       "      <td>21.4</td>\n",
       "      <td>27.0</td>\n",
       "      <td>28.6</td>\n",
       "      <td>29.0</td>\n",
       "      <td>26.2</td>\n",
       "      <td>24.8</td>\n",
       "      <td>...</td>\n",
       "      <td>15.750000</td>\n",
       "      <td>16.208333</td>\n",
       "      <td>19.250000</td>\n",
       "      <td>19.458333</td>\n",
       "      <td>18.666667</td>\n",
       "      <td>61.0</td>\n",
       "      <td>1.0</td>\n",
       "      <td>14.8</td>\n",
       "      <td>1.8</td>\n",
       "      <td>NaN</td>\n",
       "    </tr>\n",
       "    <tr>\n",
       "      <th>1</th>\n",
       "      <td>2019-07-31 23:00:00</td>\n",
       "      <td>0.40</td>\n",
       "      <td>4.00</td>\n",
       "      <td>20.2</td>\n",
       "      <td>27.0</td>\n",
       "      <td>28.6</td>\n",
       "      <td>29.0</td>\n",
       "      <td>26.2</td>\n",
       "      <td>24.8</td>\n",
       "      <td>25.8</td>\n",
       "      <td>...</td>\n",
       "      <td>16.208333</td>\n",
       "      <td>19.250000</td>\n",
       "      <td>19.458333</td>\n",
       "      <td>18.666667</td>\n",
       "      <td>17.958333</td>\n",
       "      <td>59.0</td>\n",
       "      <td>1.0</td>\n",
       "      <td>15.0</td>\n",
       "      <td>1.3</td>\n",
       "      <td>NaN</td>\n",
       "    </tr>\n",
       "    <tr>\n",
       "      <th>2</th>\n",
       "      <td>2019-07-31 22:00:00</td>\n",
       "      <td>0.50</td>\n",
       "      <td>4.00</td>\n",
       "      <td>25.8</td>\n",
       "      <td>28.6</td>\n",
       "      <td>29.0</td>\n",
       "      <td>26.2</td>\n",
       "      <td>24.8</td>\n",
       "      <td>25.8</td>\n",
       "      <td>27.2</td>\n",
       "      <td>...</td>\n",
       "      <td>19.250000</td>\n",
       "      <td>19.458333</td>\n",
       "      <td>18.666667</td>\n",
       "      <td>17.958333</td>\n",
       "      <td>17.291667</td>\n",
       "      <td>56.0</td>\n",
       "      <td>1.0</td>\n",
       "      <td>15.3</td>\n",
       "      <td>1.7</td>\n",
       "      <td>NaN</td>\n",
       "    </tr>\n",
       "    <tr>\n",
       "      <th>3</th>\n",
       "      <td>2019-07-31 21:00:00</td>\n",
       "      <td>0.48</td>\n",
       "      <td>3.25</td>\n",
       "      <td>25.0</td>\n",
       "      <td>29.0</td>\n",
       "      <td>26.2</td>\n",
       "      <td>24.8</td>\n",
       "      <td>25.8</td>\n",
       "      <td>27.2</td>\n",
       "      <td>22.6</td>\n",
       "      <td>...</td>\n",
       "      <td>19.458333</td>\n",
       "      <td>18.666667</td>\n",
       "      <td>17.958333</td>\n",
       "      <td>17.291667</td>\n",
       "      <td>16.791667</td>\n",
       "      <td>53.0</td>\n",
       "      <td>1.0</td>\n",
       "      <td>15.0</td>\n",
       "      <td>1.5</td>\n",
       "      <td>NaN</td>\n",
       "    </tr>\n",
       "    <tr>\n",
       "      <th>4</th>\n",
       "      <td>2019-07-31 20:00:00</td>\n",
       "      <td>0.44</td>\n",
       "      <td>3.00</td>\n",
       "      <td>20.4</td>\n",
       "      <td>26.2</td>\n",
       "      <td>24.8</td>\n",
       "      <td>25.8</td>\n",
       "      <td>27.2</td>\n",
       "      <td>22.6</td>\n",
       "      <td>15.4</td>\n",
       "      <td>...</td>\n",
       "      <td>18.666667</td>\n",
       "      <td>17.958333</td>\n",
       "      <td>17.291667</td>\n",
       "      <td>16.791667</td>\n",
       "      <td>16.375000</td>\n",
       "      <td>49.0</td>\n",
       "      <td>1.0</td>\n",
       "      <td>14.3</td>\n",
       "      <td>1.6</td>\n",
       "      <td>NaN</td>\n",
       "    </tr>\n",
       "  </tbody>\n",
       "</table>\n",
       "<p>5 rows × 530 columns</p>\n",
       "</div>"
      ],
      "text/plain": [
       "                 fecha  CO_mean  NO_mean  NO2_mean  NO2_10.0_mean  \\\n",
       "0  2019-08-01 00:00:00     0.26     1.25      14.6           21.4   \n",
       "1  2019-07-31 23:00:00     0.40     4.00      20.2           27.0   \n",
       "2  2019-07-31 22:00:00     0.50     4.00      25.8           28.6   \n",
       "3  2019-07-31 21:00:00     0.48     3.25      25.0           29.0   \n",
       "4  2019-07-31 20:00:00     0.44     3.00      20.4           26.2   \n",
       "\n",
       "   NO2_11.0_mean  NO2_12.0_mean  NO2_13.0_mean  NO2_14.0_mean  NO2_15.0_mean  \\\n",
       "0           27.0           28.6           29.0           26.2           24.8   \n",
       "1           28.6           29.0           26.2           24.8           25.8   \n",
       "2           29.0           26.2           24.8           25.8           27.2   \n",
       "3           26.2           24.8           25.8           27.2           22.6   \n",
       "4           24.8           25.8           27.2           22.6           15.4   \n",
       "\n",
       "   ...  PM25mean_5.0_min  PM25mean_6.0_min  PM25mean_7.0_min  \\\n",
       "0  ...         15.750000         16.208333         19.250000   \n",
       "1  ...         16.208333         19.250000         19.458333   \n",
       "2  ...         19.250000         19.458333         18.666667   \n",
       "3  ...         19.458333         18.666667         17.958333   \n",
       "4  ...         18.666667         17.958333         17.291667   \n",
       "\n",
       "   PM25mean_8.0_min  PM25mean_9.0_min  RH_min  SO2_min  TMP_min  WSP_min  \\\n",
       "0         19.458333         18.666667    61.0      1.0     14.8      1.8   \n",
       "1         18.666667         17.958333    59.0      1.0     15.0      1.3   \n",
       "2         17.958333         17.291667    56.0      1.0     15.3      1.7   \n",
       "3         17.291667         16.791667    53.0      1.0     15.0      1.5   \n",
       "4         16.791667         16.375000    49.0      1.0     14.3      1.6   \n",
       "\n",
       "   PM25mean_max_frcst_24  \n",
       "0                    NaN  \n",
       "1                    NaN  \n",
       "2                    NaN  \n",
       "3                    NaN  \n",
       "4                    NaN  \n",
       "\n",
       "[5 rows x 530 columns]"
      ]
     },
     "execution_count": 83,
     "metadata": {},
     "output_type": "execute_result"
    }
   ],
   "source": [
    "data_hour_merge.head()"
   ]
  },
  {
   "cell_type": "markdown",
   "metadata": {},
   "source": [
    "## 4. \n",
    "### Generar las columnas de pronóstico de RH, WSP TMP."
   ]
  },
  {
   "cell_type": "markdown",
   "metadata": {},
   "source": [
    "Se observó que usando datos de pronóstico atmosférico, el modelo tiene un mejor desempeño, vamos a añadir \"RH_mean\",\"WSP_mean\",\"TMP_mean\" a los atributos con un pronóstico de 24 horas."
   ]
  },
  {
   "cell_type": "code",
   "execution_count": 84,
   "metadata": {},
   "outputs": [],
   "source": [
    "lista_frcst = [\"RH_mean\",\"WSP_mean\",\"TMP_mean\"]"
   ]
  },
  {
   "cell_type": "code",
   "execution_count": 85,
   "metadata": {},
   "outputs": [],
   "source": [
    "for item_pronostico in lista_frcst:\n",
    "    for i in range(1, 25):\n",
    "        col_name = str(item_pronostico+\"_frcst_\"+str(i))\n",
    "        data_hour_merge[col_name] = data_hour_merge[item_pronostico].shift(i)\n",
    "data_hour_merge.dropna(inplace=True)"
   ]
  },
  {
   "cell_type": "markdown",
   "metadata": {},
   "source": [
    "volvamos a sacar la correlación y filtramos los valores de correlación:"
   ]
  },
  {
   "cell_type": "code",
   "execution_count": 86,
   "metadata": {},
   "outputs": [
    {
     "data": {
      "text/plain": [
       "'PM25mean'"
      ]
     },
     "execution_count": 86,
     "metadata": {},
     "output_type": "execute_result"
    }
   ],
   "source": [
    "contaminante"
   ]
  },
  {
   "cell_type": "markdown",
   "metadata": {},
   "source": [
    " Filtramos el número de filas según el contaminante:"
   ]
  },
  {
   "cell_type": "code",
   "execution_count": 87,
   "metadata": {},
   "outputs": [],
   "source": [
    "if contaminante == \"O3\":\n",
    "    threshold = 0.49\n",
    "elif contaminante == \"PM10mean\":\n",
    "        threshold = 0.48\n",
    "else:\n",
    "    threshold = 0.44\n",
    "    "
   ]
  },
  {
   "cell_type": "code",
   "execution_count": 88,
   "metadata": {},
   "outputs": [],
   "source": [
    "data_corr_2 = data_hour_merge.corr()\n",
    "variables_mas_correlacionadas_con_pronóstico = data_corr_2[target][(data_corr_2[target] > threshold) |                                                                \n",
    "                                                            (data_corr_2[target] < - threshold)].index.tolist()"
   ]
  },
  {
   "cell_type": "code",
   "execution_count": 89,
   "metadata": {},
   "outputs": [
    {
     "data": {
      "text/plain": [
       "128"
      ]
     },
     "execution_count": 89,
     "metadata": {},
     "output_type": "execute_result"
    }
   ],
   "source": [
    "len(variables_mas_correlacionadas_con_pronóstico)"
   ]
  },
  {
   "cell_type": "markdown",
   "metadata": {},
   "source": [
    "Agregamos a las columnas mas correlacionadas los atributos de pronóstico:"
   ]
  },
  {
   "cell_type": "code",
   "execution_count": 90,
   "metadata": {},
   "outputs": [],
   "source": [
    "variables_mas_correlacionadas_con_pronóstico.append(\"RH_mean\")\n",
    "variables_mas_correlacionadas_con_pronóstico.append(\"WSP_mean\")\n",
    "variables_mas_correlacionadas_con_pronóstico.append(\"TMP_mean\")\n",
    "variables_mas_correlacionadas_con_pronóstico.append(\"fecha\")\n",
    "variables_mas_correlacionadas_con_pronóstico.append(\"O3_max\")\n",
    "variables_mas_correlacionadas_con_pronóstico = list(set(variables_mas_correlacionadas_con_pronóstico))"
   ]
  },
  {
   "cell_type": "code",
   "execution_count": 91,
   "metadata": {},
   "outputs": [],
   "source": [
    "data_hour_merge = data_hour_merge[variables_mas_correlacionadas_con_pronóstico]"
   ]
  },
  {
   "cell_type": "code",
   "execution_count": 92,
   "metadata": {},
   "outputs": [
    {
     "data": {
      "text/plain": [
       "['PM25mean_14.0_max',\n",
       " 'PM10mean_0.0_mean',\n",
       " 'PM10mean_20.0_mean',\n",
       " 'PM10_8.0_mean',\n",
       " 'PM10mean_3.0_max',\n",
       " 'PM2.5_6.0_max',\n",
       " 'O3_max',\n",
       " 'PM10mean_18.0_mean',\n",
       " 'fecha',\n",
       " 'PM25mean_2.0_max',\n",
       " 'PM2.5_9.0_mean',\n",
       " 'PM10_1.0_mean',\n",
       " 'PM2.5_2.0_max',\n",
       " 'PM25mean_0.0_min',\n",
       " 'PM25mean_13.0_max',\n",
       " 'PM10mean_10.0_max',\n",
       " 'PM25mean_5.0_max',\n",
       " 'PM10mean_15.0_max',\n",
       " 'PM10mean_6.0_max',\n",
       " 'PM10mean_0.0_min',\n",
       " 'NO2_3.0_max',\n",
       " 'PM10mean_max',\n",
       " 'PM10_1.0_max',\n",
       " 'PM10mean_1.0_max',\n",
       " 'PM10_10.0_mean',\n",
       " 'PM2.5_4.0_mean',\n",
       " 'PM10mean_7.0_mean',\n",
       " 'PM10mean_21.0_mean',\n",
       " 'PM2.5_mean',\n",
       " 'PM10mean_23.0_mean',\n",
       " 'PM25mean_0.0_mean',\n",
       " 'PM10_4.0_max',\n",
       " 'PM10mean_17.0_max',\n",
       " 'PM10_12.0_mean',\n",
       " 'PM25mean_6.0_max',\n",
       " 'PM25mean_6.0_mean',\n",
       " 'PM25mean_1.0_max',\n",
       " 'PM10mean_6.0_mean',\n",
       " 'PM10mean_11.0_mean',\n",
       " 'PM2.5_3.0_max',\n",
       " 'PM2.5_2.0_mean',\n",
       " 'PM10mean_22.0_mean',\n",
       " 'PM10mean_16.0_mean',\n",
       " 'PM10mean_8.0_mean',\n",
       " 'PM25mean_11.0_mean',\n",
       " 'PM25mean_4.0_max',\n",
       " 'PM25mean_0.0_max',\n",
       " 'NO2_max',\n",
       " 'WSP_mean',\n",
       " 'PM10mean_9.0_mean',\n",
       " 'PM10mean_17.0_mean',\n",
       " 'PM2.5_8.0_mean',\n",
       " 'PM25mean_3.0_mean',\n",
       " 'PM25mean_7.0_max',\n",
       " 'PM25mean_9.0_mean',\n",
       " 'PM10mean_16.0_max',\n",
       " 'PM10mean_14.0_mean',\n",
       " 'NO2_mean',\n",
       " 'PM10mean_2.0_max',\n",
       " 'PM10mean_2.0_mean',\n",
       " 'PM10mean_mean',\n",
       " 'PM10_0.0_max',\n",
       " 'PM10mean_12.0_max',\n",
       " 'PM25mean_min',\n",
       " 'PM10mean_13.0_mean',\n",
       " 'PM10mean_8.0_max',\n",
       " 'PM10mean_0.0_max',\n",
       " 'PM25mean_3.0_max',\n",
       " 'PM10mean_14.0_max',\n",
       " 'PM25mean_1.0_mean',\n",
       " 'PM10_2.0_max',\n",
       " 'PM10_0.0_mean',\n",
       " 'PM10mean_15.0_mean',\n",
       " 'PM10mean_19.0_mean',\n",
       " 'PM10_11.0_mean',\n",
       " 'PM10mean_13.0_max',\n",
       " 'PM10mean_4.0_max',\n",
       " 'PM25mean_10.0_mean',\n",
       " 'PM25mean_14.0_mean',\n",
       " 'PM10_3.0_max',\n",
       " 'PM10mean_1.0_mean',\n",
       " 'PM2.5_1.0_mean',\n",
       " 'PM25mean_8.0_max',\n",
       " 'PM25mean_4.0_mean',\n",
       " 'PM10_5.0_mean',\n",
       " 'PM25mean_5.0_mean',\n",
       " 'PM25mean_11.0_max',\n",
       " 'PM10mean_12.0_mean',\n",
       " 'PM10_4.0_mean',\n",
       " 'PM10_mean',\n",
       " 'RH_mean',\n",
       " 'PM10mean_1.0_min',\n",
       " 'PM2.5_0.0_mean',\n",
       " 'PM10mean_5.0_max',\n",
       " 'PM2.5_max',\n",
       " 'PM10mean_4.0_mean',\n",
       " 'PM2.5_4.0_max',\n",
       " 'PM2.5_5.0_max',\n",
       " 'PM25mean_max_frcst_24',\n",
       " 'PM2.5_min',\n",
       " 'PM10mean_7.0_max',\n",
       " 'PM10_7.0_mean',\n",
       " 'PM25mean_mean',\n",
       " 'PM10_9.0_mean',\n",
       " 'PM25mean_9.0_max',\n",
       " 'PM10mean_min',\n",
       " 'PM10_3.0_mean',\n",
       " 'PM2.5_1.0_max',\n",
       " 'PM2.5_5.0_mean',\n",
       " 'PM2.5_6.0_mean',\n",
       " 'PM2.5_0.0_max',\n",
       " 'PM10mean_3.0_mean',\n",
       " 'PM10_6.0_mean',\n",
       " 'PM10mean_5.0_mean',\n",
       " 'PM25mean_8.0_mean',\n",
       " 'PM10_max',\n",
       " 'PM25mean_10.0_max',\n",
       " 'PM25mean_max',\n",
       " 'PM25mean_12.0_max',\n",
       " 'PM25mean_1.0_min',\n",
       " 'PM2.5_3.0_mean',\n",
       " 'PM25mean_15.0_mean',\n",
       " 'PM10mean_10.0_mean',\n",
       " 'PM25mean_12.0_mean',\n",
       " 'PM10mean_11.0_max',\n",
       " 'PM25mean_2.0_mean',\n",
       " 'TMP_mean',\n",
       " 'PM2.5_7.0_mean',\n",
       " 'PM25mean_7.0_mean',\n",
       " 'PM25mean_13.0_mean',\n",
       " 'PM10_2.0_mean',\n",
       " 'PM10mean_9.0_max',\n",
       " 'PM2.5_0.0_min']"
      ]
     },
     "execution_count": 92,
     "metadata": {},
     "output_type": "execute_result"
    }
   ],
   "source": [
    "variables_mas_correlacionadas_con_pronóstico"
   ]
  },
  {
   "cell_type": "markdown",
   "metadata": {},
   "source": [
    "## 5. \n",
    "### Generar las columnas del contaminante a pronosticar de 1 hasta 23 horas.\n"
   ]
  },
  {
   "cell_type": "markdown",
   "metadata": {},
   "source": [
    "Al tratarse de modelos supervisados, es necesario tener como columna cada uno de los valores a pronosticar, esta columna es la columna del contaminante recorrido desde 1 hasta 24 horas atrás:"
   ]
  },
  {
   "cell_type": "markdown",
   "metadata": {},
   "source": [
    "Definimos el contaminante que estamos usando:"
   ]
  },
  {
   "cell_type": "code",
   "execution_count": 93,
   "metadata": {},
   "outputs": [
    {
     "name": "stdout",
     "output_type": "stream",
     "text": [
      "PM25mean_max\n"
     ]
    }
   ],
   "source": [
    "if contaminante == 'PM10' or contaminante == 'PM2.5':\n",
    "    item = contaminante+\"mean_max\"\n",
    "else:\n",
    "    item = contaminante+\"_max\" \n",
    "print(item)"
   ]
  },
  {
   "cell_type": "code",
   "execution_count": 94,
   "metadata": {},
   "outputs": [
    {
     "name": "stdout",
     "output_type": "stream",
     "text": [
      "23\n"
     ]
    }
   ],
   "source": [
    "for i in range(1, 24):\n",
    "    col_name = str(item+\"_frcst_\"+str(i))\n",
    "    data_hour_merge[col_name] = data_hour_merge[item].shift(i)\n",
    "    if i==range(1, 24)[-1]:\n",
    "        print(i)\n",
    "data_hour_merge.dropna(inplace=True)"
   ]
  },
  {
   "cell_type": "markdown",
   "metadata": {},
   "source": [
    "Guardemos:"
   ]
  },
  {
   "cell_type": "code",
   "execution_count": 95,
   "metadata": {},
   "outputs": [],
   "source": [
    "data_hour_merge.to_csv(\"./datos/datos_modelos_\"+ contaminante + \".csv\",sep=',', encoding='utf-8',index=False)"
   ]
  },
  {
   "cell_type": "code",
   "execution_count": 96,
   "metadata": {},
   "outputs": [
    {
     "data": {
      "text/plain": [
       "['PM25mean_14.0_max',\n",
       " 'PM10mean_0.0_mean',\n",
       " 'PM10mean_20.0_mean',\n",
       " 'PM10_8.0_mean',\n",
       " 'PM10mean_3.0_max',\n",
       " 'PM2.5_6.0_max',\n",
       " 'O3_max',\n",
       " 'PM10mean_18.0_mean',\n",
       " 'fecha',\n",
       " 'PM25mean_2.0_max',\n",
       " 'PM2.5_9.0_mean',\n",
       " 'PM10_1.0_mean',\n",
       " 'PM2.5_2.0_max',\n",
       " 'PM25mean_0.0_min',\n",
       " 'PM25mean_13.0_max',\n",
       " 'PM10mean_10.0_max',\n",
       " 'PM25mean_5.0_max',\n",
       " 'PM10mean_15.0_max',\n",
       " 'PM10mean_6.0_max',\n",
       " 'PM10mean_0.0_min',\n",
       " 'NO2_3.0_max',\n",
       " 'PM10mean_max',\n",
       " 'PM10_1.0_max',\n",
       " 'PM10mean_1.0_max',\n",
       " 'PM10_10.0_mean',\n",
       " 'PM2.5_4.0_mean',\n",
       " 'PM10mean_7.0_mean',\n",
       " 'PM10mean_21.0_mean',\n",
       " 'PM2.5_mean',\n",
       " 'PM10mean_23.0_mean',\n",
       " 'PM25mean_0.0_mean',\n",
       " 'PM10_4.0_max',\n",
       " 'PM10mean_17.0_max',\n",
       " 'PM10_12.0_mean',\n",
       " 'PM25mean_6.0_max',\n",
       " 'PM25mean_6.0_mean',\n",
       " 'PM25mean_1.0_max',\n",
       " 'PM10mean_6.0_mean',\n",
       " 'PM10mean_11.0_mean',\n",
       " 'PM2.5_3.0_max',\n",
       " 'PM2.5_2.0_mean',\n",
       " 'PM10mean_22.0_mean',\n",
       " 'PM10mean_16.0_mean',\n",
       " 'PM10mean_8.0_mean',\n",
       " 'PM25mean_11.0_mean',\n",
       " 'PM25mean_4.0_max',\n",
       " 'PM25mean_0.0_max',\n",
       " 'NO2_max',\n",
       " 'WSP_mean',\n",
       " 'PM10mean_9.0_mean',\n",
       " 'PM10mean_17.0_mean',\n",
       " 'PM2.5_8.0_mean',\n",
       " 'PM25mean_3.0_mean',\n",
       " 'PM25mean_7.0_max',\n",
       " 'PM25mean_9.0_mean',\n",
       " 'PM10mean_16.0_max',\n",
       " 'PM10mean_14.0_mean',\n",
       " 'NO2_mean',\n",
       " 'PM10mean_2.0_max',\n",
       " 'PM10mean_2.0_mean',\n",
       " 'PM10mean_mean',\n",
       " 'PM10_0.0_max',\n",
       " 'PM10mean_12.0_max',\n",
       " 'PM25mean_min',\n",
       " 'PM10mean_13.0_mean',\n",
       " 'PM10mean_8.0_max',\n",
       " 'PM10mean_0.0_max',\n",
       " 'PM25mean_3.0_max',\n",
       " 'PM10mean_14.0_max',\n",
       " 'PM25mean_1.0_mean',\n",
       " 'PM10_2.0_max',\n",
       " 'PM10_0.0_mean',\n",
       " 'PM10mean_15.0_mean',\n",
       " 'PM10mean_19.0_mean',\n",
       " 'PM10_11.0_mean',\n",
       " 'PM10mean_13.0_max',\n",
       " 'PM10mean_4.0_max',\n",
       " 'PM25mean_10.0_mean',\n",
       " 'PM25mean_14.0_mean',\n",
       " 'PM10_3.0_max',\n",
       " 'PM10mean_1.0_mean',\n",
       " 'PM2.5_1.0_mean',\n",
       " 'PM25mean_8.0_max',\n",
       " 'PM25mean_4.0_mean',\n",
       " 'PM10_5.0_mean',\n",
       " 'PM25mean_5.0_mean',\n",
       " 'PM25mean_11.0_max',\n",
       " 'PM10mean_12.0_mean',\n",
       " 'PM10_4.0_mean',\n",
       " 'PM10_mean',\n",
       " 'RH_mean',\n",
       " 'PM10mean_1.0_min',\n",
       " 'PM2.5_0.0_mean',\n",
       " 'PM10mean_5.0_max',\n",
       " 'PM2.5_max',\n",
       " 'PM10mean_4.0_mean',\n",
       " 'PM2.5_4.0_max',\n",
       " 'PM2.5_5.0_max',\n",
       " 'PM25mean_max_frcst_24',\n",
       " 'PM2.5_min',\n",
       " 'PM10mean_7.0_max',\n",
       " 'PM10_7.0_mean',\n",
       " 'PM25mean_mean',\n",
       " 'PM10_9.0_mean',\n",
       " 'PM25mean_9.0_max',\n",
       " 'PM10mean_min',\n",
       " 'PM10_3.0_mean',\n",
       " 'PM2.5_1.0_max',\n",
       " 'PM2.5_5.0_mean',\n",
       " 'PM2.5_6.0_mean',\n",
       " 'PM2.5_0.0_max',\n",
       " 'PM10mean_3.0_mean',\n",
       " 'PM10_6.0_mean',\n",
       " 'PM10mean_5.0_mean',\n",
       " 'PM25mean_8.0_mean',\n",
       " 'PM10_max',\n",
       " 'PM25mean_10.0_max',\n",
       " 'PM25mean_max',\n",
       " 'PM25mean_12.0_max',\n",
       " 'PM25mean_1.0_min',\n",
       " 'PM2.5_3.0_mean',\n",
       " 'PM25mean_15.0_mean',\n",
       " 'PM10mean_10.0_mean',\n",
       " 'PM25mean_12.0_mean',\n",
       " 'PM10mean_11.0_max',\n",
       " 'PM25mean_2.0_mean',\n",
       " 'TMP_mean',\n",
       " 'PM2.5_7.0_mean',\n",
       " 'PM25mean_7.0_mean',\n",
       " 'PM25mean_13.0_mean',\n",
       " 'PM10_2.0_mean',\n",
       " 'PM10mean_9.0_max',\n",
       " 'PM2.5_0.0_min',\n",
       " 'PM25mean_max_frcst_1',\n",
       " 'PM25mean_max_frcst_2',\n",
       " 'PM25mean_max_frcst_3',\n",
       " 'PM25mean_max_frcst_4',\n",
       " 'PM25mean_max_frcst_5',\n",
       " 'PM25mean_max_frcst_6',\n",
       " 'PM25mean_max_frcst_7',\n",
       " 'PM25mean_max_frcst_8',\n",
       " 'PM25mean_max_frcst_9',\n",
       " 'PM25mean_max_frcst_10',\n",
       " 'PM25mean_max_frcst_11',\n",
       " 'PM25mean_max_frcst_12',\n",
       " 'PM25mean_max_frcst_13',\n",
       " 'PM25mean_max_frcst_14',\n",
       " 'PM25mean_max_frcst_15',\n",
       " 'PM25mean_max_frcst_16',\n",
       " 'PM25mean_max_frcst_17',\n",
       " 'PM25mean_max_frcst_18',\n",
       " 'PM25mean_max_frcst_19',\n",
       " 'PM25mean_max_frcst_20',\n",
       " 'PM25mean_max_frcst_21',\n",
       " 'PM25mean_max_frcst_22',\n",
       " 'PM25mean_max_frcst_23']"
      ]
     },
     "execution_count": 96,
     "metadata": {},
     "output_type": "execute_result"
    }
   ],
   "source": [
    "data_hour_merge.columns.tolist()"
   ]
  },
  {
   "cell_type": "code",
   "execution_count": 97,
   "metadata": {
    "scrolled": true
   },
   "outputs": [
    {
     "ename": "KeyError",
     "evalue": "\"None of [Index(['O3_max_frcst_22'], dtype='object')] are in the [columns]\"",
     "output_type": "error",
     "traceback": [
      "\u001b[0;31m---------------------------------------------------------------------------\u001b[0m",
      "\u001b[0;31mKeyError\u001b[0m                                  Traceback (most recent call last)",
      "\u001b[0;32m<ipython-input-97-2973b9876a42>\u001b[0m in \u001b[0;36m<module>\u001b[0;34m\u001b[0m\n\u001b[1;32m     10\u001b[0m \u001b[0;34m\u001b[0m\u001b[0m\n\u001b[1;32m     11\u001b[0m \u001b[0mdata_hour_merge\u001b[0m\u001b[0;34m.\u001b[0m\u001b[0mhead\u001b[0m\u001b[0;34m(\u001b[0m\u001b[0;36m100\u001b[0m\u001b[0;34m)\u001b[0m\u001b[0;34m.\u001b[0m\u001b[0mplot\u001b[0m\u001b[0;34m(\u001b[0m\u001b[0mx\u001b[0m\u001b[0;34m=\u001b[0m\u001b[0;34m\"fecha\"\u001b[0m\u001b[0;34m,\u001b[0m \u001b[0my\u001b[0m\u001b[0;34m=\u001b[0m\u001b[0;34m[\u001b[0m\u001b[0;34m\"O3_max\"\u001b[0m\u001b[0;34m]\u001b[0m\u001b[0;34m,\u001b[0m\u001b[0max\u001b[0m\u001b[0;34m=\u001b[0m\u001b[0max\u001b[0m\u001b[0;34m,\u001b[0m\u001b[0mlabel\u001b[0m\u001b[0;34m=\u001b[0m\u001b[0;34m[\u001b[0m\u001b[0;34m\"PM10mean ahora\"\u001b[0m\u001b[0;34m]\u001b[0m\u001b[0;34m,\u001b[0m\u001b[0mcolor\u001b[0m\u001b[0;34m=\u001b[0m\u001b[0;34m\"saddlebrown\"\u001b[0m\u001b[0;34m)\u001b[0m\u001b[0;34m\u001b[0m\u001b[0;34m\u001b[0m\u001b[0m\n\u001b[0;32m---> 12\u001b[0;31m \u001b[0mdata_hour_merge\u001b[0m\u001b[0;34m.\u001b[0m\u001b[0mhead\u001b[0m\u001b[0;34m(\u001b[0m\u001b[0;36m100\u001b[0m\u001b[0;34m)\u001b[0m\u001b[0;34m.\u001b[0m\u001b[0mplot\u001b[0m\u001b[0;34m(\u001b[0m\u001b[0mx\u001b[0m\u001b[0;34m=\u001b[0m\u001b[0;34m\"fecha\"\u001b[0m\u001b[0;34m,\u001b[0m \u001b[0my\u001b[0m\u001b[0;34m=\u001b[0m\u001b[0;34m[\u001b[0m\u001b[0;34m\"O3_max_frcst_22\"\u001b[0m\u001b[0;34m]\u001b[0m\u001b[0;34m,\u001b[0m\u001b[0max\u001b[0m\u001b[0;34m=\u001b[0m\u001b[0max\u001b[0m\u001b[0;34m,\u001b[0m\u001b[0mlabel\u001b[0m\u001b[0;34m=\u001b[0m\u001b[0;34m[\u001b[0m\u001b[0;34m\"PM10 pronostico 12\"\u001b[0m\u001b[0;34m]\u001b[0m\u001b[0;34m,\u001b[0m\u001b[0mcolor\u001b[0m\u001b[0;34m=\u001b[0m\u001b[0;34m\"blue\"\u001b[0m\u001b[0;34m)\u001b[0m\u001b[0;34m\u001b[0m\u001b[0;34m\u001b[0m\u001b[0m\n\u001b[0m\u001b[1;32m     13\u001b[0m \u001b[0mdata_hour_merge\u001b[0m\u001b[0;34m.\u001b[0m\u001b[0mhead\u001b[0m\u001b[0;34m(\u001b[0m\u001b[0;36m100\u001b[0m\u001b[0;34m)\u001b[0m\u001b[0;34m.\u001b[0m\u001b[0mplot\u001b[0m\u001b[0;34m(\u001b[0m\u001b[0mx\u001b[0m\u001b[0;34m=\u001b[0m\u001b[0;34m\"fecha\"\u001b[0m\u001b[0;34m,\u001b[0m \u001b[0my\u001b[0m\u001b[0;34m=\u001b[0m\u001b[0;34m[\u001b[0m\u001b[0;34m\"O3_21.0_max\"\u001b[0m\u001b[0;34m]\u001b[0m\u001b[0;34m,\u001b[0m\u001b[0max\u001b[0m\u001b[0;34m=\u001b[0m\u001b[0max\u001b[0m\u001b[0;34m,\u001b[0m\u001b[0mlabel\u001b[0m\u001b[0;34m=\u001b[0m\u001b[0;34m[\u001b[0m\u001b[0;34m\"PM10 a pasado\"\u001b[0m\u001b[0;34m]\u001b[0m\u001b[0;34m,\u001b[0m\u001b[0mcolor\u001b[0m\u001b[0;34m=\u001b[0m\u001b[0;34m'maroon'\u001b[0m\u001b[0;34m,\u001b[0m\u001b[0mdashes\u001b[0m\u001b[0;34m=\u001b[0m\u001b[0;34m[\u001b[0m\u001b[0;36m6\u001b[0m\u001b[0;34m,\u001b[0m \u001b[0;36m2\u001b[0m\u001b[0;34m]\u001b[0m\u001b[0;34m)\u001b[0m\u001b[0;34m\u001b[0m\u001b[0;34m\u001b[0m\u001b[0m\n\u001b[1;32m     14\u001b[0m \u001b[0;34m\u001b[0m\u001b[0m\n",
      "\u001b[0;32m/home/paw/software/python/anaconda3/lib/python3.7/site-packages/pandas/plotting/_core.py\u001b[0m in \u001b[0;36m__call__\u001b[0;34m(self, x, y, kind, ax, subplots, sharex, sharey, layout, figsize, use_index, title, grid, legend, style, logx, logy, loglog, xticks, yticks, xlim, ylim, rot, fontsize, colormap, table, yerr, xerr, secondary_y, sort_columns, **kwds)\u001b[0m\n\u001b[1;32m   2940\u001b[0m                           \u001b[0mfontsize\u001b[0m\u001b[0;34m=\u001b[0m\u001b[0mfontsize\u001b[0m\u001b[0;34m,\u001b[0m \u001b[0mcolormap\u001b[0m\u001b[0;34m=\u001b[0m\u001b[0mcolormap\u001b[0m\u001b[0;34m,\u001b[0m \u001b[0mtable\u001b[0m\u001b[0;34m=\u001b[0m\u001b[0mtable\u001b[0m\u001b[0;34m,\u001b[0m\u001b[0;34m\u001b[0m\u001b[0;34m\u001b[0m\u001b[0m\n\u001b[1;32m   2941\u001b[0m                           \u001b[0myerr\u001b[0m\u001b[0;34m=\u001b[0m\u001b[0myerr\u001b[0m\u001b[0;34m,\u001b[0m \u001b[0mxerr\u001b[0m\u001b[0;34m=\u001b[0m\u001b[0mxerr\u001b[0m\u001b[0;34m,\u001b[0m \u001b[0msecondary_y\u001b[0m\u001b[0;34m=\u001b[0m\u001b[0msecondary_y\u001b[0m\u001b[0;34m,\u001b[0m\u001b[0;34m\u001b[0m\u001b[0;34m\u001b[0m\u001b[0m\n\u001b[0;32m-> 2942\u001b[0;31m                           sort_columns=sort_columns, **kwds)\n\u001b[0m\u001b[1;32m   2943\u001b[0m     \u001b[0m__call__\u001b[0m\u001b[0;34m.\u001b[0m\u001b[0m__doc__\u001b[0m \u001b[0;34m=\u001b[0m \u001b[0mplot_frame\u001b[0m\u001b[0;34m.\u001b[0m\u001b[0m__doc__\u001b[0m\u001b[0;34m\u001b[0m\u001b[0;34m\u001b[0m\u001b[0m\n\u001b[1;32m   2944\u001b[0m \u001b[0;34m\u001b[0m\u001b[0m\n",
      "\u001b[0;32m/home/paw/software/python/anaconda3/lib/python3.7/site-packages/pandas/plotting/_core.py\u001b[0m in \u001b[0;36mplot_frame\u001b[0;34m(data, x, y, kind, ax, subplots, sharex, sharey, layout, figsize, use_index, title, grid, legend, style, logx, logy, loglog, xticks, yticks, xlim, ylim, rot, fontsize, colormap, table, yerr, xerr, secondary_y, sort_columns, **kwds)\u001b[0m\n\u001b[1;32m   1971\u001b[0m                  \u001b[0myerr\u001b[0m\u001b[0;34m=\u001b[0m\u001b[0myerr\u001b[0m\u001b[0;34m,\u001b[0m \u001b[0mxerr\u001b[0m\u001b[0;34m=\u001b[0m\u001b[0mxerr\u001b[0m\u001b[0;34m,\u001b[0m\u001b[0;34m\u001b[0m\u001b[0;34m\u001b[0m\u001b[0m\n\u001b[1;32m   1972\u001b[0m                  \u001b[0msecondary_y\u001b[0m\u001b[0;34m=\u001b[0m\u001b[0msecondary_y\u001b[0m\u001b[0;34m,\u001b[0m \u001b[0msort_columns\u001b[0m\u001b[0;34m=\u001b[0m\u001b[0msort_columns\u001b[0m\u001b[0;34m,\u001b[0m\u001b[0;34m\u001b[0m\u001b[0;34m\u001b[0m\u001b[0m\n\u001b[0;32m-> 1973\u001b[0;31m                  **kwds)\n\u001b[0m\u001b[1;32m   1974\u001b[0m \u001b[0;34m\u001b[0m\u001b[0m\n\u001b[1;32m   1975\u001b[0m \u001b[0;34m\u001b[0m\u001b[0m\n",
      "\u001b[0;32m/home/paw/software/python/anaconda3/lib/python3.7/site-packages/pandas/plotting/_core.py\u001b[0m in \u001b[0;36m_plot\u001b[0;34m(data, x, y, subplots, ax, kind, **kwds)\u001b[0m\n\u001b[1;32m   1783\u001b[0m \u001b[0;34m\u001b[0m\u001b[0m\n\u001b[1;32m   1784\u001b[0m                 \u001b[0;31m# don't overwrite\u001b[0m\u001b[0;34m\u001b[0m\u001b[0;34m\u001b[0m\u001b[0;34m\u001b[0m\u001b[0m\n\u001b[0;32m-> 1785\u001b[0;31m                 \u001b[0mdata\u001b[0m \u001b[0;34m=\u001b[0m \u001b[0mdata\u001b[0m\u001b[0;34m[\u001b[0m\u001b[0my\u001b[0m\u001b[0;34m]\u001b[0m\u001b[0;34m.\u001b[0m\u001b[0mcopy\u001b[0m\u001b[0;34m(\u001b[0m\u001b[0;34m)\u001b[0m\u001b[0;34m\u001b[0m\u001b[0;34m\u001b[0m\u001b[0m\n\u001b[0m\u001b[1;32m   1786\u001b[0m \u001b[0;34m\u001b[0m\u001b[0m\n\u001b[1;32m   1787\u001b[0m                 \u001b[0;32mif\u001b[0m \u001b[0misinstance\u001b[0m\u001b[0;34m(\u001b[0m\u001b[0mdata\u001b[0m\u001b[0;34m,\u001b[0m \u001b[0mABCSeries\u001b[0m\u001b[0;34m)\u001b[0m\u001b[0;34m:\u001b[0m\u001b[0;34m\u001b[0m\u001b[0;34m\u001b[0m\u001b[0m\n",
      "\u001b[0;32m/home/paw/software/python/anaconda3/lib/python3.7/site-packages/pandas/core/frame.py\u001b[0m in \u001b[0;36m__getitem__\u001b[0;34m(self, key)\u001b[0m\n\u001b[1;32m   2932\u001b[0m                 \u001b[0mkey\u001b[0m \u001b[0;34m=\u001b[0m \u001b[0mlist\u001b[0m\u001b[0;34m(\u001b[0m\u001b[0mkey\u001b[0m\u001b[0;34m)\u001b[0m\u001b[0;34m\u001b[0m\u001b[0;34m\u001b[0m\u001b[0m\n\u001b[1;32m   2933\u001b[0m             indexer = self.loc._convert_to_indexer(key, axis=1,\n\u001b[0;32m-> 2934\u001b[0;31m                                                    raise_missing=True)\n\u001b[0m\u001b[1;32m   2935\u001b[0m \u001b[0;34m\u001b[0m\u001b[0m\n\u001b[1;32m   2936\u001b[0m         \u001b[0;31m# take() does not accept boolean indexers\u001b[0m\u001b[0;34m\u001b[0m\u001b[0;34m\u001b[0m\u001b[0;34m\u001b[0m\u001b[0m\n",
      "\u001b[0;32m/home/paw/software/python/anaconda3/lib/python3.7/site-packages/pandas/core/indexing.py\u001b[0m in \u001b[0;36m_convert_to_indexer\u001b[0;34m(self, obj, axis, is_setter, raise_missing)\u001b[0m\n\u001b[1;32m   1352\u001b[0m                 kwargs = {'raise_missing': True if is_setter else\n\u001b[1;32m   1353\u001b[0m                           raise_missing}\n\u001b[0;32m-> 1354\u001b[0;31m                 \u001b[0;32mreturn\u001b[0m \u001b[0mself\u001b[0m\u001b[0;34m.\u001b[0m\u001b[0m_get_listlike_indexer\u001b[0m\u001b[0;34m(\u001b[0m\u001b[0mobj\u001b[0m\u001b[0;34m,\u001b[0m \u001b[0maxis\u001b[0m\u001b[0;34m,\u001b[0m \u001b[0;34m**\u001b[0m\u001b[0mkwargs\u001b[0m\u001b[0;34m)\u001b[0m\u001b[0;34m[\u001b[0m\u001b[0;36m1\u001b[0m\u001b[0;34m]\u001b[0m\u001b[0;34m\u001b[0m\u001b[0;34m\u001b[0m\u001b[0m\n\u001b[0m\u001b[1;32m   1355\u001b[0m         \u001b[0;32melse\u001b[0m\u001b[0;34m:\u001b[0m\u001b[0;34m\u001b[0m\u001b[0;34m\u001b[0m\u001b[0m\n\u001b[1;32m   1356\u001b[0m             \u001b[0;32mtry\u001b[0m\u001b[0;34m:\u001b[0m\u001b[0;34m\u001b[0m\u001b[0;34m\u001b[0m\u001b[0m\n",
      "\u001b[0;32m/home/paw/software/python/anaconda3/lib/python3.7/site-packages/pandas/core/indexing.py\u001b[0m in \u001b[0;36m_get_listlike_indexer\u001b[0;34m(self, key, axis, raise_missing)\u001b[0m\n\u001b[1;32m   1159\u001b[0m         self._validate_read_indexer(keyarr, indexer,\n\u001b[1;32m   1160\u001b[0m                                     \u001b[0mo\u001b[0m\u001b[0;34m.\u001b[0m\u001b[0m_get_axis_number\u001b[0m\u001b[0;34m(\u001b[0m\u001b[0maxis\u001b[0m\u001b[0;34m)\u001b[0m\u001b[0;34m,\u001b[0m\u001b[0;34m\u001b[0m\u001b[0;34m\u001b[0m\u001b[0m\n\u001b[0;32m-> 1161\u001b[0;31m                                     raise_missing=raise_missing)\n\u001b[0m\u001b[1;32m   1162\u001b[0m         \u001b[0;32mreturn\u001b[0m \u001b[0mkeyarr\u001b[0m\u001b[0;34m,\u001b[0m \u001b[0mindexer\u001b[0m\u001b[0;34m\u001b[0m\u001b[0;34m\u001b[0m\u001b[0m\n\u001b[1;32m   1163\u001b[0m \u001b[0;34m\u001b[0m\u001b[0m\n",
      "\u001b[0;32m/home/paw/software/python/anaconda3/lib/python3.7/site-packages/pandas/core/indexing.py\u001b[0m in \u001b[0;36m_validate_read_indexer\u001b[0;34m(self, key, indexer, axis, raise_missing)\u001b[0m\n\u001b[1;32m   1244\u001b[0m                 raise KeyError(\n\u001b[1;32m   1245\u001b[0m                     u\"None of [{key}] are in the [{axis}]\".format(\n\u001b[0;32m-> 1246\u001b[0;31m                         key=key, axis=self.obj._get_axis_name(axis)))\n\u001b[0m\u001b[1;32m   1247\u001b[0m \u001b[0;34m\u001b[0m\u001b[0m\n\u001b[1;32m   1248\u001b[0m             \u001b[0;31m# We (temporarily) allow for some missing keys with .loc, except in\u001b[0m\u001b[0;34m\u001b[0m\u001b[0;34m\u001b[0m\u001b[0;34m\u001b[0m\u001b[0m\n",
      "\u001b[0;31mKeyError\u001b[0m: \"None of [Index(['O3_max_frcst_22'], dtype='object')] are in the [columns]\""
     ]
    }
   ],
   "source": [
    "data_hour_merge['fecha'] =  pd.to_datetime(data_hour_merge['fecha'], format='%Y-%m-%d %H:%M')\n",
    "\n",
    "import matplotlib.pyplot as plt\n",
    "\n",
    "fig = plt.figure(num=None, figsize=(8, 6), dpi=80, facecolor='w', edgecolor='k')\n",
    "ax = fig.gca()\n",
    "\n",
    "# df_export.(50).plot(x=\"fecha\", y=[ \"O3_y\"],ax=ax,label=[\"O3 Medido\"],color=\"dodgerblue\")\n",
    "# df_export.(60).head(100).plot(x=\"fecha\", y=[\"O3_y_frcst_6\"],ax=ax,label=[\"Pronóstico O3 a 12 horas\"],color='darkblue',dashes=[6, 2])\n",
    "\n",
    "data_hour_merge.head(100).plot(x=\"fecha\", y=[\"O3_max\"],ax=ax,label=[\"PM10mean ahora\"],color=\"saddlebrown\")\n",
    "data_hour_merge.head(100).plot(x=\"fecha\", y=[\"O3_max_frcst_22\"],ax=ax,label=[\"PM10 pronostico 12\"],color=\"blue\")\n",
    "data_hour_merge.head(100).plot(x=\"fecha\", y=[\"O3_21.0_max\"],ax=ax,label=[\"PM10 a pasado\"],color='maroon',dashes=[6, 2])\n",
    "\n",
    "\n",
    "plt.ylabel(\"PM10[mg/m3]\")\n",
    "plt.title(\"Comparación del Modelo\")\n",
    "\n",
    "\n",
    "# And a corresponding grid\n",
    "ax.grid(which='both')\n",
    "\n",
    "# Or if you want different settings for the grids:\n",
    "ax.grid(which='minor', alpha=0.01)\n",
    "ax.grid(which='major', alpha=0.3)\n",
    "\n",
    "\n",
    "\n",
    "plt.legend()\n",
    "plt.show()"
   ]
  },
  {
   "cell_type": "code",
   "execution_count": null,
   "metadata": {},
   "outputs": [],
   "source": []
  },
  {
   "cell_type": "code",
   "execution_count": null,
   "metadata": {},
   "outputs": [],
   "source": []
  },
  {
   "cell_type": "code",
   "execution_count": null,
   "metadata": {},
   "outputs": [],
   "source": []
  },
  {
   "cell_type": "code",
   "execution_count": null,
   "metadata": {},
   "outputs": [],
   "source": []
  },
  {
   "cell_type": "code",
   "execution_count": null,
   "metadata": {},
   "outputs": [],
   "source": []
  },
  {
   "cell_type": "code",
   "execution_count": null,
   "metadata": {},
   "outputs": [],
   "source": []
  },
  {
   "cell_type": "code",
   "execution_count": null,
   "metadata": {},
   "outputs": [],
   "source": []
  },
  {
   "cell_type": "code",
   "execution_count": null,
   "metadata": {},
   "outputs": [],
   "source": []
  }
 ],
 "metadata": {
  "kernelspec": {
   "display_name": "Python 3",
   "language": "python",
   "name": "python3"
  },
  "language_info": {
   "codemirror_mode": {
    "name": "ipython",
    "version": 3
   },
   "file_extension": ".py",
   "mimetype": "text/x-python",
   "name": "python",
   "nbconvert_exporter": "python",
   "pygments_lexer": "ipython3",
   "version": "3.7.3"
  }
 },
 "nbformat": 4,
 "nbformat_minor": 2
}
