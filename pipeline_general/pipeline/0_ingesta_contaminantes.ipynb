{
 "cells": [
  {
   "cell_type": "code",
   "execution_count": 6,
   "metadata": {},
   "outputs": [],
   "source": [
    "import pandas as pd\n",
    "import numpy as np\n",
    "from datetime import date,timedelta,datetime\n",
    "from functools import reduce"
   ]
  },
  {
   "cell_type": "code",
   "execution_count": 7,
   "metadata": {},
   "outputs": [],
   "source": [
    "path_inicial_1 = \"./datos/ingesta_pronostico_meteo.csv\"\n",
    "path_final = \"./datos/ingesta_contaminacion.csv\""
   ]
  },
  {
   "cell_type": "code",
   "execution_count": 12,
   "metadata": {},
   "outputs": [],
   "source": [
    "def dataset_aire(particula,lastHour):\n",
    "    print(particula)\n",
    "    mesAnterior = str( (date.today().replace(day=1)+timedelta(days=-1)).month ).zfill(2)\n",
    "    yearAnterior = str( (date.today().replace(day=1)+timedelta(days=-1)).year )\n",
    "        \n",
    "    mesActual = str(date.today().month).zfill(2)\n",
    "    yearActual = str(date.today().year)\n",
    "    \n",
    "    def dataset(part,anio,mes):\n",
    "        df = pd.read_html(\"http://www.aire.cdmx.gob.mx/estadisticas-consultas/concentraciones/\" \\\n",
    "        +\"respuesta.php?qtipo=HORARIOS&parametro=\"+part+\"&anio=\"+anio+\"&qmes=\"+mes,\\\n",
    "        na_values=[\"nr\"],keep_default_na=True, skiprows = 1  )\n",
    "        df[0].columns = df[1].values.tolist()[0]\n",
    "        df = df[0].drop(0,axis=0)\n",
    "        return df\n",
    "        \n",
    "    \n",
    "    dfAnterior = dataset(particula,yearAnterior,mesAnterior)  \n",
    "    dfActual = dataset(particula,yearActual,mesActual)\n",
    "    df = pd.concat([dfAnterior,dfActual])\n",
    "    df = df.tail(int(lastHour))\n",
    "    \n",
    "    namecolum = df.columns.tolist()                              \n",
    "    fecha = namecolum.pop(0)\n",
    "    hora = namecolum.pop(0)\n",
    "    df = pd.melt(df, id_vars=[fecha, hora], value_vars=namecolum,var_name=\"id_station\", value_name=particula.upper())\n",
    "    df.loc[::,fecha] = df[fecha].apply(lambda x: datetime.strptime(x, '%d-%m-%Y'))\n",
    "    df.columns = [df.columns[0].lower(), df.columns[1].lower(),df.columns[2],df.columns[3] ]\n",
    "    return df"
   ]
  },
  {
   "cell_type": "code",
   "execution_count": 13,
   "metadata": {},
   "outputs": [],
   "source": [
    "particulas = ['so2','co','nox','no','no2','o3','pm10','wsp','wdr','tmp','rh','pm2']"
   ]
  },
  {
   "cell_type": "code",
   "execution_count": 14,
   "metadata": {},
   "outputs": [
    {
     "name": "stdout",
     "output_type": "stream",
     "text": [
      "so2\n",
      "co\n",
      "nox\n",
      "no\n",
      "no2\n",
      "o3\n",
      "pm10\n",
      "wsp\n",
      "wdr\n",
      "tmp\n",
      "rh\n",
      "pm2\n"
     ]
    },
    {
     "data": {
      "text/plain": [
       "'SO2'"
      ]
     },
     "execution_count": 14,
     "metadata": {},
     "output_type": "execute_result"
    }
   ],
   "source": [
    "lastHour = 30000\n",
    "listaContaminantes = [dataset_aire(particula,lastHour ) for particula in particulas]\n",
    "listNameJoin = listaContaminantes[0].columns.tolist()\n",
    "listNameJoin.pop(3)"
   ]
  },
  {
   "cell_type": "code",
   "execution_count": 15,
   "metadata": {},
   "outputs": [],
   "source": [
    "df_final = reduce(lambda left,right: pd.merge(left,right,on=listNameJoin,how=\"outer\"), listaContaminantes)"
   ]
  },
  {
   "cell_type": "markdown",
   "metadata": {},
   "source": [
    "1. Poner atributo dia, mes\n",
    "2. arreglar fechas\n",
    "3. fecha en formato YYYY-MM-dd HH:mm\n"
   ]
  },
  {
   "cell_type": "markdown",
   "metadata": {},
   "source": [
    "Convertir la hor ay fecha de cantidad de horas a uso horario"
   ]
  },
  {
   "cell_type": "code",
   "execution_count": 16,
   "metadata": {},
   "outputs": [],
   "source": [
    "def time_converter(hora,fecha):\n",
    "    if hora[:].endswith(\"24\"):\n",
    "        fecha = str(fecha+\" \"+str(int(hora)-1)+\":00\")\n",
    "        the_time = datetime.strptime(fecha, '%Y-%m-%d %H:%M')\n",
    "        new_time = the_time + timedelta(hours=1)\n",
    "        return new_time.strftime('%Y-%m-%d'),str(int(new_time.strftime('%H')))\n",
    "    else:\n",
    "        return  fecha, hora"
   ]
  },
  {
   "cell_type": "code",
   "execution_count": 17,
   "metadata": {},
   "outputs": [],
   "source": [
    "df_final[\"fecha\"] = df_final[\"fecha\"].astype(str)\n",
    "df_final[\"hora\"] = df_final[\"hora\"].astype(str)\n",
    "df_final[\"fecha\"] = df_final.apply(lambda row: time_converter(row[\"hora\"],row[\"fecha\"]), axis=1).str.get(0)\n",
    "df_final[\"hora\"] = df_final.apply(lambda row: time_converter(row[\"hora\"],row[\"fecha\"]), axis=1).str.get(1)"
   ]
  },
  {
   "cell_type": "markdown",
   "metadata": {},
   "source": [
    "convertir fecha a timestand, calcular en otra columna mes y dia"
   ]
  },
  {
   "cell_type": "code",
   "execution_count": 21,
   "metadata": {},
   "outputs": [],
   "source": [
    "df_final[\"fecha\"] = (df_final[\"fecha\"] +\" \"+df_final[\"hora\"]).apply(lambda x: datetime.strptime(x, '%Y-%m-%d %H'))\n",
    "df_final[\"mes\"] = df_final[\"fecha\"].apply(lambda fecha: fecha.month )\n",
    "df_final[\"dia\"] = df_final[\"fecha\"].apply(lambda fecha: fecha.day )"
   ]
  },
  {
   "cell_type": "markdown",
   "metadata": {},
   "source": [
    "reordenar columnas"
   ]
  },
  {
   "cell_type": "code",
   "execution_count": 23,
   "metadata": {},
   "outputs": [],
   "source": [
    "df_final = df_final.loc[::, ['fecha', 'mes', 'dia', 'hora', 'id_station', 'SO2', 'CO', 'NOX', 'NO', 'NO2', 'O3',\n",
    "       'PM10', 'WSP', 'WDR', 'TMP', 'RH', 'PM2'] ]"
   ]
  },
  {
   "cell_type": "markdown",
   "metadata": {},
   "source": [
    "## Merge con Datos de pronóstico"
   ]
  },
  {
   "cell_type": "code",
   "execution_count": 36,
   "metadata": {},
   "outputs": [],
   "source": [
    "path_final = \"./datos/ingesta_contaminacion.csv\"\n",
    "\n",
    "df1 =  pd.read_csv(path_inicial_1)\n",
    "\n",
    "df = pd.concat( [ df1, df_final ],sort=True )\n",
    "\n",
    "df = df.sort_values([\"id_station\",\"fecha\"],ascending=False).reset_index(drop=True)\n",
    "\n",
    "df = df.rename({\"PM2\":\"PM2.5\"},axis=1)\n",
    "\n",
    "df = df.drop([\"WDR\"],axis=1)\n"
   ]
  },
  {
   "cell_type": "code",
   "execution_count": 40,
   "metadata": {},
   "outputs": [],
   "source": [
    "df.to_csv(path_final,index=False)"
   ]
  },
  {
   "cell_type": "code",
   "execution_count": null,
   "metadata": {},
   "outputs": [],
   "source": []
  }
 ],
 "metadata": {
  "kernelspec": {
   "display_name": "Python 3",
   "language": "python",
   "name": "python3"
  },
  "language_info": {
   "codemirror_mode": {
    "name": "ipython",
    "version": 3
   },
   "file_extension": ".py",
   "mimetype": "text/x-python",
   "name": "python",
   "nbconvert_exporter": "python",
   "pygments_lexer": "ipython3",
   "version": "3.7.3"
  }
 },
 "nbformat": 4,
 "nbformat_minor": 2
}
