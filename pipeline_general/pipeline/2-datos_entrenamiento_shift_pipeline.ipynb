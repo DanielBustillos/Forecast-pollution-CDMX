{
 "cells": [
  {
   "cell_type": "markdown",
   "metadata": {},
   "source": [
    "## Obtención de columnas con persistencia temporal y agrupación de Promedio, máximo y mínimo por hora.\n",
    "\n",
    "#### Diseño del modelo\n",
    "\n",
    "Una vez que se obtienen los datos limpios, estos pueden ser utilizados para una serie de pruebas, donde se decidirá la granularidad temporal y la representatividad geográfica con la que se va a efectuar el pronóstico. Este proceso es iterativo: se aplica un procesamiento a los datos, se entrenan los modelos y se analiza su desempeño. A continuación se muestran las principales variantes de los modelos generados así como sus descripción:\n",
    "\n",
    "\n",
    "<img src=\"./fotos_markdown/diseno_modelo.png\" style=\"height:300px\">\n",
    "\n",
    "* __Pronóstico por estación__: Se generó un modelo para todas las estaciónes de monitoreo. Debido a que la mayoría de las estaciones solo miden un subconjunto de todas las variables y no todas a la vez, los modelos generados sólo resultaron viables para las estaciones que miden todas las variables. Para la mayoría de las estaciones donde la cantidad de variables es baja,  el modelo subestima los valores de pronóstico.\n",
    "\n",
    "\n",
    "* __Pronóstico para toda la Ciudad__: Para poder solventar que no todas las estaciones miden las mismas variables, se obtuvo el promedio, el mínimo y el máximo de los valores medidos en todas las estaciones por cada hora, al tomar estos valores, se pierde el atributo de la estación. El pronóstico mejoró, sin embargo el desempeño no era el esperado debido a los numerosos falsos positivos: la información-base de los modelos no era suficiente para describir el fenómeno.\n",
    "\n",
    "\n",
    "* __Pronóstico por día__: Junto al proceso anterior, se procedió a volver a sacar el promedio, el mínimo y el máximo pero en esta ocasión por día y no por hora. Se obtuvo un modelo de pronóstico del valor máximo de cada día. El resultado no fue el esperado, el resultado mejoró considerablemente a comparación de los dos procesos anteriores sin embargo, el modelo seguía pronosticando demasiados falsos negativos: la contingencia no se pronosticaba correctamente debido a que al promediar por día, se pierde la información horaria y disminuye considerablemente el número de registros.\n",
    "\n",
    "\n",
    "* __Pronóstico con persistencia temporal__: Usando los datos del pronóstico por hora para toda la ciudad, se utilizó la persistencia observada en el fenómeno entre horas pasadas y presentes, para generar nuevas columnas con los atributos de horas pasadas más correlacionadas con el presente. Se volvieron a entrenar los modelos con estas variables nuevas, obteniendo resultados satisfactorios.\n",
    "\n",
    "\n",
    "__Pasos y descripción general del notebook__\n",
    "\n",
    "\n",
    "El modelo elegido es el __horario con persistencia temporal__, habiendo obtenido la más baja tasa de falsos negativos y falsos positivos. Más adelante se expone su análisis con métricas de desempeño. A continuación se muestra el proceso para obtener los datos de entrenamiento del modelo:\n",
    "\n",
    "<img src=\"./fotos_markdown/diagrama_2.png\" style=\"height:350px\">\n",
    "\n",
    "\n",
    "\n",
    "1. __Contaminantes de horas anteriores más correlacionadas:__ se obtiene la correlación, de las variables meteorológicas y de contaminación, entre sus valores de una hora atrás con los de 72 horas atrás consigo mismas, de 1 hasta 72 horas atrás. El resultado es una una tabla de correlación temporal desplazada temporalmente la cual nos servirá para poder filtrar las variables más correlacionadas, es decir, las que más influyen en los niveles de contaminación.\n",
    "\n",
    "\n",
    "2. __Aplicar Desplazamiento temporal:__ a partir de tablas de correlación temporal desplazada, se hace una columna para cada variable correlacionada: cuando existe una correlación mayor a 0.44 de cualquier atributo con los contaminantes mencionados, se hace una nueva columna con estos valores.\n",
    "\n",
    "\n",
    "\n",
    "3. __Max, Mean, Min:__ se obtiene el máximo, el promedio y el mínimo de cada variable por hora, el resultado es una tabla con una sola fila por cada hora, en esta tabla se pierde el atributo de estación y así la información geográfica de donde se tomó la medición.\n",
    "\n",
    "\n",
    "4. __Generar las columna a pronosticar:__ Se genera la columna con el valor del conntaminante a pronosticar a 24 horas y se obtiene la correlación de los valores promedio máximo y mínimo con éste. Por último se Filtran los valores más importantes.\n",
    "\n",
    "\n",
    "5. __Generar las columnas de pronóstico de RH, WSP TMP:__ Se generan columnas con el pronóstico meteorológico  de estos atributos.\n",
    "\n",
    "\n",
    "6. __Generar las columnas del contaminante a pronosticar de 1 hasta 23 horas:__ Se generan las columnas con el valor del contaminante a prononsticar desde 1 hasta 24 horas.\n",
    "\n",
    "\n",
    "\n",
    "- __Datos recibidos:__ Limpieza de datos inicial\n",
    "- __Responsable:__ Daniel Bustillos\n",
    "- __Contacto:__  juandaniel.bucam@gmail.com"
   ]
  },
  {
   "cell_type": "markdown",
   "metadata": {},
   "source": [
    "Este notebook presenta el proceso donde se ha obtenido los mejores desempeños de los modelos de los contaminantes. Después de un proceso iterativo y de un análisis del desempeño de los modelos, se obtuvieron las siguientes conclusiones:\n",
    "\n",
    "- Utilizar la propiedad de persistencia temporal, mejora significativamente los modelos.\n",
    "\n",
    "\n",
    "- Obtener el promedio, el máximo y el mínimo por hora en lugar de trabajar con la medición de cada estación, genera una consolidación de las mediciones y disminuye el efecto negativo de los atributos faltantes en las mediciones a raíz de las capacidades de las estación de monitoreo.\n",
    "\n",
    "\n",
    "- Añadir el pronóstico meteorológico a 24 horas, añade fiabilidad a los modelos disminuyendo el error asociado del pronóstico. Este pronóstico se obtendrá posteriormente de una fuente externa.\n"
   ]
  },
  {
   "cell_type": "code",
   "execution_count": 1,
   "metadata": {},
   "outputs": [],
   "source": [
    "Contaminantes = [\"O3\",\"PM10mean\",\"PM25mean\"]"
   ]
  },
  {
   "cell_type": "code",
   "execution_count": 2,
   "metadata": {},
   "outputs": [
    {
     "data": {
      "text/plain": [
       "'O3'"
      ]
     },
     "execution_count": 2,
     "metadata": {},
     "output_type": "execute_result"
    }
   ],
   "source": [
    "contaminante = Contaminantes[0]\n",
    "contaminante"
   ]
  },
  {
   "cell_type": "code",
   "execution_count": 3,
   "metadata": {},
   "outputs": [],
   "source": [
    "import pandas as pd\n",
    "pd.options.mode.chained_assignment = None "
   ]
  },
  {
   "cell_type": "code",
   "execution_count": 71,
   "metadata": {},
   "outputs": [],
   "source": [
    "data_hour_merge_24 = pd.read_csv('./verificacion/datos_entrenamiento.csv')#verificationset"
   ]
  },
  {
   "cell_type": "code",
   "execution_count": 75,
   "metadata": {},
   "outputs": [
    {
     "data": {
      "text/html": [
       "<div>\n",
       "<style scoped>\n",
       "    .dataframe tbody tr th:only-of-type {\n",
       "        vertical-align: middle;\n",
       "    }\n",
       "\n",
       "    .dataframe tbody tr th {\n",
       "        vertical-align: top;\n",
       "    }\n",
       "\n",
       "    .dataframe thead th {\n",
       "        text-align: right;\n",
       "    }\n",
       "</style>\n",
       "<table border=\"1\" class=\"dataframe\">\n",
       "  <thead>\n",
       "    <tr style=\"text-align: right;\">\n",
       "      <th></th>\n",
       "      <th>CO</th>\n",
       "      <th>NO</th>\n",
       "      <th>NO2</th>\n",
       "      <th>NOX</th>\n",
       "      <th>O3</th>\n",
       "      <th>PM10</th>\n",
       "      <th>PM2.5</th>\n",
       "      <th>RH</th>\n",
       "      <th>SO2</th>\n",
       "      <th>TMP</th>\n",
       "      <th>WSP</th>\n",
       "      <th>dia</th>\n",
       "      <th>fecha</th>\n",
       "      <th>hora</th>\n",
       "      <th>id_station</th>\n",
       "      <th>mes</th>\n",
       "      <th>PM10mean</th>\n",
       "      <th>PM25mean</th>\n",
       "    </tr>\n",
       "  </thead>\n",
       "  <tbody>\n",
       "    <tr>\n",
       "      <th>0</th>\n",
       "      <td>3.5</td>\n",
       "      <td>NaN</td>\n",
       "      <td>NaN</td>\n",
       "      <td>NaN</td>\n",
       "      <td>6.0</td>\n",
       "      <td>NaN</td>\n",
       "      <td>NaN</td>\n",
       "      <td>NaN</td>\n",
       "      <td>32.0</td>\n",
       "      <td>NaN</td>\n",
       "      <td>NaN</td>\n",
       "      <td>1.0</td>\n",
       "      <td>2000-01-01 01:00:00</td>\n",
       "      <td>1</td>\n",
       "      <td>AZC</td>\n",
       "      <td>1.0</td>\n",
       "      <td>NaN</td>\n",
       "      <td>NaN</td>\n",
       "    </tr>\n",
       "    <tr>\n",
       "      <th>1</th>\n",
       "      <td>2.3</td>\n",
       "      <td>NaN</td>\n",
       "      <td>27.0</td>\n",
       "      <td>97.0</td>\n",
       "      <td>4.0</td>\n",
       "      <td>NaN</td>\n",
       "      <td>NaN</td>\n",
       "      <td>NaN</td>\n",
       "      <td>15.0</td>\n",
       "      <td>NaN</td>\n",
       "      <td>NaN</td>\n",
       "      <td>1.0</td>\n",
       "      <td>2000-01-01 01:00:00</td>\n",
       "      <td>1</td>\n",
       "      <td>BJU</td>\n",
       "      <td>1.0</td>\n",
       "      <td>NaN</td>\n",
       "      <td>NaN</td>\n",
       "    </tr>\n",
       "    <tr>\n",
       "      <th>2</th>\n",
       "      <td>2.6</td>\n",
       "      <td>NaN</td>\n",
       "      <td>56.0</td>\n",
       "      <td>110.0</td>\n",
       "      <td>8.0</td>\n",
       "      <td>69.0</td>\n",
       "      <td>NaN</td>\n",
       "      <td>36.0</td>\n",
       "      <td>NaN</td>\n",
       "      <td>9.7</td>\n",
       "      <td>0.1</td>\n",
       "      <td>1.0</td>\n",
       "      <td>2000-01-01 01:00:00</td>\n",
       "      <td>1</td>\n",
       "      <td>CES</td>\n",
       "      <td>1.0</td>\n",
       "      <td>NaN</td>\n",
       "      <td>NaN</td>\n",
       "    </tr>\n",
       "    <tr>\n",
       "      <th>3</th>\n",
       "      <td>NaN</td>\n",
       "      <td>NaN</td>\n",
       "      <td>NaN</td>\n",
       "      <td>NaN</td>\n",
       "      <td>19.0</td>\n",
       "      <td>NaN</td>\n",
       "      <td>NaN</td>\n",
       "      <td>NaN</td>\n",
       "      <td>NaN</td>\n",
       "      <td>NaN</td>\n",
       "      <td>NaN</td>\n",
       "      <td>1.0</td>\n",
       "      <td>2000-01-01 01:00:00</td>\n",
       "      <td>1</td>\n",
       "      <td>CUA</td>\n",
       "      <td>1.0</td>\n",
       "      <td>NaN</td>\n",
       "      <td>NaN</td>\n",
       "    </tr>\n",
       "    <tr>\n",
       "      <th>4</th>\n",
       "      <td>2.4</td>\n",
       "      <td>NaN</td>\n",
       "      <td>35.0</td>\n",
       "      <td>119.0</td>\n",
       "      <td>4.0</td>\n",
       "      <td>NaN</td>\n",
       "      <td>NaN</td>\n",
       "      <td>NaN</td>\n",
       "      <td>9.0</td>\n",
       "      <td>10.7</td>\n",
       "      <td>0.2</td>\n",
       "      <td>1.0</td>\n",
       "      <td>2000-01-01 01:00:00</td>\n",
       "      <td>1</td>\n",
       "      <td>HAN</td>\n",
       "      <td>1.0</td>\n",
       "      <td>NaN</td>\n",
       "      <td>NaN</td>\n",
       "    </tr>\n",
       "  </tbody>\n",
       "</table>\n",
       "</div>"
      ],
      "text/plain": [
       "    CO  NO   NO2    NOX    O3  PM10  PM2.5    RH   SO2   TMP  WSP  dia  \\\n",
       "0  3.5 NaN   NaN    NaN   6.0   NaN    NaN   NaN  32.0   NaN  NaN  1.0   \n",
       "1  2.3 NaN  27.0   97.0   4.0   NaN    NaN   NaN  15.0   NaN  NaN  1.0   \n",
       "2  2.6 NaN  56.0  110.0   8.0  69.0    NaN  36.0   NaN   9.7  0.1  1.0   \n",
       "3  NaN NaN   NaN    NaN  19.0   NaN    NaN   NaN   NaN   NaN  NaN  1.0   \n",
       "4  2.4 NaN  35.0  119.0   4.0   NaN    NaN   NaN   9.0  10.7  0.2  1.0   \n",
       "\n",
       "                 fecha  hora id_station  mes  PM10mean  PM25mean  \n",
       "0  2000-01-01 01:00:00     1        AZC  1.0       NaN       NaN  \n",
       "1  2000-01-01 01:00:00     1        BJU  1.0       NaN       NaN  \n",
       "2  2000-01-01 01:00:00     1        CES  1.0       NaN       NaN  \n",
       "3  2000-01-01 01:00:00     1        CUA  1.0       NaN       NaN  \n",
       "4  2000-01-01 01:00:00     1        HAN  1.0       NaN       NaN  "
      ]
     },
     "execution_count": 75,
     "metadata": {},
     "output_type": "execute_result"
    }
   ],
   "source": [
    "data_hour_merge_24.head()"
   ]
  },
  {
   "cell_type": "raw",
   "metadata": {},
   "source": [
    "data_hour_merge_24 = pd.read_csv('./datos/ingesta_contaminacion.csv') #pipeline"
   ]
  },
  {
   "cell_type": "code",
   "execution_count": 77,
   "metadata": {},
   "outputs": [],
   "source": [
    "data_hour_merge_24 = data_hour_merge_24.dropna(subset=[contaminante]).reset_index(drop=True)"
   ]
  },
  {
   "cell_type": "markdown",
   "metadata": {},
   "source": [
    "## 1. \n",
    "### Usando el archivo de correlación con retraso temporal, se crean nuevas columnas con el atributo y las horas atrás.\n"
   ]
  },
  {
   "cell_type": "markdown",
   "metadata": {},
   "source": [
    "La corraloción con retraso temporal se refiere a la influencia que tienen las condiciones atmosféricas de un hora dada sobre las condiciones futuras, por ejemplo, si el nivel de contaminación de actual es alto ¿este valor influirá en la contaminación del día siguiente o la contaminación de cada día no se ve influida por valores pasados? La respuesta es la primera opción, valores pasados de las condiciones atmosféricas influyen fuertemente en la contaminación _actual_.\n",
    "\n",
    "Esta propiedad es clave para la generación de un modelo estadístico, la existencia de patrones y de factores que aparentemente influyen en la contaminación nos permiten tener un conjunto de datos que determinen la contaminación.\n",
    "\n",
    "\n",
    "La generación de la correlación se encuentra en: __/home/paw/DanielBustillos/contaminación/correlaciones_pau/correlaciones_función_paulina.ipynb__"
   ]
  },
  {
   "cell_type": "markdown",
   "metadata": {},
   "source": [
    "Ya que tenemos los modelos entrenados, podemos definir el nombre de las columnas para posteriormente realizar el desplazamiento temporal:"
   ]
  },
  {
   "cell_type": "markdown",
   "metadata": {},
   "source": [
    "Columnas con las que funcionan los modelos:"
   ]
  },
  {
   "cell_type": "code",
   "execution_count": 78,
   "metadata": {},
   "outputs": [],
   "source": [
    "O3_columns_final = ['TMP_2.0_max',  'RH_22.0_max',  'hora_11.0',  'O3_47.0_max',  'RH_22.0_min',  'TMP_22.0_mean',  'O3_1.0_max',  'RH_48.0_mean',  'RH_max',  'RH_2.0_max',  'O3_2.0_max',  'O3_1.0_min',  'RH_23.0_min',  'RH_25.0_mean',  'TMP_mean_frcst_24',  'RH_0.0_mean',  'TMP_24.0_mean',  'hora_43.0',  'hora_20.0',  'O3_1.0_mean',  'TMP_mean',  'O3_44.0_mean',  'TMP_0.0_max',  'RH_0.0_max',  'O3_2.0_min',  'O3_0.0_max',  'O3_45.0_max',  'TMP_23.0_mean',  'RH_0.0_min',  'O3_23.0_max',  'RH_mean_frcst_22',  'TMP_24.0_max',  'RH_47.0_mean',  'TMP_mean_frcst_23',  'TMP_0.0_min',  'O3_24.0_mean',  'TMP_max',  'TMP_1.0_max',  'WSP_44.0_mean',  'O3_0.0_mean',  'O3_23.0_min',  'O3_46.0_max',  'RH_mean_frcst_21',  'RH_mean_frcst_1',  'RH_mean_frcst_2',  'TMP_21.0_max',  'TMP_mean_frcst_2',  'RH_2.0_min',  'TMP_46.0_mean',  'RH_24.0_min',  'TMP_45.0_mean',  'TMP_mean_frcst_3',  'TMP_mean_frcst_1',  'O3_min',  'O3_mean',  'O3_47.0_mean',  'TMP_2.0_mean',  'TMP_23.0_max',  'O3_2.0_mean',  'O3_21.0_max',  'RH_23.0_mean',  'RH_24.0_mean',  'O3_25.0_mean',  'O3_46.0_mean',  'RH_1.0_min',  'RH_45.0_mean',  'TMP_47.0_mean',  'RH_24.0_max',  'TMP_22.0_max',  'hora_19.0',  'O3_0.0_min',  'RH_mean_frcst_24',  'RH_mean',  'TMP_21.0_mean',  'RH_22.0_mean',  'RH_mean_frcst_3',  'RH_44.0_mean',  'TMP_min',  'TMP_0.0_mean',  'O3_24.0_max',  'hora_33.0',  'O3_21.0_mean',  'O3_22.0_min',  'hora_10.0',  'O3_22.0_mean',  'O3_24.0_min',  'RH_2.0_mean',  'RH_mean_frcst_23',  'O3_23.0_mean',  'O3_48.0_mean',  'RH_21.0_mean',  'RH_1.0_max',  'TMP_1.0_min',  'RH_1.0_mean',  'TMP_1.0_mean',  'RH_23.0_max',  'RH_46.0_mean',  'TMP_mean_frcst_22',  'hora_34.0',  'hora_9.0',  'O3_max',  'O3_45.0_mean',  'O3_22.0_max',  'RH_21.0_min',  'RH_min',  'WSP_mean']\n",
    "PM10mean_columns_final = ['PM10mean_0.0_mean',  'PM10mean_20.0_mean',  'PM10_8.0_mean',  'PM10mean_3.0_max',  'PM10mean_25.0_max',  'O3_max',  'PM10mean_18.0_mean',  'PM25mean_2.0_max',  'PM10mean_9.0_max',  'PM10_1.0_mean',  'PM10mean_18.0_max',  'PM10mean_10.0_max',  'PM25mean_5.0_max',  'PM10mean_33.0_max',  'PM10mean_15.0_max',  'PM10mean_6.0_max',  'PM10mean_24.0_mean',  'PM10mean_max',  'PM10_1.0_max',  'PM10mean_1.0_max',  'PM10_10.0_mean',  'PM10mean_7.0_mean',  'PM10mean_24.0_max',  'PM10mean_21.0_mean',  'PM10mean_37.0_max',  'PM10mean_23.0_mean',  'PM25mean_0.0_mean',  'PM10_4.0_max',  'PM10mean_17.0_max',  'PM25mean_6.0_max',  'PM10mean_32.0_max',  'PM10_5.0_max',  'PM25mean_1.0_max',  'PM10mean_6.0_mean',  'PM10mean_11.0_mean',  'PM10mean_26.0_max',  'PM10mean_22.0_mean',  'PM10mean_16.0_mean',  'PM10mean_8.0_mean',  'PM25mean_4.0_max',  'PM10mean_30.0_max',  'PM25mean_0.0_max',  'PM10mean_23.0_max',  'NO2_max',  'WSP_mean',  'PM10mean_9.0_mean',  'PM10mean_17.0_mean',  'PM25mean_3.0_mean',  'PM25mean_7.0_max',  'PM10mean_16.0_max',  'PM10mean_14.0_mean',  'PM10mean_2.0_max',  'PM10mean_2.0_mean',  'PM10mean_mean',  'PM10_0.0_max',  'PM10mean_12.0_max',  'PM10mean_13.0_mean',  'PM10mean_8.0_max',  'PM10mean_25.0_mean',  'PM10mean_27.0_max',  'PM10mean_31.0_max',  'PM10mean_0.0_max',  'PM25mean_3.0_max',  'PM10mean_14.0_max',  'PM25mean_1.0_mean',  'PM10_2.0_max',  'PM10_0.0_mean',  'PM10mean_15.0_mean',  'PM10mean_19.0_mean',  'PM10mean_13.0_max',  'PM10mean_4.0_max',  'PM10_3.0_max',  'PM10mean_1.0_mean',  'PM10_7.0_max',  'PM10mean_20.0_max',  'PM25mean_8.0_max',  'PM10_5.0_mean',  'PM10mean_21.0_max',  'PM10mean_29.0_max',  'PM10mean_12.0_mean',  'PM10_4.0_mean',  'PM10_mean',  'RH_mean',  'PM10mean_5.0_max',  'PM2.5_max',  'PM10mean_4.0_mean',  'PM10_6.0_max',  'PM10mean_36.0_max',  'PM10mean_7.0_max',  'PM10_7.0_mean',  'PM25mean_mean',  'PM10_9.0_mean',  'PM25mean_9.0_max',  'PM10_3.0_mean',  'PM2.5_0.0_max',  'PM10mean_3.0_mean',  'PM10_6.0_mean',  'PM10mean_5.0_mean',  'PM10mean_22.0_max',  'PM10_max',  'PM25mean_10.0_max',  'PM10mean_35.0_max',  'PM25mean_max',  'PM10mean_19.0_max',  'PM10mean_10.0_mean',  'PM10mean_11.0_max',  'PM25mean_2.0_mean',  'TMP_mean',  'PM10mean_34.0_max',  'PM10_2.0_mean',  'PM10mean_28.0_max']\n",
    "PM25mean_columns_final = ['PM25mean_14.0_max',  'PM10mean_0.0_mean',  'PM10mean_20.0_mean',  'PM10_8.0_mean',  'PM10mean_3.0_max',  'PM2.5_6.0_max',  'O3_max',  'PM10mean_18.0_mean',  'PM25mean_2.0_max',  'PM2.5_9.0_mean',  'PM10_1.0_mean',  'PM2.5_2.0_max',  'PM25mean_0.0_min',  'PM25mean_13.0_max',  'PM10mean_10.0_max',  'PM25mean_5.0_max',  'PM10mean_15.0_max',  'PM10mean_6.0_max',  'PM10mean_0.0_min',  'NO2_3.0_max',  'PM10mean_max',  'PM10_1.0_max',  'PM10mean_1.0_max',  'PM10_10.0_mean',  'PM2.5_4.0_mean',  'PM10mean_7.0_mean',  'PM10mean_21.0_mean',  'PM2.5_mean',  'PM10mean_23.0_mean',  'PM25mean_0.0_mean',  'PM10_4.0_max',  'PM10mean_17.0_max',  'PM10_12.0_mean',  'PM25mean_6.0_max',  'PM25mean_6.0_mean',  'PM25mean_1.0_max',  'PM10mean_6.0_mean',  'PM10mean_11.0_mean',  'PM2.5_3.0_max',  'PM2.5_2.0_mean',  'PM10mean_22.0_mean',  'PM10mean_16.0_mean',  'PM10mean_8.0_mean',  'PM25mean_11.0_mean',  'PM25mean_4.0_max',  'PM25mean_0.0_max',  'NO2_max',  'WSP_mean',  'PM10mean_9.0_mean',  'PM10mean_17.0_mean',  'PM2.5_8.0_mean',  'PM25mean_3.0_mean',  'PM25mean_7.0_max',  'PM25mean_9.0_mean',  'PM10mean_16.0_max',  'PM10mean_14.0_mean',  'NO2_mean',  'PM10mean_2.0_max',  'PM10mean_2.0_mean',  'PM10mean_mean',  'PM10_0.0_max',  'PM10mean_12.0_max',  'PM25mean_min',  'PM10mean_13.0_mean',  'PM10mean_8.0_max',  'PM10mean_0.0_max',  'PM25mean_3.0_max',  'PM10mean_14.0_max',  'PM25mean_1.0_mean',  'PM10_2.0_max',  'PM10_0.0_mean',  'PM10mean_15.0_mean',  'PM10mean_19.0_mean',  'PM10_11.0_mean',  'PM10mean_13.0_max',  'PM10mean_4.0_max',  'PM25mean_10.0_mean',  'PM25mean_14.0_mean',  'PM10_3.0_max',  'PM10mean_1.0_mean',  'PM2.5_1.0_mean',  'PM25mean_8.0_max',  'PM25mean_4.0_mean',  'PM10_5.0_mean',  'PM25mean_5.0_mean',  'PM25mean_11.0_max',  'PM10mean_12.0_mean',  'PM10_4.0_mean',  'PM10_mean',  'RH_mean',  'PM10mean_1.0_min',  'PM2.5_0.0_mean',  'PM10mean_5.0_max',  'PM2.5_max',  'PM10mean_4.0_mean',  'PM2.5_4.0_max',  'PM2.5_5.0_max',  'PM2.5_min',  'PM10mean_7.0_max',  'PM10_7.0_mean',  'PM25mean_mean',  'PM10_9.0_mean',  'PM25mean_9.0_max',  'PM10mean_min',  'PM10_3.0_mean',  'PM2.5_1.0_max',  'PM2.5_5.0_mean',  'PM2.5_6.0_mean',  'PM2.5_0.0_max',  'PM10mean_3.0_mean',  'PM10_6.0_mean',  'PM10mean_5.0_mean',  'PM25mean_8.0_mean',  'PM10_max',  'PM25mean_10.0_max',  'PM25mean_max',  'PM25mean_12.0_max',  'PM25mean_1.0_min',  'PM2.5_3.0_mean',  'PM25mean_15.0_mean',  'PM10mean_10.0_mean',  'PM25mean_12.0_mean',  'PM10mean_11.0_max',  'PM25mean_2.0_mean',  'TMP_mean',  'PM2.5_7.0_mean',  'PM25mean_7.0_mean',  'PM25mean_13.0_mean',  'PM10_2.0_mean',  'PM10mean_9.0_max',  'PM2.5_0.0_min']"
   ]
  },
  {
   "cell_type": "markdown",
   "metadata": {},
   "source": [
    "Columnas con losque se filtra inicialmente:"
   ]
  },
  {
   "cell_type": "code",
   "execution_count": 79,
   "metadata": {},
   "outputs": [],
   "source": [
    "PM25mean_columns_filter = ['PM25mean_0.0',  'PM10_0.0',  'PM2.5_0.0',  'PM10mean_0.0',  'PM25mean_0.0',  'PM10mean_1.0',  'PM10mean_2.0',  'PM10mean_3.0',  'PM10mean_4.0',  'PM10mean_5.0',  'PM10mean_6.0',  'PM10mean_7.0',  'PM10mean_8.0',  'PM10mean_9.0',  'PM10mean_10.0',  'PM10mean_11.0',  'PM10mean_12.0',  'PM10mean_13.0',  'PM10mean_14.0',  'PM10mean_15.0',  'PM10mean_16.0',  'PM25mean_1.0',  'PM25mean_2.0',  'PM25mean_3.0',  'PM25mean_4.0',  'PM25mean_5.0',  'PM25mean_6.0',  'PM25mean_7.0',  'PM25mean_8.0',  'PM25mean_9.0',  'PM25mean_10.0',  'PM25mean_11.0',  'PM25mean_12.0',  'PM25mean_13.0',  'PM25mean_14.0',  'PM25mean_15.0',  'PM25mean_16.0',  'PM25mean_17.0',  'PM25mean_18.0',  'PM10mean_1.0',  'PM10mean_2.0',  'PM10mean_3.0',  'PM10mean_4.0',  'PM10mean_5.0',  'PM10mean_6.0',  'PM10mean_7.0',  'PM10mean_8.0',  'PM10mean_9.0',  'PM10mean_10.0',  'PM10mean_11.0',  'PM10mean_12.0',  'PM10mean_13.0',  'PM10mean_14.0',  'PM10mean_15.0',  'PM10mean_16.0',  'PM10mean_17.0',  'PM10mean_18.0',  'PM10mean_19.0',  'PM10mean_20.0',  'PM10mean_21.0',  'PM10mean_22.0',  'PM10mean_23.0',  'PM10mean_24.0',  'PM10mean_25.0',  'PM10mean_26.0',  'PM10mean_27.0',  'PM10mean_28.0',  'PM10mean_29.0',  'PM10mean_30.0',  'PM10mean_31.0',  'PM10mean_32.0',  'PM10mean_33.0',  'PM10mean_34.0',  'PM10mean_35.0',  'PM10mean_36.0',  'PM10mean_37.0',  'PM10mean_38.0',  'PM25mean_1.0',  'PM25mean_2.0',  'PM25mean_3.0',  'PM25mean_4.0',  'PM25mean_5.0',  'PM25mean_6.0',  'PM25mean_7.0',  'PM25mean_8.0',  'PM25mean_9.0',  'PM25mean_10.0',  'PM25mean_11.0',  'PM25mean_12.0',  'PM25mean_13.0',  'PM25mean_14.0',  'PM25mean_15.0',  'PM25mean_16.0',  'PM25mean_17.0',  'PM25mean_18.0',  'PM25mean_19.0',  'PM25mean_20.0',  'PM25mean_21.0',  'PM25mean_22.0',  'PM25mean_23.0',  'PM25mean_24.0',  'PM25mean_25.0',  'PM25mean_26.0',  'PM25mean_27.0',  'PM25mean_28.0',  'PM25mean_29.0',  'PM25mean_30.0',  'PM25mean_31.0',  'PM25mean_32.0',  'PM25mean_33.0',  'PM25mean_34.0',  'PM25mean_35.0',  'PM25mean_36.0',  'PM25mean_37.0',  'NO2_3.0',  'NO2_4.0',  'NO2_5.0',  'NO2_6.0',  'NO2_7.0',  'NO2_8.0',  'NO2_9.0',  'NO2_10.0',  'NO2_11.0',  'NO2_12.0',  'NO2_13.0',  'NO2_14.0',  'NO2_15.0',  'NO2_16.0',  'NO2_17.0',  'NO2_18.0',  'NO2_19.0',  'NO2_20.0',  'NO2_21.0',  'NO2_22.0',  'NO2_23.0',  'PM10_1.0',  'PM10_2.0',  'PM10_3.0',  'PM10_4.0',  'PM10_5.0',  'PM10_6.0',  'PM10_7.0',  'PM10_8.0',  'PM10_9.0',  'PM10_10.0',  'PM10_11.0',  'PM10_12.0',  'PM10_13.0',  'PM10_14.0',  'PM10_15.0',  'PM10_16.0',  'PM10_17.0',  'PM10_18.0',  'PM10_19.0',  'PM10_20.0',  'PM10_21.0',  'PM10_22.0',  'PM10_23.0',  'PM10_24.0',  'PM10_25.0',  'PM10_26.0',  'PM10_27.0',  'PM10_28.0',  'PM10_29.0',  'PM10_30.0',  'PM2.5_1.0',  'PM2.5_2.0',  'PM2.5_3.0',  'PM2.5_4.0',  'PM2.5_5.0',  'PM2.5_6.0',  'PM2.5_7.0',  'PM2.5_8.0',  'PM2.5_9.0',  'PM2.5_10.0',  'PM2.5_11.0',  'PM2.5_12.0',  'PM2.5_13.0',  'PM2.5_14.0',  'PM2.5_15.0',  'PM2.5_16.0',  'PM2.5_17.0',  'PM2.5_18.0',  'PM2.5_19.0',  'PM2.5_20.0',  'PM2.5_21.0',  'PM2.5_22.0',  'PM2.5_23.0',  'PM2.5_24.0',  'PM2.5_25.0',  'PM2.5_26.0',  'PM2.5_27.0',  'PM2.5_28.0',  'PM10mean_1.0',  'PM10mean_2.0',  'PM10mean_3.0',  'PM10mean_4.0',  'PM10mean_5.0',  'PM10mean_6.0',  'PM10mean_7.0',  'PM10mean_8.0',  'PM10mean_9.0',  'PM10mean_10.0',  'PM10mean_11.0',  'PM10mean_12.0',  'PM10mean_13.0',  'PM10mean_14.0',  'PM10mean_15.0',  'PM10mean_16.0',  'PM10mean_17.0',  'PM10mean_18.0',  'PM10mean_19.0',  'PM10mean_20.0',  'PM10mean_21.0',  'PM10mean_22.0',  'PM10mean_23.0',  'PM10mean_24.0',  'PM10mean_25.0',  'PM10mean_26.0',  'PM10mean_27.0',  'PM10mean_28.0',  'PM10mean_29.0',  'PM10mean_30.0',  'PM10mean_31.0',  'PM10mean_32.0',  'PM10mean_33.0',  'PM10mean_34.0',  'PM10mean_35.0',  'PM10mean_36.0',  'PM10mean_37.0',  'PM10mean_38.0',  'PM10mean_39.0',  'PM10mean_40.0',  'PM10mean_41.0',  'PM10mean_42.0',  'PM25mean_1.0',  'PM25mean_2.0',  'PM25mean_3.0',  'PM25mean_4.0',  'PM25mean_5.0',  'PM25mean_6.0',  'PM25mean_7.0',  'PM25mean_8.0',  'PM25mean_9.0',  'PM25mean_10.0',  'PM25mean_11.0',  'PM25mean_12.0',  'PM25mean_13.0',  'PM25mean_14.0',  'PM25mean_15.0',  'PM25mean_16.0',  'PM25mean_17.0',  'PM25mean_18.0',  'PM25mean_19.0',  'PM25mean_20.0',  'PM25mean_21.0',  'PM25mean_22.0',  'PM25mean_23.0',  'PM25mean_24.0',  'PM25mean_25.0',  'PM25mean_26.0',  'PM25mean_27.0',  'PM25mean_28.0',  'PM25mean_29.0',  'PM25mean_30.0',  'PM25mean_31.0',  'PM25mean_32.0',  'PM25mean_33.0',  'PM25mean_34.0']\n",
    "PM10mean_columns_filter = ['PM10_0.0',  'PM2.5_0.0',  'PM10mean_0.0',  'PM25mean_0.0',  'PM10mean_1.0',  'PM10mean_2.0',  'PM10mean_3.0',  'PM10mean_4.0',  'PM10mean_5.0',  'PM10mean_6.0',  'PM10mean_7.0',  'PM10mean_8.0',  'PM10mean_9.0',  'PM10mean_10.0',  'PM10mean_11.0',  'PM10mean_12.0',  'PM10mean_13.0',  'PM10mean_14.0',  'PM10mean_15.0',  'PM25mean_1.0',  'PM25mean_2.0',  'PM10mean_1.0',  'PM10mean_2.0',  'PM10mean_3.0',  'PM10mean_4.0',  'PM10mean_5.0',  'PM10mean_6.0',  'PM10mean_7.0',  'PM10mean_8.0',  'PM10mean_9.0',  'PM10mean_10.0',  'PM10mean_11.0',  'PM10mean_12.0',  'PM10mean_13.0',  'PM10mean_14.0',  'PM10mean_15.0',  'PM10mean_16.0',  'PM10mean_17.0',  'PM10mean_18.0',  'PM10mean_19.0',  'PM10mean_20.0',  'PM10mean_21.0',  'PM10mean_22.0',  'PM10mean_23.0',  'PM10mean_24.0',  'PM10mean_25.0',  'PM10mean_26.0',  'PM10mean_27.0',  'PM10mean_28.0',  'PM10mean_29.0',  'PM10mean_30.0',  'PM10mean_31.0',  'PM10mean_32.0',  'PM10mean_33.0',  'PM10mean_34.0',  'PM10mean_35.0',  'PM10mean_36.0',  'PM10mean_37.0',  'PM10mean_38.0',  'PM10mean_39.0',  'PM10mean_40.0',  'PM10mean_41.0',  'PM10mean_42.0',  'PM10mean_43.0',  'PM10mean_44.0',  'PM10mean_45.0',  'PM10mean_46.0',  'PM10mean_47.0',  'PM10mean_48.0',  'PM25mean_1.0',  'PM25mean_2.0',  'PM25mean_3.0',  'PM25mean_4.0',  'PM25mean_5.0',  'PM25mean_6.0',  'PM25mean_7.0',  'PM25mean_8.0',  'PM25mean_9.0',  'PM25mean_10.0',  'PM25mean_11.0',  'PM25mean_12.0',  'PM25mean_13.0',  'PM25mean_14.0',  'PM25mean_15.0',  'PM25mean_16.0',  'PM25mean_17.0',  'PM25mean_18.0',  'PM25mean_19.0',  'PM25mean_20.0',  'PM25mean_21.0',  'PM25mean_22.0',  'PM25mean_23.0',  'PM25mean_24.0',  'PM25mean_25.0',  'PM25mean_26.0',  'PM25mean_27.0',  'PM25mean_28.0',  'PM25mean_29.0',  'PM25mean_30.0',  'PM25mean_31.0',  'PM25mean_32.0',  'PM25mean_33.0',  'PM25mean_34.0',  'PM25mean_35.0',  'PM25mean_36.0',  'PM25mean_37.0',  'NO2_5.0',  'NO2_6.0',  'NO2_7.0',  'NO2_8.0',  'NO2_9.0',  'NO2_10.0',  'NO2_11.0',  'NO2_12.0',  'NO2_13.0',  'NO2_14.0',  'NO2_15.0',  'NO2_16.0',  'NO2_17.0',  'NO2_18.0',  'NO2_19.0',  'NO2_20.0',  'NO2_21.0',  'NO2_22.0',  'NO2_23.0',  'PM10_1.0',  'PM10_2.0',  'PM10_3.0',  'PM10_4.0',  'PM10_5.0',  'PM10_6.0',  'PM10_7.0',  'PM10_8.0',  'PM10_9.0',  'PM10_10.0',  'PM10_11.0',  'PM10_12.0',  'PM10_13.0',  'PM10_14.0',  'PM10_15.0',  'PM10_16.0',  'PM10_17.0',  'PM10_18.0',  'PM10_19.0',  'PM10_20.0',  'PM10_21.0',  'PM10_22.0',  'PM10_23.0',  'PM10_24.0',  'PM10_25.0',  'PM10_26.0',  'PM10_27.0',  'PM10_28.0',  'PM10_29.0',  'PM10_30.0',  'PM10_31.0',  'PM10_32.0',  'PM10_33.0',  'PM10_34.0',  'PM10_35.0',  'PM10_36.0',  'PM2.5_1.0',  'PM2.5_2.0',  'PM2.5_3.0',  'PM2.5_4.0',  'PM2.5_5.0',  'PM2.5_6.0',  'PM2.5_7.0',  'PM2.5_8.0',  'PM2.5_9.0',  'PM2.5_10.0',  'PM2.5_11.0',  'PM2.5_12.0',  'PM2.5_13.0',  'PM2.5_14.0',  'PM2.5_15.0',  'PM2.5_16.0',  'PM2.5_17.0',  'PM2.5_18.0',  'PM2.5_19.0',  'PM2.5_20.0',  'PM2.5_21.0',  'PM2.5_22.0',  'PM2.5_23.0',  'PM10mean_1.0',  'PM10mean_2.0',  'PM10mean_3.0',  'PM10mean_4.0',  'PM10mean_5.0',  'PM10mean_6.0',  'PM10mean_7.0',  'PM10mean_8.0',  'PM10mean_9.0',  'PM10mean_10.0',  'PM10mean_11.0',  'PM10mean_12.0',  'PM10mean_13.0',  'PM10mean_14.0',  'PM10mean_15.0',  'PM10mean_16.0',  'PM10mean_17.0',  'PM10mean_18.0',  'PM10mean_19.0',  'PM10mean_20.0',  'PM10mean_21.0',  'PM10mean_22.0',  'PM10mean_23.0',  'PM10mean_24.0',  'PM10mean_25.0',  'PM10mean_26.0',  'PM10mean_27.0',  'PM10mean_28.0',  'PM10mean_29.0',  'PM10mean_30.0',  'PM10mean_31.0',  'PM10mean_32.0',  'PM10mean_33.0',  'PM10mean_34.0',  'PM10mean_35.0',  'PM10mean_36.0',  'PM10mean_37.0',  'PM10mean_38.0',  'PM10mean_39.0',  'PM10mean_40.0',  'PM10mean_41.0',  'PM10mean_42.0',  'PM10mean_43.0',  'PM10mean_44.0',  'PM10mean_45.0',  'PM10mean_46.0',  'PM10mean_47.0',  'PM10mean_48.0',  'PM25mean_1.0',  'PM25mean_2.0',  'PM25mean_3.0',  'PM25mean_4.0',  'PM25mean_5.0',  'PM25mean_6.0',  'PM25mean_7.0',  'PM25mean_8.0',  'PM25mean_9.0',  'PM25mean_10.0',  'PM25mean_11.0',  'PM25mean_12.0',  'PM25mean_13.0',  'PM25mean_14.0',  'PM25mean_15.0',  'PM25mean_16.0',  'PM25mean_17.0',  'PM25mean_18.0',  'PM25mean_19.0',  'PM25mean_20.0',  'PM25mean_21.0',  'PM25mean_22.0',  'PM25mean_23.0',  'PM25mean_24.0',  'PM25mean_25.0',  'PM25mean_26.0',  'PM25mean_27.0',  'PM25mean_28.0',  'PM25mean_29.0']\n",
    "O3_columns_filter = ['O3_0.0',  'RH_0.0',  'TMP_0.0',  'hora_9.0',  'hora_10.0',  'hora_11.0',  'hora_12.0',  'hora_13.0',  'hora_18.0',  'hora_19.0',  'hora_20.0',  'hora_21.0',  'hora_22.0',  'hora_32.0',  'hora_33.0',  'hora_34.0',  'hora_35.0',  'hora_36.0',  'hora_42.0',  'hora_43.0',  'hora_44.0',  'hora_45.0',  'O3_1.0',  'O3_2.0',  'O3_3.0',  'O3_4.0',  'O3_21.0',  'O3_22.0',  'O3_23.0',  'O3_24.0',  'O3_25.0',  'O3_26.0',  'O3_27.0',  'O3_45.0',  'O3_46.0',  'O3_47.0',  'O3_48.0',  'O3_1.0',  'O3_2.0',  'O3_3.0',  'O3_4.0',  'O3_20.0',  'O3_21.0',  'O3_22.0',  'O3_23.0',  'O3_24.0',  'O3_25.0',  'O3_26.0',  'O3_27.0',  'O3_44.0',  'O3_45.0',  'O3_46.0',  'O3_47.0',  'O3_48.0',  'CO_5.0',  'CO_6.0',  'CO_7.0',  'CO_8.0',  'CO_29.0',  'CO_30.0',  'CO_31.0',  'NO_6.0',  'NO_7.0',  'NO_8.0',  'NO_9.0',  'NO_30.0',  'NO_31.0',  'NO_32.0',  'NOX_6.0',  'NOX_7.0',  'NOX_8.0',  'NOX_9.0',  'NOX_30.0',  'NOX_31.0',  'NOX_32.0',  'O3_1.0',  'O3_2.0',  'O3_3.0',  'O3_4.0',  'O3_21.0',  'O3_22.0',  'O3_23.0',  'O3_24.0',  'O3_25.0',  'O3_26.0',  'O3_27.0',  'O3_44.0',  'O3_45.0',  'O3_46.0',  'O3_47.0',  'O3_48.0',  'PM10_1.0',  'PM10_2.0',  'PM10_3.0',  'PM10_4.0',  'PM10_5.0',  'PM10_6.0',  'PM10_26.0',  'PM10_27.0',  'PM10_28.0',  'PM10_29.0',  'PM2.5_1.0',  'PM2.5_2.0',  'PM2.5_3.0',  'PM2.5_4.0',  'PM2.5_5.0',  'PM2.5_6.0',  'PM2.5_26.0',  'PM2.5_27.0',  'PM2.5_28.0',  'PM2.5_29.0',  'RH_1.0',  'RH_2.0',  'RH_3.0',  'RH_20.0',  'RH_21.0',  'RH_22.0',  'RH_23.0',  'RH_24.0',  'RH_25.0',  'RH_26.0',  'RH_44.0',  'RH_45.0',  'RH_46.0',  'RH_47.0',  'RH_48.0',  'TMP_1.0',  'TMP_2.0',  'TMP_3.0',  'TMP_20.0',  'TMP_21.0',  'TMP_22.0',  'TMP_23.0',  'TMP_24.0',  'TMP_25.0',  'TMP_26.0',  'TMP_44.0',  'TMP_45.0',  'TMP_46.0',  'TMP_47.0',  'TMP_48.0',  'WSP_8.0',  'WSP_9.0',  'WSP_10.0',  'WSP_11.0',  'WSP_44.0',  'WSP_45.0']"
   ]
  },
  {
   "cell_type": "code",
   "execution_count": 80,
   "metadata": {},
   "outputs": [],
   "source": [
    "if contaminante == \"O3\":\n",
    "    columns = O3_columns_final\n",
    "    columns_filter = O3_columns_filter\n",
    "elif contaminante==\"PM10mean\":\n",
    "    columns = PM10mean_columns_final\n",
    "    columns_filter = PM10mean_columns_filter\n",
    "elif contaminante==\"PM25mean\":\n",
    "    columns = PM25mean_columns_final\n",
    "    columns_filter = PM25mean_columns_filter"
   ]
  },
  {
   "cell_type": "code",
   "execution_count": 81,
   "metadata": {},
   "outputs": [
    {
     "data": {
      "text/plain": [
       "['O3_0.0',\n",
       " 'RH_0.0',\n",
       " 'TMP_0.0',\n",
       " 'hora_9.0',\n",
       " 'hora_10.0',\n",
       " 'hora_11.0',\n",
       " 'hora_12.0',\n",
       " 'hora_13.0',\n",
       " 'hora_18.0',\n",
       " 'hora_19.0',\n",
       " 'hora_20.0',\n",
       " 'hora_21.0',\n",
       " 'hora_22.0',\n",
       " 'hora_32.0',\n",
       " 'hora_33.0',\n",
       " 'hora_34.0',\n",
       " 'hora_35.0',\n",
       " 'hora_36.0',\n",
       " 'hora_42.0',\n",
       " 'hora_43.0',\n",
       " 'hora_44.0',\n",
       " 'hora_45.0',\n",
       " 'O3_1.0',\n",
       " 'O3_2.0',\n",
       " 'O3_3.0',\n",
       " 'O3_4.0',\n",
       " 'O3_21.0',\n",
       " 'O3_22.0',\n",
       " 'O3_23.0',\n",
       " 'O3_24.0',\n",
       " 'O3_25.0',\n",
       " 'O3_26.0',\n",
       " 'O3_27.0',\n",
       " 'O3_45.0',\n",
       " 'O3_46.0',\n",
       " 'O3_47.0',\n",
       " 'O3_48.0',\n",
       " 'O3_1.0',\n",
       " 'O3_2.0',\n",
       " 'O3_3.0',\n",
       " 'O3_4.0',\n",
       " 'O3_20.0',\n",
       " 'O3_21.0',\n",
       " 'O3_22.0',\n",
       " 'O3_23.0',\n",
       " 'O3_24.0',\n",
       " 'O3_25.0',\n",
       " 'O3_26.0',\n",
       " 'O3_27.0',\n",
       " 'O3_44.0',\n",
       " 'O3_45.0',\n",
       " 'O3_46.0',\n",
       " 'O3_47.0',\n",
       " 'O3_48.0',\n",
       " 'CO_5.0',\n",
       " 'CO_6.0',\n",
       " 'CO_7.0',\n",
       " 'CO_8.0',\n",
       " 'CO_29.0',\n",
       " 'CO_30.0',\n",
       " 'CO_31.0',\n",
       " 'NO_6.0',\n",
       " 'NO_7.0',\n",
       " 'NO_8.0',\n",
       " 'NO_9.0',\n",
       " 'NO_30.0',\n",
       " 'NO_31.0',\n",
       " 'NO_32.0',\n",
       " 'NOX_6.0',\n",
       " 'NOX_7.0',\n",
       " 'NOX_8.0',\n",
       " 'NOX_9.0',\n",
       " 'NOX_30.0',\n",
       " 'NOX_31.0',\n",
       " 'NOX_32.0',\n",
       " 'O3_1.0',\n",
       " 'O3_2.0',\n",
       " 'O3_3.0',\n",
       " 'O3_4.0',\n",
       " 'O3_21.0',\n",
       " 'O3_22.0',\n",
       " 'O3_23.0',\n",
       " 'O3_24.0',\n",
       " 'O3_25.0',\n",
       " 'O3_26.0',\n",
       " 'O3_27.0',\n",
       " 'O3_44.0',\n",
       " 'O3_45.0',\n",
       " 'O3_46.0',\n",
       " 'O3_47.0',\n",
       " 'O3_48.0',\n",
       " 'PM10_1.0',\n",
       " 'PM10_2.0',\n",
       " 'PM10_3.0',\n",
       " 'PM10_4.0',\n",
       " 'PM10_5.0',\n",
       " 'PM10_6.0',\n",
       " 'PM10_26.0',\n",
       " 'PM10_27.0',\n",
       " 'PM10_28.0',\n",
       " 'PM10_29.0',\n",
       " 'PM2.5_1.0',\n",
       " 'PM2.5_2.0',\n",
       " 'PM2.5_3.0',\n",
       " 'PM2.5_4.0',\n",
       " 'PM2.5_5.0',\n",
       " 'PM2.5_6.0',\n",
       " 'PM2.5_26.0',\n",
       " 'PM2.5_27.0',\n",
       " 'PM2.5_28.0',\n",
       " 'PM2.5_29.0',\n",
       " 'RH_1.0',\n",
       " 'RH_2.0',\n",
       " 'RH_3.0',\n",
       " 'RH_20.0',\n",
       " 'RH_21.0',\n",
       " 'RH_22.0',\n",
       " 'RH_23.0',\n",
       " 'RH_24.0',\n",
       " 'RH_25.0',\n",
       " 'RH_26.0',\n",
       " 'RH_44.0',\n",
       " 'RH_45.0',\n",
       " 'RH_46.0',\n",
       " 'RH_47.0',\n",
       " 'RH_48.0',\n",
       " 'TMP_1.0',\n",
       " 'TMP_2.0',\n",
       " 'TMP_3.0',\n",
       " 'TMP_20.0',\n",
       " 'TMP_21.0',\n",
       " 'TMP_22.0',\n",
       " 'TMP_23.0',\n",
       " 'TMP_24.0',\n",
       " 'TMP_25.0',\n",
       " 'TMP_26.0',\n",
       " 'TMP_44.0',\n",
       " 'TMP_45.0',\n",
       " 'TMP_46.0',\n",
       " 'TMP_47.0',\n",
       " 'TMP_48.0',\n",
       " 'WSP_8.0',\n",
       " 'WSP_9.0',\n",
       " 'WSP_10.0',\n",
       " 'WSP_11.0',\n",
       " 'WSP_44.0',\n",
       " 'WSP_45.0']"
      ]
     },
     "execution_count": 81,
     "metadata": {},
     "output_type": "execute_result"
    }
   ],
   "source": [
    "columns_filter"
   ]
  },
  {
   "cell_type": "markdown",
   "metadata": {},
   "source": [
    "## 1. \n",
    "### Usando el archivo de correlación con retraso temporal, se crean nuevas columnas con el atributo y las horas atrás.\n"
   ]
  },
  {
   "cell_type": "markdown",
   "metadata": {},
   "source": [
    "La corraloción con retraso temporal se refiere a la influencia que tienen las condiciones atmosféricas de un hora dada sobre las condiciones futuras, por ejemplo, si el nivel de contaminación de actual es alto ¿este valor influirá en la contaminación del día siguiente o la contaminación de cada día no se ve influida por valores pasados? La respuesta es la primera opción, valores pasados de las condiciones atmosféricas influyen fuertemente en la contaminación _actual_.\n",
    "\n",
    "Esta propiedad es clave para la generación de un modelo estadístico, la existencia de patrones y de factores que aparentemente influyen en la contaminación nos permiten tener un conjunto de datos que determinen la contaminación.\n",
    "\n",
    "\n",
    "La generación de la correlación se encuentra en: __/home/paw/DanielBustillos/contaminación/correlaciones_pau/correlaciones_función_paulina.ipynb__"
   ]
  },
  {
   "cell_type": "markdown",
   "metadata": {},
   "source": [
    "Ya que tenemos los modelos entrenados, podemos definir el nombre de las columnas para posteriormente realizar el desplazamiento temporal:"
   ]
  },
  {
   "cell_type": "code",
   "execution_count": 82,
   "metadata": {},
   "outputs": [],
   "source": [
    "O3_wo_end = columns_filter"
   ]
  },
  {
   "cell_type": "code",
   "execution_count": 83,
   "metadata": {},
   "outputs": [],
   "source": [
    "nombres_items = [item.split(\"_\")[0] for item in O3_wo_end]\n",
    "horas_items = [item.split(\"_\")[1] for item in O3_wo_end]"
   ]
  },
  {
   "cell_type": "markdown",
   "metadata": {},
   "source": [
    "Una vez que tenemos los contaminantes y el número de horas de retraso, definimos una función que nos genere una nueva columna con el contaminante recorrido temporalmente las horas indicadas en **O3_corr_filtro**:"
   ]
  },
  {
   "cell_type": "code",
   "execution_count": 84,
   "metadata": {},
   "outputs": [],
   "source": [
    "def shit_corr(df):\n",
    "    for i in range(len(O3_wo_end)):\n",
    "        name_column = str(nombres_items[i] + \"_\" + str(horas_items[i]))\n",
    "                                                # se define el nombre de la columna a crear con el formato:\n",
    "                                            # contaminante _ horas de retraso\n",
    "        df[name_column] = df[nombres_items[i]].shift(\n",
    "            int(float(str(horas_items[i])))) # se toma el nombre del contaminante y se \n",
    "                                                            # desplaza temporalmente las horas indicadas\n",
    "    return df.dropna()"
   ]
  },
  {
   "cell_type": "markdown",
   "metadata": {},
   "source": [
    "Debido a que por cada hora se tienen tantos registros como el número de estaciones de monitoreo, existen fechas duplicadas en el df:"
   ]
  },
  {
   "cell_type": "markdown",
   "metadata": {},
   "source": [
    "Al tener fechas duplicadas, puede ocurrrir errores al aplicar el desplazamiento, por este motivo vamos a generar **un dataframe por cada estación**, aplicaremos la función y por último uniremos los dataframes:"
   ]
  },
  {
   "cell_type": "code",
   "execution_count": 85,
   "metadata": {},
   "outputs": [],
   "source": [
    "estaciones = data_hour_merge_24.id_station.unique().tolist() # recolectamos los nombres de las estaciones\n",
    "data_est = {}\n",
    "for elem in estaciones:\n",
    "    data_est[elem] = data_hour_merge_24[data_hour_merge_24.id_station == elem] #hacemos un df por estación"
   ]
  },
  {
   "cell_type": "markdown",
   "metadata": {},
   "source": [
    "Aplicamos la función para cada dataframe:"
   ]
  },
  {
   "cell_type": "code",
   "execution_count": 86,
   "metadata": {},
   "outputs": [],
   "source": [
    "data_shift = {}\n",
    "for elem in data_est:\n",
    "    data_shift[elem] = shit_corr(data_est[elem])"
   ]
  },
  {
   "cell_type": "markdown",
   "metadata": {},
   "source": [
    "Unimos los dataframes:"
   ]
  },
  {
   "cell_type": "code",
   "execution_count": 87,
   "metadata": {},
   "outputs": [],
   "source": [
    "df_append = pd.DataFrame(columns = data_est[\"MER\"].columns.tolist())\n",
    "for key in data_est:\n",
    "    df_append = df_append.append(data_est[key], ignore_index=True,sort=True)"
   ]
  },
  {
   "cell_type": "markdown",
   "metadata": {},
   "source": [
    "# 2.\n",
    "### Se obtiene el promedio, máximo y mínimo por hora de todas las estaciones."
   ]
  },
  {
   "cell_type": "markdown",
   "metadata": {},
   "source": [
    "Debido a que solo algunas estaciones miden todos los atributos con los que se está trabajando, se encontró que agrupar las condiciones atmosféricas de cada atributo con el promedio, máximo y mínimo, genera una mejora considerable al desempeño final de los modelos, debido a que al hacer esta agrupación se suavizan los valores y también se homogeniza los atributos de cada estación.\n",
    "\n",
    "Se guardan las columnas al aplicar el groupby y se elimina \"fecha\":"
   ]
  },
  {
   "cell_type": "code",
   "execution_count": 91,
   "metadata": {},
   "outputs": [],
   "source": [
    "cols = df_append.columns.tolist() \n",
    "cols.remove(\"fecha\")\n",
    "cols.remove(\"id_station\")\n",
    "df_append[cols] = df_append[cols].astype(float)"
   ]
  },
  {
   "cell_type": "markdown",
   "metadata": {},
   "source": [
    "Aplicamos los groupbys:"
   ]
  },
  {
   "cell_type": "code",
   "execution_count": 92,
   "metadata": {},
   "outputs": [],
   "source": [
    "data_hour_merge_24_max = df_append.groupby('fecha')[cols].max()\n",
    "data_hour_merge_24_max.reset_index(inplace=True)"
   ]
  },
  {
   "cell_type": "code",
   "execution_count": 93,
   "metadata": {},
   "outputs": [],
   "source": [
    "data_hour_merge_24_min = df_append.groupby('fecha')[cols].min()\n",
    "data_hour_merge_24_min.reset_index(inplace=True)"
   ]
  },
  {
   "cell_type": "code",
   "execution_count": 94,
   "metadata": {},
   "outputs": [],
   "source": [
    "data_hour_merge_24_mean = df_append.groupby('fecha')[cols].mean()\n",
    "data_hour_merge_24_mean.reset_index(inplace=True)"
   ]
  },
  {
   "cell_type": "markdown",
   "metadata": {},
   "source": [
    "#### Cambiamos los nombres de las estaciones:\n",
    "Debido a que cada groupby genera los mismos nombres, esto puede generar problemas para identificar de qué columna se trata, se cambiarán los nombres a \"contaminante_max\", \"contaminante_min\", \"contaminante_mean\" según corresponda.\n",
    "\n",
    "Se obtienenn los nonbres de las columnas en forma de lista:"
   ]
  },
  {
   "cell_type": "code",
   "execution_count": 95,
   "metadata": {},
   "outputs": [],
   "source": [
    "max_columns = data_hour_merge_24_max.columns.tolist()\n",
    "min_columns = data_hour_merge_24_min.columns.tolist()\n",
    "mean_columns = data_hour_merge_24_mean.columns.tolist()"
   ]
  },
  {
   "cell_type": "markdown",
   "metadata": {},
   "source": [
    "Se cambian los nombres en las listas:"
   ]
  },
  {
   "cell_type": "code",
   "execution_count": 96,
   "metadata": {},
   "outputs": [],
   "source": [
    "for i in range(len(max_columns)):\n",
    "    if not max_columns[i].startswith(\"fecha\") \\\n",
    "    and not max_columns[i].startswith(\"hora\") \\\n",
    "    and not max_columns[i].startswith(\"dia\") \\\n",
    "    and not max_columns[i].startswith(\"mes\"):\n",
    "        max_columns[i] = max_columns[i]+\"_max\"\n",
    "        \n",
    "    if not min_columns[i].startswith(\"fecha\") \\\n",
    "    and not min_columns[i].startswith(\"hora\") \\\n",
    "    and not min_columns[i].startswith(\"dia\") \\\n",
    "    and not min_columns[i].startswith(\"mes\"):\n",
    "        min_columns[i] = min_columns[i]+\"_min\" \n",
    "        \n",
    "    if not mean_columns[i].startswith(\"fecha\") \\\n",
    "    and not mean_columns[i].startswith(\"hora\") \\\n",
    "    and not mean_columns[i].startswith(\"dia\") \\\n",
    "    and not mean_columns[i].startswith(\"mes\"):\n",
    "        mean_columns[i] = mean_columns[i]+\"_mean\""
   ]
  },
  {
   "cell_type": "markdown",
   "metadata": {},
   "source": [
    "Se renombra las columnas de los dataframes"
   ]
  },
  {
   "cell_type": "code",
   "execution_count": 97,
   "metadata": {},
   "outputs": [],
   "source": [
    "data_hour_merge_24_mean.columns = mean_columns\n",
    "data_hour_merge_24_min.columns = min_columns\n",
    "data_hour_merge_24_max.columns = max_columns"
   ]
  },
  {
   "cell_type": "markdown",
   "metadata": {},
   "source": [
    "Unimos los df's "
   ]
  },
  {
   "cell_type": "code",
   "execution_count": 98,
   "metadata": {},
   "outputs": [],
   "source": [
    "data_hour_merge = pd.merge(data_hour_merge_24_mean, data_hour_merge_24_max, on=['fecha'])\n",
    "data_hour_merge = pd.merge(data_hour_merge, data_hour_merge_24_min, on=['fecha'])"
   ]
  },
  {
   "cell_type": "code",
   "execution_count": 99,
   "metadata": {},
   "outputs": [],
   "source": [
    "data_hour_merge_columns = data_hour_merge.columns.tolist()"
   ]
  },
  {
   "cell_type": "markdown",
   "metadata": {},
   "source": [
    "Debido a que el proceso de obtener el máximo y mínimo es lento, es conveniente guardar el archivo de manera provisional:"
   ]
  },
  {
   "cell_type": "markdown",
   "metadata": {},
   "source": [
    "# Arreglemos los nnombres:"
   ]
  },
  {
   "cell_type": "code",
   "execution_count": 102,
   "metadata": {},
   "outputs": [],
   "source": [
    "for item in range(len(data_hour_merge_columns)):\n",
    "    if  data_hour_merge_columns[item].endswith(\"_x\")\\\n",
    "    or  data_hour_merge_columns[item].endswith(\"_y\"):\n",
    "        data_hour_merge_columns[item] = data_hour_merge_columns[item][:-2]"
   ]
  },
  {
   "cell_type": "code",
   "execution_count": 103,
   "metadata": {},
   "outputs": [],
   "source": [
    "data_hour_merge.columns = data_hour_merge_columns#.tolist()\n",
    "\n",
    "data_hour_merge = data_hour_merge.loc[:,~data_hour_merge.columns.duplicated()]"
   ]
  },
  {
   "cell_type": "code",
   "execution_count": 104,
   "metadata": {},
   "outputs": [],
   "source": [
    "data_hour_merge = data_hour_merge.sort_values(['fecha',\"hora\"], ascending=[0,1]).reset_index(drop=True)"
   ]
  },
  {
   "cell_type": "markdown",
   "metadata": {},
   "source": [
    "## 3. \n",
    "### Generar las columna a pronosticar y obtener la correlación de los valores promedio máximo y mínimo con éste. Filtrar los valores más importantes.\n"
   ]
  },
  {
   "cell_type": "markdown",
   "metadata": {},
   "source": [
    "Ahora vamos a sacar los atributos más correlacionado con el contaminante a pronosticar a pronosticar. "
   ]
  },
  {
   "cell_type": "code",
   "execution_count": 123,
   "metadata": {},
   "outputs": [
    {
     "data": {
      "text/html": [
       "<div>\n",
       "<style scoped>\n",
       "    .dataframe tbody tr th:only-of-type {\n",
       "        vertical-align: middle;\n",
       "    }\n",
       "\n",
       "    .dataframe tbody tr th {\n",
       "        vertical-align: top;\n",
       "    }\n",
       "\n",
       "    .dataframe thead th {\n",
       "        text-align: right;\n",
       "    }\n",
       "</style>\n",
       "<table border=\"1\" class=\"dataframe\">\n",
       "  <thead>\n",
       "    <tr style=\"text-align: right;\">\n",
       "      <th></th>\n",
       "      <th>fecha</th>\n",
       "      <th>CO_mean</th>\n",
       "      <th>NO_mean</th>\n",
       "      <th>NO2_mean</th>\n",
       "      <th>NO2_10.0_mean</th>\n",
       "      <th>NO2_11.0_mean</th>\n",
       "      <th>NO2_12.0_mean</th>\n",
       "      <th>NO2_13.0_mean</th>\n",
       "      <th>NO2_14.0_mean</th>\n",
       "      <th>NO2_15.0_mean</th>\n",
       "      <th>...</th>\n",
       "      <th>PM25mean_4.0_min</th>\n",
       "      <th>PM25mean_5.0_min</th>\n",
       "      <th>PM25mean_6.0_min</th>\n",
       "      <th>PM25mean_7.0_min</th>\n",
       "      <th>PM25mean_8.0_min</th>\n",
       "      <th>PM25mean_9.0_min</th>\n",
       "      <th>RH_min</th>\n",
       "      <th>SO2_min</th>\n",
       "      <th>TMP_min</th>\n",
       "      <th>WSP_min</th>\n",
       "    </tr>\n",
       "  </thead>\n",
       "  <tbody>\n",
       "    <tr>\n",
       "      <th>0</th>\n",
       "      <td>2019-09-06 17:00:00</td>\n",
       "      <td>0.523333</td>\n",
       "      <td>3.0</td>\n",
       "      <td>15.714286</td>\n",
       "      <td>32.714286</td>\n",
       "      <td>27.571429</td>\n",
       "      <td>21.428571</td>\n",
       "      <td>16.000000</td>\n",
       "      <td>13.714286</td>\n",
       "      <td>12.857143</td>\n",
       "      <td>...</td>\n",
       "      <td>16.916667</td>\n",
       "      <td>16.500000</td>\n",
       "      <td>16.125000</td>\n",
       "      <td>15.875000</td>\n",
       "      <td>15.375000</td>\n",
       "      <td>15.208333</td>\n",
       "      <td>24.0</td>\n",
       "      <td>1.0</td>\n",
       "      <td>20.0</td>\n",
       "      <td>1.4</td>\n",
       "    </tr>\n",
       "    <tr>\n",
       "      <th>1</th>\n",
       "      <td>2019-09-06 16:00:00</td>\n",
       "      <td>0.533333</td>\n",
       "      <td>1.6</td>\n",
       "      <td>13.714286</td>\n",
       "      <td>27.571429</td>\n",
       "      <td>21.428571</td>\n",
       "      <td>16.000000</td>\n",
       "      <td>13.714286</td>\n",
       "      <td>12.857143</td>\n",
       "      <td>13.571429</td>\n",
       "      <td>...</td>\n",
       "      <td>16.500000</td>\n",
       "      <td>16.125000</td>\n",
       "      <td>15.875000</td>\n",
       "      <td>15.375000</td>\n",
       "      <td>15.208333</td>\n",
       "      <td>15.125000</td>\n",
       "      <td>27.0</td>\n",
       "      <td>1.0</td>\n",
       "      <td>20.0</td>\n",
       "      <td>1.6</td>\n",
       "    </tr>\n",
       "    <tr>\n",
       "      <th>2</th>\n",
       "      <td>2019-09-06 15:00:00</td>\n",
       "      <td>0.601667</td>\n",
       "      <td>2.0</td>\n",
       "      <td>16.571429</td>\n",
       "      <td>21.428571</td>\n",
       "      <td>16.000000</td>\n",
       "      <td>13.714286</td>\n",
       "      <td>12.857143</td>\n",
       "      <td>13.571429</td>\n",
       "      <td>13.857143</td>\n",
       "      <td>...</td>\n",
       "      <td>16.125000</td>\n",
       "      <td>15.875000</td>\n",
       "      <td>15.375000</td>\n",
       "      <td>15.208333</td>\n",
       "      <td>15.125000</td>\n",
       "      <td>14.875000</td>\n",
       "      <td>32.0</td>\n",
       "      <td>1.0</td>\n",
       "      <td>20.0</td>\n",
       "      <td>1.9</td>\n",
       "    </tr>\n",
       "    <tr>\n",
       "      <th>3</th>\n",
       "      <td>2019-09-06 14:00:00</td>\n",
       "      <td>0.660000</td>\n",
       "      <td>2.6</td>\n",
       "      <td>19.857143</td>\n",
       "      <td>16.000000</td>\n",
       "      <td>13.714286</td>\n",
       "      <td>12.857143</td>\n",
       "      <td>13.571429</td>\n",
       "      <td>13.857143</td>\n",
       "      <td>14.571429</td>\n",
       "      <td>...</td>\n",
       "      <td>15.875000</td>\n",
       "      <td>15.375000</td>\n",
       "      <td>15.208333</td>\n",
       "      <td>15.125000</td>\n",
       "      <td>14.875000</td>\n",
       "      <td>15.166667</td>\n",
       "      <td>34.0</td>\n",
       "      <td>1.0</td>\n",
       "      <td>19.0</td>\n",
       "      <td>1.6</td>\n",
       "    </tr>\n",
       "    <tr>\n",
       "      <th>4</th>\n",
       "      <td>2019-09-06 13:00:00</td>\n",
       "      <td>0.656667</td>\n",
       "      <td>3.2</td>\n",
       "      <td>21.285714</td>\n",
       "      <td>13.714286</td>\n",
       "      <td>12.857143</td>\n",
       "      <td>13.571429</td>\n",
       "      <td>13.857143</td>\n",
       "      <td>14.571429</td>\n",
       "      <td>17.285714</td>\n",
       "      <td>...</td>\n",
       "      <td>15.375000</td>\n",
       "      <td>15.208333</td>\n",
       "      <td>15.125000</td>\n",
       "      <td>14.875000</td>\n",
       "      <td>15.166667</td>\n",
       "      <td>15.000000</td>\n",
       "      <td>37.0</td>\n",
       "      <td>2.0</td>\n",
       "      <td>19.0</td>\n",
       "      <td>1.8</td>\n",
       "    </tr>\n",
       "  </tbody>\n",
       "</table>\n",
       "<p>5 rows × 529 columns</p>\n",
       "</div>"
      ],
      "text/plain": [
       "                 fecha   CO_mean  NO_mean   NO2_mean  NO2_10.0_mean  \\\n",
       "0  2019-09-06 17:00:00  0.523333      3.0  15.714286      32.714286   \n",
       "1  2019-09-06 16:00:00  0.533333      1.6  13.714286      27.571429   \n",
       "2  2019-09-06 15:00:00  0.601667      2.0  16.571429      21.428571   \n",
       "3  2019-09-06 14:00:00  0.660000      2.6  19.857143      16.000000   \n",
       "4  2019-09-06 13:00:00  0.656667      3.2  21.285714      13.714286   \n",
       "\n",
       "   NO2_11.0_mean  NO2_12.0_mean  NO2_13.0_mean  NO2_14.0_mean  NO2_15.0_mean  \\\n",
       "0      27.571429      21.428571      16.000000      13.714286      12.857143   \n",
       "1      21.428571      16.000000      13.714286      12.857143      13.571429   \n",
       "2      16.000000      13.714286      12.857143      13.571429      13.857143   \n",
       "3      13.714286      12.857143      13.571429      13.857143      14.571429   \n",
       "4      12.857143      13.571429      13.857143      14.571429      17.285714   \n",
       "\n",
       "   ...  PM25mean_4.0_min  PM25mean_5.0_min  PM25mean_6.0_min  \\\n",
       "0  ...         16.916667         16.500000         16.125000   \n",
       "1  ...         16.500000         16.125000         15.875000   \n",
       "2  ...         16.125000         15.875000         15.375000   \n",
       "3  ...         15.875000         15.375000         15.208333   \n",
       "4  ...         15.375000         15.208333         15.125000   \n",
       "\n",
       "   PM25mean_7.0_min  PM25mean_8.0_min  PM25mean_9.0_min  RH_min  SO2_min  \\\n",
       "0         15.875000         15.375000         15.208333    24.0      1.0   \n",
       "1         15.375000         15.208333         15.125000    27.0      1.0   \n",
       "2         15.208333         15.125000         14.875000    32.0      1.0   \n",
       "3         15.125000         14.875000         15.166667    34.0      1.0   \n",
       "4         14.875000         15.166667         15.000000    37.0      2.0   \n",
       "\n",
       "   TMP_min  WSP_min  \n",
       "0     20.0      1.4  \n",
       "1     20.0      1.6  \n",
       "2     20.0      1.9  \n",
       "3     19.0      1.6  \n",
       "4     19.0      1.8  \n",
       "\n",
       "[5 rows x 529 columns]"
      ]
     },
     "execution_count": 123,
     "metadata": {},
     "output_type": "execute_result"
    }
   ],
   "source": [
    "data_hour_merge.head()"
   ]
  },
  {
   "cell_type": "markdown",
   "metadata": {},
   "source": [
    "## 4. \n",
    "### Generar las columnas de pronóstico de RH, WSP TMP."
   ]
  },
  {
   "cell_type": "markdown",
   "metadata": {},
   "source": [
    "Se observó que usando datos de pronóstico atmosférico, el modelo tiene un mejor desempeño, vamos a añadir \"RH_mean\",\"WSP_mean\",\"TMP_mean\" a los atributos con un pronóstico de 24 horas."
   ]
  },
  {
   "cell_type": "code",
   "execution_count": 124,
   "metadata": {},
   "outputs": [],
   "source": [
    "lista_frcst = [\"RH_mean\",\"WSP_mean\",\"TMP_mean\"]"
   ]
  },
  {
   "cell_type": "code",
   "execution_count": 125,
   "metadata": {},
   "outputs": [],
   "source": [
    "for item_pronostico in lista_frcst:\n",
    "    for i in range(1, 25):\n",
    "        col_name = str(item_pronostico + \"_frcst_\" + str(i))\n",
    "        data_hour_merge[col_name] = data_hour_merge[item_pronostico].shift(i)\n",
    "data_hour_merge.dropna(inplace=True)"
   ]
  },
  {
   "cell_type": "markdown",
   "metadata": {},
   "source": [
    "volvamos a sacar la correlación y filtramos los valores de correlación:"
   ]
  },
  {
   "cell_type": "code",
   "execution_count": 126,
   "metadata": {},
   "outputs": [
    {
     "data": {
      "text/html": [
       "<div>\n",
       "<style scoped>\n",
       "    .dataframe tbody tr th:only-of-type {\n",
       "        vertical-align: middle;\n",
       "    }\n",
       "\n",
       "    .dataframe tbody tr th {\n",
       "        vertical-align: top;\n",
       "    }\n",
       "\n",
       "    .dataframe thead th {\n",
       "        text-align: right;\n",
       "    }\n",
       "</style>\n",
       "<table border=\"1\" class=\"dataframe\">\n",
       "  <thead>\n",
       "    <tr style=\"text-align: right;\">\n",
       "      <th></th>\n",
       "      <th>fecha</th>\n",
       "      <th>CO_mean</th>\n",
       "      <th>NO_mean</th>\n",
       "      <th>NO2_mean</th>\n",
       "      <th>NO2_10.0_mean</th>\n",
       "      <th>NO2_11.0_mean</th>\n",
       "      <th>NO2_12.0_mean</th>\n",
       "      <th>NO2_13.0_mean</th>\n",
       "      <th>NO2_14.0_mean</th>\n",
       "      <th>NO2_15.0_mean</th>\n",
       "      <th>...</th>\n",
       "      <th>TMP_mean_frcst_15</th>\n",
       "      <th>TMP_mean_frcst_16</th>\n",
       "      <th>TMP_mean_frcst_17</th>\n",
       "      <th>TMP_mean_frcst_18</th>\n",
       "      <th>TMP_mean_frcst_19</th>\n",
       "      <th>TMP_mean_frcst_20</th>\n",
       "      <th>TMP_mean_frcst_21</th>\n",
       "      <th>TMP_mean_frcst_22</th>\n",
       "      <th>TMP_mean_frcst_23</th>\n",
       "      <th>TMP_mean_frcst_24</th>\n",
       "    </tr>\n",
       "  </thead>\n",
       "  <tbody>\n",
       "    <tr>\n",
       "      <th>24</th>\n",
       "      <td>2019-09-05 17:00:00</td>\n",
       "      <td>0.576667</td>\n",
       "      <td>2.8</td>\n",
       "      <td>17.857143</td>\n",
       "      <td>32.500000</td>\n",
       "      <td>30.166667</td>\n",
       "      <td>25.5</td>\n",
       "      <td>20.000000</td>\n",
       "      <td>19.428571</td>\n",
       "      <td>21.0</td>\n",
       "      <td>...</td>\n",
       "      <td>16.000000</td>\n",
       "      <td>16.142857</td>\n",
       "      <td>17.857143</td>\n",
       "      <td>19.142857</td>\n",
       "      <td>20.428571</td>\n",
       "      <td>21.142857</td>\n",
       "      <td>21.714286</td>\n",
       "      <td>22.428571</td>\n",
       "      <td>22.714286</td>\n",
       "      <td>22.714286</td>\n",
       "    </tr>\n",
       "    <tr>\n",
       "      <th>25</th>\n",
       "      <td>2019-09-05 16:00:00</td>\n",
       "      <td>0.541667</td>\n",
       "      <td>2.2</td>\n",
       "      <td>15.000000</td>\n",
       "      <td>30.166667</td>\n",
       "      <td>25.500000</td>\n",
       "      <td>20.0</td>\n",
       "      <td>19.428571</td>\n",
       "      <td>21.000000</td>\n",
       "      <td>22.5</td>\n",
       "      <td>...</td>\n",
       "      <td>15.428571</td>\n",
       "      <td>16.000000</td>\n",
       "      <td>16.142857</td>\n",
       "      <td>17.857143</td>\n",
       "      <td>19.142857</td>\n",
       "      <td>20.428571</td>\n",
       "      <td>21.142857</td>\n",
       "      <td>21.714286</td>\n",
       "      <td>22.428571</td>\n",
       "      <td>22.714286</td>\n",
       "    </tr>\n",
       "  </tbody>\n",
       "</table>\n",
       "<p>2 rows × 601 columns</p>\n",
       "</div>"
      ],
      "text/plain": [
       "                  fecha   CO_mean  NO_mean   NO2_mean  NO2_10.0_mean  \\\n",
       "24  2019-09-05 17:00:00  0.576667      2.8  17.857143      32.500000   \n",
       "25  2019-09-05 16:00:00  0.541667      2.2  15.000000      30.166667   \n",
       "\n",
       "    NO2_11.0_mean  NO2_12.0_mean  NO2_13.0_mean  NO2_14.0_mean  NO2_15.0_mean  \\\n",
       "24      30.166667           25.5      20.000000      19.428571           21.0   \n",
       "25      25.500000           20.0      19.428571      21.000000           22.5   \n",
       "\n",
       "    ...  TMP_mean_frcst_15  TMP_mean_frcst_16  TMP_mean_frcst_17  \\\n",
       "24  ...          16.000000          16.142857          17.857143   \n",
       "25  ...          15.428571          16.000000          16.142857   \n",
       "\n",
       "    TMP_mean_frcst_18  TMP_mean_frcst_19  TMP_mean_frcst_20  \\\n",
       "24          19.142857          20.428571          21.142857   \n",
       "25          17.857143          19.142857          20.428571   \n",
       "\n",
       "    TMP_mean_frcst_21  TMP_mean_frcst_22  TMP_mean_frcst_23  TMP_mean_frcst_24  \n",
       "24          21.714286          22.428571          22.714286          22.714286  \n",
       "25          21.142857          21.714286          22.428571          22.714286  \n",
       "\n",
       "[2 rows x 601 columns]"
      ]
     },
     "execution_count": 126,
     "metadata": {},
     "output_type": "execute_result"
    }
   ],
   "source": [
    "data_hour_merge.head(2)"
   ]
  },
  {
   "cell_type": "markdown",
   "metadata": {},
   "source": [
    "### Filtramos"
   ]
  },
  {
   "cell_type": "code",
   "execution_count": 127,
   "metadata": {},
   "outputs": [],
   "source": [
    "columns.append(\"fecha\")"
   ]
  },
  {
   "cell_type": "code",
   "execution_count": 129,
   "metadata": {},
   "outputs": [],
   "source": [
    "data_hour_merge = data_hour_merge[columns]"
   ]
  },
  {
   "cell_type": "code",
   "execution_count": 130,
   "metadata": {},
   "outputs": [],
   "source": [
    "path_final = str(\"./datos/ingesta_modelos_\"+ contaminante + \".csv\")"
   ]
  },
  {
   "cell_type": "code",
   "execution_count": 131,
   "metadata": {},
   "outputs": [],
   "source": [
    "data_hour_merge.to_csv(\"./datos/datos_modelos_\"+ contaminante + \".csv\",sep=',', encoding='utf-8',index=False)"
   ]
  },
  {
   "cell_type": "markdown",
   "metadata": {},
   "source": [
    "# Función"
   ]
  },
  {
   "cell_type": "code",
   "execution_count": 12,
   "metadata": {},
   "outputs": [],
   "source": [
    "import pandas as pd\n",
    "pd.options.mode.chained_assignment = None     "
   ]
  },
  {
   "cell_type": "code",
   "execution_count": 13,
   "metadata": {},
   "outputs": [],
   "source": [
    "contaminantes = [\"O3\",\"PM10mean\",\"PM25mean\"]"
   ]
  },
  {
   "cell_type": "code",
   "execution_count": 20,
   "metadata": {
    "scrolled": true
   },
   "outputs": [
    {
     "name": "stdout",
     "output_type": "stream",
     "text": [
      "PM25mean_max\n"
     ]
    }
   ],
   "source": [
    "shif_contaminante(Contaminantes[2])"
   ]
  },
  {
   "cell_type": "markdown",
   "metadata": {},
   "source": [
    "  "
   ]
  },
  {
   "cell_type": "markdown",
   "metadata": {},
   "source": [
    "  "
   ]
  },
  {
   "cell_type": "code",
   "execution_count": 15,
   "metadata": {},
   "outputs": [],
   "source": [
    "def shif_contaminante(contaminante):\n",
    "\n",
    "    #data_hour_merge_24 = pd.read_csv('./datos/ingesta_contaminacion.csv')\n",
    "    data_hour_merge_24 = pd.read_csv('./verificacion/datos_entrenamiento_verificacion.csv')#verificationset\n",
    "\n",
    "    data_hour_merge_24 = data_hour_merge_24.dropna(subset=[contaminante]).reset_index(drop=True)#PM25\n",
    "    ## 1. \n",
    "    ### Usando el archivo de correlación con retraso temporal, se crean nuevas columnas con el atributo y #\n",
    "    #las horas atrás.\n",
    "\n",
    "\n",
    "    #La corraloción con retraso temporal se refiere a la influencia que tienen las condiciones atmosféricas #\n",
    "    #de un hora dada sobre las condiciones futuras, por ejemplo, si el nivel de contaminación de actual es\n",
    "    #alto ¿este valor influirá en la contaminación del día siguiente o la contaminación de cada día no se \n",
    "    #ve influida por valores pasados? La respuesta es la primera opción, valores pasados de las condiciones \n",
    "    #atmosféricas influyen fuertemente en la contaminación _actual_.\n",
    "\n",
    "    #Esta propiedad es clave para la generación de un modelo estadístico, la existencia de patrones y de \n",
    "    #factores que aparentemente influyen en la contaminación nos permiten tener un conjunto de datos que#\n",
    "    #determinen la contaminación.\n",
    "\n",
    "    #Ya que tenemos los modelos entrenados, podemos definir el nombre de las columnas para #\n",
    "    #posteriormente realizar el desplazamiento temporal:\n",
    "\n",
    "    #Columnas con las que funcionan los modelos:\n",
    "\n",
    "    O3_columns_final = ['TMP_2.0_max',  'RH_22.0_max',  'hora_11.0',  'O3_47.0_max',  'RH_22.0_min',  'TMP_22.0_mean',  'O3_1.0_max',  'RH_48.0_mean',  'RH_max',  'RH_2.0_max',  'O3_2.0_max',  'O3_1.0_min',  'RH_23.0_min',  'RH_25.0_mean',  'TMP_mean_frcst_24',  'RH_0.0_mean',  'TMP_24.0_mean',  'hora_43.0',  'hora_20.0',  'O3_1.0_mean',  'TMP_mean',  'O3_44.0_mean',  'TMP_0.0_max',  'RH_0.0_max',  'O3_2.0_min',  'O3_0.0_max',  'O3_45.0_max',  'TMP_23.0_mean',  'RH_0.0_min',  'O3_23.0_max',  'RH_mean_frcst_22',  'TMP_24.0_max',  'RH_47.0_mean',  'TMP_mean_frcst_23',  'TMP_0.0_min',  'O3_24.0_mean',  'TMP_max',  'TMP_1.0_max',  'WSP_44.0_mean',  'O3_0.0_mean',  'O3_23.0_min',  'O3_46.0_max',  'RH_mean_frcst_21',  'RH_mean_frcst_1',  'RH_mean_frcst_2',  'TMP_21.0_max',  'TMP_mean_frcst_2',  'RH_2.0_min',  'TMP_46.0_mean',  'RH_24.0_min',  'TMP_45.0_mean',  'TMP_mean_frcst_3',  'TMP_mean_frcst_1',  'O3_min',  'O3_mean',  'O3_47.0_mean',  'TMP_2.0_mean',  'TMP_23.0_max',  'O3_2.0_mean',  'O3_21.0_max',  'RH_23.0_mean',  'RH_24.0_mean',  'O3_25.0_mean',  'O3_46.0_mean',  'RH_1.0_min',  'RH_45.0_mean',  'TMP_47.0_mean',  'RH_24.0_max',  'TMP_22.0_max',  'hora_19.0',  'O3_0.0_min',  'RH_mean_frcst_24',  'RH_mean',  'TMP_21.0_mean',  'RH_22.0_mean',  'RH_mean_frcst_3',  'RH_44.0_mean',  'TMP_min',  'TMP_0.0_mean',  'O3_24.0_max',  'hora_33.0',  'O3_21.0_mean',  'O3_22.0_min',  'hora_10.0',  'O3_22.0_mean',  'O3_24.0_min',  'RH_2.0_mean',  'RH_mean_frcst_23',  'O3_23.0_mean',  'O3_48.0_mean',  'RH_21.0_mean',  'RH_1.0_max',  'TMP_1.0_min',  'RH_1.0_mean',  'TMP_1.0_mean',  'RH_23.0_max',  'RH_46.0_mean',  'TMP_mean_frcst_22',  'hora_34.0',  'hora_9.0',  'O3_max',  'O3_45.0_mean',  'O3_22.0_max',  'RH_21.0_min',  'RH_min',  'WSP_mean']\n",
    "    PM10mean_columns_final = ['PM10mean_0.0_mean',  'PM10mean_20.0_mean',  'PM10_8.0_mean',  'PM10mean_3.0_max',  'PM10mean_25.0_max',  'O3_max',  'PM10mean_18.0_mean',  'PM25mean_2.0_max',  'PM10mean_9.0_max',  'PM10_1.0_mean',  'PM10mean_18.0_max',  'PM10mean_10.0_max',  'PM25mean_5.0_max',  'PM10mean_33.0_max',  'PM10mean_15.0_max',  'PM10mean_6.0_max',  'PM10mean_24.0_mean',  'PM10mean_max',  'PM10_1.0_max',  'PM10mean_1.0_max',  'PM10_10.0_mean',  'PM10mean_7.0_mean',  'PM10mean_24.0_max',  'PM10mean_21.0_mean',  'PM10mean_37.0_max',  'PM10mean_23.0_mean',  'PM25mean_0.0_mean',  'PM10_4.0_max',  'PM10mean_17.0_max',  'PM25mean_6.0_max',  'PM10mean_32.0_max',  'PM10_5.0_max',  'PM25mean_1.0_max',  'PM10mean_6.0_mean',  'PM10mean_11.0_mean',  'PM10mean_26.0_max',  'PM10mean_22.0_mean',  'PM10mean_16.0_mean',  'PM10mean_8.0_mean',  'PM25mean_4.0_max',  'PM10mean_30.0_max',  'PM25mean_0.0_max',  'PM10mean_23.0_max',  'NO2_max',  'WSP_mean',  'PM10mean_9.0_mean',  'PM10mean_17.0_mean',  'PM25mean_3.0_mean',  'PM25mean_7.0_max',  'PM10mean_16.0_max',  'PM10mean_14.0_mean',  'PM10mean_2.0_max',  'PM10mean_2.0_mean',  'PM10mean_mean',  'PM10_0.0_max',  'PM10mean_12.0_max',  'PM10mean_13.0_mean',  'PM10mean_8.0_max',  'PM10mean_25.0_mean',  'PM10mean_27.0_max',  'PM10mean_31.0_max',  'PM10mean_0.0_max',  'PM25mean_3.0_max',  'PM10mean_14.0_max',  'PM25mean_1.0_mean',  'PM10_2.0_max',  'PM10_0.0_mean',  'PM10mean_15.0_mean',  'PM10mean_19.0_mean',  'PM10mean_13.0_max',  'PM10mean_4.0_max',  'PM10_3.0_max',  'PM10mean_1.0_mean',  'PM10_7.0_max',  'PM10mean_20.0_max',  'PM25mean_8.0_max',  'PM10_5.0_mean',  'PM10mean_21.0_max',  'PM10mean_29.0_max',  'PM10mean_12.0_mean',  'PM10_4.0_mean',  'PM10_mean',  'RH_mean',  'PM10mean_5.0_max',  'PM2.5_max',  'PM10mean_4.0_mean',  'PM10_6.0_max',  'PM10mean_36.0_max',  'PM10mean_7.0_max',  'PM10_7.0_mean',  'PM25mean_mean',  'PM10_9.0_mean',  'PM25mean_9.0_max',  'PM10_3.0_mean',  'PM2.5_0.0_max',  'PM10mean_3.0_mean',  'PM10_6.0_mean',  'PM10mean_5.0_mean',  'PM10mean_22.0_max',  'PM10_max',  'PM25mean_10.0_max',  'PM10mean_35.0_max',  'PM25mean_max',  'PM10mean_19.0_max',  'PM10mean_10.0_mean',  'PM10mean_11.0_max',  'PM25mean_2.0_mean',  'TMP_mean',  'PM10mean_34.0_max',  'PM10_2.0_mean',  'PM10mean_28.0_max']\n",
    "    PM25mean_columns_final = ['PM25mean_14.0_max',  'PM10mean_0.0_mean',  'PM10mean_20.0_mean',  'PM10_8.0_mean',  'PM10mean_3.0_max',  'PM2.5_6.0_max',  'O3_max',  'PM10mean_18.0_mean',  'PM25mean_2.0_max',  'PM2.5_9.0_mean',  'PM10_1.0_mean',  'PM2.5_2.0_max',  'PM25mean_0.0_min',  'PM25mean_13.0_max',  'PM10mean_10.0_max',  'PM25mean_5.0_max',  'PM10mean_15.0_max',  'PM10mean_6.0_max',  'PM10mean_0.0_min',  'NO2_3.0_max',  'PM10mean_max',  'PM10_1.0_max',  'PM10mean_1.0_max',  'PM10_10.0_mean',  'PM2.5_4.0_mean',  'PM10mean_7.0_mean',  'PM10mean_21.0_mean',  'PM2.5_mean',  'PM10mean_23.0_mean',  'PM25mean_0.0_mean',  'PM10_4.0_max',  'PM10mean_17.0_max',  'PM10_12.0_mean',  'PM25mean_6.0_max',  'PM25mean_6.0_mean',  'PM25mean_1.0_max',  'PM10mean_6.0_mean',  'PM10mean_11.0_mean',  'PM2.5_3.0_max',  'PM2.5_2.0_mean',  'PM10mean_22.0_mean',  'PM10mean_16.0_mean',  'PM10mean_8.0_mean',  'PM25mean_11.0_mean',  'PM25mean_4.0_max',  'PM25mean_0.0_max',  'NO2_max',  'WSP_mean',  'PM10mean_9.0_mean',  'PM10mean_17.0_mean',  'PM2.5_8.0_mean',  'PM25mean_3.0_mean',  'PM25mean_7.0_max',  'PM25mean_9.0_mean',  'PM10mean_16.0_max',  'PM10mean_14.0_mean',  'NO2_mean',  'PM10mean_2.0_max',  'PM10mean_2.0_mean',  'PM10mean_mean',  'PM10_0.0_max',  'PM10mean_12.0_max',  'PM25mean_min',  'PM10mean_13.0_mean',  'PM10mean_8.0_max',  'PM10mean_0.0_max',  'PM25mean_3.0_max',  'PM10mean_14.0_max',  'PM25mean_1.0_mean',  'PM10_2.0_max',  'PM10_0.0_mean',  'PM10mean_15.0_mean',  'PM10mean_19.0_mean',  'PM10_11.0_mean',  'PM10mean_13.0_max',  'PM10mean_4.0_max',  'PM25mean_10.0_mean',  'PM25mean_14.0_mean',  'PM10_3.0_max',  'PM10mean_1.0_mean',  'PM2.5_1.0_mean',  'PM25mean_8.0_max',  'PM25mean_4.0_mean',  'PM10_5.0_mean',  'PM25mean_5.0_mean',  'PM25mean_11.0_max',  'PM10mean_12.0_mean',  'PM10_4.0_mean',  'PM10_mean',  'RH_mean',  'PM10mean_1.0_min',  'PM2.5_0.0_mean',  'PM10mean_5.0_max',  'PM2.5_max',  'PM10mean_4.0_mean',  'PM2.5_4.0_max',  'PM2.5_5.0_max',  'PM2.5_min',  'PM10mean_7.0_max',  'PM10_7.0_mean',  'PM25mean_mean',  'PM10_9.0_mean',  'PM25mean_9.0_max',  'PM10mean_min',  'PM10_3.0_mean',  'PM2.5_1.0_max',  'PM2.5_5.0_mean',  'PM2.5_6.0_mean',  'PM2.5_0.0_max',  'PM10mean_3.0_mean',  'PM10_6.0_mean',  'PM10mean_5.0_mean',  'PM25mean_8.0_mean',  'PM10_max',  'PM25mean_10.0_max',  'PM25mean_max',  'PM25mean_12.0_max',  'PM25mean_1.0_min',  'PM2.5_3.0_mean',  'PM25mean_15.0_mean',  'PM10mean_10.0_mean',  'PM25mean_12.0_mean',  'PM10mean_11.0_max',  'PM25mean_2.0_mean',  'TMP_mean',  'PM2.5_7.0_mean',  'PM25mean_7.0_mean',  'PM25mean_13.0_mean',  'PM10_2.0_mean',  'PM10mean_9.0_max',  'PM2.5_0.0_min']\n",
    "\n",
    "    #Columnas con losque se filtra inicialmente:\n",
    "\n",
    "    PM25mean_columns_filter = ['PM25mean_0.0',  'PM10_0.0',  'PM2.5_0.0',  'PM10mean_0.0',  'PM25mean_0.0',  'PM10mean_1.0',  'PM10mean_2.0',  'PM10mean_3.0',  'PM10mean_4.0',  'PM10mean_5.0',  'PM10mean_6.0',  'PM10mean_7.0',  'PM10mean_8.0',  'PM10mean_9.0',  'PM10mean_10.0',  'PM10mean_11.0',  'PM10mean_12.0',  'PM10mean_13.0',  'PM10mean_14.0',  'PM10mean_15.0',  'PM10mean_16.0',  'PM25mean_1.0',  'PM25mean_2.0',  'PM25mean_3.0',  'PM25mean_4.0',  'PM25mean_5.0',  'PM25mean_6.0',  'PM25mean_7.0',  'PM25mean_8.0',  'PM25mean_9.0',  'PM25mean_10.0',  'PM25mean_11.0',  'PM25mean_12.0',  'PM25mean_13.0',  'PM25mean_14.0',  'PM25mean_15.0',  'PM25mean_16.0',  'PM25mean_17.0',  'PM25mean_18.0',  'PM10mean_1.0',  'PM10mean_2.0',  'PM10mean_3.0',  'PM10mean_4.0',  'PM10mean_5.0',  'PM10mean_6.0',  'PM10mean_7.0',  'PM10mean_8.0',  'PM10mean_9.0',  'PM10mean_10.0',  'PM10mean_11.0',  'PM10mean_12.0',  'PM10mean_13.0',  'PM10mean_14.0',  'PM10mean_15.0',  'PM10mean_16.0',  'PM10mean_17.0',  'PM10mean_18.0',  'PM10mean_19.0',  'PM10mean_20.0',  'PM10mean_21.0',  'PM10mean_22.0',  'PM10mean_23.0',  'PM10mean_24.0',  'PM10mean_25.0',  'PM10mean_26.0',  'PM10mean_27.0',  'PM10mean_28.0',  'PM10mean_29.0',  'PM10mean_30.0',  'PM10mean_31.0',  'PM10mean_32.0',  'PM10mean_33.0',  'PM10mean_34.0',  'PM10mean_35.0',  'PM10mean_36.0',  'PM10mean_37.0',  'PM10mean_38.0',  'PM25mean_1.0',  'PM25mean_2.0',  'PM25mean_3.0',  'PM25mean_4.0',  'PM25mean_5.0',  'PM25mean_6.0',  'PM25mean_7.0',  'PM25mean_8.0',  'PM25mean_9.0',  'PM25mean_10.0',  'PM25mean_11.0',  'PM25mean_12.0',  'PM25mean_13.0',  'PM25mean_14.0',  'PM25mean_15.0',  'PM25mean_16.0',  'PM25mean_17.0',  'PM25mean_18.0',  'PM25mean_19.0',  'PM25mean_20.0',  'PM25mean_21.0',  'PM25mean_22.0',  'PM25mean_23.0',  'PM25mean_24.0',  'PM25mean_25.0',  'PM25mean_26.0',  'PM25mean_27.0',  'PM25mean_28.0',  'PM25mean_29.0',  'PM25mean_30.0',  'PM25mean_31.0',  'PM25mean_32.0',  'PM25mean_33.0',  'PM25mean_34.0',  'PM25mean_35.0',  'PM25mean_36.0',  'PM25mean_37.0',  'NO2_3.0',  'NO2_4.0',  'NO2_5.0',  'NO2_6.0',  'NO2_7.0',  'NO2_8.0',  'NO2_9.0',  'NO2_10.0',  'NO2_11.0',  'NO2_12.0',  'NO2_13.0',  'NO2_14.0',  'NO2_15.0',  'NO2_16.0',  'NO2_17.0',  'NO2_18.0',  'NO2_19.0',  'NO2_20.0',  'NO2_21.0',  'NO2_22.0',  'NO2_23.0',  'PM10_1.0',  'PM10_2.0',  'PM10_3.0',  'PM10_4.0',  'PM10_5.0',  'PM10_6.0',  'PM10_7.0',  'PM10_8.0',  'PM10_9.0',  'PM10_10.0',  'PM10_11.0',  'PM10_12.0',  'PM10_13.0',  'PM10_14.0',  'PM10_15.0',  'PM10_16.0',  'PM10_17.0',  'PM10_18.0',  'PM10_19.0',  'PM10_20.0',  'PM10_21.0',  'PM10_22.0',  'PM10_23.0',  'PM10_24.0',  'PM10_25.0',  'PM10_26.0',  'PM10_27.0',  'PM10_28.0',  'PM10_29.0',  'PM10_30.0',  'PM2.5_1.0',  'PM2.5_2.0',  'PM2.5_3.0',  'PM2.5_4.0',  'PM2.5_5.0',  'PM2.5_6.0',  'PM2.5_7.0',  'PM2.5_8.0',  'PM2.5_9.0',  'PM2.5_10.0',  'PM2.5_11.0',  'PM2.5_12.0',  'PM2.5_13.0',  'PM2.5_14.0',  'PM2.5_15.0',  'PM2.5_16.0',  'PM2.5_17.0',  'PM2.5_18.0',  'PM2.5_19.0',  'PM2.5_20.0',  'PM2.5_21.0',  'PM2.5_22.0',  'PM2.5_23.0',  'PM2.5_24.0',  'PM2.5_25.0',  'PM2.5_26.0',  'PM2.5_27.0',  'PM2.5_28.0',  'PM10mean_1.0',  'PM10mean_2.0',  'PM10mean_3.0',  'PM10mean_4.0',  'PM10mean_5.0',  'PM10mean_6.0',  'PM10mean_7.0',  'PM10mean_8.0',  'PM10mean_9.0',  'PM10mean_10.0',  'PM10mean_11.0',  'PM10mean_12.0',  'PM10mean_13.0',  'PM10mean_14.0',  'PM10mean_15.0',  'PM10mean_16.0',  'PM10mean_17.0',  'PM10mean_18.0',  'PM10mean_19.0',  'PM10mean_20.0',  'PM10mean_21.0',  'PM10mean_22.0',  'PM10mean_23.0',  'PM10mean_24.0',  'PM10mean_25.0',  'PM10mean_26.0',  'PM10mean_27.0',  'PM10mean_28.0',  'PM10mean_29.0',  'PM10mean_30.0',  'PM10mean_31.0',  'PM10mean_32.0',  'PM10mean_33.0',  'PM10mean_34.0',  'PM10mean_35.0',  'PM10mean_36.0',  'PM10mean_37.0',  'PM10mean_38.0',  'PM10mean_39.0',  'PM10mean_40.0',  'PM10mean_41.0',  'PM10mean_42.0',  'PM25mean_1.0',  'PM25mean_2.0',  'PM25mean_3.0',  'PM25mean_4.0',  'PM25mean_5.0',  'PM25mean_6.0',  'PM25mean_7.0',  'PM25mean_8.0',  'PM25mean_9.0',  'PM25mean_10.0',  'PM25mean_11.0',  'PM25mean_12.0',  'PM25mean_13.0',  'PM25mean_14.0',  'PM25mean_15.0',  'PM25mean_16.0',  'PM25mean_17.0',  'PM25mean_18.0',  'PM25mean_19.0',  'PM25mean_20.0',  'PM25mean_21.0',  'PM25mean_22.0',  'PM25mean_23.0',  'PM25mean_24.0',  'PM25mean_25.0',  'PM25mean_26.0',  'PM25mean_27.0',  'PM25mean_28.0',  'PM25mean_29.0',  'PM25mean_30.0',  'PM25mean_31.0',  'PM25mean_32.0',  'PM25mean_33.0',  'PM25mean_34.0']\n",
    "    PM10mean_columns_filter = ['PM10_0.0',  'PM2.5_0.0',  'PM10mean_0.0',  'PM25mean_0.0',  'PM10mean_1.0',  'PM10mean_2.0',  'PM10mean_3.0',  'PM10mean_4.0',  'PM10mean_5.0',  'PM10mean_6.0',  'PM10mean_7.0',  'PM10mean_8.0',  'PM10mean_9.0',  'PM10mean_10.0',  'PM10mean_11.0',  'PM10mean_12.0',  'PM10mean_13.0',  'PM10mean_14.0',  'PM10mean_15.0',  'PM25mean_1.0',  'PM25mean_2.0',  'PM10mean_1.0',  'PM10mean_2.0',  'PM10mean_3.0',  'PM10mean_4.0',  'PM10mean_5.0',  'PM10mean_6.0',  'PM10mean_7.0',  'PM10mean_8.0',  'PM10mean_9.0',  'PM10mean_10.0',  'PM10mean_11.0',  'PM10mean_12.0',  'PM10mean_13.0',  'PM10mean_14.0',  'PM10mean_15.0',  'PM10mean_16.0',  'PM10mean_17.0',  'PM10mean_18.0',  'PM10mean_19.0',  'PM10mean_20.0',  'PM10mean_21.0',  'PM10mean_22.0',  'PM10mean_23.0',  'PM10mean_24.0',  'PM10mean_25.0',  'PM10mean_26.0',  'PM10mean_27.0',  'PM10mean_28.0',  'PM10mean_29.0',  'PM10mean_30.0',  'PM10mean_31.0',  'PM10mean_32.0',  'PM10mean_33.0',  'PM10mean_34.0',  'PM10mean_35.0',  'PM10mean_36.0',  'PM10mean_37.0',  'PM10mean_38.0',  'PM10mean_39.0',  'PM10mean_40.0',  'PM10mean_41.0',  'PM10mean_42.0',  'PM10mean_43.0',  'PM10mean_44.0',  'PM10mean_45.0',  'PM10mean_46.0',  'PM10mean_47.0',  'PM10mean_48.0',  'PM25mean_1.0',  'PM25mean_2.0',  'PM25mean_3.0',  'PM25mean_4.0',  'PM25mean_5.0',  'PM25mean_6.0',  'PM25mean_7.0',  'PM25mean_8.0',  'PM25mean_9.0',  'PM25mean_10.0',  'PM25mean_11.0',  'PM25mean_12.0',  'PM25mean_13.0',  'PM25mean_14.0',  'PM25mean_15.0',  'PM25mean_16.0',  'PM25mean_17.0',  'PM25mean_18.0',  'PM25mean_19.0',  'PM25mean_20.0',  'PM25mean_21.0',  'PM25mean_22.0',  'PM25mean_23.0',  'PM25mean_24.0',  'PM25mean_25.0',  'PM25mean_26.0',  'PM25mean_27.0',  'PM25mean_28.0',  'PM25mean_29.0',  'PM25mean_30.0',  'PM25mean_31.0',  'PM25mean_32.0',  'PM25mean_33.0',  'PM25mean_34.0',  'PM25mean_35.0',  'PM25mean_36.0',  'PM25mean_37.0',  'NO2_5.0',  'NO2_6.0',  'NO2_7.0',  'NO2_8.0',  'NO2_9.0',  'NO2_10.0',  'NO2_11.0',  'NO2_12.0',  'NO2_13.0',  'NO2_14.0',  'NO2_15.0',  'NO2_16.0',  'NO2_17.0',  'NO2_18.0',  'NO2_19.0',  'NO2_20.0',  'NO2_21.0',  'NO2_22.0',  'NO2_23.0',  'PM10_1.0',  'PM10_2.0',  'PM10_3.0',  'PM10_4.0',  'PM10_5.0',  'PM10_6.0',  'PM10_7.0',  'PM10_8.0',  'PM10_9.0',  'PM10_10.0',  'PM10_11.0',  'PM10_12.0',  'PM10_13.0',  'PM10_14.0',  'PM10_15.0',  'PM10_16.0',  'PM10_17.0',  'PM10_18.0',  'PM10_19.0',  'PM10_20.0',  'PM10_21.0',  'PM10_22.0',  'PM10_23.0',  'PM10_24.0',  'PM10_25.0',  'PM10_26.0',  'PM10_27.0',  'PM10_28.0',  'PM10_29.0',  'PM10_30.0',  'PM10_31.0',  'PM10_32.0',  'PM10_33.0',  'PM10_34.0',  'PM10_35.0',  'PM10_36.0',  'PM2.5_1.0',  'PM2.5_2.0',  'PM2.5_3.0',  'PM2.5_4.0',  'PM2.5_5.0',  'PM2.5_6.0',  'PM2.5_7.0',  'PM2.5_8.0',  'PM2.5_9.0',  'PM2.5_10.0',  'PM2.5_11.0',  'PM2.5_12.0',  'PM2.5_13.0',  'PM2.5_14.0',  'PM2.5_15.0',  'PM2.5_16.0',  'PM2.5_17.0',  'PM2.5_18.0',  'PM2.5_19.0',  'PM2.5_20.0',  'PM2.5_21.0',  'PM2.5_22.0',  'PM2.5_23.0',  'PM10mean_1.0',  'PM10mean_2.0',  'PM10mean_3.0',  'PM10mean_4.0',  'PM10mean_5.0',  'PM10mean_6.0',  'PM10mean_7.0',  'PM10mean_8.0',  'PM10mean_9.0',  'PM10mean_10.0',  'PM10mean_11.0',  'PM10mean_12.0',  'PM10mean_13.0',  'PM10mean_14.0',  'PM10mean_15.0',  'PM10mean_16.0',  'PM10mean_17.0',  'PM10mean_18.0',  'PM10mean_19.0',  'PM10mean_20.0',  'PM10mean_21.0',  'PM10mean_22.0',  'PM10mean_23.0',  'PM10mean_24.0',  'PM10mean_25.0',  'PM10mean_26.0',  'PM10mean_27.0',  'PM10mean_28.0',  'PM10mean_29.0',  'PM10mean_30.0',  'PM10mean_31.0',  'PM10mean_32.0',  'PM10mean_33.0',  'PM10mean_34.0',  'PM10mean_35.0',  'PM10mean_36.0',  'PM10mean_37.0',  'PM10mean_38.0',  'PM10mean_39.0',  'PM10mean_40.0',  'PM10mean_41.0',  'PM10mean_42.0',  'PM10mean_43.0',  'PM10mean_44.0',  'PM10mean_45.0',  'PM10mean_46.0',  'PM10mean_47.0',  'PM10mean_48.0',  'PM25mean_1.0',  'PM25mean_2.0',  'PM25mean_3.0',  'PM25mean_4.0',  'PM25mean_5.0',  'PM25mean_6.0',  'PM25mean_7.0',  'PM25mean_8.0',  'PM25mean_9.0',  'PM25mean_10.0',  'PM25mean_11.0',  'PM25mean_12.0',  'PM25mean_13.0',  'PM25mean_14.0',  'PM25mean_15.0',  'PM25mean_16.0',  'PM25mean_17.0',  'PM25mean_18.0',  'PM25mean_19.0',  'PM25mean_20.0',  'PM25mean_21.0',  'PM25mean_22.0',  'PM25mean_23.0',  'PM25mean_24.0',  'PM25mean_25.0',  'PM25mean_26.0',  'PM25mean_27.0',  'PM25mean_28.0',  'PM25mean_29.0']\n",
    "    O3_columns_filter = ['O3_0.0',  'RH_0.0',  'TMP_0.0',  'hora_9.0',  'hora_10.0',  'hora_11.0',  'hora_12.0',  'hora_13.0',  'hora_18.0',  'hora_19.0',  'hora_20.0',  'hora_21.0',  'hora_22.0',  'hora_32.0',  'hora_33.0',  'hora_34.0',  'hora_35.0',  'hora_36.0',  'hora_42.0',  'hora_43.0',  'hora_44.0',  'hora_45.0',  'O3_1.0',  'O3_2.0',  'O3_3.0',  'O3_4.0',  'O3_21.0',  'O3_22.0',  'O3_23.0',  'O3_24.0',  'O3_25.0',  'O3_26.0',  'O3_27.0',  'O3_45.0',  'O3_46.0',  'O3_47.0',  'O3_48.0',  'O3_1.0',  'O3_2.0',  'O3_3.0',  'O3_4.0',  'O3_20.0',  'O3_21.0',  'O3_22.0',  'O3_23.0',  'O3_24.0',  'O3_25.0',  'O3_26.0',  'O3_27.0',  'O3_44.0',  'O3_45.0',  'O3_46.0',  'O3_47.0',  'O3_48.0',  'CO_5.0',  'CO_6.0',  'CO_7.0',  'CO_8.0',  'CO_29.0',  'CO_30.0',  'CO_31.0',  'NO_6.0',  'NO_7.0',  'NO_8.0',  'NO_9.0',  'NO_30.0',  'NO_31.0',  'NO_32.0',  'NOX_6.0',  'NOX_7.0',  'NOX_8.0',  'NOX_9.0',  'NOX_30.0',  'NOX_31.0',  'NOX_32.0',  'O3_1.0',  'O3_2.0',  'O3_3.0',  'O3_4.0',  'O3_21.0',  'O3_22.0',  'O3_23.0',  'O3_24.0',  'O3_25.0',  'O3_26.0',  'O3_27.0',  'O3_44.0',  'O3_45.0',  'O3_46.0',  'O3_47.0',  'O3_48.0',  'PM10_1.0',  'PM10_2.0',  'PM10_3.0',  'PM10_4.0',  'PM10_5.0',  'PM10_6.0',  'PM10_26.0',  'PM10_27.0',  'PM10_28.0',  'PM10_29.0',  'PM2.5_1.0',  'PM2.5_2.0',  'PM2.5_3.0',  'PM2.5_4.0',  'PM2.5_5.0',  'PM2.5_6.0',  'PM2.5_26.0',  'PM2.5_27.0',  'PM2.5_28.0',  'PM2.5_29.0',  'RH_1.0',  'RH_2.0',  'RH_3.0',  'RH_20.0',  'RH_21.0',  'RH_22.0',  'RH_23.0',  'RH_24.0',  'RH_25.0',  'RH_26.0',  'RH_44.0',  'RH_45.0',  'RH_46.0',  'RH_47.0',  'RH_48.0',  'TMP_1.0',  'TMP_2.0',  'TMP_3.0',  'TMP_20.0',  'TMP_21.0',  'TMP_22.0',  'TMP_23.0',  'TMP_24.0',  'TMP_25.0',  'TMP_26.0',  'TMP_44.0',  'TMP_45.0',  'TMP_46.0',  'TMP_47.0',  'TMP_48.0',  'WSP_8.0',  'WSP_9.0',  'WSP_10.0',  'WSP_11.0',  'WSP_44.0',  'WSP_45.0']\n",
    "\n",
    "    if contaminante == \"O3\":\n",
    "        columns = O3_columns_final\n",
    "        columns_filter = O3_columns_filter\n",
    "    elif contaminante==\"PM10mean\":\n",
    "        columns = PM10mean_columns_final\n",
    "        columns_filter = PM10mean_columns_filter\n",
    "    elif contaminante==\"PM25mean\":\n",
    "        columns = PM25mean_columns_final\n",
    "        columns_filter = PM25mean_columns_filter\n",
    "\n",
    "    #columns_filter\n",
    "\n",
    "    ## 1. \n",
    "    ### Usando el archivo de correlación con retraso temporal, se crean nuevas columnas con el atributo y\n",
    "    #las horas atrás.\n",
    "\n",
    "\n",
    "    #La corraloción con retraso temporal se refiere a la influencia que tienen las condiciones atmosféricas\n",
    "    #de un hora dada sobre las condiciones futuras, por ejemplo, si el nivel de contaminación de actual es \n",
    "    #alto ¿este valor influirá en la contaminación del día siguiente o la contaminación de cada día no se\n",
    "    #ve influida por valores pasados? La respuesta es la primera opción, valores pasados de las condiciones\n",
    "    #atmosféricas influyen fuertemente en la contaminación _actual_.\n",
    "\n",
    "    #Esta propiedad es clave para la generación de un modelo estadístico, la existencia de patrones y de\n",
    "    #factores que aparentemente influyen en la contaminación nos permiten tener un conjunto de datos que \n",
    "    #determinen la contaminación.\n",
    "\n",
    "\n",
    "    #Ya que tenemos los modelos entrenados, podemos definir el nombre de las columnas para posteriormente \n",
    "    #realizar el desplazamiento temporal:\n",
    "\n",
    "    O3_wo_end = columns_filter\n",
    "\n",
    "    nombres_items = [item.split(\"_\")[0] for item in O3_wo_end]\n",
    "    horas_items = [item.split(\"_\")[1] for item in O3_wo_end]\n",
    "\n",
    "    #Una vez que tenemos los contaminantes y el número de horas de retraso, definimos una función que \n",
    "    #nos genere una nueva columna con el contaminante recorrido temporalmente las horas indicadas \n",
    "    #en **O3_corr_filtro**:\n",
    "\n",
    "    def shit_corr(df):\n",
    "        for i in range(len(O3_wo_end)):\n",
    "            name_column = str(nombres_items[i] + \"_\" + str(horas_items[i]))\n",
    "                                                    # se define el nombre de la columna a crear con el formato:\n",
    "                                                # contaminante _ horas de retraso\n",
    "            df[name_column] = df[nombres_items[i]].shift(\n",
    "                int(float(str(horas_items[i])))) # se toma el nombre del contaminante y se \n",
    "                                                                # desplaza temporalmente las horas indicadas\n",
    "        return df.dropna()\n",
    "\n",
    "    #Debido a que por cada hora se tienen tantos registros como el número de estaciones de monitoreo,\n",
    "    #existen fechas duplicadas en el df:\n",
    "\n",
    "    #Al tener fechas duplicadas, puede ocurrrir errores al aplicar el desplazamiento, por este motivo\n",
    "    #vamos a generar **un dataframe por cada estación**, aplicaremos la función y por último uniremos \n",
    "    #los dataframes:\n",
    "\n",
    "    estaciones = data_hour_merge_24.id_station.unique().tolist() # recolectamos los nombres de las estaciones\n",
    "    data_est = {}\n",
    "    for elem in estaciones:\n",
    "        data_est[elem] = data_hour_merge_24[data_hour_merge_24.id_station == elem] #hacemos un df por estación\n",
    "\n",
    "    #Aplicamos la función para cada dataframe:\n",
    "\n",
    "    data_shift = {}\n",
    "    for elem in data_est:\n",
    "        data_shift[elem] = shit_corr(data_est[elem])\n",
    "\n",
    "    #Unimos los dataframes:\n",
    "\n",
    "    df_append = pd.DataFrame(columns = data_est[\"MER\"].columns.tolist())\n",
    "    for key in data_est:\n",
    "        df_append = df_append.append(data_est[key], ignore_index=True,sort=True)\n",
    "\n",
    "\n",
    "    # 2.\n",
    "    ### Se obtiene el promedio, máximo y mínimo por hora de todas las estaciones.\n",
    "\n",
    "    #Debido a que solo algunas estaciones miden todos los atributos con los que se está trabajando, \n",
    "    #se encontró que agrupar las condiciones atmosféricas de cada atributo con el promedio, máximo y \n",
    "    #mínimo, genera una mejora considerable al desempeño final de los modelos, debido a que al hacer\n",
    "    #esta agrupación se suavizan los valores y también se homogeniza los atributos de cada estación.\n",
    "\n",
    "    #Se guardan las columnas al aplicar el groupby y se elimina \"fecha\":\n",
    "\n",
    "    cols = df_append.columns.tolist() \n",
    "    cols.remove(\"fecha\")\n",
    "    cols.remove(\"id_station\")\n",
    "    df_append[cols] = df_append[cols].astype(float)\n",
    "\n",
    "    #Aplicamos los groupbys:\n",
    "\n",
    "    data_hour_merge_24_max = df_append.groupby('fecha')[cols].max()\n",
    "    data_hour_merge_24_max.reset_index(inplace=True)\n",
    "\n",
    "    data_hour_merge_24_min = df_append.groupby('fecha')[cols].min()\n",
    "    data_hour_merge_24_min.reset_index(inplace=True)\n",
    "\n",
    "    data_hour_merge_24_mean = df_append.groupby('fecha')[cols].mean()\n",
    "    data_hour_merge_24_mean.reset_index(inplace=True)\n",
    "\n",
    "    #### Cambiamos los nombres de las estaciones:\n",
    "    #Debido a que cada groupby genera los mismos nombres, esto puede generar problemas para \n",
    "    #identificar de qué columna se trata, se cambiarán los nombres a \"contaminante_max\", \n",
    "    #\"contaminante_min\", \"contaminante_mean\" según corresponda.\n",
    "\n",
    "    #Se obtienenn los nonbres de las columnas en forma de lista:\n",
    "\n",
    "    max_columns = data_hour_merge_24_max.columns.tolist()\n",
    "    min_columns = data_hour_merge_24_min.columns.tolist()\n",
    "    mean_columns = data_hour_merge_24_mean.columns.tolist()\n",
    "\n",
    "    #Se cambian los nombres en las listas:\n",
    "\n",
    "    for i in range(len(max_columns)):\n",
    "        if not max_columns[i].startswith(\"fecha\") \\\n",
    "        and not max_columns[i].startswith(\"hora\") \\\n",
    "        and not max_columns[i].startswith(\"dia\") \\\n",
    "        and not max_columns[i].startswith(\"mes\"):\n",
    "            max_columns[i] = max_columns[i]+\"_max\"\n",
    "\n",
    "        if not min_columns[i].startswith(\"fecha\") \\\n",
    "        and not min_columns[i].startswith(\"hora\") \\\n",
    "        and not min_columns[i].startswith(\"dia\") \\\n",
    "        and not min_columns[i].startswith(\"mes\"):\n",
    "            min_columns[i] = min_columns[i]+\"_min\" \n",
    "\n",
    "        if not mean_columns[i].startswith(\"fecha\") \\\n",
    "        and not mean_columns[i].startswith(\"hora\") \\\n",
    "        and not mean_columns[i].startswith(\"dia\") \\\n",
    "        and not mean_columns[i].startswith(\"mes\"):\n",
    "            mean_columns[i] = mean_columns[i]+\"_mean\"\n",
    "\n",
    "    #Se renombra las columnas de los dataframes\n",
    "\n",
    "    data_hour_merge_24_mean.columns = mean_columns\n",
    "    data_hour_merge_24_min.columns = min_columns\n",
    "    data_hour_merge_24_max.columns = max_columns\n",
    "\n",
    "    #Unimos los df's \n",
    "\n",
    "    data_hour_merge = pd.merge(data_hour_merge_24_mean, data_hour_merge_24_max, on=['fecha'])\n",
    "    data_hour_merge = pd.merge(data_hour_merge, data_hour_merge_24_min, on=['fecha'])\n",
    "\n",
    "    data_hour_merge_columns = data_hour_merge.columns.tolist()\n",
    "\n",
    "    #Debido a que el proceso de obtener el máximo y mínimo es lento, es conveniente guardar el\n",
    "    #archivo de manera provisional:\n",
    "\n",
    "    # Arreglemos los nnombres:\n",
    "\n",
    "    for item in range(len(data_hour_merge_columns)):\n",
    "        if  data_hour_merge_columns[item].endswith(\"_x\")\\\n",
    "        or  data_hour_merge_columns[item].endswith(\"_y\"):\n",
    "            data_hour_merge_columns[item] = data_hour_merge_columns[item][:-2]\n",
    "\n",
    "    data_hour_merge.columns = data_hour_merge_columns#.tolist()\n",
    "\n",
    "    data_hour_merge = data_hour_merge.loc[:,~data_hour_merge.columns.duplicated()]\n",
    "\n",
    "    data_hour_merge = data_hour_merge.sort_values(['fecha',\"hora\"], ascending=[0,1]).reset_index(drop=True)\n",
    "\n",
    "    ## 3. \n",
    "    ### Generar las columna a pronosticar y obtener la correlación de los valores promedio máximo y \n",
    "    #mínimo con éste. Filtrar los valores más importantes.\n",
    "\n",
    "\n",
    "    #Ahora vamos a sacar los atributos más correlacionado con el contaminante a pronosticar a pronosticar. \n",
    "\n",
    "    #data_hour_merge.head()\n",
    "\n",
    "    ## 4. \n",
    "    ### Generar las columnas de pronóstico de RH, WSP TMP.\n",
    "\n",
    "    #Se observó que usando datos de pronóstico atmosférico, el modelo tiene un mejor desempeño,\n",
    "    #vamos a añadir \"RH_mean\",\"WSP_mean\",\"TMP_mean\" a los atributos con un pronóstico de 24 horas.\n",
    "\n",
    "    lista_frcst = [\"RH_mean\",\"WSP_mean\",\"TMP_mean\"]\n",
    "\n",
    "    for item_pronostico in lista_frcst:\n",
    "        for i in range(1, 25):\n",
    "            col_name = str(item_pronostico + \"_frcst_\" + str(i))\n",
    "            data_hour_merge[col_name] = data_hour_merge[item_pronostico].shift(i)\n",
    "    data_hour_merge.dropna(inplace=True)\n",
    "\n",
    "    \n",
    "        #### Columnas de pronóstico ## solo para datos de verificación\n",
    "    \n",
    "    if contaminante == 'PM10' or contaminante == 'PM2.5':\n",
    "        item = contaminante+\"mean_max\"\n",
    "    else:\n",
    "        item = contaminante+\"_max\" \n",
    "    print(item)\n",
    "    \n",
    "    for i in range(1, 25):\n",
    "        col_name = str(item+\"_frcst_\"+str(i))\n",
    "        columns.append(col_name)\n",
    "        data_hour_merge[col_name] = data_hour_merge[item].shift(i)\n",
    "    data_hour_merge.dropna(inplace=True)\n",
    "    \n",
    "    \n",
    "            ### columnas de pronóstico\n",
    "    \n",
    "    \n",
    "    columns.append(\"fecha\")\n",
    "    data_hour_merge = data_hour_merge[columns]\n",
    "\n",
    "    #path_final = str(\"./datos/ingesta_modelos_\"+ contaminante + \".csv\")\n",
    "    path_final = str(\"./verificacion/verifcacion_modelos_\"+ contaminante + \".csv\")#verificacion\n",
    "    \n",
    "\n",
    "\n",
    "    data_hour_merge.to_csv(path_final,sep=',', encoding='utf-8',index=False)"
   ]
  },
  {
   "cell_type": "markdown",
   "metadata": {},
   "source": [
    "Test"
   ]
  },
  {
   "cell_type": "raw",
   "metadata": {},
   "source": [
    "import numpy as np\n",
    "import pandas as pd\n",
    "from sklearn import preprocessing\n",
    "from sklearn.preprocessing import StandardScaler\n",
    "import matplotlib.pyplot as plt\n",
    "import matplotlib\n",
    "global df_pred,pred_all\n",
    "from sklearn.externals import joblib\n",
    "\n",
    "import sys\n",
    "import warnings\n",
    "pd.options.mode.chained_assignment = None \n",
    "from datetime import datetim"
   ]
  },
  {
   "cell_type": "raw",
   "metadata": {},
   "source": [
    "dirección_modelos = \"/DATA/paw/jupyterhub_notebook/daniel.bustillos/DanielBustillos/contaminación/pipeline-norberto/entrenamiento_sin_persistencia/modelos/\"\n",
    "conta = 'PM10'\n",
    "contaminante =\"PM10mean\""
   ]
  },
  {
   "cell_type": "raw",
   "metadata": {},
   "source": [
    "model = [0 for col in range(2)]\n",
    "for i in range(0,24):\n",
    "    model[i] = joblib.load(str(dirección_modelos + conta +'/' + conta+'_'+str(i+1)+'hora.pkl'))"
   ]
  },
  {
   "cell_type": "raw",
   "metadata": {},
   "source": [
    "path_final = str(\"./datos/verifcacion_modelos_\"+ contaminante + \".csv\")\n",
    "\n",
    "data_hour_merge_24 = pd.read_csv(path_final)\n",
    "data_hour_merge_24.drop([\"fecha\"],inplace=True,axis=1)"
   ]
  },
  {
   "cell_type": "raw",
   "metadata": {},
   "source": [
    "model[0].predict(data_hour_merge_24)"
   ]
  },
  {
   "cell_type": "code",
   "execution_count": null,
   "metadata": {},
   "outputs": [],
   "source": []
  }
 ],
 "metadata": {
  "kernelspec": {
   "display_name": "Python 3",
   "language": "python",
   "name": "python3"
  },
  "language_info": {
   "codemirror_mode": {
    "name": "ipython",
    "version": 3
   },
   "file_extension": ".py",
   "mimetype": "text/x-python",
   "name": "python",
   "nbconvert_exporter": "python",
   "pygments_lexer": "ipython3",
   "version": "3.7.3"
  }
 },
 "nbformat": 4,
 "nbformat_minor": 2
}
