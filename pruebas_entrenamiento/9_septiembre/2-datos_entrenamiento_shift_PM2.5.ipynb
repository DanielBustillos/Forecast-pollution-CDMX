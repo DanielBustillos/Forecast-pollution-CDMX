{
 "cells": [
  {
   "cell_type": "markdown",
   "metadata": {},
   "source": [
    "# Datos entreneamiento Shift"
   ]
  },
  {
   "cell_type": "markdown",
   "metadata": {},
   "source": [
    "En este notebook vamos a aplicar el shift para las obtener las columnas mas correlacionadas.\n",
    "\n",
    "- __Datos recibidos:__ obtenidos de notebook __1-datos_entrenamiento_shift.ipynb__\n",
    "- __Responsable:__ Daniel Bustillos\n",
    "- __Contacto:__  juandaniel.bucam@gmail.com\n",
    "\n",
    "__Notas del proyecto__\n",
    "Necesitamos generar un csv con los niveles máximos, mínimo y promedio por día, se perderá la información de la estación, también generaremos el atributo PM10mean y PM25mean que representarán los valores de las últimas 24 horas de los contaminantes.\n",
    "\n",
    "calidad de caire\n",
    "pronostico contaminación"
   ]
  },
  {
   "cell_type": "markdown",
   "metadata": {},
   "source": [
    "## Pasos\n",
    "[X] Aplicar Shift con Correlaciones <br>\n",
    "[X] Sacar minimo promedio y maximo <br>\n",
    "[X] Obtener columnas más correlacionadas<br><br>"
   ]
  },
  {
   "cell_type": "code",
   "execution_count": 49,
   "metadata": {},
   "outputs": [],
   "source": [
    "contaminante = \"PM2.5\""
   ]
  },
  {
   "cell_type": "code",
   "execution_count": 50,
   "metadata": {},
   "outputs": [],
   "source": [
    "import pandas as pd\n",
    "pd.options.mode.chained_assignment = None "
   ]
  },
  {
   "cell_type": "code",
   "execution_count": 51,
   "metadata": {},
   "outputs": [],
   "source": [
    "data_hour_merge_24 = pd.read_csv('./datos_entrenamiento_outliers.csv')"
   ]
  },
  {
   "cell_type": "code",
   "execution_count": 52,
   "metadata": {},
   "outputs": [
    {
     "data": {
      "text/html": [
       "<div>\n",
       "<style scoped>\n",
       "    .dataframe tbody tr th:only-of-type {\n",
       "        vertical-align: middle;\n",
       "    }\n",
       "\n",
       "    .dataframe tbody tr th {\n",
       "        vertical-align: top;\n",
       "    }\n",
       "\n",
       "    .dataframe thead th {\n",
       "        text-align: right;\n",
       "    }\n",
       "</style>\n",
       "<table border=\"1\" class=\"dataframe\">\n",
       "  <thead>\n",
       "    <tr style=\"text-align: right;\">\n",
       "      <th></th>\n",
       "      <th>index</th>\n",
       "      <th>CO</th>\n",
       "      <th>NO</th>\n",
       "      <th>NO2</th>\n",
       "      <th>NOX</th>\n",
       "      <th>O3</th>\n",
       "      <th>PM10</th>\n",
       "      <th>PM2.5</th>\n",
       "      <th>RH</th>\n",
       "      <th>SO2</th>\n",
       "      <th>TMP</th>\n",
       "      <th>WDR</th>\n",
       "      <th>WSP</th>\n",
       "      <th>dia</th>\n",
       "      <th>fecha</th>\n",
       "      <th>hora</th>\n",
       "      <th>id_station</th>\n",
       "      <th>mes</th>\n",
       "      <th>PM10mean</th>\n",
       "      <th>PM25mean</th>\n",
       "    </tr>\n",
       "  </thead>\n",
       "  <tbody>\n",
       "    <tr>\n",
       "      <th>3219</th>\n",
       "      <td>59121</td>\n",
       "      <td>0.9</td>\n",
       "      <td>NaN</td>\n",
       "      <td>NaN</td>\n",
       "      <td>NaN</td>\n",
       "      <td>2.0</td>\n",
       "      <td>51.0</td>\n",
       "      <td>38.0</td>\n",
       "      <td>42.0</td>\n",
       "      <td>NaN</td>\n",
       "      <td>12.2</td>\n",
       "      <td>219.0</td>\n",
       "      <td>1.5</td>\n",
       "      <td>8</td>\n",
       "      <td>2016-01-08 00:00:00</td>\n",
       "      <td>0</td>\n",
       "      <td>BJU</td>\n",
       "      <td>1</td>\n",
       "      <td>NaN</td>\n",
       "      <td>NaN</td>\n",
       "    </tr>\n",
       "    <tr>\n",
       "      <th>3243</th>\n",
       "      <td>58552</td>\n",
       "      <td>NaN</td>\n",
       "      <td>NaN</td>\n",
       "      <td>NaN</td>\n",
       "      <td>NaN</td>\n",
       "      <td>1.0</td>\n",
       "      <td>25.0</td>\n",
       "      <td>9.0</td>\n",
       "      <td>59.0</td>\n",
       "      <td>NaN</td>\n",
       "      <td>10.8</td>\n",
       "      <td>145.0</td>\n",
       "      <td>1.4</td>\n",
       "      <td>8</td>\n",
       "      <td>2016-01-08 01:00:00</td>\n",
       "      <td>1</td>\n",
       "      <td>BJU</td>\n",
       "      <td>1</td>\n",
       "      <td>NaN</td>\n",
       "      <td>NaN</td>\n",
       "    </tr>\n",
       "    <tr>\n",
       "      <th>3268</th>\n",
       "      <td>58577</td>\n",
       "      <td>0.6</td>\n",
       "      <td>NaN</td>\n",
       "      <td>NaN</td>\n",
       "      <td>NaN</td>\n",
       "      <td>2.0</td>\n",
       "      <td>16.0</td>\n",
       "      <td>7.0</td>\n",
       "      <td>53.0</td>\n",
       "      <td>NaN</td>\n",
       "      <td>10.2</td>\n",
       "      <td>172.0</td>\n",
       "      <td>1.3</td>\n",
       "      <td>8</td>\n",
       "      <td>2016-01-08 02:00:00</td>\n",
       "      <td>2</td>\n",
       "      <td>BJU</td>\n",
       "      <td>1</td>\n",
       "      <td>NaN</td>\n",
       "      <td>NaN</td>\n",
       "    </tr>\n",
       "    <tr>\n",
       "      <th>3293</th>\n",
       "      <td>58602</td>\n",
       "      <td>0.7</td>\n",
       "      <td>NaN</td>\n",
       "      <td>NaN</td>\n",
       "      <td>NaN</td>\n",
       "      <td>1.0</td>\n",
       "      <td>18.0</td>\n",
       "      <td>8.0</td>\n",
       "      <td>60.0</td>\n",
       "      <td>NaN</td>\n",
       "      <td>9.3</td>\n",
       "      <td>200.0</td>\n",
       "      <td>1.3</td>\n",
       "      <td>8</td>\n",
       "      <td>2016-01-08 03:00:00</td>\n",
       "      <td>3</td>\n",
       "      <td>BJU</td>\n",
       "      <td>1</td>\n",
       "      <td>NaN</td>\n",
       "      <td>NaN</td>\n",
       "    </tr>\n",
       "    <tr>\n",
       "      <th>3318</th>\n",
       "      <td>58627</td>\n",
       "      <td>0.6</td>\n",
       "      <td>NaN</td>\n",
       "      <td>NaN</td>\n",
       "      <td>NaN</td>\n",
       "      <td>1.0</td>\n",
       "      <td>19.0</td>\n",
       "      <td>7.0</td>\n",
       "      <td>58.0</td>\n",
       "      <td>NaN</td>\n",
       "      <td>9.2</td>\n",
       "      <td>106.0</td>\n",
       "      <td>1.2</td>\n",
       "      <td>8</td>\n",
       "      <td>2016-01-08 04:00:00</td>\n",
       "      <td>4</td>\n",
       "      <td>BJU</td>\n",
       "      <td>1</td>\n",
       "      <td>NaN</td>\n",
       "      <td>NaN</td>\n",
       "    </tr>\n",
       "    <tr>\n",
       "      <th>3343</th>\n",
       "      <td>58652</td>\n",
       "      <td>0.7</td>\n",
       "      <td>NaN</td>\n",
       "      <td>NaN</td>\n",
       "      <td>NaN</td>\n",
       "      <td>1.0</td>\n",
       "      <td>26.0</td>\n",
       "      <td>14.0</td>\n",
       "      <td>59.0</td>\n",
       "      <td>NaN</td>\n",
       "      <td>9.2</td>\n",
       "      <td>319.0</td>\n",
       "      <td>1.4</td>\n",
       "      <td>8</td>\n",
       "      <td>2016-01-08 05:00:00</td>\n",
       "      <td>5</td>\n",
       "      <td>BJU</td>\n",
       "      <td>1</td>\n",
       "      <td>NaN</td>\n",
       "      <td>NaN</td>\n",
       "    </tr>\n",
       "    <tr>\n",
       "      <th>3368</th>\n",
       "      <td>58677</td>\n",
       "      <td>0.7</td>\n",
       "      <td>NaN</td>\n",
       "      <td>NaN</td>\n",
       "      <td>NaN</td>\n",
       "      <td>1.0</td>\n",
       "      <td>24.0</td>\n",
       "      <td>12.0</td>\n",
       "      <td>61.0</td>\n",
       "      <td>NaN</td>\n",
       "      <td>9.6</td>\n",
       "      <td>78.0</td>\n",
       "      <td>1.5</td>\n",
       "      <td>8</td>\n",
       "      <td>2016-01-08 06:00:00</td>\n",
       "      <td>6</td>\n",
       "      <td>BJU</td>\n",
       "      <td>1</td>\n",
       "      <td>NaN</td>\n",
       "      <td>NaN</td>\n",
       "    </tr>\n",
       "    <tr>\n",
       "      <th>3393</th>\n",
       "      <td>58702</td>\n",
       "      <td>0.8</td>\n",
       "      <td>NaN</td>\n",
       "      <td>NaN</td>\n",
       "      <td>NaN</td>\n",
       "      <td>1.0</td>\n",
       "      <td>19.0</td>\n",
       "      <td>8.0</td>\n",
       "      <td>63.0</td>\n",
       "      <td>NaN</td>\n",
       "      <td>9.7</td>\n",
       "      <td>126.0</td>\n",
       "      <td>1.4</td>\n",
       "      <td>8</td>\n",
       "      <td>2016-01-08 07:00:00</td>\n",
       "      <td>7</td>\n",
       "      <td>BJU</td>\n",
       "      <td>1</td>\n",
       "      <td>NaN</td>\n",
       "      <td>NaN</td>\n",
       "    </tr>\n",
       "    <tr>\n",
       "      <th>3418</th>\n",
       "      <td>58727</td>\n",
       "      <td>0.6</td>\n",
       "      <td>NaN</td>\n",
       "      <td>NaN</td>\n",
       "      <td>NaN</td>\n",
       "      <td>6.0</td>\n",
       "      <td>16.0</td>\n",
       "      <td>3.0</td>\n",
       "      <td>47.0</td>\n",
       "      <td>NaN</td>\n",
       "      <td>11.2</td>\n",
       "      <td>232.0</td>\n",
       "      <td>1.9</td>\n",
       "      <td>8</td>\n",
       "      <td>2016-01-08 08:00:00</td>\n",
       "      <td>8</td>\n",
       "      <td>BJU</td>\n",
       "      <td>1</td>\n",
       "      <td>NaN</td>\n",
       "      <td>NaN</td>\n",
       "    </tr>\n",
       "    <tr>\n",
       "      <th>3443</th>\n",
       "      <td>58752</td>\n",
       "      <td>1.0</td>\n",
       "      <td>NaN</td>\n",
       "      <td>NaN</td>\n",
       "      <td>NaN</td>\n",
       "      <td>10.0</td>\n",
       "      <td>26.0</td>\n",
       "      <td>5.0</td>\n",
       "      <td>44.0</td>\n",
       "      <td>NaN</td>\n",
       "      <td>12.7</td>\n",
       "      <td>209.0</td>\n",
       "      <td>2.2</td>\n",
       "      <td>8</td>\n",
       "      <td>2016-01-08 09:00:00</td>\n",
       "      <td>9</td>\n",
       "      <td>BJU</td>\n",
       "      <td>1</td>\n",
       "      <td>NaN</td>\n",
       "      <td>NaN</td>\n",
       "    </tr>\n",
       "  </tbody>\n",
       "</table>\n",
       "</div>"
      ],
      "text/plain": [
       "      index   CO  NO  NO2  NOX    O3  PM10  PM2.5    RH  SO2   TMP    WDR  \\\n",
       "3219  59121  0.9 NaN  NaN  NaN   2.0  51.0   38.0  42.0  NaN  12.2  219.0   \n",
       "3243  58552  NaN NaN  NaN  NaN   1.0  25.0    9.0  59.0  NaN  10.8  145.0   \n",
       "3268  58577  0.6 NaN  NaN  NaN   2.0  16.0    7.0  53.0  NaN  10.2  172.0   \n",
       "3293  58602  0.7 NaN  NaN  NaN   1.0  18.0    8.0  60.0  NaN   9.3  200.0   \n",
       "3318  58627  0.6 NaN  NaN  NaN   1.0  19.0    7.0  58.0  NaN   9.2  106.0   \n",
       "3343  58652  0.7 NaN  NaN  NaN   1.0  26.0   14.0  59.0  NaN   9.2  319.0   \n",
       "3368  58677  0.7 NaN  NaN  NaN   1.0  24.0   12.0  61.0  NaN   9.6   78.0   \n",
       "3393  58702  0.8 NaN  NaN  NaN   1.0  19.0    8.0  63.0  NaN   9.7  126.0   \n",
       "3418  58727  0.6 NaN  NaN  NaN   6.0  16.0    3.0  47.0  NaN  11.2  232.0   \n",
       "3443  58752  1.0 NaN  NaN  NaN  10.0  26.0    5.0  44.0  NaN  12.7  209.0   \n",
       "\n",
       "      WSP  dia                fecha  hora id_station  mes  PM10mean  PM25mean  \n",
       "3219  1.5    8  2016-01-08 00:00:00     0        BJU    1       NaN       NaN  \n",
       "3243  1.4    8  2016-01-08 01:00:00     1        BJU    1       NaN       NaN  \n",
       "3268  1.3    8  2016-01-08 02:00:00     2        BJU    1       NaN       NaN  \n",
       "3293  1.3    8  2016-01-08 03:00:00     3        BJU    1       NaN       NaN  \n",
       "3318  1.2    8  2016-01-08 04:00:00     4        BJU    1       NaN       NaN  \n",
       "3343  1.4    8  2016-01-08 05:00:00     5        BJU    1       NaN       NaN  \n",
       "3368  1.5    8  2016-01-08 06:00:00     6        BJU    1       NaN       NaN  \n",
       "3393  1.4    8  2016-01-08 07:00:00     7        BJU    1       NaN       NaN  \n",
       "3418  1.9    8  2016-01-08 08:00:00     8        BJU    1       NaN       NaN  \n",
       "3443  2.2    8  2016-01-08 09:00:00     9        BJU    1       NaN       NaN  "
      ]
     },
     "execution_count": 52,
     "metadata": {},
     "output_type": "execute_result"
    }
   ],
   "source": [
    "data_hour_merge_24[data_hour_merge_24.id_station==\"BJU\"].head(10)"
   ]
  },
  {
   "cell_type": "markdown",
   "metadata": {},
   "source": [
    "Quedémonos sin WSR:"
   ]
  },
  {
   "cell_type": "code",
   "execution_count": 53,
   "metadata": {},
   "outputs": [],
   "source": [
    "data_hour_merge_24 = data_hour_merge_24[['CO', 'NO', 'NO2', 'NOX', 'O3', 'PM10', \"PM2.5\",'RH', 'SO2', 'TMP',\n",
    "       'WSP', 'dia', 'fecha', 'hora', 'id_station', 'mes',\"PM10mean\",\"PM25mean\"]].reset_index(drop=True)"
   ]
  },
  {
   "cell_type": "markdown",
   "metadata": {},
   "source": [
    "Hagamos una lista con todas las estaciones:"
   ]
  },
  {
   "cell_type": "markdown",
   "metadata": {},
   "source": [
    "### Arreglemos las fechas:"
   ]
  },
  {
   "cell_type": "code",
   "execution_count": 54,
   "metadata": {},
   "outputs": [],
   "source": [
    "data_hour_merge_24 = data_hour_merge_24[(data_hour_merge_24.fecha > \"2015-12-01 23:00:00\")]\n",
    "data_hour_merge_24['dia'] = data_hour_merge_24['dia'].astype(str).astype(float)\n",
    "data_hour_merge_24['mes'] = data_hour_merge_24['mes'].astype(str).astype(float)"
   ]
  },
  {
   "cell_type": "markdown",
   "metadata": {},
   "source": [
    "Creemos un diccionario con __data_hour_merge_24__ dividido por estación:"
   ]
  },
  {
   "cell_type": "code",
   "execution_count": 55,
   "metadata": {},
   "outputs": [],
   "source": [
    "estaciones = data_hour_merge_24.id_station.unique().tolist()"
   ]
  },
  {
   "cell_type": "code",
   "execution_count": 56,
   "metadata": {},
   "outputs": [],
   "source": [
    "data_est = {}\n",
    "for elem in estaciones:\n",
    "    data_est[elem] = data_hour_merge_24[data_hour_merge_24.id_station == elem]"
   ]
  },
  {
   "cell_type": "raw",
   "metadata": {},
   "source": [
    "data_hour_merge_24.to_csv(\"./datos_modelos_limpios.csv\", encoding='utf-8',index=False)"
   ]
  },
  {
   "cell_type": "code",
   "execution_count": 57,
   "metadata": {},
   "outputs": [],
   "source": [
    "data_hour_merge_24 = pd.read_csv(\"./datos_modelos_limpios.csv\")"
   ]
  },
  {
   "cell_type": "code",
   "execution_count": 58,
   "metadata": {},
   "outputs": [],
   "source": [
    "data_hour_merge_24 = data_hour_merge_24.dropna(subset=[contaminante]).reset_index(drop=True)#PM25"
   ]
  },
  {
   "cell_type": "code",
   "execution_count": 59,
   "metadata": {},
   "outputs": [
    {
     "data": {
      "text/html": [
       "<div>\n",
       "<style scoped>\n",
       "    .dataframe tbody tr th:only-of-type {\n",
       "        vertical-align: middle;\n",
       "    }\n",
       "\n",
       "    .dataframe tbody tr th {\n",
       "        vertical-align: top;\n",
       "    }\n",
       "\n",
       "    .dataframe thead th {\n",
       "        text-align: right;\n",
       "    }\n",
       "</style>\n",
       "<table border=\"1\" class=\"dataframe\">\n",
       "  <thead>\n",
       "    <tr style=\"text-align: right;\">\n",
       "      <th></th>\n",
       "      <th>CO</th>\n",
       "      <th>NO</th>\n",
       "      <th>NO2</th>\n",
       "      <th>NOX</th>\n",
       "      <th>O3</th>\n",
       "      <th>PM10</th>\n",
       "      <th>PM2.5</th>\n",
       "      <th>RH</th>\n",
       "      <th>SO2</th>\n",
       "      <th>TMP</th>\n",
       "      <th>WSP</th>\n",
       "      <th>dia</th>\n",
       "      <th>fecha</th>\n",
       "      <th>hora</th>\n",
       "      <th>id_station</th>\n",
       "      <th>mes</th>\n",
       "      <th>PM10mean</th>\n",
       "      <th>PM25mean</th>\n",
       "    </tr>\n",
       "  </thead>\n",
       "  <tbody>\n",
       "    <tr>\n",
       "      <th>0</th>\n",
       "      <td>0.9</td>\n",
       "      <td>7.0</td>\n",
       "      <td>39.0</td>\n",
       "      <td>45.0</td>\n",
       "      <td>6.0</td>\n",
       "      <td>45.0</td>\n",
       "      <td>17.0</td>\n",
       "      <td>NaN</td>\n",
       "      <td>21.0</td>\n",
       "      <td>NaN</td>\n",
       "      <td>NaN</td>\n",
       "      <td>2.0</td>\n",
       "      <td>2016-01-02 23:00:00</td>\n",
       "      <td>23</td>\n",
       "      <td>CAM</td>\n",
       "      <td>1.0</td>\n",
       "      <td>47.541667</td>\n",
       "      <td>27.458333</td>\n",
       "    </tr>\n",
       "    <tr>\n",
       "      <th>1</th>\n",
       "      <td>0.8</td>\n",
       "      <td>6.0</td>\n",
       "      <td>44.0</td>\n",
       "      <td>50.0</td>\n",
       "      <td>7.0</td>\n",
       "      <td>44.0</td>\n",
       "      <td>25.0</td>\n",
       "      <td>52.0</td>\n",
       "      <td>26.0</td>\n",
       "      <td>18.1</td>\n",
       "      <td>2.2</td>\n",
       "      <td>2.0</td>\n",
       "      <td>2016-01-02 23:00:00</td>\n",
       "      <td>23</td>\n",
       "      <td>HGM</td>\n",
       "      <td>1.0</td>\n",
       "      <td>39.125000</td>\n",
       "      <td>27.625000</td>\n",
       "    </tr>\n",
       "    <tr>\n",
       "      <th>2</th>\n",
       "      <td>0.4</td>\n",
       "      <td>4.0</td>\n",
       "      <td>19.0</td>\n",
       "      <td>22.0</td>\n",
       "      <td>21.0</td>\n",
       "      <td>22.0</td>\n",
       "      <td>12.0</td>\n",
       "      <td>57.0</td>\n",
       "      <td>7.0</td>\n",
       "      <td>17.5</td>\n",
       "      <td>1.6</td>\n",
       "      <td>2.0</td>\n",
       "      <td>2016-01-02 23:00:00</td>\n",
       "      <td>23</td>\n",
       "      <td>MGH</td>\n",
       "      <td>1.0</td>\n",
       "      <td>36.750000</td>\n",
       "      <td>24.833333</td>\n",
       "    </tr>\n",
       "    <tr>\n",
       "      <th>3</th>\n",
       "      <td>0.9</td>\n",
       "      <td>8.0</td>\n",
       "      <td>36.0</td>\n",
       "      <td>44.0</td>\n",
       "      <td>14.0</td>\n",
       "      <td>71.0</td>\n",
       "      <td>43.0</td>\n",
       "      <td>56.0</td>\n",
       "      <td>3.0</td>\n",
       "      <td>18.5</td>\n",
       "      <td>1.3</td>\n",
       "      <td>2.0</td>\n",
       "      <td>2016-01-02 23:00:00</td>\n",
       "      <td>23</td>\n",
       "      <td>SAG</td>\n",
       "      <td>1.0</td>\n",
       "      <td>52.208333</td>\n",
       "      <td>32.250000</td>\n",
       "    </tr>\n",
       "    <tr>\n",
       "      <th>4</th>\n",
       "      <td>0.8</td>\n",
       "      <td>13.0</td>\n",
       "      <td>43.0</td>\n",
       "      <td>56.0</td>\n",
       "      <td>4.0</td>\n",
       "      <td>52.0</td>\n",
       "      <td>21.0</td>\n",
       "      <td>56.0</td>\n",
       "      <td>18.0</td>\n",
       "      <td>16.6</td>\n",
       "      <td>1.6</td>\n",
       "      <td>2.0</td>\n",
       "      <td>2016-01-02 23:00:00</td>\n",
       "      <td>23</td>\n",
       "      <td>TLA</td>\n",
       "      <td>1.0</td>\n",
       "      <td>52.000000</td>\n",
       "      <td>29.291667</td>\n",
       "    </tr>\n",
       "    <tr>\n",
       "      <th>5</th>\n",
       "      <td>1.2</td>\n",
       "      <td>7.0</td>\n",
       "      <td>43.0</td>\n",
       "      <td>51.0</td>\n",
       "      <td>9.0</td>\n",
       "      <td>66.0</td>\n",
       "      <td>32.0</td>\n",
       "      <td>52.0</td>\n",
       "      <td>3.0</td>\n",
       "      <td>17.2</td>\n",
       "      <td>2.3</td>\n",
       "      <td>2.0</td>\n",
       "      <td>2016-01-02 23:00:00</td>\n",
       "      <td>23</td>\n",
       "      <td>XAL</td>\n",
       "      <td>1.0</td>\n",
       "      <td>53.166667</td>\n",
       "      <td>26.000000</td>\n",
       "    </tr>\n",
       "    <tr>\n",
       "      <th>6</th>\n",
       "      <td>0.9</td>\n",
       "      <td>6.0</td>\n",
       "      <td>29.0</td>\n",
       "      <td>34.0</td>\n",
       "      <td>4.0</td>\n",
       "      <td>18.0</td>\n",
       "      <td>4.0</td>\n",
       "      <td>NaN</td>\n",
       "      <td>13.0</td>\n",
       "      <td>NaN</td>\n",
       "      <td>NaN</td>\n",
       "      <td>3.0</td>\n",
       "      <td>2016-01-03 00:00:00</td>\n",
       "      <td>0</td>\n",
       "      <td>CAM</td>\n",
       "      <td>1.0</td>\n",
       "      <td>46.083333</td>\n",
       "      <td>26.916667</td>\n",
       "    </tr>\n",
       "    <tr>\n",
       "      <th>7</th>\n",
       "      <td>0.6</td>\n",
       "      <td>2.0</td>\n",
       "      <td>27.0</td>\n",
       "      <td>28.0</td>\n",
       "      <td>10.0</td>\n",
       "      <td>30.0</td>\n",
       "      <td>19.0</td>\n",
       "      <td>60.0</td>\n",
       "      <td>10.0</td>\n",
       "      <td>14.7</td>\n",
       "      <td>2.9</td>\n",
       "      <td>3.0</td>\n",
       "      <td>2016-01-03 00:00:00</td>\n",
       "      <td>0</td>\n",
       "      <td>HGM</td>\n",
       "      <td>1.0</td>\n",
       "      <td>38.500000</td>\n",
       "      <td>27.333333</td>\n",
       "    </tr>\n",
       "    <tr>\n",
       "      <th>8</th>\n",
       "      <td>0.5</td>\n",
       "      <td>11.0</td>\n",
       "      <td>25.0</td>\n",
       "      <td>37.0</td>\n",
       "      <td>6.0</td>\n",
       "      <td>29.0</td>\n",
       "      <td>17.0</td>\n",
       "      <td>68.0</td>\n",
       "      <td>10.0</td>\n",
       "      <td>14.1</td>\n",
       "      <td>1.7</td>\n",
       "      <td>3.0</td>\n",
       "      <td>2016-01-03 00:00:00</td>\n",
       "      <td>0</td>\n",
       "      <td>MGH</td>\n",
       "      <td>1.0</td>\n",
       "      <td>36.208333</td>\n",
       "      <td>24.541667</td>\n",
       "    </tr>\n",
       "    <tr>\n",
       "      <th>9</th>\n",
       "      <td>0.6</td>\n",
       "      <td>7.0</td>\n",
       "      <td>23.0</td>\n",
       "      <td>30.0</td>\n",
       "      <td>6.0</td>\n",
       "      <td>51.0</td>\n",
       "      <td>32.0</td>\n",
       "      <td>69.0</td>\n",
       "      <td>3.0</td>\n",
       "      <td>15.1</td>\n",
       "      <td>2.7</td>\n",
       "      <td>3.0</td>\n",
       "      <td>2016-01-03 00:00:00</td>\n",
       "      <td>0</td>\n",
       "      <td>SAG</td>\n",
       "      <td>1.0</td>\n",
       "      <td>52.000000</td>\n",
       "      <td>32.416667</td>\n",
       "    </tr>\n",
       "  </tbody>\n",
       "</table>\n",
       "</div>"
      ],
      "text/plain": [
       "    CO    NO   NO2   NOX    O3  PM10  PM2.5    RH   SO2   TMP  WSP  dia  \\\n",
       "0  0.9   7.0  39.0  45.0   6.0  45.0   17.0   NaN  21.0   NaN  NaN  2.0   \n",
       "1  0.8   6.0  44.0  50.0   7.0  44.0   25.0  52.0  26.0  18.1  2.2  2.0   \n",
       "2  0.4   4.0  19.0  22.0  21.0  22.0   12.0  57.0   7.0  17.5  1.6  2.0   \n",
       "3  0.9   8.0  36.0  44.0  14.0  71.0   43.0  56.0   3.0  18.5  1.3  2.0   \n",
       "4  0.8  13.0  43.0  56.0   4.0  52.0   21.0  56.0  18.0  16.6  1.6  2.0   \n",
       "5  1.2   7.0  43.0  51.0   9.0  66.0   32.0  52.0   3.0  17.2  2.3  2.0   \n",
       "6  0.9   6.0  29.0  34.0   4.0  18.0    4.0   NaN  13.0   NaN  NaN  3.0   \n",
       "7  0.6   2.0  27.0  28.0  10.0  30.0   19.0  60.0  10.0  14.7  2.9  3.0   \n",
       "8  0.5  11.0  25.0  37.0   6.0  29.0   17.0  68.0  10.0  14.1  1.7  3.0   \n",
       "9  0.6   7.0  23.0  30.0   6.0  51.0   32.0  69.0   3.0  15.1  2.7  3.0   \n",
       "\n",
       "                 fecha  hora id_station  mes   PM10mean   PM25mean  \n",
       "0  2016-01-02 23:00:00    23        CAM  1.0  47.541667  27.458333  \n",
       "1  2016-01-02 23:00:00    23        HGM  1.0  39.125000  27.625000  \n",
       "2  2016-01-02 23:00:00    23        MGH  1.0  36.750000  24.833333  \n",
       "3  2016-01-02 23:00:00    23        SAG  1.0  52.208333  32.250000  \n",
       "4  2016-01-02 23:00:00    23        TLA  1.0  52.000000  29.291667  \n",
       "5  2016-01-02 23:00:00    23        XAL  1.0  53.166667  26.000000  \n",
       "6  2016-01-03 00:00:00     0        CAM  1.0  46.083333  26.916667  \n",
       "7  2016-01-03 00:00:00     0        HGM  1.0  38.500000  27.333333  \n",
       "8  2016-01-03 00:00:00     0        MGH  1.0  36.208333  24.541667  \n",
       "9  2016-01-03 00:00:00     0        SAG  1.0  52.000000  32.416667  "
      ]
     },
     "execution_count": 59,
     "metadata": {},
     "output_type": "execute_result"
    }
   ],
   "source": [
    "data_hour_merge_24.head(10)"
   ]
  },
  {
   "cell_type": "markdown",
   "metadata": {},
   "source": [
    "# Leamos el archivo de correlaciones "
   ]
  },
  {
   "cell_type": "markdown",
   "metadata": {},
   "source": [
    "Este archivo se generó en el notebook: __/home/paw/DanielBustillos/contaminación/correlaciones_pau/correlaciones_función_paulina.ipynb__"
   ]
  },
  {
   "cell_type": "code",
   "execution_count": 60,
   "metadata": {},
   "outputs": [
    {
     "data": {
      "text/html": [
       "<div>\n",
       "<style scoped>\n",
       "    .dataframe tbody tr th:only-of-type {\n",
       "        vertical-align: middle;\n",
       "    }\n",
       "\n",
       "    .dataframe tbody tr th {\n",
       "        vertical-align: top;\n",
       "    }\n",
       "\n",
       "    .dataframe thead th {\n",
       "        text-align: right;\n",
       "    }\n",
       "</style>\n",
       "<table border=\"1\" class=\"dataframe\">\n",
       "  <thead>\n",
       "    <tr style=\"text-align: right;\">\n",
       "      <th></th>\n",
       "      <th>contaminante</th>\n",
       "      <th>valor</th>\n",
       "      <th>horas</th>\n",
       "    </tr>\n",
       "  </thead>\n",
       "  <tbody>\n",
       "    <tr>\n",
       "      <th>0</th>\n",
       "      <td>hora</td>\n",
       "      <td>0.000241</td>\n",
       "      <td>0.0</td>\n",
       "    </tr>\n",
       "    <tr>\n",
       "      <th>1</th>\n",
       "      <td>dia</td>\n",
       "      <td>-0.022622</td>\n",
       "      <td>0.0</td>\n",
       "    </tr>\n",
       "    <tr>\n",
       "      <th>2</th>\n",
       "      <td>mes</td>\n",
       "      <td>-0.231276</td>\n",
       "      <td>0.0</td>\n",
       "    </tr>\n",
       "    <tr>\n",
       "      <th>3</th>\n",
       "      <td>PM25mean</td>\n",
       "      <td>1.000000</td>\n",
       "      <td>0.0</td>\n",
       "    </tr>\n",
       "    <tr>\n",
       "      <th>4</th>\n",
       "      <td>CO</td>\n",
       "      <td>0.374677</td>\n",
       "      <td>0.0</td>\n",
       "    </tr>\n",
       "  </tbody>\n",
       "</table>\n",
       "</div>"
      ],
      "text/plain": [
       "  contaminante     valor  horas\n",
       "0         hora  0.000241    0.0\n",
       "1          dia -0.022622    0.0\n",
       "2          mes -0.231276    0.0\n",
       "3     PM25mean  1.000000    0.0\n",
       "4           CO  0.374677    0.0"
      ]
     },
     "execution_count": 60,
     "metadata": {},
     "output_type": "execute_result"
    }
   ],
   "source": [
    "target = \"PM25mean_y\"\n",
    "\n",
    "O3_corr = pd.read_csv(\"./correlacion/correlaciones_\"+ target +\".csv\")\n",
    "O3_corr = O3_corr.iloc[:,1:]\n",
    "O3_corr.head(5)"
   ]
  },
  {
   "cell_type": "code",
   "execution_count": 61,
   "metadata": {},
   "outputs": [
    {
     "data": {
      "text/plain": [
       "-0.2921055990958838"
      ]
     },
     "execution_count": 61,
     "metadata": {},
     "output_type": "execute_result"
    }
   ],
   "source": [
    "O3_corr.valor.min()"
   ]
  },
  {
   "cell_type": "raw",
   "metadata": {},
   "source": [
    "O3_corr = pd.read_csv('/DATA/paw/jupyterhub_notebook/daniel.bustillos/DanielBustillos/contaminación/correlaciones_pau'+contaminante+'_corr.csv')\n",
    "O3_corr = O3_corr.iloc[:,1:]"
   ]
  },
  {
   "cell_type": "markdown",
   "metadata": {},
   "source": [
    "Vamos a quedarnos con las variables con corr>0.3:"
   ]
  },
  {
   "cell_type": "markdown",
   "metadata": {},
   "source": [
    "- Para PM10 (O3_corr.valor > 0.48 o  O3_corr.valor < -0.48)\n",
    "- Para PM10 (O3_corr.valor > 0.6 o  O3_corr.valor < -0.6)\n",
    "- Para O3 (O3_corr.valor > 0.44 o  O3_corr.valor < -0.44)"
   ]
  },
  {
   "cell_type": "code",
   "execution_count": 62,
   "metadata": {},
   "outputs": [],
   "source": [
    "O3_corr_filtro = O3_corr[(O3_corr.valor > 0.48) | (O3_corr.valor < -0.48) ].reset_index(drop=True)"
   ]
  },
  {
   "cell_type": "code",
   "execution_count": 63,
   "metadata": {},
   "outputs": [
    {
     "data": {
      "text/plain": [
       "(295, 3)"
      ]
     },
     "execution_count": 63,
     "metadata": {},
     "output_type": "execute_result"
    }
   ],
   "source": [
    "O3_corr_filtro.shape"
   ]
  },
  {
   "cell_type": "markdown",
   "metadata": {},
   "source": [
    "Vamos a aplicar el shift para cada elemento de la tabla __O3_corr__:"
   ]
  },
  {
   "cell_type": "code",
   "execution_count": 64,
   "metadata": {},
   "outputs": [],
   "source": [
    "def shit_corr(df):\n",
    "    for i in range(len(O3_corr_filtro)):\n",
    "        name_column = str( O3_corr_filtro.loc[i,\"contaminante\"] + \"_\" + str( O3_corr_filtro.loc[i,\"horas\"] ) ) \n",
    "        df[name_column] = df[O3_corr_filtro.loc[i,\"contaminante\"]].shift( int(float(str(O3_corr_filtro.loc[i,\"horas\"]))) ) \n",
    "    return df.dropna()"
   ]
  },
  {
   "cell_type": "markdown",
   "metadata": {},
   "source": [
    "Aplicamos esta función para cada DF de cada estación:"
   ]
  },
  {
   "cell_type": "code",
   "execution_count": 65,
   "metadata": {},
   "outputs": [
    {
     "data": {
      "text/plain": [
       "dict_keys(['AJM', 'AJU', 'CAM', 'CCA', 'CHO', 'COY', 'CUA', 'CUT', 'FAC', 'GAM', 'HGM', 'IZT', 'LLA', 'MER', 'MGH', 'MON', 'NEZ', 'PED', 'SAG', 'TLA', 'UAX', 'UIZ', 'XAL', 'INN', 'BJU', 'MPA', 'ACO', 'ATI', 'TAH', 'TLI', 'VIF', 'SFE', 'LPR', 'SJA', 'FAR', 'SAC'])"
      ]
     },
     "execution_count": 65,
     "metadata": {},
     "output_type": "execute_result"
    }
   ],
   "source": [
    "data_est.keys()"
   ]
  },
  {
   "cell_type": "code",
   "execution_count": 66,
   "metadata": {},
   "outputs": [
    {
     "data": {
      "text/html": [
       "<div>\n",
       "<style scoped>\n",
       "    .dataframe tbody tr th:only-of-type {\n",
       "        vertical-align: middle;\n",
       "    }\n",
       "\n",
       "    .dataframe tbody tr th {\n",
       "        vertical-align: top;\n",
       "    }\n",
       "\n",
       "    .dataframe thead th {\n",
       "        text-align: right;\n",
       "    }\n",
       "</style>\n",
       "<table border=\"1\" class=\"dataframe\">\n",
       "  <thead>\n",
       "    <tr style=\"text-align: right;\">\n",
       "      <th></th>\n",
       "      <th>fecha</th>\n",
       "    </tr>\n",
       "  </thead>\n",
       "  <tbody>\n",
       "    <tr>\n",
       "      <th>2</th>\n",
       "      <td>2016-01-02 00:00:00</td>\n",
       "    </tr>\n",
       "    <tr>\n",
       "      <th>25</th>\n",
       "      <td>2016-01-02 01:00:00</td>\n",
       "    </tr>\n",
       "    <tr>\n",
       "      <th>48</th>\n",
       "      <td>2016-01-02 02:00:00</td>\n",
       "    </tr>\n",
       "    <tr>\n",
       "      <th>71</th>\n",
       "      <td>2016-01-02 03:00:00</td>\n",
       "    </tr>\n",
       "    <tr>\n",
       "      <th>94</th>\n",
       "      <td>2016-01-02 04:00:00</td>\n",
       "    </tr>\n",
       "  </tbody>\n",
       "</table>\n",
       "</div>"
      ],
      "text/plain": [
       "                  fecha\n",
       "2   2016-01-02 00:00:00\n",
       "25  2016-01-02 01:00:00\n",
       "48  2016-01-02 02:00:00\n",
       "71  2016-01-02 03:00:00\n",
       "94  2016-01-02 04:00:00"
      ]
     },
     "execution_count": 66,
     "metadata": {},
     "output_type": "execute_result"
    }
   ],
   "source": [
    "data_est[\"CAM\"][[\"fecha\"]].head()"
   ]
  },
  {
   "cell_type": "code",
   "execution_count": 67,
   "metadata": {},
   "outputs": [],
   "source": [
    "data_shift = {}\n",
    "for elem in data_est:\n",
    "    data_shift[elem] = shit_corr(data_est[elem])"
   ]
  },
  {
   "cell_type": "code",
   "execution_count": 68,
   "metadata": {},
   "outputs": [],
   "source": [
    "df_append = pd.DataFrame(columns = data_est[\"MER\"].columns.tolist())"
   ]
  },
  {
   "cell_type": "code",
   "execution_count": 69,
   "metadata": {},
   "outputs": [],
   "source": [
    "for key in data_est:\n",
    "    df_append = df_append.append(data_est[key], ignore_index=True,sort=True)"
   ]
  },
  {
   "cell_type": "code",
   "execution_count": 70,
   "metadata": {},
   "outputs": [
    {
     "data": {
      "text/html": [
       "<div>\n",
       "<style scoped>\n",
       "    .dataframe tbody tr th:only-of-type {\n",
       "        vertical-align: middle;\n",
       "    }\n",
       "\n",
       "    .dataframe tbody tr th {\n",
       "        vertical-align: top;\n",
       "    }\n",
       "\n",
       "    .dataframe thead th {\n",
       "        text-align: right;\n",
       "    }\n",
       "</style>\n",
       "<table border=\"1\" class=\"dataframe\">\n",
       "  <thead>\n",
       "    <tr style=\"text-align: right;\">\n",
       "      <th></th>\n",
       "      <th>CO</th>\n",
       "      <th>NO</th>\n",
       "      <th>NO2</th>\n",
       "      <th>NO2_1.0</th>\n",
       "      <th>NO2_10.0</th>\n",
       "      <th>NO2_11.0</th>\n",
       "      <th>NO2_12.0</th>\n",
       "      <th>NO2_13.0</th>\n",
       "      <th>NO2_14.0</th>\n",
       "      <th>NO2_15.0</th>\n",
       "      <th>...</th>\n",
       "      <th>PM25mean_9.0</th>\n",
       "      <th>RH</th>\n",
       "      <th>SO2</th>\n",
       "      <th>TMP</th>\n",
       "      <th>WSP</th>\n",
       "      <th>dia</th>\n",
       "      <th>fecha</th>\n",
       "      <th>hora</th>\n",
       "      <th>id_station</th>\n",
       "      <th>mes</th>\n",
       "    </tr>\n",
       "  </thead>\n",
       "  <tbody>\n",
       "    <tr>\n",
       "      <th>0</th>\n",
       "      <td>0.6</td>\n",
       "      <td>2.0</td>\n",
       "      <td>24.0</td>\n",
       "      <td>NaN</td>\n",
       "      <td>NaN</td>\n",
       "      <td>NaN</td>\n",
       "      <td>NaN</td>\n",
       "      <td>NaN</td>\n",
       "      <td>NaN</td>\n",
       "      <td>NaN</td>\n",
       "      <td>...</td>\n",
       "      <td>NaN</td>\n",
       "      <td>62.0</td>\n",
       "      <td>2.0</td>\n",
       "      <td>14.8</td>\n",
       "      <td>1.9</td>\n",
       "      <td>2.0</td>\n",
       "      <td>2016-01-02 00:00:00</td>\n",
       "      <td>0</td>\n",
       "      <td>AJM</td>\n",
       "      <td>1.0</td>\n",
       "    </tr>\n",
       "    <tr>\n",
       "      <th>1</th>\n",
       "      <td>0.5</td>\n",
       "      <td>2.0</td>\n",
       "      <td>18.0</td>\n",
       "      <td>24.0</td>\n",
       "      <td>NaN</td>\n",
       "      <td>NaN</td>\n",
       "      <td>NaN</td>\n",
       "      <td>NaN</td>\n",
       "      <td>NaN</td>\n",
       "      <td>NaN</td>\n",
       "      <td>...</td>\n",
       "      <td>NaN</td>\n",
       "      <td>86.0</td>\n",
       "      <td>12.0</td>\n",
       "      <td>11.6</td>\n",
       "      <td>1.6</td>\n",
       "      <td>2.0</td>\n",
       "      <td>2016-01-02 01:00:00</td>\n",
       "      <td>1</td>\n",
       "      <td>AJM</td>\n",
       "      <td>1.0</td>\n",
       "    </tr>\n",
       "    <tr>\n",
       "      <th>2</th>\n",
       "      <td>0.5</td>\n",
       "      <td>2.0</td>\n",
       "      <td>16.0</td>\n",
       "      <td>18.0</td>\n",
       "      <td>NaN</td>\n",
       "      <td>NaN</td>\n",
       "      <td>NaN</td>\n",
       "      <td>NaN</td>\n",
       "      <td>NaN</td>\n",
       "      <td>NaN</td>\n",
       "      <td>...</td>\n",
       "      <td>NaN</td>\n",
       "      <td>88.0</td>\n",
       "      <td>11.0</td>\n",
       "      <td>11.3</td>\n",
       "      <td>1.6</td>\n",
       "      <td>2.0</td>\n",
       "      <td>2016-01-02 02:00:00</td>\n",
       "      <td>2</td>\n",
       "      <td>AJM</td>\n",
       "      <td>1.0</td>\n",
       "    </tr>\n",
       "    <tr>\n",
       "      <th>3</th>\n",
       "      <td>0.5</td>\n",
       "      <td>1.0</td>\n",
       "      <td>12.0</td>\n",
       "      <td>16.0</td>\n",
       "      <td>NaN</td>\n",
       "      <td>NaN</td>\n",
       "      <td>NaN</td>\n",
       "      <td>NaN</td>\n",
       "      <td>NaN</td>\n",
       "      <td>NaN</td>\n",
       "      <td>...</td>\n",
       "      <td>NaN</td>\n",
       "      <td>79.0</td>\n",
       "      <td>11.0</td>\n",
       "      <td>11.4</td>\n",
       "      <td>1.9</td>\n",
       "      <td>2.0</td>\n",
       "      <td>2016-01-02 03:00:00</td>\n",
       "      <td>3</td>\n",
       "      <td>AJM</td>\n",
       "      <td>1.0</td>\n",
       "    </tr>\n",
       "    <tr>\n",
       "      <th>4</th>\n",
       "      <td>0.4</td>\n",
       "      <td>1.0</td>\n",
       "      <td>11.0</td>\n",
       "      <td>12.0</td>\n",
       "      <td>NaN</td>\n",
       "      <td>NaN</td>\n",
       "      <td>NaN</td>\n",
       "      <td>NaN</td>\n",
       "      <td>NaN</td>\n",
       "      <td>NaN</td>\n",
       "      <td>...</td>\n",
       "      <td>NaN</td>\n",
       "      <td>79.0</td>\n",
       "      <td>9.0</td>\n",
       "      <td>11.5</td>\n",
       "      <td>1.6</td>\n",
       "      <td>2.0</td>\n",
       "      <td>2016-01-02 04:00:00</td>\n",
       "      <td>4</td>\n",
       "      <td>AJM</td>\n",
       "      <td>1.0</td>\n",
       "    </tr>\n",
       "    <tr>\n",
       "      <th>5</th>\n",
       "      <td>0.4</td>\n",
       "      <td>1.0</td>\n",
       "      <td>9.0</td>\n",
       "      <td>11.0</td>\n",
       "      <td>NaN</td>\n",
       "      <td>NaN</td>\n",
       "      <td>NaN</td>\n",
       "      <td>NaN</td>\n",
       "      <td>NaN</td>\n",
       "      <td>NaN</td>\n",
       "      <td>...</td>\n",
       "      <td>NaN</td>\n",
       "      <td>80.0</td>\n",
       "      <td>6.0</td>\n",
       "      <td>10.8</td>\n",
       "      <td>3.1</td>\n",
       "      <td>2.0</td>\n",
       "      <td>2016-01-02 05:00:00</td>\n",
       "      <td>5</td>\n",
       "      <td>AJM</td>\n",
       "      <td>1.0</td>\n",
       "    </tr>\n",
       "    <tr>\n",
       "      <th>6</th>\n",
       "      <td>0.4</td>\n",
       "      <td>1.0</td>\n",
       "      <td>11.0</td>\n",
       "      <td>9.0</td>\n",
       "      <td>NaN</td>\n",
       "      <td>NaN</td>\n",
       "      <td>NaN</td>\n",
       "      <td>NaN</td>\n",
       "      <td>NaN</td>\n",
       "      <td>NaN</td>\n",
       "      <td>...</td>\n",
       "      <td>NaN</td>\n",
       "      <td>82.0</td>\n",
       "      <td>4.0</td>\n",
       "      <td>10.0</td>\n",
       "      <td>1.1</td>\n",
       "      <td>2.0</td>\n",
       "      <td>2016-01-02 06:00:00</td>\n",
       "      <td>6</td>\n",
       "      <td>AJM</td>\n",
       "      <td>1.0</td>\n",
       "    </tr>\n",
       "    <tr>\n",
       "      <th>7</th>\n",
       "      <td>0.6</td>\n",
       "      <td>NaN</td>\n",
       "      <td>NaN</td>\n",
       "      <td>11.0</td>\n",
       "      <td>NaN</td>\n",
       "      <td>NaN</td>\n",
       "      <td>NaN</td>\n",
       "      <td>NaN</td>\n",
       "      <td>NaN</td>\n",
       "      <td>NaN</td>\n",
       "      <td>...</td>\n",
       "      <td>NaN</td>\n",
       "      <td>84.0</td>\n",
       "      <td>4.0</td>\n",
       "      <td>10.6</td>\n",
       "      <td>1.4</td>\n",
       "      <td>2.0</td>\n",
       "      <td>2016-01-02 08:00:00</td>\n",
       "      <td>8</td>\n",
       "      <td>AJM</td>\n",
       "      <td>1.0</td>\n",
       "    </tr>\n",
       "    <tr>\n",
       "      <th>8</th>\n",
       "      <td>0.7</td>\n",
       "      <td>15.0</td>\n",
       "      <td>19.0</td>\n",
       "      <td>NaN</td>\n",
       "      <td>NaN</td>\n",
       "      <td>NaN</td>\n",
       "      <td>NaN</td>\n",
       "      <td>NaN</td>\n",
       "      <td>NaN</td>\n",
       "      <td>NaN</td>\n",
       "      <td>...</td>\n",
       "      <td>NaN</td>\n",
       "      <td>86.0</td>\n",
       "      <td>4.0</td>\n",
       "      <td>10.6</td>\n",
       "      <td>1.1</td>\n",
       "      <td>2.0</td>\n",
       "      <td>2016-01-02 09:00:00</td>\n",
       "      <td>9</td>\n",
       "      <td>AJM</td>\n",
       "      <td>1.0</td>\n",
       "    </tr>\n",
       "    <tr>\n",
       "      <th>9</th>\n",
       "      <td>0.7</td>\n",
       "      <td>15.0</td>\n",
       "      <td>15.0</td>\n",
       "      <td>19.0</td>\n",
       "      <td>NaN</td>\n",
       "      <td>NaN</td>\n",
       "      <td>NaN</td>\n",
       "      <td>NaN</td>\n",
       "      <td>NaN</td>\n",
       "      <td>NaN</td>\n",
       "      <td>...</td>\n",
       "      <td>NaN</td>\n",
       "      <td>81.0</td>\n",
       "      <td>5.0</td>\n",
       "      <td>11.7</td>\n",
       "      <td>2.2</td>\n",
       "      <td>2.0</td>\n",
       "      <td>2016-01-02 10:00:00</td>\n",
       "      <td>10</td>\n",
       "      <td>AJM</td>\n",
       "      <td>1.0</td>\n",
       "    </tr>\n",
       "  </tbody>\n",
       "</table>\n",
       "<p>10 rows × 196 columns</p>\n",
       "</div>"
      ],
      "text/plain": [
       "    CO    NO   NO2  NO2_1.0  NO2_10.0  NO2_11.0  NO2_12.0  NO2_13.0  NO2_14.0  \\\n",
       "0  0.6   2.0  24.0      NaN       NaN       NaN       NaN       NaN       NaN   \n",
       "1  0.5   2.0  18.0     24.0       NaN       NaN       NaN       NaN       NaN   \n",
       "2  0.5   2.0  16.0     18.0       NaN       NaN       NaN       NaN       NaN   \n",
       "3  0.5   1.0  12.0     16.0       NaN       NaN       NaN       NaN       NaN   \n",
       "4  0.4   1.0  11.0     12.0       NaN       NaN       NaN       NaN       NaN   \n",
       "5  0.4   1.0   9.0     11.0       NaN       NaN       NaN       NaN       NaN   \n",
       "6  0.4   1.0  11.0      9.0       NaN       NaN       NaN       NaN       NaN   \n",
       "7  0.6   NaN   NaN     11.0       NaN       NaN       NaN       NaN       NaN   \n",
       "8  0.7  15.0  19.0      NaN       NaN       NaN       NaN       NaN       NaN   \n",
       "9  0.7  15.0  15.0     19.0       NaN       NaN       NaN       NaN       NaN   \n",
       "\n",
       "   NO2_15.0  ...  PM25mean_9.0    RH   SO2   TMP  WSP  dia  \\\n",
       "0       NaN  ...           NaN  62.0   2.0  14.8  1.9  2.0   \n",
       "1       NaN  ...           NaN  86.0  12.0  11.6  1.6  2.0   \n",
       "2       NaN  ...           NaN  88.0  11.0  11.3  1.6  2.0   \n",
       "3       NaN  ...           NaN  79.0  11.0  11.4  1.9  2.0   \n",
       "4       NaN  ...           NaN  79.0   9.0  11.5  1.6  2.0   \n",
       "5       NaN  ...           NaN  80.0   6.0  10.8  3.1  2.0   \n",
       "6       NaN  ...           NaN  82.0   4.0  10.0  1.1  2.0   \n",
       "7       NaN  ...           NaN  84.0   4.0  10.6  1.4  2.0   \n",
       "8       NaN  ...           NaN  86.0   4.0  10.6  1.1  2.0   \n",
       "9       NaN  ...           NaN  81.0   5.0  11.7  2.2  2.0   \n",
       "\n",
       "                 fecha  hora  id_station  mes  \n",
       "0  2016-01-02 00:00:00     0         AJM  1.0  \n",
       "1  2016-01-02 01:00:00     1         AJM  1.0  \n",
       "2  2016-01-02 02:00:00     2         AJM  1.0  \n",
       "3  2016-01-02 03:00:00     3         AJM  1.0  \n",
       "4  2016-01-02 04:00:00     4         AJM  1.0  \n",
       "5  2016-01-02 05:00:00     5         AJM  1.0  \n",
       "6  2016-01-02 06:00:00     6         AJM  1.0  \n",
       "7  2016-01-02 08:00:00     8         AJM  1.0  \n",
       "8  2016-01-02 09:00:00     9         AJM  1.0  \n",
       "9  2016-01-02 10:00:00    10         AJM  1.0  \n",
       "\n",
       "[10 rows x 196 columns]"
      ]
     },
     "execution_count": 70,
     "metadata": {},
     "output_type": "execute_result"
    }
   ],
   "source": [
    "df_append.head(10)"
   ]
  },
  {
   "cell_type": "code",
   "execution_count": 71,
   "metadata": {},
   "outputs": [
    {
     "data": {
      "text/html": [
       "<div>\n",
       "<style scoped>\n",
       "    .dataframe tbody tr th:only-of-type {\n",
       "        vertical-align: middle;\n",
       "    }\n",
       "\n",
       "    .dataframe tbody tr th {\n",
       "        vertical-align: top;\n",
       "    }\n",
       "\n",
       "    .dataframe thead th {\n",
       "        text-align: right;\n",
       "    }\n",
       "</style>\n",
       "<table border=\"1\" class=\"dataframe\">\n",
       "  <thead>\n",
       "    <tr style=\"text-align: right;\">\n",
       "      <th></th>\n",
       "      <th>hora</th>\n",
       "      <th>NO2_1.0</th>\n",
       "      <th>NO2_2.0</th>\n",
       "    </tr>\n",
       "  </thead>\n",
       "  <tbody>\n",
       "    <tr>\n",
       "      <th>0</th>\n",
       "      <td>0</td>\n",
       "      <td>NaN</td>\n",
       "      <td>NaN</td>\n",
       "    </tr>\n",
       "    <tr>\n",
       "      <th>1</th>\n",
       "      <td>1</td>\n",
       "      <td>24.0</td>\n",
       "      <td>NaN</td>\n",
       "    </tr>\n",
       "    <tr>\n",
       "      <th>2</th>\n",
       "      <td>2</td>\n",
       "      <td>18.0</td>\n",
       "      <td>24.0</td>\n",
       "    </tr>\n",
       "    <tr>\n",
       "      <th>3</th>\n",
       "      <td>3</td>\n",
       "      <td>16.0</td>\n",
       "      <td>18.0</td>\n",
       "    </tr>\n",
       "    <tr>\n",
       "      <th>4</th>\n",
       "      <td>4</td>\n",
       "      <td>12.0</td>\n",
       "      <td>16.0</td>\n",
       "    </tr>\n",
       "    <tr>\n",
       "      <th>5</th>\n",
       "      <td>5</td>\n",
       "      <td>11.0</td>\n",
       "      <td>12.0</td>\n",
       "    </tr>\n",
       "    <tr>\n",
       "      <th>6</th>\n",
       "      <td>6</td>\n",
       "      <td>9.0</td>\n",
       "      <td>11.0</td>\n",
       "    </tr>\n",
       "    <tr>\n",
       "      <th>7</th>\n",
       "      <td>8</td>\n",
       "      <td>11.0</td>\n",
       "      <td>9.0</td>\n",
       "    </tr>\n",
       "    <tr>\n",
       "      <th>8</th>\n",
       "      <td>9</td>\n",
       "      <td>NaN</td>\n",
       "      <td>11.0</td>\n",
       "    </tr>\n",
       "    <tr>\n",
       "      <th>9</th>\n",
       "      <td>10</td>\n",
       "      <td>19.0</td>\n",
       "      <td>NaN</td>\n",
       "    </tr>\n",
       "  </tbody>\n",
       "</table>\n",
       "</div>"
      ],
      "text/plain": [
       "  hora  NO2_1.0  NO2_2.0\n",
       "0    0      NaN      NaN\n",
       "1    1     24.0      NaN\n",
       "2    2     18.0     24.0\n",
       "3    3     16.0     18.0\n",
       "4    4     12.0     16.0\n",
       "5    5     11.0     12.0\n",
       "6    6      9.0     11.0\n",
       "7    8     11.0      9.0\n",
       "8    9      NaN     11.0\n",
       "9   10     19.0      NaN"
      ]
     },
     "execution_count": 71,
     "metadata": {},
     "output_type": "execute_result"
    }
   ],
   "source": [
    "df_append[[\"hora\",\"NO2_1.0\",\"NO2_2.0\"]].head(10)"
   ]
  },
  {
   "cell_type": "code",
   "execution_count": 72,
   "metadata": {},
   "outputs": [
    {
     "data": {
      "text/html": [
       "<div>\n",
       "<style scoped>\n",
       "    .dataframe tbody tr th:only-of-type {\n",
       "        vertical-align: middle;\n",
       "    }\n",
       "\n",
       "    .dataframe tbody tr th {\n",
       "        vertical-align: top;\n",
       "    }\n",
       "\n",
       "    .dataframe thead th {\n",
       "        text-align: right;\n",
       "    }\n",
       "</style>\n",
       "<table border=\"1\" class=\"dataframe\">\n",
       "  <thead>\n",
       "    <tr style=\"text-align: right;\">\n",
       "      <th></th>\n",
       "      <th>CO</th>\n",
       "      <th>NO</th>\n",
       "      <th>NO2</th>\n",
       "      <th>NO2_1.0</th>\n",
       "      <th>NO2_10.0</th>\n",
       "      <th>NO2_11.0</th>\n",
       "      <th>NO2_12.0</th>\n",
       "      <th>NO2_13.0</th>\n",
       "      <th>NO2_14.0</th>\n",
       "      <th>NO2_15.0</th>\n",
       "      <th>...</th>\n",
       "      <th>PM25mean_9.0</th>\n",
       "      <th>RH</th>\n",
       "      <th>SO2</th>\n",
       "      <th>TMP</th>\n",
       "      <th>WSP</th>\n",
       "      <th>dia</th>\n",
       "      <th>fecha</th>\n",
       "      <th>hora</th>\n",
       "      <th>id_station</th>\n",
       "      <th>mes</th>\n",
       "    </tr>\n",
       "  </thead>\n",
       "  <tbody>\n",
       "    <tr>\n",
       "      <th>608357</th>\n",
       "      <td>0.1</td>\n",
       "      <td>NaN</td>\n",
       "      <td>10.0</td>\n",
       "      <td>8.0</td>\n",
       "      <td>21.0</td>\n",
       "      <td>24.0</td>\n",
       "      <td>22.0</td>\n",
       "      <td>20.0</td>\n",
       "      <td>29.0</td>\n",
       "      <td>29.0</td>\n",
       "      <td>...</td>\n",
       "      <td>NaN</td>\n",
       "      <td>23.0</td>\n",
       "      <td>NaN</td>\n",
       "      <td>23.7</td>\n",
       "      <td>3.9</td>\n",
       "      <td>31.0</td>\n",
       "      <td>2019-03-31 19:00:00</td>\n",
       "      <td>19</td>\n",
       "      <td>BJU</td>\n",
       "      <td>3.0</td>\n",
       "    </tr>\n",
       "    <tr>\n",
       "      <th>608358</th>\n",
       "      <td>0.2</td>\n",
       "      <td>NaN</td>\n",
       "      <td>12.0</td>\n",
       "      <td>10.0</td>\n",
       "      <td>22.0</td>\n",
       "      <td>21.0</td>\n",
       "      <td>24.0</td>\n",
       "      <td>22.0</td>\n",
       "      <td>20.0</td>\n",
       "      <td>29.0</td>\n",
       "      <td>...</td>\n",
       "      <td>NaN</td>\n",
       "      <td>25.0</td>\n",
       "      <td>NaN</td>\n",
       "      <td>22.4</td>\n",
       "      <td>3.0</td>\n",
       "      <td>31.0</td>\n",
       "      <td>2019-03-31 20:00:00</td>\n",
       "      <td>20</td>\n",
       "      <td>BJU</td>\n",
       "      <td>3.0</td>\n",
       "    </tr>\n",
       "    <tr>\n",
       "      <th>608359</th>\n",
       "      <td>0.2</td>\n",
       "      <td>NaN</td>\n",
       "      <td>20.0</td>\n",
       "      <td>12.0</td>\n",
       "      <td>24.0</td>\n",
       "      <td>22.0</td>\n",
       "      <td>21.0</td>\n",
       "      <td>24.0</td>\n",
       "      <td>22.0</td>\n",
       "      <td>20.0</td>\n",
       "      <td>...</td>\n",
       "      <td>NaN</td>\n",
       "      <td>25.0</td>\n",
       "      <td>NaN</td>\n",
       "      <td>21.7</td>\n",
       "      <td>1.4</td>\n",
       "      <td>31.0</td>\n",
       "      <td>2019-03-31 21:00:00</td>\n",
       "      <td>21</td>\n",
       "      <td>BJU</td>\n",
       "      <td>3.0</td>\n",
       "    </tr>\n",
       "    <tr>\n",
       "      <th>608360</th>\n",
       "      <td>0.4</td>\n",
       "      <td>NaN</td>\n",
       "      <td>28.0</td>\n",
       "      <td>20.0</td>\n",
       "      <td>17.0</td>\n",
       "      <td>24.0</td>\n",
       "      <td>22.0</td>\n",
       "      <td>21.0</td>\n",
       "      <td>24.0</td>\n",
       "      <td>22.0</td>\n",
       "      <td>...</td>\n",
       "      <td>NaN</td>\n",
       "      <td>26.0</td>\n",
       "      <td>NaN</td>\n",
       "      <td>20.4</td>\n",
       "      <td>1.1</td>\n",
       "      <td>31.0</td>\n",
       "      <td>2019-03-31 22:00:00</td>\n",
       "      <td>22</td>\n",
       "      <td>BJU</td>\n",
       "      <td>3.0</td>\n",
       "    </tr>\n",
       "    <tr>\n",
       "      <th>608361</th>\n",
       "      <td>0.4</td>\n",
       "      <td>NaN</td>\n",
       "      <td>36.0</td>\n",
       "      <td>28.0</td>\n",
       "      <td>15.0</td>\n",
       "      <td>17.0</td>\n",
       "      <td>24.0</td>\n",
       "      <td>22.0</td>\n",
       "      <td>21.0</td>\n",
       "      <td>24.0</td>\n",
       "      <td>...</td>\n",
       "      <td>NaN</td>\n",
       "      <td>25.0</td>\n",
       "      <td>NaN</td>\n",
       "      <td>20.0</td>\n",
       "      <td>1.1</td>\n",
       "      <td>31.0</td>\n",
       "      <td>2019-03-31 23:00:00</td>\n",
       "      <td>23</td>\n",
       "      <td>BJU</td>\n",
       "      <td>3.0</td>\n",
       "    </tr>\n",
       "  </tbody>\n",
       "</table>\n",
       "<p>5 rows × 196 columns</p>\n",
       "</div>"
      ],
      "text/plain": [
       "         CO  NO   NO2  NO2_1.0  NO2_10.0  NO2_11.0  NO2_12.0  NO2_13.0  \\\n",
       "608357  0.1 NaN  10.0      8.0      21.0      24.0      22.0      20.0   \n",
       "608358  0.2 NaN  12.0     10.0      22.0      21.0      24.0      22.0   \n",
       "608359  0.2 NaN  20.0     12.0      24.0      22.0      21.0      24.0   \n",
       "608360  0.4 NaN  28.0     20.0      17.0      24.0      22.0      21.0   \n",
       "608361  0.4 NaN  36.0     28.0      15.0      17.0      24.0      22.0   \n",
       "\n",
       "        NO2_14.0  NO2_15.0  ...  PM25mean_9.0    RH  SO2   TMP  WSP   dia  \\\n",
       "608357      29.0      29.0  ...           NaN  23.0  NaN  23.7  3.9  31.0   \n",
       "608358      20.0      29.0  ...           NaN  25.0  NaN  22.4  3.0  31.0   \n",
       "608359      22.0      20.0  ...           NaN  25.0  NaN  21.7  1.4  31.0   \n",
       "608360      24.0      22.0  ...           NaN  26.0  NaN  20.4  1.1  31.0   \n",
       "608361      21.0      24.0  ...           NaN  25.0  NaN  20.0  1.1  31.0   \n",
       "\n",
       "                      fecha  hora  id_station  mes  \n",
       "608357  2019-03-31 19:00:00    19         BJU  3.0  \n",
       "608358  2019-03-31 20:00:00    20         BJU  3.0  \n",
       "608359  2019-03-31 21:00:00    21         BJU  3.0  \n",
       "608360  2019-03-31 22:00:00    22         BJU  3.0  \n",
       "608361  2019-03-31 23:00:00    23         BJU  3.0  \n",
       "\n",
       "[5 rows x 196 columns]"
      ]
     },
     "execution_count": 72,
     "metadata": {},
     "output_type": "execute_result"
    }
   ],
   "source": [
    "df_append[df_append.id_station==\"BJU\"].tail()"
   ]
  },
  {
   "cell_type": "markdown",
   "metadata": {},
   "source": [
    "## Groupbys"
   ]
  },
  {
   "cell_type": "code",
   "execution_count": 35,
   "metadata": {},
   "outputs": [],
   "source": [
    "cols = df_append.columns.tolist()"
   ]
  },
  {
   "cell_type": "code",
   "execution_count": 36,
   "metadata": {},
   "outputs": [],
   "source": [
    "cols.remove(\"id_station\")"
   ]
  },
  {
   "cell_type": "markdown",
   "metadata": {},
   "source": [
    "Finalmente, aplicamos los groupbys:"
   ]
  },
  {
   "cell_type": "code",
   "execution_count": null,
   "metadata": {},
   "outputs": [],
   "source": [
    "data_hour_merge_24_mean = df_append.groupby(['fecha',\"hora\",\"dia\",\"mes\"]).mean()\n",
    "data_hour_merge_24_mean.reset_index(inplace=True)"
   ]
  },
  {
   "cell_type": "code",
   "execution_count": null,
   "metadata": {},
   "outputs": [],
   "source": [
    "data_hour_merge_24_max = df_append.groupby(['fecha',\"hora\",\"dia\",\"mes\"]).max()\n",
    "data_hour_merge_24_max.reset_index(inplace=True)"
   ]
  },
  {
   "cell_type": "code",
   "execution_count": null,
   "metadata": {},
   "outputs": [],
   "source": [
    "data_hour_merge_24_min = df_append.groupby(['fecha',\"hora\",\"dia\",\"mes\"]).min()\n",
    "data_hour_merge_24_min.reset_index(inplace=True)"
   ]
  },
  {
   "cell_type": "markdown",
   "metadata": {},
   "source": [
    "## Cambiamos los nombres:"
   ]
  },
  {
   "cell_type": "code",
   "execution_count": null,
   "metadata": {},
   "outputs": [],
   "source": [
    "max_columns = data_hour_merge_24_max.columns.tolist()\n",
    "min_columns = data_hour_merge_24_min.columns.tolist()\n",
    "mean_columns = data_hour_merge_24_mean.columns.tolist()"
   ]
  },
  {
   "cell_type": "code",
   "execution_count": null,
   "metadata": {},
   "outputs": [],
   "source": [
    "for i in range(len(max_columns)):\n",
    "    if max_columns[i] not in ['fecha','hora','dia','mes','id_station']:\n",
    "        max_columns[i] = max_columns[i]+\"_max\"\n",
    "        min_columns[i] = min_columns[i]+\"_min\"    \n",
    "        mean_columns[i] = mean_columns[i]+\"_mean\""
   ]
  },
  {
   "cell_type": "code",
   "execution_count": null,
   "metadata": {},
   "outputs": [],
   "source": [
    "data_hour_merge_24_mean.columns = mean_columns\n",
    "data_hour_merge_24_min.columns = min_columns\n",
    "data_hour_merge_24_max.columns = max_columns"
   ]
  },
  {
   "cell_type": "markdown",
   "metadata": {},
   "source": [
    "##### Unamos los df's de manera que tengamos en una solo los datos promedio, máximo y minimo por día:"
   ]
  },
  {
   "cell_type": "code",
   "execution_count": null,
   "metadata": {},
   "outputs": [],
   "source": [
    "data_hour_merge = pd.merge(data_hour_merge_24_mean, data_hour_merge_24_max, on=['fecha',\"hora\",\"dia\",\"mes\"])\n",
    "data_hour_merge = pd.merge(data_hour_merge, data_hour_merge_24_min, on=['fecha',\"hora\",\"dia\",\"mes\"])"
   ]
  },
  {
   "cell_type": "markdown",
   "metadata": {},
   "source": [
    "guardamos el archivo:"
   ]
  },
  {
   "cell_type": "code",
   "execution_count": null,
   "metadata": {},
   "outputs": [],
   "source": [
    "data_hour_merge.to_csv(\"./datos_gb_\" + contaminante + \"_outliers.csv\", sep=',', encoding='utf-8',index=False)"
   ]
  },
  {
   "cell_type": "markdown",
   "metadata": {},
   "source": [
    "##### Leamos el archivo:"
   ]
  },
  {
   "cell_type": "code",
   "execution_count": 73,
   "metadata": {},
   "outputs": [],
   "source": [
    "contaminante =\"PM2.5\""
   ]
  },
  {
   "cell_type": "code",
   "execution_count": 75,
   "metadata": {},
   "outputs": [],
   "source": [
    "data_hour_merge = pd.read_csv(\"./datos_gb_\" + contaminante + \"_outliers.csv\", sep=',', encoding='utf-8')"
   ]
  },
  {
   "cell_type": "code",
   "execution_count": 76,
   "metadata": {},
   "outputs": [
    {
     "name": "stdout",
     "output_type": "stream",
     "text": [
      "listo\n"
     ]
    }
   ],
   "source": [
    "print(\"listo\")"
   ]
  },
  {
   "cell_type": "code",
   "execution_count": 77,
   "metadata": {},
   "outputs": [
    {
     "data": {
      "text/html": [
       "<div>\n",
       "<style scoped>\n",
       "    .dataframe tbody tr th:only-of-type {\n",
       "        vertical-align: middle;\n",
       "    }\n",
       "\n",
       "    .dataframe tbody tr th {\n",
       "        vertical-align: top;\n",
       "    }\n",
       "\n",
       "    .dataframe thead th {\n",
       "        text-align: right;\n",
       "    }\n",
       "</style>\n",
       "<table border=\"1\" class=\"dataframe\">\n",
       "  <thead>\n",
       "    <tr style=\"text-align: right;\">\n",
       "      <th></th>\n",
       "      <th>fecha</th>\n",
       "      <th>PM25mean_mean</th>\n",
       "      <th>PM25mean_1.0_mean</th>\n",
       "    </tr>\n",
       "  </thead>\n",
       "  <tbody>\n",
       "    <tr>\n",
       "      <th>0</th>\n",
       "      <td>2016-01-02 00:00:00</td>\n",
       "      <td>NaN</td>\n",
       "      <td>NaN</td>\n",
       "    </tr>\n",
       "    <tr>\n",
       "      <th>1</th>\n",
       "      <td>2016-01-02 01:00:00</td>\n",
       "      <td>NaN</td>\n",
       "      <td>NaN</td>\n",
       "    </tr>\n",
       "    <tr>\n",
       "      <th>2</th>\n",
       "      <td>2016-01-02 02:00:00</td>\n",
       "      <td>NaN</td>\n",
       "      <td>NaN</td>\n",
       "    </tr>\n",
       "    <tr>\n",
       "      <th>3</th>\n",
       "      <td>2016-01-02 03:00:00</td>\n",
       "      <td>NaN</td>\n",
       "      <td>NaN</td>\n",
       "    </tr>\n",
       "    <tr>\n",
       "      <th>4</th>\n",
       "      <td>2016-01-02 04:00:00</td>\n",
       "      <td>NaN</td>\n",
       "      <td>NaN</td>\n",
       "    </tr>\n",
       "  </tbody>\n",
       "</table>\n",
       "</div>"
      ],
      "text/plain": [
       "                 fecha  PM25mean_mean  PM25mean_1.0_mean\n",
       "0  2016-01-02 00:00:00            NaN                NaN\n",
       "1  2016-01-02 01:00:00            NaN                NaN\n",
       "2  2016-01-02 02:00:00            NaN                NaN\n",
       "3  2016-01-02 03:00:00            NaN                NaN\n",
       "4  2016-01-02 04:00:00            NaN                NaN"
      ]
     },
     "execution_count": 77,
     "metadata": {},
     "output_type": "execute_result"
    }
   ],
   "source": [
    "data_hour_merge[[\"fecha\",\"PM25mean_mean\",\"PM25mean_1.0_mean\"]].head(5)"
   ]
  },
  {
   "cell_type": "markdown",
   "metadata": {},
   "source": [
    "## Correlacionados con el target."
   ]
  },
  {
   "cell_type": "markdown",
   "metadata": {},
   "source": [
    "Ahora vamos a sacar los atributos más correlacionado con el target, el target es la columna a pronosticar, por simplicidad solo vamos a sacar la correlación con target a las 12 horas:"
   ]
  },
  {
   "cell_type": "markdown",
   "metadata": {},
   "source": [
    "Generemos los target de pronóstico:"
   ]
  },
  {
   "cell_type": "markdown",
   "metadata": {},
   "source": [
    "Generemos el shift de 1 a 24 horas, ahora hacia adelante"
   ]
  },
  {
   "cell_type": "code",
   "execution_count": 78,
   "metadata": {},
   "outputs": [],
   "source": [
    "contaminante =\"PM25mean\""
   ]
  },
  {
   "cell_type": "code",
   "execution_count": 79,
   "metadata": {},
   "outputs": [],
   "source": [
    "if contaminante == 'PM10' or contaminante == 'PM2.5':\n",
    "    item = contaminante+\"mean_max\"\n",
    "else:\n",
    "    item = contaminante+\"_max\" "
   ]
  },
  {
   "cell_type": "code",
   "execution_count": 80,
   "metadata": {},
   "outputs": [
    {
     "data": {
      "text/plain": [
       "'PM2.5_max'"
      ]
     },
     "execution_count": 80,
     "metadata": {},
     "output_type": "execute_result"
    }
   ],
   "source": [
    "'PM2.5_max'"
   ]
  },
  {
   "cell_type": "code",
   "execution_count": 81,
   "metadata": {},
   "outputs": [
    {
     "data": {
      "text/plain": [
       "'PM25mean_max'"
      ]
     },
     "execution_count": 81,
     "metadata": {},
     "output_type": "execute_result"
    }
   ],
   "source": [
    "item"
   ]
  },
  {
   "cell_type": "markdown",
   "metadata": {},
   "source": [
    "definimos el 'PM10mean_y_frcst_24'"
   ]
  },
  {
   "cell_type": "code",
   "execution_count": 82,
   "metadata": {},
   "outputs": [],
   "source": [
    "data_hour_merge[str(item+\"_frcst_\"+str(24))] = data_hour_merge[item].shift(-24)"
   ]
  },
  {
   "cell_type": "code",
   "execution_count": 83,
   "metadata": {},
   "outputs": [],
   "source": [
    "target = str(item+\"_frcst_\"+ str(24))"
   ]
  },
  {
   "cell_type": "code",
   "execution_count": 84,
   "metadata": {},
   "outputs": [
    {
     "data": {
      "text/plain": [
       "'PM25mean_max_frcst_24'"
      ]
     },
     "execution_count": 84,
     "metadata": {},
     "output_type": "execute_result"
    }
   ],
   "source": [
    "target"
   ]
  },
  {
   "cell_type": "markdown",
   "metadata": {},
   "source": [
    "Saquemos la correlación:"
   ]
  },
  {
   "cell_type": "code",
   "execution_count": 85,
   "metadata": {},
   "outputs": [],
   "source": [
    "data_corr = data_hour_merge.corr()"
   ]
  },
  {
   "cell_type": "markdown",
   "metadata": {},
   "source": [
    "Guardamos los atributos mas correlacionados en una lista:"
   ]
  },
  {
   "cell_type": "markdown",
   "metadata": {},
   "source": [
    "- 0.44 para PM10\n",
    "- 0.4 para O3"
   ]
  },
  {
   "cell_type": "code",
   "execution_count": 86,
   "metadata": {},
   "outputs": [],
   "source": [
    "variables_mas_correlacionadas_pm10_mean = data_corr[target][(data_corr[target] > 0.46) |\n",
    "                                                                           (data_corr[target] < -0.46)].index.tolist()"
   ]
  },
  {
   "cell_type": "code",
   "execution_count": 87,
   "metadata": {},
   "outputs": [
    {
     "data": {
      "text/plain": [
       "135"
      ]
     },
     "execution_count": 87,
     "metadata": {},
     "output_type": "execute_result"
    }
   ],
   "source": [
    "len(variables_mas_correlacionadas_pm10_mean)"
   ]
  },
  {
   "cell_type": "code",
   "execution_count": 88,
   "metadata": {},
   "outputs": [],
   "source": [
    "variables_mas_correlacionadas_pm10_mean.append(\"RH_mean\")#PM10\n",
    "variables_mas_correlacionadas_pm10_mean.append(\"WSP_mean\")\n",
    "variables_mas_correlacionadas_pm10_mean.append(\"TMP_mean\")\n",
    "variables_mas_correlacionadas_pm10_mean = list(set(variables_mas_correlacionadas_pm10_mean))"
   ]
  },
  {
   "cell_type": "raw",
   "metadata": {},
   "source": [
    "df = df.loc[:,~df.columns.duplicated()]"
   ]
  },
  {
   "cell_type": "markdown",
   "metadata": {},
   "source": [
    "Guardemos estas variables, no pueden cambiarse una vez que los modelos estan entrenados:"
   ]
  },
  {
   "cell_type": "code",
   "execution_count": 89,
   "metadata": {},
   "outputs": [],
   "source": [
    "with open(\"./variables+correlacionadas/vars_mas_corr_\"+ contaminante +\".txt\", \"w\") as output:\n",
    "    output.write(str(variables_mas_correlacionadas_pm10_mean))"
   ]
  },
  {
   "cell_type": "code",
   "execution_count": 90,
   "metadata": {},
   "outputs": [],
   "source": [
    "variables_mas_correlacionadas_pm10_mean.append(\"fecha\")"
   ]
  },
  {
   "cell_type": "markdown",
   "metadata": {},
   "source": [
    "Filtremos el DF con las variables mas correlacionadas:"
   ]
  },
  {
   "cell_type": "code",
   "execution_count": 91,
   "metadata": {},
   "outputs": [],
   "source": [
    "data_hour_merge = data_hour_merge[variables_mas_correlacionadas_pm10_mean]"
   ]
  },
  {
   "cell_type": "code",
   "execution_count": 92,
   "metadata": {},
   "outputs": [
    {
     "name": "stdout",
     "output_type": "stream",
     "text": [
      "23\n"
     ]
    }
   ],
   "source": [
    "for i in range(1, 24):\n",
    "    col_name = str(item+\"_frcst_\"+str(i))\n",
    "    data_hour_merge[col_name] = data_hour_merge[item].shift(-i)\n",
    "    if i==range(1, 24)[-1]:\n",
    "        print(i)\n",
    "data_hour_merge.dropna(inplace=True)"
   ]
  },
  {
   "cell_type": "markdown",
   "metadata": {},
   "source": [
    "Añadamos los datos de pronostico de las siguientes variables:"
   ]
  },
  {
   "cell_type": "code",
   "execution_count": 93,
   "metadata": {},
   "outputs": [],
   "source": [
    "lista_frcst = [\"RH_mean\",\"WSP_mean\",\"TMP_mean\"]"
   ]
  },
  {
   "cell_type": "code",
   "execution_count": 94,
   "metadata": {},
   "outputs": [],
   "source": [
    "for item in lista_frcst:\n",
    "    for i in range(1, 25):\n",
    "        col_name = str(item+\"_frcst_\"+str(i))\n",
    "        data_hour_merge[col_name] = data_hour_merge[item].shift(-i)\n",
    "data_hour_merge.dropna(inplace=True)"
   ]
  },
  {
   "cell_type": "markdown",
   "metadata": {},
   "source": [
    "Guardemos:"
   ]
  },
  {
   "cell_type": "code",
   "execution_count": 95,
   "metadata": {},
   "outputs": [],
   "source": [
    "data_hour_merge.to_csv(\"./datos_modelos_\"+ contaminante + \"ouliers.csv\",sep=',', encoding='utf-8',index=False)"
   ]
  },
  {
   "cell_type": "code",
   "execution_count": 96,
   "metadata": {},
   "outputs": [
    {
     "data": {
      "text/plain": [
       "(26978, 234)"
      ]
     },
     "execution_count": 96,
     "metadata": {},
     "output_type": "execute_result"
    }
   ],
   "source": [
    "data_hour_merge.shape"
   ]
  },
  {
   "cell_type": "code",
   "execution_count": null,
   "metadata": {},
   "outputs": [],
   "source": []
  }
 ],
 "metadata": {
  "kernelspec": {
   "display_name": "Python 3",
   "language": "python",
   "name": "python3"
  },
  "language_info": {
   "codemirror_mode": {
    "name": "ipython",
    "version": 3
   },
   "file_extension": ".py",
   "mimetype": "text/x-python",
   "name": "python",
   "nbconvert_exporter": "python",
   "pygments_lexer": "ipython3",
   "version": "3.7.3"
  }
 },
 "nbformat": 4,
 "nbformat_minor": 2
}
