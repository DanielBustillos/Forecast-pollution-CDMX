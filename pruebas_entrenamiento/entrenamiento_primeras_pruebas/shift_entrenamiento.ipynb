{
 "cells": [
  {
   "cell_type": "code",
   "execution_count": 1,
   "metadata": {},
   "outputs": [],
   "source": [
    "import numpy as np\n",
    "import matplotlib.pyplot as plt\n",
    "import seaborn as sns\n",
    "from pylab import rcParams\n",
    "\n",
    "import pandas as pd\n",
    "\n",
    "from sklearn import preprocessing\n",
    "import datetime\n",
    "import seaborn as sns\n",
    "\n",
    "import xgboost as xgb\n",
    "from xgboost import XGBClassifier\n",
    "from xgboost import plot_tree\n",
    "\n",
    "\n",
    "from sklearn.svm import SVR\n",
    "from sklearn.preprocessing import StandardScaler\n",
    "from sklearn.metrics import mean_squared_error\n",
    "from sklearn.model_selection import train_test_split\n",
    "from sklearn.tree import DecisionTreeRegressor\n",
    "from sklearn.ensemble import AdaBoostRegressor\n",
    "import os\n",
    "\n",
    "import numpy as np\n",
    "import matplotlib.pyplot as plt\n",
    "\n",
    "import missingno as msn\n",
    "pd.options.mode.chained_assignment = None "
   ]
  },
  {
   "cell_type": "markdown",
   "metadata": {},
   "source": [
    "## Leamos los DF generados"
   ]
  },
  {
   "cell_type": "markdown",
   "metadata": {},
   "source": [
    "Leemos los archivos por hora:"
   ]
  },
  {
   "cell_type": "code",
   "execution_count": 42,
   "metadata": {},
   "outputs": [],
   "source": [
    "data_hora_00 = pd.read_csv('/home/paw/DanielBustillos/por_hora/cont_hora2000.csv')\n",
    "data_hora_01 = pd.read_csv('/home/paw/DanielBustillos/por_hora/cont_hora2001.csv')\n",
    "data_hora_02 = pd.read_csv('/home/paw/DanielBustillos/por_hora/cont_hora2002.csv')\n",
    "data_hora_03 = pd.read_csv('/home/paw/DanielBustillos/por_hora/cont_hora2003.csv')\n",
    "data_hora_04 = pd.read_csv('/home/paw/DanielBustillos/por_hora/cont_hora2004.csv')\n",
    "data_hora_05 = pd.read_csv('/home/paw/DanielBustillos/por_hora/cont_hora2005.csv')\n",
    "data_hora_06 = pd.read_csv('/home/paw/DanielBustillos/por_hora/cont_hora2006.csv')\n",
    "data_hora_07 = pd.read_csv('/home/paw/DanielBustillos/por_hora/cont_hora2007.csv')\n",
    "data_hora_08 = pd.read_csv('/home/paw/DanielBustillos/por_hora/cont_hora2008.csv')\n",
    "data_hora_09 = pd.read_csv('/home/paw/DanielBustillos/por_hora/cont_hora2009.csv')\n",
    "data_hora_10 = pd.read_csv('/home/paw/DanielBustillos/por_hora/cont_hora2010.csv')\n",
    "data_hora_11 = pd.read_csv('/home/paw/DanielBustillos/por_hora/cont_hora2011.csv')\n",
    "data_hora_12 = pd.read_csv('/home/paw/DanielBustillos/por_hora/cont_hora2012.csv')\n",
    "data_hora_13 = pd.read_csv('/home/paw/DanielBustillos/por_hora/cont_hora2013.csv')\n",
    "data_hora_14 = pd.read_csv('/home/paw/DanielBustillos/por_hora/cont_hora2014.csv')\n",
    "data_hora_15 = pd.read_csv('/home/paw/DanielBustillos/por_hora/cont_hora2015.csv')\n",
    "data_hora_16 = pd.read_csv('/home/paw/DanielBustillos/por_hora/cont_hora2016.csv')\n",
    "data_hora_17 = pd.read_csv('/home/paw/DanielBustillos/por_hora/cont_hora2017.csv')\n",
    "data_hora_18 = pd.read_csv('/home/paw/DanielBustillos/por_hora/cont_hora2018.csv')\n",
    "data_hora_19 = pd.read_csv('/home/paw/DanielBustillos/por_hora/cont_hora2019.csv')"
   ]
  },
  {
   "cell_type": "code",
   "execution_count": 43,
   "metadata": {},
   "outputs": [
    {
     "data": {
      "text/html": [
       "<div>\n",
       "<style scoped>\n",
       "    .dataframe tbody tr th:only-of-type {\n",
       "        vertical-align: middle;\n",
       "    }\n",
       "\n",
       "    .dataframe tbody tr th {\n",
       "        vertical-align: top;\n",
       "    }\n",
       "\n",
       "    .dataframe thead th {\n",
       "        text-align: right;\n",
       "    }\n",
       "</style>\n",
       "<table border=\"1\" class=\"dataframe\">\n",
       "  <thead>\n",
       "    <tr style=\"text-align: right;\">\n",
       "      <th></th>\n",
       "      <th>Unnamed: 0</th>\n",
       "      <th>CO</th>\n",
       "      <th>NO</th>\n",
       "      <th>NO2</th>\n",
       "      <th>NOX</th>\n",
       "      <th>O3</th>\n",
       "      <th>PM10</th>\n",
       "      <th>PM2.5</th>\n",
       "      <th>PMCO</th>\n",
       "      <th>SO2</th>\n",
       "      <th>...</th>\n",
       "      <th>fecha</th>\n",
       "      <th>RH</th>\n",
       "      <th>TMP</th>\n",
       "      <th>WDR</th>\n",
       "      <th>WSP</th>\n",
       "      <th>UVA</th>\n",
       "      <th>UVB</th>\n",
       "      <th>hora</th>\n",
       "      <th>dia</th>\n",
       "      <th>mes</th>\n",
       "    </tr>\n",
       "  </thead>\n",
       "  <tbody>\n",
       "    <tr>\n",
       "      <th>0</th>\n",
       "      <td>77</td>\n",
       "      <td>1.5</td>\n",
       "      <td>25.0</td>\n",
       "      <td>22.0</td>\n",
       "      <td>47.0</td>\n",
       "      <td>2.0</td>\n",
       "      <td>240.0</td>\n",
       "      <td>NaN</td>\n",
       "      <td>NaN</td>\n",
       "      <td>2.0</td>\n",
       "      <td>...</td>\n",
       "      <td>2019-01-01</td>\n",
       "      <td>80.0</td>\n",
       "      <td>6.9</td>\n",
       "      <td>2.0</td>\n",
       "      <td>1.2</td>\n",
       "      <td>NaN</td>\n",
       "      <td>NaN</td>\n",
       "      <td>4</td>\n",
       "      <td>1</td>\n",
       "      <td>1</td>\n",
       "    </tr>\n",
       "    <tr>\n",
       "      <th>1</th>\n",
       "      <td>78</td>\n",
       "      <td>0.1</td>\n",
       "      <td>0.0</td>\n",
       "      <td>3.0</td>\n",
       "      <td>3.0</td>\n",
       "      <td>35.0</td>\n",
       "      <td>20.0</td>\n",
       "      <td>14.0</td>\n",
       "      <td>6.0</td>\n",
       "      <td>1.0</td>\n",
       "      <td>...</td>\n",
       "      <td>2019-01-01</td>\n",
       "      <td>32.0</td>\n",
       "      <td>NaN</td>\n",
       "      <td>201.0</td>\n",
       "      <td>4.6</td>\n",
       "      <td>NaN</td>\n",
       "      <td>NaN</td>\n",
       "      <td>4</td>\n",
       "      <td>1</td>\n",
       "      <td>1</td>\n",
       "    </tr>\n",
       "    <tr>\n",
       "      <th>2</th>\n",
       "      <td>79</td>\n",
       "      <td>NaN</td>\n",
       "      <td>NaN</td>\n",
       "      <td>NaN</td>\n",
       "      <td>NaN</td>\n",
       "      <td>14.0</td>\n",
       "      <td>NaN</td>\n",
       "      <td>20.0</td>\n",
       "      <td>NaN</td>\n",
       "      <td>NaN</td>\n",
       "      <td>...</td>\n",
       "      <td>2019-01-01</td>\n",
       "      <td>NaN</td>\n",
       "      <td>NaN</td>\n",
       "      <td>191.0</td>\n",
       "      <td>3.2</td>\n",
       "      <td>NaN</td>\n",
       "      <td>NaN</td>\n",
       "      <td>4</td>\n",
       "      <td>1</td>\n",
       "      <td>1</td>\n",
       "    </tr>\n",
       "    <tr>\n",
       "      <th>3</th>\n",
       "      <td>80</td>\n",
       "      <td>0.9</td>\n",
       "      <td>14.0</td>\n",
       "      <td>31.0</td>\n",
       "      <td>45.0</td>\n",
       "      <td>2.0</td>\n",
       "      <td>93.0</td>\n",
       "      <td>NaN</td>\n",
       "      <td>NaN</td>\n",
       "      <td>3.0</td>\n",
       "      <td>...</td>\n",
       "      <td>2019-01-01</td>\n",
       "      <td>NaN</td>\n",
       "      <td>NaN</td>\n",
       "      <td>NaN</td>\n",
       "      <td>NaN</td>\n",
       "      <td>NaN</td>\n",
       "      <td>NaN</td>\n",
       "      <td>4</td>\n",
       "      <td>1</td>\n",
       "      <td>1</td>\n",
       "    </tr>\n",
       "    <tr>\n",
       "      <th>4</th>\n",
       "      <td>81</td>\n",
       "      <td>1.0</td>\n",
       "      <td>NaN</td>\n",
       "      <td>31.0</td>\n",
       "      <td>NaN</td>\n",
       "      <td>1.0</td>\n",
       "      <td>134.0</td>\n",
       "      <td>107.0</td>\n",
       "      <td>27.0</td>\n",
       "      <td>2.0</td>\n",
       "      <td>...</td>\n",
       "      <td>2019-01-01</td>\n",
       "      <td>66.0</td>\n",
       "      <td>11.0</td>\n",
       "      <td>171.0</td>\n",
       "      <td>1.4</td>\n",
       "      <td>NaN</td>\n",
       "      <td>NaN</td>\n",
       "      <td>4</td>\n",
       "      <td>1</td>\n",
       "      <td>1</td>\n",
       "    </tr>\n",
       "  </tbody>\n",
       "</table>\n",
       "<p>5 rows × 21 columns</p>\n",
       "</div>"
      ],
      "text/plain": [
       "   Unnamed: 0   CO    NO   NO2   NOX    O3   PM10  PM2.5  PMCO  SO2 ...   \\\n",
       "0          77  1.5  25.0  22.0  47.0   2.0  240.0    NaN   NaN  2.0 ...    \n",
       "1          78  0.1   0.0   3.0   3.0  35.0   20.0   14.0   6.0  1.0 ...    \n",
       "2          79  NaN   NaN   NaN   NaN  14.0    NaN   20.0   NaN  NaN ...    \n",
       "3          80  0.9  14.0  31.0  45.0   2.0   93.0    NaN   NaN  3.0 ...    \n",
       "4          81  1.0   NaN  31.0   NaN   1.0  134.0  107.0  27.0  2.0 ...    \n",
       "\n",
       "        fecha    RH   TMP    WDR  WSP  UVA  UVB  hora  dia  mes  \n",
       "0  2019-01-01  80.0   6.9    2.0  1.2  NaN  NaN     4    1    1  \n",
       "1  2019-01-01  32.0   NaN  201.0  4.6  NaN  NaN     4    1    1  \n",
       "2  2019-01-01   NaN   NaN  191.0  3.2  NaN  NaN     4    1    1  \n",
       "3  2019-01-01   NaN   NaN    NaN  NaN  NaN  NaN     4    1    1  \n",
       "4  2019-01-01  66.0  11.0  171.0  1.4  NaN  NaN     4    1    1  \n",
       "\n",
       "[5 rows x 21 columns]"
      ]
     },
     "execution_count": 43,
     "metadata": {},
     "output_type": "execute_result"
    }
   ],
   "source": [
    "data_hora_19.head()"
   ]
  },
  {
   "cell_type": "code",
   "execution_count": 44,
   "metadata": {},
   "outputs": [],
   "source": [
    "data_hora = data_hora_19.append(data_hora_18, ignore_index=True,sort=True)\n",
    "data_hora = data_hora.append(data_hora_17, ignore_index=True,sort=True)\n",
    "data_hora = data_hora.append(data_hora_16, ignore_index=True,sort=True)\n",
    "data_hora = data_hora.append(data_hora_15, ignore_index=True,sort=True)\n",
    "data_hora = data_hora.append(data_hora_14, ignore_index=True,sort=True)\n",
    "data_hora = data_hora.append(data_hora_13, ignore_index=True,sort=True)\n",
    "data_hora = data_hora.append(data_hora_12, ignore_index=True,sort=True)\n",
    "data_hora = data_hora.append(data_hora_11, ignore_index=True,sort=True)\n",
    "data_hora = data_hora.append(data_hora_10, ignore_index=True,sort=True)\n",
    "data_hora = data_hora.append(data_hora_09, ignore_index=True,sort=True)\n",
    "data_hora = data_hora.append(data_hora_08, ignore_index=True,sort=True)\n",
    "data_hora = data_hora.append(data_hora_07, ignore_index=True,sort=True)\n",
    "data_hora = data_hora.append(data_hora_06, ignore_index=True,sort=True)\n",
    "data_hora = data_hora.append(data_hora_05, ignore_index=True,sort=True)\n",
    "data_hora = data_hora.append(data_hora_04, ignore_index=True,sort=True)\n",
    "data_hora = data_hora.append(data_hora_03, ignore_index=True,sort=True)\n",
    "data_hora = data_hora.append(data_hora_02, ignore_index=True,sort=True)\n",
    "data_hora = data_hora.append(data_hora_01, ignore_index=True,sort=True)\n",
    "data_hora = data_hora.append(data_hora_00, ignore_index=True,sort=True)"
   ]
  },
  {
   "cell_type": "raw",
   "metadata": {},
   "source": [
    "data_hora = pd.read_csv('/home/paw/DanielBustillos/ingesta280519/ingesta_modelo.csv')"
   ]
  },
  {
   "cell_type": "code",
   "execution_count": 45,
   "metadata": {},
   "outputs": [],
   "source": [
    "data_hora['dia'] = data_hora['fecha'].astype(str).str[8:10]\n",
    "data_hora['mes'] =  data_hora['fecha'].astype(str).str[5:7]\n",
    "data_hora['fecha'] = data_hora['fecha'].astype(str).str[0:10]"
   ]
  },
  {
   "cell_type": "code",
   "execution_count": 46,
   "metadata": {},
   "outputs": [],
   "source": [
    "data_hora = data_hora.drop([\"Unnamed: 0\"],axis=1)\n",
    "data_hora = data_hora.drop_duplicates()\n",
    "data_hora = data_hora[1::]"
   ]
  },
  {
   "cell_type": "code",
   "execution_count": 47,
   "metadata": {},
   "outputs": [],
   "source": [
    "data_hora = data_hora.drop([\"PBa\",\"PMCO\",\"UVA\",\"UVB\"],axis=1)"
   ]
  },
  {
   "cell_type": "raw",
   "metadata": {},
   "source": [
    "data_hora = data_hora.drop([\"PBa\",\"PM2.5\",\"PMCO\",\"UVA\",\"UVB\"],axis=1)"
   ]
  },
  {
   "cell_type": "code",
   "execution_count": 48,
   "metadata": {},
   "outputs": [],
   "source": [
    "data_hora = data_hora.dropna() ##porque????"
   ]
  },
  {
   "cell_type": "code",
   "execution_count": 49,
   "metadata": {},
   "outputs": [],
   "source": [
    "data = data_hora.dropna(subset=['O3'])"
   ]
  },
  {
   "cell_type": "code",
   "execution_count": 50,
   "metadata": {},
   "outputs": [],
   "source": [
    "data_hora = data_hora[data_hora.fecha > \"2010-01-01 23:00:00\"]"
   ]
  },
  {
   "cell_type": "markdown",
   "metadata": {},
   "source": [
    "\n",
    "# Datos por día: mean(), max(), min()"
   ]
  },
  {
   "cell_type": "markdown",
   "metadata": {},
   "source": [
    "### Creamos un Df con los datos promedio por hora oara rellenar los nan del DF original"
   ]
  },
  {
   "cell_type": "raw",
   "metadata": {},
   "source": [
    "means = data_hora.groupby(['fecha',\"hora\"]).transform('mean')"
   ]
  },
  {
   "cell_type": "raw",
   "metadata": {},
   "source": [
    "data_hora = data_hora.fillna(means)"
   ]
  },
  {
   "cell_type": "code",
   "execution_count": 51,
   "metadata": {},
   "outputs": [
    {
     "data": {
      "text/html": [
       "<div>\n",
       "<style scoped>\n",
       "    .dataframe tbody tr th:only-of-type {\n",
       "        vertical-align: middle;\n",
       "    }\n",
       "\n",
       "    .dataframe tbody tr th {\n",
       "        vertical-align: top;\n",
       "    }\n",
       "\n",
       "    .dataframe thead th {\n",
       "        text-align: right;\n",
       "    }\n",
       "</style>\n",
       "<table border=\"1\" class=\"dataframe\">\n",
       "  <thead>\n",
       "    <tr style=\"text-align: right;\">\n",
       "      <th></th>\n",
       "      <th>CO</th>\n",
       "      <th>NO</th>\n",
       "      <th>NO2</th>\n",
       "      <th>NOX</th>\n",
       "      <th>O3</th>\n",
       "      <th>PM10</th>\n",
       "      <th>PM2.5</th>\n",
       "      <th>RH</th>\n",
       "      <th>SO2</th>\n",
       "      <th>TMP</th>\n",
       "      <th>WDR</th>\n",
       "      <th>WSP</th>\n",
       "      <th>dia</th>\n",
       "      <th>fecha</th>\n",
       "      <th>hora</th>\n",
       "      <th>id_station</th>\n",
       "      <th>mes</th>\n",
       "    </tr>\n",
       "  </thead>\n",
       "  <tbody>\n",
       "    <tr>\n",
       "      <th>12</th>\n",
       "      <td>1.1</td>\n",
       "      <td>8.0</td>\n",
       "      <td>36.0</td>\n",
       "      <td>45.0</td>\n",
       "      <td>2.0</td>\n",
       "      <td>96.0</td>\n",
       "      <td>74.0</td>\n",
       "      <td>59.0</td>\n",
       "      <td>3.0</td>\n",
       "      <td>11.4</td>\n",
       "      <td>111.0</td>\n",
       "      <td>1.3</td>\n",
       "      <td>01</td>\n",
       "      <td>2019-01-01</td>\n",
       "      <td>4</td>\n",
       "      <td>HGM</td>\n",
       "      <td>01</td>\n",
       "    </tr>\n",
       "    <tr>\n",
       "      <th>17</th>\n",
       "      <td>1.3</td>\n",
       "      <td>43.0</td>\n",
       "      <td>36.0</td>\n",
       "      <td>80.0</td>\n",
       "      <td>1.0</td>\n",
       "      <td>118.0</td>\n",
       "      <td>82.0</td>\n",
       "      <td>69.0</td>\n",
       "      <td>5.0</td>\n",
       "      <td>11.0</td>\n",
       "      <td>130.0</td>\n",
       "      <td>0.8</td>\n",
       "      <td>01</td>\n",
       "      <td>2019-01-01</td>\n",
       "      <td>4</td>\n",
       "      <td>MER</td>\n",
       "      <td>01</td>\n",
       "    </tr>\n",
       "    <tr>\n",
       "      <th>18</th>\n",
       "      <td>1.9</td>\n",
       "      <td>56.0</td>\n",
       "      <td>36.0</td>\n",
       "      <td>92.0</td>\n",
       "      <td>2.0</td>\n",
       "      <td>143.0</td>\n",
       "      <td>125.0</td>\n",
       "      <td>63.0</td>\n",
       "      <td>3.0</td>\n",
       "      <td>11.8</td>\n",
       "      <td>170.0</td>\n",
       "      <td>0.7</td>\n",
       "      <td>01</td>\n",
       "      <td>2019-01-01</td>\n",
       "      <td>4</td>\n",
       "      <td>MGH</td>\n",
       "      <td>01</td>\n",
       "    </tr>\n",
       "    <tr>\n",
       "      <th>26</th>\n",
       "      <td>1.2</td>\n",
       "      <td>41.0</td>\n",
       "      <td>30.0</td>\n",
       "      <td>71.0</td>\n",
       "      <td>1.0</td>\n",
       "      <td>80.0</td>\n",
       "      <td>59.0</td>\n",
       "      <td>66.0</td>\n",
       "      <td>3.0</td>\n",
       "      <td>9.8</td>\n",
       "      <td>249.0</td>\n",
       "      <td>0.7</td>\n",
       "      <td>01</td>\n",
       "      <td>2019-01-01</td>\n",
       "      <td>4</td>\n",
       "      <td>TLA</td>\n",
       "      <td>01</td>\n",
       "    </tr>\n",
       "    <tr>\n",
       "      <th>31</th>\n",
       "      <td>2.2</td>\n",
       "      <td>74.0</td>\n",
       "      <td>36.0</td>\n",
       "      <td>110.0</td>\n",
       "      <td>4.0</td>\n",
       "      <td>337.0</td>\n",
       "      <td>249.0</td>\n",
       "      <td>61.0</td>\n",
       "      <td>7.0</td>\n",
       "      <td>10.8</td>\n",
       "      <td>69.0</td>\n",
       "      <td>1.4</td>\n",
       "      <td>01</td>\n",
       "      <td>2019-01-01</td>\n",
       "      <td>4</td>\n",
       "      <td>XAL</td>\n",
       "      <td>01</td>\n",
       "    </tr>\n",
       "  </tbody>\n",
       "</table>\n",
       "</div>"
      ],
      "text/plain": [
       "     CO    NO   NO2    NOX   O3   PM10  PM2.5    RH  SO2   TMP    WDR  WSP  \\\n",
       "12  1.1   8.0  36.0   45.0  2.0   96.0   74.0  59.0  3.0  11.4  111.0  1.3   \n",
       "17  1.3  43.0  36.0   80.0  1.0  118.0   82.0  69.0  5.0  11.0  130.0  0.8   \n",
       "18  1.9  56.0  36.0   92.0  2.0  143.0  125.0  63.0  3.0  11.8  170.0  0.7   \n",
       "26  1.2  41.0  30.0   71.0  1.0   80.0   59.0  66.0  3.0   9.8  249.0  0.7   \n",
       "31  2.2  74.0  36.0  110.0  4.0  337.0  249.0  61.0  7.0  10.8   69.0  1.4   \n",
       "\n",
       "   dia       fecha  hora id_station mes  \n",
       "12  01  2019-01-01     4        HGM  01  \n",
       "17  01  2019-01-01     4        MER  01  \n",
       "18  01  2019-01-01     4        MGH  01  \n",
       "26  01  2019-01-01     4        TLA  01  \n",
       "31  01  2019-01-01     4        XAL  01  "
      ]
     },
     "execution_count": 51,
     "metadata": {},
     "output_type": "execute_result"
    }
   ],
   "source": [
    "data_hora.head()"
   ]
  },
  {
   "cell_type": "markdown",
   "metadata": {},
   "source": [
    " Create a datetime column"
   ]
  },
  {
   "cell_type": "code",
   "execution_count": 52,
   "metadata": {},
   "outputs": [],
   "source": [
    "data_hora['fecha']  = pd.to_datetime([''.join([' '.join([data_hora.loc[i, 'fecha'], str(data_hora.loc[i, 'hora'])]),':00']) for i in data_hora.index])"
   ]
  },
  {
   "cell_type": "markdown",
   "metadata": {},
   "source": [
    "Sort into proper order so that rolling() is computed correctly\n"
   ]
  },
  {
   "cell_type": "code",
   "execution_count": 53,
   "metadata": {},
   "outputs": [],
   "source": [
    "data_24 = data_hora.sort_values(['id_station','fecha'])\n",
    "# Set the datetime column as the dataframe index\n",
    "data_24 = data_24.set_index('fecha')"
   ]
  },
  {
   "cell_type": "code",
   "execution_count": 54,
   "metadata": {},
   "outputs": [],
   "source": [
    "data_24 = data_24.groupby('id_station')[[\"PM10\",\"PM2.5\"]].rolling(24).mean().dropna().reset_index()"
   ]
  },
  {
   "cell_type": "code",
   "execution_count": 68,
   "metadata": {},
   "outputs": [],
   "source": [
    "data_24 = data_24.rename(columns={'PM10': 'PM10_mean',\"PM2.5\":'PM2.5_mean'})#, 'PM2.5': 'PM2.5_mean'})"
   ]
  },
  {
   "cell_type": "markdown",
   "metadata": {},
   "source": [
    "## Groupbys"
   ]
  },
  {
   "cell_type": "raw",
   "metadata": {},
   "source": [
    "del data_day"
   ]
  },
  {
   "cell_type": "code",
   "execution_count": 70,
   "metadata": {},
   "outputs": [],
   "source": [
    "data_day = pd.merge(data_hora, data_24, on=[\"fecha\",\"id_station\"])"
   ]
  },
  {
   "cell_type": "code",
   "execution_count": 71,
   "metadata": {},
   "outputs": [],
   "source": [
    "data_day = data_day[data_day.id_station!=\"PED\"]\n",
    "data_day = data_day[data_day.id_station!=\"PLA\"]"
   ]
  },
  {
   "cell_type": "markdown",
   "metadata": {},
   "source": [
    "### Tablas por estación"
   ]
  },
  {
   "cell_type": "code",
   "execution_count": 72,
   "metadata": {},
   "outputs": [],
   "source": [
    "data_hour_merge_24 = data_day[['CO', 'NO', 'NO2', 'NOX', 'O3', 'PM10', \"PM2.5\",'RH', 'SO2', 'TMP',\n",
    "       'WSP', 'dia', 'fecha', 'hora', 'id_station', 'mes',\"WDR\"]].copy()"
   ]
  },
  {
   "cell_type": "code",
   "execution_count": 73,
   "metadata": {},
   "outputs": [
    {
     "data": {
      "text/html": [
       "<div>\n",
       "<style scoped>\n",
       "    .dataframe tbody tr th:only-of-type {\n",
       "        vertical-align: middle;\n",
       "    }\n",
       "\n",
       "    .dataframe tbody tr th {\n",
       "        vertical-align: top;\n",
       "    }\n",
       "\n",
       "    .dataframe thead th {\n",
       "        text-align: right;\n",
       "    }\n",
       "</style>\n",
       "<table border=\"1\" class=\"dataframe\">\n",
       "  <thead>\n",
       "    <tr style=\"text-align: right;\">\n",
       "      <th></th>\n",
       "      <th>CO</th>\n",
       "      <th>NO</th>\n",
       "      <th>NO2</th>\n",
       "      <th>NOX</th>\n",
       "      <th>O3</th>\n",
       "      <th>PM10</th>\n",
       "      <th>PM2.5</th>\n",
       "      <th>RH</th>\n",
       "      <th>SO2</th>\n",
       "      <th>TMP</th>\n",
       "      <th>WSP</th>\n",
       "      <th>dia</th>\n",
       "      <th>fecha</th>\n",
       "      <th>hora</th>\n",
       "      <th>id_station</th>\n",
       "      <th>mes</th>\n",
       "      <th>WDR</th>\n",
       "    </tr>\n",
       "  </thead>\n",
       "  <tbody>\n",
       "    <tr>\n",
       "      <th>0</th>\n",
       "      <td>1.1</td>\n",
       "      <td>8.0</td>\n",
       "      <td>36.0</td>\n",
       "      <td>45.0</td>\n",
       "      <td>2.0</td>\n",
       "      <td>96.0</td>\n",
       "      <td>74.0</td>\n",
       "      <td>59.0</td>\n",
       "      <td>3.0</td>\n",
       "      <td>11.4</td>\n",
       "      <td>1.3</td>\n",
       "      <td>01</td>\n",
       "      <td>2019-01-01 04:00:00</td>\n",
       "      <td>4</td>\n",
       "      <td>HGM</td>\n",
       "      <td>01</td>\n",
       "      <td>111.0</td>\n",
       "    </tr>\n",
       "    <tr>\n",
       "      <th>1</th>\n",
       "      <td>1.3</td>\n",
       "      <td>43.0</td>\n",
       "      <td>36.0</td>\n",
       "      <td>80.0</td>\n",
       "      <td>1.0</td>\n",
       "      <td>118.0</td>\n",
       "      <td>82.0</td>\n",
       "      <td>69.0</td>\n",
       "      <td>5.0</td>\n",
       "      <td>11.0</td>\n",
       "      <td>0.8</td>\n",
       "      <td>01</td>\n",
       "      <td>2019-01-01 04:00:00</td>\n",
       "      <td>4</td>\n",
       "      <td>MER</td>\n",
       "      <td>01</td>\n",
       "      <td>130.0</td>\n",
       "    </tr>\n",
       "    <tr>\n",
       "      <th>2</th>\n",
       "      <td>1.9</td>\n",
       "      <td>56.0</td>\n",
       "      <td>36.0</td>\n",
       "      <td>92.0</td>\n",
       "      <td>2.0</td>\n",
       "      <td>143.0</td>\n",
       "      <td>125.0</td>\n",
       "      <td>63.0</td>\n",
       "      <td>3.0</td>\n",
       "      <td>11.8</td>\n",
       "      <td>0.7</td>\n",
       "      <td>01</td>\n",
       "      <td>2019-01-01 04:00:00</td>\n",
       "      <td>4</td>\n",
       "      <td>MGH</td>\n",
       "      <td>01</td>\n",
       "      <td>170.0</td>\n",
       "    </tr>\n",
       "    <tr>\n",
       "      <th>3</th>\n",
       "      <td>1.2</td>\n",
       "      <td>41.0</td>\n",
       "      <td>30.0</td>\n",
       "      <td>71.0</td>\n",
       "      <td>1.0</td>\n",
       "      <td>80.0</td>\n",
       "      <td>59.0</td>\n",
       "      <td>66.0</td>\n",
       "      <td>3.0</td>\n",
       "      <td>9.8</td>\n",
       "      <td>0.7</td>\n",
       "      <td>01</td>\n",
       "      <td>2019-01-01 04:00:00</td>\n",
       "      <td>4</td>\n",
       "      <td>TLA</td>\n",
       "      <td>01</td>\n",
       "      <td>249.0</td>\n",
       "    </tr>\n",
       "    <tr>\n",
       "      <th>4</th>\n",
       "      <td>2.2</td>\n",
       "      <td>74.0</td>\n",
       "      <td>36.0</td>\n",
       "      <td>110.0</td>\n",
       "      <td>4.0</td>\n",
       "      <td>337.0</td>\n",
       "      <td>249.0</td>\n",
       "      <td>61.0</td>\n",
       "      <td>7.0</td>\n",
       "      <td>10.8</td>\n",
       "      <td>1.4</td>\n",
       "      <td>01</td>\n",
       "      <td>2019-01-01 04:00:00</td>\n",
       "      <td>4</td>\n",
       "      <td>XAL</td>\n",
       "      <td>01</td>\n",
       "      <td>69.0</td>\n",
       "    </tr>\n",
       "  </tbody>\n",
       "</table>\n",
       "</div>"
      ],
      "text/plain": [
       "    CO    NO   NO2    NOX   O3   PM10  PM2.5    RH  SO2   TMP  WSP dia  \\\n",
       "0  1.1   8.0  36.0   45.0  2.0   96.0   74.0  59.0  3.0  11.4  1.3  01   \n",
       "1  1.3  43.0  36.0   80.0  1.0  118.0   82.0  69.0  5.0  11.0  0.8  01   \n",
       "2  1.9  56.0  36.0   92.0  2.0  143.0  125.0  63.0  3.0  11.8  0.7  01   \n",
       "3  1.2  41.0  30.0   71.0  1.0   80.0   59.0  66.0  3.0   9.8  0.7  01   \n",
       "4  2.2  74.0  36.0  110.0  4.0  337.0  249.0  61.0  7.0  10.8  1.4  01   \n",
       "\n",
       "                fecha  hora id_station mes    WDR  \n",
       "0 2019-01-01 04:00:00     4        HGM  01  111.0  \n",
       "1 2019-01-01 04:00:00     4        MER  01  130.0  \n",
       "2 2019-01-01 04:00:00     4        MGH  01  170.0  \n",
       "3 2019-01-01 04:00:00     4        TLA  01  249.0  \n",
       "4 2019-01-01 04:00:00     4        XAL  01   69.0  "
      ]
     },
     "execution_count": 73,
     "metadata": {},
     "output_type": "execute_result"
    }
   ],
   "source": [
    "data_hour_merge_24.head()"
   ]
  },
  {
   "cell_type": "code",
   "execution_count": 88,
   "metadata": {},
   "outputs": [],
   "source": [
    "estaciones = data_hora.id_station.unique().tolist()"
   ]
  },
  {
   "cell_type": "markdown",
   "metadata": {},
   "source": [
    "### Definamos el Timeshift"
   ]
  },
  {
   "cell_type": "markdown",
   "metadata": {},
   "source": [
    "## O3"
   ]
  },
  {
   "cell_type": "code",
   "execution_count": 81,
   "metadata": {},
   "outputs": [
    {
     "data": {
      "text/plain": [
       "Index(['CO', 'NO', 'NO2', 'NOX', 'O3', 'PM10', 'PM2.5', 'RH', 'SO2', 'TMP',\n",
       "       'WDR', 'WSP', 'dia', 'fecha', 'hora', 'id_station', 'mes', 'PM10_mean',\n",
       "       'PM2.5_mean'],\n",
       "      dtype='object')"
      ]
     },
     "execution_count": 81,
     "metadata": {},
     "output_type": "execute_result"
    }
   ],
   "source": [
    "data_day.columns"
   ]
  },
  {
   "cell_type": "code",
   "execution_count": 82,
   "metadata": {},
   "outputs": [],
   "source": [
    "data_hour_merge_24 = data_hour_merge_24[data_hour_merge_24.fecha > \"2015-01-01 23:00:00\"]\n",
    "data_hour_merge_24['dia'] = data_hour_merge_24['dia'].astype(str).astype(float)\n",
    "data_hour_merge_24['mes'] = data_hour_merge_24['mes'].astype(str).astype(float)"
   ]
  },
  {
   "cell_type": "code",
   "execution_count": 83,
   "metadata": {},
   "outputs": [],
   "source": [
    "data_hour_merge_24[\"O3_1\"] = data_hour_merge_24.O3.shift(-1)\n",
    "data_hour_merge_24[\"O3_2\"] = data_hour_merge_24.O3.shift(-2)\n",
    "data_hour_merge_24[\"O3_3\"] = data_hour_merge_24.O3.shift(-3)\n",
    "data_hour_merge_24[\"O3_4\"] = data_hour_merge_24.O3.shift(-4)\n",
    "data_hour_merge_24[\"O3_24\"] = data_hour_merge_24.O3.shift(-13)\n",
    "data_hour_merge_24[\"O3_23\"] = data_hour_merge_24.O3.shift(-12)\n",
    "data_hour_merge_24[\"O3_22\"] = data_hour_merge_24.O3.shift(-11)\n",
    "data_hour_merge_24[\"O3_23\"] = data_hour_merge_24.O3.shift(-12)\n",
    "data_hour_merge_24[\"O3_59\"] = data_hour_merge_24.O3.shift(-48)\n",
    "data_hour_merge_24[\"O3_35\"] = data_hour_merge_24.O3.shift(-24)\n",
    "\n",
    "data_hour_merge_24[\"CO_30\"] = data_hour_merge_24.CO.shift(-19)\n",
    "data_hour_merge_24[\"CO_54\"] = data_hour_merge_24.CO.shift(-43)\n",
    "data_hour_merge_24[\"CO_54\"] = data_hour_merge_24.CO.shift(-43)\n",
    "data_hour_merge_24[\"CO_1\"] = data_hour_merge_24.CO.shift(-1)\n",
    "data_hour_merge_24[\"CO_2\"] = data_hour_merge_24.CO.shift(-2)\n",
    "data_hour_merge_24[\"CO_3\"] = data_hour_merge_24.CO.shift(-3)\n",
    "\n",
    "data_hour_merge_24[\"NO2_30\"] = data_hour_merge_24.NO2.shift(-19)\n",
    "data_hour_merge_24[\"NO2_54\"] = data_hour_merge_24.NO2.shift(-43)\n",
    "data_hour_merge_24[\"NO2_23\"] = data_hour_merge_24.NO2.shift(-12)\n",
    "data_hour_merge_24[\"NO2_1\"] = data_hour_merge_24.NO2.shift(-1)\n",
    "data_hour_merge_24[\"NO2_2\"] = data_hour_merge_24.NO2.shift(-2)\n",
    "data_hour_merge_24[\"NO2_3\"] = data_hour_merge_24.NO2.shift(-3)\n",
    "\n",
    "data_hour_merge_24[\"SO2_30\"] = data_hour_merge_24.SO2.shift(-19)\n",
    "data_hour_merge_24[\"SO2_1\"] = data_hour_merge_24.SO2.shift(-1)\n",
    "data_hour_merge_24[\"SO2_2\"] = data_hour_merge_24.SO2.shift(-2)\n",
    "data_hour_merge_24[\"SO2_3\"] = data_hour_merge_24.SO2.shift(-3)\n",
    "\n",
    "#data_hour_merge_24[\"RH_58\"] = data_hour_merge_24.RH.shift(-58)\n",
    "data_hour_merge_24[\"RH_34\"] = data_hour_merge_24.RH.shift(-23)\n",
    "data_hour_merge_24[\"RH_24\"] = data_hour_merge_24.RH.shift(-13)\n",
    "data_hour_merge_24[\"RH_23\"] = data_hour_merge_24.RH.shift(-12)\n",
    "data_hour_merge_24[\"RH_47\"] = data_hour_merge_24.RH.shift(-36)\n",
    "data_hour_merge_24[\"RH_1\"] = data_hour_merge_24.RH.shift(-1)\n",
    "data_hour_merge_24[\"RH_2\"] = data_hour_merge_24.RH.shift(-2)\n",
    "data_hour_merge_24[\"RH_3\"] = data_hour_merge_24.RH.shift(-3)\n",
    "\n",
    "data_hour_merge_24[\"TMP_24\"] = data_hour_merge_24.TMP.shift(-13)\n",
    "data_hour_merge_24[\"TMP_23\"] = data_hour_merge_24.TMP.shift(-12)\n",
    "data_hour_merge_24[\"TMP_47\"] = data_hour_merge_24.TMP.shift(-36)\n",
    "data_hour_merge_24[\"TMP_58\"] = data_hour_merge_24.TMP.shift(-47)\n",
    "data_hour_merge_24[\"TMP_34\"] = data_hour_merge_24.TMP.shift(-23)\n",
    "data_hour_merge_24[\"TMP_1\"] = data_hour_merge_24.TMP.shift(-1)\n",
    "data_hour_merge_24[\"TMP_2\"] = data_hour_merge_24.TMP.shift(-2)\n",
    "data_hour_merge_24[\"TMP_3\"] = data_hour_merge_24.TMP.shift(-3)\n",
    "\n",
    "data_hour_merge_24[\"PM10_29\"] = data_hour_merge_24.PM10.shift(-18)\n",
    "data_hour_merge_24[\"PM10_28\"] = data_hour_merge_24.PM10.shift(-17)\n",
    "data_hour_merge_24[\"PM10_52\"] = data_hour_merge_24.PM10.shift(-41)\n",
    "data_hour_merge_24[\"PM10_61\"] = data_hour_merge_24.PM10.shift(-50)\n",
    "data_hour_merge_24[\"PM10_1\"] = data_hour_merge_24.PM10.shift(-1)\n",
    "data_hour_merge_24[\"PM10_2\"] = data_hour_merge_24.PM10.shift(-2)\n",
    "data_hour_merge_24[\"PM10_3\"] = data_hour_merge_24.PM10.shift(-3)\n",
    "data_hour_merge_24[\"PM10_max_1\"] = data_hour_merge_24.O3.shift(-1)\n",
    "data_hour_merge_24[\"PM1_max_2\"] = data_hour_merge_24.O3.shift(-2)\n",
    "data_hour_merge_24[\"PM10_max_3\"] = data_hour_merge_24.O3.shift(-3)\n",
    "\n",
    "data_hour_merge_24[\"PM1_min_1\"] = data_hour_merge_24.O3.shift(-12)\n",
    "data_hour_merge_24[\"PM1_min_2\"] = data_hour_merge_24.O3.shift(-24)\n",
    "\n",
    "data_hour_merge_24[\"PM10_1\"] = data_hour_merge_24.TMP.shift(-12)\n",
    "data_hour_merge_24[\"PMPM10_2\"] = data_hour_merge_24.TMP.shift(-24)\n",
    "\n",
    "data_hour_merge_24[\"PM1_1\"] = data_hour_merge_24.TMP.shift(-12)\n",
    "data_hour_merge_24[\"PM1_2\"] = data_hour_merge_24.TMP.shift(-24)\n",
    "\n",
    "data_hour_merge_24[\"NO2_12\"] = data_hour_merge_24.NO2.shift(-12)\n",
    "data_hour_merge_24[\"NO2_24\"] = data_hour_merge_24.NO2.shift(-24)\n",
    "data_hour_merge_24[\"NO2_1\"] = data_hour_merge_24.NO2.shift(-1)\n",
    "data_hour_merge_24[\"NO2_2\"] = data_hour_merge_24.NO2.shift(-2)\n",
    "\n",
    "data_hour_merge_24[\"SO2_12\"] = data_hour_merge_24.SO2.shift(-12)\n",
    "data_hour_merge_24[\"SO2_24\"] = data_hour_merge_24.SO2.shift(-24)\n",
    "data_hour_merge_24[\"SO2_1\"] = data_hour_merge_24.SO2.shift(-1)\n",
    "data_hour_merge_24[\"SO2_2\"] = data_hour_merge_24.SO2.shift(-2)\n",
    "\n",
    "data_hour_merge_24[\"PM10_1_a\"] = data_hour_merge_24.PM10.shift(-1)\n",
    "data_hour_merge_24[\"PM10_2_a\"] = data_hour_merge_24.PM10.shift(-24)\n",
    "data_hour_merge_24[\"PM10_3_a\"] = data_hour_merge_24.PM10.shift(-3)\n",
    "data_hour_merge_24[\"PM10_4_a\"] = data_hour_merge_24.PM10.shift(-5)\n",
    "\n",
    "#data_hour_merge_24[\"PM10_2_y\"] = data_hour_merge_24.O3.shift(-2)\n",
    "#data_hour_merge_24[\"PM10_3_y\"] = data_hour_merge_24.O3.shift(-24)\n",
    "#data_hour_merge_24[\"PM10_4_y\"] = data_hour_merge_24.O3.shift(-5)\n",
    "\n",
    "data_hour_merge_24[\"PM10_1_x1\"] = data_hour_merge_24.CO.shift(-1)\n",
    "data_hour_merge_24[\"PM10_2_x1\"] = data_hour_merge_24.CO.shift(-2)\n",
    "data_hour_merge_24[\"PM10_3_x1\"] = data_hour_merge_24.CO.shift(-24)\n",
    "data_hour_merge_24[\"PM10_3_x1\"] = data_hour_merge_24.CO.shift(-10)\n",
    "data_hour_merge_24[\"PM10_4_x1\"] = data_hour_merge_24.CO.shift(-4)\n",
    "\n",
    "data_hour_merge_24[\"temp_1\"] = data_hour_merge_24.TMP.shift(-1)\n",
    "data_hour_merge_24[\"temp_24\"] = data_hour_merge_24.TMP.shift(-24)\n",
    "#data_hour_merge_24[\"pre_24\"] = data_hour_merge_24.PA.shift(-1)\n",
    "data_hour_merge_24[\"RH_24\"] = data_hour_merge_24.RH.shift(-1)\n",
    "data_hour_merge_24[\"RH_24_2\"] = data_hour_merge_24.RH.shift(-12)\n",
    "\n",
    "data_hour_merge_24[\"RH_24\"] = data_hour_merge_24.RH.shift(-24)\n",
    "data_hour_merge_24[\"RH_24_2\"] = data_hour_merge_24.RH.shift(-11)\n",
    "\n",
    "data_hour_merge_24[\"WSP13\"] = data_hour_merge_24.WSP.shift(-24)\n",
    "data_hour_merge_24[\"WSP12\"] = data_hour_merge_24.WSP.shift(-12)\n",
    "data_hour_merge_24[\"WSP11\"] = data_hour_merge_24.WSP.shift(-11)\n",
    "data_hour_merge_24[\"WSP10\"] = data_hour_merge_24.WSP.shift(-10)\n",
    "data_hour_merge_24[\"WSP9\"] = data_hour_merge_24.WSP.shift(-9)\n",
    "data_hour_merge_24[\"WSP8\"] = data_hour_merge_24.WSP.shift(-8)\n",
    "data_hour_merge_24[\"WSP7\"] = data_hour_merge_24.WSP.shift(-7)\n",
    "data_hour_merge_24[\"WSP6\"] = data_hour_merge_24.WSP.shift(-6)\n",
    "data_hour_merge_24[\"WSP5\"] = data_hour_merge_24.WSP.shift(-5)\n",
    "data_hour_merge_24[\"WSP4\"] = data_hour_merge_24.WSP.shift(-4)\n",
    "data_hour_merge_24[\"WSP3\"] = data_hour_merge_24.WSP.shift(-3)\n",
    "data_hour_merge_24[\"WSP2\"] = data_hour_merge_24.WSP.shift(-2)\n",
    "data_hour_merge_24[\"WSP1\"] = data_hour_merge_24.WSP.shift(-1)\n",
    "\n",
    "#data_hour_merge_24[\"UVB_x_1\"] = data_hour_merge_24.UVB.shift(-1)\n",
    "#data_hour_merge_24[\"UVB_x_2\"] = data_hour_merge_24.PA.shift(-12)\n",
    "#data_hour_merge_24[\"UVB_y_1\"] = data_hour_merge_24.UVB.shift(-1)\n",
    "#data_hour_merge_24[\"UVB_y_2\"] = data_hour_merge_24.PA.shift(-24)"
   ]
  },
  {
   "cell_type": "code",
   "execution_count": 84,
   "metadata": {},
   "outputs": [],
   "source": [
    "data_hour_merge_24 = data_hour_merge_24.dropna(how='any').copy()"
   ]
  },
  {
   "cell_type": "markdown",
   "metadata": {},
   "source": [
    "Facores Principales"
   ]
  },
  {
   "cell_type": "code",
   "execution_count": 51,
   "metadata": {},
   "outputs": [],
   "source": [
    "test = data_hour_merge_24[data_hour_merge_24.hora == 15]"
   ]
  },
  {
   "cell_type": "code",
   "execution_count": 52,
   "metadata": {},
   "outputs": [],
   "source": [
    "corr = test.corr()"
   ]
  },
  {
   "cell_type": "code",
   "execution_count": 53,
   "metadata": {},
   "outputs": [],
   "source": [
    "list_corrs = corr[\"O3\"][(corr[\"O3\"]> 0.05) | (corr[\"O3\"]<-0.05)].index.tolist()"
   ]
  },
  {
   "cell_type": "code",
   "execution_count": 54,
   "metadata": {},
   "outputs": [],
   "source": [
    "list_corrs.append(\"fecha\")\n",
    "list_corrs.append(\"hora\")"
   ]
  },
  {
   "cell_type": "raw",
   "metadata": {},
   "source": [
    "list_corrs = ['PM10_1_x1',  'TMP_1_x',  'PM1_min_2',  'CO_1_y',  'RHforecast_3',  'hora_x',  'WSP6_x',  'SO2_30_x',  'NO_x',  'WSP1_x',  'RH_24_y',  'PM1_min_1',  'WSP2_y',  'TMP_47',  'SO2_24',  'temp_1',  'O3_4',  'TMPforecast_3',  'PM10_1_y',  'PM1_1',  'RHforecast_11',  'temp_1_x',  'TMP_2_y',  'RHforecast_4',  'SO2_y',  'WSP11',  'WSPforecast_12',  'O3_2_y',  'RH_2',  'WSP4_x',  'SO2_1_x',  'O3_22_y',  'RHforecast_12',  'WSPforecast_11',  'PM10_x',  'O3_y',  'RHforecast_1',  'TMP_1',  'RH_24_2_x',  'WSP10_y',  'SO2_24_x',  'SO2_2_y',  'RH_x',  'RH_2_x',  'WSP12_y',  'PM10_3_a_x',  'O3_24',  'PM10_max_1',  'TMP_3_y',  'PM10_max_3',  'RH_3',  'PM10_1_a_x',  'PMPM10_2_y',  'O3_35_x',  'PM10_2',  'TMPforecast_4',  'RHforecast_10',  'O3_3_x',  'O3_3_y',  'CO_y',  'PM1_2',  'WSP7',  'PM1_min_2_x',  'CO_x',  'WSP6_y',  'NO',  'RH_34_x',  'PM1_1_x',  'WSP5_x',  'TMP_23_y',  'WSP5',  'temp_1_y',  'temp_24',  'RH_47_x',  'RH_47_y',  'RH_2_y',  'RH_24_x',  'O3_1_y',  'PM10_max_3_x',  'O3_59',  'O3_23_y',  'O3_22_x',  'SO2_30_y',  'mes',  'PM10_3_a',  'TMP_47_x',  'WSPforecast_8',  'WSP8',  'O3_4_y',  'RH_23_y',  'WSPforecast_3',  'WSP_y',  'RH_24',  'TMP_34_x',  'PM10_2_a',  'WSP2',  'WSP3',  'PM10_max_3_y',  'TMPforecast_9',  'TMP_23',  'PM1_max_2',  'CO_1_x',  'PM1_2_y',  'PM10_3',  'WSP10',  'temp_24_x',  'PM10_2_x',  'WSP11_x',  'SO2_12_y',  'PM1_max_2_y',  'O3_24_y',  'O3_1_x',  'WSP7_x',  'WSP7_y',  'TMPforecast_11',  'RH_34_y',  'RH_24_2_y',  'WSP5_y',  'WSP2_x',  'PM1_max_2_x',  'WSP_x',  'NO2_y',  'TMP_1_y',  'O3_23',  'RHforecast_2',  'PM10_1_x1_y',  'TMPforecast_10',  'SO2_2_x',  'PM10_max_1_x',  'TMP_24_y',  'WSP12',  'O3_3',  'PM10_4_a',  'RH_1_y',  'TMP_34',  'PMPM10_2_x',  'WSPforecast_13',  'SO2_24_y',  'O3',  'PM10_1',  'WSP9_y',  'O3_4_x',  'RHforecast_8',  'TMP_x',  'TMPforecast_5',  'O3_2_x',  'PM10_28',  'PM1_min_2_y',  'WSP10_x',  'SO2_1_y',  'PM10_4_a_x',  'RH_23',  'TMPforecast_8',  'TMPforecast_2',  'RH_34',  'PM10_3_x',  'WDR_x',  'TMP_24',  'RH_47',  'O3_24_x',  'WSP3_x',  'WSPforecast_2',  'mes_y',  'RH_3_y',  'O3_23_x',  'WSP8_x',  'RH_y',  'PM10_1_a',  'PM10_max_1_y',  'WSP',  'O3_35_y',  'RH_24_2',  'WSP6',  'RH_3_x',  'TMP_24_x',  'TMP',  'PM10_29',  'WSP3_y',  'TMP_3',  'NO_y',  'PM10_1_x1_x',  'WSP8_y',  'WSP4',  'PMPM10_2',  'O3_35',  'TMPforecast_1',  'WSPforecast_10',  'O3_22',  'PM1_1_y',  'PM1_2_x',  'SO2_3_y',  'RH_1_x',  'TMP_23_x',  'hora_y',  'RHforecast_13',  'O3_x',  'RH_23_x',  'WSP11_y',  'TMP_y',  'TMP_2_x',  'PM1_min_1_x',  'WSPforecast_1',  'mes_x',  'WSP4_y',  'WSPforecast_7',  'WSPforecast_9',  'TMPforecast_7',  'WSPforecast_6',  'CO_1',  'RHforecast_9',  'RH',  'WSP12_x',  'hora',  'TMP_3_x',  'RH_1',  'TMPforecast_13',  'PM10_1_x',  'TMP_34_y',  'NO2',  'NO2_x',  'PM1_min_1_y',  'O3_2',  'TMP_47_y',  'WSP9',  'SO2_x',  'WSP9_x',  'WSP1_y',  'temp_24_y',  'CO',  'TMP_2',  'WSP1',  'SO2_12_x',  'TMPforecast_12',  'SO2_3_x',  'O3_1',  'RHforecast_5',  'PM10']"
   ]
  },
  {
   "cell_type": "code",
   "execution_count": 55,
   "metadata": {},
   "outputs": [],
   "source": [
    "data_hour_corr = data_hour_merge_24[list_corrs]"
   ]
  },
  {
   "cell_type": "raw",
   "metadata": {},
   "source": [
    "list_corrs.remove(\"fecha\")"
   ]
  },
  {
   "cell_type": "markdown",
   "metadata": {},
   "source": [
    "## Groupbys"
   ]
  },
  {
   "cell_type": "code",
   "execution_count": 56,
   "metadata": {},
   "outputs": [],
   "source": [
    "cols = data_hour_merge_24.columns"
   ]
  },
  {
   "cell_type": "code",
   "execution_count": 57,
   "metadata": {},
   "outputs": [],
   "source": [
    "data_hour_merge_24_mean = data_hour_corr.groupby(['fecha']).mean()\n",
    "data_hour_merge_24_mean.reset_index(inplace=True)"
   ]
  },
  {
   "cell_type": "code",
   "execution_count": 58,
   "metadata": {},
   "outputs": [],
   "source": [
    "data_hour_merge_24_max = data_hour_corr.groupby(['fecha']).max()\n",
    "data_hour_merge_24_max.reset_index(inplace=True)"
   ]
  },
  {
   "cell_type": "code",
   "execution_count": 59,
   "metadata": {},
   "outputs": [],
   "source": [
    "data_hour_merge_24_min = data_hour_corr.groupby(['fecha']).min()\n",
    "data_hour_merge_24_min.reset_index(inplace=True)"
   ]
  },
  {
   "cell_type": "markdown",
   "metadata": {},
   "source": [
    "### Factores Principales"
   ]
  },
  {
   "cell_type": "raw",
   "metadata": {},
   "source": [
    "del data_hour_merge"
   ]
  },
  {
   "cell_type": "code",
   "execution_count": 214,
   "metadata": {},
   "outputs": [],
   "source": [
    "data_hour_merge = pd.merge(data_hour_merge_24_mean, data_hour_merge_24_max, on=[\"fecha\"])\n",
    "data_hour_merge = pd.merge(data_hour_merge, data_hour_merge_24_min, on=[\"fecha\"])"
   ]
  },
  {
   "cell_type": "raw",
   "metadata": {},
   "source": [
    "data_hour_merge0 = pd.merge(data_hour_merge_24_mean, data_hour_merge_24_max, on=[\"fecha\"])\n",
    "data_hour_merge1 = pd.merge(data_hour_merge_24_quant, data_hour_merge_24_quant9, on=[\"fecha\"])\n",
    "data_hour_merge = pd.merge(data_hour_merge0, data_hour_merge1, on=[\"fecha\"])\n",
    "data_hour_merge = pd.merge(data_hour_merge, data_hour_merge_24_min, on=[\"fecha\"])"
   ]
  },
  {
   "cell_type": "code",
   "execution_count": 215,
   "metadata": {},
   "outputs": [],
   "source": [
    "data_hour_merge[\"O3forecast_13\"] = data_hour_merge.O3_y.shift(13)"
   ]
  },
  {
   "cell_type": "code",
   "execution_count": 216,
   "metadata": {},
   "outputs": [],
   "source": [
    "\n",
    "data_hour_merge[\"TMPforecast_13\"] = data_hour_merge.TMP.shift(13)\n",
    "data_hour_merge[\"TMPforecast_12\"] = data_hour_merge.TMP.shift(12)\n",
    "data_hour_merge[\"TMPforecast_11\"] = data_hour_merge.TMP.shift(11)\n",
    "data_hour_merge[\"TMPforecast_10\"] = data_hour_merge.TMP.shift(10)\n",
    "data_hour_merge[\"TMPforecast_9\"] = data_hour_merge.TMP.shift(9)\n",
    "data_hour_merge[\"TMPforecast_8\"] = data_hour_merge.TMP.shift(8)\n",
    "data_hour_merge[\"TMPforecast_7\"] = data_hour_merge.TMP.shift(7)\n",
    "data_hour_merge[\"TMPforecast_6\"] = data_hour_merge.TMP.shift(6)\n",
    "data_hour_merge[\"TMPforecast_5\"] = data_hour_merge.TMP.shift(5)\n",
    "data_hour_merge[\"TMPforecast_4\"] = data_hour_merge.TMP.shift(4)\n",
    "data_hour_merge[\"TMPforecast_3\"] = data_hour_merge.TMP.shift(3)\n",
    "data_hour_merge[\"TMPforecast_2\"] = data_hour_merge.TMP.shift(2)\n",
    "data_hour_merge[\"TMPforecast_1\"] = data_hour_merge.TMP.shift(1)\n",
    "\n",
    "\n",
    "data_hour_merge[\"WSPforecast_13\"] = data_hour_merge.WSP.shift(13)\n",
    "data_hour_merge[\"WSPforecast_12\"] = data_hour_merge.WSP.shift(12)\n",
    "data_hour_merge[\"WSPforecast_11\"] = data_hour_merge.WSP.shift(11)\n",
    "data_hour_merge[\"WSPforecast_10\"] = data_hour_merge.WSP.shift(10)\n",
    "data_hour_merge[\"WSPforecast_9\"] = data_hour_merge.WSP.shift(9)\n",
    "data_hour_merge[\"WSPforecast_8\"] = data_hour_merge.WSP.shift(8)\n",
    "data_hour_merge[\"WSPforecast_7\"] = data_hour_merge.WSP.shift(7)\n",
    "data_hour_merge[\"WSPforecast_6\"] = data_hour_merge.WSP.shift(6)\n",
    "data_hour_merge[\"WSPforecast_5\"] = data_hour_merge.WSP.shift(5)\n",
    "data_hour_merge[\"WSPforecast_4\"] = data_hour_merge.WSP.shift(4)\n",
    "data_hour_merge[\"WSPforecast_3\"] = data_hour_merge.WSP.shift(3)\n",
    "data_hour_merge[\"WSPforecast_2\"] = data_hour_merge.WSP.shift(2)\n",
    "data_hour_merge[\"WSPforecast_1\"] = data_hour_merge.WSP.shift(1)\n",
    "\n",
    "\n",
    "data_hour_merge[\"RHforecast_13\"] = data_hour_merge.RH.shift(13)\n",
    "data_hour_merge[\"RHforecast_12\"] = data_hour_merge.RH.shift(12)\n",
    "data_hour_merge[\"RHforecast_11\"] = data_hour_merge.RH.shift(11)\n",
    "data_hour_merge[\"RHforecast_10\"] = data_hour_merge.RH.shift(10)\n",
    "data_hour_merge[\"RHforecast_9\"] = data_hour_merge.RH.shift(9)\n",
    "data_hour_merge[\"RHforecast_8\"] = data_hour_merge.RH.shift(8)\n",
    "data_hour_merge[\"RHforecast_7\"] = data_hour_merge.RH.shift(7)\n",
    "data_hour_merge[\"RHforecast_6\"] = data_hour_merge.RH.shift(6)\n",
    "data_hour_merge[\"RHforecast_5\"] = data_hour_merge.RH.shift(5)\n",
    "data_hour_merge[\"RHforecast_4\"] = data_hour_merge.RH.shift(4)\n",
    "data_hour_merge[\"RHforecast_3\"] = data_hour_merge.RH.shift(3)\n",
    "data_hour_merge[\"RHforecast_2\"] = data_hour_merge.RH.shift(2)\n",
    "data_hour_merge[\"RHforecast_1\"] = data_hour_merge.RH.shift(1)"
   ]
  },
  {
   "cell_type": "raw",
   "metadata": {},
   "source": [
    "data_hour_merge[\"RHforecast_24\"] = data_hour_merge.RH.shift(24)\n",
    "data_hour_merge[\"RHforecast_24\"] = data_hour_merge.RH.shift(23)\n",
    "data_hour_merge[\"RHforecast_22\"] = data_hour_merge.RH.shift(22)\n",
    "data_hour_merge[\"RHforecast_21\"] = data_hour_merge.RH.shift(21)\n",
    "data_hour_merge[\"RHforecast_20\"] = data_hour_merge.RH.shift(20)\n",
    "data_hour_merge[\"RHforecast_19\"] = data_hour_merge.RH.shift(19)\n",
    "data_hour_merge[\"RHforecast_18\"] = data_hour_merge.RH.shift(18)\n",
    "data_hour_merge[\"RHforecast_17\"] = data_hour_merge.RH.shift(17)\n",
    "data_hour_merge[\"RHforecast_16\"] = data_hour_merge.RH.shift(16)\n",
    "data_hour_merge[\"RHforecast_15\"] = data_hour_merge.RH.shift(15)\n",
    "data_hour_merge[\"RHforecast_14\"] = data_hour_merge.RH.shift(14)\n",
    "data_hour_merge[\"RHforecast_13\"] = data_hour_merge.RH.shift(13)\n",
    "\n",
    "data_hour_merge[\"WSPforecast_13\"] = data_hour_merge.WSP.shift(24)\n",
    "data_hour_merge[\"WSPforecast_13\"] = data_hour_merge.WSP.shift(22)\n",
    "data_hour_merge[\"WSPforecast_13\"] = data_hour_merge.WSP.shift(22)\n",
    "data_hour_merge[\"WSPforecast_13\"] = data_hour_merge.WSP.shift(21)\n",
    "data_hour_merge[\"WSPforecast_13\"] = data_hour_merge.WSP.shift(20)\n",
    "data_hour_merge[\"WSPforecast_13\"] = data_hour_merge.WSP.shift(19)\n",
    "data_hour_merge[\"WSPforecast_13\"] = data_hour_merge.WSP.shift(18)\n",
    "data_hour_merge[\"WSPforecast_13\"] = data_hour_merge.WSP.shift(17)\n",
    "data_hour_merge[\"WSPforecast_13\"] = data_hour_merge.WSP.shift(16)\n",
    "data_hour_merge[\"WSPforecast_13\"] = data_hour_merge.WSP.shift(15)\n",
    "data_hour_merge[\"WSPforecast_13\"] = data_hour_merge.WSP.shift(14)\n",
    "data_hour_merge[\"WSPforecast_13\"] = data_hour_merge.WSP.shift(13)\n",
    "\n",
    "data_hour_merge[\"TMPforecast_24\"] = data_hour_merge.TMP.shift(24)\n",
    "data_hour_merge[\"TMPforecast_23\"] = data_hour_merge.TMP.shift(23)\n",
    "data_hour_merge[\"TMPforecast_22\"] = data_hour_merge.TMP.shift(22)\n",
    "data_hour_merge[\"TMPforecast_21\"] = data_hour_merge.TMP.shift(21)\n",
    "data_hour_merge[\"TMPforecast_20\"] = data_hour_merge.TMP.shift(20)\n",
    "data_hour_merge[\"TMPforecast_19\"] = data_hour_merge.TMP.shift(19)\n",
    "data_hour_merge[\"TMPforecast_18\"] = data_hour_merge.TMP.shift(18)\n",
    "data_hour_merge[\"TMPforecast_17\"] = data_hour_merge.TMP.shift(17)\n",
    "data_hour_merge[\"TMPforecast_16\"] = data_hour_merge.TMP.shift(16)\n",
    "data_hour_merge[\"TMPforecast_15\"] = data_hour_merge.TMP.shift(15)\n",
    "data_hour_merge[\"TMPforecast_14\"] = data_hour_merge.TMP.shift(14)\n",
    "data_hour_merge[\"TMPforecast_13\"] = data_hour_merge.TMP.shift(13)\n",
    "\n",
    "data_hour_merge[\"O3forecast_24\"] = data_hour_merge.O3_y.shift(24)\n",
    "data_hour_merge[\"O3forecast_23\"] = data_hour_merge.O3_y.shift(23)\n",
    "data_hour_merge[\"O3forecast_22\"] = data_hour_merge.O3_y.shift(22)\n",
    "data_hour_merge[\"O3forecast_21\"] = data_hour_merge.O3_y.shift(21)\n",
    "data_hour_merge[\"O3forecast_20\"] = data_hour_merge.O3_y.shift(20)\n",
    "data_hour_merge[\"O3forecast_19\"] = data_hour_merge.O3_y.shift(19)\n",
    "data_hour_merge[\"O3forecast_18\"] = data_hour_merge.O3_y.shift(18)\n",
    "data_hour_merge[\"O3forecast_17\"] = data_hour_merge.O3_y.shift(17)\n",
    "data_hour_merge[\"O3forecast_16\"] = data_hour_merge.O3_y.shift(16)\n",
    "data_hour_merge[\"O3forecast_15\"] = data_hour_merge.O3_y.shift(15)\n",
    "data_hour_merge[\"O3forecast_14\"] = data_hour_merge.O3_y.shift(14)\n",
    "data_hour_merge[\"O3forecast_13\"] = data_hour_merge.O3_y.shift(13)"
   ]
  },
  {
   "cell_type": "code",
   "execution_count": 217,
   "metadata": {},
   "outputs": [],
   "source": [
    "lista = ['O3forecast_13','O3forecast_12', 'O3forecast_11', 'O3forecast_10',\n",
    "       'O3forecast_9', 'O3forecast_8', 'O3forecast_7', 'O3forecast_6',\n",
    "       'O3forecast_5', 'O3forecast_4', 'O3forecast_3', 'O3forecast_2',\n",
    "       'O3forecast_1']"
   ]
  },
  {
   "cell_type": "raw",
   "metadata": {},
   "source": [
    "test = data_hour_merge[data_hour_merge.hora_x==6]"
   ]
  },
  {
   "cell_type": "raw",
   "metadata": {},
   "source": [
    "corr_1 = data_hour_merge.corr()"
   ]
  },
  {
   "cell_type": "raw",
   "metadata": {},
   "source": [
    "list_rorrs = corr_1[\"O3forecast_13\"][(corr_1[\"O3forecast_13\"]> 0.1) | (corr_1[\"O3forecast_13\"]<-0.1)].index.tolist()"
   ]
  },
  {
   "cell_type": "raw",
   "metadata": {},
   "source": [
    "list_corrs.append(\"hora\")"
   ]
  },
  {
   "cell_type": "code",
   "execution_count": 218,
   "metadata": {},
   "outputs": [],
   "source": [
    "list_corrs = ['PM10_1_x1',  'TMP_1_x',  'PM1_min_2',  'CO_1_y',  'RHforecast_3',  'hora_x',\n",
    "              'WSP6_x',  'SO2_30_x',  'NO_x',  'WSP1_x',  'RH_24_y',  'PM1_min_1',  'WSP2_y',\n",
    "              'TMP_47',  'SO2_24',  'temp_1',  'O3_4',  'TMPforecast_3',  'PM10_1_y',  'PM1_1', \n",
    "              'RHforecast_11',  'temp_1_x',  'TMP_2_y',  'RHforecast_4',  'SO2_y',  'WSP11',  'WSPforecast_12', \n",
    "              'O3_2_y',  'RH_2',  'WSP4_x',  'SO2_1_x',  'O3_22_y',  'RHforecast_12',  'WSPforecast_11',  'PM10_x', \n",
    "              'O3_y',  'RHforecast_1',  'TMP_1',  'RH_24_2_x',  'WSP10_y',  'SO2_24_x',  'SO2_2_y',  'RH_x',  'RH_2_x',  \n",
    "              'WSP12_y',  'PM10_3_a_x',  'O3_24',  'PM10_max_1',  'TMP_3_y',  'PM10_max_3',  'RH_3',  'PM10_1_a_x',  \n",
    "              'PMPM10_2_y',  'O3_35_x',  'PM10_2',  'TMPforecast_4',  'RHforecast_10',  'O3_3_x',  'O3_3_y', \n",
    "              'CO_y',  'PM1_2',  'WSP7',  'PM1_min_2_x',  'CO_x',  'WSP6_y',  'NO',  'RH_34_x',  'PM1_1_x', \n",
    "              'WSP5_x',  'TMP_23_y',  'WSP5',  'temp_1_y',  'temp_24',  'RH_47_x',  'RH_47_y',  'RH_2_y',  'RH_24_x',  \n",
    "              'O3_1_y',  'PM10_max_3_x',  'O3_59',  'O3_23_y',  'O3_22_x',  'SO2_30_y',  'mes',  'PM10_3_a',  'TMP_47_x', \n",
    "              'WSPforecast_8',  'WSP8',  'O3_4_y',  'RH_23_y',  'WSPforecast_3',  'WSP_y',  'RH_24',  'TMP_34_x',  'PM10_2_a',  \n",
    "              'WSP2',  'WSP3',  'PM10_max_3_y',  'TMPforecast_9',  'TMP_23',  'PM1_max_2',  'CO_1_x',  'PM1_2_y',  'PM10_3', \n",
    "              'WSP10',  'temp_24_x',  'PM10_2_x',  'WSP11_x',  'SO2_12_y',  'PM1_max_2_y',  'O3_24_y',  'O3_1_x',  'WSP7_x', \n",
    "              'WSP7_y',  'TMPforecast_11',  'RH_34_y',  'RH_24_2_y',  'WSP5_y',  'WSP2_x',  'PM1_max_2_x',  'WSP_x',  \n",
    "              'NO2_y',  'TMP_1_y',  'O3_23',  'RHforecast_2',  'PM10_1_x1_y',  'TMPforecast_10',  'SO2_2_x',  'PM10_max_1_x', \n",
    "              'TMP_24_y',  'WSP12',  'O3_3',  'PM10_4_a',  'RH_1_y',  'TMP_34',  'PMPM10_2_x',  'WSPforecast_13', \n",
    "              'SO2_24_y',  'O3',  'PM10_1',  'WSP9_y',  'O3_4_x',  'RHforecast_8',  'TMP_x',  'TMPforecast_5',  \n",
    "              'O3_2_x',  'PM10_28',  'PM1_min_2_y',  'WSP10_x',  'SO2_1_y',  'PM10_4_a_x',  'RH_23',  'TMPforecast_8', \n",
    "              'TMPforecast_2',  'RH_34',  'PM10_3_x',  'WDR_x',  'TMP_24',  'RH_47',  'O3_24_x',  'WSP3_x',  'WSPforecast_2',\n",
    "              'mes_y',  'RH_3_y',  'O3_23_x',  'WSP8_x',  'RH_y',  'PM10_1_a',  'PM10_max_1_y',  'WSP',  'O3_35_y',  'RH_24_2',\n",
    "              'WSP6',  'RH_3_x',  'TMP_24_x',  'TMP',  'PM10_29',  'WSP3_y',  'TMP_3',  'NO_y',  'PM10_1_x1_x',  'WSP8_y', \n",
    "              'WSP4',  'PMPM10_2',  'O3_35',  'TMPforecast_1',  'WSPforecast_10',  'O3_22',  'PM1_1_y',  'PM1_2_x', \n",
    "              'SO2_3_y',  'RH_1_x',  'TMP_23_x',  'hora_y',  'RHforecast_13',  'O3_x',  'RH_23_x',  'WSP11_y',  'TMP_y',\n",
    "              'TMP_2_x',  'PM1_min_1_x',  'WSPforecast_1',  'mes_x',  'WSP4_y',  'WSPforecast_7',  'WSPforecast_9', \n",
    "              'TMPforecast_7',  'WSPforecast_6',  'CO_1',  'RHforecast_9',  'RH',  'WSP12_x',  'hora',  'TMP_3_x',  'RH_1',  \n",
    "              'TMPforecast_13',  'PM10_1_x',  'TMP_34_y',  'NO2',  'NO2_x',  'PM1_min_1_y',  'O3_2',  'TMP_47_y',  'WSP9', \n",
    "              'SO2_x',  'WSP9_x',  'WSP1_y',  'temp_24_y',  'CO',  'TMP_2',  'WSP1',  'SO2_12_x',  'TMPforecast_12',  \n",
    "              'SO2_3_x',  'O3_1',  'RHforecast_5',  'PM10']"
   ]
  },
  {
   "cell_type": "raw",
   "metadata": {},
   "source": [
    "\n",
    "for i in range(10):\n",
    "    name = \"O3forecast_\"+str(i)\n",
    "    data_hour_merge[name] =  data_hour_merge.O3_y.shift(i)"
   ]
  },
  {
   "cell_type": "code",
   "execution_count": 219,
   "metadata": {},
   "outputs": [],
   "source": [
    "data_hour_merge[\"O3forecast_13\"] = data_hour_merge.O3_y.shift(13)\n",
    "data_hour_merge[\"O3forecast_12\"] = data_hour_merge.O3_y.shift(12)\n",
    "data_hour_merge[\"O3forecast_11\"] = data_hour_merge.O3_y.shift(11)\n",
    "data_hour_merge[\"O3forecast_10\"] = data_hour_merge.O3_y.shift(10)\n",
    "data_hour_merge[\"O3forecast_9\"] = data_hour_merge.O3_y.shift(9)\n",
    "data_hour_merge[\"O3forecast_8\"] = data_hour_merge.O3_y.shift(8)\n",
    "data_hour_merge[\"O3forecast_7\"] = data_hour_merge.O3_y.shift(7)\n",
    "data_hour_merge[\"O3forecast_6\"] = data_hour_merge.O3_y.shift(6)\n",
    "data_hour_merge[\"O3forecast_5\"] = data_hour_merge.O3_y.shift(5)\n",
    "data_hour_merge[\"O3forecast_4\"] = data_hour_merge.O3_y.shift(4)\n",
    "data_hour_merge[\"O3forecast_3\"] = data_hour_merge.O3_y.shift(3)\n",
    "data_hour_merge[\"O3forecast_2\"] = data_hour_merge.O3_y.shift(2)\n",
    "data_hour_merge[\"O3forecast_1\"] = data_hour_merge.O3_y.shift(1)"
   ]
  },
  {
   "cell_type": "code",
   "execution_count": 220,
   "metadata": {},
   "outputs": [],
   "source": [
    "data_hour_merge = data_hour_merge[list(set(list_corrs+lista))]"
   ]
  },
  {
   "cell_type": "code",
   "execution_count": 221,
   "metadata": {},
   "outputs": [],
   "source": [
    "data_hour_merge = data_hour_merge.copy()"
   ]
  },
  {
   "cell_type": "raw",
   "metadata": {},
   "source": [
    "data_hour_merge[\"O3forecast_12\"] = data_hour_merge.O3.shift(12)\n",
    "data_hour_merge[\"O3forecast_11\"] = data_hour_merge.O3.shift(11)\n",
    "data_hour_merge[\"O3forecast_10\"] = data_hour_merge.O3.shift(10)\n",
    "data_hour_merge[\"O3forecast_9\"] = data_hour_merge.O3.shift(9)\n",
    "data_hour_merge[\"O3forecast_8\"] = data_hour_merge.O3.shift(8)\n",
    "data_hour_merge[\"O3forecast_7\"] = data_hour_merge.O3.shift(7)\n",
    "data_hour_merge[\"O3forecast_6\"] = data_hour_merge.O3.shift(6)\n",
    "data_hour_merge[\"O3forecast_5\"] = data_hour_merge.O3.shift(5)\n",
    "data_hour_merge[\"O3forecast_4\"] = data_hour_merge.O3.shift(4)\n",
    "data_hour_merge[\"O3forecast_3\"] = data_hour_merge.O3.shift(3)\n",
    "data_hour_merge[\"O3forecast_2\"] = data_hourå_merge.O3.shift(2)\n",
    "data_hour_merge[\"O3forecast_1\"] = data_hour_merge.O3.shift(1)"
   ]
  },
  {
   "cell_type": "code",
   "execution_count": 222,
   "metadata": {},
   "outputs": [],
   "source": [
    "data_hour_merge = data_hour_merge.dropna(how='any')"
   ]
  },
  {
   "cell_type": "code",
   "execution_count": 223,
   "metadata": {},
   "outputs": [],
   "source": [
    "#data_hour_merge.drop([\"fecha\"],axis=1,inplace=True)"
   ]
  },
  {
   "cell_type": "code",
   "execution_count": 224,
   "metadata": {},
   "outputs": [],
   "source": [
    "#data_hour_merge = data_hour_merge[(data_hour_merge.hora==15)|(data_hour_merge.hora==16)|(data_hour_merge.hora==17)|(data_hour_merge.hora==18)|\n",
    "                    #              (data_hour_merge.hora==19)|(data_hour_merge.hora==20)|(data_hour_merge.hora==14)]"
   ]
  },
  {
   "cell_type": "code",
   "execution_count": 225,
   "metadata": {},
   "outputs": [
    {
     "data": {
      "text/plain": [
       "(36355, 250)"
      ]
     },
     "execution_count": 225,
     "metadata": {},
     "output_type": "execute_result"
    }
   ],
   "source": [
    "data_hour_merge.shape"
   ]
  },
  {
   "cell_type": "code",
   "execution_count": 226,
   "metadata": {},
   "outputs": [],
   "source": [
    "data_hour_merge.to_csv(\"/home/paw/DanielBustillos/contaminación_24mayo/datos_modelos.csv\")"
   ]
  },
  {
   "cell_type": "code",
   "execution_count": 196,
   "metadata": {},
   "outputs": [],
   "source": [
    "data_hour_merge1 = pd.read_csv(\"/home/paw/DanielBustillos/contaminación_24mayo/datos_modelos.csv\")"
   ]
  },
  {
   "cell_type": "code",
   "execution_count": null,
   "metadata": {},
   "outputs": [],
   "source": []
  }
 ],
 "metadata": {
  "kernelspec": {
   "display_name": "Python 3",
   "language": "python",
   "name": "python3"
  },
  "language_info": {
   "codemirror_mode": {
    "name": "ipython",
    "version": 3
   },
   "file_extension": ".py",
   "mimetype": "text/x-python",
   "name": "python",
   "nbconvert_exporter": "python",
   "pygments_lexer": "ipython3",
   "version": "3.6.5"
  }
 },
 "nbformat": 4,
 "nbformat_minor": 2
}
