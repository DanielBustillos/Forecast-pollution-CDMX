{
 "cells": [
  {
   "cell_type": "code",
   "execution_count": 1,
   "metadata": {},
   "outputs": [],
   "source": [
    "import numpy as np\n",
    "import matplotlib.pyplot as plt\n",
    "import seaborn as sns\n",
    "from pylab import rcParams\n",
    "\n",
    "import pandas as pd\n",
    "\n",
    "from sklearn import preprocessing\n",
    "import datetime\n",
    "import seaborn as sns\n",
    "\n",
    "import xgboost as xgb\n",
    "from xgboost import XGBClassifier\n",
    "from xgboost import plot_tree\n",
    "\n",
    "\n",
    "from sklearn.svm import SVR\n",
    "from sklearn.preprocessing import StandardScaler\n",
    "from sklearn.metrics import mean_squared_error\n",
    "from sklearn.model_selection import train_test_split\n",
    "from sklearn.tree import DecisionTreeRegressor\n",
    "from sklearn.ensemble import AdaBoostRegressor\n",
    "import os\n",
    "\n",
    "from sklearn.ensemble import RandomForestRegressor\n",
    "from sklearn.ensemble import RandomForestClassifier\n",
    "\n",
    "from sklearn.datasets import make_regression\n",
    "\n",
    "os.environ['KMP_DUPLICATE_LIB_OK']='True'\n",
    "plt.style.use('fivethirtyeight')"
   ]
  },
  {
   "cell_type": "code",
   "execution_count": 2,
   "metadata": {},
   "outputs": [],
   "source": [
    "pd.options.mode.chained_assignment = None "
   ]
  },
  {
   "cell_type": "markdown",
   "metadata": {},
   "source": [
    "## Leamos los DF generados"
   ]
  },
  {
   "cell_type": "markdown",
   "metadata": {},
   "source": [
    "Leemos los archivos por hora:"
   ]
  },
  {
   "cell_type": "code",
   "execution_count": 3,
   "metadata": {},
   "outputs": [],
   "source": [
    "data_hora_12 = pd.read_csv('/home/paw/DanielBustillos/datasets/dia/cont_hora2012.csv')\n",
    "#data_hora_13 = pd.read_csv('/home/paw/DanielBustillos/datasets/dia/cont_hora2013.csv')\n",
    "data_hora_14 = pd.read_csv('/home/paw/DanielBustillos/datasets/dia/cont_hora2014.csv')\n",
    "data_hora_15 = pd.read_csv('/home/paw/DanielBustillos/datasets/dia/cont_hora2015.csv')\n",
    "data_hora_16 = pd.read_csv('/home/paw/DanielBustillos/datasets/dia/cont_hora2016.csv')\n",
    "data_hora_17 = pd.read_csv('/home/paw/DanielBustillos/datasets/dia/cont_hora2017.csv')"
   ]
  },
  {
   "cell_type": "code",
   "execution_count": 4,
   "metadata": {},
   "outputs": [],
   "source": [
    "data_hora_17 = data_hora_17.append(data_hora_16, ignore_index=True)\n",
    "data_hora_17 = data_hora_17.append(data_hora_15, ignore_index=True)\n",
    "data_hora_17 = data_hora_17.append(data_hora_14, ignore_index=True)\n",
    "#data_hora_17 = data_hora_17.append(data_hora_13, ignore_index=True)\n",
    "data_hora_17 = data_hora_17.append(data_hora_12, ignore_index=True)"
   ]
  },
  {
   "cell_type": "code",
   "execution_count": 5,
   "metadata": {},
   "outputs": [],
   "source": [
    "data_hora = data_hora_17"
   ]
  },
  {
   "cell_type": "code",
   "execution_count": 6,
   "metadata": {},
   "outputs": [],
   "source": [
    "data_hora['dia'] = data_hora['fecha'].astype(str).str[8:10]\n",
    "data_hora['mes'] =  data_hora['fecha'].astype(str).str[5:7]"
   ]
  },
  {
   "cell_type": "code",
   "execution_count": 7,
   "metadata": {},
   "outputs": [],
   "source": [
    "data_hora['fecha'] = data_hora['fecha'].astype(str).str[0:10]"
   ]
  },
  {
   "cell_type": "code",
   "execution_count": 8,
   "metadata": {},
   "outputs": [],
   "source": [
    "data_hora = data_hora.drop([\"Unnamed: 0\"],axis=1)\n",
    "data_hora = data_hora.drop_duplicates()\n",
    "data_hora = data_hora[1::]"
   ]
  },
  {
   "cell_type": "markdown",
   "metadata": {},
   "source": [
    "\n",
    "# Datos por día: mean(), max(), min()"
   ]
  },
  {
   "cell_type": "markdown",
   "metadata": {},
   "source": [
    "### Creamos un Df con los datos promedio por hora oara rellenar los nan del DF original"
   ]
  },
  {
   "cell_type": "raw",
   "metadata": {},
   "source": [
    "means = data_hora.groupby(['fecha',\"hora\"]).transform('mean')"
   ]
  },
  {
   "cell_type": "raw",
   "metadata": {},
   "source": [
    "data_hora = data_hora.fillna(means)"
   ]
  },
  {
   "cell_type": "markdown",
   "metadata": {},
   "source": [
    " Create a datetime column"
   ]
  },
  {
   "cell_type": "raw",
   "metadata": {},
   "source": [
    "data_hora['fecha']  = pd.to_datetime([''.join([' '.join([data_hora.loc[i, 'fecha'], str(data_hora.loc[i, 'hora'])]),':00']) for i in data_hora.index])"
   ]
  },
  {
   "cell_type": "markdown",
   "metadata": {},
   "source": [
    " We can now drop the scalar date and hour columns"
   ]
  },
  {
   "cell_type": "raw",
   "metadata": {},
   "source": [
    "data_hora.drop(['fecha', 'hora'], axis=1, inplace=True)"
   ]
  },
  {
   "cell_type": "markdown",
   "metadata": {},
   "source": [
    "Sort into proper order so that rolling() is computed correctly\n"
   ]
  },
  {
   "cell_type": "raw",
   "metadata": {},
   "source": [
    "data_24 = data_hora.sort_values(['id_station','fecha'])\n",
    "# Set the datetime column as the dataframe index\n",
    "data_24 = data_24.set_index('fecha')"
   ]
  },
  {
   "cell_type": "raw",
   "metadata": {},
   "source": [
    "data_24 = data_24.groupby('id_station')[\"PM10\",\"PM2.5\"].rolling(24).mean().dropna().reset_index()"
   ]
  },
  {
   "cell_type": "raw",
   "metadata": {},
   "source": [
    "data_24 = data_24.rename(columns={'PM10': 'PM10_mean', 'PM2.5': 'PM2.5_mean'})"
   ]
  },
  {
   "cell_type": "markdown",
   "metadata": {},
   "source": [
    "## Groupbys"
   ]
  },
  {
   "cell_type": "markdown",
   "metadata": {},
   "source": [
    "MIN"
   ]
  },
  {
   "cell_type": "code",
   "execution_count": 9,
   "metadata": {},
   "outputs": [
    {
     "ename": "NameError",
     "evalue": "name 'data_max' is not defined",
     "output_type": "error",
     "traceback": [
      "\u001b[0;31m---------------------------------------------------------------------------\u001b[0m",
      "\u001b[0;31mNameError\u001b[0m                                 Traceback (most recent call last)",
      "\u001b[0;32m<ipython-input-9-fc8ad7c0dd41>\u001b[0m in \u001b[0;36m<module>\u001b[0;34m()\u001b[0m\n\u001b[1;32m      2\u001b[0m        \u001b[0;34m'NO'\u001b[0m\u001b[0;34m,\u001b[0m \u001b[0;34m'NO2'\u001b[0m\u001b[0;34m,\u001b[0m \u001b[0;34m'NOX'\u001b[0m\u001b[0;34m,\u001b[0m \u001b[0;34m'O3'\u001b[0m\u001b[0;34m,\u001b[0m \u001b[0;34m'PM2.5'\u001b[0m\u001b[0;34m,\u001b[0m \u001b[0;34m'PMCO'\u001b[0m\u001b[0;34m,\u001b[0m \u001b[0;34m'SO2'\u001b[0m\u001b[0;34m,\u001b[0m \u001b[0;34m'RH'\u001b[0m\u001b[0;34m,\u001b[0m \u001b[0;34m'TMP'\u001b[0m\u001b[0;34m,\u001b[0m \u001b[0;34m'WSP'\u001b[0m\u001b[0;34m,\u001b[0m\u001b[0;34m\u001b[0m\u001b[0m\n\u001b[1;32m      3\u001b[0m        'WDR', 'PM10'].mean()\n\u001b[0;32m----> 4\u001b[0;31m \u001b[0mdata_max\u001b[0m\u001b[0;34m.\u001b[0m\u001b[0mreset_index\u001b[0m\u001b[0;34m(\u001b[0m\u001b[0minplace\u001b[0m\u001b[0;34m=\u001b[0m\u001b[0;32mTrue\u001b[0m\u001b[0;34m)\u001b[0m\u001b[0;34m\u001b[0m\u001b[0m\n\u001b[0m\u001b[1;32m      5\u001b[0m \u001b[0;31m#data_max.drop([\"id_station\"],axis=1,inplace=True)\u001b[0m\u001b[0;34m\u001b[0m\u001b[0;34m\u001b[0m\u001b[0m\n",
      "\u001b[0;31mNameError\u001b[0m: name 'data_max' is not defined"
     ]
    }
   ],
   "source": [
    "data_mean = data_hora.groupby(['fecha',\"id_station\"])['UVA', 'UVB', 'PA', 'CO',\n",
    "       'NO', 'NO2', 'NOX', 'O3', 'PM2.5', 'PMCO', 'SO2', 'RH', 'TMP', 'WSP',\n",
    "       'WDR', 'PM10'].mean()\n",
    "data_max.reset_index(inplace=True)\n",
    "#data_max.drop([\"id_station\"],axis=1,inplace=True)"
   ]
  },
  {
   "cell_type": "markdown",
   "metadata": {},
   "source": [
    "Max"
   ]
  },
  {
   "cell_type": "code",
   "execution_count": null,
   "metadata": {},
   "outputs": [],
   "source": [
    "data_max = data_hora.groupby(['fecha',\"id_station\"])['UVA', 'UVB', 'PA', 'CO',\n",
    "       'NO', 'NO2', 'NOX', 'O3', 'PM2.5', 'PMCO', 'SO2', 'RH', 'TMP', 'WSP',\n",
    "       'WDR', 'PM10'].max()\n",
    "data_max.reset_index(inplace=True)\n",
    "#data_max.drop([\"id_station\"],axis=1,inplace=True)"
   ]
  },
  {
   "cell_type": "markdown",
   "metadata": {},
   "source": [
    "### Merge"
   ]
  },
  {
   "cell_type": "code",
   "execution_count": 10,
   "metadata": {},
   "outputs": [
    {
     "ename": "NameError",
     "evalue": "name 'data_min' is not defined",
     "output_type": "error",
     "traceback": [
      "\u001b[0;31m---------------------------------------------------------------------------\u001b[0m",
      "\u001b[0;31mNameError\u001b[0m                                 Traceback (most recent call last)",
      "\u001b[0;32m<ipython-input-10-4a9ae37f0851>\u001b[0m in \u001b[0;36m<module>\u001b[0;34m()\u001b[0m\n\u001b[0;32m----> 1\u001b[0;31m \u001b[0mdata_day\u001b[0m \u001b[0;34m=\u001b[0m \u001b[0mpd\u001b[0m\u001b[0;34m.\u001b[0m\u001b[0mmerge\u001b[0m\u001b[0;34m(\u001b[0m\u001b[0mdata_min\u001b[0m\u001b[0;34m,\u001b[0m \u001b[0mdata_max\u001b[0m\u001b[0;34m,\u001b[0m \u001b[0mon\u001b[0m\u001b[0;34m=\u001b[0m\u001b[0;34m[\u001b[0m\u001b[0;34m\"fecha\"\u001b[0m\u001b[0;34m,\u001b[0m\u001b[0;34m\"id_station\"\u001b[0m\u001b[0;34m]\u001b[0m\u001b[0;34m)\u001b[0m\u001b[0;34m\u001b[0m\u001b[0m\n\u001b[0m",
      "\u001b[0;31mNameError\u001b[0m: name 'data_min' is not defined"
     ]
    }
   ],
   "source": [
    "data_day = pd.merge(data_min, data_max, on=[\"fecha\",\"id_station\"])"
   ]
  },
  {
   "cell_type": "code",
   "execution_count": 11,
   "metadata": {},
   "outputs": [
    {
     "ename": "NameError",
     "evalue": "name 'data_day' is not defined",
     "output_type": "error",
     "traceback": [
      "\u001b[0;31m---------------------------------------------------------------------------\u001b[0m",
      "\u001b[0;31mNameError\u001b[0m                                 Traceback (most recent call last)",
      "\u001b[0;32m<ipython-input-11-44230dedfbe0>\u001b[0m in \u001b[0;36m<module>\u001b[0;34m()\u001b[0m\n\u001b[0;32m----> 1\u001b[0;31m \u001b[0mdata_day\u001b[0m \u001b[0;34m=\u001b[0m \u001b[0mpd\u001b[0m\u001b[0;34m.\u001b[0m\u001b[0mmerge\u001b[0m\u001b[0;34m(\u001b[0m\u001b[0mdata_day\u001b[0m\u001b[0;34m,\u001b[0m \u001b[0mdata_mean\u001b[0m\u001b[0;34m,\u001b[0m \u001b[0mon\u001b[0m\u001b[0;34m=\u001b[0m\u001b[0;34m[\u001b[0m\u001b[0;34m\"fecha\"\u001b[0m\u001b[0;34m,\u001b[0m\u001b[0;34m\"id_station\"\u001b[0m\u001b[0;34m]\u001b[0m\u001b[0;34m)\u001b[0m\u001b[0;34m\u001b[0m\u001b[0m\n\u001b[0m\u001b[1;32m      2\u001b[0m \u001b[0;31m#data_day.drop([\"id_station\"],axis=1,inplace=True)\u001b[0m\u001b[0;34m\u001b[0m\u001b[0;34m\u001b[0m\u001b[0m\n",
      "\u001b[0;31mNameError\u001b[0m: name 'data_day' is not defined"
     ]
    }
   ],
   "source": [
    "data_day = pd.merge(data_day, data_mean, on=[\"fecha\",\"id_station\"])\n",
    "#data_day.drop([\"id_station\"],axis=1,inplace=True)"
   ]
  },
  {
   "cell_type": "code",
   "execution_count": 383,
   "metadata": {},
   "outputs": [],
   "source": [
    "data_day['fecha'] =  pd.to_datetime(prec['fecha'], format='%Y-%m-%d')"
   ]
  },
  {
   "cell_type": "code",
   "execution_count": 384,
   "metadata": {},
   "outputs": [
    {
     "data": {
      "text/html": [
       "<div>\n",
       "<style scoped>\n",
       "    .dataframe tbody tr th:only-of-type {\n",
       "        vertical-align: middle;\n",
       "    }\n",
       "\n",
       "    .dataframe tbody tr th {\n",
       "        vertical-align: top;\n",
       "    }\n",
       "\n",
       "    .dataframe thead th {\n",
       "        text-align: right;\n",
       "    }\n",
       "</style>\n",
       "<table border=\"1\" class=\"dataframe\">\n",
       "  <thead>\n",
       "    <tr style=\"text-align: right;\">\n",
       "      <th></th>\n",
       "      <th>fecha</th>\n",
       "      <th>id_station</th>\n",
       "      <th>UVA_x</th>\n",
       "      <th>UVB_x</th>\n",
       "      <th>PA_x</th>\n",
       "      <th>CO_x</th>\n",
       "      <th>NO_x</th>\n",
       "      <th>NO2_x</th>\n",
       "      <th>NOX_x</th>\n",
       "      <th>O3_x</th>\n",
       "      <th>...</th>\n",
       "      <th>NOX</th>\n",
       "      <th>O3</th>\n",
       "      <th>PM2.5</th>\n",
       "      <th>PMCO</th>\n",
       "      <th>SO2</th>\n",
       "      <th>RH</th>\n",
       "      <th>TMP</th>\n",
       "      <th>WSP</th>\n",
       "      <th>WDR</th>\n",
       "      <th>PM10</th>\n",
       "    </tr>\n",
       "  </thead>\n",
       "  <tbody>\n",
       "    <tr>\n",
       "      <th>0</th>\n",
       "      <td>2017-05-15</td>\n",
       "      <td>MER</td>\n",
       "      <td>0.0</td>\n",
       "      <td>0.0</td>\n",
       "      <td>586.0</td>\n",
       "      <td>0.3</td>\n",
       "      <td>3.0</td>\n",
       "      <td>10.0</td>\n",
       "      <td>15.0</td>\n",
       "      <td>1.0</td>\n",
       "      <td>...</td>\n",
       "      <td>65.958333</td>\n",
       "      <td>18.833333</td>\n",
       "      <td>64.291667</td>\n",
       "      <td>32.291667</td>\n",
       "      <td>5.416667</td>\n",
       "      <td>53.208333</td>\n",
       "      <td>13.675000</td>\n",
       "      <td>2.912500</td>\n",
       "      <td>198.083333</td>\n",
       "      <td>96.666667</td>\n",
       "    </tr>\n",
       "    <tr>\n",
       "      <th>1</th>\n",
       "      <td>2017-05-22</td>\n",
       "      <td>MER</td>\n",
       "      <td>0.0</td>\n",
       "      <td>0.0</td>\n",
       "      <td>590.0</td>\n",
       "      <td>0.1</td>\n",
       "      <td>0.0</td>\n",
       "      <td>5.0</td>\n",
       "      <td>5.0</td>\n",
       "      <td>3.0</td>\n",
       "      <td>...</td>\n",
       "      <td>36.608696</td>\n",
       "      <td>12.782609</td>\n",
       "      <td>7.260870</td>\n",
       "      <td>14.434783</td>\n",
       "      <td>2.130435</td>\n",
       "      <td>61.086957</td>\n",
       "      <td>11.504348</td>\n",
       "      <td>3.965217</td>\n",
       "      <td>323.434783</td>\n",
       "      <td>21.869565</td>\n",
       "    </tr>\n",
       "    <tr>\n",
       "      <th>2</th>\n",
       "      <td>2017-05-29</td>\n",
       "      <td>MER</td>\n",
       "      <td>0.0</td>\n",
       "      <td>0.0</td>\n",
       "      <td>587.0</td>\n",
       "      <td>0.3</td>\n",
       "      <td>3.0</td>\n",
       "      <td>19.0</td>\n",
       "      <td>22.0</td>\n",
       "      <td>1.0</td>\n",
       "      <td>...</td>\n",
       "      <td>65.950000</td>\n",
       "      <td>15.200000</td>\n",
       "      <td>21.050000</td>\n",
       "      <td>28.750000</td>\n",
       "      <td>7.200000</td>\n",
       "      <td>53.800000</td>\n",
       "      <td>11.470000</td>\n",
       "      <td>2.200000</td>\n",
       "      <td>271.200000</td>\n",
       "      <td>49.800000</td>\n",
       "    </tr>\n",
       "    <tr>\n",
       "      <th>3</th>\n",
       "      <td>2017-06-05</td>\n",
       "      <td>MER</td>\n",
       "      <td>0.0</td>\n",
       "      <td>0.0</td>\n",
       "      <td>585.0</td>\n",
       "      <td>0.4</td>\n",
       "      <td>7.0</td>\n",
       "      <td>28.0</td>\n",
       "      <td>43.0</td>\n",
       "      <td>1.0</td>\n",
       "      <td>...</td>\n",
       "      <td>94.750000</td>\n",
       "      <td>17.208333</td>\n",
       "      <td>35.166667</td>\n",
       "      <td>35.875000</td>\n",
       "      <td>16.166667</td>\n",
       "      <td>52.250000</td>\n",
       "      <td>12.808333</td>\n",
       "      <td>1.833333</td>\n",
       "      <td>138.000000</td>\n",
       "      <td>70.875000</td>\n",
       "    </tr>\n",
       "    <tr>\n",
       "      <th>4</th>\n",
       "      <td>2017-06-19</td>\n",
       "      <td>MER</td>\n",
       "      <td>0.0</td>\n",
       "      <td>0.0</td>\n",
       "      <td>584.0</td>\n",
       "      <td>0.4</td>\n",
       "      <td>10.0</td>\n",
       "      <td>33.0</td>\n",
       "      <td>50.0</td>\n",
       "      <td>1.0</td>\n",
       "      <td>...</td>\n",
       "      <td>92.458333</td>\n",
       "      <td>16.916667</td>\n",
       "      <td>26.625000</td>\n",
       "      <td>34.000000</td>\n",
       "      <td>14.416667</td>\n",
       "      <td>43.416667</td>\n",
       "      <td>13.683333</td>\n",
       "      <td>2.012500</td>\n",
       "      <td>141.458333</td>\n",
       "      <td>60.541667</td>\n",
       "    </tr>\n",
       "  </tbody>\n",
       "</table>\n",
       "<p>5 rows × 50 columns</p>\n",
       "</div>"
      ],
      "text/plain": [
       "       fecha id_station  UVA_x  UVB_x   PA_x  CO_x  NO_x  NO2_x  NOX_x  O3_x  \\\n",
       "0 2017-05-15        MER    0.0    0.0  586.0   0.3   3.0   10.0   15.0   1.0   \n",
       "1 2017-05-22        MER    0.0    0.0  590.0   0.1   0.0    5.0    5.0   3.0   \n",
       "2 2017-05-29        MER    0.0    0.0  587.0   0.3   3.0   19.0   22.0   1.0   \n",
       "3 2017-06-05        MER    0.0    0.0  585.0   0.4   7.0   28.0   43.0   1.0   \n",
       "4 2017-06-19        MER    0.0    0.0  584.0   0.4  10.0   33.0   50.0   1.0   \n",
       "\n",
       "     ...            NOX         O3      PM2.5       PMCO        SO2  \\\n",
       "0    ...      65.958333  18.833333  64.291667  32.291667   5.416667   \n",
       "1    ...      36.608696  12.782609   7.260870  14.434783   2.130435   \n",
       "2    ...      65.950000  15.200000  21.050000  28.750000   7.200000   \n",
       "3    ...      94.750000  17.208333  35.166667  35.875000  16.166667   \n",
       "4    ...      92.458333  16.916667  26.625000  34.000000  14.416667   \n",
       "\n",
       "          RH        TMP       WSP         WDR       PM10  \n",
       "0  53.208333  13.675000  2.912500  198.083333  96.666667  \n",
       "1  61.086957  11.504348  3.965217  323.434783  21.869565  \n",
       "2  53.800000  11.470000  2.200000  271.200000  49.800000  \n",
       "3  52.250000  12.808333  1.833333  138.000000  70.875000  \n",
       "4  43.416667  13.683333  2.012500  141.458333  60.541667  \n",
       "\n",
       "[5 rows x 50 columns]"
      ]
     },
     "execution_count": 384,
     "metadata": {},
     "output_type": "execute_result"
    }
   ],
   "source": [
    "data_day.head()"
   ]
  },
  {
   "cell_type": "markdown",
   "metadata": {},
   "source": [
    "## Añadimos Precipitación que solo esta en días:"
   ]
  },
  {
   "cell_type": "code",
   "execution_count": 467,
   "metadata": {},
   "outputs": [],
   "source": [
    "prec_2017 = pd.read_excel('/home/paw/DanielBustillos/datasets/precipitacion/2017PPH.xls')\n",
    "prec_2016 = pd.read_excel('/home/paw/DanielBustillos/datasets/precipitacion/2016PPH.xls')\n",
    "prec_2015 = pd.read_excel('/home/paw/DanielBustillos/datasets/precipitacion/2015PPH.xls')\n",
    "prec_2014 = pd.read_excel('/home/paw/DanielBustillos/datasets/precipitacion/2014PPH.xls')\n",
    "prec_2013 = pd.read_excel('/home/paw/DanielBustillos/datasets/precipitacion/2013PPH.xls')\n",
    "prec_2012 = pd.read_excel('/home/paw/DanielBustillos/datasets/precipitacion/2012PPH.xls')"
   ]
  },
  {
   "cell_type": "code",
   "execution_count": 386,
   "metadata": {},
   "outputs": [],
   "source": [
    "prec_2017 = prec_2017.append(prec_2016, ignore_index=True)\n",
    "prec_2017 = prec_2017.append(prec_2015, ignore_index=True)\n",
    "prec_2017 = prec_2017.append(prec_2014, ignore_index=True)\n",
    "prec_2017 = prec_2017.append(prec_2013, ignore_index=True)\n",
    "prec_2017 = prec_2017.append(prec_2012, ignore_index=True)"
   ]
  },
  {
   "cell_type": "code",
   "execution_count": 387,
   "metadata": {},
   "outputs": [],
   "source": [
    "prec = prec_2017.where(prec_2017.LOM != -99.00) #Los valores vacíos vienen como -99, vamos a eliminarlos:\n",
    "prec = prec.dropna()"
   ]
  },
  {
   "cell_type": "code",
   "execution_count": 388,
   "metadata": {},
   "outputs": [],
   "source": [
    "prec = prec.rename(columns={'FECHA': 'fecha'}) #Renombramos algunas columnas:"
   ]
  },
  {
   "cell_type": "markdown",
   "metadata": {},
   "source": [
    "Transponemos el df:"
   ]
  },
  {
   "cell_type": "code",
   "execution_count": 389,
   "metadata": {},
   "outputs": [],
   "source": [
    "prec = pd.melt(prec, id_vars=[\"fecha\"], \n",
    "                   var_name=\"id_station\",value_name=\"Precip\")"
   ]
  },
  {
   "cell_type": "code",
   "execution_count": 390,
   "metadata": {},
   "outputs": [],
   "source": [
    "prec['fecha'] =  pd.to_datetime(prec['fecha'], format='%Y-%m-%d')"
   ]
  },
  {
   "cell_type": "code",
   "execution_count": 391,
   "metadata": {},
   "outputs": [
    {
     "data": {
      "text/html": [
       "<div>\n",
       "<style scoped>\n",
       "    .dataframe tbody tr th:only-of-type {\n",
       "        vertical-align: middle;\n",
       "    }\n",
       "\n",
       "    .dataframe tbody tr th {\n",
       "        vertical-align: top;\n",
       "    }\n",
       "\n",
       "    .dataframe thead th {\n",
       "        text-align: right;\n",
       "    }\n",
       "</style>\n",
       "<table border=\"1\" class=\"dataframe\">\n",
       "  <thead>\n",
       "    <tr style=\"text-align: right;\">\n",
       "      <th></th>\n",
       "      <th>fecha</th>\n",
       "      <th>id_station</th>\n",
       "      <th>Precip</th>\n",
       "    </tr>\n",
       "  </thead>\n",
       "  <tbody>\n",
       "    <tr>\n",
       "      <th>0</th>\n",
       "      <td>2017-05-15</td>\n",
       "      <td>LOM</td>\n",
       "      <td>0.69</td>\n",
       "    </tr>\n",
       "    <tr>\n",
       "      <th>1</th>\n",
       "      <td>2017-05-22</td>\n",
       "      <td>LOM</td>\n",
       "      <td>5.68</td>\n",
       "    </tr>\n",
       "    <tr>\n",
       "      <th>2</th>\n",
       "      <td>2017-05-29</td>\n",
       "      <td>LOM</td>\n",
       "      <td>56.03</td>\n",
       "    </tr>\n",
       "    <tr>\n",
       "      <th>3</th>\n",
       "      <td>2017-06-05</td>\n",
       "      <td>LOM</td>\n",
       "      <td>71.23</td>\n",
       "    </tr>\n",
       "    <tr>\n",
       "      <th>4</th>\n",
       "      <td>2017-06-19</td>\n",
       "      <td>LOM</td>\n",
       "      <td>66.31</td>\n",
       "    </tr>\n",
       "  </tbody>\n",
       "</table>\n",
       "</div>"
      ],
      "text/plain": [
       "       fecha id_station  Precip\n",
       "0 2017-05-15        LOM    0.69\n",
       "1 2017-05-22        LOM    5.68\n",
       "2 2017-05-29        LOM   56.03\n",
       "3 2017-06-05        LOM   71.23\n",
       "4 2017-06-19        LOM   66.31"
      ]
     },
     "execution_count": 391,
     "metadata": {},
     "output_type": "execute_result"
    }
   ],
   "source": [
    "prec.head()"
   ]
  },
  {
   "cell_type": "markdown",
   "metadata": {},
   "source": [
    "## Lo unimos con el archivo ya generado:"
   ]
  },
  {
   "cell_type": "code",
   "execution_count": 423,
   "metadata": {},
   "outputs": [],
   "source": [
    "data_day[\"fecha\"] =  pd.to_datetime(data_day[\"fecha\"], format='%Y-%m-%d')"
   ]
  },
  {
   "cell_type": "code",
   "execution_count": 424,
   "metadata": {},
   "outputs": [],
   "source": [
    "data_day_avg = pd.merge(data_day, prec, on=[\"fecha\",\"id_station\"],  how='left')"
   ]
  },
  {
   "cell_type": "code",
   "execution_count": 425,
   "metadata": {},
   "outputs": [],
   "source": [
    "data_day_avg = data_day_avg.fillna(0)"
   ]
  },
  {
   "cell_type": "code",
   "execution_count": 426,
   "metadata": {},
   "outputs": [],
   "source": [
    "data_day_avg.drop([\"fecha\",\"id_station\"],axis=1,inplace=True)"
   ]
  },
  {
   "cell_type": "code",
   "execution_count": 427,
   "metadata": {},
   "outputs": [
    {
     "data": {
      "text/html": [
       "<div>\n",
       "<style scoped>\n",
       "    .dataframe tbody tr th:only-of-type {\n",
       "        vertical-align: middle;\n",
       "    }\n",
       "\n",
       "    .dataframe tbody tr th {\n",
       "        vertical-align: top;\n",
       "    }\n",
       "\n",
       "    .dataframe thead th {\n",
       "        text-align: right;\n",
       "    }\n",
       "</style>\n",
       "<table border=\"1\" class=\"dataframe\">\n",
       "  <thead>\n",
       "    <tr style=\"text-align: right;\">\n",
       "      <th></th>\n",
       "      <th>UVA_x</th>\n",
       "      <th>UVB_x</th>\n",
       "      <th>PA_x</th>\n",
       "      <th>CO_x</th>\n",
       "      <th>NO_x</th>\n",
       "      <th>NO2_x</th>\n",
       "      <th>NOX_x</th>\n",
       "      <th>O3_x</th>\n",
       "      <th>PM2.5_x</th>\n",
       "      <th>PMCO_x</th>\n",
       "      <th>...</th>\n",
       "      <th>O3</th>\n",
       "      <th>PM2.5</th>\n",
       "      <th>PMCO</th>\n",
       "      <th>SO2</th>\n",
       "      <th>RH</th>\n",
       "      <th>TMP</th>\n",
       "      <th>WSP</th>\n",
       "      <th>WDR</th>\n",
       "      <th>PM10</th>\n",
       "      <th>Precip</th>\n",
       "    </tr>\n",
       "  </thead>\n",
       "  <tbody>\n",
       "    <tr>\n",
       "      <th>0</th>\n",
       "      <td>0.0</td>\n",
       "      <td>0.0</td>\n",
       "      <td>586.0</td>\n",
       "      <td>0.3</td>\n",
       "      <td>3.0</td>\n",
       "      <td>10.0</td>\n",
       "      <td>15.0</td>\n",
       "      <td>1.0</td>\n",
       "      <td>5.0</td>\n",
       "      <td>7.0</td>\n",
       "      <td>...</td>\n",
       "      <td>18.833333</td>\n",
       "      <td>64.291667</td>\n",
       "      <td>32.291667</td>\n",
       "      <td>5.416667</td>\n",
       "      <td>53.208333</td>\n",
       "      <td>13.675000</td>\n",
       "      <td>2.912500</td>\n",
       "      <td>198.083333</td>\n",
       "      <td>96.666667</td>\n",
       "      <td>0.0</td>\n",
       "    </tr>\n",
       "    <tr>\n",
       "      <th>1</th>\n",
       "      <td>0.0</td>\n",
       "      <td>0.0</td>\n",
       "      <td>590.0</td>\n",
       "      <td>0.1</td>\n",
       "      <td>0.0</td>\n",
       "      <td>5.0</td>\n",
       "      <td>5.0</td>\n",
       "      <td>3.0</td>\n",
       "      <td>2.0</td>\n",
       "      <td>2.0</td>\n",
       "      <td>...</td>\n",
       "      <td>12.782609</td>\n",
       "      <td>7.260870</td>\n",
       "      <td>14.434783</td>\n",
       "      <td>2.130435</td>\n",
       "      <td>61.086957</td>\n",
       "      <td>11.504348</td>\n",
       "      <td>3.965217</td>\n",
       "      <td>323.434783</td>\n",
       "      <td>21.869565</td>\n",
       "      <td>0.0</td>\n",
       "    </tr>\n",
       "    <tr>\n",
       "      <th>2</th>\n",
       "      <td>0.0</td>\n",
       "      <td>0.0</td>\n",
       "      <td>587.0</td>\n",
       "      <td>0.3</td>\n",
       "      <td>3.0</td>\n",
       "      <td>19.0</td>\n",
       "      <td>22.0</td>\n",
       "      <td>1.0</td>\n",
       "      <td>8.0</td>\n",
       "      <td>8.0</td>\n",
       "      <td>...</td>\n",
       "      <td>15.200000</td>\n",
       "      <td>21.050000</td>\n",
       "      <td>28.750000</td>\n",
       "      <td>7.200000</td>\n",
       "      <td>53.800000</td>\n",
       "      <td>11.470000</td>\n",
       "      <td>2.200000</td>\n",
       "      <td>271.200000</td>\n",
       "      <td>49.800000</td>\n",
       "      <td>0.0</td>\n",
       "    </tr>\n",
       "    <tr>\n",
       "      <th>3</th>\n",
       "      <td>0.0</td>\n",
       "      <td>0.0</td>\n",
       "      <td>585.0</td>\n",
       "      <td>0.4</td>\n",
       "      <td>7.0</td>\n",
       "      <td>28.0</td>\n",
       "      <td>43.0</td>\n",
       "      <td>1.0</td>\n",
       "      <td>17.0</td>\n",
       "      <td>17.0</td>\n",
       "      <td>...</td>\n",
       "      <td>17.208333</td>\n",
       "      <td>35.166667</td>\n",
       "      <td>35.875000</td>\n",
       "      <td>16.166667</td>\n",
       "      <td>52.250000</td>\n",
       "      <td>12.808333</td>\n",
       "      <td>1.833333</td>\n",
       "      <td>138.000000</td>\n",
       "      <td>70.875000</td>\n",
       "      <td>0.0</td>\n",
       "    </tr>\n",
       "    <tr>\n",
       "      <th>4</th>\n",
       "      <td>0.0</td>\n",
       "      <td>0.0</td>\n",
       "      <td>584.0</td>\n",
       "      <td>0.4</td>\n",
       "      <td>10.0</td>\n",
       "      <td>33.0</td>\n",
       "      <td>50.0</td>\n",
       "      <td>1.0</td>\n",
       "      <td>15.0</td>\n",
       "      <td>20.0</td>\n",
       "      <td>...</td>\n",
       "      <td>16.916667</td>\n",
       "      <td>26.625000</td>\n",
       "      <td>34.000000</td>\n",
       "      <td>14.416667</td>\n",
       "      <td>43.416667</td>\n",
       "      <td>13.683333</td>\n",
       "      <td>2.012500</td>\n",
       "      <td>141.458333</td>\n",
       "      <td>60.541667</td>\n",
       "      <td>0.0</td>\n",
       "    </tr>\n",
       "  </tbody>\n",
       "</table>\n",
       "<p>5 rows × 49 columns</p>\n",
       "</div>"
      ],
      "text/plain": [
       "   UVA_x  UVB_x   PA_x  CO_x  NO_x  NO2_x  NOX_x  O3_x  PM2.5_x  PMCO_x  \\\n",
       "0    0.0    0.0  586.0   0.3   3.0   10.0   15.0   1.0      5.0     7.0   \n",
       "1    0.0    0.0  590.0   0.1   0.0    5.0    5.0   3.0      2.0     2.0   \n",
       "2    0.0    0.0  587.0   0.3   3.0   19.0   22.0   1.0      8.0     8.0   \n",
       "3    0.0    0.0  585.0   0.4   7.0   28.0   43.0   1.0     17.0    17.0   \n",
       "4    0.0    0.0  584.0   0.4  10.0   33.0   50.0   1.0     15.0    20.0   \n",
       "\n",
       "    ...           O3      PM2.5       PMCO        SO2         RH        TMP  \\\n",
       "0   ...    18.833333  64.291667  32.291667   5.416667  53.208333  13.675000   \n",
       "1   ...    12.782609   7.260870  14.434783   2.130435  61.086957  11.504348   \n",
       "2   ...    15.200000  21.050000  28.750000   7.200000  53.800000  11.470000   \n",
       "3   ...    17.208333  35.166667  35.875000  16.166667  52.250000  12.808333   \n",
       "4   ...    16.916667  26.625000  34.000000  14.416667  43.416667  13.683333   \n",
       "\n",
       "        WSP         WDR       PM10  Precip  \n",
       "0  2.912500  198.083333  96.666667     0.0  \n",
       "1  3.965217  323.434783  21.869565     0.0  \n",
       "2  2.200000  271.200000  49.800000     0.0  \n",
       "3  1.833333  138.000000  70.875000     0.0  \n",
       "4  2.012500  141.458333  60.541667     0.0  \n",
       "\n",
       "[5 rows x 49 columns]"
      ]
     },
     "execution_count": 427,
     "metadata": {},
     "output_type": "execute_result"
    }
   ],
   "source": [
    "data_day_avg.head()"
   ]
  },
  {
   "cell_type": "markdown",
   "metadata": {},
   "source": [
    "### Definamos el Timeshift"
   ]
  },
  {
   "cell_type": "code",
   "execution_count": 428,
   "metadata": {},
   "outputs": [],
   "source": [
    "del data_hour_merge_24"
   ]
  },
  {
   "cell_type": "code",
   "execution_count": 429,
   "metadata": {},
   "outputs": [],
   "source": [
    "data_hour_merge_24 = data_day_avg"
   ]
  },
  {
   "cell_type": "raw",
   "metadata": {},
   "source": [
    "data_hour_merge_24 = data_day_avg[data_day_avg.PM10_y<350]"
   ]
  },
  {
   "cell_type": "code",
   "execution_count": 430,
   "metadata": {},
   "outputs": [],
   "source": [
    "data_hour_merge_24[\"PM10_frcst\"] = data_hour_merge_24.O3_y.shift(1)\n",
    "data_hour_merge_24[\"PM10_frcst_1\"] = data_hour_merge_24.O3_y.shift(-1)\n",
    "data_hour_merge_24[\"PM10_frcst_2\"] = data_hour_merge_24.O3_y.shift(-2)\n",
    "data_hour_merge_24[\"PM10_frcst_3\"] = data_hour_merge_24.O3_y.shift(-3)\n",
    "\n",
    "\n",
    "data_hour_merge_24[\"PM10_1_a\"] = data_hour_merge_24.PM10.shift(-1)\n",
    "data_hour_merge_24[\"PM10_2_a\"] = data_hour_merge_24.PM10.shift(-2)\n",
    "data_hour_merge_24[\"PM10_3_a\"] = data_hour_merge_24.PM10.shift(-3)\n",
    "data_hour_merge_24[\"PM10_4_a\"] = data_hour_merge_24.PM10.shift(-4)\n",
    "\n",
    "data_hour_merge_24[\"PM10_2_y\"] = data_hour_merge_24.PM10_y.shift(-2)\n",
    "data_hour_merge_24[\"PM10_3_y\"] = data_hour_merge_24.PM10_y.shift(-3)\n",
    "data_hour_merge_24[\"PM10_4_y\"] = data_hour_merge_24.PM10_y.shift(-4)\n",
    "\n",
    "data_hour_merge_24[\"PM10_1_x\"] = data_hour_merge_24.PM10_x.shift(1)\n",
    "data_hour_merge_24[\"PM10_2_x\"] = data_hour_merge_24.PM10_x.shift(2)\n",
    "data_hour_merge_24[\"PM10_3_x\"] = data_hour_merge_24.PM10_x.shift(3)\n",
    "data_hour_merge_24[\"PM10_3_x\"] = data_hour_merge_24.PM10_x.shift(3)\n",
    "data_hour_merge_24[\"PM10_4_x\"] = data_hour_merge_24.PM10_x.shift(4)\n",
    "\n",
    "data_hour_merge_24[\"temp_24\"] = data_hour_merge_24.TMP.shift(-1)\n",
    "data_hour_merge_24[\"pre_24\"] = data_hour_merge_24.PA.shift(-1)\n",
    "data_hour_merge_24[\"RH_24\"] = data_hour_merge_24.RH_y.shift(-1)\n",
    "data_hour_merge_24[\"RH_24_2\"] = data_hour_merge_24.RH_y.shift(-2)\n",
    "\n",
    "data_hour_merge_24[\"RH_24\"] = data_hour_merge_24.RH_y.shift(-1)\n",
    "data_hour_merge_24[\"RH_24_2\"] = data_hour_merge_24.RH_y.shift(-2)\n",
    "\n",
    "data_hour_merge_24[\"UVB_x_1\"] = data_hour_merge_24.UVB_x.shift(-1)\n",
    "data_hour_merge_24[\"UVB_x_2\"] = data_hour_merge_24.UVB_x.shift(-2)\n",
    "data_hour_merge_24[\"UVB_y_1\"] = data_hour_merge_24.UVB_y.shift(-1)\n",
    "data_hour_merge_24[\"UVB_y_2\"] = data_hour_merge_24.UVB_y.shift(-2)\n",
    "\n",
    "#data_MGH_18 = data_MGH_18.iloc[:,:-6]"
   ]
  },
  {
   "cell_type": "code",
   "execution_count": 431,
   "metadata": {},
   "outputs": [],
   "source": [
    "#data_hour_merge_24.drop([\"fecha\",\"id_station\"],axis=1,inplace=True)"
   ]
  },
  {
   "cell_type": "code",
   "execution_count": 432,
   "metadata": {},
   "outputs": [],
   "source": [
    "data_hour_merge_24 = data_hour_merge_24.dropna(how='any')"
   ]
  },
  {
   "cell_type": "raw",
   "metadata": {},
   "source": [
    "data_hour_merge_24['dia'] = data_hour_merge_24['dia'].astype(str).astype(float)\n",
    "data_hour_merge_24['mes'] = data_hour_merge_24['mes'].astype(str).astype(float)"
   ]
  },
  {
   "cell_type": "markdown",
   "metadata": {},
   "source": [
    "## Visualizaciones    <a class=\"anchor\" id=\"viz-bullet\"></a>"
   ]
  },
  {
   "cell_type": "raw",
   "metadata": {},
   "source": [
    ">>> import seaborn as sns; sns.set()\n",
    ">>> import matplotlib.pyplot as plt\n",
    ">>> fmri = sns.load_dataset(\"fmri\")\n",
    ">>> ax = sns.lineplot(x=\"fecha\", y=\"PM10_24\", data=data_hour_merge_24[data_hour_merge_24.fecha > \"2018-01-01\"])"
   ]
  },
  {
   "cell_type": "raw",
   "metadata": {},
   "source": [
    "## PM10"
   ]
  },
  {
   "cell_type": "raw",
   "metadata": {},
   "source": [
    "# O3"
   ]
  },
  {
   "cell_type": "raw",
   "metadata": {},
   "source": [
    "with sns.axes_style('white'):\n",
    "    sns.jointplot(\"hora\", \"O3\", data_18);"
   ]
  },
  {
   "cell_type": "raw",
   "metadata": {},
   "source": [
    "with sns.axes_style('white'):\n",
    "    sns.jointplot(\"dia\", \"O3\", data_18);\n",
    "    plt.savefig('/Users/danielbustillos/Desktop/dia-o3.png', dpi=400,background=\"white\")"
   ]
  },
  {
   "cell_type": "raw",
   "metadata": {},
   "source": [
    "with sns.axes_style('white'):\n",
    "    sns.jointplot(\"mes\", \"O3\", data_18);\n",
    "    plt.savefig('/Users/danielbustillos/Desktop/mes-o3.png', dpi=400,background=\"white\")"
   ]
  },
  {
   "cell_type": "raw",
   "metadata": {},
   "source": [
    "g = sns.PairGrid(data_18, vars=['CO', 'NO', 'NO2', 'NOX', 'O3', 'PM10'], dropna=True)\n",
    "g.map_diag(plt.hist)\n",
    "g.map_offdiag(plt.scatter);"
   ]
  },
  {
   "cell_type": "raw",
   "metadata": {},
   "source": [
    "g = sns.PairGrid(data_18, vars=['PM2.5', 'PMCO', 'SO2','TMP', 'WSP', 'PM10'], dropna=True)\n",
    "g.map_diag(plt.hist)\n",
    "g.map_offdiag(plt.scatter);"
   ]
  },
  {
   "cell_type": "raw",
   "metadata": {},
   "source": [
    "g = sns.PairGrid(data_18, vars=['mes', 'hora',\"dia\",'CO', 'NO', 'NO2', 'NOX', 'O3', 'PM2.5', 'PMCO', 'SO2','TMP', 'WSP', 'PM10'], dropna=True)\n",
    "g.map_diag(plt.hist)\n",
    "g.map_offdiag(plt.scatter);"
   ]
  },
  {
   "cell_type": "raw",
   "metadata": {},
   "source": [
    "## Detalle"
   ]
  },
  {
   "cell_type": "raw",
   "metadata": {},
   "source": [
    "g = sns.PairGrid(data_18, vars=['RH',\n",
    "       'TMP', 'WSP', 'PM10'], dropna=True)\n",
    "g.map_diag(plt.hist)\n",
    "g.map_offdiag(plt.scatter);"
   ]
  },
  {
   "cell_type": "markdown",
   "metadata": {},
   "source": [
    "# Modelos de Machine Learning y Neural Networks"
   ]
  },
  {
   "cell_type": "markdown",
   "metadata": {},
   "source": [
    "### Definimos los conjuntos Train and Test<a class=\"anchor\" id=\"5-bullet\"></a>"
   ]
  },
  {
   "cell_type": "code",
   "execution_count": 433,
   "metadata": {},
   "outputs": [],
   "source": [
    "X = data_hour_merge_24.loc[:, data_hour_merge_24.columns != 'PM10_frcst']\n",
    "y = data_hour_merge_24[\"PM10_frcst\"]\n",
    "X_train, X_test, y_train, y_test = train_test_split(X, y, test_size=0.25, random_state=123)"
   ]
  },
  {
   "cell_type": "markdown",
   "metadata": {},
   "source": [
    "## Linear"
   ]
  },
  {
   "cell_type": "code",
   "execution_count": 434,
   "metadata": {},
   "outputs": [],
   "source": [
    "from sklearn.linear_model import LinearRegression\n",
    "from sklearn.metrics import mean_squared_error, mean_absolute_error, r2_score\n",
    "\n",
    "# Create linear regression object\n",
    "regr = LinearRegression()"
   ]
  },
  {
   "cell_type": "code",
   "execution_count": 435,
   "metadata": {},
   "outputs": [
    {
     "data": {
      "text/plain": [
       "LinearRegression(copy_X=True, fit_intercept=True, n_jobs=1, normalize=False)"
      ]
     },
     "execution_count": 435,
     "metadata": {},
     "output_type": "execute_result"
    }
   ],
   "source": [
    "# Train the model using the training sets\n",
    "regr.fit(X_train, y_train)"
   ]
  },
  {
   "cell_type": "code",
   "execution_count": 436,
   "metadata": {},
   "outputs": [],
   "source": [
    "# Make predictions using the testing set\n",
    "lin_pred = regr.predict(X_test)"
   ]
  },
  {
   "cell_type": "code",
   "execution_count": 437,
   "metadata": {},
   "outputs": [
    {
     "data": {
      "image/png": "[encoded data removed]",
      "text/plain": [
       "<Figure size 432x288 with 1 Axes>"
      ]
     },
     "metadata": {},
     "output_type": "display_data"
    }
   ],
   "source": [
    "plt.scatter(y_test, lin_pred)\n",
    "plt.xlabel('Measured')\n",
    "plt.ylabel('Predicted')\n",
    "plt.title('Linear Regression Predicted vs Actual')\n",
    "plt.show()"
   ]
  },
  {
   "cell_type": "code",
   "execution_count": 439,
   "metadata": {},
   "outputs": [
    {
     "data": {
      "text/plain": [
       "0.30762134515688755"
      ]
     },
     "execution_count": 439,
     "metadata": {},
     "output_type": "execute_result"
    }
   ],
   "source": [
    "regr.score(X_test, y_test)"
   ]
  },
  {
   "cell_type": "markdown",
   "metadata": {},
   "source": [
    "## Neural Network Regression"
   ]
  },
  {
   "cell_type": "code",
   "execution_count": 440,
   "metadata": {},
   "outputs": [
    {
     "data": {
      "text/plain": [
       "MLPRegressor(activation='relu', alpha=900.001, batch_size='auto', beta_1=0.9,\n",
       "       beta_2=0.999, early_stopping=False, epsilon=0.1,\n",
       "       hidden_layer_sizes=(100,), learning_rate='constant',\n",
       "       learning_rate_init=0.001, max_iter=1000, momentum=0.9,\n",
       "       nesterovs_momentum=True, power_t=301, random_state=None,\n",
       "       shuffle=True, solver='adam', tol=0.0001, validation_fraction=0.1,\n",
       "       verbose=False, warm_start=False)"
      ]
     },
     "execution_count": 440,
     "metadata": {},
     "output_type": "execute_result"
    }
   ],
   "source": [
    "from sklearn.neural_network import MLPRegressor\n",
    "from sklearn.metrics import mean_squared_error, mean_absolute_error, r2_score\n",
    "\n",
    "# Create MLPRegressor object\n",
    "mlp = MLPRegressor( alpha=900.001, max_iter=1000,power_t=301, epsilon=.100 ,tol=.0001)\n",
    "# Train the model using the training sets\n",
    "mlp.fit(X_train, y_train)"
   ]
  },
  {
   "cell_type": "code",
   "execution_count": 441,
   "metadata": {},
   "outputs": [
    {
     "data": {
      "image/png": "[encoded data removed]",
      "text/plain": [
       "<Figure size 432x288 with 1 Axes>"
      ]
     },
     "metadata": {},
     "output_type": "display_data"
    }
   ],
   "source": [
    "# Score the model\n",
    "neural_network_regression_score = mlp.score(X_test, y_test)\n",
    "neural_network_regression_score\n",
    "# Make predictions using the testing set\n",
    "nnr_pred = mlp.predict(X_test)\n",
    "# The mean squared error\n",
    "\n",
    "plt.scatter(y_test, nnr_pred)\n",
    "plt.xlabel('Measured')\n",
    "plt.ylabel('Predicted')\n",
    "plt.title('Neural Network Regression Predicted vs Actual')\n",
    "plt.show()"
   ]
  },
  {
   "cell_type": "code",
   "execution_count": 442,
   "metadata": {},
   "outputs": [
    {
     "data": {
      "text/plain": [
       "0.3784161022899929"
      ]
     },
     "execution_count": 442,
     "metadata": {},
     "output_type": "execute_result"
    }
   ],
   "source": [
    "xgb_score = mlp.score(X_test, y_test)\n",
    "xgb_score"
   ]
  },
  {
   "cell_type": "markdown",
   "metadata": {},
   "source": [
    "# XGBoost"
   ]
  },
  {
   "cell_type": "code",
   "execution_count": 713,
   "metadata": {},
   "outputs": [],
   "source": [
    "from xgboost.sklearn import XGBRegressor\n",
    "\n",
    "#Fitting XGB regressor \n",
    "xboost = XGBRegressor(learning_rate = .0015, n_estimators=3000, max_depth=10)"
   ]
  },
  {
   "cell_type": "code",
   "execution_count": 714,
   "metadata": {},
   "outputs": [
    {
     "name": "stderr",
     "output_type": "stream",
     "text": [
      "/Users/danielbustillos/anaconda3/lib/python3.7/site-packages/xgboost/core.py:587: FutureWarning: Series.base is deprecated and will be removed in a future version\n",
      "  if getattr(data, 'base', None) is not None and \\\n"
     ]
    }
   ],
   "source": [
    "xboost.fit(X_train, y_train)\n",
    "xgb_score = xboost.score(X_test, y_test)"
   ]
  },
  {
   "cell_type": "code",
   "execution_count": 715,
   "metadata": {},
   "outputs": [],
   "source": [
    "#Predict \n",
    "xboost_pred = xboost.predict(X_test)"
   ]
  },
  {
   "cell_type": "code",
   "execution_count": 716,
   "metadata": {},
   "outputs": [
    {
     "data": {
      "image/png": "[encoded data removed]",
      "text/plain": [
       "<Figure size 432x288 with 1 Axes>"
      ]
     },
     "metadata": {},
     "output_type": "display_data"
    }
   ],
   "source": [
    "plt.scatter(y_test, xboost_pred)\n",
    "plt.xlabel('Measured')\n",
    "plt.ylabel('Predicted')\n",
    "plt.title('XGBoost Predicted vs Actual')\n",
    "plt.show()"
   ]
  },
  {
   "cell_type": "code",
   "execution_count": 718,
   "metadata": {},
   "outputs": [
    {
     "data": {
      "text/plain": [
       "0.8316144628527152"
      ]
     },
     "execution_count": 718,
     "metadata": {},
     "output_type": "execute_result"
    }
   ],
   "source": [
    "xgb_score = xboost.score(X_test, y_test)\n",
    "xgb_score"
   ]
  },
  {
   "cell_type": "markdown",
   "metadata": {},
   "source": [
    "## Decission Tree"
   ]
  },
  {
   "cell_type": "code",
   "execution_count": 719,
   "metadata": {},
   "outputs": [],
   "source": [
    "from sklearn.datasets import load_boston\n",
    "from sklearn.model_selection import cross_val_score\n",
    "from sklearn.tree import DecisionTreeRegressor\n",
    "regressor = DecisionTreeRegressor(random_state=10,max_depth=3000)"
   ]
  },
  {
   "cell_type": "code",
   "execution_count": 720,
   "metadata": {},
   "outputs": [
    {
     "data": {
      "text/plain": [
       "DecisionTreeRegressor(criterion='mse', max_depth=3000, max_features=None,\n",
       "           max_leaf_nodes=None, min_impurity_decrease=0.0,\n",
       "           min_impurity_split=None, min_samples_leaf=1,\n",
       "           min_samples_split=2, min_weight_fraction_leaf=0.0,\n",
       "           presort=False, random_state=10, splitter='best')"
      ]
     },
     "execution_count": 720,
     "metadata": {},
     "output_type": "execute_result"
    }
   ],
   "source": [
    "regressor.fit(X_train, y_train)"
   ]
  },
  {
   "cell_type": "code",
   "execution_count": 721,
   "metadata": {},
   "outputs": [],
   "source": [
    "xboost_pred = regressor.predict(X_test)"
   ]
  },
  {
   "cell_type": "code",
   "execution_count": 722,
   "metadata": {},
   "outputs": [
    {
     "data": {
      "image/png": "[encoded data removed]",
      "text/plain": [
       "<Figure size 432x288 with 1 Axes>"
      ]
     },
     "metadata": {},
     "output_type": "display_data"
    }
   ],
   "source": [
    "plt.scatter(y_test, xboost_pred)\n",
    "plt.xlabel('Measured')\n",
    "plt.ylabel('Predicted')\n",
    "plt.title('Decision Predicted vs Actual')\n",
    "plt.show()"
   ]
  },
  {
   "cell_type": "code",
   "execution_count": 723,
   "metadata": {},
   "outputs": [
    {
     "data": {
      "text/plain": [
       "0.5771694344229061"
      ]
     },
     "execution_count": 723,
     "metadata": {},
     "output_type": "execute_result"
    }
   ],
   "source": [
    "regressor.score(X_test, y_test)"
   ]
  },
  {
   "cell_type": "markdown",
   "metadata": {},
   "source": [
    "# ada"
   ]
  },
  {
   "cell_type": "raw",
   "metadata": {},
   "source": [
    "regr_x = AdaBoostRegressor(XGBRegressor(learning_rate = .0015, n_estimators=3000, max_depth=10),n_estimators=300)\n",
    "X = X_train\n",
    "y = y_train\n",
    "regr_x.fit(X, y)"
   ]
  },
  {
   "cell_type": "code",
   "execution_count": null,
   "metadata": {},
   "outputs": [],
   "source": [
    "y_1 = regr_x.predict(X_test)"
   ]
  },
  {
   "cell_type": "code",
   "execution_count": null,
   "metadata": {},
   "outputs": [],
   "source": [
    "plt.scatter(y_test, y_1)\n",
    "plt.tight_layout(1.3)\n",
    "plt.xlabel('PM10: Medido')\n",
    "plt.ylabel('PM10: Pronosticado')\n",
    "plt.title('ADA: Pronosticado vs Medio')\n",
    "plt.savefig('/Users/danielbustillos/Desktop/Pem10.png', dpi=900)\n",
    "plt.show()"
   ]
  },
  {
   "cell_type": "code",
   "execution_count": null,
   "metadata": {},
   "outputs": [],
   "source": [
    "regr_x.score(X_test, y_test)"
   ]
  },
  {
   "cell_type": "markdown",
   "metadata": {},
   "source": [
    "## ADA Booster applied on Decision Tree Regressor"
   ]
  },
  {
   "cell_type": "code",
   "execution_count": 186,
   "metadata": {},
   "outputs": [
    {
     "ename": "KeyboardInterrupt",
     "evalue": "",
     "output_type": "error",
     "traceback": [
      "\u001b[0;31m---------------------------------------------------------------------------\u001b[0m",
      "\u001b[0;31mKeyboardInterrupt\u001b[0m                         Traceback (most recent call last)",
      "\u001b[0;32m<ipython-input-186-0c500956e270>\u001b[0m in \u001b[0;36m<module>\u001b[0;34m()\u001b[0m\n\u001b[1;32m      9\u001b[0m \u001b[0mX\u001b[0m \u001b[0;34m=\u001b[0m \u001b[0mX_train\u001b[0m\u001b[0;34m\u001b[0m\u001b[0m\n\u001b[1;32m     10\u001b[0m \u001b[0my\u001b[0m \u001b[0;34m=\u001b[0m \u001b[0my_train\u001b[0m\u001b[0;34m\u001b[0m\u001b[0m\n\u001b[0;32m---> 11\u001b[0;31m \u001b[0mregr_2\u001b[0m\u001b[0;34m.\u001b[0m\u001b[0mfit\u001b[0m\u001b[0;34m(\u001b[0m\u001b[0mX\u001b[0m\u001b[0;34m,\u001b[0m \u001b[0my\u001b[0m\u001b[0;34m)\u001b[0m\u001b[0;34m\u001b[0m\u001b[0m\n\u001b[0m\u001b[1;32m     12\u001b[0m \u001b[0;34m\u001b[0m\u001b[0m\n\u001b[1;32m     13\u001b[0m \u001b[0;34m\u001b[0m\u001b[0m\n",
      "\u001b[0;32m~/anaconda3/lib/python3.6/site-packages/sklearn/ensemble/weight_boosting.py\u001b[0m in \u001b[0;36mfit\u001b[0;34m(self, X, y, sample_weight)\u001b[0m\n\u001b[1;32m    958\u001b[0m \u001b[0;34m\u001b[0m\u001b[0m\n\u001b[1;32m    959\u001b[0m         \u001b[0;31m# Fit\u001b[0m\u001b[0;34m\u001b[0m\u001b[0;34m\u001b[0m\u001b[0m\n\u001b[0;32m--> 960\u001b[0;31m         \u001b[0;32mreturn\u001b[0m \u001b[0msuper\u001b[0m\u001b[0;34m(\u001b[0m\u001b[0mAdaBoostRegressor\u001b[0m\u001b[0;34m,\u001b[0m \u001b[0mself\u001b[0m\u001b[0;34m)\u001b[0m\u001b[0;34m.\u001b[0m\u001b[0mfit\u001b[0m\u001b[0;34m(\u001b[0m\u001b[0mX\u001b[0m\u001b[0;34m,\u001b[0m \u001b[0my\u001b[0m\u001b[0;34m,\u001b[0m \u001b[0msample_weight\u001b[0m\u001b[0;34m)\u001b[0m\u001b[0;34m\u001b[0m\u001b[0m\n\u001b[0m\u001b[1;32m    961\u001b[0m \u001b[0;34m\u001b[0m\u001b[0m\n\u001b[1;32m    962\u001b[0m     \u001b[0;32mdef\u001b[0m \u001b[0m_validate_estimator\u001b[0m\u001b[0;34m(\u001b[0m\u001b[0mself\u001b[0m\u001b[0;34m)\u001b[0m\u001b[0;34m:\u001b[0m\u001b[0;34m\u001b[0m\u001b[0m\n",
      "\u001b[0;32m~/anaconda3/lib/python3.6/site-packages/sklearn/ensemble/weight_boosting.py\u001b[0m in \u001b[0;36mfit\u001b[0;34m(self, X, y, sample_weight)\u001b[0m\n\u001b[1;32m    143\u001b[0m                 \u001b[0mX\u001b[0m\u001b[0;34m,\u001b[0m \u001b[0my\u001b[0m\u001b[0;34m,\u001b[0m\u001b[0;34m\u001b[0m\u001b[0m\n\u001b[1;32m    144\u001b[0m                 \u001b[0msample_weight\u001b[0m\u001b[0;34m,\u001b[0m\u001b[0;34m\u001b[0m\u001b[0m\n\u001b[0;32m--> 145\u001b[0;31m                 random_state)\n\u001b[0m\u001b[1;32m    146\u001b[0m \u001b[0;34m\u001b[0m\u001b[0m\n\u001b[1;32m    147\u001b[0m             \u001b[0;31m# Early termination\u001b[0m\u001b[0;34m\u001b[0m\u001b[0;34m\u001b[0m\u001b[0m\n",
      "\u001b[0;32m~/anaconda3/lib/python3.6/site-packages/sklearn/ensemble/weight_boosting.py\u001b[0m in \u001b[0;36m_boost\u001b[0;34m(self, iboost, X, y, sample_weight, random_state)\u001b[0m\n\u001b[1;32m   1017\u001b[0m         \u001b[0;31m# Fit on the bootstrapped sample and obtain a prediction\u001b[0m\u001b[0;34m\u001b[0m\u001b[0;34m\u001b[0m\u001b[0m\n\u001b[1;32m   1018\u001b[0m         \u001b[0;31m# for all samples in the training set\u001b[0m\u001b[0;34m\u001b[0m\u001b[0;34m\u001b[0m\u001b[0m\n\u001b[0;32m-> 1019\u001b[0;31m         \u001b[0mestimator\u001b[0m\u001b[0;34m.\u001b[0m\u001b[0mfit\u001b[0m\u001b[0;34m(\u001b[0m\u001b[0mX\u001b[0m\u001b[0;34m[\u001b[0m\u001b[0mbootstrap_idx\u001b[0m\u001b[0;34m]\u001b[0m\u001b[0;34m,\u001b[0m \u001b[0my\u001b[0m\u001b[0;34m[\u001b[0m\u001b[0mbootstrap_idx\u001b[0m\u001b[0;34m]\u001b[0m\u001b[0;34m)\u001b[0m\u001b[0;34m\u001b[0m\u001b[0m\n\u001b[0m\u001b[1;32m   1020\u001b[0m         \u001b[0my_predict\u001b[0m \u001b[0;34m=\u001b[0m \u001b[0mestimator\u001b[0m\u001b[0;34m.\u001b[0m\u001b[0mpredict\u001b[0m\u001b[0;34m(\u001b[0m\u001b[0mX\u001b[0m\u001b[0;34m)\u001b[0m\u001b[0;34m\u001b[0m\u001b[0m\n\u001b[1;32m   1021\u001b[0m \u001b[0;34m\u001b[0m\u001b[0m\n",
      "\u001b[0;32m~/anaconda3/lib/python3.6/site-packages/sklearn/tree/tree.py\u001b[0m in \u001b[0;36mfit\u001b[0;34m(self, X, y, sample_weight, check_input, X_idx_sorted)\u001b[0m\n\u001b[1;32m   1122\u001b[0m             \u001b[0msample_weight\u001b[0m\u001b[0;34m=\u001b[0m\u001b[0msample_weight\u001b[0m\u001b[0;34m,\u001b[0m\u001b[0;34m\u001b[0m\u001b[0m\n\u001b[1;32m   1123\u001b[0m             \u001b[0mcheck_input\u001b[0m\u001b[0;34m=\u001b[0m\u001b[0mcheck_input\u001b[0m\u001b[0;34m,\u001b[0m\u001b[0;34m\u001b[0m\u001b[0m\n\u001b[0;32m-> 1124\u001b[0;31m             X_idx_sorted=X_idx_sorted)\n\u001b[0m\u001b[1;32m   1125\u001b[0m         \u001b[0;32mreturn\u001b[0m \u001b[0mself\u001b[0m\u001b[0;34m\u001b[0m\u001b[0m\n\u001b[1;32m   1126\u001b[0m \u001b[0;34m\u001b[0m\u001b[0m\n",
      "\u001b[0;32m~/anaconda3/lib/python3.6/site-packages/sklearn/tree/tree.py\u001b[0m in \u001b[0;36mfit\u001b[0;34m(self, X, y, sample_weight, check_input, X_idx_sorted)\u001b[0m\n\u001b[1;32m    360\u001b[0m                                            min_impurity_split)\n\u001b[1;32m    361\u001b[0m \u001b[0;34m\u001b[0m\u001b[0m\n\u001b[0;32m--> 362\u001b[0;31m         \u001b[0mbuilder\u001b[0m\u001b[0;34m.\u001b[0m\u001b[0mbuild\u001b[0m\u001b[0;34m(\u001b[0m\u001b[0mself\u001b[0m\u001b[0;34m.\u001b[0m\u001b[0mtree_\u001b[0m\u001b[0;34m,\u001b[0m \u001b[0mX\u001b[0m\u001b[0;34m,\u001b[0m \u001b[0my\u001b[0m\u001b[0;34m,\u001b[0m \u001b[0msample_weight\u001b[0m\u001b[0;34m,\u001b[0m \u001b[0mX_idx_sorted\u001b[0m\u001b[0;34m)\u001b[0m\u001b[0;34m\u001b[0m\u001b[0m\n\u001b[0m\u001b[1;32m    363\u001b[0m \u001b[0;34m\u001b[0m\u001b[0m\n\u001b[1;32m    364\u001b[0m         \u001b[0;32mif\u001b[0m \u001b[0mself\u001b[0m\u001b[0;34m.\u001b[0m\u001b[0mn_outputs_\u001b[0m \u001b[0;34m==\u001b[0m \u001b[0;36m1\u001b[0m\u001b[0;34m:\u001b[0m\u001b[0;34m\u001b[0m\u001b[0m\n",
      "\u001b[0;31mKeyboardInterrupt\u001b[0m: "
     ]
    }
   ],
   "source": [
    "import numpy as np\n",
    "import matplotlib.pyplot as plt\n",
    "from sklearn.tree import DecisionTreeRegressor\n",
    "from sklearn.ensemble import AdaBoostRegressor\n",
    "\n",
    "regr_2 = AdaBoostRegressor(DecisionTreeRegressor(max_depth=40),n_estimators=3000)\n",
    "\n",
    "\n",
    "X = X_train\n",
    "y = y_train\n",
    "regr_2.fit(X, y)\n",
    "\n",
    "\n",
    "y_2 = regr_2.predict(X_test)\n"
   ]
  },
  {
   "cell_type": "code",
   "execution_count": null,
   "metadata": {},
   "outputs": [],
   "source": [
    "plt.scatter(y_test, y_2)\n",
    "plt.tight_layout(1.3)\n",
    "plt.xlabel('PM10: Medido')\n",
    "plt.ylabel('PM10: Pronosticado')\n",
    "plt.title('ADA: Pronosticado vs Medio')\n",
    "plt.savefig('/Users/danielbustillos/Desktop/Pem10.png', dpi=900)\n",
    "plt.show()"
   ]
  },
  {
   "cell_type": "code",
   "execution_count": null,
   "metadata": {},
   "outputs": [],
   "source": [
    "y_1 = regr_1.predict(X_test)\n"
   ]
  },
  {
   "cell_type": "code",
   "execution_count": null,
   "metadata": {},
   "outputs": [],
   "source": [
    "X, y = data_hour_merge_24.iloc[:,:-1],data_hour_merge_24.iloc[:,-1]"
   ]
  },
  {
   "cell_type": "code",
   "execution_count": null,
   "metadata": {},
   "outputs": [],
   "source": [
    "preds = y_1.tolist()"
   ]
  },
  {
   "cell_type": "code",
   "execution_count": null,
   "metadata": {},
   "outputs": [],
   "source": [
    "yi = y_test.tolist()"
   ]
  },
  {
   "cell_type": "code",
   "execution_count": null,
   "metadata": {},
   "outputs": [],
   "source": [
    "y;"
   ]
  },
  {
   "cell_type": "code",
   "execution_count": null,
   "metadata": {},
   "outputs": [],
   "source": [
    ">>> plt.plot(preds ,label='PM10 Pronosticado')\n",
    ">>> plt.plot(yi,label='PM10 Medido')\n",
    ">>> plt.xlabel(\"Febrero 2018\")\n",
    ">>> plt.ylabel(\"PM10\")\n",
    "plt.tight_layout(1.3)\n",
    "plt.title('Comparación de Modelo')\n",
    ">>> plt.xlim(31, 60)\n",
    "plt.legend()\n",
    "plt.savefig('/Users/danielbustillos/Desktop/Pm10.png', dpi=900)"
   ]
  },
  {
   "cell_type": "code",
   "execution_count": null,
   "metadata": {},
   "outputs": [],
   "source": [
    "rmse = np.sqrt(mean_squared_error(y_test, y_2))\n",
    "print(\"RMSE: %f\" % (rmse))"
   ]
  },
  {
   "cell_type": "code",
   "execution_count": null,
   "metadata": {},
   "outputs": [],
   "source": [
    "regr_2.score(X_test, y_test)"
   ]
  },
  {
   "cell_type": "markdown",
   "metadata": {},
   "source": [
    "## Random forest"
   ]
  },
  {
   "cell_type": "code",
   "execution_count": 204,
   "metadata": {},
   "outputs": [],
   "source": [
    "regr = RandomForestRegressor(max_depth=100,n_estimators=100,random_state=0)"
   ]
  },
  {
   "cell_type": "code",
   "execution_count": 205,
   "metadata": {},
   "outputs": [],
   "source": [
    "regr_fit = regr.fit(X_train, y_train)"
   ]
  },
  {
   "cell_type": "code",
   "execution_count": 206,
   "metadata": {},
   "outputs": [],
   "source": [
    "y_1 = regr.predict(X_test)"
   ]
  },
  {
   "cell_type": "code",
   "execution_count": null,
   "metadata": {},
   "outputs": [],
   "source": [
    "plt.scatter(y_test, y_1)\n",
    "plt.xlabel('Medidos')\n",
    "plt.ylabel('Predecidos')\n",
    "plt.title('Random forest PM10: Predecidos vs Medidos')\n",
    "plt.show()"
   ]
  },
  {
   "cell_type": "code",
   "execution_count": null,
   "metadata": {},
   "outputs": [],
   "source": [
    "regr.score(X_test, y_test)"
   ]
  },
  {
   "cell_type": "code",
   "execution_count": null,
   "metadata": {},
   "outputs": [],
   "source": [
    "importances = pd.DataFrame({'feature':X_train.columns,'importance':np.round(regr.feature_importances_,3)})\n",
    "importances = importances.sort_values('importance',ascending=False).set_index('feature')"
   ]
  },
  {
   "cell_type": "code",
   "execution_count": null,
   "metadata": {},
   "outputs": [],
   "source": [
    "importances;"
   ]
  },
  {
   "cell_type": "code",
   "execution_count": null,
   "metadata": {},
   "outputs": [],
   "source": [
    "importances[importances.importance > .005].plot.bar()\n"
   ]
  },
  {
   "cell_type": "markdown",
   "metadata": {},
   "source": [
    "### ADA Randomforest"
   ]
  },
  {
   "cell_type": "raw",
   "metadata": {},
   "source": [
    "regr_2 = AdaBoostRegressor(DecisionTreeRegressor(max_depth=40),n_estimators=3000)"
   ]
  },
  {
   "cell_type": "code",
   "execution_count": null,
   "metadata": {},
   "outputs": [],
   "source": []
  }
 ],
 "metadata": {
  "kernelspec": {
   "display_name": "Python 3",
   "language": "python",
   "name": "python3"
  },
  "language_info": {
   "codemirror_mode": {
    "name": "ipython",
    "version": 3
   },
   "file_extension": ".py",
   "mimetype": "text/x-python",
   "name": "python",
   "nbconvert_exporter": "python",
   "pygments_lexer": "ipython3",
   "version": "3.6.5"
  }
 },
 "nbformat": 4,
 "nbformat_minor": 2
}
