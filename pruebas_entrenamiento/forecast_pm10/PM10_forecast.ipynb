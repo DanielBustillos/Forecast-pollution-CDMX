{
 "cells": [
  {
   "cell_type": "code",
   "execution_count": 1,
   "metadata": {},
   "outputs": [],
   "source": [
    "import warnings\n",
    "import itertools\n",
    "import numpy as np\n",
    "import matplotlib.pyplot as plt\n",
    "\n",
    "plt.style.use('fivethirtyeight')\n",
    "import pandas as pd\n",
    "import statsmodels.api as sm\n",
    "import matplotlib\n",
    "\n",
    "from sklearn import preprocessing\n",
    "import datetime\n",
    "\n",
    "import xgboost as xgb\n",
    "from sklearn.metrics import mean_squared_error\n",
    "import pandas as pd\n",
    "import numpy as np\n",
    "\n",
    "from sklearn.model_selection import train_test_split\n",
    "\n",
    "import os\n",
    "os.environ['KMP_DUPLICATE_LIB_OK']='True'\n",
    "from xgboost import XGBClassifier\n",
    "\n",
    "import seaborn as sns\n",
    "\n",
    "from datetime import timedelta\n",
    "from pylab import rcParams\n",
    "\n",
    "from xgboost import plot_tree\n",
    "from sklearn.svm import SVR\n",
    "from sklearn.preprocessing import StandardScaler\n",
    "\n",
    "import numpy as np\n",
    "import matplotlib.pyplot as plt\n",
    "from sklearn.tree import DecisionTreeRegressor\n",
    "from sklearn.ensemble import AdaBoostRegressor"
   ]
  },
  {
   "cell_type": "markdown",
   "metadata": {},
   "source": [
    "## Trabajaremos con la estación MGH"
   ]
  },
  {
   "cell_type": "markdown",
   "metadata": {},
   "source": [
    "Leemos los archivos por hora:"
   ]
  },
  {
   "cell_type": "code",
   "execution_count": 115,
   "metadata": {},
   "outputs": [],
   "source": [
    "data_hora_12 = pd.read_csv('/home/paw/DanielBustillos/datasets/dia/cont_hora2012.csv')\n",
    "data_hora_13 = pd.read_csv('/home/paw/DanielBustillos/datasets/dia/cont_hora2013.csv')\n",
    "data_hora_14 = pd.read_csv('/home/paw/DanielBustillos/datasets/dia/cont_hora2014.csv')\n",
    "data_hora_15 = pd.read_csv('/home/paw/DanielBustillos/datasets/dia/cont_hora2015.csv')\n",
    "data_hora_16 = pd.read_csv('/home/paw/DanielBustillos/datasets/dia/cont_hora2016.csv')\n",
    "data_hora_17 = pd.read_csv('/home/paw/DanielBustillos/datasets/dia/cont_hora2017.csv')"
   ]
  },
  {
   "cell_type": "code",
   "execution_count": 116,
   "metadata": {},
   "outputs": [],
   "source": [
    "data_hora_17 = data_hora_17.append(data_hora_16, ignore_index=True)\n",
    "data_hora_17 = data_hora_17.append(data_hora_15, ignore_index=True)\n",
    "data_hora_17 = data_hora_17.append(data_hora_14, ignore_index=True)\n",
    "data_hora_17 = data_hora_17.append(data_hora_13, ignore_index=True)\n",
    "data_hora_17 = data_hora_17.append(data_hora_12, ignore_index=True)"
   ]
  },
  {
   "cell_type": "code",
   "execution_count": 117,
   "metadata": {},
   "outputs": [],
   "source": [
    "data_hora = data_hora_17"
   ]
  },
  {
   "cell_type": "code",
   "execution_count": 118,
   "metadata": {},
   "outputs": [],
   "source": [
    "data_hora['dia'] = data_hora['fecha'].astype(str).str[8:10]\n",
    "data_hora['mes'] =  data_hora['fecha'].astype(str).str[5:7]"
   ]
  },
  {
   "cell_type": "code",
   "execution_count": 119,
   "metadata": {},
   "outputs": [],
   "source": [
    "data_hora['fecha'] = data_hora['fecha'].astype(str).str[0:10]"
   ]
  },
  {
   "cell_type": "code",
   "execution_count": 120,
   "metadata": {},
   "outputs": [],
   "source": [
    "data_hora = data_hora.drop([\"Unnamed: 0\"],axis=1)\n",
    "data_hora = data_hora.drop_duplicates()\n",
    "data_hora = data_hora[1::]"
   ]
  },
  {
   "cell_type": "code",
   "execution_count": 121,
   "metadata": {},
   "outputs": [],
   "source": [
    "#data_hora = data_hora.drop([\"UVA\",\"UVB\"],axis=1)"
   ]
  },
  {
   "cell_type": "code",
   "execution_count": 122,
   "metadata": {},
   "outputs": [],
   "source": [
    "data_hora = data_hora.dropna()"
   ]
  },
  {
   "cell_type": "code",
   "execution_count": 123,
   "metadata": {},
   "outputs": [
    {
     "data": {
      "text/plain": [
       "array(['MER', 'TLA'], dtype=object)"
      ]
     },
     "execution_count": 123,
     "metadata": {},
     "output_type": "execute_result"
    }
   ],
   "source": [
    "data_hora.id_station.unique()"
   ]
  },
  {
   "cell_type": "code",
   "execution_count": 124,
   "metadata": {},
   "outputs": [
    {
     "data": {
      "text/html": [
       "<div>\n",
       "<style scoped>\n",
       "    .dataframe tbody tr th:only-of-type {\n",
       "        vertical-align: middle;\n",
       "    }\n",
       "\n",
       "    .dataframe tbody tr th {\n",
       "        vertical-align: top;\n",
       "    }\n",
       "\n",
       "    .dataframe thead th {\n",
       "        text-align: right;\n",
       "    }\n",
       "</style>\n",
       "<table border=\"1\" class=\"dataframe\">\n",
       "  <thead>\n",
       "    <tr style=\"text-align: right;\">\n",
       "      <th></th>\n",
       "      <th>fecha</th>\n",
       "      <th>hora</th>\n",
       "      <th>dia</th>\n",
       "      <th>mes</th>\n",
       "      <th>id_station</th>\n",
       "      <th>UVA</th>\n",
       "      <th>UVB</th>\n",
       "      <th>PA</th>\n",
       "      <th>CO</th>\n",
       "      <th>NO</th>\n",
       "      <th>...</th>\n",
       "      <th>NOX</th>\n",
       "      <th>O3</th>\n",
       "      <th>PM2.5</th>\n",
       "      <th>PMCO</th>\n",
       "      <th>SO2</th>\n",
       "      <th>RH</th>\n",
       "      <th>TMP</th>\n",
       "      <th>WSP</th>\n",
       "      <th>WDR</th>\n",
       "      <th>PM10</th>\n",
       "    </tr>\n",
       "  </thead>\n",
       "  <tbody>\n",
       "    <tr>\n",
       "      <th>9</th>\n",
       "      <td>2017-01-01</td>\n",
       "      <td>1</td>\n",
       "      <td>01</td>\n",
       "      <td>01</td>\n",
       "      <td>MER</td>\n",
       "      <td>0.0</td>\n",
       "      <td>0.0</td>\n",
       "      <td>585.0</td>\n",
       "      <td>1.3</td>\n",
       "      <td>22.0</td>\n",
       "      <td>...</td>\n",
       "      <td>69.0</td>\n",
       "      <td>3.0</td>\n",
       "      <td>46.0</td>\n",
       "      <td>27.0</td>\n",
       "      <td>5.0</td>\n",
       "      <td>63.0</td>\n",
       "      <td>14.4</td>\n",
       "      <td>0.8</td>\n",
       "      <td>205.0</td>\n",
       "      <td>73.0</td>\n",
       "    </tr>\n",
       "    <tr>\n",
       "      <th>26</th>\n",
       "      <td>2017-01-01</td>\n",
       "      <td>2</td>\n",
       "      <td>01</td>\n",
       "      <td>01</td>\n",
       "      <td>MER</td>\n",
       "      <td>0.0</td>\n",
       "      <td>0.0</td>\n",
       "      <td>585.0</td>\n",
       "      <td>1.3</td>\n",
       "      <td>18.0</td>\n",
       "      <td>...</td>\n",
       "      <td>62.0</td>\n",
       "      <td>1.0</td>\n",
       "      <td>73.0</td>\n",
       "      <td>32.0</td>\n",
       "      <td>6.0</td>\n",
       "      <td>67.0</td>\n",
       "      <td>13.7</td>\n",
       "      <td>0.8</td>\n",
       "      <td>144.0</td>\n",
       "      <td>105.0</td>\n",
       "    </tr>\n",
       "    <tr>\n",
       "      <th>43</th>\n",
       "      <td>2017-01-01</td>\n",
       "      <td>3</td>\n",
       "      <td>01</td>\n",
       "      <td>01</td>\n",
       "      <td>MER</td>\n",
       "      <td>0.0</td>\n",
       "      <td>0.0</td>\n",
       "      <td>585.0</td>\n",
       "      <td>1.2</td>\n",
       "      <td>11.0</td>\n",
       "      <td>...</td>\n",
       "      <td>52.0</td>\n",
       "      <td>2.0</td>\n",
       "      <td>74.0</td>\n",
       "      <td>29.0</td>\n",
       "      <td>5.0</td>\n",
       "      <td>66.0</td>\n",
       "      <td>13.6</td>\n",
       "      <td>0.5</td>\n",
       "      <td>164.0</td>\n",
       "      <td>103.0</td>\n",
       "    </tr>\n",
       "    <tr>\n",
       "      <th>61</th>\n",
       "      <td>2017-01-01</td>\n",
       "      <td>4</td>\n",
       "      <td>01</td>\n",
       "      <td>01</td>\n",
       "      <td>MER</td>\n",
       "      <td>0.0</td>\n",
       "      <td>0.0</td>\n",
       "      <td>585.0</td>\n",
       "      <td>1.4</td>\n",
       "      <td>31.0</td>\n",
       "      <td>...</td>\n",
       "      <td>70.0</td>\n",
       "      <td>2.0</td>\n",
       "      <td>84.0</td>\n",
       "      <td>30.0</td>\n",
       "      <td>5.0</td>\n",
       "      <td>66.0</td>\n",
       "      <td>13.5</td>\n",
       "      <td>0.7</td>\n",
       "      <td>183.0</td>\n",
       "      <td>114.0</td>\n",
       "    </tr>\n",
       "    <tr>\n",
       "      <th>80</th>\n",
       "      <td>2017-01-01</td>\n",
       "      <td>5</td>\n",
       "      <td>01</td>\n",
       "      <td>01</td>\n",
       "      <td>MER</td>\n",
       "      <td>0.0</td>\n",
       "      <td>0.0</td>\n",
       "      <td>585.0</td>\n",
       "      <td>1.5</td>\n",
       "      <td>32.0</td>\n",
       "      <td>...</td>\n",
       "      <td>70.0</td>\n",
       "      <td>1.0</td>\n",
       "      <td>100.0</td>\n",
       "      <td>36.0</td>\n",
       "      <td>5.0</td>\n",
       "      <td>70.0</td>\n",
       "      <td>12.6</td>\n",
       "      <td>1.1</td>\n",
       "      <td>162.0</td>\n",
       "      <td>136.0</td>\n",
       "    </tr>\n",
       "  </tbody>\n",
       "</table>\n",
       "<p>5 rows × 21 columns</p>\n",
       "</div>"
      ],
      "text/plain": [
       "         fecha  hora dia mes id_station  UVA  UVB     PA   CO    NO  ...    \\\n",
       "9   2017-01-01     1  01  01        MER  0.0  0.0  585.0  1.3  22.0  ...     \n",
       "26  2017-01-01     2  01  01        MER  0.0  0.0  585.0  1.3  18.0  ...     \n",
       "43  2017-01-01     3  01  01        MER  0.0  0.0  585.0  1.2  11.0  ...     \n",
       "61  2017-01-01     4  01  01        MER  0.0  0.0  585.0  1.4  31.0  ...     \n",
       "80  2017-01-01     5  01  01        MER  0.0  0.0  585.0  1.5  32.0  ...     \n",
       "\n",
       "     NOX   O3  PM2.5  PMCO  SO2    RH   TMP  WSP    WDR   PM10  \n",
       "9   69.0  3.0   46.0  27.0  5.0  63.0  14.4  0.8  205.0   73.0  \n",
       "26  62.0  1.0   73.0  32.0  6.0  67.0  13.7  0.8  144.0  105.0  \n",
       "43  52.0  2.0   74.0  29.0  5.0  66.0  13.6  0.5  164.0  103.0  \n",
       "61  70.0  2.0   84.0  30.0  5.0  66.0  13.5  0.7  183.0  114.0  \n",
       "80  70.0  1.0  100.0  36.0  5.0  70.0  12.6  1.1  162.0  136.0  \n",
       "\n",
       "[5 rows x 21 columns]"
      ]
     },
     "execution_count": 124,
     "metadata": {},
     "output_type": "execute_result"
    }
   ],
   "source": [
    "data_hora.head()"
   ]
  },
  {
   "cell_type": "markdown",
   "metadata": {},
   "source": [
    "## Juntamos todas las estaciones"
   ]
  },
  {
   "cell_type": "code",
   "execution_count": 16,
   "metadata": {},
   "outputs": [],
   "source": [
    "data_hora = data_hora.groupby(['fecha',\"dia\",\"hora\",\"mes\"])[ \n",
    "       'PA', 'CO', 'NO', 'NO2', 'NOX', 'O3', 'PM2.5', 'PMCO', 'SO2', 'RH',\n",
    "       'TMP', 'WSP', 'WDR', 'PM10'].mean()\n",
    "data_hora.reset_index(inplace=True)"
   ]
  },
  {
   "cell_type": "markdown",
   "metadata": {},
   "source": [
    "\n",
    "# Promedio Diario"
   ]
  },
  {
   "cell_type": "raw",
   "metadata": {},
   "source": [
    "data_dia_12 = pd.read_csv('/Users/danielbustillos/Documents/servicio/Contaminación PM10/Outputs/por_dia/cont_dia2012.csv')\n",
    "data_dia_13 = pd.read_csv('/Users/danielbustillos/Documents/servicio/Contaminación PM10/Outputs/por_dia/cont_dia2013.csv')\n",
    "data_dia_14 = pd.read_csv('/Users/danielbustillos/Documents/servicio/Contaminación PM10/Outputs/por_dia/cont_dia2014.csv')\n",
    "data_dia_15 = pd.read_csv('/Users/danielbustillos/Documents/servicio/Contaminación PM10/Outputs/por_dia/cont_dia2015.csv')\n",
    "data_dia_16 = pd.read_csv('/Users/danielbustillos/Documents/servicio/Contaminación PM10/Outputs/por_dia/cont_dia2016.csv')\n",
    "data_dia_17 = pd.read_csv('/Users/danielbustillos/Documents/servicio/Contaminación PM10/Outputs/por_dia/cont_dia2016.csv')"
   ]
  },
  {
   "cell_type": "raw",
   "metadata": {},
   "source": [
    "data_dia_17 = data_dia_17.append(data_dia_16, ignore_index=True)\n",
    "data_dia_17 = data_dia_17.append(data_dia_15, ignore_index=True)\n",
    "data_dia_17 = data_dia_17.append(data_dia_14, ignore_index=True)\n",
    "data_dia_17 = data_dia_17.append(data_dia_13, ignore_index=True)\n",
    "data_dia_17 = data_dia_17.append(data_dia_12, ignore_index=True)"
   ]
  },
  {
   "cell_type": "code",
   "execution_count": 126,
   "metadata": {},
   "outputs": [
    {
     "data": {
      "text/html": [
       "<div>\n",
       "<style scoped>\n",
       "    .dataframe tbody tr th:only-of-type {\n",
       "        vertical-align: middle;\n",
       "    }\n",
       "\n",
       "    .dataframe tbody tr th {\n",
       "        vertical-align: top;\n",
       "    }\n",
       "\n",
       "    .dataframe thead th {\n",
       "        text-align: right;\n",
       "    }\n",
       "</style>\n",
       "<table border=\"1\" class=\"dataframe\">\n",
       "  <thead>\n",
       "    <tr style=\"text-align: right;\">\n",
       "      <th></th>\n",
       "      <th>fecha</th>\n",
       "      <th>hora</th>\n",
       "      <th>dia</th>\n",
       "      <th>mes</th>\n",
       "      <th>id_station</th>\n",
       "      <th>UVA</th>\n",
       "      <th>UVB</th>\n",
       "      <th>PA</th>\n",
       "      <th>CO</th>\n",
       "      <th>NO</th>\n",
       "      <th>...</th>\n",
       "      <th>NOX</th>\n",
       "      <th>O3</th>\n",
       "      <th>PM2.5</th>\n",
       "      <th>PMCO</th>\n",
       "      <th>SO2</th>\n",
       "      <th>RH</th>\n",
       "      <th>TMP</th>\n",
       "      <th>WSP</th>\n",
       "      <th>WDR</th>\n",
       "      <th>PM10</th>\n",
       "    </tr>\n",
       "  </thead>\n",
       "  <tbody>\n",
       "    <tr>\n",
       "      <th>9</th>\n",
       "      <td>2017-01-01</td>\n",
       "      <td>1</td>\n",
       "      <td>01</td>\n",
       "      <td>01</td>\n",
       "      <td>MER</td>\n",
       "      <td>0.0</td>\n",
       "      <td>0.0</td>\n",
       "      <td>585.0</td>\n",
       "      <td>1.3</td>\n",
       "      <td>22.0</td>\n",
       "      <td>...</td>\n",
       "      <td>69.0</td>\n",
       "      <td>3.0</td>\n",
       "      <td>46.0</td>\n",
       "      <td>27.0</td>\n",
       "      <td>5.0</td>\n",
       "      <td>63.0</td>\n",
       "      <td>14.4</td>\n",
       "      <td>0.8</td>\n",
       "      <td>205.0</td>\n",
       "      <td>73.0</td>\n",
       "    </tr>\n",
       "    <tr>\n",
       "      <th>26</th>\n",
       "      <td>2017-01-01</td>\n",
       "      <td>2</td>\n",
       "      <td>01</td>\n",
       "      <td>01</td>\n",
       "      <td>MER</td>\n",
       "      <td>0.0</td>\n",
       "      <td>0.0</td>\n",
       "      <td>585.0</td>\n",
       "      <td>1.3</td>\n",
       "      <td>18.0</td>\n",
       "      <td>...</td>\n",
       "      <td>62.0</td>\n",
       "      <td>1.0</td>\n",
       "      <td>73.0</td>\n",
       "      <td>32.0</td>\n",
       "      <td>6.0</td>\n",
       "      <td>67.0</td>\n",
       "      <td>13.7</td>\n",
       "      <td>0.8</td>\n",
       "      <td>144.0</td>\n",
       "      <td>105.0</td>\n",
       "    </tr>\n",
       "    <tr>\n",
       "      <th>43</th>\n",
       "      <td>2017-01-01</td>\n",
       "      <td>3</td>\n",
       "      <td>01</td>\n",
       "      <td>01</td>\n",
       "      <td>MER</td>\n",
       "      <td>0.0</td>\n",
       "      <td>0.0</td>\n",
       "      <td>585.0</td>\n",
       "      <td>1.2</td>\n",
       "      <td>11.0</td>\n",
       "      <td>...</td>\n",
       "      <td>52.0</td>\n",
       "      <td>2.0</td>\n",
       "      <td>74.0</td>\n",
       "      <td>29.0</td>\n",
       "      <td>5.0</td>\n",
       "      <td>66.0</td>\n",
       "      <td>13.6</td>\n",
       "      <td>0.5</td>\n",
       "      <td>164.0</td>\n",
       "      <td>103.0</td>\n",
       "    </tr>\n",
       "    <tr>\n",
       "      <th>61</th>\n",
       "      <td>2017-01-01</td>\n",
       "      <td>4</td>\n",
       "      <td>01</td>\n",
       "      <td>01</td>\n",
       "      <td>MER</td>\n",
       "      <td>0.0</td>\n",
       "      <td>0.0</td>\n",
       "      <td>585.0</td>\n",
       "      <td>1.4</td>\n",
       "      <td>31.0</td>\n",
       "      <td>...</td>\n",
       "      <td>70.0</td>\n",
       "      <td>2.0</td>\n",
       "      <td>84.0</td>\n",
       "      <td>30.0</td>\n",
       "      <td>5.0</td>\n",
       "      <td>66.0</td>\n",
       "      <td>13.5</td>\n",
       "      <td>0.7</td>\n",
       "      <td>183.0</td>\n",
       "      <td>114.0</td>\n",
       "    </tr>\n",
       "    <tr>\n",
       "      <th>80</th>\n",
       "      <td>2017-01-01</td>\n",
       "      <td>5</td>\n",
       "      <td>01</td>\n",
       "      <td>01</td>\n",
       "      <td>MER</td>\n",
       "      <td>0.0</td>\n",
       "      <td>0.0</td>\n",
       "      <td>585.0</td>\n",
       "      <td>1.5</td>\n",
       "      <td>32.0</td>\n",
       "      <td>...</td>\n",
       "      <td>70.0</td>\n",
       "      <td>1.0</td>\n",
       "      <td>100.0</td>\n",
       "      <td>36.0</td>\n",
       "      <td>5.0</td>\n",
       "      <td>70.0</td>\n",
       "      <td>12.6</td>\n",
       "      <td>1.1</td>\n",
       "      <td>162.0</td>\n",
       "      <td>136.0</td>\n",
       "    </tr>\n",
       "  </tbody>\n",
       "</table>\n",
       "<p>5 rows × 21 columns</p>\n",
       "</div>"
      ],
      "text/plain": [
       "         fecha  hora dia mes id_station  UVA  UVB     PA   CO    NO  ...    \\\n",
       "9   2017-01-01     1  01  01        MER  0.0  0.0  585.0  1.3  22.0  ...     \n",
       "26  2017-01-01     2  01  01        MER  0.0  0.0  585.0  1.3  18.0  ...     \n",
       "43  2017-01-01     3  01  01        MER  0.0  0.0  585.0  1.2  11.0  ...     \n",
       "61  2017-01-01     4  01  01        MER  0.0  0.0  585.0  1.4  31.0  ...     \n",
       "80  2017-01-01     5  01  01        MER  0.0  0.0  585.0  1.5  32.0  ...     \n",
       "\n",
       "     NOX   O3  PM2.5  PMCO  SO2    RH   TMP  WSP    WDR   PM10  \n",
       "9   69.0  3.0   46.0  27.0  5.0  63.0  14.4  0.8  205.0   73.0  \n",
       "26  62.0  1.0   73.0  32.0  6.0  67.0  13.7  0.8  144.0  105.0  \n",
       "43  52.0  2.0   74.0  29.0  5.0  66.0  13.6  0.5  164.0  103.0  \n",
       "61  70.0  2.0   84.0  30.0  5.0  66.0  13.5  0.7  183.0  114.0  \n",
       "80  70.0  1.0  100.0  36.0  5.0  70.0  12.6  1.1  162.0  136.0  \n",
       "\n",
       "[5 rows x 21 columns]"
      ]
     },
     "execution_count": 126,
     "metadata": {},
     "output_type": "execute_result"
    }
   ],
   "source": [
    "data_hora.head()"
   ]
  },
  {
   "cell_type": "code",
   "execution_count": 127,
   "metadata": {},
   "outputs": [],
   "source": [
    "data_mean = data_hora.groupby(['fecha'])[ 'PA', 'CO',\n",
    "       'NO', 'NO2', 'NOX', 'O3', 'PM2.5', 'PMCO', 'SO2', 'RH', 'TMP', 'WSP',\n",
    "       'WDR', 'PM10'].mean()\n",
    "data_mean.reset_index(inplace=True)"
   ]
  },
  {
   "cell_type": "code",
   "execution_count": 128,
   "metadata": {},
   "outputs": [],
   "source": [
    "data_min = data_hora.groupby(['fecha'])['PA', 'CO',\n",
    "       'NO', 'NO2', 'NOX', 'O3', 'PM2.5', 'PMCO', 'SO2', 'RH', 'TMP', 'WSP',\n",
    "       'WDR', 'PM10'].min()\n",
    "data_min.reset_index(inplace=True)"
   ]
  },
  {
   "cell_type": "code",
   "execution_count": 129,
   "metadata": {},
   "outputs": [],
   "source": [
    "data_max = data_hora.groupby(['fecha'])[ 'PA', 'CO',\n",
    "       'NO', 'NO2', 'NOX', 'O3', 'PM2.5', 'PMCO', 'SO2', 'RH', 'TMP', 'WSP',\n",
    "       'WDR', 'PM10'].max()\n",
    "data_max.reset_index(inplace=True)"
   ]
  },
  {
   "cell_type": "code",
   "execution_count": 130,
   "metadata": {},
   "outputs": [],
   "source": [
    "data_day = pd.merge(data_min, data_max, on=[\"fecha\"])\n",
    "data_day = pd.merge(data_day, data_mean, on=[\"fecha\"])"
   ]
  },
  {
   "cell_type": "code",
   "execution_count": 131,
   "metadata": {},
   "outputs": [],
   "source": [
    "data_day['fecha'] =  pd.to_datetime(data_day['fecha'], format='%Y-%m-%d %H:%M')"
   ]
  },
  {
   "cell_type": "code",
   "execution_count": 132,
   "metadata": {},
   "outputs": [
    {
     "data": {
      "text/html": [
       "<div>\n",
       "<style scoped>\n",
       "    .dataframe tbody tr th:only-of-type {\n",
       "        vertical-align: middle;\n",
       "    }\n",
       "\n",
       "    .dataframe tbody tr th {\n",
       "        vertical-align: top;\n",
       "    }\n",
       "\n",
       "    .dataframe thead th {\n",
       "        text-align: right;\n",
       "    }\n",
       "</style>\n",
       "<table border=\"1\" class=\"dataframe\">\n",
       "  <thead>\n",
       "    <tr style=\"text-align: right;\">\n",
       "      <th></th>\n",
       "      <th>fecha</th>\n",
       "      <th>PA_x</th>\n",
       "      <th>CO_x</th>\n",
       "      <th>NO_x</th>\n",
       "      <th>NO2_x</th>\n",
       "      <th>NOX_x</th>\n",
       "      <th>O3_x</th>\n",
       "      <th>PM2.5_x</th>\n",
       "      <th>PMCO_x</th>\n",
       "      <th>SO2_x</th>\n",
       "      <th>...</th>\n",
       "      <th>NOX</th>\n",
       "      <th>O3</th>\n",
       "      <th>PM2.5</th>\n",
       "      <th>PMCO</th>\n",
       "      <th>SO2</th>\n",
       "      <th>RH</th>\n",
       "      <th>TMP</th>\n",
       "      <th>WSP</th>\n",
       "      <th>WDR</th>\n",
       "      <th>PM10</th>\n",
       "    </tr>\n",
       "  </thead>\n",
       "  <tbody>\n",
       "    <tr>\n",
       "      <th>0</th>\n",
       "      <td>2012-01-01</td>\n",
       "      <td>586.0</td>\n",
       "      <td>0.3</td>\n",
       "      <td>3.0</td>\n",
       "      <td>10.0</td>\n",
       "      <td>15.0</td>\n",
       "      <td>1.0</td>\n",
       "      <td>5.0</td>\n",
       "      <td>7.0</td>\n",
       "      <td>2.0</td>\n",
       "      <td>...</td>\n",
       "      <td>65.958333</td>\n",
       "      <td>18.833333</td>\n",
       "      <td>64.291667</td>\n",
       "      <td>32.291667</td>\n",
       "      <td>5.416667</td>\n",
       "      <td>53.208333</td>\n",
       "      <td>13.675000</td>\n",
       "      <td>2.912500</td>\n",
       "      <td>198.083333</td>\n",
       "      <td>96.666667</td>\n",
       "    </tr>\n",
       "    <tr>\n",
       "      <th>1</th>\n",
       "      <td>2012-01-02</td>\n",
       "      <td>590.0</td>\n",
       "      <td>0.1</td>\n",
       "      <td>0.0</td>\n",
       "      <td>5.0</td>\n",
       "      <td>5.0</td>\n",
       "      <td>3.0</td>\n",
       "      <td>2.0</td>\n",
       "      <td>2.0</td>\n",
       "      <td>2.0</td>\n",
       "      <td>...</td>\n",
       "      <td>36.608696</td>\n",
       "      <td>12.782609</td>\n",
       "      <td>7.260870</td>\n",
       "      <td>14.434783</td>\n",
       "      <td>2.130435</td>\n",
       "      <td>61.086957</td>\n",
       "      <td>11.504348</td>\n",
       "      <td>3.965217</td>\n",
       "      <td>323.434783</td>\n",
       "      <td>21.869565</td>\n",
       "    </tr>\n",
       "    <tr>\n",
       "      <th>2</th>\n",
       "      <td>2012-01-03</td>\n",
       "      <td>587.0</td>\n",
       "      <td>0.3</td>\n",
       "      <td>3.0</td>\n",
       "      <td>19.0</td>\n",
       "      <td>22.0</td>\n",
       "      <td>1.0</td>\n",
       "      <td>8.0</td>\n",
       "      <td>8.0</td>\n",
       "      <td>2.0</td>\n",
       "      <td>...</td>\n",
       "      <td>65.950000</td>\n",
       "      <td>15.200000</td>\n",
       "      <td>21.050000</td>\n",
       "      <td>28.750000</td>\n",
       "      <td>7.200000</td>\n",
       "      <td>53.800000</td>\n",
       "      <td>11.470000</td>\n",
       "      <td>2.200000</td>\n",
       "      <td>271.200000</td>\n",
       "      <td>49.800000</td>\n",
       "    </tr>\n",
       "    <tr>\n",
       "      <th>3</th>\n",
       "      <td>2012-01-04</td>\n",
       "      <td>585.0</td>\n",
       "      <td>0.4</td>\n",
       "      <td>7.0</td>\n",
       "      <td>28.0</td>\n",
       "      <td>43.0</td>\n",
       "      <td>1.0</td>\n",
       "      <td>17.0</td>\n",
       "      <td>17.0</td>\n",
       "      <td>4.0</td>\n",
       "      <td>...</td>\n",
       "      <td>94.750000</td>\n",
       "      <td>17.208333</td>\n",
       "      <td>35.166667</td>\n",
       "      <td>35.875000</td>\n",
       "      <td>16.166667</td>\n",
       "      <td>52.250000</td>\n",
       "      <td>12.808333</td>\n",
       "      <td>1.833333</td>\n",
       "      <td>138.000000</td>\n",
       "      <td>70.875000</td>\n",
       "    </tr>\n",
       "    <tr>\n",
       "      <th>4</th>\n",
       "      <td>2012-01-05</td>\n",
       "      <td>584.0</td>\n",
       "      <td>0.4</td>\n",
       "      <td>10.0</td>\n",
       "      <td>33.0</td>\n",
       "      <td>50.0</td>\n",
       "      <td>1.0</td>\n",
       "      <td>15.0</td>\n",
       "      <td>20.0</td>\n",
       "      <td>3.0</td>\n",
       "      <td>...</td>\n",
       "      <td>92.458333</td>\n",
       "      <td>16.916667</td>\n",
       "      <td>26.625000</td>\n",
       "      <td>34.000000</td>\n",
       "      <td>14.416667</td>\n",
       "      <td>43.416667</td>\n",
       "      <td>13.683333</td>\n",
       "      <td>2.012500</td>\n",
       "      <td>141.458333</td>\n",
       "      <td>60.541667</td>\n",
       "    </tr>\n",
       "  </tbody>\n",
       "</table>\n",
       "<p>5 rows × 43 columns</p>\n",
       "</div>"
      ],
      "text/plain": [
       "       fecha   PA_x  CO_x  NO_x  NO2_x  NOX_x  O3_x  PM2.5_x  PMCO_x  SO2_x  \\\n",
       "0 2012-01-01  586.0   0.3   3.0   10.0   15.0   1.0      5.0     7.0    2.0   \n",
       "1 2012-01-02  590.0   0.1   0.0    5.0    5.0   3.0      2.0     2.0    2.0   \n",
       "2 2012-01-03  587.0   0.3   3.0   19.0   22.0   1.0      8.0     8.0    2.0   \n",
       "3 2012-01-04  585.0   0.4   7.0   28.0   43.0   1.0     17.0    17.0    4.0   \n",
       "4 2012-01-05  584.0   0.4  10.0   33.0   50.0   1.0     15.0    20.0    3.0   \n",
       "\n",
       "     ...            NOX         O3      PM2.5       PMCO        SO2  \\\n",
       "0    ...      65.958333  18.833333  64.291667  32.291667   5.416667   \n",
       "1    ...      36.608696  12.782609   7.260870  14.434783   2.130435   \n",
       "2    ...      65.950000  15.200000  21.050000  28.750000   7.200000   \n",
       "3    ...      94.750000  17.208333  35.166667  35.875000  16.166667   \n",
       "4    ...      92.458333  16.916667  26.625000  34.000000  14.416667   \n",
       "\n",
       "          RH        TMP       WSP         WDR       PM10  \n",
       "0  53.208333  13.675000  2.912500  198.083333  96.666667  \n",
       "1  61.086957  11.504348  3.965217  323.434783  21.869565  \n",
       "2  53.800000  11.470000  2.200000  271.200000  49.800000  \n",
       "3  52.250000  12.808333  1.833333  138.000000  70.875000  \n",
       "4  43.416667  13.683333  2.012500  141.458333  60.541667  \n",
       "\n",
       "[5 rows x 43 columns]"
      ]
     },
     "execution_count": 132,
     "metadata": {},
     "output_type": "execute_result"
    }
   ],
   "source": [
    "data_day.head()"
   ]
  },
  {
   "cell_type": "code",
   "execution_count": 134,
   "metadata": {},
   "outputs": [
    {
     "data": {
      "text/plain": [
       "Index(['fecha', 'PA_x', 'CO_x', 'NO_x', 'NO2_x', 'NOX_x', 'O3_x', 'PM2.5_x',\n",
       "       'PMCO_x', 'SO2_x', 'RH_x', 'TMP_x', 'WSP_x', 'WDR_x', 'PM10_x', 'PA_y',\n",
       "       'CO_y', 'NO_y', 'NO2_y', 'NOX_y', 'O3_y', 'PM2.5_y', 'PMCO_y', 'SO2_y',\n",
       "       'RH_y', 'TMP_y', 'WSP_y', 'WDR_y', 'PM10_y', 'PA', 'CO', 'NO', 'NO2',\n",
       "       'NOX', 'O3', 'PM2.5', 'PMCO', 'SO2', 'RH', 'TMP', 'WSP', 'WDR', 'PM10'],\n",
       "      dtype='object')"
      ]
     },
     "execution_count": 134,
     "metadata": {},
     "output_type": "execute_result"
    }
   ],
   "source": [
    "data_day.columns"
   ]
  },
  {
   "cell_type": "markdown",
   "metadata": {},
   "source": [
    "## Añadimos Precipitación que solo esta en días:"
   ]
  },
  {
   "cell_type": "markdown",
   "metadata": {},
   "source": [
    "## Precipitación"
   ]
  },
  {
   "cell_type": "code",
   "execution_count": 135,
   "metadata": {},
   "outputs": [],
   "source": [
    "prec_2017 = pd.read_excel('/home/paw/DanielBustillos/datasets/precipitacion/2017PPH.xls')\n",
    "prec_2016 = pd.read_excel('/home/paw/DanielBustillos/datasets/precipitacion/2016PPH.xls')\n",
    "prec_2015 = pd.read_excel('/home/paw/DanielBustillos/datasets/precipitacion/2015PPH.xls')\n",
    "prec_2014 = pd.read_excel('/home/paw/DanielBustillos/datasets/precipitacion/2014PPH.xls')\n",
    "prec_2013 = pd.read_excel('/home/paw/DanielBustillos/datasets/precipitacion/2013PPH.xls')\n",
    "prec_2012 = pd.read_excel('/home/paw/DanielBustillos/datasets/precipitacion/2012PPH.xls')"
   ]
  },
  {
   "cell_type": "code",
   "execution_count": 136,
   "metadata": {},
   "outputs": [],
   "source": [
    "prec_2017 = prec_2017.append(prec_2016, ignore_index=True)\n",
    "prec_2017 = prec_2017.append(prec_2015, ignore_index=True)\n",
    "prec_2017 = prec_2017.append(prec_2014, ignore_index=True)\n",
    "prec_2017 = prec_2017.append(prec_2013, ignore_index=True)\n",
    "prec_2017 = prec_2017.append(prec_2012, ignore_index=True)"
   ]
  },
  {
   "cell_type": "code",
   "execution_count": 137,
   "metadata": {},
   "outputs": [],
   "source": [
    "prec = prec_2017"
   ]
  },
  {
   "cell_type": "markdown",
   "metadata": {},
   "source": [
    "Los valores vacíos vienen como -99, vamos a eliminarlos:"
   ]
  },
  {
   "cell_type": "code",
   "execution_count": 138,
   "metadata": {},
   "outputs": [],
   "source": [
    "prec = prec.where(prec.LOM != -99.00)"
   ]
  },
  {
   "cell_type": "code",
   "execution_count": 139,
   "metadata": {},
   "outputs": [],
   "source": [
    "prec = prec.dropna()"
   ]
  },
  {
   "cell_type": "markdown",
   "metadata": {},
   "source": [
    "Renombramos algunas columnas:"
   ]
  },
  {
   "cell_type": "code",
   "execution_count": 140,
   "metadata": {},
   "outputs": [],
   "source": [
    "prec = prec.rename(columns={'FECHA': 'fecha'})"
   ]
  },
  {
   "cell_type": "markdown",
   "metadata": {},
   "source": [
    "Transponemos el df:"
   ]
  },
  {
   "cell_type": "code",
   "execution_count": 141,
   "metadata": {},
   "outputs": [],
   "source": [
    "prec = pd.melt(prec, id_vars=[\"fecha\"], \n",
    "                   var_name=\"id_station\",value_name=\"Precip\")"
   ]
  },
  {
   "cell_type": "code",
   "execution_count": 142,
   "metadata": {},
   "outputs": [],
   "source": [
    "prec['fecha'] =  pd.to_datetime(prec['fecha'], format='%Y-%m-%d %H:%M')"
   ]
  },
  {
   "cell_type": "code",
   "execution_count": 143,
   "metadata": {},
   "outputs": [],
   "source": [
    "prec = prec[prec.id_station==\"TLA\"]"
   ]
  },
  {
   "cell_type": "markdown",
   "metadata": {},
   "source": [
    "## Lo unimos con el archivo ya generado:"
   ]
  },
  {
   "cell_type": "code",
   "execution_count": 145,
   "metadata": {},
   "outputs": [],
   "source": [
    "data_day_avg = pd.merge(data_day, prec, on=[\"fecha\"],  how='left')"
   ]
  },
  {
   "cell_type": "code",
   "execution_count": 146,
   "metadata": {},
   "outputs": [],
   "source": [
    "#data_day_avg[\"fecha\"] =  pd.to_datetime(data_day[\"fecha\"], format='%Y-%m-%d %H:%M')"
   ]
  },
  {
   "cell_type": "code",
   "execution_count": 147,
   "metadata": {},
   "outputs": [],
   "source": [
    "data_day_avg = data_day_avg.fillna(0)"
   ]
  },
  {
   "cell_type": "code",
   "execution_count": 148,
   "metadata": {},
   "outputs": [],
   "source": [
    "data_day_avg[\"dia\"] = pd.DatetimeIndex(data_day_avg['fecha']).day\n",
    "data_day_avg[\"mes\"] = pd.DatetimeIndex(data_day_avg['fecha']).month"
   ]
  },
  {
   "cell_type": "code",
   "execution_count": 149,
   "metadata": {},
   "outputs": [],
   "source": [
    "data_day_avg = data_day_avg.drop([\"id_station\",\"fecha\"],axis=1)"
   ]
  },
  {
   "cell_type": "code",
   "execution_count": 150,
   "metadata": {},
   "outputs": [
    {
     "data": {
      "text/html": [
       "<div>\n",
       "<style scoped>\n",
       "    .dataframe tbody tr th:only-of-type {\n",
       "        vertical-align: middle;\n",
       "    }\n",
       "\n",
       "    .dataframe tbody tr th {\n",
       "        vertical-align: top;\n",
       "    }\n",
       "\n",
       "    .dataframe thead th {\n",
       "        text-align: right;\n",
       "    }\n",
       "</style>\n",
       "<table border=\"1\" class=\"dataframe\">\n",
       "  <thead>\n",
       "    <tr style=\"text-align: right;\">\n",
       "      <th></th>\n",
       "      <th>PA_x</th>\n",
       "      <th>CO_x</th>\n",
       "      <th>NO_x</th>\n",
       "      <th>NO2_x</th>\n",
       "      <th>NOX_x</th>\n",
       "      <th>O3_x</th>\n",
       "      <th>PM2.5_x</th>\n",
       "      <th>PMCO_x</th>\n",
       "      <th>SO2_x</th>\n",
       "      <th>RH_x</th>\n",
       "      <th>...</th>\n",
       "      <th>PMCO</th>\n",
       "      <th>SO2</th>\n",
       "      <th>RH</th>\n",
       "      <th>TMP</th>\n",
       "      <th>WSP</th>\n",
       "      <th>WDR</th>\n",
       "      <th>PM10</th>\n",
       "      <th>Precip</th>\n",
       "      <th>dia</th>\n",
       "      <th>mes</th>\n",
       "    </tr>\n",
       "  </thead>\n",
       "  <tbody>\n",
       "    <tr>\n",
       "      <th>0</th>\n",
       "      <td>586.0</td>\n",
       "      <td>0.3</td>\n",
       "      <td>3.0</td>\n",
       "      <td>10.0</td>\n",
       "      <td>15.0</td>\n",
       "      <td>1.0</td>\n",
       "      <td>5.0</td>\n",
       "      <td>7.0</td>\n",
       "      <td>2.0</td>\n",
       "      <td>21.0</td>\n",
       "      <td>...</td>\n",
       "      <td>32.291667</td>\n",
       "      <td>5.416667</td>\n",
       "      <td>53.208333</td>\n",
       "      <td>13.675000</td>\n",
       "      <td>2.912500</td>\n",
       "      <td>198.083333</td>\n",
       "      <td>96.666667</td>\n",
       "      <td>0.0</td>\n",
       "      <td>1</td>\n",
       "      <td>1</td>\n",
       "    </tr>\n",
       "    <tr>\n",
       "      <th>1</th>\n",
       "      <td>590.0</td>\n",
       "      <td>0.1</td>\n",
       "      <td>0.0</td>\n",
       "      <td>5.0</td>\n",
       "      <td>5.0</td>\n",
       "      <td>3.0</td>\n",
       "      <td>2.0</td>\n",
       "      <td>2.0</td>\n",
       "      <td>2.0</td>\n",
       "      <td>53.0</td>\n",
       "      <td>...</td>\n",
       "      <td>14.434783</td>\n",
       "      <td>2.130435</td>\n",
       "      <td>61.086957</td>\n",
       "      <td>11.504348</td>\n",
       "      <td>3.965217</td>\n",
       "      <td>323.434783</td>\n",
       "      <td>21.869565</td>\n",
       "      <td>0.0</td>\n",
       "      <td>2</td>\n",
       "      <td>1</td>\n",
       "    </tr>\n",
       "    <tr>\n",
       "      <th>2</th>\n",
       "      <td>587.0</td>\n",
       "      <td>0.3</td>\n",
       "      <td>3.0</td>\n",
       "      <td>19.0</td>\n",
       "      <td>22.0</td>\n",
       "      <td>1.0</td>\n",
       "      <td>8.0</td>\n",
       "      <td>8.0</td>\n",
       "      <td>2.0</td>\n",
       "      <td>35.0</td>\n",
       "      <td>...</td>\n",
       "      <td>28.750000</td>\n",
       "      <td>7.200000</td>\n",
       "      <td>53.800000</td>\n",
       "      <td>11.470000</td>\n",
       "      <td>2.200000</td>\n",
       "      <td>271.200000</td>\n",
       "      <td>49.800000</td>\n",
       "      <td>0.0</td>\n",
       "      <td>3</td>\n",
       "      <td>1</td>\n",
       "    </tr>\n",
       "    <tr>\n",
       "      <th>3</th>\n",
       "      <td>585.0</td>\n",
       "      <td>0.4</td>\n",
       "      <td>7.0</td>\n",
       "      <td>28.0</td>\n",
       "      <td>43.0</td>\n",
       "      <td>1.0</td>\n",
       "      <td>17.0</td>\n",
       "      <td>17.0</td>\n",
       "      <td>4.0</td>\n",
       "      <td>27.0</td>\n",
       "      <td>...</td>\n",
       "      <td>35.875000</td>\n",
       "      <td>16.166667</td>\n",
       "      <td>52.250000</td>\n",
       "      <td>12.808333</td>\n",
       "      <td>1.833333</td>\n",
       "      <td>138.000000</td>\n",
       "      <td>70.875000</td>\n",
       "      <td>0.0</td>\n",
       "      <td>4</td>\n",
       "      <td>1</td>\n",
       "    </tr>\n",
       "    <tr>\n",
       "      <th>4</th>\n",
       "      <td>584.0</td>\n",
       "      <td>0.4</td>\n",
       "      <td>10.0</td>\n",
       "      <td>33.0</td>\n",
       "      <td>50.0</td>\n",
       "      <td>1.0</td>\n",
       "      <td>15.0</td>\n",
       "      <td>20.0</td>\n",
       "      <td>3.0</td>\n",
       "      <td>27.0</td>\n",
       "      <td>...</td>\n",
       "      <td>34.000000</td>\n",
       "      <td>14.416667</td>\n",
       "      <td>43.416667</td>\n",
       "      <td>13.683333</td>\n",
       "      <td>2.012500</td>\n",
       "      <td>141.458333</td>\n",
       "      <td>60.541667</td>\n",
       "      <td>0.0</td>\n",
       "      <td>5</td>\n",
       "      <td>1</td>\n",
       "    </tr>\n",
       "  </tbody>\n",
       "</table>\n",
       "<p>5 rows × 45 columns</p>\n",
       "</div>"
      ],
      "text/plain": [
       "    PA_x  CO_x  NO_x  NO2_x  NOX_x  O3_x  PM2.5_x  PMCO_x  SO2_x  RH_x ...   \\\n",
       "0  586.0   0.3   3.0   10.0   15.0   1.0      5.0     7.0    2.0  21.0 ...    \n",
       "1  590.0   0.1   0.0    5.0    5.0   3.0      2.0     2.0    2.0  53.0 ...    \n",
       "2  587.0   0.3   3.0   19.0   22.0   1.0      8.0     8.0    2.0  35.0 ...    \n",
       "3  585.0   0.4   7.0   28.0   43.0   1.0     17.0    17.0    4.0  27.0 ...    \n",
       "4  584.0   0.4  10.0   33.0   50.0   1.0     15.0    20.0    3.0  27.0 ...    \n",
       "\n",
       "        PMCO        SO2         RH        TMP       WSP         WDR  \\\n",
       "0  32.291667   5.416667  53.208333  13.675000  2.912500  198.083333   \n",
       "1  14.434783   2.130435  61.086957  11.504348  3.965217  323.434783   \n",
       "2  28.750000   7.200000  53.800000  11.470000  2.200000  271.200000   \n",
       "3  35.875000  16.166667  52.250000  12.808333  1.833333  138.000000   \n",
       "4  34.000000  14.416667  43.416667  13.683333  2.012500  141.458333   \n",
       "\n",
       "        PM10  Precip  dia  mes  \n",
       "0  96.666667     0.0    1    1  \n",
       "1  21.869565     0.0    2    1  \n",
       "2  49.800000     0.0    3    1  \n",
       "3  70.875000     0.0    4    1  \n",
       "4  60.541667     0.0    5    1  \n",
       "\n",
       "[5 rows x 45 columns]"
      ]
     },
     "execution_count": 150,
     "metadata": {},
     "output_type": "execute_result"
    }
   ],
   "source": [
    "data_day_avg.head()"
   ]
  },
  {
   "cell_type": "markdown",
   "metadata": {},
   "source": [
    "### Limpiemos los outliers"
   ]
  },
  {
   "cell_type": "raw",
   "metadata": {},
   "source": [
    "data_day_avg = data_day_avg[data_day_avg.PM10_y<200]"
   ]
  },
  {
   "cell_type": "code",
   "execution_count": 178,
   "metadata": {},
   "outputs": [],
   "source": [
    "data_hour_merge_24 = data_day_avg"
   ]
  },
  {
   "cell_type": "code",
   "execution_count": 179,
   "metadata": {},
   "outputs": [
    {
     "ename": "AttributeError",
     "evalue": "'DataFrame' object has no attribute 'UVB_x'",
     "output_type": "error",
     "traceback": [
      "\u001b[0;31m---------------------------------------------------------------------------\u001b[0m",
      "\u001b[0;31mAttributeError\u001b[0m                            Traceback (most recent call last)",
      "\u001b[0;32m<ipython-input-179-501f33216639>\u001b[0m in \u001b[0;36m<module>\u001b[0;34m()\u001b[0m\n\u001b[1;32m     20\u001b[0m \u001b[0mdata_hour_merge_24\u001b[0m\u001b[0;34m[\u001b[0m\u001b[0;34m\"RH_24_2\"\u001b[0m\u001b[0;34m]\u001b[0m \u001b[0;34m=\u001b[0m \u001b[0mdata_hour_merge_24\u001b[0m\u001b[0;34m.\u001b[0m\u001b[0mRH_y\u001b[0m\u001b[0;34m.\u001b[0m\u001b[0mshift\u001b[0m\u001b[0;34m(\u001b[0m\u001b[0;34m-\u001b[0m\u001b[0;36m2\u001b[0m\u001b[0;34m)\u001b[0m\u001b[0;34m\u001b[0m\u001b[0m\n\u001b[1;32m     21\u001b[0m \u001b[0;34m\u001b[0m\u001b[0m\n\u001b[0;32m---> 22\u001b[0;31m \u001b[0mdata_hour_merge_24\u001b[0m\u001b[0;34m[\u001b[0m\u001b[0;34m\"UVB_x_1\"\u001b[0m\u001b[0;34m]\u001b[0m \u001b[0;34m=\u001b[0m \u001b[0mdata_hour_merge_24\u001b[0m\u001b[0;34m.\u001b[0m\u001b[0mUVB_x\u001b[0m\u001b[0;34m.\u001b[0m\u001b[0mshift\u001b[0m\u001b[0;34m(\u001b[0m\u001b[0;34m-\u001b[0m\u001b[0;36m1\u001b[0m\u001b[0;34m)\u001b[0m\u001b[0;34m\u001b[0m\u001b[0m\n\u001b[0m\u001b[1;32m     23\u001b[0m \u001b[0mdata_hour_merge_24\u001b[0m\u001b[0;34m[\u001b[0m\u001b[0;34m\"UVB_x_2\"\u001b[0m\u001b[0;34m]\u001b[0m \u001b[0;34m=\u001b[0m \u001b[0mdata_hour_merge_24\u001b[0m\u001b[0;34m.\u001b[0m\u001b[0mUVB_x\u001b[0m\u001b[0;34m.\u001b[0m\u001b[0mshift\u001b[0m\u001b[0;34m(\u001b[0m\u001b[0;34m-\u001b[0m\u001b[0;36m2\u001b[0m\u001b[0;34m)\u001b[0m\u001b[0;34m\u001b[0m\u001b[0m\n\u001b[1;32m     24\u001b[0m \u001b[0mdata_hour_merge_24\u001b[0m\u001b[0;34m[\u001b[0m\u001b[0;34m\"UVB_y_1\"\u001b[0m\u001b[0;34m]\u001b[0m \u001b[0;34m=\u001b[0m \u001b[0mdata_hour_merge_24\u001b[0m\u001b[0;34m.\u001b[0m\u001b[0mUVB_y\u001b[0m\u001b[0;34m.\u001b[0m\u001b[0mshift\u001b[0m\u001b[0;34m(\u001b[0m\u001b[0;34m-\u001b[0m\u001b[0;36m1\u001b[0m\u001b[0;34m)\u001b[0m\u001b[0;34m\u001b[0m\u001b[0m\n",
      "\u001b[0;32m~/anaconda3/lib/python3.6/site-packages/pandas/core/generic.py\u001b[0m in \u001b[0;36m__getattr__\u001b[0;34m(self, name)\u001b[0m\n\u001b[1;32m   4370\u001b[0m             \u001b[0;32mif\u001b[0m \u001b[0mself\u001b[0m\u001b[0;34m.\u001b[0m\u001b[0m_info_axis\u001b[0m\u001b[0;34m.\u001b[0m\u001b[0m_can_hold_identifiers_and_holds_name\u001b[0m\u001b[0;34m(\u001b[0m\u001b[0mname\u001b[0m\u001b[0;34m)\u001b[0m\u001b[0;34m:\u001b[0m\u001b[0;34m\u001b[0m\u001b[0m\n\u001b[1;32m   4371\u001b[0m                 \u001b[0;32mreturn\u001b[0m \u001b[0mself\u001b[0m\u001b[0;34m[\u001b[0m\u001b[0mname\u001b[0m\u001b[0;34m]\u001b[0m\u001b[0;34m\u001b[0m\u001b[0m\n\u001b[0;32m-> 4372\u001b[0;31m             \u001b[0;32mreturn\u001b[0m \u001b[0mobject\u001b[0m\u001b[0;34m.\u001b[0m\u001b[0m__getattribute__\u001b[0m\u001b[0;34m(\u001b[0m\u001b[0mself\u001b[0m\u001b[0;34m,\u001b[0m \u001b[0mname\u001b[0m\u001b[0;34m)\u001b[0m\u001b[0;34m\u001b[0m\u001b[0m\n\u001b[0m\u001b[1;32m   4373\u001b[0m \u001b[0;34m\u001b[0m\u001b[0m\n\u001b[1;32m   4374\u001b[0m     \u001b[0;32mdef\u001b[0m \u001b[0m__setattr__\u001b[0m\u001b[0;34m(\u001b[0m\u001b[0mself\u001b[0m\u001b[0;34m,\u001b[0m \u001b[0mname\u001b[0m\u001b[0;34m,\u001b[0m \u001b[0mvalue\u001b[0m\u001b[0;34m)\u001b[0m\u001b[0;34m:\u001b[0m\u001b[0;34m\u001b[0m\u001b[0m\n",
      "\u001b[0;31mAttributeError\u001b[0m: 'DataFrame' object has no attribute 'UVB_x'"
     ]
    }
   ],
   "source": [
    "data_hour_merge_24[\"PM10_1_fcst\"] = data_hour_merge_24.O3_y.shift(1)\n",
    "data_hour_merge_24[\"PM10_1_a\"] = data_hour_merge_24.PM10.shift(-1)\n",
    "data_hour_merge_24[\"PM10_2_a\"] = data_hour_merge_24.PM10.shift(-2)\n",
    "data_hour_merge_24[\"PM10_3_a\"] = data_hour_merge_24.PM10.shift(-3)\n",
    "data_hour_merge_24[\"PM10_4_a\"] = data_hour_merge_24.PM10.shift(-4)\n",
    "\n",
    "data_hour_merge_24[\"PM10_2_y\"] = data_hour_merge_24.PM10_y.shift(-2)\n",
    "data_hour_merge_24[\"PM10_3_y\"] = data_hour_merge_24.PM10_y.shift(-3)\n",
    "data_hour_merge_24[\"PM10_4_y\"] = data_hour_merge_24.PM10_y.shift(-4)\n",
    "\n",
    "\n",
    "data_hour_merge_24[\"PM10_24\"] = data_hour_merge_24.PM10_y.shift(-1)\n",
    "data_hour_merge_24[\"PM10_24_x\"] = data_hour_merge_24.PM10_x.shift(1)\n",
    "data_hour_merge_24[\"temp_24\"] = data_hour_merge_24.TMP.shift(-1)\n",
    "data_hour_merge_24[\"pre_24\"] = data_hour_merge_24.PA.shift(-1)\n",
    "data_hour_merge_24[\"RH_24\"] = data_hour_merge_24.RH_y.shift(-1)\n",
    "data_hour_merge_24[\"RH_24_2\"] = data_hour_merge_24.RH_y.shift(-2)\n",
    "\n",
    "data_hour_merge_24[\"RH_24\"] = data_hour_merge_24.RH_y.shift(-1)\n",
    "data_hour_merge_24[\"RH_24_2\"] = data_hour_merge_24.RH_y.shift(-2)\n",
    "\n",
    "data_hour_merge_24[\"UVB_x_1\"] = data_hour_merge_24.UVB_x.shift(-1)\n",
    "data_hour_merge_24[\"UVB_x_2\"] = data_hour_merge_24.UVB_x.shift(-2)\n",
    "data_hour_merge_24[\"UVB_y_1\"] = data_hour_merge_24.UVB_y.shift(-1)\n",
    "data_hour_merge_24[\"UVB_y_2\"] = data_hour_merge_24.UVB_y.shift(-2)\n",
    "\n",
    "#data_MGH_18 = data_MGH_18.iloc[:,:-6]"
   ]
  },
  {
   "cell_type": "code",
   "execution_count": 180,
   "metadata": {},
   "outputs": [],
   "source": [
    "data_hour_merge_24 = data_hour_merge_24.dropna(how='any')"
   ]
  },
  {
   "cell_type": "code",
   "execution_count": 154,
   "metadata": {},
   "outputs": [
    {
     "name": "stderr",
     "output_type": "stream",
     "text": [
      "/home/paw/anaconda3/lib/python3.6/site-packages/ipykernel_launcher.py:1: SettingWithCopyWarning: \n",
      "A value is trying to be set on a copy of a slice from a DataFrame.\n",
      "Try using .loc[row_indexer,col_indexer] = value instead\n",
      "\n",
      "See the caveats in the documentation: http://pandas.pydata.org/pandas-docs/stable/indexing.html#indexing-view-versus-copy\n",
      "  \"\"\"Entry point for launching an IPython kernel.\n",
      "/home/paw/anaconda3/lib/python3.6/site-packages/ipykernel_launcher.py:2: SettingWithCopyWarning: \n",
      "A value is trying to be set on a copy of a slice from a DataFrame.\n",
      "Try using .loc[row_indexer,col_indexer] = value instead\n",
      "\n",
      "See the caveats in the documentation: http://pandas.pydata.org/pandas-docs/stable/indexing.html#indexing-view-versus-copy\n",
      "  \n"
     ]
    }
   ],
   "source": [
    "data_hour_merge_24['dia'] = data_hour_merge_24['dia'].astype(str).astype(float)\n",
    "data_hour_merge_24['mes'] = data_hour_merge_24['mes'].astype(str).astype(float)"
   ]
  },
  {
   "cell_type": "code",
   "execution_count": 155,
   "metadata": {},
   "outputs": [],
   "source": [
    "corr = data_hour_merge_24.corr();"
   ]
  },
  {
   "cell_type": "code",
   "execution_count": 156,
   "metadata": {},
   "outputs": [],
   "source": [
    "corr[\"PM10_predict\"].sort_values(ascending=True);"
   ]
  },
  {
   "cell_type": "code",
   "execution_count": 157,
   "metadata": {},
   "outputs": [],
   "source": [
    "columns_df = data_hour_merge_24.columns"
   ]
  },
  {
   "cell_type": "code",
   "execution_count": 158,
   "metadata": {},
   "outputs": [],
   "source": [
    "columns_df.tolist();"
   ]
  },
  {
   "cell_type": "markdown",
   "metadata": {},
   "source": [
    "### Normalizamos el DS"
   ]
  },
  {
   "cell_type": "code",
   "execution_count": 159,
   "metadata": {},
   "outputs": [],
   "source": [
    "from sklearn import preprocessing\n",
    "\n",
    "x = data_hour_merge_24.values #returns a numpy array\n",
    "min_max_scaler = preprocessing.MinMaxScaler()\n",
    "x_scaled = min_max_scaler.fit_transform(x)\n",
    "data_hour_merge_24 = pd.DataFrame(x_scaled)"
   ]
  },
  {
   "cell_type": "code",
   "execution_count": 160,
   "metadata": {},
   "outputs": [],
   "source": [
    "data_hour_merge_24.columns = columns_df"
   ]
  },
  {
   "cell_type": "code",
   "execution_count": 161,
   "metadata": {},
   "outputs": [
    {
     "data": {
      "text/html": [
       "<div>\n",
       "<style scoped>\n",
       "    .dataframe tbody tr th:only-of-type {\n",
       "        vertical-align: middle;\n",
       "    }\n",
       "\n",
       "    .dataframe tbody tr th {\n",
       "        vertical-align: top;\n",
       "    }\n",
       "\n",
       "    .dataframe thead th {\n",
       "        text-align: right;\n",
       "    }\n",
       "</style>\n",
       "<table border=\"1\" class=\"dataframe\">\n",
       "  <thead>\n",
       "    <tr style=\"text-align: right;\">\n",
       "      <th></th>\n",
       "      <th>PA_x</th>\n",
       "      <th>CO_x</th>\n",
       "      <th>NO_x</th>\n",
       "      <th>NO2_x</th>\n",
       "      <th>NOX_x</th>\n",
       "      <th>O3_x</th>\n",
       "      <th>PM2.5_x</th>\n",
       "      <th>PMCO_x</th>\n",
       "      <th>SO2_x</th>\n",
       "      <th>RH_x</th>\n",
       "      <th>...</th>\n",
       "      <th>PMCO_1_x</th>\n",
       "      <th>PM10_24</th>\n",
       "      <th>WDR_1</th>\n",
       "      <th>temp_24</th>\n",
       "      <th>RH_24_1</th>\n",
       "      <th>RH_1_y</th>\n",
       "      <th>RH_1_x</th>\n",
       "      <th>TMP_1</th>\n",
       "      <th>TMP_x_1</th>\n",
       "      <th>TMP_y_1</th>\n",
       "    </tr>\n",
       "  </thead>\n",
       "  <tbody>\n",
       "    <tr>\n",
       "      <th>0</th>\n",
       "      <td>1.000000</td>\n",
       "      <td>0.1</td>\n",
       "      <td>0.00</td>\n",
       "      <td>0.046512</td>\n",
       "      <td>0.031746</td>\n",
       "      <td>0.088235</td>\n",
       "      <td>0.022222</td>\n",
       "      <td>0.025</td>\n",
       "      <td>0.035714</td>\n",
       "      <td>0.649351</td>\n",
       "      <td>...</td>\n",
       "      <td>0.175</td>\n",
       "      <td>0.111298</td>\n",
       "      <td>0.738922</td>\n",
       "      <td>0.204276</td>\n",
       "      <td>0.549551</td>\n",
       "      <td>0.626506</td>\n",
       "      <td>0.415584</td>\n",
       "      <td>0.204276</td>\n",
       "      <td>0.347594</td>\n",
       "      <td>0.256757</td>\n",
       "    </tr>\n",
       "    <tr>\n",
       "      <th>1</th>\n",
       "      <td>0.800000</td>\n",
       "      <td>0.3</td>\n",
       "      <td>0.06</td>\n",
       "      <td>0.372093</td>\n",
       "      <td>0.301587</td>\n",
       "      <td>0.029412</td>\n",
       "      <td>0.155556</td>\n",
       "      <td>0.175</td>\n",
       "      <td>0.035714</td>\n",
       "      <td>0.415584</td>\n",
       "      <td>...</td>\n",
       "      <td>0.400</td>\n",
       "      <td>0.153457</td>\n",
       "      <td>0.261962</td>\n",
       "      <td>0.284367</td>\n",
       "      <td>0.529198</td>\n",
       "      <td>0.783133</td>\n",
       "      <td>0.311688</td>\n",
       "      <td>0.284367</td>\n",
       "      <td>0.272727</td>\n",
       "      <td>0.423423</td>\n",
       "    </tr>\n",
       "    <tr>\n",
       "      <th>2</th>\n",
       "      <td>0.666667</td>\n",
       "      <td>0.4</td>\n",
       "      <td>0.14</td>\n",
       "      <td>0.581395</td>\n",
       "      <td>0.634921</td>\n",
       "      <td>0.029412</td>\n",
       "      <td>0.355556</td>\n",
       "      <td>0.400</td>\n",
       "      <td>0.071429</td>\n",
       "      <td>0.311688</td>\n",
       "      <td>...</td>\n",
       "      <td>0.475</td>\n",
       "      <td>0.107926</td>\n",
       "      <td>0.274346</td>\n",
       "      <td>0.336730</td>\n",
       "      <td>0.413211</td>\n",
       "      <td>0.518072</td>\n",
       "      <td>0.311688</td>\n",
       "      <td>0.336730</td>\n",
       "      <td>0.417112</td>\n",
       "      <td>0.400901</td>\n",
       "    </tr>\n",
       "    <tr>\n",
       "      <th>3</th>\n",
       "      <td>0.600000</td>\n",
       "      <td>0.4</td>\n",
       "      <td>0.20</td>\n",
       "      <td>0.697674</td>\n",
       "      <td>0.746032</td>\n",
       "      <td>0.029412</td>\n",
       "      <td>0.311111</td>\n",
       "      <td>0.475</td>\n",
       "      <td>0.053571</td>\n",
       "      <td>0.311688</td>\n",
       "      <td>...</td>\n",
       "      <td>0.400</td>\n",
       "      <td>0.397976</td>\n",
       "      <td>0.304185</td>\n",
       "      <td>0.342216</td>\n",
       "      <td>0.478864</td>\n",
       "      <td>0.759036</td>\n",
       "      <td>0.233766</td>\n",
       "      <td>0.342216</td>\n",
       "      <td>0.347594</td>\n",
       "      <td>0.450450</td>\n",
       "    </tr>\n",
       "    <tr>\n",
       "      <th>4</th>\n",
       "      <td>0.533333</td>\n",
       "      <td>0.5</td>\n",
       "      <td>0.08</td>\n",
       "      <td>0.418605</td>\n",
       "      <td>0.444444</td>\n",
       "      <td>0.029412</td>\n",
       "      <td>0.377778</td>\n",
       "      <td>0.400</td>\n",
       "      <td>0.053571</td>\n",
       "      <td>0.233766</td>\n",
       "      <td>...</td>\n",
       "      <td>0.725</td>\n",
       "      <td>0.261383</td>\n",
       "      <td>0.364760</td>\n",
       "      <td>0.382112</td>\n",
       "      <td>0.381479</td>\n",
       "      <td>0.554217</td>\n",
       "      <td>0.181818</td>\n",
       "      <td>0.382112</td>\n",
       "      <td>0.395722</td>\n",
       "      <td>0.459459</td>\n",
       "    </tr>\n",
       "  </tbody>\n",
       "</table>\n",
       "<p>5 rows × 60 columns</p>\n",
       "</div>"
      ],
      "text/plain": [
       "       PA_x  CO_x  NO_x     NO2_x     NOX_x      O3_x   PM2.5_x  PMCO_x  \\\n",
       "0  1.000000   0.1  0.00  0.046512  0.031746  0.088235  0.022222   0.025   \n",
       "1  0.800000   0.3  0.06  0.372093  0.301587  0.029412  0.155556   0.175   \n",
       "2  0.666667   0.4  0.14  0.581395  0.634921  0.029412  0.355556   0.400   \n",
       "3  0.600000   0.4  0.20  0.697674  0.746032  0.029412  0.311111   0.475   \n",
       "4  0.533333   0.5  0.08  0.418605  0.444444  0.029412  0.377778   0.400   \n",
       "\n",
       "      SO2_x      RH_x    ...     PMCO_1_x   PM10_24     WDR_1   temp_24  \\\n",
       "0  0.035714  0.649351    ...        0.175  0.111298  0.738922  0.204276   \n",
       "1  0.035714  0.415584    ...        0.400  0.153457  0.261962  0.284367   \n",
       "2  0.071429  0.311688    ...        0.475  0.107926  0.274346  0.336730   \n",
       "3  0.053571  0.311688    ...        0.400  0.397976  0.304185  0.342216   \n",
       "4  0.053571  0.233766    ...        0.725  0.261383  0.364760  0.382112   \n",
       "\n",
       "    RH_24_1    RH_1_y    RH_1_x     TMP_1   TMP_x_1   TMP_y_1  \n",
       "0  0.549551  0.626506  0.415584  0.204276  0.347594  0.256757  \n",
       "1  0.529198  0.783133  0.311688  0.284367  0.272727  0.423423  \n",
       "2  0.413211  0.518072  0.311688  0.336730  0.417112  0.400901  \n",
       "3  0.478864  0.759036  0.233766  0.342216  0.347594  0.450450  \n",
       "4  0.381479  0.554217  0.181818  0.382112  0.395722  0.459459  \n",
       "\n",
       "[5 rows x 60 columns]"
      ]
     },
     "execution_count": 161,
     "metadata": {},
     "output_type": "execute_result"
    }
   ],
   "source": [
    "data_hour_merge_24.head()"
   ]
  },
  {
   "cell_type": "markdown",
   "metadata": {},
   "source": [
    "## Visualizaciones    <a class=\"anchor\" id=\"viz-bullet\"></a>"
   ]
  },
  {
   "cell_type": "raw",
   "metadata": {},
   "source": [
    ">>> import seaborn as sns; sns.set()\n",
    ">>> import matplotlib.pyplot as plt\n",
    ">>> fmri = sns.load_dataset(\"fmri\")\n",
    ">>> ax = sns.lineplot(x=\"fecha\", y=\"PM10_24\", data=data_hour_merge_24[data_hour_merge_24.fecha > \"2018-01-01\"])"
   ]
  },
  {
   "cell_type": "raw",
   "metadata": {},
   "source": [
    "## PM10"
   ]
  },
  {
   "cell_type": "raw",
   "metadata": {},
   "source": [
    "# O3"
   ]
  },
  {
   "cell_type": "raw",
   "metadata": {},
   "source": [
    "with sns.axes_style('white'):\n",
    "    sns.jointplot(\"hora\", \"O3\", data_18);\n",
    "    plt.savefig('/Users/danielbustillos/Desktop/hora-o3.png', dpi=400,background=\"white\")"
   ]
  },
  {
   "cell_type": "raw",
   "metadata": {},
   "source": [
    "with sns.axes_style('white'):\n",
    "    sns.jointplot(\"dia\", \"O3\", data_18);\n",
    "    plt.savefig('/Users/danielbustillos/Desktop/dia-o3.png', dpi=400,background=\"white\")"
   ]
  },
  {
   "cell_type": "raw",
   "metadata": {},
   "source": [
    "with sns.axes_style('white'):\n",
    "    sns.jointplot(\"mes\", \"O3\", data_18);\n",
    "    plt.savefig('/Users/danielbustillos/Desktop/mes-o3.png', dpi=400,background=\"white\")"
   ]
  },
  {
   "cell_type": "raw",
   "metadata": {},
   "source": [
    "g = sns.PairGrid(data_18, vars=['CO', 'NO', 'NO2', 'NOX', 'O3', 'PM10'], dropna=True)\n",
    "g.map_diag(plt.hist)\n",
    "g.map_offdiag(plt.scatter);"
   ]
  },
  {
   "cell_type": "raw",
   "metadata": {},
   "source": [
    "g = sns.PairGrid(data_18, vars=['PM2.5', 'PMCO', 'SO2','TMP', 'WSP', 'PM10'], dropna=True)\n",
    "g.map_diag(plt.hist)\n",
    "g.map_offdiag(plt.scatter);"
   ]
  },
  {
   "cell_type": "raw",
   "metadata": {},
   "source": [
    "g = sns.PairGrid(data_18, vars=['mes', 'hora',\"dia\",'CO', 'NO', 'NO2', 'NOX', 'O3', 'PM2.5', 'PMCO', 'SO2','TMP', 'WSP', 'PM10'], dropna=True)\n",
    "g.map_diag(plt.hist)\n",
    "g.map_offdiag(plt.scatter);"
   ]
  },
  {
   "cell_type": "raw",
   "metadata": {},
   "source": [
    "## Detalle"
   ]
  },
  {
   "cell_type": "raw",
   "metadata": {},
   "source": [
    "g = sns.PairGrid(data_18, vars=['RH',\n",
    "       'TMP', 'WSP', 'PM10'], dropna=True)\n",
    "g.map_diag(plt.hist)\n",
    "g.map_offdiag(plt.scatter);"
   ]
  },
  {
   "cell_type": "markdown",
   "metadata": {},
   "source": [
    "\n",
    "### Creamos los conjuntos Test y Train"
   ]
  },
  {
   "cell_type": "code",
   "execution_count": 162,
   "metadata": {},
   "outputs": [],
   "source": [
    "X = data_hour_merge_24.loc[:, data_hour_merge_24.columns != 'PM10_predict']\n",
    "y =  data_hour_merge_24.loc[:, data_hour_merge_24.columns == 'PM10_predict']\n",
    "X_train, X_test, y_train, y_test = train_test_split(X, y, test_size=0.35, random_state=123)"
   ]
  },
  {
   "cell_type": "markdown",
   "metadata": {},
   "source": [
    "## Linear"
   ]
  },
  {
   "cell_type": "code",
   "execution_count": 163,
   "metadata": {},
   "outputs": [],
   "source": [
    "from sklearn.linear_model import LinearRegression\n",
    "from sklearn.metrics import mean_squared_error, mean_absolute_error, r2_score\n",
    "\n",
    "# Create linear regression object\n",
    "regr = LinearRegression()"
   ]
  },
  {
   "cell_type": "code",
   "execution_count": 164,
   "metadata": {},
   "outputs": [
    {
     "data": {
      "text/plain": [
       "LinearRegression(copy_X=True, fit_intercept=True, n_jobs=1, normalize=False)"
      ]
     },
     "execution_count": 164,
     "metadata": {},
     "output_type": "execute_result"
    }
   ],
   "source": [
    "# Train the model using the training sets\n",
    "regr.fit(X_train, y_train)"
   ]
  },
  {
   "cell_type": "code",
   "execution_count": 165,
   "metadata": {},
   "outputs": [],
   "source": [
    "# Make predictions using the testing set\n",
    "lin_pred = regr.predict(X_test)"
   ]
  },
  {
   "cell_type": "code",
   "execution_count": 166,
   "metadata": {},
   "outputs": [
    {
     "data": {
      "image/png": "[encoded data removed]",
      "text/plain": [
       "<Figure size 432x288 with 1 Axes>"
      ]
     },
     "metadata": {},
     "output_type": "display_data"
    }
   ],
   "source": [
    "plt.scatter(y_test, lin_pred)\n",
    "plt.xlabel('Measured')\n",
    "plt.ylabel('Predicted')\n",
    "plt.title('Linear Regression Predicted vs Actual')\n",
    "plt.show()"
   ]
  },
  {
   "cell_type": "code",
   "execution_count": 167,
   "metadata": {},
   "outputs": [
    {
     "data": {
      "text/plain": [
       "0.32597035888197134"
      ]
     },
     "execution_count": 167,
     "metadata": {},
     "output_type": "execute_result"
    }
   ],
   "source": [
    "regr.score(X_test, y_test)"
   ]
  },
  {
   "cell_type": "markdown",
   "metadata": {},
   "source": [
    "## Neural Network Regression"
   ]
  },
  {
   "cell_type": "code",
   "execution_count": 168,
   "metadata": {},
   "outputs": [
    {
     "name": "stderr",
     "output_type": "stream",
     "text": [
      "/home/paw/anaconda3/lib/python3.6/site-packages/sklearn/neural_network/multilayer_perceptron.py:1306: DataConversionWarning: A column-vector y was passed when a 1d array was expected. Please change the shape of y to (n_samples, ), for example using ravel().\n",
      "  y = column_or_1d(y, warn=True)\n"
     ]
    },
    {
     "data": {
      "text/plain": [
       "MLPRegressor(activation='relu', alpha=0.0001, batch_size='auto', beta_1=0.9,\n",
       "       beta_2=0.999, early_stopping=False, epsilon=1e-08,\n",
       "       hidden_layer_sizes=(100,), learning_rate='constant',\n",
       "       learning_rate_init=0.001, max_iter=200, momentum=0.9,\n",
       "       nesterovs_momentum=True, power_t=0.5, random_state=None,\n",
       "       shuffle=True, solver='adam', tol=0.0001, validation_fraction=0.1,\n",
       "       verbose=False, warm_start=False)"
      ]
     },
     "execution_count": 168,
     "metadata": {},
     "output_type": "execute_result"
    }
   ],
   "source": [
    "from sklearn.neural_network import MLPRegressor\n",
    "from sklearn.metrics import mean_squared_error, mean_absolute_error, r2_score\n",
    "\n",
    "# Create MLPRegressor object\n",
    "mlp = MLPRegressor()# alpha=900.001, max_iter=100000, epsilon=1 ,tol=.0001)\n",
    "# Train the model using the training sets\n",
    "mlp.fit(X_train, y_train)"
   ]
  },
  {
   "cell_type": "code",
   "execution_count": 169,
   "metadata": {},
   "outputs": [
    {
     "data": {
      "image/png": "[encoded data removed]",
      "text/plain": [
       "<Figure size 432x288 with 1 Axes>"
      ]
     },
     "metadata": {},
     "output_type": "display_data"
    }
   ],
   "source": [
    "# Score the model\n",
    "neural_network_regression_score = mlp.score(X_test, y_test)\n",
    "neural_network_regression_score\n",
    "# Make predictions using the testing set\n",
    "nnr_pred = mlp.predict(X_test)\n",
    "# The mean squared error\n",
    "\n",
    "plt.scatter(y_test, nnr_pred)\n",
    "plt.xlabel('Measured')\n",
    "plt.ylabel('Predicted')\n",
    "plt.title('Neural Network Regression Predicted vs Actual')\n",
    "plt.show()"
   ]
  },
  {
   "cell_type": "code",
   "execution_count": 170,
   "metadata": {},
   "outputs": [
    {
     "data": {
      "text/plain": [
       "0.11780939534191248"
      ]
     },
     "execution_count": 170,
     "metadata": {},
     "output_type": "execute_result"
    }
   ],
   "source": [
    "xgb_score = mlp.score(X_test, y_test)\n",
    "xgb_score"
   ]
  },
  {
   "cell_type": "markdown",
   "metadata": {},
   "source": [
    "# XGBoost ADA"
   ]
  },
  {
   "cell_type": "code",
   "execution_count": 171,
   "metadata": {},
   "outputs": [
    {
     "ename": "NameError",
     "evalue": "name 'XGBRegressor' is not defined",
     "output_type": "error",
     "traceback": [
      "\u001b[0;31m---------------------------------------------------------------------------\u001b[0m",
      "\u001b[0;31mNameError\u001b[0m                                 Traceback (most recent call last)",
      "\u001b[0;32m<ipython-input-171-6628b2a58b5a>\u001b[0m in \u001b[0;36m<module>\u001b[0;34m()\u001b[0m\n\u001b[0;32m----> 1\u001b[0;31m \u001b[0mregr_2\u001b[0m \u001b[0;34m=\u001b[0m \u001b[0mAdaBoostRegressor\u001b[0m\u001b[0;34m(\u001b[0m\u001b[0mXGBRegressor\u001b[0m\u001b[0;34m(\u001b[0m\u001b[0mlearning_rate\u001b[0m \u001b[0;34m=\u001b[0m \u001b[0;36m.0015\u001b[0m\u001b[0;34m,\u001b[0m \u001b[0mn_estimators\u001b[0m\u001b[0;34m=\u001b[0m\u001b[0;36m3000\u001b[0m\u001b[0;34m,\u001b[0m \u001b[0mmax_depth\u001b[0m\u001b[0;34m=\u001b[0m\u001b[0;36m10\u001b[0m\u001b[0;34m)\u001b[0m\u001b[0;34m,\u001b[0m\u001b[0mn_estimators\u001b[0m\u001b[0;34m=\u001b[0m\u001b[0;36m100\u001b[0m\u001b[0;34m)\u001b[0m\u001b[0;34m\u001b[0m\u001b[0m\n\u001b[0m\u001b[1;32m      2\u001b[0m \u001b[0mregr_2\u001b[0m\u001b[0;34m.\u001b[0m\u001b[0mfit\u001b[0m\u001b[0;34m(\u001b[0m\u001b[0mX_train\u001b[0m\u001b[0;34m,\u001b[0m \u001b[0my_train\u001b[0m\u001b[0;34m)\u001b[0m\u001b[0;34m\u001b[0m\u001b[0m\n",
      "\u001b[0;31mNameError\u001b[0m: name 'XGBRegressor' is not defined"
     ]
    }
   ],
   "source": [
    "regr_2 = AdaBoostRegressor(XGBRegressor(learning_rate = .0015, n_estimators=3000, max_depth=10),n_estimators=100)\n",
    "regr_2.fit(X_train, y_train)"
   ]
  },
  {
   "cell_type": "code",
   "execution_count": 172,
   "metadata": {},
   "outputs": [
    {
     "ename": "NameError",
     "evalue": "name 'regr_2' is not defined",
     "output_type": "error",
     "traceback": [
      "\u001b[0;31m---------------------------------------------------------------------------\u001b[0m",
      "\u001b[0;31mNameError\u001b[0m                                 Traceback (most recent call last)",
      "\u001b[0;32m<ipython-input-172-57f8c4b02c80>\u001b[0m in \u001b[0;36m<module>\u001b[0;34m()\u001b[0m\n\u001b[0;32m----> 1\u001b[0;31m \u001b[0mADAXGB_pred\u001b[0m \u001b[0;34m=\u001b[0m \u001b[0mregr_2\u001b[0m\u001b[0;34m.\u001b[0m\u001b[0mpredict\u001b[0m\u001b[0;34m(\u001b[0m\u001b[0mX_test\u001b[0m\u001b[0;34m)\u001b[0m\u001b[0;34m\u001b[0m\u001b[0m\n\u001b[0m",
      "\u001b[0;31mNameError\u001b[0m: name 'regr_2' is not defined"
     ]
    }
   ],
   "source": [
    "ADAXGB_pred = regr_2.predict(X_test)"
   ]
  },
  {
   "cell_type": "code",
   "execution_count": 173,
   "metadata": {},
   "outputs": [
    {
     "ename": "NameError",
     "evalue": "name 'ADAXGB_pred' is not defined",
     "output_type": "error",
     "traceback": [
      "\u001b[0;31m---------------------------------------------------------------------------\u001b[0m",
      "\u001b[0;31mNameError\u001b[0m                                 Traceback (most recent call last)",
      "\u001b[0;32m<ipython-input-173-ca88fceecf01>\u001b[0m in \u001b[0;36m<module>\u001b[0;34m()\u001b[0m\n\u001b[0;32m----> 1\u001b[0;31m \u001b[0mplt\u001b[0m\u001b[0;34m.\u001b[0m\u001b[0mscatter\u001b[0m\u001b[0;34m(\u001b[0m\u001b[0my_test\u001b[0m\u001b[0;34m,\u001b[0m \u001b[0mADAXGB_pred\u001b[0m\u001b[0;34m)\u001b[0m\u001b[0;34m\u001b[0m\u001b[0m\n\u001b[0m\u001b[1;32m      2\u001b[0m \u001b[0mplt\u001b[0m\u001b[0;34m.\u001b[0m\u001b[0mxlabel\u001b[0m\u001b[0;34m(\u001b[0m\u001b[0;34m'Measured'\u001b[0m\u001b[0;34m)\u001b[0m\u001b[0;34m\u001b[0m\u001b[0m\n\u001b[1;32m      3\u001b[0m \u001b[0mplt\u001b[0m\u001b[0;34m.\u001b[0m\u001b[0mylabel\u001b[0m\u001b[0;34m(\u001b[0m\u001b[0;34m'Predicted'\u001b[0m\u001b[0;34m)\u001b[0m\u001b[0;34m\u001b[0m\u001b[0m\n\u001b[1;32m      4\u001b[0m \u001b[0mplt\u001b[0m\u001b[0;34m.\u001b[0m\u001b[0mtitle\u001b[0m\u001b[0;34m(\u001b[0m\u001b[0;34m'XGBoost Predicted vs Actual'\u001b[0m\u001b[0;34m)\u001b[0m\u001b[0;34m\u001b[0m\u001b[0m\n\u001b[1;32m      5\u001b[0m \u001b[0mplt\u001b[0m\u001b[0;34m.\u001b[0m\u001b[0mshow\u001b[0m\u001b[0;34m(\u001b[0m\u001b[0;34m)\u001b[0m\u001b[0;34m\u001b[0m\u001b[0m\n",
      "\u001b[0;31mNameError\u001b[0m: name 'ADAXGB_pred' is not defined"
     ]
    }
   ],
   "source": [
    "plt.scatter(y_test, ADAXGB_pred)\n",
    "plt.xlabel('Measured')\n",
    "plt.ylabel('Predicted')\n",
    "plt.title('XGBoost Predicted vs Actual')\n",
    "plt.show()"
   ]
  },
  {
   "cell_type": "code",
   "execution_count": 174,
   "metadata": {},
   "outputs": [
    {
     "ename": "NameError",
     "evalue": "name 'regr_2' is not defined",
     "output_type": "error",
     "traceback": [
      "\u001b[0;31m---------------------------------------------------------------------------\u001b[0m",
      "\u001b[0;31mNameError\u001b[0m                                 Traceback (most recent call last)",
      "\u001b[0;32m<ipython-input-174-3880f245adbc>\u001b[0m in \u001b[0;36m<module>\u001b[0;34m()\u001b[0m\n\u001b[0;32m----> 1\u001b[0;31m \u001b[0mxgb_score\u001b[0m \u001b[0;34m=\u001b[0m \u001b[0mregr_2\u001b[0m\u001b[0;34m.\u001b[0m\u001b[0mscore\u001b[0m\u001b[0;34m(\u001b[0m\u001b[0mX_test\u001b[0m\u001b[0;34m,\u001b[0m \u001b[0my_test\u001b[0m\u001b[0;34m)\u001b[0m\u001b[0;34m\u001b[0m\u001b[0m\n\u001b[0m\u001b[1;32m      2\u001b[0m \u001b[0mxgb_score\u001b[0m\u001b[0;34m\u001b[0m\u001b[0m\n",
      "\u001b[0;31mNameError\u001b[0m: name 'regr_2' is not defined"
     ]
    }
   ],
   "source": [
    "xgb_score = regr_2.score(X_test, y_test)\n",
    "xgb_score"
   ]
  },
  {
   "cell_type": "markdown",
   "metadata": {},
   "source": [
    "## XGBOOST"
   ]
  },
  {
   "cell_type": "code",
   "execution_count": 175,
   "metadata": {},
   "outputs": [],
   "source": [
    "from xgboost.sklearn import XGBRegressor\n",
    "\n",
    "#Fitting XGB regressor \n",
    "xboost = XGBRegressor(learning_rate = .0015, n_estimators=3000, max_depth=10)"
   ]
  },
  {
   "cell_type": "code",
   "execution_count": 176,
   "metadata": {},
   "outputs": [],
   "source": [
    "xboost.fit(X_train, y_train)\n",
    "xgb_score = xboost.score(X_test, y_test)"
   ]
  },
  {
   "cell_type": "code",
   "execution_count": 177,
   "metadata": {},
   "outputs": [],
   "source": [
    "#Predict \n",
    "xboost_pred = xboost.predict(X_test)"
   ]
  },
  {
   "cell_type": "code",
   "execution_count": 217,
   "metadata": {},
   "outputs": [
    {
     "data": {
      "image/png": "[encoded data removed]",
      "text/plain": [
       "<Figure size 432x288 with 1 Axes>"
      ]
     },
     "metadata": {},
     "output_type": "display_data"
    }
   ],
   "source": [
    "plt.scatter(y_test, xboost_pred)\n",
    "plt.xlabel('Measured')\n",
    "plt.ylabel('Predicted')\n",
    "plt.title('XGBoost Predicted vs Actual')\n",
    "plt.show()"
   ]
  },
  {
   "cell_type": "code",
   "execution_count": 218,
   "metadata": {},
   "outputs": [
    {
     "data": {
      "text/plain": [
       "0.2656089107401518"
      ]
     },
     "execution_count": 218,
     "metadata": {},
     "output_type": "execute_result"
    }
   ],
   "source": [
    "xgb_score = xboost.score(X_test, y_test)\n",
    "xgb_score"
   ]
  },
  {
   "cell_type": "markdown",
   "metadata": {},
   "source": [
    "## Decission Tree"
   ]
  },
  {
   "cell_type": "code",
   "execution_count": 219,
   "metadata": {},
   "outputs": [],
   "source": [
    "from sklearn.datasets import load_boston\n",
    "from sklearn.model_selection import cross_val_score\n",
    "from sklearn.tree import DecisionTreeRegressor\n",
    "regressor = DecisionTreeRegressor(random_state=10,max_depth=3000)"
   ]
  },
  {
   "cell_type": "code",
   "execution_count": 220,
   "metadata": {},
   "outputs": [
    {
     "data": {
      "text/plain": [
       "DecisionTreeRegressor(criterion='mse', max_depth=3000, max_features=None,\n",
       "           max_leaf_nodes=None, min_impurity_decrease=0.0,\n",
       "           min_impurity_split=None, min_samples_leaf=1,\n",
       "           min_samples_split=2, min_weight_fraction_leaf=0.0,\n",
       "           presort=False, random_state=10, splitter='best')"
      ]
     },
     "execution_count": 220,
     "metadata": {},
     "output_type": "execute_result"
    }
   ],
   "source": [
    "regressor.fit(X_train, y_train)"
   ]
  },
  {
   "cell_type": "code",
   "execution_count": 221,
   "metadata": {},
   "outputs": [],
   "source": [
    "xboost_pred = regressor.predict(X_test)"
   ]
  },
  {
   "cell_type": "code",
   "execution_count": 222,
   "metadata": {},
   "outputs": [
    {
     "data": {
      "image/png": "[encoded data removed]",
      "text/plain": [
       "<Figure size 432x288 with 1 Axes>"
      ]
     },
     "metadata": {},
     "output_type": "display_data"
    }
   ],
   "source": [
    "plt.scatter(y_test, xboost_pred)\n",
    "plt.xlabel('Measured')\n",
    "plt.ylabel('Predicted')\n",
    "plt.title('Decission Tree vs Actual')\n",
    "plt.show()"
   ]
  },
  {
   "cell_type": "code",
   "execution_count": 228,
   "metadata": {},
   "outputs": [
    {
     "data": {
      "text/plain": [
       "-0.38216940119945253"
      ]
     },
     "execution_count": 228,
     "metadata": {},
     "output_type": "execute_result"
    }
   ],
   "source": [
    "regressor.score(X_test, y_test)"
   ]
  },
  {
   "cell_type": "markdown",
   "metadata": {},
   "source": [
    "# ada"
   ]
  },
  {
   "cell_type": "code",
   "execution_count": 229,
   "metadata": {},
   "outputs": [
    {
     "name": "stderr",
     "output_type": "stream",
     "text": [
      "/home/paw/anaconda3/lib/python3.6/site-packages/sklearn/utils/validation.py:578: DataConversionWarning: A column-vector y was passed when a 1d array was expected. Please change the shape of y to (n_samples, ), for example using ravel().\n",
      "  y = column_or_1d(y, warn=True)\n"
     ]
    },
    {
     "data": {
      "text/plain": [
       "AdaBoostRegressor(base_estimator=LinearRegression(copy_X=True, fit_intercept=True, n_jobs=1, normalize=False),\n",
       "         learning_rate=1.0, loss='linear', n_estimators=3000,\n",
       "         random_state=None)"
      ]
     },
     "execution_count": 229,
     "metadata": {},
     "output_type": "execute_result"
    }
   ],
   "source": [
    "regr_2 = AdaBoostRegressor(LinearRegression(),n_estimators=3000)\n",
    "regr_2.fit(X_train, y_train)"
   ]
  },
  {
   "cell_type": "code",
   "execution_count": 230,
   "metadata": {},
   "outputs": [
    {
     "data": {
      "text/plain": [
       "-0.14812866449448792"
      ]
     },
     "execution_count": 230,
     "metadata": {},
     "output_type": "execute_result"
    }
   ],
   "source": [
    "regr_2.score(X_test, y_test)"
   ]
  },
  {
   "cell_type": "code",
   "execution_count": 231,
   "metadata": {},
   "outputs": [],
   "source": [
    "y_2 = regr_2.predict(X_test)"
   ]
  },
  {
   "cell_type": "code",
   "execution_count": 232,
   "metadata": {},
   "outputs": [
    {
     "data": {
      "image/png": "[encoded data removed]",
      "text/plain": [
       "<Figure size 432x288 with 1 Axes>"
      ]
     },
     "metadata": {},
     "output_type": "display_data"
    }
   ],
   "source": [
    "plt.scatter(y_test, y_2)\n",
    "plt.tight_layout(1.3)\n",
    "plt.xlabel('PM10: Medido')\n",
    "plt.ylabel('PM10: Pronosticado')\n",
    "plt.title('AdaBoostRegressor vs Medio')\n",
    "plt.show()"
   ]
  },
  {
   "cell_type": "code",
   "execution_count": 233,
   "metadata": {},
   "outputs": [
    {
     "name": "stdout",
     "output_type": "stream",
     "text": [
      "RMSE: 40.640044\n"
     ]
    }
   ],
   "source": [
    "rmse = np.sqrt(mean_squared_error(y_test, regr_2.predict(X_test)))\n",
    "print(\"RMSE: %f\" % (rmse))"
   ]
  },
  {
   "cell_type": "markdown",
   "metadata": {},
   "source": [
    "# Gracficamos:"
   ]
  },
  {
   "cell_type": "code",
   "execution_count": 234,
   "metadata": {},
   "outputs": [],
   "source": [
    "y_1 = regr_2.predict(X_test)\n"
   ]
  },
  {
   "cell_type": "code",
   "execution_count": 235,
   "metadata": {},
   "outputs": [],
   "source": [
    "X, y = data_hour_merge_24.iloc[:,:-1],data_hour_merge_24.iloc[:,-1]"
   ]
  },
  {
   "cell_type": "code",
   "execution_count": 236,
   "metadata": {},
   "outputs": [],
   "source": [
    "preds = y_1.tolist()"
   ]
  },
  {
   "cell_type": "code",
   "execution_count": 237,
   "metadata": {},
   "outputs": [
    {
     "ename": "AttributeError",
     "evalue": "'DataFrame' object has no attribute 'tolist'",
     "output_type": "error",
     "traceback": [
      "\u001b[0;31m---------------------------------------------------------------------------\u001b[0m",
      "\u001b[0;31mAttributeError\u001b[0m                            Traceback (most recent call last)",
      "\u001b[0;32m<ipython-input-237-b73469404d12>\u001b[0m in \u001b[0;36m<module>\u001b[0;34m()\u001b[0m\n\u001b[0;32m----> 1\u001b[0;31m \u001b[0myi\u001b[0m \u001b[0;34m=\u001b[0m \u001b[0my_test\u001b[0m\u001b[0;34m.\u001b[0m\u001b[0mtolist\u001b[0m\u001b[0;34m(\u001b[0m\u001b[0;34m)\u001b[0m\u001b[0;34m\u001b[0m\u001b[0m\n\u001b[0m",
      "\u001b[0;32m~/anaconda3/lib/python3.6/site-packages/pandas/core/generic.py\u001b[0m in \u001b[0;36m__getattr__\u001b[0;34m(self, name)\u001b[0m\n\u001b[1;32m   4370\u001b[0m             \u001b[0;32mif\u001b[0m \u001b[0mself\u001b[0m\u001b[0;34m.\u001b[0m\u001b[0m_info_axis\u001b[0m\u001b[0;34m.\u001b[0m\u001b[0m_can_hold_identifiers_and_holds_name\u001b[0m\u001b[0;34m(\u001b[0m\u001b[0mname\u001b[0m\u001b[0;34m)\u001b[0m\u001b[0;34m:\u001b[0m\u001b[0;34m\u001b[0m\u001b[0m\n\u001b[1;32m   4371\u001b[0m                 \u001b[0;32mreturn\u001b[0m \u001b[0mself\u001b[0m\u001b[0;34m[\u001b[0m\u001b[0mname\u001b[0m\u001b[0;34m]\u001b[0m\u001b[0;34m\u001b[0m\u001b[0m\n\u001b[0;32m-> 4372\u001b[0;31m             \u001b[0;32mreturn\u001b[0m \u001b[0mobject\u001b[0m\u001b[0;34m.\u001b[0m\u001b[0m__getattribute__\u001b[0m\u001b[0;34m(\u001b[0m\u001b[0mself\u001b[0m\u001b[0;34m,\u001b[0m \u001b[0mname\u001b[0m\u001b[0;34m)\u001b[0m\u001b[0;34m\u001b[0m\u001b[0m\n\u001b[0m\u001b[1;32m   4373\u001b[0m \u001b[0;34m\u001b[0m\u001b[0m\n\u001b[1;32m   4374\u001b[0m     \u001b[0;32mdef\u001b[0m \u001b[0m__setattr__\u001b[0m\u001b[0;34m(\u001b[0m\u001b[0mself\u001b[0m\u001b[0;34m,\u001b[0m \u001b[0mname\u001b[0m\u001b[0;34m,\u001b[0m \u001b[0mvalue\u001b[0m\u001b[0;34m)\u001b[0m\u001b[0;34m:\u001b[0m\u001b[0;34m\u001b[0m\u001b[0m\n",
      "\u001b[0;31mAttributeError\u001b[0m: 'DataFrame' object has no attribute 'tolist'"
     ]
    }
   ],
   "source": [
    "yi = y_test.tolist()"
   ]
  },
  {
   "cell_type": "code",
   "execution_count": 238,
   "metadata": {},
   "outputs": [
    {
     "ename": "NameError",
     "evalue": "name 'yi' is not defined",
     "output_type": "error",
     "traceback": [
      "\u001b[0;31m---------------------------------------------------------------------------\u001b[0m",
      "\u001b[0;31mNameError\u001b[0m                                 Traceback (most recent call last)",
      "\u001b[0;32m<ipython-input-238-5b7fe690db79>\u001b[0m in \u001b[0;36m<module>\u001b[0;34m()\u001b[0m\n\u001b[1;32m      1\u001b[0m \u001b[0mplt\u001b[0m\u001b[0;34m.\u001b[0m\u001b[0mplot\u001b[0m\u001b[0;34m(\u001b[0m\u001b[0mpreds\u001b[0m \u001b[0;34m,\u001b[0m\u001b[0mlabel\u001b[0m\u001b[0;34m=\u001b[0m\u001b[0;34m'PM10 Pronosticado'\u001b[0m\u001b[0;34m)\u001b[0m\u001b[0;34m\u001b[0m\u001b[0m\n\u001b[0;32m----> 2\u001b[0;31m \u001b[0mplt\u001b[0m\u001b[0;34m.\u001b[0m\u001b[0mplot\u001b[0m\u001b[0;34m(\u001b[0m\u001b[0myi\u001b[0m\u001b[0;34m,\u001b[0m\u001b[0mlabel\u001b[0m\u001b[0;34m=\u001b[0m\u001b[0;34m'PM10 Medido'\u001b[0m\u001b[0;34m)\u001b[0m\u001b[0;34m\u001b[0m\u001b[0m\n\u001b[0m\u001b[1;32m      3\u001b[0m \u001b[0mplt\u001b[0m\u001b[0;34m.\u001b[0m\u001b[0mxlabel\u001b[0m\u001b[0;34m(\u001b[0m\u001b[0;34m\"Febrero 2018\"\u001b[0m\u001b[0;34m)\u001b[0m\u001b[0;34m\u001b[0m\u001b[0m\n\u001b[1;32m      4\u001b[0m \u001b[0mplt\u001b[0m\u001b[0;34m.\u001b[0m\u001b[0mylabel\u001b[0m\u001b[0;34m(\u001b[0m\u001b[0;34m\"PM10\"\u001b[0m\u001b[0;34m)\u001b[0m\u001b[0;34m\u001b[0m\u001b[0m\n\u001b[1;32m      5\u001b[0m \u001b[0mplt\u001b[0m\u001b[0;34m.\u001b[0m\u001b[0mtight_layout\u001b[0m\u001b[0;34m(\u001b[0m\u001b[0;36m1.3\u001b[0m\u001b[0;34m)\u001b[0m\u001b[0;34m\u001b[0m\u001b[0m\n",
      "\u001b[0;31mNameError\u001b[0m: name 'yi' is not defined"
     ]
    },
    {
     "data": {
      "image/png": "[encoded data removed]",
      "text/plain": [
       "<Figure size 432x288 with 1 Axes>"
      ]
     },
     "metadata": {},
     "output_type": "display_data"
    }
   ],
   "source": [
    ">>> plt.plot(preds ,label='PM10 Pronosticado')\n",
    ">>> plt.plot(yi,label='PM10 Medido')\n",
    ">>> plt.xlabel(\"Febrero 2018\")\n",
    ">>> plt.ylabel(\"PM10\")\n",
    "plt.tight_layout(1.3)\n",
    "plt.title('Comparación de Modelo')\n",
    ">>> plt.xlim(31, 60)\n",
    "plt.legend()"
   ]
  },
  {
   "cell_type": "code",
   "execution_count": 239,
   "metadata": {},
   "outputs": [
    {
     "data": {
      "image/png": "[encoded data removed]",
      "text/plain": [
       "<Figure size 432x288 with 1 Axes>"
      ]
     },
     "metadata": {},
     "output_type": "display_data"
    }
   ],
   "source": [
    "plt.scatter(y_test, y_2)\n",
    "plt.xlabel('Measured')\n",
    "plt.ylabel('Predicted')\n",
    "plt.title('XGBoost Predicted vs Actual')\n",
    "plt.show()"
   ]
  },
  {
   "cell_type": "code",
   "execution_count": 71,
   "metadata": {},
   "outputs": [
    {
     "name": "stdout",
     "output_type": "stream",
     "text": [
      "RMSE: 10.936075\n"
     ]
    }
   ],
   "source": [
    "rmse = np.sqrt(mean_squared_error(y_test, y_2))\n",
    "print(\"RMSE: %f\" % (rmse))"
   ]
  },
  {
   "cell_type": "markdown",
   "metadata": {},
   "source": [
    "## Random forest"
   ]
  },
  {
   "cell_type": "code",
   "execution_count": 223,
   "metadata": {},
   "outputs": [],
   "source": [
    ">>> from sklearn.ensemble import RandomForestRegressor\n",
    "from sklearn.ensemble import RandomForestClassifier\n",
    "\n",
    ">>> from sklearn.datasets import make_regression"
   ]
  },
  {
   "cell_type": "code",
   "execution_count": 224,
   "metadata": {},
   "outputs": [
    {
     "name": "stderr",
     "output_type": "stream",
     "text": [
      "/home/paw/anaconda3/lib/python3.6/site-packages/ipykernel_launcher.py:2: DataConversionWarning: A column-vector y was passed when a 1d array was expected. Please change the shape of y to (n_samples,), for example using ravel().\n",
      "  \n"
     ]
    }
   ],
   "source": [
    "regr = RandomForestRegressor(max_depth=35,n_estimators=500)\n",
    "regr_fit = regr.fit(X_train, y_train)"
   ]
  },
  {
   "cell_type": "code",
   "execution_count": 225,
   "metadata": {},
   "outputs": [],
   "source": [
    "y_1 = regr.predict(X_test)"
   ]
  },
  {
   "cell_type": "code",
   "execution_count": 226,
   "metadata": {},
   "outputs": [
    {
     "data": {
      "image/png": "[encoded data removed]",
      "text/plain": [
       "<Figure size 432x288 with 1 Axes>"
      ]
     },
     "metadata": {},
     "output_type": "display_data"
    }
   ],
   "source": [
    "plt.scatter(y_test, y_1)\n",
    "plt.xlabel('Medidos')\n",
    "plt.ylabel('Predecidos')\n",
    "plt.title('Random forest PM10: Predecidos vs Medidos')\n",
    "plt.show()"
   ]
  },
  {
   "cell_type": "code",
   "execution_count": 227,
   "metadata": {},
   "outputs": [
    {
     "data": {
      "text/plain": [
       "0.39539609560752287"
      ]
     },
     "execution_count": 227,
     "metadata": {},
     "output_type": "execute_result"
    }
   ],
   "source": [
    "regr.score(X_test, y_test)"
   ]
  },
  {
   "cell_type": "code",
   "execution_count": 306,
   "metadata": {},
   "outputs": [],
   "source": [
    "importances = pd.DataFrame({'feature':X_train.columns,'importance':np.round(regr.feature_importances_,3)})\n",
    "importances = importances.sort_values('importance',ascending=False).set_index('feature')"
   ]
  },
  {
   "cell_type": "code",
   "execution_count": 307,
   "metadata": {},
   "outputs": [
    {
     "data": {
      "text/html": [
       "<div>\n",
       "<style scoped>\n",
       "    .dataframe tbody tr th:only-of-type {\n",
       "        vertical-align: middle;\n",
       "    }\n",
       "\n",
       "    .dataframe tbody tr th {\n",
       "        vertical-align: top;\n",
       "    }\n",
       "\n",
       "    .dataframe thead th {\n",
       "        text-align: right;\n",
       "    }\n",
       "</style>\n",
       "<table border=\"1\" class=\"dataframe\">\n",
       "  <thead>\n",
       "    <tr style=\"text-align: right;\">\n",
       "      <th></th>\n",
       "      <th>importance</th>\n",
       "    </tr>\n",
       "    <tr>\n",
       "      <th>feature</th>\n",
       "      <th></th>\n",
       "    </tr>\n",
       "  </thead>\n",
       "  <tbody>\n",
       "    <tr>\n",
       "      <th>PM10_y</th>\n",
       "      <td>0.441</td>\n",
       "    </tr>\n",
       "    <tr>\n",
       "      <th>PM10_2_y</th>\n",
       "      <td>0.214</td>\n",
       "    </tr>\n",
       "    <tr>\n",
       "      <th>PM10_1_a</th>\n",
       "      <td>0.150</td>\n",
       "    </tr>\n",
       "    <tr>\n",
       "      <th>PM10_3_y</th>\n",
       "      <td>0.013</td>\n",
       "    </tr>\n",
       "  </tbody>\n",
       "</table>\n",
       "</div>"
      ],
      "text/plain": [
       "          importance\n",
       "feature             \n",
       "PM10_y         0.441\n",
       "PM10_2_y       0.214\n",
       "PM10_1_a       0.150\n",
       "PM10_3_y       0.013"
      ]
     },
     "execution_count": 307,
     "metadata": {},
     "output_type": "execute_result"
    }
   ],
   "source": [
    "importances[importances.importance > .01]"
   ]
  },
  {
   "cell_type": "code",
   "execution_count": 308,
   "metadata": {},
   "outputs": [
    {
     "data": {
      "text/plain": [
       "<matplotlib.axes._subplots.AxesSubplot at 0x7f4f9550a0f0>"
      ]
     },
     "execution_count": 308,
     "metadata": {},
     "output_type": "execute_result"
    },
    {
     "data": {
      "image/png": "[encoded data removed]",
      "text/plain": [
       "<Figure size 432x288 with 1 Axes>"
      ]
     },
     "metadata": {},
     "output_type": "display_data"
    }
   ],
   "source": [
    "importances[importances.importance > .01].plot.bar()\n"
   ]
  }
 ],
 "metadata": {
  "kernelspec": {
   "display_name": "Python 3",
   "language": "python",
   "name": "python3"
  },
  "language_info": {
   "codemirror_mode": {
    "name": "ipython",
    "version": 3
   },
   "file_extension": ".py",
   "mimetype": "text/x-python",
   "name": "python",
   "nbconvert_exporter": "python",
   "pygments_lexer": "ipython3",
   "version": "3.6.5"
  }
 },
 "nbformat": 4,
 "nbformat_minor": 2
}
