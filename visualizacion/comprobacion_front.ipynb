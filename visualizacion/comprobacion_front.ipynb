{
 "cells": [
  {
   "cell_type": "markdown",
   "metadata": {},
   "source": [
    "# Concentraciones"
   ]
  },
  {
   "cell_type": "code",
   "execution_count": 1,
   "metadata": {},
   "outputs": [],
   "source": [
    "# Se importan las bibliotecas necesarias\n",
    "import pandas as pd\n",
    "import re\n",
    "#nwH7euTNo27AATjelWEi"
   ]
  },
  {
   "cell_type": "code",
   "execution_count": 2,
   "metadata": {},
   "outputs": [],
   "source": [
    "df = pd.read_csv('/home/pradel/Desktop/aire_cdmx/apps/dataset/datos_pau.csv', error_bad_lines=False)"
   ]
  },
  {
   "cell_type": "code",
   "execution_count": 3,
   "metadata": {},
   "outputs": [],
   "source": [
    "def ordenar_df(df):\n",
    "    df = df.sort_values(['fecha'], ascending=[1])\n",
    "    df = df.reset_index(drop=True)\n",
    "    df['indice']=df.index\n",
    "    \n",
    "    cols = df.columns.tolist()\n",
    "    cols = cols[-1:]+cols[:-1]\n",
    "    df = df[cols]\n",
    "    \n",
    "    return df"
   ]
  },
  {
   "cell_type": "code",
   "execution_count": 4,
   "metadata": {},
   "outputs": [],
   "source": [
    "df = ordenar_df(df)"
   ]
  },
  {
   "cell_type": "code",
   "execution_count": 5,
   "metadata": {},
   "outputs": [
    {
     "data": {
      "text/html": [
       "<div>\n",
       "<style scoped>\n",
       "    .dataframe tbody tr th:only-of-type {\n",
       "        vertical-align: middle;\n",
       "    }\n",
       "\n",
       "    .dataframe tbody tr th {\n",
       "        vertical-align: top;\n",
       "    }\n",
       "\n",
       "    .dataframe thead th {\n",
       "        text-align: right;\n",
       "    }\n",
       "</style>\n",
       "<table border=\"1\" class=\"dataframe\">\n",
       "  <thead>\n",
       "    <tr style=\"text-align: right;\">\n",
       "      <th></th>\n",
       "      <th>indice</th>\n",
       "      <th>fecha</th>\n",
       "      <th>O3_pronóstico</th>\n",
       "      <th>PM10_pronóstico</th>\n",
       "      <th>O3_y_frcst_12</th>\n",
       "      <th>PM10mean_y_frcst_12</th>\n",
       "      <th>TMP_x</th>\n",
       "      <th>TMP_y</th>\n",
       "      <th>O3_y</th>\n",
       "      <th>O3</th>\n",
       "      <th>O3_x</th>\n",
       "      <th>RH</th>\n",
       "      <th>TMP</th>\n",
       "      <th>PM10</th>\n",
       "      <th>PM10_y</th>\n",
       "      <th>PM10_x</th>\n",
       "      <th>PM10mean_y</th>\n",
       "    </tr>\n",
       "  </thead>\n",
       "  <tbody>\n",
       "    <tr>\n",
       "      <th>0</th>\n",
       "      <td>0</td>\n",
       "      <td>2019-06-23 08:00:00</td>\n",
       "      <td>NaN</td>\n",
       "      <td>NaN</td>\n",
       "      <td>28.389511</td>\n",
       "      <td>28.733020</td>\n",
       "      <td>16.238095</td>\n",
       "      <td>19.0</td>\n",
       "      <td>29.0</td>\n",
       "      <td>4.0</td>\n",
       "      <td>14.600000</td>\n",
       "      <td>64.0</td>\n",
       "      <td>9.0</td>\n",
       "      <td>30.0</td>\n",
       "      <td>81.0</td>\n",
       "      <td>45.555556</td>\n",
       "      <td>30.0</td>\n",
       "    </tr>\n",
       "    <tr>\n",
       "      <th>1</th>\n",
       "      <td>1</td>\n",
       "      <td>2019-06-23 09:00:00</td>\n",
       "      <td>NaN</td>\n",
       "      <td>NaN</td>\n",
       "      <td>24.788218</td>\n",
       "      <td>27.034195</td>\n",
       "      <td>18.238095</td>\n",
       "      <td>22.0</td>\n",
       "      <td>38.0</td>\n",
       "      <td>12.0</td>\n",
       "      <td>28.133333</td>\n",
       "      <td>57.0</td>\n",
       "      <td>13.0</td>\n",
       "      <td>31.0</td>\n",
       "      <td>110.0</td>\n",
       "      <td>51.055556</td>\n",
       "      <td>30.0</td>\n",
       "    </tr>\n",
       "    <tr>\n",
       "      <th>2</th>\n",
       "      <td>2</td>\n",
       "      <td>2019-06-23 10:00:00</td>\n",
       "      <td>NaN</td>\n",
       "      <td>NaN</td>\n",
       "      <td>35.518738</td>\n",
       "      <td>31.355728</td>\n",
       "      <td>19.809524</td>\n",
       "      <td>25.0</td>\n",
       "      <td>57.0</td>\n",
       "      <td>26.0</td>\n",
       "      <td>45.233333</td>\n",
       "      <td>47.0</td>\n",
       "      <td>15.0</td>\n",
       "      <td>28.0</td>\n",
       "      <td>107.0</td>\n",
       "      <td>50.611111</td>\n",
       "      <td>30.0</td>\n",
       "    </tr>\n",
       "    <tr>\n",
       "      <th>3</th>\n",
       "      <td>3</td>\n",
       "      <td>2019-06-23 11:00:00</td>\n",
       "      <td>NaN</td>\n",
       "      <td>NaN</td>\n",
       "      <td>35.907770</td>\n",
       "      <td>25.267689</td>\n",
       "      <td>21.380952</td>\n",
       "      <td>27.0</td>\n",
       "      <td>82.0</td>\n",
       "      <td>41.0</td>\n",
       "      <td>65.033333</td>\n",
       "      <td>39.0</td>\n",
       "      <td>16.0</td>\n",
       "      <td>34.0</td>\n",
       "      <td>84.0</td>\n",
       "      <td>57.722222</td>\n",
       "      <td>30.0</td>\n",
       "    </tr>\n",
       "    <tr>\n",
       "      <th>4</th>\n",
       "      <td>4</td>\n",
       "      <td>2019-06-23 12:00:00</td>\n",
       "      <td>NaN</td>\n",
       "      <td>NaN</td>\n",
       "      <td>81.886310</td>\n",
       "      <td>25.267689</td>\n",
       "      <td>22.450000</td>\n",
       "      <td>28.0</td>\n",
       "      <td>91.0</td>\n",
       "      <td>35.0</td>\n",
       "      <td>77.137931</td>\n",
       "      <td>34.0</td>\n",
       "      <td>14.0</td>\n",
       "      <td>30.0</td>\n",
       "      <td>72.0</td>\n",
       "      <td>49.823529</td>\n",
       "      <td>30.0</td>\n",
       "    </tr>\n",
       "  </tbody>\n",
       "</table>\n",
       "</div>"
      ],
      "text/plain": [
       "   indice                fecha  O3_pronóstico  PM10_pronóstico  O3_y_frcst_12  \\\n",
       "0       0  2019-06-23 08:00:00            NaN              NaN      28.389511   \n",
       "1       1  2019-06-23 09:00:00            NaN              NaN      24.788218   \n",
       "2       2  2019-06-23 10:00:00            NaN              NaN      35.518738   \n",
       "3       3  2019-06-23 11:00:00            NaN              NaN      35.907770   \n",
       "4       4  2019-06-23 12:00:00            NaN              NaN      81.886310   \n",
       "\n",
       "   PM10mean_y_frcst_12      TMP_x  TMP_y  O3_y    O3       O3_x    RH   TMP  \\\n",
       "0            28.733020  16.238095   19.0  29.0   4.0  14.600000  64.0   9.0   \n",
       "1            27.034195  18.238095   22.0  38.0  12.0  28.133333  57.0  13.0   \n",
       "2            31.355728  19.809524   25.0  57.0  26.0  45.233333  47.0  15.0   \n",
       "3            25.267689  21.380952   27.0  82.0  41.0  65.033333  39.0  16.0   \n",
       "4            25.267689  22.450000   28.0  91.0  35.0  77.137931  34.0  14.0   \n",
       "\n",
       "   PM10  PM10_y     PM10_x  PM10mean_y  \n",
       "0  30.0    81.0  45.555556        30.0  \n",
       "1  31.0   110.0  51.055556        30.0  \n",
       "2  28.0   107.0  50.611111        30.0  \n",
       "3  34.0    84.0  57.722222        30.0  \n",
       "4  30.0    72.0  49.823529        30.0  "
      ]
     },
     "execution_count": 5,
     "metadata": {},
     "output_type": "execute_result"
    }
   ],
   "source": [
    "df.head()"
   ]
  },
  {
   "cell_type": "code",
   "execution_count": 6,
   "metadata": {},
   "outputs": [],
   "source": [
    "indice = df['indice'].tolist()"
   ]
  },
  {
   "cell_type": "code",
   "execution_count": 7,
   "metadata": {},
   "outputs": [],
   "source": [
    "fechas = df['fecha'].tolist()"
   ]
  },
  {
   "cell_type": "code",
   "execution_count": 8,
   "metadata": {},
   "outputs": [],
   "source": [
    "dic_fechas = dict(zip(indice, fechas))"
   ]
  },
  {
   "cell_type": "code",
   "execution_count": 9,
   "metadata": {},
   "outputs": [],
   "source": [
    "rango_fechas = []"
   ]
  },
  {
   "cell_type": "code",
   "execution_count": 10,
   "metadata": {},
   "outputs": [],
   "source": [
    "for indice, fecha in dic_fechas.items():\n",
    "    rango_fechas.append({'indice': int(indice), 'fecha': fecha})"
   ]
  },
  {
   "cell_type": "code",
   "execution_count": 11,
   "metadata": {},
   "outputs": [
    {
     "data": {
      "text/plain": [
       "[{'indice': 0, 'fecha': '2019-06-23 08:00:00'},\n",
       " {'indice': 1, 'fecha': '2019-06-23 09:00:00'},\n",
       " {'indice': 2, 'fecha': '2019-06-23 10:00:00'},\n",
       " {'indice': 3, 'fecha': '2019-06-23 11:00:00'},\n",
       " {'indice': 4, 'fecha': '2019-06-23 12:00:00'},\n",
       " {'indice': 5, 'fecha': '2019-06-23 13:00:00'},\n",
       " {'indice': 6, 'fecha': '2019-06-23 14:00:00'},\n",
       " {'indice': 7, 'fecha': '2019-06-23 15:00:00'},\n",
       " {'indice': 8, 'fecha': '2019-06-23 16:00:00'},\n",
       " {'indice': 9, 'fecha': '2019-06-23 17:00:00'},\n",
       " {'indice': 10, 'fecha': '2019-06-23 18:00:00'},\n",
       " {'indice': 11, 'fecha': '2019-06-23 19:00:00'},\n",
       " {'indice': 12, 'fecha': '2019-06-23 20:00:00'},\n",
       " {'indice': 13, 'fecha': '2019-06-23 21:00:00'},\n",
       " {'indice': 14, 'fecha': '2019-06-23 22:00:00'},\n",
       " {'indice': 15, 'fecha': '2019-06-23 23:00:00'},\n",
       " {'indice': 16, 'fecha': '2019-06-24 00:00:00'},\n",
       " {'indice': 17, 'fecha': '2019-06-24 01:00:00'},\n",
       " {'indice': 18, 'fecha': '2019-06-24 02:00:00'},\n",
       " {'indice': 19, 'fecha': '2019-06-24 03:00:00'},\n",
       " {'indice': 20, 'fecha': '2019-06-24 04:00:00'},\n",
       " {'indice': 21, 'fecha': '2019-06-24 05:00:00'},\n",
       " {'indice': 22, 'fecha': '2019-06-24 06:00:00'},\n",
       " {'indice': 23, 'fecha': '2019-06-24 07:00:00'},\n",
       " {'indice': 24, 'fecha': '2019-06-24 08:00:00'},\n",
       " {'indice': 25, 'fecha': '2019-06-24 09:00:00'},\n",
       " {'indice': 26, 'fecha': '2019-06-24 10:00:00'},\n",
       " {'indice': 27, 'fecha': '2019-06-24 11:00:00'},\n",
       " {'indice': 28, 'fecha': '2019-06-24 12:00:00'},\n",
       " {'indice': 29, 'fecha': '2019-06-24 13:00:00'},\n",
       " {'indice': 30, 'fecha': '2019-06-24 14:00:00'},\n",
       " {'indice': 31, 'fecha': '2019-06-24 15:00:00'},\n",
       " {'indice': 32, 'fecha': '2019-06-24 16:00:00'},\n",
       " {'indice': 33, 'fecha': '2019-06-24 17:00:00'},\n",
       " {'indice': 34, 'fecha': '2019-06-24 18:00:00'},\n",
       " {'indice': 35, 'fecha': '2019-06-24 19:00:00'},\n",
       " {'indice': 36, 'fecha': '2019-06-24 20:00:00'},\n",
       " {'indice': 37, 'fecha': '2019-06-24 21:00:00'},\n",
       " {'indice': 38, 'fecha': '2019-06-24 22:00:00'},\n",
       " {'indice': 39, 'fecha': '2019-06-24 23:00:00'},\n",
       " {'indice': 40, 'fecha': '2019-06-25 00:00:00'},\n",
       " {'indice': 41, 'fecha': '2019-06-25 01:00:00'},\n",
       " {'indice': 42, 'fecha': '2019-06-25 02:00:00'},\n",
       " {'indice': 43, 'fecha': '2019-06-25 03:00:00'},\n",
       " {'indice': 44, 'fecha': '2019-06-25 04:00:00'},\n",
       " {'indice': 45, 'fecha': '2019-06-25 05:00:00'},\n",
       " {'indice': 46, 'fecha': '2019-06-25 06:00:00'},\n",
       " {'indice': 47, 'fecha': '2019-06-25 07:00:00'},\n",
       " {'indice': 48, 'fecha': '2019-06-25 08:00:00'},\n",
       " {'indice': 49, 'fecha': '2019-06-25 09:00:00'},\n",
       " {'indice': 50, 'fecha': '2019-06-25 10:00:00'},\n",
       " {'indice': 51, 'fecha': '2019-06-25 11:00:00'},\n",
       " {'indice': 52, 'fecha': '2019-06-25 12:00:00'},\n",
       " {'indice': 53, 'fecha': '2019-06-25 13:00:00'},\n",
       " {'indice': 54, 'fecha': '2019-06-25 14:00:00'},\n",
       " {'indice': 55, 'fecha': '2019-06-25 15:00:00'},\n",
       " {'indice': 56, 'fecha': '2019-06-25 16:00:00'},\n",
       " {'indice': 57, 'fecha': '2019-06-25 17:00:00'},\n",
       " {'indice': 58, 'fecha': '2019-06-25 18:00:00'},\n",
       " {'indice': 59, 'fecha': '2019-06-25 19:00:00'},\n",
       " {'indice': 60, 'fecha': '2019-06-25 20:00:00'},\n",
       " {'indice': 61, 'fecha': '2019-06-25 21:00:00'},\n",
       " {'indice': 62, 'fecha': '2019-06-25 22:00:00'},\n",
       " {'indice': 63, 'fecha': '2019-06-25 23:00:00'},\n",
       " {'indice': 64, 'fecha': '2019-06-26 00:00:00'},\n",
       " {'indice': 65, 'fecha': '2019-06-26 01:00:00'},\n",
       " {'indice': 66, 'fecha': '2019-06-26 02:00:00'},\n",
       " {'indice': 67, 'fecha': '2019-06-26 03:00:00'},\n",
       " {'indice': 68, 'fecha': '2019-06-26 04:00:00'},\n",
       " {'indice': 69, 'fecha': '2019-06-26 05:00:00'},\n",
       " {'indice': 70, 'fecha': '2019-06-26 06:00:00'},\n",
       " {'indice': 71, 'fecha': '2019-06-26 07:00:00'},\n",
       " {'indice': 72, 'fecha': '2019-06-26 08:00:00'},\n",
       " {'indice': 73, 'fecha': '2019-06-26 09:00:00'},\n",
       " {'indice': 74, 'fecha': '2019-06-26 10:00:00'},\n",
       " {'indice': 75, 'fecha': '2019-06-26 11:00:00'},\n",
       " {'indice': 76, 'fecha': '2019-06-26 12:00:00'},\n",
       " {'indice': 77, 'fecha': '2019-06-26 13:00:00'},\n",
       " {'indice': 78, 'fecha': '2019-06-26 14:00:00'},\n",
       " {'indice': 79, 'fecha': '2019-06-26 15:00:00'},\n",
       " {'indice': 80, 'fecha': '2019-06-26 16:00:00'},\n",
       " {'indice': 81, 'fecha': '2019-06-26 17:00:00'}]"
      ]
     },
     "execution_count": 11,
     "metadata": {},
     "output_type": "execute_result"
    }
   ],
   "source": [
    "rango_fechas"
   ]
  },
  {
   "cell_type": "code",
   "execution_count": 12,
   "metadata": {},
   "outputs": [
    {
     "data": {
      "text/plain": [
       "0"
      ]
     },
     "execution_count": 12,
     "metadata": {},
     "output_type": "execute_result"
    }
   ],
   "source": [
    "min(df['indice'])"
   ]
  },
  {
   "cell_type": "code",
   "execution_count": 13,
   "metadata": {},
   "outputs": [
    {
     "data": {
      "text/plain": [
       "81"
      ]
     },
     "execution_count": 13,
     "metadata": {},
     "output_type": "execute_result"
    }
   ],
   "source": [
    "max(df['indice'])"
   ]
  },
  {
   "cell_type": "code",
   "execution_count": null,
   "metadata": {},
   "outputs": [],
   "source": []
  },
  {
   "cell_type": "code",
   "execution_count": null,
   "metadata": {},
   "outputs": [],
   "source": []
  },
  {
   "cell_type": "code",
   "execution_count": null,
   "metadata": {},
   "outputs": [],
   "source": [
    "def convertir_ppb(row, columna):\n",
    "    ppb = row[columna]/1.96\n",
    "    return ppb"
   ]
  },
  {
   "cell_type": "code",
   "execution_count": null,
   "metadata": {},
   "outputs": [],
   "source": [
    "def convertir_unidades(df, columna_fecha):\n",
    "    df = df.sort_values([columna_fecha], ascending=[0])\n",
    "    df['PM10mean_y_ppb'] = df.apply(lambda row: convertir_ppb(row, 'PM10mean_y'), axis=1)\n",
    "    df_concentraciones = df[['fecha', 'O3_y', 'PM10mean_y_ppb', 'TMP', 'TMP_x', 'TMP_y']]\n",
    "\n",
    "    return df_concentraciones"
   ]
  },
  {
   "cell_type": "code",
   "execution_count": null,
   "metadata": {},
   "outputs": [],
   "source": [
    "df = convertir_unidades(df, 'fecha')"
   ]
  },
  {
   "cell_type": "code",
   "execution_count": null,
   "metadata": {},
   "outputs": [],
   "source": [
    "df.head()"
   ]
  },
  {
   "cell_type": "code",
   "execution_count": null,
   "metadata": {},
   "outputs": [],
   "source": [
    "fechas = df['fecha'].tolist()"
   ]
  },
  {
   "cell_type": "code",
   "execution_count": null,
   "metadata": {},
   "outputs": [],
   "source": [
    "df[df['fecha'].isin(fechas)]"
   ]
  },
  {
   "cell_type": "code",
   "execution_count": null,
   "metadata": {},
   "outputs": [],
   "source": [
    "dic_colores = {'O3_pronóstico': '#d73027'\n",
    "                   , 'PM10_pronóstico': '#9970ab'\n",
    "                   , 'O3_y_frcst_12': '#313695'\n",
    "                   , 'PM10mean_y_frcst_12': '#40004b'\n",
    "                   , 'TMP_x': '#80cdc1'\n",
    "                   , 'TMP_y': '#003c30'\n",
    "                   , 'O3_y': '#a50026'\n",
    "                   , 'O3': '#f46d43'\n",
    "                   , 'O3_x': '#fdae61'\n",
    "                   , 'RH': '#c51b7d'\n",
    "                   , 'TMP': '#35978f'\n",
    "                   , 'PM10': '#542788'\n",
    "                   , 'PM10_y': '#9970ab'\n",
    "                   , 'PM10_x': '#c2a5cf'\n",
    "                   , 'PM10mean_y': '#762a83'\n",
    "                   , 'PM10mean_y_ppb': '#762a83'}"
   ]
  },
  {
   "cell_type": "code",
   "execution_count": null,
   "metadata": {},
   "outputs": [],
   "source": [
    "dic_etiquetas = {'O3_pronóstico': 'Pronóstico de O3'\n",
    "                     , 'PM10_pronóstico': 'Pronóstico de PM10'\n",
    "                     , 'O3_y_frcst_12': 'Pronóstico histórico de O3'\n",
    "                     , 'PM10mean_y_frcst_12': 'Pronóstico histórico de PM10'\n",
    "                     , 'TMP_x': 'Temperatura mínima'\n",
    "                     , 'TMP_y': 'Temperatura máxima'\n",
    "                     , 'O3_y': 'O3 máximo'\n",
    "                     , 'O3': 'O3 promedio'\n",
    "                     , 'O3_x': 'O3 mínimo'\n",
    "                     , 'RH': 'Humedad relativa'\n",
    "                     , 'TMP': 'Temperatura promedio'\n",
    "                     , 'PM10': 'PM10 promedio'\n",
    "                     , 'PM10_ppb': 'PM10 promedio'\n",
    "                     , 'PM10_y': 'PM10 máximo'\n",
    "                     , 'PM10_y_ppb': 'PM10 máximo'\n",
    "                     , 'PM10_x': 'PM10 mínimo'\n",
    "                     , 'PM10_x_ppb': 'PM10 mínimo'\n",
    "                     , 'PM10mean_y': 'PM10 promedio 24 hrs'\n",
    "                     , 'PM10mean_y_ppb': 'PM10 máximo (ppb)'}"
   ]
  },
  {
   "cell_type": "code",
   "execution_count": null,
   "metadata": {},
   "outputs": [],
   "source": [
    "def crear_trazo(df, y, name, color, x='fecha', width=2):\n",
    "    regex = re.findall('pronóstico', name)\n",
    "    if regex:\n",
    "        trazo = go.Scatter(x=df[x],\n",
    "                           y=df[y],\n",
    "                           name=name,\n",
    "                           line=dict(color=color, width=width, dash='dot'))\n",
    "    else:\n",
    "        trazo = go.Scatter(x=df[x],\n",
    "                           y=df[y],\n",
    "                           name=name,\n",
    "                           line=dict(color=color, width=width))\n",
    "    return trazo"
   ]
  },
  {
   "cell_type": "code",
   "execution_count": null,
   "metadata": {},
   "outputs": [],
   "source": [
    "df_filtro = df[(df['fecha'] >= '2019-06-24 00:00') & (df['fecha'] <= '2019-06-25 00:00')]"
   ]
  },
  {
   "cell_type": "code",
   "execution_count": null,
   "metadata": {},
   "outputs": [],
   "source": [
    "df_filtro"
   ]
  },
  {
   "cell_type": "code",
   "execution_count": null,
   "metadata": {},
   "outputs": [],
   "source": [
    "df.dtypes"
   ]
  },
  {
   "cell_type": "code",
   "execution_count": null,
   "metadata": {},
   "outputs": [],
   "source": [
    "def convertir_ppb(row, columna):\n",
    "    ppb = row[columna]/1.96\n",
    "    return ppb"
   ]
  },
  {
   "cell_type": "code",
   "execution_count": null,
   "metadata": {},
   "outputs": [],
   "source": [
    "def convertir_unidades(df, columna_fecha):\n",
    "    df = df.sort_values([columna_fecha], ascending=[0])\n",
    "    df['PM10mean_y_ppb'] = df.apply(lambda row: convertir_ppb(row, 'PM10mean_y'), axis=1)\n",
    "    df_concentraciones = df[['fecha', 'O3_y','PM10mean_y_ppb', 'TMP', 'TMP_x', 'TMP_y']]\n",
    "\n",
    "    return df_concentraciones"
   ]
  },
  {
   "cell_type": "code",
   "execution_count": null,
   "metadata": {},
   "outputs": [],
   "source": [
    "df_concentraciones = convertir_unidades(df, 'fecha')"
   ]
  },
  {
   "cell_type": "code",
   "execution_count": null,
   "metadata": {},
   "outputs": [],
   "source": [
    "df_concentraciones.head()"
   ]
  },
  {
   "cell_type": "code",
   "execution_count": null,
   "metadata": {},
   "outputs": [],
   "source": [
    "dic_colores = {'O3_pronóstico': '#d73027'\n",
    "                   , 'PM10_pronóstico': '#9970ab'\n",
    "                   , 'O3_y_frcst_12': '#313695'\n",
    "                   , 'PM10mean_y_frcst_12': '#40004b'\n",
    "                   , 'TMP_x': '#80cdc1'\n",
    "                   , 'TMP_y': '#003c30'\n",
    "                   , 'O3_y': '#a50026'\n",
    "                   , 'O3': '#f46d43'\n",
    "                   , 'O3_x': '#fdae61'\n",
    "                   , 'RH': '#c51b7d'\n",
    "                   , 'TMP': '#35978f'\n",
    "                   , 'PM10': '#542788'\n",
    "                   , 'PM10_y': '#9970ab'\n",
    "                   , 'PM10_x': '#c2a5cf'\n",
    "                   , 'PM10mean_y': '#762a83'\n",
    "                   , 'PM10mean_y_ppb': '#762a83'\n",
    "                   , 'fecha': '#d73027'}"
   ]
  },
  {
   "cell_type": "code",
   "execution_count": null,
   "metadata": {},
   "outputs": [],
   "source": [
    "dic_etiquetas = {'O3_pronóstico': 'Pronóstico de O3'\n",
    "                     , 'PM10_pronóstico': 'Pronóstico de PM10'\n",
    "                     , 'O3_y_frcst_12': 'Pronóstico histórico de O3'\n",
    "                     , 'PM10mean_y_frcst_12': 'Pronóstico histórico de PM10'\n",
    "                     , 'TMP_x': 'Temperatura mínima'\n",
    "                     , 'TMP_y': 'Temperatura máxima'\n",
    "                     , 'O3_y': 'O3 máximo'\n",
    "                     , 'O3': 'O3 promedio'\n",
    "                     , 'O3_x': 'O3 mínimo'\n",
    "                     , 'RH': 'Humedad relativa'\n",
    "                     , 'TMP': 'Temperatura promedio'\n",
    "                     , 'PM10': 'PM10 promedio'\n",
    "                     , 'PM10_ppb': 'PM10 promedio'\n",
    "                     , 'PM10_y': 'PM10 máximo'\n",
    "                     , 'PM10_y_ppb': 'PM10 máximo'\n",
    "                     , 'PM10_x': 'PM10 mínimo'\n",
    "                     , 'PM10_x_ppb': 'PM10 mínimo'\n",
    "                     , 'PM10mean_y': 'PM10 promedio 24 hrs'\n",
    "                     , 'PM10mean_y_ppb': 'PM10 máximo (ppb)'\n",
    "                     , 'fecha': 'fecha'}"
   ]
  },
  {
   "cell_type": "code",
   "execution_count": null,
   "metadata": {},
   "outputs": [],
   "source": [
    "def crear_trazo(df, y, name, color, x='fecha', width=2):\n",
    "    regex = re.findall('pronóstico', name)\n",
    "    if regex:\n",
    "        trazo = go.Scatter(x=df[x],\n",
    "                           y=df[y],\n",
    "                           name=name,\n",
    "                           line=dict(color=color, width=width, dash='dot'))\n",
    "    else:\n",
    "        trazo = go.Scatter(x=df[x],\n",
    "                           y=df[y],\n",
    "                           name=name,\n",
    "                           line=dict(color=color, width=width))\n",
    "    return trazo"
   ]
  },
  {
   "cell_type": "code",
   "execution_count": null,
   "metadata": {},
   "outputs": [],
   "source": [
    "df_filtro=df_concentraciones[(df_concentraciones[\"fecha\"]>\"2019-06-26 06:00:00\") & (df_concentraciones[\"fecha\"]<\"2019-06-26 16:00:00\")]"
   ]
  },
  {
   "cell_type": "code",
   "execution_count": null,
   "metadata": {},
   "outputs": [],
   "source": [
    "df_filtro.head()"
   ]
  },
  {
   "cell_type": "code",
   "execution_count": null,
   "metadata": {},
   "outputs": [],
   "source": [
    "df_filtro.dtypes"
   ]
  },
  {
   "cell_type": "code",
   "execution_count": null,
   "metadata": {},
   "outputs": [],
   "source": [
    "#df_filtro.columns"
   ]
  },
  {
   "cell_type": "code",
   "execution_count": null,
   "metadata": {},
   "outputs": [],
   "source": [
    "data = [crear_trazo(df_concentraciones, col, dic_etiquetas[col], dic_colores[col]) for col in df_filtro.columns[1:]]"
   ]
  },
  {
   "cell_type": "code",
   "execution_count": null,
   "metadata": {},
   "outputs": [],
   "source": [
    "layout = dict (title='Pronóstico',\n",
    "               xaxis={'title': 'fecha'},\n",
    "               yaxis={'title': 'ppm (partículas por millón)'})\n",
    "\n",
    "\n",
    "fig = dict(data=data, layout=layout)\n",
    "py.iplot(fig, filename='styled-line')"
   ]
  },
  {
   "cell_type": "code",
   "execution_count": null,
   "metadata": {},
   "outputs": [],
   "source": []
  }
 ],
 "metadata": {
  "kernelspec": {
   "display_name": "Python 3",
   "language": "python",
   "name": "python3"
  },
  "language_info": {
   "codemirror_mode": {
    "name": "ipython",
    "version": 3
   },
   "file_extension": ".py",
   "mimetype": "text/x-python",
   "name": "python",
   "nbconvert_exporter": "python",
   "pygments_lexer": "ipython3",
   "version": "3.7.3"
  }
 },
 "nbformat": 4,
 "nbformat_minor": 2
}
