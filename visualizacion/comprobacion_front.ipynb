{
 "cells": [
  {
   "cell_type": "code",
   "execution_count": 28,
   "metadata": {},
   "outputs": [],
   "source": [
    "# Se importan las bibliotecas necesarias\n",
    "import numpy as np\n",
    "import pandas as pd\n",
    "import re\n",
    "\n",
    "import warnings\n",
    "warnings.filterwarnings('ignore')\n",
    "\n",
    "import plotly.plotly as py\n",
    "import plotly.graph_objs as go\n",
    "\n",
    "#nwH7euTNo27AATjelWEi"
   ]
  },
  {
   "cell_type": "code",
   "execution_count": 29,
   "metadata": {},
   "outputs": [],
   "source": [
    "df = pd.read_csv('/home/pradel/Downloads/datos_pau.csv')"
   ]
  },
  {
   "cell_type": "code",
   "execution_count": 30,
   "metadata": {},
   "outputs": [],
   "source": [
    "df = df[['fecha', 'O3_pronóstico', 'PM10_pronóstico', 'O3_y_frcst_12', 'PM10mean_y_frcst_12', 'O3_y', 'O3'\n",
    "                , 'O3_x', 'PM10', 'PM10_y', 'PM10_x', 'PM10mean_y']]"
   ]
  },
  {
   "cell_type": "code",
   "execution_count": 31,
   "metadata": {},
   "outputs": [],
   "source": [
    "df = df.sort_values(['fecha'], ascending=[0])"
   ]
  },
  {
   "cell_type": "code",
   "execution_count": 32,
   "metadata": {},
   "outputs": [
    {
     "data": {
      "text/html": [
       "<div>\n",
       "<style scoped>\n",
       "    .dataframe tbody tr th:only-of-type {\n",
       "        vertical-align: middle;\n",
       "    }\n",
       "\n",
       "    .dataframe tbody tr th {\n",
       "        vertical-align: top;\n",
       "    }\n",
       "\n",
       "    .dataframe thead th {\n",
       "        text-align: right;\n",
       "    }\n",
       "</style>\n",
       "<table border=\"1\" class=\"dataframe\">\n",
       "  <thead>\n",
       "    <tr style=\"text-align: right;\">\n",
       "      <th></th>\n",
       "      <th>fecha</th>\n",
       "      <th>O3_pronóstico</th>\n",
       "      <th>PM10_pronóstico</th>\n",
       "      <th>O3_y_frcst_12</th>\n",
       "      <th>PM10mean_y_frcst_12</th>\n",
       "      <th>O3_y</th>\n",
       "      <th>O3</th>\n",
       "      <th>O3_x</th>\n",
       "      <th>PM10</th>\n",
       "      <th>PM10_y</th>\n",
       "      <th>PM10_x</th>\n",
       "      <th>PM10mean_y</th>\n",
       "    </tr>\n",
       "  </thead>\n",
       "  <tbody>\n",
       "    <tr>\n",
       "      <th>23</th>\n",
       "      <td>2019-06-26 17:00:00</td>\n",
       "      <td>NaN</td>\n",
       "      <td>NaN</td>\n",
       "      <td>NaN</td>\n",
       "      <td>NaN</td>\n",
       "      <td>NaN</td>\n",
       "      <td>NaN</td>\n",
       "      <td>NaN</td>\n",
       "      <td>NaN</td>\n",
       "      <td>NaN</td>\n",
       "      <td>NaN</td>\n",
       "      <td>NaN</td>\n",
       "    </tr>\n",
       "    <tr>\n",
       "      <th>22</th>\n",
       "      <td>2019-06-26 16:00:00</td>\n",
       "      <td>36.763630</td>\n",
       "      <td>36.389713</td>\n",
       "      <td>NaN</td>\n",
       "      <td>NaN</td>\n",
       "      <td>NaN</td>\n",
       "      <td>NaN</td>\n",
       "      <td>NaN</td>\n",
       "      <td>NaN</td>\n",
       "      <td>NaN</td>\n",
       "      <td>NaN</td>\n",
       "      <td>NaN</td>\n",
       "    </tr>\n",
       "    <tr>\n",
       "      <th>21</th>\n",
       "      <td>2019-06-26 15:00:00</td>\n",
       "      <td>30.643513</td>\n",
       "      <td>42.184845</td>\n",
       "      <td>NaN</td>\n",
       "      <td>NaN</td>\n",
       "      <td>NaN</td>\n",
       "      <td>NaN</td>\n",
       "      <td>NaN</td>\n",
       "      <td>NaN</td>\n",
       "      <td>NaN</td>\n",
       "      <td>NaN</td>\n",
       "      <td>NaN</td>\n",
       "    </tr>\n",
       "    <tr>\n",
       "      <th>20</th>\n",
       "      <td>2019-06-26 14:00:00</td>\n",
       "      <td>26.053171</td>\n",
       "      <td>45.683369</td>\n",
       "      <td>NaN</td>\n",
       "      <td>NaN</td>\n",
       "      <td>NaN</td>\n",
       "      <td>NaN</td>\n",
       "      <td>NaN</td>\n",
       "      <td>NaN</td>\n",
       "      <td>NaN</td>\n",
       "      <td>NaN</td>\n",
       "      <td>NaN</td>\n",
       "    </tr>\n",
       "    <tr>\n",
       "      <th>19</th>\n",
       "      <td>2019-06-26 13:00:00</td>\n",
       "      <td>18.761599</td>\n",
       "      <td>46.536407</td>\n",
       "      <td>NaN</td>\n",
       "      <td>NaN</td>\n",
       "      <td>NaN</td>\n",
       "      <td>NaN</td>\n",
       "      <td>NaN</td>\n",
       "      <td>NaN</td>\n",
       "      <td>NaN</td>\n",
       "      <td>NaN</td>\n",
       "      <td>NaN</td>\n",
       "    </tr>\n",
       "  </tbody>\n",
       "</table>\n",
       "</div>"
      ],
      "text/plain": [
       "                  fecha  O3_pronóstico  PM10_pronóstico  O3_y_frcst_12  \\\n",
       "23  2019-06-26 17:00:00            NaN              NaN            NaN   \n",
       "22  2019-06-26 16:00:00      36.763630        36.389713            NaN   \n",
       "21  2019-06-26 15:00:00      30.643513        42.184845            NaN   \n",
       "20  2019-06-26 14:00:00      26.053171        45.683369            NaN   \n",
       "19  2019-06-26 13:00:00      18.761599        46.536407            NaN   \n",
       "\n",
       "    PM10mean_y_frcst_12  O3_y  O3  O3_x  PM10  PM10_y  PM10_x  PM10mean_y  \n",
       "23                  NaN   NaN NaN   NaN   NaN     NaN     NaN         NaN  \n",
       "22                  NaN   NaN NaN   NaN   NaN     NaN     NaN         NaN  \n",
       "21                  NaN   NaN NaN   NaN   NaN     NaN     NaN         NaN  \n",
       "20                  NaN   NaN NaN   NaN   NaN     NaN     NaN         NaN  \n",
       "19                  NaN   NaN NaN   NaN   NaN     NaN     NaN         NaN  "
      ]
     },
     "execution_count": 32,
     "metadata": {},
     "output_type": "execute_result"
    }
   ],
   "source": [
    "df.head()"
   ]
  },
  {
   "cell_type": "code",
   "execution_count": 33,
   "metadata": {},
   "outputs": [],
   "source": [
    "dic_colores = {'O3_pronóstico': '#d73027'\n",
    "               , 'PM10_pronóstico': '#9970ab'\n",
    "               , 'O3_y_frcst_12': '#313695'\n",
    "               , 'PM10mean_y_frcst_12': '#40004b'\n",
    "               , 'TMP_x': '#80cdc1'\n",
    "               , 'TMP_y': '#003c30'\n",
    "               , 'O3_y': '#a50026'\n",
    "               , 'O3': '#f46d43'\n",
    "               , 'O3_x': '#fdae61'\n",
    "               , 'RH': '#c51b7d'\n",
    "               , 'TMP': '#35978f'\n",
    "               , 'PM10': '#542788'\n",
    "               , 'PM10_y': '#9970ab'\n",
    "               , 'PM10_x': '#c2a5cf'\n",
    "               , 'PM10mean_y': '#762a83'}"
   ]
  },
  {
   "cell_type": "code",
   "execution_count": 34,
   "metadata": {},
   "outputs": [],
   "source": [
    "dic_etiquetas = {'O3_pronóstico': 'Pronóstico histórico de O3'\n",
    "                 , 'PM10_pronóstico': 'Pronóstico histórico de PM10'\n",
    "                 , 'O3_y_frcst_12': 'Pronóstico de O3'\n",
    "                 , 'PM10mean_y_frcst_12': 'Pronóstico de PM10'\n",
    "                 , 'TMP_x': 'Temperatura mínima'\n",
    "                 , 'TMP_y': 'Temperatura máxima'\n",
    "                 , 'O3_y': 'O3 máximo'\n",
    "                 , 'O3': 'O3 promedio'\n",
    "                 , 'O3_x': 'O3 mínimo'\n",
    "                 , 'RH': 'Humedad relativa'\n",
    "                 , 'TMP': 'Temperatura promedio'\n",
    "                 , 'PM10': 'PM10 promedio'\n",
    "                 , 'PM10_y': 'PM10 máximo'\n",
    "                 , 'PM10_x': 'PM10 mínimo'\n",
    "                 , 'PM10mean_y': 'PM10 promedio 24 hrs'}"
   ]
  },
  {
   "cell_type": "code",
   "execution_count": 54,
   "metadata": {},
   "outputs": [],
   "source": [
    "def crear_trazo(df, y, name, color, x='fecha', width=2):\n",
    "    regex = re.findall('Pronóstico', name)\n",
    "    if regex:\n",
    "        trazo = go.Scatter(x=df[x],\n",
    "                           y=df[y],\n",
    "                           name=name,\n",
    "                           line=dict(color=color, width=width, dash='dot'))\n",
    "    else:\n",
    "        trazo = go.Scatter(x=df[x],\n",
    "                           y=df[y],\n",
    "                           name=name,\n",
    "                           line=dict(color=color, width=width))\n",
    "    return trazo"
   ]
  },
  {
   "cell_type": "code",
   "execution_count": 55,
   "metadata": {},
   "outputs": [],
   "source": [
    "df_filtro = df[['O3_pronóstico', 'PM10_pronóstico', 'O3_y_frcst_12', 'PM10mean_y_frcst_12', 'O3_y', 'O3'\n",
    "                , 'O3_x', 'PM10', 'PM10_y', 'PM10_x', 'PM10mean_y']]"
   ]
  },
  {
   "cell_type": "code",
   "execution_count": 56,
   "metadata": {},
   "outputs": [],
   "source": [
    "data = [crear_trazo(df, col, dic_etiquetas[col], dic_colores[col]) for col in df_filtro.columns]"
   ]
  },
  {
   "cell_type": "code",
   "execution_count": 57,
   "metadata": {},
   "outputs": [
    {
     "data": {
      "text/html": [
       "<iframe id=\"igraph\" scrolling=\"no\" style=\"border:none;\" seamless=\"seamless\" src=\"https://plot.ly/~pradel/4.embed\" height=\"525px\" width=\"100%\"></iframe>"
      ],
      "text/plain": [
       "<chart_studio.tools.PlotlyDisplay object>"
      ]
     },
     "execution_count": 57,
     "metadata": {},
     "output_type": "execute_result"
    }
   ],
   "source": [
    "layout = dict (title='Pronóstico',\n",
    "               xaxis={'title': 'fecha'},\n",
    "               yaxis={'title': 'ppm (partículas por millón)'})\n",
    "\n",
    "\n",
    "fig = dict(data=data, layout=layout)\n",
    "py.iplot(fig, filename='styled-line')"
   ]
  },
  {
   "cell_type": "code",
   "execution_count": null,
   "metadata": {},
   "outputs": [],
   "source": []
  }
 ],
 "metadata": {
  "kernelspec": {
   "display_name": "Python 3",
   "language": "python",
   "name": "python3"
  },
  "language_info": {
   "codemirror_mode": {
    "name": "ipython",
    "version": 3
   },
   "file_extension": ".py",
   "mimetype": "text/x-python",
   "name": "python",
   "nbconvert_exporter": "python",
   "pygments_lexer": "ipython3",
   "version": "3.6.8"
  }
 },
 "nbformat": 4,
 "nbformat_minor": 2
}
