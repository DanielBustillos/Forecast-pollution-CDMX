{
 "cells": [
  {
   "cell_type": "code",
   "execution_count": 20,
   "metadata": {},
   "outputs": [],
   "source": [
    "# Se importan las bibliotecas necesarias\n",
    "import numpy as np\n",
    "import pandas as pd\n",
    "import re\n",
    "import warnings\n",
    "warnings.filterwarnings('ignore')\n",
    "\n",
    "import plotly.plotly as py\n",
    "import plotly.graph_objs as go\n",
    "\n",
    "#nwH7euTNo27AATjelWEi"
   ]
  },
  {
   "cell_type": "code",
   "execution_count": 22,
   "metadata": {},
   "outputs": [],
   "source": [
    "date_parser = pd.to_datetime"
   ]
  },
  {
   "cell_type": "code",
   "execution_count": 23,
   "metadata": {},
   "outputs": [],
   "source": [
    "df = pd.read_csv('/home/pradel/Desktop/aire_cdmx/apps/dataset/datos_pau.csv'\n",
    "                 , parse_dates=['fecha'], error_bad_lines=False)"
   ]
  },
  {
   "cell_type": "code",
   "execution_count": 24,
   "metadata": {},
   "outputs": [],
   "source": [
    "df = df.sort_values(['fecha'], ascending=[0])"
   ]
  },
  {
   "cell_type": "code",
   "execution_count": 25,
   "metadata": {},
   "outputs": [
    {
     "data": {
      "text/plain": [
       "fecha                  datetime64[ns]\n",
       "O3_pronóstico                 float64\n",
       "PM10_pronóstico               float64\n",
       "O3_y_frcst_12                 float64\n",
       "PM10mean_y_frcst_12           float64\n",
       "TMP_x                         float64\n",
       "TMP_y                         float64\n",
       "O3_y                          float64\n",
       "O3                            float64\n",
       "O3_x                          float64\n",
       "RH                            float64\n",
       "TMP                           float64\n",
       "PM10                          float64\n",
       "PM10_y                        float64\n",
       "PM10_x                        float64\n",
       "PM10mean_y                    float64\n",
       "dtype: object"
      ]
     },
     "execution_count": 25,
     "metadata": {},
     "output_type": "execute_result"
    }
   ],
   "source": [
    "df.dtypes"
   ]
  },
  {
   "cell_type": "code",
   "execution_count": 4,
   "metadata": {},
   "outputs": [],
   "source": [
    "def convertir_ppb(row, columna):\n",
    "    ppb = row[columna]/1.96\n",
    "    return ppb"
   ]
  },
  {
   "cell_type": "code",
   "execution_count": 5,
   "metadata": {},
   "outputs": [],
   "source": [
    "def convertir_unidades(df, columna_fecha):\n",
    "    df = df.sort_values([columna_fecha], ascending=[0])\n",
    "    df['PM10mean_y_ppb'] = df.apply(lambda row: convertir_ppb(row, 'PM10mean_y'), axis=1)\n",
    "    df_concentraciones = df[['fecha', 'O3_y','PM10mean_y_ppb', 'TMP', 'TMP_x', 'TMP_y']]\n",
    "\n",
    "    return df_concentraciones"
   ]
  },
  {
   "cell_type": "code",
   "execution_count": 6,
   "metadata": {},
   "outputs": [],
   "source": [
    "df_concentraciones = convertir_unidades(df, 'fecha')"
   ]
  },
  {
   "cell_type": "code",
   "execution_count": 7,
   "metadata": {},
   "outputs": [
    {
     "data": {
      "text/html": [
       "<div>\n",
       "<style scoped>\n",
       "    .dataframe tbody tr th:only-of-type {\n",
       "        vertical-align: middle;\n",
       "    }\n",
       "\n",
       "    .dataframe tbody tr th {\n",
       "        vertical-align: top;\n",
       "    }\n",
       "\n",
       "    .dataframe thead th {\n",
       "        text-align: right;\n",
       "    }\n",
       "</style>\n",
       "<table border=\"1\" class=\"dataframe\">\n",
       "  <thead>\n",
       "    <tr style=\"text-align: right;\">\n",
       "      <th></th>\n",
       "      <th>fecha</th>\n",
       "      <th>O3_y</th>\n",
       "      <th>PM10mean_y_ppb</th>\n",
       "      <th>TMP</th>\n",
       "      <th>TMP_x</th>\n",
       "      <th>TMP_y</th>\n",
       "    </tr>\n",
       "  </thead>\n",
       "  <tbody>\n",
       "    <tr>\n",
       "      <th>23</th>\n",
       "      <td>2019-06-26 17:00:00</td>\n",
       "      <td>NaN</td>\n",
       "      <td>NaN</td>\n",
       "      <td>NaN</td>\n",
       "      <td>NaN</td>\n",
       "      <td>NaN</td>\n",
       "    </tr>\n",
       "    <tr>\n",
       "      <th>22</th>\n",
       "      <td>2019-06-26 16:00:00</td>\n",
       "      <td>NaN</td>\n",
       "      <td>NaN</td>\n",
       "      <td>NaN</td>\n",
       "      <td>NaN</td>\n",
       "      <td>NaN</td>\n",
       "    </tr>\n",
       "    <tr>\n",
       "      <th>21</th>\n",
       "      <td>2019-06-26 15:00:00</td>\n",
       "      <td>NaN</td>\n",
       "      <td>NaN</td>\n",
       "      <td>NaN</td>\n",
       "      <td>NaN</td>\n",
       "      <td>NaN</td>\n",
       "    </tr>\n",
       "    <tr>\n",
       "      <th>20</th>\n",
       "      <td>2019-06-26 14:00:00</td>\n",
       "      <td>NaN</td>\n",
       "      <td>NaN</td>\n",
       "      <td>NaN</td>\n",
       "      <td>NaN</td>\n",
       "      <td>NaN</td>\n",
       "    </tr>\n",
       "    <tr>\n",
       "      <th>19</th>\n",
       "      <td>2019-06-26 13:00:00</td>\n",
       "      <td>NaN</td>\n",
       "      <td>NaN</td>\n",
       "      <td>NaN</td>\n",
       "      <td>NaN</td>\n",
       "      <td>NaN</td>\n",
       "    </tr>\n",
       "  </tbody>\n",
       "</table>\n",
       "</div>"
      ],
      "text/plain": [
       "                 fecha  O3_y  PM10mean_y_ppb  TMP  TMP_x  TMP_y\n",
       "23 2019-06-26 17:00:00   NaN             NaN  NaN    NaN    NaN\n",
       "22 2019-06-26 16:00:00   NaN             NaN  NaN    NaN    NaN\n",
       "21 2019-06-26 15:00:00   NaN             NaN  NaN    NaN    NaN\n",
       "20 2019-06-26 14:00:00   NaN             NaN  NaN    NaN    NaN\n",
       "19 2019-06-26 13:00:00   NaN             NaN  NaN    NaN    NaN"
      ]
     },
     "execution_count": 7,
     "metadata": {},
     "output_type": "execute_result"
    }
   ],
   "source": [
    "df_concentraciones.head()"
   ]
  },
  {
   "cell_type": "code",
   "execution_count": 8,
   "metadata": {},
   "outputs": [],
   "source": [
    "dic_colores = {'O3_pronóstico': '#d73027'\n",
    "                   , 'PM10_pronóstico': '#9970ab'\n",
    "                   , 'O3_y_frcst_12': '#313695'\n",
    "                   , 'PM10mean_y_frcst_12': '#40004b'\n",
    "                   , 'TMP_x': '#80cdc1'\n",
    "                   , 'TMP_y': '#003c30'\n",
    "                   , 'O3_y': '#a50026'\n",
    "                   , 'O3': '#f46d43'\n",
    "                   , 'O3_x': '#fdae61'\n",
    "                   , 'RH': '#c51b7d'\n",
    "                   , 'TMP': '#35978f'\n",
    "                   , 'PM10': '#542788'\n",
    "                   , 'PM10_y': '#9970ab'\n",
    "                   , 'PM10_x': '#c2a5cf'\n",
    "                   , 'PM10mean_y': '#762a83'\n",
    "                   , 'PM10mean_y_ppb': '#762a83'\n",
    "                   , 'fecha': '#d73027'}"
   ]
  },
  {
   "cell_type": "code",
   "execution_count": 9,
   "metadata": {},
   "outputs": [],
   "source": [
    "dic_etiquetas = {'O3_pronóstico': 'Pronóstico de O3'\n",
    "                     , 'PM10_pronóstico': 'Pronóstico de PM10'\n",
    "                     , 'O3_y_frcst_12': 'Pronóstico histórico de O3'\n",
    "                     , 'PM10mean_y_frcst_12': 'Pronóstico histórico de PM10'\n",
    "                     , 'TMP_x': 'Temperatura mínima'\n",
    "                     , 'TMP_y': 'Temperatura máxima'\n",
    "                     , 'O3_y': 'O3 máximo'\n",
    "                     , 'O3': 'O3 promedio'\n",
    "                     , 'O3_x': 'O3 mínimo'\n",
    "                     , 'RH': 'Humedad relativa'\n",
    "                     , 'TMP': 'Temperatura promedio'\n",
    "                     , 'PM10': 'PM10 promedio'\n",
    "                     , 'PM10_ppb': 'PM10 promedio'\n",
    "                     , 'PM10_y': 'PM10 máximo'\n",
    "                     , 'PM10_y_ppb': 'PM10 máximo'\n",
    "                     , 'PM10_x': 'PM10 mínimo'\n",
    "                     , 'PM10_x_ppb': 'PM10 mínimo'\n",
    "                     , 'PM10mean_y': 'PM10 promedio 24 hrs'\n",
    "                     , 'PM10mean_y_ppb': 'PM10 máximo (ppb)'\n",
    "                     , 'fecha': 'fecha'}"
   ]
  },
  {
   "cell_type": "code",
   "execution_count": 10,
   "metadata": {},
   "outputs": [],
   "source": [
    "def crear_trazo(df, y, name, color, x='fecha', width=2):\n",
    "    regex = re.findall('pronóstico', name)\n",
    "    if regex:\n",
    "        trazo = go.Scatter(x=df[x],\n",
    "                           y=df[y],\n",
    "                           name=name,\n",
    "                           line=dict(color=color, width=width, dash='dot'))\n",
    "    else:\n",
    "        trazo = go.Scatter(x=df[x],\n",
    "                           y=df[y],\n",
    "                           name=name,\n",
    "                           line=dict(color=color, width=width))\n",
    "    return trazo"
   ]
  },
  {
   "cell_type": "code",
   "execution_count": 11,
   "metadata": {},
   "outputs": [],
   "source": [
    "df_filtro=df_concentraciones[(df_concentraciones[\"fecha\"]>\"2019-06-26 06:00:00\") & (df_concentraciones[\"fecha\"]<\"2019-06-26 16:00:00\")]"
   ]
  },
  {
   "cell_type": "code",
   "execution_count": 12,
   "metadata": {},
   "outputs": [
    {
     "data": {
      "text/html": [
       "<div>\n",
       "<style scoped>\n",
       "    .dataframe tbody tr th:only-of-type {\n",
       "        vertical-align: middle;\n",
       "    }\n",
       "\n",
       "    .dataframe tbody tr th {\n",
       "        vertical-align: top;\n",
       "    }\n",
       "\n",
       "    .dataframe thead th {\n",
       "        text-align: right;\n",
       "    }\n",
       "</style>\n",
       "<table border=\"1\" class=\"dataframe\">\n",
       "  <thead>\n",
       "    <tr style=\"text-align: right;\">\n",
       "      <th></th>\n",
       "      <th>fecha</th>\n",
       "      <th>O3_y</th>\n",
       "      <th>PM10mean_y_ppb</th>\n",
       "      <th>TMP</th>\n",
       "      <th>TMP_x</th>\n",
       "      <th>TMP_y</th>\n",
       "    </tr>\n",
       "  </thead>\n",
       "  <tbody>\n",
       "    <tr>\n",
       "      <th>21</th>\n",
       "      <td>2019-06-26 15:00:00</td>\n",
       "      <td>NaN</td>\n",
       "      <td>NaN</td>\n",
       "      <td>NaN</td>\n",
       "      <td>NaN</td>\n",
       "      <td>NaN</td>\n",
       "    </tr>\n",
       "    <tr>\n",
       "      <th>20</th>\n",
       "      <td>2019-06-26 14:00:00</td>\n",
       "      <td>NaN</td>\n",
       "      <td>NaN</td>\n",
       "      <td>NaN</td>\n",
       "      <td>NaN</td>\n",
       "      <td>NaN</td>\n",
       "    </tr>\n",
       "    <tr>\n",
       "      <th>19</th>\n",
       "      <td>2019-06-26 13:00:00</td>\n",
       "      <td>NaN</td>\n",
       "      <td>NaN</td>\n",
       "      <td>NaN</td>\n",
       "      <td>NaN</td>\n",
       "      <td>NaN</td>\n",
       "    </tr>\n",
       "    <tr>\n",
       "      <th>18</th>\n",
       "      <td>2019-06-26 12:00:00</td>\n",
       "      <td>NaN</td>\n",
       "      <td>NaN</td>\n",
       "      <td>NaN</td>\n",
       "      <td>NaN</td>\n",
       "      <td>NaN</td>\n",
       "    </tr>\n",
       "    <tr>\n",
       "      <th>17</th>\n",
       "      <td>2019-06-26 11:00:00</td>\n",
       "      <td>NaN</td>\n",
       "      <td>NaN</td>\n",
       "      <td>NaN</td>\n",
       "      <td>NaN</td>\n",
       "      <td>NaN</td>\n",
       "    </tr>\n",
       "  </tbody>\n",
       "</table>\n",
       "</div>"
      ],
      "text/plain": [
       "                 fecha  O3_y  PM10mean_y_ppb  TMP  TMP_x  TMP_y\n",
       "21 2019-06-26 15:00:00   NaN             NaN  NaN    NaN    NaN\n",
       "20 2019-06-26 14:00:00   NaN             NaN  NaN    NaN    NaN\n",
       "19 2019-06-26 13:00:00   NaN             NaN  NaN    NaN    NaN\n",
       "18 2019-06-26 12:00:00   NaN             NaN  NaN    NaN    NaN\n",
       "17 2019-06-26 11:00:00   NaN             NaN  NaN    NaN    NaN"
      ]
     },
     "execution_count": 12,
     "metadata": {},
     "output_type": "execute_result"
    }
   ],
   "source": [
    "df_filtro.head()"
   ]
  },
  {
   "cell_type": "code",
   "execution_count": 17,
   "metadata": {},
   "outputs": [
    {
     "data": {
      "text/plain": [
       "fecha             datetime64[ns]\n",
       "O3_y                     float64\n",
       "PM10mean_y_ppb           float64\n",
       "TMP                      float64\n",
       "TMP_x                    float64\n",
       "TMP_y                    float64\n",
       "dtype: object"
      ]
     },
     "execution_count": 17,
     "metadata": {},
     "output_type": "execute_result"
    }
   ],
   "source": [
    "df_filtro.dtypes"
   ]
  },
  {
   "cell_type": "code",
   "execution_count": 14,
   "metadata": {},
   "outputs": [],
   "source": [
    "#df_filtro.columns"
   ]
  },
  {
   "cell_type": "code",
   "execution_count": 15,
   "metadata": {},
   "outputs": [],
   "source": [
    "data = [crear_trazo(df_concentraciones, col, dic_etiquetas[col], dic_colores[col]) for col in df_filtro.columns[1:]]"
   ]
  },
  {
   "cell_type": "code",
   "execution_count": 16,
   "metadata": {},
   "outputs": [
    {
     "data": {
      "text/html": [
       "<iframe id=\"igraph\" scrolling=\"no\" style=\"border:none;\" seamless=\"seamless\" src=\"https://plot.ly/~pradel/4.embed\" height=\"525px\" width=\"100%\"></iframe>"
      ],
      "text/plain": [
       "<chart_studio.tools.PlotlyDisplay object>"
      ]
     },
     "execution_count": 16,
     "metadata": {},
     "output_type": "execute_result"
    }
   ],
   "source": [
    "layout = dict (title='Pronóstico',\n",
    "               xaxis={'title': 'fecha'},\n",
    "               yaxis={'title': 'ppm (partículas por millón)'})\n",
    "\n",
    "\n",
    "fig = dict(data=data, layout=layout)\n",
    "py.iplot(fig, filename='styled-line')"
   ]
  },
  {
   "cell_type": "code",
   "execution_count": null,
   "metadata": {},
   "outputs": [],
   "source": []
  }
 ],
 "metadata": {
  "kernelspec": {
   "display_name": "Python 3",
   "language": "python",
   "name": "python3"
  },
  "language_info": {
   "codemirror_mode": {
    "name": "ipython",
    "version": 3
   },
   "file_extension": ".py",
   "mimetype": "text/x-python",
   "name": "python",
   "nbconvert_exporter": "python",
   "pygments_lexer": "ipython3",
   "version": "3.6.8"
  }
 },
 "nbformat": 4,
 "nbformat_minor": 2
}
