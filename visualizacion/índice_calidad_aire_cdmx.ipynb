{
 "cells": [
  {
   "cell_type": "code",
   "execution_count": 1,
   "metadata": {},
   "outputs": [],
   "source": [
    "# Se importan las bibliotecas necesarias\n",
    "import numpy as np\n",
    "import pandas as pd\n",
    "import datetime\n",
    "\n",
    "import warnings\n",
    "warnings.filterwarnings('ignore')\n",
    "\n",
    "import plotly.plotly as py\n",
    "import plotly.graph_objs as go\n",
    "\n",
    "#nwH7euTNo27AATjelWEi"
   ]
  },
  {
   "cell_type": "code",
   "execution_count": 2,
   "metadata": {},
   "outputs": [],
   "source": [
    "df = pd.read_csv('/home/pradel/Downloads/datos_pau.csv', parse_dates=['fecha'], error_bad_lines=False)"
   ]
  },
  {
   "cell_type": "code",
   "execution_count": 3,
   "metadata": {},
   "outputs": [
    {
     "data": {
      "text/html": [
       "<div>\n",
       "<style scoped>\n",
       "    .dataframe tbody tr th:only-of-type {\n",
       "        vertical-align: middle;\n",
       "    }\n",
       "\n",
       "    .dataframe tbody tr th {\n",
       "        vertical-align: top;\n",
       "    }\n",
       "\n",
       "    .dataframe thead th {\n",
       "        text-align: right;\n",
       "    }\n",
       "</style>\n",
       "<table border=\"1\" class=\"dataframe\">\n",
       "  <thead>\n",
       "    <tr style=\"text-align: right;\">\n",
       "      <th></th>\n",
       "      <th>fecha</th>\n",
       "      <th>O3_pronóstico</th>\n",
       "      <th>PM10_pronóstico</th>\n",
       "      <th>O3_y_frcst_12</th>\n",
       "      <th>PM10mean_y_frcst_12</th>\n",
       "      <th>TMP_x</th>\n",
       "      <th>TMP_y</th>\n",
       "      <th>O3_y</th>\n",
       "      <th>O3</th>\n",
       "      <th>O3_x</th>\n",
       "      <th>RH</th>\n",
       "      <th>TMP</th>\n",
       "      <th>PM10</th>\n",
       "      <th>PM10_y</th>\n",
       "      <th>PM10_x</th>\n",
       "      <th>PM10mean_y</th>\n",
       "    </tr>\n",
       "  </thead>\n",
       "  <tbody>\n",
       "    <tr>\n",
       "      <th>0</th>\n",
       "      <td>2019-06-25 18:00:00</td>\n",
       "      <td>55.478539</td>\n",
       "      <td>29.757679</td>\n",
       "      <td>NaN</td>\n",
       "      <td>NaN</td>\n",
       "      <td>NaN</td>\n",
       "      <td>NaN</td>\n",
       "      <td>NaN</td>\n",
       "      <td>NaN</td>\n",
       "      <td>NaN</td>\n",
       "      <td>NaN</td>\n",
       "      <td>NaN</td>\n",
       "      <td>NaN</td>\n",
       "      <td>NaN</td>\n",
       "      <td>NaN</td>\n",
       "      <td>NaN</td>\n",
       "    </tr>\n",
       "    <tr>\n",
       "      <th>1</th>\n",
       "      <td>2019-06-25 19:00:00</td>\n",
       "      <td>54.002895</td>\n",
       "      <td>28.990410</td>\n",
       "      <td>NaN</td>\n",
       "      <td>NaN</td>\n",
       "      <td>NaN</td>\n",
       "      <td>NaN</td>\n",
       "      <td>NaN</td>\n",
       "      <td>NaN</td>\n",
       "      <td>NaN</td>\n",
       "      <td>NaN</td>\n",
       "      <td>NaN</td>\n",
       "      <td>NaN</td>\n",
       "      <td>NaN</td>\n",
       "      <td>NaN</td>\n",
       "      <td>NaN</td>\n",
       "    </tr>\n",
       "    <tr>\n",
       "      <th>2</th>\n",
       "      <td>2019-06-25 20:00:00</td>\n",
       "      <td>45.882462</td>\n",
       "      <td>27.691198</td>\n",
       "      <td>NaN</td>\n",
       "      <td>NaN</td>\n",
       "      <td>NaN</td>\n",
       "      <td>NaN</td>\n",
       "      <td>NaN</td>\n",
       "      <td>NaN</td>\n",
       "      <td>NaN</td>\n",
       "      <td>NaN</td>\n",
       "      <td>NaN</td>\n",
       "      <td>NaN</td>\n",
       "      <td>NaN</td>\n",
       "      <td>NaN</td>\n",
       "      <td>NaN</td>\n",
       "    </tr>\n",
       "    <tr>\n",
       "      <th>3</th>\n",
       "      <td>2019-06-25 21:00:00</td>\n",
       "      <td>32.782875</td>\n",
       "      <td>28.720148</td>\n",
       "      <td>NaN</td>\n",
       "      <td>NaN</td>\n",
       "      <td>NaN</td>\n",
       "      <td>NaN</td>\n",
       "      <td>NaN</td>\n",
       "      <td>NaN</td>\n",
       "      <td>NaN</td>\n",
       "      <td>NaN</td>\n",
       "      <td>NaN</td>\n",
       "      <td>NaN</td>\n",
       "      <td>NaN</td>\n",
       "      <td>NaN</td>\n",
       "      <td>NaN</td>\n",
       "    </tr>\n",
       "    <tr>\n",
       "      <th>4</th>\n",
       "      <td>2019-06-25 22:00:00</td>\n",
       "      <td>26.724987</td>\n",
       "      <td>33.199833</td>\n",
       "      <td>NaN</td>\n",
       "      <td>NaN</td>\n",
       "      <td>NaN</td>\n",
       "      <td>NaN</td>\n",
       "      <td>NaN</td>\n",
       "      <td>NaN</td>\n",
       "      <td>NaN</td>\n",
       "      <td>NaN</td>\n",
       "      <td>NaN</td>\n",
       "      <td>NaN</td>\n",
       "      <td>NaN</td>\n",
       "      <td>NaN</td>\n",
       "      <td>NaN</td>\n",
       "    </tr>\n",
       "  </tbody>\n",
       "</table>\n",
       "</div>"
      ],
      "text/plain": [
       "                fecha  O3_pronóstico  PM10_pronóstico  O3_y_frcst_12  \\\n",
       "0 2019-06-25 18:00:00      55.478539        29.757679            NaN   \n",
       "1 2019-06-25 19:00:00      54.002895        28.990410            NaN   \n",
       "2 2019-06-25 20:00:00      45.882462        27.691198            NaN   \n",
       "3 2019-06-25 21:00:00      32.782875        28.720148            NaN   \n",
       "4 2019-06-25 22:00:00      26.724987        33.199833            NaN   \n",
       "\n",
       "   PM10mean_y_frcst_12  TMP_x  TMP_y  O3_y  O3  O3_x  RH  TMP  PM10  PM10_y  \\\n",
       "0                  NaN    NaN    NaN   NaN NaN   NaN NaN  NaN   NaN     NaN   \n",
       "1                  NaN    NaN    NaN   NaN NaN   NaN NaN  NaN   NaN     NaN   \n",
       "2                  NaN    NaN    NaN   NaN NaN   NaN NaN  NaN   NaN     NaN   \n",
       "3                  NaN    NaN    NaN   NaN NaN   NaN NaN  NaN   NaN     NaN   \n",
       "4                  NaN    NaN    NaN   NaN NaN   NaN NaN  NaN   NaN     NaN   \n",
       "\n",
       "   PM10_x  PM10mean_y  \n",
       "0     NaN         NaN  \n",
       "1     NaN         NaN  \n",
       "2     NaN         NaN  \n",
       "3     NaN         NaN  \n",
       "4     NaN         NaN  "
      ]
     },
     "execution_count": 3,
     "metadata": {},
     "output_type": "execute_result"
    }
   ],
   "source": [
    "df.head()"
   ]
  },
  {
   "cell_type": "code",
   "execution_count": 49,
   "metadata": {},
   "outputs": [],
   "source": [
    "df = df.sort_values(['fecha'], ascending=[0])"
   ]
  },
  {
   "cell_type": "code",
   "execution_count": 50,
   "metadata": {},
   "outputs": [],
   "source": [
    "rango=len(df.index)"
   ]
  },
  {
   "cell_type": "code",
   "execution_count": 51,
   "metadata": {},
   "outputs": [],
   "source": [
    "df['indice']=list(range(rango))"
   ]
  },
  {
   "cell_type": "code",
   "execution_count": 52,
   "metadata": {},
   "outputs": [],
   "source": [
    "df.set_index('indice', inplace=True)"
   ]
  },
  {
   "cell_type": "code",
   "execution_count": 53,
   "metadata": {},
   "outputs": [],
   "source": [
    "# Fecha adelantada 24 horas\n",
    "def asignar_fecha(row, columna):\n",
    "    nueva_fecha = row[columna] + datetime.timedelta(hours=24)\n",
    "    return nueva_fecha"
   ]
  },
  {
   "cell_type": "code",
   "execution_count": 54,
   "metadata": {},
   "outputs": [],
   "source": [
    "# Conversión de unidades de microgramo/metro_cúbico a ppb(partículas por billón)\n",
    "def convertir_ppb(row, columna):\n",
    "    ppb = row[columna]/1.96\n",
    "    return ppb"
   ]
  },
  {
   "cell_type": "code",
   "execution_count": 55,
   "metadata": {},
   "outputs": [],
   "source": [
    "# Cálculo del índice de calidad del aire para el PM10 (usando datos en microgramo/metro_cúbico)\n",
    "def indice_PM10(row, columna):\n",
    "    if row[columna]>=0 and row[columna]<=40:\n",
    "        indice=1.2500*(row[columna])\n",
    "        return round(indice)\n",
    "    if row[columna]>=41 and row[columna]<=75:\n",
    "        indice=(1.4412*(row[columna]-41))+51\n",
    "        return round(indice)\n",
    "    if row[columna]>=76 and row[columna]<=214:\n",
    "        indice=(0.3551*(row[columna]-76))+101\n",
    "        return round(indice)\n",
    "    if row[columna]>=215 and row[columna]<=354:\n",
    "        indice=(0.3525*(row[columna]-215))+151\n",
    "        return round(indice)\n",
    "    if row[columna]>=355 and row[columna]<=424:\n",
    "        indice=(1.4348*(row[columna]-355))+201\n",
    "        return round(indice)\n",
    "    if row[columna]>=425 and row[columna]<=504:\n",
    "        indice=(1.2532*(row[columna]-425)+301)\n",
    "        return round(indice)\n",
    "    if row[columna]>=505 and row[columna]<=604:\n",
    "        indice=(1.0000*(row[columna]-505)+401)\n",
    "        return round(indice)"
   ]
  },
  {
   "cell_type": "code",
   "execution_count": 56,
   "metadata": {},
   "outputs": [],
   "source": [
    "# Cálculo del índice de calidad del aire para el O3 (usando datos en ppb)\n",
    "def indice_O3(row, columna):\n",
    "    if row[columna]>=0 and row[columna]<=70:\n",
    "        indice=0.7143*(row[columna])\n",
    "        return round(indice)\n",
    "    if row[columna]>=71 and row[columna]<=95:\n",
    "        indice=(2.0417*(row[columna]-71))+51\n",
    "        return round(indice)\n",
    "    if row[columna]>=96 and row[columna]<=154:\n",
    "        indice=(2.4138*(row[columna]-96))+101\n",
    "        return round(indice)\n",
    "    if row[columna]>=155 and row[columna]<=204:\n",
    "        indice=(1.0000*(row[columna]-155))+151\n",
    "        return round(indice)\n",
    "    if row[columna]>=205 and row[columna]<=404:\n",
    "        indice=(0.4975*(row[columna]-205))+201\n",
    "        return round(indice)\n",
    "    if row[columna]>=405 and row[columna]<=504:\n",
    "        indice=(1.000*(row[columna]-405)+301)\n",
    "        return round(indice)\n",
    "    if row[columna]>=505 and row[columna]<=604:\n",
    "        indice=(1.0000*(row[columna]-505)+401)\n",
    "        return round(indice)"
   ]
  },
  {
   "cell_type": "code",
   "execution_count": 57,
   "metadata": {},
   "outputs": [],
   "source": [
    "df['fecha_24'] = df.apply(lambda row: asignar_fecha(row, 'fecha'), axis=1)"
   ]
  },
  {
   "cell_type": "code",
   "execution_count": 58,
   "metadata": {},
   "outputs": [],
   "source": [
    "df['PM10_ppb'] = df.apply(lambda row: convertir_ppb(row, 'PM10'), axis=1)"
   ]
  },
  {
   "cell_type": "code",
   "execution_count": 59,
   "metadata": {},
   "outputs": [],
   "source": [
    "df['PM10_pronostico_ppb'] = df.apply(lambda row: convertir_ppb(row, 'PM10_pronóstico'), axis=1)"
   ]
  },
  {
   "cell_type": "code",
   "execution_count": 60,
   "metadata": {},
   "outputs": [],
   "source": [
    "df['indice_PM10'] = df.apply(lambda row: indice_PM10(row, 'PM10mean_y'), axis=1)"
   ]
  },
  {
   "cell_type": "code",
   "execution_count": 61,
   "metadata": {},
   "outputs": [],
   "source": [
    "df['indice_O3'] = df.apply(lambda row: indice_O3(row, 'O3_y'), axis=1)"
   ]
  },
  {
   "cell_type": "code",
   "execution_count": 62,
   "metadata": {},
   "outputs": [],
   "source": [
    "df['indice_pronostico_PM10'] = df.apply(lambda row: indice_PM10(row, 'PM10_pronóstico'), axis=1)"
   ]
  },
  {
   "cell_type": "code",
   "execution_count": 63,
   "metadata": {},
   "outputs": [],
   "source": [
    "df['indice_pronostico_O3'] = df.apply(lambda row: indice_O3(row, 'O3_pronóstico'), axis=1)"
   ]
  },
  {
   "cell_type": "code",
   "execution_count": 64,
   "metadata": {},
   "outputs": [],
   "source": [
    "df = df[['fecha', 'O3_y','PM10mean_y', 'TMP', 'TMP_x', 'TMP_y']]"
   ]
  },
  {
   "cell_type": "code",
   "execution_count": 65,
   "metadata": {},
   "outputs": [
    {
     "data": {
      "text/html": [
       "<div>\n",
       "<style scoped>\n",
       "    .dataframe tbody tr th:only-of-type {\n",
       "        vertical-align: middle;\n",
       "    }\n",
       "\n",
       "    .dataframe tbody tr th {\n",
       "        vertical-align: top;\n",
       "    }\n",
       "\n",
       "    .dataframe thead th {\n",
       "        text-align: right;\n",
       "    }\n",
       "</style>\n",
       "<table border=\"1\" class=\"dataframe\">\n",
       "  <thead>\n",
       "    <tr style=\"text-align: right;\">\n",
       "      <th></th>\n",
       "      <th>fecha</th>\n",
       "      <th>O3_y</th>\n",
       "      <th>PM10mean_y</th>\n",
       "      <th>TMP</th>\n",
       "      <th>TMP_x</th>\n",
       "      <th>TMP_y</th>\n",
       "    </tr>\n",
       "    <tr>\n",
       "      <th>indice</th>\n",
       "      <th></th>\n",
       "      <th></th>\n",
       "      <th></th>\n",
       "      <th></th>\n",
       "      <th></th>\n",
       "      <th></th>\n",
       "    </tr>\n",
       "  </thead>\n",
       "  <tbody>\n",
       "    <tr>\n",
       "      <th>0</th>\n",
       "      <td>2019-06-26 17:00:00</td>\n",
       "      <td>NaN</td>\n",
       "      <td>NaN</td>\n",
       "      <td>NaN</td>\n",
       "      <td>NaN</td>\n",
       "      <td>NaN</td>\n",
       "    </tr>\n",
       "    <tr>\n",
       "      <th>1</th>\n",
       "      <td>2019-06-26 16:00:00</td>\n",
       "      <td>NaN</td>\n",
       "      <td>NaN</td>\n",
       "      <td>NaN</td>\n",
       "      <td>NaN</td>\n",
       "      <td>NaN</td>\n",
       "    </tr>\n",
       "    <tr>\n",
       "      <th>2</th>\n",
       "      <td>2019-06-26 15:00:00</td>\n",
       "      <td>NaN</td>\n",
       "      <td>NaN</td>\n",
       "      <td>NaN</td>\n",
       "      <td>NaN</td>\n",
       "      <td>NaN</td>\n",
       "    </tr>\n",
       "    <tr>\n",
       "      <th>3</th>\n",
       "      <td>2019-06-26 14:00:00</td>\n",
       "      <td>NaN</td>\n",
       "      <td>NaN</td>\n",
       "      <td>NaN</td>\n",
       "      <td>NaN</td>\n",
       "      <td>NaN</td>\n",
       "    </tr>\n",
       "    <tr>\n",
       "      <th>4</th>\n",
       "      <td>2019-06-26 13:00:00</td>\n",
       "      <td>NaN</td>\n",
       "      <td>NaN</td>\n",
       "      <td>NaN</td>\n",
       "      <td>NaN</td>\n",
       "      <td>NaN</td>\n",
       "    </tr>\n",
       "  </tbody>\n",
       "</table>\n",
       "</div>"
      ],
      "text/plain": [
       "                     fecha  O3_y  PM10mean_y  TMP  TMP_x  TMP_y\n",
       "indice                                                         \n",
       "0      2019-06-26 17:00:00   NaN         NaN  NaN    NaN    NaN\n",
       "1      2019-06-26 16:00:00   NaN         NaN  NaN    NaN    NaN\n",
       "2      2019-06-26 15:00:00   NaN         NaN  NaN    NaN    NaN\n",
       "3      2019-06-26 14:00:00   NaN         NaN  NaN    NaN    NaN\n",
       "4      2019-06-26 13:00:00   NaN         NaN  NaN    NaN    NaN"
      ]
     },
     "execution_count": 65,
     "metadata": {},
     "output_type": "execute_result"
    }
   ],
   "source": [
    "df.head()"
   ]
  },
  {
   "cell_type": "code",
   "execution_count": null,
   "metadata": {},
   "outputs": [],
   "source": []
  }
 ],
 "metadata": {
  "kernelspec": {
   "display_name": "Python 3",
   "language": "python",
   "name": "python3"
  },
  "language_info": {
   "codemirror_mode": {
    "name": "ipython",
    "version": 3
   },
   "file_extension": ".py",
   "mimetype": "text/x-python",
   "name": "python",
   "nbconvert_exporter": "python",
   "pygments_lexer": "ipython3",
   "version": "3.6.8"
  }
 },
 "nbformat": 4,
 "nbformat_minor": 2
}
